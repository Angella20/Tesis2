{
 "cells": [
  {
   "cell_type": "code",
   "execution_count": 1,
   "id": "44cc3800",
   "metadata": {},
   "outputs": [],
   "source": [
    "#pip install dbfread"
   ]
  },
  {
   "cell_type": "code",
   "execution_count": 2,
   "id": "3b4e54cd",
   "metadata": {},
   "outputs": [],
   "source": [
    "from dbfread import DBF\n",
    "import pandas as pd\n",
    "\n",
    "# Abre el archivo DBF\n",
    "# Cédula 1A - Educación Básica Regular Inicial Escolarizada\n",
    "tabla_dbf_1A_1 = DBF('../input/Lineal_1A_1.dbf')\n",
    "tabla_dbf_1A_2 = DBF('../input/Lineal_1A_1.dbf')\n",
    "\n",
    "# Cédula 3AP - Educación Básica Regular Primaria\n",
    "tabla_dbf_C3AP_1 = DBF('../input/C3AP_Lineal_1.DBF')\n",
    "tabla_dbf_C3AP_2 = DBF('../input/C3AP_Lineal_2.DBF')\n",
    "\n",
    "# Cédula 3AS - Educación Básica Regular Secundaria.\n",
    "tabla_dbf_C3AS_1 = DBF('../input/C3AS_Lineal_1.dbf') \n",
    "tabla_dbf_C3AS_2 = DBF('../input/C3AS_Lineal_2.dbf')\n",
    "\n",
    "# Cédula 4AA - Educación Básica Alternativa Avanzado\n",
    "tabla_dbf_C4AA = DBF('../input/Lineal_C4AA.DBF')\n",
    "\n",
    "# Convierte los registros del DBF en una lista de diccionarios\n",
    "registros = [dict(registro) for registro in tabla_dbf_1A_1]\n",
    "dbf_1A_1 = pd.DataFrame(registros)\n",
    "\n",
    "registros = [dict(registro) for registro in tabla_dbf_1A_2]\n",
    "dbf_1A_2 = pd.DataFrame(registros)\n",
    "\n",
    "registros = [dict(registro) for registro in tabla_dbf_C3AP_1]\n",
    "df_C3AP_1 = pd.DataFrame(registros)\n",
    "\n",
    "registros = [dict(registro) for registro in tabla_dbf_C3AP_2]\n",
    "df_C3AP_2 = pd.DataFrame(registros)\n",
    "\n",
    "registros = [dict(registro) for registro in tabla_dbf_C3AS_1]\n",
    "df_C3AS_1 = pd.DataFrame(registros)\n",
    "\n",
    "registros = [dict(registro) for registro in tabla_dbf_C3AS_2]\n",
    "df_C3AS_2 = pd.DataFrame(registros)\n",
    "\n",
    "registros = [dict(registro) for registro in tabla_dbf_C4AA]\n",
    "df_C4AA = pd.DataFrame(registros)"
   ]
  },
  {
   "cell_type": "code",
   "execution_count": null,
   "id": "e6daaaad-5934-478a-a568-b71f63ae2031",
   "metadata": {},
   "outputs": [],
   "source": []
  },
  {
   "cell_type": "code",
   "execution_count": 3,
   "id": "cd13971b-380c-48c0-b0c8-cda7071ac835",
   "metadata": {},
   "outputs": [
    {
     "ename": "SyntaxError",
     "evalue": "invalid syntax (1901383784.py, line 1)",
     "output_type": "error",
     "traceback": [
      "\u001b[1;36m  File \u001b[1;32m\"C:\\Users\\SINERGY TECH\\AppData\\Local\\Temp\\ipykernel_16988\\1901383784.py\"\u001b[1;36m, line \u001b[1;32m1\u001b[0m\n\u001b[1;33m    Renombrar variables\u001b[0m\n\u001b[1;37m              ^\u001b[0m\n\u001b[1;31mSyntaxError\u001b[0m\u001b[1;31m:\u001b[0m invalid syntax\n"
     ]
    }
   ],
   "source": [
    "Renombrar variables"
   ]
  },
  {
   "cell_type": "code",
   "execution_count": null,
   "id": "4ccbdb2c-65e1-46d1-8d0f-c338b834b2ab",
   "metadata": {},
   "outputs": [],
   "source": [
    "dbf_1A_1.shape"
   ]
  },
  {
   "cell_type": "code",
   "execution_count": null,
   "id": "ec65b78b-d3dc-47b8-add0-0c27990b0b3a",
   "metadata": {},
   "outputs": [],
   "source": [
    "df_C3AP_1.shape"
   ]
  },
  {
   "cell_type": "code",
   "execution_count": null,
   "id": "f8a67a5d-d0f3-4029-98d6-fdbad24f9901",
   "metadata": {},
   "outputs": [],
   "source": [
    "df_C3AS_1.shape"
   ]
  },
  {
   "cell_type": "raw",
   "id": "38d11db9-4e01-4a9a-afd3-a4c9603abae3",
   "metadata": {},
   "source": [
    "1: Presencial\n",
    "2: Semi presencial\n",
    "3: Remoto/A distancia"
   ]
  },
  {
   "cell_type": "code",
   "execution_count": null,
   "id": "1f44742c-2a49-4a30-95af-b196b5b7e1ed",
   "metadata": {},
   "outputs": [],
   "source": [
    "df_C3AP_1.P102.value_counts(normalize=True)  #“1” o “2” o “3” o “4” o “5” o “6”(valores pueden ser sumados)\n",
    "# En el marco de la emergencia sanitaria por COVID19, en el presente año 2021, ¿Bajo qué modalidad se realizan las clases en este servicio/nivel educativo?"
   ]
  },
  {
   "cell_type": "code",
   "execution_count": null,
   "id": "fa9562bd-d0e9-4db2-9ca6-7c6e20b8d9fe",
   "metadata": {},
   "outputs": [],
   "source": [
    "# Convierte los registros del DBF en una lista de diccionarios"
   ]
  },
  {
   "cell_type": "code",
   "execution_count": null,
   "id": "1a1fe35a-0fed-4125-860e-ae02e4d498a6",
   "metadata": {},
   "outputs": [],
   "source": []
  },
  {
   "cell_type": "code",
   "execution_count": null,
   "id": "0878abec-6eb4-405f-9800-79e25ae9d4d0",
   "metadata": {},
   "outputs": [],
   "source": []
  },
  {
   "cell_type": "code",
   "execution_count": null,
   "id": "57d1f5c0-f0d9-4fdc-a841-92fd1f600521",
   "metadata": {},
   "outputs": [],
   "source": []
  },
  {
   "cell_type": "code",
   "execution_count": null,
   "id": "b15c7aca-09c4-4842-a582-15a98f36b7dc",
   "metadata": {},
   "outputs": [],
   "source": []
  }
 ],
 "metadata": {
  "kernelspec": {
   "display_name": "Python 3 (ipykernel)",
   "language": "python",
   "name": "python3"
  },
  "language_info": {
   "codemirror_mode": {
    "name": "ipython",
    "version": 3
   },
   "file_extension": ".py",
   "mimetype": "text/x-python",
   "name": "python",
   "nbconvert_exporter": "python",
   "pygments_lexer": "ipython3",
   "version": "3.9.13"
  }
 },
 "nbformat": 4,
 "nbformat_minor": 5
}
