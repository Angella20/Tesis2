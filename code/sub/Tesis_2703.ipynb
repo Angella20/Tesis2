{
 "cells": [
  {
   "cell_type": "code",
   "execution_count": 1,
   "id": "7244ff7e",
   "metadata": {},
   "outputs": [],
   "source": [
    "import os\n",
    "import pandas as pd\n",
    "from tabulate import tabulate\n",
    "import matplotlib.pyplot as plt"
   ]
  },
  {
   "cell_type": "code",
   "execution_count": 2,
   "id": "e7b700d1",
   "metadata": {},
   "outputs": [],
   "source": [
    "modulo_hogar = pd.read_stata(\"../input/enaho01-2020-100.dta\", convert_categoricals=False)\n",
    "columnas_interes = ['conglome','vivienda','hogar','ubigeo','p1121','p1123','p1124','p1125','p1126','p1127',\n",
    "                    'p1142','p1144']\n",
    "modulo_hogar = modulo_hogar[columnas_interes]\n",
    "\n",
    "# Variables de interés: Parentesco Sexo y Edad\n",
    "modulo_miembros = pd.read_stata(\"../input/enaho01-2020-200.dta\", convert_categoricals=False)\n",
    "columnas_interes_miembros = ['conglome','vivienda','hogar','ubigeo','codperso',\"p203b\",\"p207\",'p208a']\n",
    "modulo_miembros = modulo_miembros[columnas_interes_miembros]\n",
    "\n",
    "# Variables de interés\n",
    "modulo_educa = pd.read_stata(\"../input/enaho01a-2020-300.dta\", convert_categoricals=False)\n",
    "columnas_interes_educa = ['conglome','vivienda','hogar','codperso','ubigeo','dominio','estrato',\"p301c\",\"p300a\",\"p304b\",\n",
    "                          \"p308c\",\"p308b\",\n",
    "    \"p304a\",\"p307a1\",\"p307a2\",\"p307a3\",\"p307a4\",\"p307a4_5\",\"p307a4_6\",\"p307a4_7\",\"p307b1\",\"p307b2\",\"p307b3\",\"p307b4\",\"p307b4_5\",\n",
    "    \"p307b4_6\",\"p307b4_7\",\"p308a\",\"p308d\",\"p314a\",\"p314b_1\",\"p314b_2\",\"p314b_3\",\"p314b_4\",\"p314b_5\",\"p314b_6\",\"p314b_7\",\n",
    "    \"p314b1_1\",\"p314b1_2\",\"p314b1_8\",\"p314b1_9\",\"p314b1_6\",\"p314b1_7\",\"p314d\",\"p316_1\",\"p316_2\", \"p316_3\",\"p316_4\",\"p316_5\",\n",
    "    \"p316_6\",\"p316_7\",\"p316_8\",\"p316_9\",\"p316_10\",\"p316_11\",\"p316_12\",\"p316a1\",\"p316b\",\"p316c1\",\"p316c2\",\"p316c3\",\"p316c4\",\n",
    "    \"p316c5\",\"p316c6\",\"p316c7\",\"p316c8\",\"p316c9\",\"p316c10\",\"t313a\", \"factor07\"]\n",
    "modulo_educa = modulo_educa[columnas_interes_educa]\n",
    "\n",
    "sumaria = pd.read_stata(\"../input/sumaria-2020.dta\", convert_categoricals=False)\n",
    "columnas_interes_sumaria = ['conglome', 'vivienda', 'hogar','ubigeo','estrsocial','mieperho','totmieho']\n",
    "sumaria = sumaria[columnas_interes_sumaria]"
   ]
  },
  {
   "cell_type": "code",
   "execution_count": 3,
   "id": "d33b6f8f",
   "metadata": {},
   "outputs": [],
   "source": [
    "# Realizar el merge version final 2\n",
    "# Primero, unir modulo_hogar y modulo_miembros usando las columnas comunes\n",
    "merged_data1 = pd.merge(modulo_educa, modulo_miembros, on=['conglome', 'vivienda', 'hogar', 'ubigeo','codperso'], how='inner')\n",
    "\n",
    "# Luego, unir el resultado anterior con modulo_educa\n",
    "merged_data2 = pd.merge(sumaria, modulo_hogar, on=['conglome', 'vivienda', 'hogar', 'ubigeo'], how='inner')\n",
    "\n",
    "# Finalmente, unir el resultado anterior con sumaria\n",
    "base_final = pd.merge(merged_data1, merged_data2, on=['conglome', 'vivienda', 'hogar', 'ubigeo'], how='left')"
   ]
  },
  {
   "cell_type": "code",
   "execution_count": 4,
   "id": "f77110ef",
   "metadata": {},
   "outputs": [
    {
     "data": {
      "text/plain": [
       "(115777, 84)"
      ]
     },
     "execution_count": 4,
     "metadata": {},
     "output_type": "execute_result"
    }
   ],
   "source": [
    "base_final.shape"
   ]
  },
  {
   "cell_type": "code",
   "execution_count": 5,
   "id": "5d5d65ef",
   "metadata": {},
   "outputs": [
    {
     "data": {
      "text/plain": [
       "Index(['conglome', 'vivienda', 'hogar', 'codperso', 'ubigeo', 'dominio',\n",
       "       'estrato', 'p301c', 'p300a', 'p304b', 'p308c', 'p308b', 'p304a',\n",
       "       'p307a1', 'p307a2', 'p307a3', 'p307a4', 'p307a4_5', 'p307a4_6',\n",
       "       'p307a4_7', 'p307b1', 'p307b2', 'p307b3', 'p307b4', 'p307b4_5',\n",
       "       'p307b4_6', 'p307b4_7', 'p308a', 'p308d', 'p314a', 'p314b_1', 'p314b_2',\n",
       "       'p314b_3', 'p314b_4', 'p314b_5', 'p314b_6', 'p314b_7', 'p314b1_1',\n",
       "       'p314b1_2', 'p314b1_8', 'p314b1_9', 'p314b1_6', 'p314b1_7', 'p314d',\n",
       "       'p316_1', 'p316_2', 'p316_3', 'p316_4', 'p316_5', 'p316_6', 'p316_7',\n",
       "       'p316_8', 'p316_9', 'p316_10', 'p316_11', 'p316_12', 'p316a1', 'p316b',\n",
       "       'p316c1', 'p316c2', 'p316c3', 'p316c4', 'p316c5', 'p316c6', 'p316c7',\n",
       "       'p316c8', 'p316c9', 'p316c10', 't313a', 'factor07', 'p203b', 'p207',\n",
       "       'p208a', 'estrsocial', 'mieperho', 'totmieho', 'p1121', 'p1123',\n",
       "       'p1124', 'p1125', 'p1126', 'p1127', 'p1142', 'p1144'],\n",
       "      dtype='object')"
      ]
     },
     "execution_count": 5,
     "metadata": {},
     "output_type": "execute_result"
    }
   ],
   "source": [
    "base_final.columns"
   ]
  },
  {
   "cell_type": "code",
   "execution_count": 6,
   "id": "08ee393e",
   "metadata": {},
   "outputs": [],
   "source": [
    "# Crear una variable \"departamento\" extrayendo los primeros 2 dígitos de \"ubigeo\"\n",
    "base_final[\"DEPARTAMENTO\"] = base_final[\"ubigeo\"].astype(str).str[:2]\n",
    "base_final[\"DEPARTAMENTO\"] = pd.to_numeric(base_final[\"DEPARTAMENTO\"], errors=\"coerce\")\n",
    "\n",
    "# Recodificar la variable \"departamento\" para asignar nombres a los códigos numéricos\n",
    "dict_departamento = {\n",
    "    1: \"Amazonas\", 2: \"Ancash\", 3: \"Apurímac\", 4: \"Arequipa\", 5: \"Ayacucho\", 6: \"Cajamarca\", 7: \"Callao\", 8: \"Cusco\",\n",
    "    9: \"Huancavelica\", 10: \"Huánuco\", 11: \"Ica\", 12: \"Junín\", 13: \"La Libertad\", 14: \"Lambayeque\", 15: \"Lima\",\n",
    "    16: \"Loreto\", 17: \"Madre de Dios\", 18: \"Moquegua\", 19: \"Pasco\", 20: \"Piura\", 21: \"Puno\", 22: \"San Martín\", \n",
    "    23: \"Tacna\", 24: \"Tumbes\", 25: \"Ucayali\"\n",
    "}\n",
    "base_final[\"DEPARTAMENTO\"].replace(dict_departamento, inplace=True)\n",
    "\n",
    "# Recodificar la variable \"estrato\" para crear la variable \"area\"\n",
    "base_final[\"AREA\"] = base_final[\"estrato\"].apply(lambda x: 1 if 1 <= x <= 5 else 0) #{1: \"Urbano\", 0: \"Rural\"}\n",
    "\n",
    "# IDIOMA \n",
    "base_final[\"Idioma\"] = base_final[\"p300a\"].apply(lambda x: 1 if 4 == x  else 0)   # {1: \"Castellano\", 0: \"Otros\"}\n",
    "#1 Quechua 2 Aimara 3 Otra lengua nativa 4 Castellano 6 Portugués 7 Otra lengua extranjera \n",
    "# 8 No escucha/no habla9 Lengua de señas peruanas 10 Ashaninka 11 Awajun/Aguaruna 12 Shipibo-Konibo \n",
    "# 13 Shawi/Chayahuita 14 Matsigenka/Machiguenga 15 Achuar"
   ]
  },
  {
   "cell_type": "code",
   "execution_count": 7,
   "id": "d611bb2b",
   "metadata": {},
   "outputs": [
    {
     "data": {
      "text/plain": [
       "2.0    12405\n",
       "3.0    10253\n",
       "1.0     4445\n",
       "5.0     3344\n",
       "4.0     1476\n",
       "6.0      165\n",
       "7.0       32\n",
       "Name: p308a, dtype: int64"
      ]
     },
     "execution_count": 7,
     "metadata": {},
     "output_type": "execute_result"
    }
   ],
   "source": [
    "base_final.p308a.value_counts()"
   ]
  },
  {
   "cell_type": "code",
   "execution_count": 8,
   "id": "10d5bdf5",
   "metadata": {},
   "outputs": [
    {
     "data": {
      "text/plain": [
       "0.0    12433\n",
       "3.0     4776\n",
       "2.0     4738\n",
       "1.0     4689\n",
       "4.0     2757\n",
       "5.0     2654\n",
       "6.0       64\n",
       "7.0        9\n",
       "Name: p308b, dtype: int64"
      ]
     },
     "execution_count": 8,
     "metadata": {},
     "output_type": "execute_result"
    }
   ],
   "source": [
    "base_final.p308b.value_counts()"
   ]
  },
  {
   "cell_type": "code",
   "execution_count": 9,
   "id": "6d4e007e",
   "metadata": {},
   "outputs": [
    {
     "data": {
      "text/plain": [
       "4.0    2206\n",
       "5.0    2205\n",
       "6.0    2150\n",
       "3.0    2031\n",
       "2.0    2002\n",
       "1.0    1837\n",
       "Name: p308c, dtype: int64"
      ]
     },
     "execution_count": 9,
     "metadata": {},
     "output_type": "execute_result"
    }
   ],
   "source": [
    "base_final.p308c.value_counts()"
   ]
  },
  {
   "cell_type": "code",
   "execution_count": 10,
   "id": "5213b011",
   "metadata": {},
   "outputs": [
    {
     "data": {
      "text/plain": [
       "1.0    25896\n",
       "2.0     6224\n",
       "Name: p308d, dtype: int64"
      ]
     },
     "execution_count": 10,
     "metadata": {},
     "output_type": "execute_result"
    }
   ],
   "source": [
    "base_final.p308d.value_counts()"
   ]
  },
  {
   "cell_type": "code",
   "execution_count": 11,
   "id": "d975765c",
   "metadata": {},
   "outputs": [
    {
     "data": {
      "text/plain": [
       "Index(['conglome', 'vivienda', 'hogar', 'codperso', 'ubigeo', 'dominio',\n",
       "       'estrato', 'p301c', 'p300a', 'p304b', 'p308c', 'p308b', 'p304a',\n",
       "       'p307a1', 'p307a2', 'p307a3', 'p307a4', 'p307a4_5', 'p307a4_6',\n",
       "       'p307a4_7', 'p307b1', 'p307b2', 'p307b3', 'p307b4', 'p307b4_5',\n",
       "       'p307b4_6', 'p307b4_7', 'p308a', 'p308d', 'p314a', 'p314b_1', 'p314b_2',\n",
       "       'p314b_3', 'p314b_4', 'p314b_5', 'p314b_6', 'p314b_7', 'p314b1_1',\n",
       "       'p314b1_2', 'p314b1_8', 'p314b1_9', 'p314b1_6', 'p314b1_7', 'p314d',\n",
       "       'p316_1', 'p316_2', 'p316_3', 'p316_4', 'p316_5', 'p316_6', 'p316_7',\n",
       "       'p316_8', 'p316_9', 'p316_10', 'p316_11', 'p316_12', 'p316a1', 'p316b',\n",
       "       'p316c1', 'p316c2', 'p316c3', 'p316c4', 'p316c5', 'p316c6', 'p316c7',\n",
       "       'p316c8', 'p316c9', 'p316c10', 't313a', 'factor07', 'p203b', 'p207',\n",
       "       'p208a', 'estrsocial', 'mieperho', 'totmieho', 'p1121', 'p1123',\n",
       "       'p1124', 'p1125', 'p1126', 'p1127', 'p1142', 'p1144', 'DEPARTAMENTO',\n",
       "       'AREA', 'Idioma'],\n",
       "      dtype='object')"
      ]
     },
     "execution_count": 11,
     "metadata": {},
     "output_type": "execute_result"
    }
   ],
   "source": [
    "base_final.columns"
   ]
  },
  {
   "cell_type": "code",
   "execution_count": 12,
   "id": "7ffb76b5",
   "metadata": {},
   "outputs": [
    {
     "data": {
      "text/plain": [
       "Index(['conglome', 'vivienda', 'hogar', 'codperso', 'ubigeo', 'dominio',\n",
       "       'estrato', 'p301c', 'p300a', 'p304b', 'p308c', 'p308b', 'p304a',\n",
       "       'p307a1', 'p307a2', 'p307a3', 'p307a4', 'p307a4_5', 'p307a4_6',\n",
       "       'p307a4_7', 'p307b1', 'p307b2', 'p307b3', 'p307b4', 'p307b4_5',\n",
       "       'p307b4_6', 'p307b4_7', 'Nivel_educativo', 'Centro_estudios', 'i_uso',\n",
       "       'i_uso_hog', 'i_uso_trab', 'i_uso_cedu', 'i_uso_cab', 'i_uso_casotr',\n",
       "       'i_uso_otro', 'i_uso_movil', 'i_computadora', 'i_laptop',\n",
       "       'i_cel_sdatos', 'i_cel_cdatos', 'i_tablet', 'i_otro', 'p314d', 'p316_1',\n",
       "       'p316_2', 'p316_3', 'p316_4', 'p316_5', 'p316_6', 'p316_7', 'p316_8',\n",
       "       'p316_9', 'p316_10', 'p316_11', 'p316_12', 'p316a1', 'p316b', 'p316c1',\n",
       "       'p316c2', 'p316c3', 'p316c4', 'p316c5', 'p316c6', 'p316c7', 'p316c8',\n",
       "       'p316c9', 'p316c10', 't313a', 'factor07', 'p203b', 'Sexo', 'Edad',\n",
       "       'estrsocial', 'mieperho', 'totmieho', 'p1121', 'p1123', 'p1124',\n",
       "       'p1125', 'p1126', 'p1127', 'p1142', 'p1144', 'DEPARTAMENTO', 'AREA',\n",
       "       'Idioma'],\n",
       "      dtype='object')"
      ]
     },
     "execution_count": 12,
     "metadata": {},
     "output_type": "execute_result"
    }
   ],
   "source": [
    "# Rename columns\n",
    "new_column_names = {'p308a': 'Nivel_educativo', 'p308d': 'Centro_estudios','p207': 'Sexo', 'p208a':\"Edad\",\n",
    "                   'p314a': 'i_uso','p314b_1':'i_uso_hog', 'p314b_2':'i_uso_trab', 'p314b_3':'i_uso_cedu',\n",
    "                   'p314b_4':'i_uso_cab','p314b_5':'i_uso_casotr','p314b_6':'i_uso_otro','p314b_7':'i_uso_movil',\n",
    "                   'p314b1_1':'i_computadora','p314b1_2':'i_laptop','p314b1_5':'i_cel_trab','p314b1_6':'i_tablet',\n",
    "                   'p314b1_7':'i_otro','p314b1_8': 'i_cel_sdatos', 'p314b1_9': 'i_cel_cdatos'\n",
    "                   }\n",
    "base_final.rename(columns=new_column_names, inplace=True)\n",
    "\n",
    "# Now, the DataFrame has renamed columns\n",
    "base_final.columns"
   ]
  },
  {
   "cell_type": "code",
   "execution_count": 13,
   "id": "112cdc65",
   "metadata": {},
   "outputs": [],
   "source": [
    "#base_final[\"P300A\"].dtype"
   ]
  },
  {
   "cell_type": "code",
   "execution_count": 14,
   "id": "d5901f33",
   "metadata": {},
   "outputs": [],
   "source": [
    "# Uso de Internet en el hogar\n",
    "base_final[\"i_uso_hog\"] = pd.to_numeric(base_final[\"i_uso_hog\"], errors=\"coerce\")"
   ]
  },
  {
   "cell_type": "code",
   "execution_count": 15,
   "id": "219e910e",
   "metadata": {},
   "outputs": [],
   "source": [
    "# Uso de Internet \n",
    "base_final[\"i_uso\"] = pd.to_numeric(base_final[\"i_uso\"], errors=\"coerce\")"
   ]
  },
  {
   "cell_type": "code",
   "execution_count": 16,
   "id": "d8a993b4",
   "metadata": {},
   "outputs": [],
   "source": [
    "# Recodificar la variable \"dominio\" para crear la variable \"zona\"\n",
    "dict_zona = { 1:\"Costa\", 2:\"Costa\", 3: \"Costa\", 4:\"Sierra\", 5:\"Sierra\", 6:\"Sierra\", 7:\"Selva\", 8: \"Lima Metropolitana\"}\n",
    "base_final[\"ZONA\"] = base_final[\"dominio\"].map(dict_zona)"
   ]
  },
  {
   "cell_type": "code",
   "execution_count": 17,
   "id": "94c03c14",
   "metadata": {},
   "outputs": [
    {
     "name": "stderr",
     "output_type": "stream",
     "text": [
      "C:\\Users\\SINERGY TECH\\AppData\\Local\\Temp\\ipykernel_1912\\3948086090.py:5: SettingWithCopyWarning: \n",
      "A value is trying to be set on a copy of a slice from a DataFrame.\n",
      "Try using .loc[row_indexer,col_indexer] = value instead\n",
      "\n",
      "See the caveats in the documentation: https://pandas.pydata.org/pandas-docs/stable/user_guide/indexing.html#returning-a-view-versus-a-copy\n",
      "  base_filtrada[\"Edad\"] = pd.to_numeric(base_filtrada[\"Edad\"], errors=\"coerce\")\n"
     ]
    }
   ],
   "source": [
    "# DESCRIPTIVOS DE LAS VARIABLES  # FILTROS DE EDUCACION Y EDAD\n",
    "# Filtrar el DataFrame para incluir solo las filas con valores 1, 2 o 3 en la columna \"P308A\"\n",
    "base_filtrada = base_final[base_final[\"Nivel_educativo\"].isin([1, 2, 3])]\n",
    "# Convertir la columna \"P208A\" a tipo numérico (si es posible)\n",
    "base_filtrada[\"Edad\"] = pd.to_numeric(base_filtrada[\"Edad\"], errors=\"coerce\")\n",
    "\n",
    "# Filtrar las filas donde \"P208A\" es menor que 18\n",
    "base_filtrada = base_filtrada[base_filtrada[\"Edad\"] <= 18]"
   ]
  },
  {
   "cell_type": "code",
   "execution_count": 18,
   "id": "a776dbe0",
   "metadata": {},
   "outputs": [
    {
     "data": {
      "text/html": [
       "<div>\n",
       "<style scoped>\n",
       "    .dataframe tbody tr th:only-of-type {\n",
       "        vertical-align: middle;\n",
       "    }\n",
       "\n",
       "    .dataframe tbody tr th {\n",
       "        vertical-align: top;\n",
       "    }\n",
       "\n",
       "    .dataframe thead th {\n",
       "        text-align: right;\n",
       "    }\n",
       "</style>\n",
       "<table border=\"1\" class=\"dataframe\">\n",
       "  <thead>\n",
       "    <tr style=\"text-align: right;\">\n",
       "      <th></th>\n",
       "      <th>conglome</th>\n",
       "      <th>vivienda</th>\n",
       "      <th>hogar</th>\n",
       "      <th>codperso</th>\n",
       "      <th>ubigeo</th>\n",
       "      <th>dominio</th>\n",
       "      <th>estrato</th>\n",
       "      <th>p301c</th>\n",
       "      <th>p300a</th>\n",
       "      <th>p304b</th>\n",
       "      <th>...</th>\n",
       "      <th>p1124</th>\n",
       "      <th>p1125</th>\n",
       "      <th>p1126</th>\n",
       "      <th>p1127</th>\n",
       "      <th>p1142</th>\n",
       "      <th>p1144</th>\n",
       "      <th>DEPARTAMENTO</th>\n",
       "      <th>AREA</th>\n",
       "      <th>Idioma</th>\n",
       "      <th>ZONA</th>\n",
       "    </tr>\n",
       "  </thead>\n",
       "  <tbody>\n",
       "    <tr>\n",
       "      <th>8</th>\n",
       "      <td>005009</td>\n",
       "      <td>098</td>\n",
       "      <td>11</td>\n",
       "      <td>05</td>\n",
       "      <td>010101</td>\n",
       "      <td>4</td>\n",
       "      <td>4</td>\n",
       "      <td>NaN</td>\n",
       "      <td>4.0</td>\n",
       "      <td>4.0</td>\n",
       "      <td>...</td>\n",
       "      <td>0.0</td>\n",
       "      <td>0.0</td>\n",
       "      <td>0.0</td>\n",
       "      <td>0.0</td>\n",
       "      <td>1.0</td>\n",
       "      <td>1.0</td>\n",
       "      <td>Amazonas</td>\n",
       "      <td>1</td>\n",
       "      <td>1</td>\n",
       "      <td>Sierra</td>\n",
       "    </tr>\n",
       "  </tbody>\n",
       "</table>\n",
       "<p>1 rows × 88 columns</p>\n",
       "</div>"
      ],
      "text/plain": [
       "  conglome vivienda hogar codperso  ubigeo  dominio  estrato  p301c  p300a  \\\n",
       "8   005009      098    11       05  010101        4        4    NaN    4.0   \n",
       "\n",
       "   p304b  ...  p1124  p1125  p1126  p1127  p1142  p1144  DEPARTAMENTO  AREA  \\\n",
       "8    4.0  ...    0.0    0.0    0.0    0.0    1.0    1.0      Amazonas     1   \n",
       "\n",
       "   Idioma    ZONA  \n",
       "8       1  Sierra  \n",
       "\n",
       "[1 rows x 88 columns]"
      ]
     },
     "execution_count": 18,
     "metadata": {},
     "output_type": "execute_result"
    }
   ],
   "source": [
    "base_filtrada.head(1)"
   ]
  },
  {
   "cell_type": "code",
   "execution_count": 19,
   "id": "7ba5a5a0",
   "metadata": {},
   "outputs": [],
   "source": [
    "#base_filtrada = base_final.copy() ###########################FILTROS"
   ]
  },
  {
   "cell_type": "code",
   "execution_count": 20,
   "id": "ae70247b",
   "metadata": {},
   "outputs": [],
   "source": [
    "# Redondear porcentajes"
   ]
  },
  {
   "cell_type": "code",
   "execution_count": 21,
   "id": "f13f1278",
   "metadata": {},
   "outputs": [],
   "source": [
    "import os\n",
    "import pandas as pd\n",
    "import matplotlib.pyplot as plt\n",
    "\n",
    "def generar_tabla_recuento(dataframe, variable, descripcion_valores, guardar_como_jpeg=False, guardar_como_txt=False):\n",
    "    # Agrupa los datos por la columna 'variable' y suma 'factor07'\n",
    "    freq_ = dataframe[['factor07', variable]].groupby(variable).sum().reset_index()\n",
    "    \n",
    "    # Calcular el porcentaje y redondearlo a dos decimales directamente en esta línea\n",
    "    total_recuento = freq_['factor07'].sum()\n",
    "    freq_['Porcentaje'] = (freq_['factor07'] / total_recuento * 100).round(2)\n",
    "    \n",
    "    freq_.rename(columns={'factor07': 'Recuento'}, inplace=True)\n",
    "    freq_.rename(columns={'factor07': 'Recuento', variable:descripcion_valores}, inplace=True)\n",
    "    \n",
    "    # Formatear las columnas \"Recuento\" y \"Porcentaje\" como cadenas\n",
    "    #freq_['Recuento'] = freq_['Recuento'].apply(lambda x: '{:.0f}'.format(x))\n",
    "    freq_['Recuento'] = freq_['Recuento'].apply(lambda x: '{:,.0f}'.format(x))\n",
    "    freq_['Porcentaje'] = freq_['Porcentaje'].apply(lambda x: '{:.2f}'.format(x))\n",
    "    \n",
    "    if guardar_como_jpeg:\n",
    "        # Guardar la tabla formateada como una imagen JPEG en la ruta especificada\n",
    "        nombre_imagen = os.path.join(\"../output/images\", f\"{descripcion_valores}.jpeg\")\n",
    "        \n",
    "        # Configurar el tamaño y los márgenes de la figura\n",
    "        plt.figure(figsize=(6, 4))\n",
    "        plt.subplots_adjust(left=0.2, top=0.9, right=0.8, bottom=0.1)\n",
    "        \n",
    "        # Configurar el tamaño de la fuente para la tabla\n",
    "        plt.rc('font', size=9)\n",
    "        \n",
    "        # Crear una tabla en lugar de texto\n",
    "        tabla = plt.table(cellText=freq_.values, colLabels=freq_.columns, loc='center', cellLoc='center')\n",
    "        \n",
    "        # Establecer el formato de las celdas de la tabla\n",
    "        tabla.auto_set_font_size(False)\n",
    "        tabla.set_fontsize(10)\n",
    "        \n",
    "        # Ajustar el ancho de las columnas según el contenido\n",
    "        tabla.auto_set_column_width([0, 1, 2])\n",
    "        \n",
    "        # Ocultar los ejes\n",
    "        plt.axis('off')\n",
    "        \n",
    "        # Guardar la figura como imagen JPEG\n",
    "        plt.savefig(nombre_imagen, bbox_inches='tight', dpi=300)\n",
    "        plt.close()\n",
    "        print(f\"La tabla se ha guardado como imagen en {nombre_imagen}\")\n",
    "    \n",
    "    if guardar_como_txt:\n",
    "        # Guardar la tabla formateada en un archivo de texto en la ruta especificada\n",
    "        nombre_archivo_txt = os.path.join(\"../output/tables\", f\"{descripcion_valores}.txt\")\n",
    "        with open(nombre_archivo_txt, 'w') as archivo:\n",
    "            # Encabezado de la tabla en formato LaTeX\n",
    "            #encabezado_latex = \"\\\\textbf{Descripción} & \\\\textbf{Recuento} & \\\\textbf{Porcentaje} \\\\\\\\\\n\"\n",
    "            encabezado_latex = f\"\\\\textbf{{{descripcion_valores}}} & \\\\textbf{{Recuento}} & \\\\textbf{{Porcentaje}} \\\\\\\\\\n\"\n",
    "            archivo.write(encabezado_latex)\n",
    "            \n",
    "            # Datos de la tabla en formato LaTeX\n",
    "            datos_latex = freq_.to_latex(index=False, header=False, escape=False)\n",
    "            archivo.write(\"\\\\midrule % Línea horizontal entre el encabezado y el contenido\\n\")\n",
    "            archivo.write(datos_latex)\n",
    "            archivo.write(\"\\\\\\\\\\n\")\n",
    "        \n",
    "        print(f\"La tabla se ha guardado como archivo de texto en {nombre_archivo_txt}\")\n",
    "\n",
    "    return freq_\n"
   ]
  },
  {
   "cell_type": "raw",
   "id": "916678e4",
   "metadata": {},
   "source": [
    "def generar_tabla_recuento(dataframe, variable, descripcion_valores, guardar_como_jpeg=False, guardar_como_txt=False):\n",
    "    # Agrupa los datos por la columna 'variable' y suma 'factor07'\n",
    "    freq_ = dataframe[['factor07', variable]].groupby(variable).sum().reset_index()\n",
    "    \n",
    "    # Calcular el porcentaje y redondearlo a dos decimales directamente en esta línea\n",
    "    total_recuento = freq_['factor07'].sum()\n",
    "    freq_['Porcentaje'] = (freq_['factor07'] / total_recuento * 100).round(2)\n",
    "    \n",
    "    freq_.rename(columns={'factor07': 'Recuento'}, inplace=True)\n",
    "    freq_.rename(columns={'factor07': 'Recuento', variable: descripcion_valores}, inplace=True)\n",
    "    \n",
    "    # Formatear las columnas \"Recuento\" y \"Porcentaje\" como cadenas\n",
    "    freq_['Recuento'] = freq_['Recuento'].apply(lambda x: '{:.0f}'.format(x))\n",
    "    freq_['Porcentaje'] = freq_['Porcentaje'].apply(lambda x: '{:.2f}'.format(x))\n",
    "    \n",
    "    if guardar_como_jpeg:\n",
    "        # Guardar la tabla formateada como una imagen JPEG en la ruta especificada\n",
    "        nombre_imagen = os.path.join(\"../output/images\", f\"{descripcion_valores}.jpeg\")\n",
    "        \n",
    "        # Configurar el tamaño y los márgenes de la figura\n",
    "        plt.figure(figsize=(6, 4))\n",
    "        plt.subplots_adjust(left=0.2, top=0.9, right=0.8, bottom=0.1)\n",
    "        \n",
    "        # Configurar el tamaño de la fuente para la tabla\n",
    "        plt.rc('font', size=9)\n",
    "        \n",
    "        # Crear una tabla en lugar de texto\n",
    "        tabla = plt.table(cellText=freq_.values, colLabels=freq_.columns, loc='center', cellLoc='center')\n",
    "        \n",
    "        # Establecer el formato de las celdas de la tabla\n",
    "        tabla.auto_set_font_size(False)\n",
    "        tabla.set_fontsize(10)\n",
    "        \n",
    "        # Ajustar el ancho de las columnas según el contenido\n",
    "        tabla.auto_set_column_width([0, 1, 2])\n",
    "        \n",
    "        # Ocultar los ejes\n",
    "        plt.axis('off')\n",
    "        \n",
    "        # Guardar la figura como imagen JPEG\n",
    "        plt.savefig(nombre_imagen, bbox_inches='tight', dpi=300)\n",
    "        plt.close()\n",
    "        print(f\"La tabla se ha guardado como imagen en {nombre_imagen}\")\n",
    "    \n",
    "    if guardar_como_txt:\n",
    "        # Guardar la tabla formateada en un archivo de texto en la ruta especificada\n",
    "        nombre_archivo_txt = os.path.join(\"../output/tables\", f\"{descripcion_valores}.txt\")\n",
    "        with open(nombre_archivo_txt, 'w') as archivo:\n",
    "            # Encabezado de la tabla en formato LaTeX\n",
    "            encabezado_latex = f\"\\\\textbf{{{descripcion_valores}}} & \\\\textbf{{Recuento}} & \\\\textbf{{Porcentaje}} \\\\\\\\\\n\"\n",
    "            archivo.write(encabezado_latex)\n",
    "            \n",
    "            # Datos de la tabla en formato LaTeX\n",
    "            datos_latex = freq_.style.hide_index().set_properties(**{'text-align': 'center'}).render().replace('\\n', ' \\\\\\\\\\n')\n",
    "            archivo.write(\"\\\\midrule % Línea horizontal entre el encabezado y el contenido\\n\")\n",
    "            archivo.write(datos_latex)\n",
    "        \n",
    "        print(f\"La tabla se ha guardado como archivo de texto en {nombre_archivo_txt}\")\n",
    "\n",
    "    return freq_"
   ]
  },
  {
   "cell_type": "code",
   "execution_count": 22,
   "id": "23c13dc4",
   "metadata": {},
   "outputs": [],
   "source": [
    "import warnings\n",
    "warnings.filterwarnings(\"ignore\", category=FutureWarning)\n"
   ]
  },
  {
   "cell_type": "markdown",
   "id": "33806527",
   "metadata": {},
   "source": [
    "# VARIABLES X"
   ]
  },
  {
   "cell_type": "code",
   "execution_count": 23,
   "id": "37314f0b",
   "metadata": {},
   "outputs": [
    {
     "name": "stdout",
     "output_type": "stream",
     "text": [
      "La tabla se ha guardado como imagen en ../output/images\\Miembros por Hogar.jpeg\n",
      "La tabla se ha guardado como archivo de texto en ../output/tables\\Miembros por Hogar.txt\n"
     ]
    },
    {
     "data": {
      "text/html": [
       "<div>\n",
       "<style scoped>\n",
       "    .dataframe tbody tr th:only-of-type {\n",
       "        vertical-align: middle;\n",
       "    }\n",
       "\n",
       "    .dataframe tbody tr th {\n",
       "        vertical-align: top;\n",
       "    }\n",
       "\n",
       "    .dataframe thead th {\n",
       "        text-align: right;\n",
       "    }\n",
       "</style>\n",
       "<table border=\"1\" class=\"dataframe\">\n",
       "  <thead>\n",
       "    <tr style=\"text-align: right;\">\n",
       "      <th></th>\n",
       "      <th>Miembros por Hogar</th>\n",
       "      <th>Recuento</th>\n",
       "      <th>Porcentaje</th>\n",
       "    </tr>\n",
       "  </thead>\n",
       "  <tbody>\n",
       "    <tr>\n",
       "      <th>0</th>\n",
       "      <td>1</td>\n",
       "      <td>6,353</td>\n",
       "      <td>0.09</td>\n",
       "    </tr>\n",
       "    <tr>\n",
       "      <th>1</th>\n",
       "      <td>2</td>\n",
       "      <td>252,248</td>\n",
       "      <td>3.58</td>\n",
       "    </tr>\n",
       "    <tr>\n",
       "      <th>2</th>\n",
       "      <td>3</td>\n",
       "      <td>944,912</td>\n",
       "      <td>13.39</td>\n",
       "    </tr>\n",
       "    <tr>\n",
       "      <th>3</th>\n",
       "      <td>4</td>\n",
       "      <td>1,950,796</td>\n",
       "      <td>27.65</td>\n",
       "    </tr>\n",
       "    <tr>\n",
       "      <th>4</th>\n",
       "      <td>5</td>\n",
       "      <td>1,781,058</td>\n",
       "      <td>25.25</td>\n",
       "    </tr>\n",
       "    <tr>\n",
       "      <th>5</th>\n",
       "      <td>6</td>\n",
       "      <td>964,505</td>\n",
       "      <td>13.67</td>\n",
       "    </tr>\n",
       "    <tr>\n",
       "      <th>6</th>\n",
       "      <td>7</td>\n",
       "      <td>543,624</td>\n",
       "      <td>7.71</td>\n",
       "    </tr>\n",
       "    <tr>\n",
       "      <th>7</th>\n",
       "      <td>8</td>\n",
       "      <td>253,435</td>\n",
       "      <td>3.59</td>\n",
       "    </tr>\n",
       "    <tr>\n",
       "      <th>8</th>\n",
       "      <td>9</td>\n",
       "      <td>160,758</td>\n",
       "      <td>2.28</td>\n",
       "    </tr>\n",
       "    <tr>\n",
       "      <th>9</th>\n",
       "      <td>10</td>\n",
       "      <td>94,979</td>\n",
       "      <td>1.35</td>\n",
       "    </tr>\n",
       "    <tr>\n",
       "      <th>10</th>\n",
       "      <td>11</td>\n",
       "      <td>36,499</td>\n",
       "      <td>0.52</td>\n",
       "    </tr>\n",
       "    <tr>\n",
       "      <th>11</th>\n",
       "      <td>12</td>\n",
       "      <td>27,787</td>\n",
       "      <td>0.39</td>\n",
       "    </tr>\n",
       "    <tr>\n",
       "      <th>12</th>\n",
       "      <td>13</td>\n",
       "      <td>11,269</td>\n",
       "      <td>0.16</td>\n",
       "    </tr>\n",
       "    <tr>\n",
       "      <th>13</th>\n",
       "      <td>14</td>\n",
       "      <td>10,230</td>\n",
       "      <td>0.15</td>\n",
       "    </tr>\n",
       "    <tr>\n",
       "      <th>14</th>\n",
       "      <td>15</td>\n",
       "      <td>8,958</td>\n",
       "      <td>0.13</td>\n",
       "    </tr>\n",
       "    <tr>\n",
       "      <th>15</th>\n",
       "      <td>18</td>\n",
       "      <td>901</td>\n",
       "      <td>0.01</td>\n",
       "    </tr>\n",
       "    <tr>\n",
       "      <th>16</th>\n",
       "      <td>20</td>\n",
       "      <td>6,673</td>\n",
       "      <td>0.09</td>\n",
       "    </tr>\n",
       "  </tbody>\n",
       "</table>\n",
       "</div>"
      ],
      "text/plain": [
       "    Miembros por Hogar   Recuento Porcentaje\n",
       "0                    1      6,353       0.09\n",
       "1                    2    252,248       3.58\n",
       "2                    3    944,912      13.39\n",
       "3                    4  1,950,796      27.65\n",
       "4                    5  1,781,058      25.25\n",
       "5                    6    964,505      13.67\n",
       "6                    7    543,624       7.71\n",
       "7                    8    253,435       3.59\n",
       "8                    9    160,758       2.28\n",
       "9                   10     94,979       1.35\n",
       "10                  11     36,499       0.52\n",
       "11                  12     27,787       0.39\n",
       "12                  13     11,269       0.16\n",
       "13                  14     10,230       0.15\n",
       "14                  15      8,958       0.13\n",
       "15                  18        901       0.01\n",
       "16                  20      6,673       0.09"
      ]
     },
     "execution_count": 23,
     "metadata": {},
     "output_type": "execute_result"
    }
   ],
   "source": [
    "generar_tabla_recuento(base_filtrada, \"mieperho\", \"Miembros por Hogar\",guardar_como_jpeg=True, guardar_como_txt=True)"
   ]
  },
  {
   "cell_type": "code",
   "execution_count": 24,
   "id": "f1c99474",
   "metadata": {},
   "outputs": [
    {
     "name": "stdout",
     "output_type": "stream",
     "text": [
      "La tabla se ha guardado como imagen en ../output/images\\Nivel Educativo.jpeg\n",
      "La tabla se ha guardado como archivo de texto en ../output/tables\\Nivel Educativo.txt\n"
     ]
    },
    {
     "data": {
      "text/html": [
       "<div>\n",
       "<style scoped>\n",
       "    .dataframe tbody tr th:only-of-type {\n",
       "        vertical-align: middle;\n",
       "    }\n",
       "\n",
       "    .dataframe tbody tr th {\n",
       "        vertical-align: top;\n",
       "    }\n",
       "\n",
       "    .dataframe thead th {\n",
       "        text-align: right;\n",
       "    }\n",
       "</style>\n",
       "<table border=\"1\" class=\"dataframe\">\n",
       "  <thead>\n",
       "    <tr style=\"text-align: right;\">\n",
       "      <th></th>\n",
       "      <th>Nivel Educativo</th>\n",
       "      <th>Recuento</th>\n",
       "      <th>Porcentaje</th>\n",
       "    </tr>\n",
       "  </thead>\n",
       "  <tbody>\n",
       "    <tr>\n",
       "      <th>0</th>\n",
       "      <td>1.0</td>\n",
       "      <td>1,179,954</td>\n",
       "      <td>16.73</td>\n",
       "    </tr>\n",
       "    <tr>\n",
       "      <th>1</th>\n",
       "      <td>2.0</td>\n",
       "      <td>3,219,312</td>\n",
       "      <td>45.63</td>\n",
       "    </tr>\n",
       "    <tr>\n",
       "      <th>2</th>\n",
       "      <td>3.0</td>\n",
       "      <td>2,655,718</td>\n",
       "      <td>37.64</td>\n",
       "    </tr>\n",
       "  </tbody>\n",
       "</table>\n",
       "</div>"
      ],
      "text/plain": [
       "   Nivel Educativo   Recuento Porcentaje\n",
       "0              1.0  1,179,954      16.73\n",
       "1              2.0  3,219,312      45.63\n",
       "2              3.0  2,655,718      37.64"
      ]
     },
     "execution_count": 24,
     "metadata": {},
     "output_type": "execute_result"
    }
   ],
   "source": [
    "generar_tabla_recuento(base_filtrada, \"Nivel_educativo\", \"Nivel Educativo\",guardar_como_jpeg=True, guardar_como_txt=True)\n",
    "# 1 Educación Inicial  2 Primaria 3 Secundaria "
   ]
  },
  {
   "cell_type": "code",
   "execution_count": 25,
   "id": "7fd273a5",
   "metadata": {},
   "outputs": [
    {
     "name": "stdout",
     "output_type": "stream",
     "text": [
      "La tabla se ha guardado como imagen en ../output/images\\Centro de Estudios.jpeg\n",
      "La tabla se ha guardado como archivo de texto en ../output/tables\\Centro de Estudios.txt\n"
     ]
    },
    {
     "data": {
      "text/html": [
       "<div>\n",
       "<style scoped>\n",
       "    .dataframe tbody tr th:only-of-type {\n",
       "        vertical-align: middle;\n",
       "    }\n",
       "\n",
       "    .dataframe tbody tr th {\n",
       "        vertical-align: top;\n",
       "    }\n",
       "\n",
       "    .dataframe thead th {\n",
       "        text-align: right;\n",
       "    }\n",
       "</style>\n",
       "<table border=\"1\" class=\"dataframe\">\n",
       "  <thead>\n",
       "    <tr style=\"text-align: right;\">\n",
       "      <th></th>\n",
       "      <th>Centro de Estudios</th>\n",
       "      <th>Recuento</th>\n",
       "      <th>Porcentaje</th>\n",
       "    </tr>\n",
       "  </thead>\n",
       "  <tbody>\n",
       "    <tr>\n",
       "      <th>0</th>\n",
       "      <td>1.0</td>\n",
       "      <td>5,935,242</td>\n",
       "      <td>84.13</td>\n",
       "    </tr>\n",
       "    <tr>\n",
       "      <th>1</th>\n",
       "      <td>2.0</td>\n",
       "      <td>1,119,743</td>\n",
       "      <td>15.87</td>\n",
       "    </tr>\n",
       "  </tbody>\n",
       "</table>\n",
       "</div>"
      ],
      "text/plain": [
       "   Centro de Estudios   Recuento Porcentaje\n",
       "0                 1.0  5,935,242      84.13\n",
       "1                 2.0  1,119,743      15.87"
      ]
     },
     "execution_count": 25,
     "metadata": {},
     "output_type": "execute_result"
    }
   ],
   "source": [
    "generar_tabla_recuento(base_filtrada, \"Centro_estudios\", \"Centro de Estudios\",guardar_como_jpeg=True, guardar_como_txt=True)\n",
    "#descripcion_nivel_educativo = { 1 Estatal 2 No estatal}"
   ]
  },
  {
   "cell_type": "code",
   "execution_count": 26,
   "id": "829692a5",
   "metadata": {},
   "outputs": [
    {
     "name": "stdout",
     "output_type": "stream",
     "text": [
      "La tabla se ha guardado como imagen en ../output/images\\Idioma.jpeg\n",
      "La tabla se ha guardado como archivo de texto en ../output/tables\\Idioma.txt\n"
     ]
    },
    {
     "data": {
      "text/html": [
       "<div>\n",
       "<style scoped>\n",
       "    .dataframe tbody tr th:only-of-type {\n",
       "        vertical-align: middle;\n",
       "    }\n",
       "\n",
       "    .dataframe tbody tr th {\n",
       "        vertical-align: top;\n",
       "    }\n",
       "\n",
       "    .dataframe thead th {\n",
       "        text-align: right;\n",
       "    }\n",
       "</style>\n",
       "<table border=\"1\" class=\"dataframe\">\n",
       "  <thead>\n",
       "    <tr style=\"text-align: right;\">\n",
       "      <th></th>\n",
       "      <th>Idioma</th>\n",
       "      <th>Recuento</th>\n",
       "      <th>Porcentaje</th>\n",
       "    </tr>\n",
       "  </thead>\n",
       "  <tbody>\n",
       "    <tr>\n",
       "      <th>0</th>\n",
       "      <td>0</td>\n",
       "      <td>560,849</td>\n",
       "      <td>7.95</td>\n",
       "    </tr>\n",
       "    <tr>\n",
       "      <th>1</th>\n",
       "      <td>1</td>\n",
       "      <td>6,494,136</td>\n",
       "      <td>92.05</td>\n",
       "    </tr>\n",
       "  </tbody>\n",
       "</table>\n",
       "</div>"
      ],
      "text/plain": [
       "   Idioma   Recuento Porcentaje\n",
       "0       0    560,849       7.95\n",
       "1       1  6,494,136      92.05"
      ]
     },
     "execution_count": 26,
     "metadata": {},
     "output_type": "execute_result"
    }
   ],
   "source": [
    "generar_tabla_recuento(base_filtrada, \"Idioma\", \"Idioma\",guardar_como_jpeg=True, guardar_como_txt=True)   #{1: \"Castellano\", 0: \"Otros\"}"
   ]
  },
  {
   "cell_type": "code",
   "execution_count": 27,
   "id": "18c84e20",
   "metadata": {},
   "outputs": [
    {
     "name": "stdout",
     "output_type": "stream",
     "text": [
      "La tabla se ha guardado como imagen en ../output/images\\Sexo.jpeg\n"
     ]
    },
    {
     "data": {
      "text/html": [
       "<div>\n",
       "<style scoped>\n",
       "    .dataframe tbody tr th:only-of-type {\n",
       "        vertical-align: middle;\n",
       "    }\n",
       "\n",
       "    .dataframe tbody tr th {\n",
       "        vertical-align: top;\n",
       "    }\n",
       "\n",
       "    .dataframe thead th {\n",
       "        text-align: right;\n",
       "    }\n",
       "</style>\n",
       "<table border=\"1\" class=\"dataframe\">\n",
       "  <thead>\n",
       "    <tr style=\"text-align: right;\">\n",
       "      <th></th>\n",
       "      <th>Sexo</th>\n",
       "      <th>Recuento</th>\n",
       "      <th>Porcentaje</th>\n",
       "    </tr>\n",
       "  </thead>\n",
       "  <tbody>\n",
       "    <tr>\n",
       "      <th>0</th>\n",
       "      <td>0.0</td>\n",
       "      <td>3,587,954</td>\n",
       "      <td>50.86</td>\n",
       "    </tr>\n",
       "    <tr>\n",
       "      <th>1</th>\n",
       "      <td>1.0</td>\n",
       "      <td>3,467,031</td>\n",
       "      <td>49.14</td>\n",
       "    </tr>\n",
       "  </tbody>\n",
       "</table>\n",
       "</div>"
      ],
      "text/plain": [
       "   Sexo   Recuento Porcentaje\n",
       "0   0.0  3,587,954      50.86\n",
       "1   1.0  3,467,031      49.14"
      ]
     },
     "execution_count": 27,
     "metadata": {},
     "output_type": "execute_result"
    }
   ],
   "source": [
    "generar_tabla_recuento(base_filtrada, \"Sexo\", \"Sexo\", guardar_como_jpeg=True)  # 1 Hombre 2 Mujer ###########"
   ]
  },
  {
   "cell_type": "code",
   "execution_count": 28,
   "id": "62fb5ab4",
   "metadata": {},
   "outputs": [
    {
     "name": "stdout",
     "output_type": "stream",
     "text": [
      "La tabla se ha guardado como imagen en ../output/images\\Area.jpeg\n",
      "La tabla se ha guardado como archivo de texto en ../output/tables\\Area.txt\n"
     ]
    },
    {
     "data": {
      "text/html": [
       "<div>\n",
       "<style scoped>\n",
       "    .dataframe tbody tr th:only-of-type {\n",
       "        vertical-align: middle;\n",
       "    }\n",
       "\n",
       "    .dataframe tbody tr th {\n",
       "        vertical-align: top;\n",
       "    }\n",
       "\n",
       "    .dataframe thead th {\n",
       "        text-align: right;\n",
       "    }\n",
       "</style>\n",
       "<table border=\"1\" class=\"dataframe\">\n",
       "  <thead>\n",
       "    <tr style=\"text-align: right;\">\n",
       "      <th></th>\n",
       "      <th>Area</th>\n",
       "      <th>Recuento</th>\n",
       "      <th>Porcentaje</th>\n",
       "    </tr>\n",
       "  </thead>\n",
       "  <tbody>\n",
       "    <tr>\n",
       "      <th>0</th>\n",
       "      <td>0</td>\n",
       "      <td>1,775,518</td>\n",
       "      <td>25.17</td>\n",
       "    </tr>\n",
       "    <tr>\n",
       "      <th>1</th>\n",
       "      <td>1</td>\n",
       "      <td>5,279,466</td>\n",
       "      <td>74.83</td>\n",
       "    </tr>\n",
       "  </tbody>\n",
       "</table>\n",
       "</div>"
      ],
      "text/plain": [
       "   Area   Recuento Porcentaje\n",
       "0     0  1,775,518      25.17\n",
       "1     1  5,279,466      74.83"
      ]
     },
     "execution_count": 28,
     "metadata": {},
     "output_type": "execute_result"
    }
   ],
   "source": [
    "generar_tabla_recuento(base_filtrada, \"AREA\", \"Area\",guardar_como_jpeg=True, guardar_como_txt=True) #{1: \"Urbano\", 0: \"Rural\"}"
   ]
  },
  {
   "cell_type": "code",
   "execution_count": 29,
   "id": "739456e8",
   "metadata": {},
   "outputs": [
    {
     "name": "stdout",
     "output_type": "stream",
     "text": [
      "La tabla se ha guardado como imagen en ../output/images\\Estrato Social.jpeg\n",
      "La tabla se ha guardado como archivo de texto en ../output/tables\\Estrato Social.txt\n"
     ]
    },
    {
     "data": {
      "text/html": [
       "<div>\n",
       "<style scoped>\n",
       "    .dataframe tbody tr th:only-of-type {\n",
       "        vertical-align: middle;\n",
       "    }\n",
       "\n",
       "    .dataframe tbody tr th {\n",
       "        vertical-align: top;\n",
       "    }\n",
       "\n",
       "    .dataframe thead th {\n",
       "        text-align: right;\n",
       "    }\n",
       "</style>\n",
       "<table border=\"1\" class=\"dataframe\">\n",
       "  <thead>\n",
       "    <tr style=\"text-align: right;\">\n",
       "      <th></th>\n",
       "      <th>Estrato Social</th>\n",
       "      <th>Recuento</th>\n",
       "      <th>Porcentaje</th>\n",
       "    </tr>\n",
       "  </thead>\n",
       "  <tbody>\n",
       "    <tr>\n",
       "      <th>0</th>\n",
       "      <td>1</td>\n",
       "      <td>47,133</td>\n",
       "      <td>0.67</td>\n",
       "    </tr>\n",
       "    <tr>\n",
       "      <th>1</th>\n",
       "      <td>2</td>\n",
       "      <td>140,838</td>\n",
       "      <td>2.00</td>\n",
       "    </tr>\n",
       "    <tr>\n",
       "      <th>2</th>\n",
       "      <td>3</td>\n",
       "      <td>487,078</td>\n",
       "      <td>6.90</td>\n",
       "    </tr>\n",
       "    <tr>\n",
       "      <th>3</th>\n",
       "      <td>4</td>\n",
       "      <td>1,851,881</td>\n",
       "      <td>26.25</td>\n",
       "    </tr>\n",
       "    <tr>\n",
       "      <th>4</th>\n",
       "      <td>5</td>\n",
       "      <td>2,752,537</td>\n",
       "      <td>39.02</td>\n",
       "    </tr>\n",
       "    <tr>\n",
       "      <th>5</th>\n",
       "      <td>6</td>\n",
       "      <td>1,775,518</td>\n",
       "      <td>25.17</td>\n",
       "    </tr>\n",
       "  </tbody>\n",
       "</table>\n",
       "</div>"
      ],
      "text/plain": [
       "   Estrato Social   Recuento Porcentaje\n",
       "0               1     47,133       0.67\n",
       "1               2    140,838       2.00\n",
       "2               3    487,078       6.90\n",
       "3               4  1,851,881      26.25\n",
       "4               5  2,752,537      39.02\n",
       "5               6  1,775,518      25.17"
      ]
     },
     "execution_count": 29,
     "metadata": {},
     "output_type": "execute_result"
    }
   ],
   "source": [
    "generar_tabla_recuento(base_filtrada, \"estrsocial\", \"Estrato Social\",guardar_como_jpeg=True, guardar_como_txt=True)\n",
    "# 1 “A” 2 “B” 3 “C” 4 “D” 5 “E” 6 “RURAL”"
   ]
  },
  {
   "cell_type": "code",
   "execution_count": 30,
   "id": "066129bd",
   "metadata": {},
   "outputs": [
    {
     "name": "stdout",
     "output_type": "stream",
     "text": [
      "La tabla se ha guardado como imagen en ../output/images\\Edad.jpeg\n",
      "La tabla se ha guardado como archivo de texto en ../output/tables\\Edad.txt\n"
     ]
    },
    {
     "data": {
      "text/html": [
       "<div>\n",
       "<style scoped>\n",
       "    .dataframe tbody tr th:only-of-type {\n",
       "        vertical-align: middle;\n",
       "    }\n",
       "\n",
       "    .dataframe tbody tr th {\n",
       "        vertical-align: top;\n",
       "    }\n",
       "\n",
       "    .dataframe thead th {\n",
       "        text-align: right;\n",
       "    }\n",
       "</style>\n",
       "<table border=\"1\" class=\"dataframe\">\n",
       "  <thead>\n",
       "    <tr style=\"text-align: right;\">\n",
       "      <th></th>\n",
       "      <th>Edad</th>\n",
       "      <th>Recuento</th>\n",
       "      <th>Porcentaje</th>\n",
       "    </tr>\n",
       "  </thead>\n",
       "  <tbody>\n",
       "    <tr>\n",
       "      <th>0</th>\n",
       "      <td>3.0</td>\n",
       "      <td>208,840</td>\n",
       "      <td>2.96</td>\n",
       "    </tr>\n",
       "    <tr>\n",
       "      <th>1</th>\n",
       "      <td>4.0</td>\n",
       "      <td>374,276</td>\n",
       "      <td>5.31</td>\n",
       "    </tr>\n",
       "    <tr>\n",
       "      <th>2</th>\n",
       "      <td>5.0</td>\n",
       "      <td>459,126</td>\n",
       "      <td>6.51</td>\n",
       "    </tr>\n",
       "    <tr>\n",
       "      <th>3</th>\n",
       "      <td>6.0</td>\n",
       "      <td>443,993</td>\n",
       "      <td>6.29</td>\n",
       "    </tr>\n",
       "    <tr>\n",
       "      <th>4</th>\n",
       "      <td>7.0</td>\n",
       "      <td>505,597</td>\n",
       "      <td>7.17</td>\n",
       "    </tr>\n",
       "    <tr>\n",
       "      <th>5</th>\n",
       "      <td>8.0</td>\n",
       "      <td>467,637</td>\n",
       "      <td>6.63</td>\n",
       "    </tr>\n",
       "    <tr>\n",
       "      <th>6</th>\n",
       "      <td>9.0</td>\n",
       "      <td>536,460</td>\n",
       "      <td>7.60</td>\n",
       "    </tr>\n",
       "    <tr>\n",
       "      <th>7</th>\n",
       "      <td>10.0</td>\n",
       "      <td>558,568</td>\n",
       "      <td>7.92</td>\n",
       "    </tr>\n",
       "    <tr>\n",
       "      <th>8</th>\n",
       "      <td>11.0</td>\n",
       "      <td>547,757</td>\n",
       "      <td>7.76</td>\n",
       "    </tr>\n",
       "    <tr>\n",
       "      <th>9</th>\n",
       "      <td>12.0</td>\n",
       "      <td>602,566</td>\n",
       "      <td>8.54</td>\n",
       "    </tr>\n",
       "    <tr>\n",
       "      <th>10</th>\n",
       "      <td>13.0</td>\n",
       "      <td>552,805</td>\n",
       "      <td>7.84</td>\n",
       "    </tr>\n",
       "    <tr>\n",
       "      <th>11</th>\n",
       "      <td>14.0</td>\n",
       "      <td>577,768</td>\n",
       "      <td>8.19</td>\n",
       "    </tr>\n",
       "    <tr>\n",
       "      <th>12</th>\n",
       "      <td>15.0</td>\n",
       "      <td>579,463</td>\n",
       "      <td>8.21</td>\n",
       "    </tr>\n",
       "    <tr>\n",
       "      <th>13</th>\n",
       "      <td>16.0</td>\n",
       "      <td>447,257</td>\n",
       "      <td>6.34</td>\n",
       "    </tr>\n",
       "    <tr>\n",
       "      <th>14</th>\n",
       "      <td>17.0</td>\n",
       "      <td>154,853</td>\n",
       "      <td>2.19</td>\n",
       "    </tr>\n",
       "    <tr>\n",
       "      <th>15</th>\n",
       "      <td>18.0</td>\n",
       "      <td>38,018</td>\n",
       "      <td>0.54</td>\n",
       "    </tr>\n",
       "  </tbody>\n",
       "</table>\n",
       "</div>"
      ],
      "text/plain": [
       "    Edad Recuento Porcentaje\n",
       "0    3.0  208,840       2.96\n",
       "1    4.0  374,276       5.31\n",
       "2    5.0  459,126       6.51\n",
       "3    6.0  443,993       6.29\n",
       "4    7.0  505,597       7.17\n",
       "5    8.0  467,637       6.63\n",
       "6    9.0  536,460       7.60\n",
       "7   10.0  558,568       7.92\n",
       "8   11.0  547,757       7.76\n",
       "9   12.0  602,566       8.54\n",
       "10  13.0  552,805       7.84\n",
       "11  14.0  577,768       8.19\n",
       "12  15.0  579,463       8.21\n",
       "13  16.0  447,257       6.34\n",
       "14  17.0  154,853       2.19\n",
       "15  18.0   38,018       0.54"
      ]
     },
     "execution_count": 30,
     "metadata": {},
     "output_type": "execute_result"
    }
   ],
   "source": [
    "generar_tabla_recuento(base_filtrada, \"Edad\", \"Edad\" , guardar_como_jpeg=True,  guardar_como_txt=True)##################"
   ]
  },
  {
   "cell_type": "code",
   "execution_count": 31,
   "id": "aae90ee2",
   "metadata": {},
   "outputs": [
    {
     "name": "stdout",
     "output_type": "stream",
     "text": [
      "La tabla se ha guardado como imagen en ../output/images\\Electricidad.jpeg\n",
      "La tabla se ha guardado como archivo de texto en ../output/tables\\Electricidad.txt\n"
     ]
    },
    {
     "data": {
      "text/html": [
       "<div>\n",
       "<style scoped>\n",
       "    .dataframe tbody tr th:only-of-type {\n",
       "        vertical-align: middle;\n",
       "    }\n",
       "\n",
       "    .dataframe tbody tr th {\n",
       "        vertical-align: top;\n",
       "    }\n",
       "\n",
       "    .dataframe thead th {\n",
       "        text-align: right;\n",
       "    }\n",
       "</style>\n",
       "<table border=\"1\" class=\"dataframe\">\n",
       "  <thead>\n",
       "    <tr style=\"text-align: right;\">\n",
       "      <th></th>\n",
       "      <th>Electricidad</th>\n",
       "      <th>Recuento</th>\n",
       "      <th>Porcentaje</th>\n",
       "    </tr>\n",
       "  </thead>\n",
       "  <tbody>\n",
       "    <tr>\n",
       "      <th>0</th>\n",
       "      <td>0.0</td>\n",
       "      <td>340,455</td>\n",
       "      <td>4.83</td>\n",
       "    </tr>\n",
       "    <tr>\n",
       "      <th>1</th>\n",
       "      <td>1.0</td>\n",
       "      <td>6,714,530</td>\n",
       "      <td>95.17</td>\n",
       "    </tr>\n",
       "  </tbody>\n",
       "</table>\n",
       "</div>"
      ],
      "text/plain": [
       "   Electricidad   Recuento Porcentaje\n",
       "0           0.0    340,455       4.83\n",
       "1           1.0  6,714,530      95.17"
      ]
     },
     "execution_count": 31,
     "metadata": {},
     "output_type": "execute_result"
    }
   ],
   "source": [
    "generar_tabla_recuento(base_filtrada, \"p1121\", \"Electricidad\", guardar_como_jpeg=True, guardar_como_txt=True) ##################"
   ]
  },
  {
   "cell_type": "code",
   "execution_count": 32,
   "id": "70318268",
   "metadata": {},
   "outputs": [],
   "source": [
    "# DIMENSIÓN DE ACCESO"
   ]
  },
  {
   "cell_type": "code",
   "execution_count": 33,
   "id": "cea0fcd3",
   "metadata": {},
   "outputs": [],
   "source": [
    "#generar_tabla_recuento(base_filtrada, \"p1144\", \"Internet\", guardar_como_jpeg=True)  # 1:Tiene conexion a INTERNET ###vvvv#"
   ]
  },
  {
   "cell_type": "code",
   "execution_count": 34,
   "id": "3f36de65",
   "metadata": {},
   "outputs": [
    {
     "name": "stdout",
     "output_type": "stream",
     "text": [
      "La tabla se ha guardado como imagen en ../output/images\\Uso Internet7.jpeg\n",
      "La tabla se ha guardado como archivo de texto en ../output/tables\\Uso Internet7.txt\n"
     ]
    },
    {
     "data": {
      "text/html": [
       "<div>\n",
       "<style scoped>\n",
       "    .dataframe tbody tr th:only-of-type {\n",
       "        vertical-align: middle;\n",
       "    }\n",
       "\n",
       "    .dataframe tbody tr th {\n",
       "        vertical-align: top;\n",
       "    }\n",
       "\n",
       "    .dataframe thead th {\n",
       "        text-align: right;\n",
       "    }\n",
       "</style>\n",
       "<table border=\"1\" class=\"dataframe\">\n",
       "  <thead>\n",
       "    <tr style=\"text-align: right;\">\n",
       "      <th></th>\n",
       "      <th>Uso Internet7</th>\n",
       "      <th>Recuento</th>\n",
       "      <th>Porcentaje</th>\n",
       "    </tr>\n",
       "  </thead>\n",
       "  <tbody>\n",
       "    <tr>\n",
       "      <th>0</th>\n",
       "      <td>1.0</td>\n",
       "      <td>4,273,676</td>\n",
       "      <td>71.07</td>\n",
       "    </tr>\n",
       "    <tr>\n",
       "      <th>1</th>\n",
       "      <td>2.0</td>\n",
       "      <td>1,739,855</td>\n",
       "      <td>28.93</td>\n",
       "    </tr>\n",
       "  </tbody>\n",
       "</table>\n",
       "</div>"
      ],
      "text/plain": [
       "   Uso Internet7   Recuento Porcentaje\n",
       "0            1.0  4,273,676      71.07\n",
       "1            2.0  1,739,855      28.93"
      ]
     },
     "execution_count": 34,
     "metadata": {},
     "output_type": "execute_result"
    }
   ],
   "source": [
    "#calcular_porcentaje_hombres_mujeres(base_filtrada,'p314a')\n",
    "generar_tabla_recuento(base_filtrada, \"i_uso\", \"Uso Internet7\",  guardar_como_jpeg=True, guardar_como_txt=True)"
   ]
  },
  {
   "cell_type": "code",
   "execution_count": 35,
   "id": "85886290",
   "metadata": {},
   "outputs": [
    {
     "name": "stdout",
     "output_type": "stream",
     "text": [
      "La tabla se ha guardado como imagen en ../output/images\\Uso de Internet en el hogar.jpeg\n",
      "La tabla se ha guardado como archivo de texto en ../output/tables\\Uso de Internet en el hogar.txt\n"
     ]
    },
    {
     "data": {
      "text/html": [
       "<div>\n",
       "<style scoped>\n",
       "    .dataframe tbody tr th:only-of-type {\n",
       "        vertical-align: middle;\n",
       "    }\n",
       "\n",
       "    .dataframe tbody tr th {\n",
       "        vertical-align: top;\n",
       "    }\n",
       "\n",
       "    .dataframe thead th {\n",
       "        text-align: right;\n",
       "    }\n",
       "</style>\n",
       "<table border=\"1\" class=\"dataframe\">\n",
       "  <thead>\n",
       "    <tr style=\"text-align: right;\">\n",
       "      <th></th>\n",
       "      <th>Uso de Internet en el hogar</th>\n",
       "      <th>Recuento</th>\n",
       "      <th>Porcentaje</th>\n",
       "    </tr>\n",
       "  </thead>\n",
       "  <tbody>\n",
       "    <tr>\n",
       "      <th>0</th>\n",
       "      <td>0.0</td>\n",
       "      <td>1,460,285</td>\n",
       "      <td>74.84</td>\n",
       "    </tr>\n",
       "    <tr>\n",
       "      <th>1</th>\n",
       "      <td>1.0</td>\n",
       "      <td>490,830</td>\n",
       "      <td>25.16</td>\n",
       "    </tr>\n",
       "  </tbody>\n",
       "</table>\n",
       "</div>"
      ],
      "text/plain": [
       "   Uso de Internet en el hogar   Recuento Porcentaje\n",
       "0                          0.0  1,460,285      74.84\n",
       "1                          1.0    490,830      25.16"
      ]
     },
     "execution_count": 35,
     "metadata": {},
     "output_type": "execute_result"
    }
   ],
   "source": [
    "generar_tabla_recuento(base_filtrada, \"i_uso_hog\", \"Uso de Internet en el hogar\",guardar_como_jpeg=True, guardar_como_txt=True)"
   ]
  },
  {
   "cell_type": "code",
   "execution_count": 36,
   "id": "59eb5158",
   "metadata": {},
   "outputs": [
    {
     "name": "stdout",
     "output_type": "stream",
     "text": [
      "La tabla se ha guardado como imagen en ../output/images\\Uso de Internet en el trabajo.jpeg\n",
      "La tabla se ha guardado como archivo de texto en ../output/tables\\Uso de Internet en el trabajo.txt\n"
     ]
    },
    {
     "data": {
      "text/html": [
       "<div>\n",
       "<style scoped>\n",
       "    .dataframe tbody tr th:only-of-type {\n",
       "        vertical-align: middle;\n",
       "    }\n",
       "\n",
       "    .dataframe tbody tr th {\n",
       "        vertical-align: top;\n",
       "    }\n",
       "\n",
       "    .dataframe thead th {\n",
       "        text-align: right;\n",
       "    }\n",
       "</style>\n",
       "<table border=\"1\" class=\"dataframe\">\n",
       "  <thead>\n",
       "    <tr style=\"text-align: right;\">\n",
       "      <th></th>\n",
       "      <th>Uso de Internet en el trabajo</th>\n",
       "      <th>Recuento</th>\n",
       "      <th>Porcentaje</th>\n",
       "    </tr>\n",
       "  </thead>\n",
       "  <tbody>\n",
       "    <tr>\n",
       "      <th>0</th>\n",
       "      <td>0.0</td>\n",
       "      <td>1,948,208</td>\n",
       "      <td>99.85</td>\n",
       "    </tr>\n",
       "    <tr>\n",
       "      <th>1</th>\n",
       "      <td>2.0</td>\n",
       "      <td>2,907</td>\n",
       "      <td>0.15</td>\n",
       "    </tr>\n",
       "  </tbody>\n",
       "</table>\n",
       "</div>"
      ],
      "text/plain": [
       "   Uso de Internet en el trabajo   Recuento Porcentaje\n",
       "0                            0.0  1,948,208      99.85\n",
       "1                            2.0      2,907       0.15"
      ]
     },
     "execution_count": 36,
     "metadata": {},
     "output_type": "execute_result"
    }
   ],
   "source": [
    "generar_tabla_recuento(base_filtrada, \"i_uso_trab\", \"Uso de Internet en el trabajo\",guardar_como_jpeg=True, guardar_como_txt=True)"
   ]
  },
  {
   "cell_type": "code",
   "execution_count": 37,
   "id": "18038ec0",
   "metadata": {},
   "outputs": [
    {
     "name": "stdout",
     "output_type": "stream",
     "text": [
      "La tabla se ha guardado como imagen en ../output/images\\Uso de Internet en el establecimiento educativo.jpeg\n",
      "La tabla se ha guardado como archivo de texto en ../output/tables\\Uso de Internet en el establecimiento educativo.txt\n"
     ]
    },
    {
     "data": {
      "text/html": [
       "<div>\n",
       "<style scoped>\n",
       "    .dataframe tbody tr th:only-of-type {\n",
       "        vertical-align: middle;\n",
       "    }\n",
       "\n",
       "    .dataframe tbody tr th {\n",
       "        vertical-align: top;\n",
       "    }\n",
       "\n",
       "    .dataframe thead th {\n",
       "        text-align: right;\n",
       "    }\n",
       "</style>\n",
       "<table border=\"1\" class=\"dataframe\">\n",
       "  <thead>\n",
       "    <tr style=\"text-align: right;\">\n",
       "      <th></th>\n",
       "      <th>Uso de Internet en el establecimiento educativo</th>\n",
       "      <th>Recuento</th>\n",
       "      <th>Porcentaje</th>\n",
       "    </tr>\n",
       "  </thead>\n",
       "  <tbody>\n",
       "    <tr>\n",
       "      <th>0</th>\n",
       "      <td>0.0</td>\n",
       "      <td>1,946,679</td>\n",
       "      <td>99.77</td>\n",
       "    </tr>\n",
       "    <tr>\n",
       "      <th>1</th>\n",
       "      <td>3.0</td>\n",
       "      <td>4,436</td>\n",
       "      <td>0.23</td>\n",
       "    </tr>\n",
       "  </tbody>\n",
       "</table>\n",
       "</div>"
      ],
      "text/plain": [
       "   Uso de Internet en el establecimiento educativo   Recuento Porcentaje\n",
       "0                                              0.0  1,946,679      99.77\n",
       "1                                              3.0      4,436       0.23"
      ]
     },
     "execution_count": 37,
     "metadata": {},
     "output_type": "execute_result"
    }
   ],
   "source": [
    "generar_tabla_recuento(base_filtrada, \"i_uso_cedu\", \"Uso de Internet en el establecimiento educativo\",guardar_como_jpeg=True, guardar_como_txt=True)"
   ]
  },
  {
   "cell_type": "code",
   "execution_count": 38,
   "id": "883986d2",
   "metadata": {},
   "outputs": [
    {
     "name": "stdout",
     "output_type": "stream",
     "text": [
      "La tabla se ha guardado como imagen en ../output/images\\Cabina Publica.jpeg\n",
      "La tabla se ha guardado como archivo de texto en ../output/tables\\Cabina Publica.txt\n"
     ]
    },
    {
     "data": {
      "text/html": [
       "<div>\n",
       "<style scoped>\n",
       "    .dataframe tbody tr th:only-of-type {\n",
       "        vertical-align: middle;\n",
       "    }\n",
       "\n",
       "    .dataframe tbody tr th {\n",
       "        vertical-align: top;\n",
       "    }\n",
       "\n",
       "    .dataframe thead th {\n",
       "        text-align: right;\n",
       "    }\n",
       "</style>\n",
       "<table border=\"1\" class=\"dataframe\">\n",
       "  <thead>\n",
       "    <tr style=\"text-align: right;\">\n",
       "      <th></th>\n",
       "      <th>Cabina Publica</th>\n",
       "      <th>Recuento</th>\n",
       "      <th>Porcentaje</th>\n",
       "    </tr>\n",
       "  </thead>\n",
       "  <tbody>\n",
       "    <tr>\n",
       "      <th>0</th>\n",
       "      <td>0.0</td>\n",
       "      <td>1,893,321</td>\n",
       "      <td>97.04</td>\n",
       "    </tr>\n",
       "    <tr>\n",
       "      <th>1</th>\n",
       "      <td>4.0</td>\n",
       "      <td>57,794</td>\n",
       "      <td>2.96</td>\n",
       "    </tr>\n",
       "  </tbody>\n",
       "</table>\n",
       "</div>"
      ],
      "text/plain": [
       "   Cabina Publica   Recuento Porcentaje\n",
       "0             0.0  1,893,321      97.04\n",
       "1             4.0     57,794       2.96"
      ]
     },
     "execution_count": 38,
     "metadata": {},
     "output_type": "execute_result"
    }
   ],
   "source": [
    "generar_tabla_recuento(base_filtrada, \"i_uso_cab\", \"Cabina Publica\",guardar_como_jpeg=True, guardar_como_txt=True)"
   ]
  },
  {
   "cell_type": "code",
   "execution_count": 39,
   "id": "54979fa1",
   "metadata": {},
   "outputs": [
    {
     "name": "stdout",
     "output_type": "stream",
     "text": [
      "La tabla se ha guardado como imagen en ../output/images\\Uso del internet en casa de otra persona.jpeg\n",
      "La tabla se ha guardado como archivo de texto en ../output/tables\\Uso del internet en casa de otra persona.txt\n"
     ]
    },
    {
     "data": {
      "text/html": [
       "<div>\n",
       "<style scoped>\n",
       "    .dataframe tbody tr th:only-of-type {\n",
       "        vertical-align: middle;\n",
       "    }\n",
       "\n",
       "    .dataframe tbody tr th {\n",
       "        vertical-align: top;\n",
       "    }\n",
       "\n",
       "    .dataframe thead th {\n",
       "        text-align: right;\n",
       "    }\n",
       "</style>\n",
       "<table border=\"1\" class=\"dataframe\">\n",
       "  <thead>\n",
       "    <tr style=\"text-align: right;\">\n",
       "      <th></th>\n",
       "      <th>Uso del internet en casa de otra persona</th>\n",
       "      <th>Recuento</th>\n",
       "      <th>Porcentaje</th>\n",
       "    </tr>\n",
       "  </thead>\n",
       "  <tbody>\n",
       "    <tr>\n",
       "      <th>0</th>\n",
       "      <td>0.0</td>\n",
       "      <td>1,910,360</td>\n",
       "      <td>97.91</td>\n",
       "    </tr>\n",
       "    <tr>\n",
       "      <th>1</th>\n",
       "      <td>5.0</td>\n",
       "      <td>40,755</td>\n",
       "      <td>2.09</td>\n",
       "    </tr>\n",
       "  </tbody>\n",
       "</table>\n",
       "</div>"
      ],
      "text/plain": [
       "   Uso del internet en casa de otra persona   Recuento Porcentaje\n",
       "0                                       0.0  1,910,360      97.91\n",
       "1                                       5.0     40,755       2.09"
      ]
     },
     "execution_count": 39,
     "metadata": {},
     "output_type": "execute_result"
    }
   ],
   "source": [
    "generar_tabla_recuento(base_filtrada, \"i_uso_casotr\", \"Uso del internet en casa de otra persona\",guardar_como_jpeg=True, guardar_como_txt=True)"
   ]
  },
  {
   "cell_type": "code",
   "execution_count": 40,
   "id": "4af43274",
   "metadata": {},
   "outputs": [
    {
     "name": "stdout",
     "output_type": "stream",
     "text": [
      "La tabla se ha guardado como imagen en ../output/images\\Otro.jpeg\n",
      "La tabla se ha guardado como archivo de texto en ../output/tables\\Otro.txt\n"
     ]
    },
    {
     "data": {
      "text/html": [
       "<div>\n",
       "<style scoped>\n",
       "    .dataframe tbody tr th:only-of-type {\n",
       "        vertical-align: middle;\n",
       "    }\n",
       "\n",
       "    .dataframe tbody tr th {\n",
       "        vertical-align: top;\n",
       "    }\n",
       "\n",
       "    .dataframe thead th {\n",
       "        text-align: right;\n",
       "    }\n",
       "</style>\n",
       "<table border=\"1\" class=\"dataframe\">\n",
       "  <thead>\n",
       "    <tr style=\"text-align: right;\">\n",
       "      <th></th>\n",
       "      <th>Otro</th>\n",
       "      <th>Recuento</th>\n",
       "      <th>Porcentaje</th>\n",
       "    </tr>\n",
       "  </thead>\n",
       "  <tbody>\n",
       "    <tr>\n",
       "      <th>0</th>\n",
       "      <td>0.0</td>\n",
       "      <td>1,929,060</td>\n",
       "      <td>98.87</td>\n",
       "    </tr>\n",
       "    <tr>\n",
       "      <th>1</th>\n",
       "      <td>6.0</td>\n",
       "      <td>22,055</td>\n",
       "      <td>1.13</td>\n",
       "    </tr>\n",
       "  </tbody>\n",
       "</table>\n",
       "</div>"
      ],
      "text/plain": [
       "   Otro   Recuento Porcentaje\n",
       "0   0.0  1,929,060      98.87\n",
       "1   6.0     22,055       1.13"
      ]
     },
     "execution_count": 40,
     "metadata": {},
     "output_type": "execute_result"
    }
   ],
   "source": [
    "generar_tabla_recuento(base_filtrada, \"i_uso_otro\", \"Otro\",guardar_como_jpeg=True, guardar_como_txt=True)"
   ]
  },
  {
   "cell_type": "code",
   "execution_count": 41,
   "id": "6f004976",
   "metadata": {},
   "outputs": [
    {
     "name": "stdout",
     "output_type": "stream",
     "text": [
      "La tabla se ha guardado como imagen en ../output/images\\Uso del internet en Acceso movil de Internet.jpeg\n",
      "La tabla se ha guardado como archivo de texto en ../output/tables\\Uso del internet en Acceso movil de Internet.txt\n"
     ]
    },
    {
     "data": {
      "text/html": [
       "<div>\n",
       "<style scoped>\n",
       "    .dataframe tbody tr th:only-of-type {\n",
       "        vertical-align: middle;\n",
       "    }\n",
       "\n",
       "    .dataframe tbody tr th {\n",
       "        vertical-align: top;\n",
       "    }\n",
       "\n",
       "    .dataframe thead th {\n",
       "        text-align: right;\n",
       "    }\n",
       "</style>\n",
       "<table border=\"1\" class=\"dataframe\">\n",
       "  <thead>\n",
       "    <tr style=\"text-align: right;\">\n",
       "      <th></th>\n",
       "      <th>Uso del internet en Acceso movil de Internet</th>\n",
       "      <th>Recuento</th>\n",
       "      <th>Porcentaje</th>\n",
       "    </tr>\n",
       "  </thead>\n",
       "  <tbody>\n",
       "    <tr>\n",
       "      <th>0</th>\n",
       "      <td>0.0</td>\n",
       "      <td>263,601</td>\n",
       "      <td>13.51</td>\n",
       "    </tr>\n",
       "    <tr>\n",
       "      <th>1</th>\n",
       "      <td>7.0</td>\n",
       "      <td>1,687,514</td>\n",
       "      <td>86.49</td>\n",
       "    </tr>\n",
       "  </tbody>\n",
       "</table>\n",
       "</div>"
      ],
      "text/plain": [
       "   Uso del internet en Acceso movil de Internet   Recuento Porcentaje\n",
       "0                                           0.0    263,601      13.51\n",
       "1                                           7.0  1,687,514      86.49"
      ]
     },
     "execution_count": 41,
     "metadata": {},
     "output_type": "execute_result"
    }
   ],
   "source": [
    "generar_tabla_recuento(base_filtrada, \"i_uso_movil\", \"Uso del internet en Acceso movil de Internet\",guardar_como_jpeg=True, guardar_como_txt=True)"
   ]
  },
  {
   "cell_type": "code",
   "execution_count": 42,
   "id": "66b5f054",
   "metadata": {},
   "outputs": [],
   "source": [
    "###"
   ]
  },
  {
   "cell_type": "code",
   "execution_count": 43,
   "id": "8216bfea",
   "metadata": {},
   "outputs": [
    {
     "name": "stdout",
     "output_type": "stream",
     "text": [
      "La tabla se ha guardado como imagen en ../output/images\\Uso del internet a traves de una computadora.jpeg\n",
      "La tabla se ha guardado como archivo de texto en ../output/tables\\Uso del internet a traves de una computadora.txt\n"
     ]
    },
    {
     "data": {
      "text/html": [
       "<div>\n",
       "<style scoped>\n",
       "    .dataframe tbody tr th:only-of-type {\n",
       "        vertical-align: middle;\n",
       "    }\n",
       "\n",
       "    .dataframe tbody tr th {\n",
       "        vertical-align: top;\n",
       "    }\n",
       "\n",
       "    .dataframe thead th {\n",
       "        text-align: right;\n",
       "    }\n",
       "</style>\n",
       "<table border=\"1\" class=\"dataframe\">\n",
       "  <thead>\n",
       "    <tr style=\"text-align: right;\">\n",
       "      <th></th>\n",
       "      <th>Uso del internet a traves de una computadora</th>\n",
       "      <th>Recuento</th>\n",
       "      <th>Porcentaje</th>\n",
       "    </tr>\n",
       "  </thead>\n",
       "  <tbody>\n",
       "    <tr>\n",
       "      <th>0</th>\n",
       "      <td>0.0</td>\n",
       "      <td>3,692,865</td>\n",
       "      <td>86.41</td>\n",
       "    </tr>\n",
       "    <tr>\n",
       "      <th>1</th>\n",
       "      <td>1.0</td>\n",
       "      <td>580,812</td>\n",
       "      <td>13.59</td>\n",
       "    </tr>\n",
       "  </tbody>\n",
       "</table>\n",
       "</div>"
      ],
      "text/plain": [
       "   Uso del internet a traves de una computadora   Recuento Porcentaje\n",
       "0                                           0.0  3,692,865      86.41\n",
       "1                                           1.0    580,812      13.59"
      ]
     },
     "execution_count": 43,
     "metadata": {},
     "output_type": "execute_result"
    }
   ],
   "source": [
    "generar_tabla_recuento(base_filtrada, \"i_computadora\", \"Uso del internet a traves de una computadora\",guardar_como_jpeg=True, guardar_como_txt=True)"
   ]
  },
  {
   "cell_type": "code",
   "execution_count": 44,
   "id": "fe27d696",
   "metadata": {},
   "outputs": [
    {
     "name": "stdout",
     "output_type": "stream",
     "text": [
      "La tabla se ha guardado como imagen en ../output/images\\Uso del internet a traves de una LAPTOP.jpeg\n",
      "La tabla se ha guardado como archivo de texto en ../output/tables\\Uso del internet a traves de una LAPTOP.txt\n"
     ]
    },
    {
     "data": {
      "text/html": [
       "<div>\n",
       "<style scoped>\n",
       "    .dataframe tbody tr th:only-of-type {\n",
       "        vertical-align: middle;\n",
       "    }\n",
       "\n",
       "    .dataframe tbody tr th {\n",
       "        vertical-align: top;\n",
       "    }\n",
       "\n",
       "    .dataframe thead th {\n",
       "        text-align: right;\n",
       "    }\n",
       "</style>\n",
       "<table border=\"1\" class=\"dataframe\">\n",
       "  <thead>\n",
       "    <tr style=\"text-align: right;\">\n",
       "      <th></th>\n",
       "      <th>Uso del internet a traves de una LAPTOP</th>\n",
       "      <th>Recuento</th>\n",
       "      <th>Porcentaje</th>\n",
       "    </tr>\n",
       "  </thead>\n",
       "  <tbody>\n",
       "    <tr>\n",
       "      <th>0</th>\n",
       "      <td>0.0</td>\n",
       "      <td>3,880,969</td>\n",
       "      <td>90.81</td>\n",
       "    </tr>\n",
       "    <tr>\n",
       "      <th>1</th>\n",
       "      <td>2.0</td>\n",
       "      <td>392,707</td>\n",
       "      <td>9.19</td>\n",
       "    </tr>\n",
       "  </tbody>\n",
       "</table>\n",
       "</div>"
      ],
      "text/plain": [
       "   Uso del internet a traves de una LAPTOP   Recuento Porcentaje\n",
       "0                                      0.0  3,880,969      90.81\n",
       "1                                      2.0    392,707       9.19"
      ]
     },
     "execution_count": 44,
     "metadata": {},
     "output_type": "execute_result"
    }
   ],
   "source": [
    "generar_tabla_recuento(base_filtrada, \"i_laptop\", \"Uso del internet a traves de una LAPTOP\",guardar_como_jpeg=True, guardar_como_txt=True)"
   ]
  },
  {
   "cell_type": "code",
   "execution_count": 45,
   "id": "f0f51377",
   "metadata": {},
   "outputs": [
    {
     "name": "stdout",
     "output_type": "stream",
     "text": [
      "La tabla se ha guardado como imagen en ../output/images\\Uso del internet a traves de una TABLET.jpeg\n",
      "La tabla se ha guardado como archivo de texto en ../output/tables\\Uso del internet a traves de una TABLET.txt\n"
     ]
    },
    {
     "data": {
      "text/html": [
       "<div>\n",
       "<style scoped>\n",
       "    .dataframe tbody tr th:only-of-type {\n",
       "        vertical-align: middle;\n",
       "    }\n",
       "\n",
       "    .dataframe tbody tr th {\n",
       "        vertical-align: top;\n",
       "    }\n",
       "\n",
       "    .dataframe thead th {\n",
       "        text-align: right;\n",
       "    }\n",
       "</style>\n",
       "<table border=\"1\" class=\"dataframe\">\n",
       "  <thead>\n",
       "    <tr style=\"text-align: right;\">\n",
       "      <th></th>\n",
       "      <th>Uso del internet a traves de una TABLET</th>\n",
       "      <th>Recuento</th>\n",
       "      <th>Porcentaje</th>\n",
       "    </tr>\n",
       "  </thead>\n",
       "  <tbody>\n",
       "    <tr>\n",
       "      <th>0</th>\n",
       "      <td>0.0</td>\n",
       "      <td>4,174,996</td>\n",
       "      <td>97.69</td>\n",
       "    </tr>\n",
       "    <tr>\n",
       "      <th>1</th>\n",
       "      <td>6.0</td>\n",
       "      <td>98,680</td>\n",
       "      <td>2.31</td>\n",
       "    </tr>\n",
       "  </tbody>\n",
       "</table>\n",
       "</div>"
      ],
      "text/plain": [
       "   Uso del internet a traves de una TABLET   Recuento Porcentaje\n",
       "0                                      0.0  4,174,996      97.69\n",
       "1                                      6.0     98,680       2.31"
      ]
     },
     "execution_count": 45,
     "metadata": {},
     "output_type": "execute_result"
    }
   ],
   "source": [
    "generar_tabla_recuento(base_filtrada, \"i_tablet\", \"Uso del internet a traves de una TABLET\",guardar_como_jpeg=True, guardar_como_txt=True)"
   ]
  },
  {
   "cell_type": "code",
   "execution_count": 46,
   "id": "a59ff54b",
   "metadata": {},
   "outputs": [
    {
     "name": "stdout",
     "output_type": "stream",
     "text": [
      "La tabla se ha guardado como imagen en ../output/images\\Uso del internet a traves de una OTRO.jpeg\n",
      "La tabla se ha guardado como archivo de texto en ../output/tables\\Uso del internet a traves de una OTRO.txt\n"
     ]
    },
    {
     "data": {
      "text/html": [
       "<div>\n",
       "<style scoped>\n",
       "    .dataframe tbody tr th:only-of-type {\n",
       "        vertical-align: middle;\n",
       "    }\n",
       "\n",
       "    .dataframe tbody tr th {\n",
       "        vertical-align: top;\n",
       "    }\n",
       "\n",
       "    .dataframe thead th {\n",
       "        text-align: right;\n",
       "    }\n",
       "</style>\n",
       "<table border=\"1\" class=\"dataframe\">\n",
       "  <thead>\n",
       "    <tr style=\"text-align: right;\">\n",
       "      <th></th>\n",
       "      <th>Uso del internet a traves de una OTRO</th>\n",
       "      <th>Recuento</th>\n",
       "      <th>Porcentaje</th>\n",
       "    </tr>\n",
       "  </thead>\n",
       "  <tbody>\n",
       "    <tr>\n",
       "      <th>0</th>\n",
       "      <td>0.0</td>\n",
       "      <td>3,447,206</td>\n",
       "      <td>80.66</td>\n",
       "    </tr>\n",
       "    <tr>\n",
       "      <th>1</th>\n",
       "      <td>7.0</td>\n",
       "      <td>826,470</td>\n",
       "      <td>19.34</td>\n",
       "    </tr>\n",
       "  </tbody>\n",
       "</table>\n",
       "</div>"
      ],
      "text/plain": [
       "   Uso del internet a traves de una OTRO   Recuento Porcentaje\n",
       "0                                    0.0  3,447,206      80.66\n",
       "1                                    7.0    826,470      19.34"
      ]
     },
     "execution_count": 46,
     "metadata": {},
     "output_type": "execute_result"
    }
   ],
   "source": [
    "generar_tabla_recuento(base_filtrada, \"i_otro\", \"Uso del internet a traves de una OTRO\",guardar_como_jpeg=True, guardar_como_txt=True)"
   ]
  },
  {
   "cell_type": "code",
   "execution_count": 47,
   "id": "5179049e",
   "metadata": {},
   "outputs": [
    {
     "name": "stdout",
     "output_type": "stream",
     "text": [
      "La tabla se ha guardado como imagen en ../output/images\\Uso del internet a traves de una CELULAR SIN PLAN DE DATOS.jpeg\n",
      "La tabla se ha guardado como archivo de texto en ../output/tables\\Uso del internet a traves de una CELULAR SIN PLAN DE DATOS.txt\n"
     ]
    },
    {
     "data": {
      "text/html": [
       "<div>\n",
       "<style scoped>\n",
       "    .dataframe tbody tr th:only-of-type {\n",
       "        vertical-align: middle;\n",
       "    }\n",
       "\n",
       "    .dataframe tbody tr th {\n",
       "        vertical-align: top;\n",
       "    }\n",
       "\n",
       "    .dataframe thead th {\n",
       "        text-align: right;\n",
       "    }\n",
       "</style>\n",
       "<table border=\"1\" class=\"dataframe\">\n",
       "  <thead>\n",
       "    <tr style=\"text-align: right;\">\n",
       "      <th></th>\n",
       "      <th>Uso del internet a traves de una CELULAR SIN PLAN DE DATOS</th>\n",
       "      <th>Recuento</th>\n",
       "      <th>Porcentaje</th>\n",
       "    </tr>\n",
       "  </thead>\n",
       "  <tbody>\n",
       "    <tr>\n",
       "      <th>0</th>\n",
       "      <td>0.0</td>\n",
       "      <td>2,038,781</td>\n",
       "      <td>47.71</td>\n",
       "    </tr>\n",
       "    <tr>\n",
       "      <th>1</th>\n",
       "      <td>8.0</td>\n",
       "      <td>2,234,896</td>\n",
       "      <td>52.29</td>\n",
       "    </tr>\n",
       "  </tbody>\n",
       "</table>\n",
       "</div>"
      ],
      "text/plain": [
       "   Uso del internet a traves de una CELULAR SIN PLAN DE DATOS   Recuento  \\\n",
       "0                                                0.0           2,038,781   \n",
       "1                                                8.0           2,234,896   \n",
       "\n",
       "  Porcentaje  \n",
       "0      47.71  \n",
       "1      52.29  "
      ]
     },
     "execution_count": 47,
     "metadata": {},
     "output_type": "execute_result"
    }
   ],
   "source": [
    "generar_tabla_recuento(base_filtrada, \"i_cel_sdatos\", \"Uso del internet a traves de una CELULAR SIN PLAN DE DATOS\",guardar_como_jpeg=True, guardar_como_txt=True)"
   ]
  },
  {
   "cell_type": "code",
   "execution_count": 48,
   "id": "91dd43b7",
   "metadata": {},
   "outputs": [
    {
     "name": "stdout",
     "output_type": "stream",
     "text": [
      "La tabla se ha guardado como imagen en ../output/images\\Uso del internet a traves de una CELULAR CON PLAN DE DATOS.jpeg\n",
      "La tabla se ha guardado como archivo de texto en ../output/tables\\Uso del internet a traves de una CELULAR CON PLAN DE DATOS.txt\n"
     ]
    },
    {
     "data": {
      "text/html": [
       "<div>\n",
       "<style scoped>\n",
       "    .dataframe tbody tr th:only-of-type {\n",
       "        vertical-align: middle;\n",
       "    }\n",
       "\n",
       "    .dataframe tbody tr th {\n",
       "        vertical-align: top;\n",
       "    }\n",
       "\n",
       "    .dataframe thead th {\n",
       "        text-align: right;\n",
       "    }\n",
       "</style>\n",
       "<table border=\"1\" class=\"dataframe\">\n",
       "  <thead>\n",
       "    <tr style=\"text-align: right;\">\n",
       "      <th></th>\n",
       "      <th>Uso del internet a traves de una CELULAR CON PLAN DE DATOS</th>\n",
       "      <th>Recuento</th>\n",
       "      <th>Porcentaje</th>\n",
       "    </tr>\n",
       "  </thead>\n",
       "  <tbody>\n",
       "    <tr>\n",
       "      <th>0</th>\n",
       "      <td>0.0</td>\n",
       "      <td>3,423,683</td>\n",
       "      <td>80.11</td>\n",
       "    </tr>\n",
       "    <tr>\n",
       "      <th>1</th>\n",
       "      <td>9.0</td>\n",
       "      <td>849,994</td>\n",
       "      <td>19.89</td>\n",
       "    </tr>\n",
       "  </tbody>\n",
       "</table>\n",
       "</div>"
      ],
      "text/plain": [
       "   Uso del internet a traves de una CELULAR CON PLAN DE DATOS   Recuento  \\\n",
       "0                                                0.0           3,423,683   \n",
       "1                                                9.0             849,994   \n",
       "\n",
       "  Porcentaje  \n",
       "0      80.11  \n",
       "1      19.89  "
      ]
     },
     "execution_count": 48,
     "metadata": {},
     "output_type": "execute_result"
    }
   ],
   "source": [
    "generar_tabla_recuento(base_filtrada, \"i_cel_cdatos\", \"Uso del internet a traves de una CELULAR CON PLAN DE DATOS\",guardar_como_jpeg=True, guardar_como_txt=True)"
   ]
  },
  {
   "cell_type": "code",
   "execution_count": 49,
   "id": "63970d7f",
   "metadata": {},
   "outputs": [],
   "source": [
    "#generar_tabla_recuento(base_filtrada, \"p314b1_5\", \"Uso del internet a traves de una CELULAR DE SU CENTRO DE TRABAJO\", guardar_como_jpeg=True) "
   ]
  },
  {
   "cell_type": "raw",
   "id": "a778c9fa",
   "metadata": {},
   "source": []
  },
  {
   "cell_type": "markdown",
   "id": "932f9ef0",
   "metadata": {},
   "source": [
    "# Graficos"
   ]
  },
  {
   "cell_type": "code",
   "execution_count": 50,
   "id": "303add31",
   "metadata": {},
   "outputs": [
    {
     "name": "stderr",
     "output_type": "stream",
     "text": [
      "C:\\ProgramData\\Anaconda3\\lib\\site-packages\\scipy\\__init__.py:155: UserWarning: A NumPy version >=1.18.5 and <1.25.0 is required for this version of SciPy (detected version 1.26.0\n",
      "  warnings.warn(f\"A NumPy version >={np_minversion} and <{np_maxversion}\"\n"
     ]
    }
   ],
   "source": [
    "import seaborn as sns\n",
    "import matplotlib.pyplot as plt\n",
    "\n",
    "def guardar_histograma_con_pesos(base_de_datos, columna,descriptivo):\n",
    "    # Crear el histograma con pesos\n",
    "    sns.histplot(data=base_de_datos, x=columna, bins=15, kde=True, color='blue', edgecolor='black', \n",
    "                 weights=base_filtrada['factor07'])\n",
    "\n",
    "    # Etiquetas y título\n",
    "    plt.xlabel(f'{descriptivo}')\n",
    "    plt.ylabel('Frecuencia ponderada')\n",
    "    plt.title(f'Histograma {columna}')\n",
    "\n",
    "    # Generar el nombre del archivo de imagen basado en el nombre de la columna\n",
    "    nombre_archivo = f'histograma_{descriptivo}.png'\n",
    "\n",
    "    # Guardar la imagen en la ruta especificada\n",
    "    ruta_guardado = '../output/images/' + nombre_archivo\n",
    "    plt.savefig(ruta_guardado)\n",
    "\n",
    "    # Mostrar el histograma\n",
    "    plt.show()"
   ]
  },
  {
   "cell_type": "code",
   "execution_count": 51,
   "id": "f2079caf",
   "metadata": {},
   "outputs": [
    {
     "data": {
      "image/png": "[encoded data removed]",
      "text/plain": [
       "<Figure size 640x480 with 1 Axes>"
      ]
     },
     "metadata": {},
     "output_type": "display_data"
    }
   ],
   "source": [
    "# Llamada a la función con los argumentos adecuados\n",
    "guardar_histograma_con_pesos(base_filtrada, 'mieperho','Miembros por hogar')"
   ]
  },
  {
   "cell_type": "code",
   "execution_count": 52,
   "id": "0948067c",
   "metadata": {},
   "outputs": [
    {
     "data": {
      "image/png": "[encoded data removed]",
      "text/plain": [
       "<Figure size 640x480 with 1 Axes>"
      ]
     },
     "metadata": {},
     "output_type": "display_data"
    }
   ],
   "source": [
    "# Llamada a la función con los argumentos adecuados\n",
    "guardar_histograma_con_pesos(base_filtrada, 'Edad','Edad')"
   ]
  },
  {
   "cell_type": "code",
   "execution_count": 53,
   "id": "4e85deab",
   "metadata": {},
   "outputs": [],
   "source": [
    "def guardar_graf_barras(columna_categorica):\n",
    "    # Crear el gráfico de barras ponderado\n",
    "    sns.barplot(x=columna_categorica, y='factor07', data=base_filtrada, estimator=sum)\n",
    "\n",
    "    # Etiquetas y título\n",
    "    plt.xlabel('Categoría')\n",
    "    plt.ylabel('Suma de Pesos')\n",
    "    plt.title(f'Gráfico de Barras Ponderado para {columna_categorica}')\n",
    "\n",
    "    # Generar el nombre del archivo de imagen basado en el nombre de la columna\n",
    "    nombre_archivo = f'grafico_barras_ponderado_{columna_categorica}.png'\n",
    "\n",
    "    # Guardar la imagen en la ruta especificada\n",
    "    ruta_guardado = '../output/images/' + nombre_archivo\n",
    "    plt.savefig(ruta_guardado)\n",
    "\n",
    "    # Mostrar el gráfico\n",
    "    plt.show()"
   ]
  },
  {
   "cell_type": "code",
   "execution_count": 54,
   "id": "fb330961",
   "metadata": {},
   "outputs": [
    {
     "data": {
      "image/png": "[encoded data removed]",
      "text/plain": [
       "<Figure size 640x480 with 1 Axes>"
      ]
     },
     "metadata": {},
     "output_type": "display_data"
    }
   ],
   "source": [
    "guardar_graf_barras('Nivel_educativo')"
   ]
  },
  {
   "cell_type": "code",
   "execution_count": 55,
   "id": "fb851343",
   "metadata": {},
   "outputs": [
    {
     "data": {
      "image/png": "[encoded data removed]",
      "text/plain": [
       "<Figure size 640x480 with 1 Axes>"
      ]
     },
     "metadata": {},
     "output_type": "display_data"
    }
   ],
   "source": [
    "guardar_graf_barras('Centro_estudios')"
   ]
  },
  {
   "cell_type": "code",
   "execution_count": 56,
   "id": "b198374e",
   "metadata": {},
   "outputs": [
    {
     "data": {
      "image/png": "[encoded data removed]",
      "text/plain": [
       "<Figure size 640x480 with 1 Axes>"
      ]
     },
     "metadata": {},
     "output_type": "display_data"
    }
   ],
   "source": [
    "guardar_graf_barras('Idioma')"
   ]
  },
  {
   "cell_type": "code",
   "execution_count": 57,
   "id": "64698e3a",
   "metadata": {},
   "outputs": [
    {
     "data": {
      "image/png": "[encoded data removed]",
      "text/plain": [
       "<Figure size 640x480 with 1 Axes>"
      ]
     },
     "metadata": {},
     "output_type": "display_data"
    }
   ],
   "source": [
    "guardar_graf_barras('Sexo')"
   ]
  },
  {
   "cell_type": "code",
   "execution_count": 58,
   "id": "acb742d2",
   "metadata": {},
   "outputs": [
    {
     "data": {
      "image/png": "[encoded data removed]",
      "text/plain": [
       "<Figure size 640x480 with 1 Axes>"
      ]
     },
     "metadata": {},
     "output_type": "display_data"
    }
   ],
   "source": [
    "guardar_graf_barras('AREA')"
   ]
  },
  {
   "cell_type": "code",
   "execution_count": 59,
   "id": "ccd7b96d",
   "metadata": {},
   "outputs": [
    {
     "data": {
      "image/png": "[encoded data removed]",
      "text/plain": [
       "<Figure size 640x480 with 1 Axes>"
      ]
     },
     "metadata": {},
     "output_type": "display_data"
    }
   ],
   "source": [
    "guardar_graf_barras('estrsocial')"
   ]
  },
  {
   "attachments": {
    "image.png": {
     "image/png": "[encoded data removed]"
    }
   },
   "cell_type": "markdown",
   "id": "13eece2e",
   "metadata": {},
   "source": [
    "![image.png](attachment:image.png)"
   ]
  },
  {
   "cell_type": "code",
   "execution_count": 60,
   "id": "5d50f300",
   "metadata": {},
   "outputs": [
    {
     "data": {
      "text/html": [
       "<div>\n",
       "<style scoped>\n",
       "    .dataframe tbody tr th:only-of-type {\n",
       "        vertical-align: middle;\n",
       "    }\n",
       "\n",
       "    .dataframe tbody tr th {\n",
       "        vertical-align: top;\n",
       "    }\n",
       "\n",
       "    .dataframe thead th {\n",
       "        text-align: right;\n",
       "    }\n",
       "</style>\n",
       "<table border=\"1\" class=\"dataframe\">\n",
       "  <thead>\n",
       "    <tr style=\"text-align: right;\">\n",
       "      <th></th>\n",
       "      <th>a</th>\n",
       "      <th>Recuento</th>\n",
       "      <th>Porcentaje</th>\n",
       "    </tr>\n",
       "  </thead>\n",
       "  <tbody>\n",
       "    <tr>\n",
       "      <th>0</th>\n",
       "      <td>0.0</td>\n",
       "      <td>1,946,679</td>\n",
       "      <td>99.77</td>\n",
       "    </tr>\n",
       "    <tr>\n",
       "      <th>1</th>\n",
       "      <td>3.0</td>\n",
       "      <td>4,436</td>\n",
       "      <td>0.23</td>\n",
       "    </tr>\n",
       "  </tbody>\n",
       "</table>\n",
       "</div>"
      ],
      "text/plain": [
       "     a   Recuento Porcentaje\n",
       "0  0.0  1,946,679      99.77\n",
       "1  3.0      4,436       0.23"
      ]
     },
     "execution_count": 60,
     "metadata": {},
     "output_type": "execute_result"
    }
   ],
   "source": [
    "generar_tabla_recuento(base_filtrada,\"i_uso_cedu\",\"a\")"
   ]
  },
  {
   "cell_type": "code",
   "execution_count": 61,
   "id": "f12b5623",
   "metadata": {},
   "outputs": [
    {
     "data": {
      "text/html": [
       "<div>\n",
       "<style scoped>\n",
       "    .dataframe tbody tr th:only-of-type {\n",
       "        vertical-align: middle;\n",
       "    }\n",
       "\n",
       "    .dataframe tbody tr th {\n",
       "        vertical-align: top;\n",
       "    }\n",
       "\n",
       "    .dataframe thead th {\n",
       "        text-align: right;\n",
       "    }\n",
       "</style>\n",
       "<table border=\"1\" class=\"dataframe\">\n",
       "  <thead>\n",
       "    <tr style=\"text-align: right;\">\n",
       "      <th></th>\n",
       "      <th>b</th>\n",
       "      <th>Recuento</th>\n",
       "      <th>Porcentaje</th>\n",
       "    </tr>\n",
       "  </thead>\n",
       "  <tbody>\n",
       "    <tr>\n",
       "      <th>0</th>\n",
       "      <td>0.0</td>\n",
       "      <td>1,948,208</td>\n",
       "      <td>99.85</td>\n",
       "    </tr>\n",
       "    <tr>\n",
       "      <th>1</th>\n",
       "      <td>2.0</td>\n",
       "      <td>2,907</td>\n",
       "      <td>0.15</td>\n",
       "    </tr>\n",
       "  </tbody>\n",
       "</table>\n",
       "</div>"
      ],
      "text/plain": [
       "     b   Recuento Porcentaje\n",
       "0  0.0  1,948,208      99.85\n",
       "1  2.0      2,907       0.15"
      ]
     },
     "execution_count": 61,
     "metadata": {},
     "output_type": "execute_result"
    }
   ],
   "source": [
    "generar_tabla_recuento(base_filtrada,\"i_uso_trab\",\"b\")"
   ]
  },
  {
   "cell_type": "code",
   "execution_count": 62,
   "id": "c0ab2655",
   "metadata": {},
   "outputs": [
    {
     "data": {
      "text/plain": [
       "dtype('float64')"
      ]
     },
     "execution_count": 62,
     "metadata": {},
     "output_type": "execute_result"
    }
   ],
   "source": [
    "base_filtrada.i_uso_cedu.dtype"
   ]
  },
  {
   "cell_type": "code",
   "execution_count": 63,
   "id": "7d05a0d8",
   "metadata": {},
   "outputs": [],
   "source": [
    "import pandas as pd\n",
    "\n",
    "base_filtrada['i_uso_cedu'] = base_filtrada['i_uso_cedu'].replace(3.0, 1.0)"
   ]
  },
  {
   "cell_type": "code",
   "execution_count": 64,
   "id": "898060b4",
   "metadata": {},
   "outputs": [],
   "source": [
    "base_filtrada['i_uso_trab'] = base_filtrada['i_uso_trab'].replace(2.0, 1.0)"
   ]
  },
  {
   "cell_type": "code",
   "execution_count": 65,
   "id": "338e7241",
   "metadata": {},
   "outputs": [
    {
     "data": {
      "text/plain": [
       "8      0.0\n",
       "9      NaN\n",
       "124    0.0\n",
       "229    NaN\n",
       "230    NaN\n",
       "Name: i_uso_cedu, dtype: float64"
      ]
     },
     "execution_count": 65,
     "metadata": {},
     "output_type": "execute_result"
    }
   ],
   "source": [
    "base_filtrada['i_uso_cedu'].head()"
   ]
  },
  {
   "cell_type": "code",
   "execution_count": null,
   "id": "8874d436",
   "metadata": {},
   "outputs": [],
   "source": []
  },
  {
   "cell_type": "code",
   "execution_count": null,
   "id": "087ce9ba",
   "metadata": {},
   "outputs": [],
   "source": []
  },
  {
   "cell_type": "code",
   "execution_count": null,
   "id": "fb6ca67b",
   "metadata": {},
   "outputs": [],
   "source": []
  },
  {
   "cell_type": "markdown",
   "id": "fa9e36b7",
   "metadata": {},
   "source": [
    "# Regresión"
   ]
  },
  {
   "cell_type": "code",
   "execution_count": 66,
   "id": "b99532ab",
   "metadata": {},
   "outputs": [],
   "source": [
    "# Modelo Probit"
   ]
  },
  {
   "cell_type": "code",
   "execution_count": 67,
   "id": "e121013f",
   "metadata": {},
   "outputs": [
    {
     "name": "stdout",
     "output_type": "stream",
     "text": [
      "Número de valores faltantes en 'i_uso_hog': 20647\n"
     ]
    }
   ],
   "source": [
    "base_filtrada['i_uso_hog'].value_counts()\n",
    "missing_values = base_filtrada['i_uso_hog'].isna().sum()\n",
    "print(\"Número de valores faltantes en 'i_uso_hog':\", missing_values)"
   ]
  },
  {
   "cell_type": "code",
   "execution_count": 68,
   "id": "d37e9a4f",
   "metadata": {},
   "outputs": [],
   "source": [
    "base_filtrada = base_filtrada.dropna(subset=['i_uso_hog'])\n",
    "weights = base_filtrada['factor07']"
   ]
  },
  {
   "cell_type": "code",
   "execution_count": 69,
   "id": "d4268ddb",
   "metadata": {},
   "outputs": [],
   "source": [
    "import statsmodels.api as sm\n",
    "# Definir las variables dependientes, independientes y los pesos\n",
    "y = base_filtrada['i_uso_hog']\n",
    "X = base_filtrada[['mieperho','Nivel_educativo','Centro_estudios','Idioma','Sexo','AREA','estrsocial','Edad','p1121']] \n",
    "#X = base_filtrada[['mieperho','p308a','p308d','p300a','p207','AREA','estrsocial','p208a','p1121']]  # Agrega aquí tus otras variables independientes\n"
   ]
  },
  {
   "cell_type": "code",
   "execution_count": 70,
   "id": "dd0178a0",
   "metadata": {},
   "outputs": [],
   "source": [
    "# los nombres de las variables deben respresentar al menos una idea de lo que represento\n",
    "# Revisar qué variables son categoricas y continuas \n"
   ]
  },
  {
   "cell_type": "code",
   "execution_count": 71,
   "id": "e9733904",
   "metadata": {},
   "outputs": [
    {
     "name": "stdout",
     "output_type": "stream",
     "text": [
      "                                 OLS Regression Results                                \n",
      "=======================================================================================\n",
      "Dep. Variable:              i_uso_hog   R-squared (uncentered):                   0.444\n",
      "Model:                            OLS   Adj. R-squared (uncentered):              0.443\n",
      "Method:                 Least Squares   F-statistic:                              554.0\n",
      "Date:                Wed, 27 Sep 2023   Prob (F-statistic):                        0.00\n",
      "Time:                        20:23:46   Log-Likelihood:                         -2455.1\n",
      "No. Observations:                6252   AIC:                                      4928.\n",
      "Df Residuals:                    6243   BIC:                                      4989.\n",
      "Df Model:                           9                                                  \n",
      "Covariance Type:            nonrobust                                                  \n",
      "===================================================================================\n",
      "                      coef    std err          t      P>|t|      [0.025      0.975]\n",
      "-----------------------------------------------------------------------------------\n",
      "mieperho           -0.0029      0.003     -1.123      0.261      -0.008       0.002\n",
      "Nivel_educativo     0.0493      0.015      3.230      0.001       0.019       0.079\n",
      "Centro_estudios     0.3332      0.011     29.215      0.000       0.311       0.356\n",
      "Idioma              0.0527      0.019      2.838      0.005       0.016       0.089\n",
      "Sexo                0.0212      0.009      2.342      0.019       0.003       0.039\n",
      "AREA               -0.0050      0.014     -0.364      0.716      -0.032       0.022\n",
      "estrsocial         -0.0987      0.004    -24.789      0.000      -0.107      -0.091\n",
      "Edad                0.0016      0.003      0.581      0.561      -0.004       0.007\n",
      "p1121               0.1041      0.024      4.303      0.000       0.057       0.151\n",
      "==============================================================================\n",
      "Omnibus:                      655.741   Durbin-Watson:                   1.491\n",
      "Prob(Omnibus):                  0.000   Jarque-Bera (JB):              877.806\n",
      "Skew:                           0.880   Prob(JB):                    2.44e-191\n",
      "Kurtosis:                       3.522   Cond. No.                         80.8\n",
      "==============================================================================\n",
      "\n",
      "Notes:\n",
      "[1] R² is computed without centering (uncentered) since the model does not contain a constant.\n",
      "[2] Standard Errors assume that the covariance matrix of the errors is correctly specified.\n"
     ]
    }
   ],
   "source": [
    "model = sm.OLS(y, X).fit()\n",
    "print(model.summary())"
   ]
  },
  {
   "cell_type": "code",
   "execution_count": 72,
   "id": "c691d1de",
   "metadata": {},
   "outputs": [
    {
     "name": "stdout",
     "output_type": "stream",
     "text": [
      "                 Generalized Linear Model Regression Results                  \n",
      "==============================================================================\n",
      "Dep. Variable:              i_uso_hog   No. Observations:                 6252\n",
      "Model:                            GLM   Df Residuals:                     6243\n",
      "Model Family:                Binomial   Df Model:                            8\n",
      "Link Function:                  Logit   Scale:                          1.0000\n",
      "Method:                          IRLS   Log-Likelihood:                -2536.8\n",
      "Date:                Wed, 27 Sep 2023   Deviance:                       5073.7\n",
      "Time:                        20:23:46   Pearson chi2:                 5.95e+03\n",
      "No. Iterations:                     6   Pseudo R-squ. (CS):             0.2361\n",
      "Covariance Type:            nonrobust                                         \n",
      "===================================================================================\n",
      "                      coef    std err          z      P>|z|      [0.025      0.975]\n",
      "-----------------------------------------------------------------------------------\n",
      "mieperho           -0.0880      0.021     -4.264      0.000      -0.128      -0.048\n",
      "Nivel_educativo     0.1573      0.120      1.310      0.190      -0.078       0.393\n",
      "Centro_estudios     1.3613      0.076     17.839      0.000       1.212       1.511\n",
      "Idioma              0.0666      0.210      0.317      0.751      -0.345       0.479\n",
      "Sexo                0.1070      0.071      1.512      0.130      -0.032       0.246\n",
      "AREA                0.5420      0.153      3.533      0.000       0.241       0.843\n",
      "estrsocial         -0.7179      0.031    -22.860      0.000      -0.779      -0.656\n",
      "Edad               -0.0012      0.021     -0.055      0.956      -0.043       0.040\n",
      "p1121              -0.3941      0.249     -1.582      0.114      -0.882       0.094\n",
      "===================================================================================\n"
     ]
    },
    {
     "name": "stderr",
     "output_type": "stream",
     "text": [
      "C:\\ProgramData\\Anaconda3\\lib\\site-packages\\statsmodels\\base\\model.py:127: ValueWarning: unknown kwargs ['weights']\n",
      "  warnings.warn(msg, ValueWarning)\n"
     ]
    }
   ],
   "source": [
    "# Realizar la regresión probit ponderada\n",
    "model = sm.GLM(y, X, family=sm.families.Binomial(), weights=weights)\n",
    "results = model.fit()\n",
    "\n",
    "# Imprimir los resultados de la regresión probit\n",
    "print(results.summary())"
   ]
  },
  {
   "cell_type": "code",
   "execution_count": 73,
   "id": "aa63d0ce",
   "metadata": {},
   "outputs": [
    {
     "name": "stdout",
     "output_type": "stream",
     "text": [
      "                            WLS Regression Results                            \n",
      "==============================================================================\n",
      "Dep. Variable:              i_uso_hog   R-squared:                       0.232\n",
      "Model:                            WLS   Adj. R-squared:                  0.231\n",
      "Method:                 Least Squares   F-statistic:                     209.5\n",
      "Date:                Wed, 27 Sep 2023   Prob (F-statistic):               0.00\n",
      "Time:                        20:23:46   Log-Likelihood:                -4548.6\n",
      "No. Observations:                6252   AIC:                             9117.\n",
      "Df Residuals:                    6242   BIC:                             9185.\n",
      "Df Model:                           9                                         \n",
      "Covariance Type:            nonrobust                                         \n",
      "===================================================================================\n",
      "                      coef    std err          t      P>|t|      [0.025      0.975]\n",
      "-----------------------------------------------------------------------------------\n",
      "const               0.4137      0.066      6.294      0.000       0.285       0.543\n",
      "mieperho           -0.0029      0.003     -1.028      0.304      -0.008       0.003\n",
      "Nivel_educativo     0.0296      0.016      1.805      0.071      -0.003       0.062\n",
      "Centro_estudios     0.2779      0.012     22.738      0.000       0.254       0.302\n",
      "Idioma              0.0285      0.025      1.121      0.262      -0.021       0.078\n",
      "Sexo                0.0277      0.010      2.874      0.004       0.009       0.047\n",
      "AREA               -0.0579      0.018     -3.216      0.001      -0.093      -0.023\n",
      "estrsocial         -0.1414      0.006    -22.357      0.000      -0.154      -0.129\n",
      "Edad                0.0025      0.003      0.873      0.383      -0.003       0.008\n",
      "p1121               0.0546      0.037      1.465      0.143      -0.018       0.128\n",
      "==============================================================================\n",
      "Omnibus:                     1586.973   Durbin-Watson:                   1.518\n",
      "Prob(Omnibus):                  0.000   Jarque-Bera (JB):             5498.407\n",
      "Skew:                           1.254   Prob(JB):                         0.00\n",
      "Kurtosis:                       6.849   Cond. No.                         207.\n",
      "==============================================================================\n",
      "\n",
      "Notes:\n",
      "[1] Standard Errors assume that the covariance matrix of the errors is correctly specified.\n"
     ]
    }
   ],
   "source": [
    "# Agregar una constante al conjunto de datos (intercepto)\n",
    "X = sm.add_constant(X)\n",
    "\n",
    "# Ajustar el modelo Logit ponderado\n",
    "model_logit = sm.WLS(y, X, weights=weights)\n",
    "results_logit = model_logit.fit()\n",
    "\n",
    "# Imprimir los resultados del modelo Logit\n",
    "print(results_logit.summary())"
   ]
  },
  {
   "cell_type": "code",
   "execution_count": 74,
   "id": "7f4770d9",
   "metadata": {},
   "outputs": [
    {
     "name": "stderr",
     "output_type": "stream",
     "text": [
      "C:\\ProgramData\\Anaconda3\\lib\\site-packages\\statsmodels\\base\\model.py:127: ValueWarning: unknown kwargs ['weights']\n",
      "  warnings.warn(msg, ValueWarning)\n"
     ]
    },
    {
     "name": "stdout",
     "output_type": "stream",
     "text": [
      "Warning: Maximum number of iterations has been exceeded.\n",
      "         Current function value: 0.399695\n",
      "         Iterations: 35\n",
      "                          Probit Regression Results                           \n",
      "==============================================================================\n",
      "Dep. Variable:              i_uso_hog   No. Observations:                 6252\n",
      "Model:                         Probit   Df Residuals:                     6242\n",
      "Method:                           MLE   Df Model:                            9\n",
      "Date:                Wed, 27 Sep 2023   Pseudo R-squ.:                  0.2604\n",
      "Time:                        20:23:46   Log-Likelihood:                -2498.9\n",
      "converged:                      False   LL-Null:                       -3378.8\n",
      "Covariance Type:            nonrobust   LLR p-value:                     0.000\n",
      "===================================================================================\n",
      "                      coef    std err          z      P>|z|      [0.025      0.975]\n",
      "-----------------------------------------------------------------------------------\n",
      "const              -7.3467   2034.562     -0.004      0.997   -3995.014    3980.321\n",
      "mieperho           -0.0262      0.012     -2.189      0.029      -0.050      -0.003\n",
      "Nivel_educativo     0.1739      0.070      2.498      0.013       0.037       0.310\n",
      "Centro_estudios     0.9069      0.047     19.293      0.000       0.815       0.999\n",
      "Idioma              0.4835      0.153      3.159      0.002       0.184       0.783\n",
      "Sexo                0.0808      0.040      1.999      0.046       0.002       0.160\n",
      "AREA                0.3267      0.078      4.180      0.000       0.174       0.480\n",
      "estrsocial         -0.3525      0.021    -17.058      0.000      -0.393      -0.312\n",
      "Edad                0.0017      0.012      0.139      0.890      -0.022       0.025\n",
      "p1121               5.8919   2034.561      0.003      0.998   -3981.775    3993.559\n",
      "===================================================================================\n"
     ]
    },
    {
     "name": "stderr",
     "output_type": "stream",
     "text": [
      "C:\\ProgramData\\Anaconda3\\lib\\site-packages\\statsmodels\\base\\model.py:604: ConvergenceWarning: Maximum Likelihood optimization failed to converge. Check mle_retvals\n",
      "  warnings.warn(\"Maximum Likelihood optimization failed to \"\n",
      "C:\\ProgramData\\Anaconda3\\lib\\site-packages\\statsmodels\\base\\model.py:127: ValueWarning: unknown kwargs ['weights']\n",
      "  warnings.warn(msg, ValueWarning)\n"
     ]
    }
   ],
   "source": [
    "# Agregar una constante al conjunto de datos (intercepto)\n",
    "X = sm.add_constant(X)\n",
    "\n",
    "# Ajustar el modelo Probit ponderado\n",
    "model_probit = sm.Probit(y, X, weights=weights)\n",
    "results_probit = model_probit.fit()\n",
    "\n",
    "# Imprimir los resultados del modelo Probit\n",
    "print(results_probit.summary())\n"
   ]
  },
  {
   "cell_type": "code",
   "execution_count": 75,
   "id": "a42b9ec8",
   "metadata": {},
   "outputs": [
    {
     "name": "stdout",
     "output_type": "stream",
     "text": [
      "                            WLS Regression Results                            \n",
      "==============================================================================\n",
      "Dep. Variable:              i_uso_hog   R-squared:                       0.232\n",
      "Model:                            WLS   Adj. R-squared:                  0.231\n",
      "Method:                 Least Squares   F-statistic:                     209.5\n",
      "Date:                Wed, 27 Sep 2023   Prob (F-statistic):               0.00\n",
      "Time:                        20:23:46   Log-Likelihood:                -4548.6\n",
      "No. Observations:                6252   AIC:                             9117.\n",
      "Df Residuals:                    6242   BIC:                             9185.\n",
      "Df Model:                           9                                         \n",
      "Covariance Type:            nonrobust                                         \n",
      "===================================================================================\n",
      "                      coef    std err          t      P>|t|      [0.025      0.975]\n",
      "-----------------------------------------------------------------------------------\n",
      "Intercept           0.4137      0.066      6.294      0.000       0.285       0.543\n",
      "mieperho           -0.0029      0.003     -1.028      0.304      -0.008       0.003\n",
      "Nivel_educativo     0.0296      0.016      1.805      0.071      -0.003       0.062\n",
      "Centro_estudios     0.2779      0.012     22.738      0.000       0.254       0.302\n",
      "Idioma              0.0285      0.025      1.121      0.262      -0.021       0.078\n",
      "Sexo                0.0277      0.010      2.874      0.004       0.009       0.047\n",
      "AREA               -0.0579      0.018     -3.216      0.001      -0.093      -0.023\n",
      "estrsocial         -0.1414      0.006    -22.357      0.000      -0.154      -0.129\n",
      "Edad                0.0025      0.003      0.873      0.383      -0.003       0.008\n",
      "p1121               0.0546      0.037      1.465      0.143      -0.018       0.128\n",
      "==============================================================================\n",
      "Omnibus:                     1586.973   Durbin-Watson:                   1.518\n",
      "Prob(Omnibus):                  0.000   Jarque-Bera (JB):             5498.407\n",
      "Skew:                           1.254   Prob(JB):                         0.00\n",
      "Kurtosis:                       6.849   Cond. No.                         207.\n",
      "==============================================================================\n",
      "\n",
      "Notes:\n",
      "[1] Standard Errors assume that the covariance matrix of the errors is correctly specified.\n"
     ]
    },
    {
     "name": "stderr",
     "output_type": "stream",
     "text": [
      "C:\\ProgramData\\Anaconda3\\lib\\site-packages\\statsmodels\\base\\model.py:127: ValueWarning: unknown kwargs ['family']\n",
      "  warnings.warn(msg, ValueWarning)\n"
     ]
    }
   ],
   "source": [
    "import statsmodels.api as sm\n",
    "import statsmodels.formula.api as smf\n",
    "import pandas as pd\n",
    "\n",
    "# Cargar tus datos desde un archivo o DataFrame\n",
    "# data = pd.read_csv('tu_archivo.csv')\n",
    "\n",
    "# Definir las variables que serán utilizadas en el modelo\n",
    "# En este ejemplo, supongamos que 'p314b_1' es tu variable dependiente y que las demás son tus variables independientes\n",
    "formula = 'i_uso_hog ~ mieperho + Nivel_educativo + Centro_estudios + Idioma + Sexo + AREA + estrsocial + Edad + p1121'\n",
    "\n",
    "# Definir los pesos de la encuesta (pweight)\n",
    "weights = base_filtrada['factor07']\n",
    "\n",
    "# Ajustar el modelo Probit ponderado\n",
    "model = smf.wls(formula=formula, data=base_filtrada, weights=weights, family=sm.families.Binomial())\n",
    "results = model.fit()\n",
    "\n",
    "# Imprimir los resultados de la regresión Probit ponderada\n",
    "print(results.summary())\n"
   ]
  },
  {
   "cell_type": "code",
   "execution_count": null,
   "id": "902367ba",
   "metadata": {},
   "outputs": [],
   "source": []
  },
  {
   "cell_type": "code",
   "execution_count": null,
   "id": "34829c63",
   "metadata": {},
   "outputs": [],
   "source": []
  },
  {
   "cell_type": "code",
   "execution_count": null,
   "id": "7741e281",
   "metadata": {},
   "outputs": [],
   "source": []
  }
 ],
 "metadata": {
  "kernelspec": {
   "display_name": "Python 3 (ipykernel)",
   "language": "python",
   "name": "python3"
  },
  "language_info": {
   "codemirror_mode": {
    "name": "ipython",
    "version": 3
   },
   "file_extension": ".py",
   "mimetype": "text/x-python",
   "name": "python",
   "nbconvert_exporter": "python",
   "pygments_lexer": "ipython3",
   "version": "3.9.13"
  }
 },
 "nbformat": 4,
 "nbformat_minor": 5
}
