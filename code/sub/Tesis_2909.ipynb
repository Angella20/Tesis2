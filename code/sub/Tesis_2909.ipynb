{
 "cells": [
  {
   "cell_type": "markdown",
   "id": "85b16d18-7f03-4f1f-ac05-007b2244a654",
   "metadata": {
    "tags": []
   },
   "source": [
    "# Librerias"
   ]
  },
  {
   "cell_type": "code",
   "execution_count": 124,
   "id": "7244ff7e",
   "metadata": {},
   "outputs": [],
   "source": [
    "import os\n",
    "import seaborn as sns\n",
    "import pandas as pd\n",
    "import warnings\n",
    "import statsmodels.api as sm\n",
    "from tabulate import tabulate\n",
    "import matplotlib.pyplot as plt\n",
    "import seaborn as sns\n",
    "import matplotlib.pyplot as plt\n",
    "import pandas as pd\n",
    "import matplotlib.patches as patches\n",
    "\n",
    "import statsmodels.formula.api as smf\n",
    "\n",
    "warnings.filterwarnings(\"ignore\", category=FutureWarning)"
   ]
  },
  {
   "cell_type": "markdown",
   "id": "e06259cd-5d23-4779-bb59-769d91dac83e",
   "metadata": {
    "tags": []
   },
   "source": [
    "# Modulos"
   ]
  },
  {
   "cell_type": "code",
   "execution_count": 125,
   "id": "e7b700d1",
   "metadata": {},
   "outputs": [],
   "source": [
    "modulo_hogar = pd.read_stata(\"../input/enaho01-2020-100.dta\", convert_categoricals=False)\n",
    "columnas_interes = ['conglome','vivienda','hogar','ubigeo','p1121','p1123','p1124','p1125','p1126','p1127',\n",
    "                    'p1142','p1144']\n",
    "modulo_hogar = modulo_hogar[columnas_interes]\n",
    "\n",
    "# Variables de interés: Parentesco Sexo y Edad\n",
    "modulo_miembros = pd.read_stata(\"../input/enaho01-2020-200.dta\", convert_categoricals=False)\n",
    "columnas_interes_miembros = ['conglome','vivienda','hogar','ubigeo','codperso',\"p203b\",\"p207\",'p208a']\n",
    "modulo_miembros = modulo_miembros[columnas_interes_miembros]\n",
    "\n",
    "# Variables de interés\n",
    "modulo_educa = pd.read_stata(\"../input/enaho01a-2020-300.dta\", convert_categoricals=False)\n",
    "columnas_interes_educa = ['conglome','vivienda','hogar','codperso','ubigeo','dominio','estrato',\"p301c\",\"p300a\",\"p304b\",\"p304a\",\n",
    "                          \"p308c\",\"p308b\", \"p315a\",\"p315b\",\n",
    "    \"p307a1\",\"p307a2\",\"p307a3\",\"p307a4\",\"p307a4_5\",\"p307a4_6\",\"p307a4_7\",\"p307b1\",\"p307b2\",\"p307b3\",\"p307b4\",\"p307b4_5\",\"p307b4_6\",\"p307b4_7\",\n",
    "    \"p308a\",\"p308d\",\"p314a\",\"p314b_1\",\"p314b_2\",\"p314b_3\",\"p314b_4\",\"p314b_5\",\"p314b_6\",\"p314b_7\",\n",
    "    \"p314b1_1\",\"p314b1_2\",\"p314b1_8\",\"p314b1_9\",\"p314b1_6\",\"p314b1_7\",\"p314d\",\n",
    "                          \"p316_1\",\"p316_2\", \"p316_3\",\"p316_4\",\"p316_5\",\n",
    "    \"p316_6\",\"p316_7\",\"p316_8\",\"p316_9\",\"p316_10\",\"p316_11\",\"p316_12\",\"p316a1\",\"p316b\",\"p316c1\",\"p316c2\",\"p316c3\",\"p316c4\",\n",
    "    \"p316c5\",\"p316c6\",\"p316c7\",\"p316c8\",\"p316c9\",\"p316c10\",\"t313a\", \"factor07\"]\n",
    "modulo_educa = modulo_educa[columnas_interes_educa]\n",
    "\n",
    "sumaria = pd.read_stata(\"../input/sumaria-2020.dta\", convert_categoricals=False)\n",
    "columnas_interes_sumaria = ['conglome', 'vivienda', 'hogar','ubigeo','estrsocial','mieperho','totmieho']\n",
    "sumaria = sumaria[columnas_interes_sumaria]"
   ]
  },
  {
   "cell_type": "code",
   "execution_count": 141,
   "id": "1add4f74-c214-44d1-93ee-581ab5ff5c02",
   "metadata": {},
   "outputs": [
    {
     "data": {
      "text/plain": [
       "Index(['conglome', 'vivienda', 'hogar', 'codperso', 'ubigeo', 'dominio',\n",
       "       'estrato', 'p301c', 'p300a', 'p304b', 'p304a', 'p308c', 'p308b',\n",
       "       'p315a', 'p315b', 'p307a1', 'p307a2', 'p307a3', 'p307a4', 'p307a4_5',\n",
       "       'p307a4_6', 'p307a4_7', 'p307b1', 'p307b2', 'p307b3', 'p307b4',\n",
       "       'p307b4_5', 'p307b4_6', 'p307b4_7', 'p308a', 'p308d', 'p314a',\n",
       "       'p314b_1', 'p314b_2', 'p314b_3', 'p314b_4', 'p314b_5', 'p314b_6',\n",
       "       'p314b_7', 'p314b1_1', 'p314b1_2', 'p314b1_8', 'p314b1_9', 'p314b1_6',\n",
       "       'p314b1_7', 'p314d', 'p316_1', 'p316_2', 'p316_3', 'p316_4', 'p316_5',\n",
       "       'p316_6', 'p316_7', 'p316_8', 'p316_9', 'p316_10', 'p316_11', 'p316_12',\n",
       "       'p316a1', 'p316b', 'p316c1', 'p316c2', 'p316c3', 'p316c4', 'p316c5',\n",
       "       'p316c6', 'p316c7', 'p316c8', 'p316c9', 'p316c10', 't313a', 'factor07'],\n",
       "      dtype='object')"
      ]
     },
     "execution_count": 141,
     "metadata": {},
     "output_type": "execute_result"
    }
   ],
   "source": [
    "modulo_educa.columns"
   ]
  },
  {
   "cell_type": "code",
   "execution_count": null,
   "id": "4a16614a-5797-4b00-ada6-fd1b101dab7b",
   "metadata": {},
   "outputs": [],
   "source": []
  },
  {
   "cell_type": "code",
   "execution_count": null,
   "id": "226d20e5-98b6-4463-9c86-a136e3151897",
   "metadata": {},
   "outputs": [],
   "source": []
  },
  {
   "cell_type": "markdown",
   "id": "b0f9992e-02eb-4530-b2a4-ffe92becbb10",
   "metadata": {},
   "source": [
    "## Merge"
   ]
  },
  {
   "cell_type": "code",
   "execution_count": 126,
   "id": "d33b6f8f",
   "metadata": {},
   "outputs": [],
   "source": [
    "# Realizar el merge version final 2\n",
    "# Primero, unir modulo_hogar y modulo_miembros usando las columnas comunes\n",
    "merged_data1 = pd.merge(modulo_educa, modulo_miembros, on=['conglome', 'vivienda', 'hogar', 'ubigeo','codperso'], how='inner')\n",
    "\n",
    "# Luego, unir el resultado anterior con modulo_educa\n",
    "merged_data2 = pd.merge(sumaria, modulo_hogar, on=['conglome', 'vivienda', 'hogar', 'ubigeo'], how='inner')\n",
    "\n",
    "# Finalmente, unir el resultado anterior con sumaria\n",
    "merged_data = pd.merge(merged_data1, merged_data2, on=['conglome', 'vivienda', 'hogar', 'ubigeo'], how='left')"
   ]
  },
  {
   "cell_type": "code",
   "execution_count": 127,
   "id": "76985643-38ee-438b-8888-125904e21ae7",
   "metadata": {},
   "outputs": [
    {
     "data": {
      "text/plain": [
       "(34490, 15)"
      ]
     },
     "execution_count": 127,
     "metadata": {},
     "output_type": "execute_result"
    }
   ],
   "source": [
    "merged_data2.shape"
   ]
  },
  {
   "cell_type": "code",
   "execution_count": 128,
   "id": "f33b3596-a4ff-445a-91f2-7ec48eca8c73",
   "metadata": {},
   "outputs": [
    {
     "data": {
      "text/plain": [
       "(115777, 75)"
      ]
     },
     "execution_count": 128,
     "metadata": {},
     "output_type": "execute_result"
    }
   ],
   "source": [
    "merged_data1.shape"
   ]
  },
  {
   "cell_type": "code",
   "execution_count": 129,
   "id": "f77110ef",
   "metadata": {},
   "outputs": [
    {
     "name": "stdout",
     "output_type": "stream",
     "text": [
      "(115777, 86)\n"
     ]
    }
   ],
   "source": [
    "print(merged_data.shape)"
   ]
  },
  {
   "cell_type": "code",
   "execution_count": 130,
   "id": "5d5d65ef",
   "metadata": {},
   "outputs": [
    {
     "name": "stdout",
     "output_type": "stream",
     "text": [
      "Index(['conglome', 'vivienda', 'hogar', 'codperso', 'ubigeo', 'dominio',\n",
      "       'estrato', 'p301c', 'p300a', 'p304b', 'p304a', 'p308c', 'p308b',\n",
      "       'p315a', 'p315b', 'p307a1', 'p307a2', 'p307a3', 'p307a4', 'p307a4_5',\n",
      "       'p307a4_6', 'p307a4_7', 'p307b1', 'p307b2', 'p307b3', 'p307b4',\n",
      "       'p307b4_5', 'p307b4_6', 'p307b4_7', 'p308a', 'p308d', 'p314a',\n",
      "       'p314b_1', 'p314b_2', 'p314b_3', 'p314b_4', 'p314b_5', 'p314b_6',\n",
      "       'p314b_7', 'p314b1_1', 'p314b1_2', 'p314b1_8', 'p314b1_9', 'p314b1_6',\n",
      "       'p314b1_7', 'p314d', 'p316_1', 'p316_2', 'p316_3', 'p316_4', 'p316_5',\n",
      "       'p316_6', 'p316_7', 'p316_8', 'p316_9', 'p316_10', 'p316_11', 'p316_12',\n",
      "       'p316a1', 'p316b', 'p316c1', 'p316c2', 'p316c3', 'p316c4', 'p316c5',\n",
      "       'p316c6', 'p316c7', 'p316c8', 'p316c9', 'p316c10', 't313a', 'factor07',\n",
      "       'p203b', 'p207', 'p208a', 'estrsocial', 'mieperho', 'totmieho', 'p1121',\n",
      "       'p1123', 'p1124', 'p1125', 'p1126', 'p1127', 'p1142', 'p1144'],\n",
      "      dtype='object')\n"
     ]
    }
   ],
   "source": [
    "print(merged_data.columns)"
   ]
  },
  {
   "cell_type": "markdown",
   "id": "3f6f72ac-29c5-4dbc-b327-f196a8533f89",
   "metadata": {
    "tags": []
   },
   "source": [
    "# Variables"
   ]
  },
  {
   "cell_type": "markdown",
   "id": "bb143ee5-5baf-4e6d-ab83-5c4d595244b7",
   "metadata": {
    "tags": []
   },
   "source": [
    "### Departamento"
   ]
  },
  {
   "cell_type": "code",
   "execution_count": 131,
   "id": "b2007026-2c85-4b5f-868c-e3f9c45cc456",
   "metadata": {},
   "outputs": [],
   "source": [
    "# Crear una variable \"departamento\" extrayendo los primeros 2 dígitos de \"ubigeo\"\n",
    "merged_data[\"DEPARTAMENTO\"] = merged_data[\"ubigeo\"].astype(str).str[:2]\n",
    "merged_data[\"DEPARTAMENTO\"] = pd.to_numeric(merged_data[\"DEPARTAMENTO\"], errors=\"coerce\")\n",
    "\n",
    "#dict_departamento = {\n",
    "#    1: \"Amazonas\", 2: \"Ancash\", 3: \"Apurímac\", 4: \"Arequipa\", 5: \"Ayacucho\", 6: \"Cajamarca\", 7: \"Callao\", 8: \"Cusco\",\n",
    "#    9: \"Huancavelica\", 10: \"Huánuco\", 11: \"Ica\", 12: \"Junín\", 13: \"La Libertad\", 14: \"Lambayeque\", 15: \"Lima\",\n",
    "#    16: \"Loreto\", 17: \"Madre de Dios\", 18: \"Moquegua\", 19: \"Pasco\", 20: \"Piura\", 21: \"Puno\", 22: \"San Martín\", \n",
    "#    23: \"Tacna\", 24: \"Tumbes\", 25: \"Ucayali\"\n",
    "#}"
   ]
  },
  {
   "cell_type": "markdown",
   "id": "63bda6e5-6155-4931-b85d-49fc1f854c7d",
   "metadata": {},
   "source": [
    "### Area / Idioma / REGION"
   ]
  },
  {
   "cell_type": "code",
   "execution_count": 132,
   "id": "08ee393e",
   "metadata": {},
   "outputs": [],
   "source": [
    "# Recodificar la variable \"estrato\" para crear la variable \"area\"\n",
    "merged_data[\"AREA\"] = merged_data[\"estrato\"].apply(lambda x: 1 if 1 <= x <= 5 else 0) #{1: \"Urbano\", 0: \"Rural\"}\n",
    "\n",
    "# IDIOMA \n",
    "merged_data[\"Idioma\"] = merged_data[\"p300a\"].apply(lambda x: 1 if 4 == x  else 0)   # {1: \"Castellano\", 0: \"Otros\"}\n",
    "#1 Quechua 2 Aimara 3 Otra lengua nativa 4 Castellano 6 Portugués 7 Otra lengua extranjera \n",
    "# 8 No escucha/no habla9 Lengua de señas peruanas 10 Ashaninka 11 Awajun/Aguaruna 12 Shipibo-Konibo \n",
    "# 13 Shawi/Chayahuita 14 Matsigenka/Machiguenga 15 Achuar\n",
    "\n",
    "# Recodificar la variable \"dominio\" para crear la variable \"region\"\n",
    "#dict_region = { 1:\"Costa\", 2:\"Costa\", 3: \"Costa\", 4:\"Sierra\", 5:\"Sierra\", 6:\"Sierra\", 7:\"Selva\", 8: \"Lima Metropolitana\"}\n",
    "dict_region = { 1:1, 2:1, 3: 1, 4:2, 5:2, 6:2, 7:3, 8: 4}\n",
    "merged_data[\"Region\"] = merged_data[\"dominio\"].map(dict_region)"
   ]
  },
  {
   "cell_type": "code",
   "execution_count": 133,
   "id": "5213b011",
   "metadata": {},
   "outputs": [],
   "source": [
    "#print(merged_data.p308d.value_counts())"
   ]
  },
  {
   "cell_type": "code",
   "execution_count": 134,
   "id": "d975765c",
   "metadata": {},
   "outputs": [
    {
     "name": "stdout",
     "output_type": "stream",
     "text": [
      "Index(['conglome', 'vivienda', 'hogar', 'codperso', 'ubigeo', 'dominio',\n",
      "       'estrato', 'p301c', 'p300a', 'p304b', 'p304a', 'p308c', 'p308b',\n",
      "       'p315a', 'p315b', 'p307a1', 'p307a2', 'p307a3', 'p307a4', 'p307a4_5',\n",
      "       'p307a4_6', 'p307a4_7', 'p307b1', 'p307b2', 'p307b3', 'p307b4',\n",
      "       'p307b4_5', 'p307b4_6', 'p307b4_7', 'p308a', 'p308d', 'p314a',\n",
      "       'p314b_1', 'p314b_2', 'p314b_3', 'p314b_4', 'p314b_5', 'p314b_6',\n",
      "       'p314b_7', 'p314b1_1', 'p314b1_2', 'p314b1_8', 'p314b1_9', 'p314b1_6',\n",
      "       'p314b1_7', 'p314d', 'p316_1', 'p316_2', 'p316_3', 'p316_4', 'p316_5',\n",
      "       'p316_6', 'p316_7', 'p316_8', 'p316_9', 'p316_10', 'p316_11', 'p316_12',\n",
      "       'p316a1', 'p316b', 'p316c1', 'p316c2', 'p316c3', 'p316c4', 'p316c5',\n",
      "       'p316c6', 'p316c7', 'p316c8', 'p316c9', 'p316c10', 't313a', 'factor07',\n",
      "       'p203b', 'p207', 'p208a', 'estrsocial', 'mieperho', 'totmieho', 'p1121',\n",
      "       'p1123', 'p1124', 'p1125', 'p1126', 'p1127', 'p1142', 'p1144',\n",
      "       'DEPARTAMENTO', 'AREA', 'Idioma', 'Region'],\n",
      "      dtype='object')\n"
     ]
    }
   ],
   "source": [
    "print(merged_data.columns)"
   ]
  },
  {
   "cell_type": "markdown",
   "id": "52581bb3-b8dd-4d60-9fe4-c0da3aeb73ab",
   "metadata": {},
   "source": [
    "## Renombrar variables"
   ]
  },
  {
   "cell_type": "code",
   "execution_count": 135,
   "id": "7ffb76b5",
   "metadata": {},
   "outputs": [
    {
     "name": "stdout",
     "output_type": "stream",
     "text": [
      "Index(['conglome', 'vivienda', 'hogar', 'codperso', 'ubigeo', 'dominio',\n",
      "       'estrato', 'p301c', 'p300a', 'p304b', 'p304a', 'p308c', 'p308b',\n",
      "       'p315a', 'p315b', 'clases_tv', 'clases_radio',\n",
      "       'clases_plataforma_virtual', 'clases_otro', 'clases_wsp',\n",
      "       'clases_correo', 'clases_llamadas', 'clases_interaccion_profesor',\n",
      "       'clases_videos', 'clases_documentos', 'clases_otros',\n",
      "       'clases_msm_audio', 'clases_msm_texto', 'clases_sin_acompañamiento',\n",
      "       'Nivel_educativo', 'Centro_estudios', 'i_uso', 'i_uso_hog',\n",
      "       'i_uso_trab', 'i_uso_cedu', 'i_uso_cab', 'i_uso_casotr', 'i_uso_otro',\n",
      "       'i_uso_movil', 'i_computadora', 'i_laptop', 'i_cel_sdatos',\n",
      "       'i_cel_cdatos', 'i_tablet', 'i_otro', 'p314d', 'i_obtener_info',\n",
      "       'i_comunicarse', 'i_comprar_pdts_ss', 'i_operaciones_bancarias',\n",
      "       'i_edu_formal', 'i_transacciones', 'i_act_entretenimiento',\n",
      "       'i_vender_pdts', 'p316_9', 'p316_10', 'p316_11', 'i_descarga_antivirus',\n",
      "       'p316a1', 'p316b', 'p316c1', 'p316c2', 'p316c3', 'p316c4', 'p316c5',\n",
      "       'p316c6', 'p316c7', 'p316c8', 'p316c9', 'p316c10', 't313a', 'factor07',\n",
      "       'p203b', 'Sexo', 'Edad', 'estrsocial', 'mieperho', 'totmieho',\n",
      "       'Electricidad', 'p1123', 'p1124', 'p1125', 'p1126', 'p1127', 'p1142',\n",
      "       'p1144', 'DEPARTAMENTO', 'AREA', 'Idioma', 'Region'],\n",
      "      dtype='object')\n"
     ]
    }
   ],
   "source": [
    "# Rename columns\n",
    "new_column_names = {'p308a': 'Nivel_educativo', 'p308d': 'Centro_estudios','p207': 'Sexo', 'p208a':\"Edad\",'p1121':'Electricidad',\n",
    "                    'P1144':'conexion_internet',\n",
    "'p314a': 'i_uso','p314b_1':'i_uso_hog', 'p314b_2':'i_uso_trab', 'p314b_3':'i_uso_cedu','p314b_4':'i_uso_cab',\n",
    "                    'p314b_5':'i_uso_casotr','p314b_6':'i_uso_otro','p314b_7':'i_uso_movil',\n",
    "'p314b1_1':'i_computadora','p314b1_2':'i_laptop','p314b1_5':'i_cel_trab','p314b1_6':'i_tablet','p314b1_7':'i_otro',\n",
    "                    'p314b1_8': 'i_cel_sdatos', 'p314b1_9': 'i_cel_cdatos',\n",
    "\"p307a1\":\"clases_tv\",\"p307a2\":\"clases_radio\", \"p307a3\":\"clases_plataforma_virtual\",\"p307a4\":\"clases_otro\",\"p307a4_5\":\"clases_wsp\", \n",
    "                    \"p307a4_6\":\"clases_correo\",\"p307a4_7\":\"clases_llamadas\",\"p307b1\":\"clases_interaccion_profesor\",\n",
    "                    \"p307b2\":\"clases_videos\",\"p307b3\":\"clases_documentos\", \"p307b4\":\"clases_otros\",\"p307b4_5\":\"clases_msm_audio\",\n",
    "                    \"p307b4_6\": \"clases_msm_texto\", \"p307b4_7\":\"clases_sin_acompañamiento\",\n",
    "'p316_1':'i_obtener_info', 'p316_2':'i_comunicarse', 'p316_3':'i_comprar_pdts_ss', 'p316_4':'i_operaciones_bancarias', 'p316_5':'i_edu_formal',\n",
    "       'p316_6':'i_transacciones', 'p316_7':'i_act_entretenimiento', 'p316_8':'i_vender_pdts', 'p316_12':'i_descarga_antivirus'}\n",
    "merged_data.rename(columns=new_column_names, inplace=True)\n",
    "print(merged_data.columns)"
   ]
  },
  {
   "cell_type": "code",
   "execution_count": 136,
   "id": "f47d1010-6e74-4b77-aabb-615a1907f01e",
   "metadata": {},
   "outputs": [],
   "source": [
    "#merged_data =merged_data.dropna()"
   ]
  },
  {
   "cell_type": "code",
   "execution_count": 137,
   "id": "d5901f33",
   "metadata": {},
   "outputs": [],
   "source": [
    "# Uso de Internet en el hogar\n",
    "merged_data[\"i_uso_hog\"] = pd.to_numeric(merged_data[\"i_uso_hog\"], errors=\"coerce\")\n",
    "# Uso de Internet \n",
    "merged_data[\"i_uso\"] = pd.to_numeric(merged_data[\"i_uso\"], errors=\"coerce\")"
   ]
  },
  {
   "cell_type": "code",
   "execution_count": null,
   "id": "dc1a50bd-ac80-4712-8b70-fa04b29baaf6",
   "metadata": {},
   "outputs": [],
   "source": []
  },
  {
   "cell_type": "code",
   "execution_count": null,
   "id": "51eabc3f-0c8b-48fa-bbe0-9cc5877f7db0",
   "metadata": {},
   "outputs": [],
   "source": []
  },
  {
   "cell_type": "code",
   "execution_count": null,
   "id": "c6adef2f-7519-4b36-b342-aec4bd6ad309",
   "metadata": {},
   "outputs": [],
   "source": []
  },
  {
   "cell_type": "code",
   "execution_count": null,
   "id": "c9c9d59b-2d17-4e2e-8b67-bc2d4044a63c",
   "metadata": {},
   "outputs": [],
   "source": []
  },
  {
   "cell_type": "code",
   "execution_count": null,
   "id": "3ffb5960-dc2b-495d-8e5d-4c2e31c74884",
   "metadata": {},
   "outputs": [],
   "source": []
  },
  {
   "cell_type": "markdown",
   "id": "91a3b1e6-989f-4e5c-af7c-394f08b30f2b",
   "metadata": {},
   "source": [
    "## Filtrar variables"
   ]
  },
  {
   "cell_type": "code",
   "execution_count": 138,
   "id": "94c03c14",
   "metadata": {},
   "outputs": [
    {
     "name": "stderr",
     "output_type": "stream",
     "text": [
      "C:\\Users\\SINERGY TECH\\AppData\\Local\\Temp\\ipykernel_15020\\2659785788.py:3: SettingWithCopyWarning: \n",
      "A value is trying to be set on a copy of a slice from a DataFrame.\n",
      "Try using .loc[row_indexer,col_indexer] = value instead\n",
      "\n",
      "See the caveats in the documentation: https://pandas.pydata.org/pandas-docs/stable/user_guide/indexing.html#returning-a-view-versus-a-copy\n",
      "  base_filtrada[\"Edad\"] = pd.to_numeric(base_filtrada[\"Edad\"], errors=\"coerce\")\n"
     ]
    }
   ],
   "source": [
    "# Filtrar el DataFrame para incluir solo las filas con valores 1, 2 o 3 en la columna \"P308A\"\n",
    "base_filtrada = merged_data[merged_data[\"Nivel_educativo\"].isin([1, 2, 3])]\n",
    "base_filtrada[\"Edad\"] = pd.to_numeric(base_filtrada[\"Edad\"], errors=\"coerce\")\n",
    "\n",
    "# Filtrar las filas donde \"P208A\" es menor que 18\n",
    "base_filtrada = base_filtrada[base_filtrada[\"Edad\"] <= 18]"
   ]
  },
  {
   "cell_type": "code",
   "execution_count": 140,
   "id": "b82fd4ac-be1f-4a9b-8579-d41092dfcbd1",
   "metadata": {},
   "outputs": [
    {
     "name": "stdout",
     "output_type": "stream",
     "text": [
      "<class 'pandas.core.frame.DataFrame'>\n",
      "Int64Index: 6252 entries, 8 to 115776\n",
      "Data columns (total 90 columns):\n",
      " #   Column                       Non-Null Count  Dtype  \n",
      "---  ------                       --------------  -----  \n",
      " 0   conglome                     6252 non-null   object \n",
      " 1   vivienda                     6252 non-null   object \n",
      " 2   hogar                        6252 non-null   object \n",
      " 3   codperso                     6252 non-null   object \n",
      " 4   ubigeo                       6252 non-null   object \n",
      " 5   dominio                      6252 non-null   int8   \n",
      " 6   estrato                      6252 non-null   int8   \n",
      " 7   p301c                        3086 non-null   float64\n",
      " 8   p300a                        6252 non-null   float64\n",
      " 9   p304b                        6235 non-null   float64\n",
      " 10  p304a                        6235 non-null   float64\n",
      " 11  p308c                        2805 non-null   float64\n",
      " 12  p308b                        6252 non-null   float64\n",
      " 13  p315a                        160 non-null    float64\n",
      " 14  p315b                        7 non-null      float64\n",
      " 15  clases_tv                    5210 non-null   float64\n",
      " 16  clases_radio                 5210 non-null   float64\n",
      " 17  clases_plataforma_virtual    5210 non-null   float64\n",
      " 18  clases_otro                  5210 non-null   float64\n",
      " 19  clases_wsp                   5210 non-null   float64\n",
      " 20  clases_correo                5210 non-null   float64\n",
      " 21  clases_llamadas              5210 non-null   float64\n",
      " 22  clases_interaccion_profesor  5210 non-null   float64\n",
      " 23  clases_videos                5210 non-null   float64\n",
      " 24  clases_documentos            5210 non-null   float64\n",
      " 25  clases_otros                 5210 non-null   float64\n",
      " 26  clases_msm_audio             5210 non-null   float64\n",
      " 27  clases_msm_texto             5210 non-null   float64\n",
      " 28  clases_sin_acompañamiento    5210 non-null   float64\n",
      " 29  Nivel_educativo              6252 non-null   float64\n",
      " 30  Centro_estudios              6252 non-null   float64\n",
      " 31  i_uso                        6252 non-null   float64\n",
      " 32  i_uso_hog                    6252 non-null   float64\n",
      " 33  i_uso_trab                   6252 non-null   float64\n",
      " 34  i_uso_cedu                   6252 non-null   float64\n",
      " 35  i_uso_cab                    6252 non-null   float64\n",
      " 36  i_uso_casotr                 6252 non-null   float64\n",
      " 37  i_uso_otro                   6252 non-null   float64\n",
      " 38  i_uso_movil                  6252 non-null   float64\n",
      " 39  i_computadora                6252 non-null   float64\n",
      " 40  i_laptop                     6252 non-null   float64\n",
      " 41  i_cel_sdatos                 6252 non-null   float64\n",
      " 42  i_cel_cdatos                 6252 non-null   float64\n",
      " 43  i_tablet                     6252 non-null   float64\n",
      " 44  i_otro                       6252 non-null   float64\n",
      " 45  p314d                        6252 non-null   float64\n",
      " 46  i_obtener_info               6252 non-null   float64\n",
      " 47  i_comunicarse                6252 non-null   float64\n",
      " 48  i_comprar_pdts_ss            6252 non-null   float64\n",
      " 49  i_operaciones_bancarias      6252 non-null   float64\n",
      " 50  i_edu_formal                 6252 non-null   float64\n",
      " 51  i_transacciones              6252 non-null   float64\n",
      " 52  i_act_entretenimiento        6252 non-null   float64\n",
      " 53  i_vender_pdts                6252 non-null   float64\n",
      " 54  p316_9                       6252 non-null   float64\n",
      " 55  p316_10                      6252 non-null   float64\n",
      " 56  p316_11                      6252 non-null   float64\n",
      " 57  i_descarga_antivirus         6252 non-null   float64\n",
      " 58  p316a1                       6252 non-null   float64\n",
      " 59  p316b                        2362 non-null   float64\n",
      " 60  p316c1                       966 non-null    float64\n",
      " 61  p316c2                       966 non-null    float64\n",
      " 62  p316c3                       966 non-null    float64\n",
      " 63  p316c4                       966 non-null    float64\n",
      " 64  p316c5                       966 non-null    float64\n",
      " 65  p316c6                       966 non-null    float64\n",
      " 66  p316c7                       966 non-null    float64\n",
      " 67  p316c8                       966 non-null    float64\n",
      " 68  p316c9                       966 non-null    float64\n",
      " 69  p316c10                      966 non-null    float64\n",
      " 70  t313a                        974 non-null    float64\n",
      " 71  factor07                     6252 non-null   float32\n",
      " 72  p203b                        6252 non-null   float64\n",
      " 73  Sexo                         6252 non-null   float64\n",
      " 74  Edad                         6252 non-null   float64\n",
      " 75  estrsocial                   6252 non-null   int8   \n",
      " 76  mieperho                     6252 non-null   int8   \n",
      " 77  totmieho                     6252 non-null   int8   \n",
      " 78  Electricidad                 6252 non-null   float64\n",
      " 79  p1123                        6252 non-null   float64\n",
      " 80  p1124                        6252 non-null   float64\n",
      " 81  p1125                        6252 non-null   float64\n",
      " 82  p1126                        6252 non-null   float64\n",
      " 83  p1127                        6252 non-null   float64\n",
      " 84  p1142                        6252 non-null   float64\n",
      " 85  p1144                        6252 non-null   float64\n",
      " 86  DEPARTAMENTO                 6252 non-null   int64  \n",
      " 87  AREA                         6252 non-null   int64  \n",
      " 88  Idioma                       6252 non-null   int64  \n",
      " 89  Region                       6252 non-null   int64  \n",
      "dtypes: float32(1), float64(75), int64(4), int8(5), object(5)\n",
      "memory usage: 4.1+ MB\n"
     ]
    }
   ],
   "source": [
    "base_filtrada.info()"
   ]
  },
  {
   "cell_type": "code",
   "execution_count": 139,
   "id": "264bfcbe-6ec2-49be-b401-8ac0f2402773",
   "metadata": {},
   "outputs": [],
   "source": [
    "base_filtrada = base_filtrada.dropna(subset=['i_uso_hog'])"
   ]
  },
  {
   "cell_type": "code",
   "execution_count": 19,
   "id": "f066113e-9d89-4939-942a-3123dea180ac",
   "metadata": {},
   "outputs": [
    {
     "name": "stdout",
     "output_type": "stream",
     "text": [
      "Cantidad de valores nulos en 'conglome': 0\n",
      "Cantidad de valores nulos en 'vivienda': 0\n",
      "Cantidad de valores nulos en 'hogar': 0\n",
      "Cantidad de valores nulos en 'codperso': 0\n",
      "Cantidad de valores nulos en 'ubigeo': 0\n",
      "Cantidad de valores nulos en 'dominio': 0\n",
      "Cantidad de valores nulos en 'estrato': 0\n",
      "Cantidad de valores nulos en 'p301c': 3166\n",
      "Cantidad de valores nulos en 'p300a': 0\n",
      "Cantidad de valores nulos en 'p304b': 17\n",
      "Cantidad de valores nulos en 'p304a': 17\n",
      "Cantidad de valores nulos en 'p308c': 3447\n",
      "Cantidad de valores nulos en 'p308b': 0\n",
      "Cantidad de valores nulos en 'p315a': 6092\n",
      "Cantidad de valores nulos en 'p315b': 6245\n",
      "Cantidad de valores nulos en 'clases_tv': 1042\n",
      "Cantidad de valores nulos en 'clases_radio': 1042\n",
      "Cantidad de valores nulos en 'clases_plataforma_virtual': 1042\n",
      "Cantidad de valores nulos en 'clases_otro': 1042\n",
      "Cantidad de valores nulos en 'clases_wsp': 1042\n",
      "Cantidad de valores nulos en 'clases_correo': 1042\n",
      "Cantidad de valores nulos en 'clases_llamadas': 1042\n",
      "Cantidad de valores nulos en 'clases_interaccion_profesor': 1042\n",
      "Cantidad de valores nulos en 'clases_videos': 1042\n",
      "Cantidad de valores nulos en 'clases_documentos': 1042\n",
      "Cantidad de valores nulos en 'clases_otros': 1042\n",
      "Cantidad de valores nulos en 'clases_msm_audio': 1042\n",
      "Cantidad de valores nulos en 'clases_msm_texto': 1042\n",
      "Cantidad de valores nulos en 'clases_sin_acompañamiento': 1042\n",
      "Cantidad de valores nulos en 'Nivel_educativo': 0\n",
      "Cantidad de valores nulos en 'Centro_estudios': 0\n",
      "Cantidad de valores nulos en 'i_uso': 0\n",
      "Cantidad de valores nulos en 'i_uso_hog': 0\n",
      "Cantidad de valores nulos en 'i_uso_trab': 0\n",
      "Cantidad de valores nulos en 'i_uso_cedu': 0\n",
      "Cantidad de valores nulos en 'i_uso_cab': 0\n",
      "Cantidad de valores nulos en 'i_uso_casotr': 0\n",
      "Cantidad de valores nulos en 'i_uso_otro': 0\n",
      "Cantidad de valores nulos en 'i_uso_movil': 0\n",
      "Cantidad de valores nulos en 'i_computadora': 0\n",
      "Cantidad de valores nulos en 'i_laptop': 0\n",
      "Cantidad de valores nulos en 'i_cel_sdatos': 0\n",
      "Cantidad de valores nulos en 'i_cel_cdatos': 0\n",
      "Cantidad de valores nulos en 'i_tablet': 0\n",
      "Cantidad de valores nulos en 'i_otro': 0\n",
      "Cantidad de valores nulos en 'p314d': 0\n",
      "Cantidad de valores nulos en 'i_obtener_info': 0\n",
      "Cantidad de valores nulos en 'i_comunicarse': 0\n",
      "Cantidad de valores nulos en 'i_comprar_pdts_ss': 0\n",
      "Cantidad de valores nulos en 'i_operaciones_bancarias': 0\n",
      "Cantidad de valores nulos en 'i_edu_formal': 0\n",
      "Cantidad de valores nulos en 'i_transacciones': 0\n",
      "Cantidad de valores nulos en 'i_act_entretenimiento': 0\n",
      "Cantidad de valores nulos en 'i_vender_pdts': 0\n",
      "Cantidad de valores nulos en 'p316_9': 0\n",
      "Cantidad de valores nulos en 'p316_10': 0\n",
      "Cantidad de valores nulos en 'p316_11': 0\n",
      "Cantidad de valores nulos en 'i_descarga_antivirus': 0\n",
      "Cantidad de valores nulos en 'p316a1': 0\n",
      "Cantidad de valores nulos en 'p316b': 3890\n",
      "Cantidad de valores nulos en 'p316c1': 5286\n",
      "Cantidad de valores nulos en 'p316c2': 5286\n",
      "Cantidad de valores nulos en 'p316c3': 5286\n",
      "Cantidad de valores nulos en 'p316c4': 5286\n",
      "Cantidad de valores nulos en 'p316c5': 5286\n",
      "Cantidad de valores nulos en 'p316c6': 5286\n",
      "Cantidad de valores nulos en 'p316c7': 5286\n",
      "Cantidad de valores nulos en 'p316c8': 5286\n",
      "Cantidad de valores nulos en 'p316c9': 5286\n",
      "Cantidad de valores nulos en 'p316c10': 5286\n",
      "Cantidad de valores nulos en 't313a': 5278\n",
      "Cantidad de valores nulos en 'factor07': 0\n",
      "Cantidad de valores nulos en 'p203b': 0\n",
      "Cantidad de valores nulos en 'Sexo': 0\n",
      "Cantidad de valores nulos en 'Edad': 0\n",
      "Cantidad de valores nulos en 'estrsocial': 0\n",
      "Cantidad de valores nulos en 'mieperho': 0\n",
      "Cantidad de valores nulos en 'totmieho': 0\n",
      "Cantidad de valores nulos en 'Electricidad': 0\n",
      "Cantidad de valores nulos en 'p1123': 0\n",
      "Cantidad de valores nulos en 'p1124': 0\n",
      "Cantidad de valores nulos en 'p1125': 0\n",
      "Cantidad de valores nulos en 'p1126': 0\n",
      "Cantidad de valores nulos en 'p1127': 0\n",
      "Cantidad de valores nulos en 'p1142': 0\n",
      "Cantidad de valores nulos en 'p1144': 0\n",
      "Cantidad de valores nulos en 'DEPARTAMENTO': 0\n",
      "Cantidad de valores nulos en 'AREA': 0\n",
      "Cantidad de valores nulos en 'Idioma': 0\n",
      "Cantidad de valores nulos en 'Region': 0\n"
     ]
    }
   ],
   "source": [
    "# Itera sobre todas las columnas y cuenta los valores nulos en cada una\n",
    "for columna in base_filtrada.columns:\n",
    "    nulos_en_columna = base_filtrada[columna].isnull().sum()\n",
    "    print(f\"Cantidad de valores nulos en '{columna}': {nulos_en_columna}\")"
   ]
  },
  {
   "cell_type": "code",
   "execution_count": null,
   "id": "777c7d1a-172a-49c2-8b63-23a7bd055fa3",
   "metadata": {},
   "outputs": [],
   "source": []
  },
  {
   "cell_type": "code",
   "execution_count": null,
   "id": "aefcb3bf-9525-4264-a3bd-7d020285692a",
   "metadata": {},
   "outputs": [],
   "source": []
  },
  {
   "cell_type": "markdown",
   "id": "0f3b35c2-8468-4b06-bd98-3098d0b02ec7",
   "metadata": {
    "tags": []
   },
   "source": [
    "## Funciones"
   ]
  },
  {
   "cell_type": "raw",
   "id": "eadf1ed7-a489-4de5-8645-d52e89870e98",
   "metadata": {},
   "source": [
    "def generar_tabla_recuento(dataframe, variable, descripcion_valores, guardar_como_jpeg=False, guardar_como_txt=False):\n",
    "    # Agrupa los datos por la columna 'variable' y suma 'factor07'\n",
    "    freq_ = dataframe[['factor07', variable]].groupby(variable).sum().reset_index()\n",
    "    \n",
    "    # Calcular el porcentaje y redondearlo a dos decimales directamente en esta línea\n",
    "    total_recuento = freq_['factor07'].sum()\n",
    "    freq_['Porcentaje'] = (freq_['factor07'] / total_recuento * 100).round(2)\n",
    "    \n",
    "    freq_.rename(columns={'factor07': 'Recuento', variable: descripcion_valores}, inplace=True)\n",
    "    \n",
    "    # Calcular los totales\n",
    "    total_recuento = freq_['Recuento'].astype(float).sum()\n",
    "    total_porcentaje = freq_['Porcentaje'].astype(float).sum()\n",
    "    \n",
    "    # Crear una fila adicional para los totales\n",
    "    fila_total = pd.DataFrame({descripcion_valores: 'Total', 'Recuento': total_recuento, 'Porcentaje': total_porcentaje}, index=[0])\n",
    "\n",
    "        # Concatenar la fila total al DataFrame\n",
    "    freq_ = pd.concat([freq_, fila_total], ignore_index=True)\n",
    "    \n",
    "    # Formatear las columnas \"Recuento\" y \"Porcentaje\" como cadenas\n",
    "    freq_['Recuento'] = freq_['Recuento'].apply(lambda x: '{:,.0f}'.format(x))\n",
    "    freq_['Porcentaje'] = freq_['Porcentaje'].apply(lambda x: '{:.2f}'.format(x))\n",
    "    \n",
    "    if guardar_como_jpeg:\n",
    "        # Guardar la tabla formateada como una imagen JPEG en la ruta especificada\n",
    "        nombre_imagen = os.path.join(\"../output/images\", f\"{descripcion_valores}.jpeg\")\n",
    "        \n",
    "        # Configurar el tamaño y los márgenes de la figura\n",
    "        plt.figure(figsize=(6, 4))\n",
    "        plt.subplots_adjust(left=0.2, top=0.9, right=0.8, bottom=0.1)\n",
    "        \n",
    "        # Configurar el tamaño de la fuente para la tabla\n",
    "        plt.rc('font', size=9)\n",
    "        \n",
    "        # Crear una tabla en lugar de texto\n",
    "        tabla = plt.table(cellText=freq_.values, colLabels=freq_.columns, loc='center', cellLoc='center')\n",
    "        \n",
    "        # Establecer el formato de las celdas de la tabla\n",
    "        tabla.auto_set_font_size(False)\n",
    "        tabla.set_fontsize(10)\n",
    "        \n",
    "        # Ajustar el ancho de las columnas según el contenido\n",
    "        tabla.auto_set_column_width([0, 1, 2])\n",
    "        \n",
    "        # Ocultar los ejes\n",
    "        plt.axis('off')\n",
    "        \n",
    "        # Guardar la figura como imagen JPEG\n",
    "        plt.savefig(nombre_imagen, bbox_inches='tight', dpi=300)\n",
    "        plt.close()\n",
    "        #print(f\"La tabla se ha guardado como imagen en {nombre_imagen}\")\n",
    "    \n",
    "    if guardar_como_txt:\n",
    "        # Guardar la tabla formateada en un archivo de texto en la ruta especificada\n",
    "        nombre_archivo_txt = os.path.join(\"../output/tables\", f\"{descripcion_valores}.txt\")\n",
    "        with open(nombre_archivo_txt, 'w') as archivo:\n",
    "            # Encabezado de la tabla en formato LaTeX\n",
    "            #encabezado_latex = \"\\\\textbf{Descripción} & \\\\textbf{Recuento} & \\\\textbf{Porcentaje} \\\\\\\\\\n\"\n",
    "            encabezado_latex = f\"\\\\textbf{{{descripcion_valores}}} & \\\\textbf{{Recuento}} & \\\\textbf{{Porcentaje}} \\\\\\\\\\n\"\n",
    "            archivo.write(encabezado_latex)\n",
    "            \n",
    "            # Datos de la tabla en formato LaTeX\n",
    "            datos_latex = freq_.to_latex(index=False, header=False, escape=False)\n",
    "            archivo.write(\"\\\\midrule % Línea horizontal entre el encabezado y el contenido\\n\")\n",
    "            archivo.write(datos_latex)\n",
    "            archivo.write(\"\\\\\\\\\\n\")\n",
    "        \n",
    "        #print(f\"La tabla se ha guardado como archivo de texto en {nombre_archivo_txt}\")\n",
    "\n",
    "    return freq_"
   ]
  },
  {
   "cell_type": "raw",
   "id": "95d1c2cb-ca34-496d-ba3d-304711312d2b",
   "metadata": {},
   "source": [
    "def generar_tabla_recuento(dataframe, variable, descripcion_valores, guardar_como_jpeg=False, guardar_como_txt=False):\n",
    "    # Agrupa los datos por la columna 'variable' y suma 'factor07'\n",
    "    freq_ = dataframe[['factor07', variable]].groupby(variable).sum().reset_index()\n",
    "    \n",
    "    # Calcular el porcentaje y redondearlo a dos decimales directamente en esta línea\n",
    "    total_recuento = freq_['factor07'].sum()\n",
    "    freq_['Porcentaje'] = (freq_['factor07'] / total_recuento * 100).round(2)\n",
    "    \n",
    "    freq_.rename(columns={'factor07': 'Recuento', variable: descripcion_valores}, inplace=True)\n",
    "    \n",
    "    # Calcular los totales\n",
    "    total_recuento = freq_['Recuento'].astype(float).sum()\n",
    "    total_porcentaje = freq_['Porcentaje'].astype(float).sum()\n",
    "    \n",
    "    # Crear una fila adicional para los totales\n",
    "    fila_total = pd.DataFrame({descripcion_valores: 'Total', 'Recuento': total_recuento, 'Porcentaje': total_porcentaje}, index=[0])\n",
    "\n",
    "        # Concatenar la fila total al DataFrame\n",
    "    freq_ = pd.concat([freq_, fila_total], ignore_index=True)\n",
    "    \n",
    "    # Formatear las columnas \"Recuento\" y \"Porcentaje\" como cadenas\n",
    "    freq_['Recuento'] = freq_['Recuento'].apply(lambda x: '{:,.0f}'.format(x))\n",
    "    freq_['Porcentaje'] = freq_['Porcentaje'].apply(lambda x: '{:.2f}'.format(x))\n",
    "    \n",
    "    if guardar_como_jpeg:\n",
    "        # Guardar la tabla formateada como una imagen JPEG en la ruta especificada\n",
    "        nombre_imagen = os.path.join(\"../output/images\", f\"{descripcion_valores}.jpeg\")\n",
    "        \n",
    "        # Configurar el tamaño y los márgenes de la figura\n",
    "        plt.figure(figsize=(6, 4))\n",
    "        plt.subplots_adjust(left=0.2, top=0.9, right=0.8, bottom=0.1)\n",
    "        \n",
    "        # Configurar el tamaño de la fuente para la tabla\n",
    "        plt.rc('font', size=9)\n",
    "        \n",
    "        # Crear una tabla en lugar de texto\n",
    "        tabla = plt.table(cellText=freq_.values, colLabels=freq_.columns, loc='center', cellLoc='center')\n",
    "        \n",
    "        # Establecer el formato de las celdas de la tabla\n",
    "        tabla.auto_set_font_size(False)\n",
    "        tabla.set_fontsize(10)\n",
    "        \n",
    "        # Ajustar el ancho de las columnas según el contenido\n",
    "        tabla.auto_set_column_width([0, 1, 2])\n",
    "        \n",
    "        # Ocultar los ejes\n",
    "        plt.axis('off')\n",
    "        \n",
    "        # Guardar la figura como imagen JPEG\n",
    "        plt.savefig(nombre_imagen, bbox_inches='tight', dpi=300)\n",
    "        plt.close()\n",
    "        #print(f\"La tabla se ha guardado como imagen en {nombre_imagen}\")\n",
    "    \n",
    "    if guardar_como_txt:\n",
    "        # Guardar la tabla formateada en un archivo de texto en la ruta especificada\n",
    "        nombre_archivo_txt = os.path.join(\"../output/tables\", f\"{descripcion_valores}.txt\")\n",
    "        with open(nombre_archivo_txt, 'w') as archivo:\n",
    "            # Encabezado de la tabla en formato LaTeX\n",
    "            encabezado_latex = f\"\\\\begin{{table}}[H]\\n\\\\centering\\n\\\\caption{{{descripcion_valores}}}\\n\\\\label{{tab:{descripcion_valores}}}\\n\"\n",
    "            archivo.write(encabezado_latex)\n",
    "            \n",
    "            # Datos de la tabla en formato LaTeX\n",
    "            datos_latex = freq_.to_latex(index=False, header=True, escape=False)\n",
    "            archivo.write(\"\\\\\\\\\\n\")\n",
    "            archivo.write(\"\\\\scalebox{0.65}{\\n\")\n",
    "            archivo.write(datos_latex)\n",
    "            archivo.write(\"}\\n\")\n",
    "            archivo.write(\"\\\\end{table}\\n\")\n",
    "        \n",
    "        #print(f\"La tabla se ha guardado como archivo de texto en {nombre_archivo_txt}\")\n",
    "\n",
    "    return freq_"
   ]
  },
  {
   "cell_type": "raw",
   "id": "7170b286-3f44-4fd6-ae47-7bc3f0ab8af2",
   "metadata": {},
   "source": [
    "def generar_tabla_recuento(dataframe, variable, descripcion_valores, guardar_como_jpeg=False, guardar_como_txt=False):\n",
    "    # Agrupa los datos por la columna 'variable' y suma 'factor07'\n",
    "    freq_ = dataframe[['factor07', variable]].groupby(variable).sum().reset_index()\n",
    "    \n",
    "    # Calcular el porcentaje y redondearlo a dos decimales directamente en esta línea\n",
    "    total_recuento = freq_['factor07'].sum()\n",
    "    freq_['Porcentaje'] = (freq_['factor07'] / total_recuento * 100).round(2)\n",
    "    \n",
    "    freq_.rename(columns={'factor07': 'Recuento', variable: descripcion_valores}, inplace=True)\n",
    "    \n",
    "    # Calcular los totales\n",
    "    total_recuento = freq_['Recuento'].astype(float).sum()\n",
    "    total_porcentaje = freq_['Porcentaje'].astype(float).sum()\n",
    "    \n",
    "    # Crear una fila adicional para los totales\n",
    "    fila_total = pd.DataFrame({descripcion_valores: 'Total', 'Recuento': total_recuento, 'Porcentaje': total_porcentaje}, index=[0])\n",
    "\n",
    "    # Concatenar la fila total al DataFrame\n",
    "    freq_ = pd.concat([freq_, fila_total], ignore_index=True)\n",
    "    \n",
    "    # Formatear las columnas \"Recuento\" y \"Porcentaje\" como cadenas\n",
    "    freq_['Recuento'] = freq_['Recuento'].apply(lambda x: '{:,.0f}'.format(x))\n",
    "    freq_['Porcentaje'] = freq_['Porcentaje'].apply(lambda x: '{:.2f}'.format(x))\n",
    "    \n",
    "    if guardar_como_jpeg:\n",
    "        # Guardar la tabla formateada como una imagen JPEG en la ruta especificada\n",
    "        nombre_imagen = os.path.join(\"../output/images\", f\"{descripcion_valores}.jpeg\")\n",
    "        \n",
    "        # Configurar el tamaño y los márgenes de la figura\n",
    "        plt.figure(figsize=(6, 4))\n",
    "        plt.subplots_adjust(left=0.2, top=0.9, right=0.8, bottom=0.1)\n",
    "        \n",
    "        # Configurar el tamaño de la fuente para la tabla\n",
    "        plt.rc('font', size=9)\n",
    "        \n",
    "        # Crear una tabla en lugar de texto\n",
    "        tabla = plt.table(cellText=freq_.values, colLabels=freq_.columns, loc='center', cellLoc='center')\n",
    "        \n",
    "        # Establecer el formato de las celdas de la tabla\n",
    "        tabla.auto_set_font_size(False)\n",
    "        tabla.set_fontsize(10)\n",
    "        \n",
    "        # Ajustar el ancho de las columnas según el contenido\n",
    "        tabla.auto_set_column_width([0, 1, 2])\n",
    "        \n",
    "        # Ocultar los ejes\n",
    "        plt.axis('off')\n",
    "        \n",
    "        # Guardar la figura como imagen JPEG\n",
    "        plt.savefig(nombre_imagen, bbox_inches='tight', dpi=300)\n",
    "        plt.close()\n",
    "    \n",
    "    if guardar_como_txt:\n",
    "        # Guardar la tabla formateada en un archivo de texto en la ruta especificada\n",
    "        nombre_archivo_txt = os.path.join(\"../output/tables\", f\"{descripcion_valores}.txt\")\n",
    "        with open(nombre_archivo_txt, 'w') as archivo:\n",
    "            # Encabezado de la tabla en formato LaTeX\n",
    "            encabezado_latex = f\"\\\\begin{{table}}[H]\\n\\\\centering\\n\\\\caption{{{descripcion_valores}}}\\n\\\\label{{tab:{descripcion_valores}}}\\n\"\n",
    "            archivo.write(encabezado_latex)\n",
    "            \n",
    "            # Datos de la tabla en formato LaTeX\n",
    "            datos_latex = freq_.to_latex(index=False, header=True, escape=False)\n",
    "            archivo.write(\"\\\\\\\\\\n\")\n",
    "            archivo.write(\"\\\\scalebox{0.65}{\\n\")\n",
    "            archivo.write(datos_latex)\n",
    "            archivo.write(\"}\\n\")\n",
    "            archivo.write(\"\\\\end{table}\\n\")\n",
    "\n",
    "    return freq_\n"
   ]
  },
  {
   "cell_type": "code",
   "execution_count": 20,
   "id": "d4f7ac7d-16bb-41e8-98b5-b53c4b215271",
   "metadata": {},
   "outputs": [],
   "source": [
    "def generar_tabla_recuento(dataframe, variable, descripcion_valores, guardar_como_jpeg=False, guardar_como_txt=False):\n",
    "    # Agrupa los datos por la columna 'variable' y suma 'factor07'\n",
    "    freq_ = dataframe[['factor07', variable]].groupby(variable).sum().reset_index()\n",
    "    \n",
    "    # Calcular el porcentaje y redondearlo a dos decimales directamente en esta línea\n",
    "    total_recuento = freq_['factor07'].sum()\n",
    "    freq_['Porcentaje'] = (freq_['factor07'] / total_recuento * 100).round(2)\n",
    "    \n",
    "    freq_.rename(columns={'factor07': 'Recuento', variable: descripcion_valores}, inplace=True)\n",
    "    \n",
    "    # Calcular los totales\n",
    "    total_recuento = freq_['Recuento'].astype(float).sum()\n",
    "    total_porcentaje = freq_['Porcentaje'].astype(float).sum()\n",
    "    \n",
    "    # Crear una fila adicional para los totales\n",
    "    fila_total = pd.DataFrame({descripcion_valores: 'Total', 'Recuento': total_recuento, 'Porcentaje': total_porcentaje}, index=[0])\n",
    "\n",
    "    # Concatenar la fila total al DataFrame\n",
    "    freq_ = pd.concat([freq_, fila_total], ignore_index=True)\n",
    "    \n",
    "    # Formatear las columnas \"Recuento\" y \"Porcentaje\" como cadenas\n",
    "    freq_['Recuento'] = freq_['Recuento'].apply(lambda x: '{:,.0f}'.format(x))\n",
    "    freq_['Porcentaje'] = freq_['Porcentaje'].apply(lambda x: '{:.1f}'.format(x))\n",
    "    \n",
    "    if guardar_como_jpeg:\n",
    "        # Guardar la tabla formateada como una imagen JPEG en la ruta especificada\n",
    "        nombre_imagen = os.path.join(\"../output/images\", f\"tablas_{descripcion_valores}.jpeg\")\n",
    "        \n",
    "        # Configurar el tamaño y los márgenes de la figura\n",
    "        plt.figure(figsize=(6, 4))\n",
    "        plt.subplots_adjust(left=0.2, top=0.9, right=0.8, bottom=0.1)\n",
    "        \n",
    "        # Configurar el tamaño de la fuente para la tabla\n",
    "        plt.rc('font', size=9)\n",
    "        \n",
    "        # Crear una tabla en lugar de texto\n",
    "        tabla = plt.table(cellText=freq_.values, colLabels=freq_.columns, loc='center', cellLoc='center')\n",
    "        \n",
    "        # Establecer el formato de las celdas de la tabla\n",
    "        tabla.auto_set_font_size(False)\n",
    "        tabla.set_fontsize(10)\n",
    "        \n",
    "        # Ajustar el ancho de las columnas según el contenido\n",
    "        tabla.auto_set_column_width([0, 1, 2])\n",
    "        \n",
    "        # Ocultar los ejes\n",
    "        plt.axis('off')\n",
    "        \n",
    "        # Guardar la figura como imagen JPEG\n",
    "        plt.savefig(nombre_imagen, bbox_inches='tight', dpi=300)\n",
    "        plt.close()\n",
    "    \n",
    "    if guardar_como_txt:\n",
    "        # Guardar la tabla formateada en un archivo de texto en la ruta especificada\n",
    "        nombre_archivo_txt = os.path.join(\"../output/tables\", f\"{descripcion_valores}.txt\")\n",
    "        with open(nombre_archivo_txt, 'w') as archivo:\n",
    "            # Encabezado de la tabla en formato LaTeX\n",
    "            encabezado_latex = f\"\\\\begin{{table}}[H]\\n\\\\centering\\n\\\\caption{{{descripcion_valores}}}\\n\\\\label{{tab:{descripcion_valores}}}\\n\"\n",
    "            archivo.write(encabezado_latex)\n",
    "            \n",
    "            # Datos de la tabla en formato LaTeX\n",
    "            archivo.write(\"\\\\scalebox{0.65}{\\n\")\n",
    "            archivo.write(\"\\\\begin{tabular}{@{}crr@{}}\\n\")  # Modifica esta línea\n",
    "            archivo.write(\"\\\\toprule\\n\")\n",
    "            #archivo.write(\"Miembros por Hogar & Recuento & Porcentaje\\\\\\\\ \\\\midrule\\n\")  # Cambia las columnas y el encabezado aquí\n",
    "            archivo.write(f\"{descripcion_valores} & Recuento & Porcentaje\\\\\\\\ \\\\midrule\\n\")\n",
    "            \n",
    "            # Escribe los datos de la tabla\n",
    "            for _, row in freq_.iterrows():\n",
    "                archivo.write(f\"{row[descripcion_valores]} & {row['Recuento']} & {row['Porcentaje']}\\\\\\\\\\n\")\n",
    "            \n",
    "            archivo.write(\"\\\\bottomrule\\n\")\n",
    "            archivo.write(\"\\\\end{tabular}\\n\")\n",
    "            archivo.write(\"}\\n\")\n",
    "            archivo.write(\"\\\\end{table}\\n\")\n",
    "\n",
    "    return freq_\n"
   ]
  },
  {
   "cell_type": "code",
   "execution_count": 21,
   "id": "8b3f98c8-92f1-41b9-90e5-75ac9fc1571e",
   "metadata": {},
   "outputs": [],
   "source": [
    "def guardar_histograma_con_pesos(base_de_datos, columna,descriptivo):\n",
    "    # Crear el histograma con pesos\n",
    "    sns.histplot(data=base_de_datos, x=columna, bins=15, kde=True, color='blue', edgecolor='black', \n",
    "                 weights=base_filtrada['factor07'])\n",
    "\n",
    "    # Etiquetas y título\n",
    "    plt.xlabel(f'{descriptivo}')\n",
    "    plt.ylabel('Frecuencia ponderada')\n",
    "    plt.title(f'Histograma {columna}')\n",
    "\n",
    "    # Generar el nombre del archivo de imagen basado en el nombre de la columna\n",
    "    nombre_archivo = f'estadistico_{descriptivo}.png'\n",
    "\n",
    "    # Guardar la imagen en la ruta especificada\n",
    "    ruta_guardado = '../output/images/' + nombre_archivo\n",
    "    plt.savefig(ruta_guardado)\n",
    "\n",
    "    # Mostrar el histograma\n",
    "    plt.show()"
   ]
  },
  {
   "cell_type": "raw",
   "id": "61f8f75a-2b0c-4438-858a-bf86eeaeb0db",
   "metadata": {},
   "source": [
    "def guardar_graf_barras(columna_categorica, label):\n",
    "    # Crear el gráfico de barras\n",
    "    ax = sns.barplot(x=columna_categorica, y='factor07', data=base_filtrada, estimator=sum, ci=None)\n",
    "\n",
    "    # Etiquetar las barras con los porcentajes\n",
    "    total = base_filtrada['factor07'].sum()\n",
    "    for p in ax.patches:\n",
    "        height = p.get_height()\n",
    "        ax.annotate(f'{(height/total)*100:.0f}%', (p.get_x() + p.get_width() / 2., height), ha='center', va='bottom')\n",
    "\n",
    "    # Generar el nombre del archivo de imagen basado en el nombre de la columna\n",
    "    nombre_archivo = f'estadistico_{columna_categorica}.png'\n",
    "\n",
    "    #labels = hue_order\n",
    "    colors = sns.color_palette('deep').as_hex()[:len(labels)]\n",
    "    handles = [patches.Patch(color = col, label = lab) for col, lab in zip(colors, labels)]\n",
    "\n",
    "    # Etiquetas y título\n",
    "    plt.xlabel('Categoría')\n",
    "    plt.ylabel('Porcentaje')\n",
    "    plt.title(f'Gráfico de Barras {columna_categorica}')\n",
    "    plt.legend(handles=handles, title='Leyenda', loc='upper left', fontsize=12, bbox_to_anchor=(1, 1))\n",
    "\n",
    "    # Ajustar la ubicación de las etiquetas personalizadas\n",
    "    for i, p in enumerate(ax.patches):\n",
    "        height = p.get_height()\n",
    "        x_position = p.get_x() + p.get_width() + 0.02  # Ajusta este valor según tus necesidades\n",
    "\n",
    "    # Guardar la imagen en la ruta especificada\n",
    "    ruta_guardado = '../output/images/' + nombre_archivo\n",
    "    plt.savefig(ruta_guardado, bbox_inches='tight')\n",
    "\n",
    "    # Mostrar el gráfico\n",
    "    plt.show()"
   ]
  },
  {
   "cell_type": "markdown",
   "id": "33806527",
   "metadata": {
    "tags": []
   },
   "source": [
    "# VARIABLES "
   ]
  },
  {
   "cell_type": "markdown",
   "id": "3f1c6954-9ad1-4f70-a79f-3dde3aea1e12",
   "metadata": {},
   "source": [
    "## Variables Continuas"
   ]
  },
  {
   "cell_type": "markdown",
   "id": "b580abeb-344e-4fa8-acea-01a77fc46c3d",
   "metadata": {},
   "source": [
    "#### Miembros por hogar"
   ]
  },
  {
   "cell_type": "code",
   "execution_count": 22,
   "id": "37314f0b",
   "metadata": {},
   "outputs": [
    {
     "data": {
      "text/html": [
       "<div>\n",
       "<style scoped>\n",
       "    .dataframe tbody tr th:only-of-type {\n",
       "        vertical-align: middle;\n",
       "    }\n",
       "\n",
       "    .dataframe tbody tr th {\n",
       "        vertical-align: top;\n",
       "    }\n",
       "\n",
       "    .dataframe thead th {\n",
       "        text-align: right;\n",
       "    }\n",
       "</style>\n",
       "<table border=\"1\" class=\"dataframe\">\n",
       "  <thead>\n",
       "    <tr style=\"text-align: right;\">\n",
       "      <th></th>\n",
       "      <th>Miembros por Hogar</th>\n",
       "      <th>Recuento</th>\n",
       "      <th>Porcentaje</th>\n",
       "    </tr>\n",
       "  </thead>\n",
       "  <tbody>\n",
       "    <tr>\n",
       "      <th>0</th>\n",
       "      <td>1</td>\n",
       "      <td>3,150</td>\n",
       "      <td>0.2</td>\n",
       "    </tr>\n",
       "    <tr>\n",
       "      <th>1</th>\n",
       "      <td>2</td>\n",
       "      <td>72,446</td>\n",
       "      <td>3.7</td>\n",
       "    </tr>\n",
       "    <tr>\n",
       "      <th>2</th>\n",
       "      <td>3</td>\n",
       "      <td>282,413</td>\n",
       "      <td>14.5</td>\n",
       "    </tr>\n",
       "    <tr>\n",
       "      <th>3</th>\n",
       "      <td>4</td>\n",
       "      <td>571,775</td>\n",
       "      <td>29.3</td>\n",
       "    </tr>\n",
       "    <tr>\n",
       "      <th>4</th>\n",
       "      <td>5</td>\n",
       "      <td>499,138</td>\n",
       "      <td>25.6</td>\n",
       "    </tr>\n",
       "    <tr>\n",
       "      <th>5</th>\n",
       "      <td>6</td>\n",
       "      <td>280,978</td>\n",
       "      <td>14.4</td>\n",
       "    </tr>\n",
       "    <tr>\n",
       "      <th>6</th>\n",
       "      <td>7</td>\n",
       "      <td>126,152</td>\n",
       "      <td>6.5</td>\n",
       "    </tr>\n",
       "    <tr>\n",
       "      <th>7</th>\n",
       "      <td>8</td>\n",
       "      <td>55,158</td>\n",
       "      <td>2.8</td>\n",
       "    </tr>\n",
       "    <tr>\n",
       "      <th>8</th>\n",
       "      <td>9</td>\n",
       "      <td>29,003</td>\n",
       "      <td>1.5</td>\n",
       "    </tr>\n",
       "    <tr>\n",
       "      <th>9</th>\n",
       "      <td>10</td>\n",
       "      <td>12,389</td>\n",
       "      <td>0.6</td>\n",
       "    </tr>\n",
       "    <tr>\n",
       "      <th>10</th>\n",
       "      <td>11</td>\n",
       "      <td>6,659</td>\n",
       "      <td>0.3</td>\n",
       "    </tr>\n",
       "    <tr>\n",
       "      <th>11</th>\n",
       "      <td>12</td>\n",
       "      <td>6,699</td>\n",
       "      <td>0.3</td>\n",
       "    </tr>\n",
       "    <tr>\n",
       "      <th>12</th>\n",
       "      <td>13</td>\n",
       "      <td>1,420</td>\n",
       "      <td>0.1</td>\n",
       "    </tr>\n",
       "    <tr>\n",
       "      <th>13</th>\n",
       "      <td>14</td>\n",
       "      <td>486</td>\n",
       "      <td>0.0</td>\n",
       "    </tr>\n",
       "    <tr>\n",
       "      <th>14</th>\n",
       "      <td>15</td>\n",
       "      <td>747</td>\n",
       "      <td>0.0</td>\n",
       "    </tr>\n",
       "    <tr>\n",
       "      <th>15</th>\n",
       "      <td>20</td>\n",
       "      <td>2,503</td>\n",
       "      <td>0.1</td>\n",
       "    </tr>\n",
       "    <tr>\n",
       "      <th>16</th>\n",
       "      <td>Total</td>\n",
       "      <td>1,951,115</td>\n",
       "      <td>100.0</td>\n",
       "    </tr>\n",
       "  </tbody>\n",
       "</table>\n",
       "</div>"
      ],
      "text/plain": [
       "   Miembros por Hogar   Recuento Porcentaje\n",
       "0                   1      3,150        0.2\n",
       "1                   2     72,446        3.7\n",
       "2                   3    282,413       14.5\n",
       "3                   4    571,775       29.3\n",
       "4                   5    499,138       25.6\n",
       "5                   6    280,978       14.4\n",
       "6                   7    126,152        6.5\n",
       "7                   8     55,158        2.8\n",
       "8                   9     29,003        1.5\n",
       "9                  10     12,389        0.6\n",
       "10                 11      6,659        0.3\n",
       "11                 12      6,699        0.3\n",
       "12                 13      1,420        0.1\n",
       "13                 14        486        0.0\n",
       "14                 15        747        0.0\n",
       "15                 20      2,503        0.1\n",
       "16              Total  1,951,115      100.0"
      ]
     },
     "execution_count": 22,
     "metadata": {},
     "output_type": "execute_result"
    }
   ],
   "source": [
    "generar_tabla_recuento(base_filtrada, \"mieperho\", \"Miembros por Hogar\",True, True)"
   ]
  },
  {
   "cell_type": "markdown",
   "id": "023479a6-371d-46d7-96fa-2817d61a0d53",
   "metadata": {},
   "source": [
    "#### Edad"
   ]
  },
  {
   "cell_type": "code",
   "execution_count": 23,
   "id": "066129bd",
   "metadata": {},
   "outputs": [
    {
     "data": {
      "text/html": [
       "<div>\n",
       "<style scoped>\n",
       "    .dataframe tbody tr th:only-of-type {\n",
       "        vertical-align: middle;\n",
       "    }\n",
       "\n",
       "    .dataframe tbody tr th {\n",
       "        vertical-align: top;\n",
       "    }\n",
       "\n",
       "    .dataframe thead th {\n",
       "        text-align: right;\n",
       "    }\n",
       "</style>\n",
       "<table border=\"1\" class=\"dataframe\">\n",
       "  <thead>\n",
       "    <tr style=\"text-align: right;\">\n",
       "      <th></th>\n",
       "      <th>Edad</th>\n",
       "      <th>Recuento</th>\n",
       "      <th>Porcentaje</th>\n",
       "    </tr>\n",
       "  </thead>\n",
       "  <tbody>\n",
       "    <tr>\n",
       "      <th>0</th>\n",
       "      <td>5.0</td>\n",
       "      <td>641</td>\n",
       "      <td>0.0</td>\n",
       "    </tr>\n",
       "    <tr>\n",
       "      <th>1</th>\n",
       "      <td>6.0</td>\n",
       "      <td>113,498</td>\n",
       "      <td>5.8</td>\n",
       "    </tr>\n",
       "    <tr>\n",
       "      <th>2</th>\n",
       "      <td>7.0</td>\n",
       "      <td>123,211</td>\n",
       "      <td>6.3</td>\n",
       "    </tr>\n",
       "    <tr>\n",
       "      <th>3</th>\n",
       "      <td>8.0</td>\n",
       "      <td>123,108</td>\n",
       "      <td>6.3</td>\n",
       "    </tr>\n",
       "    <tr>\n",
       "      <th>4</th>\n",
       "      <td>9.0</td>\n",
       "      <td>152,766</td>\n",
       "      <td>7.8</td>\n",
       "    </tr>\n",
       "    <tr>\n",
       "      <th>5</th>\n",
       "      <td>10.0</td>\n",
       "      <td>154,291</td>\n",
       "      <td>7.9</td>\n",
       "    </tr>\n",
       "    <tr>\n",
       "      <th>6</th>\n",
       "      <td>11.0</td>\n",
       "      <td>166,679</td>\n",
       "      <td>8.5</td>\n",
       "    </tr>\n",
       "    <tr>\n",
       "      <th>7</th>\n",
       "      <td>12.0</td>\n",
       "      <td>211,462</td>\n",
       "      <td>10.8</td>\n",
       "    </tr>\n",
       "    <tr>\n",
       "      <th>8</th>\n",
       "      <td>13.0</td>\n",
       "      <td>191,832</td>\n",
       "      <td>9.8</td>\n",
       "    </tr>\n",
       "    <tr>\n",
       "      <th>9</th>\n",
       "      <td>14.0</td>\n",
       "      <td>210,656</td>\n",
       "      <td>10.8</td>\n",
       "    </tr>\n",
       "    <tr>\n",
       "      <th>10</th>\n",
       "      <td>15.0</td>\n",
       "      <td>229,735</td>\n",
       "      <td>11.8</td>\n",
       "    </tr>\n",
       "    <tr>\n",
       "      <th>11</th>\n",
       "      <td>16.0</td>\n",
       "      <td>183,253</td>\n",
       "      <td>9.4</td>\n",
       "    </tr>\n",
       "    <tr>\n",
       "      <th>12</th>\n",
       "      <td>17.0</td>\n",
       "      <td>73,281</td>\n",
       "      <td>3.8</td>\n",
       "    </tr>\n",
       "    <tr>\n",
       "      <th>13</th>\n",
       "      <td>18.0</td>\n",
       "      <td>16,701</td>\n",
       "      <td>0.9</td>\n",
       "    </tr>\n",
       "    <tr>\n",
       "      <th>14</th>\n",
       "      <td>Total</td>\n",
       "      <td>1,951,115</td>\n",
       "      <td>100.0</td>\n",
       "    </tr>\n",
       "  </tbody>\n",
       "</table>\n",
       "</div>"
      ],
      "text/plain": [
       "     Edad   Recuento Porcentaje\n",
       "0     5.0        641        0.0\n",
       "1     6.0    113,498        5.8\n",
       "2     7.0    123,211        6.3\n",
       "3     8.0    123,108        6.3\n",
       "4     9.0    152,766        7.8\n",
       "5    10.0    154,291        7.9\n",
       "6    11.0    166,679        8.5\n",
       "7    12.0    211,462       10.8\n",
       "8    13.0    191,832        9.8\n",
       "9    14.0    210,656       10.8\n",
       "10   15.0    229,735       11.8\n",
       "11   16.0    183,253        9.4\n",
       "12   17.0     73,281        3.8\n",
       "13   18.0     16,701        0.9\n",
       "14  Total  1,951,115      100.0"
      ]
     },
     "execution_count": 23,
     "metadata": {},
     "output_type": "execute_result"
    }
   ],
   "source": [
    "generar_tabla_recuento(base_filtrada, \"Edad\", \"Edad\" , True,  True)##################"
   ]
  },
  {
   "cell_type": "markdown",
   "id": "cbfb81a0-db56-43ac-afdb-eba6dd71c97e",
   "metadata": {},
   "source": [
    "## Variables Cualitativas"
   ]
  },
  {
   "cell_type": "markdown",
   "id": "5b71dfca-db7a-4630-a4bb-a6e164d3e752",
   "metadata": {
    "tags": []
   },
   "source": [
    "#### Nivel Educativo y Centro de estudios"
   ]
  },
  {
   "cell_type": "code",
   "execution_count": 24,
   "id": "f1c99474",
   "metadata": {},
   "outputs": [
    {
     "data": {
      "text/html": [
       "<div>\n",
       "<style scoped>\n",
       "    .dataframe tbody tr th:only-of-type {\n",
       "        vertical-align: middle;\n",
       "    }\n",
       "\n",
       "    .dataframe tbody tr th {\n",
       "        vertical-align: top;\n",
       "    }\n",
       "\n",
       "    .dataframe thead th {\n",
       "        text-align: right;\n",
       "    }\n",
       "</style>\n",
       "<table border=\"1\" class=\"dataframe\">\n",
       "  <thead>\n",
       "    <tr style=\"text-align: right;\">\n",
       "      <th></th>\n",
       "      <th>Nivel Educativo</th>\n",
       "      <th>Recuento</th>\n",
       "      <th>Porcentaje</th>\n",
       "    </tr>\n",
       "  </thead>\n",
       "  <tbody>\n",
       "    <tr>\n",
       "      <th>0</th>\n",
       "      <td>1.0</td>\n",
       "      <td>53,954</td>\n",
       "      <td>2.8</td>\n",
       "    </tr>\n",
       "    <tr>\n",
       "      <th>1</th>\n",
       "      <td>2.0</td>\n",
       "      <td>898,649</td>\n",
       "      <td>46.1</td>\n",
       "    </tr>\n",
       "    <tr>\n",
       "      <th>2</th>\n",
       "      <td>3.0</td>\n",
       "      <td>998,512</td>\n",
       "      <td>51.2</td>\n",
       "    </tr>\n",
       "    <tr>\n",
       "      <th>3</th>\n",
       "      <td>Total</td>\n",
       "      <td>1,951,115</td>\n",
       "      <td>100.0</td>\n",
       "    </tr>\n",
       "  </tbody>\n",
       "</table>\n",
       "</div>"
      ],
      "text/plain": [
       "  Nivel Educativo   Recuento Porcentaje\n",
       "0             1.0     53,954        2.8\n",
       "1             2.0    898,649       46.1\n",
       "2             3.0    998,512       51.2\n",
       "3           Total  1,951,115      100.0"
      ]
     },
     "execution_count": 24,
     "metadata": {},
     "output_type": "execute_result"
    }
   ],
   "source": [
    "generar_tabla_recuento(base_filtrada, \"Nivel_educativo\", \"Nivel Educativo\",True, True)\n",
    "# 1 Educación Inicial  2 Primaria 3 Secundaria "
   ]
  },
  {
   "cell_type": "code",
   "execution_count": 25,
   "id": "7fd273a5",
   "metadata": {},
   "outputs": [
    {
     "data": {
      "text/html": [
       "<div>\n",
       "<style scoped>\n",
       "    .dataframe tbody tr th:only-of-type {\n",
       "        vertical-align: middle;\n",
       "    }\n",
       "\n",
       "    .dataframe tbody tr th {\n",
       "        vertical-align: top;\n",
       "    }\n",
       "\n",
       "    .dataframe thead th {\n",
       "        text-align: right;\n",
       "    }\n",
       "</style>\n",
       "<table border=\"1\" class=\"dataframe\">\n",
       "  <thead>\n",
       "    <tr style=\"text-align: right;\">\n",
       "      <th></th>\n",
       "      <th>Centro de Estudios</th>\n",
       "      <th>Recuento</th>\n",
       "      <th>Porcentaje</th>\n",
       "    </tr>\n",
       "  </thead>\n",
       "  <tbody>\n",
       "    <tr>\n",
       "      <th>0</th>\n",
       "      <td>1.0</td>\n",
       "      <td>1,490,479</td>\n",
       "      <td>76.4</td>\n",
       "    </tr>\n",
       "    <tr>\n",
       "      <th>1</th>\n",
       "      <td>2.0</td>\n",
       "      <td>460,636</td>\n",
       "      <td>23.6</td>\n",
       "    </tr>\n",
       "    <tr>\n",
       "      <th>2</th>\n",
       "      <td>Total</td>\n",
       "      <td>1,951,115</td>\n",
       "      <td>100.0</td>\n",
       "    </tr>\n",
       "  </tbody>\n",
       "</table>\n",
       "</div>"
      ],
      "text/plain": [
       "  Centro de Estudios   Recuento Porcentaje\n",
       "0                1.0  1,490,479       76.4\n",
       "1                2.0    460,636       23.6\n",
       "2              Total  1,951,115      100.0"
      ]
     },
     "execution_count": 25,
     "metadata": {},
     "output_type": "execute_result"
    }
   ],
   "source": [
    "generar_tabla_recuento(base_filtrada, \"Centro_estudios\", \"Centro de Estudios\",True, True)\n",
    "#descripcion_nivel_educativo = { 1 Estatal 2 No estatal}"
   ]
  },
  {
   "cell_type": "markdown",
   "id": "0792b75e-e6b7-42dd-8561-b059278a937e",
   "metadata": {},
   "source": [
    "#### Idioma y Sexo"
   ]
  },
  {
   "cell_type": "code",
   "execution_count": 26,
   "id": "829692a5",
   "metadata": {},
   "outputs": [
    {
     "data": {
      "text/html": [
       "<div>\n",
       "<style scoped>\n",
       "    .dataframe tbody tr th:only-of-type {\n",
       "        vertical-align: middle;\n",
       "    }\n",
       "\n",
       "    .dataframe tbody tr th {\n",
       "        vertical-align: top;\n",
       "    }\n",
       "\n",
       "    .dataframe thead th {\n",
       "        text-align: right;\n",
       "    }\n",
       "</style>\n",
       "<table border=\"1\" class=\"dataframe\">\n",
       "  <thead>\n",
       "    <tr style=\"text-align: right;\">\n",
       "      <th></th>\n",
       "      <th>Idioma</th>\n",
       "      <th>Recuento</th>\n",
       "      <th>Porcentaje</th>\n",
       "    </tr>\n",
       "  </thead>\n",
       "  <tbody>\n",
       "    <tr>\n",
       "      <th>0</th>\n",
       "      <td>0</td>\n",
       "      <td>85,089</td>\n",
       "      <td>4.4</td>\n",
       "    </tr>\n",
       "    <tr>\n",
       "      <th>1</th>\n",
       "      <td>1</td>\n",
       "      <td>1,866,026</td>\n",
       "      <td>95.6</td>\n",
       "    </tr>\n",
       "    <tr>\n",
       "      <th>2</th>\n",
       "      <td>Total</td>\n",
       "      <td>1,951,115</td>\n",
       "      <td>100.0</td>\n",
       "    </tr>\n",
       "  </tbody>\n",
       "</table>\n",
       "</div>"
      ],
      "text/plain": [
       "  Idioma   Recuento Porcentaje\n",
       "0      0     85,089        4.4\n",
       "1      1  1,866,026       95.6\n",
       "2  Total  1,951,115      100.0"
      ]
     },
     "execution_count": 26,
     "metadata": {},
     "output_type": "execute_result"
    }
   ],
   "source": [
    "generar_tabla_recuento(base_filtrada, \"Idioma\", \"Idioma\",True, True)   #{1: \"Castellano\", 0: \"Otros\"}"
   ]
  },
  {
   "cell_type": "code",
   "execution_count": 27,
   "id": "18c84e20",
   "metadata": {},
   "outputs": [
    {
     "data": {
      "text/html": [
       "<div>\n",
       "<style scoped>\n",
       "    .dataframe tbody tr th:only-of-type {\n",
       "        vertical-align: middle;\n",
       "    }\n",
       "\n",
       "    .dataframe tbody tr th {\n",
       "        vertical-align: top;\n",
       "    }\n",
       "\n",
       "    .dataframe thead th {\n",
       "        text-align: right;\n",
       "    }\n",
       "</style>\n",
       "<table border=\"1\" class=\"dataframe\">\n",
       "  <thead>\n",
       "    <tr style=\"text-align: right;\">\n",
       "      <th></th>\n",
       "      <th>Sexo</th>\n",
       "      <th>Recuento</th>\n",
       "      <th>Porcentaje</th>\n",
       "    </tr>\n",
       "  </thead>\n",
       "  <tbody>\n",
       "    <tr>\n",
       "      <th>0</th>\n",
       "      <td>0.0</td>\n",
       "      <td>1,002,272</td>\n",
       "      <td>51.4</td>\n",
       "    </tr>\n",
       "    <tr>\n",
       "      <th>1</th>\n",
       "      <td>1.0</td>\n",
       "      <td>948,842</td>\n",
       "      <td>48.6</td>\n",
       "    </tr>\n",
       "    <tr>\n",
       "      <th>2</th>\n",
       "      <td>Total</td>\n",
       "      <td>1,951,115</td>\n",
       "      <td>100.0</td>\n",
       "    </tr>\n",
       "  </tbody>\n",
       "</table>\n",
       "</div>"
      ],
      "text/plain": [
       "    Sexo   Recuento Porcentaje\n",
       "0    0.0  1,002,272       51.4\n",
       "1    1.0    948,842       48.6\n",
       "2  Total  1,951,115      100.0"
      ]
     },
     "execution_count": 27,
     "metadata": {},
     "output_type": "execute_result"
    }
   ],
   "source": [
    "generar_tabla_recuento(base_filtrada, \"Sexo\", \"Sexo\", True, True)  # 1 Hombre 2 Mujer ###########"
   ]
  },
  {
   "cell_type": "markdown",
   "id": "8486058c-0926-473c-994d-11478355e473",
   "metadata": {
    "tags": []
   },
   "source": [
    "#### Area y Estrato social"
   ]
  },
  {
   "cell_type": "code",
   "execution_count": 28,
   "id": "62fb5ab4",
   "metadata": {},
   "outputs": [
    {
     "data": {
      "text/html": [
       "<div>\n",
       "<style scoped>\n",
       "    .dataframe tbody tr th:only-of-type {\n",
       "        vertical-align: middle;\n",
       "    }\n",
       "\n",
       "    .dataframe tbody tr th {\n",
       "        vertical-align: top;\n",
       "    }\n",
       "\n",
       "    .dataframe thead th {\n",
       "        text-align: right;\n",
       "    }\n",
       "</style>\n",
       "<table border=\"1\" class=\"dataframe\">\n",
       "  <thead>\n",
       "    <tr style=\"text-align: right;\">\n",
       "      <th></th>\n",
       "      <th>Area</th>\n",
       "      <th>Recuento</th>\n",
       "      <th>Porcentaje</th>\n",
       "    </tr>\n",
       "  </thead>\n",
       "  <tbody>\n",
       "    <tr>\n",
       "      <th>0</th>\n",
       "      <td>0</td>\n",
       "      <td>293,738</td>\n",
       "      <td>15.1</td>\n",
       "    </tr>\n",
       "    <tr>\n",
       "      <th>1</th>\n",
       "      <td>1</td>\n",
       "      <td>1,657,377</td>\n",
       "      <td>84.9</td>\n",
       "    </tr>\n",
       "    <tr>\n",
       "      <th>2</th>\n",
       "      <td>Total</td>\n",
       "      <td>1,951,115</td>\n",
       "      <td>100.0</td>\n",
       "    </tr>\n",
       "  </tbody>\n",
       "</table>\n",
       "</div>"
      ],
      "text/plain": [
       "    Area   Recuento Porcentaje\n",
       "0      0    293,738       15.1\n",
       "1      1  1,657,377       84.9\n",
       "2  Total  1,951,115      100.0"
      ]
     },
     "execution_count": 28,
     "metadata": {},
     "output_type": "execute_result"
    }
   ],
   "source": [
    "generar_tabla_recuento(base_filtrada, \"AREA\", \"Area\",True, True) #{1: \"Urbano\", 0: \"Rural\"}"
   ]
  },
  {
   "cell_type": "code",
   "execution_count": 29,
   "id": "739456e8",
   "metadata": {},
   "outputs": [
    {
     "data": {
      "text/html": [
       "<div>\n",
       "<style scoped>\n",
       "    .dataframe tbody tr th:only-of-type {\n",
       "        vertical-align: middle;\n",
       "    }\n",
       "\n",
       "    .dataframe tbody tr th {\n",
       "        vertical-align: top;\n",
       "    }\n",
       "\n",
       "    .dataframe thead th {\n",
       "        text-align: right;\n",
       "    }\n",
       "</style>\n",
       "<table border=\"1\" class=\"dataframe\">\n",
       "  <thead>\n",
       "    <tr style=\"text-align: right;\">\n",
       "      <th></th>\n",
       "      <th>Estrato Social</th>\n",
       "      <th>Recuento</th>\n",
       "      <th>Porcentaje</th>\n",
       "    </tr>\n",
       "  </thead>\n",
       "  <tbody>\n",
       "    <tr>\n",
       "      <th>0</th>\n",
       "      <td>1</td>\n",
       "      <td>18,245</td>\n",
       "      <td>0.9</td>\n",
       "    </tr>\n",
       "    <tr>\n",
       "      <th>1</th>\n",
       "      <td>2</td>\n",
       "      <td>60,704</td>\n",
       "      <td>3.1</td>\n",
       "    </tr>\n",
       "    <tr>\n",
       "      <th>2</th>\n",
       "      <td>3</td>\n",
       "      <td>170,706</td>\n",
       "      <td>8.8</td>\n",
       "    </tr>\n",
       "    <tr>\n",
       "      <th>3</th>\n",
       "      <td>4</td>\n",
       "      <td>622,576</td>\n",
       "      <td>31.9</td>\n",
       "    </tr>\n",
       "    <tr>\n",
       "      <th>4</th>\n",
       "      <td>5</td>\n",
       "      <td>785,146</td>\n",
       "      <td>40.2</td>\n",
       "    </tr>\n",
       "    <tr>\n",
       "      <th>5</th>\n",
       "      <td>6</td>\n",
       "      <td>293,738</td>\n",
       "      <td>15.1</td>\n",
       "    </tr>\n",
       "    <tr>\n",
       "      <th>6</th>\n",
       "      <td>Total</td>\n",
       "      <td>1,951,115</td>\n",
       "      <td>100.0</td>\n",
       "    </tr>\n",
       "  </tbody>\n",
       "</table>\n",
       "</div>"
      ],
      "text/plain": [
       "  Estrato Social   Recuento Porcentaje\n",
       "0              1     18,245        0.9\n",
       "1              2     60,704        3.1\n",
       "2              3    170,706        8.8\n",
       "3              4    622,576       31.9\n",
       "4              5    785,146       40.2\n",
       "5              6    293,738       15.1\n",
       "6          Total  1,951,115      100.0"
      ]
     },
     "execution_count": 29,
     "metadata": {},
     "output_type": "execute_result"
    }
   ],
   "source": [
    "generar_tabla_recuento(base_filtrada, \"estrsocial\", \"Estrato Social\",True, True)\n",
    "# 1 “A” 2 “B” 3 “C” 4 “D” 5 “E” 6 “RURAL”"
   ]
  },
  {
   "cell_type": "markdown",
   "id": "edfe1e61-038d-4ee4-8213-149a8e7a09b6",
   "metadata": {},
   "source": [
    "#### Electricidad y Region"
   ]
  },
  {
   "cell_type": "code",
   "execution_count": 30,
   "id": "aae90ee2",
   "metadata": {},
   "outputs": [
    {
     "data": {
      "text/html": [
       "<div>\n",
       "<style scoped>\n",
       "    .dataframe tbody tr th:only-of-type {\n",
       "        vertical-align: middle;\n",
       "    }\n",
       "\n",
       "    .dataframe tbody tr th {\n",
       "        vertical-align: top;\n",
       "    }\n",
       "\n",
       "    .dataframe thead th {\n",
       "        text-align: right;\n",
       "    }\n",
       "</style>\n",
       "<table border=\"1\" class=\"dataframe\">\n",
       "  <thead>\n",
       "    <tr style=\"text-align: right;\">\n",
       "      <th></th>\n",
       "      <th>Electricidad</th>\n",
       "      <th>Recuento</th>\n",
       "      <th>Porcentaje</th>\n",
       "    </tr>\n",
       "  </thead>\n",
       "  <tbody>\n",
       "    <tr>\n",
       "      <th>0</th>\n",
       "      <td>0.0</td>\n",
       "      <td>35,986</td>\n",
       "      <td>1.8</td>\n",
       "    </tr>\n",
       "    <tr>\n",
       "      <th>1</th>\n",
       "      <td>1.0</td>\n",
       "      <td>1,915,128</td>\n",
       "      <td>98.2</td>\n",
       "    </tr>\n",
       "    <tr>\n",
       "      <th>2</th>\n",
       "      <td>Total</td>\n",
       "      <td>1,951,115</td>\n",
       "      <td>100.0</td>\n",
       "    </tr>\n",
       "  </tbody>\n",
       "</table>\n",
       "</div>"
      ],
      "text/plain": [
       "  Electricidad   Recuento Porcentaje\n",
       "0          0.0     35,986        1.8\n",
       "1          1.0  1,915,128       98.2\n",
       "2        Total  1,951,115      100.0"
      ]
     },
     "execution_count": 30,
     "metadata": {},
     "output_type": "execute_result"
    }
   ],
   "source": [
    "generar_tabla_recuento(base_filtrada, \"Electricidad\", \"Electricidad\", True, True) ##################"
   ]
  },
  {
   "cell_type": "code",
   "execution_count": 31,
   "id": "e47501de-3fb8-4cb3-86b7-efaa627d1cdd",
   "metadata": {},
   "outputs": [],
   "source": [
    "#dict_region = { 1:1, 2:1, 3: 1, 4:2, 5:2, 6:2, 7:3, 8: 4}\n",
    "#merged_data[\"region\"] = merged_data[\"dominio\"].map(dict_region)"
   ]
  },
  {
   "cell_type": "markdown",
   "id": "17a05fc1-fa64-4e86-bde8-b8f957e7390e",
   "metadata": {},
   "source": [
    "#### Departamento"
   ]
  },
  {
   "cell_type": "code",
   "execution_count": 32,
   "id": "1a8ed003-1b21-4a0c-98d6-8538bfcf49f4",
   "metadata": {},
   "outputs": [
    {
     "data": {
      "text/html": [
       "<div>\n",
       "<style scoped>\n",
       "    .dataframe tbody tr th:only-of-type {\n",
       "        vertical-align: middle;\n",
       "    }\n",
       "\n",
       "    .dataframe tbody tr th {\n",
       "        vertical-align: top;\n",
       "    }\n",
       "\n",
       "    .dataframe thead th {\n",
       "        text-align: right;\n",
       "    }\n",
       "</style>\n",
       "<table border=\"1\" class=\"dataframe\">\n",
       "  <thead>\n",
       "    <tr style=\"text-align: right;\">\n",
       "      <th></th>\n",
       "      <th>Region</th>\n",
       "      <th>Recuento</th>\n",
       "      <th>Porcentaje</th>\n",
       "    </tr>\n",
       "  </thead>\n",
       "  <tbody>\n",
       "    <tr>\n",
       "      <th>0</th>\n",
       "      <td>1</td>\n",
       "      <td>515,499</td>\n",
       "      <td>26.4</td>\n",
       "    </tr>\n",
       "    <tr>\n",
       "      <th>1</th>\n",
       "      <td>2</td>\n",
       "      <td>467,242</td>\n",
       "      <td>24.0</td>\n",
       "    </tr>\n",
       "    <tr>\n",
       "      <th>2</th>\n",
       "      <td>3</td>\n",
       "      <td>205,328</td>\n",
       "      <td>10.5</td>\n",
       "    </tr>\n",
       "    <tr>\n",
       "      <th>3</th>\n",
       "      <td>4</td>\n",
       "      <td>763,045</td>\n",
       "      <td>39.1</td>\n",
       "    </tr>\n",
       "    <tr>\n",
       "      <th>4</th>\n",
       "      <td>Total</td>\n",
       "      <td>1,951,115</td>\n",
       "      <td>100.0</td>\n",
       "    </tr>\n",
       "  </tbody>\n",
       "</table>\n",
       "</div>"
      ],
      "text/plain": [
       "  Region   Recuento Porcentaje\n",
       "0      1    515,499       26.4\n",
       "1      2    467,242       24.0\n",
       "2      3    205,328       10.5\n",
       "3      4    763,045       39.1\n",
       "4  Total  1,951,115      100.0"
      ]
     },
     "execution_count": 32,
     "metadata": {},
     "output_type": "execute_result"
    }
   ],
   "source": [
    "generar_tabla_recuento(base_filtrada, \"Region\", \"Region\", True, True) ##################"
   ]
  },
  {
   "cell_type": "code",
   "execution_count": 33,
   "id": "068aaf64-c636-42aa-a14e-e765b19d02d9",
   "metadata": {},
   "outputs": [
    {
     "data": {
      "text/html": [
       "<div>\n",
       "<style scoped>\n",
       "    .dataframe tbody tr th:only-of-type {\n",
       "        vertical-align: middle;\n",
       "    }\n",
       "\n",
       "    .dataframe tbody tr th {\n",
       "        vertical-align: top;\n",
       "    }\n",
       "\n",
       "    .dataframe thead th {\n",
       "        text-align: right;\n",
       "    }\n",
       "</style>\n",
       "<table border=\"1\" class=\"dataframe\">\n",
       "  <thead>\n",
       "    <tr style=\"text-align: right;\">\n",
       "      <th></th>\n",
       "      <th>Departamento</th>\n",
       "      <th>Recuento</th>\n",
       "      <th>Porcentaje</th>\n",
       "    </tr>\n",
       "  </thead>\n",
       "  <tbody>\n",
       "    <tr>\n",
       "      <th>0</th>\n",
       "      <td>1</td>\n",
       "      <td>18,853</td>\n",
       "      <td>1.0</td>\n",
       "    </tr>\n",
       "    <tr>\n",
       "      <th>1</th>\n",
       "      <td>2</td>\n",
       "      <td>62,675</td>\n",
       "      <td>3.2</td>\n",
       "    </tr>\n",
       "    <tr>\n",
       "      <th>2</th>\n",
       "      <td>3</td>\n",
       "      <td>18,720</td>\n",
       "      <td>1.0</td>\n",
       "    </tr>\n",
       "    <tr>\n",
       "      <th>3</th>\n",
       "      <td>4</td>\n",
       "      <td>79,135</td>\n",
       "      <td>4.1</td>\n",
       "    </tr>\n",
       "    <tr>\n",
       "      <th>4</th>\n",
       "      <td>5</td>\n",
       "      <td>33,709</td>\n",
       "      <td>1.7</td>\n",
       "    </tr>\n",
       "    <tr>\n",
       "      <th>5</th>\n",
       "      <td>6</td>\n",
       "      <td>65,142</td>\n",
       "      <td>3.3</td>\n",
       "    </tr>\n",
       "    <tr>\n",
       "      <th>6</th>\n",
       "      <td>7</td>\n",
       "      <td>75,966</td>\n",
       "      <td>3.9</td>\n",
       "    </tr>\n",
       "    <tr>\n",
       "      <th>7</th>\n",
       "      <td>8</td>\n",
       "      <td>39,845</td>\n",
       "      <td>2.0</td>\n",
       "    </tr>\n",
       "    <tr>\n",
       "      <th>8</th>\n",
       "      <td>9</td>\n",
       "      <td>23,903</td>\n",
       "      <td>1.2</td>\n",
       "    </tr>\n",
       "    <tr>\n",
       "      <th>9</th>\n",
       "      <td>10</td>\n",
       "      <td>40,742</td>\n",
       "      <td>2.1</td>\n",
       "    </tr>\n",
       "    <tr>\n",
       "      <th>10</th>\n",
       "      <td>11</td>\n",
       "      <td>56,930</td>\n",
       "      <td>2.9</td>\n",
       "    </tr>\n",
       "    <tr>\n",
       "      <th>11</th>\n",
       "      <td>12</td>\n",
       "      <td>48,010</td>\n",
       "      <td>2.5</td>\n",
       "    </tr>\n",
       "    <tr>\n",
       "      <th>12</th>\n",
       "      <td>13</td>\n",
       "      <td>116,323</td>\n",
       "      <td>6.0</td>\n",
       "    </tr>\n",
       "    <tr>\n",
       "      <th>13</th>\n",
       "      <td>14</td>\n",
       "      <td>79,673</td>\n",
       "      <td>4.1</td>\n",
       "    </tr>\n",
       "    <tr>\n",
       "      <th>14</th>\n",
       "      <td>15</td>\n",
       "      <td>732,753</td>\n",
       "      <td>37.6</td>\n",
       "    </tr>\n",
       "    <tr>\n",
       "      <th>15</th>\n",
       "      <td>16</td>\n",
       "      <td>40,014</td>\n",
       "      <td>2.0</td>\n",
       "    </tr>\n",
       "    <tr>\n",
       "      <th>16</th>\n",
       "      <td>17</td>\n",
       "      <td>7,858</td>\n",
       "      <td>0.4</td>\n",
       "    </tr>\n",
       "    <tr>\n",
       "      <th>17</th>\n",
       "      <td>18</td>\n",
       "      <td>10,538</td>\n",
       "      <td>0.5</td>\n",
       "    </tr>\n",
       "    <tr>\n",
       "      <th>18</th>\n",
       "      <td>19</td>\n",
       "      <td>18,211</td>\n",
       "      <td>0.9</td>\n",
       "    </tr>\n",
       "    <tr>\n",
       "      <th>19</th>\n",
       "      <td>20</td>\n",
       "      <td>166,076</td>\n",
       "      <td>8.5</td>\n",
       "    </tr>\n",
       "    <tr>\n",
       "      <th>20</th>\n",
       "      <td>21</td>\n",
       "      <td>78,302</td>\n",
       "      <td>4.0</td>\n",
       "    </tr>\n",
       "    <tr>\n",
       "      <th>21</th>\n",
       "      <td>22</td>\n",
       "      <td>58,111</td>\n",
       "      <td>3.0</td>\n",
       "    </tr>\n",
       "    <tr>\n",
       "      <th>22</th>\n",
       "      <td>23</td>\n",
       "      <td>16,538</td>\n",
       "      <td>0.9</td>\n",
       "    </tr>\n",
       "    <tr>\n",
       "      <th>23</th>\n",
       "      <td>24</td>\n",
       "      <td>24,790</td>\n",
       "      <td>1.3</td>\n",
       "    </tr>\n",
       "    <tr>\n",
       "      <th>24</th>\n",
       "      <td>25</td>\n",
       "      <td>38,298</td>\n",
       "      <td>2.0</td>\n",
       "    </tr>\n",
       "    <tr>\n",
       "      <th>25</th>\n",
       "      <td>Total</td>\n",
       "      <td>1,951,115</td>\n",
       "      <td>100.0</td>\n",
       "    </tr>\n",
       "  </tbody>\n",
       "</table>\n",
       "</div>"
      ],
      "text/plain": [
       "   Departamento   Recuento Porcentaje\n",
       "0             1     18,853        1.0\n",
       "1             2     62,675        3.2\n",
       "2             3     18,720        1.0\n",
       "3             4     79,135        4.1\n",
       "4             5     33,709        1.7\n",
       "5             6     65,142        3.3\n",
       "6             7     75,966        3.9\n",
       "7             8     39,845        2.0\n",
       "8             9     23,903        1.2\n",
       "9            10     40,742        2.1\n",
       "10           11     56,930        2.9\n",
       "11           12     48,010        2.5\n",
       "12           13    116,323        6.0\n",
       "13           14     79,673        4.1\n",
       "14           15    732,753       37.6\n",
       "15           16     40,014        2.0\n",
       "16           17      7,858        0.4\n",
       "17           18     10,538        0.5\n",
       "18           19     18,211        0.9\n",
       "19           20    166,076        8.5\n",
       "20           21     78,302        4.0\n",
       "21           22     58,111        3.0\n",
       "22           23     16,538        0.9\n",
       "23           24     24,790        1.3\n",
       "24           25     38,298        2.0\n",
       "25        Total  1,951,115      100.0"
      ]
     },
     "execution_count": 33,
     "metadata": {},
     "output_type": "execute_result"
    }
   ],
   "source": [
    "generar_tabla_recuento(base_filtrada, \"DEPARTAMENTO\", \"Departamento\", True, True) ##################"
   ]
  },
  {
   "cell_type": "markdown",
   "id": "4a9613a7-b140-4b32-b520-247fddb7a175",
   "metadata": {},
   "source": [
    "## DIMENSION DE ACCESO"
   ]
  },
  {
   "cell_type": "code",
   "execution_count": 34,
   "id": "c1088008-2936-4c4b-9279-ea74ac6e631c",
   "metadata": {},
   "outputs": [
    {
     "data": {
      "text/html": [
       "<div>\n",
       "<style scoped>\n",
       "    .dataframe tbody tr th:only-of-type {\n",
       "        vertical-align: middle;\n",
       "    }\n",
       "\n",
       "    .dataframe tbody tr th {\n",
       "        vertical-align: top;\n",
       "    }\n",
       "\n",
       "    .dataframe thead th {\n",
       "        text-align: right;\n",
       "    }\n",
       "</style>\n",
       "<table border=\"1\" class=\"dataframe\">\n",
       "  <thead>\n",
       "    <tr style=\"text-align: right;\">\n",
       "      <th></th>\n",
       "      <th>u hogar tiene Teléfono Celular</th>\n",
       "      <th>Recuento</th>\n",
       "      <th>Porcentaje</th>\n",
       "    </tr>\n",
       "  </thead>\n",
       "  <tbody>\n",
       "    <tr>\n",
       "      <th>0</th>\n",
       "      <td>0.0</td>\n",
       "      <td>10,255</td>\n",
       "      <td>0.5</td>\n",
       "    </tr>\n",
       "    <tr>\n",
       "      <th>1</th>\n",
       "      <td>1.0</td>\n",
       "      <td>1,940,860</td>\n",
       "      <td>99.5</td>\n",
       "    </tr>\n",
       "    <tr>\n",
       "      <th>2</th>\n",
       "      <td>Total</td>\n",
       "      <td>1,951,115</td>\n",
       "      <td>100.0</td>\n",
       "    </tr>\n",
       "  </tbody>\n",
       "</table>\n",
       "</div>"
      ],
      "text/plain": [
       "  u hogar tiene Teléfono Celular   Recuento Porcentaje\n",
       "0                            0.0     10,255        0.5\n",
       "1                            1.0  1,940,860       99.5\n",
       "2                          Total  1,951,115      100.0"
      ]
     },
     "execution_count": 34,
     "metadata": {},
     "output_type": "execute_result"
    }
   ],
   "source": [
    "generar_tabla_recuento(base_filtrada, \"p1142\", \"u hogar tiene Teléfono Celular\",True, True) #u hogar tiene : ¿ Conexión a Internet? 1 Conexión a Internet"
   ]
  },
  {
   "cell_type": "code",
   "execution_count": 35,
   "id": "5aa8c64e-910e-4722-a103-880737deda45",
   "metadata": {},
   "outputs": [
    {
     "data": {
      "text/html": [
       "<div>\n",
       "<style scoped>\n",
       "    .dataframe tbody tr th:only-of-type {\n",
       "        vertical-align: middle;\n",
       "    }\n",
       "\n",
       "    .dataframe tbody tr th {\n",
       "        vertical-align: top;\n",
       "    }\n",
       "\n",
       "    .dataframe thead th {\n",
       "        text-align: right;\n",
       "    }\n",
       "</style>\n",
       "<table border=\"1\" class=\"dataframe\">\n",
       "  <thead>\n",
       "    <tr style=\"text-align: right;\">\n",
       "      <th></th>\n",
       "      <th>Conexión a Internet</th>\n",
       "      <th>Recuento</th>\n",
       "      <th>Porcentaje</th>\n",
       "    </tr>\n",
       "  </thead>\n",
       "  <tbody>\n",
       "    <tr>\n",
       "      <th>0</th>\n",
       "      <td>0.0</td>\n",
       "      <td>937,255</td>\n",
       "      <td>48.0</td>\n",
       "    </tr>\n",
       "    <tr>\n",
       "      <th>1</th>\n",
       "      <td>1.0</td>\n",
       "      <td>1,013,860</td>\n",
       "      <td>52.0</td>\n",
       "    </tr>\n",
       "    <tr>\n",
       "      <th>2</th>\n",
       "      <td>Total</td>\n",
       "      <td>1,951,115</td>\n",
       "      <td>100.0</td>\n",
       "    </tr>\n",
       "  </tbody>\n",
       "</table>\n",
       "</div>"
      ],
      "text/plain": [
       "  Conexión a Internet   Recuento Porcentaje\n",
       "0                 0.0    937,255       48.0\n",
       "1                 1.0  1,013,860       52.0\n",
       "2               Total  1,951,115      100.0"
      ]
     },
     "execution_count": 35,
     "metadata": {},
     "output_type": "execute_result"
    }
   ],
   "source": [
    "generar_tabla_recuento(base_filtrada, \"p1144\", \"Conexión a Internet\",True, True) #u hogar tiene : ¿ Conexión a Internet? 1 Conexión a Internet"
   ]
  },
  {
   "cell_type": "markdown",
   "id": "dc063270-f5b0-416a-9b50-67c1684a4f70",
   "metadata": {
    "tags": []
   },
   "source": [
    "## DIMENSIÓN DE USO"
   ]
  },
  {
   "cell_type": "markdown",
   "id": "846f4dff-34fc-454f-92f1-9c10f1780df8",
   "metadata": {},
   "source": [
    "### Uso de Internet"
   ]
  },
  {
   "cell_type": "code",
   "execution_count": 36,
   "id": "3f36de65",
   "metadata": {},
   "outputs": [
    {
     "data": {
      "text/html": [
       "<div>\n",
       "<style scoped>\n",
       "    .dataframe tbody tr th:only-of-type {\n",
       "        vertical-align: middle;\n",
       "    }\n",
       "\n",
       "    .dataframe tbody tr th {\n",
       "        vertical-align: top;\n",
       "    }\n",
       "\n",
       "    .dataframe thead th {\n",
       "        text-align: right;\n",
       "    }\n",
       "</style>\n",
       "<table border=\"1\" class=\"dataframe\">\n",
       "  <thead>\n",
       "    <tr style=\"text-align: right;\">\n",
       "      <th></th>\n",
       "      <th>Uso Internet</th>\n",
       "      <th>Recuento</th>\n",
       "      <th>Porcentaje</th>\n",
       "    </tr>\n",
       "  </thead>\n",
       "  <tbody>\n",
       "    <tr>\n",
       "      <th>0</th>\n",
       "      <td>1.0</td>\n",
       "      <td>1,951,115</td>\n",
       "      <td>100.0</td>\n",
       "    </tr>\n",
       "    <tr>\n",
       "      <th>1</th>\n",
       "      <td>Total</td>\n",
       "      <td>1,951,115</td>\n",
       "      <td>100.0</td>\n",
       "    </tr>\n",
       "  </tbody>\n",
       "</table>\n",
       "</div>"
      ],
      "text/plain": [
       "  Uso Internet   Recuento Porcentaje\n",
       "0          1.0  1,951,115      100.0\n",
       "1        Total  1,951,115      100.0"
      ]
     },
     "execution_count": 36,
     "metadata": {},
     "output_type": "execute_result"
    }
   ],
   "source": [
    "generar_tabla_recuento(base_filtrada, \"i_uso\", \"Uso Internet\",  True, True)  \n",
    "#En el mes anterior, ¿ Ud. hizo uso del Servicio de Internet? 1 Si 2 No"
   ]
  },
  {
   "cell_type": "markdown",
   "id": "78cf6817-9a6e-4e5f-8e73-221e528d8f83",
   "metadata": {},
   "source": [
    "### Uso de Internet en el hogar - Y"
   ]
  },
  {
   "cell_type": "code",
   "execution_count": 37,
   "id": "cb6f7410-e857-4a0f-a026-b13bbeb1737d",
   "metadata": {},
   "outputs": [],
   "source": [
    "#base_filtrada.i_uso_hog.value_counts()"
   ]
  },
  {
   "cell_type": "code",
   "execution_count": 38,
   "id": "85886290",
   "metadata": {},
   "outputs": [
    {
     "data": {
      "text/html": [
       "<div>\n",
       "<style scoped>\n",
       "    .dataframe tbody tr th:only-of-type {\n",
       "        vertical-align: middle;\n",
       "    }\n",
       "\n",
       "    .dataframe tbody tr th {\n",
       "        vertical-align: top;\n",
       "    }\n",
       "\n",
       "    .dataframe thead th {\n",
       "        text-align: right;\n",
       "    }\n",
       "</style>\n",
       "<table border=\"1\" class=\"dataframe\">\n",
       "  <thead>\n",
       "    <tr style=\"text-align: right;\">\n",
       "      <th></th>\n",
       "      <th>Uso de Internet en el hogar</th>\n",
       "      <th>Recuento</th>\n",
       "      <th>Porcentaje</th>\n",
       "    </tr>\n",
       "  </thead>\n",
       "  <tbody>\n",
       "    <tr>\n",
       "      <th>0</th>\n",
       "      <td>0.0</td>\n",
       "      <td>1,460,285</td>\n",
       "      <td>74.8</td>\n",
       "    </tr>\n",
       "    <tr>\n",
       "      <th>1</th>\n",
       "      <td>1.0</td>\n",
       "      <td>490,830</td>\n",
       "      <td>25.2</td>\n",
       "    </tr>\n",
       "    <tr>\n",
       "      <th>2</th>\n",
       "      <td>Total</td>\n",
       "      <td>1,951,115</td>\n",
       "      <td>100.0</td>\n",
       "    </tr>\n",
       "  </tbody>\n",
       "</table>\n",
       "</div>"
      ],
      "text/plain": [
       "  Uso de Internet en el hogar   Recuento Porcentaje\n",
       "0                         0.0  1,460,285       74.8\n",
       "1                         1.0    490,830       25.2\n",
       "2                       Total  1,951,115      100.0"
      ]
     },
     "execution_count": 38,
     "metadata": {},
     "output_type": "execute_result"
    }
   ],
   "source": [
    "generar_tabla_recuento(base_filtrada, \"i_uso_hog\", \"Uso de Internet en el hogar\",True, True)"
   ]
  },
  {
   "cell_type": "markdown",
   "id": "d3efadb0-2ef7-4aa5-9330-22a1cdfa1518",
   "metadata": {},
   "source": [
    "### Uso de Internet en el trabajo"
   ]
  },
  {
   "cell_type": "code",
   "execution_count": 39,
   "id": "59eb5158",
   "metadata": {},
   "outputs": [
    {
     "data": {
      "text/html": [
       "<div>\n",
       "<style scoped>\n",
       "    .dataframe tbody tr th:only-of-type {\n",
       "        vertical-align: middle;\n",
       "    }\n",
       "\n",
       "    .dataframe tbody tr th {\n",
       "        vertical-align: top;\n",
       "    }\n",
       "\n",
       "    .dataframe thead th {\n",
       "        text-align: right;\n",
       "    }\n",
       "</style>\n",
       "<table border=\"1\" class=\"dataframe\">\n",
       "  <thead>\n",
       "    <tr style=\"text-align: right;\">\n",
       "      <th></th>\n",
       "      <th>Uso de Internet en el trabajo</th>\n",
       "      <th>Recuento</th>\n",
       "      <th>Porcentaje</th>\n",
       "    </tr>\n",
       "  </thead>\n",
       "  <tbody>\n",
       "    <tr>\n",
       "      <th>0</th>\n",
       "      <td>0.0</td>\n",
       "      <td>1,948,208</td>\n",
       "      <td>99.8</td>\n",
       "    </tr>\n",
       "    <tr>\n",
       "      <th>1</th>\n",
       "      <td>2.0</td>\n",
       "      <td>2,907</td>\n",
       "      <td>0.2</td>\n",
       "    </tr>\n",
       "    <tr>\n",
       "      <th>2</th>\n",
       "      <td>Total</td>\n",
       "      <td>1,951,115</td>\n",
       "      <td>100.0</td>\n",
       "    </tr>\n",
       "  </tbody>\n",
       "</table>\n",
       "</div>"
      ],
      "text/plain": [
       "  Uso de Internet en el trabajo   Recuento Porcentaje\n",
       "0                           0.0  1,948,208       99.8\n",
       "1                           2.0      2,907        0.2\n",
       "2                         Total  1,951,115      100.0"
      ]
     },
     "execution_count": 39,
     "metadata": {},
     "output_type": "execute_result"
    }
   ],
   "source": [
    "generar_tabla_recuento(base_filtrada, \"i_uso_trab\", \"Uso de Internet en el trabajo\",True, True)"
   ]
  },
  {
   "cell_type": "markdown",
   "id": "fc4de12b-0e9e-4146-84fc-6e13ca637b3b",
   "metadata": {},
   "source": [
    "### Uso de internet en el establecimiento educativo"
   ]
  },
  {
   "cell_type": "code",
   "execution_count": 40,
   "id": "18038ec0",
   "metadata": {},
   "outputs": [
    {
     "data": {
      "text/html": [
       "<div>\n",
       "<style scoped>\n",
       "    .dataframe tbody tr th:only-of-type {\n",
       "        vertical-align: middle;\n",
       "    }\n",
       "\n",
       "    .dataframe tbody tr th {\n",
       "        vertical-align: top;\n",
       "    }\n",
       "\n",
       "    .dataframe thead th {\n",
       "        text-align: right;\n",
       "    }\n",
       "</style>\n",
       "<table border=\"1\" class=\"dataframe\">\n",
       "  <thead>\n",
       "    <tr style=\"text-align: right;\">\n",
       "      <th></th>\n",
       "      <th>Uso de Internet en el establecimiento educativo</th>\n",
       "      <th>Recuento</th>\n",
       "      <th>Porcentaje</th>\n",
       "    </tr>\n",
       "  </thead>\n",
       "  <tbody>\n",
       "    <tr>\n",
       "      <th>0</th>\n",
       "      <td>0.0</td>\n",
       "      <td>1,946,679</td>\n",
       "      <td>99.8</td>\n",
       "    </tr>\n",
       "    <tr>\n",
       "      <th>1</th>\n",
       "      <td>3.0</td>\n",
       "      <td>4,436</td>\n",
       "      <td>0.2</td>\n",
       "    </tr>\n",
       "    <tr>\n",
       "      <th>2</th>\n",
       "      <td>Total</td>\n",
       "      <td>1,951,115</td>\n",
       "      <td>100.0</td>\n",
       "    </tr>\n",
       "  </tbody>\n",
       "</table>\n",
       "</div>"
      ],
      "text/plain": [
       "  Uso de Internet en el establecimiento educativo   Recuento Porcentaje\n",
       "0                                             0.0  1,946,679       99.8\n",
       "1                                             3.0      4,436        0.2\n",
       "2                                           Total  1,951,115      100.0"
      ]
     },
     "execution_count": 40,
     "metadata": {},
     "output_type": "execute_result"
    }
   ],
   "source": [
    "generar_tabla_recuento(base_filtrada, \"i_uso_cedu\", \"Uso de Internet en el establecimiento educativo\",True, True)"
   ]
  },
  {
   "cell_type": "markdown",
   "id": "b30bbc4f-35ae-4475-9d9f-53c9ab8b0c9b",
   "metadata": {},
   "source": [
    "### Uso de internet en cabina publica"
   ]
  },
  {
   "cell_type": "code",
   "execution_count": 41,
   "id": "883986d2",
   "metadata": {},
   "outputs": [
    {
     "data": {
      "text/html": [
       "<div>\n",
       "<style scoped>\n",
       "    .dataframe tbody tr th:only-of-type {\n",
       "        vertical-align: middle;\n",
       "    }\n",
       "\n",
       "    .dataframe tbody tr th {\n",
       "        vertical-align: top;\n",
       "    }\n",
       "\n",
       "    .dataframe thead th {\n",
       "        text-align: right;\n",
       "    }\n",
       "</style>\n",
       "<table border=\"1\" class=\"dataframe\">\n",
       "  <thead>\n",
       "    <tr style=\"text-align: right;\">\n",
       "      <th></th>\n",
       "      <th>Cabina Publica</th>\n",
       "      <th>Recuento</th>\n",
       "      <th>Porcentaje</th>\n",
       "    </tr>\n",
       "  </thead>\n",
       "  <tbody>\n",
       "    <tr>\n",
       "      <th>0</th>\n",
       "      <td>0.0</td>\n",
       "      <td>1,893,321</td>\n",
       "      <td>97.0</td>\n",
       "    </tr>\n",
       "    <tr>\n",
       "      <th>1</th>\n",
       "      <td>4.0</td>\n",
       "      <td>57,794</td>\n",
       "      <td>3.0</td>\n",
       "    </tr>\n",
       "    <tr>\n",
       "      <th>2</th>\n",
       "      <td>Total</td>\n",
       "      <td>1,951,115</td>\n",
       "      <td>100.0</td>\n",
       "    </tr>\n",
       "  </tbody>\n",
       "</table>\n",
       "</div>"
      ],
      "text/plain": [
       "  Cabina Publica   Recuento Porcentaje\n",
       "0            0.0  1,893,321       97.0\n",
       "1            4.0     57,794        3.0\n",
       "2          Total  1,951,115      100.0"
      ]
     },
     "execution_count": 41,
     "metadata": {},
     "output_type": "execute_result"
    }
   ],
   "source": [
    "generar_tabla_recuento(base_filtrada, \"i_uso_cab\", \"Cabina Publica\",True, True)"
   ]
  },
  {
   "cell_type": "markdown",
   "id": "ce033f87-8daf-4e27-8bd2-8f8ffce36bbe",
   "metadata": {},
   "source": [
    "### Uso de internet en casa de otra persona"
   ]
  },
  {
   "cell_type": "code",
   "execution_count": 42,
   "id": "54979fa1",
   "metadata": {},
   "outputs": [
    {
     "data": {
      "text/html": [
       "<div>\n",
       "<style scoped>\n",
       "    .dataframe tbody tr th:only-of-type {\n",
       "        vertical-align: middle;\n",
       "    }\n",
       "\n",
       "    .dataframe tbody tr th {\n",
       "        vertical-align: top;\n",
       "    }\n",
       "\n",
       "    .dataframe thead th {\n",
       "        text-align: right;\n",
       "    }\n",
       "</style>\n",
       "<table border=\"1\" class=\"dataframe\">\n",
       "  <thead>\n",
       "    <tr style=\"text-align: right;\">\n",
       "      <th></th>\n",
       "      <th>Uso del internet en casa de otra persona</th>\n",
       "      <th>Recuento</th>\n",
       "      <th>Porcentaje</th>\n",
       "    </tr>\n",
       "  </thead>\n",
       "  <tbody>\n",
       "    <tr>\n",
       "      <th>0</th>\n",
       "      <td>0.0</td>\n",
       "      <td>1,910,360</td>\n",
       "      <td>97.9</td>\n",
       "    </tr>\n",
       "    <tr>\n",
       "      <th>1</th>\n",
       "      <td>5.0</td>\n",
       "      <td>40,755</td>\n",
       "      <td>2.1</td>\n",
       "    </tr>\n",
       "    <tr>\n",
       "      <th>2</th>\n",
       "      <td>Total</td>\n",
       "      <td>1,951,115</td>\n",
       "      <td>100.0</td>\n",
       "    </tr>\n",
       "  </tbody>\n",
       "</table>\n",
       "</div>"
      ],
      "text/plain": [
       "  Uso del internet en casa de otra persona   Recuento Porcentaje\n",
       "0                                      0.0  1,910,360       97.9\n",
       "1                                      5.0     40,755        2.1\n",
       "2                                    Total  1,951,115      100.0"
      ]
     },
     "execution_count": 42,
     "metadata": {},
     "output_type": "execute_result"
    }
   ],
   "source": [
    "generar_tabla_recuento(base_filtrada, \"i_uso_casotr\", \"Uso del internet en casa de otra persona\",True, True)"
   ]
  },
  {
   "cell_type": "markdown",
   "id": "9ca0d7a7-9294-4411-ac12-019ff15309fc",
   "metadata": {
    "tags": []
   },
   "source": [
    "### Uso de internet - Otro"
   ]
  },
  {
   "cell_type": "code",
   "execution_count": 43,
   "id": "4af43274",
   "metadata": {},
   "outputs": [
    {
     "data": {
      "text/html": [
       "<div>\n",
       "<style scoped>\n",
       "    .dataframe tbody tr th:only-of-type {\n",
       "        vertical-align: middle;\n",
       "    }\n",
       "\n",
       "    .dataframe tbody tr th {\n",
       "        vertical-align: top;\n",
       "    }\n",
       "\n",
       "    .dataframe thead th {\n",
       "        text-align: right;\n",
       "    }\n",
       "</style>\n",
       "<table border=\"1\" class=\"dataframe\">\n",
       "  <thead>\n",
       "    <tr style=\"text-align: right;\">\n",
       "      <th></th>\n",
       "      <th>Otro</th>\n",
       "      <th>Recuento</th>\n",
       "      <th>Porcentaje</th>\n",
       "    </tr>\n",
       "  </thead>\n",
       "  <tbody>\n",
       "    <tr>\n",
       "      <th>0</th>\n",
       "      <td>0.0</td>\n",
       "      <td>1,929,060</td>\n",
       "      <td>98.9</td>\n",
       "    </tr>\n",
       "    <tr>\n",
       "      <th>1</th>\n",
       "      <td>6.0</td>\n",
       "      <td>22,055</td>\n",
       "      <td>1.1</td>\n",
       "    </tr>\n",
       "    <tr>\n",
       "      <th>2</th>\n",
       "      <td>Total</td>\n",
       "      <td>1,951,115</td>\n",
       "      <td>100.0</td>\n",
       "    </tr>\n",
       "  </tbody>\n",
       "</table>\n",
       "</div>"
      ],
      "text/plain": [
       "    Otro   Recuento Porcentaje\n",
       "0    0.0  1,929,060       98.9\n",
       "1    6.0     22,055        1.1\n",
       "2  Total  1,951,115      100.0"
      ]
     },
     "execution_count": 43,
     "metadata": {},
     "output_type": "execute_result"
    }
   ],
   "source": [
    "generar_tabla_recuento(base_filtrada, \"i_uso_otro\", \"Otro\",True, True)"
   ]
  },
  {
   "cell_type": "markdown",
   "id": "b6693f16-229b-4ffd-99da-7f64854e3d0d",
   "metadata": {
    "tags": []
   },
   "source": [
    "### Acceso movil"
   ]
  },
  {
   "cell_type": "code",
   "execution_count": 44,
   "id": "6f004976",
   "metadata": {},
   "outputs": [
    {
     "data": {
      "text/html": [
       "<div>\n",
       "<style scoped>\n",
       "    .dataframe tbody tr th:only-of-type {\n",
       "        vertical-align: middle;\n",
       "    }\n",
       "\n",
       "    .dataframe tbody tr th {\n",
       "        vertical-align: top;\n",
       "    }\n",
       "\n",
       "    .dataframe thead th {\n",
       "        text-align: right;\n",
       "    }\n",
       "</style>\n",
       "<table border=\"1\" class=\"dataframe\">\n",
       "  <thead>\n",
       "    <tr style=\"text-align: right;\">\n",
       "      <th></th>\n",
       "      <th>Uso del internet en Acceso movil de Internet</th>\n",
       "      <th>Recuento</th>\n",
       "      <th>Porcentaje</th>\n",
       "    </tr>\n",
       "  </thead>\n",
       "  <tbody>\n",
       "    <tr>\n",
       "      <th>0</th>\n",
       "      <td>0.0</td>\n",
       "      <td>263,601</td>\n",
       "      <td>13.5</td>\n",
       "    </tr>\n",
       "    <tr>\n",
       "      <th>1</th>\n",
       "      <td>7.0</td>\n",
       "      <td>1,687,514</td>\n",
       "      <td>86.5</td>\n",
       "    </tr>\n",
       "    <tr>\n",
       "      <th>2</th>\n",
       "      <td>Total</td>\n",
       "      <td>1,951,115</td>\n",
       "      <td>100.0</td>\n",
       "    </tr>\n",
       "  </tbody>\n",
       "</table>\n",
       "</div>"
      ],
      "text/plain": [
       "  Uso del internet en Acceso movil de Internet   Recuento Porcentaje\n",
       "0                                          0.0    263,601       13.5\n",
       "1                                          7.0  1,687,514       86.5\n",
       "2                                        Total  1,951,115      100.0"
      ]
     },
     "execution_count": 44,
     "metadata": {},
     "output_type": "execute_result"
    }
   ],
   "source": [
    "generar_tabla_recuento(base_filtrada, \"i_uso_movil\", \"Uso del internet en Acceso movil de Internet\", True, True)"
   ]
  },
  {
   "cell_type": "markdown",
   "id": "f3203485-a403-4dac-8d68-d13cb5c69720",
   "metadata": {
    "tags": []
   },
   "source": [
    "## otros"
   ]
  },
  {
   "cell_type": "code",
   "execution_count": 45,
   "id": "ec77fc6e-8750-42f9-b15a-c5d13fd89f66",
   "metadata": {},
   "outputs": [
    {
     "data": {
      "text/plain": [
       "1.0    6252\n",
       "Name: i_uso, dtype: int64"
      ]
     },
     "execution_count": 45,
     "metadata": {},
     "output_type": "execute_result"
    }
   ],
   "source": [
    "base_filtrada.i_uso.value_counts()"
   ]
  },
  {
   "cell_type": "code",
   "execution_count": 46,
   "id": "f97ada8c-e17f-40f2-949c-1df701d6f768",
   "metadata": {},
   "outputs": [
    {
     "name": "stdout",
     "output_type": "stream",
     "text": [
      "Valores faltantes en 'i_uso': 0\n"
     ]
    }
   ],
   "source": [
    "missing_values = base_filtrada['i_uso'].isna().sum()\n",
    "print(f\"Valores faltantes en 'i_uso': {missing_values}\")\n"
   ]
  },
  {
   "cell_type": "code",
   "execution_count": 47,
   "id": "c6d35c7f-e760-43d1-96fe-1e52132c971c",
   "metadata": {},
   "outputs": [],
   "source": [
    "# Supongamos que 2 es la categoría que deseas asignar a los valores faltantes\n",
    "#base_filtrada['i_uso'] = base_filtrada['i_uso'].fillna(2)"
   ]
  },
  {
   "cell_type": "code",
   "execution_count": 48,
   "id": "2aeef76e-8ae7-482a-adad-32aaba32b5aa",
   "metadata": {},
   "outputs": [
    {
     "data": {
      "text/html": [
       "<div>\n",
       "<style scoped>\n",
       "    .dataframe tbody tr th:only-of-type {\n",
       "        vertical-align: middle;\n",
       "    }\n",
       "\n",
       "    .dataframe tbody tr th {\n",
       "        vertical-align: top;\n",
       "    }\n",
       "\n",
       "    .dataframe thead th {\n",
       "        text-align: right;\n",
       "    }\n",
       "</style>\n",
       "<table border=\"1\" class=\"dataframe\">\n",
       "  <thead>\n",
       "    <tr style=\"text-align: right;\">\n",
       "      <th></th>\n",
       "      <th>Uso internet</th>\n",
       "      <th>Recuento</th>\n",
       "      <th>Porcentaje</th>\n",
       "    </tr>\n",
       "  </thead>\n",
       "  <tbody>\n",
       "    <tr>\n",
       "      <th>0</th>\n",
       "      <td>1.0</td>\n",
       "      <td>1,951,115</td>\n",
       "      <td>100.0</td>\n",
       "    </tr>\n",
       "    <tr>\n",
       "      <th>1</th>\n",
       "      <td>Total</td>\n",
       "      <td>1,951,115</td>\n",
       "      <td>100.0</td>\n",
       "    </tr>\n",
       "  </tbody>\n",
       "</table>\n",
       "</div>"
      ],
      "text/plain": [
       "  Uso internet   Recuento Porcentaje\n",
       "0          1.0  1,951,115      100.0\n",
       "1        Total  1,951,115      100.0"
      ]
     },
     "execution_count": 48,
     "metadata": {},
     "output_type": "execute_result"
    }
   ],
   "source": [
    "generar_tabla_recuento(base_filtrada, \"i_uso\", \"Uso internet\",True, True)"
   ]
  },
  {
   "cell_type": "code",
   "execution_count": null,
   "id": "0913017f-a01e-4c34-99f2-d79efc5eeb7e",
   "metadata": {},
   "outputs": [],
   "source": []
  },
  {
   "attachments": {
    "fdd5ec1b-a491-4d39-bbed-70699fb3ed25.png": {
     "image/png": "[encoded data removed]"
    }
   },
   "cell_type": "markdown",
   "id": "f830c2de-f804-42c3-b9d7-2a7321d19322",
   "metadata": {},
   "source": [
    "![image.png](attachment:fdd5ec1b-a491-4d39-bbed-70699fb3ed25.png)"
   ]
  },
  {
   "cell_type": "code",
   "execution_count": 49,
   "id": "754603af-fa92-43c9-8824-93147b55c196",
   "metadata": {},
   "outputs": [
    {
     "data": {
      "text/html": [
       "<div>\n",
       "<style scoped>\n",
       "    .dataframe tbody tr th:only-of-type {\n",
       "        vertical-align: middle;\n",
       "    }\n",
       "\n",
       "    .dataframe tbody tr th {\n",
       "        vertical-align: top;\n",
       "    }\n",
       "\n",
       "    .dataframe thead th {\n",
       "        text-align: right;\n",
       "    }\n",
       "</style>\n",
       "<table border=\"1\" class=\"dataframe\">\n",
       "  <thead>\n",
       "    <tr style=\"text-align: right;\">\n",
       "      <th></th>\n",
       "      <th>Ud., usa Internet al menos:</th>\n",
       "      <th>Recuento</th>\n",
       "      <th>Porcentaje</th>\n",
       "    </tr>\n",
       "  </thead>\n",
       "  <tbody>\n",
       "    <tr>\n",
       "      <th>0</th>\n",
       "      <td>1.0</td>\n",
       "      <td>1,692,360</td>\n",
       "      <td>86.7</td>\n",
       "    </tr>\n",
       "    <tr>\n",
       "      <th>1</th>\n",
       "      <td>2.0</td>\n",
       "      <td>248,146</td>\n",
       "      <td>12.7</td>\n",
       "    </tr>\n",
       "    <tr>\n",
       "      <th>2</th>\n",
       "      <td>3.0</td>\n",
       "      <td>9,755</td>\n",
       "      <td>0.5</td>\n",
       "    </tr>\n",
       "    <tr>\n",
       "      <th>3</th>\n",
       "      <td>4.0</td>\n",
       "      <td>854</td>\n",
       "      <td>0.0</td>\n",
       "    </tr>\n",
       "    <tr>\n",
       "      <th>4</th>\n",
       "      <td>Total</td>\n",
       "      <td>1,951,115</td>\n",
       "      <td>100.0</td>\n",
       "    </tr>\n",
       "  </tbody>\n",
       "</table>\n",
       "</div>"
      ],
      "text/plain": [
       "  Ud., usa Internet al menos:   Recuento Porcentaje\n",
       "0                         1.0  1,692,360       86.7\n",
       "1                         2.0    248,146       12.7\n",
       "2                         3.0      9,755        0.5\n",
       "3                         4.0        854        0.0\n",
       "4                       Total  1,951,115      100.0"
      ]
     },
     "execution_count": 49,
     "metadata": {},
     "output_type": "execute_result"
    }
   ],
   "source": [
    "generar_tabla_recuento(base_filtrada, \"p314d\", \"Ud., usa Internet al menos:\",True, True) #¿Ud., usa Internet al menos: 1 Una vez al dia?\n",
    "# 2 Una vez a la semana? 3 Una vez al mes? 4 Cada 2 meses o más?"
   ]
  },
  {
   "cell_type": "code",
   "execution_count": 50,
   "id": "518ca9f2-45b3-490c-a522-aab3448fa1ab",
   "metadata": {},
   "outputs": [
    {
     "data": {
      "text/html": [
       "<div>\n",
       "<style scoped>\n",
       "    .dataframe tbody tr th:only-of-type {\n",
       "        vertical-align: middle;\n",
       "    }\n",
       "\n",
       "    .dataframe tbody tr th {\n",
       "        vertical-align: top;\n",
       "    }\n",
       "\n",
       "    .dataframe thead th {\n",
       "        text-align: right;\n",
       "    }\n",
       "</style>\n",
       "<table border=\"1\" class=\"dataframe\">\n",
       "  <thead>\n",
       "    <tr style=\"text-align: right;\">\n",
       "      <th></th>\n",
       "      <th>Monto de pago</th>\n",
       "      <th>Recuento</th>\n",
       "      <th>Porcentaje</th>\n",
       "    </tr>\n",
       "  </thead>\n",
       "  <tbody>\n",
       "    <tr>\n",
       "      <th>0</th>\n",
       "      <td>1.0</td>\n",
       "      <td>2,497</td>\n",
       "      <td>4.5</td>\n",
       "    </tr>\n",
       "    <tr>\n",
       "      <th>1</th>\n",
       "      <td>2.0</td>\n",
       "      <td>8,891</td>\n",
       "      <td>15.9</td>\n",
       "    </tr>\n",
       "    <tr>\n",
       "      <th>2</th>\n",
       "      <td>3.0</td>\n",
       "      <td>2,948</td>\n",
       "      <td>5.3</td>\n",
       "    </tr>\n",
       "    <tr>\n",
       "      <th>3</th>\n",
       "      <td>4.0</td>\n",
       "      <td>4,862</td>\n",
       "      <td>8.7</td>\n",
       "    </tr>\n",
       "    <tr>\n",
       "      <th>4</th>\n",
       "      <td>5.0</td>\n",
       "      <td>13,277</td>\n",
       "      <td>23.8</td>\n",
       "    </tr>\n",
       "    <tr>\n",
       "      <th>5</th>\n",
       "      <td>6.0</td>\n",
       "      <td>774</td>\n",
       "      <td>1.4</td>\n",
       "    </tr>\n",
       "    <tr>\n",
       "      <th>6</th>\n",
       "      <td>7.0</td>\n",
       "      <td>676</td>\n",
       "      <td>1.2</td>\n",
       "    </tr>\n",
       "    <tr>\n",
       "      <th>7</th>\n",
       "      <td>8.0</td>\n",
       "      <td>1,690</td>\n",
       "      <td>3.0</td>\n",
       "    </tr>\n",
       "    <tr>\n",
       "      <th>8</th>\n",
       "      <td>9.0</td>\n",
       "      <td>209</td>\n",
       "      <td>0.4</td>\n",
       "    </tr>\n",
       "    <tr>\n",
       "      <th>9</th>\n",
       "      <td>10.0</td>\n",
       "      <td>10,352</td>\n",
       "      <td>18.5</td>\n",
       "    </tr>\n",
       "    <tr>\n",
       "      <th>10</th>\n",
       "      <td>11.0</td>\n",
       "      <td>133</td>\n",
       "      <td>0.2</td>\n",
       "    </tr>\n",
       "    <tr>\n",
       "      <th>11</th>\n",
       "      <td>12.0</td>\n",
       "      <td>1,886</td>\n",
       "      <td>3.4</td>\n",
       "    </tr>\n",
       "    <tr>\n",
       "      <th>12</th>\n",
       "      <td>13.0</td>\n",
       "      <td>26</td>\n",
       "      <td>0.1</td>\n",
       "    </tr>\n",
       "    <tr>\n",
       "      <th>13</th>\n",
       "      <td>15.0</td>\n",
       "      <td>2,160</td>\n",
       "      <td>3.9</td>\n",
       "    </tr>\n",
       "    <tr>\n",
       "      <th>14</th>\n",
       "      <td>16.0</td>\n",
       "      <td>124</td>\n",
       "      <td>0.2</td>\n",
       "    </tr>\n",
       "    <tr>\n",
       "      <th>15</th>\n",
       "      <td>17.0</td>\n",
       "      <td>1,033</td>\n",
       "      <td>1.9</td>\n",
       "    </tr>\n",
       "    <tr>\n",
       "      <th>16</th>\n",
       "      <td>20.0</td>\n",
       "      <td>1,207</td>\n",
       "      <td>2.2</td>\n",
       "    </tr>\n",
       "    <tr>\n",
       "      <th>17</th>\n",
       "      <td>21.0</td>\n",
       "      <td>525</td>\n",
       "      <td>0.9</td>\n",
       "    </tr>\n",
       "    <tr>\n",
       "      <th>18</th>\n",
       "      <td>25.0</td>\n",
       "      <td>153</td>\n",
       "      <td>0.3</td>\n",
       "    </tr>\n",
       "    <tr>\n",
       "      <th>19</th>\n",
       "      <td>30.0</td>\n",
       "      <td>1,463</td>\n",
       "      <td>2.6</td>\n",
       "    </tr>\n",
       "    <tr>\n",
       "      <th>20</th>\n",
       "      <td>32.0</td>\n",
       "      <td>267</td>\n",
       "      <td>0.5</td>\n",
       "    </tr>\n",
       "    <tr>\n",
       "      <th>21</th>\n",
       "      <td>39.0</td>\n",
       "      <td>26</td>\n",
       "      <td>0.1</td>\n",
       "    </tr>\n",
       "    <tr>\n",
       "      <th>22</th>\n",
       "      <td>40.0</td>\n",
       "      <td>497</td>\n",
       "      <td>0.9</td>\n",
       "    </tr>\n",
       "    <tr>\n",
       "      <th>23</th>\n",
       "      <td>54.0</td>\n",
       "      <td>26</td>\n",
       "      <td>0.1</td>\n",
       "    </tr>\n",
       "    <tr>\n",
       "      <th>24</th>\n",
       "      <td>108.0</td>\n",
       "      <td>93</td>\n",
       "      <td>0.2</td>\n",
       "    </tr>\n",
       "    <tr>\n",
       "      <th>25</th>\n",
       "      <td>Total</td>\n",
       "      <td>55,795</td>\n",
       "      <td>100.0</td>\n",
       "    </tr>\n",
       "  </tbody>\n",
       "</table>\n",
       "</div>"
      ],
      "text/plain": [
       "   Monto de pago Recuento Porcentaje\n",
       "0            1.0    2,497        4.5\n",
       "1            2.0    8,891       15.9\n",
       "2            3.0    2,948        5.3\n",
       "3            4.0    4,862        8.7\n",
       "4            5.0   13,277       23.8\n",
       "5            6.0      774        1.4\n",
       "6            7.0      676        1.2\n",
       "7            8.0    1,690        3.0\n",
       "8            9.0      209        0.4\n",
       "9           10.0   10,352       18.5\n",
       "10          11.0      133        0.2\n",
       "11          12.0    1,886        3.4\n",
       "12          13.0       26        0.1\n",
       "13          15.0    2,160        3.9\n",
       "14          16.0      124        0.2\n",
       "15          17.0    1,033        1.9\n",
       "16          20.0    1,207        2.2\n",
       "17          21.0      525        0.9\n",
       "18          25.0      153        0.3\n",
       "19          30.0    1,463        2.6\n",
       "20          32.0      267        0.5\n",
       "21          39.0       26        0.1\n",
       "22          40.0      497        0.9\n",
       "23          54.0       26        0.1\n",
       "24         108.0       93        0.2\n",
       "25         Total   55,795      100.0"
      ]
     },
     "execution_count": 50,
     "metadata": {},
     "output_type": "execute_result"
    }
   ],
   "source": [
    "generar_tabla_recuento(base_filtrada, \"p315a\", \"Monto de pago\",True, True) #¿Ud., usa Internet al menos: 1 Una vez al dia?\n",
    "# 2 Una vez a la semana? 3 Una vez al mes? 4 Cada 2 meses o más?"
   ]
  },
  {
   "cell_type": "code",
   "execution_count": 51,
   "id": "f190e79f-173c-4ead-a1aa-92a38a8b1ed6",
   "metadata": {},
   "outputs": [
    {
     "data": {
      "text/html": [
       "<div>\n",
       "<style scoped>\n",
       "    .dataframe tbody tr th:only-of-type {\n",
       "        vertical-align: middle;\n",
       "    }\n",
       "\n",
       "    .dataframe tbody tr th {\n",
       "        vertical-align: top;\n",
       "    }\n",
       "\n",
       "    .dataframe thead th {\n",
       "        text-align: right;\n",
       "    }\n",
       "</style>\n",
       "<table border=\"1\" class=\"dataframe\">\n",
       "  <thead>\n",
       "    <tr style=\"text-align: right;\">\n",
       "      <th></th>\n",
       "      <th>Monto pago 2</th>\n",
       "      <th>Recuento</th>\n",
       "      <th>Porcentaje</th>\n",
       "    </tr>\n",
       "  </thead>\n",
       "  <tbody>\n",
       "    <tr>\n",
       "      <th>0</th>\n",
       "      <td>1.0</td>\n",
       "      <td>782</td>\n",
       "      <td>39.5</td>\n",
       "    </tr>\n",
       "    <tr>\n",
       "      <th>1</th>\n",
       "      <td>3.0</td>\n",
       "      <td>396</td>\n",
       "      <td>20.0</td>\n",
       "    </tr>\n",
       "    <tr>\n",
       "      <th>2</th>\n",
       "      <td>17.0</td>\n",
       "      <td>79</td>\n",
       "      <td>4.0</td>\n",
       "    </tr>\n",
       "    <tr>\n",
       "      <th>3</th>\n",
       "      <td>20.0</td>\n",
       "      <td>481</td>\n",
       "      <td>24.3</td>\n",
       "    </tr>\n",
       "    <tr>\n",
       "      <th>4</th>\n",
       "      <td>30.0</td>\n",
       "      <td>244</td>\n",
       "      <td>12.3</td>\n",
       "    </tr>\n",
       "    <tr>\n",
       "      <th>5</th>\n",
       "      <td>Total</td>\n",
       "      <td>1,983</td>\n",
       "      <td>100.0</td>\n",
       "    </tr>\n",
       "  </tbody>\n",
       "</table>\n",
       "</div>"
      ],
      "text/plain": [
       "  Monto pago 2 Recuento Porcentaje\n",
       "0          1.0      782       39.5\n",
       "1          3.0      396       20.0\n",
       "2         17.0       79        4.0\n",
       "3         20.0      481       24.3\n",
       "4         30.0      244       12.3\n",
       "5        Total    1,983      100.0"
      ]
     },
     "execution_count": 51,
     "metadata": {},
     "output_type": "execute_result"
    }
   ],
   "source": [
    "generar_tabla_recuento(base_filtrada, \"p315b\", \"Monto pago 2\",True, True) #¿Ud., usa Internet al menos: 1 Una vez al dia?\n",
    "# 2 Una vez a la semana? 3 Una vez al mes? 4 Cada 2 meses o más?"
   ]
  },
  {
   "cell_type": "markdown",
   "id": "9274011a-a082-4c86-b146-8d50c799e2a7",
   "metadata": {},
   "source": [
    "## Dimensión de USO 2"
   ]
  },
  {
   "cell_type": "markdown",
   "id": "39a69473-0b8e-4a41-8313-6e32380bfd1d",
   "metadata": {
    "tags": []
   },
   "source": [
    "### Acceso - Laptop"
   ]
  },
  {
   "cell_type": "code",
   "execution_count": 52,
   "id": "fe27d696",
   "metadata": {},
   "outputs": [
    {
     "data": {
      "text/html": [
       "<div>\n",
       "<style scoped>\n",
       "    .dataframe tbody tr th:only-of-type {\n",
       "        vertical-align: middle;\n",
       "    }\n",
       "\n",
       "    .dataframe tbody tr th {\n",
       "        vertical-align: top;\n",
       "    }\n",
       "\n",
       "    .dataframe thead th {\n",
       "        text-align: right;\n",
       "    }\n",
       "</style>\n",
       "<table border=\"1\" class=\"dataframe\">\n",
       "  <thead>\n",
       "    <tr style=\"text-align: right;\">\n",
       "      <th></th>\n",
       "      <th>Uso del internet a traves de una LAPTOP</th>\n",
       "      <th>Recuento</th>\n",
       "      <th>Porcentaje</th>\n",
       "    </tr>\n",
       "  </thead>\n",
       "  <tbody>\n",
       "    <tr>\n",
       "      <th>0</th>\n",
       "      <td>0.0</td>\n",
       "      <td>1,729,516</td>\n",
       "      <td>88.6</td>\n",
       "    </tr>\n",
       "    <tr>\n",
       "      <th>1</th>\n",
       "      <td>2.0</td>\n",
       "      <td>221,599</td>\n",
       "      <td>11.4</td>\n",
       "    </tr>\n",
       "    <tr>\n",
       "      <th>2</th>\n",
       "      <td>Total</td>\n",
       "      <td>1,951,115</td>\n",
       "      <td>100.0</td>\n",
       "    </tr>\n",
       "  </tbody>\n",
       "</table>\n",
       "</div>"
      ],
      "text/plain": [
       "  Uso del internet a traves de una LAPTOP   Recuento Porcentaje\n",
       "0                                     0.0  1,729,516       88.6\n",
       "1                                     2.0    221,599       11.4\n",
       "2                                   Total  1,951,115      100.0"
      ]
     },
     "execution_count": 52,
     "metadata": {},
     "output_type": "execute_result"
    }
   ],
   "source": [
    "generar_tabla_recuento(base_filtrada, \"i_laptop\", \"Uso del internet a traves de una LAPTOP\", True, True)"
   ]
  },
  {
   "cell_type": "markdown",
   "id": "9f9e6ca0-d7c6-498c-b16d-bee0769c10da",
   "metadata": {
    "tags": []
   },
   "source": [
    "### Acceso - Computadora"
   ]
  },
  {
   "cell_type": "code",
   "execution_count": 53,
   "id": "8216bfea",
   "metadata": {},
   "outputs": [
    {
     "data": {
      "text/html": [
       "<div>\n",
       "<style scoped>\n",
       "    .dataframe tbody tr th:only-of-type {\n",
       "        vertical-align: middle;\n",
       "    }\n",
       "\n",
       "    .dataframe tbody tr th {\n",
       "        vertical-align: top;\n",
       "    }\n",
       "\n",
       "    .dataframe thead th {\n",
       "        text-align: right;\n",
       "    }\n",
       "</style>\n",
       "<table border=\"1\" class=\"dataframe\">\n",
       "  <thead>\n",
       "    <tr style=\"text-align: right;\">\n",
       "      <th></th>\n",
       "      <th>Uso del internet a traves de una computadora</th>\n",
       "      <th>Recuento</th>\n",
       "      <th>Porcentaje</th>\n",
       "    </tr>\n",
       "  </thead>\n",
       "  <tbody>\n",
       "    <tr>\n",
       "      <th>0</th>\n",
       "      <td>0.0</td>\n",
       "      <td>1,608,881</td>\n",
       "      <td>82.5</td>\n",
       "    </tr>\n",
       "    <tr>\n",
       "      <th>1</th>\n",
       "      <td>1.0</td>\n",
       "      <td>342,234</td>\n",
       "      <td>17.5</td>\n",
       "    </tr>\n",
       "    <tr>\n",
       "      <th>2</th>\n",
       "      <td>Total</td>\n",
       "      <td>1,951,115</td>\n",
       "      <td>100.0</td>\n",
       "    </tr>\n",
       "  </tbody>\n",
       "</table>\n",
       "</div>"
      ],
      "text/plain": [
       "  Uso del internet a traves de una computadora   Recuento Porcentaje\n",
       "0                                          0.0  1,608,881       82.5\n",
       "1                                          1.0    342,234       17.5\n",
       "2                                        Total  1,951,115      100.0"
      ]
     },
     "execution_count": 53,
     "metadata": {},
     "output_type": "execute_result"
    }
   ],
   "source": [
    "generar_tabla_recuento(base_filtrada, \"i_computadora\", \"Uso del internet a traves de una computadora\",True, True)"
   ]
  },
  {
   "cell_type": "markdown",
   "id": "96091371-137f-42e5-a492-fa02cde7a906",
   "metadata": {
    "tags": []
   },
   "source": [
    "### Acceso - Tablet"
   ]
  },
  {
   "cell_type": "code",
   "execution_count": 54,
   "id": "f0f51377",
   "metadata": {},
   "outputs": [
    {
     "data": {
      "text/html": [
       "<div>\n",
       "<style scoped>\n",
       "    .dataframe tbody tr th:only-of-type {\n",
       "        vertical-align: middle;\n",
       "    }\n",
       "\n",
       "    .dataframe tbody tr th {\n",
       "        vertical-align: top;\n",
       "    }\n",
       "\n",
       "    .dataframe thead th {\n",
       "        text-align: right;\n",
       "    }\n",
       "</style>\n",
       "<table border=\"1\" class=\"dataframe\">\n",
       "  <thead>\n",
       "    <tr style=\"text-align: right;\">\n",
       "      <th></th>\n",
       "      <th>Uso del internet a traves de una TABLET</th>\n",
       "      <th>Recuento</th>\n",
       "      <th>Porcentaje</th>\n",
       "    </tr>\n",
       "  </thead>\n",
       "  <tbody>\n",
       "    <tr>\n",
       "      <th>0</th>\n",
       "      <td>0.0</td>\n",
       "      <td>1,891,292</td>\n",
       "      <td>96.9</td>\n",
       "    </tr>\n",
       "    <tr>\n",
       "      <th>1</th>\n",
       "      <td>6.0</td>\n",
       "      <td>59,823</td>\n",
       "      <td>3.1</td>\n",
       "    </tr>\n",
       "    <tr>\n",
       "      <th>2</th>\n",
       "      <td>Total</td>\n",
       "      <td>1,951,115</td>\n",
       "      <td>100.0</td>\n",
       "    </tr>\n",
       "  </tbody>\n",
       "</table>\n",
       "</div>"
      ],
      "text/plain": [
       "  Uso del internet a traves de una TABLET   Recuento Porcentaje\n",
       "0                                     0.0  1,891,292       96.9\n",
       "1                                     6.0     59,823        3.1\n",
       "2                                   Total  1,951,115      100.0"
      ]
     },
     "execution_count": 54,
     "metadata": {},
     "output_type": "execute_result"
    }
   ],
   "source": [
    "generar_tabla_recuento(base_filtrada, \"i_tablet\", \"Uso del internet a traves de una TABLET\",True, True)"
   ]
  },
  {
   "cell_type": "markdown",
   "id": "e13514d4-75ca-47a0-bd0f-feb52b5cb4cf",
   "metadata": {},
   "source": [
    "### Acceso - Otro"
   ]
  },
  {
   "cell_type": "code",
   "execution_count": 55,
   "id": "a59ff54b",
   "metadata": {},
   "outputs": [
    {
     "data": {
      "text/html": [
       "<div>\n",
       "<style scoped>\n",
       "    .dataframe tbody tr th:only-of-type {\n",
       "        vertical-align: middle;\n",
       "    }\n",
       "\n",
       "    .dataframe tbody tr th {\n",
       "        vertical-align: top;\n",
       "    }\n",
       "\n",
       "    .dataframe thead th {\n",
       "        text-align: right;\n",
       "    }\n",
       "</style>\n",
       "<table border=\"1\" class=\"dataframe\">\n",
       "  <thead>\n",
       "    <tr style=\"text-align: right;\">\n",
       "      <th></th>\n",
       "      <th>Uso del internet a traves de una OTRO</th>\n",
       "      <th>Recuento</th>\n",
       "      <th>Porcentaje</th>\n",
       "    </tr>\n",
       "  </thead>\n",
       "  <tbody>\n",
       "    <tr>\n",
       "      <th>0</th>\n",
       "      <td>0.0</td>\n",
       "      <td>1,571,334</td>\n",
       "      <td>80.5</td>\n",
       "    </tr>\n",
       "    <tr>\n",
       "      <th>1</th>\n",
       "      <td>7.0</td>\n",
       "      <td>379,781</td>\n",
       "      <td>19.5</td>\n",
       "    </tr>\n",
       "    <tr>\n",
       "      <th>2</th>\n",
       "      <td>Total</td>\n",
       "      <td>1,951,115</td>\n",
       "      <td>100.0</td>\n",
       "    </tr>\n",
       "  </tbody>\n",
       "</table>\n",
       "</div>"
      ],
      "text/plain": [
       "  Uso del internet a traves de una OTRO   Recuento Porcentaje\n",
       "0                                   0.0  1,571,334       80.5\n",
       "1                                   7.0    379,781       19.5\n",
       "2                                 Total  1,951,115      100.0"
      ]
     },
     "execution_count": 55,
     "metadata": {},
     "output_type": "execute_result"
    }
   ],
   "source": [
    "generar_tabla_recuento(base_filtrada, \"i_otro\", \"Uso del internet a traves de una OTRO\", True, True)"
   ]
  },
  {
   "cell_type": "markdown",
   "id": "6cd47193-88bc-4d11-a733-199b31f42727",
   "metadata": {},
   "source": [
    "### Acceso - Celular sin plan de datos"
   ]
  },
  {
   "cell_type": "code",
   "execution_count": 56,
   "id": "5179049e",
   "metadata": {},
   "outputs": [
    {
     "data": {
      "text/html": [
       "<div>\n",
       "<style scoped>\n",
       "    .dataframe tbody tr th:only-of-type {\n",
       "        vertical-align: middle;\n",
       "    }\n",
       "\n",
       "    .dataframe tbody tr th {\n",
       "        vertical-align: top;\n",
       "    }\n",
       "\n",
       "    .dataframe thead th {\n",
       "        text-align: right;\n",
       "    }\n",
       "</style>\n",
       "<table border=\"1\" class=\"dataframe\">\n",
       "  <thead>\n",
       "    <tr style=\"text-align: right;\">\n",
       "      <th></th>\n",
       "      <th>Uso del internet a traves de una CELULAR SIN PLAN DE DATOS</th>\n",
       "      <th>Recuento</th>\n",
       "      <th>Porcentaje</th>\n",
       "    </tr>\n",
       "  </thead>\n",
       "  <tbody>\n",
       "    <tr>\n",
       "      <th>0</th>\n",
       "      <td>0.0</td>\n",
       "      <td>951,719</td>\n",
       "      <td>48.8</td>\n",
       "    </tr>\n",
       "    <tr>\n",
       "      <th>1</th>\n",
       "      <td>8.0</td>\n",
       "      <td>999,396</td>\n",
       "      <td>51.2</td>\n",
       "    </tr>\n",
       "    <tr>\n",
       "      <th>2</th>\n",
       "      <td>Total</td>\n",
       "      <td>1,951,115</td>\n",
       "      <td>100.0</td>\n",
       "    </tr>\n",
       "  </tbody>\n",
       "</table>\n",
       "</div>"
      ],
      "text/plain": [
       "  Uso del internet a traves de una CELULAR SIN PLAN DE DATOS   Recuento  \\\n",
       "0                                                0.0            951,719   \n",
       "1                                                8.0            999,396   \n",
       "2                                              Total          1,951,115   \n",
       "\n",
       "  Porcentaje  \n",
       "0       48.8  \n",
       "1       51.2  \n",
       "2      100.0  "
      ]
     },
     "execution_count": 56,
     "metadata": {},
     "output_type": "execute_result"
    }
   ],
   "source": [
    "generar_tabla_recuento(base_filtrada, \"i_cel_sdatos\", \"Uso del internet a traves de una CELULAR SIN PLAN DE DATOS\",True, True)"
   ]
  },
  {
   "cell_type": "markdown",
   "id": "9ea3ff5a-df4b-4918-9073-81ec30fb2bde",
   "metadata": {},
   "source": [
    "### Acceso - Celular con plan de datos"
   ]
  },
  {
   "cell_type": "code",
   "execution_count": 57,
   "id": "91dd43b7",
   "metadata": {},
   "outputs": [
    {
     "data": {
      "text/html": [
       "<div>\n",
       "<style scoped>\n",
       "    .dataframe tbody tr th:only-of-type {\n",
       "        vertical-align: middle;\n",
       "    }\n",
       "\n",
       "    .dataframe tbody tr th {\n",
       "        vertical-align: top;\n",
       "    }\n",
       "\n",
       "    .dataframe thead th {\n",
       "        text-align: right;\n",
       "    }\n",
       "</style>\n",
       "<table border=\"1\" class=\"dataframe\">\n",
       "  <thead>\n",
       "    <tr style=\"text-align: right;\">\n",
       "      <th></th>\n",
       "      <th>Uso del internet a traves de una CELULAR CON PLAN DE DATOS</th>\n",
       "      <th>Recuento</th>\n",
       "      <th>Porcentaje</th>\n",
       "    </tr>\n",
       "  </thead>\n",
       "  <tbody>\n",
       "    <tr>\n",
       "      <th>0</th>\n",
       "      <td>0.0</td>\n",
       "      <td>1,589,064</td>\n",
       "      <td>81.4</td>\n",
       "    </tr>\n",
       "    <tr>\n",
       "      <th>1</th>\n",
       "      <td>9.0</td>\n",
       "      <td>362,051</td>\n",
       "      <td>18.6</td>\n",
       "    </tr>\n",
       "    <tr>\n",
       "      <th>2</th>\n",
       "      <td>Total</td>\n",
       "      <td>1,951,115</td>\n",
       "      <td>100.0</td>\n",
       "    </tr>\n",
       "  </tbody>\n",
       "</table>\n",
       "</div>"
      ],
      "text/plain": [
       "  Uso del internet a traves de una CELULAR CON PLAN DE DATOS   Recuento  \\\n",
       "0                                                0.0          1,589,064   \n",
       "1                                                9.0            362,051   \n",
       "2                                              Total          1,951,115   \n",
       "\n",
       "  Porcentaje  \n",
       "0       81.4  \n",
       "1       18.6  \n",
       "2      100.0  "
      ]
     },
     "execution_count": 57,
     "metadata": {},
     "output_type": "execute_result"
    }
   ],
   "source": [
    "generar_tabla_recuento(base_filtrada, \"i_cel_cdatos\", \"Uso del internet a traves de una CELULAR CON PLAN DE DATOS\",True,True)"
   ]
  },
  {
   "cell_type": "code",
   "execution_count": 58,
   "id": "63970d7f",
   "metadata": {},
   "outputs": [],
   "source": [
    "#generar_tabla_recuento(base_filtrada, \"p314b1_5\", \"Uso del internet a traves de una CELULAR DE SU CENTRO DE TRABAJO\", guardar_como_jpeg=True) "
   ]
  },
  {
   "cell_type": "markdown",
   "id": "5b3bcbd7-1835-4cc6-856b-57d584615275",
   "metadata": {},
   "source": [
    "## DIMENSION -APROPIACION"
   ]
  },
  {
   "cell_type": "code",
   "execution_count": 59,
   "id": "bbda7219-3c8f-452c-a713-4c95b010eba7",
   "metadata": {},
   "outputs": [
    {
     "data": {
      "text/html": [
       "<div>\n",
       "<style scoped>\n",
       "    .dataframe tbody tr th:only-of-type {\n",
       "        vertical-align: middle;\n",
       "    }\n",
       "\n",
       "    .dataframe tbody tr th {\n",
       "        vertical-align: top;\n",
       "    }\n",
       "\n",
       "    .dataframe thead th {\n",
       "        text-align: right;\n",
       "    }\n",
       "</style>\n",
       "<table border=\"1\" class=\"dataframe\">\n",
       "  <thead>\n",
       "    <tr style=\"text-align: right;\">\n",
       "      <th></th>\n",
       "      <th>Usó el Internet para: Obtener información</th>\n",
       "      <th>Recuento</th>\n",
       "      <th>Porcentaje</th>\n",
       "    </tr>\n",
       "  </thead>\n",
       "  <tbody>\n",
       "    <tr>\n",
       "      <th>0</th>\n",
       "      <td>1.0</td>\n",
       "      <td>1,606,055</td>\n",
       "      <td>82.3</td>\n",
       "    </tr>\n",
       "    <tr>\n",
       "      <th>1</th>\n",
       "      <td>2.0</td>\n",
       "      <td>345,060</td>\n",
       "      <td>17.7</td>\n",
       "    </tr>\n",
       "    <tr>\n",
       "      <th>2</th>\n",
       "      <td>Total</td>\n",
       "      <td>1,951,115</td>\n",
       "      <td>100.0</td>\n",
       "    </tr>\n",
       "  </tbody>\n",
       "</table>\n",
       "</div>"
      ],
      "text/plain": [
       "  Usó el Internet para: Obtener información   Recuento Porcentaje\n",
       "0                                       1.0  1,606,055       82.3\n",
       "1                                       2.0    345,060       17.7\n",
       "2                                     Total  1,951,115      100.0"
      ]
     },
     "execution_count": 59,
     "metadata": {},
     "output_type": "execute_result"
    }
   ],
   "source": [
    "generar_tabla_recuento(base_filtrada, \"i_obtener_info\", \"Usó el Internet para: Obtener información\",True,True)"
   ]
  },
  {
   "cell_type": "code",
   "execution_count": 60,
   "id": "24b1e8f0-d0d3-4c35-af82-bb4a183fd7c7",
   "metadata": {},
   "outputs": [
    {
     "data": {
      "text/html": [
       "<div>\n",
       "<style scoped>\n",
       "    .dataframe tbody tr th:only-of-type {\n",
       "        vertical-align: middle;\n",
       "    }\n",
       "\n",
       "    .dataframe tbody tr th {\n",
       "        vertical-align: top;\n",
       "    }\n",
       "\n",
       "    .dataframe thead th {\n",
       "        text-align: right;\n",
       "    }\n",
       "</style>\n",
       "<table border=\"1\" class=\"dataframe\">\n",
       "  <thead>\n",
       "    <tr style=\"text-align: right;\">\n",
       "      <th></th>\n",
       "      <th>Usó el Internet para: Comunicarsen</th>\n",
       "      <th>Recuento</th>\n",
       "      <th>Porcentaje</th>\n",
       "    </tr>\n",
       "  </thead>\n",
       "  <tbody>\n",
       "    <tr>\n",
       "      <th>0</th>\n",
       "      <td>1.0</td>\n",
       "      <td>1,664,750</td>\n",
       "      <td>85.3</td>\n",
       "    </tr>\n",
       "    <tr>\n",
       "      <th>1</th>\n",
       "      <td>2.0</td>\n",
       "      <td>286,365</td>\n",
       "      <td>14.7</td>\n",
       "    </tr>\n",
       "    <tr>\n",
       "      <th>2</th>\n",
       "      <td>Total</td>\n",
       "      <td>1,951,115</td>\n",
       "      <td>100.0</td>\n",
       "    </tr>\n",
       "  </tbody>\n",
       "</table>\n",
       "</div>"
      ],
      "text/plain": [
       "  Usó el Internet para: Comunicarsen   Recuento Porcentaje\n",
       "0                                1.0  1,664,750       85.3\n",
       "1                                2.0    286,365       14.7\n",
       "2                              Total  1,951,115      100.0"
      ]
     },
     "execution_count": 60,
     "metadata": {},
     "output_type": "execute_result"
    }
   ],
   "source": [
    "generar_tabla_recuento(base_filtrada, \"i_comunicarse\", \"Usó el Internet para: Comunicarsen\",True,True)"
   ]
  },
  {
   "cell_type": "code",
   "execution_count": 61,
   "id": "46afff72-766e-4051-bc70-d47b5bac0dbf",
   "metadata": {},
   "outputs": [
    {
     "data": {
      "text/html": [
       "<div>\n",
       "<style scoped>\n",
       "    .dataframe tbody tr th:only-of-type {\n",
       "        vertical-align: middle;\n",
       "    }\n",
       "\n",
       "    .dataframe tbody tr th {\n",
       "        vertical-align: top;\n",
       "    }\n",
       "\n",
       "    .dataframe thead th {\n",
       "        text-align: right;\n",
       "    }\n",
       "</style>\n",
       "<table border=\"1\" class=\"dataframe\">\n",
       "  <thead>\n",
       "    <tr style=\"text-align: right;\">\n",
       "      <th></th>\n",
       "      <th>Usó el Internet para: Comprar productos_servicios</th>\n",
       "      <th>Recuento</th>\n",
       "      <th>Porcentaje</th>\n",
       "    </tr>\n",
       "  </thead>\n",
       "  <tbody>\n",
       "    <tr>\n",
       "      <th>0</th>\n",
       "      <td>1.0</td>\n",
       "      <td>26,755</td>\n",
       "      <td>1.4</td>\n",
       "    </tr>\n",
       "    <tr>\n",
       "      <th>1</th>\n",
       "      <td>2.0</td>\n",
       "      <td>1,924,360</td>\n",
       "      <td>98.6</td>\n",
       "    </tr>\n",
       "    <tr>\n",
       "      <th>2</th>\n",
       "      <td>Total</td>\n",
       "      <td>1,951,115</td>\n",
       "      <td>100.0</td>\n",
       "    </tr>\n",
       "  </tbody>\n",
       "</table>\n",
       "</div>"
      ],
      "text/plain": [
       "  Usó el Internet para: Comprar productos_servicios   Recuento Porcentaje\n",
       "0                                               1.0     26,755        1.4\n",
       "1                                               2.0  1,924,360       98.6\n",
       "2                                             Total  1,951,115      100.0"
      ]
     },
     "execution_count": 61,
     "metadata": {},
     "output_type": "execute_result"
    }
   ],
   "source": [
    "generar_tabla_recuento(base_filtrada, \"i_comprar_pdts_ss\", \"Usó el Internet para: Comprar productos_servicios\",True,True)"
   ]
  },
  {
   "cell_type": "code",
   "execution_count": 62,
   "id": "f461771e-aa28-4934-b3ab-18f13667947b",
   "metadata": {},
   "outputs": [
    {
     "data": {
      "text/html": [
       "<div>\n",
       "<style scoped>\n",
       "    .dataframe tbody tr th:only-of-type {\n",
       "        vertical-align: middle;\n",
       "    }\n",
       "\n",
       "    .dataframe tbody tr th {\n",
       "        vertical-align: top;\n",
       "    }\n",
       "\n",
       "    .dataframe thead th {\n",
       "        text-align: right;\n",
       "    }\n",
       "</style>\n",
       "<table border=\"1\" class=\"dataframe\">\n",
       "  <thead>\n",
       "    <tr style=\"text-align: right;\">\n",
       "      <th></th>\n",
       "      <th>Usó el Internet para: Operaciones de banca electrónica</th>\n",
       "      <th>Recuento</th>\n",
       "      <th>Porcentaje</th>\n",
       "    </tr>\n",
       "  </thead>\n",
       "  <tbody>\n",
       "    <tr>\n",
       "      <th>0</th>\n",
       "      <td>1.0</td>\n",
       "      <td>6,961</td>\n",
       "      <td>0.4</td>\n",
       "    </tr>\n",
       "    <tr>\n",
       "      <th>1</th>\n",
       "      <td>2.0</td>\n",
       "      <td>1,944,154</td>\n",
       "      <td>99.6</td>\n",
       "    </tr>\n",
       "    <tr>\n",
       "      <th>2</th>\n",
       "      <td>Total</td>\n",
       "      <td>1,951,115</td>\n",
       "      <td>100.0</td>\n",
       "    </tr>\n",
       "  </tbody>\n",
       "</table>\n",
       "</div>"
      ],
      "text/plain": [
       "  Usó el Internet para: Operaciones de banca electrónica   Recuento Porcentaje\n",
       "0                                                1.0          6,961        0.4\n",
       "1                                                2.0      1,944,154       99.6\n",
       "2                                              Total      1,951,115      100.0"
      ]
     },
     "execution_count": 62,
     "metadata": {},
     "output_type": "execute_result"
    }
   ],
   "source": [
    "generar_tabla_recuento(base_filtrada,'i_operaciones_bancarias', 'Usó el Internet para: Operaciones de banca electrónica', True, True)\n"
   ]
  },
  {
   "cell_type": "code",
   "execution_count": 63,
   "id": "a0432c5d-e646-4214-b1e4-69cf4a8a78a3",
   "metadata": {},
   "outputs": [
    {
     "data": {
      "text/html": [
       "<div>\n",
       "<style scoped>\n",
       "    .dataframe tbody tr th:only-of-type {\n",
       "        vertical-align: middle;\n",
       "    }\n",
       "\n",
       "    .dataframe tbody tr th {\n",
       "        vertical-align: top;\n",
       "    }\n",
       "\n",
       "    .dataframe thead th {\n",
       "        text-align: right;\n",
       "    }\n",
       "</style>\n",
       "<table border=\"1\" class=\"dataframe\">\n",
       "  <thead>\n",
       "    <tr style=\"text-align: right;\">\n",
       "      <th></th>\n",
       "      <th>Usó el Internet para: Educación formal y actividades de capacitación</th>\n",
       "      <th>Recuento</th>\n",
       "      <th>Porcentaje</th>\n",
       "    </tr>\n",
       "  </thead>\n",
       "  <tbody>\n",
       "    <tr>\n",
       "      <th>0</th>\n",
       "      <td>1.0</td>\n",
       "      <td>539,368</td>\n",
       "      <td>27.6</td>\n",
       "    </tr>\n",
       "    <tr>\n",
       "      <th>1</th>\n",
       "      <td>2.0</td>\n",
       "      <td>1,411,747</td>\n",
       "      <td>72.4</td>\n",
       "    </tr>\n",
       "    <tr>\n",
       "      <th>2</th>\n",
       "      <td>Total</td>\n",
       "      <td>1,951,115</td>\n",
       "      <td>100.0</td>\n",
       "    </tr>\n",
       "  </tbody>\n",
       "</table>\n",
       "</div>"
      ],
      "text/plain": [
       "  Usó el Internet para: Educación formal y actividades de capacitación  \\\n",
       "0                                                1.0                     \n",
       "1                                                2.0                     \n",
       "2                                              Total                     \n",
       "\n",
       "    Recuento Porcentaje  \n",
       "0    539,368       27.6  \n",
       "1  1,411,747       72.4  \n",
       "2  1,951,115      100.0  "
      ]
     },
     "execution_count": 63,
     "metadata": {},
     "output_type": "execute_result"
    }
   ],
   "source": [
    "generar_tabla_recuento(base_filtrada, \"i_edu_formal\", \"Usó el Internet para: Educación formal y actividades de capacitación\",True,True)"
   ]
  },
  {
   "cell_type": "code",
   "execution_count": 64,
   "id": "863556b2-79a6-4cbb-bc0d-d81d67984cc7",
   "metadata": {},
   "outputs": [
    {
     "data": {
      "text/html": [
       "<div>\n",
       "<style scoped>\n",
       "    .dataframe tbody tr th:only-of-type {\n",
       "        vertical-align: middle;\n",
       "    }\n",
       "\n",
       "    .dataframe tbody tr th {\n",
       "        vertical-align: top;\n",
       "    }\n",
       "\n",
       "    .dataframe thead th {\n",
       "        text-align: right;\n",
       "    }\n",
       "</style>\n",
       "<table border=\"1\" class=\"dataframe\">\n",
       "  <thead>\n",
       "    <tr style=\"text-align: right;\">\n",
       "      <th></th>\n",
       "      <th>Usó el Internet para: Transacciones</th>\n",
       "      <th>Recuento</th>\n",
       "      <th>Porcentaje</th>\n",
       "    </tr>\n",
       "  </thead>\n",
       "  <tbody>\n",
       "    <tr>\n",
       "      <th>0</th>\n",
       "      <td>1.0</td>\n",
       "      <td>20,767</td>\n",
       "      <td>1.1</td>\n",
       "    </tr>\n",
       "    <tr>\n",
       "      <th>1</th>\n",
       "      <td>2.0</td>\n",
       "      <td>1,930,348</td>\n",
       "      <td>98.9</td>\n",
       "    </tr>\n",
       "    <tr>\n",
       "      <th>2</th>\n",
       "      <td>Total</td>\n",
       "      <td>1,951,115</td>\n",
       "      <td>100.0</td>\n",
       "    </tr>\n",
       "  </tbody>\n",
       "</table>\n",
       "</div>"
      ],
      "text/plain": [
       "  Usó el Internet para: Transacciones   Recuento Porcentaje\n",
       "0                                 1.0     20,767        1.1\n",
       "1                                 2.0  1,930,348       98.9\n",
       "2                               Total  1,951,115      100.0"
      ]
     },
     "execution_count": 64,
     "metadata": {},
     "output_type": "execute_result"
    }
   ],
   "source": [
    "generar_tabla_recuento(base_filtrada, \"i_transacciones\", \"Usó el Internet para: Transacciones\",True,True)"
   ]
  },
  {
   "cell_type": "code",
   "execution_count": 65,
   "id": "cef8d357-4a05-4a4a-b3ff-ad9c9b967e58",
   "metadata": {},
   "outputs": [
    {
     "data": {
      "text/html": [
       "<div>\n",
       "<style scoped>\n",
       "    .dataframe tbody tr th:only-of-type {\n",
       "        vertical-align: middle;\n",
       "    }\n",
       "\n",
       "    .dataframe tbody tr th {\n",
       "        vertical-align: top;\n",
       "    }\n",
       "\n",
       "    .dataframe thead th {\n",
       "        text-align: right;\n",
       "    }\n",
       "</style>\n",
       "<table border=\"1\" class=\"dataframe\">\n",
       "  <thead>\n",
       "    <tr style=\"text-align: right;\">\n",
       "      <th></th>\n",
       "      <th>Usó el Internet para: Actividades de entretenimiento</th>\n",
       "      <th>Recuento</th>\n",
       "      <th>Porcentaje</th>\n",
       "    </tr>\n",
       "  </thead>\n",
       "  <tbody>\n",
       "    <tr>\n",
       "      <th>0</th>\n",
       "      <td>1.0</td>\n",
       "      <td>1,504,413</td>\n",
       "      <td>77.1</td>\n",
       "    </tr>\n",
       "    <tr>\n",
       "      <th>1</th>\n",
       "      <td>2.0</td>\n",
       "      <td>446,702</td>\n",
       "      <td>22.9</td>\n",
       "    </tr>\n",
       "    <tr>\n",
       "      <th>2</th>\n",
       "      <td>Total</td>\n",
       "      <td>1,951,115</td>\n",
       "      <td>100.0</td>\n",
       "    </tr>\n",
       "  </tbody>\n",
       "</table>\n",
       "</div>"
      ],
      "text/plain": [
       "  Usó el Internet para: Actividades de entretenimiento   Recuento Porcentaje\n",
       "0                                                1.0    1,504,413       77.1\n",
       "1                                                2.0      446,702       22.9\n",
       "2                                              Total    1,951,115      100.0"
      ]
     },
     "execution_count": 65,
     "metadata": {},
     "output_type": "execute_result"
    }
   ],
   "source": [
    "generar_tabla_recuento(base_filtrada, \"i_act_entretenimiento\", \"Usó el Internet para: Actividades de entretenimiento\",True,True)"
   ]
  },
  {
   "cell_type": "code",
   "execution_count": 66,
   "id": "dee9981d-dba5-4999-9438-3cd3de3d4df8",
   "metadata": {},
   "outputs": [
    {
     "data": {
      "text/html": [
       "<div>\n",
       "<style scoped>\n",
       "    .dataframe tbody tr th:only-of-type {\n",
       "        vertical-align: middle;\n",
       "    }\n",
       "\n",
       "    .dataframe tbody tr th {\n",
       "        vertical-align: top;\n",
       "    }\n",
       "\n",
       "    .dataframe thead th {\n",
       "        text-align: right;\n",
       "    }\n",
       "</style>\n",
       "<table border=\"1\" class=\"dataframe\">\n",
       "  <thead>\n",
       "    <tr style=\"text-align: right;\">\n",
       "      <th></th>\n",
       "      <th>Usó el Internet para: Vender productos_servicios</th>\n",
       "      <th>Recuento</th>\n",
       "      <th>Porcentaje</th>\n",
       "    </tr>\n",
       "  </thead>\n",
       "  <tbody>\n",
       "    <tr>\n",
       "      <th>0</th>\n",
       "      <td>1.0</td>\n",
       "      <td>12,091</td>\n",
       "      <td>0.6</td>\n",
       "    </tr>\n",
       "    <tr>\n",
       "      <th>1</th>\n",
       "      <td>2.0</td>\n",
       "      <td>1,939,024</td>\n",
       "      <td>99.4</td>\n",
       "    </tr>\n",
       "    <tr>\n",
       "      <th>2</th>\n",
       "      <td>Total</td>\n",
       "      <td>1,951,115</td>\n",
       "      <td>100.0</td>\n",
       "    </tr>\n",
       "  </tbody>\n",
       "</table>\n",
       "</div>"
      ],
      "text/plain": [
       "  Usó el Internet para: Vender productos_servicios   Recuento Porcentaje\n",
       "0                                              1.0     12,091        0.6\n",
       "1                                              2.0  1,939,024       99.4\n",
       "2                                            Total  1,951,115      100.0"
      ]
     },
     "execution_count": 66,
     "metadata": {},
     "output_type": "execute_result"
    }
   ],
   "source": [
    "generar_tabla_recuento(base_filtrada, \"i_vender_pdts\", \"Usó el Internet para: Vender productos_servicios\",True,True)"
   ]
  },
  {
   "cell_type": "code",
   "execution_count": 67,
   "id": "b117d105-7f87-4129-9b13-169047c915c1",
   "metadata": {},
   "outputs": [
    {
     "data": {
      "text/html": [
       "<div>\n",
       "<style scoped>\n",
       "    .dataframe tbody tr th:only-of-type {\n",
       "        vertical-align: middle;\n",
       "    }\n",
       "\n",
       "    .dataframe tbody tr th {\n",
       "        vertical-align: top;\n",
       "    }\n",
       "\n",
       "    .dataframe thead th {\n",
       "        text-align: right;\n",
       "    }\n",
       "</style>\n",
       "<table border=\"1\" class=\"dataframe\">\n",
       "  <thead>\n",
       "    <tr style=\"text-align: right;\">\n",
       "      <th></th>\n",
       "      <th>Usó el Internet para: Otro</th>\n",
       "      <th>Recuento</th>\n",
       "      <th>Porcentaje</th>\n",
       "    </tr>\n",
       "  </thead>\n",
       "  <tbody>\n",
       "    <tr>\n",
       "      <th>0</th>\n",
       "      <td>1.0</td>\n",
       "      <td>19,350</td>\n",
       "      <td>1.0</td>\n",
       "    </tr>\n",
       "    <tr>\n",
       "      <th>1</th>\n",
       "      <td>2.0</td>\n",
       "      <td>1,931,765</td>\n",
       "      <td>99.0</td>\n",
       "    </tr>\n",
       "    <tr>\n",
       "      <th>2</th>\n",
       "      <td>Total</td>\n",
       "      <td>1,951,115</td>\n",
       "      <td>100.0</td>\n",
       "    </tr>\n",
       "  </tbody>\n",
       "</table>\n",
       "</div>"
      ],
      "text/plain": [
       "  Usó el Internet para: Otro   Recuento Porcentaje\n",
       "0                        1.0     19,350        1.0\n",
       "1                        2.0  1,931,765       99.0\n",
       "2                      Total  1,951,115      100.0"
      ]
     },
     "execution_count": 67,
     "metadata": {},
     "output_type": "execute_result"
    }
   ],
   "source": [
    "generar_tabla_recuento(base_filtrada, \"p316_9\", \"Usó el Internet para: Otro\",True,True)"
   ]
  },
  {
   "cell_type": "code",
   "execution_count": 68,
   "id": "b74cd6f1-3ce3-4b21-a8f4-452b4f89a7d0",
   "metadata": {},
   "outputs": [
    {
     "data": {
      "text/html": [
       "<div>\n",
       "<style scoped>\n",
       "    .dataframe tbody tr th:only-of-type {\n",
       "        vertical-align: middle;\n",
       "    }\n",
       "\n",
       "    .dataframe tbody tr th {\n",
       "        vertical-align: top;\n",
       "    }\n",
       "\n",
       "    .dataframe thead th {\n",
       "        text-align: right;\n",
       "    }\n",
       "</style>\n",
       "<table border=\"1\" class=\"dataframe\">\n",
       "  <thead>\n",
       "    <tr style=\"text-align: right;\">\n",
       "      <th></th>\n",
       "      <th>Usó el Internet para: Otro2</th>\n",
       "      <th>Recuento</th>\n",
       "      <th>Porcentaje</th>\n",
       "    </tr>\n",
       "  </thead>\n",
       "  <tbody>\n",
       "    <tr>\n",
       "      <th>0</th>\n",
       "      <td>1.0</td>\n",
       "      <td>314</td>\n",
       "      <td>0.0</td>\n",
       "    </tr>\n",
       "    <tr>\n",
       "      <th>1</th>\n",
       "      <td>2.0</td>\n",
       "      <td>1,950,801</td>\n",
       "      <td>100.0</td>\n",
       "    </tr>\n",
       "    <tr>\n",
       "      <th>2</th>\n",
       "      <td>Total</td>\n",
       "      <td>1,951,115</td>\n",
       "      <td>100.0</td>\n",
       "    </tr>\n",
       "  </tbody>\n",
       "</table>\n",
       "</div>"
      ],
      "text/plain": [
       "  Usó el Internet para: Otro2   Recuento Porcentaje\n",
       "0                         1.0        314        0.0\n",
       "1                         2.0  1,950,801      100.0\n",
       "2                       Total  1,951,115      100.0"
      ]
     },
     "execution_count": 68,
     "metadata": {},
     "output_type": "execute_result"
    }
   ],
   "source": [
    "generar_tabla_recuento(base_filtrada, \"p316_10\", \"Usó el Internet para: Otro2\",True,True)"
   ]
  },
  {
   "cell_type": "code",
   "execution_count": 69,
   "id": "0a8b3fc3-e52e-4951-aeb4-c76b4250b6a1",
   "metadata": {},
   "outputs": [
    {
     "data": {
      "text/html": [
       "<div>\n",
       "<style scoped>\n",
       "    .dataframe tbody tr th:only-of-type {\n",
       "        vertical-align: middle;\n",
       "    }\n",
       "\n",
       "    .dataframe tbody tr th {\n",
       "        vertical-align: top;\n",
       "    }\n",
       "\n",
       "    .dataframe thead th {\n",
       "        text-align: right;\n",
       "    }\n",
       "</style>\n",
       "<table border=\"1\" class=\"dataframe\">\n",
       "  <thead>\n",
       "    <tr style=\"text-align: right;\">\n",
       "      <th></th>\n",
       "      <th>Usó el Internet para: Otro3</th>\n",
       "      <th>Recuento</th>\n",
       "      <th>Porcentaje</th>\n",
       "    </tr>\n",
       "  </thead>\n",
       "  <tbody>\n",
       "    <tr>\n",
       "      <th>0</th>\n",
       "      <td>2.0</td>\n",
       "      <td>1,951,115</td>\n",
       "      <td>100.0</td>\n",
       "    </tr>\n",
       "    <tr>\n",
       "      <th>1</th>\n",
       "      <td>Total</td>\n",
       "      <td>1,951,115</td>\n",
       "      <td>100.0</td>\n",
       "    </tr>\n",
       "  </tbody>\n",
       "</table>\n",
       "</div>"
      ],
      "text/plain": [
       "  Usó el Internet para: Otro3   Recuento Porcentaje\n",
       "0                         2.0  1,951,115      100.0\n",
       "1                       Total  1,951,115      100.0"
      ]
     },
     "execution_count": 69,
     "metadata": {},
     "output_type": "execute_result"
    }
   ],
   "source": [
    "generar_tabla_recuento(base_filtrada, \"p316_11\", \"Usó el Internet para: Otro3\",True,True)"
   ]
  },
  {
   "cell_type": "code",
   "execution_count": 70,
   "id": "f1184088-0c0b-4b09-9bb1-cd7e4873ebdf",
   "metadata": {},
   "outputs": [
    {
     "data": {
      "text/html": [
       "<div>\n",
       "<style scoped>\n",
       "    .dataframe tbody tr th:only-of-type {\n",
       "        vertical-align: middle;\n",
       "    }\n",
       "\n",
       "    .dataframe tbody tr th {\n",
       "        vertical-align: top;\n",
       "    }\n",
       "\n",
       "    .dataframe thead th {\n",
       "        text-align: right;\n",
       "    }\n",
       "</style>\n",
       "<table border=\"1\" class=\"dataframe\">\n",
       "  <thead>\n",
       "    <tr style=\"text-align: right;\">\n",
       "      <th></th>\n",
       "      <th>Usó el Internet para: descarga de antivirus</th>\n",
       "      <th>Recuento</th>\n",
       "      <th>Porcentaje</th>\n",
       "    </tr>\n",
       "  </thead>\n",
       "  <tbody>\n",
       "    <tr>\n",
       "      <th>0</th>\n",
       "      <td>1.0</td>\n",
       "      <td>196,864</td>\n",
       "      <td>10.1</td>\n",
       "    </tr>\n",
       "    <tr>\n",
       "      <th>1</th>\n",
       "      <td>2.0</td>\n",
       "      <td>1,754,251</td>\n",
       "      <td>89.9</td>\n",
       "    </tr>\n",
       "    <tr>\n",
       "      <th>2</th>\n",
       "      <td>Total</td>\n",
       "      <td>1,951,115</td>\n",
       "      <td>100.0</td>\n",
       "    </tr>\n",
       "  </tbody>\n",
       "</table>\n",
       "</div>"
      ],
      "text/plain": [
       "  Usó el Internet para: descarga de antivirus   Recuento Porcentaje\n",
       "0                                         1.0    196,864       10.1\n",
       "1                                         2.0  1,754,251       89.9\n",
       "2                                       Total  1,951,115      100.0"
      ]
     },
     "execution_count": 70,
     "metadata": {},
     "output_type": "execute_result"
    }
   ],
   "source": [
    "generar_tabla_recuento(base_filtrada, \"i_descarga_antivirus\", \"Usó el Internet para: descarga de antivirus\",True,True)"
   ]
  },
  {
   "cell_type": "code",
   "execution_count": null,
   "id": "947e397d-2d48-48ed-853e-e149cd223e89",
   "metadata": {},
   "outputs": [],
   "source": []
  },
  {
   "cell_type": "markdown",
   "id": "532b697c-e387-488e-999f-9ed4e649feb6",
   "metadata": {},
   "source": [
    "## CLASES A DISTANCIA"
   ]
  },
  {
   "cell_type": "code",
   "execution_count": 71,
   "id": "bd7bdb42-3e96-4887-a7b4-7cf7f7ef8213",
   "metadata": {},
   "outputs": [
    {
     "name": "stdout",
     "output_type": "stream",
     "text": [
      "Cantidad de valores nulos en 'mi_columna': 1042\n"
     ]
    }
   ],
   "source": [
    "# Cuenta los valores nulos en la columna \"mi_columna\"\n",
    "nulos_en_columna = base_filtrada['clases_tv'].isnull().sum()\n",
    "\n",
    "# Muestra el resultado\n",
    "print(\"Cantidad de valores nulos en 'mi_columna':\", nulos_en_columna)"
   ]
  },
  {
   "cell_type": "code",
   "execution_count": 72,
   "id": "6528ad5a-ab3b-4492-852e-c2304bf73de4",
   "metadata": {},
   "outputs": [
    {
     "data": {
      "text/html": [
       "<div>\n",
       "<style scoped>\n",
       "    .dataframe tbody tr th:only-of-type {\n",
       "        vertical-align: middle;\n",
       "    }\n",
       "\n",
       "    .dataframe tbody tr th {\n",
       "        vertical-align: top;\n",
       "    }\n",
       "\n",
       "    .dataframe thead th {\n",
       "        text-align: right;\n",
       "    }\n",
       "</style>\n",
       "<table border=\"1\" class=\"dataframe\">\n",
       "  <thead>\n",
       "    <tr style=\"text-align: right;\">\n",
       "      <th></th>\n",
       "      <th>Acceso al contenido de clase - TELEVISION</th>\n",
       "      <th>Recuento</th>\n",
       "      <th>Porcentaje</th>\n",
       "    </tr>\n",
       "  </thead>\n",
       "  <tbody>\n",
       "    <tr>\n",
       "      <th>0</th>\n",
       "      <td>0.0</td>\n",
       "      <td>918,582</td>\n",
       "      <td>57.4</td>\n",
       "    </tr>\n",
       "    <tr>\n",
       "      <th>1</th>\n",
       "      <td>1.0</td>\n",
       "      <td>682,161</td>\n",
       "      <td>42.6</td>\n",
       "    </tr>\n",
       "    <tr>\n",
       "      <th>2</th>\n",
       "      <td>Total</td>\n",
       "      <td>1,600,743</td>\n",
       "      <td>100.0</td>\n",
       "    </tr>\n",
       "  </tbody>\n",
       "</table>\n",
       "</div>"
      ],
      "text/plain": [
       "  Acceso al contenido de clase - TELEVISION   Recuento Porcentaje\n",
       "0                                       0.0    918,582       57.4\n",
       "1                                       1.0    682,161       42.6\n",
       "2                                     Total  1,600,743      100.0"
      ]
     },
     "execution_count": 72,
     "metadata": {},
     "output_type": "execute_result"
    }
   ],
   "source": [
    "generar_tabla_recuento(base_filtrada, \"clases_tv\", \"Acceso al contenido de clase - TELEVISION\",True, True)"
   ]
  },
  {
   "cell_type": "code",
   "execution_count": 73,
   "id": "7e92479f-c2ca-4734-9600-0dd8fe444906",
   "metadata": {},
   "outputs": [
    {
     "data": {
      "text/html": [
       "<div>\n",
       "<style scoped>\n",
       "    .dataframe tbody tr th:only-of-type {\n",
       "        vertical-align: middle;\n",
       "    }\n",
       "\n",
       "    .dataframe tbody tr th {\n",
       "        vertical-align: top;\n",
       "    }\n",
       "\n",
       "    .dataframe thead th {\n",
       "        text-align: right;\n",
       "    }\n",
       "</style>\n",
       "<table border=\"1\" class=\"dataframe\">\n",
       "  <thead>\n",
       "    <tr style=\"text-align: right;\">\n",
       "      <th></th>\n",
       "      <th>Acceso al contenido de clase - RADIO</th>\n",
       "      <th>Recuento</th>\n",
       "      <th>Porcentaje</th>\n",
       "    </tr>\n",
       "  </thead>\n",
       "  <tbody>\n",
       "    <tr>\n",
       "      <th>0</th>\n",
       "      <td>0.0</td>\n",
       "      <td>1,461,309</td>\n",
       "      <td>91.3</td>\n",
       "    </tr>\n",
       "    <tr>\n",
       "      <th>1</th>\n",
       "      <td>2.0</td>\n",
       "      <td>139,434</td>\n",
       "      <td>8.7</td>\n",
       "    </tr>\n",
       "    <tr>\n",
       "      <th>2</th>\n",
       "      <td>Total</td>\n",
       "      <td>1,600,743</td>\n",
       "      <td>100.0</td>\n",
       "    </tr>\n",
       "  </tbody>\n",
       "</table>\n",
       "</div>"
      ],
      "text/plain": [
       "  Acceso al contenido de clase - RADIO   Recuento Porcentaje\n",
       "0                                  0.0  1,461,309       91.3\n",
       "1                                  2.0    139,434        8.7\n",
       "2                                Total  1,600,743      100.0"
      ]
     },
     "execution_count": 73,
     "metadata": {},
     "output_type": "execute_result"
    }
   ],
   "source": [
    "generar_tabla_recuento(base_filtrada, \"clases_radio\", \"Acceso al contenido de clase - RADIO\",True, True)"
   ]
  },
  {
   "cell_type": "code",
   "execution_count": 74,
   "id": "2893333d-daa9-4f54-b4ae-dc95171f9d20",
   "metadata": {},
   "outputs": [
    {
     "data": {
      "text/html": [
       "<div>\n",
       "<style scoped>\n",
       "    .dataframe tbody tr th:only-of-type {\n",
       "        vertical-align: middle;\n",
       "    }\n",
       "\n",
       "    .dataframe tbody tr th {\n",
       "        vertical-align: top;\n",
       "    }\n",
       "\n",
       "    .dataframe thead th {\n",
       "        text-align: right;\n",
       "    }\n",
       "</style>\n",
       "<table border=\"1\" class=\"dataframe\">\n",
       "  <thead>\n",
       "    <tr style=\"text-align: right;\">\n",
       "      <th></th>\n",
       "      <th>Acceso al contenido de clase - PLATAFORMA VIRTUAL</th>\n",
       "      <th>Recuento</th>\n",
       "      <th>Porcentaje</th>\n",
       "    </tr>\n",
       "  </thead>\n",
       "  <tbody>\n",
       "    <tr>\n",
       "      <th>0</th>\n",
       "      <td>0.0</td>\n",
       "      <td>945,421</td>\n",
       "      <td>59.1</td>\n",
       "    </tr>\n",
       "    <tr>\n",
       "      <th>1</th>\n",
       "      <td>3.0</td>\n",
       "      <td>655,322</td>\n",
       "      <td>40.9</td>\n",
       "    </tr>\n",
       "    <tr>\n",
       "      <th>2</th>\n",
       "      <td>Total</td>\n",
       "      <td>1,600,743</td>\n",
       "      <td>100.0</td>\n",
       "    </tr>\n",
       "  </tbody>\n",
       "</table>\n",
       "</div>"
      ],
      "text/plain": [
       "  Acceso al contenido de clase - PLATAFORMA VIRTUAL   Recuento Porcentaje\n",
       "0                                               0.0    945,421       59.1\n",
       "1                                               3.0    655,322       40.9\n",
       "2                                             Total  1,600,743      100.0"
      ]
     },
     "execution_count": 74,
     "metadata": {},
     "output_type": "execute_result"
    }
   ],
   "source": [
    "generar_tabla_recuento(base_filtrada, \"clases_plataforma_virtual\", \"Acceso al contenido de clase - PLATAFORMA VIRTUAL\",True,True)"
   ]
  },
  {
   "cell_type": "code",
   "execution_count": 75,
   "id": "20e720c9-4b89-48f9-bd6b-8d241d797d62",
   "metadata": {},
   "outputs": [
    {
     "data": {
      "text/html": [
       "<div>\n",
       "<style scoped>\n",
       "    .dataframe tbody tr th:only-of-type {\n",
       "        vertical-align: middle;\n",
       "    }\n",
       "\n",
       "    .dataframe tbody tr th {\n",
       "        vertical-align: top;\n",
       "    }\n",
       "\n",
       "    .dataframe thead th {\n",
       "        text-align: right;\n",
       "    }\n",
       "</style>\n",
       "<table border=\"1\" class=\"dataframe\">\n",
       "  <thead>\n",
       "    <tr style=\"text-align: right;\">\n",
       "      <th></th>\n",
       "      <th>Acceso al contenido de clase - OTRO</th>\n",
       "      <th>Recuento</th>\n",
       "      <th>Porcentaje</th>\n",
       "    </tr>\n",
       "  </thead>\n",
       "  <tbody>\n",
       "    <tr>\n",
       "      <th>0</th>\n",
       "      <td>0.0</td>\n",
       "      <td>1,583,531</td>\n",
       "      <td>98.9</td>\n",
       "    </tr>\n",
       "    <tr>\n",
       "      <th>1</th>\n",
       "      <td>4.0</td>\n",
       "      <td>17,212</td>\n",
       "      <td>1.1</td>\n",
       "    </tr>\n",
       "    <tr>\n",
       "      <th>2</th>\n",
       "      <td>Total</td>\n",
       "      <td>1,600,743</td>\n",
       "      <td>100.0</td>\n",
       "    </tr>\n",
       "  </tbody>\n",
       "</table>\n",
       "</div>"
      ],
      "text/plain": [
       "  Acceso al contenido de clase - OTRO   Recuento Porcentaje\n",
       "0                                 0.0  1,583,531       98.9\n",
       "1                                 4.0     17,212        1.1\n",
       "2                               Total  1,600,743      100.0"
      ]
     },
     "execution_count": 75,
     "metadata": {},
     "output_type": "execute_result"
    }
   ],
   "source": [
    "generar_tabla_recuento(base_filtrada, \"clases_otro\", \"Acceso al contenido de clase - OTRO\",True,True)"
   ]
  },
  {
   "cell_type": "code",
   "execution_count": 76,
   "id": "a3f88688-185a-4f61-b092-b1adca569bec",
   "metadata": {},
   "outputs": [
    {
     "data": {
      "text/html": [
       "<div>\n",
       "<style scoped>\n",
       "    .dataframe tbody tr th:only-of-type {\n",
       "        vertical-align: middle;\n",
       "    }\n",
       "\n",
       "    .dataframe tbody tr th {\n",
       "        vertical-align: top;\n",
       "    }\n",
       "\n",
       "    .dataframe thead th {\n",
       "        text-align: right;\n",
       "    }\n",
       "</style>\n",
       "<table border=\"1\" class=\"dataframe\">\n",
       "  <thead>\n",
       "    <tr style=\"text-align: right;\">\n",
       "      <th></th>\n",
       "      <th>Acceso al contenido de clase - WHATSAPP</th>\n",
       "      <th>Recuento</th>\n",
       "      <th>Porcentaje</th>\n",
       "    </tr>\n",
       "  </thead>\n",
       "  <tbody>\n",
       "    <tr>\n",
       "      <th>0</th>\n",
       "      <td>0.0</td>\n",
       "      <td>215,325</td>\n",
       "      <td>13.4</td>\n",
       "    </tr>\n",
       "    <tr>\n",
       "      <th>1</th>\n",
       "      <td>5.0</td>\n",
       "      <td>1,385,418</td>\n",
       "      <td>86.6</td>\n",
       "    </tr>\n",
       "    <tr>\n",
       "      <th>2</th>\n",
       "      <td>Total</td>\n",
       "      <td>1,600,743</td>\n",
       "      <td>100.0</td>\n",
       "    </tr>\n",
       "  </tbody>\n",
       "</table>\n",
       "</div>"
      ],
      "text/plain": [
       "  Acceso al contenido de clase - WHATSAPP   Recuento Porcentaje\n",
       "0                                     0.0    215,325       13.4\n",
       "1                                     5.0  1,385,418       86.6\n",
       "2                                   Total  1,600,743      100.0"
      ]
     },
     "execution_count": 76,
     "metadata": {},
     "output_type": "execute_result"
    }
   ],
   "source": [
    "generar_tabla_recuento(base_filtrada, \"clases_wsp\", \"Acceso al contenido de clase - WHATSAPP\",True,True)"
   ]
  },
  {
   "cell_type": "code",
   "execution_count": 77,
   "id": "3bb15878-e20d-4c18-8a25-6522174e0ff1",
   "metadata": {},
   "outputs": [
    {
     "data": {
      "text/html": [
       "<div>\n",
       "<style scoped>\n",
       "    .dataframe tbody tr th:only-of-type {\n",
       "        vertical-align: middle;\n",
       "    }\n",
       "\n",
       "    .dataframe tbody tr th {\n",
       "        vertical-align: top;\n",
       "    }\n",
       "\n",
       "    .dataframe thead th {\n",
       "        text-align: right;\n",
       "    }\n",
       "</style>\n",
       "<table border=\"1\" class=\"dataframe\">\n",
       "  <thead>\n",
       "    <tr style=\"text-align: right;\">\n",
       "      <th></th>\n",
       "      <th>Acceso al contenido de clase - CORREO</th>\n",
       "      <th>Recuento</th>\n",
       "      <th>Porcentaje</th>\n",
       "    </tr>\n",
       "  </thead>\n",
       "  <tbody>\n",
       "    <tr>\n",
       "      <th>0</th>\n",
       "      <td>0.0</td>\n",
       "      <td>1,522,648</td>\n",
       "      <td>95.1</td>\n",
       "    </tr>\n",
       "    <tr>\n",
       "      <th>1</th>\n",
       "      <td>6.0</td>\n",
       "      <td>78,095</td>\n",
       "      <td>4.9</td>\n",
       "    </tr>\n",
       "    <tr>\n",
       "      <th>2</th>\n",
       "      <td>Total</td>\n",
       "      <td>1,600,743</td>\n",
       "      <td>100.0</td>\n",
       "    </tr>\n",
       "  </tbody>\n",
       "</table>\n",
       "</div>"
      ],
      "text/plain": [
       "  Acceso al contenido de clase - CORREO   Recuento Porcentaje\n",
       "0                                   0.0  1,522,648       95.1\n",
       "1                                   6.0     78,095        4.9\n",
       "2                                 Total  1,600,743      100.0"
      ]
     },
     "execution_count": 77,
     "metadata": {},
     "output_type": "execute_result"
    }
   ],
   "source": [
    "generar_tabla_recuento(base_filtrada, \"clases_correo\", \"Acceso al contenido de clase - CORREO\",True,True)"
   ]
  },
  {
   "cell_type": "code",
   "execution_count": 78,
   "id": "fd0b0a9f-9e7c-4cd8-b05a-70f5a6144fed",
   "metadata": {},
   "outputs": [
    {
     "data": {
      "text/html": [
       "<div>\n",
       "<style scoped>\n",
       "    .dataframe tbody tr th:only-of-type {\n",
       "        vertical-align: middle;\n",
       "    }\n",
       "\n",
       "    .dataframe tbody tr th {\n",
       "        vertical-align: top;\n",
       "    }\n",
       "\n",
       "    .dataframe thead th {\n",
       "        text-align: right;\n",
       "    }\n",
       "</style>\n",
       "<table border=\"1\" class=\"dataframe\">\n",
       "  <thead>\n",
       "    <tr style=\"text-align: right;\">\n",
       "      <th></th>\n",
       "      <th>Acceso al contenido de clase - LLAMADAS</th>\n",
       "      <th>Recuento</th>\n",
       "      <th>Porcentaje</th>\n",
       "    </tr>\n",
       "  </thead>\n",
       "  <tbody>\n",
       "    <tr>\n",
       "      <th>0</th>\n",
       "      <td>0.0</td>\n",
       "      <td>1,122,864</td>\n",
       "      <td>70.2</td>\n",
       "    </tr>\n",
       "    <tr>\n",
       "      <th>1</th>\n",
       "      <td>7.0</td>\n",
       "      <td>477,880</td>\n",
       "      <td>29.9</td>\n",
       "    </tr>\n",
       "    <tr>\n",
       "      <th>2</th>\n",
       "      <td>Total</td>\n",
       "      <td>1,600,743</td>\n",
       "      <td>100.0</td>\n",
       "    </tr>\n",
       "  </tbody>\n",
       "</table>\n",
       "</div>"
      ],
      "text/plain": [
       "  Acceso al contenido de clase - LLAMADAS   Recuento Porcentaje\n",
       "0                                     0.0  1,122,864       70.2\n",
       "1                                     7.0    477,880       29.9\n",
       "2                                   Total  1,600,743      100.0"
      ]
     },
     "execution_count": 78,
     "metadata": {},
     "output_type": "execute_result"
    }
   ],
   "source": [
    "generar_tabla_recuento(base_filtrada, \"clases_llamadas\", \"Acceso al contenido de clase - LLAMADAS\",True,True)"
   ]
  },
  {
   "cell_type": "code",
   "execution_count": 79,
   "id": "427d5088-d4f2-4d66-9f2c-c69c9dc373da",
   "metadata": {},
   "outputs": [
    {
     "data": {
      "text/html": [
       "<div>\n",
       "<style scoped>\n",
       "    .dataframe tbody tr th:only-of-type {\n",
       "        vertical-align: middle;\n",
       "    }\n",
       "\n",
       "    .dataframe tbody tr th {\n",
       "        vertical-align: top;\n",
       "    }\n",
       "\n",
       "    .dataframe thead th {\n",
       "        text-align: right;\n",
       "    }\n",
       "</style>\n",
       "<table border=\"1\" class=\"dataframe\">\n",
       "  <thead>\n",
       "    <tr style=\"text-align: right;\">\n",
       "      <th></th>\n",
       "      <th>Acceso al contenido de clase - INTERACCION PROFESOR</th>\n",
       "      <th>Recuento</th>\n",
       "      <th>Porcentaje</th>\n",
       "    </tr>\n",
       "  </thead>\n",
       "  <tbody>\n",
       "    <tr>\n",
       "      <th>0</th>\n",
       "      <td>0.0</td>\n",
       "      <td>579,241</td>\n",
       "      <td>36.2</td>\n",
       "    </tr>\n",
       "    <tr>\n",
       "      <th>1</th>\n",
       "      <td>1.0</td>\n",
       "      <td>1,021,502</td>\n",
       "      <td>63.8</td>\n",
       "    </tr>\n",
       "    <tr>\n",
       "      <th>2</th>\n",
       "      <td>Total</td>\n",
       "      <td>1,600,743</td>\n",
       "      <td>100.0</td>\n",
       "    </tr>\n",
       "  </tbody>\n",
       "</table>\n",
       "</div>"
      ],
      "text/plain": [
       "  Acceso al contenido de clase - INTERACCION PROFESOR   Recuento Porcentaje\n",
       "0                                                0.0     579,241       36.2\n",
       "1                                                1.0   1,021,502       63.8\n",
       "2                                              Total   1,600,743      100.0"
      ]
     },
     "execution_count": 79,
     "metadata": {},
     "output_type": "execute_result"
    }
   ],
   "source": [
    "generar_tabla_recuento(base_filtrada, \"clases_interaccion_profesor\", \"Acceso al contenido de clase - INTERACCION PROFESOR\",True,True)"
   ]
  },
  {
   "cell_type": "code",
   "execution_count": 80,
   "id": "515bd9ad-1bda-441b-96d6-9e7b6878dce2",
   "metadata": {},
   "outputs": [
    {
     "data": {
      "text/html": [
       "<div>\n",
       "<style scoped>\n",
       "    .dataframe tbody tr th:only-of-type {\n",
       "        vertical-align: middle;\n",
       "    }\n",
       "\n",
       "    .dataframe tbody tr th {\n",
       "        vertical-align: top;\n",
       "    }\n",
       "\n",
       "    .dataframe thead th {\n",
       "        text-align: right;\n",
       "    }\n",
       "</style>\n",
       "<table border=\"1\" class=\"dataframe\">\n",
       "  <thead>\n",
       "    <tr style=\"text-align: right;\">\n",
       "      <th></th>\n",
       "      <th>Acceso al contenido de clase - VIDEOS</th>\n",
       "      <th>Recuento</th>\n",
       "      <th>Porcentaje</th>\n",
       "    </tr>\n",
       "  </thead>\n",
       "  <tbody>\n",
       "    <tr>\n",
       "      <th>0</th>\n",
       "      <td>0.0</td>\n",
       "      <td>543,481</td>\n",
       "      <td>34.0</td>\n",
       "    </tr>\n",
       "    <tr>\n",
       "      <th>1</th>\n",
       "      <td>2.0</td>\n",
       "      <td>1,057,262</td>\n",
       "      <td>66.1</td>\n",
       "    </tr>\n",
       "    <tr>\n",
       "      <th>2</th>\n",
       "      <td>Total</td>\n",
       "      <td>1,600,743</td>\n",
       "      <td>100.0</td>\n",
       "    </tr>\n",
       "  </tbody>\n",
       "</table>\n",
       "</div>"
      ],
      "text/plain": [
       "  Acceso al contenido de clase - VIDEOS   Recuento Porcentaje\n",
       "0                                   0.0    543,481       34.0\n",
       "1                                   2.0  1,057,262       66.1\n",
       "2                                 Total  1,600,743      100.0"
      ]
     },
     "execution_count": 80,
     "metadata": {},
     "output_type": "execute_result"
    }
   ],
   "source": [
    "generar_tabla_recuento(base_filtrada, \"clases_videos\", \"Acceso al contenido de clase - VIDEOS\",True,True)"
   ]
  },
  {
   "cell_type": "code",
   "execution_count": 81,
   "id": "93ef428c-d602-469d-85d3-5b3ea8dd6134",
   "metadata": {},
   "outputs": [
    {
     "data": {
      "text/html": [
       "<div>\n",
       "<style scoped>\n",
       "    .dataframe tbody tr th:only-of-type {\n",
       "        vertical-align: middle;\n",
       "    }\n",
       "\n",
       "    .dataframe tbody tr th {\n",
       "        vertical-align: top;\n",
       "    }\n",
       "\n",
       "    .dataframe thead th {\n",
       "        text-align: right;\n",
       "    }\n",
       "</style>\n",
       "<table border=\"1\" class=\"dataframe\">\n",
       "  <thead>\n",
       "    <tr style=\"text-align: right;\">\n",
       "      <th></th>\n",
       "      <th>Acceso al contenido de clase - DOCUMENTOS</th>\n",
       "      <th>Recuento</th>\n",
       "      <th>Porcentaje</th>\n",
       "    </tr>\n",
       "  </thead>\n",
       "  <tbody>\n",
       "    <tr>\n",
       "      <th>0</th>\n",
       "      <td>0.0</td>\n",
       "      <td>315,947</td>\n",
       "      <td>19.7</td>\n",
       "    </tr>\n",
       "    <tr>\n",
       "      <th>1</th>\n",
       "      <td>3.0</td>\n",
       "      <td>1,284,796</td>\n",
       "      <td>80.3</td>\n",
       "    </tr>\n",
       "    <tr>\n",
       "      <th>2</th>\n",
       "      <td>Total</td>\n",
       "      <td>1,600,743</td>\n",
       "      <td>100.0</td>\n",
       "    </tr>\n",
       "  </tbody>\n",
       "</table>\n",
       "</div>"
      ],
      "text/plain": [
       "  Acceso al contenido de clase - DOCUMENTOS   Recuento Porcentaje\n",
       "0                                       0.0    315,947       19.7\n",
       "1                                       3.0  1,284,796       80.3\n",
       "2                                     Total  1,600,743      100.0"
      ]
     },
     "execution_count": 81,
     "metadata": {},
     "output_type": "execute_result"
    }
   ],
   "source": [
    "generar_tabla_recuento(base_filtrada, \"clases_documentos\", \"Acceso al contenido de clase - DOCUMENTOS\",True,True)"
   ]
  },
  {
   "cell_type": "code",
   "execution_count": 82,
   "id": "36785174-deff-494c-acd8-622e9d64c784",
   "metadata": {},
   "outputs": [
    {
     "data": {
      "text/html": [
       "<div>\n",
       "<style scoped>\n",
       "    .dataframe tbody tr th:only-of-type {\n",
       "        vertical-align: middle;\n",
       "    }\n",
       "\n",
       "    .dataframe tbody tr th {\n",
       "        vertical-align: top;\n",
       "    }\n",
       "\n",
       "    .dataframe thead th {\n",
       "        text-align: right;\n",
       "    }\n",
       "</style>\n",
       "<table border=\"1\" class=\"dataframe\">\n",
       "  <thead>\n",
       "    <tr style=\"text-align: right;\">\n",
       "      <th></th>\n",
       "      <th>Acceso al contenido de clase - OTROS</th>\n",
       "      <th>Recuento</th>\n",
       "      <th>Porcentaje</th>\n",
       "    </tr>\n",
       "  </thead>\n",
       "  <tbody>\n",
       "    <tr>\n",
       "      <th>0</th>\n",
       "      <td>0.0</td>\n",
       "      <td>1,585,656</td>\n",
       "      <td>99.1</td>\n",
       "    </tr>\n",
       "    <tr>\n",
       "      <th>1</th>\n",
       "      <td>4.0</td>\n",
       "      <td>15,088</td>\n",
       "      <td>0.9</td>\n",
       "    </tr>\n",
       "    <tr>\n",
       "      <th>2</th>\n",
       "      <td>Total</td>\n",
       "      <td>1,600,743</td>\n",
       "      <td>100.0</td>\n",
       "    </tr>\n",
       "  </tbody>\n",
       "</table>\n",
       "</div>"
      ],
      "text/plain": [
       "  Acceso al contenido de clase - OTROS   Recuento Porcentaje\n",
       "0                                  0.0  1,585,656       99.1\n",
       "1                                  4.0     15,088        0.9\n",
       "2                                Total  1,600,743      100.0"
      ]
     },
     "execution_count": 82,
     "metadata": {},
     "output_type": "execute_result"
    }
   ],
   "source": [
    "generar_tabla_recuento(base_filtrada, \"clases_otros\", \"Acceso al contenido de clase - OTROS\",True,True)"
   ]
  },
  {
   "cell_type": "code",
   "execution_count": 83,
   "id": "282f9864-e1eb-4214-90fd-799d59053aaf",
   "metadata": {},
   "outputs": [
    {
     "data": {
      "text/html": [
       "<div>\n",
       "<style scoped>\n",
       "    .dataframe tbody tr th:only-of-type {\n",
       "        vertical-align: middle;\n",
       "    }\n",
       "\n",
       "    .dataframe tbody tr th {\n",
       "        vertical-align: top;\n",
       "    }\n",
       "\n",
       "    .dataframe thead th {\n",
       "        text-align: right;\n",
       "    }\n",
       "</style>\n",
       "<table border=\"1\" class=\"dataframe\">\n",
       "  <thead>\n",
       "    <tr style=\"text-align: right;\">\n",
       "      <th></th>\n",
       "      <th>Acceso al contenido de clase - MENSAJES DE AUDIO</th>\n",
       "      <th>Recuento</th>\n",
       "      <th>Porcentaje</th>\n",
       "    </tr>\n",
       "  </thead>\n",
       "  <tbody>\n",
       "    <tr>\n",
       "      <th>0</th>\n",
       "      <td>0.0</td>\n",
       "      <td>640,306</td>\n",
       "      <td>40.0</td>\n",
       "    </tr>\n",
       "    <tr>\n",
       "      <th>1</th>\n",
       "      <td>5.0</td>\n",
       "      <td>960,437</td>\n",
       "      <td>60.0</td>\n",
       "    </tr>\n",
       "    <tr>\n",
       "      <th>2</th>\n",
       "      <td>Total</td>\n",
       "      <td>1,600,743</td>\n",
       "      <td>100.0</td>\n",
       "    </tr>\n",
       "  </tbody>\n",
       "</table>\n",
       "</div>"
      ],
      "text/plain": [
       "  Acceso al contenido de clase - MENSAJES DE AUDIO   Recuento Porcentaje\n",
       "0                                              0.0    640,306       40.0\n",
       "1                                              5.0    960,437       60.0\n",
       "2                                            Total  1,600,743      100.0"
      ]
     },
     "execution_count": 83,
     "metadata": {},
     "output_type": "execute_result"
    }
   ],
   "source": [
    "generar_tabla_recuento(base_filtrada, \"clases_msm_audio\", \"Acceso al contenido de clase - MENSAJES DE AUDIO\",True,True)"
   ]
  },
  {
   "cell_type": "code",
   "execution_count": 84,
   "id": "942ae27d-d475-4c15-a7d9-a386e01eeab2",
   "metadata": {},
   "outputs": [
    {
     "data": {
      "text/html": [
       "<div>\n",
       "<style scoped>\n",
       "    .dataframe tbody tr th:only-of-type {\n",
       "        vertical-align: middle;\n",
       "    }\n",
       "\n",
       "    .dataframe tbody tr th {\n",
       "        vertical-align: top;\n",
       "    }\n",
       "\n",
       "    .dataframe thead th {\n",
       "        text-align: right;\n",
       "    }\n",
       "</style>\n",
       "<table border=\"1\" class=\"dataframe\">\n",
       "  <thead>\n",
       "    <tr style=\"text-align: right;\">\n",
       "      <th></th>\n",
       "      <th>Acceso al contenido de clase - MENSAJES DE TEXTO</th>\n",
       "      <th>Recuento</th>\n",
       "      <th>Porcentaje</th>\n",
       "    </tr>\n",
       "  </thead>\n",
       "  <tbody>\n",
       "    <tr>\n",
       "      <th>0</th>\n",
       "      <td>0.0</td>\n",
       "      <td>794,928</td>\n",
       "      <td>49.7</td>\n",
       "    </tr>\n",
       "    <tr>\n",
       "      <th>1</th>\n",
       "      <td>6.0</td>\n",
       "      <td>805,816</td>\n",
       "      <td>50.3</td>\n",
       "    </tr>\n",
       "    <tr>\n",
       "      <th>2</th>\n",
       "      <td>Total</td>\n",
       "      <td>1,600,743</td>\n",
       "      <td>100.0</td>\n",
       "    </tr>\n",
       "  </tbody>\n",
       "</table>\n",
       "</div>"
      ],
      "text/plain": [
       "  Acceso al contenido de clase - MENSAJES DE TEXTO   Recuento Porcentaje\n",
       "0                                              0.0    794,928       49.7\n",
       "1                                              6.0    805,816       50.3\n",
       "2                                            Total  1,600,743      100.0"
      ]
     },
     "execution_count": 84,
     "metadata": {},
     "output_type": "execute_result"
    }
   ],
   "source": [
    "generar_tabla_recuento(base_filtrada, \"clases_msm_texto\", \"Acceso al contenido de clase - MENSAJES DE TEXTO\",True,True)"
   ]
  },
  {
   "cell_type": "code",
   "execution_count": 85,
   "id": "27e01923-6227-49b8-a1d3-9f3b941f8125",
   "metadata": {},
   "outputs": [
    {
     "data": {
      "text/html": [
       "<div>\n",
       "<style scoped>\n",
       "    .dataframe tbody tr th:only-of-type {\n",
       "        vertical-align: middle;\n",
       "    }\n",
       "\n",
       "    .dataframe tbody tr th {\n",
       "        vertical-align: top;\n",
       "    }\n",
       "\n",
       "    .dataframe thead th {\n",
       "        text-align: right;\n",
       "    }\n",
       "</style>\n",
       "<table border=\"1\" class=\"dataframe\">\n",
       "  <thead>\n",
       "    <tr style=\"text-align: right;\">\n",
       "      <th></th>\n",
       "      <th>Acceso al contenido de clase - SIN ACOMPAÑAMIENTO</th>\n",
       "      <th>Recuento</th>\n",
       "      <th>Porcentaje</th>\n",
       "    </tr>\n",
       "  </thead>\n",
       "  <tbody>\n",
       "    <tr>\n",
       "      <th>0</th>\n",
       "      <td>0.0</td>\n",
       "      <td>1,578,097</td>\n",
       "      <td>98.6</td>\n",
       "    </tr>\n",
       "    <tr>\n",
       "      <th>1</th>\n",
       "      <td>7.0</td>\n",
       "      <td>22,646</td>\n",
       "      <td>1.4</td>\n",
       "    </tr>\n",
       "    <tr>\n",
       "      <th>2</th>\n",
       "      <td>Total</td>\n",
       "      <td>1,600,743</td>\n",
       "      <td>100.0</td>\n",
       "    </tr>\n",
       "  </tbody>\n",
       "</table>\n",
       "</div>"
      ],
      "text/plain": [
       "  Acceso al contenido de clase - SIN ACOMPAÑAMIENTO   Recuento Porcentaje\n",
       "0                                               0.0  1,578,097       98.6\n",
       "1                                               7.0     22,646        1.4\n",
       "2                                             Total  1,600,743      100.0"
      ]
     },
     "execution_count": 85,
     "metadata": {},
     "output_type": "execute_result"
    }
   ],
   "source": [
    "generar_tabla_recuento(base_filtrada, \"clases_sin_acompañamiento\", \"Acceso al contenido de clase - SIN ACOMPAÑAMIENTO\",True,True)"
   ]
  },
  {
   "cell_type": "markdown",
   "id": "932f9ef0",
   "metadata": {
    "tags": []
   },
   "source": [
    "# Graficos"
   ]
  },
  {
   "cell_type": "markdown",
   "id": "7f1c9903-3f4b-407f-a70e-cfe030d6072f",
   "metadata": {},
   "source": [
    "### V. Continuas - Miembros por hogar y Edad"
   ]
  },
  {
   "cell_type": "code",
   "execution_count": 86,
   "id": "f2079caf",
   "metadata": {},
   "outputs": [
    {
     "data": {
      "image/png": "[encoded data removed]",
      "text/plain": [
       "<Figure size 640x480 with 1 Axes>"
      ]
     },
     "metadata": {},
     "output_type": "display_data"
    }
   ],
   "source": [
    "guardar_histograma_con_pesos(base_filtrada, 'mieperho','Miembros por hogar')"
   ]
  },
  {
   "cell_type": "code",
   "execution_count": 87,
   "id": "0948067c",
   "metadata": {},
   "outputs": [
    {
     "data": {
      "image/png": "[encoded data removed]",
      "text/plain": [
       "<Figure size 640x480 with 1 Axes>"
      ]
     },
     "metadata": {},
     "output_type": "display_data"
    }
   ],
   "source": [
    "guardar_histograma_con_pesos(base_filtrada, 'Edad','Edad')"
   ]
  },
  {
   "cell_type": "markdown",
   "id": "fb9ef9bf-e2e2-4a30-bf7c-27ca26af6c8a",
   "metadata": {
    "tags": []
   },
   "source": [
    "### V. Cualitativas - Nivel educativo y centro de estudios"
   ]
  },
  {
   "cell_type": "markdown",
   "id": "a96b93fa-2a9a-4535-accb-c7015c49c115",
   "metadata": {
    "tags": []
   },
   "source": [
    "#### Func. Graf de barras"
   ]
  },
  {
   "cell_type": "code",
   "execution_count": 88,
   "id": "e4e8d1ee-27b0-4ae3-83a6-8e1db3df88da",
   "metadata": {},
   "outputs": [],
   "source": [
    "def guardar_graf_barras(columna_categorica, labels):\n",
    "    # Crear una paleta de colores personalizada para las categorías\n",
    "    num_categories = len(labels)\n",
    "    custom_palette = [\"#4c72b0\", \"#dd8452\", \"#55a868\", \"#c44e52\", \"#8172b3\",\"#937860\", \"#da8bc3\", \"#8c8c8c\", \"#ccb974\", \"#64b5cd\",\n",
    "    \"#808000\", \"#000080\", \"#006400\", \"#808000\", \"#669966\",\"#007777\", \"#000080\", \"#00008B\", \"#6699CC\", \"#ADD8E6\",\"#8B0000\", \"#A52A2A\", \n",
    "    \"#800000\", \"#D2691E\", \"#FFD700\",'#4c72b0'][:num_categories]\n",
    "\n",
    "    # Crear el gráfico de barras\n",
    "    ax = sns.barplot(x=columna_categorica, y='factor07', data=base_filtrada, estimator=sum, ci=None, palette=custom_palette)\n",
    "\n",
    "    # Etiquetar las barras con los porcentajes\n",
    "    total = base_filtrada['factor07'].sum()\n",
    "    for p in ax.patches:\n",
    "        height = p.get_height()\n",
    "        ax.annotate(f'{(height/total)*100:.0f}%', (p.get_x() + p.get_width() / 2., height), ha='center', va='bottom')\n",
    "\n",
    "    # Generar el nombre del archivo de imagen basado en el nombre de la columna\n",
    "    nombre_archivo = f'estadistico_{columna_categorica}.png'\n",
    "\n",
    "    # Eliminar etiquetas y marcas del eje y\n",
    "    ax.set_yticks([])\n",
    "    ax.set_yticklabels([])\n",
    "\n",
    "    # Etiquetas y título\n",
    "    plt.xlabel('')\n",
    "    plt.ylabel('')\n",
    "    plt.title(f'Porcentaje de estudiante por {columna_categorica}')\n",
    "    \n",
    "    # Especificar el número de columnas en la leyenda (en este caso, 2 columnas)\n",
    "    ncol = 2\n",
    "    \n",
    "    # Reducir el tamaño de fuente de la leyenda\n",
    "    handles = [plt.Rectangle((0,0),1,1, color=col) for col in custom_palette[:len(labels)]]\n",
    "    plt.legend(handles, labels, title='Leyenda', loc='upper left', fontsize=8, bbox_to_anchor=(1, 1), ncol=ncol)\n",
    "    \n",
    "    # Eliminar los spines derecho y superior\n",
    "    ax.spines['right'].set_visible(False)\n",
    "    ax.spines['top'].set_visible(False)\n",
    "    ax.spines['left'].set_visible(False)\n",
    "\n",
    "    # Guardar la imagen en la ruta especificada\n",
    "    ruta_guardado = '../output/images/' + nombre_archivo\n",
    "    plt.savefig(ruta_guardado, bbox_inches='tight')\n",
    "\n",
    "    # Mostrar el gráfico\n",
    "    plt.show()"
   ]
  },
  {
   "cell_type": "markdown",
   "id": "3d508358-0066-4bc7-b6cc-f38da708e930",
   "metadata": {},
   "source": [
    "### Nivel educativo y centro de estudios"
   ]
  },
  {
   "cell_type": "code",
   "execution_count": 89,
   "id": "fb330961",
   "metadata": {},
   "outputs": [
    {
     "data": {
      "image/png": "[encoded data removed]",
      "text/plain": [
       "<Figure size 640x480 with 1 Axes>"
      ]
     },
     "metadata": {},
     "output_type": "display_data"
    }
   ],
   "source": [
    "label = [\"Inicial\",\"Primaria\",\"Secundaria\"]\n",
    "guardar_graf_barras('Nivel_educativo', labels = label)"
   ]
  },
  {
   "cell_type": "code",
   "execution_count": 90,
   "id": "84e72a82-deac-42a8-aba8-4d5bd0234830",
   "metadata": {},
   "outputs": [],
   "source": [
    "# Notas"
   ]
  },
  {
   "cell_type": "code",
   "execution_count": 91,
   "id": "fb851343",
   "metadata": {},
   "outputs": [
    {
     "data": {
      "image/png": "[encoded data removed]",
      "text/plain": [
       "<Figure size 640x480 with 1 Axes>"
      ]
     },
     "metadata": {},
     "output_type": "display_data"
    }
   ],
   "source": [
    "label = [\"Estatal\",\"No Estatal\"]\n",
    "guardar_graf_barras('Centro_estudios', labels = label)"
   ]
  },
  {
   "cell_type": "markdown",
   "id": "821135f6-bbd4-408f-97cf-367545744fb5",
   "metadata": {},
   "source": [
    "### V.C. Idioma y Sexo"
   ]
  },
  {
   "cell_type": "code",
   "execution_count": 92,
   "id": "b198374e",
   "metadata": {},
   "outputs": [
    {
     "data": {
      "image/png": "[encoded data removed]",
      "text/plain": [
       "<Figure size 640x480 with 1 Axes>"
      ]
     },
     "metadata": {},
     "output_type": "display_data"
    }
   ],
   "source": [
    "label = [\"Otro\",\"Castellano\"]\n",
    "guardar_graf_barras('Idioma', labels = label)"
   ]
  },
  {
   "cell_type": "code",
   "execution_count": 93,
   "id": "64698e3a",
   "metadata": {},
   "outputs": [
    {
     "data": {
      "image/png": "[encoded data removed]",
      "text/plain": [
       "<Figure size 640x480 with 1 Axes>"
      ]
     },
     "metadata": {},
     "output_type": "display_data"
    }
   ],
   "source": [
    "label= [\"Hombre\",\"Mujer\"]\n",
    "guardar_graf_barras('Sexo', label)"
   ]
  },
  {
   "cell_type": "markdown",
   "id": "8246ae42-895b-46ed-8ca2-3cafe182f94d",
   "metadata": {},
   "source": [
    "### Area y Estrato Social"
   ]
  },
  {
   "cell_type": "code",
   "execution_count": 94,
   "id": "acb742d2",
   "metadata": {},
   "outputs": [
    {
     "data": {
      "image/png": "[encoded data removed]",
      "text/plain": [
       "<Figure size 640x480 with 1 Axes>"
      ]
     },
     "metadata": {},
     "output_type": "display_data"
    }
   ],
   "source": [
    "label = [\"Rural\", \"Urbano\"]\n",
    "#guardar_graf_barras('AREA', label = labels)\n",
    "guardar_graf_barras('AREA', label)"
   ]
  },
  {
   "cell_type": "code",
   "execution_count": 95,
   "id": "ccd7b96d",
   "metadata": {},
   "outputs": [
    {
     "data": {
      "image/png": "[encoded data removed]",
      "text/plain": [
       "<Figure size 640x480 with 1 Axes>"
      ]
     },
     "metadata": {},
     "output_type": "display_data"
    }
   ],
   "source": [
    "label = [\"A\", \"B\",\"C\",\"D\", \"E\",\"rural\"]\n",
    "guardar_graf_barras('estrsocial',label)"
   ]
  },
  {
   "cell_type": "code",
   "execution_count": 96,
   "id": "fade1f89-f21a-4143-8399-33e5f3279ebd",
   "metadata": {},
   "outputs": [
    {
     "data": {
      "image/png": "[encoded data removed]",
      "text/plain": [
       "<Figure size 640x480 with 1 Axes>"
      ]
     },
     "metadata": {},
     "output_type": "display_data"
    }
   ],
   "source": [
    "label = [\"Costa\", \"Sierra\",\"Selva\",\"Lima Metropolitana\"]\n",
    "guardar_graf_barras('Region',label)"
   ]
  },
  {
   "cell_type": "code",
   "execution_count": 97,
   "id": "06d03e85-0613-411c-ad93-470001febe92",
   "metadata": {},
   "outputs": [
    {
     "data": {
      "image/png": "[encoded data removed]",
      "text/plain": [
       "<Figure size 640x480 with 1 Axes>"
      ]
     },
     "metadata": {},
     "output_type": "display_data"
    }
   ],
   "source": [
    "label = [\"1.Amazonas\",\"2.Ancash\",\"3.Apurímac\",\"4.Arequipa\",\"5.Ayacucho\",\"6.Cajamarca\",\"7.Callao\",\"8.Cusco\",\"9.Huancavelica\",\"10.Huánuco\",\n",
    "          \"11.Ica\",\"12.Junín\",\"13.La Libertad\",\"14.Lambayeque\",\"15.Lima\",\"16.Loreto\", \"17.Madre de Dios\",\"18.Moquegua\",\"19.Pasco\",\n",
    "         \"20.Piura\", \"21.Puno\",\"22.San Martín\", \"23.Tacna\",\"24.Tumbes\",\"25.Ucayali\"]\n",
    "guardar_graf_barras('DEPARTAMENTO', label)"
   ]
  },
  {
   "cell_type": "code",
   "execution_count": 98,
   "id": "fbd11e9b-f3f5-4f63-ad14-79057dea5c62",
   "metadata": {},
   "outputs": [
    {
     "data": {
      "image/png": "[encoded data removed]",
      "text/plain": [
       "<Figure size 640x480 with 1 Axes>"
      ]
     },
     "metadata": {},
     "output_type": "display_data"
    }
   ],
   "source": [
    "label = [\"No\",\"Si\"]\n",
    "guardar_graf_barras('Electricidad', label)"
   ]
  },
  {
   "cell_type": "code",
   "execution_count": 99,
   "id": "6b0aaae9-9d11-41a4-9e0a-eab67b3a7ad4",
   "metadata": {},
   "outputs": [],
   "source": [
    "base_filtrada_ = base_filtrada.copy()"
   ]
  },
  {
   "cell_type": "markdown",
   "id": "dc91db93-2cab-4e4b-8cb1-17f93fb3f43c",
   "metadata": {},
   "source": [
    "### Grafico de barras - USO"
   ]
  },
  {
   "cell_type": "code",
   "execution_count": 100,
   "id": "0e3703ec-713d-4ed5-bdd5-27f9069cf457",
   "metadata": {},
   "outputs": [],
   "source": [
    "base_filtrada_['i_uso'] = base_filtrada_['i_uso'].map({2: 0, 1: 1})\n",
    "base_filtrada_['i_uso_cedu'] = base_filtrada_['i_uso_cedu'].map({0: 0, 3: 1})\n",
    "base_filtrada_['i_uso_trab'] = base_filtrada_['i_uso_trab'].map({0: 0, 2: 1})\n",
    "base_filtrada_['i_uso_hog'] = base_filtrada_['i_uso_hog'].map({0: 0, 1: 1})\n",
    "base_filtrada_['i_uso_cab'] = base_filtrada_['i_uso_cab'].map({0: 0, 4: 1})\n",
    "base_filtrada_['i_uso_casotr'] = base_filtrada_['i_uso_casotr'].map({0: 0, 5: 1})\n",
    "base_filtrada_['i_uso_otro'] = base_filtrada_['i_uso_otro'].map({0: 0, 6: 1})\n",
    "base_filtrada_['i_uso_movil'] = base_filtrada_['i_uso_movil'].map({0: 0, 7: 1})"
   ]
  },
  {
   "cell_type": "markdown",
   "id": "771cfb00-7e1b-4916-ad6a-cd3990ea6de8",
   "metadata": {
    "tags": []
   },
   "source": [
    "### Funcion"
   ]
  },
  {
   "cell_type": "code",
   "execution_count": 101,
   "id": "2b8f1515-bbe6-487a-b2b6-b7aec25c56c5",
   "metadata": {},
   "outputs": [],
   "source": [
    "def barras(variable):\n",
    "    freq_1 = base_filtrada_[[ \"factor07\",variable]].groupby([variable]).sum().reset_index()\n",
    "    total_recuento = freq_1['factor07'].sum()\n",
    "    freq_1['Porcentaje'] = (freq_1['factor07'] / total_recuento * 100).round(2)\n",
    "    freq_1.rename(columns={variable: 'variable','factor07': 'value'}, inplace=True)\n",
    "    freq_1 =  freq_1.tail(1)\n",
    "    freq_1['variable'] = freq_1['variable'].replace(1.0, variable)\n",
    "    freq_1['value'] = freq_1['value'].apply(lambda x: '{:,.0f}'.format(x))\n",
    "    #freq_1['Porcentaje'] = freq_1['Porcentaje'].apply(lambda x: '{:.3f}'.format(x))\n",
    "    \n",
    "    return freq_1"
   ]
  },
  {
   "cell_type": "markdown",
   "id": "5fed5286-8813-4db3-b5e4-e91f7b5a8b21",
   "metadata": {},
   "source": [
    "### Otro"
   ]
  },
  {
   "cell_type": "code",
   "execution_count": 102,
   "id": "b7713147-a4d7-4142-ae5e-b557f3a979d7",
   "metadata": {},
   "outputs": [],
   "source": [
    "i_uso= barras(\"i_uso\")\n",
    "i_uso_cedu = barras(\"i_uso_cedu\")\n",
    "i_uso_trab = barras(\"i_uso_trab\")\n",
    "i_uso_hog = barras(\"i_uso_hog\")\n",
    "i_uso_cab = barras(\"i_uso_cab\")\n",
    "i_uso_casotr = barras(\"i_uso_casotr\")\n",
    "i_uso_otro = barras(\"i_uso_otro\")\n",
    "i_uso_movil = barras(\"i_uso_movil\")"
   ]
  },
  {
   "cell_type": "code",
   "execution_count": 103,
   "id": "38188bf6-13d5-41bd-973a-dd0c41a9f79f",
   "metadata": {},
   "outputs": [
    {
     "data": {
      "text/html": [
       "<div>\n",
       "<style scoped>\n",
       "    .dataframe tbody tr th:only-of-type {\n",
       "        vertical-align: middle;\n",
       "    }\n",
       "\n",
       "    .dataframe tbody tr th {\n",
       "        vertical-align: top;\n",
       "    }\n",
       "\n",
       "    .dataframe thead th {\n",
       "        text-align: right;\n",
       "    }\n",
       "</style>\n",
       "<table border=\"1\" class=\"dataframe\">\n",
       "  <thead>\n",
       "    <tr style=\"text-align: right;\">\n",
       "      <th></th>\n",
       "      <th>variable</th>\n",
       "      <th>value</th>\n",
       "      <th>Porcentaje</th>\n",
       "    </tr>\n",
       "  </thead>\n",
       "  <tbody>\n",
       "    <tr>\n",
       "      <th>0</th>\n",
       "      <td>i_uso_cedu</td>\n",
       "      <td>4,436</td>\n",
       "      <td>0.230000</td>\n",
       "    </tr>\n",
       "    <tr>\n",
       "      <th>1</th>\n",
       "      <td>i_uso_trab</td>\n",
       "      <td>2,907</td>\n",
       "      <td>0.150000</td>\n",
       "    </tr>\n",
       "    <tr>\n",
       "      <th>2</th>\n",
       "      <td>i_uso_hog</td>\n",
       "      <td>490,830</td>\n",
       "      <td>25.160000</td>\n",
       "    </tr>\n",
       "    <tr>\n",
       "      <th>3</th>\n",
       "      <td>i_uso_cab</td>\n",
       "      <td>57,794</td>\n",
       "      <td>2.960000</td>\n",
       "    </tr>\n",
       "    <tr>\n",
       "      <th>4</th>\n",
       "      <td>i_uso_casotr</td>\n",
       "      <td>40,755</td>\n",
       "      <td>2.090000</td>\n",
       "    </tr>\n",
       "    <tr>\n",
       "      <th>5</th>\n",
       "      <td>i_uso_otro</td>\n",
       "      <td>22,055</td>\n",
       "      <td>1.130000</td>\n",
       "    </tr>\n",
       "    <tr>\n",
       "      <th>6</th>\n",
       "      <td>i_uso_movil</td>\n",
       "      <td>1,687,514</td>\n",
       "      <td>86.489998</td>\n",
       "    </tr>\n",
       "  </tbody>\n",
       "</table>\n",
       "</div>"
      ],
      "text/plain": [
       "       variable      value  Porcentaje\n",
       "0    i_uso_cedu      4,436    0.230000\n",
       "1    i_uso_trab      2,907    0.150000\n",
       "2     i_uso_hog    490,830   25.160000\n",
       "3     i_uso_cab     57,794    2.960000\n",
       "4  i_uso_casotr     40,755    2.090000\n",
       "5    i_uso_otro     22,055    1.130000\n",
       "6   i_uso_movil  1,687,514   86.489998"
      ]
     },
     "execution_count": 103,
     "metadata": {},
     "output_type": "execute_result"
    }
   ],
   "source": [
    "data3 = pd.concat([i_uso_cedu, i_uso_trab, i_uso_hog, i_uso_cab, i_uso_casotr,i_uso_otro, i_uso_movil], axis=0)\n",
    "#data3 = pd.concat([i_uso, i_uso_cedu, i_uso_trab, i_uso_hog, i_uso_cab, i_uso_casotr,i_uso_otro, i_uso_movil], axis=0)\n",
    "data3 = data3.reset_index(drop=True)\n",
    "data3"
   ]
  },
  {
   "cell_type": "raw",
   "id": "5729292f-a09c-41a1-99c7-a1f2149a63d7",
   "metadata": {},
   "source": [
    "    # Eliminar etiquetas y marcas del eje y\n",
    "    ax.set_yticks([])\n",
    "    ax.set_yticklabels([])\n",
    "\n",
    "    # Etiquetas y título\n",
    "    plt.xlabel('')\n",
    "    plt.ylabel('')\n",
    "    plt.title(f'Porcentaje de estudiante por {columna_categorica}')\n",
    "    \n",
    "    # Especificar el número de columnas en la leyenda (en este caso, 2 columnas)\n",
    "    ncol = 2\n",
    "    \n",
    "    # Reducir el tamaño de fuente de la leyenda\n",
    "    handles = [plt.Rectangle((0,0),1,1, color=col) for col in custom_palette[:len(labels)]]\n",
    "    plt.legend(handles, labels, title='Leyenda', loc='upper left', fontsize=8, bbox_to_anchor=(1, 1), ncol=ncol)\n",
    "    \n",
    "    # Eliminar los spines derecho y superior\n",
    "    ax.spines['right'].set_visible(False)\n",
    "    ax.spines['top'].set_visible(False)\n",
    "    ax.spines['left'].set_visible(False)"
   ]
  },
  {
   "cell_type": "markdown",
   "id": "138d46b8-80ee-4062-ae3b-70b73e148d75",
   "metadata": {},
   "source": [
    "## plot"
   ]
  },
  {
   "cell_type": "code",
   "execution_count": 104,
   "id": "b1f0855e-38e9-4a3b-a787-0505dbb69fe6",
   "metadata": {},
   "outputs": [
    {
     "data": {
      "image/png": "[encoded data removed]",
      "text/plain": [
       "<Figure size 1400x1000 with 1 Axes>"
      ]
     },
     "metadata": {},
     "output_type": "display_data"
    }
   ],
   "source": [
    "# Plot\n",
    "plt.figure(figsize=(14,10))\n",
    "ax = sns.barplot(data = data3, x = 'Porcentaje', y = 'variable', color = 'grey',\n",
    "                order=data3.sort_values('Porcentaje',ascending = False).variable)\n",
    "# Etiquetas y título\n",
    "plt.xlabel('')\n",
    "plt.ylabel('')\n",
    "\n",
    "# Eliminar los spines derecho y superior\n",
    "ax.spines['right'].set_visible(False)\n",
    "ax.spines['top'].set_visible(False)\n",
    "\n",
    "plt.bar_label(ax.containers[0], fmt='%.2f%%', fontsize=11)\n",
    "\n",
    "# Generar el nombre del archivo de imagen basado en el nombre de la columna\n",
    "nombre_archivo = f'multiples_uso.png'\n",
    "\n",
    "# Guardar la imagen en la ruta especificada\n",
    "ruta_guardado = '../output/images/' + nombre_archivo\n",
    "plt.savefig(ruta_guardado)\n",
    "plt.show()"
   ]
  },
  {
   "cell_type": "markdown",
   "id": "d5a7b65e-4867-4fce-bbb3-469e7174ca48",
   "metadata": {},
   "source": [
    "### Grafico de barras - ACCESO"
   ]
  },
  {
   "cell_type": "code",
   "execution_count": 105,
   "id": "c0b4480b-44d8-495f-8a6a-b9214b8e4ef2",
   "metadata": {},
   "outputs": [],
   "source": [
    "base_filtrada_['i_computadora'] = base_filtrada_['i_computadora'].map({0: 0, 1: 1})\n",
    "base_filtrada_['i_tablet'] = base_filtrada_['i_tablet'].map({0: 0, 6: 1})\n",
    "base_filtrada_['i_laptop'] = base_filtrada_['i_laptop'].map({0: 0, 2: 1})\n",
    "base_filtrada_['i_otro'] = base_filtrada_['i_otro'].map({0: 0, 7: 1})\n",
    "base_filtrada_['i_cel_sdatos'] = base_filtrada_['i_cel_sdatos'].map({0: 0, 8: 1})\n",
    "base_filtrada_['i_cel_cdatos'] = base_filtrada_['i_cel_cdatos'].map({0: 0, 9: 1})"
   ]
  },
  {
   "cell_type": "code",
   "execution_count": 106,
   "id": "f203c8bd-2304-4e88-a2d8-1e6a29d8eab4",
   "metadata": {},
   "outputs": [],
   "source": [
    "i_computadora = barras(\"i_computadora\")\n",
    "i_tablet = barras(\"i_tablet\")\n",
    "i_laptop = barras(\"i_laptop\")\n",
    "i_otro = barras(\"i_otro\")\n",
    "i_cel_sdatos = barras(\"i_cel_sdatos\")\n",
    "i_cel_cdatos = barras(\"i_cel_cdatos\")"
   ]
  },
  {
   "cell_type": "code",
   "execution_count": 107,
   "id": "087ce9ba",
   "metadata": {},
   "outputs": [
    {
     "data": {
      "text/html": [
       "<div>\n",
       "<style scoped>\n",
       "    .dataframe tbody tr th:only-of-type {\n",
       "        vertical-align: middle;\n",
       "    }\n",
       "\n",
       "    .dataframe tbody tr th {\n",
       "        vertical-align: top;\n",
       "    }\n",
       "\n",
       "    .dataframe thead th {\n",
       "        text-align: right;\n",
       "    }\n",
       "</style>\n",
       "<table border=\"1\" class=\"dataframe\">\n",
       "  <thead>\n",
       "    <tr style=\"text-align: right;\">\n",
       "      <th></th>\n",
       "      <th>variable</th>\n",
       "      <th>value</th>\n",
       "      <th>Porcentaje</th>\n",
       "    </tr>\n",
       "  </thead>\n",
       "  <tbody>\n",
       "    <tr>\n",
       "      <th>0</th>\n",
       "      <td>i_computadora</td>\n",
       "      <td>342,234</td>\n",
       "      <td>17.540001</td>\n",
       "    </tr>\n",
       "    <tr>\n",
       "      <th>1</th>\n",
       "      <td>i_tablet</td>\n",
       "      <td>59,823</td>\n",
       "      <td>3.070000</td>\n",
       "    </tr>\n",
       "    <tr>\n",
       "      <th>2</th>\n",
       "      <td>i_laptop</td>\n",
       "      <td>221,599</td>\n",
       "      <td>11.360000</td>\n",
       "    </tr>\n",
       "    <tr>\n",
       "      <th>3</th>\n",
       "      <td>i_otro</td>\n",
       "      <td>379,781</td>\n",
       "      <td>19.459999</td>\n",
       "    </tr>\n",
       "    <tr>\n",
       "      <th>4</th>\n",
       "      <td>i_cel_sdatos</td>\n",
       "      <td>999,396</td>\n",
       "      <td>51.220001</td>\n",
       "    </tr>\n",
       "    <tr>\n",
       "      <th>5</th>\n",
       "      <td>i_cel_cdatos</td>\n",
       "      <td>362,051</td>\n",
       "      <td>18.559999</td>\n",
       "    </tr>\n",
       "  </tbody>\n",
       "</table>\n",
       "</div>"
      ],
      "text/plain": [
       "        variable    value  Porcentaje\n",
       "0  i_computadora  342,234   17.540001\n",
       "1       i_tablet   59,823    3.070000\n",
       "2       i_laptop  221,599   11.360000\n",
       "3         i_otro  379,781   19.459999\n",
       "4   i_cel_sdatos  999,396   51.220001\n",
       "5   i_cel_cdatos  362,051   18.559999"
      ]
     },
     "execution_count": 107,
     "metadata": {},
     "output_type": "execute_result"
    }
   ],
   "source": [
    "data3 = pd.concat([i_computadora, i_tablet, i_laptop, i_otro, i_cel_sdatos, i_cel_cdatos], axis=0)\n",
    "data3 = data3.reset_index(drop=True)\n",
    "data3"
   ]
  },
  {
   "cell_type": "markdown",
   "id": "6a6d3c23-b823-402d-8b57-708501fa7aa8",
   "metadata": {},
   "source": [
    "## Plot"
   ]
  },
  {
   "cell_type": "code",
   "execution_count": 108,
   "id": "06ea4854-c7c1-4607-8656-23b5be3e319b",
   "metadata": {},
   "outputs": [
    {
     "data": {
      "image/png": "[encoded data removed]",
      "text/plain": [
       "<Figure size 1400x1000 with 1 Axes>"
      ]
     },
     "metadata": {},
     "output_type": "display_data"
    }
   ],
   "source": [
    "# Plot\n",
    "plt.figure(figsize=(14,10))\n",
    "ax = sns.barplot(data = data3, x = 'Porcentaje', y = 'variable', color = 'grey',\n",
    "                order=data3.sort_values('Porcentaje',ascending = False).variable)\n",
    "# Etiquetas y título\n",
    "plt.xlabel('')\n",
    "plt.ylabel('')\n",
    "\n",
    "# Eliminar los spines derecho y superior\n",
    "ax.spines['right'].set_visible(False)\n",
    "ax.spines['top'].set_visible(False)\n",
    "\n",
    "plt.bar_label(ax.containers[0], fmt='%.2f%%', fontsize=11)\n",
    "\n",
    "# Generar el nombre del archivo de imagen basado en el nombre de la columna\n",
    "nombre_archivo = f'multiples_acceso.png'\n",
    "\n",
    "# Guardar la imagen en la ruta especificada\n",
    "ruta_guardado = '../output/images/' + nombre_archivo\n",
    "plt.savefig(ruta_guardado)\n",
    "\n",
    "plt.show()"
   ]
  },
  {
   "cell_type": "markdown",
   "id": "c84a96f1-bd49-459f-bae9-9b4db5eb05c6",
   "metadata": {},
   "source": [
    "### Grafico de barras - Clases a DISTANCIA"
   ]
  },
  {
   "cell_type": "code",
   "execution_count": 109,
   "id": "aa1214bc-51f5-4f13-9695-0b9a9c5f35f1",
   "metadata": {},
   "outputs": [],
   "source": [
    "base_filtrada_['clases_tv'] = base_filtrada_['clases_tv'].map({0: 0, 1: 1})\n",
    "base_filtrada_['clases_radio'] = base_filtrada_['clases_radio'].map({0: 0, 2: 1})\n",
    "base_filtrada_['clases_plataforma_virtual'] = base_filtrada_['clases_plataforma_virtual'].map({0: 0, 3: 1})\n",
    "base_filtrada_['clases_otro'] = base_filtrada_['clases_otro'].map({0: 0, 4: 1})\n",
    "base_filtrada_['clases_wsp'] = base_filtrada_['clases_wsp'].map({0: 0, 5: 1})\n",
    "base_filtrada_['clases_correo'] = base_filtrada_['clases_correo'].map({0: 0, 6: 1})\n",
    "base_filtrada_['clases_llamadas'] = base_filtrada_['clases_llamadas'].map({0: 0, 7: 1})"
   ]
  },
  {
   "cell_type": "code",
   "execution_count": 110,
   "id": "e39c2f03-b1eb-41bf-b3af-46617d8a6df5",
   "metadata": {},
   "outputs": [],
   "source": [
    "base_filtrada_['clases_interaccion_profesor'] = base_filtrada_['clases_interaccion_profesor'].map({0: 0, 1: 1})\n",
    "base_filtrada_['clases_videos'] = base_filtrada_['clases_videos'].map({0: 0, 2: 1})\n",
    "base_filtrada_['clases_documentos'] = base_filtrada_['clases_documentos'].map({0: 0, 3: 1})\n",
    "base_filtrada_['clases_otros'] = base_filtrada_['clases_otros'].map({0: 0, 4: 1})\n",
    "base_filtrada_['clases_msm_audio'] = base_filtrada_['clases_msm_audio'].map({0: 0, 5: 1})\n",
    "base_filtrada_['clases_msm_texto'] = base_filtrada_['clases_msm_texto'].map({0: 0, 6: 1})\n",
    "base_filtrada_['clases_sin_acompañamiento'] = base_filtrada_['clases_sin_acompañamiento'].map({0: 0, 7: 1})"
   ]
  },
  {
   "cell_type": "code",
   "execution_count": 111,
   "id": "bdeb62a5-32e6-40f1-b13f-779467c09138",
   "metadata": {},
   "outputs": [],
   "source": [
    "clases_tv         =   barras(\"clases_tv\")\n",
    "clases_radio      = barras(\"clases_radio\")\n",
    "clases_plataforma_virtual = barras(\"clases_plataforma_virtual\")\n",
    "clases_otro       = barras(\"clases_otro\")\n",
    "clases_wsp        = barras(\"clases_wsp\")\n",
    "clases_correo     = barras(\"clases_correo\")\n",
    "clases_llamadas   = barras(\"clases_llamadas\")\n",
    "clases_interaccion_profesor = barras(\"clases_interaccion_profesor\")\n",
    "clases_videos     = barras(\"clases_videos\")\n",
    "clases_documentos = barras(\"clases_documentos\")\n",
    "clases_otros      = barras(\"clases_otros\")\n",
    "clases_msm_audio  = barras(\"clases_msm_audio\")\n",
    "clases_msm_texto  = barras(\"clases_msm_texto\")\n",
    "clases_sin_acompañamiento = barras(\"clases_sin_acompañamiento\")"
   ]
  },
  {
   "cell_type": "code",
   "execution_count": 112,
   "id": "84c82615-b957-43e8-b0c6-e7cc6c241837",
   "metadata": {},
   "outputs": [
    {
     "data": {
      "text/html": [
       "<div>\n",
       "<style scoped>\n",
       "    .dataframe tbody tr th:only-of-type {\n",
       "        vertical-align: middle;\n",
       "    }\n",
       "\n",
       "    .dataframe tbody tr th {\n",
       "        vertical-align: top;\n",
       "    }\n",
       "\n",
       "    .dataframe thead th {\n",
       "        text-align: right;\n",
       "    }\n",
       "</style>\n",
       "<table border=\"1\" class=\"dataframe\">\n",
       "  <thead>\n",
       "    <tr style=\"text-align: right;\">\n",
       "      <th></th>\n",
       "      <th>variable</th>\n",
       "      <th>value</th>\n",
       "      <th>Porcentaje</th>\n",
       "    </tr>\n",
       "  </thead>\n",
       "  <tbody>\n",
       "    <tr>\n",
       "      <th>0</th>\n",
       "      <td>clases_tv</td>\n",
       "      <td>682,161</td>\n",
       "      <td>42.619999</td>\n",
       "    </tr>\n",
       "    <tr>\n",
       "      <th>1</th>\n",
       "      <td>clases_radio</td>\n",
       "      <td>139,434</td>\n",
       "      <td>8.710000</td>\n",
       "    </tr>\n",
       "    <tr>\n",
       "      <th>2</th>\n",
       "      <td>clases_plataforma_virtual</td>\n",
       "      <td>655,322</td>\n",
       "      <td>40.939999</td>\n",
       "    </tr>\n",
       "    <tr>\n",
       "      <th>3</th>\n",
       "      <td>clases_otro</td>\n",
       "      <td>17,212</td>\n",
       "      <td>1.080000</td>\n",
       "    </tr>\n",
       "    <tr>\n",
       "      <th>4</th>\n",
       "      <td>clases_wsp</td>\n",
       "      <td>1,385,418</td>\n",
       "      <td>86.550003</td>\n",
       "    </tr>\n",
       "    <tr>\n",
       "      <th>5</th>\n",
       "      <td>clases_correo</td>\n",
       "      <td>78,095</td>\n",
       "      <td>4.880000</td>\n",
       "    </tr>\n",
       "    <tr>\n",
       "      <th>6</th>\n",
       "      <td>clases_llamadas</td>\n",
       "      <td>477,880</td>\n",
       "      <td>29.850000</td>\n",
       "    </tr>\n",
       "    <tr>\n",
       "      <th>7</th>\n",
       "      <td>clases_interaccion_profesor</td>\n",
       "      <td>1,021,502</td>\n",
       "      <td>63.810001</td>\n",
       "    </tr>\n",
       "    <tr>\n",
       "      <th>8</th>\n",
       "      <td>clases_videos</td>\n",
       "      <td>1,057,262</td>\n",
       "      <td>66.050003</td>\n",
       "    </tr>\n",
       "    <tr>\n",
       "      <th>9</th>\n",
       "      <td>clases_documentos</td>\n",
       "      <td>1,284,796</td>\n",
       "      <td>80.260002</td>\n",
       "    </tr>\n",
       "    <tr>\n",
       "      <th>10</th>\n",
       "      <td>clases_otros</td>\n",
       "      <td>15,088</td>\n",
       "      <td>0.940000</td>\n",
       "    </tr>\n",
       "    <tr>\n",
       "      <th>11</th>\n",
       "      <td>clases_msm_audio</td>\n",
       "      <td>960,437</td>\n",
       "      <td>60.000000</td>\n",
       "    </tr>\n",
       "    <tr>\n",
       "      <th>12</th>\n",
       "      <td>clases_msm_texto</td>\n",
       "      <td>805,816</td>\n",
       "      <td>50.340000</td>\n",
       "    </tr>\n",
       "    <tr>\n",
       "      <th>13</th>\n",
       "      <td>clases_sin_acompañamiento</td>\n",
       "      <td>22,646</td>\n",
       "      <td>1.410000</td>\n",
       "    </tr>\n",
       "  </tbody>\n",
       "</table>\n",
       "</div>"
      ],
      "text/plain": [
       "                       variable      value  Porcentaje\n",
       "0                     clases_tv    682,161   42.619999\n",
       "1                  clases_radio    139,434    8.710000\n",
       "2     clases_plataforma_virtual    655,322   40.939999\n",
       "3                   clases_otro     17,212    1.080000\n",
       "4                    clases_wsp  1,385,418   86.550003\n",
       "5                 clases_correo     78,095    4.880000\n",
       "6               clases_llamadas    477,880   29.850000\n",
       "7   clases_interaccion_profesor  1,021,502   63.810001\n",
       "8                 clases_videos  1,057,262   66.050003\n",
       "9             clases_documentos  1,284,796   80.260002\n",
       "10                 clases_otros     15,088    0.940000\n",
       "11             clases_msm_audio    960,437   60.000000\n",
       "12             clases_msm_texto    805,816   50.340000\n",
       "13    clases_sin_acompañamiento     22,646    1.410000"
      ]
     },
     "execution_count": 112,
     "metadata": {},
     "output_type": "execute_result"
    }
   ],
   "source": [
    "data3 = pd.concat([clases_tv, clases_radio, clases_plataforma_virtual, clases_otro, clases_wsp, clases_correo, clases_llamadas,\n",
    "                   clases_interaccion_profesor, clases_videos, clases_documentos, clases_otros, clases_msm_audio, clases_msm_texto,\n",
    "                   clases_sin_acompañamiento], axis=0)\n",
    "data3 = data3.reset_index(drop=True)\n",
    "data3"
   ]
  },
  {
   "cell_type": "code",
   "execution_count": null,
   "id": "56f59e5a-6466-4635-8d28-0da47bae88ca",
   "metadata": {},
   "outputs": [],
   "source": []
  },
  {
   "cell_type": "markdown",
   "id": "de8fca3c-bab0-4fb8-b838-8ba301c16e6d",
   "metadata": {
    "tags": []
   },
   "source": [
    "## plot"
   ]
  },
  {
   "cell_type": "code",
   "execution_count": 113,
   "id": "ef1367d4-cf16-411e-b46f-b725f8b557f3",
   "metadata": {},
   "outputs": [
    {
     "data": {
      "image/png": "[encoded data removed]",
      "text/plain": [
       "<Figure size 1400x1000 with 1 Axes>"
      ]
     },
     "metadata": {},
     "output_type": "display_data"
    }
   ],
   "source": [
    "# Plot\n",
    "plt.figure(figsize=(14,10))\n",
    "ax = sns.barplot(data = data3, x = 'Porcentaje', y = 'variable', color = 'grey',\n",
    "                order=data3.sort_values('Porcentaje',ascending = False).variable)\n",
    "\n",
    "# Etiquetas y título\n",
    "plt.xlabel('')\n",
    "plt.ylabel('')\n",
    "\n",
    "# Eliminar los spines derecho y superior\n",
    "ax.spines['right'].set_visible(False)\n",
    "ax.spines['top'].set_visible(False)\n",
    "\n",
    "plt.bar_label(ax.containers[0], fmt='%.2f%%', fontsize=11)\n",
    "\n",
    "# Generar el nombre del archivo de imagen basado en el nombre de la columna\n",
    "nombre_archivo = f'multiple_clases.png'\n",
    "\n",
    "# Guardar la imagen en la ruta especificada\n",
    "ruta_guardado = '../output/images/' + nombre_archivo\n",
    "plt.savefig(ruta_guardado)\n",
    "\n",
    "plt.show()"
   ]
  },
  {
   "cell_type": "markdown",
   "id": "fa9e36b7",
   "metadata": {},
   "source": [
    "# Regresión"
   ]
  },
  {
   "cell_type": "code",
   "execution_count": 115,
   "id": "e121013f",
   "metadata": {},
   "outputs": [
    {
     "name": "stdout",
     "output_type": "stream",
     "text": [
      "Número de valores faltantes en 'i_uso_hog': 0\n"
     ]
    }
   ],
   "source": [
    "base_filtrada['i_uso_hog'].value_counts()\n",
    "missing_values = base_filtrada['i_uso_hog'].isna().sum()\n",
    "print(\"Número de valores faltantes en 'i_uso_hog':\", missing_values)"
   ]
  },
  {
   "cell_type": "code",
   "execution_count": 116,
   "id": "e68763a3-2144-4511-bb9a-505130ec08f9",
   "metadata": {},
   "outputs": [
    {
     "data": {
      "text/plain": [
       "(6252, 90)"
      ]
     },
     "execution_count": 116,
     "metadata": {},
     "output_type": "execute_result"
    }
   ],
   "source": [
    "base_filtrada.shape"
   ]
  },
  {
   "cell_type": "code",
   "execution_count": 117,
   "id": "d37e9a4f",
   "metadata": {},
   "outputs": [],
   "source": [
    "base_filtrada = base_filtrada.dropna(subset=['i_uso_hog'])\n",
    "weights = base_filtrada['factor07']"
   ]
  },
  {
   "cell_type": "code",
   "execution_count": 118,
   "id": "d4268ddb",
   "metadata": {},
   "outputs": [],
   "source": [
    "# Definir las variables dependientes, independientes y los pesos\n",
    "y = base_filtrada['i_uso_hog']\n",
    "X = base_filtrada[['mieperho','Nivel_educativo','Centro_estudios','Idioma','Sexo','AREA','estrsocial','Edad',\n",
    "                   'Electricidad'\n",
    "                  ## 'region'\n",
    "                  ]] \n",
    "#X = base_filtrada[['mieperho','p308a','p308d','p300a','p207','AREA','estrsocial','p208a','p1121']]  # Agrega aquí tus otras variables independientes\n"
   ]
  },
  {
   "cell_type": "code",
   "execution_count": 119,
   "id": "dd0178a0",
   "metadata": {},
   "outputs": [],
   "source": [
    "# los nombres de las variables deben respresentar al menos una idea de lo que represento\n",
    "# Revisar qué variables son categoricas y continuas \n"
   ]
  },
  {
   "cell_type": "code",
   "execution_count": 120,
   "id": "aa62d680-63ad-448d-b393-ad6bc41d6f01",
   "metadata": {},
   "outputs": [],
   "source": [
    "# Define la variable dependiente (binaria) y las variables independientes\n",
    "y = base_filtrada['i_uso_hog']\n",
    "X = base_filtrada[['mieperho', 'Nivel_educativo', 'Centro_estudios', 'Idioma', 'Sexo', 'AREA', 'estrsocial', 'Edad', 'Electricidad']]\n",
    "\n",
    "# Codifica la variable categórica ordinal \"Nivel_educativo\" en variables dummy\n",
    "nivel_educativo_dummies = pd.get_dummies(base_filtrada['Nivel_educativo'], prefix='Nivel_educativo', drop_first=True)\n",
    "\n",
    "# Codifica la variable categórica nominal \"Region\" en variables dummy\n",
    "region_dummies = pd.get_dummies(base_filtrada['Region'], prefix='Region', drop_first=True)\n",
    "\n",
    "# Codifica la variable categórica nominal \"Region\" en variables dummy\n",
    "departamento_dummies = pd.get_dummies(base_filtrada['DEPARTAMENTO'], prefix='DEPARTAMENTO', drop_first=True)\n",
    "\n",
    "# Combina las variables dummy con el conjunto de variables independientes\n",
    "X = pd.concat([X, nivel_educativo_dummies, region_dummies, departamento_dummies], axis=1)"
   ]
  },
  {
   "cell_type": "markdown",
   "id": "6491e8a4-8137-49e3-884b-f10dec0b187c",
   "metadata": {},
   "source": [
    "## Regresión Lineal SIMPLE"
   ]
  },
  {
   "cell_type": "code",
   "execution_count": 121,
   "id": "e9733904",
   "metadata": {},
   "outputs": [
    {
     "name": "stdout",
     "output_type": "stream",
     "text": [
      "                            OLS Regression Results                            \n",
      "==============================================================================\n",
      "Dep. Variable:              i_uso_hog   R-squared:                       0.306\n",
      "Model:                            OLS   Adj. R-squared:                  0.302\n",
      "Method:                 Least Squares   F-statistic:                     73.99\n",
      "Date:                Wed, 04 Oct 2023   Prob (F-statistic):               0.00\n",
      "Time:                        20:43:41   Log-Likelihood:                -2328.1\n",
      "No. Observations:                6252   AIC:                             4732.\n",
      "Df Residuals:                    6214   BIC:                             4988.\n",
      "Df Model:                          37                                         \n",
      "Covariance Type:            nonrobust                                         \n",
      "=======================================================================================\n",
      "                          coef    std err          t      P>|t|      [0.025      0.975]\n",
      "---------------------------------------------------------------------------------------\n",
      "mieperho               -0.0004      0.003     -0.158      0.874      -0.006       0.005\n",
      "Nivel_educativo         0.2089      0.071      2.962      0.003       0.071       0.347\n",
      "Centro_estudios         0.3048      0.013     23.939      0.000       0.280       0.330\n",
      "Idioma                  0.0212      0.021      1.035      0.300      -0.019       0.061\n",
      "Sexo                    0.0197      0.009      2.198      0.028       0.002       0.037\n",
      "AREA                   -0.0309      0.015     -2.005      0.045      -0.061      -0.001\n",
      "estrsocial             -0.1091      0.005    -20.376      0.000      -0.120      -0.099\n",
      "Edad                    0.0010      0.003      0.381      0.703      -0.004       0.006\n",
      "Electricidad            0.0504      0.027      1.892      0.059      -0.002       0.103\n",
      "Nivel_educativo_2.0    -0.1666      0.083     -2.002      0.045      -0.330      -0.003\n",
      "Nivel_educativo_3.0    -0.3365      0.150     -2.246      0.025      -0.630      -0.043\n",
      "Region_2                0.0176      0.022      0.799      0.425      -0.026       0.061\n",
      "Region_3               -0.0222      0.032     -0.685      0.493      -0.086       0.041\n",
      "Region_4                0.0537      0.029      1.883      0.060      -0.002       0.110\n",
      "DEPARTAMENTO_2         -0.0347      0.039     -0.884      0.377      -0.112       0.042\n",
      "DEPARTAMENTO_3          0.0278      0.043      0.641      0.522      -0.057       0.113\n",
      "DEPARTAMENTO_4          0.0796      0.038      2.095      0.036       0.005       0.154\n",
      "DEPARTAMENTO_5          0.0510      0.041      1.259      0.208      -0.028       0.130\n",
      "DEPARTAMENTO_6          0.0252      0.039      0.645      0.519      -0.051       0.102\n",
      "DEPARTAMENTO_7         -0.0190      0.051     -0.371      0.710      -0.119       0.081\n",
      "DEPARTAMENTO_8         -0.0315      0.045     -0.704      0.481      -0.119       0.056\n",
      "DEPARTAMENTO_9         -0.0218      0.042     -0.512      0.608      -0.105       0.061\n",
      "DEPARTAMENTO_10         0.0155      0.037      0.415      0.678      -0.058       0.089\n",
      "DEPARTAMENTO_11         0.1612      0.043      3.761      0.000       0.077       0.245\n",
      "DEPARTAMENTO_12         0.0598      0.039      1.534      0.125      -0.017       0.136\n",
      "DEPARTAMENTO_13         0.0714      0.040      1.770      0.077      -0.008       0.151\n",
      "DEPARTAMENTO_14         0.0129      0.042      0.305      0.761      -0.070       0.096\n",
      "DEPARTAMENTO_15         0.0176      0.044      0.400      0.689      -0.069       0.104\n",
      "DEPARTAMENTO_16        -0.1185      0.037     -3.167      0.002      -0.192      -0.045\n",
      "DEPARTAMENTO_17         0.1478      0.045      3.316      0.001       0.060       0.235\n",
      "DEPARTAMENTO_18         0.1017      0.046      2.223      0.026       0.012       0.191\n",
      "DEPARTAMENTO_19         0.0257      0.039      0.658      0.510      -0.051       0.102\n",
      "DEPARTAMENTO_20        -0.0729      0.040     -1.811      0.070      -0.152       0.006\n",
      "DEPARTAMENTO_21        -0.0693      0.041     -1.695      0.090      -0.149       0.011\n",
      "DEPARTAMENTO_22         0.1119      0.036      3.144      0.002       0.042       0.182\n",
      "DEPARTAMENTO_23         0.1497      0.045      3.335      0.001       0.062       0.238\n",
      "DEPARTAMENTO_24        -0.0297      0.044     -0.676      0.499      -0.116       0.057\n",
      "DEPARTAMENTO_25         0.0180      0.036      0.494      0.621      -0.053       0.089\n",
      "==============================================================================\n",
      "Omnibus:                      581.669   Durbin-Watson:                   1.538\n",
      "Prob(Omnibus):                  0.000   Jarque-Bera (JB):              755.173\n",
      "Skew:                           0.815   Prob(JB):                    1.04e-164\n",
      "Kurtosis:                       3.493   Cond. No.                         668.\n",
      "==============================================================================\n",
      "\n",
      "Notes:\n",
      "[1] Standard Errors assume that the covariance matrix of the errors is correctly specified.\n"
     ]
    }
   ],
   "source": [
    "model = sm.OLS(y, X).fit()\n",
    "print(model.summary())"
   ]
  },
  {
   "cell_type": "markdown",
   "id": "a11ead89-11f5-4e73-9c9c-6cb97be07610",
   "metadata": {},
   "source": [
    "## Modelo Logit"
   ]
  },
  {
   "cell_type": "raw",
   "id": "db304826-b720-4ec3-bb60-ebcbf425eb9a",
   "metadata": {},
   "source": [
    "# Realizar la regresión probit ponderada\n",
    "model = sm.GLM(y, X, family=sm.families.Binomial(), weights=weights)\n",
    "results = model.fit()\n",
    "\n",
    "# Imprimir los resultados de la regresión probit\n",
    "print(results.summary())\n",
    "\n",
    "# Calcula los efectos marginales\n",
    "#efectos_marginales = results.get_margeff()\n",
    "#print(efectos_marginales.summary())"
   ]
  },
  {
   "cell_type": "raw",
   "id": "167041cd-ae1a-4c02-bf0e-ef90ca8de609",
   "metadata": {},
   "source": [
    "# Agregar una constante al conjunto de datos (intercepto)\n",
    "X = sm.add_constant(X)\n",
    "\n",
    "# Ajustar el modelo Logit ponderado\n",
    "model_logit = sm.WLS(y, X, weights=weights)\n",
    "results_logit = model_logit.fit()\n",
    "\n",
    "# Imprimir los resultados del modelo Logit\n",
    "print(results_logit.summary())"
   ]
  },
  {
   "cell_type": "markdown",
   "id": "74c72ff0-5291-4683-b588-c7647db4e2d2",
   "metadata": {},
   "source": [
    "## Modelo Probit"
   ]
  },
  {
   "cell_type": "code",
   "execution_count": 122,
   "id": "7f4770d9",
   "metadata": {},
   "outputs": [
    {
     "name": "stderr",
     "output_type": "stream",
     "text": [
      "C:\\ProgramData\\Anaconda3\\lib\\site-packages\\statsmodels\\base\\model.py:127: ValueWarning: unknown kwargs ['weights']\n",
      "  warnings.warn(msg, ValueWarning)\n"
     ]
    },
    {
     "name": "stdout",
     "output_type": "stream",
     "text": [
      "Warning: Maximum number of iterations has been exceeded.\n",
      "         Current function value: 0.380601\n",
      "         Iterations: 35\n",
      "                          Probit Regression Results                           \n",
      "==============================================================================\n",
      "Dep. Variable:              i_uso_hog   No. Observations:                 6252\n",
      "Model:                         Probit   Df Residuals:                     6214\n",
      "Method:                           MLE   Df Model:                           37\n",
      "Date:                Wed, 04 Oct 2023   Pseudo R-squ.:                  0.2958\n",
      "Time:                        20:43:44   Log-Likelihood:                -2379.5\n",
      "converged:                      False   LL-Null:                       -3378.8\n",
      "Covariance Type:            nonrobust   LLR p-value:                     0.000\n",
      "=======================================================================================\n",
      "                          coef    std err          z      P>|z|      [0.025      0.975]\n",
      "---------------------------------------------------------------------------------------\n",
      "const                  -5.5519        nan        nan        nan         nan         nan\n",
      "mieperho               -0.0045      0.013     -0.358      0.720      -0.029       0.020\n",
      "Nivel_educativo        -0.7704        nan        nan        nan         nan         nan\n",
      "Centro_estudios         0.9382      0.049     19.074      0.000       0.842       1.035\n",
      "Idioma                  0.4349      0.166      2.627      0.009       0.110       0.759\n",
      "Sexo                    0.0879      0.041      2.118      0.034       0.007       0.169\n",
      "AREA                    0.3268      0.084      3.881      0.000       0.162       0.492\n",
      "estrsocial             -0.3468      0.022    -15.862      0.000      -0.390      -0.304\n",
      "Edad                   -0.0005      0.013     -0.037      0.970      -0.025       0.024\n",
      "Electricidad            4.7244     67.936      0.070      0.945    -128.427     137.876\n",
      "Nivel_educativo_2.0     0.9472        nan        nan        nan         nan         nan\n",
      "Nivel_educativo_3.0     1.9171        nan        nan        nan         nan         nan\n",
      "Region_2                0.0546      0.110      0.498      0.618      -0.160       0.269\n",
      "Region_3               -0.1981      0.175     -1.132      0.258      -0.541       0.145\n",
      "Region_4                0.1343      0.123      1.091      0.275      -0.107       0.376\n",
      "DEPARTAMENTO_2         -0.0963      0.228     -0.423      0.673      -0.543       0.350\n",
      "DEPARTAMENTO_3          0.3268      0.250      1.309      0.190      -0.162       0.816\n",
      "DEPARTAMENTO_4          0.4183      0.208      2.007      0.045       0.010       0.827\n",
      "DEPARTAMENTO_5          0.3468      0.230      1.509      0.131      -0.104       0.797\n",
      "DEPARTAMENTO_6          0.2028      0.225      0.901      0.368      -0.239       0.644\n",
      "DEPARTAMENTO_7          0.0571      0.261      0.219      0.827      -0.454       0.568\n",
      "DEPARTAMENTO_8         -0.1357      0.270     -0.502      0.615      -0.665       0.394\n",
      "DEPARTAMENTO_9         -0.2231      0.318     -0.702      0.482      -0.846       0.400\n",
      "DEPARTAMENTO_10         0.1843      0.226      0.816      0.415      -0.259       0.627\n",
      "DEPARTAMENTO_11         0.6544      0.230      2.842      0.004       0.203       1.106\n",
      "DEPARTAMENTO_12         0.3871      0.216      1.793      0.073      -0.036       0.810\n",
      "DEPARTAMENTO_13         0.3735      0.223      1.672      0.094      -0.064       0.811\n",
      "DEPARTAMENTO_14         0.1159      0.234      0.496      0.620      -0.342       0.574\n",
      "DEPARTAMENTO_15         0.1737      0.239      0.725      0.468      -0.296       0.643\n",
      "DEPARTAMENTO_16        -0.4994      0.234     -2.131      0.033      -0.959      -0.040\n",
      "DEPARTAMENTO_17         0.7900      0.236      3.348      0.001       0.328       1.252\n",
      "DEPARTAMENTO_18         0.4631      0.242      1.915      0.055      -0.011       0.937\n",
      "DEPARTAMENTO_19         0.1963      0.223      0.882      0.378      -0.240       0.633\n",
      "DEPARTAMENTO_20        -0.3781      0.232     -1.628      0.103      -0.833       0.077\n",
      "DEPARTAMENTO_21        -0.5345      0.273     -1.960      0.050      -1.069   -1.94e-05\n",
      "DEPARTAMENTO_22         0.6789      0.210      3.233      0.001       0.267       1.090\n",
      "DEPARTAMENTO_23         0.5931      0.235      2.519      0.012       0.132       1.055\n",
      "DEPARTAMENTO_24        -0.0852      0.242     -0.352      0.725      -0.560       0.389\n",
      "DEPARTAMENTO_25         0.1969      0.219      0.898      0.369      -0.233       0.627\n",
      "=======================================================================================\n"
     ]
    },
    {
     "name": "stderr",
     "output_type": "stream",
     "text": [
      "C:\\ProgramData\\Anaconda3\\lib\\site-packages\\statsmodels\\base\\model.py:604: ConvergenceWarning: Maximum Likelihood optimization failed to converge. Check mle_retvals\n",
      "  warnings.warn(\"Maximum Likelihood optimization failed to \"\n",
      "C:\\ProgramData\\Anaconda3\\lib\\site-packages\\statsmodels\\base\\model.py:127: ValueWarning: unknown kwargs ['weights']\n",
      "  warnings.warn(msg, ValueWarning)\n"
     ]
    },
    {
     "name": "stdout",
     "output_type": "stream",
     "text": [
      "       Probit Marginal Effects       \n",
      "=====================================\n",
      "Dep. Variable:              i_uso_hog\n",
      "Method:                          dydx\n",
      "At:                           overall\n",
      "=======================================================================================\n",
      "                         dy/dx    std err          z      P>|z|      [0.025      0.975]\n",
      "---------------------------------------------------------------------------------------\n",
      "mieperho               -0.0010      0.003     -0.358      0.720      -0.006       0.004\n",
      "Nivel_educativo        -0.1630        nan        nan        nan         nan         nan\n",
      "Centro_estudios         0.1986      0.009     21.408      0.000       0.180       0.217\n",
      "Idioma                  0.0920      0.035      2.629      0.009       0.023       0.161\n",
      "Sexo                    0.0186      0.009      2.120      0.034       0.001       0.036\n",
      "AREA                    0.0692      0.018      3.877      0.000       0.034       0.104\n",
      "estrsocial             -0.0734      0.004    -16.878      0.000      -0.082      -0.065\n",
      "Edad                 -9.91e-05      0.003     -0.037      0.970      -0.005       0.005\n",
      "Electricidad            0.9998     14.310      0.070      0.944     -27.047      29.047\n",
      "Nivel_educativo_2.0     0.2005        nan        nan        nan         nan         nan\n",
      "Nivel_educativo_3.0     0.4057        nan        nan        nan         nan         nan\n",
      "Region_2                0.0116      0.023      0.498      0.618      -0.034       0.057\n",
      "Region_3               -0.0419      0.037     -1.132      0.258      -0.115       0.031\n",
      "Region_4                0.0284      0.026      1.091      0.275      -0.023       0.079\n",
      "DEPARTAMENTO_2         -0.0204      0.048     -0.423      0.673      -0.115       0.074\n",
      "DEPARTAMENTO_3          0.0692      0.053      1.309      0.190      -0.034       0.173\n",
      "DEPARTAMENTO_4          0.0885      0.044      2.009      0.045       0.002       0.175\n",
      "DEPARTAMENTO_5          0.0734      0.049      1.509      0.131      -0.022       0.169\n",
      "DEPARTAMENTO_6          0.0429      0.048      0.901      0.368      -0.050       0.136\n",
      "DEPARTAMENTO_7          0.0121      0.055      0.219      0.827      -0.096       0.120\n",
      "DEPARTAMENTO_8         -0.0287      0.057     -0.502      0.615      -0.141       0.083\n",
      "DEPARTAMENTO_9         -0.0472      0.067     -0.702      0.482      -0.179       0.085\n",
      "DEPARTAMENTO_10         0.0390      0.048      0.816      0.415      -0.055       0.133\n",
      "DEPARTAMENTO_11         0.1385      0.049      2.847      0.004       0.043       0.234\n",
      "DEPARTAMENTO_12         0.0819      0.046      1.794      0.073      -0.008       0.171\n",
      "DEPARTAMENTO_13         0.0791      0.047      1.673      0.094      -0.014       0.172\n",
      "DEPARTAMENTO_14         0.0245      0.049      0.496      0.620      -0.072       0.121\n",
      "DEPARTAMENTO_15         0.0368      0.051      0.725      0.468      -0.063       0.136\n",
      "DEPARTAMENTO_16        -0.1057      0.050     -2.133      0.033      -0.203      -0.009\n",
      "DEPARTAMENTO_17         0.1672      0.050      3.355      0.001       0.070       0.265\n",
      "DEPARTAMENTO_18         0.0980      0.051      1.917      0.055      -0.002       0.198\n",
      "DEPARTAMENTO_19         0.0415      0.047      0.882      0.378      -0.051       0.134\n",
      "DEPARTAMENTO_20        -0.0800      0.049     -1.629      0.103      -0.176       0.016\n",
      "DEPARTAMENTO_21        -0.1131      0.058     -1.961      0.050      -0.226   -7.93e-05\n",
      "DEPARTAMENTO_22         0.1437      0.044      3.238      0.001       0.057       0.231\n",
      "DEPARTAMENTO_23         0.1255      0.050      2.522      0.012       0.028       0.223\n",
      "DEPARTAMENTO_24        -0.0180      0.051     -0.352      0.725      -0.118       0.082\n",
      "DEPARTAMENTO_25         0.0417      0.046      0.898      0.369      -0.049       0.133\n",
      "=======================================================================================\n"
     ]
    },
    {
     "name": "stderr",
     "output_type": "stream",
     "text": [
      "C:\\ProgramData\\Anaconda3\\lib\\site-packages\\statsmodels\\discrete\\discrete_margins.py:343: RuntimeWarning: invalid value encountered in sqrt\n",
      "  return cov_me, np.sqrt(np.diag(cov_me))\n"
     ]
    }
   ],
   "source": [
    "# Agregar una constante al conjunto de datos (intercepto)\n",
    "X = sm.add_constant(X)\n",
    "\n",
    "# Ajustar el modelo Probit ponderado\n",
    "model_probit = sm.Probit(y, X, weights=weights)\n",
    "results_probit = model_probit.fit()\n",
    "\n",
    "# Imprimir los resultados del modelo Probit\n",
    "print(results_probit.summary())\n",
    "\n",
    "# Calcula los efectos marginales\n",
    "efectos_marginales = results_probit.get_margeff()\n",
    "print(efectos_marginales.summary())"
   ]
  },
  {
   "cell_type": "raw",
   "id": "b846990d-e260-4f99-94f8-2affaf83630e",
   "metadata": {},
   "source": [
    "formula = 'i_uso_hog ~ mieperho + Nivel_educativo + Centro_estudios + Idioma + Sexo + AREA + estrsocial + Edad + Electricidad'\n",
    "\n",
    "# Definir los pesos de la encuesta (pweight)\n",
    "weights = base_filtrada['factor07']\n",
    "\n",
    "# Ajustar el modelo Probit ponderado\n",
    "model = smf.wls(formula=formula, data=base_filtrada, weights=weights, family=sm.families.Binomial())\n",
    "results = model.fit()\n",
    "\n",
    "# Imprimir los resultados de la regresión Probit ponderada\n",
    "print(results.summary())"
   ]
  },
  {
   "cell_type": "code",
   "execution_count": 123,
   "id": "73f8be9d-1158-40c9-a707-9c5fe46a2535",
   "metadata": {},
   "outputs": [
    {
     "ename": "ModuleNotFoundError",
     "evalue": "No module named 'survey'",
     "output_type": "error",
     "traceback": [
      "\u001b[1;31m---------------------------------------------------------------------------\u001b[0m",
      "\u001b[1;31mModuleNotFoundError\u001b[0m                       Traceback (most recent call last)",
      "\u001b[1;32m~\\AppData\\Local\\Temp\\ipykernel_15020\\3188983822.py\u001b[0m in \u001b[0;36m<module>\u001b[1;34m\u001b[0m\n\u001b[0;32m      1\u001b[0m \u001b[1;32mimport\u001b[0m \u001b[0mpandas\u001b[0m \u001b[1;32mas\u001b[0m \u001b[0mpd\u001b[0m\u001b[1;33m\u001b[0m\u001b[1;33m\u001b[0m\u001b[0m\n\u001b[1;32m----> 2\u001b[1;33m \u001b[1;32mfrom\u001b[0m \u001b[0msurvey\u001b[0m \u001b[1;32mimport\u001b[0m \u001b[0mSurveyDesign\u001b[0m\u001b[1;33m\u001b[0m\u001b[1;33m\u001b[0m\u001b[0m\n\u001b[0m\u001b[0;32m      3\u001b[0m \u001b[1;33m\u001b[0m\u001b[0m\n\u001b[0;32m      4\u001b[0m \u001b[1;31m# Cargar tu conjunto de datos en un DataFrame de pandas (reemplaza 'enaho.csv' con el nombre de tu archivo)\u001b[0m\u001b[1;33m\u001b[0m\u001b[1;33m\u001b[0m\u001b[0m\n\u001b[0;32m      5\u001b[0m \u001b[0menaho\u001b[0m \u001b[1;33m=\u001b[0m \u001b[0mpd\u001b[0m\u001b[1;33m.\u001b[0m\u001b[0mread_csv\u001b[0m\u001b[1;33m(\u001b[0m\u001b[1;34m'enaho.csv'\u001b[0m\u001b[1;33m)\u001b[0m\u001b[1;33m\u001b[0m\u001b[1;33m\u001b[0m\u001b[0m\n",
      "\u001b[1;31mModuleNotFoundError\u001b[0m: No module named 'survey'"
     ]
    }
   ],
   "source": [
    "import pandas as pd\n",
    "from survey import SurveyDesign\n",
    "\n",
    "# Cargar tu conjunto de datos en un DataFrame de pandas (reemplaza 'enaho.csv' con el nombre de tu archivo)\n",
    "enaho = pd.read_csv('enaho.csv')\n",
    "\n",
    "# Crear el diseño de encuesta\n",
    "encuesta = SurveyDesign(\n",
    "    data=enaho,\n",
    "    ids=~enaho['conglome'],\n",
    "    strata=~enaho['estrato.x'],\n",
    "    weights=~enaho['facpob07']\n",
    ")\n",
    "\n",
    "# Realizar análisis de encuesta utilizando el diseño creado\n",
    "# Por ejemplo, puedes calcular estimaciones de totales o medias ponderadas\n",
    "estimacion_total = encuesta.mean(\"variable_de_interes\")\n",
    "print(\"Estimación del total ponderado:\", estimacion_total)\n"
   ]
  },
  {
   "cell_type": "code",
   "execution_count": null,
   "id": "405be7e6-a435-4894-b8fc-714c09f9c177",
   "metadata": {},
   "outputs": [],
   "source": []
  }
 ],
 "metadata": {
  "kernelspec": {
   "display_name": "Python 3 (ipykernel)",
   "language": "python",
   "name": "python3"
  },
  "language_info": {
   "codemirror_mode": {
    "name": "ipython",
    "version": 3
   },
   "file_extension": ".py",
   "mimetype": "text/x-python",
   "name": "python",
   "nbconvert_exporter": "python",
   "pygments_lexer": "ipython3",
   "version": "3.9.13"
  },
  "toc-autonumbering": true,
  "toc-showcode": false,
  "toc-showmarkdowntxt": false
 },
 "nbformat": 4,
 "nbformat_minor": 5
}
