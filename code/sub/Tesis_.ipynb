{
 "cells": [
  {
   "cell_type": "markdown",
   "id": "85b16d18-7f03-4f1f-ac05-007b2244a654",
   "metadata": {
    "tags": []
   },
   "source": [
    "# Librerias"
   ]
  },
  {
   "cell_type": "code",
   "execution_count": 1,
   "id": "7244ff7e",
   "metadata": {},
   "outputs": [],
   "source": [
    "import os\n",
    "import seaborn as sns\n",
    "import pandas as pd\n",
    "import warnings\n",
    "import statsmodels.api as sm\n",
    "from tabulate import tabulate\n",
    "import matplotlib.pyplot as plt\n",
    "import matplotlib.patches as patches\n",
    "import samplics\n",
    "import numpy as np\n",
    "from statsmodels.discrete.discrete_model import Logit\n",
    "import statsmodels.formula.api as smf\n",
    "\n",
    "warnings.filterwarnings(\"ignore\", category=FutureWarning)\n"
   ]
  },
  {
   "cell_type": "markdown",
   "id": "e06259cd-5d23-4779-bb59-769d91dac83e",
   "metadata": {
    "tags": []
   },
   "source": [
    "# Modulos"
   ]
  },
  {
   "cell_type": "code",
   "execution_count": 2,
   "id": "e7b700d1",
   "metadata": {},
   "outputs": [],
   "source": [
    "modulo_hogar = pd.read_stata(\"../input/enaho01-2020-100.dta\", convert_categoricals=False)\n",
    "columnas_interes = ['conglome','vivienda','hogar','ubigeo','p1121','p1142','p1143','p1144','codccpp']\n",
    "#columnas_interes = ['conglome','vivienda','hogar','ubigeo','p1121','p1123','p1124','p1125','p1126','p1127','p1142','p1143','p1144']\n",
    "modulo_hogar = modulo_hogar[columnas_interes]\n",
    "\n",
    "# Variables de interés: Parentesco Sexo y Edad\n",
    "modulo_miembros = pd.read_stata(\"../input/enaho01-2020-200.dta\", convert_categoricals=False)\n",
    "columnas_interes_miembros = ['conglome','vivienda','hogar','ubigeo','codperso',\"p203\",\"p207\",'p208a']\n",
    "modulo_miembros = modulo_miembros[columnas_interes_miembros]\n",
    "\n",
    "# Variables de interés\n",
    "modulo_educa = pd.read_stata(\"../input/enaho01a-2020-300.dta\", convert_categoricals=False)\n",
    "columnas_interes_educa = ['conglome','vivienda','hogar','codperso','ubigeo','dominio','estrato',\"p300a\",\"p301a\",\"p301b\",\"p301c\",\"p304a\",\"p304b\", \n",
    "    \"p307a1\",\"p307a2\",\"p307a3\",\"p307a4\",\"p307a4_5\",\"p307a4_6\",\"p307a4_7\",\"p307b1\",\"p307b2\",\"p307b3\",\"p307b4\",\"p307b4_5\",\"p307b4_6\",\"p307b4_7\",\n",
    "    \"p308a\",\"p308b\",\"p308c\",\"p308d\",\n",
    "    \"p314a\",\"p314b_1\",\"p314b_2\",\"p314b_3\",\"p314b_4\",\"p314b_5\",\"p314b_6\",\"p314b_7\",\"p314b1_1\",\"p314b1_2\",\"p314b1_8\",\"p314b1_9\",\"p314b1_6\",\"p314b1_7\",\"p314d\",   \n",
    "    \"p315a\",\"p315b\",\"p316_1\",\"p316_2\", \"p316_3\",\"p316_4\",\"p316_5\",\"p316_6\",\"p316_7\",\"p316_8\",\"p316_9\",\"p316_10\",\"p316_11\",\"p316_12\",\n",
    "    \"p316a1\",\"p316b\", \"p316c1\",\"p316c2\",\"p316c3\",\"p316c4\",\"p316c5\",\"p316c6\",\"p316c7\",\"p316c8\",\"p316c9\",\"p316c10\",\n",
    "     \"t313a\", \"factor07\"]\n",
    "modulo_educa = modulo_educa[columnas_interes_educa]\n",
    "\n",
    "sumaria = pd.read_stata(\"../input/sumaria-2020.dta\", convert_categoricals=False)\n",
    "columnas_interes_sumaria = ['conglome', 'vivienda', 'hogar','ubigeo','estrsocial','mieperho','totmieho']\n",
    "sumaria = sumaria[columnas_interes_sumaria]"
   ]
  },
  {
   "cell_type": "markdown",
   "id": "b0f9992e-02eb-4530-b2a4-ffe92becbb10",
   "metadata": {},
   "source": [
    "## Merge"
   ]
  },
  {
   "cell_type": "code",
   "execution_count": 3,
   "id": "d33b6f8f",
   "metadata": {},
   "outputs": [],
   "source": [
    "# Realizar el merge version final 2\n",
    "# Primero, unir modulo_hogar y modulo_miembros usando las columnas comunes\n",
    "merged_data1 = pd.merge(modulo_educa, modulo_miembros, on=['conglome', 'vivienda', 'hogar', 'ubigeo','codperso'], how='inner')\n",
    "\n",
    "# Luego, unir el resultado anterior con modulo_educa\n",
    "merged_data2 = pd.merge(sumaria, modulo_hogar, on=['conglome', 'vivienda', 'hogar', 'ubigeo'], how='inner')\n",
    "\n",
    "# Finalmente, unir el resultado anterior con sumaria\n",
    "merged_data = pd.merge(merged_data1, merged_data2, on=['conglome', 'vivienda', 'hogar', 'ubigeo'], how='left')"
   ]
  },
  {
   "cell_type": "code",
   "execution_count": 4,
   "id": "f77110ef",
   "metadata": {},
   "outputs": [
    {
     "name": "stdout",
     "output_type": "stream",
     "text": [
      "(115777, 85)\n"
     ]
    }
   ],
   "source": [
    "print(merged_data.shape)"
   ]
  },
  {
   "cell_type": "code",
   "execution_count": 5,
   "id": "5d5d65ef",
   "metadata": {},
   "outputs": [
    {
     "name": "stdout",
     "output_type": "stream",
     "text": [
      "Index(['conglome', 'vivienda', 'hogar', 'codperso', 'ubigeo', 'dominio',\n",
      "       'estrato', 'p300a', 'p301a', 'p301b', 'p301c', 'p304a', 'p304b',\n",
      "       'p307a1', 'p307a2', 'p307a3', 'p307a4', 'p307a4_5', 'p307a4_6',\n",
      "       'p307a4_7', 'p307b1', 'p307b2', 'p307b3', 'p307b4', 'p307b4_5',\n",
      "       'p307b4_6', 'p307b4_7', 'p308a', 'p308b', 'p308c', 'p308d', 'p314a',\n",
      "       'p314b_1', 'p314b_2', 'p314b_3', 'p314b_4', 'p314b_5', 'p314b_6',\n",
      "       'p314b_7', 'p314b1_1', 'p314b1_2', 'p314b1_8', 'p314b1_9', 'p314b1_6',\n",
      "       'p314b1_7', 'p314d', 'p315a', 'p315b', 'p316_1', 'p316_2', 'p316_3',\n",
      "       'p316_4', 'p316_5', 'p316_6', 'p316_7', 'p316_8', 'p316_9', 'p316_10',\n",
      "       'p316_11', 'p316_12', 'p316a1', 'p316b', 'p316c1', 'p316c2', 'p316c3',\n",
      "       'p316c4', 'p316c5', 'p316c6', 'p316c7', 'p316c8', 'p316c9', 'p316c10',\n",
      "       't313a', 'factor07', 'p203', 'p207', 'p208a', 'estrsocial', 'mieperho',\n",
      "       'totmieho', 'p1121', 'p1142', 'p1143', 'p1144', 'codccpp'],\n",
      "      dtype='object')\n"
     ]
    }
   ],
   "source": [
    "print(merged_data.columns)"
   ]
  },
  {
   "cell_type": "markdown",
   "id": "3f6f72ac-29c5-4dbc-b327-f196a8533f89",
   "metadata": {
    "tags": []
   },
   "source": [
    "# Variables - TRATAMIENTO"
   ]
  },
  {
   "cell_type": "markdown",
   "id": "bb143ee5-5baf-4e6d-ab83-5c4d595244b7",
   "metadata": {
    "tags": []
   },
   "source": [
    "### Departamento / Años de escolaridad"
   ]
  },
  {
   "cell_type": "code",
   "execution_count": 6,
   "id": "b2007026-2c85-4b5f-868c-e3f9c45cc456",
   "metadata": {},
   "outputs": [],
   "source": [
    "merged_data[\"DEPARTAMENTO\"] = merged_data[\"ubigeo\"].astype(str).str[:2]\n",
    "merged_data[\"DEPARTAMENTO\"] = pd.to_numeric(merged_data[\"DEPARTAMENTO\"], errors=\"coerce\")\n",
    "#dict_departamento = {\n",
    "#    1: \"Amazonas\", 2: \"Ancash\", 3: \"Apurímac\", 4: \"Arequipa\", 5: \"Ayacucho\", 6: \"Cajamarca\", 7: \"Callao\", 8: \"Cusco\",\n",
    "#    9: \"Huancavelica\", 10: \"Huánuco\", 11: \"Ica\", 12: \"Junín\", 13: \"La Libertad\", 14: \"Lambayeque\", 15: \"Lima\",\n",
    "#    16: \"Loreto\", 17: \"Madre de Dios\", 18: \"Moquegua\", 19: \"Pasco\", 20: \"Piura\", 21: \"Puno\", 22: \"San Martín\", \n",
    "#    23: \"Tacna\", 24: \"Tumbes\", 25: \"Ucayali\"\n",
    "#}"
   ]
  },
  {
   "cell_type": "code",
   "execution_count": 7,
   "id": "534db7fd-014e-4cac-a004-8e438e4b208e",
   "metadata": {},
   "outputs": [],
   "source": [
    "# Generate X5=p301b\n",
    "merged_data['X5'] = merged_data['p301b']\n",
    "\n",
    "# Replace X5=0 if p301a==1 or p301a==2\n",
    "merged_data.loc[(merged_data['p301a'] == 1) | (merged_data['p301a'] == 2), 'X5'] = 0\n",
    "\n",
    "# Recode X5 based on conditions\n",
    "merged_data.loc[merged_data['p301a'] == 3, 'X5'] = merged_data['X5'].map({1: 1, 2: 2, 3: 3, 4: 4})\n",
    "merged_data.loc[merged_data['p301a'] == 4, 'X5'] = merged_data['X5'].map({5: 5, 6: 6})\n",
    "merged_data.loc[merged_data['p301a'] == 5, 'X5'] = merged_data['X5'].map({1: 7, 2: 8, 3: 9, 4: 10})\n",
    "merged_data.loc[merged_data['p301a'] == 6, 'X5'] = merged_data['X5'].map({5: 11, 6: 12})\n",
    "merged_data.loc[merged_data['p301a'] == 7, 'X5'] = merged_data['X5'].map({1: 12, 2: 13, 3: 14, 4: 15})\n",
    "merged_data.loc[merged_data['p301a'] == 8, 'X5'] = merged_data['X5'].map({3: 14, 4: 15, 5: 16})\n",
    "merged_data.loc[merged_data['p301a'] == 9, 'X5'] = merged_data['X5'].map({1: 12, 2: 13, 3: 14, 4: 15, 5: 16, 6: 17})\n",
    "merged_data.loc[merged_data['p301a'] == 10, 'X5'] = merged_data['X5'].map({4: 15, 5: 16, 6: 17, 7: 18})\n",
    "\n",
    "# Save _p301c in a new column\n",
    "merged_data['_p301c'] = merged_data['p301c']\n",
    "\n",
    "# Recode _p301c (0=1)\n",
    "merged_data.loc[merged_data['_p301c'] == 0, '_p301c'] = 1\n",
    "\n",
    "# Replace X5 with _p301c under specified conditions\n",
    "merged_data.loc[(merged_data['p301b'] == 0) & (merged_data['p301a'] != 2), 'X5'] = merged_data['_p301c']"
   ]
  },
  {
   "cell_type": "markdown",
   "id": "63bda6e5-6155-4931-b85d-49fc1f854c7d",
   "metadata": {},
   "source": [
    "### Area / Idioma / Región"
   ]
  },
  {
   "cell_type": "code",
   "execution_count": 8,
   "id": "08ee393e",
   "metadata": {},
   "outputs": [],
   "source": [
    "# Recodificar la variable \"estrato\" para crear la variable \"area\"\n",
    "merged_data[\"AREA\"] = merged_data[\"estrato\"].apply(lambda x: 1 if 1 <= x <= 5 else 0) #{1: \"Urbano\", 0: \"Rural\"}\n",
    "\n",
    "# IDIOMA \n",
    "merged_data[\"Idioma\"] = merged_data[\"p300a\"].apply(lambda x: 1 if 4 == x  else 0)   # {1: \"Castellano\", 0: \"Otros\"}\n",
    "#1 Quechua 2 Aimara 3 Otra lengua nativa 4 Castellano 6 Portugués 7 Otra lengua extranjera \n",
    "# 8 No escucha/no habla9 Lengua de señas peruanas 10 Ashaninka 11 Awajun/Aguaruna 12 Shipibo-Konibo \n",
    "# 13 Shawi/Chayahuita 14 Matsigenka/Machiguenga 15 Achuar\n",
    "\n",
    "# Recodificar la variable \"dominio\" para crear la variable \"region\"\n",
    "#dict_region = { 1:\"Costa\", 2:\"Costa\", 3: \"Costa\", 4:\"Sierra\", 5:\"Sierra\", 6:\"Sierra\", 7:\"Selva\", 8: \"Lima Metropolitana\"}\n",
    "dict_region = { 1:1, 2:1, 3: 1, 4:2, 5:2, 6:2, 7:3, 8: 1}\n",
    "merged_data[\"Region\"] = merged_data[\"dominio\"].map(dict_region)"
   ]
  },
  {
   "cell_type": "code",
   "execution_count": 9,
   "id": "d975765c",
   "metadata": {},
   "outputs": [
    {
     "name": "stdout",
     "output_type": "stream",
     "text": [
      "Index(['conglome', 'vivienda', 'hogar', 'codperso', 'ubigeo', 'dominio',\n",
      "       'estrato', 'p300a', 'p301a', 'p301b', 'p301c', 'p304a', 'p304b',\n",
      "       'p307a1', 'p307a2', 'p307a3', 'p307a4', 'p307a4_5', 'p307a4_6',\n",
      "       'p307a4_7', 'p307b1', 'p307b2', 'p307b3', 'p307b4', 'p307b4_5',\n",
      "       'p307b4_6', 'p307b4_7', 'p308a', 'p308b', 'p308c', 'p308d', 'p314a',\n",
      "       'p314b_1', 'p314b_2', 'p314b_3', 'p314b_4', 'p314b_5', 'p314b_6',\n",
      "       'p314b_7', 'p314b1_1', 'p314b1_2', 'p314b1_8', 'p314b1_9', 'p314b1_6',\n",
      "       'p314b1_7', 'p314d', 'p315a', 'p315b', 'p316_1', 'p316_2', 'p316_3',\n",
      "       'p316_4', 'p316_5', 'p316_6', 'p316_7', 'p316_8', 'p316_9', 'p316_10',\n",
      "       'p316_11', 'p316_12', 'p316a1', 'p316b', 'p316c1', 'p316c2', 'p316c3',\n",
      "       'p316c4', 'p316c5', 'p316c6', 'p316c7', 'p316c8', 'p316c9', 'p316c10',\n",
      "       't313a', 'factor07', 'p203', 'p207', 'p208a', 'estrsocial', 'mieperho',\n",
      "       'totmieho', 'p1121', 'p1142', 'p1143', 'p1144', 'codccpp',\n",
      "       'DEPARTAMENTO', 'X5', '_p301c', 'AREA', 'Idioma', 'Region'],\n",
      "      dtype='object')\n"
     ]
    }
   ],
   "source": [
    "print(merged_data.columns)"
   ]
  },
  {
   "cell_type": "markdown",
   "id": "52581bb3-b8dd-4d60-9fe4-c0da3aeb73ab",
   "metadata": {},
   "source": [
    "## Renombrar variables"
   ]
  },
  {
   "cell_type": "code",
   "execution_count": 10,
   "id": "7ffb76b5",
   "metadata": {},
   "outputs": [],
   "source": [
    "# Rename columns\n",
    "new_column_names = {'p308a': 'Nivel_educativo', 'p308d': 'Centro_estudios','p207': 'Sexo', 'p208a':\"Edad\",'p1121':'Electricidad',\n",
    "                    'p1143':'conexion_cable_hog', \"p1144\":\"i_conexion_hog\", \"p1142\":\"cel_hog\",\"p203\":\"parentesco\",\"X5\":\"años_escolaridad\",\n",
    "#\"p307a1\":\"clases_tv\",\"p307a2\":\"clases_radio\", \"p307a3\":\"clases_plataforma_virtual\",\n",
    "#\"p307a4\":\"clases_otro\",\n",
    "#\"p307a4_5\":\"clases_wsp\",\"p307a4_6\":\"clases_correo\",\"p307a4_7\":\"clases_llamadas\",\n",
    "\"p307a1\":\"cl_medio_tv\",\"p307a2\":\"cl_medio_radio\", \"p307a3\":\"cl_medio_plataforma_virtual\",   \n",
    "\"p307a4\":\"cl_medio_otro\",\n",
    "\"p307a4_5\":\"cl_medio_wsp\",\"p307a4_6\":\"cl_medio_correo\",\"p307a4_7\":\"cl_medio_llamadas\",\n",
    "                    \n",
    "#medios_clase\n",
    "#\"p307b1\":\"clases_interaccion_profesor\",\"p307b2\":\"clases_videos\",\"p307b3\":\"clases_documentos\", \"p307b4\":\"clases_otros\",\n",
    "#\"p307b4_5\":\"clases_msm_audio\", \"p307b4_6\": \"clases_msm_texto\", \"p307b4_7\":\"clases_sin_acompañamiento\",\n",
    "\"p307b1\":\"cl_desarrollo_interaccion\", \"p307b2\":\"cl_desarrollo_videos\",\"p307b3\":\"cl_desarrollo_documentos\", \"p307b4\":\"cl_desarrollo_otros\",\n",
    "\"p307b4_5\":\"cl_desarrollo_msm_audio\", \"p307b4_6\": \"cl_desarrollo_msm_texto\", \"p307b4_7\":\"cl_desarrollo_sin_acompañamiento\",\n",
    "#desarollo_clases\n",
    "                    \n",
    "'p314a': 'i_uso','p314b_1':'i_uso_hog', 'p314b_2':'i_uso_trab', 'p314b_3':'i_uso_cedu','p314b_4':'i_uso_cab','p314b_5':'i_uso_casotr',\n",
    "'p314b_6':'i_uso_otro','p314b_7':'i_uso_movil','p314b1_1':'i_computadora','p314b1_2':'i_laptop','p314b1_5':'i_cel_trab','p314b1_6':'i_tablet',\n",
    "'p314b1_7':'i_otro','p314b1_8': 'i_cel_sdatos', 'p314b1_9': 'i_cel_cdatos',   \n",
    "                    'p316b':'uso_cp_lp',\n",
    "'p316a1':'cel_uso', 'p316_1':'i_obtener_info', 'p316_2':'i_comunicarse', 'p316_3':'i_comprar_pdts_ss', 'p316_4':'i_operaciones_bancarias', \n",
    "'p316_5':'i_edu_formal','p316_6':'i_transacciones','p316_7':'i_act_entretenimiento','p316_8':'i_vender_pdts','p316_12':'i_descarga_antivirus',\n",
    "                   \"p316c1\":\"ai_mover_archivo\",\"p316c2\":\"ai_copiar_pegar\",\"p316c3\":\"ai_enviar_correos\",\n",
    "                    \"p316c4\":\"ai_form_excel\",\"p316c5\":\"ai_conec_dispositivos\",\"p316c6\":\"ai_software\",\n",
    "                    \"p316c7\":\"ai_presentaciones_electronicas\",\"p316c8\":\"ai_tranfer_archivos\",\"p316c9\":\"ai_leng_programacion\",\n",
    "                    \"p316c10\":\"ai_otros\"}\n",
    "\n",
    "merged_data.rename(columns=new_column_names, inplace=True)"
   ]
  },
  {
   "cell_type": "code",
   "execution_count": 11,
   "id": "d5901f33",
   "metadata": {},
   "outputs": [],
   "source": [
    "# Uso de Internet en el hogar\n",
    "merged_data[\"i_uso_hog\"] = pd.to_numeric(merged_data[\"i_uso_hog\"], errors=\"coerce\")\n",
    "# Uso de Internet \n",
    "merged_data[\"i_uso\"] = pd.to_numeric(merged_data[\"i_uso\"], errors=\"coerce\")"
   ]
  },
  {
   "cell_type": "markdown",
   "id": "91a3b1e6-989f-4e5c-af7c-394f08b30f2b",
   "metadata": {},
   "source": [
    "## Filtrar variables"
   ]
  },
  {
   "cell_type": "code",
   "execution_count": 12,
   "id": "94c03c14",
   "metadata": {},
   "outputs": [
    {
     "name": "stderr",
     "output_type": "stream",
     "text": [
      "C:\\Users\\SINERGY TECH\\AppData\\Local\\Temp\\ipykernel_3276\\910616542.py:4: SettingWithCopyWarning: \n",
      "A value is trying to be set on a copy of a slice from a DataFrame.\n",
      "Try using .loc[row_indexer,col_indexer] = value instead\n",
      "\n",
      "See the caveats in the documentation: https://pandas.pydata.org/pandas-docs/stable/user_guide/indexing.html#returning-a-view-versus-a-copy\n",
      "  base_filtrada[\"Edad\"] = pd.to_numeric(base_filtrada[\"Edad\"], errors=\"coerce\")\n"
     ]
    }
   ],
   "source": [
    "# Filtrar el DataFrame para incluir solo las filas con valores 1, 2 o 3 en la columna \"P308A\"\n",
    "#base_filtrada = merged_data[merged_data[\"Nivel_educativo\"].isin([1, 2, 3])] # 09.10.2023\n",
    "base_filtrada = merged_data[merged_data[\"Nivel_educativo\"].isin([2, 3])]\n",
    "base_filtrada[\"Edad\"] = pd.to_numeric(base_filtrada[\"Edad\"], errors=\"coerce\")\n",
    "\n",
    "# Filtrar las filas donde \"P208A\" es menor que 18\n",
    "#base_filtrada = base_filtrada[base_filtrada[\"Edad\"] <= 18] # 09.10.2023\n",
    "base_filtrada = base_filtrada[(base_filtrada[\"Edad\"] <= 18) & (base_filtrada[\"Edad\"] >= 6)]\n"
   ]
  },
  {
   "cell_type": "code",
   "execution_count": 13,
   "id": "b8f6813a-97a1-4882-a48c-92d6f30591a5",
   "metadata": {},
   "outputs": [
    {
     "data": {
      "text/plain": [
       "Index(['conglome', 'vivienda', 'hogar', 'codperso', 'ubigeo', 'dominio',\n",
       "       'estrato', 'p300a', 'p301a', 'p301b', 'p301c', 'p304a', 'p304b',\n",
       "       'cl_medio_tv', 'cl_medio_radio', 'cl_medio_plataforma_virtual',\n",
       "       'cl_medio_otro', 'cl_medio_wsp', 'cl_medio_correo', 'cl_medio_llamadas',\n",
       "       'cl_desarrollo_interaccion', 'cl_desarrollo_videos',\n",
       "       'cl_desarrollo_documentos', 'cl_desarrollo_otros',\n",
       "       'cl_desarrollo_msm_audio', 'cl_desarrollo_msm_texto',\n",
       "       'cl_desarrollo_sin_acompañamiento', 'Nivel_educativo', 'p308b', 'p308c',\n",
       "       'Centro_estudios', 'i_uso', 'i_uso_hog', 'i_uso_trab', 'i_uso_cedu',\n",
       "       'i_uso_cab', 'i_uso_casotr', 'i_uso_otro', 'i_uso_movil',\n",
       "       'i_computadora', 'i_laptop', 'i_cel_sdatos', 'i_cel_cdatos', 'i_tablet',\n",
       "       'i_otro', 'p314d', 'p315a', 'p315b', 'i_obtener_info', 'i_comunicarse',\n",
       "       'i_comprar_pdts_ss', 'i_operaciones_bancarias', 'i_edu_formal',\n",
       "       'i_transacciones', 'i_act_entretenimiento', 'i_vender_pdts', 'p316_9',\n",
       "       'p316_10', 'p316_11', 'i_descarga_antivirus', 'cel_uso', 'uso_cp_lp',\n",
       "       'ai_mover_archivo', 'ai_copiar_pegar', 'ai_enviar_correos',\n",
       "       'ai_form_excel', 'ai_conec_dispositivos', 'ai_software',\n",
       "       'ai_presentaciones_electronicas', 'ai_tranfer_archivos',\n",
       "       'ai_leng_programacion', 'ai_otros', 't313a', 'factor07', 'parentesco',\n",
       "       'Sexo', 'Edad', 'estrsocial', 'mieperho', 'totmieho', 'Electricidad',\n",
       "       'cel_hog', 'conexion_cable_hog', 'i_conexion_hog', 'codccpp',\n",
       "       'DEPARTAMENTO', 'años_escolaridad', '_p301c', 'AREA', 'Idioma',\n",
       "       'Region'],\n",
       "      dtype='object')"
      ]
     },
     "execution_count": 13,
     "metadata": {},
     "output_type": "execute_result"
    }
   ],
   "source": [
    "base_filtrada.columns"
   ]
  },
  {
   "cell_type": "code",
   "execution_count": 14,
   "id": "5056f5c5-6b5a-4ebc-a0aa-aea7582152e2",
   "metadata": {},
   "outputs": [],
   "source": [
    "base_filtrada['uso_cp_lp']        = base_filtrada['uso_cp_lp'].map({2: 0, 1: 1})"
   ]
  },
  {
   "cell_type": "code",
   "execution_count": 15,
   "id": "92209712-8a65-4031-9d9b-b4225ba739e7",
   "metadata": {},
   "outputs": [],
   "source": [
    "base_filtrada['i_uso']        = base_filtrada['i_uso'].map({2: 0, 1: 1})\n",
    "base_filtrada['i_uso_cedu']   = base_filtrada['i_uso_cedu'].map({0: 0, 3: 1})\n",
    "base_filtrada['i_uso_trab']   = base_filtrada['i_uso_trab'].map({0: 0, 2: 1})\n",
    "base_filtrada['i_uso_hog']    = base_filtrada['i_uso_hog'].map({0: 0, 1: 1})\n",
    "base_filtrada['i_uso_cab']    = base_filtrada['i_uso_cab'].map({0: 0, 4: 1})\n",
    "base_filtrada['i_uso_casotr'] = base_filtrada['i_uso_casotr'].map({0: 0, 5: 1})\n",
    "base_filtrada['i_uso_otro']   = base_filtrada['i_uso_otro'].map({0: 0, 6: 1})\n",
    "base_filtrada['i_uso_movil']  = base_filtrada['i_uso_movil'].map({0: 0, 7: 1})"
   ]
  },
  {
   "cell_type": "code",
   "execution_count": 16,
   "id": "983da2a0-9090-42e0-a1b0-9d3adf44ff39",
   "metadata": {},
   "outputs": [],
   "source": [
    "base_filtrada['i_computadora'] = base_filtrada['i_computadora'].map({0: 0, 1: 1})\n",
    "base_filtrada['i_tablet']      = base_filtrada['i_tablet'].map({0: 0, 6: 1})\n",
    "base_filtrada['i_laptop']      = base_filtrada['i_laptop'].map({0: 0, 2: 1})\n",
    "base_filtrada['i_otro']        = base_filtrada['i_otro'].map({0: 0, 7: 1})\n",
    "base_filtrada['i_cel_sdatos']  = base_filtrada['i_cel_sdatos'].map({0: 0, 8: 1})\n",
    "base_filtrada['i_cel_cdatos']  = base_filtrada['i_cel_cdatos'].map({0: 0, 9: 1})"
   ]
  },
  {
   "cell_type": "code",
   "execution_count": 17,
   "id": "9959c225-fa3d-4c25-9e54-1025acaca29a",
   "metadata": {},
   "outputs": [],
   "source": [
    "base_filtrada['ai_mover_archivo']   = base_filtrada['ai_mover_archivo'].map({2: 0, 1: 1})\n",
    "base_filtrada['ai_copiar_pegar']    = base_filtrada['ai_copiar_pegar'].map({2: 0, 1: 1})\n",
    "base_filtrada['ai_enviar_correos']  = base_filtrada['ai_enviar_correos'].map({2: 0, 1: 1})\n",
    "base_filtrada['ai_form_excel']      = base_filtrada['ai_form_excel'].map({2: 0, 1: 1})\n",
    "base_filtrada['ai_conec_dispositivos']   = base_filtrada['ai_conec_dispositivos'].map({2: 0, 1: 1})\n",
    "base_filtrada['ai_software']        = base_filtrada['ai_software'].map({2: 0, 1: 1})\n",
    "base_filtrada['ai_presentaciones_electronicas']  = base_filtrada['ai_presentaciones_electronicas'].map({2: 0, 1: 1})\n",
    "base_filtrada['ai_tranfer_archivos'] = base_filtrada['ai_mover_archivo'].map({2: 0, 1: 1})\n",
    "base_filtrada['ai_leng_programacion'] = base_filtrada['ai_leng_programacion'].map({2: 0, 1: 1})\n",
    "base_filtrada['ai_otros']        = base_filtrada['ai_otros'].map({2: 0, 1: 1})"
   ]
  },
  {
   "cell_type": "code",
   "execution_count": 18,
   "id": "85aef238-dce6-4178-8700-4116d1ce4288",
   "metadata": {},
   "outputs": [],
   "source": [
    "base_filtrada['cl_medio_tv']       = base_filtrada['cl_medio_tv'].map({0: 0, 1: 1})\n",
    "base_filtrada['cl_medio_radio']    = base_filtrada['cl_medio_radio'].map({0: 0, 2: 1})\n",
    "base_filtrada['cl_medio_plataforma_virtual'] = base_filtrada['cl_medio_plataforma_virtual'].map({0: 0, 3: 1})\n",
    "base_filtrada['cl_medio_otro']     = base_filtrada['cl_medio_otro'].map({0: 0, 4: 1})\n",
    "base_filtrada['cl_medio_wsp']      = base_filtrada['cl_medio_wsp'].map({0: 0, 5: 1})\n",
    "base_filtrada['cl_medio_correo']   = base_filtrada['cl_medio_correo'].map({0: 0, 6: 1})\n",
    "base_filtrada['cl_medio_llamadas'] = base_filtrada['cl_medio_llamadas'].map({0: 0, 7: 1})"
   ]
  },
  {
   "cell_type": "code",
   "execution_count": 19,
   "id": "ee9c887c-552d-4f8d-a644-0e9f24a5bd89",
   "metadata": {},
   "outputs": [],
   "source": [
    "base_filtrada['cl_desarrollo_interaccion'] = base_filtrada['cl_desarrollo_interaccion'].map({0: 0, 1: 1})\n",
    "base_filtrada['cl_desarrollo_videos']             = base_filtrada['cl_desarrollo_videos'].map({0: 0, 2: 1})\n",
    "base_filtrada['cl_desarrollo_documentos']         = base_filtrada['cl_desarrollo_documentos'].map({0: 0, 3: 1})\n",
    "base_filtrada['cl_desarrollo_otros']              = base_filtrada['cl_desarrollo_otros'].map({0: 0, 4: 1})\n",
    "base_filtrada['cl_desarrollo_msm_audio']          = base_filtrada['cl_desarrollo_msm_audio'].map({0: 0, 5: 1})\n",
    "base_filtrada['cl_desarrollo_msm_texto']          = base_filtrada['cl_desarrollo_msm_texto'].map({0: 0, 6: 1})\n",
    "base_filtrada['cl_desarrollo_sin_acompañamiento'] = base_filtrada['cl_desarrollo_sin_acompañamiento'].map({0: 0, 7: 1})"
   ]
  },
  {
   "cell_type": "code",
   "execution_count": 20,
   "id": "5f3aef2b-0995-4cbe-a522-8c80c595a1c5",
   "metadata": {},
   "outputs": [
    {
     "data": {
      "text/plain": [
       "Index(['conglome', 'vivienda', 'hogar', 'codperso', 'ubigeo', 'dominio',\n",
       "       'estrato', 'p300a', 'p301a', 'p301b', 'p301c', 'p304a', 'p304b',\n",
       "       'cl_medio_tv', 'cl_medio_radio', 'cl_medio_plataforma_virtual',\n",
       "       'cl_medio_otro', 'cl_medio_wsp', 'cl_medio_correo', 'cl_medio_llamadas',\n",
       "       'cl_desarrollo_interaccion', 'cl_desarrollo_videos',\n",
       "       'cl_desarrollo_documentos', 'cl_desarrollo_otros',\n",
       "       'cl_desarrollo_msm_audio', 'cl_desarrollo_msm_texto',\n",
       "       'cl_desarrollo_sin_acompañamiento', 'Nivel_educativo', 'p308b', 'p308c',\n",
       "       'Centro_estudios', 'i_uso', 'i_uso_hog', 'i_uso_trab', 'i_uso_cedu',\n",
       "       'i_uso_cab', 'i_uso_casotr', 'i_uso_otro', 'i_uso_movil',\n",
       "       'i_computadora', 'i_laptop', 'i_cel_sdatos', 'i_cel_cdatos', 'i_tablet',\n",
       "       'i_otro', 'p314d', 'p315a', 'p315b', 'i_obtener_info', 'i_comunicarse',\n",
       "       'i_comprar_pdts_ss', 'i_operaciones_bancarias', 'i_edu_formal',\n",
       "       'i_transacciones', 'i_act_entretenimiento', 'i_vender_pdts', 'p316_9',\n",
       "       'p316_10', 'p316_11', 'i_descarga_antivirus', 'cel_uso', 'uso_cp_lp',\n",
       "       'ai_mover_archivo', 'ai_copiar_pegar', 'ai_enviar_correos',\n",
       "       'ai_form_excel', 'ai_conec_dispositivos', 'ai_software',\n",
       "       'ai_presentaciones_electronicas', 'ai_tranfer_archivos',\n",
       "       'ai_leng_programacion', 'ai_otros', 't313a', 'factor07', 'parentesco',\n",
       "       'Sexo', 'Edad', 'estrsocial', 'mieperho', 'totmieho', 'Electricidad',\n",
       "       'cel_hog', 'conexion_cable_hog', 'i_conexion_hog', 'codccpp',\n",
       "       'DEPARTAMENTO', 'años_escolaridad', '_p301c', 'AREA', 'Idioma',\n",
       "       'Region'],\n",
       "      dtype='object')"
      ]
     },
     "execution_count": 20,
     "metadata": {},
     "output_type": "execute_result"
    }
   ],
   "source": [
    "base_filtrada.columns"
   ]
  },
  {
   "cell_type": "code",
   "execution_count": 21,
   "id": "5497bc5c-f05f-4a5e-81c0-53d48ac55a25",
   "metadata": {},
   "outputs": [],
   "source": [
    "base_filtrada['i_obtener_info']    = base_filtrada['i_obtener_info'].map({2: 0, 1: 1})\n",
    "base_filtrada['i_comunicarse']     = base_filtrada['i_comunicarse'].map({2: 0, 1: 1})\n",
    "base_filtrada['i_comprar_pdts_ss'] = base_filtrada['i_comprar_pdts_ss'].map({2: 0, 1: 1})\n",
    "base_filtrada['i_operaciones_bancarias'] = base_filtrada['i_operaciones_bancarias'].map({2: 0, 1: 1})\n",
    "base_filtrada['i_edu_formal']      = base_filtrada['i_edu_formal'].map({2: 0, 1: 1})\n",
    "base_filtrada['i_transacciones']   = base_filtrada['i_transacciones'].map({2: 0, 1: 1})\n",
    "base_filtrada['i_act_entretenimiento'] = base_filtrada['i_act_entretenimiento'].map({2: 0, 1: 1})\n",
    "base_filtrada['i_vender_pdts']         = base_filtrada['i_vender_pdts'].map({2: 0, 1: 1})  #8\n",
    "base_filtrada['p316_9']         = base_filtrada['p316_9'].map({2: 0, 1: 1})  #9\n",
    "base_filtrada['p316_10']         = base_filtrada['p316_10'].map({2: 0, 1: 1})  #10\n",
    "base_filtrada['p316_11']         = base_filtrada['p316_11'].map({2: 0, 1: 1}) #11\n",
    "base_filtrada['i_descarga_antivirus']  = base_filtrada['i_descarga_antivirus'].map({2: 0, 1: 1})   #12"
   ]
  },
  {
   "cell_type": "markdown",
   "id": "d86cf0ec-5ab6-4c9e-b1bc-b1bb49d48d49",
   "metadata": {},
   "source": [
    "## Valores Nulos"
   ]
  },
  {
   "cell_type": "code",
   "execution_count": 22,
   "id": "8fc3ecbc-d4a3-4e5f-b74f-fbce63c23529",
   "metadata": {},
   "outputs": [
    {
     "data": {
      "text/plain": [
       "0.0    4674\n",
       "1.0    1409\n",
       "Name: i_uso_hog, dtype: int64"
      ]
     },
     "execution_count": 22,
     "metadata": {},
     "output_type": "execute_result"
    }
   ],
   "source": [
    "base_filtrada.i_uso_hog.value_counts()"
   ]
  },
  {
   "cell_type": "code",
   "execution_count": 23,
   "id": "b82fd4ac-be1f-4a9b-8579-d41092dfcbd1",
   "metadata": {},
   "outputs": [
    {
     "name": "stdout",
     "output_type": "stream",
     "text": [
      "<class 'pandas.core.frame.DataFrame'>\n",
      "Int64Index: 22401 entries, 8 to 115775\n",
      "Data columns (total 91 columns):\n",
      " #   Column                            Non-Null Count  Dtype  \n",
      "---  ------                            --------------  -----  \n",
      " 0   conglome                          22401 non-null  object \n",
      " 1   vivienda                          22401 non-null  object \n",
      " 2   hogar                             22401 non-null  object \n",
      " 3   codperso                          22401 non-null  object \n",
      " 4   ubigeo                            22401 non-null  object \n",
      " 5   dominio                           22401 non-null  int8   \n",
      " 6   estrato                           22401 non-null  int8   \n",
      " 7   p300a                             22401 non-null  float64\n",
      " 8   p301a                             22401 non-null  float64\n",
      " 9   p301b                             22389 non-null  float64\n",
      " 10  p301c                             12663 non-null  float64\n",
      " 11  p304a                             8956 non-null   float64\n",
      " 12  p304b                             8956 non-null   float64\n",
      " 13  cl_medio_tv                       19509 non-null  float64\n",
      " 14  cl_medio_radio                    19509 non-null  float64\n",
      " 15  cl_medio_plataforma_virtual       19509 non-null  float64\n",
      " 16  cl_medio_otro                     19509 non-null  float64\n",
      " 17  cl_medio_wsp                      19509 non-null  float64\n",
      " 18  cl_medio_correo                   19509 non-null  float64\n",
      " 19  cl_medio_llamadas                 19509 non-null  float64\n",
      " 20  cl_desarrollo_interaccion         19509 non-null  float64\n",
      " 21  cl_desarrollo_videos              19509 non-null  float64\n",
      " 22  cl_desarrollo_documentos          19509 non-null  float64\n",
      " 23  cl_desarrollo_otros               19509 non-null  float64\n",
      " 24  cl_desarrollo_msm_audio           19509 non-null  float64\n",
      " 25  cl_desarrollo_msm_texto           19509 non-null  float64\n",
      " 26  cl_desarrollo_sin_acompañamiento  19509 non-null  float64\n",
      " 27  Nivel_educativo                   22401 non-null  float64\n",
      " 28  p308b                             22401 non-null  float64\n",
      " 29  p308c                             12340 non-null  float64\n",
      " 30  Centro_estudios                   22401 non-null  float64\n",
      " 31  i_uso                             22401 non-null  int64  \n",
      " 32  i_uso_hog                         6083 non-null   float64\n",
      " 33  i_uso_trab                        6083 non-null   float64\n",
      " 34  i_uso_cedu                        6083 non-null   float64\n",
      " 35  i_uso_cab                         6083 non-null   float64\n",
      " 36  i_uso_casotr                      6083 non-null   float64\n",
      " 37  i_uso_otro                        6083 non-null   float64\n",
      " 38  i_uso_movil                       6083 non-null   float64\n",
      " 39  i_computadora                     14882 non-null  float64\n",
      " 40  i_laptop                          14882 non-null  float64\n",
      " 41  i_cel_sdatos                      14882 non-null  float64\n",
      " 42  i_cel_cdatos                      14882 non-null  float64\n",
      " 43  i_tablet                          14882 non-null  float64\n",
      " 44  i_otro                            14882 non-null  float64\n",
      " 45  p314d                             6083 non-null   float64\n",
      " 46  p315a                             160 non-null    float64\n",
      " 47  p315b                             7 non-null      float64\n",
      " 48  i_obtener_info                    6083 non-null   float64\n",
      " 49  i_comunicarse                     6083 non-null   float64\n",
      " 50  i_comprar_pdts_ss                 6083 non-null   float64\n",
      " 51  i_operaciones_bancarias           6083 non-null   float64\n",
      " 52  i_edu_formal                      6083 non-null   float64\n",
      " 53  i_transacciones                   6083 non-null   float64\n",
      " 54  i_act_entretenimiento             6083 non-null   float64\n",
      " 55  i_vender_pdts                     6083 non-null   float64\n",
      " 56  p316_9                            6083 non-null   float64\n",
      " 57  p316_10                           6083 non-null   float64\n",
      " 58  p316_11                           6083 non-null   float64\n",
      " 59  i_descarga_antivirus              6083 non-null   float64\n",
      " 60  cel_uso                           22401 non-null  float64\n",
      " 61  uso_cp_lp                         2822 non-null   float64\n",
      " 62  ai_mover_archivo                  1001 non-null   float64\n",
      " 63  ai_copiar_pegar                   1001 non-null   float64\n",
      " 64  ai_enviar_correos                 1001 non-null   float64\n",
      " 65  ai_form_excel                     1001 non-null   float64\n",
      " 66  ai_conec_dispositivos             1001 non-null   float64\n",
      " 67  ai_software                       1001 non-null   float64\n",
      " 68  ai_presentaciones_electronicas    1001 non-null   float64\n",
      " 69  ai_tranfer_archivos               915 non-null    float64\n",
      " 70  ai_leng_programacion              1001 non-null   float64\n",
      " 71  ai_otros                          1001 non-null   float64\n",
      " 72  t313a                             2805 non-null   float64\n",
      " 73  factor07                          22401 non-null  float32\n",
      " 74  parentesco                        22401 non-null  int8   \n",
      " 75  Sexo                              22401 non-null  float64\n",
      " 76  Edad                              22401 non-null  float64\n",
      " 77  estrsocial                        22401 non-null  int8   \n",
      " 78  mieperho                          22401 non-null  int8   \n",
      " 79  totmieho                          22401 non-null  int8   \n",
      " 80  Electricidad                      22401 non-null  float64\n",
      " 81  cel_hog                           22401 non-null  float64\n",
      " 82  conexion_cable_hog                22401 non-null  float64\n",
      " 83  i_conexion_hog                    22401 non-null  float64\n",
      " 84  codccpp                           22401 non-null  object \n",
      " 85  DEPARTAMENTO                      22401 non-null  int64  \n",
      " 86  años_escolaridad                  22401 non-null  float64\n",
      " 87  _p301c                            12663 non-null  float64\n",
      " 88  AREA                              22401 non-null  int64  \n",
      " 89  Idioma                            22401 non-null  int64  \n",
      " 90  Region                            22401 non-null  int64  \n",
      "dtypes: float32(1), float64(73), int64(5), int8(6), object(6)\n",
      "memory usage: 14.7+ MB\n"
     ]
    }
   ],
   "source": [
    "base_filtrada.info()"
   ]
  },
  {
   "cell_type": "code",
   "execution_count": 24,
   "id": "4ec69bb1-27b9-4e27-9681-66fe8b3e4ba5",
   "metadata": {},
   "outputs": [
    {
     "name": "stdout",
     "output_type": "stream",
     "text": [
      "Porcentaje de valores nulos en 'p301b': 0.05%\n",
      "Porcentaje de valores nulos en 'p301c': 43.47%\n",
      "Porcentaje de valores nulos en 'p304a': 60.02%\n",
      "Porcentaje de valores nulos en 'p304b': 60.02%\n",
      "Porcentaje de valores nulos en 'cl_medio_tv': 12.91%\n",
      "Porcentaje de valores nulos en 'cl_medio_radio': 12.91%\n",
      "Porcentaje de valores nulos en 'cl_medio_plataforma_virtual': 12.91%\n",
      "Porcentaje de valores nulos en 'cl_medio_otro': 12.91%\n",
      "Porcentaje de valores nulos en 'cl_medio_wsp': 12.91%\n",
      "Porcentaje de valores nulos en 'cl_medio_correo': 12.91%\n",
      "Porcentaje de valores nulos en 'cl_medio_llamadas': 12.91%\n",
      "Porcentaje de valores nulos en 'cl_desarrollo_interaccion': 12.91%\n",
      "Porcentaje de valores nulos en 'cl_desarrollo_videos': 12.91%\n",
      "Porcentaje de valores nulos en 'cl_desarrollo_documentos': 12.91%\n",
      "Porcentaje de valores nulos en 'cl_desarrollo_otros': 12.91%\n",
      "Porcentaje de valores nulos en 'cl_desarrollo_msm_audio': 12.91%\n",
      "Porcentaje de valores nulos en 'cl_desarrollo_msm_texto': 12.91%\n",
      "Porcentaje de valores nulos en 'cl_desarrollo_sin_acompañamiento': 12.91%\n",
      "Porcentaje de valores nulos en 'p308c': 44.91%\n",
      "Porcentaje de valores nulos en 'i_uso_hog': 72.84%\n",
      "Porcentaje de valores nulos en 'i_uso_trab': 72.84%\n",
      "Porcentaje de valores nulos en 'i_uso_cedu': 72.84%\n",
      "Porcentaje de valores nulos en 'i_uso_cab': 72.84%\n",
      "Porcentaje de valores nulos en 'i_uso_casotr': 72.84%\n",
      "Porcentaje de valores nulos en 'i_uso_otro': 72.84%\n",
      "Porcentaje de valores nulos en 'i_uso_movil': 72.84%\n",
      "Porcentaje de valores nulos en 'i_computadora': 33.57%\n",
      "Porcentaje de valores nulos en 'i_laptop': 33.57%\n",
      "Porcentaje de valores nulos en 'i_cel_sdatos': 33.57%\n",
      "Porcentaje de valores nulos en 'i_cel_cdatos': 33.57%\n",
      "Porcentaje de valores nulos en 'i_tablet': 33.57%\n",
      "Porcentaje de valores nulos en 'i_otro': 33.57%\n",
      "Porcentaje de valores nulos en 'p314d': 72.84%\n",
      "Porcentaje de valores nulos en 'p315a': 99.29%\n",
      "Porcentaje de valores nulos en 'p315b': 99.97%\n",
      "Porcentaje de valores nulos en 'i_obtener_info': 72.84%\n",
      "Porcentaje de valores nulos en 'i_comunicarse': 72.84%\n",
      "Porcentaje de valores nulos en 'i_comprar_pdts_ss': 72.84%\n",
      "Porcentaje de valores nulos en 'i_operaciones_bancarias': 72.84%\n",
      "Porcentaje de valores nulos en 'i_edu_formal': 72.84%\n",
      "Porcentaje de valores nulos en 'i_transacciones': 72.84%\n",
      "Porcentaje de valores nulos en 'i_act_entretenimiento': 72.84%\n",
      "Porcentaje de valores nulos en 'i_vender_pdts': 72.84%\n",
      "Porcentaje de valores nulos en 'p316_9': 72.84%\n",
      "Porcentaje de valores nulos en 'p316_10': 72.84%\n",
      "Porcentaje de valores nulos en 'p316_11': 72.84%\n",
      "Porcentaje de valores nulos en 'i_descarga_antivirus': 72.84%\n",
      "Porcentaje de valores nulos en 'uso_cp_lp': 87.40%\n",
      "Porcentaje de valores nulos en 'ai_mover_archivo': 95.53%\n",
      "Porcentaje de valores nulos en 'ai_copiar_pegar': 95.53%\n",
      "Porcentaje de valores nulos en 'ai_enviar_correos': 95.53%\n",
      "Porcentaje de valores nulos en 'ai_form_excel': 95.53%\n",
      "Porcentaje de valores nulos en 'ai_conec_dispositivos': 95.53%\n",
      "Porcentaje de valores nulos en 'ai_software': 95.53%\n",
      "Porcentaje de valores nulos en 'ai_presentaciones_electronicas': 95.53%\n",
      "Porcentaje de valores nulos en 'ai_tranfer_archivos': 95.92%\n",
      "Porcentaje de valores nulos en 'ai_leng_programacion': 95.53%\n",
      "Porcentaje de valores nulos en 'ai_otros': 95.53%\n",
      "Porcentaje de valores nulos en 't313a': 87.48%\n",
      "Porcentaje de valores nulos en '_p301c': 43.47%\n"
     ]
    }
   ],
   "source": [
    "# Itera sobre todas las columnas y calcula el porcentaje de valores nulos en cada una\n",
    "for columna in base_filtrada.columns:\n",
    "    nulos_en_columna = base_filtrada[columna].isnull().sum()\n",
    "    total_de_registros = len(base_filtrada)\n",
    "    porcentaje_nulos = (nulos_en_columna / total_de_registros) * 100\n",
    "    if porcentaje_nulos > 0:\n",
    "        print(f\"Porcentaje de valores nulos en '{columna}': {porcentaje_nulos:.2f}%\")"
   ]
  },
  {
   "cell_type": "code",
   "execution_count": 25,
   "id": "1a364b80-f493-4d1d-be11-b758353cf5fb",
   "metadata": {},
   "outputs": [
    {
     "name": "stdout",
     "output_type": "stream",
     "text": [
      "Cantidad de valores nulos en 'p301b': 12\n",
      "Cantidad de valores nulos en 'p301c': 9738\n",
      "Cantidad de valores nulos en 'p304a': 13445\n",
      "Cantidad de valores nulos en 'p304b': 13445\n",
      "Cantidad de valores nulos en 'cl_medio_tv': 2892\n",
      "Cantidad de valores nulos en 'cl_medio_radio': 2892\n",
      "Cantidad de valores nulos en 'cl_medio_plataforma_virtual': 2892\n",
      "Cantidad de valores nulos en 'cl_medio_otro': 2892\n",
      "Cantidad de valores nulos en 'cl_medio_wsp': 2892\n",
      "Cantidad de valores nulos en 'cl_medio_correo': 2892\n",
      "Cantidad de valores nulos en 'cl_medio_llamadas': 2892\n",
      "Cantidad de valores nulos en 'cl_desarrollo_interaccion': 2892\n",
      "Cantidad de valores nulos en 'cl_desarrollo_videos': 2892\n",
      "Cantidad de valores nulos en 'cl_desarrollo_documentos': 2892\n",
      "Cantidad de valores nulos en 'cl_desarrollo_otros': 2892\n",
      "Cantidad de valores nulos en 'cl_desarrollo_msm_audio': 2892\n",
      "Cantidad de valores nulos en 'cl_desarrollo_msm_texto': 2892\n",
      "Cantidad de valores nulos en 'cl_desarrollo_sin_acompañamiento': 2892\n",
      "Cantidad de valores nulos en 'p308c': 10061\n",
      "Cantidad de valores nulos en 'i_uso_hog': 16318\n",
      "Cantidad de valores nulos en 'i_uso_trab': 16318\n",
      "Cantidad de valores nulos en 'i_uso_cedu': 16318\n",
      "Cantidad de valores nulos en 'i_uso_cab': 16318\n",
      "Cantidad de valores nulos en 'i_uso_casotr': 16318\n",
      "Cantidad de valores nulos en 'i_uso_otro': 16318\n",
      "Cantidad de valores nulos en 'i_uso_movil': 16318\n",
      "Cantidad de valores nulos en 'i_computadora': 7519\n",
      "Cantidad de valores nulos en 'i_laptop': 7519\n",
      "Cantidad de valores nulos en 'i_cel_sdatos': 7519\n",
      "Cantidad de valores nulos en 'i_cel_cdatos': 7519\n",
      "Cantidad de valores nulos en 'i_tablet': 7519\n",
      "Cantidad de valores nulos en 'i_otro': 7519\n",
      "Cantidad de valores nulos en 'p314d': 16318\n",
      "Cantidad de valores nulos en 'p315a': 22241\n",
      "Cantidad de valores nulos en 'p315b': 22394\n",
      "Cantidad de valores nulos en 'i_obtener_info': 16318\n",
      "Cantidad de valores nulos en 'i_comunicarse': 16318\n",
      "Cantidad de valores nulos en 'i_comprar_pdts_ss': 16318\n",
      "Cantidad de valores nulos en 'i_operaciones_bancarias': 16318\n",
      "Cantidad de valores nulos en 'i_edu_formal': 16318\n",
      "Cantidad de valores nulos en 'i_transacciones': 16318\n",
      "Cantidad de valores nulos en 'i_act_entretenimiento': 16318\n",
      "Cantidad de valores nulos en 'i_vender_pdts': 16318\n",
      "Cantidad de valores nulos en 'p316_9': 16318\n",
      "Cantidad de valores nulos en 'p316_10': 16318\n",
      "Cantidad de valores nulos en 'p316_11': 16318\n",
      "Cantidad de valores nulos en 'i_descarga_antivirus': 16318\n",
      "Cantidad de valores nulos en 'uso_cp_lp': 19579\n",
      "Cantidad de valores nulos en 'ai_mover_archivo': 21400\n",
      "Cantidad de valores nulos en 'ai_copiar_pegar': 21400\n",
      "Cantidad de valores nulos en 'ai_enviar_correos': 21400\n",
      "Cantidad de valores nulos en 'ai_form_excel': 21400\n",
      "Cantidad de valores nulos en 'ai_conec_dispositivos': 21400\n",
      "Cantidad de valores nulos en 'ai_software': 21400\n",
      "Cantidad de valores nulos en 'ai_presentaciones_electronicas': 21400\n",
      "Cantidad de valores nulos en 'ai_tranfer_archivos': 21486\n",
      "Cantidad de valores nulos en 'ai_leng_programacion': 21400\n",
      "Cantidad de valores nulos en 'ai_otros': 21400\n",
      "Cantidad de valores nulos en 't313a': 19596\n",
      "Cantidad de valores nulos en '_p301c': 9738\n"
     ]
    }
   ],
   "source": [
    "# Itera sobre todas las columnas y cuenta los valores nulos en cada una\n",
    "for columna in base_filtrada.columns:\n",
    "    nulos_en_columna = base_filtrada[columna].isnull().sum()\n",
    "    if nulos_en_columna > 0:\n",
    "        print(f\"Cantidad de valores nulos en '{columna}': {nulos_en_columna}\")"
   ]
  },
  {
   "cell_type": "code",
   "execution_count": 26,
   "id": "d19db7ca-7211-4a7b-a8b3-59cf010fddfd",
   "metadata": {},
   "outputs": [
    {
     "name": "stdout",
     "output_type": "stream",
     "text": [
      "Total de valores faltantes en \"i_uso_hog\": 16318\n",
      "Conteo de valores faltantes por grupo:\n",
      "años_escolaridad\n",
      "0.0     1383\n",
      "1.0     1587\n",
      "2.0     1572\n",
      "3.0     1697\n",
      "4.0     1685\n",
      "5.0     1590\n",
      "6.0     1447\n",
      "7.0     1417\n",
      "8.0     1377\n",
      "9.0     1338\n",
      "10.0    1219\n",
      "11.0       6\n",
      "dtype: int64\n"
     ]
    }
   ],
   "source": [
    "# Contar la cantidad de valores nulos en \"i_uso_hog\".\n",
    "total_nulos_i_uso_hog = base_filtrada['i_uso_hog'].isnull().sum()\n",
    "\n",
    "# Crear un filtro para los valores faltantes en \"i_uso_hog\".\n",
    "filtro_valores_faltantes_i_uso_hog = base_filtrada['i_uso_hog'].isnull()\n",
    "\n",
    "# Filtrar el DataFrame para obtener solo las filas con valores faltantes en \"i_uso_hog\".\n",
    "df_valores_faltantes_i_uso_hog = base_filtrada[filtro_valores_faltantes_i_uso_hog]\n",
    "\n",
    "# Contar la cantidad de valores faltantes en \"i_uso_hog\" para cada grupo definido por las variables mencionadas.\n",
    "contagem_por_grupo = df_valores_faltantes_i_uso_hog.groupby(['años_escolaridad']).size()\n",
    "\n",
    "# Imprimir el resultado.\n",
    "print(f'Total de valores faltantes en \"i_uso_hog\": {total_nulos_i_uso_hog}')\n",
    "print('Conteo de valores faltantes por grupo:')\n",
    "print(contagem_por_grupo)"
   ]
  },
  {
   "cell_type": "markdown",
   "id": "0f3b35c2-8468-4b06-bd98-3098d0b02ec7",
   "metadata": {
    "tags": []
   },
   "source": [
    "## Funciones"
   ]
  },
  {
   "cell_type": "code",
   "execution_count": 27,
   "id": "d4f7ac7d-16bb-41e8-98b5-b53c4b215271",
   "metadata": {},
   "outputs": [],
   "source": [
    "def generar_tabla_recuento(dataframe, variable, descripcion_valores, guardar_como_jpeg=False, guardar_como_txt=False):\n",
    "    # Agrupa los datos por la columna 'variable' y suma 'factor07'\n",
    "    freq_ = dataframe[['factor07', variable]].groupby(variable).sum().reset_index()\n",
    "    \n",
    "    # Calcular el porcentaje y redondearlo a dos decimales directamente en esta línea\n",
    "    total_recuento = freq_['factor07'].sum()\n",
    "    freq_['Porcentaje'] = (freq_['factor07'] / total_recuento * 100).round(2)\n",
    "    \n",
    "    freq_.rename(columns={'factor07': 'Recuento', variable: descripcion_valores}, inplace=True)\n",
    "    \n",
    "    # Calcular los totales\n",
    "    total_recuento = freq_['Recuento'].astype(float).sum()\n",
    "    total_porcentaje = freq_['Porcentaje'].astype(float).sum()\n",
    "    \n",
    "    # Crear una fila adicional para los totales\n",
    "    fila_total = pd.DataFrame({descripcion_valores: 'Total', 'Recuento': total_recuento, 'Porcentaje': total_porcentaje}, index=[0])\n",
    "\n",
    "    # Concatenar la fila total al DataFrame\n",
    "    freq_ = pd.concat([freq_, fila_total], ignore_index=True)\n",
    "    \n",
    "    # Formatear las columnas \"Recuento\" y \"Porcentaje\" como cadenas\n",
    "    freq_['Recuento'] = freq_['Recuento'].apply(lambda x: '{:,.0f}'.format(x))\n",
    "    freq_['Porcentaje'] = freq_['Porcentaje'].apply(lambda x: '{:.1f}'.format(x))\n",
    "    \n",
    "    if guardar_como_jpeg:\n",
    "        # Guardar la tabla formateada como una imagen JPEG en la ruta especificada\n",
    "        nombre_imagen = os.path.join(\"../output/images\", f\"tablas_{descripcion_valores}.jpeg\")\n",
    "        \n",
    "        # Configurar el tamaño y los márgenes de la figura\n",
    "        plt.figure(figsize=(6, 4))\n",
    "        plt.subplots_adjust(left=0.2, top=0.9, right=0.8, bottom=0.1)\n",
    "        \n",
    "        # Configurar el tamaño de la fuente para la tabla\n",
    "        plt.rc('font', size=9)\n",
    "        \n",
    "        # Crear una tabla en lugar de texto\n",
    "        tabla = plt.table(cellText=freq_.values, colLabels=freq_.columns, loc='center', cellLoc='center')\n",
    "        \n",
    "        # Establecer el formato de las celdas de la tabla\n",
    "        tabla.auto_set_font_size(False)\n",
    "        tabla.set_fontsize(10)\n",
    "        \n",
    "        # Ajustar el ancho de las columnas según el contenido\n",
    "        tabla.auto_set_column_width([0, 1, 2])\n",
    "        \n",
    "        # Ocultar los ejes\n",
    "        plt.axis('off')\n",
    "        \n",
    "        # Guardar la figura como imagen JPEG\n",
    "        plt.savefig(nombre_imagen, bbox_inches='tight', dpi=300)\n",
    "        plt.close()\n",
    "    \n",
    "    if guardar_como_txt:\n",
    "        # Guardar la tabla formateada en un archivo de texto en la ruta especificada\n",
    "        nombre_archivo_txt = os.path.join(\"../output/tables\", f\"{descripcion_valores}.txt\")\n",
    "        with open(nombre_archivo_txt, 'w') as archivo:\n",
    "            # Encabezado de la tabla en formato LaTeX\n",
    "            encabezado_latex = f\"\\\\begin{{table}}[H]\\n\\\\centering\\n\\\\caption{{{descripcion_valores}}}\\n\\\\label{{tab:{descripcion_valores}}}\\n\"\n",
    "            archivo.write(encabezado_latex)\n",
    "            \n",
    "            # Datos de la tabla en formato LaTeX\n",
    "            archivo.write(\"\\\\scalebox{0.65}{\\n\")\n",
    "            archivo.write(\"\\\\begin{tabular}{@{}crr@{}}\\n\")  # Modifica esta línea\n",
    "            archivo.write(\"\\\\toprule\\n\")\n",
    "            #archivo.write(\"Miembros por Hogar & Recuento & Porcentaje\\\\\\\\ \\\\midrule\\n\")  # Cambia las columnas y el encabezado aquí\n",
    "            archivo.write(f\"{descripcion_valores} & Recuento & Porcentaje\\\\\\\\ \\\\midrule\\n\")\n",
    "            \n",
    "            # Escribe los datos de la tabla\n",
    "            for _, row in freq_.iterrows():\n",
    "                archivo.write(f\"{row[descripcion_valores]} & {row['Recuento']} & {row['Porcentaje']}\\\\\\\\\\n\")\n",
    "            \n",
    "            archivo.write(\"\\\\bottomrule\\n\")\n",
    "            archivo.write(\"\\\\end{tabular}\\n\")\n",
    "            archivo.write(\"}\\n\")\n",
    "            archivo.write(\"\\\\end{table}\\n\")\n",
    "\n",
    "    return freq_\n"
   ]
  },
  {
   "cell_type": "code",
   "execution_count": 28,
   "id": "8b3f98c8-92f1-41b9-90e5-75ac9fc1571e",
   "metadata": {},
   "outputs": [],
   "source": [
    "def guardar_histograma_con_pesos(base_de_datos, columna,descriptivo):\n",
    "    # Crear el histograma con pesos\n",
    "    sns.histplot(data=base_de_datos, x=columna, bins=15, kde=True, color='blue', edgecolor='black', \n",
    "                 weights=base_filtrada['factor07'])\n",
    "\n",
    "    # Etiquetas y título\n",
    "    plt.xlabel(f'{descriptivo}')\n",
    "    plt.ylabel('Frecuencia ponderada')\n",
    "    plt.title(f'Histograma {columna}')\n",
    "\n",
    "    # Generar el nombre del archivo de imagen basado en el nombre de la columna\n",
    "    nombre_archivo = f'estadistico_{descriptivo}.png'\n",
    "\n",
    "    # Guardar la imagen en la ruta especificada\n",
    "    ruta_guardado = '../output/images/' + nombre_archivo\n",
    "    plt.savefig(ruta_guardado)\n",
    "\n",
    "    # Mostrar el histograma\n",
    "    plt.show()"
   ]
  },
  {
   "cell_type": "code",
   "execution_count": 31,
   "id": "5004b3c0-c7a0-4669-bf17-820cd2455d4d",
   "metadata": {},
   "outputs": [],
   "source": [
    "base_filtrada_aux = base_filtrada.copy()\n",
    "\n",
    "dict_nivel_edu = {1: \"Inicial\", 2: \"Primaria\", 3: \"Secundaria\"}\n",
    "dict_sexo = {0: \"Hombre\", 1: \"Mujer\"}\n",
    "dict_idioma = {0: \"Otro\", 1: \"Catellano\"}\n",
    "dict_area =  {0: \"Rural\", 1: \"Urbano\"}\n",
    "dict_electricidad = {1: \"Si\", 0: \"No\"}\n",
    "dict_region=  {1: \"Costa\", 2: \"Sierra\", 3: \"Selva\"}\n",
    "dict_estr =  {1: \"A\", 2: \"B\", 3: \"C\", 4: \"D\", 5: \"E\", 6:\"rural\"}\n",
    "dict_cen_edu = {1: \"Nacional\", 0: \"Privada\"}\n",
    "\n",
    "base_filtrada_aux[\"Nivel_educativo\"] = base_filtrada_aux[\"Nivel_educativo\"].map(dict_nivel_edu)\n",
    "base_filtrada_aux[\"Centro_educativo\"] = base_filtrada_aux[\"Nivel_educativo\"].map(dict_cen_edu)\n",
    "base_filtrada_aux[\"Sexo\"]            = base_filtrada_aux[\"Sexo\"].map(dict_sexo)\n",
    "base_filtrada_aux[\"Idioma\"]          = base_filtrada_aux[\"Idioma\"].map(dict_idioma)\n",
    "base_filtrada_aux[\"AREA\"]            = base_filtrada_aux[\"AREA\"].map(dict_area)\n",
    "base_filtrada_aux[\"Electricidad\"]    = base_filtrada_aux[\"Electricidad\"].map(dict_electricidad)\n",
    "base_filtrada_aux[\"Region\"]          = base_filtrada_aux[\"Region\"].map(dict_region)\n",
    "base_filtrada_aux[\"estrsocial\"]      = base_filtrada_aux[\"estrsocial\"].map(dict_estr)"
   ]
  },
  {
   "cell_type": "markdown",
   "id": "33806527",
   "metadata": {
    "tags": []
   },
   "source": [
    "# VARIABLES "
   ]
  },
  {
   "cell_type": "markdown",
   "id": "3f1c6954-9ad1-4f70-a79f-3dde3aea1e12",
   "metadata": {},
   "source": [
    "## Variables Continuas"
   ]
  },
  {
   "cell_type": "markdown",
   "id": "b580abeb-344e-4fa8-acea-01a77fc46c3d",
   "metadata": {},
   "source": [
    "#### Miembros por hogar"
   ]
  },
  {
   "cell_type": "code",
   "execution_count": 32,
   "id": "37314f0b",
   "metadata": {},
   "outputs": [
    {
     "data": {
      "text/html": [
       "<div>\n",
       "<style scoped>\n",
       "    .dataframe tbody tr th:only-of-type {\n",
       "        vertical-align: middle;\n",
       "    }\n",
       "\n",
       "    .dataframe tbody tr th {\n",
       "        vertical-align: top;\n",
       "    }\n",
       "\n",
       "    .dataframe thead th {\n",
       "        text-align: right;\n",
       "    }\n",
       "</style>\n",
       "<table border=\"1\" class=\"dataframe\">\n",
       "  <thead>\n",
       "    <tr style=\"text-align: right;\">\n",
       "      <th></th>\n",
       "      <th>Miembros por Hogar</th>\n",
       "      <th>Recuento</th>\n",
       "      <th>Porcentaje</th>\n",
       "    </tr>\n",
       "  </thead>\n",
       "  <tbody>\n",
       "    <tr>\n",
       "      <th>0</th>\n",
       "      <td>1</td>\n",
       "      <td>5,076</td>\n",
       "      <td>0.1</td>\n",
       "    </tr>\n",
       "    <tr>\n",
       "      <th>1</th>\n",
       "      <td>2</td>\n",
       "      <td>216,104</td>\n",
       "      <td>3.7</td>\n",
       "    </tr>\n",
       "    <tr>\n",
       "      <th>2</th>\n",
       "      <td>3</td>\n",
       "      <td>785,886</td>\n",
       "      <td>13.4</td>\n",
       "    </tr>\n",
       "    <tr>\n",
       "      <th>3</th>\n",
       "      <td>4</td>\n",
       "      <td>1,623,004</td>\n",
       "      <td>27.7</td>\n",
       "    </tr>\n",
       "    <tr>\n",
       "      <th>4</th>\n",
       "      <td>5</td>\n",
       "      <td>1,488,975</td>\n",
       "      <td>25.4</td>\n",
       "    </tr>\n",
       "    <tr>\n",
       "      <th>5</th>\n",
       "      <td>6</td>\n",
       "      <td>793,397</td>\n",
       "      <td>13.5</td>\n",
       "    </tr>\n",
       "    <tr>\n",
       "      <th>6</th>\n",
       "      <td>7</td>\n",
       "      <td>452,484</td>\n",
       "      <td>7.7</td>\n",
       "    </tr>\n",
       "    <tr>\n",
       "      <th>7</th>\n",
       "      <td>8</td>\n",
       "      <td>205,186</td>\n",
       "      <td>3.5</td>\n",
       "    </tr>\n",
       "    <tr>\n",
       "      <th>8</th>\n",
       "      <td>9</td>\n",
       "      <td>130,423</td>\n",
       "      <td>2.2</td>\n",
       "    </tr>\n",
       "    <tr>\n",
       "      <th>9</th>\n",
       "      <td>10</td>\n",
       "      <td>74,426</td>\n",
       "      <td>1.3</td>\n",
       "    </tr>\n",
       "    <tr>\n",
       "      <th>10</th>\n",
       "      <td>11</td>\n",
       "      <td>31,364</td>\n",
       "      <td>0.5</td>\n",
       "    </tr>\n",
       "    <tr>\n",
       "      <th>11</th>\n",
       "      <td>12</td>\n",
       "      <td>22,839</td>\n",
       "      <td>0.4</td>\n",
       "    </tr>\n",
       "    <tr>\n",
       "      <th>12</th>\n",
       "      <td>13</td>\n",
       "      <td>6,642</td>\n",
       "      <td>0.1</td>\n",
       "    </tr>\n",
       "    <tr>\n",
       "      <th>13</th>\n",
       "      <td>14</td>\n",
       "      <td>8,868</td>\n",
       "      <td>0.2</td>\n",
       "    </tr>\n",
       "    <tr>\n",
       "      <th>14</th>\n",
       "      <td>15</td>\n",
       "      <td>7,743</td>\n",
       "      <td>0.1</td>\n",
       "    </tr>\n",
       "    <tr>\n",
       "      <th>15</th>\n",
       "      <td>18</td>\n",
       "      <td>751</td>\n",
       "      <td>0.0</td>\n",
       "    </tr>\n",
       "    <tr>\n",
       "      <th>16</th>\n",
       "      <td>20</td>\n",
       "      <td>5,839</td>\n",
       "      <td>0.1</td>\n",
       "    </tr>\n",
       "    <tr>\n",
       "      <th>17</th>\n",
       "      <td>Total</td>\n",
       "      <td>5,859,010</td>\n",
       "      <td>100.0</td>\n",
       "    </tr>\n",
       "  </tbody>\n",
       "</table>\n",
       "</div>"
      ],
      "text/plain": [
       "   Miembros por Hogar   Recuento Porcentaje\n",
       "0                   1      5,076        0.1\n",
       "1                   2    216,104        3.7\n",
       "2                   3    785,886       13.4\n",
       "3                   4  1,623,004       27.7\n",
       "4                   5  1,488,975       25.4\n",
       "5                   6    793,397       13.5\n",
       "6                   7    452,484        7.7\n",
       "7                   8    205,186        3.5\n",
       "8                   9    130,423        2.2\n",
       "9                  10     74,426        1.3\n",
       "10                 11     31,364        0.5\n",
       "11                 12     22,839        0.4\n",
       "12                 13      6,642        0.1\n",
       "13                 14      8,868        0.2\n",
       "14                 15      7,743        0.1\n",
       "15                 18        751        0.0\n",
       "16                 20      5,839        0.1\n",
       "17              Total  5,859,010      100.0"
      ]
     },
     "execution_count": 32,
     "metadata": {},
     "output_type": "execute_result"
    }
   ],
   "source": [
    "generar_tabla_recuento(base_filtrada_aux, \"mieperho\", \"Miembros por Hogar\",True, True)"
   ]
  },
  {
   "cell_type": "markdown",
   "id": "023479a6-371d-46d7-96fa-2817d61a0d53",
   "metadata": {},
   "source": [
    "#### Edad"
   ]
  },
  {
   "cell_type": "code",
   "execution_count": 33,
   "id": "066129bd",
   "metadata": {},
   "outputs": [
    {
     "data": {
      "text/html": [
       "<div>\n",
       "<style scoped>\n",
       "    .dataframe tbody tr th:only-of-type {\n",
       "        vertical-align: middle;\n",
       "    }\n",
       "\n",
       "    .dataframe tbody tr th {\n",
       "        vertical-align: top;\n",
       "    }\n",
       "\n",
       "    .dataframe thead th {\n",
       "        text-align: right;\n",
       "    }\n",
       "</style>\n",
       "<table border=\"1\" class=\"dataframe\">\n",
       "  <thead>\n",
       "    <tr style=\"text-align: right;\">\n",
       "      <th></th>\n",
       "      <th>Edad</th>\n",
       "      <th>Recuento</th>\n",
       "      <th>Porcentaje</th>\n",
       "    </tr>\n",
       "  </thead>\n",
       "  <tbody>\n",
       "    <tr>\n",
       "      <th>0</th>\n",
       "      <td>6.0</td>\n",
       "      <td>294,728</td>\n",
       "      <td>5.0</td>\n",
       "    </tr>\n",
       "    <tr>\n",
       "      <th>1</th>\n",
       "      <td>7.0</td>\n",
       "      <td>501,195</td>\n",
       "      <td>8.6</td>\n",
       "    </tr>\n",
       "    <tr>\n",
       "      <th>2</th>\n",
       "      <td>8.0</td>\n",
       "      <td>467,637</td>\n",
       "      <td>8.0</td>\n",
       "    </tr>\n",
       "    <tr>\n",
       "      <th>3</th>\n",
       "      <td>9.0</td>\n",
       "      <td>536,396</td>\n",
       "      <td>9.2</td>\n",
       "    </tr>\n",
       "    <tr>\n",
       "      <th>4</th>\n",
       "      <td>10.0</td>\n",
       "      <td>558,568</td>\n",
       "      <td>9.5</td>\n",
       "    </tr>\n",
       "    <tr>\n",
       "      <th>5</th>\n",
       "      <td>11.0</td>\n",
       "      <td>547,757</td>\n",
       "      <td>9.4</td>\n",
       "    </tr>\n",
       "    <tr>\n",
       "      <th>6</th>\n",
       "      <td>12.0</td>\n",
       "      <td>602,566</td>\n",
       "      <td>10.3</td>\n",
       "    </tr>\n",
       "    <tr>\n",
       "      <th>7</th>\n",
       "      <td>13.0</td>\n",
       "      <td>552,805</td>\n",
       "      <td>9.4</td>\n",
       "    </tr>\n",
       "    <tr>\n",
       "      <th>8</th>\n",
       "      <td>14.0</td>\n",
       "      <td>577,768</td>\n",
       "      <td>9.9</td>\n",
       "    </tr>\n",
       "    <tr>\n",
       "      <th>9</th>\n",
       "      <td>15.0</td>\n",
       "      <td>579,463</td>\n",
       "      <td>9.9</td>\n",
       "    </tr>\n",
       "    <tr>\n",
       "      <th>10</th>\n",
       "      <td>16.0</td>\n",
       "      <td>447,257</td>\n",
       "      <td>7.6</td>\n",
       "    </tr>\n",
       "    <tr>\n",
       "      <th>11</th>\n",
       "      <td>17.0</td>\n",
       "      <td>154,853</td>\n",
       "      <td>2.6</td>\n",
       "    </tr>\n",
       "    <tr>\n",
       "      <th>12</th>\n",
       "      <td>18.0</td>\n",
       "      <td>38,018</td>\n",
       "      <td>0.6</td>\n",
       "    </tr>\n",
       "    <tr>\n",
       "      <th>13</th>\n",
       "      <td>Total</td>\n",
       "      <td>5,859,010</td>\n",
       "      <td>100.0</td>\n",
       "    </tr>\n",
       "  </tbody>\n",
       "</table>\n",
       "</div>"
      ],
      "text/plain": [
       "     Edad   Recuento Porcentaje\n",
       "0     6.0    294,728        5.0\n",
       "1     7.0    501,195        8.6\n",
       "2     8.0    467,637        8.0\n",
       "3     9.0    536,396        9.2\n",
       "4    10.0    558,568        9.5\n",
       "5    11.0    547,757        9.4\n",
       "6    12.0    602,566       10.3\n",
       "7    13.0    552,805        9.4\n",
       "8    14.0    577,768        9.9\n",
       "9    15.0    579,463        9.9\n",
       "10   16.0    447,257        7.6\n",
       "11   17.0    154,853        2.6\n",
       "12   18.0     38,018        0.6\n",
       "13  Total  5,859,010      100.0"
      ]
     },
     "execution_count": 33,
     "metadata": {},
     "output_type": "execute_result"
    }
   ],
   "source": [
    "generar_tabla_recuento(base_filtrada_aux, \"Edad\", \"Edad\" , True,  True)##################"
   ]
  },
  {
   "cell_type": "markdown",
   "id": "e89db312-c0b2-477d-8878-db3e4b72c77e",
   "metadata": {},
   "source": [
    "#### Años Escolaridad"
   ]
  },
  {
   "cell_type": "code",
   "execution_count": 34,
   "id": "f2039fa2-1396-44ff-8bba-65a65eba533f",
   "metadata": {},
   "outputs": [
    {
     "data": {
      "text/html": [
       "<div>\n",
       "<style scoped>\n",
       "    .dataframe tbody tr th:only-of-type {\n",
       "        vertical-align: middle;\n",
       "    }\n",
       "\n",
       "    .dataframe tbody tr th {\n",
       "        vertical-align: top;\n",
       "    }\n",
       "\n",
       "    .dataframe thead th {\n",
       "        text-align: right;\n",
       "    }\n",
       "</style>\n",
       "<table border=\"1\" class=\"dataframe\">\n",
       "  <thead>\n",
       "    <tr style=\"text-align: right;\">\n",
       "      <th></th>\n",
       "      <th>Años Escolaridad</th>\n",
       "      <th>Recuento</th>\n",
       "      <th>Porcentaje</th>\n",
       "    </tr>\n",
       "  </thead>\n",
       "  <tbody>\n",
       "    <tr>\n",
       "      <th>0</th>\n",
       "      <td>0.0</td>\n",
       "      <td>456,922</td>\n",
       "      <td>7.8</td>\n",
       "    </tr>\n",
       "    <tr>\n",
       "      <th>1</th>\n",
       "      <td>1.0</td>\n",
       "      <td>513,675</td>\n",
       "      <td>8.8</td>\n",
       "    </tr>\n",
       "    <tr>\n",
       "      <th>2</th>\n",
       "      <td>2.0</td>\n",
       "      <td>521,365</td>\n",
       "      <td>8.9</td>\n",
       "    </tr>\n",
       "    <tr>\n",
       "      <th>3</th>\n",
       "      <td>3.0</td>\n",
       "      <td>571,608</td>\n",
       "      <td>9.8</td>\n",
       "    </tr>\n",
       "    <tr>\n",
       "      <th>4</th>\n",
       "      <td>4.0</td>\n",
       "      <td>564,839</td>\n",
       "      <td>9.6</td>\n",
       "    </tr>\n",
       "    <tr>\n",
       "      <th>5</th>\n",
       "      <td>5.0</td>\n",
       "      <td>568,247</td>\n",
       "      <td>9.7</td>\n",
       "    </tr>\n",
       "    <tr>\n",
       "      <th>6</th>\n",
       "      <td>6.0</td>\n",
       "      <td>548,544</td>\n",
       "      <td>9.4</td>\n",
       "    </tr>\n",
       "    <tr>\n",
       "      <th>7</th>\n",
       "      <td>7.0</td>\n",
       "      <td>524,075</td>\n",
       "      <td>8.9</td>\n",
       "    </tr>\n",
       "    <tr>\n",
       "      <th>8</th>\n",
       "      <td>8.0</td>\n",
       "      <td>577,287</td>\n",
       "      <td>9.9</td>\n",
       "    </tr>\n",
       "    <tr>\n",
       "      <th>9</th>\n",
       "      <td>9.0</td>\n",
       "      <td>508,047</td>\n",
       "      <td>8.7</td>\n",
       "    </tr>\n",
       "    <tr>\n",
       "      <th>10</th>\n",
       "      <td>10.0</td>\n",
       "      <td>503,233</td>\n",
       "      <td>8.6</td>\n",
       "    </tr>\n",
       "    <tr>\n",
       "      <th>11</th>\n",
       "      <td>11.0</td>\n",
       "      <td>1,169</td>\n",
       "      <td>0.0</td>\n",
       "    </tr>\n",
       "    <tr>\n",
       "      <th>12</th>\n",
       "      <td>Total</td>\n",
       "      <td>5,859,010</td>\n",
       "      <td>100.0</td>\n",
       "    </tr>\n",
       "  </tbody>\n",
       "</table>\n",
       "</div>"
      ],
      "text/plain": [
       "   Años Escolaridad   Recuento Porcentaje\n",
       "0               0.0    456,922        7.8\n",
       "1               1.0    513,675        8.8\n",
       "2               2.0    521,365        8.9\n",
       "3               3.0    571,608        9.8\n",
       "4               4.0    564,839        9.6\n",
       "5               5.0    568,247        9.7\n",
       "6               6.0    548,544        9.4\n",
       "7               7.0    524,075        8.9\n",
       "8               8.0    577,287        9.9\n",
       "9               9.0    508,047        8.7\n",
       "10             10.0    503,233        8.6\n",
       "11             11.0      1,169        0.0\n",
       "12            Total  5,859,010      100.0"
      ]
     },
     "execution_count": 34,
     "metadata": {},
     "output_type": "execute_result"
    }
   ],
   "source": [
    "generar_tabla_recuento(base_filtrada_aux, \"años_escolaridad\", \"Años Escolaridad\" , True,  True)##################"
   ]
  },
  {
   "cell_type": "markdown",
   "id": "cbfb81a0-db56-43ac-afdb-eba6dd71c97e",
   "metadata": {},
   "source": [
    "## Variables Cualitativas"
   ]
  },
  {
   "cell_type": "code",
   "execution_count": 35,
   "id": "ebe6d38c-7ea2-46e7-9159-469d4fd13a48",
   "metadata": {},
   "outputs": [
    {
     "data": {
      "text/html": [
       "<div>\n",
       "<style scoped>\n",
       "    .dataframe tbody tr th:only-of-type {\n",
       "        vertical-align: middle;\n",
       "    }\n",
       "\n",
       "    .dataframe tbody tr th {\n",
       "        vertical-align: top;\n",
       "    }\n",
       "\n",
       "    .dataframe thead th {\n",
       "        text-align: right;\n",
       "    }\n",
       "</style>\n",
       "<table border=\"1\" class=\"dataframe\">\n",
       "  <thead>\n",
       "    <tr style=\"text-align: right;\">\n",
       "      <th></th>\n",
       "      <th>parentesco</th>\n",
       "      <th>Recuento</th>\n",
       "      <th>Porcentaje</th>\n",
       "    </tr>\n",
       "  </thead>\n",
       "  <tbody>\n",
       "    <tr>\n",
       "      <th>0</th>\n",
       "      <td>2</td>\n",
       "      <td>714</td>\n",
       "      <td>0.0</td>\n",
       "    </tr>\n",
       "    <tr>\n",
       "      <th>1</th>\n",
       "      <td>3</td>\n",
       "      <td>4,992,608</td>\n",
       "      <td>85.2</td>\n",
       "    </tr>\n",
       "    <tr>\n",
       "      <th>2</th>\n",
       "      <td>4</td>\n",
       "      <td>3,187</td>\n",
       "      <td>0.1</td>\n",
       "    </tr>\n",
       "    <tr>\n",
       "      <th>3</th>\n",
       "      <td>5</td>\n",
       "      <td>719,004</td>\n",
       "      <td>12.3</td>\n",
       "    </tr>\n",
       "    <tr>\n",
       "      <th>4</th>\n",
       "      <td>7</td>\n",
       "      <td>98,298</td>\n",
       "      <td>1.7</td>\n",
       "    </tr>\n",
       "    <tr>\n",
       "      <th>5</th>\n",
       "      <td>8</td>\n",
       "      <td>1,293</td>\n",
       "      <td>0.0</td>\n",
       "    </tr>\n",
       "    <tr>\n",
       "      <th>6</th>\n",
       "      <td>10</td>\n",
       "      <td>18,319</td>\n",
       "      <td>0.3</td>\n",
       "    </tr>\n",
       "    <tr>\n",
       "      <th>7</th>\n",
       "      <td>11</td>\n",
       "      <td>25,587</td>\n",
       "      <td>0.4</td>\n",
       "    </tr>\n",
       "    <tr>\n",
       "      <th>8</th>\n",
       "      <td>Total</td>\n",
       "      <td>5,859,010</td>\n",
       "      <td>100.0</td>\n",
       "    </tr>\n",
       "  </tbody>\n",
       "</table>\n",
       "</div>"
      ],
      "text/plain": [
       "  parentesco   Recuento Porcentaje\n",
       "0          2        714        0.0\n",
       "1          3  4,992,608       85.2\n",
       "2          4      3,187        0.1\n",
       "3          5    719,004       12.3\n",
       "4          7     98,298        1.7\n",
       "5          8      1,293        0.0\n",
       "6         10     18,319        0.3\n",
       "7         11     25,587        0.4\n",
       "8      Total  5,859,010      100.0"
      ]
     },
     "execution_count": 35,
     "metadata": {},
     "output_type": "execute_result"
    }
   ],
   "source": [
    "generar_tabla_recuento(base_filtrada_aux, \"parentesco\", \"parentesco\",True, True) # 0 Panel (No Presente el año actual)\n",
    "#1 Jefe(a) 2 Esposa(o)/compañero(a) 3 Hijo(a)/Hijastro(a) 4 Yerno/Nuera\n",
    "#5 Nieto(a) 6 Padres/Suegros 7 Otros parientes 8 Trabajador Hogar 9 Pensionista 10 Otros no parientes 11 Hermano(a)"
   ]
  },
  {
   "cell_type": "markdown",
   "id": "5b71dfca-db7a-4630-a4bb-a6e164d3e752",
   "metadata": {
    "tags": []
   },
   "source": [
    "#### Nivel Educativo y Centro de estudios"
   ]
  },
  {
   "cell_type": "code",
   "execution_count": 36,
   "id": "f1c99474",
   "metadata": {},
   "outputs": [
    {
     "data": {
      "text/html": [
       "<div>\n",
       "<style scoped>\n",
       "    .dataframe tbody tr th:only-of-type {\n",
       "        vertical-align: middle;\n",
       "    }\n",
       "\n",
       "    .dataframe tbody tr th {\n",
       "        vertical-align: top;\n",
       "    }\n",
       "\n",
       "    .dataframe thead th {\n",
       "        text-align: right;\n",
       "    }\n",
       "</style>\n",
       "<table border=\"1\" class=\"dataframe\">\n",
       "  <thead>\n",
       "    <tr style=\"text-align: right;\">\n",
       "      <th></th>\n",
       "      <th>Nivel Educativo</th>\n",
       "      <th>Recuento</th>\n",
       "      <th>Porcentaje</th>\n",
       "    </tr>\n",
       "  </thead>\n",
       "  <tbody>\n",
       "    <tr>\n",
       "      <th>0</th>\n",
       "      <td>Primaria</td>\n",
       "      <td>3,203,291</td>\n",
       "      <td>54.7</td>\n",
       "    </tr>\n",
       "    <tr>\n",
       "      <th>1</th>\n",
       "      <td>Secundaria</td>\n",
       "      <td>2,655,718</td>\n",
       "      <td>45.3</td>\n",
       "    </tr>\n",
       "    <tr>\n",
       "      <th>2</th>\n",
       "      <td>Total</td>\n",
       "      <td>5,859,010</td>\n",
       "      <td>100.0</td>\n",
       "    </tr>\n",
       "  </tbody>\n",
       "</table>\n",
       "</div>"
      ],
      "text/plain": [
       "  Nivel Educativo   Recuento Porcentaje\n",
       "0        Primaria  3,203,291       54.7\n",
       "1      Secundaria  2,655,718       45.3\n",
       "2           Total  5,859,010      100.0"
      ]
     },
     "execution_count": 36,
     "metadata": {},
     "output_type": "execute_result"
    }
   ],
   "source": [
    "generar_tabla_recuento(base_filtrada_aux, \"Nivel_educativo\", \"Nivel Educativo\",True, True)\n",
    "# 1 Educación Inicial  2 Primaria 3 Secundaria "
   ]
  },
  {
   "cell_type": "code",
   "execution_count": 37,
   "id": "7fd273a5",
   "metadata": {},
   "outputs": [
    {
     "data": {
      "text/html": [
       "<div>\n",
       "<style scoped>\n",
       "    .dataframe tbody tr th:only-of-type {\n",
       "        vertical-align: middle;\n",
       "    }\n",
       "\n",
       "    .dataframe tbody tr th {\n",
       "        vertical-align: top;\n",
       "    }\n",
       "\n",
       "    .dataframe thead th {\n",
       "        text-align: right;\n",
       "    }\n",
       "</style>\n",
       "<table border=\"1\" class=\"dataframe\">\n",
       "  <thead>\n",
       "    <tr style=\"text-align: right;\">\n",
       "      <th></th>\n",
       "      <th>Centro de Estudios</th>\n",
       "      <th>Recuento</th>\n",
       "      <th>Porcentaje</th>\n",
       "    </tr>\n",
       "  </thead>\n",
       "  <tbody>\n",
       "    <tr>\n",
       "      <th>0</th>\n",
       "      <td>1.0</td>\n",
       "      <td>4,930,020</td>\n",
       "      <td>84.1</td>\n",
       "    </tr>\n",
       "    <tr>\n",
       "      <th>1</th>\n",
       "      <td>2.0</td>\n",
       "      <td>928,990</td>\n",
       "      <td>15.9</td>\n",
       "    </tr>\n",
       "    <tr>\n",
       "      <th>2</th>\n",
       "      <td>Total</td>\n",
       "      <td>5,859,010</td>\n",
       "      <td>100.0</td>\n",
       "    </tr>\n",
       "  </tbody>\n",
       "</table>\n",
       "</div>"
      ],
      "text/plain": [
       "  Centro de Estudios   Recuento Porcentaje\n",
       "0                1.0  4,930,020       84.1\n",
       "1                2.0    928,990       15.9\n",
       "2              Total  5,859,010      100.0"
      ]
     },
     "execution_count": 37,
     "metadata": {},
     "output_type": "execute_result"
    }
   ],
   "source": [
    "generar_tabla_recuento(base_filtrada_aux, \"Centro_estudios\", \"Centro de Estudios\",True, True)\n",
    "#descripcion_nivel_educativo = { 1 Estatal 2 No estatal}"
   ]
  },
  {
   "cell_type": "markdown",
   "id": "0792b75e-e6b7-42dd-8561-b059278a937e",
   "metadata": {},
   "source": [
    "#### Idioma y Sexo"
   ]
  },
  {
   "cell_type": "code",
   "execution_count": 38,
   "id": "829692a5",
   "metadata": {},
   "outputs": [
    {
     "data": {
      "text/html": [
       "<div>\n",
       "<style scoped>\n",
       "    .dataframe tbody tr th:only-of-type {\n",
       "        vertical-align: middle;\n",
       "    }\n",
       "\n",
       "    .dataframe tbody tr th {\n",
       "        vertical-align: top;\n",
       "    }\n",
       "\n",
       "    .dataframe thead th {\n",
       "        text-align: right;\n",
       "    }\n",
       "</style>\n",
       "<table border=\"1\" class=\"dataframe\">\n",
       "  <thead>\n",
       "    <tr style=\"text-align: right;\">\n",
       "      <th></th>\n",
       "      <th>Idioma</th>\n",
       "      <th>Recuento</th>\n",
       "      <th>Porcentaje</th>\n",
       "    </tr>\n",
       "  </thead>\n",
       "  <tbody>\n",
       "    <tr>\n",
       "      <th>0</th>\n",
       "      <td>Catellano</td>\n",
       "      <td>5,358,186</td>\n",
       "      <td>91.4</td>\n",
       "    </tr>\n",
       "    <tr>\n",
       "      <th>1</th>\n",
       "      <td>Otro</td>\n",
       "      <td>500,823</td>\n",
       "      <td>8.6</td>\n",
       "    </tr>\n",
       "    <tr>\n",
       "      <th>2</th>\n",
       "      <td>Total</td>\n",
       "      <td>5,859,010</td>\n",
       "      <td>100.0</td>\n",
       "    </tr>\n",
       "  </tbody>\n",
       "</table>\n",
       "</div>"
      ],
      "text/plain": [
       "      Idioma   Recuento Porcentaje\n",
       "0  Catellano  5,358,186       91.4\n",
       "1       Otro    500,823        8.6\n",
       "2      Total  5,859,010      100.0"
      ]
     },
     "execution_count": 38,
     "metadata": {},
     "output_type": "execute_result"
    }
   ],
   "source": [
    "generar_tabla_recuento(base_filtrada_aux, \"Idioma\", \"Idioma\",True, True)   #{1: \"Castellano\", 0: \"Otros\"}"
   ]
  },
  {
   "cell_type": "code",
   "execution_count": 39,
   "id": "18c84e20",
   "metadata": {},
   "outputs": [
    {
     "data": {
      "text/html": [
       "<div>\n",
       "<style scoped>\n",
       "    .dataframe tbody tr th:only-of-type {\n",
       "        vertical-align: middle;\n",
       "    }\n",
       "\n",
       "    .dataframe tbody tr th {\n",
       "        vertical-align: top;\n",
       "    }\n",
       "\n",
       "    .dataframe thead th {\n",
       "        text-align: right;\n",
       "    }\n",
       "</style>\n",
       "<table border=\"1\" class=\"dataframe\">\n",
       "  <thead>\n",
       "    <tr style=\"text-align: right;\">\n",
       "      <th></th>\n",
       "      <th>Sexo</th>\n",
       "      <th>Recuento</th>\n",
       "      <th>Porcentaje</th>\n",
       "    </tr>\n",
       "  </thead>\n",
       "  <tbody>\n",
       "    <tr>\n",
       "      <th>0</th>\n",
       "      <td>Hombre</td>\n",
       "      <td>2,976,590</td>\n",
       "      <td>50.8</td>\n",
       "    </tr>\n",
       "    <tr>\n",
       "      <th>1</th>\n",
       "      <td>Mujer</td>\n",
       "      <td>2,882,420</td>\n",
       "      <td>49.2</td>\n",
       "    </tr>\n",
       "    <tr>\n",
       "      <th>2</th>\n",
       "      <td>Total</td>\n",
       "      <td>5,859,010</td>\n",
       "      <td>100.0</td>\n",
       "    </tr>\n",
       "  </tbody>\n",
       "</table>\n",
       "</div>"
      ],
      "text/plain": [
       "     Sexo   Recuento Porcentaje\n",
       "0  Hombre  2,976,590       50.8\n",
       "1   Mujer  2,882,420       49.2\n",
       "2   Total  5,859,010      100.0"
      ]
     },
     "execution_count": 39,
     "metadata": {},
     "output_type": "execute_result"
    }
   ],
   "source": [
    "generar_tabla_recuento(base_filtrada_aux, \"Sexo\", \"Sexo\", True, True)  # 1 Hombre 2 Mujer ###########"
   ]
  },
  {
   "cell_type": "markdown",
   "id": "8486058c-0926-473c-994d-11478355e473",
   "metadata": {
    "tags": []
   },
   "source": [
    "#### Area y Estrato social"
   ]
  },
  {
   "cell_type": "code",
   "execution_count": 40,
   "id": "62fb5ab4",
   "metadata": {},
   "outputs": [
    {
     "data": {
      "text/html": [
       "<div>\n",
       "<style scoped>\n",
       "    .dataframe tbody tr th:only-of-type {\n",
       "        vertical-align: middle;\n",
       "    }\n",
       "\n",
       "    .dataframe tbody tr th {\n",
       "        vertical-align: top;\n",
       "    }\n",
       "\n",
       "    .dataframe thead th {\n",
       "        text-align: right;\n",
       "    }\n",
       "</style>\n",
       "<table border=\"1\" class=\"dataframe\">\n",
       "  <thead>\n",
       "    <tr style=\"text-align: right;\">\n",
       "      <th></th>\n",
       "      <th>Area</th>\n",
       "      <th>Recuento</th>\n",
       "      <th>Porcentaje</th>\n",
       "    </tr>\n",
       "  </thead>\n",
       "  <tbody>\n",
       "    <tr>\n",
       "      <th>0</th>\n",
       "      <td>Rural</td>\n",
       "      <td>1,499,957</td>\n",
       "      <td>25.6</td>\n",
       "    </tr>\n",
       "    <tr>\n",
       "      <th>1</th>\n",
       "      <td>Urbano</td>\n",
       "      <td>4,359,052</td>\n",
       "      <td>74.4</td>\n",
       "    </tr>\n",
       "    <tr>\n",
       "      <th>2</th>\n",
       "      <td>Total</td>\n",
       "      <td>5,859,010</td>\n",
       "      <td>100.0</td>\n",
       "    </tr>\n",
       "  </tbody>\n",
       "</table>\n",
       "</div>"
      ],
      "text/plain": [
       "     Area   Recuento Porcentaje\n",
       "0   Rural  1,499,957       25.6\n",
       "1  Urbano  4,359,052       74.4\n",
       "2   Total  5,859,010      100.0"
      ]
     },
     "execution_count": 40,
     "metadata": {},
     "output_type": "execute_result"
    }
   ],
   "source": [
    "generar_tabla_recuento(base_filtrada_aux, \"AREA\", \"Area\",True, True) #{1: \"Urbano\", 0: \"Rural\"}"
   ]
  },
  {
   "cell_type": "code",
   "execution_count": 41,
   "id": "739456e8",
   "metadata": {},
   "outputs": [
    {
     "data": {
      "text/html": [
       "<div>\n",
       "<style scoped>\n",
       "    .dataframe tbody tr th:only-of-type {\n",
       "        vertical-align: middle;\n",
       "    }\n",
       "\n",
       "    .dataframe tbody tr th {\n",
       "        vertical-align: top;\n",
       "    }\n",
       "\n",
       "    .dataframe thead th {\n",
       "        text-align: right;\n",
       "    }\n",
       "</style>\n",
       "<table border=\"1\" class=\"dataframe\">\n",
       "  <thead>\n",
       "    <tr style=\"text-align: right;\">\n",
       "      <th></th>\n",
       "      <th>Estrato Social</th>\n",
       "      <th>Recuento</th>\n",
       "      <th>Porcentaje</th>\n",
       "    </tr>\n",
       "  </thead>\n",
       "  <tbody>\n",
       "    <tr>\n",
       "      <th>0</th>\n",
       "      <td>A</td>\n",
       "      <td>38,924</td>\n",
       "      <td>0.7</td>\n",
       "    </tr>\n",
       "    <tr>\n",
       "      <th>1</th>\n",
       "      <td>B</td>\n",
       "      <td>114,387</td>\n",
       "      <td>2.0</td>\n",
       "    </tr>\n",
       "    <tr>\n",
       "      <th>2</th>\n",
       "      <td>C</td>\n",
       "      <td>399,166</td>\n",
       "      <td>6.8</td>\n",
       "    </tr>\n",
       "    <tr>\n",
       "      <th>3</th>\n",
       "      <td>D</td>\n",
       "      <td>1,516,322</td>\n",
       "      <td>25.9</td>\n",
       "    </tr>\n",
       "    <tr>\n",
       "      <th>4</th>\n",
       "      <td>E</td>\n",
       "      <td>2,290,252</td>\n",
       "      <td>39.1</td>\n",
       "    </tr>\n",
       "    <tr>\n",
       "      <th>5</th>\n",
       "      <td>rural</td>\n",
       "      <td>1,499,957</td>\n",
       "      <td>25.6</td>\n",
       "    </tr>\n",
       "    <tr>\n",
       "      <th>6</th>\n",
       "      <td>Total</td>\n",
       "      <td>5,859,010</td>\n",
       "      <td>100.0</td>\n",
       "    </tr>\n",
       "  </tbody>\n",
       "</table>\n",
       "</div>"
      ],
      "text/plain": [
       "  Estrato Social   Recuento Porcentaje\n",
       "0              A     38,924        0.7\n",
       "1              B    114,387        2.0\n",
       "2              C    399,166        6.8\n",
       "3              D  1,516,322       25.9\n",
       "4              E  2,290,252       39.1\n",
       "5          rural  1,499,957       25.6\n",
       "6          Total  5,859,010      100.0"
      ]
     },
     "execution_count": 41,
     "metadata": {},
     "output_type": "execute_result"
    }
   ],
   "source": [
    "generar_tabla_recuento(base_filtrada_aux, \"estrsocial\", \"Estrato Social\",True, True)\n",
    "# 1 “A” 2 “B” 3 “C” 4 “D” 5 “E” 6 “RURAL”"
   ]
  },
  {
   "cell_type": "markdown",
   "id": "edfe1e61-038d-4ee4-8213-149a8e7a09b6",
   "metadata": {},
   "source": [
    "#### Electricidad y Region"
   ]
  },
  {
   "cell_type": "code",
   "execution_count": 42,
   "id": "aae90ee2",
   "metadata": {},
   "outputs": [
    {
     "data": {
      "text/html": [
       "<div>\n",
       "<style scoped>\n",
       "    .dataframe tbody tr th:only-of-type {\n",
       "        vertical-align: middle;\n",
       "    }\n",
       "\n",
       "    .dataframe tbody tr th {\n",
       "        vertical-align: top;\n",
       "    }\n",
       "\n",
       "    .dataframe thead th {\n",
       "        text-align: right;\n",
       "    }\n",
       "</style>\n",
       "<table border=\"1\" class=\"dataframe\">\n",
       "  <thead>\n",
       "    <tr style=\"text-align: right;\">\n",
       "      <th></th>\n",
       "      <th>Electricidad</th>\n",
       "      <th>Recuento</th>\n",
       "      <th>Porcentaje</th>\n",
       "    </tr>\n",
       "  </thead>\n",
       "  <tbody>\n",
       "    <tr>\n",
       "      <th>0</th>\n",
       "      <td>No</td>\n",
       "      <td>284,632</td>\n",
       "      <td>4.9</td>\n",
       "    </tr>\n",
       "    <tr>\n",
       "      <th>1</th>\n",
       "      <td>Si</td>\n",
       "      <td>5,574,378</td>\n",
       "      <td>95.1</td>\n",
       "    </tr>\n",
       "    <tr>\n",
       "      <th>2</th>\n",
       "      <td>Total</td>\n",
       "      <td>5,859,010</td>\n",
       "      <td>100.0</td>\n",
       "    </tr>\n",
       "  </tbody>\n",
       "</table>\n",
       "</div>"
      ],
      "text/plain": [
       "  Electricidad   Recuento Porcentaje\n",
       "0           No    284,632        4.9\n",
       "1           Si  5,574,378       95.1\n",
       "2        Total  5,859,010      100.0"
      ]
     },
     "execution_count": 42,
     "metadata": {},
     "output_type": "execute_result"
    }
   ],
   "source": [
    "generar_tabla_recuento(base_filtrada_aux, \"Electricidad\", \"Electricidad\", True, True) ##################"
   ]
  },
  {
   "cell_type": "code",
   "execution_count": 43,
   "id": "e47501de-3fb8-4cb3-86b7-efaa627d1cdd",
   "metadata": {},
   "outputs": [],
   "source": [
    "#dict_region = { 1:1, 2:1, 3: 1, 4:2, 5:2, 6:2, 7:3, 8: 4}\n",
    "#merged_data[\"region\"] = merged_data[\"dominio\"].map(dict_region)"
   ]
  },
  {
   "cell_type": "markdown",
   "id": "17a05fc1-fa64-4e86-bde8-b8f957e7390e",
   "metadata": {},
   "source": [
    "#### Departamento"
   ]
  },
  {
   "cell_type": "code",
   "execution_count": 44,
   "id": "1a8ed003-1b21-4a0c-98d6-8538bfcf49f4",
   "metadata": {},
   "outputs": [
    {
     "data": {
      "text/html": [
       "<div>\n",
       "<style scoped>\n",
       "    .dataframe tbody tr th:only-of-type {\n",
       "        vertical-align: middle;\n",
       "    }\n",
       "\n",
       "    .dataframe tbody tr th {\n",
       "        vertical-align: top;\n",
       "    }\n",
       "\n",
       "    .dataframe thead th {\n",
       "        text-align: right;\n",
       "    }\n",
       "</style>\n",
       "<table border=\"1\" class=\"dataframe\">\n",
       "  <thead>\n",
       "    <tr style=\"text-align: right;\">\n",
       "      <th></th>\n",
       "      <th>Region</th>\n",
       "      <th>Recuento</th>\n",
       "      <th>Porcentaje</th>\n",
       "    </tr>\n",
       "  </thead>\n",
       "  <tbody>\n",
       "    <tr>\n",
       "      <th>0</th>\n",
       "      <td>Costa</td>\n",
       "      <td>3,012,239</td>\n",
       "      <td>51.4</td>\n",
       "    </tr>\n",
       "    <tr>\n",
       "      <th>1</th>\n",
       "      <td>Selva</td>\n",
       "      <td>914,551</td>\n",
       "      <td>15.6</td>\n",
       "    </tr>\n",
       "    <tr>\n",
       "      <th>2</th>\n",
       "      <td>Sierra</td>\n",
       "      <td>1,932,220</td>\n",
       "      <td>33.0</td>\n",
       "    </tr>\n",
       "    <tr>\n",
       "      <th>3</th>\n",
       "      <td>Total</td>\n",
       "      <td>5,859,010</td>\n",
       "      <td>100.0</td>\n",
       "    </tr>\n",
       "  </tbody>\n",
       "</table>\n",
       "</div>"
      ],
      "text/plain": [
       "   Region   Recuento Porcentaje\n",
       "0   Costa  3,012,239       51.4\n",
       "1   Selva    914,551       15.6\n",
       "2  Sierra  1,932,220       33.0\n",
       "3   Total  5,859,010      100.0"
      ]
     },
     "execution_count": 44,
     "metadata": {},
     "output_type": "execute_result"
    }
   ],
   "source": [
    "generar_tabla_recuento(base_filtrada_aux, \"Region\", \"Region\", True, True) ##################"
   ]
  },
  {
   "cell_type": "code",
   "execution_count": 45,
   "id": "068aaf64-c636-42aa-a14e-e765b19d02d9",
   "metadata": {},
   "outputs": [
    {
     "data": {
      "text/html": [
       "<div>\n",
       "<style scoped>\n",
       "    .dataframe tbody tr th:only-of-type {\n",
       "        vertical-align: middle;\n",
       "    }\n",
       "\n",
       "    .dataframe tbody tr th {\n",
       "        vertical-align: top;\n",
       "    }\n",
       "\n",
       "    .dataframe thead th {\n",
       "        text-align: right;\n",
       "    }\n",
       "</style>\n",
       "<table border=\"1\" class=\"dataframe\">\n",
       "  <thead>\n",
       "    <tr style=\"text-align: right;\">\n",
       "      <th></th>\n",
       "      <th>Departamento</th>\n",
       "      <th>Recuento</th>\n",
       "      <th>Porcentaje</th>\n",
       "    </tr>\n",
       "  </thead>\n",
       "  <tbody>\n",
       "    <tr>\n",
       "      <th>0</th>\n",
       "      <td>1</td>\n",
       "      <td>88,288</td>\n",
       "      <td>1.5</td>\n",
       "    </tr>\n",
       "    <tr>\n",
       "      <th>1</th>\n",
       "      <td>2</td>\n",
       "      <td>231,022</td>\n",
       "      <td>3.9</td>\n",
       "    </tr>\n",
       "    <tr>\n",
       "      <th>2</th>\n",
       "      <td>3</td>\n",
       "      <td>84,236</td>\n",
       "      <td>1.4</td>\n",
       "    </tr>\n",
       "    <tr>\n",
       "      <th>3</th>\n",
       "      <td>4</td>\n",
       "      <td>213,822</td>\n",
       "      <td>3.7</td>\n",
       "    </tr>\n",
       "    <tr>\n",
       "      <th>4</th>\n",
       "      <td>5</td>\n",
       "      <td>149,497</td>\n",
       "      <td>2.5</td>\n",
       "    </tr>\n",
       "    <tr>\n",
       "      <th>5</th>\n",
       "      <td>6</td>\n",
       "      <td>322,309</td>\n",
       "      <td>5.5</td>\n",
       "    </tr>\n",
       "    <tr>\n",
       "      <th>6</th>\n",
       "      <td>7</td>\n",
       "      <td>177,260</td>\n",
       "      <td>3.0</td>\n",
       "    </tr>\n",
       "    <tr>\n",
       "      <th>7</th>\n",
       "      <td>8</td>\n",
       "      <td>256,017</td>\n",
       "      <td>4.4</td>\n",
       "    </tr>\n",
       "    <tr>\n",
       "      <th>8</th>\n",
       "      <td>9</td>\n",
       "      <td>107,773</td>\n",
       "      <td>1.8</td>\n",
       "    </tr>\n",
       "    <tr>\n",
       "      <th>9</th>\n",
       "      <td>10</td>\n",
       "      <td>188,786</td>\n",
       "      <td>3.2</td>\n",
       "    </tr>\n",
       "    <tr>\n",
       "      <th>10</th>\n",
       "      <td>11</td>\n",
       "      <td>145,360</td>\n",
       "      <td>2.5</td>\n",
       "    </tr>\n",
       "    <tr>\n",
       "      <th>11</th>\n",
       "      <td>12</td>\n",
       "      <td>254,574</td>\n",
       "      <td>4.3</td>\n",
       "    </tr>\n",
       "    <tr>\n",
       "      <th>12</th>\n",
       "      <td>13</td>\n",
       "      <td>357,089</td>\n",
       "      <td>6.1</td>\n",
       "    </tr>\n",
       "    <tr>\n",
       "      <th>13</th>\n",
       "      <td>14</td>\n",
       "      <td>225,301</td>\n",
       "      <td>3.8</td>\n",
       "    </tr>\n",
       "    <tr>\n",
       "      <th>14</th>\n",
       "      <td>15</td>\n",
       "      <td>1,599,616</td>\n",
       "      <td>27.3</td>\n",
       "    </tr>\n",
       "    <tr>\n",
       "      <th>15</th>\n",
       "      <td>16</td>\n",
       "      <td>258,672</td>\n",
       "      <td>4.4</td>\n",
       "    </tr>\n",
       "    <tr>\n",
       "      <th>16</th>\n",
       "      <td>17</td>\n",
       "      <td>27,521</td>\n",
       "      <td>0.5</td>\n",
       "    </tr>\n",
       "    <tr>\n",
       "      <th>17</th>\n",
       "      <td>18</td>\n",
       "      <td>29,779</td>\n",
       "      <td>0.5</td>\n",
       "    </tr>\n",
       "    <tr>\n",
       "      <th>18</th>\n",
       "      <td>19</td>\n",
       "      <td>58,667</td>\n",
       "      <td>1.0</td>\n",
       "    </tr>\n",
       "    <tr>\n",
       "      <th>19</th>\n",
       "      <td>20</td>\n",
       "      <td>402,331</td>\n",
       "      <td>6.9</td>\n",
       "    </tr>\n",
       "    <tr>\n",
       "      <th>20</th>\n",
       "      <td>21</td>\n",
       "      <td>269,069</td>\n",
       "      <td>4.6</td>\n",
       "    </tr>\n",
       "    <tr>\n",
       "      <th>21</th>\n",
       "      <td>22</td>\n",
       "      <td>186,626</td>\n",
       "      <td>3.2</td>\n",
       "    </tr>\n",
       "    <tr>\n",
       "      <th>22</th>\n",
       "      <td>23</td>\n",
       "      <td>54,078</td>\n",
       "      <td>0.9</td>\n",
       "    </tr>\n",
       "    <tr>\n",
       "      <th>23</th>\n",
       "      <td>24</td>\n",
       "      <td>53,250</td>\n",
       "      <td>0.9</td>\n",
       "    </tr>\n",
       "    <tr>\n",
       "      <th>24</th>\n",
       "      <td>25</td>\n",
       "      <td>118,065</td>\n",
       "      <td>2.0</td>\n",
       "    </tr>\n",
       "    <tr>\n",
       "      <th>25</th>\n",
       "      <td>Total</td>\n",
       "      <td>5,859,010</td>\n",
       "      <td>100.0</td>\n",
       "    </tr>\n",
       "  </tbody>\n",
       "</table>\n",
       "</div>"
      ],
      "text/plain": [
       "   Departamento   Recuento Porcentaje\n",
       "0             1     88,288        1.5\n",
       "1             2    231,022        3.9\n",
       "2             3     84,236        1.4\n",
       "3             4    213,822        3.7\n",
       "4             5    149,497        2.5\n",
       "5             6    322,309        5.5\n",
       "6             7    177,260        3.0\n",
       "7             8    256,017        4.4\n",
       "8             9    107,773        1.8\n",
       "9            10    188,786        3.2\n",
       "10           11    145,360        2.5\n",
       "11           12    254,574        4.3\n",
       "12           13    357,089        6.1\n",
       "13           14    225,301        3.8\n",
       "14           15  1,599,616       27.3\n",
       "15           16    258,672        4.4\n",
       "16           17     27,521        0.5\n",
       "17           18     29,779        0.5\n",
       "18           19     58,667        1.0\n",
       "19           20    402,331        6.9\n",
       "20           21    269,069        4.6\n",
       "21           22    186,626        3.2\n",
       "22           23     54,078        0.9\n",
       "23           24     53,250        0.9\n",
       "24           25    118,065        2.0\n",
       "25        Total  5,859,010      100.0"
      ]
     },
     "execution_count": 45,
     "metadata": {},
     "output_type": "execute_result"
    }
   ],
   "source": [
    "generar_tabla_recuento(base_filtrada_aux, \"DEPARTAMENTO\", \"Departamento\", True, True) ##################"
   ]
  },
  {
   "cell_type": "markdown",
   "id": "4a9613a7-b140-4b32-b520-247fddb7a175",
   "metadata": {},
   "source": [
    "## DIMENSION DE ACCESO"
   ]
  },
  {
   "cell_type": "code",
   "execution_count": 46,
   "id": "6f3ee94d-7b4a-4149-92a0-5e5304d59cd4",
   "metadata": {},
   "outputs": [
    {
     "data": {
      "text/html": [
       "<div>\n",
       "<style scoped>\n",
       "    .dataframe tbody tr th:only-of-type {\n",
       "        vertical-align: middle;\n",
       "    }\n",
       "\n",
       "    .dataframe tbody tr th {\n",
       "        vertical-align: top;\n",
       "    }\n",
       "\n",
       "    .dataframe thead th {\n",
       "        text-align: right;\n",
       "    }\n",
       "</style>\n",
       "<table border=\"1\" class=\"dataframe\">\n",
       "  <thead>\n",
       "    <tr style=\"text-align: right;\">\n",
       "      <th></th>\n",
       "      <th>Uso teléfono celular propio</th>\n",
       "      <th>Recuento</th>\n",
       "      <th>Porcentaje</th>\n",
       "    </tr>\n",
       "  </thead>\n",
       "  <tbody>\n",
       "    <tr>\n",
       "      <th>0</th>\n",
       "      <td>0.0</td>\n",
       "      <td>4,481,732</td>\n",
       "      <td>76.5</td>\n",
       "    </tr>\n",
       "    <tr>\n",
       "      <th>1</th>\n",
       "      <td>1.0</td>\n",
       "      <td>1,377,277</td>\n",
       "      <td>23.5</td>\n",
       "    </tr>\n",
       "    <tr>\n",
       "      <th>2</th>\n",
       "      <td>Total</td>\n",
       "      <td>5,859,010</td>\n",
       "      <td>100.0</td>\n",
       "    </tr>\n",
       "  </tbody>\n",
       "</table>\n",
       "</div>"
      ],
      "text/plain": [
       "  Uso teléfono celular propio   Recuento Porcentaje\n",
       "0                         0.0  4,481,732       76.5\n",
       "1                         1.0  1,377,277       23.5\n",
       "2                       Total  5,859,010      100.0"
      ]
     },
     "execution_count": 46,
     "metadata": {},
     "output_type": "execute_result"
    }
   ],
   "source": [
    "generar_tabla_recuento(base_filtrada, \"cel_uso\" , \"Uso teléfono celular propio\", True, True)"
   ]
  },
  {
   "cell_type": "code",
   "execution_count": 47,
   "id": "c1088008-2936-4c4b-9279-ea74ac6e631c",
   "metadata": {},
   "outputs": [
    {
     "data": {
      "text/html": [
       "<div>\n",
       "<style scoped>\n",
       "    .dataframe tbody tr th:only-of-type {\n",
       "        vertical-align: middle;\n",
       "    }\n",
       "\n",
       "    .dataframe tbody tr th {\n",
       "        vertical-align: top;\n",
       "    }\n",
       "\n",
       "    .dataframe thead th {\n",
       "        text-align: right;\n",
       "    }\n",
       "</style>\n",
       "<table border=\"1\" class=\"dataframe\">\n",
       "  <thead>\n",
       "    <tr style=\"text-align: right;\">\n",
       "      <th></th>\n",
       "      <th>Teléfono Celular - Hogar</th>\n",
       "      <th>Recuento</th>\n",
       "      <th>Porcentaje</th>\n",
       "    </tr>\n",
       "  </thead>\n",
       "  <tbody>\n",
       "    <tr>\n",
       "      <th>0</th>\n",
       "      <td>0.0</td>\n",
       "      <td>110,958</td>\n",
       "      <td>1.9</td>\n",
       "    </tr>\n",
       "    <tr>\n",
       "      <th>1</th>\n",
       "      <td>1.0</td>\n",
       "      <td>5,748,052</td>\n",
       "      <td>98.1</td>\n",
       "    </tr>\n",
       "    <tr>\n",
       "      <th>2</th>\n",
       "      <td>Total</td>\n",
       "      <td>5,859,010</td>\n",
       "      <td>100.0</td>\n",
       "    </tr>\n",
       "  </tbody>\n",
       "</table>\n",
       "</div>"
      ],
      "text/plain": [
       "  Teléfono Celular - Hogar   Recuento Porcentaje\n",
       "0                      0.0    110,958        1.9\n",
       "1                      1.0  5,748,052       98.1\n",
       "2                    Total  5,859,010      100.0"
      ]
     },
     "execution_count": 47,
     "metadata": {},
     "output_type": "execute_result"
    }
   ],
   "source": [
    "generar_tabla_recuento(base_filtrada, \"cel_hog\", \"Teléfono Celular - Hogar\",True, True) #u hogar tiene : ¿ Conexión a Internet? 1 Conexión a Internet"
   ]
  },
  {
   "cell_type": "code",
   "execution_count": 48,
   "id": "86dbae2c-1812-495f-bb1e-9ce79da6fedb",
   "metadata": {},
   "outputs": [
    {
     "data": {
      "text/html": [
       "<div>\n",
       "<style scoped>\n",
       "    .dataframe tbody tr th:only-of-type {\n",
       "        vertical-align: middle;\n",
       "    }\n",
       "\n",
       "    .dataframe tbody tr th {\n",
       "        vertical-align: top;\n",
       "    }\n",
       "\n",
       "    .dataframe thead th {\n",
       "        text-align: right;\n",
       "    }\n",
       "</style>\n",
       "<table border=\"1\" class=\"dataframe\">\n",
       "  <thead>\n",
       "    <tr style=\"text-align: right;\">\n",
       "      <th></th>\n",
       "      <th>Conexión a TV cable o satelital - Hogar</th>\n",
       "      <th>Recuento</th>\n",
       "      <th>Porcentaje</th>\n",
       "    </tr>\n",
       "  </thead>\n",
       "  <tbody>\n",
       "    <tr>\n",
       "      <th>0</th>\n",
       "      <td>0.0</td>\n",
       "      <td>4,132,483</td>\n",
       "      <td>70.5</td>\n",
       "    </tr>\n",
       "    <tr>\n",
       "      <th>1</th>\n",
       "      <td>1.0</td>\n",
       "      <td>1,726,527</td>\n",
       "      <td>29.5</td>\n",
       "    </tr>\n",
       "    <tr>\n",
       "      <th>2</th>\n",
       "      <td>Total</td>\n",
       "      <td>5,859,010</td>\n",
       "      <td>100.0</td>\n",
       "    </tr>\n",
       "  </tbody>\n",
       "</table>\n",
       "</div>"
      ],
      "text/plain": [
       "  Conexión a TV cable o satelital - Hogar   Recuento Porcentaje\n",
       "0                                     0.0  4,132,483       70.5\n",
       "1                                     1.0  1,726,527       29.5\n",
       "2                                   Total  5,859,010      100.0"
      ]
     },
     "execution_count": 48,
     "metadata": {},
     "output_type": "execute_result"
    }
   ],
   "source": [
    "generar_tabla_recuento(base_filtrada, \"conexion_cable_hog\", \"Conexión a TV cable o satelital - Hogar\",True, True) #u hogar tiene : ¿ Conexión a Internet? 1 Conexión a Internet"
   ]
  },
  {
   "cell_type": "code",
   "execution_count": 49,
   "id": "5aa8c64e-910e-4722-a103-880737deda45",
   "metadata": {},
   "outputs": [
    {
     "data": {
      "text/html": [
       "<div>\n",
       "<style scoped>\n",
       "    .dataframe tbody tr th:only-of-type {\n",
       "        vertical-align: middle;\n",
       "    }\n",
       "\n",
       "    .dataframe tbody tr th {\n",
       "        vertical-align: top;\n",
       "    }\n",
       "\n",
       "    .dataframe thead th {\n",
       "        text-align: right;\n",
       "    }\n",
       "</style>\n",
       "<table border=\"1\" class=\"dataframe\">\n",
       "  <thead>\n",
       "    <tr style=\"text-align: right;\">\n",
       "      <th></th>\n",
       "      <th>Conexión a Internet - Hogar</th>\n",
       "      <th>Recuento</th>\n",
       "      <th>Porcentaje</th>\n",
       "    </tr>\n",
       "  </thead>\n",
       "  <tbody>\n",
       "    <tr>\n",
       "      <th>0</th>\n",
       "      <td>0.0</td>\n",
       "      <td>3,609,799</td>\n",
       "      <td>61.6</td>\n",
       "    </tr>\n",
       "    <tr>\n",
       "      <th>1</th>\n",
       "      <td>1.0</td>\n",
       "      <td>2,249,210</td>\n",
       "      <td>38.4</td>\n",
       "    </tr>\n",
       "    <tr>\n",
       "      <th>2</th>\n",
       "      <td>Total</td>\n",
       "      <td>5,859,010</td>\n",
       "      <td>100.0</td>\n",
       "    </tr>\n",
       "  </tbody>\n",
       "</table>\n",
       "</div>"
      ],
      "text/plain": [
       "  Conexión a Internet - Hogar   Recuento Porcentaje\n",
       "0                         0.0  3,609,799       61.6\n",
       "1                         1.0  2,249,210       38.4\n",
       "2                       Total  5,859,010      100.0"
      ]
     },
     "execution_count": 49,
     "metadata": {},
     "output_type": "execute_result"
    }
   ],
   "source": [
    "generar_tabla_recuento(base_filtrada, \"i_conexion_hog\", \"Conexión a Internet - Hogar\",True, True) #u hogar tiene : ¿ Conexión a Internet? 1 Conexión a Internet"
   ]
  },
  {
   "cell_type": "code",
   "execution_count": 50,
   "id": "359ea16e-4471-444b-ba8c-7051c674b58f",
   "metadata": {},
   "outputs": [
    {
     "data": {
      "text/html": [
       "<div>\n",
       "<style scoped>\n",
       "    .dataframe tbody tr th:only-of-type {\n",
       "        vertical-align: middle;\n",
       "    }\n",
       "\n",
       "    .dataframe tbody tr th {\n",
       "        vertical-align: top;\n",
       "    }\n",
       "\n",
       "    .dataframe thead th {\n",
       "        text-align: right;\n",
       "    }\n",
       "</style>\n",
       "<table border=\"1\" class=\"dataframe\">\n",
       "  <thead>\n",
       "    <tr style=\"text-align: right;\">\n",
       "      <th></th>\n",
       "      <th>Uso_tablet_computadora_laptop</th>\n",
       "      <th>Recuento</th>\n",
       "      <th>Porcentaje</th>\n",
       "    </tr>\n",
       "  </thead>\n",
       "  <tbody>\n",
       "    <tr>\n",
       "      <th>0</th>\n",
       "      <td>0.0</td>\n",
       "      <td>488,969</td>\n",
       "      <td>60.3</td>\n",
       "    </tr>\n",
       "    <tr>\n",
       "      <th>1</th>\n",
       "      <td>1.0</td>\n",
       "      <td>322,152</td>\n",
       "      <td>39.7</td>\n",
       "    </tr>\n",
       "    <tr>\n",
       "      <th>2</th>\n",
       "      <td>Total</td>\n",
       "      <td>811,121</td>\n",
       "      <td>100.0</td>\n",
       "    </tr>\n",
       "  </tbody>\n",
       "</table>\n",
       "</div>"
      ],
      "text/plain": [
       "  Uso_tablet_computadora_laptop Recuento Porcentaje\n",
       "0                           0.0  488,969       60.3\n",
       "1                           1.0  322,152       39.7\n",
       "2                         Total  811,121      100.0"
      ]
     },
     "execution_count": 50,
     "metadata": {},
     "output_type": "execute_result"
    }
   ],
   "source": [
    "generar_tabla_recuento(base_filtrada, \"uso_cp_lp\", \"Uso_tablet_computadora_laptop\",True, True) #u hogar tiene : ¿ Conexión a Internet? 1 Conexión a Internet"
   ]
  },
  {
   "cell_type": "markdown",
   "id": "dc063270-f5b0-416a-9b50-67c1684a4f70",
   "metadata": {
    "tags": []
   },
   "source": [
    "## USO SERVICIO DE INTERNET"
   ]
  },
  {
   "cell_type": "markdown",
   "id": "846f4dff-34fc-454f-92f1-9c10f1780df8",
   "metadata": {},
   "source": [
    "### Uso de Internet"
   ]
  },
  {
   "cell_type": "code",
   "execution_count": 51,
   "id": "3f36de65",
   "metadata": {},
   "outputs": [
    {
     "data": {
      "text/html": [
       "<div>\n",
       "<style scoped>\n",
       "    .dataframe tbody tr th:only-of-type {\n",
       "        vertical-align: middle;\n",
       "    }\n",
       "\n",
       "    .dataframe tbody tr th {\n",
       "        vertical-align: top;\n",
       "    }\n",
       "\n",
       "    .dataframe thead th {\n",
       "        text-align: right;\n",
       "    }\n",
       "</style>\n",
       "<table border=\"1\" class=\"dataframe\">\n",
       "  <thead>\n",
       "    <tr style=\"text-align: right;\">\n",
       "      <th></th>\n",
       "      <th>Uso Internet</th>\n",
       "      <th>Recuento</th>\n",
       "      <th>Porcentaje</th>\n",
       "    </tr>\n",
       "  </thead>\n",
       "  <tbody>\n",
       "    <tr>\n",
       "      <th>0</th>\n",
       "      <td>0</td>\n",
       "      <td>1,666,713</td>\n",
       "      <td>28.5</td>\n",
       "    </tr>\n",
       "    <tr>\n",
       "      <th>1</th>\n",
       "      <td>1</td>\n",
       "      <td>4,192,297</td>\n",
       "      <td>71.6</td>\n",
       "    </tr>\n",
       "    <tr>\n",
       "      <th>2</th>\n",
       "      <td>Total</td>\n",
       "      <td>5,859,010</td>\n",
       "      <td>100.0</td>\n",
       "    </tr>\n",
       "  </tbody>\n",
       "</table>\n",
       "</div>"
      ],
      "text/plain": [
       "  Uso Internet   Recuento Porcentaje\n",
       "0            0  1,666,713       28.5\n",
       "1            1  4,192,297       71.6\n",
       "2        Total  5,859,010      100.0"
      ]
     },
     "execution_count": 51,
     "metadata": {},
     "output_type": "execute_result"
    }
   ],
   "source": [
    "generar_tabla_recuento(base_filtrada, \"i_uso\", \"Uso Internet\",  True, True)  \n",
    "#En el mes anterior, ¿ Ud. hizo uso del Servicio de Internet? 1 Si 2 No"
   ]
  },
  {
   "cell_type": "markdown",
   "id": "1d45bf7b-1bef-4fbe-bc1a-89fa164e9d3f",
   "metadata": {},
   "source": [
    "## LUGAR DE USO DEL SERVICIO DE INTERNET"
   ]
  },
  {
   "cell_type": "markdown",
   "id": "78cf6817-9a6e-4e5f-8e73-221e528d8f83",
   "metadata": {},
   "source": [
    "### Uso de Internet en el hogar - Y"
   ]
  },
  {
   "cell_type": "code",
   "execution_count": 52,
   "id": "85886290",
   "metadata": {},
   "outputs": [
    {
     "data": {
      "text/html": [
       "<div>\n",
       "<style scoped>\n",
       "    .dataframe tbody tr th:only-of-type {\n",
       "        vertical-align: middle;\n",
       "    }\n",
       "\n",
       "    .dataframe tbody tr th {\n",
       "        vertical-align: top;\n",
       "    }\n",
       "\n",
       "    .dataframe thead th {\n",
       "        text-align: right;\n",
       "    }\n",
       "</style>\n",
       "<table border=\"1\" class=\"dataframe\">\n",
       "  <thead>\n",
       "    <tr style=\"text-align: right;\">\n",
       "      <th></th>\n",
       "      <th>Uso de Internet en el hogar</th>\n",
       "      <th>Recuento</th>\n",
       "      <th>Porcentaje</th>\n",
       "    </tr>\n",
       "  </thead>\n",
       "  <tbody>\n",
       "    <tr>\n",
       "      <th>0</th>\n",
       "      <td>0.0</td>\n",
       "      <td>1,417,409</td>\n",
       "      <td>74.7</td>\n",
       "    </tr>\n",
       "    <tr>\n",
       "      <th>1</th>\n",
       "      <td>1.0</td>\n",
       "      <td>479,751</td>\n",
       "      <td>25.3</td>\n",
       "    </tr>\n",
       "    <tr>\n",
       "      <th>2</th>\n",
       "      <td>Total</td>\n",
       "      <td>1,897,160</td>\n",
       "      <td>100.0</td>\n",
       "    </tr>\n",
       "  </tbody>\n",
       "</table>\n",
       "</div>"
      ],
      "text/plain": [
       "  Uso de Internet en el hogar   Recuento Porcentaje\n",
       "0                         0.0  1,417,409       74.7\n",
       "1                         1.0    479,751       25.3\n",
       "2                       Total  1,897,160      100.0"
      ]
     },
     "execution_count": 52,
     "metadata": {},
     "output_type": "execute_result"
    }
   ],
   "source": [
    "generar_tabla_recuento(base_filtrada, \"i_uso_hog\", \"Uso de Internet en el hogar\",True, True)"
   ]
  },
  {
   "cell_type": "markdown",
   "id": "d3efadb0-2ef7-4aa5-9330-22a1cdfa1518",
   "metadata": {},
   "source": [
    "### Uso de Internet en el trabajo"
   ]
  },
  {
   "cell_type": "code",
   "execution_count": 53,
   "id": "59eb5158",
   "metadata": {},
   "outputs": [
    {
     "data": {
      "text/html": [
       "<div>\n",
       "<style scoped>\n",
       "    .dataframe tbody tr th:only-of-type {\n",
       "        vertical-align: middle;\n",
       "    }\n",
       "\n",
       "    .dataframe tbody tr th {\n",
       "        vertical-align: top;\n",
       "    }\n",
       "\n",
       "    .dataframe thead th {\n",
       "        text-align: right;\n",
       "    }\n",
       "</style>\n",
       "<table border=\"1\" class=\"dataframe\">\n",
       "  <thead>\n",
       "    <tr style=\"text-align: right;\">\n",
       "      <th></th>\n",
       "      <th>Uso de Internet en el trabajo</th>\n",
       "      <th>Recuento</th>\n",
       "      <th>Porcentaje</th>\n",
       "    </tr>\n",
       "  </thead>\n",
       "  <tbody>\n",
       "    <tr>\n",
       "      <th>0</th>\n",
       "      <td>0.0</td>\n",
       "      <td>1,894,388</td>\n",
       "      <td>99.8</td>\n",
       "    </tr>\n",
       "    <tr>\n",
       "      <th>1</th>\n",
       "      <td>1.0</td>\n",
       "      <td>2,772</td>\n",
       "      <td>0.2</td>\n",
       "    </tr>\n",
       "    <tr>\n",
       "      <th>2</th>\n",
       "      <td>Total</td>\n",
       "      <td>1,897,160</td>\n",
       "      <td>100.0</td>\n",
       "    </tr>\n",
       "  </tbody>\n",
       "</table>\n",
       "</div>"
      ],
      "text/plain": [
       "  Uso de Internet en el trabajo   Recuento Porcentaje\n",
       "0                           0.0  1,894,388       99.8\n",
       "1                           1.0      2,772        0.2\n",
       "2                         Total  1,897,160      100.0"
      ]
     },
     "execution_count": 53,
     "metadata": {},
     "output_type": "execute_result"
    }
   ],
   "source": [
    "generar_tabla_recuento(base_filtrada, \"i_uso_trab\", \"Uso de Internet en el trabajo\",True, True)"
   ]
  },
  {
   "cell_type": "markdown",
   "id": "fc4de12b-0e9e-4146-84fc-6e13ca637b3b",
   "metadata": {},
   "source": [
    "### Uso de internet en el establecimiento educativo"
   ]
  },
  {
   "cell_type": "code",
   "execution_count": 54,
   "id": "18038ec0",
   "metadata": {},
   "outputs": [
    {
     "data": {
      "text/html": [
       "<div>\n",
       "<style scoped>\n",
       "    .dataframe tbody tr th:only-of-type {\n",
       "        vertical-align: middle;\n",
       "    }\n",
       "\n",
       "    .dataframe tbody tr th {\n",
       "        vertical-align: top;\n",
       "    }\n",
       "\n",
       "    .dataframe thead th {\n",
       "        text-align: right;\n",
       "    }\n",
       "</style>\n",
       "<table border=\"1\" class=\"dataframe\">\n",
       "  <thead>\n",
       "    <tr style=\"text-align: right;\">\n",
       "      <th></th>\n",
       "      <th>Uso de Internet en el establecimiento educativo</th>\n",
       "      <th>Recuento</th>\n",
       "      <th>Porcentaje</th>\n",
       "    </tr>\n",
       "  </thead>\n",
       "  <tbody>\n",
       "    <tr>\n",
       "      <th>0</th>\n",
       "      <td>0.0</td>\n",
       "      <td>1,892,725</td>\n",
       "      <td>99.8</td>\n",
       "    </tr>\n",
       "    <tr>\n",
       "      <th>1</th>\n",
       "      <td>1.0</td>\n",
       "      <td>4,436</td>\n",
       "      <td>0.2</td>\n",
       "    </tr>\n",
       "    <tr>\n",
       "      <th>2</th>\n",
       "      <td>Total</td>\n",
       "      <td>1,897,160</td>\n",
       "      <td>100.0</td>\n",
       "    </tr>\n",
       "  </tbody>\n",
       "</table>\n",
       "</div>"
      ],
      "text/plain": [
       "  Uso de Internet en el establecimiento educativo   Recuento Porcentaje\n",
       "0                                             0.0  1,892,725       99.8\n",
       "1                                             1.0      4,436        0.2\n",
       "2                                           Total  1,897,160      100.0"
      ]
     },
     "execution_count": 54,
     "metadata": {},
     "output_type": "execute_result"
    }
   ],
   "source": [
    "generar_tabla_recuento(base_filtrada, \"i_uso_cedu\", \"Uso de Internet en el establecimiento educativo\",True, True)"
   ]
  },
  {
   "cell_type": "markdown",
   "id": "b30bbc4f-35ae-4475-9d9f-53c9ab8b0c9b",
   "metadata": {},
   "source": [
    "### Uso de internet en cabina publica"
   ]
  },
  {
   "cell_type": "code",
   "execution_count": 55,
   "id": "883986d2",
   "metadata": {},
   "outputs": [
    {
     "data": {
      "text/html": [
       "<div>\n",
       "<style scoped>\n",
       "    .dataframe tbody tr th:only-of-type {\n",
       "        vertical-align: middle;\n",
       "    }\n",
       "\n",
       "    .dataframe tbody tr th {\n",
       "        vertical-align: top;\n",
       "    }\n",
       "\n",
       "    .dataframe thead th {\n",
       "        text-align: right;\n",
       "    }\n",
       "</style>\n",
       "<table border=\"1\" class=\"dataframe\">\n",
       "  <thead>\n",
       "    <tr style=\"text-align: right;\">\n",
       "      <th></th>\n",
       "      <th>Uso de Internet en Cabina Publica</th>\n",
       "      <th>Recuento</th>\n",
       "      <th>Porcentaje</th>\n",
       "    </tr>\n",
       "  </thead>\n",
       "  <tbody>\n",
       "    <tr>\n",
       "      <th>0</th>\n",
       "      <td>0.0</td>\n",
       "      <td>1,839,366</td>\n",
       "      <td>96.9</td>\n",
       "    </tr>\n",
       "    <tr>\n",
       "      <th>1</th>\n",
       "      <td>1.0</td>\n",
       "      <td>57,794</td>\n",
       "      <td>3.0</td>\n",
       "    </tr>\n",
       "    <tr>\n",
       "      <th>2</th>\n",
       "      <td>Total</td>\n",
       "      <td>1,897,160</td>\n",
       "      <td>100.0</td>\n",
       "    </tr>\n",
       "  </tbody>\n",
       "</table>\n",
       "</div>"
      ],
      "text/plain": [
       "  Uso de Internet en Cabina Publica   Recuento Porcentaje\n",
       "0                               0.0  1,839,366       96.9\n",
       "1                               1.0     57,794        3.0\n",
       "2                             Total  1,897,160      100.0"
      ]
     },
     "execution_count": 55,
     "metadata": {},
     "output_type": "execute_result"
    }
   ],
   "source": [
    "generar_tabla_recuento(base_filtrada, \"i_uso_cab\", \"Uso de Internet en Cabina Publica\",True, True)"
   ]
  },
  {
   "cell_type": "markdown",
   "id": "ce033f87-8daf-4e27-8bd2-8f8ffce36bbe",
   "metadata": {},
   "source": [
    "### Uso de internet en casa de otra persona"
   ]
  },
  {
   "cell_type": "code",
   "execution_count": 56,
   "id": "54979fa1",
   "metadata": {},
   "outputs": [
    {
     "data": {
      "text/html": [
       "<div>\n",
       "<style scoped>\n",
       "    .dataframe tbody tr th:only-of-type {\n",
       "        vertical-align: middle;\n",
       "    }\n",
       "\n",
       "    .dataframe tbody tr th {\n",
       "        vertical-align: top;\n",
       "    }\n",
       "\n",
       "    .dataframe thead th {\n",
       "        text-align: right;\n",
       "    }\n",
       "</style>\n",
       "<table border=\"1\" class=\"dataframe\">\n",
       "  <thead>\n",
       "    <tr style=\"text-align: right;\">\n",
       "      <th></th>\n",
       "      <th>Uso del internet en casa de otra persona</th>\n",
       "      <th>Recuento</th>\n",
       "      <th>Porcentaje</th>\n",
       "    </tr>\n",
       "  </thead>\n",
       "  <tbody>\n",
       "    <tr>\n",
       "      <th>0</th>\n",
       "      <td>0.0</td>\n",
       "      <td>1,856,530</td>\n",
       "      <td>97.9</td>\n",
       "    </tr>\n",
       "    <tr>\n",
       "      <th>1</th>\n",
       "      <td>1.0</td>\n",
       "      <td>40,630</td>\n",
       "      <td>2.1</td>\n",
       "    </tr>\n",
       "    <tr>\n",
       "      <th>2</th>\n",
       "      <td>Total</td>\n",
       "      <td>1,897,160</td>\n",
       "      <td>100.0</td>\n",
       "    </tr>\n",
       "  </tbody>\n",
       "</table>\n",
       "</div>"
      ],
      "text/plain": [
       "  Uso del internet en casa de otra persona   Recuento Porcentaje\n",
       "0                                      0.0  1,856,530       97.9\n",
       "1                                      1.0     40,630        2.1\n",
       "2                                    Total  1,897,160      100.0"
      ]
     },
     "execution_count": 56,
     "metadata": {},
     "output_type": "execute_result"
    }
   ],
   "source": [
    "generar_tabla_recuento(base_filtrada, \"i_uso_casotr\", \"Uso del internet en casa de otra persona\",True, True)"
   ]
  },
  {
   "cell_type": "markdown",
   "id": "9ca0d7a7-9294-4411-ac12-019ff15309fc",
   "metadata": {
    "tags": []
   },
   "source": [
    "### Uso de internet - Otro"
   ]
  },
  {
   "cell_type": "code",
   "execution_count": 57,
   "id": "4af43274",
   "metadata": {},
   "outputs": [
    {
     "data": {
      "text/html": [
       "<div>\n",
       "<style scoped>\n",
       "    .dataframe tbody tr th:only-of-type {\n",
       "        vertical-align: middle;\n",
       "    }\n",
       "\n",
       "    .dataframe tbody tr th {\n",
       "        vertical-align: top;\n",
       "    }\n",
       "\n",
       "    .dataframe thead th {\n",
       "        text-align: right;\n",
       "    }\n",
       "</style>\n",
       "<table border=\"1\" class=\"dataframe\">\n",
       "  <thead>\n",
       "    <tr style=\"text-align: right;\">\n",
       "      <th></th>\n",
       "      <th>Otro</th>\n",
       "      <th>Recuento</th>\n",
       "      <th>Porcentaje</th>\n",
       "    </tr>\n",
       "  </thead>\n",
       "  <tbody>\n",
       "    <tr>\n",
       "      <th>0</th>\n",
       "      <td>0.0</td>\n",
       "      <td>1,876,377</td>\n",
       "      <td>98.9</td>\n",
       "    </tr>\n",
       "    <tr>\n",
       "      <th>1</th>\n",
       "      <td>1.0</td>\n",
       "      <td>20,783</td>\n",
       "      <td>1.1</td>\n",
       "    </tr>\n",
       "    <tr>\n",
       "      <th>2</th>\n",
       "      <td>Total</td>\n",
       "      <td>1,897,160</td>\n",
       "      <td>100.0</td>\n",
       "    </tr>\n",
       "  </tbody>\n",
       "</table>\n",
       "</div>"
      ],
      "text/plain": [
       "    Otro   Recuento Porcentaje\n",
       "0    0.0  1,876,377       98.9\n",
       "1    1.0     20,783        1.1\n",
       "2  Total  1,897,160      100.0"
      ]
     },
     "execution_count": 57,
     "metadata": {},
     "output_type": "execute_result"
    }
   ],
   "source": [
    "generar_tabla_recuento(base_filtrada, \"i_uso_otro\", \"Otro\",True, True)"
   ]
  },
  {
   "cell_type": "markdown",
   "id": "b6693f16-229b-4ffd-99da-7f64854e3d0d",
   "metadata": {
    "tags": []
   },
   "source": [
    "### Acceso movil"
   ]
  },
  {
   "cell_type": "code",
   "execution_count": 58,
   "id": "6f004976",
   "metadata": {},
   "outputs": [
    {
     "data": {
      "text/html": [
       "<div>\n",
       "<style scoped>\n",
       "    .dataframe tbody tr th:only-of-type {\n",
       "        vertical-align: middle;\n",
       "    }\n",
       "\n",
       "    .dataframe tbody tr th {\n",
       "        vertical-align: top;\n",
       "    }\n",
       "\n",
       "    .dataframe thead th {\n",
       "        text-align: right;\n",
       "    }\n",
       "</style>\n",
       "<table border=\"1\" class=\"dataframe\">\n",
       "  <thead>\n",
       "    <tr style=\"text-align: right;\">\n",
       "      <th></th>\n",
       "      <th>Uso del internet en Acceso movil de Internet</th>\n",
       "      <th>Recuento</th>\n",
       "      <th>Porcentaje</th>\n",
       "    </tr>\n",
       "  </thead>\n",
       "  <tbody>\n",
       "    <tr>\n",
       "      <th>0</th>\n",
       "      <td>0.0</td>\n",
       "      <td>256,559</td>\n",
       "      <td>13.5</td>\n",
       "    </tr>\n",
       "    <tr>\n",
       "      <th>1</th>\n",
       "      <td>1.0</td>\n",
       "      <td>1,640,602</td>\n",
       "      <td>86.5</td>\n",
       "    </tr>\n",
       "    <tr>\n",
       "      <th>2</th>\n",
       "      <td>Total</td>\n",
       "      <td>1,897,160</td>\n",
       "      <td>100.0</td>\n",
       "    </tr>\n",
       "  </tbody>\n",
       "</table>\n",
       "</div>"
      ],
      "text/plain": [
       "  Uso del internet en Acceso movil de Internet   Recuento Porcentaje\n",
       "0                                          0.0    256,559       13.5\n",
       "1                                          1.0  1,640,602       86.5\n",
       "2                                        Total  1,897,160      100.0"
      ]
     },
     "execution_count": 58,
     "metadata": {},
     "output_type": "execute_result"
    }
   ],
   "source": [
    "generar_tabla_recuento(base_filtrada, \"i_uso_movil\", \"Uso del internet en Acceso movil de Internet\", True, True)"
   ]
  },
  {
   "cell_type": "markdown",
   "id": "f3203485-a403-4dac-8d68-d13cb5c69720",
   "metadata": {
    "tags": []
   },
   "source": [
    "## FRECUENCIA DE USO DEL SERVICIO DE INTERNET"
   ]
  },
  {
   "cell_type": "code",
   "execution_count": 59,
   "id": "ec77fc6e-8750-42f9-b15a-c5d13fd89f66",
   "metadata": {},
   "outputs": [
    {
     "data": {
      "text/plain": [
       "1    14882\n",
       "0     7519\n",
       "Name: i_uso, dtype: int64"
      ]
     },
     "execution_count": 59,
     "metadata": {},
     "output_type": "execute_result"
    }
   ],
   "source": [
    "base_filtrada.i_uso.value_counts()"
   ]
  },
  {
   "cell_type": "code",
   "execution_count": 60,
   "id": "f97ada8c-e17f-40f2-949c-1df701d6f768",
   "metadata": {},
   "outputs": [
    {
     "name": "stdout",
     "output_type": "stream",
     "text": [
      "Valores faltantes en 'i_uso': 0\n"
     ]
    }
   ],
   "source": [
    "missing_values = base_filtrada['i_uso'].isna().sum()\n",
    "print(f\"Valores faltantes en 'i_uso': {missing_values}\")\n"
   ]
  },
  {
   "cell_type": "code",
   "execution_count": 61,
   "id": "c6d35c7f-e760-43d1-96fe-1e52132c971c",
   "metadata": {},
   "outputs": [],
   "source": [
    "# Supongamos que 2 es la categoría que deseas asignar a los valores faltantes\n",
    "#base_filtrada['i_uso'] = base_filtrada['i_uso'].fillna(2)"
   ]
  },
  {
   "attachments": {
    "fdd5ec1b-a491-4d39-bbed-70699fb3ed25.png": {
     "image/png": "[encoded data removed]"
    }
   },
   "cell_type": "markdown",
   "id": "f830c2de-f804-42c3-b9d7-2a7321d19322",
   "metadata": {},
   "source": [
    "![image.png](attachment:fdd5ec1b-a491-4d39-bbed-70699fb3ed25.png)"
   ]
  },
  {
   "cell_type": "code",
   "execution_count": 62,
   "id": "754603af-fa92-43c9-8824-93147b55c196",
   "metadata": {},
   "outputs": [
    {
     "data": {
      "text/html": [
       "<div>\n",
       "<style scoped>\n",
       "    .dataframe tbody tr th:only-of-type {\n",
       "        vertical-align: middle;\n",
       "    }\n",
       "\n",
       "    .dataframe tbody tr th {\n",
       "        vertical-align: top;\n",
       "    }\n",
       "\n",
       "    .dataframe thead th {\n",
       "        text-align: right;\n",
       "    }\n",
       "</style>\n",
       "<table border=\"1\" class=\"dataframe\">\n",
       "  <thead>\n",
       "    <tr style=\"text-align: right;\">\n",
       "      <th></th>\n",
       "      <th>Ud., usa Internet al menos:</th>\n",
       "      <th>Recuento</th>\n",
       "      <th>Porcentaje</th>\n",
       "    </tr>\n",
       "  </thead>\n",
       "  <tbody>\n",
       "    <tr>\n",
       "      <th>0</th>\n",
       "      <td>1.0</td>\n",
       "      <td>1,645,932</td>\n",
       "      <td>86.8</td>\n",
       "    </tr>\n",
       "    <tr>\n",
       "      <th>1</th>\n",
       "      <td>2.0</td>\n",
       "      <td>240,619</td>\n",
       "      <td>12.7</td>\n",
       "    </tr>\n",
       "    <tr>\n",
       "      <th>2</th>\n",
       "      <td>3.0</td>\n",
       "      <td>9,755</td>\n",
       "      <td>0.5</td>\n",
       "    </tr>\n",
       "    <tr>\n",
       "      <th>3</th>\n",
       "      <td>4.0</td>\n",
       "      <td>854</td>\n",
       "      <td>0.1</td>\n",
       "    </tr>\n",
       "    <tr>\n",
       "      <th>4</th>\n",
       "      <td>Total</td>\n",
       "      <td>1,897,160</td>\n",
       "      <td>100.0</td>\n",
       "    </tr>\n",
       "  </tbody>\n",
       "</table>\n",
       "</div>"
      ],
      "text/plain": [
       "  Ud., usa Internet al menos:   Recuento Porcentaje\n",
       "0                         1.0  1,645,932       86.8\n",
       "1                         2.0    240,619       12.7\n",
       "2                         3.0      9,755        0.5\n",
       "3                         4.0        854        0.1\n",
       "4                       Total  1,897,160      100.0"
      ]
     },
     "execution_count": 62,
     "metadata": {},
     "output_type": "execute_result"
    }
   ],
   "source": [
    "generar_tabla_recuento(base_filtrada, \"p314d\", \"Ud., usa Internet al menos:\",True, True) #¿Ud., usa Internet al menos: \n",
    "# 1 Una vez al dia?\n",
    "# 2 Una vez a la semana? 3 Una vez al mes? 4 Cada 2 meses o más?"
   ]
  },
  {
   "cell_type": "code",
   "execution_count": 63,
   "id": "518ca9f2-45b3-490c-a522-aab3448fa1ab",
   "metadata": {},
   "outputs": [
    {
     "data": {
      "text/html": [
       "<div>\n",
       "<style scoped>\n",
       "    .dataframe tbody tr th:only-of-type {\n",
       "        vertical-align: middle;\n",
       "    }\n",
       "\n",
       "    .dataframe tbody tr th {\n",
       "        vertical-align: top;\n",
       "    }\n",
       "\n",
       "    .dataframe thead th {\n",
       "        text-align: right;\n",
       "    }\n",
       "</style>\n",
       "<table border=\"1\" class=\"dataframe\">\n",
       "  <thead>\n",
       "    <tr style=\"text-align: right;\">\n",
       "      <th></th>\n",
       "      <th>Monto de pago</th>\n",
       "      <th>Recuento</th>\n",
       "      <th>Porcentaje</th>\n",
       "    </tr>\n",
       "  </thead>\n",
       "  <tbody>\n",
       "    <tr>\n",
       "      <th>0</th>\n",
       "      <td>1.0</td>\n",
       "      <td>2,497</td>\n",
       "      <td>4.5</td>\n",
       "    </tr>\n",
       "    <tr>\n",
       "      <th>1</th>\n",
       "      <td>2.0</td>\n",
       "      <td>8,891</td>\n",
       "      <td>15.9</td>\n",
       "    </tr>\n",
       "    <tr>\n",
       "      <th>2</th>\n",
       "      <td>3.0</td>\n",
       "      <td>2,948</td>\n",
       "      <td>5.3</td>\n",
       "    </tr>\n",
       "    <tr>\n",
       "      <th>3</th>\n",
       "      <td>4.0</td>\n",
       "      <td>4,862</td>\n",
       "      <td>8.7</td>\n",
       "    </tr>\n",
       "    <tr>\n",
       "      <th>4</th>\n",
       "      <td>5.0</td>\n",
       "      <td>13,277</td>\n",
       "      <td>23.8</td>\n",
       "    </tr>\n",
       "    <tr>\n",
       "      <th>5</th>\n",
       "      <td>6.0</td>\n",
       "      <td>774</td>\n",
       "      <td>1.4</td>\n",
       "    </tr>\n",
       "    <tr>\n",
       "      <th>6</th>\n",
       "      <td>7.0</td>\n",
       "      <td>676</td>\n",
       "      <td>1.2</td>\n",
       "    </tr>\n",
       "    <tr>\n",
       "      <th>7</th>\n",
       "      <td>8.0</td>\n",
       "      <td>1,690</td>\n",
       "      <td>3.0</td>\n",
       "    </tr>\n",
       "    <tr>\n",
       "      <th>8</th>\n",
       "      <td>9.0</td>\n",
       "      <td>209</td>\n",
       "      <td>0.4</td>\n",
       "    </tr>\n",
       "    <tr>\n",
       "      <th>9</th>\n",
       "      <td>10.0</td>\n",
       "      <td>10,352</td>\n",
       "      <td>18.5</td>\n",
       "    </tr>\n",
       "    <tr>\n",
       "      <th>10</th>\n",
       "      <td>11.0</td>\n",
       "      <td>133</td>\n",
       "      <td>0.2</td>\n",
       "    </tr>\n",
       "    <tr>\n",
       "      <th>11</th>\n",
       "      <td>12.0</td>\n",
       "      <td>1,886</td>\n",
       "      <td>3.4</td>\n",
       "    </tr>\n",
       "    <tr>\n",
       "      <th>12</th>\n",
       "      <td>13.0</td>\n",
       "      <td>26</td>\n",
       "      <td>0.1</td>\n",
       "    </tr>\n",
       "    <tr>\n",
       "      <th>13</th>\n",
       "      <td>15.0</td>\n",
       "      <td>2,160</td>\n",
       "      <td>3.9</td>\n",
       "    </tr>\n",
       "    <tr>\n",
       "      <th>14</th>\n",
       "      <td>16.0</td>\n",
       "      <td>124</td>\n",
       "      <td>0.2</td>\n",
       "    </tr>\n",
       "    <tr>\n",
       "      <th>15</th>\n",
       "      <td>17.0</td>\n",
       "      <td>1,033</td>\n",
       "      <td>1.9</td>\n",
       "    </tr>\n",
       "    <tr>\n",
       "      <th>16</th>\n",
       "      <td>20.0</td>\n",
       "      <td>1,207</td>\n",
       "      <td>2.2</td>\n",
       "    </tr>\n",
       "    <tr>\n",
       "      <th>17</th>\n",
       "      <td>21.0</td>\n",
       "      <td>525</td>\n",
       "      <td>0.9</td>\n",
       "    </tr>\n",
       "    <tr>\n",
       "      <th>18</th>\n",
       "      <td>25.0</td>\n",
       "      <td>153</td>\n",
       "      <td>0.3</td>\n",
       "    </tr>\n",
       "    <tr>\n",
       "      <th>19</th>\n",
       "      <td>30.0</td>\n",
       "      <td>1,463</td>\n",
       "      <td>2.6</td>\n",
       "    </tr>\n",
       "    <tr>\n",
       "      <th>20</th>\n",
       "      <td>32.0</td>\n",
       "      <td>267</td>\n",
       "      <td>0.5</td>\n",
       "    </tr>\n",
       "    <tr>\n",
       "      <th>21</th>\n",
       "      <td>39.0</td>\n",
       "      <td>26</td>\n",
       "      <td>0.1</td>\n",
       "    </tr>\n",
       "    <tr>\n",
       "      <th>22</th>\n",
       "      <td>40.0</td>\n",
       "      <td>497</td>\n",
       "      <td>0.9</td>\n",
       "    </tr>\n",
       "    <tr>\n",
       "      <th>23</th>\n",
       "      <td>54.0</td>\n",
       "      <td>26</td>\n",
       "      <td>0.1</td>\n",
       "    </tr>\n",
       "    <tr>\n",
       "      <th>24</th>\n",
       "      <td>108.0</td>\n",
       "      <td>93</td>\n",
       "      <td>0.2</td>\n",
       "    </tr>\n",
       "    <tr>\n",
       "      <th>25</th>\n",
       "      <td>Total</td>\n",
       "      <td>55,795</td>\n",
       "      <td>100.0</td>\n",
       "    </tr>\n",
       "  </tbody>\n",
       "</table>\n",
       "</div>"
      ],
      "text/plain": [
       "   Monto de pago Recuento Porcentaje\n",
       "0            1.0    2,497        4.5\n",
       "1            2.0    8,891       15.9\n",
       "2            3.0    2,948        5.3\n",
       "3            4.0    4,862        8.7\n",
       "4            5.0   13,277       23.8\n",
       "5            6.0      774        1.4\n",
       "6            7.0      676        1.2\n",
       "7            8.0    1,690        3.0\n",
       "8            9.0      209        0.4\n",
       "9           10.0   10,352       18.5\n",
       "10          11.0      133        0.2\n",
       "11          12.0    1,886        3.4\n",
       "12          13.0       26        0.1\n",
       "13          15.0    2,160        3.9\n",
       "14          16.0      124        0.2\n",
       "15          17.0    1,033        1.9\n",
       "16          20.0    1,207        2.2\n",
       "17          21.0      525        0.9\n",
       "18          25.0      153        0.3\n",
       "19          30.0    1,463        2.6\n",
       "20          32.0      267        0.5\n",
       "21          39.0       26        0.1\n",
       "22          40.0      497        0.9\n",
       "23          54.0       26        0.1\n",
       "24         108.0       93        0.2\n",
       "25         Total   55,795      100.0"
      ]
     },
     "execution_count": 63,
     "metadata": {},
     "output_type": "execute_result"
    }
   ],
   "source": [
    "generar_tabla_recuento(base_filtrada, \"p315a\", \"Monto de pago\",True, True) #¿Ud., usa Internet al menos: 1 Una vez al dia?\n",
    "# 2 Una vez a la semana? 3 Una vez al mes? 4 Cada 2 meses o más?"
   ]
  },
  {
   "cell_type": "code",
   "execution_count": 64,
   "id": "f190e79f-173c-4ead-a1aa-92a38a8b1ed6",
   "metadata": {},
   "outputs": [
    {
     "data": {
      "text/html": [
       "<div>\n",
       "<style scoped>\n",
       "    .dataframe tbody tr th:only-of-type {\n",
       "        vertical-align: middle;\n",
       "    }\n",
       "\n",
       "    .dataframe tbody tr th {\n",
       "        vertical-align: top;\n",
       "    }\n",
       "\n",
       "    .dataframe thead th {\n",
       "        text-align: right;\n",
       "    }\n",
       "</style>\n",
       "<table border=\"1\" class=\"dataframe\">\n",
       "  <thead>\n",
       "    <tr style=\"text-align: right;\">\n",
       "      <th></th>\n",
       "      <th>Monto pago 2</th>\n",
       "      <th>Recuento</th>\n",
       "      <th>Porcentaje</th>\n",
       "    </tr>\n",
       "  </thead>\n",
       "  <tbody>\n",
       "    <tr>\n",
       "      <th>0</th>\n",
       "      <td>1.0</td>\n",
       "      <td>782</td>\n",
       "      <td>39.5</td>\n",
       "    </tr>\n",
       "    <tr>\n",
       "      <th>1</th>\n",
       "      <td>3.0</td>\n",
       "      <td>396</td>\n",
       "      <td>20.0</td>\n",
       "    </tr>\n",
       "    <tr>\n",
       "      <th>2</th>\n",
       "      <td>17.0</td>\n",
       "      <td>79</td>\n",
       "      <td>4.0</td>\n",
       "    </tr>\n",
       "    <tr>\n",
       "      <th>3</th>\n",
       "      <td>20.0</td>\n",
       "      <td>481</td>\n",
       "      <td>24.3</td>\n",
       "    </tr>\n",
       "    <tr>\n",
       "      <th>4</th>\n",
       "      <td>30.0</td>\n",
       "      <td>244</td>\n",
       "      <td>12.3</td>\n",
       "    </tr>\n",
       "    <tr>\n",
       "      <th>5</th>\n",
       "      <td>Total</td>\n",
       "      <td>1,983</td>\n",
       "      <td>100.0</td>\n",
       "    </tr>\n",
       "  </tbody>\n",
       "</table>\n",
       "</div>"
      ],
      "text/plain": [
       "  Monto pago 2 Recuento Porcentaje\n",
       "0          1.0      782       39.5\n",
       "1          3.0      396       20.0\n",
       "2         17.0       79        4.0\n",
       "3         20.0      481       24.3\n",
       "4         30.0      244       12.3\n",
       "5        Total    1,983      100.0"
      ]
     },
     "execution_count": 64,
     "metadata": {},
     "output_type": "execute_result"
    }
   ],
   "source": [
    "generar_tabla_recuento(base_filtrada, \"p315b\", \"Monto pago 2\",True, True) #¿Ud., usa Internet al menos: 1 Una vez al dia?\n",
    "# 2 Una vez a la semana? 3 Una vez al mes? 4 Cada 2 meses o más?"
   ]
  },
  {
   "cell_type": "markdown",
   "id": "9274011a-a082-4c86-b146-8d50c799e2a7",
   "metadata": {},
   "source": [
    "## EQUIPO QUE UTILIZO PARA INGRESAR A INTERNET"
   ]
  },
  {
   "cell_type": "markdown",
   "id": "39a69473-0b8e-4a41-8313-6e32380bfd1d",
   "metadata": {
    "tags": []
   },
   "source": [
    "### Acceso - Laptop"
   ]
  },
  {
   "cell_type": "code",
   "execution_count": 65,
   "id": "fe27d696",
   "metadata": {},
   "outputs": [
    {
     "data": {
      "text/html": [
       "<div>\n",
       "<style scoped>\n",
       "    .dataframe tbody tr th:only-of-type {\n",
       "        vertical-align: middle;\n",
       "    }\n",
       "\n",
       "    .dataframe tbody tr th {\n",
       "        vertical-align: top;\n",
       "    }\n",
       "\n",
       "    .dataframe thead th {\n",
       "        text-align: right;\n",
       "    }\n",
       "</style>\n",
       "<table border=\"1\" class=\"dataframe\">\n",
       "  <thead>\n",
       "    <tr style=\"text-align: right;\">\n",
       "      <th></th>\n",
       "      <th>Uso del internet a traves de una LAPTOP</th>\n",
       "      <th>Recuento</th>\n",
       "      <th>Porcentaje</th>\n",
       "    </tr>\n",
       "  </thead>\n",
       "  <tbody>\n",
       "    <tr>\n",
       "      <th>0</th>\n",
       "      <td>0.0</td>\n",
       "      <td>3,806,488</td>\n",
       "      <td>90.8</td>\n",
       "    </tr>\n",
       "    <tr>\n",
       "      <th>1</th>\n",
       "      <td>1.0</td>\n",
       "      <td>385,808</td>\n",
       "      <td>9.2</td>\n",
       "    </tr>\n",
       "    <tr>\n",
       "      <th>2</th>\n",
       "      <td>Total</td>\n",
       "      <td>4,192,297</td>\n",
       "      <td>100.0</td>\n",
       "    </tr>\n",
       "  </tbody>\n",
       "</table>\n",
       "</div>"
      ],
      "text/plain": [
       "  Uso del internet a traves de una LAPTOP   Recuento Porcentaje\n",
       "0                                     0.0  3,806,488       90.8\n",
       "1                                     1.0    385,808        9.2\n",
       "2                                   Total  4,192,297      100.0"
      ]
     },
     "execution_count": 65,
     "metadata": {},
     "output_type": "execute_result"
    }
   ],
   "source": [
    "generar_tabla_recuento(base_filtrada, \"i_laptop\", \"Uso del internet a traves de una LAPTOP\", True, True)"
   ]
  },
  {
   "cell_type": "markdown",
   "id": "9f9e6ca0-d7c6-498c-b16d-bee0769c10da",
   "metadata": {
    "tags": []
   },
   "source": [
    "### Acceso - Computadora"
   ]
  },
  {
   "cell_type": "code",
   "execution_count": 66,
   "id": "8216bfea",
   "metadata": {},
   "outputs": [
    {
     "data": {
      "text/html": [
       "<div>\n",
       "<style scoped>\n",
       "    .dataframe tbody tr th:only-of-type {\n",
       "        vertical-align: middle;\n",
       "    }\n",
       "\n",
       "    .dataframe tbody tr th {\n",
       "        vertical-align: top;\n",
       "    }\n",
       "\n",
       "    .dataframe thead th {\n",
       "        text-align: right;\n",
       "    }\n",
       "</style>\n",
       "<table border=\"1\" class=\"dataframe\">\n",
       "  <thead>\n",
       "    <tr style=\"text-align: right;\">\n",
       "      <th></th>\n",
       "      <th>Uso del internet a traves de una computadora</th>\n",
       "      <th>Recuento</th>\n",
       "      <th>Porcentaje</th>\n",
       "    </tr>\n",
       "  </thead>\n",
       "  <tbody>\n",
       "    <tr>\n",
       "      <th>0</th>\n",
       "      <td>0.0</td>\n",
       "      <td>3,619,337</td>\n",
       "      <td>86.3</td>\n",
       "    </tr>\n",
       "    <tr>\n",
       "      <th>1</th>\n",
       "      <td>1.0</td>\n",
       "      <td>572,960</td>\n",
       "      <td>13.7</td>\n",
       "    </tr>\n",
       "    <tr>\n",
       "      <th>2</th>\n",
       "      <td>Total</td>\n",
       "      <td>4,192,297</td>\n",
       "      <td>100.0</td>\n",
       "    </tr>\n",
       "  </tbody>\n",
       "</table>\n",
       "</div>"
      ],
      "text/plain": [
       "  Uso del internet a traves de una computadora   Recuento Porcentaje\n",
       "0                                          0.0  3,619,337       86.3\n",
       "1                                          1.0    572,960       13.7\n",
       "2                                        Total  4,192,297      100.0"
      ]
     },
     "execution_count": 66,
     "metadata": {},
     "output_type": "execute_result"
    }
   ],
   "source": [
    "generar_tabla_recuento(base_filtrada, \"i_computadora\", \"Uso del internet a traves de una computadora\",True, True)"
   ]
  },
  {
   "cell_type": "markdown",
   "id": "96091371-137f-42e5-a492-fa02cde7a906",
   "metadata": {
    "tags": []
   },
   "source": [
    "### Acceso - Tablet"
   ]
  },
  {
   "cell_type": "code",
   "execution_count": 67,
   "id": "f0f51377",
   "metadata": {},
   "outputs": [
    {
     "data": {
      "text/html": [
       "<div>\n",
       "<style scoped>\n",
       "    .dataframe tbody tr th:only-of-type {\n",
       "        vertical-align: middle;\n",
       "    }\n",
       "\n",
       "    .dataframe tbody tr th {\n",
       "        vertical-align: top;\n",
       "    }\n",
       "\n",
       "    .dataframe thead th {\n",
       "        text-align: right;\n",
       "    }\n",
       "</style>\n",
       "<table border=\"1\" class=\"dataframe\">\n",
       "  <thead>\n",
       "    <tr style=\"text-align: right;\">\n",
       "      <th></th>\n",
       "      <th>Uso del internet a traves de una TABLET</th>\n",
       "      <th>Recuento</th>\n",
       "      <th>Porcentaje</th>\n",
       "    </tr>\n",
       "  </thead>\n",
       "  <tbody>\n",
       "    <tr>\n",
       "      <th>0</th>\n",
       "      <td>0.0</td>\n",
       "      <td>4,097,321</td>\n",
       "      <td>97.7</td>\n",
       "    </tr>\n",
       "    <tr>\n",
       "      <th>1</th>\n",
       "      <td>1.0</td>\n",
       "      <td>94,976</td>\n",
       "      <td>2.3</td>\n",
       "    </tr>\n",
       "    <tr>\n",
       "      <th>2</th>\n",
       "      <td>Total</td>\n",
       "      <td>4,192,297</td>\n",
       "      <td>100.0</td>\n",
       "    </tr>\n",
       "  </tbody>\n",
       "</table>\n",
       "</div>"
      ],
      "text/plain": [
       "  Uso del internet a traves de una TABLET   Recuento Porcentaje\n",
       "0                                     0.0  4,097,321       97.7\n",
       "1                                     1.0     94,976        2.3\n",
       "2                                   Total  4,192,297      100.0"
      ]
     },
     "execution_count": 67,
     "metadata": {},
     "output_type": "execute_result"
    }
   ],
   "source": [
    "generar_tabla_recuento(base_filtrada, \"i_tablet\", \"Uso del internet a traves de una TABLET\",True, True)"
   ]
  },
  {
   "cell_type": "markdown",
   "id": "e13514d4-75ca-47a0-bd0f-feb52b5cb4cf",
   "metadata": {},
   "source": [
    "### Acceso - Otro"
   ]
  },
  {
   "cell_type": "code",
   "execution_count": 68,
   "id": "a59ff54b",
   "metadata": {},
   "outputs": [
    {
     "data": {
      "text/html": [
       "<div>\n",
       "<style scoped>\n",
       "    .dataframe tbody tr th:only-of-type {\n",
       "        vertical-align: middle;\n",
       "    }\n",
       "\n",
       "    .dataframe tbody tr th {\n",
       "        vertical-align: top;\n",
       "    }\n",
       "\n",
       "    .dataframe thead th {\n",
       "        text-align: right;\n",
       "    }\n",
       "</style>\n",
       "<table border=\"1\" class=\"dataframe\">\n",
       "  <thead>\n",
       "    <tr style=\"text-align: right;\">\n",
       "      <th></th>\n",
       "      <th>Uso del internet a traves de una OTRO</th>\n",
       "      <th>Recuento</th>\n",
       "      <th>Porcentaje</th>\n",
       "    </tr>\n",
       "  </thead>\n",
       "  <tbody>\n",
       "    <tr>\n",
       "      <th>0</th>\n",
       "      <td>0.0</td>\n",
       "      <td>3,388,488</td>\n",
       "      <td>80.8</td>\n",
       "    </tr>\n",
       "    <tr>\n",
       "      <th>1</th>\n",
       "      <td>1.0</td>\n",
       "      <td>803,809</td>\n",
       "      <td>19.2</td>\n",
       "    </tr>\n",
       "    <tr>\n",
       "      <th>2</th>\n",
       "      <td>Total</td>\n",
       "      <td>4,192,297</td>\n",
       "      <td>100.0</td>\n",
       "    </tr>\n",
       "  </tbody>\n",
       "</table>\n",
       "</div>"
      ],
      "text/plain": [
       "  Uso del internet a traves de una OTRO   Recuento Porcentaje\n",
       "0                                   0.0  3,388,488       80.8\n",
       "1                                   1.0    803,809       19.2\n",
       "2                                 Total  4,192,297      100.0"
      ]
     },
     "execution_count": 68,
     "metadata": {},
     "output_type": "execute_result"
    }
   ],
   "source": [
    "generar_tabla_recuento(base_filtrada, \"i_otro\", \"Uso del internet a traves de una OTRO\", True, True)"
   ]
  },
  {
   "cell_type": "markdown",
   "id": "6cd47193-88bc-4d11-a733-199b31f42727",
   "metadata": {},
   "source": [
    "### Acceso - Celular sin plan de datos"
   ]
  },
  {
   "cell_type": "code",
   "execution_count": 69,
   "id": "5179049e",
   "metadata": {},
   "outputs": [
    {
     "data": {
      "text/html": [
       "<div>\n",
       "<style scoped>\n",
       "    .dataframe tbody tr th:only-of-type {\n",
       "        vertical-align: middle;\n",
       "    }\n",
       "\n",
       "    .dataframe tbody tr th {\n",
       "        vertical-align: top;\n",
       "    }\n",
       "\n",
       "    .dataframe thead th {\n",
       "        text-align: right;\n",
       "    }\n",
       "</style>\n",
       "<table border=\"1\" class=\"dataframe\">\n",
       "  <thead>\n",
       "    <tr style=\"text-align: right;\">\n",
       "      <th></th>\n",
       "      <th>Uso del internet a traves de una CELULAR SIN PLAN DE DATOS</th>\n",
       "      <th>Recuento</th>\n",
       "      <th>Porcentaje</th>\n",
       "    </tr>\n",
       "  </thead>\n",
       "  <tbody>\n",
       "    <tr>\n",
       "      <th>0</th>\n",
       "      <td>0.0</td>\n",
       "      <td>1,991,373</td>\n",
       "      <td>47.5</td>\n",
       "    </tr>\n",
       "    <tr>\n",
       "      <th>1</th>\n",
       "      <td>1.0</td>\n",
       "      <td>2,200,924</td>\n",
       "      <td>52.5</td>\n",
       "    </tr>\n",
       "    <tr>\n",
       "      <th>2</th>\n",
       "      <td>Total</td>\n",
       "      <td>4,192,297</td>\n",
       "      <td>100.0</td>\n",
       "    </tr>\n",
       "  </tbody>\n",
       "</table>\n",
       "</div>"
      ],
      "text/plain": [
       "  Uso del internet a traves de una CELULAR SIN PLAN DE DATOS   Recuento  \\\n",
       "0                                                0.0          1,991,373   \n",
       "1                                                1.0          2,200,924   \n",
       "2                                              Total          4,192,297   \n",
       "\n",
       "  Porcentaje  \n",
       "0       47.5  \n",
       "1       52.5  \n",
       "2      100.0  "
      ]
     },
     "execution_count": 69,
     "metadata": {},
     "output_type": "execute_result"
    }
   ],
   "source": [
    "generar_tabla_recuento(base_filtrada, \"i_cel_sdatos\", \"Uso del internet a traves de una CELULAR SIN PLAN DE DATOS\",True, True)"
   ]
  },
  {
   "cell_type": "markdown",
   "id": "9ea3ff5a-df4b-4918-9073-81ec30fb2bde",
   "metadata": {},
   "source": [
    "### Acceso - Celular con plan de datos"
   ]
  },
  {
   "cell_type": "code",
   "execution_count": 70,
   "id": "91dd43b7",
   "metadata": {},
   "outputs": [
    {
     "data": {
      "text/html": [
       "<div>\n",
       "<style scoped>\n",
       "    .dataframe tbody tr th:only-of-type {\n",
       "        vertical-align: middle;\n",
       "    }\n",
       "\n",
       "    .dataframe tbody tr th {\n",
       "        vertical-align: top;\n",
       "    }\n",
       "\n",
       "    .dataframe thead th {\n",
       "        text-align: right;\n",
       "    }\n",
       "</style>\n",
       "<table border=\"1\" class=\"dataframe\">\n",
       "  <thead>\n",
       "    <tr style=\"text-align: right;\">\n",
       "      <th></th>\n",
       "      <th>Uso del internet a traves de una CELULAR CON PLAN DE DATOS</th>\n",
       "      <th>Recuento</th>\n",
       "      <th>Porcentaje</th>\n",
       "    </tr>\n",
       "  </thead>\n",
       "  <tbody>\n",
       "    <tr>\n",
       "      <th>0</th>\n",
       "      <td>0.0</td>\n",
       "      <td>3,358,425</td>\n",
       "      <td>80.1</td>\n",
       "    </tr>\n",
       "    <tr>\n",
       "      <th>1</th>\n",
       "      <td>1.0</td>\n",
       "      <td>833,872</td>\n",
       "      <td>19.9</td>\n",
       "    </tr>\n",
       "    <tr>\n",
       "      <th>2</th>\n",
       "      <td>Total</td>\n",
       "      <td>4,192,297</td>\n",
       "      <td>100.0</td>\n",
       "    </tr>\n",
       "  </tbody>\n",
       "</table>\n",
       "</div>"
      ],
      "text/plain": [
       "  Uso del internet a traves de una CELULAR CON PLAN DE DATOS   Recuento  \\\n",
       "0                                                0.0          3,358,425   \n",
       "1                                                1.0            833,872   \n",
       "2                                              Total          4,192,297   \n",
       "\n",
       "  Porcentaje  \n",
       "0       80.1  \n",
       "1       19.9  \n",
       "2      100.0  "
      ]
     },
     "execution_count": 70,
     "metadata": {},
     "output_type": "execute_result"
    }
   ],
   "source": [
    "generar_tabla_recuento(base_filtrada, \"i_cel_cdatos\", \"Uso del internet a traves de una CELULAR CON PLAN DE DATOS\",True,True)"
   ]
  },
  {
   "cell_type": "code",
   "execution_count": 71,
   "id": "63970d7f",
   "metadata": {},
   "outputs": [],
   "source": [
    "#generar_tabla_recuento(base_filtrada, \"p314b1_5\", \"Uso del internet a traves de una CELULAR DE SU CENTRO DE TRABAJO\", guardar_como_jpeg=True) "
   ]
  },
  {
   "cell_type": "markdown",
   "id": "5b3bcbd7-1835-4cc6-856b-57d584615275",
   "metadata": {},
   "source": [
    "## DIMENSION -APROPIACION - Para qué uso el internet"
   ]
  },
  {
   "cell_type": "code",
   "execution_count": 72,
   "id": "bbda7219-3c8f-452c-a713-4c95b010eba7",
   "metadata": {},
   "outputs": [
    {
     "data": {
      "text/html": [
       "<div>\n",
       "<style scoped>\n",
       "    .dataframe tbody tr th:only-of-type {\n",
       "        vertical-align: middle;\n",
       "    }\n",
       "\n",
       "    .dataframe tbody tr th {\n",
       "        vertical-align: top;\n",
       "    }\n",
       "\n",
       "    .dataframe thead th {\n",
       "        text-align: right;\n",
       "    }\n",
       "</style>\n",
       "<table border=\"1\" class=\"dataframe\">\n",
       "  <thead>\n",
       "    <tr style=\"text-align: right;\">\n",
       "      <th></th>\n",
       "      <th>Usó el Internet para: Obtener información</th>\n",
       "      <th>Recuento</th>\n",
       "      <th>Porcentaje</th>\n",
       "    </tr>\n",
       "  </thead>\n",
       "  <tbody>\n",
       "    <tr>\n",
       "      <th>0</th>\n",
       "      <td>0.0</td>\n",
       "      <td>318,008</td>\n",
       "      <td>16.8</td>\n",
       "    </tr>\n",
       "    <tr>\n",
       "      <th>1</th>\n",
       "      <td>1.0</td>\n",
       "      <td>1,579,152</td>\n",
       "      <td>83.2</td>\n",
       "    </tr>\n",
       "    <tr>\n",
       "      <th>2</th>\n",
       "      <td>Total</td>\n",
       "      <td>1,897,160</td>\n",
       "      <td>100.0</td>\n",
       "    </tr>\n",
       "  </tbody>\n",
       "</table>\n",
       "</div>"
      ],
      "text/plain": [
       "  Usó el Internet para: Obtener información   Recuento Porcentaje\n",
       "0                                       0.0    318,008       16.8\n",
       "1                                       1.0  1,579,152       83.2\n",
       "2                                     Total  1,897,160      100.0"
      ]
     },
     "execution_count": 72,
     "metadata": {},
     "output_type": "execute_result"
    }
   ],
   "source": [
    "generar_tabla_recuento(base_filtrada, \"i_obtener_info\", \"Usó el Internet para: Obtener información\",True,True)"
   ]
  },
  {
   "cell_type": "code",
   "execution_count": 73,
   "id": "24b1e8f0-d0d3-4c35-af82-bb4a183fd7c7",
   "metadata": {},
   "outputs": [
    {
     "data": {
      "text/html": [
       "<div>\n",
       "<style scoped>\n",
       "    .dataframe tbody tr th:only-of-type {\n",
       "        vertical-align: middle;\n",
       "    }\n",
       "\n",
       "    .dataframe tbody tr th {\n",
       "        vertical-align: top;\n",
       "    }\n",
       "\n",
       "    .dataframe thead th {\n",
       "        text-align: right;\n",
       "    }\n",
       "</style>\n",
       "<table border=\"1\" class=\"dataframe\">\n",
       "  <thead>\n",
       "    <tr style=\"text-align: right;\">\n",
       "      <th></th>\n",
       "      <th>Usó el Internet para: Comunicarsen</th>\n",
       "      <th>Recuento</th>\n",
       "      <th>Porcentaje</th>\n",
       "    </tr>\n",
       "  </thead>\n",
       "  <tbody>\n",
       "    <tr>\n",
       "      <th>0</th>\n",
       "      <td>0.0</td>\n",
       "      <td>265,918</td>\n",
       "      <td>14.0</td>\n",
       "    </tr>\n",
       "    <tr>\n",
       "      <th>1</th>\n",
       "      <td>1.0</td>\n",
       "      <td>1,631,243</td>\n",
       "      <td>86.0</td>\n",
       "    </tr>\n",
       "    <tr>\n",
       "      <th>2</th>\n",
       "      <td>Total</td>\n",
       "      <td>1,897,160</td>\n",
       "      <td>100.0</td>\n",
       "    </tr>\n",
       "  </tbody>\n",
       "</table>\n",
       "</div>"
      ],
      "text/plain": [
       "  Usó el Internet para: Comunicarsen   Recuento Porcentaje\n",
       "0                                0.0    265,918       14.0\n",
       "1                                1.0  1,631,243       86.0\n",
       "2                              Total  1,897,160      100.0"
      ]
     },
     "execution_count": 73,
     "metadata": {},
     "output_type": "execute_result"
    }
   ],
   "source": [
    "generar_tabla_recuento(base_filtrada, \"i_comunicarse\", \"Usó el Internet para: Comunicarsen\",True,True)"
   ]
  },
  {
   "cell_type": "code",
   "execution_count": 74,
   "id": "46afff72-766e-4051-bc70-d47b5bac0dbf",
   "metadata": {},
   "outputs": [
    {
     "data": {
      "text/html": [
       "<div>\n",
       "<style scoped>\n",
       "    .dataframe tbody tr th:only-of-type {\n",
       "        vertical-align: middle;\n",
       "    }\n",
       "\n",
       "    .dataframe tbody tr th {\n",
       "        vertical-align: top;\n",
       "    }\n",
       "\n",
       "    .dataframe thead th {\n",
       "        text-align: right;\n",
       "    }\n",
       "</style>\n",
       "<table border=\"1\" class=\"dataframe\">\n",
       "  <thead>\n",
       "    <tr style=\"text-align: right;\">\n",
       "      <th></th>\n",
       "      <th>Usó el Internet para: Comprar productos_servicios</th>\n",
       "      <th>Recuento</th>\n",
       "      <th>Porcentaje</th>\n",
       "    </tr>\n",
       "  </thead>\n",
       "  <tbody>\n",
       "    <tr>\n",
       "      <th>0</th>\n",
       "      <td>0.0</td>\n",
       "      <td>1,870,405</td>\n",
       "      <td>98.6</td>\n",
       "    </tr>\n",
       "    <tr>\n",
       "      <th>1</th>\n",
       "      <td>1.0</td>\n",
       "      <td>26,755</td>\n",
       "      <td>1.4</td>\n",
       "    </tr>\n",
       "    <tr>\n",
       "      <th>2</th>\n",
       "      <td>Total</td>\n",
       "      <td>1,897,160</td>\n",
       "      <td>100.0</td>\n",
       "    </tr>\n",
       "  </tbody>\n",
       "</table>\n",
       "</div>"
      ],
      "text/plain": [
       "  Usó el Internet para: Comprar productos_servicios   Recuento Porcentaje\n",
       "0                                               0.0  1,870,405       98.6\n",
       "1                                               1.0     26,755        1.4\n",
       "2                                             Total  1,897,160      100.0"
      ]
     },
     "execution_count": 74,
     "metadata": {},
     "output_type": "execute_result"
    }
   ],
   "source": [
    "generar_tabla_recuento(base_filtrada, \"i_comprar_pdts_ss\", \"Usó el Internet para: Comprar productos_servicios\",True,True)"
   ]
  },
  {
   "cell_type": "code",
   "execution_count": 75,
   "id": "f461771e-aa28-4934-b3ab-18f13667947b",
   "metadata": {},
   "outputs": [
    {
     "data": {
      "text/html": [
       "<div>\n",
       "<style scoped>\n",
       "    .dataframe tbody tr th:only-of-type {\n",
       "        vertical-align: middle;\n",
       "    }\n",
       "\n",
       "    .dataframe tbody tr th {\n",
       "        vertical-align: top;\n",
       "    }\n",
       "\n",
       "    .dataframe thead th {\n",
       "        text-align: right;\n",
       "    }\n",
       "</style>\n",
       "<table border=\"1\" class=\"dataframe\">\n",
       "  <thead>\n",
       "    <tr style=\"text-align: right;\">\n",
       "      <th></th>\n",
       "      <th>Usó el Internet para: Operaciones de banca electrónica</th>\n",
       "      <th>Recuento</th>\n",
       "      <th>Porcentaje</th>\n",
       "    </tr>\n",
       "  </thead>\n",
       "  <tbody>\n",
       "    <tr>\n",
       "      <th>0</th>\n",
       "      <td>0.0</td>\n",
       "      <td>1,890,421</td>\n",
       "      <td>99.6</td>\n",
       "    </tr>\n",
       "    <tr>\n",
       "      <th>1</th>\n",
       "      <td>1.0</td>\n",
       "      <td>6,739</td>\n",
       "      <td>0.4</td>\n",
       "    </tr>\n",
       "    <tr>\n",
       "      <th>2</th>\n",
       "      <td>Total</td>\n",
       "      <td>1,897,160</td>\n",
       "      <td>100.0</td>\n",
       "    </tr>\n",
       "  </tbody>\n",
       "</table>\n",
       "</div>"
      ],
      "text/plain": [
       "  Usó el Internet para: Operaciones de banca electrónica   Recuento Porcentaje\n",
       "0                                                0.0      1,890,421       99.6\n",
       "1                                                1.0          6,739        0.4\n",
       "2                                              Total      1,897,160      100.0"
      ]
     },
     "execution_count": 75,
     "metadata": {},
     "output_type": "execute_result"
    }
   ],
   "source": [
    "generar_tabla_recuento(base_filtrada,'i_operaciones_bancarias', 'Usó el Internet para: Operaciones de banca electrónica', True, True)\n"
   ]
  },
  {
   "cell_type": "code",
   "execution_count": 76,
   "id": "a0432c5d-e646-4214-b1e4-69cf4a8a78a3",
   "metadata": {},
   "outputs": [
    {
     "data": {
      "text/html": [
       "<div>\n",
       "<style scoped>\n",
       "    .dataframe tbody tr th:only-of-type {\n",
       "        vertical-align: middle;\n",
       "    }\n",
       "\n",
       "    .dataframe tbody tr th {\n",
       "        vertical-align: top;\n",
       "    }\n",
       "\n",
       "    .dataframe thead th {\n",
       "        text-align: right;\n",
       "    }\n",
       "</style>\n",
       "<table border=\"1\" class=\"dataframe\">\n",
       "  <thead>\n",
       "    <tr style=\"text-align: right;\">\n",
       "      <th></th>\n",
       "      <th>Usó el Internet para: Educación formal y actividades de capacitación</th>\n",
       "      <th>Recuento</th>\n",
       "      <th>Porcentaje</th>\n",
       "    </tr>\n",
       "  </thead>\n",
       "  <tbody>\n",
       "    <tr>\n",
       "      <th>0</th>\n",
       "      <td>0.0</td>\n",
       "      <td>1,378,532</td>\n",
       "      <td>72.7</td>\n",
       "    </tr>\n",
       "    <tr>\n",
       "      <th>1</th>\n",
       "      <td>1.0</td>\n",
       "      <td>518,628</td>\n",
       "      <td>27.3</td>\n",
       "    </tr>\n",
       "    <tr>\n",
       "      <th>2</th>\n",
       "      <td>Total</td>\n",
       "      <td>1,897,160</td>\n",
       "      <td>100.0</td>\n",
       "    </tr>\n",
       "  </tbody>\n",
       "</table>\n",
       "</div>"
      ],
      "text/plain": [
       "  Usó el Internet para: Educación formal y actividades de capacitación  \\\n",
       "0                                                0.0                     \n",
       "1                                                1.0                     \n",
       "2                                              Total                     \n",
       "\n",
       "    Recuento Porcentaje  \n",
       "0  1,378,532       72.7  \n",
       "1    518,628       27.3  \n",
       "2  1,897,160      100.0  "
      ]
     },
     "execution_count": 76,
     "metadata": {},
     "output_type": "execute_result"
    }
   ],
   "source": [
    "generar_tabla_recuento(base_filtrada, \"i_edu_formal\", \"Usó el Internet para: Educación formal y actividades de capacitación\",True,True)"
   ]
  },
  {
   "cell_type": "code",
   "execution_count": 77,
   "id": "863556b2-79a6-4cbb-bc0d-d81d67984cc7",
   "metadata": {},
   "outputs": [
    {
     "data": {
      "text/html": [
       "<div>\n",
       "<style scoped>\n",
       "    .dataframe tbody tr th:only-of-type {\n",
       "        vertical-align: middle;\n",
       "    }\n",
       "\n",
       "    .dataframe tbody tr th {\n",
       "        vertical-align: top;\n",
       "    }\n",
       "\n",
       "    .dataframe thead th {\n",
       "        text-align: right;\n",
       "    }\n",
       "</style>\n",
       "<table border=\"1\" class=\"dataframe\">\n",
       "  <thead>\n",
       "    <tr style=\"text-align: right;\">\n",
       "      <th></th>\n",
       "      <th>Usó el Internet para: Transacciones</th>\n",
       "      <th>Recuento</th>\n",
       "      <th>Porcentaje</th>\n",
       "    </tr>\n",
       "  </thead>\n",
       "  <tbody>\n",
       "    <tr>\n",
       "      <th>0</th>\n",
       "      <td>0.0</td>\n",
       "      <td>1,876,394</td>\n",
       "      <td>98.9</td>\n",
       "    </tr>\n",
       "    <tr>\n",
       "      <th>1</th>\n",
       "      <td>1.0</td>\n",
       "      <td>20,767</td>\n",
       "      <td>1.1</td>\n",
       "    </tr>\n",
       "    <tr>\n",
       "      <th>2</th>\n",
       "      <td>Total</td>\n",
       "      <td>1,897,160</td>\n",
       "      <td>100.0</td>\n",
       "    </tr>\n",
       "  </tbody>\n",
       "</table>\n",
       "</div>"
      ],
      "text/plain": [
       "  Usó el Internet para: Transacciones   Recuento Porcentaje\n",
       "0                                 0.0  1,876,394       98.9\n",
       "1                                 1.0     20,767        1.1\n",
       "2                               Total  1,897,160      100.0"
      ]
     },
     "execution_count": 77,
     "metadata": {},
     "output_type": "execute_result"
    }
   ],
   "source": [
    "generar_tabla_recuento(base_filtrada, \"i_transacciones\", \"Usó el Internet para: Transacciones\",True,True)"
   ]
  },
  {
   "cell_type": "code",
   "execution_count": 78,
   "id": "cef8d357-4a05-4a4a-b3ff-ad9c9b967e58",
   "metadata": {},
   "outputs": [
    {
     "data": {
      "text/html": [
       "<div>\n",
       "<style scoped>\n",
       "    .dataframe tbody tr th:only-of-type {\n",
       "        vertical-align: middle;\n",
       "    }\n",
       "\n",
       "    .dataframe tbody tr th {\n",
       "        vertical-align: top;\n",
       "    }\n",
       "\n",
       "    .dataframe thead th {\n",
       "        text-align: right;\n",
       "    }\n",
       "</style>\n",
       "<table border=\"1\" class=\"dataframe\">\n",
       "  <thead>\n",
       "    <tr style=\"text-align: right;\">\n",
       "      <th></th>\n",
       "      <th>Usó el Internet para: Actividades de entretenimiento</th>\n",
       "      <th>Recuento</th>\n",
       "      <th>Porcentaje</th>\n",
       "    </tr>\n",
       "  </thead>\n",
       "  <tbody>\n",
       "    <tr>\n",
       "      <th>0</th>\n",
       "      <td>0.0</td>\n",
       "      <td>427,739</td>\n",
       "      <td>22.5</td>\n",
       "    </tr>\n",
       "    <tr>\n",
       "      <th>1</th>\n",
       "      <td>1.0</td>\n",
       "      <td>1,469,422</td>\n",
       "      <td>77.4</td>\n",
       "    </tr>\n",
       "    <tr>\n",
       "      <th>2</th>\n",
       "      <td>Total</td>\n",
       "      <td>1,897,160</td>\n",
       "      <td>100.0</td>\n",
       "    </tr>\n",
       "  </tbody>\n",
       "</table>\n",
       "</div>"
      ],
      "text/plain": [
       "  Usó el Internet para: Actividades de entretenimiento   Recuento Porcentaje\n",
       "0                                                0.0      427,739       22.5\n",
       "1                                                1.0    1,469,422       77.4\n",
       "2                                              Total    1,897,160      100.0"
      ]
     },
     "execution_count": 78,
     "metadata": {},
     "output_type": "execute_result"
    }
   ],
   "source": [
    "generar_tabla_recuento(base_filtrada, \"i_act_entretenimiento\", \"Usó el Internet para: Actividades de entretenimiento\",True,True)"
   ]
  },
  {
   "cell_type": "code",
   "execution_count": 79,
   "id": "dee9981d-dba5-4999-9438-3cd3de3d4df8",
   "metadata": {},
   "outputs": [
    {
     "data": {
      "text/html": [
       "<div>\n",
       "<style scoped>\n",
       "    .dataframe tbody tr th:only-of-type {\n",
       "        vertical-align: middle;\n",
       "    }\n",
       "\n",
       "    .dataframe tbody tr th {\n",
       "        vertical-align: top;\n",
       "    }\n",
       "\n",
       "    .dataframe thead th {\n",
       "        text-align: right;\n",
       "    }\n",
       "</style>\n",
       "<table border=\"1\" class=\"dataframe\">\n",
       "  <thead>\n",
       "    <tr style=\"text-align: right;\">\n",
       "      <th></th>\n",
       "      <th>Usó el Internet para: Vender productos_servicios</th>\n",
       "      <th>Recuento</th>\n",
       "      <th>Porcentaje</th>\n",
       "    </tr>\n",
       "  </thead>\n",
       "  <tbody>\n",
       "    <tr>\n",
       "      <th>0</th>\n",
       "      <td>0.0</td>\n",
       "      <td>1,885,069</td>\n",
       "      <td>99.4</td>\n",
       "    </tr>\n",
       "    <tr>\n",
       "      <th>1</th>\n",
       "      <td>1.0</td>\n",
       "      <td>12,091</td>\n",
       "      <td>0.6</td>\n",
       "    </tr>\n",
       "    <tr>\n",
       "      <th>2</th>\n",
       "      <td>Total</td>\n",
       "      <td>1,897,160</td>\n",
       "      <td>100.0</td>\n",
       "    </tr>\n",
       "  </tbody>\n",
       "</table>\n",
       "</div>"
      ],
      "text/plain": [
       "  Usó el Internet para: Vender productos_servicios   Recuento Porcentaje\n",
       "0                                              0.0  1,885,069       99.4\n",
       "1                                              1.0     12,091        0.6\n",
       "2                                            Total  1,897,160      100.0"
      ]
     },
     "execution_count": 79,
     "metadata": {},
     "output_type": "execute_result"
    }
   ],
   "source": [
    "generar_tabla_recuento(base_filtrada, \"i_vender_pdts\", \"Usó el Internet para: Vender productos_servicios\",True,True)"
   ]
  },
  {
   "cell_type": "code",
   "execution_count": 80,
   "id": "b117d105-7f87-4129-9b13-169047c915c1",
   "metadata": {},
   "outputs": [
    {
     "data": {
      "text/html": [
       "<div>\n",
       "<style scoped>\n",
       "    .dataframe tbody tr th:only-of-type {\n",
       "        vertical-align: middle;\n",
       "    }\n",
       "\n",
       "    .dataframe tbody tr th {\n",
       "        vertical-align: top;\n",
       "    }\n",
       "\n",
       "    .dataframe thead th {\n",
       "        text-align: right;\n",
       "    }\n",
       "</style>\n",
       "<table border=\"1\" class=\"dataframe\">\n",
       "  <thead>\n",
       "    <tr style=\"text-align: right;\">\n",
       "      <th></th>\n",
       "      <th>Usó el Internet para: Otro</th>\n",
       "      <th>Recuento</th>\n",
       "      <th>Porcentaje</th>\n",
       "    </tr>\n",
       "  </thead>\n",
       "  <tbody>\n",
       "    <tr>\n",
       "      <th>0</th>\n",
       "      <td>0.0</td>\n",
       "      <td>1,879,748</td>\n",
       "      <td>99.1</td>\n",
       "    </tr>\n",
       "    <tr>\n",
       "      <th>1</th>\n",
       "      <td>1.0</td>\n",
       "      <td>17,412</td>\n",
       "      <td>0.9</td>\n",
       "    </tr>\n",
       "    <tr>\n",
       "      <th>2</th>\n",
       "      <td>Total</td>\n",
       "      <td>1,897,160</td>\n",
       "      <td>100.0</td>\n",
       "    </tr>\n",
       "  </tbody>\n",
       "</table>\n",
       "</div>"
      ],
      "text/plain": [
       "  Usó el Internet para: Otro   Recuento Porcentaje\n",
       "0                        0.0  1,879,748       99.1\n",
       "1                        1.0     17,412        0.9\n",
       "2                      Total  1,897,160      100.0"
      ]
     },
     "execution_count": 80,
     "metadata": {},
     "output_type": "execute_result"
    }
   ],
   "source": [
    "generar_tabla_recuento(base_filtrada, \"p316_9\", \"Usó el Internet para: Otro\",True,True)"
   ]
  },
  {
   "cell_type": "code",
   "execution_count": 81,
   "id": "b74cd6f1-3ce3-4b21-a8f4-452b4f89a7d0",
   "metadata": {},
   "outputs": [
    {
     "data": {
      "text/html": [
       "<div>\n",
       "<style scoped>\n",
       "    .dataframe tbody tr th:only-of-type {\n",
       "        vertical-align: middle;\n",
       "    }\n",
       "\n",
       "    .dataframe tbody tr th {\n",
       "        vertical-align: top;\n",
       "    }\n",
       "\n",
       "    .dataframe thead th {\n",
       "        text-align: right;\n",
       "    }\n",
       "</style>\n",
       "<table border=\"1\" class=\"dataframe\">\n",
       "  <thead>\n",
       "    <tr style=\"text-align: right;\">\n",
       "      <th></th>\n",
       "      <th>Usó el Internet para: Otro2</th>\n",
       "      <th>Recuento</th>\n",
       "      <th>Porcentaje</th>\n",
       "    </tr>\n",
       "  </thead>\n",
       "  <tbody>\n",
       "    <tr>\n",
       "      <th>0</th>\n",
       "      <td>0.0</td>\n",
       "      <td>1,896,846</td>\n",
       "      <td>100.0</td>\n",
       "    </tr>\n",
       "    <tr>\n",
       "      <th>1</th>\n",
       "      <td>1.0</td>\n",
       "      <td>314</td>\n",
       "      <td>0.0</td>\n",
       "    </tr>\n",
       "    <tr>\n",
       "      <th>2</th>\n",
       "      <td>Total</td>\n",
       "      <td>1,897,160</td>\n",
       "      <td>100.0</td>\n",
       "    </tr>\n",
       "  </tbody>\n",
       "</table>\n",
       "</div>"
      ],
      "text/plain": [
       "  Usó el Internet para: Otro2   Recuento Porcentaje\n",
       "0                         0.0  1,896,846      100.0\n",
       "1                         1.0        314        0.0\n",
       "2                       Total  1,897,160      100.0"
      ]
     },
     "execution_count": 81,
     "metadata": {},
     "output_type": "execute_result"
    }
   ],
   "source": [
    "generar_tabla_recuento(base_filtrada, \"p316_10\", \"Usó el Internet para: Otro2\",True,True)"
   ]
  },
  {
   "cell_type": "code",
   "execution_count": 82,
   "id": "0a8b3fc3-e52e-4951-aeb4-c76b4250b6a1",
   "metadata": {},
   "outputs": [
    {
     "data": {
      "text/html": [
       "<div>\n",
       "<style scoped>\n",
       "    .dataframe tbody tr th:only-of-type {\n",
       "        vertical-align: middle;\n",
       "    }\n",
       "\n",
       "    .dataframe tbody tr th {\n",
       "        vertical-align: top;\n",
       "    }\n",
       "\n",
       "    .dataframe thead th {\n",
       "        text-align: right;\n",
       "    }\n",
       "</style>\n",
       "<table border=\"1\" class=\"dataframe\">\n",
       "  <thead>\n",
       "    <tr style=\"text-align: right;\">\n",
       "      <th></th>\n",
       "      <th>Usó el Internet para: Otro3</th>\n",
       "      <th>Recuento</th>\n",
       "      <th>Porcentaje</th>\n",
       "    </tr>\n",
       "  </thead>\n",
       "  <tbody>\n",
       "    <tr>\n",
       "      <th>0</th>\n",
       "      <td>0.0</td>\n",
       "      <td>1,897,160</td>\n",
       "      <td>100.0</td>\n",
       "    </tr>\n",
       "    <tr>\n",
       "      <th>1</th>\n",
       "      <td>Total</td>\n",
       "      <td>1,897,160</td>\n",
       "      <td>100.0</td>\n",
       "    </tr>\n",
       "  </tbody>\n",
       "</table>\n",
       "</div>"
      ],
      "text/plain": [
       "  Usó el Internet para: Otro3   Recuento Porcentaje\n",
       "0                         0.0  1,897,160      100.0\n",
       "1                       Total  1,897,160      100.0"
      ]
     },
     "execution_count": 82,
     "metadata": {},
     "output_type": "execute_result"
    }
   ],
   "source": [
    "generar_tabla_recuento(base_filtrada, \"p316_11\", \"Usó el Internet para: Otro3\",True,True)"
   ]
  },
  {
   "cell_type": "code",
   "execution_count": 83,
   "id": "f1184088-0c0b-4b09-9bb1-cd7e4873ebdf",
   "metadata": {},
   "outputs": [
    {
     "data": {
      "text/html": [
       "<div>\n",
       "<style scoped>\n",
       "    .dataframe tbody tr th:only-of-type {\n",
       "        vertical-align: middle;\n",
       "    }\n",
       "\n",
       "    .dataframe tbody tr th {\n",
       "        vertical-align: top;\n",
       "    }\n",
       "\n",
       "    .dataframe thead th {\n",
       "        text-align: right;\n",
       "    }\n",
       "</style>\n",
       "<table border=\"1\" class=\"dataframe\">\n",
       "  <thead>\n",
       "    <tr style=\"text-align: right;\">\n",
       "      <th></th>\n",
       "      <th>Usó el Internet para: descarga de antivirus</th>\n",
       "      <th>Recuento</th>\n",
       "      <th>Porcentaje</th>\n",
       "    </tr>\n",
       "  </thead>\n",
       "  <tbody>\n",
       "    <tr>\n",
       "      <th>0</th>\n",
       "      <td>0.0</td>\n",
       "      <td>1,700,296</td>\n",
       "      <td>89.6</td>\n",
       "    </tr>\n",
       "    <tr>\n",
       "      <th>1</th>\n",
       "      <td>1.0</td>\n",
       "      <td>196,864</td>\n",
       "      <td>10.4</td>\n",
       "    </tr>\n",
       "    <tr>\n",
       "      <th>2</th>\n",
       "      <td>Total</td>\n",
       "      <td>1,897,160</td>\n",
       "      <td>100.0</td>\n",
       "    </tr>\n",
       "  </tbody>\n",
       "</table>\n",
       "</div>"
      ],
      "text/plain": [
       "  Usó el Internet para: descarga de antivirus   Recuento Porcentaje\n",
       "0                                         0.0  1,700,296       89.6\n",
       "1                                         1.0    196,864       10.4\n",
       "2                                       Total  1,897,160      100.0"
      ]
     },
     "execution_count": 83,
     "metadata": {},
     "output_type": "execute_result"
    }
   ],
   "source": [
    "generar_tabla_recuento(base_filtrada, \"i_descarga_antivirus\", \"Usó el Internet para: descarga de antivirus\",True,True)"
   ]
  },
  {
   "cell_type": "markdown",
   "id": "0106306b-dfb2-4b5f-b8d2-b7faa4523b6e",
   "metadata": {},
   "source": [
    "## ACTIVIDADES INFORMÁTICAS - para personas de 14 +"
   ]
  },
  {
   "cell_type": "code",
   "execution_count": null,
   "id": "2eeaafcb-3b1c-46b4-bb3c-125cfa481051",
   "metadata": {},
   "outputs": [],
   "source": []
  },
  {
   "cell_type": "code",
   "execution_count": null,
   "id": "00697a35-5498-4fab-80b0-f4d85204e23f",
   "metadata": {},
   "outputs": [],
   "source": []
  },
  {
   "cell_type": "code",
   "execution_count": null,
   "id": "3c402431-9d15-4acc-b0ba-eb7457f9acf8",
   "metadata": {},
   "outputs": [],
   "source": []
  },
  {
   "cell_type": "code",
   "execution_count": null,
   "id": "d24eb3cb-3559-4afa-b2cf-1aefc5844be5",
   "metadata": {},
   "outputs": [],
   "source": []
  },
  {
   "cell_type": "markdown",
   "id": "532b697c-e387-488e-999f-9ed4e649feb6",
   "metadata": {},
   "source": [
    "## CLASES A DISTANCIA"
   ]
  },
  {
   "cell_type": "code",
   "execution_count": null,
   "id": "2136758a-4590-49a8-9993-0b939b3f50c3",
   "metadata": {},
   "outputs": [],
   "source": []
  },
  {
   "cell_type": "code",
   "execution_count": 84,
   "id": "bd7bdb42-3e96-4887-a7b4-7cf7f7ef8213",
   "metadata": {},
   "outputs": [
    {
     "name": "stdout",
     "output_type": "stream",
     "text": [
      "Cantidad de valores nulos en 'mi_columna': 2892\n"
     ]
    }
   ],
   "source": [
    "# Cuenta los valores nulos en la columna \"mi_columna\"\n",
    "nulos_en_columna = base_filtrada['cl_medio_tv'].isnull().sum()\n",
    "\n",
    "# Muestra el resultado\n",
    "print(\"Cantidad de valores nulos en 'mi_columna':\", nulos_en_columna)"
   ]
  },
  {
   "cell_type": "code",
   "execution_count": 85,
   "id": "6528ad5a-ab3b-4492-852e-c2304bf73de4",
   "metadata": {},
   "outputs": [
    {
     "data": {
      "text/html": [
       "<div>\n",
       "<style scoped>\n",
       "    .dataframe tbody tr th:only-of-type {\n",
       "        vertical-align: middle;\n",
       "    }\n",
       "\n",
       "    .dataframe tbody tr th {\n",
       "        vertical-align: top;\n",
       "    }\n",
       "\n",
       "    .dataframe thead th {\n",
       "        text-align: right;\n",
       "    }\n",
       "</style>\n",
       "<table border=\"1\" class=\"dataframe\">\n",
       "  <thead>\n",
       "    <tr style=\"text-align: right;\">\n",
       "      <th></th>\n",
       "      <th>Acceso al contenido de clase - TELEVISION</th>\n",
       "      <th>Recuento</th>\n",
       "      <th>Porcentaje</th>\n",
       "    </tr>\n",
       "  </thead>\n",
       "  <tbody>\n",
       "    <tr>\n",
       "      <th>0</th>\n",
       "      <td>0.0</td>\n",
       "      <td>2,671,822</td>\n",
       "      <td>52.8</td>\n",
       "    </tr>\n",
       "    <tr>\n",
       "      <th>1</th>\n",
       "      <td>1.0</td>\n",
       "      <td>2,393,673</td>\n",
       "      <td>47.2</td>\n",
       "    </tr>\n",
       "    <tr>\n",
       "      <th>2</th>\n",
       "      <td>Total</td>\n",
       "      <td>5,065,495</td>\n",
       "      <td>100.0</td>\n",
       "    </tr>\n",
       "  </tbody>\n",
       "</table>\n",
       "</div>"
      ],
      "text/plain": [
       "  Acceso al contenido de clase - TELEVISION   Recuento Porcentaje\n",
       "0                                       0.0  2,671,822       52.8\n",
       "1                                       1.0  2,393,673       47.2\n",
       "2                                     Total  5,065,495      100.0"
      ]
     },
     "execution_count": 85,
     "metadata": {},
     "output_type": "execute_result"
    }
   ],
   "source": [
    "generar_tabla_recuento(base_filtrada, \"cl_medio_tv\", \"Acceso al contenido de clase - TELEVISION\",True, True)"
   ]
  },
  {
   "cell_type": "code",
   "execution_count": 86,
   "id": "7e92479f-c2ca-4734-9600-0dd8fe444906",
   "metadata": {},
   "outputs": [
    {
     "data": {
      "text/html": [
       "<div>\n",
       "<style scoped>\n",
       "    .dataframe tbody tr th:only-of-type {\n",
       "        vertical-align: middle;\n",
       "    }\n",
       "\n",
       "    .dataframe tbody tr th {\n",
       "        vertical-align: top;\n",
       "    }\n",
       "\n",
       "    .dataframe thead th {\n",
       "        text-align: right;\n",
       "    }\n",
       "</style>\n",
       "<table border=\"1\" class=\"dataframe\">\n",
       "  <thead>\n",
       "    <tr style=\"text-align: right;\">\n",
       "      <th></th>\n",
       "      <th>Acceso al contenido de clase - RADIO</th>\n",
       "      <th>Recuento</th>\n",
       "      <th>Porcentaje</th>\n",
       "    </tr>\n",
       "  </thead>\n",
       "  <tbody>\n",
       "    <tr>\n",
       "      <th>0</th>\n",
       "      <td>0.0</td>\n",
       "      <td>4,174,305</td>\n",
       "      <td>82.4</td>\n",
       "    </tr>\n",
       "    <tr>\n",
       "      <th>1</th>\n",
       "      <td>1.0</td>\n",
       "      <td>891,190</td>\n",
       "      <td>17.6</td>\n",
       "    </tr>\n",
       "    <tr>\n",
       "      <th>2</th>\n",
       "      <td>Total</td>\n",
       "      <td>5,065,495</td>\n",
       "      <td>100.0</td>\n",
       "    </tr>\n",
       "  </tbody>\n",
       "</table>\n",
       "</div>"
      ],
      "text/plain": [
       "  Acceso al contenido de clase - RADIO   Recuento Porcentaje\n",
       "0                                  0.0  4,174,305       82.4\n",
       "1                                  1.0    891,190       17.6\n",
       "2                                Total  5,065,495      100.0"
      ]
     },
     "execution_count": 86,
     "metadata": {},
     "output_type": "execute_result"
    }
   ],
   "source": [
    "generar_tabla_recuento(base_filtrada, \"cl_medio_radio\", \"Acceso al contenido de clase - RADIO\",True, True)"
   ]
  },
  {
   "cell_type": "code",
   "execution_count": 87,
   "id": "2893333d-daa9-4f54-b4ae-dc95171f9d20",
   "metadata": {},
   "outputs": [
    {
     "data": {
      "text/html": [
       "<div>\n",
       "<style scoped>\n",
       "    .dataframe tbody tr th:only-of-type {\n",
       "        vertical-align: middle;\n",
       "    }\n",
       "\n",
       "    .dataframe tbody tr th {\n",
       "        vertical-align: top;\n",
       "    }\n",
       "\n",
       "    .dataframe thead th {\n",
       "        text-align: right;\n",
       "    }\n",
       "</style>\n",
       "<table border=\"1\" class=\"dataframe\">\n",
       "  <thead>\n",
       "    <tr style=\"text-align: right;\">\n",
       "      <th></th>\n",
       "      <th>Acceso al contenido de clase - PLATAFORMA VIRTUAL</th>\n",
       "      <th>Recuento</th>\n",
       "      <th>Porcentaje</th>\n",
       "    </tr>\n",
       "  </thead>\n",
       "  <tbody>\n",
       "    <tr>\n",
       "      <th>0</th>\n",
       "      <td>0.0</td>\n",
       "      <td>3,419,670</td>\n",
       "      <td>67.5</td>\n",
       "    </tr>\n",
       "    <tr>\n",
       "      <th>1</th>\n",
       "      <td>1.0</td>\n",
       "      <td>1,645,825</td>\n",
       "      <td>32.5</td>\n",
       "    </tr>\n",
       "    <tr>\n",
       "      <th>2</th>\n",
       "      <td>Total</td>\n",
       "      <td>5,065,495</td>\n",
       "      <td>100.0</td>\n",
       "    </tr>\n",
       "  </tbody>\n",
       "</table>\n",
       "</div>"
      ],
      "text/plain": [
       "  Acceso al contenido de clase - PLATAFORMA VIRTUAL   Recuento Porcentaje\n",
       "0                                               0.0  3,419,670       67.5\n",
       "1                                               1.0  1,645,825       32.5\n",
       "2                                             Total  5,065,495      100.0"
      ]
     },
     "execution_count": 87,
     "metadata": {},
     "output_type": "execute_result"
    }
   ],
   "source": [
    "generar_tabla_recuento(base_filtrada, \"cl_medio_plataforma_virtual\", \"Acceso al contenido de clase - PLATAFORMA VIRTUAL\",True,True)"
   ]
  },
  {
   "cell_type": "code",
   "execution_count": 88,
   "id": "20e720c9-4b89-48f9-bd6b-8d241d797d62",
   "metadata": {},
   "outputs": [
    {
     "data": {
      "text/html": [
       "<div>\n",
       "<style scoped>\n",
       "    .dataframe tbody tr th:only-of-type {\n",
       "        vertical-align: middle;\n",
       "    }\n",
       "\n",
       "    .dataframe tbody tr th {\n",
       "        vertical-align: top;\n",
       "    }\n",
       "\n",
       "    .dataframe thead th {\n",
       "        text-align: right;\n",
       "    }\n",
       "</style>\n",
       "<table border=\"1\" class=\"dataframe\">\n",
       "  <thead>\n",
       "    <tr style=\"text-align: right;\">\n",
       "      <th></th>\n",
       "      <th>Acceso al contenido de clase - OTRO</th>\n",
       "      <th>Recuento</th>\n",
       "      <th>Porcentaje</th>\n",
       "    </tr>\n",
       "  </thead>\n",
       "  <tbody>\n",
       "    <tr>\n",
       "      <th>0</th>\n",
       "      <td>0.0</td>\n",
       "      <td>4,963,953</td>\n",
       "      <td>98.0</td>\n",
       "    </tr>\n",
       "    <tr>\n",
       "      <th>1</th>\n",
       "      <td>1.0</td>\n",
       "      <td>101,542</td>\n",
       "      <td>2.0</td>\n",
       "    </tr>\n",
       "    <tr>\n",
       "      <th>2</th>\n",
       "      <td>Total</td>\n",
       "      <td>5,065,495</td>\n",
       "      <td>100.0</td>\n",
       "    </tr>\n",
       "  </tbody>\n",
       "</table>\n",
       "</div>"
      ],
      "text/plain": [
       "  Acceso al contenido de clase - OTRO   Recuento Porcentaje\n",
       "0                                 0.0  4,963,953       98.0\n",
       "1                                 1.0    101,542        2.0\n",
       "2                               Total  5,065,495      100.0"
      ]
     },
     "execution_count": 88,
     "metadata": {},
     "output_type": "execute_result"
    }
   ],
   "source": [
    "generar_tabla_recuento(base_filtrada, \"cl_medio_otro\", \"Acceso al contenido de clase - OTRO\",True,True)"
   ]
  },
  {
   "cell_type": "code",
   "execution_count": 89,
   "id": "a3f88688-185a-4f61-b092-b1adca569bec",
   "metadata": {},
   "outputs": [
    {
     "data": {
      "text/html": [
       "<div>\n",
       "<style scoped>\n",
       "    .dataframe tbody tr th:only-of-type {\n",
       "        vertical-align: middle;\n",
       "    }\n",
       "\n",
       "    .dataframe tbody tr th {\n",
       "        vertical-align: top;\n",
       "    }\n",
       "\n",
       "    .dataframe thead th {\n",
       "        text-align: right;\n",
       "    }\n",
       "</style>\n",
       "<table border=\"1\" class=\"dataframe\">\n",
       "  <thead>\n",
       "    <tr style=\"text-align: right;\">\n",
       "      <th></th>\n",
       "      <th>Acceso al contenido de clase - WHATSAPP</th>\n",
       "      <th>Recuento</th>\n",
       "      <th>Porcentaje</th>\n",
       "    </tr>\n",
       "  </thead>\n",
       "  <tbody>\n",
       "    <tr>\n",
       "      <th>0</th>\n",
       "      <td>0.0</td>\n",
       "      <td>1,707,086</td>\n",
       "      <td>33.7</td>\n",
       "    </tr>\n",
       "    <tr>\n",
       "      <th>1</th>\n",
       "      <td>1.0</td>\n",
       "      <td>3,358,408</td>\n",
       "      <td>66.3</td>\n",
       "    </tr>\n",
       "    <tr>\n",
       "      <th>2</th>\n",
       "      <td>Total</td>\n",
       "      <td>5,065,495</td>\n",
       "      <td>100.0</td>\n",
       "    </tr>\n",
       "  </tbody>\n",
       "</table>\n",
       "</div>"
      ],
      "text/plain": [
       "  Acceso al contenido de clase - WHATSAPP   Recuento Porcentaje\n",
       "0                                     0.0  1,707,086       33.7\n",
       "1                                     1.0  3,358,408       66.3\n",
       "2                                   Total  5,065,495      100.0"
      ]
     },
     "execution_count": 89,
     "metadata": {},
     "output_type": "execute_result"
    }
   ],
   "source": [
    "generar_tabla_recuento(base_filtrada, \"cl_medio_wsp\", \"Acceso al contenido de clase - WHATSAPP\",True,True)"
   ]
  },
  {
   "cell_type": "code",
   "execution_count": 90,
   "id": "3bb15878-e20d-4c18-8a25-6522174e0ff1",
   "metadata": {},
   "outputs": [
    {
     "data": {
      "text/html": [
       "<div>\n",
       "<style scoped>\n",
       "    .dataframe tbody tr th:only-of-type {\n",
       "        vertical-align: middle;\n",
       "    }\n",
       "\n",
       "    .dataframe tbody tr th {\n",
       "        vertical-align: top;\n",
       "    }\n",
       "\n",
       "    .dataframe thead th {\n",
       "        text-align: right;\n",
       "    }\n",
       "</style>\n",
       "<table border=\"1\" class=\"dataframe\">\n",
       "  <thead>\n",
       "    <tr style=\"text-align: right;\">\n",
       "      <th></th>\n",
       "      <th>Acceso al contenido de clase - CORREO</th>\n",
       "      <th>Recuento</th>\n",
       "      <th>Porcentaje</th>\n",
       "    </tr>\n",
       "  </thead>\n",
       "  <tbody>\n",
       "    <tr>\n",
       "      <th>0</th>\n",
       "      <td>0.0</td>\n",
       "      <td>4,887,306</td>\n",
       "      <td>96.5</td>\n",
       "    </tr>\n",
       "    <tr>\n",
       "      <th>1</th>\n",
       "      <td>1.0</td>\n",
       "      <td>178,188</td>\n",
       "      <td>3.5</td>\n",
       "    </tr>\n",
       "    <tr>\n",
       "      <th>2</th>\n",
       "      <td>Total</td>\n",
       "      <td>5,065,495</td>\n",
       "      <td>100.0</td>\n",
       "    </tr>\n",
       "  </tbody>\n",
       "</table>\n",
       "</div>"
      ],
      "text/plain": [
       "  Acceso al contenido de clase - CORREO   Recuento Porcentaje\n",
       "0                                   0.0  4,887,306       96.5\n",
       "1                                   1.0    178,188        3.5\n",
       "2                                 Total  5,065,495      100.0"
      ]
     },
     "execution_count": 90,
     "metadata": {},
     "output_type": "execute_result"
    }
   ],
   "source": [
    "generar_tabla_recuento(base_filtrada, \"cl_medio_correo\", \"Acceso al contenido de clase - CORREO\",True,True)"
   ]
  },
  {
   "cell_type": "code",
   "execution_count": 91,
   "id": "fd0b0a9f-9e7c-4cd8-b05a-70f5a6144fed",
   "metadata": {},
   "outputs": [
    {
     "data": {
      "text/html": [
       "<div>\n",
       "<style scoped>\n",
       "    .dataframe tbody tr th:only-of-type {\n",
       "        vertical-align: middle;\n",
       "    }\n",
       "\n",
       "    .dataframe tbody tr th {\n",
       "        vertical-align: top;\n",
       "    }\n",
       "\n",
       "    .dataframe thead th {\n",
       "        text-align: right;\n",
       "    }\n",
       "</style>\n",
       "<table border=\"1\" class=\"dataframe\">\n",
       "  <thead>\n",
       "    <tr style=\"text-align: right;\">\n",
       "      <th></th>\n",
       "      <th>Acceso al contenido de clase - LLAMADAS</th>\n",
       "      <th>Recuento</th>\n",
       "      <th>Porcentaje</th>\n",
       "    </tr>\n",
       "  </thead>\n",
       "  <tbody>\n",
       "    <tr>\n",
       "      <th>0</th>\n",
       "      <td>0.0</td>\n",
       "      <td>3,604,929</td>\n",
       "      <td>71.2</td>\n",
       "    </tr>\n",
       "    <tr>\n",
       "      <th>1</th>\n",
       "      <td>1.0</td>\n",
       "      <td>1,460,566</td>\n",
       "      <td>28.8</td>\n",
       "    </tr>\n",
       "    <tr>\n",
       "      <th>2</th>\n",
       "      <td>Total</td>\n",
       "      <td>5,065,495</td>\n",
       "      <td>100.0</td>\n",
       "    </tr>\n",
       "  </tbody>\n",
       "</table>\n",
       "</div>"
      ],
      "text/plain": [
       "  Acceso al contenido de clase - LLAMADAS   Recuento Porcentaje\n",
       "0                                     0.0  3,604,929       71.2\n",
       "1                                     1.0  1,460,566       28.8\n",
       "2                                   Total  5,065,495      100.0"
      ]
     },
     "execution_count": 91,
     "metadata": {},
     "output_type": "execute_result"
    }
   ],
   "source": [
    "generar_tabla_recuento(base_filtrada, \"cl_medio_llamadas\", \"Acceso al contenido de clase - LLAMADAS\",True,True)"
   ]
  },
  {
   "cell_type": "code",
   "execution_count": 92,
   "id": "427d5088-d4f2-4d66-9f2c-c69c9dc373da",
   "metadata": {},
   "outputs": [
    {
     "data": {
      "text/html": [
       "<div>\n",
       "<style scoped>\n",
       "    .dataframe tbody tr th:only-of-type {\n",
       "        vertical-align: middle;\n",
       "    }\n",
       "\n",
       "    .dataframe tbody tr th {\n",
       "        vertical-align: top;\n",
       "    }\n",
       "\n",
       "    .dataframe thead th {\n",
       "        text-align: right;\n",
       "    }\n",
       "</style>\n",
       "<table border=\"1\" class=\"dataframe\">\n",
       "  <thead>\n",
       "    <tr style=\"text-align: right;\">\n",
       "      <th></th>\n",
       "      <th>Acceso al contenido de clase - INTERACCION PROFESOR</th>\n",
       "      <th>Recuento</th>\n",
       "      <th>Porcentaje</th>\n",
       "    </tr>\n",
       "  </thead>\n",
       "  <tbody>\n",
       "    <tr>\n",
       "      <th>0</th>\n",
       "      <td>0.0</td>\n",
       "      <td>1,894,223</td>\n",
       "      <td>37.4</td>\n",
       "    </tr>\n",
       "    <tr>\n",
       "      <th>1</th>\n",
       "      <td>1.0</td>\n",
       "      <td>3,171,272</td>\n",
       "      <td>62.6</td>\n",
       "    </tr>\n",
       "    <tr>\n",
       "      <th>2</th>\n",
       "      <td>Total</td>\n",
       "      <td>5,065,495</td>\n",
       "      <td>100.0</td>\n",
       "    </tr>\n",
       "  </tbody>\n",
       "</table>\n",
       "</div>"
      ],
      "text/plain": [
       "  Acceso al contenido de clase - INTERACCION PROFESOR   Recuento Porcentaje\n",
       "0                                                0.0   1,894,223       37.4\n",
       "1                                                1.0   3,171,272       62.6\n",
       "2                                              Total   5,065,495      100.0"
      ]
     },
     "execution_count": 92,
     "metadata": {},
     "output_type": "execute_result"
    }
   ],
   "source": [
    "generar_tabla_recuento(base_filtrada, \"cl_desarrollo_interaccion\", \"Acceso al contenido de clase - INTERACCION PROFESOR\",True,True)"
   ]
  },
  {
   "cell_type": "code",
   "execution_count": 93,
   "id": "515bd9ad-1bda-441b-96d6-9e7b6878dce2",
   "metadata": {},
   "outputs": [
    {
     "data": {
      "text/html": [
       "<div>\n",
       "<style scoped>\n",
       "    .dataframe tbody tr th:only-of-type {\n",
       "        vertical-align: middle;\n",
       "    }\n",
       "\n",
       "    .dataframe tbody tr th {\n",
       "        vertical-align: top;\n",
       "    }\n",
       "\n",
       "    .dataframe thead th {\n",
       "        text-align: right;\n",
       "    }\n",
       "</style>\n",
       "<table border=\"1\" class=\"dataframe\">\n",
       "  <thead>\n",
       "    <tr style=\"text-align: right;\">\n",
       "      <th></th>\n",
       "      <th>Acceso al contenido de clase - VIDEOS</th>\n",
       "      <th>Recuento</th>\n",
       "      <th>Porcentaje</th>\n",
       "    </tr>\n",
       "  </thead>\n",
       "  <tbody>\n",
       "    <tr>\n",
       "      <th>0</th>\n",
       "      <td>0.0</td>\n",
       "      <td>2,184,106</td>\n",
       "      <td>43.1</td>\n",
       "    </tr>\n",
       "    <tr>\n",
       "      <th>1</th>\n",
       "      <td>1.0</td>\n",
       "      <td>2,881,389</td>\n",
       "      <td>56.9</td>\n",
       "    </tr>\n",
       "    <tr>\n",
       "      <th>2</th>\n",
       "      <td>Total</td>\n",
       "      <td>5,065,495</td>\n",
       "      <td>100.0</td>\n",
       "    </tr>\n",
       "  </tbody>\n",
       "</table>\n",
       "</div>"
      ],
      "text/plain": [
       "  Acceso al contenido de clase - VIDEOS   Recuento Porcentaje\n",
       "0                                   0.0  2,184,106       43.1\n",
       "1                                   1.0  2,881,389       56.9\n",
       "2                                 Total  5,065,495      100.0"
      ]
     },
     "execution_count": 93,
     "metadata": {},
     "output_type": "execute_result"
    }
   ],
   "source": [
    "generar_tabla_recuento(base_filtrada, \"cl_desarrollo_videos\", \"Acceso al contenido de clase - VIDEOS\",True,True)"
   ]
  },
  {
   "cell_type": "code",
   "execution_count": 94,
   "id": "93ef428c-d602-469d-85d3-5b3ea8dd6134",
   "metadata": {},
   "outputs": [
    {
     "data": {
      "text/html": [
       "<div>\n",
       "<style scoped>\n",
       "    .dataframe tbody tr th:only-of-type {\n",
       "        vertical-align: middle;\n",
       "    }\n",
       "\n",
       "    .dataframe tbody tr th {\n",
       "        vertical-align: top;\n",
       "    }\n",
       "\n",
       "    .dataframe thead th {\n",
       "        text-align: right;\n",
       "    }\n",
       "</style>\n",
       "<table border=\"1\" class=\"dataframe\">\n",
       "  <thead>\n",
       "    <tr style=\"text-align: right;\">\n",
       "      <th></th>\n",
       "      <th>Acceso al contenido de clase - DOCUMENTOS</th>\n",
       "      <th>Recuento</th>\n",
       "      <th>Porcentaje</th>\n",
       "    </tr>\n",
       "  </thead>\n",
       "  <tbody>\n",
       "    <tr>\n",
       "      <th>0</th>\n",
       "      <td>0.0</td>\n",
       "      <td>1,233,859</td>\n",
       "      <td>24.4</td>\n",
       "    </tr>\n",
       "    <tr>\n",
       "      <th>1</th>\n",
       "      <td>1.0</td>\n",
       "      <td>3,831,636</td>\n",
       "      <td>75.6</td>\n",
       "    </tr>\n",
       "    <tr>\n",
       "      <th>2</th>\n",
       "      <td>Total</td>\n",
       "      <td>5,065,495</td>\n",
       "      <td>100.0</td>\n",
       "    </tr>\n",
       "  </tbody>\n",
       "</table>\n",
       "</div>"
      ],
      "text/plain": [
       "  Acceso al contenido de clase - DOCUMENTOS   Recuento Porcentaje\n",
       "0                                       0.0  1,233,859       24.4\n",
       "1                                       1.0  3,831,636       75.6\n",
       "2                                     Total  5,065,495      100.0"
      ]
     },
     "execution_count": 94,
     "metadata": {},
     "output_type": "execute_result"
    }
   ],
   "source": [
    "generar_tabla_recuento(base_filtrada, \"cl_desarrollo_documentos\", \"Acceso al contenido de clase - DOCUMENTOS\",True,True)"
   ]
  },
  {
   "cell_type": "code",
   "execution_count": 95,
   "id": "36785174-deff-494c-acd8-622e9d64c784",
   "metadata": {},
   "outputs": [
    {
     "data": {
      "text/html": [
       "<div>\n",
       "<style scoped>\n",
       "    .dataframe tbody tr th:only-of-type {\n",
       "        vertical-align: middle;\n",
       "    }\n",
       "\n",
       "    .dataframe tbody tr th {\n",
       "        vertical-align: top;\n",
       "    }\n",
       "\n",
       "    .dataframe thead th {\n",
       "        text-align: right;\n",
       "    }\n",
       "</style>\n",
       "<table border=\"1\" class=\"dataframe\">\n",
       "  <thead>\n",
       "    <tr style=\"text-align: right;\">\n",
       "      <th></th>\n",
       "      <th>Acceso al contenido de clase - OTROS</th>\n",
       "      <th>Recuento</th>\n",
       "      <th>Porcentaje</th>\n",
       "    </tr>\n",
       "  </thead>\n",
       "  <tbody>\n",
       "    <tr>\n",
       "      <th>0</th>\n",
       "      <td>0.0</td>\n",
       "      <td>5,040,685</td>\n",
       "      <td>99.5</td>\n",
       "    </tr>\n",
       "    <tr>\n",
       "      <th>1</th>\n",
       "      <td>1.0</td>\n",
       "      <td>24,810</td>\n",
       "      <td>0.5</td>\n",
       "    </tr>\n",
       "    <tr>\n",
       "      <th>2</th>\n",
       "      <td>Total</td>\n",
       "      <td>5,065,495</td>\n",
       "      <td>100.0</td>\n",
       "    </tr>\n",
       "  </tbody>\n",
       "</table>\n",
       "</div>"
      ],
      "text/plain": [
       "  Acceso al contenido de clase - OTROS   Recuento Porcentaje\n",
       "0                                  0.0  5,040,685       99.5\n",
       "1                                  1.0     24,810        0.5\n",
       "2                                Total  5,065,495      100.0"
      ]
     },
     "execution_count": 95,
     "metadata": {},
     "output_type": "execute_result"
    }
   ],
   "source": [
    "generar_tabla_recuento(base_filtrada, \"cl_desarrollo_otros\", \"Acceso al contenido de clase - OTROS\",True,True)"
   ]
  },
  {
   "cell_type": "code",
   "execution_count": 96,
   "id": "282f9864-e1eb-4214-90fd-799d59053aaf",
   "metadata": {},
   "outputs": [
    {
     "data": {
      "text/html": [
       "<div>\n",
       "<style scoped>\n",
       "    .dataframe tbody tr th:only-of-type {\n",
       "        vertical-align: middle;\n",
       "    }\n",
       "\n",
       "    .dataframe tbody tr th {\n",
       "        vertical-align: top;\n",
       "    }\n",
       "\n",
       "    .dataframe thead th {\n",
       "        text-align: right;\n",
       "    }\n",
       "</style>\n",
       "<table border=\"1\" class=\"dataframe\">\n",
       "  <thead>\n",
       "    <tr style=\"text-align: right;\">\n",
       "      <th></th>\n",
       "      <th>Acceso al contenido de clase - MENSAJES DE AUDIO</th>\n",
       "      <th>Recuento</th>\n",
       "      <th>Porcentaje</th>\n",
       "    </tr>\n",
       "  </thead>\n",
       "  <tbody>\n",
       "    <tr>\n",
       "      <th>0</th>\n",
       "      <td>0.0</td>\n",
       "      <td>3,144,475</td>\n",
       "      <td>62.1</td>\n",
       "    </tr>\n",
       "    <tr>\n",
       "      <th>1</th>\n",
       "      <td>1.0</td>\n",
       "      <td>1,921,020</td>\n",
       "      <td>37.9</td>\n",
       "    </tr>\n",
       "    <tr>\n",
       "      <th>2</th>\n",
       "      <td>Total</td>\n",
       "      <td>5,065,495</td>\n",
       "      <td>100.0</td>\n",
       "    </tr>\n",
       "  </tbody>\n",
       "</table>\n",
       "</div>"
      ],
      "text/plain": [
       "  Acceso al contenido de clase - MENSAJES DE AUDIO   Recuento Porcentaje\n",
       "0                                              0.0  3,144,475       62.1\n",
       "1                                              1.0  1,921,020       37.9\n",
       "2                                            Total  5,065,495      100.0"
      ]
     },
     "execution_count": 96,
     "metadata": {},
     "output_type": "execute_result"
    }
   ],
   "source": [
    "generar_tabla_recuento(base_filtrada, \"cl_desarrollo_msm_audio\", \"Acceso al contenido de clase - MENSAJES DE AUDIO\",True,True)"
   ]
  },
  {
   "cell_type": "code",
   "execution_count": 97,
   "id": "942ae27d-d475-4c15-a7d9-a386e01eeab2",
   "metadata": {},
   "outputs": [
    {
     "data": {
      "text/html": [
       "<div>\n",
       "<style scoped>\n",
       "    .dataframe tbody tr th:only-of-type {\n",
       "        vertical-align: middle;\n",
       "    }\n",
       "\n",
       "    .dataframe tbody tr th {\n",
       "        vertical-align: top;\n",
       "    }\n",
       "\n",
       "    .dataframe thead th {\n",
       "        text-align: right;\n",
       "    }\n",
       "</style>\n",
       "<table border=\"1\" class=\"dataframe\">\n",
       "  <thead>\n",
       "    <tr style=\"text-align: right;\">\n",
       "      <th></th>\n",
       "      <th>Acceso al contenido de clase - MENSAJES DE TEXTO</th>\n",
       "      <th>Recuento</th>\n",
       "      <th>Porcentaje</th>\n",
       "    </tr>\n",
       "  </thead>\n",
       "  <tbody>\n",
       "    <tr>\n",
       "      <th>0</th>\n",
       "      <td>0.0</td>\n",
       "      <td>3,364,398</td>\n",
       "      <td>66.4</td>\n",
       "    </tr>\n",
       "    <tr>\n",
       "      <th>1</th>\n",
       "      <td>1.0</td>\n",
       "      <td>1,701,097</td>\n",
       "      <td>33.6</td>\n",
       "    </tr>\n",
       "    <tr>\n",
       "      <th>2</th>\n",
       "      <td>Total</td>\n",
       "      <td>5,065,495</td>\n",
       "      <td>100.0</td>\n",
       "    </tr>\n",
       "  </tbody>\n",
       "</table>\n",
       "</div>"
      ],
      "text/plain": [
       "  Acceso al contenido de clase - MENSAJES DE TEXTO   Recuento Porcentaje\n",
       "0                                              0.0  3,364,398       66.4\n",
       "1                                              1.0  1,701,097       33.6\n",
       "2                                            Total  5,065,495      100.0"
      ]
     },
     "execution_count": 97,
     "metadata": {},
     "output_type": "execute_result"
    }
   ],
   "source": [
    "generar_tabla_recuento(base_filtrada, \"cl_desarrollo_msm_texto\", \"Acceso al contenido de clase - MENSAJES DE TEXTO\",True,True)"
   ]
  },
  {
   "cell_type": "code",
   "execution_count": 98,
   "id": "27e01923-6227-49b8-a1d3-9f3b941f8125",
   "metadata": {},
   "outputs": [
    {
     "data": {
      "text/html": [
       "<div>\n",
       "<style scoped>\n",
       "    .dataframe tbody tr th:only-of-type {\n",
       "        vertical-align: middle;\n",
       "    }\n",
       "\n",
       "    .dataframe tbody tr th {\n",
       "        vertical-align: top;\n",
       "    }\n",
       "\n",
       "    .dataframe thead th {\n",
       "        text-align: right;\n",
       "    }\n",
       "</style>\n",
       "<table border=\"1\" class=\"dataframe\">\n",
       "  <thead>\n",
       "    <tr style=\"text-align: right;\">\n",
       "      <th></th>\n",
       "      <th>Acceso al contenido de clase - SIN ACOMPAÑAMIENTO</th>\n",
       "      <th>Recuento</th>\n",
       "      <th>Porcentaje</th>\n",
       "    </tr>\n",
       "  </thead>\n",
       "  <tbody>\n",
       "    <tr>\n",
       "      <th>0</th>\n",
       "      <td>0.0</td>\n",
       "      <td>4,933,862</td>\n",
       "      <td>97.4</td>\n",
       "    </tr>\n",
       "    <tr>\n",
       "      <th>1</th>\n",
       "      <td>1.0</td>\n",
       "      <td>131,633</td>\n",
       "      <td>2.6</td>\n",
       "    </tr>\n",
       "    <tr>\n",
       "      <th>2</th>\n",
       "      <td>Total</td>\n",
       "      <td>5,065,495</td>\n",
       "      <td>100.0</td>\n",
       "    </tr>\n",
       "  </tbody>\n",
       "</table>\n",
       "</div>"
      ],
      "text/plain": [
       "  Acceso al contenido de clase - SIN ACOMPAÑAMIENTO   Recuento Porcentaje\n",
       "0                                               0.0  4,933,862       97.4\n",
       "1                                               1.0    131,633        2.6\n",
       "2                                             Total  5,065,495      100.0"
      ]
     },
     "execution_count": 98,
     "metadata": {},
     "output_type": "execute_result"
    }
   ],
   "source": [
    "generar_tabla_recuento(base_filtrada, \"cl_desarrollo_sin_acompañamiento\", \"Acceso al contenido de clase - SIN ACOMPAÑAMIENTO\",True,True)"
   ]
  },
  {
   "cell_type": "markdown",
   "id": "932f9ef0",
   "metadata": {
    "tags": []
   },
   "source": [
    "# Graficos"
   ]
  },
  {
   "cell_type": "markdown",
   "id": "7f1c9903-3f4b-407f-a70e-cfe030d6072f",
   "metadata": {},
   "source": [
    "## V. Continuas - Miembros por hogar y Edad"
   ]
  },
  {
   "cell_type": "code",
   "execution_count": 99,
   "id": "f2079caf",
   "metadata": {},
   "outputs": [
    {
     "data": {
      "image/png": "[encoded data removed]",
      "text/plain": [
       "<Figure size 640x480 with 1 Axes>"
      ]
     },
     "metadata": {},
     "output_type": "display_data"
    }
   ],
   "source": [
    "guardar_histograma_con_pesos(base_filtrada, 'mieperho','Miembros por hogar')"
   ]
  },
  {
   "cell_type": "code",
   "execution_count": 100,
   "id": "0948067c",
   "metadata": {},
   "outputs": [
    {
     "data": {
      "image/png": "[encoded data removed]",
      "text/plain": [
       "<Figure size 640x480 with 1 Axes>"
      ]
     },
     "metadata": {},
     "output_type": "display_data"
    }
   ],
   "source": [
    "guardar_histograma_con_pesos(base_filtrada, 'Edad','Edad')"
   ]
  },
  {
   "cell_type": "code",
   "execution_count": 101,
   "id": "009a87f9-1bef-4c42-ad22-ab589da18343",
   "metadata": {},
   "outputs": [
    {
     "data": {
      "image/png": "[encoded data removed]",
      "text/plain": [
       "<Figure size 640x480 with 1 Axes>"
      ]
     },
     "metadata": {},
     "output_type": "display_data"
    }
   ],
   "source": [
    "guardar_histograma_con_pesos(base_filtrada, 'años_escolaridad','Años de escolaridad')"
   ]
  },
  {
   "cell_type": "markdown",
   "id": "fb9ef9bf-e2e2-4a30-bf7c-27ca26af6c8a",
   "metadata": {
    "tags": []
   },
   "source": [
    "## V. Cualitativas - Nivel educativo y centro de estudios"
   ]
  },
  {
   "cell_type": "markdown",
   "id": "a96b93fa-2a9a-4535-accb-c7015c49c115",
   "metadata": {
    "tags": []
   },
   "source": [
    "### Func. Graf de barras"
   ]
  },
  {
   "cell_type": "code",
   "execution_count": 102,
   "id": "e4e8d1ee-27b0-4ae3-83a6-8e1db3df88da",
   "metadata": {},
   "outputs": [],
   "source": [
    "def guardar_graf_barras(columna_categorica, labels):\n",
    "    # Crear una paleta de colores personalizada para las categorías\n",
    "    num_categories = len(labels)\n",
    "    custom_palette = [\"#4c72b0\", \"#dd8452\", \"#55a868\", \"#c44e52\", \"#8172b3\",\"#937860\", \"#da8bc3\", \"#8c8c8c\", \"#ccb974\", \"#64b5cd\",\n",
    "    \"#808000\", \"#000080\", \"#006400\", \"#808000\", \"#669966\",\"#007777\", \"#000080\", \"#00008B\", \"#6699CC\", \"#ADD8E6\",\"#8B0000\", \"#A52A2A\", \n",
    "    \"#800000\", \"#D2691E\", \"#FFD700\",'#4c72b0'][:num_categories]\n",
    "\n",
    "    # Crear el gráfico de barras\n",
    "    ax = sns.barplot(x=columna_categorica, y='factor07', data=base_filtrada, estimator=sum, ci=None, palette=custom_palette)\n",
    "\n",
    "    # Etiquetar las barras con los porcentajes\n",
    "    total = base_filtrada['factor07'].sum()\n",
    "    for p in ax.patches:\n",
    "        height = p.get_height()\n",
    "        ax.annotate(f'{(height/total)*100:.0f}%', (p.get_x() + p.get_width() / 2., height), ha='center', va='bottom')\n",
    "\n",
    "    # Generar el nombre del archivo de imagen basado en el nombre de la columna\n",
    "    nombre_archivo = f'estadistico_{columna_categorica}.png'\n",
    "\n",
    "    # Eliminar etiquetas y marcas del eje y\n",
    "    ax.set_yticks([])\n",
    "    ax.set_yticklabels([])\n",
    "\n",
    "    # Etiquetas y título\n",
    "    plt.xlabel('')\n",
    "    plt.ylabel('')\n",
    "    plt.title(f'Porcentaje de estudiante por {columna_categorica}')\n",
    "    \n",
    "    # Especificar el número de columnas en la leyenda (en este caso, 2 columnas)\n",
    "    ncol = 2\n",
    "    \n",
    "    # Reducir el tamaño de fuente de la leyenda\n",
    "    handles = [plt.Rectangle((0,0),1,1, color=col) for col in custom_palette[:len(labels)]]\n",
    "    plt.legend(handles, labels, title='Leyenda', loc='upper left', fontsize=8, bbox_to_anchor=(1, 1), ncol=ncol)\n",
    "    \n",
    "    # Eliminar los spines derecho y superior\n",
    "    ax.spines['right'].set_visible(False)\n",
    "    ax.spines['top'].set_visible(False)\n",
    "    ax.spines['left'].set_visible(False)\n",
    "\n",
    "    # Guardar la imagen en la ruta especificada\n",
    "    ruta_guardado = '../output/images/' + nombre_archivo\n",
    "    plt.savefig(ruta_guardado, bbox_inches='tight')\n",
    "\n",
    "    # Mostrar el gráfico\n",
    "    plt.show()"
   ]
  },
  {
   "cell_type": "markdown",
   "id": "3d508358-0066-4bc7-b6cc-f38da708e930",
   "metadata": {},
   "source": [
    "## Nivel educativo y centro de estudios"
   ]
  },
  {
   "cell_type": "code",
   "execution_count": 103,
   "id": "fb330961",
   "metadata": {},
   "outputs": [
    {
     "data": {
      "image/png": "[encoded data removed]",
      "text/plain": [
       "<Figure size 640x480 with 1 Axes>"
      ]
     },
     "metadata": {},
     "output_type": "display_data"
    }
   ],
   "source": [
    "label = [\"Inicial\",\"Primaria\",\"Secundaria\"]\n",
    "guardar_graf_barras('Nivel_educativo', labels = label)"
   ]
  },
  {
   "cell_type": "code",
   "execution_count": 104,
   "id": "fb851343",
   "metadata": {},
   "outputs": [
    {
     "data": {
      "image/png": "[encoded data removed]",
      "text/plain": [
       "<Figure size 640x480 with 1 Axes>"
      ]
     },
     "metadata": {},
     "output_type": "display_data"
    }
   ],
   "source": [
    "label = [\"Estatal\",\"No Estatal\"]\n",
    "guardar_graf_barras('Centro_estudios', labels = label)"
   ]
  },
  {
   "cell_type": "markdown",
   "id": "821135f6-bbd4-408f-97cf-367545744fb5",
   "metadata": {},
   "source": [
    "## V.C. Idioma y Sexo"
   ]
  },
  {
   "cell_type": "code",
   "execution_count": 105,
   "id": "b198374e",
   "metadata": {},
   "outputs": [
    {
     "data": {
      "image/png": "[encoded data removed]",
      "text/plain": [
       "<Figure size 640x480 with 1 Axes>"
      ]
     },
     "metadata": {},
     "output_type": "display_data"
    }
   ],
   "source": [
    "label = [\"Otro\",\"Castellano\"]\n",
    "guardar_graf_barras('Idioma', labels = label)"
   ]
  },
  {
   "cell_type": "code",
   "execution_count": 106,
   "id": "64698e3a",
   "metadata": {},
   "outputs": [
    {
     "data": {
      "image/png": "[encoded data removed]",
      "text/plain": [
       "<Figure size 640x480 with 1 Axes>"
      ]
     },
     "metadata": {},
     "output_type": "display_data"
    }
   ],
   "source": [
    "label= [\"Hombre\",\"Mujer\"]\n",
    "guardar_graf_barras('Sexo', label)"
   ]
  },
  {
   "cell_type": "markdown",
   "id": "8246ae42-895b-46ed-8ca2-3cafe182f94d",
   "metadata": {},
   "source": [
    "## Area y Estrato Social"
   ]
  },
  {
   "cell_type": "code",
   "execution_count": 107,
   "id": "acb742d2",
   "metadata": {},
   "outputs": [
    {
     "data": {
      "image/png": "[encoded data removed]",
      "text/plain": [
       "<Figure size 640x480 with 1 Axes>"
      ]
     },
     "metadata": {},
     "output_type": "display_data"
    }
   ],
   "source": [
    "label = [\"Rural\", \"Urbano\"]\n",
    "guardar_graf_barras('AREA', label)"
   ]
  },
  {
   "cell_type": "code",
   "execution_count": 108,
   "id": "ccd7b96d",
   "metadata": {},
   "outputs": [
    {
     "data": {
      "image/png": "[encoded data removed]",
      "text/plain": [
       "<Figure size 640x480 with 1 Axes>"
      ]
     },
     "metadata": {},
     "output_type": "display_data"
    }
   ],
   "source": [
    "label = [\"A\", \"B\",\"C\",\"D\", \"E\",\"rural\"]\n",
    "guardar_graf_barras('estrsocial',label)"
   ]
  },
  {
   "cell_type": "code",
   "execution_count": 109,
   "id": "fade1f89-f21a-4143-8399-33e5f3279ebd",
   "metadata": {},
   "outputs": [
    {
     "data": {
      "image/png": "[encoded data removed]",
      "text/plain": [
       "<Figure size 640x480 with 1 Axes>"
      ]
     },
     "metadata": {},
     "output_type": "display_data"
    }
   ],
   "source": [
    "label = [\"Costa\", \"Sierra\",\"Selva\"]\n",
    "guardar_graf_barras('Region',label)"
   ]
  },
  {
   "cell_type": "code",
   "execution_count": 110,
   "id": "06d03e85-0613-411c-ad93-470001febe92",
   "metadata": {},
   "outputs": [
    {
     "data": {
      "image/png": "[encoded data removed]",
      "text/plain": [
       "<Figure size 640x480 with 1 Axes>"
      ]
     },
     "metadata": {},
     "output_type": "display_data"
    }
   ],
   "source": [
    "label = [\"1.Amazonas\",\"2.Ancash\",\"3.Apurímac\",\"4.Arequipa\",\"5.Ayacucho\",\"6.Cajamarca\",\"7.Callao\",\"8.Cusco\",\"9.Huancavelica\",\"10.Huánuco\", \"11.Ica\",\"12.Junín\",\"13.La Libertad\",\n",
    "         \"14.Lambayeque\",\"15.Lima\",\"16.Loreto\", \"17.Madre de Dios\",\"18.Moquegua\",\"19.Pasco\",\"20.Piura\", \"21.Puno\",\"22.San Martín\", \"23.Tacna\",\"24.Tumbes\",\"25.Ucayali\"]\n",
    "guardar_graf_barras('DEPARTAMENTO', label)"
   ]
  },
  {
   "cell_type": "code",
   "execution_count": 111,
   "id": "fbd11e9b-f3f5-4f63-ad14-79057dea5c62",
   "metadata": {},
   "outputs": [
    {
     "data": {
      "image/png": "[encoded data removed]",
      "text/plain": [
       "<Figure size 640x480 with 1 Axes>"
      ]
     },
     "metadata": {},
     "output_type": "display_data"
    }
   ],
   "source": [
    "label = [\"No\",\"Si\"]\n",
    "guardar_graf_barras('Electricidad', label)"
   ]
  },
  {
   "cell_type": "code",
   "execution_count": 112,
   "id": "6b0aaae9-9d11-41a4-9e0a-eab67b3a7ad4",
   "metadata": {},
   "outputs": [],
   "source": [
    "base_filtrada_ = base_filtrada.copy()"
   ]
  },
  {
   "cell_type": "markdown",
   "id": "dc91db93-2cab-4e4b-8cb1-17f93fb3f43c",
   "metadata": {},
   "source": [
    "## Grafico de barras - USO (Donde uso internet)"
   ]
  },
  {
   "cell_type": "markdown",
   "id": "771cfb00-7e1b-4916-ad6a-cd3990ea6de8",
   "metadata": {
    "tags": []
   },
   "source": [
    "### Funcion"
   ]
  },
  {
   "cell_type": "code",
   "execution_count": 113,
   "id": "2b8f1515-bbe6-487a-b2b6-b7aec25c56c5",
   "metadata": {},
   "outputs": [],
   "source": [
    "def barras(variable):\n",
    "    freq_1 = base_filtrada_[[ \"factor07\",variable]].groupby([variable]).sum().reset_index()\n",
    "    total_recuento = freq_1['factor07'].sum()\n",
    "    freq_1['Porcentaje'] = (freq_1['factor07'] / total_recuento * 100).round(2)\n",
    "    freq_1.rename(columns={variable: 'variable','factor07': 'value'}, inplace=True)\n",
    "    freq_1 =  freq_1.tail(1)\n",
    "    freq_1['variable'] = freq_1['variable'].replace(1.0, variable)\n",
    "    freq_1['value'] = freq_1['value'].apply(lambda x: '{:,.0f}'.format(x))\n",
    "    #freq_1['Porcentaje'] = freq_1['Porcentaje'].apply(lambda x: '{:.3f}'.format(x))\n",
    "    \n",
    "    return freq_1"
   ]
  },
  {
   "cell_type": "code",
   "execution_count": 114,
   "id": "b7713147-a4d7-4142-ae5e-b557f3a979d7",
   "metadata": {},
   "outputs": [],
   "source": [
    "i_uso= barras(\"i_uso\")\n",
    "i_uso_cedu = barras(\"i_uso_cedu\")\n",
    "i_uso_trab = barras(\"i_uso_trab\")\n",
    "i_uso_hog = barras(\"i_uso_hog\")\n",
    "i_uso_cab = barras(\"i_uso_cab\")\n",
    "i_uso_casotr = barras(\"i_uso_casotr\")\n",
    "i_uso_otro = barras(\"i_uso_otro\")\n",
    "i_uso_movil = barras(\"i_uso_movil\")"
   ]
  },
  {
   "cell_type": "code",
   "execution_count": 115,
   "id": "38188bf6-13d5-41bd-973a-dd0c41a9f79f",
   "metadata": {},
   "outputs": [],
   "source": [
    "data3 = pd.concat([i_uso_cedu, i_uso_trab, i_uso_hog, i_uso_cab, i_uso_casotr,i_uso_otro, i_uso_movil], axis=0)\n",
    "data3 = data3.reset_index(drop=True)\n",
    "#data3"
   ]
  },
  {
   "cell_type": "markdown",
   "id": "138d46b8-80ee-4062-ae3b-70b73e148d75",
   "metadata": {},
   "source": [
    "### plot"
   ]
  },
  {
   "cell_type": "code",
   "execution_count": 116,
   "id": "b1f0855e-38e9-4a3b-a787-0505dbb69fe6",
   "metadata": {},
   "outputs": [
    {
     "data": {
      "image/png": "[encoded data removed]",
      "text/plain": [
       "<Figure size 1400x1000 with 1 Axes>"
      ]
     },
     "metadata": {},
     "output_type": "display_data"
    }
   ],
   "source": [
    "# Plot\n",
    "plt.figure(figsize=(14,10))\n",
    "ax = sns.barplot(data = data3, x = 'Porcentaje', y = 'variable', color = 'grey',\n",
    "                order=data3.sort_values('Porcentaje',ascending = False).variable)\n",
    "# Etiquetas y título\n",
    "plt.xlabel('')\n",
    "plt.ylabel('')\n",
    "\n",
    "# Eliminar los spines derecho y superior\n",
    "ax.spines['right'].set_visible(False)\n",
    "ax.spines['top'].set_visible(False)\n",
    "\n",
    "plt.bar_label(ax.containers[0], fmt='%.2f%%', fontsize=11)\n",
    "\n",
    "# Generar el nombre del archivo de imagen basado en el nombre de la columna\n",
    "nombre_archivo = f'multiples_uso.png'\n",
    "\n",
    "# Guardar la imagen en la ruta especificada\n",
    "ruta_guardado = '../output/images/' + nombre_archivo\n",
    "plt.savefig(ruta_guardado)\n",
    "plt.show()"
   ]
  },
  {
   "cell_type": "markdown",
   "id": "d5a7b65e-4867-4fce-bbb3-469e7174ca48",
   "metadata": {},
   "source": [
    "## Grafico de barras - ACCESO - Equipo de acceso de servicio de Internet"
   ]
  },
  {
   "cell_type": "code",
   "execution_count": 117,
   "id": "f203c8bd-2304-4e88-a2d8-1e6a29d8eab4",
   "metadata": {},
   "outputs": [],
   "source": [
    "i_computadora = barras(\"i_computadora\")\n",
    "i_tablet = barras(\"i_tablet\")\n",
    "i_laptop = barras(\"i_laptop\")\n",
    "i_otro = barras(\"i_otro\")\n",
    "i_cel_sdatos = barras(\"i_cel_sdatos\")\n",
    "i_cel_cdatos = barras(\"i_cel_cdatos\")"
   ]
  },
  {
   "cell_type": "code",
   "execution_count": 118,
   "id": "087ce9ba",
   "metadata": {},
   "outputs": [],
   "source": [
    "data3 = pd.concat([i_computadora, i_tablet, i_laptop, i_otro, i_cel_sdatos, i_cel_cdatos], axis=0)\n",
    "data3 = data3.reset_index(drop=True)\n",
    "#data3"
   ]
  },
  {
   "cell_type": "markdown",
   "id": "6a6d3c23-b823-402d-8b57-708501fa7aa8",
   "metadata": {},
   "source": [
    "### Plot"
   ]
  },
  {
   "cell_type": "code",
   "execution_count": 119,
   "id": "06ea4854-c7c1-4607-8656-23b5be3e319b",
   "metadata": {},
   "outputs": [
    {
     "data": {
      "image/png": "[encoded data removed]",
      "text/plain": [
       "<Figure size 1400x1000 with 1 Axes>"
      ]
     },
     "metadata": {},
     "output_type": "display_data"
    }
   ],
   "source": [
    "# Plot\n",
    "plt.figure(figsize=(14,10))\n",
    "ax = sns.barplot(data = data3, x = 'Porcentaje', y = 'variable', color = 'grey',\n",
    "                order=data3.sort_values('Porcentaje',ascending = False).variable)\n",
    "# Etiquetas y título\n",
    "plt.xlabel('')\n",
    "plt.ylabel('')\n",
    "\n",
    "# Eliminar los spines derecho y superior\n",
    "ax.spines['right'].set_visible(False)\n",
    "ax.spines['top'].set_visible(False)\n",
    "\n",
    "plt.bar_label(ax.containers[0], fmt='%.2f%%', fontsize=11)\n",
    "\n",
    "# Generar el nombre del archivo de imagen basado en el nombre de la columna\n",
    "nombre_archivo = f'multiples_acceso.png'\n",
    "\n",
    "# Guardar la imagen en la ruta especificada\n",
    "ruta_guardado = '../output/images/' + nombre_archivo\n",
    "plt.savefig(ruta_guardado)\n",
    "\n",
    "plt.show()"
   ]
  },
  {
   "cell_type": "markdown",
   "id": "62e0c104-8aec-4d83-9204-a38fb3b20007",
   "metadata": {},
   "source": [
    "## Grafico - Para qué uso el internet"
   ]
  },
  {
   "cell_type": "code",
   "execution_count": 120,
   "id": "76849672-0c5c-429a-8491-5893637bdb0f",
   "metadata": {},
   "outputs": [],
   "source": [
    "i_obtener_info = barras(\"i_obtener_info\")\n",
    "i_comunicarse = barras(\"i_comunicarse\")\n",
    "i_comprar_pdts_ss = barras(\"i_comprar_pdts_ss\")\n",
    "i_operaciones_bancarias = barras(\"i_operaciones_bancarias\")\n",
    "i_edu_formal = barras(\"i_edu_formal\")\n",
    "i_transacciones = barras(\"i_transacciones\")\n",
    "i_act_entretenimiento = barras(\"i_act_entretenimiento\")\n",
    "i_vender_pdts= barras(\"i_vender_pdts\")\n",
    "p316_9 = barras(\"p316_9\")\n",
    "p316_10 = barras(\"p316_10\")\n",
    "p316_11 = barras(\"p316_11\")\n",
    "i_descarga_antivirus = barras(\"i_descarga_antivirus\")"
   ]
  },
  {
   "cell_type": "code",
   "execution_count": 121,
   "id": "d37c396d-b14e-4e75-8e93-63c7a7031f8e",
   "metadata": {},
   "outputs": [],
   "source": [
    "data3 = pd.concat([i_obtener_info, i_comunicarse,i_comprar_pdts_ss, i_operaciones_bancarias, i_edu_formal, i_transacciones,\n",
    "                  i_act_entretenimiento, i_vender_pdts, i_descarga_antivirus], axis=0)\n",
    "#p316_9, p316_10, p316_11\n",
    "data3 = data3.reset_index(drop=True)\n",
    "#data3"
   ]
  },
  {
   "cell_type": "markdown",
   "id": "df3229f3-6935-4d6f-92ee-57c26e18fbb5",
   "metadata": {},
   "source": [
    "### Plot"
   ]
  },
  {
   "cell_type": "code",
   "execution_count": 122,
   "id": "2572d27a-9102-4353-a9a1-0efda124acb6",
   "metadata": {},
   "outputs": [
    {
     "data": {
      "image/png": "[encoded data removed]",
      "text/plain": [
       "<Figure size 1400x1000 with 1 Axes>"
      ]
     },
     "metadata": {},
     "output_type": "display_data"
    }
   ],
   "source": [
    "# Plot\n",
    "plt.figure(figsize=(14,10))\n",
    "ax = sns.barplot(data = data3, x = 'Porcentaje', y = 'variable', color = 'grey',\n",
    "                order=data3.sort_values('Porcentaje',ascending = False).variable)\n",
    "# Etiquetas y título\n",
    "plt.xlabel('')\n",
    "plt.ylabel('')\n",
    "\n",
    "# Eliminar los spines derecho y superior\n",
    "ax.spines['right'].set_visible(False)\n",
    "ax.spines['top'].set_visible(False)\n",
    "\n",
    "plt.bar_label(ax.containers[0], fmt='%.2f%%', fontsize=11)\n",
    "\n",
    "# Generar el nombre del archivo de imagen basado en el nombre de la columna\n",
    "nombre_archivo = f'multiples_apropiacion.png'\n",
    "\n",
    "# Guardar la imagen en la ruta especificada\n",
    "ruta_guardado = '../output/images/' + nombre_archivo\n",
    "plt.savefig(ruta_guardado)\n",
    "\n",
    "plt.show()"
   ]
  },
  {
   "cell_type": "markdown",
   "id": "cbe2006b-2002-450f-9cb6-91d7df4f4cd8",
   "metadata": {},
   "source": [
    "## Grafico - ACTIVIDADES INFORMÁTICAS +14"
   ]
  },
  {
   "cell_type": "code",
   "execution_count": 123,
   "id": "57e33f4b-373f-4116-a0ee-b44a92bf2c43",
   "metadata": {},
   "outputs": [],
   "source": [
    "ai_mover_archivo = barras(\"ai_mover_archivo\")\n",
    "ai_copiar_pegar = barras(\"ai_copiar_pegar\")\n",
    "ai_enviar_correos = barras(\"ai_enviar_correos\")\n",
    "ai_form_excel = barras(\"ai_form_excel\")\n",
    "ai_conec_dispositivos = barras(\"ai_conec_dispositivos\")\n",
    "ai_software = barras(\"ai_software\")\n",
    "ai_presentaciones_electronicas = barras(\"ai_presentaciones_electronicas\")\n",
    "ai_tranfer_archivos = barras(\"ai_tranfer_archivos\")\n",
    "ai_leng_programacion = barras(\"ai_leng_programacion\")\n",
    "ai_otros = barras(\"ai_otros\")"
   ]
  },
  {
   "cell_type": "code",
   "execution_count": 124,
   "id": "0740b877-9069-4f77-babd-60bf4b3245f0",
   "metadata": {},
   "outputs": [],
   "source": [
    "data3 = pd.concat([ai_mover_archivo, ai_copiar_pegar,ai_enviar_correos,ai_form_excel,ai_conec_dispositivos,\n",
    "                 ai_software,ai_presentaciones_electronicas,ai_tranfer_archivos,ai_leng_programacion,ai_otros], axis=0)\n",
    "#p316_9, p316_10, p316_11\n",
    "data3 = data3.reset_index(drop=True)\n",
    "#data3"
   ]
  },
  {
   "cell_type": "markdown",
   "id": "e94803e7-ad3d-4b39-b42c-4419bf5ae47b",
   "metadata": {},
   "source": [
    "### plot"
   ]
  },
  {
   "cell_type": "code",
   "execution_count": 125,
   "id": "a0458ca9-5ad6-4a99-bd9c-38f8282e6706",
   "metadata": {},
   "outputs": [
    {
     "data": {
      "image/png": "[encoded data removed]",
      "text/plain": [
       "<Figure size 1400x1000 with 1 Axes>"
      ]
     },
     "metadata": {},
     "output_type": "display_data"
    }
   ],
   "source": [
    "# Plot\n",
    "plt.figure(figsize=(14,10))\n",
    "ax = sns.barplot(data = data3, x = 'Porcentaje', y = 'variable', color = 'grey',\n",
    "                order=data3.sort_values('Porcentaje',ascending = False).variable)\n",
    "# Etiquetas y título\n",
    "plt.xlabel('')\n",
    "plt.ylabel('')\n",
    "\n",
    "# Eliminar los spines derecho y superior\n",
    "ax.spines['right'].set_visible(False)\n",
    "ax.spines['top'].set_visible(False)\n",
    "\n",
    "plt.bar_label(ax.containers[0], fmt='%.2f%%', fontsize=11)\n",
    "\n",
    "# Generar el nombre del archivo de imagen basado en el nombre de la columna\n",
    "nombre_archivo = f'multiples_act_informaticas.png'\n",
    "\n",
    "# Guardar la imagen en la ruta especificada\n",
    "ruta_guardado = '../output/images/' + nombre_archivo\n",
    "plt.savefig(ruta_guardado)\n",
    "\n",
    "plt.show()"
   ]
  },
  {
   "cell_type": "markdown",
   "id": "c84a96f1-bd49-459f-bae9-9b4db5eb05c6",
   "metadata": {},
   "source": [
    "## Grafico de barras - Clases a DISTANCIA"
   ]
  },
  {
   "cell_type": "code",
   "execution_count": 126,
   "id": "bdeb62a5-32e6-40f1-b13f-779467c09138",
   "metadata": {},
   "outputs": [],
   "source": [
    "cl_medio_tv         =   barras(\"cl_medio_tv\")\n",
    "cl_medio_radio      = barras(\"cl_medio_radio\")\n",
    "cl_medio_plataforma_virtual = barras(\"cl_medio_plataforma_virtual\")\n",
    "cl_medio_otro       = barras(\"cl_medio_otro\")\n",
    "cl_medio_wsp        = barras(\"cl_medio_wsp\")\n",
    "cl_medio_correo     = barras(\"cl_medio_correo\")\n",
    "cl_medio_llamadas   = barras(\"cl_medio_llamadas\")"
   ]
  },
  {
   "cell_type": "code",
   "execution_count": 127,
   "id": "01aa83e0-dbd6-4146-b3fb-08d47c8e58f8",
   "metadata": {},
   "outputs": [
    {
     "data": {
      "text/html": [
       "<div>\n",
       "<style scoped>\n",
       "    .dataframe tbody tr th:only-of-type {\n",
       "        vertical-align: middle;\n",
       "    }\n",
       "\n",
       "    .dataframe tbody tr th {\n",
       "        vertical-align: top;\n",
       "    }\n",
       "\n",
       "    .dataframe thead th {\n",
       "        text-align: right;\n",
       "    }\n",
       "</style>\n",
       "<table border=\"1\" class=\"dataframe\">\n",
       "  <thead>\n",
       "    <tr style=\"text-align: right;\">\n",
       "      <th></th>\n",
       "      <th>variable</th>\n",
       "      <th>value</th>\n",
       "      <th>Porcentaje</th>\n",
       "    </tr>\n",
       "  </thead>\n",
       "  <tbody>\n",
       "    <tr>\n",
       "      <th>1</th>\n",
       "      <td>cl_medio_tv</td>\n",
       "      <td>2,393,673</td>\n",
       "      <td>47.25</td>\n",
       "    </tr>\n",
       "  </tbody>\n",
       "</table>\n",
       "</div>"
      ],
      "text/plain": [
       "      variable      value  Porcentaje\n",
       "1  cl_medio_tv  2,393,673       47.25"
      ]
     },
     "execution_count": 127,
     "metadata": {},
     "output_type": "execute_result"
    }
   ],
   "source": [
    "cl_medio_tv "
   ]
  },
  {
   "cell_type": "code",
   "execution_count": 128,
   "id": "84c82615-b957-43e8-b0c6-e7cc6c241837",
   "metadata": {},
   "outputs": [
    {
     "data": {
      "text/html": [
       "<div>\n",
       "<style scoped>\n",
       "    .dataframe tbody tr th:only-of-type {\n",
       "        vertical-align: middle;\n",
       "    }\n",
       "\n",
       "    .dataframe tbody tr th {\n",
       "        vertical-align: top;\n",
       "    }\n",
       "\n",
       "    .dataframe thead th {\n",
       "        text-align: right;\n",
       "    }\n",
       "</style>\n",
       "<table border=\"1\" class=\"dataframe\">\n",
       "  <thead>\n",
       "    <tr style=\"text-align: right;\">\n",
       "      <th></th>\n",
       "      <th>variable</th>\n",
       "      <th>value</th>\n",
       "      <th>Porcentaje</th>\n",
       "    </tr>\n",
       "  </thead>\n",
       "  <tbody>\n",
       "    <tr>\n",
       "      <th>0</th>\n",
       "      <td>cl_medio_tv</td>\n",
       "      <td>2,393,673</td>\n",
       "      <td>47.250000</td>\n",
       "    </tr>\n",
       "    <tr>\n",
       "      <th>1</th>\n",
       "      <td>cl_medio_radio</td>\n",
       "      <td>891,190</td>\n",
       "      <td>17.590000</td>\n",
       "    </tr>\n",
       "    <tr>\n",
       "      <th>2</th>\n",
       "      <td>cl_medio_plataforma_virtual</td>\n",
       "      <td>1,645,825</td>\n",
       "      <td>32.490002</td>\n",
       "    </tr>\n",
       "    <tr>\n",
       "      <th>3</th>\n",
       "      <td>cl_medio_otro</td>\n",
       "      <td>101,542</td>\n",
       "      <td>2.000000</td>\n",
       "    </tr>\n",
       "    <tr>\n",
       "      <th>4</th>\n",
       "      <td>cl_medio_wsp</td>\n",
       "      <td>3,358,408</td>\n",
       "      <td>66.300003</td>\n",
       "    </tr>\n",
       "    <tr>\n",
       "      <th>5</th>\n",
       "      <td>cl_medio_correo</td>\n",
       "      <td>178,188</td>\n",
       "      <td>3.520000</td>\n",
       "    </tr>\n",
       "    <tr>\n",
       "      <th>6</th>\n",
       "      <td>cl_medio_llamadas</td>\n",
       "      <td>1,460,566</td>\n",
       "      <td>28.830000</td>\n",
       "    </tr>\n",
       "  </tbody>\n",
       "</table>\n",
       "</div>"
      ],
      "text/plain": [
       "                      variable      value  Porcentaje\n",
       "0                  cl_medio_tv  2,393,673   47.250000\n",
       "1               cl_medio_radio    891,190   17.590000\n",
       "2  cl_medio_plataforma_virtual  1,645,825   32.490002\n",
       "3                cl_medio_otro    101,542    2.000000\n",
       "4                 cl_medio_wsp  3,358,408   66.300003\n",
       "5              cl_medio_correo    178,188    3.520000\n",
       "6            cl_medio_llamadas  1,460,566   28.830000"
      ]
     },
     "execution_count": 128,
     "metadata": {},
     "output_type": "execute_result"
    }
   ],
   "source": [
    "data3 = pd.concat([cl_medio_tv, cl_medio_radio, cl_medio_plataforma_virtual, cl_medio_otro, cl_medio_wsp, cl_medio_correo, cl_medio_llamadas], axis=0)\n",
    "data3 = data3.reset_index(drop=True)\n",
    "data3"
   ]
  },
  {
   "cell_type": "markdown",
   "id": "de8fca3c-bab0-4fb8-b838-8ba301c16e6d",
   "metadata": {
    "tags": []
   },
   "source": [
    "### plot"
   ]
  },
  {
   "cell_type": "code",
   "execution_count": 129,
   "id": "ef1367d4-cf16-411e-b46f-b725f8b557f3",
   "metadata": {},
   "outputs": [
    {
     "data": {
      "image/png": "[encoded data removed]",
      "text/plain": [
       "<Figure size 1400x1000 with 1 Axes>"
      ]
     },
     "metadata": {},
     "output_type": "display_data"
    }
   ],
   "source": [
    "# Plot\n",
    "plt.figure(figsize=(14,10))\n",
    "ax = sns.barplot(data = data3, x = 'Porcentaje', y = 'variable', color = 'grey',\n",
    "                order=data3.sort_values('Porcentaje',ascending = False).variable)\n",
    "\n",
    "# Etiquetas y título\n",
    "plt.xlabel('')\n",
    "plt.ylabel('')\n",
    "\n",
    "# Eliminar los spines derecho y superior\n",
    "ax.spines['right'].set_visible(False)\n",
    "ax.spines['top'].set_visible(False)\n",
    "\n",
    "plt.bar_label(ax.containers[0], fmt='%.2f%%', fontsize=11)\n",
    "\n",
    "# Generar el nombre del archivo de imagen basado en el nombre de la columna\n",
    "nombre_archivo = f'multiple_clases_medio.png'\n",
    "\n",
    "# Guardar la imagen en la ruta especificada\n",
    "ruta_guardado = '../output/images/' + nombre_archivo\n",
    "plt.savefig(ruta_guardado)\n",
    "\n",
    "plt.show()"
   ]
  },
  {
   "cell_type": "code",
   "execution_count": null,
   "id": "0908182b-5125-43e6-9290-25955ded5892",
   "metadata": {},
   "outputs": [],
   "source": []
  },
  {
   "cell_type": "code",
   "execution_count": 130,
   "id": "e055ab15-5773-4016-a8f2-da5e9a0e8168",
   "metadata": {},
   "outputs": [],
   "source": [
    "\n",
    "cl_desarrollo_interaccion = barras(\"cl_desarrollo_interaccion\")\n",
    "cl_desarrollo_videos     = barras(\"cl_desarrollo_videos\")\n",
    "cl_desarrollo_documentos = barras(\"cl_desarrollo_documentos\")\n",
    "cl_desarrollo_otros      = barras(\"cl_desarrollo_otros\")\n",
    "cl_desarrollo_msm_audio  = barras(\"cl_desarrollo_msm_audio\")\n",
    "cl_desarrollo_msm_texto  = barras(\"cl_desarrollo_msm_texto\")\n",
    "cl_desarrollo_sin_acompañamiento = barras(\"cl_desarrollo_sin_acompañamiento\")"
   ]
  },
  {
   "cell_type": "code",
   "execution_count": 131,
   "id": "86818776-1310-4f55-b44a-493f32da5ea9",
   "metadata": {},
   "outputs": [],
   "source": [
    "data3 = pd.concat([cl_desarrollo_interaccion, cl_desarrollo_videos, cl_desarrollo_documentos, cl_desarrollo_otros, cl_desarrollo_msm_audio, cl_desarrollo_msm_texto,\n",
    "                   cl_desarrollo_sin_acompañamiento], axis=0)\n",
    "data3 = data3.reset_index(drop=True)\n",
    "#data3"
   ]
  },
  {
   "cell_type": "markdown",
   "id": "5a2ee53a-54d1-4e4c-982b-7a1058b91f2d",
   "metadata": {},
   "source": [
    "### Plot"
   ]
  },
  {
   "cell_type": "code",
   "execution_count": 132,
   "id": "a92c9956-f49e-475d-9a65-3ab6f727acd0",
   "metadata": {},
   "outputs": [
    {
     "data": {
      "image/png": "[encoded data removed]",
      "text/plain": [
       "<Figure size 1400x1000 with 1 Axes>"
      ]
     },
     "metadata": {},
     "output_type": "display_data"
    }
   ],
   "source": [
    "# Plot\n",
    "plt.figure(figsize=(14,10))\n",
    "ax = sns.barplot(data = data3, x = 'Porcentaje', y = 'variable', color = 'grey',\n",
    "                order=data3.sort_values('Porcentaje',ascending = False).variable)\n",
    "\n",
    "# Etiquetas y título\n",
    "plt.xlabel('')\n",
    "plt.ylabel('')\n",
    "\n",
    "# Eliminar los spines derecho y superior\n",
    "ax.spines['right'].set_visible(False)\n",
    "ax.spines['top'].set_visible(False)\n",
    "\n",
    "plt.bar_label(ax.containers[0], fmt='%.2f%%', fontsize=11)\n",
    "\n",
    "# Generar el nombre del archivo de imagen basado en el nombre de la columna\n",
    "nombre_archivo = f'multiple_clases_medio_desarrollo.png'\n",
    "\n",
    "# Guardar la imagen en la ruta especificada\n",
    "ruta_guardado = '../output/images/' + nombre_archivo\n",
    "plt.savefig(ruta_guardado)\n",
    "\n",
    "plt.show()"
   ]
  },
  {
   "cell_type": "markdown",
   "id": "fa9e36b7",
   "metadata": {},
   "source": [
    "# Regresión"
   ]
  },
  {
   "cell_type": "code",
   "execution_count": null,
   "id": "dd171a43-7dd3-443d-80e0-2b41cb84c212",
   "metadata": {},
   "outputs": [],
   "source": [
    "base_filtrada['i_uso'].value_counts()\n",
    "missing_values = base_filtrada['i_uso'].isna().sum()\n",
    "print(\"Número de valores faltantes en 'i_uso_hog':\", missing_values)"
   ]
  },
  {
   "cell_type": "code",
   "execution_count": null,
   "id": "e68763a3-2144-4511-bb9a-505130ec08f9",
   "metadata": {},
   "outputs": [],
   "source": [
    "base_filtrada.shape"
   ]
  },
  {
   "cell_type": "raw",
   "id": "3b1178a1-6030-4aa7-8f47-44671525f917",
   "metadata": {},
   "source": [
    "base_filtrada = base_filtrada.dropna(subset=['i_uso_hog'])"
   ]
  },
  {
   "cell_type": "code",
   "execution_count": null,
   "id": "61c85f87-ee61-40b1-a3bf-9de6186ae8f3",
   "metadata": {},
   "outputs": [],
   "source": [
    "#base_filtrada = base_filtrada.dropna(subset=['i_uso']) # 09.10.2023"
   ]
  },
  {
   "cell_type": "code",
   "execution_count": null,
   "id": "dd0178a0",
   "metadata": {},
   "outputs": [],
   "source": [
    "# los nombres de las variables deben respresentar al menos una idea de lo que represento\n",
    "# Revisar qué variables son categoricas y continuas "
   ]
  },
  {
   "cell_type": "code",
   "execution_count": null,
   "id": "33728a9a-28c4-44f0-8234-428e2e3cb95b",
   "metadata": {},
   "outputs": [],
   "source": [
    "base_filtrada.i_uso.value_counts()"
   ]
  },
  {
   "cell_type": "markdown",
   "id": "620e2905-038d-4893-a7fb-c1b9ec7079da",
   "metadata": {},
   "source": [
    "## Variables Y X"
   ]
  },
  {
   "cell_type": "code",
   "execution_count": null,
   "id": "e9178c3b-3eef-47f8-9620-2f51952ebc39",
   "metadata": {},
   "outputs": [],
   "source": [
    "# Define la variable dependiente (binaria) y las variables independientes\n",
    "#y = base_filtrada['i_uso_hog']\n",
    "y = base_filtrada['i_uso']\n",
    "X = base_filtrada[['Sexo', 'Edad','años_escolaridad','mieperho', # 'cel_uso',\n",
    "                   'Electricidad', 'Idioma',\n",
    "                   'Centro_estudios', 'AREA']]\n",
    "weights = base_filtrada['factor07']"
   ]
  },
  {
   "cell_type": "code",
   "execution_count": null,
   "id": "32791b6c-987a-4b55-b5bc-365e4c1ff0f8",
   "metadata": {},
   "outputs": [],
   "source": [
    "base_filtrada['i_uso'].value_counts()"
   ]
  },
  {
   "cell_type": "code",
   "execution_count": null,
   "id": "352de659-22b9-4453-add2-0bc96b7ef1ef",
   "metadata": {},
   "outputs": [],
   "source": [
    "base_filtrada['cel_uso'].value_counts()"
   ]
  },
  {
   "cell_type": "code",
   "execution_count": null,
   "id": "b6f637f6-f923-40bb-b62f-9a2de3b8f97c",
   "metadata": {},
   "outputs": [],
   "source": [
    "base_filtrada['cel_uso'].value_counts()\n",
    "missing_values = base_filtrada['cel_uso'].isna().sum()\n",
    "print(\"Número de valores faltantes en 'i_uso_hog':\", missing_values)"
   ]
  },
  {
   "cell_type": "markdown",
   "id": "984409e5-8f3f-43a6-bafd-1edf5ff4acf8",
   "metadata": {},
   "source": [
    "### Dummies"
   ]
  },
  {
   "cell_type": "code",
   "execution_count": null,
   "id": "aa62d680-63ad-448d-b393-ad6bc41d6f01",
   "metadata": {},
   "outputs": [],
   "source": [
    "# Codifica la variable categórica nominal \"Region\" en variables dummy\n",
    "departamento_dummies = pd.get_dummies(base_filtrada['estrsocial'], prefix='estrsocial', drop_first=True)\n",
    "\n",
    "# Codifica la variable categórica ordinal \"Nivel_educativo\" en variables dummy\n",
    "nivel_educativo_dummies = pd.get_dummies(base_filtrada['Nivel_educativo'], prefix='Nivel_educativo', drop_first=True)\n",
    "\n",
    "# Codifica la variable categórica nominal \"Region\" en variables dummy\n",
    "region_dummies = pd.get_dummies(base_filtrada['Region'], prefix='Region', drop_first=True)\n",
    "\n",
    "# Codifica la variable categórica nominal \"Region\" en variables dummy\n",
    "estrato_social_dummies = pd.get_dummies(base_filtrada['DEPARTAMENTO'], prefix='DEPARTAMENTO', drop_first=True)\n",
    "\n",
    "\n",
    "# Combina las variables dummy con el conjunto de variables independientes\n",
    "X = pd.concat([X, nivel_educativo_dummies, region_dummies, departamento_dummies, estrato_social_dummies], axis=1)"
   ]
  },
  {
   "cell_type": "code",
   "execution_count": null,
   "id": "743f44d8-1b1e-4c83-8f34-df64a5d54157",
   "metadata": {},
   "outputs": [],
   "source": [
    "#X[\"Nivel_educativo_2.0\"].value_counts(normalize=True)  #PRIMARIA\n",
    "#X[\"Nivel_educativo_3.0\"].value_counts(normalize=True) # SECUNDARIA"
   ]
  },
  {
   "cell_type": "markdown",
   "id": "6491e8a4-8137-49e3-884b-f10dec0b187c",
   "metadata": {},
   "source": [
    "## Regresión Lineal SIMPLE"
   ]
  },
  {
   "cell_type": "code",
   "execution_count": null,
   "id": "e9733904",
   "metadata": {},
   "outputs": [],
   "source": [
    "# Agregar una constante al conjunto de datos (intercepto)\n",
    "X = sm.add_constant(X)\n",
    "model_linear = sm.OLS(y, X,weights=weights)\n",
    "results_linear = model_linear.fit()\n",
    "print(results_linear.summary())"
   ]
  },
  {
   "cell_type": "markdown",
   "id": "74c72ff0-5291-4683-b588-c7647db4e2d2",
   "metadata": {},
   "source": [
    "## Modelo Probit"
   ]
  },
  {
   "cell_type": "code",
   "execution_count": null,
   "id": "7f4770d9",
   "metadata": {},
   "outputs": [],
   "source": [
    "model_probit = sm.Probit(y, X, weights=weights)\n",
    "results_probit = model_probit.fit()\n",
    "print(results_probit.summary())\n",
    "\n",
    "# Calcula los efectos marginales\n",
    "efectos_marginales = results_probit.get_margeff()\n",
    "print(efectos_marginales.summary())"
   ]
  },
  {
   "cell_type": "raw",
   "id": "af7e37ac-e800-49db-9cf9-bd9d0f0e52be",
   "metadata": {},
   "source": [
    "modelo_seleccion = sm.Probit(y, X).fit()\n",
    "\n",
    "# Calcular los residuos de la ecuación de selección\n",
    "residuos_seleccion = model_probit.predict(X) - y\n",
    "\n",
    "# Ecuación de resultado (probit)\n",
    "X_resultado = X\n",
    "y_resultado = y\n",
    "X_resultado['residuos_seleccion'] = residuos_seleccion\n",
    "modelo_resultado = sm.Probit(y_resultado, X_resultado).fit()"
   ]
  },
  {
   "cell_type": "code",
   "execution_count": null,
   "id": "1acc2184-1fe2-44bc-b120-3c26f055db10",
   "metadata": {},
   "outputs": [],
   "source": [
    "modelo_seleccion = sm.Probit(y, X).fit()\n",
    "\n",
    "# Calcular las probabilidades estimadas de pertenecer a la clase positiva\n",
    "probabilidades_seleccion = modelo_seleccion.predict(X)\n",
    "\n",
    "# Ecuación de resultado (probit)\n",
    "X_resultado = X\n",
    "y_resultado = y\n",
    "\n",
    "# Calcular los residuos de la ecuación de resultado\n",
    "residuos_resultado = y_resultado - probabilidades_seleccion\n",
    "\n",
    "# Agregar los residuos como una nueva columna\n",
    "X_resultado['residuos_seleccion'] = residuos_resultado\n",
    "\n",
    "# Estimar el modelo de resultado\n",
    "modelo_resultado = sm.Probit(y_resultado, X_resultado).fit()"
   ]
  },
  {
   "cell_type": "code",
   "execution_count": null,
   "id": "2e44d0b7-94be-4ce1-81ac-6fc914ce71b5",
   "metadata": {},
   "outputs": [],
   "source": [
    "#residuos_seleccion = model_probit.predict(X) - y"
   ]
  },
  {
   "cell_type": "markdown",
   "id": "ab187675-624f-447d-aeaf-48bb2188c0b7",
   "metadata": {},
   "source": [
    "## LOGIT"
   ]
  },
  {
   "cell_type": "raw",
   "id": "40933c8e-1818-4a8c-9901-436026dd086a",
   "metadata": {},
   "source": [
    "logit_model = Logit(y, X, weights=weights)\n",
    "results_logit = logit_model.fit()\n",
    "marginal_effects_logit = results_logit.get_margeff()\n",
    "\n",
    "# Imprimir los resultados de la regresión logística y los efectos marginales\n",
    "print(results_logit.summary())\n",
    "print(marginal_effects_logit.summary())"
   ]
  },
  {
   "cell_type": "raw",
   "id": "b47b3795-157d-450d-8a26-abde2787a220",
   "metadata": {},
   "source": [
    "logit_model_1 = Logit(y, X, weights=weights)\n",
    "results_logit_1 = logit_model_1.fit(cov_type='HC3', disp=0)  # Usar 'HC3' para errores robustos\n",
    "print(results_logit_1.summary())\n",
    "\n",
    "# Calcular efectos marginales\n",
    "marginal_effects_logit_1 = results_logit_1.get_margeff()\n",
    "print(marginal_effects_logit_1.summary())"
   ]
  },
  {
   "cell_type": "code",
   "execution_count": null,
   "id": "1c726f26-85d3-4002-b068-a338e17385b9",
   "metadata": {},
   "outputs": [],
   "source": []
  },
  {
   "cell_type": "raw",
   "id": "c6ea4707-18d9-4ecd-997a-a10d3de73afd",
   "metadata": {},
   "source": [
    "# Agregar una constante al conjunto de datos (intercepto) para la regresión lineal\n",
    "#X = sm.add_constant(X) ###\n",
    "\n",
    "# Ajustar el modelo de regresión lineal ponderado\n",
    "model_linear = sm.WLS(y, X, weights=weights)\n",
    "results_linear = model_linear.fit()\n",
    "\n",
    "# Realizar un modelo Probit ponderado\n",
    "model_probit = sm.Probit(y, X, weights=weights)\n",
    "results_probit = model_probit.fit()\n",
    "\n",
    "# Realizar un modelo Logit ponderado\n",
    "model_logit = sm.Logit(y, X, weights=weights)\n",
    "results_logit = model_logit.fit()\n",
    "\n",
    "# Comparar los resultados utilizando esttab\n",
    "from statsmodels.iolib.summary2 import summary_col\n",
    "\n",
    "results = summary_col([results_linear, results_probit, results_logit], stars=True)\n",
    "print(results)"
   ]
  },
  {
   "cell_type": "raw",
   "id": "6fce7a33-4c91-4b43-bd1f-f80c7a7b0f85",
   "metadata": {},
   "source": [
    "El error que estás viendo, LinAlgError: Singular matrix, indica que tu matriz en la regresión logística es singular, lo que significa que no es de rango completo. En términos simples, esto significa que existe una relación lineal exacta entre algunas de tus variables independientes, lo que hace que la matriz sea no invertible."
   ]
  },
  {
   "cell_type": "code",
   "execution_count": null,
   "id": "0fb07527-b19c-4437-9c60-f2287065f847",
   "metadata": {},
   "outputs": [],
   "source": []
  },
  {
   "cell_type": "code",
   "execution_count": null,
   "id": "3af19ac1-52b2-45f5-9624-b3369d8c0722",
   "metadata": {},
   "outputs": [],
   "source": []
  },
  {
   "cell_type": "code",
   "execution_count": null,
   "id": "e43d5f88-62bf-4874-a60b-13d86e5fc246",
   "metadata": {},
   "outputs": [],
   "source": []
  }
 ],
 "metadata": {
  "kernelspec": {
   "display_name": "Python 3 (ipykernel)",
   "language": "python",
   "name": "python3"
  },
  "language_info": {
   "codemirror_mode": {
    "name": "ipython",
    "version": 3
   },
   "file_extension": ".py",
   "mimetype": "text/x-python",
   "name": "python",
   "nbconvert_exporter": "python",
   "pygments_lexer": "ipython3",
   "version": "3.9.13"
  },
  "toc-autonumbering": true,
  "toc-showcode": false,
  "toc-showmarkdowntxt": false
 },
 "nbformat": 4,
 "nbformat_minor": 5
}
