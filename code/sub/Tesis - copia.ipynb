{
 "cells": [
  {
   "cell_type": "markdown",
   "id": "85b16d18-7f03-4f1f-ac05-007b2244a654",
   "metadata": {
    "jp-MarkdownHeadingCollapsed": true,
    "tags": []
   },
   "source": [
    "# Librerias"
   ]
  },
  {
   "cell_type": "code",
   "execution_count": 1,
   "id": "7244ff7e",
   "metadata": {},
   "outputs": [],
   "source": [
    "import os\n",
    "import seaborn as sns\n",
    "import pandas as pd\n",
    "import warnings\n",
    "import statsmodels.api as sm\n",
    "from tabulate import tabulate\n",
    "import matplotlib.pyplot as plt\n",
    "import matplotlib.patches as patches\n",
    "import samplics\n",
    "import numpy as np\n",
    "from statsmodels.discrete.discrete_model import Logit\n",
    "import statsmodels.formula.api as smf\n",
    "\n",
    "warnings.filterwarnings(\"ignore\", category=FutureWarning)\n"
   ]
  },
  {
   "cell_type": "markdown",
   "id": "e06259cd-5d23-4779-bb59-769d91dac83e",
   "metadata": {
    "tags": []
   },
   "source": [
    "# Modulos"
   ]
  },
  {
   "cell_type": "code",
   "execution_count": 2,
   "id": "e7b700d1",
   "metadata": {},
   "outputs": [],
   "source": [
    "modulo_hogar = pd.read_stata(\"../input/enaho01-2020-100.dta\", convert_categoricals=False)\n",
    "columnas_interes = ['conglome','vivienda','hogar','ubigeo','p1121','p1142','p1143','p1144','codccpp']\n",
    "#columnas_interes = ['conglome','vivienda','hogar','ubigeo','p1121','p1123','p1124','p1125','p1126','p1127','p1142','p1143','p1144']\n",
    "modulo_hogar = modulo_hogar[columnas_interes]\n",
    "\n",
    "# Variables de interés: Parentesco Sexo y Edad\n",
    "modulo_miembros = pd.read_stata(\"../input/enaho01-2020-200.dta\", convert_categoricals=False)\n",
    "columnas_interes_miembros = ['conglome','vivienda','hogar','ubigeo','codperso',\"p203\",\"p207\",'p208a']\n",
    "modulo_miembros = modulo_miembros[columnas_interes_miembros]\n",
    "\n",
    "# Variables de interés\n",
    "modulo_educa = pd.read_stata(\"../input/enaho01a-2020-300.dta\", convert_categoricals=False)\n",
    "columnas_interes_educa = ['conglome','vivienda','hogar','codperso','ubigeo','dominio','estrato',\"p300a\",\"p301a\",\"p301b\",\"p301c\",\"p304a\",\"p304b\", \n",
    "    \"p307a1\",\"p307a2\",\"p307a3\",\"p307a4\",\"p307a4_5\",\"p307a4_6\",\"p307a4_7\",\"p307b1\",\"p307b2\",\"p307b3\",\"p307b4\",\"p307b4_5\",\"p307b4_6\",\"p307b4_7\",\n",
    "    \"p308a\",\"p308b\",\"p308c\",\"p308d\",\n",
    "    \"p314a\",\"p314b_1\",\"p314b_2\",\"p314b_3\",\"p314b_4\",\"p314b_5\",\"p314b_6\",\"p314b_7\",\"p314b1_1\",\"p314b1_2\",\"p314b1_8\",\"p314b1_9\",\"p314b1_6\",\"p314b1_7\",\"p314d\",   \n",
    "    \"p315a\",\"p315b\",\"p316_1\",\"p316_2\", \"p316_3\",\"p316_4\",\"p316_5\",\"p316_6\",\"p316_7\",\"p316_8\",\"p316_9\",\"p316_10\",\"p316_11\",\"p316_12\",\n",
    "    \"p316a1\",\"p316b\", \"p316c1\",\"p316c2\",\"p316c3\",\"p316c4\",\"p316c5\",\"p316c6\",\"p316c7\",\"p316c8\",\"p316c9\",\"p316c10\",\n",
    "     \"t313a\", \"factor07\"]\n",
    "modulo_educa = modulo_educa[columnas_interes_educa]\n",
    "\n",
    "sumaria = pd.read_stata(\"../input/sumaria-2020.dta\", convert_categoricals=False)\n",
    "columnas_interes_sumaria = ['conglome', 'vivienda', 'hogar','ubigeo','estrsocial','mieperho','totmieho']\n",
    "sumaria = sumaria[columnas_interes_sumaria]"
   ]
  },
  {
   "cell_type": "markdown",
   "id": "b0f9992e-02eb-4530-b2a4-ffe92becbb10",
   "metadata": {},
   "source": [
    "## Merge"
   ]
  },
  {
   "cell_type": "code",
   "execution_count": 3,
   "id": "d33b6f8f",
   "metadata": {},
   "outputs": [],
   "source": [
    "# Realizar el merge version final 2\n",
    "# Primero, unir modulo_hogar y modulo_miembros usando las columnas comunes\n",
    "merged_data1 = pd.merge(modulo_educa, modulo_miembros, on=['conglome', 'vivienda', 'hogar', 'ubigeo','codperso'], how='inner')\n",
    "\n",
    "# Luego, unir el resultado anterior con modulo_educa\n",
    "merged_data2 = pd.merge(sumaria, modulo_hogar, on=['conglome', 'vivienda', 'hogar', 'ubigeo'], how='inner')\n",
    "\n",
    "# Finalmente, unir el resultado anterior con sumaria\n",
    "merged_data = pd.merge(merged_data1, merged_data2, on=['conglome', 'vivienda', 'hogar', 'ubigeo'], how='left')"
   ]
  },
  {
   "cell_type": "code",
   "execution_count": 4,
   "id": "f77110ef",
   "metadata": {},
   "outputs": [
    {
     "name": "stdout",
     "output_type": "stream",
     "text": [
      "(115777, 85)\n"
     ]
    }
   ],
   "source": [
    "print(merged_data.shape)"
   ]
  },
  {
   "cell_type": "code",
   "execution_count": 5,
   "id": "5d5d65ef",
   "metadata": {},
   "outputs": [
    {
     "name": "stdout",
     "output_type": "stream",
     "text": [
      "Index(['conglome', 'vivienda', 'hogar', 'codperso', 'ubigeo', 'dominio',\n",
      "       'estrato', 'p300a', 'p301a', 'p301b', 'p301c', 'p304a', 'p304b',\n",
      "       'p307a1', 'p307a2', 'p307a3', 'p307a4', 'p307a4_5', 'p307a4_6',\n",
      "       'p307a4_7', 'p307b1', 'p307b2', 'p307b3', 'p307b4', 'p307b4_5',\n",
      "       'p307b4_6', 'p307b4_7', 'p308a', 'p308b', 'p308c', 'p308d', 'p314a',\n",
      "       'p314b_1', 'p314b_2', 'p314b_3', 'p314b_4', 'p314b_5', 'p314b_6',\n",
      "       'p314b_7', 'p314b1_1', 'p314b1_2', 'p314b1_8', 'p314b1_9', 'p314b1_6',\n",
      "       'p314b1_7', 'p314d', 'p315a', 'p315b', 'p316_1', 'p316_2', 'p316_3',\n",
      "       'p316_4', 'p316_5', 'p316_6', 'p316_7', 'p316_8', 'p316_9', 'p316_10',\n",
      "       'p316_11', 'p316_12', 'p316a1', 'p316b', 'p316c1', 'p316c2', 'p316c3',\n",
      "       'p316c4', 'p316c5', 'p316c6', 'p316c7', 'p316c8', 'p316c9', 'p316c10',\n",
      "       't313a', 'factor07', 'p203', 'p207', 'p208a', 'estrsocial', 'mieperho',\n",
      "       'totmieho', 'p1121', 'p1142', 'p1143', 'p1144', 'codccpp'],\n",
      "      dtype='object')\n"
     ]
    }
   ],
   "source": [
    "print(merged_data.columns)"
   ]
  },
  {
   "cell_type": "markdown",
   "id": "3f6f72ac-29c5-4dbc-b327-f196a8533f89",
   "metadata": {
    "tags": []
   },
   "source": [
    "# Variables - TRATAMIENTO"
   ]
  },
  {
   "cell_type": "markdown",
   "id": "bb143ee5-5baf-4e6d-ab83-5c4d595244b7",
   "metadata": {
    "tags": []
   },
   "source": [
    "### Departamento / Años de escolaridad"
   ]
  },
  {
   "cell_type": "code",
   "execution_count": 6,
   "id": "b2007026-2c85-4b5f-868c-e3f9c45cc456",
   "metadata": {},
   "outputs": [],
   "source": [
    "merged_data[\"DEPARTAMENTO\"] = merged_data[\"ubigeo\"].astype(str).str[:2]\n",
    "merged_data[\"DEPARTAMENTO\"] = pd.to_numeric(merged_data[\"DEPARTAMENTO\"], errors=\"coerce\")\n",
    "#dict_departamento = {\n",
    "#    1: \"Amazonas\", 2: \"Ancash\", 3: \"Apurímac\", 4: \"Arequipa\", 5: \"Ayacucho\", 6: \"Cajamarca\", 7: \"Callao\", 8: \"Cusco\",\n",
    "#    9: \"Huancavelica\", 10: \"Huánuco\", 11: \"Ica\", 12: \"Junín\", 13: \"La Libertad\", 14: \"Lambayeque\", 15: \"Lima\",\n",
    "#    16: \"Loreto\", 17: \"Madre de Dios\", 18: \"Moquegua\", 19: \"Pasco\", 20: \"Piura\", 21: \"Puno\", 22: \"San Martín\", \n",
    "#    23: \"Tacna\", 24: \"Tumbes\", 25: \"Ucayali\"\n",
    "#}"
   ]
  },
  {
   "cell_type": "code",
   "execution_count": 7,
   "id": "534db7fd-014e-4cac-a004-8e438e4b208e",
   "metadata": {},
   "outputs": [],
   "source": [
    "# Generate X5=p301b\n",
    "merged_data['X5'] = merged_data['p301b']\n",
    "\n",
    "# Replace X5=0 if p301a==1 or p301a==2\n",
    "merged_data.loc[(merged_data['p301a'] == 1) | (merged_data['p301a'] == 2), 'X5'] = 0\n",
    "\n",
    "# Recode X5 based on conditions\n",
    "merged_data.loc[merged_data['p301a'] == 3, 'X5'] = merged_data['X5'].map({1: 1, 2: 2, 3: 3, 4: 4})\n",
    "merged_data.loc[merged_data['p301a'] == 4, 'X5'] = merged_data['X5'].map({5: 5, 6: 6})\n",
    "merged_data.loc[merged_data['p301a'] == 5, 'X5'] = merged_data['X5'].map({1: 7, 2: 8, 3: 9, 4: 10})\n",
    "merged_data.loc[merged_data['p301a'] == 6, 'X5'] = merged_data['X5'].map({5: 11, 6: 12})\n",
    "merged_data.loc[merged_data['p301a'] == 7, 'X5'] = merged_data['X5'].map({1: 12, 2: 13, 3: 14, 4: 15})\n",
    "merged_data.loc[merged_data['p301a'] == 8, 'X5'] = merged_data['X5'].map({3: 14, 4: 15, 5: 16})\n",
    "merged_data.loc[merged_data['p301a'] == 9, 'X5'] = merged_data['X5'].map({1: 12, 2: 13, 3: 14, 4: 15, 5: 16, 6: 17})\n",
    "merged_data.loc[merged_data['p301a'] == 10, 'X5'] = merged_data['X5'].map({4: 15, 5: 16, 6: 17, 7: 18})\n",
    "\n",
    "# Save _p301c in a new column\n",
    "merged_data['_p301c'] = merged_data['p301c']\n",
    "\n",
    "# Recode _p301c (0=1)\n",
    "merged_data.loc[merged_data['_p301c'] == 0, '_p301c'] = 1\n",
    "\n",
    "# Replace X5 with _p301c under specified conditions\n",
    "merged_data.loc[(merged_data['p301b'] == 0) & (merged_data['p301a'] != 2), 'X5'] = merged_data['_p301c']"
   ]
  },
  {
   "cell_type": "markdown",
   "id": "63bda6e5-6155-4931-b85d-49fc1f854c7d",
   "metadata": {},
   "source": [
    "### Area / Idioma / Región"
   ]
  },
  {
   "cell_type": "code",
   "execution_count": 8,
   "id": "08ee393e",
   "metadata": {},
   "outputs": [],
   "source": [
    "# Recodificar la variable \"estrato\" para crear la variable \"area\"\n",
    "merged_data[\"Area\"] = merged_data[\"estrato\"].apply(lambda x: 1 if 1 <= x <= 5 else 0) #{1: \"Urbano\", 0: \"Rural\"}\n",
    "\n",
    "# IDIOMA \n",
    "merged_data[\"Idioma\"] = merged_data[\"p300a\"].apply(lambda x: 1 if 4 == x  else 0)   # {1: \"Castellano\", 0: \"Otros\"}\n",
    "#1 Quechua 2 Aimara 3 Otra lengua nativa 4 Castellano 6 Portugués 7 Otra lengua extranjera \n",
    "# 8 No escucha/no habla9 Lengua de señas peruanas 10 Ashaninka 11 Awajun/Aguaruna 12 Shipibo-Konibo \n",
    "# 13 Shawi/Chayahuita 14 Matsigenka/Machiguenga 15 Achuar\n",
    "\n",
    "# Recodificar la variable \"dominio\" para crear la variable \"region\"\n",
    "#dict_region = { 1:\"Costa\", 2:\"Costa\", 3: \"Costa\", 4:\"Sierra\", 5:\"Sierra\", 6:\"Sierra\", 7:\"Selva\", 8: \"Lima Metropolitana\"}\n",
    "dict_region = { 1:1, 2:1, 3: 1, 4:2, 5:2, 6:2, 7:3, 8: 1}\n",
    "merged_data[\"Region\"] = merged_data[\"dominio\"].map(dict_region)"
   ]
  },
  {
   "cell_type": "code",
   "execution_count": 9,
   "id": "d975765c",
   "metadata": {},
   "outputs": [
    {
     "name": "stdout",
     "output_type": "stream",
     "text": [
      "Index(['conglome', 'vivienda', 'hogar', 'codperso', 'ubigeo', 'dominio',\n",
      "       'estrato', 'p300a', 'p301a', 'p301b', 'p301c', 'p304a', 'p304b',\n",
      "       'p307a1', 'p307a2', 'p307a3', 'p307a4', 'p307a4_5', 'p307a4_6',\n",
      "       'p307a4_7', 'p307b1', 'p307b2', 'p307b3', 'p307b4', 'p307b4_5',\n",
      "       'p307b4_6', 'p307b4_7', 'p308a', 'p308b', 'p308c', 'p308d', 'p314a',\n",
      "       'p314b_1', 'p314b_2', 'p314b_3', 'p314b_4', 'p314b_5', 'p314b_6',\n",
      "       'p314b_7', 'p314b1_1', 'p314b1_2', 'p314b1_8', 'p314b1_9', 'p314b1_6',\n",
      "       'p314b1_7', 'p314d', 'p315a', 'p315b', 'p316_1', 'p316_2', 'p316_3',\n",
      "       'p316_4', 'p316_5', 'p316_6', 'p316_7', 'p316_8', 'p316_9', 'p316_10',\n",
      "       'p316_11', 'p316_12', 'p316a1', 'p316b', 'p316c1', 'p316c2', 'p316c3',\n",
      "       'p316c4', 'p316c5', 'p316c6', 'p316c7', 'p316c8', 'p316c9', 'p316c10',\n",
      "       't313a', 'factor07', 'p203', 'p207', 'p208a', 'estrsocial', 'mieperho',\n",
      "       'totmieho', 'p1121', 'p1142', 'p1143', 'p1144', 'codccpp',\n",
      "       'DEPARTAMENTO', 'X5', '_p301c', 'Area', 'Idioma', 'Region'],\n",
      "      dtype='object')\n"
     ]
    }
   ],
   "source": [
    "print(merged_data.columns)"
   ]
  },
  {
   "cell_type": "markdown",
   "id": "52581bb3-b8dd-4d60-9fe4-c0da3aeb73ab",
   "metadata": {},
   "source": [
    "## Renombrar variables"
   ]
  },
  {
   "cell_type": "code",
   "execution_count": 10,
   "id": "7ffb76b5",
   "metadata": {},
   "outputs": [],
   "source": [
    "# Rename columns\n",
    "new_column_names = {'p308a': 'Nivel_educativo', 'p308d': 'Centro_estudios','p207': 'Sexo', 'p208a':\"Edad\",'p1121':'Electricidad',\n",
    "                    'p1143':'conexion_cable_hog', \"p1144\":\"i_conexion_hog\", \"p1142\":\"cel_hog\",\"p203\":\"parentesco\",\"X5\":\"años_escolaridad\",\n",
    "#\"p307a1\":\"clases_tv\",\"p307a2\":\"clases_radio\", \"p307a3\":\"clases_plataforma_virtual\",\n",
    "#\"p307a4\":\"clases_otro\",\n",
    "#\"p307a4_5\":\"clases_wsp\",\"p307a4_6\":\"clases_correo\",\"p307a4_7\":\"clases_llamadas\",\n",
    "\"p307a1\":\"cl_medio_tv\",\"p307a2\":\"cl_medio_radio\", \"p307a3\":\"cl_medio_plataforma_virtual\",   \n",
    "\"p307a4\":\"cl_medio_otro\",\n",
    "\"p307a4_5\":\"cl_medio_wsp\",\"p307a4_6\":\"cl_medio_correo\",\"p307a4_7\":\"cl_medio_llamadas\",\n",
    "                    \n",
    "#medios_clase\n",
    "#\"p307b1\":\"clases_interaccion_profesor\",\"p307b2\":\"clases_videos\",\"p307b3\":\"clases_documentos\", \"p307b4\":\"clases_otros\",\n",
    "#\"p307b4_5\":\"clases_msm_audio\", \"p307b4_6\": \"clases_msm_texto\", \"p307b4_7\":\"clases_sin_acompañamiento\",\n",
    "\"p307b1\":\"cl_desarrollo_interaccion\", \"p307b2\":\"cl_desarrollo_videos\",\"p307b3\":\"cl_desarrollo_documentos\", \"p307b4\":\"cl_desarrollo_otros\",\n",
    "\"p307b4_5\":\"cl_desarrollo_msm_audio\", \"p307b4_6\": \"cl_desarrollo_msm_texto\", \"p307b4_7\":\"cl_desarrollo_sin_acompañamiento\",\n",
    "#desarollo_clases\n",
    "                    \n",
    "'p314a': 'i_uso','p314b_1':'i_uso_hog', 'p314b_2':'i_uso_trab', 'p314b_3':'i_uso_cedu','p314b_4':'i_uso_cab','p314b_5':'i_uso_casotr',\n",
    "'p314b_6':'i_uso_otro','p314b_7':'i_uso_movil','p314b1_1':'i_computadora','p314b1_2':'i_laptop','p314b1_5':'i_cel_trab','p314b1_6':'i_tablet',\n",
    "'p314b1_7':'i_otro','p314b1_8': 'i_cel_sdatos', 'p314b1_9': 'i_cel_cdatos',   \n",
    "                    'p316b':'uso_cp_lp',\n",
    "'p316a1':'cel_uso', 'p316_1':'i_obtener_info', 'p316_2':'i_comunicarse', 'p316_3':'i_comprar_pdts_ss', 'p316_4':'i_operaciones_bancarias', \n",
    "'p316_5':'i_edu_formal','p316_6':'i_transacciones','p316_7':'i_act_entretenimiento','p316_8':'i_vender_pdts','p316_12':'i_descarga_antivirus',\n",
    "                   \"p316c1\":\"ai_mover_archivo\",\"p316c2\":\"ai_copiar_pegar\",\"p316c3\":\"ai_enviar_correos\",\n",
    "                    \"p316c4\":\"ai_form_excel\",\"p316c5\":\"ai_conec_dispositivos\",\"p316c6\":\"ai_software\",\n",
    "                    \"p316c7\":\"ai_presentaciones_electronicas\",\"p316c8\":\"ai_tranfer_archivos\",\"p316c9\":\"ai_leng_programacion\",\n",
    "                    \"p316c10\":\"ai_otros\"}\n",
    "\n",
    "merged_data.rename(columns=new_column_names, inplace=True)"
   ]
  },
  {
   "cell_type": "code",
   "execution_count": 11,
   "id": "c1877c21-8188-4510-81a2-1f27844fb31f",
   "metadata": {},
   "outputs": [
    {
     "name": "stdout",
     "output_type": "stream",
     "text": [
      "<class 'pandas.core.frame.DataFrame'>\n",
      "Int64Index: 115777 entries, 0 to 115776\n",
      "Data columns (total 91 columns):\n",
      " #   Column                            Non-Null Count   Dtype  \n",
      "---  ------                            --------------   -----  \n",
      " 0   conglome                          115777 non-null  object \n",
      " 1   vivienda                          115777 non-null  object \n",
      " 2   hogar                             115777 non-null  object \n",
      " 3   codperso                          115777 non-null  object \n",
      " 4   ubigeo                            115777 non-null  object \n",
      " 5   dominio                           115777 non-null  int8   \n",
      " 6   estrato                           115777 non-null  int8   \n",
      " 7   p300a                             115708 non-null  float64\n",
      " 8   p301a                             115708 non-null  float64\n",
      " 9   p301b                             108529 non-null  float64\n",
      " 10  p301c                             26644 non-null   float64\n",
      " 11  p304a                             18591 non-null   float64\n",
      " 12  p304b                             18591 non-null   float64\n",
      " 13  cl_medio_tv                       27246 non-null   float64\n",
      " 14  cl_medio_radio                    27246 non-null   float64\n",
      " 15  cl_medio_plataforma_virtual       27246 non-null   float64\n",
      " 16  cl_medio_otro                     27248 non-null   float64\n",
      " 17  cl_medio_wsp                      27247 non-null   float64\n",
      " 18  cl_medio_correo                   27247 non-null   float64\n",
      " 19  cl_medio_llamadas                 27247 non-null   float64\n",
      " 20  cl_desarrollo_interaccion         27246 non-null   float64\n",
      " 21  cl_desarrollo_videos              27246 non-null   float64\n",
      " 22  cl_desarrollo_documentos          27246 non-null   float64\n",
      " 23  cl_desarrollo_otros               27248 non-null   float64\n",
      " 24  cl_desarrollo_msm_audio           27247 non-null   float64\n",
      " 25  cl_desarrollo_msm_texto           27247 non-null   float64\n",
      " 26  cl_desarrollo_sin_acompañamiento  27247 non-null   float64\n",
      " 27  Nivel_educativo                   32120 non-null   float64\n",
      " 28  p308b                             32120 non-null   float64\n",
      " 29  p308c                             12431 non-null   float64\n",
      " 30  Centro_estudios                   32120 non-null   float64\n",
      " 31  i_uso                             110092 non-null  float64\n",
      " 32  i_uso_hog                         30053 non-null   float64\n",
      " 33  i_uso_trab                        30053 non-null   float64\n",
      " 34  i_uso_cedu                        30053 non-null   float64\n",
      " 35  i_uso_cab                         30053 non-null   float64\n",
      " 36  i_uso_casotr                      30053 non-null   float64\n",
      " 37  i_uso_otro                        30053 non-null   float64\n",
      " 38  i_uso_movil                       30053 non-null   float64\n",
      " 39  i_computadora                     61633 non-null   float64\n",
      " 40  i_laptop                          61633 non-null   float64\n",
      " 41  i_cel_sdatos                      61633 non-null   float64\n",
      " 42  i_cel_cdatos                      61633 non-null   float64\n",
      " 43  i_tablet                          61633 non-null   float64\n",
      " 44  i_otro                            61633 non-null   float64\n",
      " 45  p314d                             30049 non-null   float64\n",
      " 46  p315a                             950 non-null     float64\n",
      " 47  p315b                             24 non-null      float64\n",
      " 48  i_obtener_info                    30053 non-null   float64\n",
      " 49  i_comunicarse                     30053 non-null   float64\n",
      " 50  i_comprar_pdts_ss                 30053 non-null   float64\n",
      " 51  i_operaciones_bancarias           30053 non-null   float64\n",
      " 52  i_edu_formal                      30053 non-null   float64\n",
      " 53  i_transacciones                   30053 non-null   float64\n",
      " 54  i_act_entretenimiento             30053 non-null   float64\n",
      " 55  i_vender_pdts                     30053 non-null   float64\n",
      " 56  p316_9                            30053 non-null   float64\n",
      " 57  p316_10                           30053 non-null   float64\n",
      " 58  p316_11                           30053 non-null   float64\n",
      " 59  i_descarga_antivirus              30053 non-null   float64\n",
      " 60  cel_uso                           110092 non-null  float64\n",
      " 61  uso_cp_lp                         45752 non-null   float64\n",
      " 62  ai_mover_archivo                  12076 non-null   float64\n",
      " 63  ai_copiar_pegar                   12076 non-null   float64\n",
      " 64  ai_enviar_correos                 12076 non-null   float64\n",
      " 65  ai_form_excel                     12076 non-null   float64\n",
      " 66  ai_conec_dispositivos             12076 non-null   float64\n",
      " 67  ai_software                       12076 non-null   float64\n",
      " 68  ai_presentaciones_electronicas    12076 non-null   float64\n",
      " 69  ai_tranfer_archivos               12076 non-null   float64\n",
      " 70  ai_leng_programacion              12076 non-null   float64\n",
      " 71  ai_otros                          12076 non-null   float64\n",
      " 72  t313a                             19801 non-null   float64\n",
      " 73  factor07                          115777 non-null  float32\n",
      " 74  parentesco                        115777 non-null  int8   \n",
      " 75  Sexo                              115777 non-null  float64\n",
      " 76  Edad                              115777 non-null  float64\n",
      " 77  estrsocial                        115777 non-null  int8   \n",
      " 78  mieperho                          115777 non-null  int8   \n",
      " 79  totmieho                          115777 non-null  int8   \n",
      " 80  Electricidad                      115777 non-null  float64\n",
      " 81  cel_hog                           115777 non-null  float64\n",
      " 82  conexion_cable_hog                115777 non-null  float64\n",
      " 83  i_conexion_hog                    115777 non-null  float64\n",
      " 84  codccpp                           115777 non-null  object \n",
      " 85  DEPARTAMENTO                      115777 non-null  int64  \n",
      " 86  años_escolaridad                  115708 non-null  float64\n",
      " 87  _p301c                            26644 non-null   float64\n",
      " 88  Area                              115777 non-null  int64  \n",
      " 89  Idioma                            115777 non-null  int64  \n",
      " 90  Region                            115777 non-null  int64  \n",
      "dtypes: float32(1), float64(74), int64(4), int8(6), object(6)\n",
      "memory usage: 80.2+ MB\n"
     ]
    }
   ],
   "source": [
    "merged_data.info()"
   ]
  },
  {
   "cell_type": "code",
   "execution_count": 12,
   "id": "c99df30a-d130-4581-9996-10e1f58099b8",
   "metadata": {},
   "outputs": [],
   "source": [
    "columnas_float = merged_data.select_dtypes(include=['float']).columns\n",
    "\n",
    "# Convertir las columnas float a enteros, con manejo de NaN\n",
    "merged_data[columnas_float] = merged_data[columnas_float].apply(pd.to_numeric, errors='coerce').fillna(0).astype(int)"
   ]
  },
  {
   "cell_type": "code",
   "execution_count": null,
   "id": "e577384d-4d2d-4974-a8bd-13fe84314b5c",
   "metadata": {},
   "outputs": [],
   "source": []
  },
  {
   "cell_type": "raw",
   "id": "20282bcc-ea73-43b8-9e2d-9f9f94fa2d19",
   "metadata": {},
   "source": [
    "# Uso de Internet en el hogar\n",
    "merged_data[\"i_uso_hog\"] = pd.to_numeric(merged_data[\"i_uso_hog\"], errors=\"coerce\")\n",
    "# Uso de Internet \n",
    "merged_data[\"i_uso\"] = pd.to_numeric(merged_data[\"i_uso\"], errors=\"coerce\")\n",
    "merged_data['Sexo'] = pd.to_numeric(merged_data['Sexo'], errors=\"coerce\")\n",
    "merged_data['Edad'] = pd.to_numeric(merged_data['Edad'], errors=\"coerce\")"
   ]
  },
  {
   "cell_type": "raw",
   "id": "37551e2e-4978-4863-bbe8-ec90ef74f421",
   "metadata": {},
   "source": [
    "merged_data['Sexo'] = merged_data['Sexo'].astype(int)\n",
    "merged_data['Edad'] = merged_data['Edad'].astype(int)"
   ]
  },
  {
   "cell_type": "markdown",
   "id": "91a3b1e6-989f-4e5c-af7c-394f08b30f2b",
   "metadata": {},
   "source": [
    "## Filtrar variables"
   ]
  },
  {
   "cell_type": "code",
   "execution_count": 13,
   "id": "94c03c14",
   "metadata": {},
   "outputs": [],
   "source": [
    "# Filtrar las filas donde \"P208A\" es menor que 18\n",
    "#base_filtrada = base_filtrada[base_filtrada[\"Edad\"] <= 18] # 09.10.2023\n",
    "base_filtrada = merged_data[(merged_data[\"Edad\"] <= 18) & (merged_data[\"Edad\"] >= 6)]\n",
    "\n",
    "# Filtrar el DataFrame para incluir solo las filas con valores 1, 2 o 3 en la columna \"P308A\"\n",
    "#base_filtrada = merged_data[merged_data[\"Nivel_educativo\"].isin([1, 2, 3])] # 09.10.2023\n",
    "base_filtrada = base_filtrada [base_filtrada[\"Nivel_educativo\"].isin([2, 3])]  # 11.10.2023 ###\n",
    "base_filtrada[\"Edad\"] = pd.to_numeric(base_filtrada[\"Edad\"], errors=\"coerce\")"
   ]
  },
  {
   "cell_type": "code",
   "execution_count": 14,
   "id": "b8f6813a-97a1-4882-a48c-92d6f30591a5",
   "metadata": {},
   "outputs": [
    {
     "data": {
      "text/plain": [
       "Index(['conglome', 'vivienda', 'hogar', 'codperso', 'ubigeo', 'dominio',\n",
       "       'estrato', 'p300a', 'p301a', 'p301b', 'p301c', 'p304a', 'p304b',\n",
       "       'cl_medio_tv', 'cl_medio_radio', 'cl_medio_plataforma_virtual',\n",
       "       'cl_medio_otro', 'cl_medio_wsp', 'cl_medio_correo', 'cl_medio_llamadas',\n",
       "       'cl_desarrollo_interaccion', 'cl_desarrollo_videos',\n",
       "       'cl_desarrollo_documentos', 'cl_desarrollo_otros',\n",
       "       'cl_desarrollo_msm_audio', 'cl_desarrollo_msm_texto',\n",
       "       'cl_desarrollo_sin_acompañamiento', 'Nivel_educativo', 'p308b', 'p308c',\n",
       "       'Centro_estudios', 'i_uso', 'i_uso_hog', 'i_uso_trab', 'i_uso_cedu',\n",
       "       'i_uso_cab', 'i_uso_casotr', 'i_uso_otro', 'i_uso_movil',\n",
       "       'i_computadora', 'i_laptop', 'i_cel_sdatos', 'i_cel_cdatos', 'i_tablet',\n",
       "       'i_otro', 'p314d', 'p315a', 'p315b', 'i_obtener_info', 'i_comunicarse',\n",
       "       'i_comprar_pdts_ss', 'i_operaciones_bancarias', 'i_edu_formal',\n",
       "       'i_transacciones', 'i_act_entretenimiento', 'i_vender_pdts', 'p316_9',\n",
       "       'p316_10', 'p316_11', 'i_descarga_antivirus', 'cel_uso', 'uso_cp_lp',\n",
       "       'ai_mover_archivo', 'ai_copiar_pegar', 'ai_enviar_correos',\n",
       "       'ai_form_excel', 'ai_conec_dispositivos', 'ai_software',\n",
       "       'ai_presentaciones_electronicas', 'ai_tranfer_archivos',\n",
       "       'ai_leng_programacion', 'ai_otros', 't313a', 'factor07', 'parentesco',\n",
       "       'Sexo', 'Edad', 'estrsocial', 'mieperho', 'totmieho', 'Electricidad',\n",
       "       'cel_hog', 'conexion_cable_hog', 'i_conexion_hog', 'codccpp',\n",
       "       'DEPARTAMENTO', 'años_escolaridad', '_p301c', 'Area', 'Idioma',\n",
       "       'Region'],\n",
       "      dtype='object')"
      ]
     },
     "execution_count": 14,
     "metadata": {},
     "output_type": "execute_result"
    }
   ],
   "source": [
    "base_filtrada.columns"
   ]
  },
  {
   "cell_type": "code",
   "execution_count": 15,
   "id": "5056f5c5-6b5a-4ebc-a0aa-aea7582152e2",
   "metadata": {},
   "outputs": [],
   "source": [
    "#base_filtrada['uso_cp_lp']   = base_filtrada['uso_cp_lp'].map({2: 0, 1: 1})\n",
    "#base_filtrada.loc[:, 'uso_cp_lp'] = base_filtrada['uso_cp_lp'].map({2: 0, 1: 1})\n",
    "#base_filtrada.loc[:, 'uso_cp_lp'] = base_filtrada['uso_cp_lp'].map({2: 0, 1: 1})\n",
    "\n",
    "base_filtrada = base_filtrada.copy()\n",
    "base_filtrada['uso_cp_lp'] = base_filtrada['uso_cp_lp'].map({2: 0, 1: 1})"
   ]
  },
  {
   "cell_type": "code",
   "execution_count": 16,
   "id": "5fe2700a-0611-4c38-b9f9-5afee9905f85",
   "metadata": {},
   "outputs": [],
   "source": [
    "base_filtrada['Centro_estudios'] = base_filtrada['Centro_estudios'].map({2: 0, 1: 1})"
   ]
  },
  {
   "cell_type": "code",
   "execution_count": 17,
   "id": "92209712-8a65-4031-9d9b-b4225ba739e7",
   "metadata": {},
   "outputs": [],
   "source": [
    "base_filtrada['i_uso']        = base_filtrada['i_uso'].map({2: 0, 1: 1})\n",
    "base_filtrada['i_uso_cedu']   = base_filtrada['i_uso_cedu'].map({0: 0, 3: 1})\n",
    "base_filtrada['i_uso_trab']   = base_filtrada['i_uso_trab'].map({0: 0, 2: 1})\n",
    "base_filtrada['i_uso_hog']    = base_filtrada['i_uso_hog'].map({0: 0, 1: 1})\n",
    "base_filtrada['i_uso_cab']    = base_filtrada['i_uso_cab'].map({0: 0, 4: 1})\n",
    "base_filtrada['i_uso_casotr'] = base_filtrada['i_uso_casotr'].map({0: 0, 5: 1})\n",
    "base_filtrada['i_uso_otro']   = base_filtrada['i_uso_otro'].map({0: 0, 6: 1})\n",
    "base_filtrada['i_uso_movil']  = base_filtrada['i_uso_movil'].map({0: 0, 7: 1})"
   ]
  },
  {
   "cell_type": "code",
   "execution_count": 18,
   "id": "983da2a0-9090-42e0-a1b0-9d3adf44ff39",
   "metadata": {},
   "outputs": [],
   "source": [
    "base_filtrada['i_computadora'] = base_filtrada['i_computadora'].map({0: 0, 1: 1})\n",
    "base_filtrada['i_tablet']      = base_filtrada['i_tablet'].map({0: 0, 6: 1})\n",
    "base_filtrada['i_laptop']      = base_filtrada['i_laptop'].map({0: 0, 2: 1})\n",
    "base_filtrada['i_otro']        = base_filtrada['i_otro'].map({0: 0, 7: 1})\n",
    "base_filtrada['i_cel_sdatos']  = base_filtrada['i_cel_sdatos'].map({0: 0, 8: 1})\n",
    "base_filtrada['i_cel_cdatos']  = base_filtrada['i_cel_cdatos'].map({0: 0, 9: 1})"
   ]
  },
  {
   "cell_type": "code",
   "execution_count": 19,
   "id": "9959c225-fa3d-4c25-9e54-1025acaca29a",
   "metadata": {},
   "outputs": [],
   "source": [
    "base_filtrada['ai_mover_archivo']   = base_filtrada['ai_mover_archivo'].map({2: 0, 1: 1})\n",
    "base_filtrada['ai_copiar_pegar']    = base_filtrada['ai_copiar_pegar'].map({2: 0, 1: 1})\n",
    "base_filtrada['ai_enviar_correos']  = base_filtrada['ai_enviar_correos'].map({2: 0, 1: 1})\n",
    "base_filtrada['ai_form_excel']      = base_filtrada['ai_form_excel'].map({2: 0, 1: 1})\n",
    "base_filtrada['ai_conec_dispositivos']   = base_filtrada['ai_conec_dispositivos'].map({2: 0, 1: 1})\n",
    "base_filtrada['ai_software']        = base_filtrada['ai_software'].map({2: 0, 1: 1})\n",
    "base_filtrada['ai_presentaciones_electronicas']  = base_filtrada['ai_presentaciones_electronicas'].map({2: 0, 1: 1})\n",
    "base_filtrada['ai_tranfer_archivos'] = base_filtrada['ai_mover_archivo'].map({2: 0, 1: 1})\n",
    "base_filtrada['ai_leng_programacion'] = base_filtrada['ai_leng_programacion'].map({2: 0, 1: 1})\n",
    "base_filtrada['ai_otros']        = base_filtrada['ai_otros'].map({2: 0, 1: 1})"
   ]
  },
  {
   "cell_type": "code",
   "execution_count": 20,
   "id": "85aef238-dce6-4178-8700-4116d1ce4288",
   "metadata": {},
   "outputs": [],
   "source": [
    "base_filtrada['cl_medio_tv']       = base_filtrada['cl_medio_tv'].map({0: 0, 1: 1})\n",
    "base_filtrada['cl_medio_radio']    = base_filtrada['cl_medio_radio'].map({0: 0, 2: 1})\n",
    "base_filtrada['cl_medio_plataforma_virtual'] = base_filtrada['cl_medio_plataforma_virtual'].map({0: 0, 3: 1})\n",
    "base_filtrada['cl_medio_otro']     = base_filtrada['cl_medio_otro'].map({0: 0, 4: 1})\n",
    "base_filtrada['cl_medio_wsp']      = base_filtrada['cl_medio_wsp'].map({0: 0, 5: 1})\n",
    "base_filtrada['cl_medio_correo']   = base_filtrada['cl_medio_correo'].map({0: 0, 6: 1})\n",
    "base_filtrada['cl_medio_llamadas'] = base_filtrada['cl_medio_llamadas'].map({0: 0, 7: 1})"
   ]
  },
  {
   "cell_type": "code",
   "execution_count": 21,
   "id": "ee9c887c-552d-4f8d-a644-0e9f24a5bd89",
   "metadata": {},
   "outputs": [],
   "source": [
    "base_filtrada['cl_desarrollo_interaccion'] = base_filtrada['cl_desarrollo_interaccion'].map({0: 0, 1: 1})\n",
    "base_filtrada['cl_desarrollo_videos']             = base_filtrada['cl_desarrollo_videos'].map({0: 0, 2: 1})\n",
    "base_filtrada['cl_desarrollo_documentos']         = base_filtrada['cl_desarrollo_documentos'].map({0: 0, 3: 1})\n",
    "base_filtrada['cl_desarrollo_otros']              = base_filtrada['cl_desarrollo_otros'].map({0: 0, 4: 1})\n",
    "base_filtrada['cl_desarrollo_msm_audio']          = base_filtrada['cl_desarrollo_msm_audio'].map({0: 0, 5: 1})\n",
    "base_filtrada['cl_desarrollo_msm_texto']          = base_filtrada['cl_desarrollo_msm_texto'].map({0: 0, 6: 1})\n",
    "base_filtrada['cl_desarrollo_sin_acompañamiento'] = base_filtrada['cl_desarrollo_sin_acompañamiento'].map({0: 0, 7: 1})"
   ]
  },
  {
   "cell_type": "code",
   "execution_count": 22,
   "id": "5f3aef2b-0995-4cbe-a522-8c80c595a1c5",
   "metadata": {},
   "outputs": [],
   "source": [
    "#base_filtrada.columns"
   ]
  },
  {
   "cell_type": "code",
   "execution_count": 23,
   "id": "5497bc5c-f05f-4a5e-81c0-53d48ac55a25",
   "metadata": {},
   "outputs": [],
   "source": [
    "base_filtrada['i_obtener_info']    = base_filtrada['i_obtener_info'].map({2: 0, 1: 1})\n",
    "base_filtrada['i_comunicarse']     = base_filtrada['i_comunicarse'].map({2: 0, 1: 1})\n",
    "base_filtrada['i_comprar_pdts_ss'] = base_filtrada['i_comprar_pdts_ss'].map({2: 0, 1: 1})\n",
    "base_filtrada['i_operaciones_bancarias'] = base_filtrada['i_operaciones_bancarias'].map({2: 0, 1: 1})\n",
    "base_filtrada['i_edu_formal']      = base_filtrada['i_edu_formal'].map({2: 0, 1: 1})\n",
    "base_filtrada['i_transacciones']   = base_filtrada['i_transacciones'].map({2: 0, 1: 1})\n",
    "base_filtrada['i_act_entretenimiento'] = base_filtrada['i_act_entretenimiento'].map({2: 0, 1: 1})\n",
    "base_filtrada['i_vender_pdts']         = base_filtrada['i_vender_pdts'].map({2: 0, 1: 1})  #8\n",
    "base_filtrada['p316_9']         = base_filtrada['p316_9'].map({2: 0, 1: 1})  #9\n",
    "base_filtrada['p316_10']         = base_filtrada['p316_10'].map({2: 0, 1: 1})  #10\n",
    "base_filtrada['p316_11']         = base_filtrada['p316_11'].map({2: 0, 1: 1}) #11\n",
    "base_filtrada['i_descarga_antivirus']  = base_filtrada['i_descarga_antivirus'].map({2: 0, 1: 1})   #12"
   ]
  },
  {
   "cell_type": "markdown",
   "id": "d86cf0ec-5ab6-4c9e-b1bc-b1bb49d48d49",
   "metadata": {},
   "source": [
    "## Valores Nulos"
   ]
  },
  {
   "cell_type": "code",
   "execution_count": 24,
   "id": "8fc3ecbc-d4a3-4e5f-b74f-fbce63c23529",
   "metadata": {},
   "outputs": [
    {
     "data": {
      "text/plain": [
       "0    20992\n",
       "1     1409\n",
       "Name: i_uso_hog, dtype: int64"
      ]
     },
     "execution_count": 24,
     "metadata": {},
     "output_type": "execute_result"
    }
   ],
   "source": [
    "base_filtrada.i_uso_hog.value_counts()"
   ]
  },
  {
   "cell_type": "code",
   "execution_count": 25,
   "id": "b82fd4ac-be1f-4a9b-8579-d41092dfcbd1",
   "metadata": {},
   "outputs": [
    {
     "name": "stdout",
     "output_type": "stream",
     "text": [
      "<class 'pandas.core.frame.DataFrame'>\n",
      "Int64Index: 22401 entries, 8 to 115775\n",
      "Data columns (total 91 columns):\n",
      " #   Column                            Non-Null Count  Dtype  \n",
      "---  ------                            --------------  -----  \n",
      " 0   conglome                          22401 non-null  object \n",
      " 1   vivienda                          22401 non-null  object \n",
      " 2   hogar                             22401 non-null  object \n",
      " 3   codperso                          22401 non-null  object \n",
      " 4   ubigeo                            22401 non-null  object \n",
      " 5   dominio                           22401 non-null  int8   \n",
      " 6   estrato                           22401 non-null  int8   \n",
      " 7   p300a                             22401 non-null  int32  \n",
      " 8   p301a                             22401 non-null  int32  \n",
      " 9   p301b                             22401 non-null  int32  \n",
      " 10  p301c                             22401 non-null  int32  \n",
      " 11  p304a                             22401 non-null  int32  \n",
      " 12  p304b                             22401 non-null  int32  \n",
      " 13  cl_medio_tv                       22401 non-null  int64  \n",
      " 14  cl_medio_radio                    22401 non-null  int64  \n",
      " 15  cl_medio_plataforma_virtual       22401 non-null  int64  \n",
      " 16  cl_medio_otro                     22401 non-null  int64  \n",
      " 17  cl_medio_wsp                      22401 non-null  int64  \n",
      " 18  cl_medio_correo                   22401 non-null  int64  \n",
      " 19  cl_medio_llamadas                 22401 non-null  int64  \n",
      " 20  cl_desarrollo_interaccion         22401 non-null  int64  \n",
      " 21  cl_desarrollo_videos              22401 non-null  int64  \n",
      " 22  cl_desarrollo_documentos          22401 non-null  int64  \n",
      " 23  cl_desarrollo_otros               22401 non-null  int64  \n",
      " 24  cl_desarrollo_msm_audio           22401 non-null  int64  \n",
      " 25  cl_desarrollo_msm_texto           22401 non-null  int64  \n",
      " 26  cl_desarrollo_sin_acompañamiento  22401 non-null  int64  \n",
      " 27  Nivel_educativo                   22401 non-null  int32  \n",
      " 28  p308b                             22401 non-null  int32  \n",
      " 29  p308c                             22401 non-null  int32  \n",
      " 30  Centro_estudios                   22401 non-null  int64  \n",
      " 31  i_uso                             22401 non-null  int64  \n",
      " 32  i_uso_hog                         22401 non-null  int64  \n",
      " 33  i_uso_trab                        22401 non-null  int64  \n",
      " 34  i_uso_cedu                        22401 non-null  int64  \n",
      " 35  i_uso_cab                         22401 non-null  int64  \n",
      " 36  i_uso_casotr                      22401 non-null  int64  \n",
      " 37  i_uso_otro                        22401 non-null  int64  \n",
      " 38  i_uso_movil                       22401 non-null  int64  \n",
      " 39  i_computadora                     22401 non-null  int64  \n",
      " 40  i_laptop                          22401 non-null  int64  \n",
      " 41  i_cel_sdatos                      22401 non-null  int64  \n",
      " 42  i_cel_cdatos                      22401 non-null  int64  \n",
      " 43  i_tablet                          22401 non-null  int64  \n",
      " 44  i_otro                            22401 non-null  int64  \n",
      " 45  p314d                             22401 non-null  int32  \n",
      " 46  p315a                             22401 non-null  int32  \n",
      " 47  p315b                             22401 non-null  int32  \n",
      " 48  i_obtener_info                    6083 non-null   float64\n",
      " 49  i_comunicarse                     6083 non-null   float64\n",
      " 50  i_comprar_pdts_ss                 6083 non-null   float64\n",
      " 51  i_operaciones_bancarias           6083 non-null   float64\n",
      " 52  i_edu_formal                      6083 non-null   float64\n",
      " 53  i_transacciones                   6083 non-null   float64\n",
      " 54  i_act_entretenimiento             6083 non-null   float64\n",
      " 55  i_vender_pdts                     6083 non-null   float64\n",
      " 56  p316_9                            6083 non-null   float64\n",
      " 57  p316_10                           6083 non-null   float64\n",
      " 58  p316_11                           6083 non-null   float64\n",
      " 59  i_descarga_antivirus              6083 non-null   float64\n",
      " 60  cel_uso                           22401 non-null  int32  \n",
      " 61  uso_cp_lp                         2822 non-null   float64\n",
      " 62  ai_mover_archivo                  1001 non-null   float64\n",
      " 63  ai_copiar_pegar                   1001 non-null   float64\n",
      " 64  ai_enviar_correos                 1001 non-null   float64\n",
      " 65  ai_form_excel                     1001 non-null   float64\n",
      " 66  ai_conec_dispositivos             1001 non-null   float64\n",
      " 67  ai_software                       1001 non-null   float64\n",
      " 68  ai_presentaciones_electronicas    1001 non-null   float64\n",
      " 69  ai_tranfer_archivos               915 non-null    float64\n",
      " 70  ai_leng_programacion              1001 non-null   float64\n",
      " 71  ai_otros                          1001 non-null   float64\n",
      " 72  t313a                             22401 non-null  int32  \n",
      " 73  factor07                          22401 non-null  int32  \n",
      " 74  parentesco                        22401 non-null  int8   \n",
      " 75  Sexo                              22401 non-null  int32  \n",
      " 76  Edad                              22401 non-null  int32  \n",
      " 77  estrsocial                        22401 non-null  int8   \n",
      " 78  mieperho                          22401 non-null  int8   \n",
      " 79  totmieho                          22401 non-null  int8   \n",
      " 80  Electricidad                      22401 non-null  int32  \n",
      " 81  cel_hog                           22401 non-null  int32  \n",
      " 82  conexion_cable_hog                22401 non-null  int32  \n",
      " 83  i_conexion_hog                    22401 non-null  int32  \n",
      " 84  codccpp                           22401 non-null  object \n",
      " 85  DEPARTAMENTO                      22401 non-null  int64  \n",
      " 86  años_escolaridad                  22401 non-null  int32  \n",
      " 87  _p301c                            22401 non-null  int32  \n",
      " 88  Area                              22401 non-null  int64  \n",
      " 89  Idioma                            22401 non-null  int64  \n",
      " 90  Region                            22401 non-null  int64  \n",
      "dtypes: float64(23), int32(23), int64(33), int8(6), object(6)\n",
      "memory usage: 12.9+ MB\n"
     ]
    }
   ],
   "source": [
    "base_filtrada.info()"
   ]
  },
  {
   "cell_type": "code",
   "execution_count": 26,
   "id": "4ec69bb1-27b9-4e27-9681-66fe8b3e4ba5",
   "metadata": {},
   "outputs": [
    {
     "name": "stdout",
     "output_type": "stream",
     "text": [
      "Porcentaje de valores nulos en 'i_obtener_info': 72.84%\n",
      "Porcentaje de valores nulos en 'i_comunicarse': 72.84%\n",
      "Porcentaje de valores nulos en 'i_comprar_pdts_ss': 72.84%\n",
      "Porcentaje de valores nulos en 'i_operaciones_bancarias': 72.84%\n",
      "Porcentaje de valores nulos en 'i_edu_formal': 72.84%\n",
      "Porcentaje de valores nulos en 'i_transacciones': 72.84%\n",
      "Porcentaje de valores nulos en 'i_act_entretenimiento': 72.84%\n",
      "Porcentaje de valores nulos en 'i_vender_pdts': 72.84%\n",
      "Porcentaje de valores nulos en 'p316_9': 72.84%\n",
      "Porcentaje de valores nulos en 'p316_10': 72.84%\n",
      "Porcentaje de valores nulos en 'p316_11': 72.84%\n",
      "Porcentaje de valores nulos en 'i_descarga_antivirus': 72.84%\n",
      "Porcentaje de valores nulos en 'uso_cp_lp': 87.40%\n",
      "Porcentaje de valores nulos en 'ai_mover_archivo': 95.53%\n",
      "Porcentaje de valores nulos en 'ai_copiar_pegar': 95.53%\n",
      "Porcentaje de valores nulos en 'ai_enviar_correos': 95.53%\n",
      "Porcentaje de valores nulos en 'ai_form_excel': 95.53%\n",
      "Porcentaje de valores nulos en 'ai_conec_dispositivos': 95.53%\n",
      "Porcentaje de valores nulos en 'ai_software': 95.53%\n",
      "Porcentaje de valores nulos en 'ai_presentaciones_electronicas': 95.53%\n",
      "Porcentaje de valores nulos en 'ai_tranfer_archivos': 95.92%\n",
      "Porcentaje de valores nulos en 'ai_leng_programacion': 95.53%\n",
      "Porcentaje de valores nulos en 'ai_otros': 95.53%\n"
     ]
    }
   ],
   "source": [
    "# Itera sobre todas las columnas y calcula el porcentaje de valores nulos en cada una\n",
    "for columna in base_filtrada.columns:\n",
    "    nulos_en_columna = base_filtrada[columna].isnull().sum()\n",
    "    total_de_registros = len(base_filtrada)\n",
    "    porcentaje_nulos = (nulos_en_columna / total_de_registros) * 100\n",
    "    if porcentaje_nulos > 0:\n",
    "        print(f\"Porcentaje de valores nulos en '{columna}': {porcentaje_nulos:.2f}%\")"
   ]
  },
  {
   "cell_type": "code",
   "execution_count": 27,
   "id": "f8699938-badb-49b7-bb52-e07ffb491dbb",
   "metadata": {},
   "outputs": [],
   "source": [
    "## Reemplazar valores nulos con la moda/mediana por departamento"
   ]
  },
  {
   "cell_type": "code",
   "execution_count": 28,
   "id": "ee00c11e-3e96-49a6-9a89-978ed48c552d",
   "metadata": {},
   "outputs": [],
   "source": [
    "# Calcular la moda por departamento solo si la serie no está vacía\n",
    "#moda_por_departamento = base_filtrada.groupby('DEPARTAMENTO')['i_uso'].apply(lambda x: x.mode().iloc[0] if not x.empty else None)\n",
    "\n",
    "# Llenar los valores nulos en 'i_uso' con la moda correspondiente\n",
    "#base_filtrada['i_uso'].fillna(base_filtrada['DEPARTAMENTO'].map(moda_por_departamento), inplace=True)\n"
   ]
  },
  {
   "cell_type": "raw",
   "id": "3e887cd9-20a1-4410-a71c-59171ef95dc4",
   "metadata": {},
   "source": [
    "# Calcular la moda por departamento\n",
    "moda_por_departamento = base_filtrada.groupby('codccpp')['i_uso'].apply(lambda x: x.mode().iloc[0])\n",
    "\n",
    "# Llenar los valores nulos en 'variable_dicotomica' con la moda correspondiente\n",
    "base_filtrada['i_uso'].fillna(base_filtrada['codccpp'].map(moda_por_departamento), inplace=True)\n",
    "\n",
    "# Mostrar el DataFrame resultante\n",
    "#print(base_filtrada)"
   ]
  },
  {
   "cell_type": "code",
   "execution_count": 29,
   "id": "a8b4475b-0631-4dda-867a-98e5e61a15f6",
   "metadata": {},
   "outputs": [],
   "source": [
    "#moda_por_departamento.head(10)"
   ]
  },
  {
   "cell_type": "code",
   "execution_count": 30,
   "id": "a9592237-3eeb-4f2f-ba10-903bd904f1e6",
   "metadata": {},
   "outputs": [],
   "source": [
    "#mediana_por_departamento.head(5)"
   ]
  },
  {
   "cell_type": "code",
   "execution_count": 31,
   "id": "d19db7ca-7211-4a7b-a8b3-59cf010fddfd",
   "metadata": {},
   "outputs": [
    {
     "name": "stdout",
     "output_type": "stream",
     "text": [
      "Total de valores faltantes en \"i_uso_hog\": 0\n",
      "Conteo de valores faltantes por grupo:\n",
      "Series([], dtype: int64)\n"
     ]
    }
   ],
   "source": [
    "# Contar la cantidad de valores nulos en \"i_uso_hog\".\n",
    "total_nulos_i_uso_hog = base_filtrada['i_uso_hog'].isnull().sum()\n",
    "\n",
    "# Crear un filtro para los valores faltantes en \"i_uso_hog\".\n",
    "filtro_valores_faltantes_i_uso_hog = base_filtrada['i_uso_hog'].isnull()\n",
    "\n",
    "# Filtrar el DataFrame para obtener solo las filas con valores faltantes en \"i_uso_hog\".\n",
    "df_valores_faltantes_i_uso_hog = base_filtrada[filtro_valores_faltantes_i_uso_hog]\n",
    "\n",
    "# Contar la cantidad de valores faltantes en \"i_uso_hog\" para cada grupo definido por las variables mencionadas.\n",
    "contagem_por_grupo = df_valores_faltantes_i_uso_hog.groupby(['años_escolaridad']).size()\n",
    "\n",
    "# Imprimir el resultado.\n",
    "print(f'Total de valores faltantes en \"i_uso_hog\": {total_nulos_i_uso_hog}')\n",
    "print('Conteo de valores faltantes por grupo:')\n",
    "print(contagem_por_grupo)"
   ]
  },
  {
   "cell_type": "markdown",
   "id": "0f3b35c2-8468-4b06-bd98-3098d0b02ec7",
   "metadata": {
    "tags": []
   },
   "source": [
    "## Funciones"
   ]
  },
  {
   "cell_type": "code",
   "execution_count": 32,
   "id": "d4f7ac7d-16bb-41e8-98b5-b53c4b215271",
   "metadata": {},
   "outputs": [],
   "source": [
    "def generar_tabla_recuento(dataframe, variable, descripcion_valores, guardar_como_jpeg=False, guardar_como_txt=False):\n",
    "    # Agrupa los datos por la columna 'variable' y suma 'factor07'\n",
    "    freq_ = dataframe[['factor07', variable]].groupby(variable).sum().reset_index()\n",
    "    \n",
    "    # Calcular el porcentaje y redondearlo a dos decimales directamente en esta línea\n",
    "    total_recuento = freq_['factor07'].sum()\n",
    "    freq_['Porcentaje'] = (freq_['factor07'] / total_recuento * 100).round(2)\n",
    "    \n",
    "    freq_.rename(columns={'factor07': 'Recuento', variable: descripcion_valores}, inplace=True)\n",
    "    \n",
    "    # Calcular los totales\n",
    "    total_recuento = freq_['Recuento'].astype(float).sum()\n",
    "    total_porcentaje = freq_['Porcentaje'].astype(float).sum()\n",
    "    \n",
    "    # Crear una fila adicional para los totales\n",
    "    fila_total = pd.DataFrame({descripcion_valores: 'Total', 'Recuento': total_recuento, 'Porcentaje': total_porcentaje}, index=[0])\n",
    "\n",
    "    # Concatenar la fila total al DataFrame\n",
    "    freq_ = pd.concat([freq_, fila_total], ignore_index=True)\n",
    "    \n",
    "    # Formatear las columnas \"Recuento\" y \"Porcentaje\" como cadenas\n",
    "    freq_['Recuento'] = freq_['Recuento'].apply(lambda x: '{:,.0f}'.format(x))\n",
    "    freq_['Porcentaje'] = freq_['Porcentaje'].apply(lambda x: '{:.1f}'.format(x))\n",
    "    \n",
    "    if guardar_como_jpeg:\n",
    "        # Guardar la tabla formateada como una imagen JPEG en la ruta especificada\n",
    "        nombre_imagen = os.path.join(\"../output/images\", f\"tablas_{descripcion_valores}.jpeg\")\n",
    "        \n",
    "        # Configurar el tamaño y los márgenes de la figura\n",
    "        plt.figure(figsize=(6, 4))\n",
    "        plt.subplots_adjust(left=0.2, top=0.9, right=0.8, bottom=0.1)\n",
    "        \n",
    "        # Configurar el tamaño de la fuente para la tabla\n",
    "        plt.rc('font', size=9)\n",
    "        \n",
    "        # Crear una tabla en lugar de texto\n",
    "        tabla = plt.table(cellText=freq_.values, colLabels=freq_.columns, loc='center', cellLoc='center')\n",
    "        \n",
    "        # Establecer el formato de las celdas de la tabla\n",
    "        tabla.auto_set_font_size(False)\n",
    "        tabla.set_fontsize(10)\n",
    "        \n",
    "        # Ajustar el ancho de las columnas según el contenido\n",
    "        tabla.auto_set_column_width([0, 1, 2])\n",
    "        \n",
    "        # Ocultar los ejes\n",
    "        plt.axis('off')\n",
    "        \n",
    "        # Guardar la figura como imagen JPEG\n",
    "        plt.savefig(nombre_imagen, bbox_inches='tight', dpi=300)\n",
    "        plt.close()\n",
    "    \n",
    "    if guardar_como_txt:\n",
    "        # Guardar la tabla formateada en un archivo de texto en la ruta especificada\n",
    "        nombre_archivo_txt = os.path.join(\"../output/tables\", f\"{descripcion_valores}.txt\")\n",
    "        with open(nombre_archivo_txt, 'w') as archivo:\n",
    "            # Encabezado de la tabla en formato LaTeX\n",
    "            encabezado_latex = f\"\\\\begin{{table}}[H]\\n\\\\centering\\n\\\\caption{{{descripcion_valores}}}\\n\\\\label{{tab:{descripcion_valores}}}\\n\"\n",
    "            archivo.write(encabezado_latex)\n",
    "            \n",
    "            # Datos de la tabla en formato LaTeX\n",
    "            archivo.write(\"\\\\scalebox{0.65}{\\n\")\n",
    "            archivo.write(\"\\\\begin{tabular}{@{}crr@{}}\\n\")  # Modifica esta línea\n",
    "            archivo.write(\"\\\\toprule\\n\")\n",
    "            #archivo.write(\"Miembros por Hogar & Recuento & Porcentaje\\\\\\\\ \\\\midrule\\n\")  # Cambia las columnas y el encabezado aquí\n",
    "            archivo.write(f\"{descripcion_valores} & Recuento & Porcentaje\\\\\\\\ \\\\midrule\\n\")\n",
    "            \n",
    "            # Escribe los datos de la tabla\n",
    "            for _, row in freq_.iterrows():\n",
    "                archivo.write(f\"{row[descripcion_valores]} & {row['Recuento']} & {row['Porcentaje']}\\\\\\\\\\n\")\n",
    "            \n",
    "            archivo.write(\"\\\\bottomrule\\n\")\n",
    "            archivo.write(\"\\\\end{tabular}\\n\")\n",
    "            archivo.write(\"}\\n\")\n",
    "            archivo.write(\"\\\\end{table}\\n\")\n",
    "\n",
    "    return freq_"
   ]
  },
  {
   "cell_type": "code",
   "execution_count": 33,
   "id": "8b3f98c8-92f1-41b9-90e5-75ac9fc1571e",
   "metadata": {},
   "outputs": [],
   "source": [
    "def guardar_histograma_con_pesos(base_de_datos, columna,descriptivo, bins):\n",
    "    # Crear el histograma con pesos\n",
    "    ax = sns.histplot(data=base_de_datos, x=columna, bins=bins, kde=True, color='blue', edgecolor='black',  #bins 11.10.2023\n",
    "                 weights=base_filtrada['factor07'])\n",
    "\n",
    "    # Etiquetas y título\n",
    "    plt.xlabel(f'{descriptivo}')\n",
    "    plt.ylabel('Frecuencia')\n",
    "    plt.title(f'Histograma {columna}')\n",
    "    \n",
    "    # Eliminar los spines derecho y superior\n",
    "    ax.spines['right'].set_visible(False)\n",
    "    ax.spines['top'].set_visible(False)\n",
    "\n",
    "    # Generar el nombre del archivo de imagen basado en el nombre de la columna\n",
    "    nombre_archivo = f'estadistico_{descriptivo}.png'\n",
    "\n",
    "    # Guardar la imagen en la ruta especificada\n",
    "    ruta_guardado = '../output/images/' + nombre_archivo\n",
    "    plt.savefig(ruta_guardado)\n",
    "\n",
    "    # Mostrar el histograma\n",
    "    plt.show()"
   ]
  },
  {
   "cell_type": "markdown",
   "id": "33806527",
   "metadata": {
    "tags": []
   },
   "source": [
    "# VARIABLES "
   ]
  },
  {
   "cell_type": "markdown",
   "id": "3f1c6954-9ad1-4f70-a79f-3dde3aea1e12",
   "metadata": {},
   "source": [
    "## Variables Continuas"
   ]
  },
  {
   "cell_type": "markdown",
   "id": "b580abeb-344e-4fa8-acea-01a77fc46c3d",
   "metadata": {},
   "source": [
    "#### Miembros por hogar"
   ]
  },
  {
   "cell_type": "code",
   "execution_count": 34,
   "id": "37314f0b",
   "metadata": {},
   "outputs": [
    {
     "data": {
      "text/html": [
       "<div>\n",
       "<style scoped>\n",
       "    .dataframe tbody tr th:only-of-type {\n",
       "        vertical-align: middle;\n",
       "    }\n",
       "\n",
       "    .dataframe tbody tr th {\n",
       "        vertical-align: top;\n",
       "    }\n",
       "\n",
       "    .dataframe thead th {\n",
       "        text-align: right;\n",
       "    }\n",
       "</style>\n",
       "<table border=\"1\" class=\"dataframe\">\n",
       "  <thead>\n",
       "    <tr style=\"text-align: right;\">\n",
       "      <th></th>\n",
       "      <th>Miembros por Hogar</th>\n",
       "      <th>Recuento</th>\n",
       "      <th>Porcentaje</th>\n",
       "    </tr>\n",
       "  </thead>\n",
       "  <tbody>\n",
       "    <tr>\n",
       "      <th>0</th>\n",
       "      <td>1</td>\n",
       "      <td>5,062</td>\n",
       "      <td>0.1</td>\n",
       "    </tr>\n",
       "    <tr>\n",
       "      <th>1</th>\n",
       "      <td>2</td>\n",
       "      <td>215,664</td>\n",
       "      <td>3.7</td>\n",
       "    </tr>\n",
       "    <tr>\n",
       "      <th>2</th>\n",
       "      <td>3</td>\n",
       "      <td>784,393</td>\n",
       "      <td>13.4</td>\n",
       "    </tr>\n",
       "    <tr>\n",
       "      <th>3</th>\n",
       "      <td>4</td>\n",
       "      <td>1,619,905</td>\n",
       "      <td>27.7</td>\n",
       "    </tr>\n",
       "    <tr>\n",
       "      <th>4</th>\n",
       "      <td>5</td>\n",
       "      <td>1,486,157</td>\n",
       "      <td>25.4</td>\n",
       "    </tr>\n",
       "    <tr>\n",
       "      <th>5</th>\n",
       "      <td>6</td>\n",
       "      <td>791,736</td>\n",
       "      <td>13.5</td>\n",
       "    </tr>\n",
       "    <tr>\n",
       "      <th>6</th>\n",
       "      <td>7</td>\n",
       "      <td>451,514</td>\n",
       "      <td>7.7</td>\n",
       "    </tr>\n",
       "    <tr>\n",
       "      <th>7</th>\n",
       "      <td>8</td>\n",
       "      <td>204,682</td>\n",
       "      <td>3.5</td>\n",
       "    </tr>\n",
       "    <tr>\n",
       "      <th>8</th>\n",
       "      <td>9</td>\n",
       "      <td>130,152</td>\n",
       "      <td>2.2</td>\n",
       "    </tr>\n",
       "    <tr>\n",
       "      <th>9</th>\n",
       "      <td>10</td>\n",
       "      <td>74,279</td>\n",
       "      <td>1.3</td>\n",
       "    </tr>\n",
       "    <tr>\n",
       "      <th>10</th>\n",
       "      <td>11</td>\n",
       "      <td>31,294</td>\n",
       "      <td>0.5</td>\n",
       "    </tr>\n",
       "    <tr>\n",
       "      <th>11</th>\n",
       "      <td>12</td>\n",
       "      <td>22,806</td>\n",
       "      <td>0.4</td>\n",
       "    </tr>\n",
       "    <tr>\n",
       "      <th>12</th>\n",
       "      <td>13</td>\n",
       "      <td>6,630</td>\n",
       "      <td>0.1</td>\n",
       "    </tr>\n",
       "    <tr>\n",
       "      <th>13</th>\n",
       "      <td>14</td>\n",
       "      <td>8,853</td>\n",
       "      <td>0.1</td>\n",
       "    </tr>\n",
       "    <tr>\n",
       "      <th>14</th>\n",
       "      <td>15</td>\n",
       "      <td>7,730</td>\n",
       "      <td>0.1</td>\n",
       "    </tr>\n",
       "    <tr>\n",
       "      <th>15</th>\n",
       "      <td>18</td>\n",
       "      <td>750</td>\n",
       "      <td>0.0</td>\n",
       "    </tr>\n",
       "    <tr>\n",
       "      <th>16</th>\n",
       "      <td>20</td>\n",
       "      <td>5,838</td>\n",
       "      <td>0.1</td>\n",
       "    </tr>\n",
       "    <tr>\n",
       "      <th>17</th>\n",
       "      <td>Total</td>\n",
       "      <td>5,847,445</td>\n",
       "      <td>100.0</td>\n",
       "    </tr>\n",
       "  </tbody>\n",
       "</table>\n",
       "</div>"
      ],
      "text/plain": [
       "   Miembros por Hogar   Recuento Porcentaje\n",
       "0                   1      5,062        0.1\n",
       "1                   2    215,664        3.7\n",
       "2                   3    784,393       13.4\n",
       "3                   4  1,619,905       27.7\n",
       "4                   5  1,486,157       25.4\n",
       "5                   6    791,736       13.5\n",
       "6                   7    451,514        7.7\n",
       "7                   8    204,682        3.5\n",
       "8                   9    130,152        2.2\n",
       "9                  10     74,279        1.3\n",
       "10                 11     31,294        0.5\n",
       "11                 12     22,806        0.4\n",
       "12                 13      6,630        0.1\n",
       "13                 14      8,853        0.1\n",
       "14                 15      7,730        0.1\n",
       "15                 18        750        0.0\n",
       "16                 20      5,838        0.1\n",
       "17              Total  5,847,445      100.0"
      ]
     },
     "execution_count": 34,
     "metadata": {},
     "output_type": "execute_result"
    }
   ],
   "source": [
    "generar_tabla_recuento(base_filtrada, \"mieperho\", \"Miembros por Hogar\",True, True)"
   ]
  },
  {
   "cell_type": "markdown",
   "id": "023479a6-371d-46d7-96fa-2817d61a0d53",
   "metadata": {},
   "source": [
    "#### Edad"
   ]
  },
  {
   "cell_type": "code",
   "execution_count": 35,
   "id": "066129bd",
   "metadata": {},
   "outputs": [
    {
     "data": {
      "text/html": [
       "<div>\n",
       "<style scoped>\n",
       "    .dataframe tbody tr th:only-of-type {\n",
       "        vertical-align: middle;\n",
       "    }\n",
       "\n",
       "    .dataframe tbody tr th {\n",
       "        vertical-align: top;\n",
       "    }\n",
       "\n",
       "    .dataframe thead th {\n",
       "        text-align: right;\n",
       "    }\n",
       "</style>\n",
       "<table border=\"1\" class=\"dataframe\">\n",
       "  <thead>\n",
       "    <tr style=\"text-align: right;\">\n",
       "      <th></th>\n",
       "      <th>Edad</th>\n",
       "      <th>Recuento</th>\n",
       "      <th>Porcentaje</th>\n",
       "    </tr>\n",
       "  </thead>\n",
       "  <tbody>\n",
       "    <tr>\n",
       "      <th>0</th>\n",
       "      <td>6</td>\n",
       "      <td>294,139</td>\n",
       "      <td>5.0</td>\n",
       "    </tr>\n",
       "    <tr>\n",
       "      <th>1</th>\n",
       "      <td>7</td>\n",
       "      <td>500,217</td>\n",
       "      <td>8.6</td>\n",
       "    </tr>\n",
       "    <tr>\n",
       "      <th>2</th>\n",
       "      <td>8</td>\n",
       "      <td>466,684</td>\n",
       "      <td>8.0</td>\n",
       "    </tr>\n",
       "    <tr>\n",
       "      <th>3</th>\n",
       "      <td>9</td>\n",
       "      <td>535,353</td>\n",
       "      <td>9.2</td>\n",
       "    </tr>\n",
       "    <tr>\n",
       "      <th>4</th>\n",
       "      <td>10</td>\n",
       "      <td>557,466</td>\n",
       "      <td>9.5</td>\n",
       "    </tr>\n",
       "    <tr>\n",
       "      <th>5</th>\n",
       "      <td>11</td>\n",
       "      <td>546,629</td>\n",
       "      <td>9.3</td>\n",
       "    </tr>\n",
       "    <tr>\n",
       "      <th>6</th>\n",
       "      <td>12</td>\n",
       "      <td>601,432</td>\n",
       "      <td>10.3</td>\n",
       "    </tr>\n",
       "    <tr>\n",
       "      <th>7</th>\n",
       "      <td>13</td>\n",
       "      <td>551,722</td>\n",
       "      <td>9.4</td>\n",
       "    </tr>\n",
       "    <tr>\n",
       "      <th>8</th>\n",
       "      <td>14</td>\n",
       "      <td>576,676</td>\n",
       "      <td>9.9</td>\n",
       "    </tr>\n",
       "    <tr>\n",
       "      <th>9</th>\n",
       "      <td>15</td>\n",
       "      <td>578,307</td>\n",
       "      <td>9.9</td>\n",
       "    </tr>\n",
       "    <tr>\n",
       "      <th>10</th>\n",
       "      <td>16</td>\n",
       "      <td>446,348</td>\n",
       "      <td>7.6</td>\n",
       "    </tr>\n",
       "    <tr>\n",
       "      <th>11</th>\n",
       "      <td>17</td>\n",
       "      <td>154,539</td>\n",
       "      <td>2.6</td>\n",
       "    </tr>\n",
       "    <tr>\n",
       "      <th>12</th>\n",
       "      <td>18</td>\n",
       "      <td>37,933</td>\n",
       "      <td>0.7</td>\n",
       "    </tr>\n",
       "    <tr>\n",
       "      <th>13</th>\n",
       "      <td>Total</td>\n",
       "      <td>5,847,445</td>\n",
       "      <td>100.0</td>\n",
       "    </tr>\n",
       "  </tbody>\n",
       "</table>\n",
       "</div>"
      ],
      "text/plain": [
       "     Edad   Recuento Porcentaje\n",
       "0       6    294,139        5.0\n",
       "1       7    500,217        8.6\n",
       "2       8    466,684        8.0\n",
       "3       9    535,353        9.2\n",
       "4      10    557,466        9.5\n",
       "5      11    546,629        9.3\n",
       "6      12    601,432       10.3\n",
       "7      13    551,722        9.4\n",
       "8      14    576,676        9.9\n",
       "9      15    578,307        9.9\n",
       "10     16    446,348        7.6\n",
       "11     17    154,539        2.6\n",
       "12     18     37,933        0.7\n",
       "13  Total  5,847,445      100.0"
      ]
     },
     "execution_count": 35,
     "metadata": {},
     "output_type": "execute_result"
    }
   ],
   "source": [
    "generar_tabla_recuento(base_filtrada, \"Edad\", \"Edad\" , True,  True)##################"
   ]
  },
  {
   "cell_type": "markdown",
   "id": "e89db312-c0b2-477d-8878-db3e4b72c77e",
   "metadata": {},
   "source": [
    "#### Años Escolaridad"
   ]
  },
  {
   "cell_type": "code",
   "execution_count": 36,
   "id": "f2039fa2-1396-44ff-8bba-65a65eba533f",
   "metadata": {},
   "outputs": [
    {
     "data": {
      "text/html": [
       "<div>\n",
       "<style scoped>\n",
       "    .dataframe tbody tr th:only-of-type {\n",
       "        vertical-align: middle;\n",
       "    }\n",
       "\n",
       "    .dataframe tbody tr th {\n",
       "        vertical-align: top;\n",
       "    }\n",
       "\n",
       "    .dataframe thead th {\n",
       "        text-align: right;\n",
       "    }\n",
       "</style>\n",
       "<table border=\"1\" class=\"dataframe\">\n",
       "  <thead>\n",
       "    <tr style=\"text-align: right;\">\n",
       "      <th></th>\n",
       "      <th>Años Escolaridad</th>\n",
       "      <th>Recuento</th>\n",
       "      <th>Porcentaje</th>\n",
       "    </tr>\n",
       "  </thead>\n",
       "  <tbody>\n",
       "    <tr>\n",
       "      <th>0</th>\n",
       "      <td>0</td>\n",
       "      <td>456,031</td>\n",
       "      <td>7.8</td>\n",
       "    </tr>\n",
       "    <tr>\n",
       "      <th>1</th>\n",
       "      <td>1</td>\n",
       "      <td>512,647</td>\n",
       "      <td>8.8</td>\n",
       "    </tr>\n",
       "    <tr>\n",
       "      <th>2</th>\n",
       "      <td>2</td>\n",
       "      <td>520,311</td>\n",
       "      <td>8.9</td>\n",
       "    </tr>\n",
       "    <tr>\n",
       "      <th>3</th>\n",
       "      <td>3</td>\n",
       "      <td>570,489</td>\n",
       "      <td>9.8</td>\n",
       "    </tr>\n",
       "    <tr>\n",
       "      <th>4</th>\n",
       "      <td>4</td>\n",
       "      <td>563,683</td>\n",
       "      <td>9.6</td>\n",
       "    </tr>\n",
       "    <tr>\n",
       "      <th>5</th>\n",
       "      <td>5</td>\n",
       "      <td>567,139</td>\n",
       "      <td>9.7</td>\n",
       "    </tr>\n",
       "    <tr>\n",
       "      <th>6</th>\n",
       "      <td>6</td>\n",
       "      <td>547,455</td>\n",
       "      <td>9.4</td>\n",
       "    </tr>\n",
       "    <tr>\n",
       "      <th>7</th>\n",
       "      <td>7</td>\n",
       "      <td>523,029</td>\n",
       "      <td>8.9</td>\n",
       "    </tr>\n",
       "    <tr>\n",
       "      <th>8</th>\n",
       "      <td>8</td>\n",
       "      <td>576,238</td>\n",
       "      <td>9.8</td>\n",
       "    </tr>\n",
       "    <tr>\n",
       "      <th>9</th>\n",
       "      <td>9</td>\n",
       "      <td>506,997</td>\n",
       "      <td>8.7</td>\n",
       "    </tr>\n",
       "    <tr>\n",
       "      <th>10</th>\n",
       "      <td>10</td>\n",
       "      <td>502,260</td>\n",
       "      <td>8.6</td>\n",
       "    </tr>\n",
       "    <tr>\n",
       "      <th>11</th>\n",
       "      <td>11</td>\n",
       "      <td>1,166</td>\n",
       "      <td>0.0</td>\n",
       "    </tr>\n",
       "    <tr>\n",
       "      <th>12</th>\n",
       "      <td>Total</td>\n",
       "      <td>5,847,445</td>\n",
       "      <td>100.0</td>\n",
       "    </tr>\n",
       "  </tbody>\n",
       "</table>\n",
       "</div>"
      ],
      "text/plain": [
       "   Años Escolaridad   Recuento Porcentaje\n",
       "0                 0    456,031        7.8\n",
       "1                 1    512,647        8.8\n",
       "2                 2    520,311        8.9\n",
       "3                 3    570,489        9.8\n",
       "4                 4    563,683        9.6\n",
       "5                 5    567,139        9.7\n",
       "6                 6    547,455        9.4\n",
       "7                 7    523,029        8.9\n",
       "8                 8    576,238        9.8\n",
       "9                 9    506,997        8.7\n",
       "10               10    502,260        8.6\n",
       "11               11      1,166        0.0\n",
       "12            Total  5,847,445      100.0"
      ]
     },
     "execution_count": 36,
     "metadata": {},
     "output_type": "execute_result"
    }
   ],
   "source": [
    "generar_tabla_recuento(base_filtrada, \"años_escolaridad\", \"Años Escolaridad\" , True,  True)##################"
   ]
  },
  {
   "cell_type": "markdown",
   "id": "cbfb81a0-db56-43ac-afdb-eba6dd71c97e",
   "metadata": {},
   "source": [
    "## Variables Cualitativas"
   ]
  },
  {
   "cell_type": "code",
   "execution_count": 37,
   "id": "ebe6d38c-7ea2-46e7-9159-469d4fd13a48",
   "metadata": {},
   "outputs": [
    {
     "data": {
      "text/html": [
       "<div>\n",
       "<style scoped>\n",
       "    .dataframe tbody tr th:only-of-type {\n",
       "        vertical-align: middle;\n",
       "    }\n",
       "\n",
       "    .dataframe tbody tr th {\n",
       "        vertical-align: top;\n",
       "    }\n",
       "\n",
       "    .dataframe thead th {\n",
       "        text-align: right;\n",
       "    }\n",
       "</style>\n",
       "<table border=\"1\" class=\"dataframe\">\n",
       "  <thead>\n",
       "    <tr style=\"text-align: right;\">\n",
       "      <th></th>\n",
       "      <th>parentesco</th>\n",
       "      <th>Recuento</th>\n",
       "      <th>Porcentaje</th>\n",
       "    </tr>\n",
       "  </thead>\n",
       "  <tbody>\n",
       "    <tr>\n",
       "      <th>0</th>\n",
       "      <td>2</td>\n",
       "      <td>711</td>\n",
       "      <td>0.0</td>\n",
       "    </tr>\n",
       "    <tr>\n",
       "      <th>1</th>\n",
       "      <td>3</td>\n",
       "      <td>4,982,554</td>\n",
       "      <td>85.2</td>\n",
       "    </tr>\n",
       "    <tr>\n",
       "      <th>2</th>\n",
       "      <td>4</td>\n",
       "      <td>3,180</td>\n",
       "      <td>0.1</td>\n",
       "    </tr>\n",
       "    <tr>\n",
       "      <th>3</th>\n",
       "      <td>5</td>\n",
       "      <td>717,745</td>\n",
       "      <td>12.3</td>\n",
       "    </tr>\n",
       "    <tr>\n",
       "      <th>4</th>\n",
       "      <td>7</td>\n",
       "      <td>98,137</td>\n",
       "      <td>1.7</td>\n",
       "    </tr>\n",
       "    <tr>\n",
       "      <th>5</th>\n",
       "      <td>8</td>\n",
       "      <td>1,292</td>\n",
       "      <td>0.0</td>\n",
       "    </tr>\n",
       "    <tr>\n",
       "      <th>6</th>\n",
       "      <td>10</td>\n",
       "      <td>18,273</td>\n",
       "      <td>0.3</td>\n",
       "    </tr>\n",
       "    <tr>\n",
       "      <th>7</th>\n",
       "      <td>11</td>\n",
       "      <td>25,553</td>\n",
       "      <td>0.4</td>\n",
       "    </tr>\n",
       "    <tr>\n",
       "      <th>8</th>\n",
       "      <td>Total</td>\n",
       "      <td>5,847,445</td>\n",
       "      <td>100.0</td>\n",
       "    </tr>\n",
       "  </tbody>\n",
       "</table>\n",
       "</div>"
      ],
      "text/plain": [
       "  parentesco   Recuento Porcentaje\n",
       "0          2        711        0.0\n",
       "1          3  4,982,554       85.2\n",
       "2          4      3,180        0.1\n",
       "3          5    717,745       12.3\n",
       "4          7     98,137        1.7\n",
       "5          8      1,292        0.0\n",
       "6         10     18,273        0.3\n",
       "7         11     25,553        0.4\n",
       "8      Total  5,847,445      100.0"
      ]
     },
     "execution_count": 37,
     "metadata": {},
     "output_type": "execute_result"
    }
   ],
   "source": [
    "generar_tabla_recuento(base_filtrada, \"parentesco\", \"parentesco\",True, True) # 0 Panel (No Presente el año actual)\n",
    "#1 Jefe(a) 2 Esposa(o)/compañero(a) 3 Hijo(a)/Hijastro(a) 4 Yerno/Nuera\n",
    "#5 Nieto(a) 6 Padres/Suegros 7 Otros parientes 8 Trabajador Hogar 9 Pensionista 10 Otros no parientes 11 Hermano(a)"
   ]
  },
  {
   "cell_type": "markdown",
   "id": "5b71dfca-db7a-4630-a4bb-a6e164d3e752",
   "metadata": {
    "tags": []
   },
   "source": [
    "#### Nivel Educativo y Centro de estudios"
   ]
  },
  {
   "cell_type": "code",
   "execution_count": 38,
   "id": "f1c99474",
   "metadata": {},
   "outputs": [
    {
     "data": {
      "text/html": [
       "<div>\n",
       "<style scoped>\n",
       "    .dataframe tbody tr th:only-of-type {\n",
       "        vertical-align: middle;\n",
       "    }\n",
       "\n",
       "    .dataframe tbody tr th {\n",
       "        vertical-align: top;\n",
       "    }\n",
       "\n",
       "    .dataframe thead th {\n",
       "        text-align: right;\n",
       "    }\n",
       "</style>\n",
       "<table border=\"1\" class=\"dataframe\">\n",
       "  <thead>\n",
       "    <tr style=\"text-align: right;\">\n",
       "      <th></th>\n",
       "      <th>Nivel Educativo</th>\n",
       "      <th>Recuento</th>\n",
       "      <th>Porcentaje</th>\n",
       "    </tr>\n",
       "  </thead>\n",
       "  <tbody>\n",
       "    <tr>\n",
       "      <th>0</th>\n",
       "      <td>2</td>\n",
       "      <td>3,196,926</td>\n",
       "      <td>54.7</td>\n",
       "    </tr>\n",
       "    <tr>\n",
       "      <th>1</th>\n",
       "      <td>3</td>\n",
       "      <td>2,650,519</td>\n",
       "      <td>45.3</td>\n",
       "    </tr>\n",
       "    <tr>\n",
       "      <th>2</th>\n",
       "      <td>Total</td>\n",
       "      <td>5,847,445</td>\n",
       "      <td>100.0</td>\n",
       "    </tr>\n",
       "  </tbody>\n",
       "</table>\n",
       "</div>"
      ],
      "text/plain": [
       "  Nivel Educativo   Recuento Porcentaje\n",
       "0               2  3,196,926       54.7\n",
       "1               3  2,650,519       45.3\n",
       "2           Total  5,847,445      100.0"
      ]
     },
     "execution_count": 38,
     "metadata": {},
     "output_type": "execute_result"
    }
   ],
   "source": [
    "generar_tabla_recuento(base_filtrada, \"Nivel_educativo\", \"Nivel Educativo\",True, True)\n",
    "# 1 Educación Inicial  2 Primaria 3 Secundaria "
   ]
  },
  {
   "cell_type": "code",
   "execution_count": 39,
   "id": "7fd273a5",
   "metadata": {},
   "outputs": [
    {
     "data": {
      "text/html": [
       "<div>\n",
       "<style scoped>\n",
       "    .dataframe tbody tr th:only-of-type {\n",
       "        vertical-align: middle;\n",
       "    }\n",
       "\n",
       "    .dataframe tbody tr th {\n",
       "        vertical-align: top;\n",
       "    }\n",
       "\n",
       "    .dataframe thead th {\n",
       "        text-align: right;\n",
       "    }\n",
       "</style>\n",
       "<table border=\"1\" class=\"dataframe\">\n",
       "  <thead>\n",
       "    <tr style=\"text-align: right;\">\n",
       "      <th></th>\n",
       "      <th>Centro de Estudios</th>\n",
       "      <th>Recuento</th>\n",
       "      <th>Porcentaje</th>\n",
       "    </tr>\n",
       "  </thead>\n",
       "  <tbody>\n",
       "    <tr>\n",
       "      <th>0</th>\n",
       "      <td>0</td>\n",
       "      <td>927,656</td>\n",
       "      <td>15.9</td>\n",
       "    </tr>\n",
       "    <tr>\n",
       "      <th>1</th>\n",
       "      <td>1</td>\n",
       "      <td>4,919,789</td>\n",
       "      <td>84.1</td>\n",
       "    </tr>\n",
       "    <tr>\n",
       "      <th>2</th>\n",
       "      <td>Total</td>\n",
       "      <td>5,847,445</td>\n",
       "      <td>100.0</td>\n",
       "    </tr>\n",
       "  </tbody>\n",
       "</table>\n",
       "</div>"
      ],
      "text/plain": [
       "  Centro de Estudios   Recuento Porcentaje\n",
       "0                  0    927,656       15.9\n",
       "1                  1  4,919,789       84.1\n",
       "2              Total  5,847,445      100.0"
      ]
     },
     "execution_count": 39,
     "metadata": {},
     "output_type": "execute_result"
    }
   ],
   "source": [
    "generar_tabla_recuento(base_filtrada, \"Centro_estudios\", \"Centro de Estudios\",True, True)\n",
    "#descripcion_nivel_educativo = { 1 Estatal 2 No estatal}"
   ]
  },
  {
   "cell_type": "markdown",
   "id": "0792b75e-e6b7-42dd-8561-b059278a937e",
   "metadata": {},
   "source": [
    "#### Idioma y Sexo"
   ]
  },
  {
   "cell_type": "code",
   "execution_count": 40,
   "id": "829692a5",
   "metadata": {},
   "outputs": [
    {
     "data": {
      "text/html": [
       "<div>\n",
       "<style scoped>\n",
       "    .dataframe tbody tr th:only-of-type {\n",
       "        vertical-align: middle;\n",
       "    }\n",
       "\n",
       "    .dataframe tbody tr th {\n",
       "        vertical-align: top;\n",
       "    }\n",
       "\n",
       "    .dataframe thead th {\n",
       "        text-align: right;\n",
       "    }\n",
       "</style>\n",
       "<table border=\"1\" class=\"dataframe\">\n",
       "  <thead>\n",
       "    <tr style=\"text-align: right;\">\n",
       "      <th></th>\n",
       "      <th>Idioma</th>\n",
       "      <th>Recuento</th>\n",
       "      <th>Porcentaje</th>\n",
       "    </tr>\n",
       "  </thead>\n",
       "  <tbody>\n",
       "    <tr>\n",
       "      <th>0</th>\n",
       "      <td>0</td>\n",
       "      <td>499,277</td>\n",
       "      <td>8.5</td>\n",
       "    </tr>\n",
       "    <tr>\n",
       "      <th>1</th>\n",
       "      <td>1</td>\n",
       "      <td>5,348,168</td>\n",
       "      <td>91.5</td>\n",
       "    </tr>\n",
       "    <tr>\n",
       "      <th>2</th>\n",
       "      <td>Total</td>\n",
       "      <td>5,847,445</td>\n",
       "      <td>100.0</td>\n",
       "    </tr>\n",
       "  </tbody>\n",
       "</table>\n",
       "</div>"
      ],
      "text/plain": [
       "  Idioma   Recuento Porcentaje\n",
       "0      0    499,277        8.5\n",
       "1      1  5,348,168       91.5\n",
       "2  Total  5,847,445      100.0"
      ]
     },
     "execution_count": 40,
     "metadata": {},
     "output_type": "execute_result"
    }
   ],
   "source": [
    "generar_tabla_recuento(base_filtrada, \"Idioma\", \"Idioma\",True, True)   #{1: \"Castellano\", 0: \"Otros\"}"
   ]
  },
  {
   "cell_type": "code",
   "execution_count": 41,
   "id": "18c84e20",
   "metadata": {},
   "outputs": [
    {
     "data": {
      "text/html": [
       "<div>\n",
       "<style scoped>\n",
       "    .dataframe tbody tr th:only-of-type {\n",
       "        vertical-align: middle;\n",
       "    }\n",
       "\n",
       "    .dataframe tbody tr th {\n",
       "        vertical-align: top;\n",
       "    }\n",
       "\n",
       "    .dataframe thead th {\n",
       "        text-align: right;\n",
       "    }\n",
       "</style>\n",
       "<table border=\"1\" class=\"dataframe\">\n",
       "  <thead>\n",
       "    <tr style=\"text-align: right;\">\n",
       "      <th></th>\n",
       "      <th>Sexo</th>\n",
       "      <th>Recuento</th>\n",
       "      <th>Porcentaje</th>\n",
       "    </tr>\n",
       "  </thead>\n",
       "  <tbody>\n",
       "    <tr>\n",
       "      <th>0</th>\n",
       "      <td>0</td>\n",
       "      <td>2,970,692</td>\n",
       "      <td>50.8</td>\n",
       "    </tr>\n",
       "    <tr>\n",
       "      <th>1</th>\n",
       "      <td>1</td>\n",
       "      <td>2,876,753</td>\n",
       "      <td>49.2</td>\n",
       "    </tr>\n",
       "    <tr>\n",
       "      <th>2</th>\n",
       "      <td>Total</td>\n",
       "      <td>5,847,445</td>\n",
       "      <td>100.0</td>\n",
       "    </tr>\n",
       "  </tbody>\n",
       "</table>\n",
       "</div>"
      ],
      "text/plain": [
       "    Sexo   Recuento Porcentaje\n",
       "0      0  2,970,692       50.8\n",
       "1      1  2,876,753       49.2\n",
       "2  Total  5,847,445      100.0"
      ]
     },
     "execution_count": 41,
     "metadata": {},
     "output_type": "execute_result"
    }
   ],
   "source": [
    "generar_tabla_recuento(base_filtrada, \"Sexo\", \"Sexo\", True, True)  # 1 Hombre 2 Mujer ###########"
   ]
  },
  {
   "cell_type": "markdown",
   "id": "8486058c-0926-473c-994d-11478355e473",
   "metadata": {
    "tags": []
   },
   "source": [
    "#### Area y Estrato social"
   ]
  },
  {
   "cell_type": "code",
   "execution_count": 42,
   "id": "62fb5ab4",
   "metadata": {},
   "outputs": [
    {
     "data": {
      "text/html": [
       "<div>\n",
       "<style scoped>\n",
       "    .dataframe tbody tr th:only-of-type {\n",
       "        vertical-align: middle;\n",
       "    }\n",
       "\n",
       "    .dataframe tbody tr th {\n",
       "        vertical-align: top;\n",
       "    }\n",
       "\n",
       "    .dataframe thead th {\n",
       "        text-align: right;\n",
       "    }\n",
       "</style>\n",
       "<table border=\"1\" class=\"dataframe\">\n",
       "  <thead>\n",
       "    <tr style=\"text-align: right;\">\n",
       "      <th></th>\n",
       "      <th>Area</th>\n",
       "      <th>Recuento</th>\n",
       "      <th>Porcentaje</th>\n",
       "    </tr>\n",
       "  </thead>\n",
       "  <tbody>\n",
       "    <tr>\n",
       "      <th>0</th>\n",
       "      <td>0</td>\n",
       "      <td>1,494,759</td>\n",
       "      <td>25.6</td>\n",
       "    </tr>\n",
       "    <tr>\n",
       "      <th>1</th>\n",
       "      <td>1</td>\n",
       "      <td>4,352,686</td>\n",
       "      <td>74.4</td>\n",
       "    </tr>\n",
       "    <tr>\n",
       "      <th>2</th>\n",
       "      <td>Total</td>\n",
       "      <td>5,847,445</td>\n",
       "      <td>100.0</td>\n",
       "    </tr>\n",
       "  </tbody>\n",
       "</table>\n",
       "</div>"
      ],
      "text/plain": [
       "    Area   Recuento Porcentaje\n",
       "0      0  1,494,759       25.6\n",
       "1      1  4,352,686       74.4\n",
       "2  Total  5,847,445      100.0"
      ]
     },
     "execution_count": 42,
     "metadata": {},
     "output_type": "execute_result"
    }
   ],
   "source": [
    "generar_tabla_recuento(base_filtrada, \"Area\", \"Area\",True, True) #{1: \"Urbano\", 0: \"Rural\"}"
   ]
  },
  {
   "cell_type": "code",
   "execution_count": 43,
   "id": "739456e8",
   "metadata": {},
   "outputs": [
    {
     "data": {
      "text/html": [
       "<div>\n",
       "<style scoped>\n",
       "    .dataframe tbody tr th:only-of-type {\n",
       "        vertical-align: middle;\n",
       "    }\n",
       "\n",
       "    .dataframe tbody tr th {\n",
       "        vertical-align: top;\n",
       "    }\n",
       "\n",
       "    .dataframe thead th {\n",
       "        text-align: right;\n",
       "    }\n",
       "</style>\n",
       "<table border=\"1\" class=\"dataframe\">\n",
       "  <thead>\n",
       "    <tr style=\"text-align: right;\">\n",
       "      <th></th>\n",
       "      <th>Estrato Social</th>\n",
       "      <th>Recuento</th>\n",
       "      <th>Porcentaje</th>\n",
       "    </tr>\n",
       "  </thead>\n",
       "  <tbody>\n",
       "    <tr>\n",
       "      <th>0</th>\n",
       "      <td>1</td>\n",
       "      <td>38,780</td>\n",
       "      <td>0.7</td>\n",
       "    </tr>\n",
       "    <tr>\n",
       "      <th>1</th>\n",
       "      <td>2</td>\n",
       "      <td>113,992</td>\n",
       "      <td>1.9</td>\n",
       "    </tr>\n",
       "    <tr>\n",
       "      <th>2</th>\n",
       "      <td>3</td>\n",
       "      <td>398,380</td>\n",
       "      <td>6.8</td>\n",
       "    </tr>\n",
       "    <tr>\n",
       "      <th>3</th>\n",
       "      <td>4</td>\n",
       "      <td>1,514,113</td>\n",
       "      <td>25.9</td>\n",
       "    </tr>\n",
       "    <tr>\n",
       "      <th>4</th>\n",
       "      <td>5</td>\n",
       "      <td>2,287,421</td>\n",
       "      <td>39.1</td>\n",
       "    </tr>\n",
       "    <tr>\n",
       "      <th>5</th>\n",
       "      <td>6</td>\n",
       "      <td>1,494,759</td>\n",
       "      <td>25.6</td>\n",
       "    </tr>\n",
       "    <tr>\n",
       "      <th>6</th>\n",
       "      <td>Total</td>\n",
       "      <td>5,847,445</td>\n",
       "      <td>100.0</td>\n",
       "    </tr>\n",
       "  </tbody>\n",
       "</table>\n",
       "</div>"
      ],
      "text/plain": [
       "  Estrato Social   Recuento Porcentaje\n",
       "0              1     38,780        0.7\n",
       "1              2    113,992        1.9\n",
       "2              3    398,380        6.8\n",
       "3              4  1,514,113       25.9\n",
       "4              5  2,287,421       39.1\n",
       "5              6  1,494,759       25.6\n",
       "6          Total  5,847,445      100.0"
      ]
     },
     "execution_count": 43,
     "metadata": {},
     "output_type": "execute_result"
    }
   ],
   "source": [
    "generar_tabla_recuento(base_filtrada, \"estrsocial\", \"Estrato Social\",True, True)\n",
    "# 1 “A” 2 “B” 3 “C” 4 “D” 5 “E” 6 “RURAL”"
   ]
  },
  {
   "cell_type": "markdown",
   "id": "edfe1e61-038d-4ee4-8213-149a8e7a09b6",
   "metadata": {},
   "source": [
    "#### Electricidad y Region"
   ]
  },
  {
   "cell_type": "code",
   "execution_count": 44,
   "id": "aae90ee2",
   "metadata": {},
   "outputs": [
    {
     "data": {
      "text/html": [
       "<div>\n",
       "<style scoped>\n",
       "    .dataframe tbody tr th:only-of-type {\n",
       "        vertical-align: middle;\n",
       "    }\n",
       "\n",
       "    .dataframe tbody tr th {\n",
       "        vertical-align: top;\n",
       "    }\n",
       "\n",
       "    .dataframe thead th {\n",
       "        text-align: right;\n",
       "    }\n",
       "</style>\n",
       "<table border=\"1\" class=\"dataframe\">\n",
       "  <thead>\n",
       "    <tr style=\"text-align: right;\">\n",
       "      <th></th>\n",
       "      <th>Electricidad</th>\n",
       "      <th>Recuento</th>\n",
       "      <th>Porcentaje</th>\n",
       "    </tr>\n",
       "  </thead>\n",
       "  <tbody>\n",
       "    <tr>\n",
       "      <th>0</th>\n",
       "      <td>0</td>\n",
       "      <td>283,585</td>\n",
       "      <td>4.8</td>\n",
       "    </tr>\n",
       "    <tr>\n",
       "      <th>1</th>\n",
       "      <td>1</td>\n",
       "      <td>5,563,860</td>\n",
       "      <td>95.2</td>\n",
       "    </tr>\n",
       "    <tr>\n",
       "      <th>2</th>\n",
       "      <td>Total</td>\n",
       "      <td>5,847,445</td>\n",
       "      <td>100.0</td>\n",
       "    </tr>\n",
       "  </tbody>\n",
       "</table>\n",
       "</div>"
      ],
      "text/plain": [
       "  Electricidad   Recuento Porcentaje\n",
       "0            0    283,585        4.8\n",
       "1            1  5,563,860       95.2\n",
       "2        Total  5,847,445      100.0"
      ]
     },
     "execution_count": 44,
     "metadata": {},
     "output_type": "execute_result"
    }
   ],
   "source": [
    "generar_tabla_recuento(base_filtrada, \"Electricidad\", \"Electricidad\", True, True) ##################"
   ]
  },
  {
   "cell_type": "code",
   "execution_count": 45,
   "id": "e47501de-3fb8-4cb3-86b7-efaa627d1cdd",
   "metadata": {},
   "outputs": [],
   "source": [
    "#dict_region = { 1:1, 2:1, 3: 1, 4:2, 5:2, 6:2, 7:3, 8: 4}\n",
    "#merged_data[\"region\"] = merged_data[\"dominio\"].map(dict_region)"
   ]
  },
  {
   "cell_type": "markdown",
   "id": "17a05fc1-fa64-4e86-bde8-b8f957e7390e",
   "metadata": {},
   "source": [
    "#### Departamento"
   ]
  },
  {
   "cell_type": "code",
   "execution_count": 46,
   "id": "1a8ed003-1b21-4a0c-98d6-8538bfcf49f4",
   "metadata": {},
   "outputs": [
    {
     "data": {
      "text/html": [
       "<div>\n",
       "<style scoped>\n",
       "    .dataframe tbody tr th:only-of-type {\n",
       "        vertical-align: middle;\n",
       "    }\n",
       "\n",
       "    .dataframe tbody tr th {\n",
       "        vertical-align: top;\n",
       "    }\n",
       "\n",
       "    .dataframe thead th {\n",
       "        text-align: right;\n",
       "    }\n",
       "</style>\n",
       "<table border=\"1\" class=\"dataframe\">\n",
       "  <thead>\n",
       "    <tr style=\"text-align: right;\">\n",
       "      <th></th>\n",
       "      <th>Region</th>\n",
       "      <th>Recuento</th>\n",
       "      <th>Porcentaje</th>\n",
       "    </tr>\n",
       "  </thead>\n",
       "  <tbody>\n",
       "    <tr>\n",
       "      <th>0</th>\n",
       "      <td>1</td>\n",
       "      <td>3,008,074</td>\n",
       "      <td>51.4</td>\n",
       "    </tr>\n",
       "    <tr>\n",
       "      <th>1</th>\n",
       "      <td>2</td>\n",
       "      <td>1,928,000</td>\n",
       "      <td>33.0</td>\n",
       "    </tr>\n",
       "    <tr>\n",
       "      <th>2</th>\n",
       "      <td>3</td>\n",
       "      <td>911,371</td>\n",
       "      <td>15.6</td>\n",
       "    </tr>\n",
       "    <tr>\n",
       "      <th>3</th>\n",
       "      <td>Total</td>\n",
       "      <td>5,847,445</td>\n",
       "      <td>100.0</td>\n",
       "    </tr>\n",
       "  </tbody>\n",
       "</table>\n",
       "</div>"
      ],
      "text/plain": [
       "  Region   Recuento Porcentaje\n",
       "0      1  3,008,074       51.4\n",
       "1      2  1,928,000       33.0\n",
       "2      3    911,371       15.6\n",
       "3  Total  5,847,445      100.0"
      ]
     },
     "execution_count": 46,
     "metadata": {},
     "output_type": "execute_result"
    }
   ],
   "source": [
    "generar_tabla_recuento(base_filtrada, \"Region\", \"Region\", True, True) ##################"
   ]
  },
  {
   "cell_type": "code",
   "execution_count": 47,
   "id": "068aaf64-c636-42aa-a14e-e765b19d02d9",
   "metadata": {},
   "outputs": [
    {
     "data": {
      "text/html": [
       "<div>\n",
       "<style scoped>\n",
       "    .dataframe tbody tr th:only-of-type {\n",
       "        vertical-align: middle;\n",
       "    }\n",
       "\n",
       "    .dataframe tbody tr th {\n",
       "        vertical-align: top;\n",
       "    }\n",
       "\n",
       "    .dataframe thead th {\n",
       "        text-align: right;\n",
       "    }\n",
       "</style>\n",
       "<table border=\"1\" class=\"dataframe\">\n",
       "  <thead>\n",
       "    <tr style=\"text-align: right;\">\n",
       "      <th></th>\n",
       "      <th>Departamento</th>\n",
       "      <th>Recuento</th>\n",
       "      <th>Porcentaje</th>\n",
       "    </tr>\n",
       "  </thead>\n",
       "  <tbody>\n",
       "    <tr>\n",
       "      <th>0</th>\n",
       "      <td>1</td>\n",
       "      <td>87,826</td>\n",
       "      <td>1.5</td>\n",
       "    </tr>\n",
       "    <tr>\n",
       "      <th>1</th>\n",
       "      <td>2</td>\n",
       "      <td>230,504</td>\n",
       "      <td>3.9</td>\n",
       "    </tr>\n",
       "    <tr>\n",
       "      <th>2</th>\n",
       "      <td>3</td>\n",
       "      <td>83,955</td>\n",
       "      <td>1.4</td>\n",
       "    </tr>\n",
       "    <tr>\n",
       "      <th>3</th>\n",
       "      <td>4</td>\n",
       "      <td>213,405</td>\n",
       "      <td>3.6</td>\n",
       "    </tr>\n",
       "    <tr>\n",
       "      <th>4</th>\n",
       "      <td>5</td>\n",
       "      <td>149,148</td>\n",
       "      <td>2.5</td>\n",
       "    </tr>\n",
       "    <tr>\n",
       "      <th>5</th>\n",
       "      <td>6</td>\n",
       "      <td>321,799</td>\n",
       "      <td>5.5</td>\n",
       "    </tr>\n",
       "    <tr>\n",
       "      <th>6</th>\n",
       "      <td>7</td>\n",
       "      <td>176,973</td>\n",
       "      <td>3.0</td>\n",
       "    </tr>\n",
       "    <tr>\n",
       "      <th>7</th>\n",
       "      <td>8</td>\n",
       "      <td>255,571</td>\n",
       "      <td>4.4</td>\n",
       "    </tr>\n",
       "    <tr>\n",
       "      <th>8</th>\n",
       "      <td>9</td>\n",
       "      <td>107,336</td>\n",
       "      <td>1.8</td>\n",
       "    </tr>\n",
       "    <tr>\n",
       "      <th>9</th>\n",
       "      <td>10</td>\n",
       "      <td>188,203</td>\n",
       "      <td>3.2</td>\n",
       "    </tr>\n",
       "    <tr>\n",
       "      <th>10</th>\n",
       "      <td>11</td>\n",
       "      <td>144,961</td>\n",
       "      <td>2.5</td>\n",
       "    </tr>\n",
       "    <tr>\n",
       "      <th>11</th>\n",
       "      <td>12</td>\n",
       "      <td>254,136</td>\n",
       "      <td>4.3</td>\n",
       "    </tr>\n",
       "    <tr>\n",
       "      <th>12</th>\n",
       "      <td>13</td>\n",
       "      <td>356,580</td>\n",
       "      <td>6.1</td>\n",
       "    </tr>\n",
       "    <tr>\n",
       "      <th>13</th>\n",
       "      <td>14</td>\n",
       "      <td>224,876</td>\n",
       "      <td>3.9</td>\n",
       "    </tr>\n",
       "    <tr>\n",
       "      <th>14</th>\n",
       "      <td>15</td>\n",
       "      <td>1,598,461</td>\n",
       "      <td>27.3</td>\n",
       "    </tr>\n",
       "    <tr>\n",
       "      <th>15</th>\n",
       "      <td>16</td>\n",
       "      <td>257,859</td>\n",
       "      <td>4.4</td>\n",
       "    </tr>\n",
       "    <tr>\n",
       "      <th>16</th>\n",
       "      <td>17</td>\n",
       "      <td>27,253</td>\n",
       "      <td>0.5</td>\n",
       "    </tr>\n",
       "    <tr>\n",
       "      <th>17</th>\n",
       "      <td>18</td>\n",
       "      <td>29,541</td>\n",
       "      <td>0.5</td>\n",
       "    </tr>\n",
       "    <tr>\n",
       "      <th>18</th>\n",
       "      <td>19</td>\n",
       "      <td>58,302</td>\n",
       "      <td>1.0</td>\n",
       "    </tr>\n",
       "    <tr>\n",
       "      <th>19</th>\n",
       "      <td>20</td>\n",
       "      <td>401,630</td>\n",
       "      <td>6.9</td>\n",
       "    </tr>\n",
       "    <tr>\n",
       "      <th>20</th>\n",
       "      <td>21</td>\n",
       "      <td>268,746</td>\n",
       "      <td>4.6</td>\n",
       "    </tr>\n",
       "    <tr>\n",
       "      <th>21</th>\n",
       "      <td>22</td>\n",
       "      <td>186,144</td>\n",
       "      <td>3.2</td>\n",
       "    </tr>\n",
       "    <tr>\n",
       "      <th>22</th>\n",
       "      <td>23</td>\n",
       "      <td>53,744</td>\n",
       "      <td>0.9</td>\n",
       "    </tr>\n",
       "    <tr>\n",
       "      <th>23</th>\n",
       "      <td>24</td>\n",
       "      <td>52,981</td>\n",
       "      <td>0.9</td>\n",
       "    </tr>\n",
       "    <tr>\n",
       "      <th>24</th>\n",
       "      <td>25</td>\n",
       "      <td>117,511</td>\n",
       "      <td>2.0</td>\n",
       "    </tr>\n",
       "    <tr>\n",
       "      <th>25</th>\n",
       "      <td>Total</td>\n",
       "      <td>5,847,445</td>\n",
       "      <td>100.0</td>\n",
       "    </tr>\n",
       "  </tbody>\n",
       "</table>\n",
       "</div>"
      ],
      "text/plain": [
       "   Departamento   Recuento Porcentaje\n",
       "0             1     87,826        1.5\n",
       "1             2    230,504        3.9\n",
       "2             3     83,955        1.4\n",
       "3             4    213,405        3.6\n",
       "4             5    149,148        2.5\n",
       "5             6    321,799        5.5\n",
       "6             7    176,973        3.0\n",
       "7             8    255,571        4.4\n",
       "8             9    107,336        1.8\n",
       "9            10    188,203        3.2\n",
       "10           11    144,961        2.5\n",
       "11           12    254,136        4.3\n",
       "12           13    356,580        6.1\n",
       "13           14    224,876        3.9\n",
       "14           15  1,598,461       27.3\n",
       "15           16    257,859        4.4\n",
       "16           17     27,253        0.5\n",
       "17           18     29,541        0.5\n",
       "18           19     58,302        1.0\n",
       "19           20    401,630        6.9\n",
       "20           21    268,746        4.6\n",
       "21           22    186,144        3.2\n",
       "22           23     53,744        0.9\n",
       "23           24     52,981        0.9\n",
       "24           25    117,511        2.0\n",
       "25        Total  5,847,445      100.0"
      ]
     },
     "execution_count": 47,
     "metadata": {},
     "output_type": "execute_result"
    }
   ],
   "source": [
    "generar_tabla_recuento(base_filtrada, \"DEPARTAMENTO\", \"Departamento\", True, True) ##################"
   ]
  },
  {
   "cell_type": "markdown",
   "id": "4a9613a7-b140-4b32-b520-247fddb7a175",
   "metadata": {},
   "source": [
    "## DIMENSION DE ACCESO"
   ]
  },
  {
   "cell_type": "code",
   "execution_count": 48,
   "id": "6f3ee94d-7b4a-4149-92a0-5e5304d59cd4",
   "metadata": {},
   "outputs": [
    {
     "data": {
      "text/html": [
       "<div>\n",
       "<style scoped>\n",
       "    .dataframe tbody tr th:only-of-type {\n",
       "        vertical-align: middle;\n",
       "    }\n",
       "\n",
       "    .dataframe tbody tr th {\n",
       "        vertical-align: top;\n",
       "    }\n",
       "\n",
       "    .dataframe thead th {\n",
       "        text-align: right;\n",
       "    }\n",
       "</style>\n",
       "<table border=\"1\" class=\"dataframe\">\n",
       "  <thead>\n",
       "    <tr style=\"text-align: right;\">\n",
       "      <th></th>\n",
       "      <th>Uso teléfono celular propio</th>\n",
       "      <th>Recuento</th>\n",
       "      <th>Porcentaje</th>\n",
       "    </tr>\n",
       "  </thead>\n",
       "  <tbody>\n",
       "    <tr>\n",
       "      <th>0</th>\n",
       "      <td>0</td>\n",
       "      <td>4,472,804</td>\n",
       "      <td>76.5</td>\n",
       "    </tr>\n",
       "    <tr>\n",
       "      <th>1</th>\n",
       "      <td>1</td>\n",
       "      <td>1,374,641</td>\n",
       "      <td>23.5</td>\n",
       "    </tr>\n",
       "    <tr>\n",
       "      <th>2</th>\n",
       "      <td>Total</td>\n",
       "      <td>5,847,445</td>\n",
       "      <td>100.0</td>\n",
       "    </tr>\n",
       "  </tbody>\n",
       "</table>\n",
       "</div>"
      ],
      "text/plain": [
       "  Uso teléfono celular propio   Recuento Porcentaje\n",
       "0                           0  4,472,804       76.5\n",
       "1                           1  1,374,641       23.5\n",
       "2                       Total  5,847,445      100.0"
      ]
     },
     "execution_count": 48,
     "metadata": {},
     "output_type": "execute_result"
    }
   ],
   "source": [
    "generar_tabla_recuento(base_filtrada, \"cel_uso\" , \"Uso teléfono celular propio\", True, True)"
   ]
  },
  {
   "cell_type": "code",
   "execution_count": 49,
   "id": "c1088008-2936-4c4b-9279-ea74ac6e631c",
   "metadata": {},
   "outputs": [
    {
     "data": {
      "text/html": [
       "<div>\n",
       "<style scoped>\n",
       "    .dataframe tbody tr th:only-of-type {\n",
       "        vertical-align: middle;\n",
       "    }\n",
       "\n",
       "    .dataframe tbody tr th {\n",
       "        vertical-align: top;\n",
       "    }\n",
       "\n",
       "    .dataframe thead th {\n",
       "        text-align: right;\n",
       "    }\n",
       "</style>\n",
       "<table border=\"1\" class=\"dataframe\">\n",
       "  <thead>\n",
       "    <tr style=\"text-align: right;\">\n",
       "      <th></th>\n",
       "      <th>Teléfono Celular - Hogar</th>\n",
       "      <th>Recuento</th>\n",
       "      <th>Porcentaje</th>\n",
       "    </tr>\n",
       "  </thead>\n",
       "  <tbody>\n",
       "    <tr>\n",
       "      <th>0</th>\n",
       "      <td>0</td>\n",
       "      <td>110,500</td>\n",
       "      <td>1.9</td>\n",
       "    </tr>\n",
       "    <tr>\n",
       "      <th>1</th>\n",
       "      <td>1</td>\n",
       "      <td>5,736,945</td>\n",
       "      <td>98.1</td>\n",
       "    </tr>\n",
       "    <tr>\n",
       "      <th>2</th>\n",
       "      <td>Total</td>\n",
       "      <td>5,847,445</td>\n",
       "      <td>100.0</td>\n",
       "    </tr>\n",
       "  </tbody>\n",
       "</table>\n",
       "</div>"
      ],
      "text/plain": [
       "  Teléfono Celular - Hogar   Recuento Porcentaje\n",
       "0                        0    110,500        1.9\n",
       "1                        1  5,736,945       98.1\n",
       "2                    Total  5,847,445      100.0"
      ]
     },
     "execution_count": 49,
     "metadata": {},
     "output_type": "execute_result"
    }
   ],
   "source": [
    "generar_tabla_recuento(base_filtrada, \"cel_hog\", \"Teléfono Celular - Hogar\",True, True) #u hogar tiene : ¿ Conexión a Internet? 1 Conexión a Internet"
   ]
  },
  {
   "cell_type": "code",
   "execution_count": 50,
   "id": "86dbae2c-1812-495f-bb1e-9ce79da6fedb",
   "metadata": {},
   "outputs": [
    {
     "data": {
      "text/html": [
       "<div>\n",
       "<style scoped>\n",
       "    .dataframe tbody tr th:only-of-type {\n",
       "        vertical-align: middle;\n",
       "    }\n",
       "\n",
       "    .dataframe tbody tr th {\n",
       "        vertical-align: top;\n",
       "    }\n",
       "\n",
       "    .dataframe thead th {\n",
       "        text-align: right;\n",
       "    }\n",
       "</style>\n",
       "<table border=\"1\" class=\"dataframe\">\n",
       "  <thead>\n",
       "    <tr style=\"text-align: right;\">\n",
       "      <th></th>\n",
       "      <th>Conexión a TV cable o satelital - Hogar</th>\n",
       "      <th>Recuento</th>\n",
       "      <th>Porcentaje</th>\n",
       "    </tr>\n",
       "  </thead>\n",
       "  <tbody>\n",
       "    <tr>\n",
       "      <th>0</th>\n",
       "      <td>0</td>\n",
       "      <td>4,123,944</td>\n",
       "      <td>70.5</td>\n",
       "    </tr>\n",
       "    <tr>\n",
       "      <th>1</th>\n",
       "      <td>1</td>\n",
       "      <td>1,723,501</td>\n",
       "      <td>29.5</td>\n",
       "    </tr>\n",
       "    <tr>\n",
       "      <th>2</th>\n",
       "      <td>Total</td>\n",
       "      <td>5,847,445</td>\n",
       "      <td>100.0</td>\n",
       "    </tr>\n",
       "  </tbody>\n",
       "</table>\n",
       "</div>"
      ],
      "text/plain": [
       "  Conexión a TV cable o satelital - Hogar   Recuento Porcentaje\n",
       "0                                       0  4,123,944       70.5\n",
       "1                                       1  1,723,501       29.5\n",
       "2                                   Total  5,847,445      100.0"
      ]
     },
     "execution_count": 50,
     "metadata": {},
     "output_type": "execute_result"
    }
   ],
   "source": [
    "generar_tabla_recuento(base_filtrada, \"conexion_cable_hog\", \"Conexión a TV cable o satelital - Hogar\",True, True) #u hogar tiene : ¿ Conexión a Internet? 1 Conexión a Internet"
   ]
  },
  {
   "cell_type": "code",
   "execution_count": 51,
   "id": "5aa8c64e-910e-4722-a103-880737deda45",
   "metadata": {},
   "outputs": [
    {
     "data": {
      "text/html": [
       "<div>\n",
       "<style scoped>\n",
       "    .dataframe tbody tr th:only-of-type {\n",
       "        vertical-align: middle;\n",
       "    }\n",
       "\n",
       "    .dataframe tbody tr th {\n",
       "        vertical-align: top;\n",
       "    }\n",
       "\n",
       "    .dataframe thead th {\n",
       "        text-align: right;\n",
       "    }\n",
       "</style>\n",
       "<table border=\"1\" class=\"dataframe\">\n",
       "  <thead>\n",
       "    <tr style=\"text-align: right;\">\n",
       "      <th></th>\n",
       "      <th>Conexión a Internet - Hogar</th>\n",
       "      <th>Recuento</th>\n",
       "      <th>Porcentaje</th>\n",
       "    </tr>\n",
       "  </thead>\n",
       "  <tbody>\n",
       "    <tr>\n",
       "      <th>0</th>\n",
       "      <td>0</td>\n",
       "      <td>3,601,956</td>\n",
       "      <td>61.6</td>\n",
       "    </tr>\n",
       "    <tr>\n",
       "      <th>1</th>\n",
       "      <td>1</td>\n",
       "      <td>2,245,489</td>\n",
       "      <td>38.4</td>\n",
       "    </tr>\n",
       "    <tr>\n",
       "      <th>2</th>\n",
       "      <td>Total</td>\n",
       "      <td>5,847,445</td>\n",
       "      <td>100.0</td>\n",
       "    </tr>\n",
       "  </tbody>\n",
       "</table>\n",
       "</div>"
      ],
      "text/plain": [
       "  Conexión a Internet - Hogar   Recuento Porcentaje\n",
       "0                           0  3,601,956       61.6\n",
       "1                           1  2,245,489       38.4\n",
       "2                       Total  5,847,445      100.0"
      ]
     },
     "execution_count": 51,
     "metadata": {},
     "output_type": "execute_result"
    }
   ],
   "source": [
    "generar_tabla_recuento(base_filtrada, \"i_conexion_hog\", \"Conexión a Internet - Hogar\",True, True) #u hogar tiene : ¿ Conexión a Internet? 1 Conexión a Internet"
   ]
  },
  {
   "cell_type": "code",
   "execution_count": 52,
   "id": "359ea16e-4471-444b-ba8c-7051c674b58f",
   "metadata": {},
   "outputs": [
    {
     "data": {
      "text/html": [
       "<div>\n",
       "<style scoped>\n",
       "    .dataframe tbody tr th:only-of-type {\n",
       "        vertical-align: middle;\n",
       "    }\n",
       "\n",
       "    .dataframe tbody tr th {\n",
       "        vertical-align: top;\n",
       "    }\n",
       "\n",
       "    .dataframe thead th {\n",
       "        text-align: right;\n",
       "    }\n",
       "</style>\n",
       "<table border=\"1\" class=\"dataframe\">\n",
       "  <thead>\n",
       "    <tr style=\"text-align: right;\">\n",
       "      <th></th>\n",
       "      <th>Uso_tablet_computadora_laptop</th>\n",
       "      <th>Recuento</th>\n",
       "      <th>Porcentaje</th>\n",
       "    </tr>\n",
       "  </thead>\n",
       "  <tbody>\n",
       "    <tr>\n",
       "      <th>0</th>\n",
       "      <td>0.0</td>\n",
       "      <td>488,055</td>\n",
       "      <td>60.3</td>\n",
       "    </tr>\n",
       "    <tr>\n",
       "      <th>1</th>\n",
       "      <td>1.0</td>\n",
       "      <td>321,655</td>\n",
       "      <td>39.7</td>\n",
       "    </tr>\n",
       "    <tr>\n",
       "      <th>2</th>\n",
       "      <td>Total</td>\n",
       "      <td>809,710</td>\n",
       "      <td>100.0</td>\n",
       "    </tr>\n",
       "  </tbody>\n",
       "</table>\n",
       "</div>"
      ],
      "text/plain": [
       "  Uso_tablet_computadora_laptop Recuento Porcentaje\n",
       "0                           0.0  488,055       60.3\n",
       "1                           1.0  321,655       39.7\n",
       "2                         Total  809,710      100.0"
      ]
     },
     "execution_count": 52,
     "metadata": {},
     "output_type": "execute_result"
    }
   ],
   "source": [
    "generar_tabla_recuento(base_filtrada, \"uso_cp_lp\", \"Uso_tablet_computadora_laptop\",True, True) #u hogar tiene : ¿ Conexión a Internet? 1 Conexión a Internet"
   ]
  },
  {
   "cell_type": "markdown",
   "id": "dc063270-f5b0-416a-9b50-67c1684a4f70",
   "metadata": {
    "tags": []
   },
   "source": [
    "## USO SERVICIO DE INTERNET"
   ]
  },
  {
   "cell_type": "markdown",
   "id": "846f4dff-34fc-454f-92f1-9c10f1780df8",
   "metadata": {},
   "source": [
    "### Uso de Internet"
   ]
  },
  {
   "cell_type": "code",
   "execution_count": 53,
   "id": "3f36de65",
   "metadata": {},
   "outputs": [
    {
     "data": {
      "text/html": [
       "<div>\n",
       "<style scoped>\n",
       "    .dataframe tbody tr th:only-of-type {\n",
       "        vertical-align: middle;\n",
       "    }\n",
       "\n",
       "    .dataframe tbody tr th {\n",
       "        vertical-align: top;\n",
       "    }\n",
       "\n",
       "    .dataframe thead th {\n",
       "        text-align: right;\n",
       "    }\n",
       "</style>\n",
       "<table border=\"1\" class=\"dataframe\">\n",
       "  <thead>\n",
       "    <tr style=\"text-align: right;\">\n",
       "      <th></th>\n",
       "      <th>Uso Internet</th>\n",
       "      <th>Recuento</th>\n",
       "      <th>Porcentaje</th>\n",
       "    </tr>\n",
       "  </thead>\n",
       "  <tbody>\n",
       "    <tr>\n",
       "      <th>0</th>\n",
       "      <td>0</td>\n",
       "      <td>1,662,747</td>\n",
       "      <td>28.4</td>\n",
       "    </tr>\n",
       "    <tr>\n",
       "      <th>1</th>\n",
       "      <td>1</td>\n",
       "      <td>4,184,698</td>\n",
       "      <td>71.6</td>\n",
       "    </tr>\n",
       "    <tr>\n",
       "      <th>2</th>\n",
       "      <td>Total</td>\n",
       "      <td>5,847,445</td>\n",
       "      <td>100.0</td>\n",
       "    </tr>\n",
       "  </tbody>\n",
       "</table>\n",
       "</div>"
      ],
      "text/plain": [
       "  Uso Internet   Recuento Porcentaje\n",
       "0            0  1,662,747       28.4\n",
       "1            1  4,184,698       71.6\n",
       "2        Total  5,847,445      100.0"
      ]
     },
     "execution_count": 53,
     "metadata": {},
     "output_type": "execute_result"
    }
   ],
   "source": [
    "generar_tabla_recuento(base_filtrada, \"i_uso\", \"Uso Internet\",  True, True)  \n",
    "#En el mes anterior, ¿ Ud. hizo uso del Servicio de Internet? 1 Si 2 No"
   ]
  },
  {
   "cell_type": "markdown",
   "id": "1d45bf7b-1bef-4fbe-bc1a-89fa164e9d3f",
   "metadata": {},
   "source": [
    "## LUGAR DE USO DEL SERVICIO DE INTERNET"
   ]
  },
  {
   "cell_type": "markdown",
   "id": "78cf6817-9a6e-4e5f-8e73-221e528d8f83",
   "metadata": {},
   "source": [
    "### Uso de Internet en el hogar - Y"
   ]
  },
  {
   "cell_type": "code",
   "execution_count": 54,
   "id": "85886290",
   "metadata": {},
   "outputs": [
    {
     "data": {
      "text/html": [
       "<div>\n",
       "<style scoped>\n",
       "    .dataframe tbody tr th:only-of-type {\n",
       "        vertical-align: middle;\n",
       "    }\n",
       "\n",
       "    .dataframe tbody tr th {\n",
       "        vertical-align: top;\n",
       "    }\n",
       "\n",
       "    .dataframe thead th {\n",
       "        text-align: right;\n",
       "    }\n",
       "</style>\n",
       "<table border=\"1\" class=\"dataframe\">\n",
       "  <thead>\n",
       "    <tr style=\"text-align: right;\">\n",
       "      <th></th>\n",
       "      <th>Uso de Internet en el hogar</th>\n",
       "      <th>Recuento</th>\n",
       "      <th>Porcentaje</th>\n",
       "    </tr>\n",
       "  </thead>\n",
       "  <tbody>\n",
       "    <tr>\n",
       "      <th>0</th>\n",
       "      <td>0</td>\n",
       "      <td>5,368,397</td>\n",
       "      <td>91.8</td>\n",
       "    </tr>\n",
       "    <tr>\n",
       "      <th>1</th>\n",
       "      <td>1</td>\n",
       "      <td>479,048</td>\n",
       "      <td>8.2</td>\n",
       "    </tr>\n",
       "    <tr>\n",
       "      <th>2</th>\n",
       "      <td>Total</td>\n",
       "      <td>5,847,445</td>\n",
       "      <td>100.0</td>\n",
       "    </tr>\n",
       "  </tbody>\n",
       "</table>\n",
       "</div>"
      ],
      "text/plain": [
       "  Uso de Internet en el hogar   Recuento Porcentaje\n",
       "0                           0  5,368,397       91.8\n",
       "1                           1    479,048        8.2\n",
       "2                       Total  5,847,445      100.0"
      ]
     },
     "execution_count": 54,
     "metadata": {},
     "output_type": "execute_result"
    }
   ],
   "source": [
    "generar_tabla_recuento(base_filtrada, \"i_uso_hog\", \"Uso de Internet en el hogar\",True, True)"
   ]
  },
  {
   "cell_type": "markdown",
   "id": "d3efadb0-2ef7-4aa5-9330-22a1cdfa1518",
   "metadata": {},
   "source": [
    "### Uso de Internet en el trabajo"
   ]
  },
  {
   "cell_type": "code",
   "execution_count": 55,
   "id": "59eb5158",
   "metadata": {},
   "outputs": [
    {
     "data": {
      "text/html": [
       "<div>\n",
       "<style scoped>\n",
       "    .dataframe tbody tr th:only-of-type {\n",
       "        vertical-align: middle;\n",
       "    }\n",
       "\n",
       "    .dataframe tbody tr th {\n",
       "        vertical-align: top;\n",
       "    }\n",
       "\n",
       "    .dataframe thead th {\n",
       "        text-align: right;\n",
       "    }\n",
       "</style>\n",
       "<table border=\"1\" class=\"dataframe\">\n",
       "  <thead>\n",
       "    <tr style=\"text-align: right;\">\n",
       "      <th></th>\n",
       "      <th>Uso de Internet en el trabajo</th>\n",
       "      <th>Recuento</th>\n",
       "      <th>Porcentaje</th>\n",
       "    </tr>\n",
       "  </thead>\n",
       "  <tbody>\n",
       "    <tr>\n",
       "      <th>0</th>\n",
       "      <td>0</td>\n",
       "      <td>5,844,676</td>\n",
       "      <td>100.0</td>\n",
       "    </tr>\n",
       "    <tr>\n",
       "      <th>1</th>\n",
       "      <td>1</td>\n",
       "      <td>2,769</td>\n",
       "      <td>0.1</td>\n",
       "    </tr>\n",
       "    <tr>\n",
       "      <th>2</th>\n",
       "      <td>Total</td>\n",
       "      <td>5,847,445</td>\n",
       "      <td>100.0</td>\n",
       "    </tr>\n",
       "  </tbody>\n",
       "</table>\n",
       "</div>"
      ],
      "text/plain": [
       "  Uso de Internet en el trabajo   Recuento Porcentaje\n",
       "0                             0  5,844,676      100.0\n",
       "1                             1      2,769        0.1\n",
       "2                         Total  5,847,445      100.0"
      ]
     },
     "execution_count": 55,
     "metadata": {},
     "output_type": "execute_result"
    }
   ],
   "source": [
    "generar_tabla_recuento(base_filtrada, \"i_uso_trab\", \"Uso de Internet en el trabajo\",True, True)"
   ]
  },
  {
   "cell_type": "markdown",
   "id": "fc4de12b-0e9e-4146-84fc-6e13ca637b3b",
   "metadata": {},
   "source": [
    "### Uso de internet en el establecimiento educativo"
   ]
  },
  {
   "cell_type": "code",
   "execution_count": 56,
   "id": "18038ec0",
   "metadata": {},
   "outputs": [
    {
     "data": {
      "text/html": [
       "<div>\n",
       "<style scoped>\n",
       "    .dataframe tbody tr th:only-of-type {\n",
       "        vertical-align: middle;\n",
       "    }\n",
       "\n",
       "    .dataframe tbody tr th {\n",
       "        vertical-align: top;\n",
       "    }\n",
       "\n",
       "    .dataframe thead th {\n",
       "        text-align: right;\n",
       "    }\n",
       "</style>\n",
       "<table border=\"1\" class=\"dataframe\">\n",
       "  <thead>\n",
       "    <tr style=\"text-align: right;\">\n",
       "      <th></th>\n",
       "      <th>Uso de Internet en el establecimiento educativo</th>\n",
       "      <th>Recuento</th>\n",
       "      <th>Porcentaje</th>\n",
       "    </tr>\n",
       "  </thead>\n",
       "  <tbody>\n",
       "    <tr>\n",
       "      <th>0</th>\n",
       "      <td>0</td>\n",
       "      <td>5,843,019</td>\n",
       "      <td>99.9</td>\n",
       "    </tr>\n",
       "    <tr>\n",
       "      <th>1</th>\n",
       "      <td>1</td>\n",
       "      <td>4,426</td>\n",
       "      <td>0.1</td>\n",
       "    </tr>\n",
       "    <tr>\n",
       "      <th>2</th>\n",
       "      <td>Total</td>\n",
       "      <td>5,847,445</td>\n",
       "      <td>100.0</td>\n",
       "    </tr>\n",
       "  </tbody>\n",
       "</table>\n",
       "</div>"
      ],
      "text/plain": [
       "  Uso de Internet en el establecimiento educativo   Recuento Porcentaje\n",
       "0                                               0  5,843,019       99.9\n",
       "1                                               1      4,426        0.1\n",
       "2                                           Total  5,847,445      100.0"
      ]
     },
     "execution_count": 56,
     "metadata": {},
     "output_type": "execute_result"
    }
   ],
   "source": [
    "generar_tabla_recuento(base_filtrada, \"i_uso_cedu\", \"Uso de Internet en el establecimiento educativo\",True, True)"
   ]
  },
  {
   "cell_type": "markdown",
   "id": "b30bbc4f-35ae-4475-9d9f-53c9ab8b0c9b",
   "metadata": {},
   "source": [
    "### Uso de internet en cabina publica"
   ]
  },
  {
   "cell_type": "code",
   "execution_count": 57,
   "id": "883986d2",
   "metadata": {},
   "outputs": [
    {
     "data": {
      "text/html": [
       "<div>\n",
       "<style scoped>\n",
       "    .dataframe tbody tr th:only-of-type {\n",
       "        vertical-align: middle;\n",
       "    }\n",
       "\n",
       "    .dataframe tbody tr th {\n",
       "        vertical-align: top;\n",
       "    }\n",
       "\n",
       "    .dataframe thead th {\n",
       "        text-align: right;\n",
       "    }\n",
       "</style>\n",
       "<table border=\"1\" class=\"dataframe\">\n",
       "  <thead>\n",
       "    <tr style=\"text-align: right;\">\n",
       "      <th></th>\n",
       "      <th>Uso de Internet en Cabina Publica</th>\n",
       "      <th>Recuento</th>\n",
       "      <th>Porcentaje</th>\n",
       "    </tr>\n",
       "  </thead>\n",
       "  <tbody>\n",
       "    <tr>\n",
       "      <th>0</th>\n",
       "      <td>0</td>\n",
       "      <td>5,789,731</td>\n",
       "      <td>99.0</td>\n",
       "    </tr>\n",
       "    <tr>\n",
       "      <th>1</th>\n",
       "      <td>1</td>\n",
       "      <td>57,714</td>\n",
       "      <td>1.0</td>\n",
       "    </tr>\n",
       "    <tr>\n",
       "      <th>2</th>\n",
       "      <td>Total</td>\n",
       "      <td>5,847,445</td>\n",
       "      <td>100.0</td>\n",
       "    </tr>\n",
       "  </tbody>\n",
       "</table>\n",
       "</div>"
      ],
      "text/plain": [
       "  Uso de Internet en Cabina Publica   Recuento Porcentaje\n",
       "0                                 0  5,789,731       99.0\n",
       "1                                 1     57,714        1.0\n",
       "2                             Total  5,847,445      100.0"
      ]
     },
     "execution_count": 57,
     "metadata": {},
     "output_type": "execute_result"
    }
   ],
   "source": [
    "generar_tabla_recuento(base_filtrada, \"i_uso_cab\", \"Uso de Internet en Cabina Publica\",True, True)"
   ]
  },
  {
   "cell_type": "markdown",
   "id": "ce033f87-8daf-4e27-8bd2-8f8ffce36bbe",
   "metadata": {},
   "source": [
    "### Uso de internet en casa de otra persona"
   ]
  },
  {
   "cell_type": "code",
   "execution_count": 58,
   "id": "54979fa1",
   "metadata": {},
   "outputs": [
    {
     "data": {
      "text/html": [
       "<div>\n",
       "<style scoped>\n",
       "    .dataframe tbody tr th:only-of-type {\n",
       "        vertical-align: middle;\n",
       "    }\n",
       "\n",
       "    .dataframe tbody tr th {\n",
       "        vertical-align: top;\n",
       "    }\n",
       "\n",
       "    .dataframe thead th {\n",
       "        text-align: right;\n",
       "    }\n",
       "</style>\n",
       "<table border=\"1\" class=\"dataframe\">\n",
       "  <thead>\n",
       "    <tr style=\"text-align: right;\">\n",
       "      <th></th>\n",
       "      <th>Uso del internet en casa de otra persona</th>\n",
       "      <th>Recuento</th>\n",
       "      <th>Porcentaje</th>\n",
       "    </tr>\n",
       "  </thead>\n",
       "  <tbody>\n",
       "    <tr>\n",
       "      <th>0</th>\n",
       "      <td>0</td>\n",
       "      <td>5,806,887</td>\n",
       "      <td>99.3</td>\n",
       "    </tr>\n",
       "    <tr>\n",
       "      <th>1</th>\n",
       "      <td>1</td>\n",
       "      <td>40,558</td>\n",
       "      <td>0.7</td>\n",
       "    </tr>\n",
       "    <tr>\n",
       "      <th>2</th>\n",
       "      <td>Total</td>\n",
       "      <td>5,847,445</td>\n",
       "      <td>100.0</td>\n",
       "    </tr>\n",
       "  </tbody>\n",
       "</table>\n",
       "</div>"
      ],
      "text/plain": [
       "  Uso del internet en casa de otra persona   Recuento Porcentaje\n",
       "0                                        0  5,806,887       99.3\n",
       "1                                        1     40,558        0.7\n",
       "2                                    Total  5,847,445      100.0"
      ]
     },
     "execution_count": 58,
     "metadata": {},
     "output_type": "execute_result"
    }
   ],
   "source": [
    "generar_tabla_recuento(base_filtrada, \"i_uso_casotr\", \"Uso del internet en casa de otra persona\",True, True)"
   ]
  },
  {
   "cell_type": "markdown",
   "id": "9ca0d7a7-9294-4411-ac12-019ff15309fc",
   "metadata": {
    "tags": []
   },
   "source": [
    "### Uso de internet - Otro"
   ]
  },
  {
   "cell_type": "code",
   "execution_count": 59,
   "id": "4af43274",
   "metadata": {},
   "outputs": [
    {
     "data": {
      "text/html": [
       "<div>\n",
       "<style scoped>\n",
       "    .dataframe tbody tr th:only-of-type {\n",
       "        vertical-align: middle;\n",
       "    }\n",
       "\n",
       "    .dataframe tbody tr th {\n",
       "        vertical-align: top;\n",
       "    }\n",
       "\n",
       "    .dataframe thead th {\n",
       "        text-align: right;\n",
       "    }\n",
       "</style>\n",
       "<table border=\"1\" class=\"dataframe\">\n",
       "  <thead>\n",
       "    <tr style=\"text-align: right;\">\n",
       "      <th></th>\n",
       "      <th>Otro</th>\n",
       "      <th>Recuento</th>\n",
       "      <th>Porcentaje</th>\n",
       "    </tr>\n",
       "  </thead>\n",
       "  <tbody>\n",
       "    <tr>\n",
       "      <th>0</th>\n",
       "      <td>0</td>\n",
       "      <td>5,826,714</td>\n",
       "      <td>99.7</td>\n",
       "    </tr>\n",
       "    <tr>\n",
       "      <th>1</th>\n",
       "      <td>1</td>\n",
       "      <td>20,731</td>\n",
       "      <td>0.3</td>\n",
       "    </tr>\n",
       "    <tr>\n",
       "      <th>2</th>\n",
       "      <td>Total</td>\n",
       "      <td>5,847,445</td>\n",
       "      <td>100.0</td>\n",
       "    </tr>\n",
       "  </tbody>\n",
       "</table>\n",
       "</div>"
      ],
      "text/plain": [
       "    Otro   Recuento Porcentaje\n",
       "0      0  5,826,714       99.7\n",
       "1      1     20,731        0.3\n",
       "2  Total  5,847,445      100.0"
      ]
     },
     "execution_count": 59,
     "metadata": {},
     "output_type": "execute_result"
    }
   ],
   "source": [
    "generar_tabla_recuento(base_filtrada, \"i_uso_otro\", \"Otro\",True, True)"
   ]
  },
  {
   "cell_type": "markdown",
   "id": "b6693f16-229b-4ffd-99da-7f64854e3d0d",
   "metadata": {
    "tags": []
   },
   "source": [
    "### Acceso movil"
   ]
  },
  {
   "cell_type": "code",
   "execution_count": 60,
   "id": "6f004976",
   "metadata": {},
   "outputs": [
    {
     "data": {
      "text/html": [
       "<div>\n",
       "<style scoped>\n",
       "    .dataframe tbody tr th:only-of-type {\n",
       "        vertical-align: middle;\n",
       "    }\n",
       "\n",
       "    .dataframe tbody tr th {\n",
       "        vertical-align: top;\n",
       "    }\n",
       "\n",
       "    .dataframe thead th {\n",
       "        text-align: right;\n",
       "    }\n",
       "</style>\n",
       "<table border=\"1\" class=\"dataframe\">\n",
       "  <thead>\n",
       "    <tr style=\"text-align: right;\">\n",
       "      <th></th>\n",
       "      <th>Uso del internet en Acceso movil de Internet</th>\n",
       "      <th>Recuento</th>\n",
       "      <th>Porcentaje</th>\n",
       "    </tr>\n",
       "  </thead>\n",
       "  <tbody>\n",
       "    <tr>\n",
       "      <th>0</th>\n",
       "      <td>0</td>\n",
       "      <td>4,209,453</td>\n",
       "      <td>72.0</td>\n",
       "    </tr>\n",
       "    <tr>\n",
       "      <th>1</th>\n",
       "      <td>1</td>\n",
       "      <td>1,637,992</td>\n",
       "      <td>28.0</td>\n",
       "    </tr>\n",
       "    <tr>\n",
       "      <th>2</th>\n",
       "      <td>Total</td>\n",
       "      <td>5,847,445</td>\n",
       "      <td>100.0</td>\n",
       "    </tr>\n",
       "  </tbody>\n",
       "</table>\n",
       "</div>"
      ],
      "text/plain": [
       "  Uso del internet en Acceso movil de Internet   Recuento Porcentaje\n",
       "0                                            0  4,209,453       72.0\n",
       "1                                            1  1,637,992       28.0\n",
       "2                                        Total  5,847,445      100.0"
      ]
     },
     "execution_count": 60,
     "metadata": {},
     "output_type": "execute_result"
    }
   ],
   "source": [
    "generar_tabla_recuento(base_filtrada, \"i_uso_movil\", \"Uso del internet en Acceso movil de Internet\", True, True)"
   ]
  },
  {
   "cell_type": "markdown",
   "id": "f3203485-a403-4dac-8d68-d13cb5c69720",
   "metadata": {
    "tags": []
   },
   "source": [
    "## FRECUENCIA DE USO DEL SERVICIO DE INTERNET"
   ]
  },
  {
   "cell_type": "code",
   "execution_count": 61,
   "id": "ec77fc6e-8750-42f9-b15a-c5d13fd89f66",
   "metadata": {},
   "outputs": [
    {
     "data": {
      "text/plain": [
       "1    14882\n",
       "0     7519\n",
       "Name: i_uso, dtype: int64"
      ]
     },
     "execution_count": 61,
     "metadata": {},
     "output_type": "execute_result"
    }
   ],
   "source": [
    "base_filtrada.i_uso.value_counts()"
   ]
  },
  {
   "cell_type": "code",
   "execution_count": 62,
   "id": "f97ada8c-e17f-40f2-949c-1df701d6f768",
   "metadata": {},
   "outputs": [
    {
     "name": "stdout",
     "output_type": "stream",
     "text": [
      "Valores faltantes en 'i_uso': 0\n"
     ]
    }
   ],
   "source": [
    "missing_values = base_filtrada['i_uso'].isna().sum()\n",
    "print(f\"Valores faltantes en 'i_uso': {missing_values}\")\n"
   ]
  },
  {
   "cell_type": "code",
   "execution_count": 63,
   "id": "c6d35c7f-e760-43d1-96fe-1e52132c971c",
   "metadata": {},
   "outputs": [],
   "source": [
    "# Supongamos que 2 es la categoría que deseas asignar a los valores faltantes\n",
    "#base_filtrada['i_uso'] = base_filtrada['i_uso'].fillna(2)"
   ]
  },
  {
   "attachments": {
    "fdd5ec1b-a491-4d39-bbed-70699fb3ed25.png": {
     "image/png": "[encoded data removed]"
    }
   },
   "cell_type": "markdown",
   "id": "f830c2de-f804-42c3-b9d7-2a7321d19322",
   "metadata": {},
   "source": [
    "![image.png](attachment:fdd5ec1b-a491-4d39-bbed-70699fb3ed25.png)"
   ]
  },
  {
   "cell_type": "code",
   "execution_count": 64,
   "id": "754603af-fa92-43c9-8824-93147b55c196",
   "metadata": {},
   "outputs": [
    {
     "data": {
      "text/html": [
       "<div>\n",
       "<style scoped>\n",
       "    .dataframe tbody tr th:only-of-type {\n",
       "        vertical-align: middle;\n",
       "    }\n",
       "\n",
       "    .dataframe tbody tr th {\n",
       "        vertical-align: top;\n",
       "    }\n",
       "\n",
       "    .dataframe thead th {\n",
       "        text-align: right;\n",
       "    }\n",
       "</style>\n",
       "<table border=\"1\" class=\"dataframe\">\n",
       "  <thead>\n",
       "    <tr style=\"text-align: right;\">\n",
       "      <th></th>\n",
       "      <th>Ud., usa Internet al menos:</th>\n",
       "      <th>Recuento</th>\n",
       "      <th>Porcentaje</th>\n",
       "    </tr>\n",
       "  </thead>\n",
       "  <tbody>\n",
       "    <tr>\n",
       "      <th>0</th>\n",
       "      <td>0</td>\n",
       "      <td>3,953,311</td>\n",
       "      <td>67.6</td>\n",
       "    </tr>\n",
       "    <tr>\n",
       "      <th>1</th>\n",
       "      <td>1</td>\n",
       "      <td>1,643,326</td>\n",
       "      <td>28.1</td>\n",
       "    </tr>\n",
       "    <tr>\n",
       "      <th>2</th>\n",
       "      <td>2</td>\n",
       "      <td>240,221</td>\n",
       "      <td>4.1</td>\n",
       "    </tr>\n",
       "    <tr>\n",
       "      <th>3</th>\n",
       "      <td>3</td>\n",
       "      <td>9,735</td>\n",
       "      <td>0.2</td>\n",
       "    </tr>\n",
       "    <tr>\n",
       "      <th>4</th>\n",
       "      <td>4</td>\n",
       "      <td>852</td>\n",
       "      <td>0.0</td>\n",
       "    </tr>\n",
       "    <tr>\n",
       "      <th>5</th>\n",
       "      <td>Total</td>\n",
       "      <td>5,847,445</td>\n",
       "      <td>100.0</td>\n",
       "    </tr>\n",
       "  </tbody>\n",
       "</table>\n",
       "</div>"
      ],
      "text/plain": [
       "  Ud., usa Internet al menos:   Recuento Porcentaje\n",
       "0                           0  3,953,311       67.6\n",
       "1                           1  1,643,326       28.1\n",
       "2                           2    240,221        4.1\n",
       "3                           3      9,735        0.2\n",
       "4                           4        852        0.0\n",
       "5                       Total  5,847,445      100.0"
      ]
     },
     "execution_count": 64,
     "metadata": {},
     "output_type": "execute_result"
    }
   ],
   "source": [
    "generar_tabla_recuento(base_filtrada, \"p314d\", \"Ud., usa Internet al menos:\",True, True) #¿Ud., usa Internet al menos: \n",
    "# 1 Una vez al dia?\n",
    "# 2 Una vez a la semana? 3 Una vez al mes? 4 Cada 2 meses o más?"
   ]
  },
  {
   "cell_type": "code",
   "execution_count": 65,
   "id": "518ca9f2-45b3-490c-a522-aab3448fa1ab",
   "metadata": {},
   "outputs": [
    {
     "data": {
      "text/html": [
       "<div>\n",
       "<style scoped>\n",
       "    .dataframe tbody tr th:only-of-type {\n",
       "        vertical-align: middle;\n",
       "    }\n",
       "\n",
       "    .dataframe tbody tr th {\n",
       "        vertical-align: top;\n",
       "    }\n",
       "\n",
       "    .dataframe thead th {\n",
       "        text-align: right;\n",
       "    }\n",
       "</style>\n",
       "<table border=\"1\" class=\"dataframe\">\n",
       "  <thead>\n",
       "    <tr style=\"text-align: right;\">\n",
       "      <th></th>\n",
       "      <th>Monto de pago</th>\n",
       "      <th>Recuento</th>\n",
       "      <th>Porcentaje</th>\n",
       "    </tr>\n",
       "  </thead>\n",
       "  <tbody>\n",
       "    <tr>\n",
       "      <th>0</th>\n",
       "      <td>0</td>\n",
       "      <td>5,791,727</td>\n",
       "      <td>99.0</td>\n",
       "    </tr>\n",
       "    <tr>\n",
       "      <th>1</th>\n",
       "      <td>1</td>\n",
       "      <td>2,494</td>\n",
       "      <td>0.0</td>\n",
       "    </tr>\n",
       "    <tr>\n",
       "      <th>2</th>\n",
       "      <td>2</td>\n",
       "      <td>8,882</td>\n",
       "      <td>0.1</td>\n",
       "    </tr>\n",
       "    <tr>\n",
       "      <th>3</th>\n",
       "      <td>3</td>\n",
       "      <td>2,944</td>\n",
       "      <td>0.1</td>\n",
       "    </tr>\n",
       "    <tr>\n",
       "      <th>4</th>\n",
       "      <td>4</td>\n",
       "      <td>4,856</td>\n",
       "      <td>0.1</td>\n",
       "    </tr>\n",
       "    <tr>\n",
       "      <th>5</th>\n",
       "      <td>5</td>\n",
       "      <td>13,262</td>\n",
       "      <td>0.2</td>\n",
       "    </tr>\n",
       "    <tr>\n",
       "      <th>6</th>\n",
       "      <td>6</td>\n",
       "      <td>771</td>\n",
       "      <td>0.0</td>\n",
       "    </tr>\n",
       "    <tr>\n",
       "      <th>7</th>\n",
       "      <td>7</td>\n",
       "      <td>675</td>\n",
       "      <td>0.0</td>\n",
       "    </tr>\n",
       "    <tr>\n",
       "      <th>8</th>\n",
       "      <td>8</td>\n",
       "      <td>1,686</td>\n",
       "      <td>0.0</td>\n",
       "    </tr>\n",
       "    <tr>\n",
       "      <th>9</th>\n",
       "      <td>9</td>\n",
       "      <td>208</td>\n",
       "      <td>0.0</td>\n",
       "    </tr>\n",
       "    <tr>\n",
       "      <th>10</th>\n",
       "      <td>10</td>\n",
       "      <td>10,342</td>\n",
       "      <td>0.2</td>\n",
       "    </tr>\n",
       "    <tr>\n",
       "      <th>11</th>\n",
       "      <td>11</td>\n",
       "      <td>132</td>\n",
       "      <td>0.0</td>\n",
       "    </tr>\n",
       "    <tr>\n",
       "      <th>12</th>\n",
       "      <td>12</td>\n",
       "      <td>1,883</td>\n",
       "      <td>0.0</td>\n",
       "    </tr>\n",
       "    <tr>\n",
       "      <th>13</th>\n",
       "      <td>13</td>\n",
       "      <td>25</td>\n",
       "      <td>0.0</td>\n",
       "    </tr>\n",
       "    <tr>\n",
       "      <th>14</th>\n",
       "      <td>15</td>\n",
       "      <td>2,157</td>\n",
       "      <td>0.0</td>\n",
       "    </tr>\n",
       "    <tr>\n",
       "      <th>15</th>\n",
       "      <td>16</td>\n",
       "      <td>124</td>\n",
       "      <td>0.0</td>\n",
       "    </tr>\n",
       "    <tr>\n",
       "      <th>16</th>\n",
       "      <td>17</td>\n",
       "      <td>1,033</td>\n",
       "      <td>0.0</td>\n",
       "    </tr>\n",
       "    <tr>\n",
       "      <th>17</th>\n",
       "      <td>20</td>\n",
       "      <td>1,202</td>\n",
       "      <td>0.0</td>\n",
       "    </tr>\n",
       "    <tr>\n",
       "      <th>18</th>\n",
       "      <td>21</td>\n",
       "      <td>524</td>\n",
       "      <td>0.0</td>\n",
       "    </tr>\n",
       "    <tr>\n",
       "      <th>19</th>\n",
       "      <td>25</td>\n",
       "      <td>153</td>\n",
       "      <td>0.0</td>\n",
       "    </tr>\n",
       "    <tr>\n",
       "      <th>20</th>\n",
       "      <td>30</td>\n",
       "      <td>1,461</td>\n",
       "      <td>0.0</td>\n",
       "    </tr>\n",
       "    <tr>\n",
       "      <th>21</th>\n",
       "      <td>32</td>\n",
       "      <td>266</td>\n",
       "      <td>0.0</td>\n",
       "    </tr>\n",
       "    <tr>\n",
       "      <th>22</th>\n",
       "      <td>39</td>\n",
       "      <td>25</td>\n",
       "      <td>0.0</td>\n",
       "    </tr>\n",
       "    <tr>\n",
       "      <th>23</th>\n",
       "      <td>40</td>\n",
       "      <td>496</td>\n",
       "      <td>0.0</td>\n",
       "    </tr>\n",
       "    <tr>\n",
       "      <th>24</th>\n",
       "      <td>54</td>\n",
       "      <td>25</td>\n",
       "      <td>0.0</td>\n",
       "    </tr>\n",
       "    <tr>\n",
       "      <th>25</th>\n",
       "      <td>108</td>\n",
       "      <td>92</td>\n",
       "      <td>0.0</td>\n",
       "    </tr>\n",
       "    <tr>\n",
       "      <th>26</th>\n",
       "      <td>Total</td>\n",
       "      <td>5,847,445</td>\n",
       "      <td>100.0</td>\n",
       "    </tr>\n",
       "  </tbody>\n",
       "</table>\n",
       "</div>"
      ],
      "text/plain": [
       "   Monto de pago   Recuento Porcentaje\n",
       "0              0  5,791,727       99.0\n",
       "1              1      2,494        0.0\n",
       "2              2      8,882        0.1\n",
       "3              3      2,944        0.1\n",
       "4              4      4,856        0.1\n",
       "5              5     13,262        0.2\n",
       "6              6        771        0.0\n",
       "7              7        675        0.0\n",
       "8              8      1,686        0.0\n",
       "9              9        208        0.0\n",
       "10            10     10,342        0.2\n",
       "11            11        132        0.0\n",
       "12            12      1,883        0.0\n",
       "13            13         25        0.0\n",
       "14            15      2,157        0.0\n",
       "15            16        124        0.0\n",
       "16            17      1,033        0.0\n",
       "17            20      1,202        0.0\n",
       "18            21        524        0.0\n",
       "19            25        153        0.0\n",
       "20            30      1,461        0.0\n",
       "21            32        266        0.0\n",
       "22            39         25        0.0\n",
       "23            40        496        0.0\n",
       "24            54         25        0.0\n",
       "25           108         92        0.0\n",
       "26         Total  5,847,445      100.0"
      ]
     },
     "execution_count": 65,
     "metadata": {},
     "output_type": "execute_result"
    }
   ],
   "source": [
    "generar_tabla_recuento(base_filtrada, \"p315a\", \"Monto de pago\",True, True) #¿Ud., usa Internet al menos: 1 Una vez al dia?\n",
    "# 2 Una vez a la semana? 3 Una vez al mes? 4 Cada 2 meses o más?"
   ]
  },
  {
   "cell_type": "code",
   "execution_count": 66,
   "id": "f190e79f-173c-4ead-a1aa-92a38a8b1ed6",
   "metadata": {},
   "outputs": [
    {
     "data": {
      "text/html": [
       "<div>\n",
       "<style scoped>\n",
       "    .dataframe tbody tr th:only-of-type {\n",
       "        vertical-align: middle;\n",
       "    }\n",
       "\n",
       "    .dataframe tbody tr th {\n",
       "        vertical-align: top;\n",
       "    }\n",
       "\n",
       "    .dataframe thead th {\n",
       "        text-align: right;\n",
       "    }\n",
       "</style>\n",
       "<table border=\"1\" class=\"dataframe\">\n",
       "  <thead>\n",
       "    <tr style=\"text-align: right;\">\n",
       "      <th></th>\n",
       "      <th>Monto pago 2</th>\n",
       "      <th>Recuento</th>\n",
       "      <th>Porcentaje</th>\n",
       "    </tr>\n",
       "  </thead>\n",
       "  <tbody>\n",
       "    <tr>\n",
       "      <th>0</th>\n",
       "      <td>0</td>\n",
       "      <td>5,845,465</td>\n",
       "      <td>100.0</td>\n",
       "    </tr>\n",
       "    <tr>\n",
       "      <th>1</th>\n",
       "      <td>1</td>\n",
       "      <td>782</td>\n",
       "      <td>0.0</td>\n",
       "    </tr>\n",
       "    <tr>\n",
       "      <th>2</th>\n",
       "      <td>3</td>\n",
       "      <td>396</td>\n",
       "      <td>0.0</td>\n",
       "    </tr>\n",
       "    <tr>\n",
       "      <th>3</th>\n",
       "      <td>17</td>\n",
       "      <td>78</td>\n",
       "      <td>0.0</td>\n",
       "    </tr>\n",
       "    <tr>\n",
       "      <th>4</th>\n",
       "      <td>20</td>\n",
       "      <td>480</td>\n",
       "      <td>0.0</td>\n",
       "    </tr>\n",
       "    <tr>\n",
       "      <th>5</th>\n",
       "      <td>30</td>\n",
       "      <td>244</td>\n",
       "      <td>0.0</td>\n",
       "    </tr>\n",
       "    <tr>\n",
       "      <th>6</th>\n",
       "      <td>Total</td>\n",
       "      <td>5,847,445</td>\n",
       "      <td>100.0</td>\n",
       "    </tr>\n",
       "  </tbody>\n",
       "</table>\n",
       "</div>"
      ],
      "text/plain": [
       "  Monto pago 2   Recuento Porcentaje\n",
       "0            0  5,845,465      100.0\n",
       "1            1        782        0.0\n",
       "2            3        396        0.0\n",
       "3           17         78        0.0\n",
       "4           20        480        0.0\n",
       "5           30        244        0.0\n",
       "6        Total  5,847,445      100.0"
      ]
     },
     "execution_count": 66,
     "metadata": {},
     "output_type": "execute_result"
    }
   ],
   "source": [
    "generar_tabla_recuento(base_filtrada, \"p315b\", \"Monto pago 2\",True, True) #¿Ud., usa Internet al menos: 1 Una vez al dia?\n",
    "# 2 Una vez a la semana? 3 Una vez al mes? 4 Cada 2 meses o más?"
   ]
  },
  {
   "cell_type": "markdown",
   "id": "9274011a-a082-4c86-b146-8d50c799e2a7",
   "metadata": {},
   "source": [
    "## EQUIPO QUE UTILIZO PARA INGRESAR A INTERNET"
   ]
  },
  {
   "cell_type": "markdown",
   "id": "39a69473-0b8e-4a41-8313-6e32380bfd1d",
   "metadata": {
    "tags": []
   },
   "source": [
    "### Acceso - Laptop"
   ]
  },
  {
   "cell_type": "code",
   "execution_count": 67,
   "id": "fe27d696",
   "metadata": {},
   "outputs": [
    {
     "data": {
      "text/html": [
       "<div>\n",
       "<style scoped>\n",
       "    .dataframe tbody tr th:only-of-type {\n",
       "        vertical-align: middle;\n",
       "    }\n",
       "\n",
       "    .dataframe tbody tr th {\n",
       "        vertical-align: top;\n",
       "    }\n",
       "\n",
       "    .dataframe thead th {\n",
       "        text-align: right;\n",
       "    }\n",
       "</style>\n",
       "<table border=\"1\" class=\"dataframe\">\n",
       "  <thead>\n",
       "    <tr style=\"text-align: right;\">\n",
       "      <th></th>\n",
       "      <th>Uso del internet a traves de una LAPTOP</th>\n",
       "      <th>Recuento</th>\n",
       "      <th>Porcentaje</th>\n",
       "    </tr>\n",
       "  </thead>\n",
       "  <tbody>\n",
       "    <tr>\n",
       "      <th>0</th>\n",
       "      <td>0</td>\n",
       "      <td>5,462,357</td>\n",
       "      <td>93.4</td>\n",
       "    </tr>\n",
       "    <tr>\n",
       "      <th>1</th>\n",
       "      <td>1</td>\n",
       "      <td>385,088</td>\n",
       "      <td>6.6</td>\n",
       "    </tr>\n",
       "    <tr>\n",
       "      <th>2</th>\n",
       "      <td>Total</td>\n",
       "      <td>5,847,445</td>\n",
       "      <td>100.0</td>\n",
       "    </tr>\n",
       "  </tbody>\n",
       "</table>\n",
       "</div>"
      ],
      "text/plain": [
       "  Uso del internet a traves de una LAPTOP   Recuento Porcentaje\n",
       "0                                       0  5,462,357       93.4\n",
       "1                                       1    385,088        6.6\n",
       "2                                   Total  5,847,445      100.0"
      ]
     },
     "execution_count": 67,
     "metadata": {},
     "output_type": "execute_result"
    }
   ],
   "source": [
    "generar_tabla_recuento(base_filtrada, \"i_laptop\", \"Uso del internet a traves de una LAPTOP\", True, True)"
   ]
  },
  {
   "cell_type": "markdown",
   "id": "9f9e6ca0-d7c6-498c-b16d-bee0769c10da",
   "metadata": {
    "tags": []
   },
   "source": [
    "### Acceso - Computadora"
   ]
  },
  {
   "cell_type": "code",
   "execution_count": 68,
   "id": "8216bfea",
   "metadata": {},
   "outputs": [
    {
     "data": {
      "text/html": [
       "<div>\n",
       "<style scoped>\n",
       "    .dataframe tbody tr th:only-of-type {\n",
       "        vertical-align: middle;\n",
       "    }\n",
       "\n",
       "    .dataframe tbody tr th {\n",
       "        vertical-align: top;\n",
       "    }\n",
       "\n",
       "    .dataframe thead th {\n",
       "        text-align: right;\n",
       "    }\n",
       "</style>\n",
       "<table border=\"1\" class=\"dataframe\">\n",
       "  <thead>\n",
       "    <tr style=\"text-align: right;\">\n",
       "      <th></th>\n",
       "      <th>Uso del internet a traves de una computadora</th>\n",
       "      <th>Recuento</th>\n",
       "      <th>Porcentaje</th>\n",
       "    </tr>\n",
       "  </thead>\n",
       "  <tbody>\n",
       "    <tr>\n",
       "      <th>0</th>\n",
       "      <td>0</td>\n",
       "      <td>5,275,363</td>\n",
       "      <td>90.2</td>\n",
       "    </tr>\n",
       "    <tr>\n",
       "      <th>1</th>\n",
       "      <td>1</td>\n",
       "      <td>572,082</td>\n",
       "      <td>9.8</td>\n",
       "    </tr>\n",
       "    <tr>\n",
       "      <th>2</th>\n",
       "      <td>Total</td>\n",
       "      <td>5,847,445</td>\n",
       "      <td>100.0</td>\n",
       "    </tr>\n",
       "  </tbody>\n",
       "</table>\n",
       "</div>"
      ],
      "text/plain": [
       "  Uso del internet a traves de una computadora   Recuento Porcentaje\n",
       "0                                            0  5,275,363       90.2\n",
       "1                                            1    572,082        9.8\n",
       "2                                        Total  5,847,445      100.0"
      ]
     },
     "execution_count": 68,
     "metadata": {},
     "output_type": "execute_result"
    }
   ],
   "source": [
    "generar_tabla_recuento(base_filtrada, \"i_computadora\", \"Uso del internet a traves de una computadora\",True, True)"
   ]
  },
  {
   "cell_type": "markdown",
   "id": "96091371-137f-42e5-a492-fa02cde7a906",
   "metadata": {
    "tags": []
   },
   "source": [
    "### Acceso - Tablet"
   ]
  },
  {
   "cell_type": "code",
   "execution_count": 69,
   "id": "f0f51377",
   "metadata": {},
   "outputs": [
    {
     "data": {
      "text/html": [
       "<div>\n",
       "<style scoped>\n",
       "    .dataframe tbody tr th:only-of-type {\n",
       "        vertical-align: middle;\n",
       "    }\n",
       "\n",
       "    .dataframe tbody tr th {\n",
       "        vertical-align: top;\n",
       "    }\n",
       "\n",
       "    .dataframe thead th {\n",
       "        text-align: right;\n",
       "    }\n",
       "</style>\n",
       "<table border=\"1\" class=\"dataframe\">\n",
       "  <thead>\n",
       "    <tr style=\"text-align: right;\">\n",
       "      <th></th>\n",
       "      <th>Uso del internet a traves de una TABLET</th>\n",
       "      <th>Recuento</th>\n",
       "      <th>Porcentaje</th>\n",
       "    </tr>\n",
       "  </thead>\n",
       "  <tbody>\n",
       "    <tr>\n",
       "      <th>0</th>\n",
       "      <td>0</td>\n",
       "      <td>5,752,631</td>\n",
       "      <td>98.4</td>\n",
       "    </tr>\n",
       "    <tr>\n",
       "      <th>1</th>\n",
       "      <td>1</td>\n",
       "      <td>94,814</td>\n",
       "      <td>1.6</td>\n",
       "    </tr>\n",
       "    <tr>\n",
       "      <th>2</th>\n",
       "      <td>Total</td>\n",
       "      <td>5,847,445</td>\n",
       "      <td>100.0</td>\n",
       "    </tr>\n",
       "  </tbody>\n",
       "</table>\n",
       "</div>"
      ],
      "text/plain": [
       "  Uso del internet a traves de una TABLET   Recuento Porcentaje\n",
       "0                                       0  5,752,631       98.4\n",
       "1                                       1     94,814        1.6\n",
       "2                                   Total  5,847,445      100.0"
      ]
     },
     "execution_count": 69,
     "metadata": {},
     "output_type": "execute_result"
    }
   ],
   "source": [
    "generar_tabla_recuento(base_filtrada, \"i_tablet\", \"Uso del internet a traves de una TABLET\",True, True)"
   ]
  },
  {
   "cell_type": "markdown",
   "id": "e13514d4-75ca-47a0-bd0f-feb52b5cb4cf",
   "metadata": {},
   "source": [
    "### Acceso - Otro"
   ]
  },
  {
   "cell_type": "code",
   "execution_count": 70,
   "id": "a59ff54b",
   "metadata": {},
   "outputs": [
    {
     "data": {
      "text/html": [
       "<div>\n",
       "<style scoped>\n",
       "    .dataframe tbody tr th:only-of-type {\n",
       "        vertical-align: middle;\n",
       "    }\n",
       "\n",
       "    .dataframe tbody tr th {\n",
       "        vertical-align: top;\n",
       "    }\n",
       "\n",
       "    .dataframe thead th {\n",
       "        text-align: right;\n",
       "    }\n",
       "</style>\n",
       "<table border=\"1\" class=\"dataframe\">\n",
       "  <thead>\n",
       "    <tr style=\"text-align: right;\">\n",
       "      <th></th>\n",
       "      <th>Uso del internet a traves de una OTRO</th>\n",
       "      <th>Recuento</th>\n",
       "      <th>Porcentaje</th>\n",
       "    </tr>\n",
       "  </thead>\n",
       "  <tbody>\n",
       "    <tr>\n",
       "      <th>0</th>\n",
       "      <td>0</td>\n",
       "      <td>5,045,342</td>\n",
       "      <td>86.3</td>\n",
       "    </tr>\n",
       "    <tr>\n",
       "      <th>1</th>\n",
       "      <td>1</td>\n",
       "      <td>802,103</td>\n",
       "      <td>13.7</td>\n",
       "    </tr>\n",
       "    <tr>\n",
       "      <th>2</th>\n",
       "      <td>Total</td>\n",
       "      <td>5,847,445</td>\n",
       "      <td>100.0</td>\n",
       "    </tr>\n",
       "  </tbody>\n",
       "</table>\n",
       "</div>"
      ],
      "text/plain": [
       "  Uso del internet a traves de una OTRO   Recuento Porcentaje\n",
       "0                                     0  5,045,342       86.3\n",
       "1                                     1    802,103       13.7\n",
       "2                                 Total  5,847,445      100.0"
      ]
     },
     "execution_count": 70,
     "metadata": {},
     "output_type": "execute_result"
    }
   ],
   "source": [
    "generar_tabla_recuento(base_filtrada, \"i_otro\", \"Uso del internet a traves de una OTRO\", True, True)"
   ]
  },
  {
   "cell_type": "markdown",
   "id": "6cd47193-88bc-4d11-a733-199b31f42727",
   "metadata": {},
   "source": [
    "### Acceso - Celular sin plan de datos"
   ]
  },
  {
   "cell_type": "code",
   "execution_count": 71,
   "id": "5179049e",
   "metadata": {},
   "outputs": [
    {
     "data": {
      "text/html": [
       "<div>\n",
       "<style scoped>\n",
       "    .dataframe tbody tr th:only-of-type {\n",
       "        vertical-align: middle;\n",
       "    }\n",
       "\n",
       "    .dataframe tbody tr th {\n",
       "        vertical-align: top;\n",
       "    }\n",
       "\n",
       "    .dataframe thead th {\n",
       "        text-align: right;\n",
       "    }\n",
       "</style>\n",
       "<table border=\"1\" class=\"dataframe\">\n",
       "  <thead>\n",
       "    <tr style=\"text-align: right;\">\n",
       "      <th></th>\n",
       "      <th>Uso del internet a traves de una CELULAR SIN PLAN DE DATOS</th>\n",
       "      <th>Recuento</th>\n",
       "      <th>Porcentaje</th>\n",
       "    </tr>\n",
       "  </thead>\n",
       "  <tbody>\n",
       "    <tr>\n",
       "      <th>0</th>\n",
       "      <td>0</td>\n",
       "      <td>3,650,575</td>\n",
       "      <td>62.4</td>\n",
       "    </tr>\n",
       "    <tr>\n",
       "      <th>1</th>\n",
       "      <td>1</td>\n",
       "      <td>2,196,870</td>\n",
       "      <td>37.6</td>\n",
       "    </tr>\n",
       "    <tr>\n",
       "      <th>2</th>\n",
       "      <td>Total</td>\n",
       "      <td>5,847,445</td>\n",
       "      <td>100.0</td>\n",
       "    </tr>\n",
       "  </tbody>\n",
       "</table>\n",
       "</div>"
      ],
      "text/plain": [
       "  Uso del internet a traves de una CELULAR SIN PLAN DE DATOS   Recuento  \\\n",
       "0                                                  0          3,650,575   \n",
       "1                                                  1          2,196,870   \n",
       "2                                              Total          5,847,445   \n",
       "\n",
       "  Porcentaje  \n",
       "0       62.4  \n",
       "1       37.6  \n",
       "2      100.0  "
      ]
     },
     "execution_count": 71,
     "metadata": {},
     "output_type": "execute_result"
    }
   ],
   "source": [
    "generar_tabla_recuento(base_filtrada, \"i_cel_sdatos\", \"Uso del internet a traves de una CELULAR SIN PLAN DE DATOS\",True, True)"
   ]
  },
  {
   "cell_type": "markdown",
   "id": "9ea3ff5a-df4b-4918-9073-81ec30fb2bde",
   "metadata": {},
   "source": [
    "### Acceso - Celular con plan de datos"
   ]
  },
  {
   "cell_type": "code",
   "execution_count": 72,
   "id": "91dd43b7",
   "metadata": {},
   "outputs": [
    {
     "data": {
      "text/html": [
       "<div>\n",
       "<style scoped>\n",
       "    .dataframe tbody tr th:only-of-type {\n",
       "        vertical-align: middle;\n",
       "    }\n",
       "\n",
       "    .dataframe tbody tr th {\n",
       "        vertical-align: top;\n",
       "    }\n",
       "\n",
       "    .dataframe thead th {\n",
       "        text-align: right;\n",
       "    }\n",
       "</style>\n",
       "<table border=\"1\" class=\"dataframe\">\n",
       "  <thead>\n",
       "    <tr style=\"text-align: right;\">\n",
       "      <th></th>\n",
       "      <th>Uso del internet a traves de una CELULAR CON PLAN DE DATOS</th>\n",
       "      <th>Recuento</th>\n",
       "      <th>Porcentaje</th>\n",
       "    </tr>\n",
       "  </thead>\n",
       "  <tbody>\n",
       "    <tr>\n",
       "      <th>0</th>\n",
       "      <td>0</td>\n",
       "      <td>5,014,846</td>\n",
       "      <td>85.8</td>\n",
       "    </tr>\n",
       "    <tr>\n",
       "      <th>1</th>\n",
       "      <td>1</td>\n",
       "      <td>832,599</td>\n",
       "      <td>14.2</td>\n",
       "    </tr>\n",
       "    <tr>\n",
       "      <th>2</th>\n",
       "      <td>Total</td>\n",
       "      <td>5,847,445</td>\n",
       "      <td>100.0</td>\n",
       "    </tr>\n",
       "  </tbody>\n",
       "</table>\n",
       "</div>"
      ],
      "text/plain": [
       "  Uso del internet a traves de una CELULAR CON PLAN DE DATOS   Recuento  \\\n",
       "0                                                  0          5,014,846   \n",
       "1                                                  1            832,599   \n",
       "2                                              Total          5,847,445   \n",
       "\n",
       "  Porcentaje  \n",
       "0       85.8  \n",
       "1       14.2  \n",
       "2      100.0  "
      ]
     },
     "execution_count": 72,
     "metadata": {},
     "output_type": "execute_result"
    }
   ],
   "source": [
    "generar_tabla_recuento(base_filtrada, \"i_cel_cdatos\", \"Uso del internet a traves de una CELULAR CON PLAN DE DATOS\",True,True)"
   ]
  },
  {
   "cell_type": "code",
   "execution_count": 73,
   "id": "63970d7f",
   "metadata": {},
   "outputs": [],
   "source": [
    "#generar_tabla_recuento(base_filtrada, \"p314b1_5\", \"Uso del internet a traves de una CELULAR DE SU CENTRO DE TRABAJO\", guardar_como_jpeg=True) "
   ]
  },
  {
   "cell_type": "markdown",
   "id": "5b3bcbd7-1835-4cc6-856b-57d584615275",
   "metadata": {},
   "source": [
    "## DIMENSION -APROPIACION - Para qué uso el internet"
   ]
  },
  {
   "cell_type": "code",
   "execution_count": 74,
   "id": "bbda7219-3c8f-452c-a713-4c95b010eba7",
   "metadata": {},
   "outputs": [
    {
     "data": {
      "text/html": [
       "<div>\n",
       "<style scoped>\n",
       "    .dataframe tbody tr th:only-of-type {\n",
       "        vertical-align: middle;\n",
       "    }\n",
       "\n",
       "    .dataframe tbody tr th {\n",
       "        vertical-align: top;\n",
       "    }\n",
       "\n",
       "    .dataframe thead th {\n",
       "        text-align: right;\n",
       "    }\n",
       "</style>\n",
       "<table border=\"1\" class=\"dataframe\">\n",
       "  <thead>\n",
       "    <tr style=\"text-align: right;\">\n",
       "      <th></th>\n",
       "      <th>Usó el Internet para: Obtener información</th>\n",
       "      <th>Recuento</th>\n",
       "      <th>Porcentaje</th>\n",
       "    </tr>\n",
       "  </thead>\n",
       "  <tbody>\n",
       "    <tr>\n",
       "      <th>0</th>\n",
       "      <td>0.0</td>\n",
       "      <td>317,451</td>\n",
       "      <td>16.8</td>\n",
       "    </tr>\n",
       "    <tr>\n",
       "      <th>1</th>\n",
       "      <td>1.0</td>\n",
       "      <td>1,576,683</td>\n",
       "      <td>83.2</td>\n",
       "    </tr>\n",
       "    <tr>\n",
       "      <th>2</th>\n",
       "      <td>Total</td>\n",
       "      <td>1,894,134</td>\n",
       "      <td>100.0</td>\n",
       "    </tr>\n",
       "  </tbody>\n",
       "</table>\n",
       "</div>"
      ],
      "text/plain": [
       "  Usó el Internet para: Obtener información   Recuento Porcentaje\n",
       "0                                       0.0    317,451       16.8\n",
       "1                                       1.0  1,576,683       83.2\n",
       "2                                     Total  1,894,134      100.0"
      ]
     },
     "execution_count": 74,
     "metadata": {},
     "output_type": "execute_result"
    }
   ],
   "source": [
    "generar_tabla_recuento(base_filtrada, \"i_obtener_info\", \"Usó el Internet para: Obtener información\",True,True)"
   ]
  },
  {
   "cell_type": "code",
   "execution_count": 75,
   "id": "24b1e8f0-d0d3-4c35-af82-bb4a183fd7c7",
   "metadata": {},
   "outputs": [
    {
     "data": {
      "text/html": [
       "<div>\n",
       "<style scoped>\n",
       "    .dataframe tbody tr th:only-of-type {\n",
       "        vertical-align: middle;\n",
       "    }\n",
       "\n",
       "    .dataframe tbody tr th {\n",
       "        vertical-align: top;\n",
       "    }\n",
       "\n",
       "    .dataframe thead th {\n",
       "        text-align: right;\n",
       "    }\n",
       "</style>\n",
       "<table border=\"1\" class=\"dataframe\">\n",
       "  <thead>\n",
       "    <tr style=\"text-align: right;\">\n",
       "      <th></th>\n",
       "      <th>Usó el Internet para: Comunicarsen</th>\n",
       "      <th>Recuento</th>\n",
       "      <th>Porcentaje</th>\n",
       "    </tr>\n",
       "  </thead>\n",
       "  <tbody>\n",
       "    <tr>\n",
       "      <th>0</th>\n",
       "      <td>0.0</td>\n",
       "      <td>265,524</td>\n",
       "      <td>14.0</td>\n",
       "    </tr>\n",
       "    <tr>\n",
       "      <th>1</th>\n",
       "      <td>1.0</td>\n",
       "      <td>1,628,610</td>\n",
       "      <td>86.0</td>\n",
       "    </tr>\n",
       "    <tr>\n",
       "      <th>2</th>\n",
       "      <td>Total</td>\n",
       "      <td>1,894,134</td>\n",
       "      <td>100.0</td>\n",
       "    </tr>\n",
       "  </tbody>\n",
       "</table>\n",
       "</div>"
      ],
      "text/plain": [
       "  Usó el Internet para: Comunicarsen   Recuento Porcentaje\n",
       "0                                0.0    265,524       14.0\n",
       "1                                1.0  1,628,610       86.0\n",
       "2                              Total  1,894,134      100.0"
      ]
     },
     "execution_count": 75,
     "metadata": {},
     "output_type": "execute_result"
    }
   ],
   "source": [
    "generar_tabla_recuento(base_filtrada, \"i_comunicarse\", \"Usó el Internet para: Comunicarsen\",True,True)"
   ]
  },
  {
   "cell_type": "code",
   "execution_count": 76,
   "id": "46afff72-766e-4051-bc70-d47b5bac0dbf",
   "metadata": {},
   "outputs": [
    {
     "data": {
      "text/html": [
       "<div>\n",
       "<style scoped>\n",
       "    .dataframe tbody tr th:only-of-type {\n",
       "        vertical-align: middle;\n",
       "    }\n",
       "\n",
       "    .dataframe tbody tr th {\n",
       "        vertical-align: top;\n",
       "    }\n",
       "\n",
       "    .dataframe thead th {\n",
       "        text-align: right;\n",
       "    }\n",
       "</style>\n",
       "<table border=\"1\" class=\"dataframe\">\n",
       "  <thead>\n",
       "    <tr style=\"text-align: right;\">\n",
       "      <th></th>\n",
       "      <th>Usó el Internet para: Comprar productos_servicios</th>\n",
       "      <th>Recuento</th>\n",
       "      <th>Porcentaje</th>\n",
       "    </tr>\n",
       "  </thead>\n",
       "  <tbody>\n",
       "    <tr>\n",
       "      <th>0</th>\n",
       "      <td>0.0</td>\n",
       "      <td>1,867,428</td>\n",
       "      <td>98.6</td>\n",
       "    </tr>\n",
       "    <tr>\n",
       "      <th>1</th>\n",
       "      <td>1.0</td>\n",
       "      <td>26,706</td>\n",
       "      <td>1.4</td>\n",
       "    </tr>\n",
       "    <tr>\n",
       "      <th>2</th>\n",
       "      <td>Total</td>\n",
       "      <td>1,894,134</td>\n",
       "      <td>100.0</td>\n",
       "    </tr>\n",
       "  </tbody>\n",
       "</table>\n",
       "</div>"
      ],
      "text/plain": [
       "  Usó el Internet para: Comprar productos_servicios   Recuento Porcentaje\n",
       "0                                               0.0  1,867,428       98.6\n",
       "1                                               1.0     26,706        1.4\n",
       "2                                             Total  1,894,134      100.0"
      ]
     },
     "execution_count": 76,
     "metadata": {},
     "output_type": "execute_result"
    }
   ],
   "source": [
    "generar_tabla_recuento(base_filtrada, \"i_comprar_pdts_ss\", \"Usó el Internet para: Comprar productos_servicios\",True,True)"
   ]
  },
  {
   "cell_type": "code",
   "execution_count": 77,
   "id": "f461771e-aa28-4934-b3ab-18f13667947b",
   "metadata": {},
   "outputs": [
    {
     "data": {
      "text/html": [
       "<div>\n",
       "<style scoped>\n",
       "    .dataframe tbody tr th:only-of-type {\n",
       "        vertical-align: middle;\n",
       "    }\n",
       "\n",
       "    .dataframe tbody tr th {\n",
       "        vertical-align: top;\n",
       "    }\n",
       "\n",
       "    .dataframe thead th {\n",
       "        text-align: right;\n",
       "    }\n",
       "</style>\n",
       "<table border=\"1\" class=\"dataframe\">\n",
       "  <thead>\n",
       "    <tr style=\"text-align: right;\">\n",
       "      <th></th>\n",
       "      <th>Usó el Internet para: Operaciones de banca electrónica</th>\n",
       "      <th>Recuento</th>\n",
       "      <th>Porcentaje</th>\n",
       "    </tr>\n",
       "  </thead>\n",
       "  <tbody>\n",
       "    <tr>\n",
       "      <th>0</th>\n",
       "      <td>0.0</td>\n",
       "      <td>1,887,410</td>\n",
       "      <td>99.7</td>\n",
       "    </tr>\n",
       "    <tr>\n",
       "      <th>1</th>\n",
       "      <td>1.0</td>\n",
       "      <td>6,724</td>\n",
       "      <td>0.3</td>\n",
       "    </tr>\n",
       "    <tr>\n",
       "      <th>2</th>\n",
       "      <td>Total</td>\n",
       "      <td>1,894,134</td>\n",
       "      <td>100.0</td>\n",
       "    </tr>\n",
       "  </tbody>\n",
       "</table>\n",
       "</div>"
      ],
      "text/plain": [
       "  Usó el Internet para: Operaciones de banca electrónica   Recuento Porcentaje\n",
       "0                                                0.0      1,887,410       99.7\n",
       "1                                                1.0          6,724        0.3\n",
       "2                                              Total      1,894,134      100.0"
      ]
     },
     "execution_count": 77,
     "metadata": {},
     "output_type": "execute_result"
    }
   ],
   "source": [
    "generar_tabla_recuento(base_filtrada,'i_operaciones_bancarias', 'Usó el Internet para: Operaciones de banca electrónica', True, True)\n"
   ]
  },
  {
   "cell_type": "code",
   "execution_count": 78,
   "id": "a0432c5d-e646-4214-b1e4-69cf4a8a78a3",
   "metadata": {},
   "outputs": [
    {
     "data": {
      "text/html": [
       "<div>\n",
       "<style scoped>\n",
       "    .dataframe tbody tr th:only-of-type {\n",
       "        vertical-align: middle;\n",
       "    }\n",
       "\n",
       "    .dataframe tbody tr th {\n",
       "        vertical-align: top;\n",
       "    }\n",
       "\n",
       "    .dataframe thead th {\n",
       "        text-align: right;\n",
       "    }\n",
       "</style>\n",
       "<table border=\"1\" class=\"dataframe\">\n",
       "  <thead>\n",
       "    <tr style=\"text-align: right;\">\n",
       "      <th></th>\n",
       "      <th>Usó el Internet para: Educación formal y actividades de capacitación</th>\n",
       "      <th>Recuento</th>\n",
       "      <th>Porcentaje</th>\n",
       "    </tr>\n",
       "  </thead>\n",
       "  <tbody>\n",
       "    <tr>\n",
       "      <th>0</th>\n",
       "      <td>0.0</td>\n",
       "      <td>1,376,176</td>\n",
       "      <td>72.7</td>\n",
       "    </tr>\n",
       "    <tr>\n",
       "      <th>1</th>\n",
       "      <td>1.0</td>\n",
       "      <td>517,958</td>\n",
       "      <td>27.4</td>\n",
       "    </tr>\n",
       "    <tr>\n",
       "      <th>2</th>\n",
       "      <td>Total</td>\n",
       "      <td>1,894,134</td>\n",
       "      <td>100.0</td>\n",
       "    </tr>\n",
       "  </tbody>\n",
       "</table>\n",
       "</div>"
      ],
      "text/plain": [
       "  Usó el Internet para: Educación formal y actividades de capacitación  \\\n",
       "0                                                0.0                     \n",
       "1                                                1.0                     \n",
       "2                                              Total                     \n",
       "\n",
       "    Recuento Porcentaje  \n",
       "0  1,376,176       72.7  \n",
       "1    517,958       27.4  \n",
       "2  1,894,134      100.0  "
      ]
     },
     "execution_count": 78,
     "metadata": {},
     "output_type": "execute_result"
    }
   ],
   "source": [
    "generar_tabla_recuento(base_filtrada, \"i_edu_formal\", \"Usó el Internet para: Educación formal y actividades de capacitación\",True,True)"
   ]
  },
  {
   "cell_type": "code",
   "execution_count": 79,
   "id": "863556b2-79a6-4cbb-bc0d-d81d67984cc7",
   "metadata": {},
   "outputs": [
    {
     "data": {
      "text/html": [
       "<div>\n",
       "<style scoped>\n",
       "    .dataframe tbody tr th:only-of-type {\n",
       "        vertical-align: middle;\n",
       "    }\n",
       "\n",
       "    .dataframe tbody tr th {\n",
       "        vertical-align: top;\n",
       "    }\n",
       "\n",
       "    .dataframe thead th {\n",
       "        text-align: right;\n",
       "    }\n",
       "</style>\n",
       "<table border=\"1\" class=\"dataframe\">\n",
       "  <thead>\n",
       "    <tr style=\"text-align: right;\">\n",
       "      <th></th>\n",
       "      <th>Usó el Internet para: Transacciones</th>\n",
       "      <th>Recuento</th>\n",
       "      <th>Porcentaje</th>\n",
       "    </tr>\n",
       "  </thead>\n",
       "  <tbody>\n",
       "    <tr>\n",
       "      <th>0</th>\n",
       "      <td>0.0</td>\n",
       "      <td>1,873,400</td>\n",
       "      <td>98.9</td>\n",
       "    </tr>\n",
       "    <tr>\n",
       "      <th>1</th>\n",
       "      <td>1.0</td>\n",
       "      <td>20,734</td>\n",
       "      <td>1.1</td>\n",
       "    </tr>\n",
       "    <tr>\n",
       "      <th>2</th>\n",
       "      <td>Total</td>\n",
       "      <td>1,894,134</td>\n",
       "      <td>100.0</td>\n",
       "    </tr>\n",
       "  </tbody>\n",
       "</table>\n",
       "</div>"
      ],
      "text/plain": [
       "  Usó el Internet para: Transacciones   Recuento Porcentaje\n",
       "0                                 0.0  1,873,400       98.9\n",
       "1                                 1.0     20,734        1.1\n",
       "2                               Total  1,894,134      100.0"
      ]
     },
     "execution_count": 79,
     "metadata": {},
     "output_type": "execute_result"
    }
   ],
   "source": [
    "generar_tabla_recuento(base_filtrada, \"i_transacciones\", \"Usó el Internet para: Transacciones\",True,True)"
   ]
  },
  {
   "cell_type": "code",
   "execution_count": 80,
   "id": "cef8d357-4a05-4a4a-b3ff-ad9c9b967e58",
   "metadata": {},
   "outputs": [
    {
     "data": {
      "text/html": [
       "<div>\n",
       "<style scoped>\n",
       "    .dataframe tbody tr th:only-of-type {\n",
       "        vertical-align: middle;\n",
       "    }\n",
       "\n",
       "    .dataframe tbody tr th {\n",
       "        vertical-align: top;\n",
       "    }\n",
       "\n",
       "    .dataframe thead th {\n",
       "        text-align: right;\n",
       "    }\n",
       "</style>\n",
       "<table border=\"1\" class=\"dataframe\">\n",
       "  <thead>\n",
       "    <tr style=\"text-align: right;\">\n",
       "      <th></th>\n",
       "      <th>Usó el Internet para: Actividades de entretenimiento</th>\n",
       "      <th>Recuento</th>\n",
       "      <th>Porcentaje</th>\n",
       "    </tr>\n",
       "  </thead>\n",
       "  <tbody>\n",
       "    <tr>\n",
       "      <th>0</th>\n",
       "      <td>0.0</td>\n",
       "      <td>426,963</td>\n",
       "      <td>22.5</td>\n",
       "    </tr>\n",
       "    <tr>\n",
       "      <th>1</th>\n",
       "      <td>1.0</td>\n",
       "      <td>1,467,171</td>\n",
       "      <td>77.5</td>\n",
       "    </tr>\n",
       "    <tr>\n",
       "      <th>2</th>\n",
       "      <td>Total</td>\n",
       "      <td>1,894,134</td>\n",
       "      <td>100.0</td>\n",
       "    </tr>\n",
       "  </tbody>\n",
       "</table>\n",
       "</div>"
      ],
      "text/plain": [
       "  Usó el Internet para: Actividades de entretenimiento   Recuento Porcentaje\n",
       "0                                                0.0      426,963       22.5\n",
       "1                                                1.0    1,467,171       77.5\n",
       "2                                              Total    1,894,134      100.0"
      ]
     },
     "execution_count": 80,
     "metadata": {},
     "output_type": "execute_result"
    }
   ],
   "source": [
    "generar_tabla_recuento(base_filtrada, \"i_act_entretenimiento\", \"Usó el Internet para: Actividades de entretenimiento\",True,True)"
   ]
  },
  {
   "cell_type": "code",
   "execution_count": 81,
   "id": "dee9981d-dba5-4999-9438-3cd3de3d4df8",
   "metadata": {},
   "outputs": [
    {
     "data": {
      "text/html": [
       "<div>\n",
       "<style scoped>\n",
       "    .dataframe tbody tr th:only-of-type {\n",
       "        vertical-align: middle;\n",
       "    }\n",
       "\n",
       "    .dataframe tbody tr th {\n",
       "        vertical-align: top;\n",
       "    }\n",
       "\n",
       "    .dataframe thead th {\n",
       "        text-align: right;\n",
       "    }\n",
       "</style>\n",
       "<table border=\"1\" class=\"dataframe\">\n",
       "  <thead>\n",
       "    <tr style=\"text-align: right;\">\n",
       "      <th></th>\n",
       "      <th>Usó el Internet para: Vender productos_servicios</th>\n",
       "      <th>Recuento</th>\n",
       "      <th>Porcentaje</th>\n",
       "    </tr>\n",
       "  </thead>\n",
       "  <tbody>\n",
       "    <tr>\n",
       "      <th>0</th>\n",
       "      <td>0.0</td>\n",
       "      <td>1,882,059</td>\n",
       "      <td>99.4</td>\n",
       "    </tr>\n",
       "    <tr>\n",
       "      <th>1</th>\n",
       "      <td>1.0</td>\n",
       "      <td>12,075</td>\n",
       "      <td>0.6</td>\n",
       "    </tr>\n",
       "    <tr>\n",
       "      <th>2</th>\n",
       "      <td>Total</td>\n",
       "      <td>1,894,134</td>\n",
       "      <td>100.0</td>\n",
       "    </tr>\n",
       "  </tbody>\n",
       "</table>\n",
       "</div>"
      ],
      "text/plain": [
       "  Usó el Internet para: Vender productos_servicios   Recuento Porcentaje\n",
       "0                                              0.0  1,882,059       99.4\n",
       "1                                              1.0     12,075        0.6\n",
       "2                                            Total  1,894,134      100.0"
      ]
     },
     "execution_count": 81,
     "metadata": {},
     "output_type": "execute_result"
    }
   ],
   "source": [
    "generar_tabla_recuento(base_filtrada, \"i_vender_pdts\", \"Usó el Internet para: Vender productos_servicios\",True,True)"
   ]
  },
  {
   "cell_type": "code",
   "execution_count": 82,
   "id": "b117d105-7f87-4129-9b13-169047c915c1",
   "metadata": {},
   "outputs": [
    {
     "data": {
      "text/html": [
       "<div>\n",
       "<style scoped>\n",
       "    .dataframe tbody tr th:only-of-type {\n",
       "        vertical-align: middle;\n",
       "    }\n",
       "\n",
       "    .dataframe tbody tr th {\n",
       "        vertical-align: top;\n",
       "    }\n",
       "\n",
       "    .dataframe thead th {\n",
       "        text-align: right;\n",
       "    }\n",
       "</style>\n",
       "<table border=\"1\" class=\"dataframe\">\n",
       "  <thead>\n",
       "    <tr style=\"text-align: right;\">\n",
       "      <th></th>\n",
       "      <th>Usó el Internet para: Otro</th>\n",
       "      <th>Recuento</th>\n",
       "      <th>Porcentaje</th>\n",
       "    </tr>\n",
       "  </thead>\n",
       "  <tbody>\n",
       "    <tr>\n",
       "      <th>0</th>\n",
       "      <td>0.0</td>\n",
       "      <td>1,876,757</td>\n",
       "      <td>99.1</td>\n",
       "    </tr>\n",
       "    <tr>\n",
       "      <th>1</th>\n",
       "      <td>1.0</td>\n",
       "      <td>17,377</td>\n",
       "      <td>0.9</td>\n",
       "    </tr>\n",
       "    <tr>\n",
       "      <th>2</th>\n",
       "      <td>Total</td>\n",
       "      <td>1,894,134</td>\n",
       "      <td>100.0</td>\n",
       "    </tr>\n",
       "  </tbody>\n",
       "</table>\n",
       "</div>"
      ],
      "text/plain": [
       "  Usó el Internet para: Otro   Recuento Porcentaje\n",
       "0                        0.0  1,876,757       99.1\n",
       "1                        1.0     17,377        0.9\n",
       "2                      Total  1,894,134      100.0"
      ]
     },
     "execution_count": 82,
     "metadata": {},
     "output_type": "execute_result"
    }
   ],
   "source": [
    "generar_tabla_recuento(base_filtrada, \"p316_9\", \"Usó el Internet para: Otro\",True,True)"
   ]
  },
  {
   "cell_type": "code",
   "execution_count": 83,
   "id": "b74cd6f1-3ce3-4b21-a8f4-452b4f89a7d0",
   "metadata": {},
   "outputs": [
    {
     "data": {
      "text/html": [
       "<div>\n",
       "<style scoped>\n",
       "    .dataframe tbody tr th:only-of-type {\n",
       "        vertical-align: middle;\n",
       "    }\n",
       "\n",
       "    .dataframe tbody tr th {\n",
       "        vertical-align: top;\n",
       "    }\n",
       "\n",
       "    .dataframe thead th {\n",
       "        text-align: right;\n",
       "    }\n",
       "</style>\n",
       "<table border=\"1\" class=\"dataframe\">\n",
       "  <thead>\n",
       "    <tr style=\"text-align: right;\">\n",
       "      <th></th>\n",
       "      <th>Usó el Internet para: Otro2</th>\n",
       "      <th>Recuento</th>\n",
       "      <th>Porcentaje</th>\n",
       "    </tr>\n",
       "  </thead>\n",
       "  <tbody>\n",
       "    <tr>\n",
       "      <th>0</th>\n",
       "      <td>0.0</td>\n",
       "      <td>1,893,822</td>\n",
       "      <td>100.0</td>\n",
       "    </tr>\n",
       "    <tr>\n",
       "      <th>1</th>\n",
       "      <td>1.0</td>\n",
       "      <td>312</td>\n",
       "      <td>0.0</td>\n",
       "    </tr>\n",
       "    <tr>\n",
       "      <th>2</th>\n",
       "      <td>Total</td>\n",
       "      <td>1,894,134</td>\n",
       "      <td>100.0</td>\n",
       "    </tr>\n",
       "  </tbody>\n",
       "</table>\n",
       "</div>"
      ],
      "text/plain": [
       "  Usó el Internet para: Otro2   Recuento Porcentaje\n",
       "0                         0.0  1,893,822      100.0\n",
       "1                         1.0        312        0.0\n",
       "2                       Total  1,894,134      100.0"
      ]
     },
     "execution_count": 83,
     "metadata": {},
     "output_type": "execute_result"
    }
   ],
   "source": [
    "generar_tabla_recuento(base_filtrada, \"p316_10\", \"Usó el Internet para: Otro2\",True,True)"
   ]
  },
  {
   "cell_type": "code",
   "execution_count": 84,
   "id": "0a8b3fc3-e52e-4951-aeb4-c76b4250b6a1",
   "metadata": {},
   "outputs": [
    {
     "data": {
      "text/html": [
       "<div>\n",
       "<style scoped>\n",
       "    .dataframe tbody tr th:only-of-type {\n",
       "        vertical-align: middle;\n",
       "    }\n",
       "\n",
       "    .dataframe tbody tr th {\n",
       "        vertical-align: top;\n",
       "    }\n",
       "\n",
       "    .dataframe thead th {\n",
       "        text-align: right;\n",
       "    }\n",
       "</style>\n",
       "<table border=\"1\" class=\"dataframe\">\n",
       "  <thead>\n",
       "    <tr style=\"text-align: right;\">\n",
       "      <th></th>\n",
       "      <th>Usó el Internet para: Otro3</th>\n",
       "      <th>Recuento</th>\n",
       "      <th>Porcentaje</th>\n",
       "    </tr>\n",
       "  </thead>\n",
       "  <tbody>\n",
       "    <tr>\n",
       "      <th>0</th>\n",
       "      <td>0.0</td>\n",
       "      <td>1,894,134</td>\n",
       "      <td>100.0</td>\n",
       "    </tr>\n",
       "    <tr>\n",
       "      <th>1</th>\n",
       "      <td>Total</td>\n",
       "      <td>1,894,134</td>\n",
       "      <td>100.0</td>\n",
       "    </tr>\n",
       "  </tbody>\n",
       "</table>\n",
       "</div>"
      ],
      "text/plain": [
       "  Usó el Internet para: Otro3   Recuento Porcentaje\n",
       "0                         0.0  1,894,134      100.0\n",
       "1                       Total  1,894,134      100.0"
      ]
     },
     "execution_count": 84,
     "metadata": {},
     "output_type": "execute_result"
    }
   ],
   "source": [
    "generar_tabla_recuento(base_filtrada, \"p316_11\", \"Usó el Internet para: Otro3\",True,True)"
   ]
  },
  {
   "cell_type": "code",
   "execution_count": 85,
   "id": "f1184088-0c0b-4b09-9bb1-cd7e4873ebdf",
   "metadata": {},
   "outputs": [
    {
     "data": {
      "text/html": [
       "<div>\n",
       "<style scoped>\n",
       "    .dataframe tbody tr th:only-of-type {\n",
       "        vertical-align: middle;\n",
       "    }\n",
       "\n",
       "    .dataframe tbody tr th {\n",
       "        vertical-align: top;\n",
       "    }\n",
       "\n",
       "    .dataframe thead th {\n",
       "        text-align: right;\n",
       "    }\n",
       "</style>\n",
       "<table border=\"1\" class=\"dataframe\">\n",
       "  <thead>\n",
       "    <tr style=\"text-align: right;\">\n",
       "      <th></th>\n",
       "      <th>Usó el Internet para: descarga de antivirus</th>\n",
       "      <th>Recuento</th>\n",
       "      <th>Porcentaje</th>\n",
       "    </tr>\n",
       "  </thead>\n",
       "  <tbody>\n",
       "    <tr>\n",
       "      <th>0</th>\n",
       "      <td>0.0</td>\n",
       "      <td>1,697,573</td>\n",
       "      <td>89.6</td>\n",
       "    </tr>\n",
       "    <tr>\n",
       "      <th>1</th>\n",
       "      <td>1.0</td>\n",
       "      <td>196,561</td>\n",
       "      <td>10.4</td>\n",
       "    </tr>\n",
       "    <tr>\n",
       "      <th>2</th>\n",
       "      <td>Total</td>\n",
       "      <td>1,894,134</td>\n",
       "      <td>100.0</td>\n",
       "    </tr>\n",
       "  </tbody>\n",
       "</table>\n",
       "</div>"
      ],
      "text/plain": [
       "  Usó el Internet para: descarga de antivirus   Recuento Porcentaje\n",
       "0                                         0.0  1,697,573       89.6\n",
       "1                                         1.0    196,561       10.4\n",
       "2                                       Total  1,894,134      100.0"
      ]
     },
     "execution_count": 85,
     "metadata": {},
     "output_type": "execute_result"
    }
   ],
   "source": [
    "generar_tabla_recuento(base_filtrada, \"i_descarga_antivirus\", \"Usó el Internet para: descarga de antivirus\",True,True)"
   ]
  },
  {
   "cell_type": "markdown",
   "id": "0106306b-dfb2-4b5f-b8d2-b7faa4523b6e",
   "metadata": {},
   "source": [
    "## ACTIVIDADES INFORMÁTICAS - para personas de 14 +"
   ]
  },
  {
   "cell_type": "code",
   "execution_count": 86,
   "id": "00697a35-5498-4fab-80b0-f4d85204e23f",
   "metadata": {},
   "outputs": [
    {
     "data": {
      "text/html": [
       "<div>\n",
       "<style scoped>\n",
       "    .dataframe tbody tr th:only-of-type {\n",
       "        vertical-align: middle;\n",
       "    }\n",
       "\n",
       "    .dataframe tbody tr th {\n",
       "        vertical-align: top;\n",
       "    }\n",
       "\n",
       "    .dataframe thead th {\n",
       "        text-align: right;\n",
       "    }\n",
       "</style>\n",
       "<table border=\"1\" class=\"dataframe\">\n",
       "  <thead>\n",
       "    <tr style=\"text-align: right;\">\n",
       "      <th></th>\n",
       "      <th>Mover Archivo</th>\n",
       "      <th>Recuento</th>\n",
       "      <th>Porcentaje</th>\n",
       "    </tr>\n",
       "  </thead>\n",
       "  <tbody>\n",
       "    <tr>\n",
       "      <th>0</th>\n",
       "      <td>0.0</td>\n",
       "      <td>23,776</td>\n",
       "      <td>7.4</td>\n",
       "    </tr>\n",
       "    <tr>\n",
       "      <th>1</th>\n",
       "      <td>1.0</td>\n",
       "      <td>297,879</td>\n",
       "      <td>92.6</td>\n",
       "    </tr>\n",
       "    <tr>\n",
       "      <th>2</th>\n",
       "      <td>Total</td>\n",
       "      <td>321,655</td>\n",
       "      <td>100.0</td>\n",
       "    </tr>\n",
       "  </tbody>\n",
       "</table>\n",
       "</div>"
      ],
      "text/plain": [
       "  Mover Archivo Recuento Porcentaje\n",
       "0           0.0   23,776        7.4\n",
       "1           1.0  297,879       92.6\n",
       "2         Total  321,655      100.0"
      ]
     },
     "execution_count": 86,
     "metadata": {},
     "output_type": "execute_result"
    }
   ],
   "source": [
    "generar_tabla_recuento(base_filtrada, \"ai_mover_archivo\", \"Mover Archivo\",True,True)"
   ]
  },
  {
   "cell_type": "code",
   "execution_count": 87,
   "id": "3c402431-9d15-4acc-b0ba-eb7457f9acf8",
   "metadata": {},
   "outputs": [
    {
     "data": {
      "text/html": [
       "<div>\n",
       "<style scoped>\n",
       "    .dataframe tbody tr th:only-of-type {\n",
       "        vertical-align: middle;\n",
       "    }\n",
       "\n",
       "    .dataframe tbody tr th {\n",
       "        vertical-align: top;\n",
       "    }\n",
       "\n",
       "    .dataframe thead th {\n",
       "        text-align: right;\n",
       "    }\n",
       "</style>\n",
       "<table border=\"1\" class=\"dataframe\">\n",
       "  <thead>\n",
       "    <tr style=\"text-align: right;\">\n",
       "      <th></th>\n",
       "      <th>Mover Archivo</th>\n",
       "      <th>Recuento</th>\n",
       "      <th>Porcentaje</th>\n",
       "    </tr>\n",
       "  </thead>\n",
       "  <tbody>\n",
       "    <tr>\n",
       "      <th>0</th>\n",
       "      <td>0.0</td>\n",
       "      <td>40,598</td>\n",
       "      <td>12.6</td>\n",
       "    </tr>\n",
       "    <tr>\n",
       "      <th>1</th>\n",
       "      <td>1.0</td>\n",
       "      <td>281,057</td>\n",
       "      <td>87.4</td>\n",
       "    </tr>\n",
       "    <tr>\n",
       "      <th>2</th>\n",
       "      <td>Total</td>\n",
       "      <td>321,655</td>\n",
       "      <td>100.0</td>\n",
       "    </tr>\n",
       "  </tbody>\n",
       "</table>\n",
       "</div>"
      ],
      "text/plain": [
       "  Mover Archivo Recuento Porcentaje\n",
       "0           0.0   40,598       12.6\n",
       "1           1.0  281,057       87.4\n",
       "2         Total  321,655      100.0"
      ]
     },
     "execution_count": 87,
     "metadata": {},
     "output_type": "execute_result"
    }
   ],
   "source": [
    "generar_tabla_recuento(base_filtrada, \"ai_copiar_pegar\", \"Mover Archivo\",True,True)"
   ]
  },
  {
   "cell_type": "code",
   "execution_count": 88,
   "id": "122b1894-6ab0-45e8-a1e7-9a78e2d95fb0",
   "metadata": {},
   "outputs": [
    {
     "data": {
      "text/html": [
       "<div>\n",
       "<style scoped>\n",
       "    .dataframe tbody tr th:only-of-type {\n",
       "        vertical-align: middle;\n",
       "    }\n",
       "\n",
       "    .dataframe tbody tr th {\n",
       "        vertical-align: top;\n",
       "    }\n",
       "\n",
       "    .dataframe thead th {\n",
       "        text-align: right;\n",
       "    }\n",
       "</style>\n",
       "<table border=\"1\" class=\"dataframe\">\n",
       "  <thead>\n",
       "    <tr style=\"text-align: right;\">\n",
       "      <th></th>\n",
       "      <th>Mover Archivo</th>\n",
       "      <th>Recuento</th>\n",
       "      <th>Porcentaje</th>\n",
       "    </tr>\n",
       "  </thead>\n",
       "  <tbody>\n",
       "    <tr>\n",
       "      <th>0</th>\n",
       "      <td>0.0</td>\n",
       "      <td>84,235</td>\n",
       "      <td>26.2</td>\n",
       "    </tr>\n",
       "    <tr>\n",
       "      <th>1</th>\n",
       "      <td>1.0</td>\n",
       "      <td>237,420</td>\n",
       "      <td>73.8</td>\n",
       "    </tr>\n",
       "    <tr>\n",
       "      <th>2</th>\n",
       "      <td>Total</td>\n",
       "      <td>321,655</td>\n",
       "      <td>100.0</td>\n",
       "    </tr>\n",
       "  </tbody>\n",
       "</table>\n",
       "</div>"
      ],
      "text/plain": [
       "  Mover Archivo Recuento Porcentaje\n",
       "0           0.0   84,235       26.2\n",
       "1           1.0  237,420       73.8\n",
       "2         Total  321,655      100.0"
      ]
     },
     "execution_count": 88,
     "metadata": {},
     "output_type": "execute_result"
    }
   ],
   "source": [
    "generar_tabla_recuento(base_filtrada, \"ai_enviar_correos\", \"Mover Archivo\",True,True)"
   ]
  },
  {
   "cell_type": "code",
   "execution_count": 89,
   "id": "fcda411e-5888-449d-9bed-642ffe9b97e9",
   "metadata": {},
   "outputs": [
    {
     "data": {
      "text/html": [
       "<div>\n",
       "<style scoped>\n",
       "    .dataframe tbody tr th:only-of-type {\n",
       "        vertical-align: middle;\n",
       "    }\n",
       "\n",
       "    .dataframe tbody tr th {\n",
       "        vertical-align: top;\n",
       "    }\n",
       "\n",
       "    .dataframe thead th {\n",
       "        text-align: right;\n",
       "    }\n",
       "</style>\n",
       "<table border=\"1\" class=\"dataframe\">\n",
       "  <thead>\n",
       "    <tr style=\"text-align: right;\">\n",
       "      <th></th>\n",
       "      <th>Mover Archivo</th>\n",
       "      <th>Recuento</th>\n",
       "      <th>Porcentaje</th>\n",
       "    </tr>\n",
       "  </thead>\n",
       "  <tbody>\n",
       "    <tr>\n",
       "      <th>0</th>\n",
       "      <td>0.0</td>\n",
       "      <td>190,663</td>\n",
       "      <td>59.3</td>\n",
       "    </tr>\n",
       "    <tr>\n",
       "      <th>1</th>\n",
       "      <td>1.0</td>\n",
       "      <td>130,992</td>\n",
       "      <td>40.7</td>\n",
       "    </tr>\n",
       "    <tr>\n",
       "      <th>2</th>\n",
       "      <td>Total</td>\n",
       "      <td>321,655</td>\n",
       "      <td>100.0</td>\n",
       "    </tr>\n",
       "  </tbody>\n",
       "</table>\n",
       "</div>"
      ],
      "text/plain": [
       "  Mover Archivo Recuento Porcentaje\n",
       "0           0.0  190,663       59.3\n",
       "1           1.0  130,992       40.7\n",
       "2         Total  321,655      100.0"
      ]
     },
     "execution_count": 89,
     "metadata": {},
     "output_type": "execute_result"
    }
   ],
   "source": [
    "generar_tabla_recuento(base_filtrada, \"ai_form_excel\", \"Mover Archivo\",True,True)"
   ]
  },
  {
   "cell_type": "code",
   "execution_count": 90,
   "id": "5c60af77-be21-4314-8b26-f4531790cea0",
   "metadata": {},
   "outputs": [
    {
     "data": {
      "text/html": [
       "<div>\n",
       "<style scoped>\n",
       "    .dataframe tbody tr th:only-of-type {\n",
       "        vertical-align: middle;\n",
       "    }\n",
       "\n",
       "    .dataframe tbody tr th {\n",
       "        vertical-align: top;\n",
       "    }\n",
       "\n",
       "    .dataframe thead th {\n",
       "        text-align: right;\n",
       "    }\n",
       "</style>\n",
       "<table border=\"1\" class=\"dataframe\">\n",
       "  <thead>\n",
       "    <tr style=\"text-align: right;\">\n",
       "      <th></th>\n",
       "      <th>Mover Archivo</th>\n",
       "      <th>Recuento</th>\n",
       "      <th>Porcentaje</th>\n",
       "    </tr>\n",
       "  </thead>\n",
       "  <tbody>\n",
       "    <tr>\n",
       "      <th>0</th>\n",
       "      <td>0.0</td>\n",
       "      <td>222,461</td>\n",
       "      <td>69.2</td>\n",
       "    </tr>\n",
       "    <tr>\n",
       "      <th>1</th>\n",
       "      <td>1.0</td>\n",
       "      <td>99,194</td>\n",
       "      <td>30.8</td>\n",
       "    </tr>\n",
       "    <tr>\n",
       "      <th>2</th>\n",
       "      <td>Total</td>\n",
       "      <td>321,655</td>\n",
       "      <td>100.0</td>\n",
       "    </tr>\n",
       "  </tbody>\n",
       "</table>\n",
       "</div>"
      ],
      "text/plain": [
       "  Mover Archivo Recuento Porcentaje\n",
       "0           0.0  222,461       69.2\n",
       "1           1.0   99,194       30.8\n",
       "2         Total  321,655      100.0"
      ]
     },
     "execution_count": 90,
     "metadata": {},
     "output_type": "execute_result"
    }
   ],
   "source": [
    "generar_tabla_recuento(base_filtrada, \"ai_conec_dispositivos\", \"Mover Archivo\",True,True)"
   ]
  },
  {
   "cell_type": "code",
   "execution_count": 91,
   "id": "330c6399-7100-494e-a14d-9e77e600a948",
   "metadata": {},
   "outputs": [
    {
     "data": {
      "text/html": [
       "<div>\n",
       "<style scoped>\n",
       "    .dataframe tbody tr th:only-of-type {\n",
       "        vertical-align: middle;\n",
       "    }\n",
       "\n",
       "    .dataframe tbody tr th {\n",
       "        vertical-align: top;\n",
       "    }\n",
       "\n",
       "    .dataframe thead th {\n",
       "        text-align: right;\n",
       "    }\n",
       "</style>\n",
       "<table border=\"1\" class=\"dataframe\">\n",
       "  <thead>\n",
       "    <tr style=\"text-align: right;\">\n",
       "      <th></th>\n",
       "      <th>Mover Archivo</th>\n",
       "      <th>Recuento</th>\n",
       "      <th>Porcentaje</th>\n",
       "    </tr>\n",
       "  </thead>\n",
       "  <tbody>\n",
       "    <tr>\n",
       "      <th>0</th>\n",
       "      <td>0.0</td>\n",
       "      <td>256,107</td>\n",
       "      <td>79.6</td>\n",
       "    </tr>\n",
       "    <tr>\n",
       "      <th>1</th>\n",
       "      <td>1.0</td>\n",
       "      <td>65,548</td>\n",
       "      <td>20.4</td>\n",
       "    </tr>\n",
       "    <tr>\n",
       "      <th>2</th>\n",
       "      <td>Total</td>\n",
       "      <td>321,655</td>\n",
       "      <td>100.0</td>\n",
       "    </tr>\n",
       "  </tbody>\n",
       "</table>\n",
       "</div>"
      ],
      "text/plain": [
       "  Mover Archivo Recuento Porcentaje\n",
       "0           0.0  256,107       79.6\n",
       "1           1.0   65,548       20.4\n",
       "2         Total  321,655      100.0"
      ]
     },
     "execution_count": 91,
     "metadata": {},
     "output_type": "execute_result"
    }
   ],
   "source": [
    "generar_tabla_recuento(base_filtrada, \"ai_software\", \"Mover Archivo\",True,True)"
   ]
  },
  {
   "cell_type": "code",
   "execution_count": 92,
   "id": "d24eb3cb-3559-4afa-b2cf-1aefc5844be5",
   "metadata": {},
   "outputs": [
    {
     "data": {
      "text/html": [
       "<div>\n",
       "<style scoped>\n",
       "    .dataframe tbody tr th:only-of-type {\n",
       "        vertical-align: middle;\n",
       "    }\n",
       "\n",
       "    .dataframe tbody tr th {\n",
       "        vertical-align: top;\n",
       "    }\n",
       "\n",
       "    .dataframe thead th {\n",
       "        text-align: right;\n",
       "    }\n",
       "</style>\n",
       "<table border=\"1\" class=\"dataframe\">\n",
       "  <thead>\n",
       "    <tr style=\"text-align: right;\">\n",
       "      <th></th>\n",
       "      <th>Mover Archivo</th>\n",
       "      <th>Recuento</th>\n",
       "      <th>Porcentaje</th>\n",
       "    </tr>\n",
       "  </thead>\n",
       "  <tbody>\n",
       "    <tr>\n",
       "      <th>0</th>\n",
       "      <td>0.0</td>\n",
       "      <td>152,157</td>\n",
       "      <td>47.3</td>\n",
       "    </tr>\n",
       "    <tr>\n",
       "      <th>1</th>\n",
       "      <td>1.0</td>\n",
       "      <td>169,498</td>\n",
       "      <td>52.7</td>\n",
       "    </tr>\n",
       "    <tr>\n",
       "      <th>2</th>\n",
       "      <td>Total</td>\n",
       "      <td>321,655</td>\n",
       "      <td>100.0</td>\n",
       "    </tr>\n",
       "  </tbody>\n",
       "</table>\n",
       "</div>"
      ],
      "text/plain": [
       "  Mover Archivo Recuento Porcentaje\n",
       "0           0.0  152,157       47.3\n",
       "1           1.0  169,498       52.7\n",
       "2         Total  321,655      100.0"
      ]
     },
     "execution_count": 92,
     "metadata": {},
     "output_type": "execute_result"
    }
   ],
   "source": [
    "generar_tabla_recuento(base_filtrada, \"ai_presentaciones_electronicas\", \"Mover Archivo\",True,True)"
   ]
  },
  {
   "cell_type": "code",
   "execution_count": 93,
   "id": "1109a16d-b08d-4409-9333-d0ddf4ebe07b",
   "metadata": {},
   "outputs": [
    {
     "data": {
      "text/html": [
       "<div>\n",
       "<style scoped>\n",
       "    .dataframe tbody tr th:only-of-type {\n",
       "        vertical-align: middle;\n",
       "    }\n",
       "\n",
       "    .dataframe tbody tr th {\n",
       "        vertical-align: top;\n",
       "    }\n",
       "\n",
       "    .dataframe thead th {\n",
       "        text-align: right;\n",
       "    }\n",
       "</style>\n",
       "<table border=\"1\" class=\"dataframe\">\n",
       "  <thead>\n",
       "    <tr style=\"text-align: right;\">\n",
       "      <th></th>\n",
       "      <th>Mover Archivo</th>\n",
       "      <th>Recuento</th>\n",
       "      <th>Porcentaje</th>\n",
       "    </tr>\n",
       "  </thead>\n",
       "  <tbody>\n",
       "    <tr>\n",
       "      <th>0</th>\n",
       "      <td>1.0</td>\n",
       "      <td>297,879</td>\n",
       "      <td>100.0</td>\n",
       "    </tr>\n",
       "    <tr>\n",
       "      <th>1</th>\n",
       "      <td>Total</td>\n",
       "      <td>297,879</td>\n",
       "      <td>100.0</td>\n",
       "    </tr>\n",
       "  </tbody>\n",
       "</table>\n",
       "</div>"
      ],
      "text/plain": [
       "  Mover Archivo Recuento Porcentaje\n",
       "0           1.0  297,879      100.0\n",
       "1         Total  297,879      100.0"
      ]
     },
     "execution_count": 93,
     "metadata": {},
     "output_type": "execute_result"
    }
   ],
   "source": [
    "generar_tabla_recuento(base_filtrada, \"ai_tranfer_archivos\", \"Mover Archivo\",True,True)"
   ]
  },
  {
   "cell_type": "code",
   "execution_count": 94,
   "id": "3ba3b96a-514a-45ca-95fe-6555fe799ce8",
   "metadata": {},
   "outputs": [
    {
     "data": {
      "text/html": [
       "<div>\n",
       "<style scoped>\n",
       "    .dataframe tbody tr th:only-of-type {\n",
       "        vertical-align: middle;\n",
       "    }\n",
       "\n",
       "    .dataframe tbody tr th {\n",
       "        vertical-align: top;\n",
       "    }\n",
       "\n",
       "    .dataframe thead th {\n",
       "        text-align: right;\n",
       "    }\n",
       "</style>\n",
       "<table border=\"1\" class=\"dataframe\">\n",
       "  <thead>\n",
       "    <tr style=\"text-align: right;\">\n",
       "      <th></th>\n",
       "      <th>Mover Archivo</th>\n",
       "      <th>Recuento</th>\n",
       "      <th>Porcentaje</th>\n",
       "    </tr>\n",
       "  </thead>\n",
       "  <tbody>\n",
       "    <tr>\n",
       "      <th>0</th>\n",
       "      <td>0.0</td>\n",
       "      <td>317,297</td>\n",
       "      <td>98.7</td>\n",
       "    </tr>\n",
       "    <tr>\n",
       "      <th>1</th>\n",
       "      <td>1.0</td>\n",
       "      <td>4,358</td>\n",
       "      <td>1.4</td>\n",
       "    </tr>\n",
       "    <tr>\n",
       "      <th>2</th>\n",
       "      <td>Total</td>\n",
       "      <td>321,655</td>\n",
       "      <td>100.0</td>\n",
       "    </tr>\n",
       "  </tbody>\n",
       "</table>\n",
       "</div>"
      ],
      "text/plain": [
       "  Mover Archivo Recuento Porcentaje\n",
       "0           0.0  317,297       98.7\n",
       "1           1.0    4,358        1.4\n",
       "2         Total  321,655      100.0"
      ]
     },
     "execution_count": 94,
     "metadata": {},
     "output_type": "execute_result"
    }
   ],
   "source": [
    "generar_tabla_recuento(base_filtrada, \"ai_leng_programacion\", \"Mover Archivo\",True,True)"
   ]
  },
  {
   "cell_type": "code",
   "execution_count": 95,
   "id": "57cdb610-0c12-42c2-ba66-a03efd662874",
   "metadata": {},
   "outputs": [
    {
     "data": {
      "text/html": [
       "<div>\n",
       "<style scoped>\n",
       "    .dataframe tbody tr th:only-of-type {\n",
       "        vertical-align: middle;\n",
       "    }\n",
       "\n",
       "    .dataframe tbody tr th {\n",
       "        vertical-align: top;\n",
       "    }\n",
       "\n",
       "    .dataframe thead th {\n",
       "        text-align: right;\n",
       "    }\n",
       "</style>\n",
       "<table border=\"1\" class=\"dataframe\">\n",
       "  <thead>\n",
       "    <tr style=\"text-align: right;\">\n",
       "      <th></th>\n",
       "      <th>Mover Archivo</th>\n",
       "      <th>Recuento</th>\n",
       "      <th>Porcentaje</th>\n",
       "    </tr>\n",
       "  </thead>\n",
       "  <tbody>\n",
       "    <tr>\n",
       "      <th>0</th>\n",
       "      <td>0.0</td>\n",
       "      <td>314,990</td>\n",
       "      <td>97.9</td>\n",
       "    </tr>\n",
       "    <tr>\n",
       "      <th>1</th>\n",
       "      <td>1.0</td>\n",
       "      <td>6,665</td>\n",
       "      <td>2.1</td>\n",
       "    </tr>\n",
       "    <tr>\n",
       "      <th>2</th>\n",
       "      <td>Total</td>\n",
       "      <td>321,655</td>\n",
       "      <td>100.0</td>\n",
       "    </tr>\n",
       "  </tbody>\n",
       "</table>\n",
       "</div>"
      ],
      "text/plain": [
       "  Mover Archivo Recuento Porcentaje\n",
       "0           0.0  314,990       97.9\n",
       "1           1.0    6,665        2.1\n",
       "2         Total  321,655      100.0"
      ]
     },
     "execution_count": 95,
     "metadata": {},
     "output_type": "execute_result"
    }
   ],
   "source": [
    "generar_tabla_recuento(base_filtrada, \"ai_otros\", \"Mover Archivo\",True,True) "
   ]
  },
  {
   "cell_type": "markdown",
   "id": "532b697c-e387-488e-999f-9ed4e649feb6",
   "metadata": {},
   "source": [
    "## CLASES A DISTANCIA"
   ]
  },
  {
   "cell_type": "code",
   "execution_count": 96,
   "id": "bd7bdb42-3e96-4887-a7b4-7cf7f7ef8213",
   "metadata": {},
   "outputs": [
    {
     "name": "stdout",
     "output_type": "stream",
     "text": [
      "Cantidad de valores nulos en 'mi_columna': 0\n"
     ]
    }
   ],
   "source": [
    "# Cuenta los valores nulos en la columna \"mi_columna\"\n",
    "nulos_en_columna = base_filtrada['cl_medio_tv'].isnull().sum()\n",
    "\n",
    "# Muestra el resultado\n",
    "print(\"Cantidad de valores nulos en 'mi_columna':\", nulos_en_columna)"
   ]
  },
  {
   "cell_type": "code",
   "execution_count": 97,
   "id": "6528ad5a-ab3b-4492-852e-c2304bf73de4",
   "metadata": {},
   "outputs": [
    {
     "data": {
      "text/html": [
       "<div>\n",
       "<style scoped>\n",
       "    .dataframe tbody tr th:only-of-type {\n",
       "        vertical-align: middle;\n",
       "    }\n",
       "\n",
       "    .dataframe tbody tr th {\n",
       "        vertical-align: top;\n",
       "    }\n",
       "\n",
       "    .dataframe thead th {\n",
       "        text-align: right;\n",
       "    }\n",
       "</style>\n",
       "<table border=\"1\" class=\"dataframe\">\n",
       "  <thead>\n",
       "    <tr style=\"text-align: right;\">\n",
       "      <th></th>\n",
       "      <th>Acceso al contenido de clase - TELEVISION</th>\n",
       "      <th>Recuento</th>\n",
       "      <th>Porcentaje</th>\n",
       "    </tr>\n",
       "  </thead>\n",
       "  <tbody>\n",
       "    <tr>\n",
       "      <th>0</th>\n",
       "      <td>0</td>\n",
       "      <td>3,458,342</td>\n",
       "      <td>59.1</td>\n",
       "    </tr>\n",
       "    <tr>\n",
       "      <th>1</th>\n",
       "      <td>1</td>\n",
       "      <td>2,389,103</td>\n",
       "      <td>40.9</td>\n",
       "    </tr>\n",
       "    <tr>\n",
       "      <th>2</th>\n",
       "      <td>Total</td>\n",
       "      <td>5,847,445</td>\n",
       "      <td>100.0</td>\n",
       "    </tr>\n",
       "  </tbody>\n",
       "</table>\n",
       "</div>"
      ],
      "text/plain": [
       "  Acceso al contenido de clase - TELEVISION   Recuento Porcentaje\n",
       "0                                         0  3,458,342       59.1\n",
       "1                                         1  2,389,103       40.9\n",
       "2                                     Total  5,847,445      100.0"
      ]
     },
     "execution_count": 97,
     "metadata": {},
     "output_type": "execute_result"
    }
   ],
   "source": [
    "generar_tabla_recuento(base_filtrada, \"cl_medio_tv\", \"Acceso al contenido de clase - TELEVISION\",True, True)"
   ]
  },
  {
   "cell_type": "code",
   "execution_count": 98,
   "id": "7e92479f-c2ca-4734-9600-0dd8fe444906",
   "metadata": {},
   "outputs": [
    {
     "data": {
      "text/html": [
       "<div>\n",
       "<style scoped>\n",
       "    .dataframe tbody tr th:only-of-type {\n",
       "        vertical-align: middle;\n",
       "    }\n",
       "\n",
       "    .dataframe tbody tr th {\n",
       "        vertical-align: top;\n",
       "    }\n",
       "\n",
       "    .dataframe thead th {\n",
       "        text-align: right;\n",
       "    }\n",
       "</style>\n",
       "<table border=\"1\" class=\"dataframe\">\n",
       "  <thead>\n",
       "    <tr style=\"text-align: right;\">\n",
       "      <th></th>\n",
       "      <th>Acceso al contenido de clase - RADIO</th>\n",
       "      <th>Recuento</th>\n",
       "      <th>Porcentaje</th>\n",
       "    </tr>\n",
       "  </thead>\n",
       "  <tbody>\n",
       "    <tr>\n",
       "      <th>0</th>\n",
       "      <td>0</td>\n",
       "      <td>4,958,425</td>\n",
       "      <td>84.8</td>\n",
       "    </tr>\n",
       "    <tr>\n",
       "      <th>1</th>\n",
       "      <td>1</td>\n",
       "      <td>889,020</td>\n",
       "      <td>15.2</td>\n",
       "    </tr>\n",
       "    <tr>\n",
       "      <th>2</th>\n",
       "      <td>Total</td>\n",
       "      <td>5,847,445</td>\n",
       "      <td>100.0</td>\n",
       "    </tr>\n",
       "  </tbody>\n",
       "</table>\n",
       "</div>"
      ],
      "text/plain": [
       "  Acceso al contenido de clase - RADIO   Recuento Porcentaje\n",
       "0                                    0  4,958,425       84.8\n",
       "1                                    1    889,020       15.2\n",
       "2                                Total  5,847,445      100.0"
      ]
     },
     "execution_count": 98,
     "metadata": {},
     "output_type": "execute_result"
    }
   ],
   "source": [
    "generar_tabla_recuento(base_filtrada, \"cl_medio_radio\", \"Acceso al contenido de clase - RADIO\",True, True)"
   ]
  },
  {
   "cell_type": "code",
   "execution_count": 99,
   "id": "2893333d-daa9-4f54-b4ae-dc95171f9d20",
   "metadata": {},
   "outputs": [
    {
     "data": {
      "text/html": [
       "<div>\n",
       "<style scoped>\n",
       "    .dataframe tbody tr th:only-of-type {\n",
       "        vertical-align: middle;\n",
       "    }\n",
       "\n",
       "    .dataframe tbody tr th {\n",
       "        vertical-align: top;\n",
       "    }\n",
       "\n",
       "    .dataframe thead th {\n",
       "        text-align: right;\n",
       "    }\n",
       "</style>\n",
       "<table border=\"1\" class=\"dataframe\">\n",
       "  <thead>\n",
       "    <tr style=\"text-align: right;\">\n",
       "      <th></th>\n",
       "      <th>Acceso al contenido de clase - PLATAFORMA VIRTUAL</th>\n",
       "      <th>Recuento</th>\n",
       "      <th>Porcentaje</th>\n",
       "    </tr>\n",
       "  </thead>\n",
       "  <tbody>\n",
       "    <tr>\n",
       "      <th>0</th>\n",
       "      <td>0</td>\n",
       "      <td>4,204,394</td>\n",
       "      <td>71.9</td>\n",
       "    </tr>\n",
       "    <tr>\n",
       "      <th>1</th>\n",
       "      <td>1</td>\n",
       "      <td>1,643,051</td>\n",
       "      <td>28.1</td>\n",
       "    </tr>\n",
       "    <tr>\n",
       "      <th>2</th>\n",
       "      <td>Total</td>\n",
       "      <td>5,847,445</td>\n",
       "      <td>100.0</td>\n",
       "    </tr>\n",
       "  </tbody>\n",
       "</table>\n",
       "</div>"
      ],
      "text/plain": [
       "  Acceso al contenido de clase - PLATAFORMA VIRTUAL   Recuento Porcentaje\n",
       "0                                                 0  4,204,394       71.9\n",
       "1                                                 1  1,643,051       28.1\n",
       "2                                             Total  5,847,445      100.0"
      ]
     },
     "execution_count": 99,
     "metadata": {},
     "output_type": "execute_result"
    }
   ],
   "source": [
    "generar_tabla_recuento(base_filtrada, \"cl_medio_plataforma_virtual\", \"Acceso al contenido de clase - PLATAFORMA VIRTUAL\",True,True)"
   ]
  },
  {
   "cell_type": "code",
   "execution_count": 100,
   "id": "20e720c9-4b89-48f9-bd6b-8d241d797d62",
   "metadata": {},
   "outputs": [
    {
     "data": {
      "text/html": [
       "<div>\n",
       "<style scoped>\n",
       "    .dataframe tbody tr th:only-of-type {\n",
       "        vertical-align: middle;\n",
       "    }\n",
       "\n",
       "    .dataframe tbody tr th {\n",
       "        vertical-align: top;\n",
       "    }\n",
       "\n",
       "    .dataframe thead th {\n",
       "        text-align: right;\n",
       "    }\n",
       "</style>\n",
       "<table border=\"1\" class=\"dataframe\">\n",
       "  <thead>\n",
       "    <tr style=\"text-align: right;\">\n",
       "      <th></th>\n",
       "      <th>Acceso al contenido de clase - OTRO</th>\n",
       "      <th>Recuento</th>\n",
       "      <th>Porcentaje</th>\n",
       "    </tr>\n",
       "  </thead>\n",
       "  <tbody>\n",
       "    <tr>\n",
       "      <th>0</th>\n",
       "      <td>0</td>\n",
       "      <td>5,746,274</td>\n",
       "      <td>98.3</td>\n",
       "    </tr>\n",
       "    <tr>\n",
       "      <th>1</th>\n",
       "      <td>1</td>\n",
       "      <td>101,171</td>\n",
       "      <td>1.7</td>\n",
       "    </tr>\n",
       "    <tr>\n",
       "      <th>2</th>\n",
       "      <td>Total</td>\n",
       "      <td>5,847,445</td>\n",
       "      <td>100.0</td>\n",
       "    </tr>\n",
       "  </tbody>\n",
       "</table>\n",
       "</div>"
      ],
      "text/plain": [
       "  Acceso al contenido de clase - OTRO   Recuento Porcentaje\n",
       "0                                   0  5,746,274       98.3\n",
       "1                                   1    101,171        1.7\n",
       "2                               Total  5,847,445      100.0"
      ]
     },
     "execution_count": 100,
     "metadata": {},
     "output_type": "execute_result"
    }
   ],
   "source": [
    "generar_tabla_recuento(base_filtrada, \"cl_medio_otro\", \"Acceso al contenido de clase - OTRO\",True,True)"
   ]
  },
  {
   "cell_type": "code",
   "execution_count": 101,
   "id": "a3f88688-185a-4f61-b092-b1adca569bec",
   "metadata": {},
   "outputs": [
    {
     "data": {
      "text/html": [
       "<div>\n",
       "<style scoped>\n",
       "    .dataframe tbody tr th:only-of-type {\n",
       "        vertical-align: middle;\n",
       "    }\n",
       "\n",
       "    .dataframe tbody tr th {\n",
       "        vertical-align: top;\n",
       "    }\n",
       "\n",
       "    .dataframe thead th {\n",
       "        text-align: right;\n",
       "    }\n",
       "</style>\n",
       "<table border=\"1\" class=\"dataframe\">\n",
       "  <thead>\n",
       "    <tr style=\"text-align: right;\">\n",
       "      <th></th>\n",
       "      <th>Acceso al contenido de clase - WHATSAPP</th>\n",
       "      <th>Recuento</th>\n",
       "      <th>Porcentaje</th>\n",
       "    </tr>\n",
       "  </thead>\n",
       "  <tbody>\n",
       "    <tr>\n",
       "      <th>0</th>\n",
       "      <td>0</td>\n",
       "      <td>2,495,447</td>\n",
       "      <td>42.7</td>\n",
       "    </tr>\n",
       "    <tr>\n",
       "      <th>1</th>\n",
       "      <td>1</td>\n",
       "      <td>3,351,998</td>\n",
       "      <td>57.3</td>\n",
       "    </tr>\n",
       "    <tr>\n",
       "      <th>2</th>\n",
       "      <td>Total</td>\n",
       "      <td>5,847,445</td>\n",
       "      <td>100.0</td>\n",
       "    </tr>\n",
       "  </tbody>\n",
       "</table>\n",
       "</div>"
      ],
      "text/plain": [
       "  Acceso al contenido de clase - WHATSAPP   Recuento Porcentaje\n",
       "0                                       0  2,495,447       42.7\n",
       "1                                       1  3,351,998       57.3\n",
       "2                                   Total  5,847,445      100.0"
      ]
     },
     "execution_count": 101,
     "metadata": {},
     "output_type": "execute_result"
    }
   ],
   "source": [
    "generar_tabla_recuento(base_filtrada, \"cl_medio_wsp\", \"Acceso al contenido de clase - WHATSAPP\",True,True)"
   ]
  },
  {
   "cell_type": "code",
   "execution_count": 102,
   "id": "3bb15878-e20d-4c18-8a25-6522174e0ff1",
   "metadata": {},
   "outputs": [
    {
     "data": {
      "text/html": [
       "<div>\n",
       "<style scoped>\n",
       "    .dataframe tbody tr th:only-of-type {\n",
       "        vertical-align: middle;\n",
       "    }\n",
       "\n",
       "    .dataframe tbody tr th {\n",
       "        vertical-align: top;\n",
       "    }\n",
       "\n",
       "    .dataframe thead th {\n",
       "        text-align: right;\n",
       "    }\n",
       "</style>\n",
       "<table border=\"1\" class=\"dataframe\">\n",
       "  <thead>\n",
       "    <tr style=\"text-align: right;\">\n",
       "      <th></th>\n",
       "      <th>Acceso al contenido de clase - CORREO</th>\n",
       "      <th>Recuento</th>\n",
       "      <th>Porcentaje</th>\n",
       "    </tr>\n",
       "  </thead>\n",
       "  <tbody>\n",
       "    <tr>\n",
       "      <th>0</th>\n",
       "      <td>0</td>\n",
       "      <td>5,669,599</td>\n",
       "      <td>97.0</td>\n",
       "    </tr>\n",
       "    <tr>\n",
       "      <th>1</th>\n",
       "      <td>1</td>\n",
       "      <td>177,846</td>\n",
       "      <td>3.0</td>\n",
       "    </tr>\n",
       "    <tr>\n",
       "      <th>2</th>\n",
       "      <td>Total</td>\n",
       "      <td>5,847,445</td>\n",
       "      <td>100.0</td>\n",
       "    </tr>\n",
       "  </tbody>\n",
       "</table>\n",
       "</div>"
      ],
      "text/plain": [
       "  Acceso al contenido de clase - CORREO   Recuento Porcentaje\n",
       "0                                     0  5,669,599       97.0\n",
       "1                                     1    177,846        3.0\n",
       "2                                 Total  5,847,445      100.0"
      ]
     },
     "execution_count": 102,
     "metadata": {},
     "output_type": "execute_result"
    }
   ],
   "source": [
    "generar_tabla_recuento(base_filtrada, \"cl_medio_correo\", \"Acceso al contenido de clase - CORREO\",True,True)"
   ]
  },
  {
   "cell_type": "code",
   "execution_count": 103,
   "id": "fd0b0a9f-9e7c-4cd8-b05a-70f5a6144fed",
   "metadata": {},
   "outputs": [
    {
     "data": {
      "text/html": [
       "<div>\n",
       "<style scoped>\n",
       "    .dataframe tbody tr th:only-of-type {\n",
       "        vertical-align: middle;\n",
       "    }\n",
       "\n",
       "    .dataframe tbody tr th {\n",
       "        vertical-align: top;\n",
       "    }\n",
       "\n",
       "    .dataframe thead th {\n",
       "        text-align: right;\n",
       "    }\n",
       "</style>\n",
       "<table border=\"1\" class=\"dataframe\">\n",
       "  <thead>\n",
       "    <tr style=\"text-align: right;\">\n",
       "      <th></th>\n",
       "      <th>Acceso al contenido de clase - LLAMADAS</th>\n",
       "      <th>Recuento</th>\n",
       "      <th>Porcentaje</th>\n",
       "    </tr>\n",
       "  </thead>\n",
       "  <tbody>\n",
       "    <tr>\n",
       "      <th>0</th>\n",
       "      <td>0</td>\n",
       "      <td>4,389,976</td>\n",
       "      <td>75.1</td>\n",
       "    </tr>\n",
       "    <tr>\n",
       "      <th>1</th>\n",
       "      <td>1</td>\n",
       "      <td>1,457,469</td>\n",
       "      <td>24.9</td>\n",
       "    </tr>\n",
       "    <tr>\n",
       "      <th>2</th>\n",
       "      <td>Total</td>\n",
       "      <td>5,847,445</td>\n",
       "      <td>100.0</td>\n",
       "    </tr>\n",
       "  </tbody>\n",
       "</table>\n",
       "</div>"
      ],
      "text/plain": [
       "  Acceso al contenido de clase - LLAMADAS   Recuento Porcentaje\n",
       "0                                       0  4,389,976       75.1\n",
       "1                                       1  1,457,469       24.9\n",
       "2                                   Total  5,847,445      100.0"
      ]
     },
     "execution_count": 103,
     "metadata": {},
     "output_type": "execute_result"
    }
   ],
   "source": [
    "generar_tabla_recuento(base_filtrada, \"cl_medio_llamadas\", \"Acceso al contenido de clase - LLAMADAS\",True,True)"
   ]
  },
  {
   "cell_type": "code",
   "execution_count": 104,
   "id": "427d5088-d4f2-4d66-9f2c-c69c9dc373da",
   "metadata": {},
   "outputs": [
    {
     "data": {
      "text/html": [
       "<div>\n",
       "<style scoped>\n",
       "    .dataframe tbody tr th:only-of-type {\n",
       "        vertical-align: middle;\n",
       "    }\n",
       "\n",
       "    .dataframe tbody tr th {\n",
       "        vertical-align: top;\n",
       "    }\n",
       "\n",
       "    .dataframe thead th {\n",
       "        text-align: right;\n",
       "    }\n",
       "</style>\n",
       "<table border=\"1\" class=\"dataframe\">\n",
       "  <thead>\n",
       "    <tr style=\"text-align: right;\">\n",
       "      <th></th>\n",
       "      <th>Acceso al contenido de clase - INTERACCION PROFESOR</th>\n",
       "      <th>Recuento</th>\n",
       "      <th>Porcentaje</th>\n",
       "    </tr>\n",
       "  </thead>\n",
       "  <tbody>\n",
       "    <tr>\n",
       "      <th>0</th>\n",
       "      <td>0</td>\n",
       "      <td>2,682,450</td>\n",
       "      <td>45.9</td>\n",
       "    </tr>\n",
       "    <tr>\n",
       "      <th>1</th>\n",
       "      <td>1</td>\n",
       "      <td>3,164,995</td>\n",
       "      <td>54.1</td>\n",
       "    </tr>\n",
       "    <tr>\n",
       "      <th>2</th>\n",
       "      <td>Total</td>\n",
       "      <td>5,847,445</td>\n",
       "      <td>100.0</td>\n",
       "    </tr>\n",
       "  </tbody>\n",
       "</table>\n",
       "</div>"
      ],
      "text/plain": [
       "  Acceso al contenido de clase - INTERACCION PROFESOR   Recuento Porcentaje\n",
       "0                                                  0   2,682,450       45.9\n",
       "1                                                  1   3,164,995       54.1\n",
       "2                                              Total   5,847,445      100.0"
      ]
     },
     "execution_count": 104,
     "metadata": {},
     "output_type": "execute_result"
    }
   ],
   "source": [
    "generar_tabla_recuento(base_filtrada, \"cl_desarrollo_interaccion\", \"Acceso al contenido de clase - INTERACCION PROFESOR\",True,True)"
   ]
  },
  {
   "cell_type": "code",
   "execution_count": 105,
   "id": "515bd9ad-1bda-441b-96d6-9e7b6878dce2",
   "metadata": {},
   "outputs": [
    {
     "data": {
      "text/html": [
       "<div>\n",
       "<style scoped>\n",
       "    .dataframe tbody tr th:only-of-type {\n",
       "        vertical-align: middle;\n",
       "    }\n",
       "\n",
       "    .dataframe tbody tr th {\n",
       "        vertical-align: top;\n",
       "    }\n",
       "\n",
       "    .dataframe thead th {\n",
       "        text-align: right;\n",
       "    }\n",
       "</style>\n",
       "<table border=\"1\" class=\"dataframe\">\n",
       "  <thead>\n",
       "    <tr style=\"text-align: right;\">\n",
       "      <th></th>\n",
       "      <th>Acceso al contenido de clase - VIDEOS</th>\n",
       "      <th>Recuento</th>\n",
       "      <th>Porcentaje</th>\n",
       "    </tr>\n",
       "  </thead>\n",
       "  <tbody>\n",
       "    <tr>\n",
       "      <th>0</th>\n",
       "      <td>0</td>\n",
       "      <td>2,971,152</td>\n",
       "      <td>50.8</td>\n",
       "    </tr>\n",
       "    <tr>\n",
       "      <th>1</th>\n",
       "      <td>1</td>\n",
       "      <td>2,876,293</td>\n",
       "      <td>49.2</td>\n",
       "    </tr>\n",
       "    <tr>\n",
       "      <th>2</th>\n",
       "      <td>Total</td>\n",
       "      <td>5,847,445</td>\n",
       "      <td>100.0</td>\n",
       "    </tr>\n",
       "  </tbody>\n",
       "</table>\n",
       "</div>"
      ],
      "text/plain": [
       "  Acceso al contenido de clase - VIDEOS   Recuento Porcentaje\n",
       "0                                     0  2,971,152       50.8\n",
       "1                                     1  2,876,293       49.2\n",
       "2                                 Total  5,847,445      100.0"
      ]
     },
     "execution_count": 105,
     "metadata": {},
     "output_type": "execute_result"
    }
   ],
   "source": [
    "generar_tabla_recuento(base_filtrada, \"cl_desarrollo_videos\", \"Acceso al contenido de clase - VIDEOS\",True,True)"
   ]
  },
  {
   "cell_type": "code",
   "execution_count": 106,
   "id": "93ef428c-d602-469d-85d3-5b3ea8dd6134",
   "metadata": {},
   "outputs": [
    {
     "data": {
      "text/html": [
       "<div>\n",
       "<style scoped>\n",
       "    .dataframe tbody tr th:only-of-type {\n",
       "        vertical-align: middle;\n",
       "    }\n",
       "\n",
       "    .dataframe tbody tr th {\n",
       "        vertical-align: top;\n",
       "    }\n",
       "\n",
       "    .dataframe thead th {\n",
       "        text-align: right;\n",
       "    }\n",
       "</style>\n",
       "<table border=\"1\" class=\"dataframe\">\n",
       "  <thead>\n",
       "    <tr style=\"text-align: right;\">\n",
       "      <th></th>\n",
       "      <th>Acceso al contenido de clase - DOCUMENTOS</th>\n",
       "      <th>Recuento</th>\n",
       "      <th>Porcentaje</th>\n",
       "    </tr>\n",
       "  </thead>\n",
       "  <tbody>\n",
       "    <tr>\n",
       "      <th>0</th>\n",
       "      <td>0</td>\n",
       "      <td>2,023,520</td>\n",
       "      <td>34.6</td>\n",
       "    </tr>\n",
       "    <tr>\n",
       "      <th>1</th>\n",
       "      <td>1</td>\n",
       "      <td>3,823,925</td>\n",
       "      <td>65.4</td>\n",
       "    </tr>\n",
       "    <tr>\n",
       "      <th>2</th>\n",
       "      <td>Total</td>\n",
       "      <td>5,847,445</td>\n",
       "      <td>100.0</td>\n",
       "    </tr>\n",
       "  </tbody>\n",
       "</table>\n",
       "</div>"
      ],
      "text/plain": [
       "  Acceso al contenido de clase - DOCUMENTOS   Recuento Porcentaje\n",
       "0                                         0  2,023,520       34.6\n",
       "1                                         1  3,823,925       65.4\n",
       "2                                     Total  5,847,445      100.0"
      ]
     },
     "execution_count": 106,
     "metadata": {},
     "output_type": "execute_result"
    }
   ],
   "source": [
    "generar_tabla_recuento(base_filtrada, \"cl_desarrollo_documentos\", \"Acceso al contenido de clase - DOCUMENTOS\",True,True)"
   ]
  },
  {
   "cell_type": "code",
   "execution_count": 107,
   "id": "36785174-deff-494c-acd8-622e9d64c784",
   "metadata": {},
   "outputs": [
    {
     "data": {
      "text/html": [
       "<div>\n",
       "<style scoped>\n",
       "    .dataframe tbody tr th:only-of-type {\n",
       "        vertical-align: middle;\n",
       "    }\n",
       "\n",
       "    .dataframe tbody tr th {\n",
       "        vertical-align: top;\n",
       "    }\n",
       "\n",
       "    .dataframe thead th {\n",
       "        text-align: right;\n",
       "    }\n",
       "</style>\n",
       "<table border=\"1\" class=\"dataframe\">\n",
       "  <thead>\n",
       "    <tr style=\"text-align: right;\">\n",
       "      <th></th>\n",
       "      <th>Acceso al contenido de clase - OTROS</th>\n",
       "      <th>Recuento</th>\n",
       "      <th>Porcentaje</th>\n",
       "    </tr>\n",
       "  </thead>\n",
       "  <tbody>\n",
       "    <tr>\n",
       "      <th>0</th>\n",
       "      <td>0</td>\n",
       "      <td>5,822,660</td>\n",
       "      <td>99.6</td>\n",
       "    </tr>\n",
       "    <tr>\n",
       "      <th>1</th>\n",
       "      <td>1</td>\n",
       "      <td>24,785</td>\n",
       "      <td>0.4</td>\n",
       "    </tr>\n",
       "    <tr>\n",
       "      <th>2</th>\n",
       "      <td>Total</td>\n",
       "      <td>5,847,445</td>\n",
       "      <td>100.0</td>\n",
       "    </tr>\n",
       "  </tbody>\n",
       "</table>\n",
       "</div>"
      ],
      "text/plain": [
       "  Acceso al contenido de clase - OTROS   Recuento Porcentaje\n",
       "0                                    0  5,822,660       99.6\n",
       "1                                    1     24,785        0.4\n",
       "2                                Total  5,847,445      100.0"
      ]
     },
     "execution_count": 107,
     "metadata": {},
     "output_type": "execute_result"
    }
   ],
   "source": [
    "generar_tabla_recuento(base_filtrada, \"cl_desarrollo_otros\", \"Acceso al contenido de clase - OTROS\",True,True)"
   ]
  },
  {
   "cell_type": "code",
   "execution_count": 108,
   "id": "282f9864-e1eb-4214-90fd-799d59053aaf",
   "metadata": {},
   "outputs": [
    {
     "data": {
      "text/html": [
       "<div>\n",
       "<style scoped>\n",
       "    .dataframe tbody tr th:only-of-type {\n",
       "        vertical-align: middle;\n",
       "    }\n",
       "\n",
       "    .dataframe tbody tr th {\n",
       "        vertical-align: top;\n",
       "    }\n",
       "\n",
       "    .dataframe thead th {\n",
       "        text-align: right;\n",
       "    }\n",
       "</style>\n",
       "<table border=\"1\" class=\"dataframe\">\n",
       "  <thead>\n",
       "    <tr style=\"text-align: right;\">\n",
       "      <th></th>\n",
       "      <th>Acceso al contenido de clase - MENSAJES DE AUDIO</th>\n",
       "      <th>Recuento</th>\n",
       "      <th>Porcentaje</th>\n",
       "    </tr>\n",
       "  </thead>\n",
       "  <tbody>\n",
       "    <tr>\n",
       "      <th>0</th>\n",
       "      <td>0</td>\n",
       "      <td>3,930,057</td>\n",
       "      <td>67.2</td>\n",
       "    </tr>\n",
       "    <tr>\n",
       "      <th>1</th>\n",
       "      <td>1</td>\n",
       "      <td>1,917,388</td>\n",
       "      <td>32.8</td>\n",
       "    </tr>\n",
       "    <tr>\n",
       "      <th>2</th>\n",
       "      <td>Total</td>\n",
       "      <td>5,847,445</td>\n",
       "      <td>100.0</td>\n",
       "    </tr>\n",
       "  </tbody>\n",
       "</table>\n",
       "</div>"
      ],
      "text/plain": [
       "  Acceso al contenido de clase - MENSAJES DE AUDIO   Recuento Porcentaje\n",
       "0                                                0  3,930,057       67.2\n",
       "1                                                1  1,917,388       32.8\n",
       "2                                            Total  5,847,445      100.0"
      ]
     },
     "execution_count": 108,
     "metadata": {},
     "output_type": "execute_result"
    }
   ],
   "source": [
    "generar_tabla_recuento(base_filtrada, \"cl_desarrollo_msm_audio\", \"Acceso al contenido de clase - MENSAJES DE AUDIO\",True,True)"
   ]
  },
  {
   "cell_type": "code",
   "execution_count": 109,
   "id": "942ae27d-d475-4c15-a7d9-a386e01eeab2",
   "metadata": {},
   "outputs": [
    {
     "data": {
      "text/html": [
       "<div>\n",
       "<style scoped>\n",
       "    .dataframe tbody tr th:only-of-type {\n",
       "        vertical-align: middle;\n",
       "    }\n",
       "\n",
       "    .dataframe tbody tr th {\n",
       "        vertical-align: top;\n",
       "    }\n",
       "\n",
       "    .dataframe thead th {\n",
       "        text-align: right;\n",
       "    }\n",
       "</style>\n",
       "<table border=\"1\" class=\"dataframe\">\n",
       "  <thead>\n",
       "    <tr style=\"text-align: right;\">\n",
       "      <th></th>\n",
       "      <th>Acceso al contenido de clase - MENSAJES DE TEXTO</th>\n",
       "      <th>Recuento</th>\n",
       "      <th>Porcentaje</th>\n",
       "    </tr>\n",
       "  </thead>\n",
       "  <tbody>\n",
       "    <tr>\n",
       "      <th>0</th>\n",
       "      <td>0</td>\n",
       "      <td>4,149,819</td>\n",
       "      <td>71.0</td>\n",
       "    </tr>\n",
       "    <tr>\n",
       "      <th>1</th>\n",
       "      <td>1</td>\n",
       "      <td>1,697,626</td>\n",
       "      <td>29.0</td>\n",
       "    </tr>\n",
       "    <tr>\n",
       "      <th>2</th>\n",
       "      <td>Total</td>\n",
       "      <td>5,847,445</td>\n",
       "      <td>100.0</td>\n",
       "    </tr>\n",
       "  </tbody>\n",
       "</table>\n",
       "</div>"
      ],
      "text/plain": [
       "  Acceso al contenido de clase - MENSAJES DE TEXTO   Recuento Porcentaje\n",
       "0                                                0  4,149,819       71.0\n",
       "1                                                1  1,697,626       29.0\n",
       "2                                            Total  5,847,445      100.0"
      ]
     },
     "execution_count": 109,
     "metadata": {},
     "output_type": "execute_result"
    }
   ],
   "source": [
    "generar_tabla_recuento(base_filtrada, \"cl_desarrollo_msm_texto\", \"Acceso al contenido de clase - MENSAJES DE TEXTO\",True,True)"
   ]
  },
  {
   "cell_type": "code",
   "execution_count": 110,
   "id": "27e01923-6227-49b8-a1d3-9f3b941f8125",
   "metadata": {},
   "outputs": [
    {
     "data": {
      "text/html": [
       "<div>\n",
       "<style scoped>\n",
       "    .dataframe tbody tr th:only-of-type {\n",
       "        vertical-align: middle;\n",
       "    }\n",
       "\n",
       "    .dataframe tbody tr th {\n",
       "        vertical-align: top;\n",
       "    }\n",
       "\n",
       "    .dataframe thead th {\n",
       "        text-align: right;\n",
       "    }\n",
       "</style>\n",
       "<table border=\"1\" class=\"dataframe\">\n",
       "  <thead>\n",
       "    <tr style=\"text-align: right;\">\n",
       "      <th></th>\n",
       "      <th>Acceso al contenido de clase - SIN ACOMPAÑAMIENTO</th>\n",
       "      <th>Recuento</th>\n",
       "      <th>Porcentaje</th>\n",
       "    </tr>\n",
       "  </thead>\n",
       "  <tbody>\n",
       "    <tr>\n",
       "      <th>0</th>\n",
       "      <td>0</td>\n",
       "      <td>5,716,133</td>\n",
       "      <td>97.8</td>\n",
       "    </tr>\n",
       "    <tr>\n",
       "      <th>1</th>\n",
       "      <td>1</td>\n",
       "      <td>131,312</td>\n",
       "      <td>2.2</td>\n",
       "    </tr>\n",
       "    <tr>\n",
       "      <th>2</th>\n",
       "      <td>Total</td>\n",
       "      <td>5,847,445</td>\n",
       "      <td>100.0</td>\n",
       "    </tr>\n",
       "  </tbody>\n",
       "</table>\n",
       "</div>"
      ],
      "text/plain": [
       "  Acceso al contenido de clase - SIN ACOMPAÑAMIENTO   Recuento Porcentaje\n",
       "0                                                 0  5,716,133       97.8\n",
       "1                                                 1    131,312        2.2\n",
       "2                                             Total  5,847,445      100.0"
      ]
     },
     "execution_count": 110,
     "metadata": {},
     "output_type": "execute_result"
    }
   ],
   "source": [
    "generar_tabla_recuento(base_filtrada, \"cl_desarrollo_sin_acompañamiento\", \"Acceso al contenido de clase - SIN ACOMPAÑAMIENTO\",True,True)"
   ]
  },
  {
   "cell_type": "markdown",
   "id": "932f9ef0",
   "metadata": {
    "tags": []
   },
   "source": [
    "# Graficos"
   ]
  },
  {
   "cell_type": "markdown",
   "id": "7f1c9903-3f4b-407f-a70e-cfe030d6072f",
   "metadata": {},
   "source": [
    "## V. Continuas - Miembros por hogar y Edad"
   ]
  },
  {
   "cell_type": "code",
   "execution_count": 111,
   "id": "f2079caf",
   "metadata": {},
   "outputs": [
    {
     "data": {
      "image/png": "[encoded data removed]",
      "text/plain": [
       "<Figure size 640x480 with 1 Axes>"
      ]
     },
     "metadata": {},
     "output_type": "display_data"
    }
   ],
   "source": [
    "guardar_histograma_con_pesos(base_filtrada, 'mieperho','Miembros por hogar', 21)"
   ]
  },
  {
   "cell_type": "code",
   "execution_count": 112,
   "id": "0948067c",
   "metadata": {},
   "outputs": [
    {
     "data": {
      "image/png": "[encoded data removed]",
      "text/plain": [
       "<Figure size 640x480 with 1 Axes>"
      ]
     },
     "metadata": {},
     "output_type": "display_data"
    }
   ],
   "source": [
    "guardar_histograma_con_pesos(base_filtrada, 'Edad','Edad',12)"
   ]
  },
  {
   "cell_type": "code",
   "execution_count": 113,
   "id": "009a87f9-1bef-4c42-ad22-ab589da18343",
   "metadata": {},
   "outputs": [
    {
     "data": {
      "image/png": "[encoded data removed]",
      "text/plain": [
       "<Figure size 640x480 with 1 Axes>"
      ]
     },
     "metadata": {},
     "output_type": "display_data"
    }
   ],
   "source": [
    "guardar_histograma_con_pesos(base_filtrada, 'años_escolaridad','Años de escolaridad', 11)"
   ]
  },
  {
   "cell_type": "markdown",
   "id": "fb9ef9bf-e2e2-4a30-bf7c-27ca26af6c8a",
   "metadata": {
    "tags": []
   },
   "source": [
    "## V. Cualitativas - Nivel educativo y centro de estudios"
   ]
  },
  {
   "cell_type": "markdown",
   "id": "a96b93fa-2a9a-4535-accb-c7015c49c115",
   "metadata": {
    "tags": []
   },
   "source": [
    "### Func. Graf de barras"
   ]
  },
  {
   "cell_type": "raw",
   "id": "4c30f4d1-6353-4141-9850-8f26db9c51c9",
   "metadata": {},
   "source": [
    "def guardar_graf_barras(columna_categorica, labels):\n",
    "    # Crear una paleta de colores personalizada para las categorías\n",
    "    num_categories = len(labels)\n",
    "    custom_palette = [\"#4c72b0\",\"#dd8452\",\"#55a868\",\"#c44e52\",\"#8172b3\",\"#937860\", \"#da8bc3\",\"#8c8c8c\",\"#ccb974\",\"#64b5cd\",\"#808000\",\"#000080\",\"#006400\",\"#808000\",\n",
    "        \"#669966\",\"#007777\", \"#000080\", \"#00008B\", \"#6699CC\", \"#ADD8E6\",\"#8B0000\", \"#A52A2A\", \"#800000\", \"#D2691E\", \"#FFD700\",'#4c72b0'][:num_categories]\n",
    "\n",
    "    # Crear el gráfico de barras\n",
    "    ax = sns.barplot(x=columna_categorica, y='factor07', data=base_filtrada, estimator=sum, ci=None, palette=custom_palette)\n",
    "\n",
    "    # Etiquetar las barras con los porcentajes\n",
    "    total = base_filtrada['factor07'].sum()\n",
    "    for p in ax.patches:\n",
    "        height = p.get_height()\n",
    "        ax.annotate(f'{(height/total)*100:.0f}%', (p.get_x() + p.get_width() / 2., height), ha='center', va='bottom')\n",
    "\n",
    "    # Generar el nombre del archivo de imagen basado en el nombre de la columna\n",
    "    nombre_archivo = f'estadistico_{columna_categorica}.png'\n",
    "\n",
    "    # Eliminar etiquetas y marcas del eje y\n",
    "    ax.set_yticks([])\n",
    "    ax.set_yticklabels([])\n",
    "\n",
    "    # Etiquetas y título\n",
    "    plt.xlabel('')\n",
    "    plt.ylabel('')\n",
    "    plt.title(f'Porcentaje de estudiante por {columna_categorica}')\n",
    "    \n",
    "    # Especificar el número de columnas en la leyenda (en este caso, 2 columnas)\n",
    "    ncol = 2\n",
    "    \n",
    "    # Reducir el tamaño de fuente de la leyenda\n",
    "    handles = [plt.Rectangle((0,0),1,1, color=col) for col in custom_palette[:len(labels)]]\n",
    "    plt.legend(handles, labels, title='Leyenda', loc='upper left', fontsize=8, bbox_to_anchor=(1, 1), ncol=ncol)\n",
    "    \n",
    "    # Eliminar los spines derecho y superior\n",
    "    ax.spines['right'].set_visible(False)\n",
    "    ax.spines['top'].set_visible(False)\n",
    "    ax.spines['left'].set_visible(False)\n",
    "\n",
    "    # Guardar la imagen en la ruta especificada\n",
    "    ruta_guardado = '../output/images/' + nombre_archivo\n",
    "    plt.savefig(ruta_guardado, bbox_inches='tight')\n",
    "\n",
    "    # Mostrar el gráfico\n",
    "    plt.show() # 13.10.2023"
   ]
  },
  {
   "cell_type": "markdown",
   "id": "3d508358-0066-4bc7-b6cc-f38da708e930",
   "metadata": {},
   "source": [
    "## Nivel educativo y centro de estudios"
   ]
  },
  {
   "cell_type": "code",
   "execution_count": null,
   "id": "49ea3f1d-4161-4e15-b5f5-b72e0f49aa48",
   "metadata": {},
   "outputs": [],
   "source": []
  },
  {
   "cell_type": "code",
   "execution_count": 114,
   "id": "fcc7d0e4-f257-4059-b15a-545f269694ad",
   "metadata": {},
   "outputs": [],
   "source": [
    "base_filtrada_ = base_filtrada.copy()"
   ]
  },
  {
   "cell_type": "code",
   "execution_count": 115,
   "id": "8ae35db1-a803-4210-90c2-acf2db0327be",
   "metadata": {},
   "outputs": [],
   "source": [
    "def guardar_graf_barras(columna_categorica, diccionario):\n",
    "    #base_filtrada_ = base_filtrada.copy()\n",
    "    num_categories = base_filtrada_[columna_categorica].nunique()\n",
    "    #custom_palette = [\"#4c72b0\", \"#dd8452\", \"#55a868\", \"#c44e52\", \"#8172b3\", \"#937860\"][:num_categories]\n",
    "    custom_palette = [\"#4c72b0\", \"#999999\", \"#55a868\", \"#c44e52\", \"#8172b3\", \"#937860\"][:num_categories]\n",
    "\n",
    "    # Mapear las etiquetas del diccionario a las categorías en el DataFrame\n",
    "    base_filtrada_[columna_categorica] = base_filtrada_[columna_categorica].map(diccionario)\n",
    "\n",
    "    # Crear el gráfico de barras\n",
    "    ax = sns.barplot(x=columna_categorica, y='factor07', data=base_filtrada_, estimator=sum, ci=None, palette=custom_palette)\n",
    "\n",
    "    # Etiquetar las barras con los porcentajes\n",
    "    total = base_filtrada_['factor07'].sum()\n",
    "    for p in ax.patches:\n",
    "        height = p.get_height()\n",
    "        ax.annotate(f'{(height/total)*100:.0f}%', (p.get_x() + p.get_width() / 2., height), ha='center', va='bottom')\n",
    "\n",
    "    # Generar el nombre del archivo de imagen basado en el nombre de la columna\n",
    "    nombre_archivo = f'estadistico_{columna_categorica}.png'\n",
    "\n",
    "    # Eliminar etiquetas y marcas del eje y\n",
    "    ax.set_yticks([])\n",
    "    ax.set_yticklabels([])\n",
    "\n",
    "    # Etiquetas y título\n",
    "    plt.xlabel('')\n",
    "    plt.ylabel('')\n",
    "    plt.title(f'Porcentaje de estudiante por {columna_categorica}')\n",
    "\n",
    "    # Especificar el número de columnas en la leyenda (en este caso, 2 columnas)\n",
    "    ncol = 2\n",
    "\n",
    "    # Reducir el tamaño de fuente de la leyenda\n",
    "    handles = [plt.Rectangle((0, 0), 1, 1, color=col) for col in custom_palette[:num_categories]]\n",
    "    labels = [diccionario[key] for key in diccionario if key in base_filtrada_[columna_categorica].unique()]\n",
    "\n",
    "    # Eliminar los spines derecho y superior\n",
    "    ax.spines['right'].set_visible(False)\n",
    "    ax.spines['top'].set_visible(False)\n",
    "    ax.spines['left'].set_visible(False)\n",
    "\n",
    "    # Guardar la imagen en la ruta especificada\n",
    "    ruta_guardado = '../output/images/' + nombre_archivo\n",
    "    plt.savefig(ruta_guardado, bbox_inches='tight')\n",
    "\n",
    "    # Mostrar el gráfico\n",
    "    plt.show() # 13.10.2023 v2"
   ]
  },
  {
   "cell_type": "code",
   "execution_count": 116,
   "id": "015c6211-2f0e-40fc-84d7-64a3346d2a38",
   "metadata": {},
   "outputs": [
    {
     "data": {
      "image/png": "[encoded data removed]",
      "text/plain": [
       "<Figure size 640x480 with 1 Axes>"
      ]
     },
     "metadata": {},
     "output_type": "display_data"
    }
   ],
   "source": [
    "dict_nivel_edu = {1: \"Inicial\", 2: \"Primaria\", 3: \"Secundaria\"}\n",
    "guardar_graf_barras( \"Nivel_educativo\", dict_nivel_edu)"
   ]
  },
  {
   "cell_type": "markdown",
   "id": "821135f6-bbd4-408f-97cf-367545744fb5",
   "metadata": {},
   "source": [
    "## V.C. Idioma y Sexo"
   ]
  },
  {
   "cell_type": "code",
   "execution_count": 117,
   "id": "b198374e",
   "metadata": {},
   "outputs": [
    {
     "data": {
      "image/png": "[encoded data removed]",
      "text/plain": [
       "<Figure size 640x480 with 1 Axes>"
      ]
     },
     "metadata": {},
     "output_type": "display_data"
    }
   ],
   "source": [
    "dict_idioma = {0: \"Otro\", 1: \"Catellano\"}\n",
    "guardar_graf_barras('Idioma', dict_idioma)"
   ]
  },
  {
   "cell_type": "code",
   "execution_count": 118,
   "id": "64698e3a",
   "metadata": {},
   "outputs": [
    {
     "data": {
      "image/png": "[encoded data removed]",
      "text/plain": [
       "<Figure size 640x480 with 1 Axes>"
      ]
     },
     "metadata": {},
     "output_type": "display_data"
    }
   ],
   "source": [
    "dict_sexo = {0: \"Hombre\", 1: \"Mujer\"}\n",
    "guardar_graf_barras('Sexo', dict_sexo)"
   ]
  },
  {
   "cell_type": "markdown",
   "id": "8246ae42-895b-46ed-8ca2-3cafe182f94d",
   "metadata": {},
   "source": [
    "## Area y Estrato Social"
   ]
  },
  {
   "cell_type": "code",
   "execution_count": 119,
   "id": "acb742d2",
   "metadata": {},
   "outputs": [
    {
     "data": {
      "image/png": "[encoded data removed]",
      "text/plain": [
       "<Figure size 640x480 with 1 Axes>"
      ]
     },
     "metadata": {},
     "output_type": "display_data"
    }
   ],
   "source": [
    "#label = [\"Rural\", \"Urbano\"]\n",
    "#dict_sexo = {0: \"Hombre\", 1: \"Mujer\"}\n",
    "dict_area =  {0: \"Rural\", 1: \"Urbano\"}\n",
    "guardar_graf_barras('Area', dict_area)"
   ]
  },
  {
   "cell_type": "code",
   "execution_count": 120,
   "id": "ccd7b96d",
   "metadata": {},
   "outputs": [
    {
     "data": {
      "image/png": "[encoded data removed]",
      "text/plain": [
       "<Figure size 640x480 with 1 Axes>"
      ]
     },
     "metadata": {},
     "output_type": "display_data"
    }
   ],
   "source": [
    "label = [\"A\", \"B\",\"C\",\"D\", \"E\",\"rural\"]\n",
    "dict_estr =  {1: \"A\", 2: \"B\", 3: \"C\", 4: \"D\", 5: \"E\", 6:\"rural\"}\n",
    "guardar_graf_barras('estrsocial', dict_estr)"
   ]
  },
  {
   "cell_type": "code",
   "execution_count": 121,
   "id": "fade1f89-f21a-4143-8399-33e5f3279ebd",
   "metadata": {},
   "outputs": [
    {
     "data": {
      "image/png": "[encoded data removed]",
      "text/plain": [
       "<Figure size 640x480 with 1 Axes>"
      ]
     },
     "metadata": {},
     "output_type": "display_data"
    }
   ],
   "source": [
    "#label = [\"Costa\", \"Sierra\",\"Selva\"]\n",
    "dict_region=  {1: \"Costa\", 2: \"Sierra\", 3: \"Selva\"}\n",
    "guardar_graf_barras('Region',dict_region)"
   ]
  },
  {
   "cell_type": "code",
   "execution_count": 122,
   "id": "06d03e85-0613-411c-ad93-470001febe92",
   "metadata": {},
   "outputs": [
    {
     "data": {
      "image/png": "[encoded data removed]",
      "text/plain": [
       "<Figure size 640x480 with 1 Axes>"
      ]
     },
     "metadata": {},
     "output_type": "display_data"
    }
   ],
   "source": [
    "dict_departamento = {  1: \"Amazonas\", 2: \"Ancash\", 3: \"Apurímac\", 4: \"Arequipa\", 5: \"Ayacucho\", 6: \"Cajamarca\", 7: \"Callao\", 8: \"Cusco\", 9: \"Huancavelica\", 10: \"Huánuco\", 11: \"Ica\", 12: \"Junín\", 13: \"La Libertad\", 14: \"Lambayeque\", \n",
    "                     15: \"Lima\", 16: \"Loreto\", 17: \"Madre de Dios\", 18: \"Moquegua\", 19: \"Pasco\", 20: \"Piura\", 21: \"Puno\", 22: \"San Martín\", \n",
    "    23: \"Tacna\", 24: \"Tumbes\", 25: \"Ucayali\"}\n",
    "guardar_graf_barras('DEPARTAMENTO', dict_departamento )"
   ]
  },
  {
   "cell_type": "code",
   "execution_count": 123,
   "id": "fbd11e9b-f3f5-4f63-ad14-79057dea5c62",
   "metadata": {},
   "outputs": [
    {
     "data": {
      "image/png": "[encoded data removed]",
      "text/plain": [
       "<Figure size 640x480 with 1 Axes>"
      ]
     },
     "metadata": {},
     "output_type": "display_data"
    }
   ],
   "source": [
    "#label = [\"No\",\"Si\"]\n",
    "dict_electricidad = {1: \"Si\", 0: \"No\"}\n",
    "guardar_graf_barras('Electricidad', dict_electricidad)"
   ]
  },
  {
   "cell_type": "markdown",
   "id": "dc91db93-2cab-4e4b-8cb1-17f93fb3f43c",
   "metadata": {},
   "source": [
    "## Grafico de barras - USO (Donde uso internet)"
   ]
  },
  {
   "cell_type": "code",
   "execution_count": 124,
   "id": "a344e876-27fa-4342-9a49-c8c136940bd2",
   "metadata": {},
   "outputs": [],
   "source": [
    "base_filtrada_ = base_filtrada.copy() "
   ]
  },
  {
   "cell_type": "markdown",
   "id": "771cfb00-7e1b-4916-ad6a-cd3990ea6de8",
   "metadata": {
    "tags": []
   },
   "source": [
    "### Funcion"
   ]
  },
  {
   "cell_type": "code",
   "execution_count": 125,
   "id": "2b8f1515-bbe6-487a-b2b6-b7aec25c56c5",
   "metadata": {},
   "outputs": [],
   "source": [
    "def barras(variable, nuevo_valor):\n",
    "    ##################3\n",
    "    freq_1 = base_filtrada_[[ \"factor07\",variable]].groupby([variable]).sum().reset_index()\n",
    "    total_recuento = freq_1['factor07'].sum()\n",
    "    freq_1['Porcentaje'] = (freq_1['factor07'] / total_recuento * 100).round(2)\n",
    "    freq_1.rename(columns={variable: 'variable','factor07': 'value'}, inplace=True)\n",
    "    freq_1 =  freq_1.tail(1)\n",
    "    freq_1['variable'] = freq_1['variable'].replace(1.0, variable)\n",
    "    freq_1['value'] = freq_1['value'].apply(lambda x: '{:,.0f}'.format(x))\n",
    "    #freq_1['Porcentaje'] = freq_1['Porcentaje'].apply(lambda x: '{:.3f}'.format(x))\n",
    "    freq_1['variable'] = nuevo_valor\n",
    "    return freq_1"
   ]
  },
  {
   "cell_type": "code",
   "execution_count": 126,
   "id": "b7713147-a4d7-4142-ae5e-b557f3a979d7",
   "metadata": {},
   "outputs": [],
   "source": [
    "i_uso        = barras(\"i_uso\"       ,\"                                      Uso de internet\")\n",
    "i_uso_cedu   = barras(\"i_uso_cedu\"  ,\"                                      Establecimiento educativo\")\n",
    "i_uso_trab   = barras(\"i_uso_trab\"  ,\"                                      Trabajo\")\n",
    "i_uso_hog    = barras(\"i_uso_hog\"   ,\"                                      Hogar\")\n",
    "i_uso_cab    = barras(\"i_uso_cab\"   ,\"                                      Cabina pública\")\n",
    "i_uso_casotr = barras(\"i_uso_casotr\",\"                                     Casa de otra persona\")\n",
    "i_uso_otro   = barras(\"i_uso_otro\"  ,\"                                     Otro\")\n",
    "i_uso_movil  = barras(\"i_uso_movil\" ,\"                                     Acceso móvil a internet\")"
   ]
  },
  {
   "cell_type": "code",
   "execution_count": 1,
   "id": "01fea482-af33-484b-94f6-64845db61503",
   "metadata": {},
   "outputs": [
    {
     "ename": "NameError",
     "evalue": "name 'data3' is not defined",
     "output_type": "error",
     "traceback": [
      "\u001b[1;31m---------------------------------------------------------------------------\u001b[0m",
      "\u001b[1;31mNameError\u001b[0m                                 Traceback (most recent call last)",
      "\u001b[1;32m~\\AppData\\Local\\Temp\\ipykernel_18052\\15002454.py\u001b[0m in \u001b[0;36m<module>\u001b[1;34m\u001b[0m\n\u001b[1;32m----> 1\u001b[1;33m \u001b[0mdata3\u001b[0m\u001b[1;33m\u001b[0m\u001b[1;33m\u001b[0m\u001b[0m\n\u001b[0m",
      "\u001b[1;31mNameError\u001b[0m: name 'data3' is not defined"
     ]
    }
   ],
   "source": []
  },
  {
   "cell_type": "code",
   "execution_count": 128,
   "id": "38188bf6-13d5-41bd-973a-dd0c41a9f79f",
   "metadata": {},
   "outputs": [],
   "source": [
    "data3 = pd.concat([i_uso_cedu, i_uso_trab, i_uso_hog, i_uso_cab, i_uso_casotr,i_uso_otro, i_uso_movil], axis=0)\n",
    "data3 = data3.reset_index(drop=True)\n",
    "#data3"
   ]
  },
  {
   "cell_type": "markdown",
   "id": "138d46b8-80ee-4062-ae3b-70b73e148d75",
   "metadata": {},
   "source": [
    "### plot"
   ]
  },
  {
   "cell_type": "code",
   "execution_count": 129,
   "id": "b1f0855e-38e9-4a3b-a787-0505dbb69fe6",
   "metadata": {},
   "outputs": [
    {
     "data": {
      "image/png": "[encoded data removed]",
      "text/plain": [
       "<Figure size 1400x1000 with 1 Axes>"
      ]
     },
     "metadata": {},
     "output_type": "display_data"
    }
   ],
   "source": [
    "plt.figure(figsize=(14,10))\n",
    "ax = sns.barplot(data = data3, x = 'Porcentaje', y = 'variable', color = 'grey', order=data3.sort_values('Porcentaje',ascending = False).variable)\n",
    "\n",
    "# Etiquetas y título\n",
    "plt.xlabel('')\n",
    "plt.ylabel('')\n",
    "\n",
    "# Eliminar los spines derecho y superior\n",
    "ax.spines['right'].set_visible(False)\n",
    "ax.spines['top'].set_visible(False)\n",
    "ax.set_xlim(0, 100)\n",
    "\n",
    "plt.bar_label(ax.containers[0], fmt='%.2f%%', fontsize=11)\n",
    "\n",
    "# Generar el nombre del archivo de imagen basado en el nombre de la columna\n",
    "nombre_archivo = f'multiples_uso.png'\n",
    "\n",
    "# Guardar la imagen en la ruta especificada\n",
    "ruta_guardado = '../output/images/' + nombre_archivo\n",
    "plt.savefig(ruta_guardado)\n",
    "plt.show()"
   ]
  },
  {
   "cell_type": "markdown",
   "id": "d5a7b65e-4867-4fce-bbb3-469e7174ca48",
   "metadata": {},
   "source": [
    "## Grafico de barras - ACCESO - Equipo de acceso de servicio de Internet"
   ]
  },
  {
   "cell_type": "code",
   "execution_count": 130,
   "id": "f203c8bd-2304-4e88-a2d8-1e6a29d8eab4",
   "metadata": {},
   "outputs": [],
   "source": [
    "i_computadora = barras(\"i_computadora\",\"                                          Computadora\")\n",
    "i_tablet      = barras(\"i_tablet\"     ,\"                                          Tablet\")\n",
    "i_laptop      = barras(\"i_laptop\"     ,\"                                          Laptop\")\n",
    "i_otro        = barras(\"i_otro\"       ,\"                                         Otro\")\n",
    "i_cel_sdatos  = barras(\"i_cel_sdatos\" ,\"                                         Celular sin plan de datos\")\n",
    "i_cel_cdatos  = barras(\"i_cel_cdatos\" ,\"                                         Celular con plan de datos\")"
   ]
  },
  {
   "cell_type": "code",
   "execution_count": 131,
   "id": "087ce9ba",
   "metadata": {},
   "outputs": [],
   "source": [
    "data3 = pd.concat([i_computadora, i_tablet, i_laptop, i_otro, i_cel_sdatos, i_cel_cdatos], axis=0)\n",
    "data3 = data3.reset_index(drop=True)\n",
    "#data3"
   ]
  },
  {
   "cell_type": "markdown",
   "id": "6a6d3c23-b823-402d-8b57-708501fa7aa8",
   "metadata": {},
   "source": [
    "### Plot"
   ]
  },
  {
   "cell_type": "code",
   "execution_count": 132,
   "id": "06ea4854-c7c1-4607-8656-23b5be3e319b",
   "metadata": {},
   "outputs": [
    {
     "data": {
      "image/png": "[encoded data removed]",
      "text/plain": [
       "<Figure size 1400x1000 with 1 Axes>"
      ]
     },
     "metadata": {},
     "output_type": "display_data"
    }
   ],
   "source": [
    "# Plot\n",
    "plt.figure(figsize=(14,10))\n",
    "ax = sns.barplot(data = data3, x = 'Porcentaje', y = 'variable', color = 'grey', order=data3.sort_values('Porcentaje',ascending = False).variable)\n",
    "\n",
    "# Etiquetas y título\n",
    "plt.xlabel('')\n",
    "plt.ylabel('')\n",
    "\n",
    "# Eliminar los spines derecho y superior\n",
    "ax.spines['right'].set_visible(False)\n",
    "ax.spines['top'].set_visible(False)\n",
    "ax.set_xlim(0, 100)\n",
    "\n",
    "plt.bar_label(ax.containers[0], fmt='%.2f%%', fontsize=11)\n",
    "\n",
    "# Generar el nombre del archivo de imagen basado en el nombre de la columna\n",
    "nombre_archivo = f'multiples_acceso.png'\n",
    "\n",
    "# Guardar la imagen en la ruta especificada\n",
    "ruta_guardado = '../output/images/' + nombre_archivo\n",
    "plt.savefig(ruta_guardado)\n",
    "\n",
    "plt.show()"
   ]
  },
  {
   "cell_type": "markdown",
   "id": "62e0c104-8aec-4d83-9204-a38fb3b20007",
   "metadata": {},
   "source": [
    "## Grafico - Para qué uso el internet"
   ]
  },
  {
   "cell_type": "code",
   "execution_count": 133,
   "id": "76849672-0c5c-429a-8491-5893637bdb0f",
   "metadata": {},
   "outputs": [],
   "source": [
    "i_obtener_info         = barras(\"i_obtener_info\",\"Obtener información (sobre bienes y servicios, \\n salud, organizaciones gubernamentales)\")\n",
    "i_comunicarse          = barras(\"i_comunicarse\", \"Comunicarse (e-mail, chat, llamadas por Skype, \\n WhatsApp, Facebook, Twitter, etc.)\")\n",
    "i_comprar_pdts_ss      = barras(\"i_comprar_pdts_ss\", \"Comprar productos y/o servicios\")\n",
    "i_operaciones_bancarias = barras(\"i_operaciones_bancarias\", \"Operaciones de banca electrónica \\n y otros servicios financieros\")\n",
    "i_edu_formal          = barras(\"i_edu_formal\", \"Educación formal y actividades \\n de capacitación\")\n",
    "i_transacciones       = barras(\"i_transacciones\",\"Transacciones (interactuar) con organizaciones \\n estatales/autoridades públicas\")\n",
    "i_act_entretenimiento = barras(\"i_act_entretenimiento\",\"Actividades de entretenimiento (juegos de video, \\n obtener películas, música, videos, escuchar radio, \\n leer periódico, etc.)\")\n",
    "i_vender_pdts         = barras(\"i_vender_pdts\", \"Vender productos y/o servicios \\n (Mercado Libre, OLX, Facebook, etc.)\")\n",
    "p316_9 = barras(\"p316_9\", \"o1\")\n",
    "p316_10 = barras(\"p316_10\",\"o2\")\n",
    "p316_11 = barras(\"p316_11\", \"o4\")\n",
    "i_descarga_antivirus = barras(\"i_descarga_antivirus\", \"Descarga de antivirus / aplicativos  \\n /software(programas)\")"
   ]
  },
  {
   "cell_type": "code",
   "execution_count": 134,
   "id": "d37c396d-b14e-4e75-8e93-63c7a7031f8e",
   "metadata": {},
   "outputs": [],
   "source": [
    "data3 = pd.concat([i_obtener_info, i_comunicarse,i_comprar_pdts_ss, i_operaciones_bancarias, i_edu_formal, i_transacciones,\n",
    "                  i_act_entretenimiento, i_vender_pdts, i_descarga_antivirus], axis=0)\n",
    "#p316_9, p316_10, p316_11\n",
    "data3 = data3.reset_index(drop=True)\n",
    "#data3"
   ]
  },
  {
   "cell_type": "markdown",
   "id": "df3229f3-6935-4d6f-92ee-57c26e18fbb5",
   "metadata": {},
   "source": [
    "### Plot"
   ]
  },
  {
   "cell_type": "code",
   "execution_count": 135,
   "id": "2572d27a-9102-4353-a9a1-0efda124acb6",
   "metadata": {},
   "outputs": [
    {
     "data": {
      "image/png": "[encoded data removed]",
      "text/plain": [
       "<Figure size 1400x1000 with 1 Axes>"
      ]
     },
     "metadata": {},
     "output_type": "display_data"
    }
   ],
   "source": [
    "# Plot\n",
    "plt.figure(figsize=(14,10))\n",
    "ax = sns.barplot(data = data3, x = 'Porcentaje', y = 'variable', color = 'grey',\n",
    "                order=data3.sort_values('Porcentaje',ascending = False).variable)\n",
    "# Etiquetas y título\n",
    "plt.xlabel('')\n",
    "plt.ylabel('')\n",
    "\n",
    "# Eliminar los spines derecho y superior\n",
    "ax.spines['right'].set_visible(False)\n",
    "ax.spines['top'].set_visible(False)\n",
    "ax.set_xlim(0, 100)\n",
    "\n",
    "plt.bar_label(ax.containers[0], fmt='%.2f%%', fontsize=11)\n",
    "\n",
    "# Generar el nombre del archivo de imagen basado en el nombre de la columna\n",
    "nombre_archivo = f'multiples_apropiacion.png'\n",
    "\n",
    "# Guardar la imagen en la ruta especificada\n",
    "ruta_guardado = '../output/images/' + nombre_archivo\n",
    "plt.savefig(ruta_guardado)\n",
    "\n",
    "plt.show()"
   ]
  },
  {
   "cell_type": "markdown",
   "id": "cbe2006b-2002-450f-9cb6-91d7df4f4cd8",
   "metadata": {},
   "source": [
    "## Grafico - ACTIVIDADES INFORMÁTICAS +14"
   ]
  },
  {
   "cell_type": "code",
   "execution_count": 136,
   "id": "57e33f4b-373f-4116-a0ee-b44a92bf2c43",
   "metadata": {},
   "outputs": [],
   "source": [
    "ai_mover_archivo      = barras(\"ai_mover_archivo\",      \"Copiar o mover un archivo o carpeta\")\n",
    "ai_copiar_pegar       = barras(\"ai_copiar_pegar\",        \"Utilizar herramientas de copiar y pegar para duplicar\\n o mover información dentro de un documento\")\n",
    "ai_enviar_correos     = barras(\"ai_enviar_correos\",     \"Enviar correos electrónicos (e-mails) con archivos \\n adjuntos (por ejemplo, documentos, fotos, videos)\")\n",
    "ai_form_excel         = barras(\"ai_form_excel\",         \"Utilizar fórmulas aritméticas básicas en una hoja \\n de cálculo (Excel)\")\n",
    "ai_conec_dispositivos = barras(\"ai_conec_dispositivos\", \"Conectar e instalar nuevos dispositivos (por ejemplo, \\n modem, cámara, impresora)\")\n",
    "ai_software           = barras(\"ai_software\",          \"Encontrar, descargar, instalar y configurar software\")\n",
    "ai_presentaciones_electronicas = barras(\"ai_presentaciones_electronicas\", \"Crear presentaciones electrónicas con programas \\n (Power Point, Prezi, etc.) para crear presentaciones \\n (incluyendo texto, imágenes, sonido, video o tabla)\")\n",
    "ai_tranfer_archivos = barras(\"ai_tranfer_archivos\",   \"Transferir archivos entre computadora y otros \\n dispositivos\")\n",
    "ai_leng_programacion = barras(\"ai_leng_programacion\", \"Redactar un programa informático mediante el uso de \\n lenguaje de programación especializado\")\n",
    "ai_otros             = barras(\"ai_otros\",              \"Otros\")"
   ]
  },
  {
   "cell_type": "code",
   "execution_count": 137,
   "id": "0740b877-9069-4f77-babd-60bf4b3245f0",
   "metadata": {},
   "outputs": [],
   "source": [
    "data3 = pd.concat([ai_mover_archivo, ai_copiar_pegar,ai_enviar_correos,ai_form_excel,ai_conec_dispositivos,\n",
    "                 ai_software,ai_presentaciones_electronicas,ai_tranfer_archivos,ai_leng_programacion,ai_otros], axis=0)\n",
    "#p316_9, p316_10, p316_11\n",
    "data3 = data3.reset_index(drop=True)\n",
    "#data3"
   ]
  },
  {
   "cell_type": "markdown",
   "id": "e94803e7-ad3d-4b39-b42c-4419bf5ae47b",
   "metadata": {},
   "source": [
    "### plot"
   ]
  },
  {
   "cell_type": "code",
   "execution_count": 138,
   "id": "a0458ca9-5ad6-4a99-bd9c-38f8282e6706",
   "metadata": {},
   "outputs": [
    {
     "data": {
      "image/png": "[encoded data removed]",
      "text/plain": [
       "<Figure size 1400x1000 with 1 Axes>"
      ]
     },
     "metadata": {},
     "output_type": "display_data"
    }
   ],
   "source": [
    "# Plot\n",
    "plt.figure(figsize=(14,10))\n",
    "ax = sns.barplot(data = data3, x = 'Porcentaje', y = 'variable', color = 'grey',\n",
    "                order=data3.sort_values('Porcentaje',ascending = False).variable)\n",
    "# Etiquetas y título\n",
    "plt.xlabel('')\n",
    "plt.ylabel('')\n",
    "\n",
    "# Eliminar los spines derecho y superior\n",
    "ax.spines['right'].set_visible(False)\n",
    "ax.spines['top'].set_visible(False)\n",
    "ax.set_xlim(0, 100)\n",
    "\n",
    "plt.bar_label(ax.containers[0], fmt='%.2f%%', fontsize=11)\n",
    "\n",
    "# Generar el nombre del archivo de imagen basado en el nombre de la columna\n",
    "nombre_archivo = f'multiples_act_informaticas.png'\n",
    "\n",
    "# Guardar la imagen en la ruta especificada\n",
    "ruta_guardado = '../output/images/' + nombre_archivo\n",
    "plt.savefig(ruta_guardado)\n",
    "\n",
    "plt.show()"
   ]
  },
  {
   "cell_type": "markdown",
   "id": "c84a96f1-bd49-459f-bae9-9b4db5eb05c6",
   "metadata": {},
   "source": [
    "## Grafico de barras - Clases a DISTANCIA"
   ]
  },
  {
   "cell_type": "code",
   "execution_count": 139,
   "id": "bdeb62a5-32e6-40f1-b13f-779467c09138",
   "metadata": {},
   "outputs": [],
   "source": [
    "cl_medio_tv                 = barras(\"cl_medio_tv\"                , \"                                  Televisión\")\n",
    "cl_medio_radio              = barras(\"cl_medio_radio\"             , \"                                  Radio/equipo de sonido\")\n",
    "cl_medio_plataforma_virtual = barras(\"cl_medio_plataforma_virtual\", \"                                  Plataforma virtual/página web\")\n",
    "cl_medio_otro               = barras(\"cl_medio_otro\"              , \"                                  Otro\")\n",
    "cl_medio_wsp                = barras(\"cl_medio_wsp\"               , \"                                  Whatsapp\")\n",
    "cl_medio_correo             = barras(\"cl_medio_correo\"            , \"                                  Correo\")\n",
    "cl_medio_llamadas           = barras(\"cl_medio_llamadas\"          , \"                                  Llamadas\")"
   ]
  },
  {
   "cell_type": "code",
   "execution_count": 140,
   "id": "84c82615-b957-43e8-b0c6-e7cc6c241837",
   "metadata": {},
   "outputs": [],
   "source": [
    "data3 = pd.concat([cl_medio_tv, cl_medio_radio, cl_medio_plataforma_virtual, cl_medio_otro, cl_medio_wsp, cl_medio_correo, cl_medio_llamadas], axis=0)\n",
    "data3 = data3.reset_index(drop=True)\n",
    "#data3"
   ]
  },
  {
   "cell_type": "markdown",
   "id": "de8fca3c-bab0-4fb8-b838-8ba301c16e6d",
   "metadata": {
    "tags": []
   },
   "source": [
    "### plot"
   ]
  },
  {
   "cell_type": "code",
   "execution_count": 141,
   "id": "ef1367d4-cf16-411e-b46f-b725f8b557f3",
   "metadata": {},
   "outputs": [
    {
     "data": {
      "image/png": "[encoded data removed]",
      "text/plain": [
       "<Figure size 1400x1000 with 1 Axes>"
      ]
     },
     "metadata": {},
     "output_type": "display_data"
    }
   ],
   "source": [
    "plt.figure(figsize=(14,10))\n",
    "ax = sns.barplot(data = data3, x = 'Porcentaje', y = 'variable', color = 'grey', order=data3.sort_values('Porcentaje',ascending = False).variable)\n",
    "\n",
    "# Etiquetas y título\n",
    "plt.xlabel('')\n",
    "plt.ylabel('')\n",
    "\n",
    "# Eliminar los spines derecho y superior\n",
    "ax.spines['right'].set_visible(False)\n",
    "ax.spines['top'].set_visible(False)\n",
    "ax.set_xlim(0, 100)\n",
    "\n",
    "plt.bar_label(ax.containers[0], fmt='%.2f%%', fontsize=11)\n",
    "\n",
    "# Generar el nombre del archivo de imagen basado en el nombre de la columna\n",
    "nombre_archivo = f'multiple_clases_medio.png'\n",
    "\n",
    "# Guardar la imagen en la ruta especificada\n",
    "ruta_guardado = '../output/images/' + nombre_archivo\n",
    "plt.savefig(ruta_guardado)\n",
    "\n",
    "plt.show()"
   ]
  },
  {
   "cell_type": "code",
   "execution_count": 142,
   "id": "e055ab15-5773-4016-a8f2-da5e9a0e8168",
   "metadata": {},
   "outputs": [],
   "source": [
    "cl_desarrollo_interaccion        = barras(\"cl_desarrollo_interaccion\"       , \"                         Interacción con el profesor\")\n",
    "cl_desarrollo_videos             = barras(\"cl_desarrollo_videos\"            , \"                         Videos\")\n",
    "cl_desarrollo_documentos         = barras(\"cl_desarrollo_documentos\"        , \"                         Documentos (textos, cuadros, etc.)\")\n",
    "cl_desarrollo_otros              = barras(\"cl_desarrollo_otros\"             , \"                         Otros\")\n",
    "cl_desarrollo_msm_audio          = barras(\"cl_desarrollo_msm_audio\"         , \"                         Mensaje de Audio\")\n",
    "cl_desarrollo_msm_texto          = barras(\"cl_desarrollo_msm_texto\"         , \"                         Mensaje de texto\")\n",
    "cl_desarrollo_sin_acompañamiento = barras(\"cl_desarrollo_sin_acompañamiento\", \"                         Sin acompañamiento\")"
   ]
  },
  {
   "cell_type": "code",
   "execution_count": 143,
   "id": "86818776-1310-4f55-b44a-493f32da5ea9",
   "metadata": {},
   "outputs": [],
   "source": [
    "data3 = pd.concat([cl_desarrollo_interaccion, cl_desarrollo_videos, cl_desarrollo_documentos, cl_desarrollo_otros, cl_desarrollo_msm_audio, cl_desarrollo_msm_texto,\n",
    "                   cl_desarrollo_sin_acompañamiento], axis=0)\n",
    "data3 = data3.reset_index(drop=True)\n",
    "#data3"
   ]
  },
  {
   "cell_type": "markdown",
   "id": "5a2ee53a-54d1-4e4c-982b-7a1058b91f2d",
   "metadata": {},
   "source": [
    "### Plot"
   ]
  },
  {
   "cell_type": "code",
   "execution_count": 144,
   "id": "a92c9956-f49e-475d-9a65-3ab6f727acd0",
   "metadata": {},
   "outputs": [
    {
     "data": {
      "image/png": "[encoded data removed]",
      "text/plain": [
       "<Figure size 1400x1000 with 1 Axes>"
      ]
     },
     "metadata": {},
     "output_type": "display_data"
    }
   ],
   "source": [
    "# Plot\n",
    "plt.figure(figsize=(14,10))\n",
    "ax = sns.barplot(data = data3, x = 'Porcentaje', y = 'variable', color = 'grey',\n",
    "                order=data3.sort_values('Porcentaje',ascending = False).variable)\n",
    "\n",
    "# Etiquetas y título\n",
    "plt.xlabel('')\n",
    "plt.ylabel('')\n",
    "\n",
    "# Eliminar los spines derecho y superior\n",
    "ax.spines['right'].set_visible(False)\n",
    "ax.spines['top'].set_visible(False)\n",
    "ax.set_xlim(0, 100)\n",
    "\n",
    "plt.bar_label(ax.containers[0], fmt='%.2f%%', fontsize=11)\n",
    "\n",
    "# Generar el nombre del archivo de imagen basado en el nombre de la columna\n",
    "nombre_archivo = f'multiple_clases_medio_desarrollo.png'\n",
    "\n",
    "# Guardar la imagen en la ruta especificada\n",
    "ruta_guardado = '../output/images/' + nombre_archivo\n",
    "plt.savefig(ruta_guardado)\n",
    "\n",
    "plt.show()"
   ]
  },
  {
   "cell_type": "code",
   "execution_count": null,
   "id": "8da89cff-01a2-4659-9fb9-c207c2556c9f",
   "metadata": {},
   "outputs": [],
   "source": []
  },
  {
   "cell_type": "markdown",
   "id": "fa9e36b7",
   "metadata": {},
   "source": [
    "# Regresión"
   ]
  },
  {
   "cell_type": "code",
   "execution_count": 145,
   "id": "dd171a43-7dd3-443d-80e0-2b41cb84c212",
   "metadata": {},
   "outputs": [
    {
     "name": "stdout",
     "output_type": "stream",
     "text": [
      "Número de valores faltantes en 'i_uso_hog': 0\n"
     ]
    }
   ],
   "source": [
    "base_filtrada['i_uso'].value_counts()\n",
    "missing_values = base_filtrada['i_uso'].isna().sum()\n",
    "print(\"Número de valores faltantes en 'i_uso_hog':\", missing_values)"
   ]
  },
  {
   "cell_type": "code",
   "execution_count": 146,
   "id": "e68763a3-2144-4511-bb9a-505130ec08f9",
   "metadata": {},
   "outputs": [
    {
     "data": {
      "text/plain": [
       "(22401, 91)"
      ]
     },
     "execution_count": 146,
     "metadata": {},
     "output_type": "execute_result"
    }
   ],
   "source": [
    "base_filtrada.shape"
   ]
  },
  {
   "cell_type": "raw",
   "id": "3b1178a1-6030-4aa7-8f47-44671525f917",
   "metadata": {},
   "source": [
    "base_filtrada = base_filtrada.dropna(subset=['i_uso_hog'])"
   ]
  },
  {
   "cell_type": "code",
   "execution_count": 147,
   "id": "61c85f87-ee61-40b1-a3bf-9de6186ae8f3",
   "metadata": {},
   "outputs": [],
   "source": [
    "#base_filtrada = base_filtrada.dropna(subset=['i_uso']) # 09.10.2023"
   ]
  },
  {
   "cell_type": "code",
   "execution_count": 148,
   "id": "dd0178a0",
   "metadata": {},
   "outputs": [],
   "source": [
    "# los nombres de las variables deben respresentar al menos una idea de lo que represento\n",
    "# Revisar qué variables son categoricas y continuas "
   ]
  },
  {
   "cell_type": "code",
   "execution_count": 149,
   "id": "33728a9a-28c4-44f0-8234-428e2e3cb95b",
   "metadata": {},
   "outputs": [
    {
     "data": {
      "text/plain": [
       "1    14882\n",
       "0     7519\n",
       "Name: i_uso, dtype: int64"
      ]
     },
     "execution_count": 149,
     "metadata": {},
     "output_type": "execute_result"
    }
   ],
   "source": [
    "base_filtrada.i_uso.value_counts()"
   ]
  },
  {
   "cell_type": "markdown",
   "id": "620e2905-038d-4893-a7fb-c1b9ec7079da",
   "metadata": {},
   "source": [
    "## Variables Y X"
   ]
  },
  {
   "cell_type": "code",
   "execution_count": 150,
   "id": "e9178c3b-3eef-47f8-9620-2f51952ebc39",
   "metadata": {},
   "outputs": [],
   "source": [
    "# Define la variable dependiente (binaria) y las variables independientes\n",
    "#y = base_filtrada['i_uso_hog']\n",
    "y = base_filtrada['i_uso']\n",
    "X = base_filtrada[['Sexo', 'Edad','años_escolaridad','mieperho', 'cel_uso',\n",
    "                   'Electricidad', 'Idioma',\n",
    "                   'Centro_estudios', 'Area']]\n",
    "weights = base_filtrada['factor07']"
   ]
  },
  {
   "cell_type": "code",
   "execution_count": 151,
   "id": "32791b6c-987a-4b55-b5bc-365e4c1ff0f8",
   "metadata": {},
   "outputs": [
    {
     "data": {
      "text/plain": [
       "1    14882\n",
       "0     7519\n",
       "Name: i_uso, dtype: int64"
      ]
     },
     "execution_count": 151,
     "metadata": {},
     "output_type": "execute_result"
    }
   ],
   "source": [
    "base_filtrada['i_uso'].value_counts()"
   ]
  },
  {
   "cell_type": "code",
   "execution_count": 152,
   "id": "352de659-22b9-4453-add2-0bc96b7ef1ef",
   "metadata": {},
   "outputs": [
    {
     "data": {
      "text/plain": [
       "0    17223\n",
       "1     5178\n",
       "Name: cel_uso, dtype: int64"
      ]
     },
     "execution_count": 152,
     "metadata": {},
     "output_type": "execute_result"
    }
   ],
   "source": [
    "base_filtrada['cel_uso'].value_counts()"
   ]
  },
  {
   "cell_type": "code",
   "execution_count": 153,
   "id": "b6f637f6-f923-40bb-b62f-9a2de3b8f97c",
   "metadata": {},
   "outputs": [
    {
     "name": "stdout",
     "output_type": "stream",
     "text": [
      "Número de valores faltantes en 'i_uso_hog': 0\n"
     ]
    }
   ],
   "source": [
    "base_filtrada['cel_uso'].value_counts()\n",
    "missing_values = base_filtrada['cel_uso'].isna().sum()\n",
    "print(\"Número de valores faltantes en 'i_uso_hog':\", missing_values)"
   ]
  },
  {
   "cell_type": "markdown",
   "id": "984409e5-8f3f-43a6-bafd-1edf5ff4acf8",
   "metadata": {},
   "source": [
    "### Dummies"
   ]
  },
  {
   "cell_type": "code",
   "execution_count": 154,
   "id": "aa62d680-63ad-448d-b393-ad6bc41d6f01",
   "metadata": {},
   "outputs": [],
   "source": [
    "# Codifica la variable categórica nominal \"Region\" en variables dummy\n",
    "departamento_dummies = pd.get_dummies(base_filtrada['estrsocial'], prefix='estrsocial', drop_first=True)\n",
    "\n",
    "# Codifica la variable categórica ordinal \"Nivel_educativo\" en variables dummy\n",
    "#nivel_educativo_dummies = pd.get_dummies(base_filtrada['Nivel_educativo'], prefix='Nivel_educativo', drop_first=True)\n",
    "\n",
    "# Codifica la variable categórica nominal \"Region\" en variables dummy\n",
    "region_dummies = pd.get_dummies(base_filtrada['Region'], prefix='Region', drop_first=True)\n",
    "\n",
    "# Codifica la variable categórica nominal \"Region\" en variables dummy\n",
    "estrato_social_dummies = pd.get_dummies(base_filtrada['DEPARTAMENTO'], prefix='DEPARTAMENTO', drop_first=True)\n",
    "\n",
    "\n",
    "# Combina las variables dummy con el conjunto de variables independientes\n",
    "X = pd.concat([X, region_dummies, departamento_dummies, estrato_social_dummies], axis=1)"
   ]
  },
  {
   "cell_type": "code",
   "execution_count": 155,
   "id": "743f44d8-1b1e-4c83-8f34-df64a5d54157",
   "metadata": {},
   "outputs": [],
   "source": [
    "#X[\"Nivel_educativo_2.0\"].value_counts(normalize=True)  #PRIMARIA\n",
    "#X[\"Nivel_educativo_3.0\"].value_counts(normalize=True) # SECUNDARIA"
   ]
  },
  {
   "cell_type": "markdown",
   "id": "6491e8a4-8137-49e3-884b-f10dec0b187c",
   "metadata": {},
   "source": [
    "## Regresión Lineal SIMPLE"
   ]
  },
  {
   "cell_type": "code",
   "execution_count": 156,
   "id": "e9733904",
   "metadata": {},
   "outputs": [
    {
     "name": "stdout",
     "output_type": "stream",
     "text": [
      "                            OLS Regression Results                            \n",
      "==============================================================================\n",
      "Dep. Variable:                  i_uso   R-squared:                       0.997\n",
      "Model:                            OLS   Adj. R-squared:                  0.997\n",
      "Method:                 Least Squares   F-statistic:                 1.935e+05\n",
      "Date:                Fri, 13 Oct 2023   Prob (F-statistic):               0.00\n",
      "Time:                        22:32:24   Log-Likelihood:                -11042.\n",
      "No. Observations:               22401   AIC:                         2.216e+04\n",
      "Df Residuals:                   22361   BIC:                         2.248e+04\n",
      "Df Model:                          39                                         \n",
      "Covariance Type:            nonrobust                                         \n",
      "====================================================================================\n",
      "                       coef    std err          t      P>|t|      [0.025      0.975]\n",
      "------------------------------------------------------------------------------------\n",
      "const                0.1351      0.023      5.754      0.000       0.089       0.181\n",
      "Sexo                 0.0145      0.005      2.731      0.006       0.004       0.025\n",
      "Edad                 0.0212      0.003      6.544      0.000       0.015       0.028\n",
      "años_escolaridad     0.0118      0.003      3.591      0.000       0.005       0.018\n",
      "mieperho            -0.0112      0.002     -7.436      0.000      -0.014      -0.008\n",
      "cel_uso              0.1412      0.007     19.373      0.000       0.127       0.155\n",
      "Electricidad         0.1337      0.011     12.532      0.000       0.113       0.155\n",
      "Idioma               0.1357      0.010     14.024      0.000       0.117       0.155\n",
      "Centro_estudios     -0.0612      0.009     -6.678      0.000      -0.079      -0.043\n",
      "Area                 0.1899      0.018     10.390      0.000       0.154       0.226\n",
      "Region_2            -0.0538      0.012     -4.358      0.000      -0.078      -0.030\n",
      "Region_3            -0.0491      0.017     -2.818      0.005      -0.083      -0.015\n",
      "estrsocial_2        -0.0364      0.026     -1.420      0.156      -0.087       0.014\n",
      "estrsocial_3        -0.0184      0.024     -0.778      0.436      -0.065       0.028\n",
      "estrsocial_4        -0.0642      0.023     -2.842      0.004      -0.108      -0.020\n",
      "estrsocial_5        -0.0949      0.023     -4.206      0.000      -0.139      -0.051\n",
      "estrsocial_6        -0.0548      0.014     -3.847      0.000      -0.083      -0.027\n",
      "DEPARTAMENTO_2       0.1438      0.021      6.966      0.000       0.103       0.184\n",
      "DEPARTAMENTO_3      -0.0150      0.023     -0.661      0.509      -0.060       0.030\n",
      "DEPARTAMENTO_4       0.1722      0.021      8.101      0.000       0.131       0.214\n",
      "DEPARTAMENTO_5       0.0287      0.021      1.377      0.168      -0.012       0.070\n",
      "DEPARTAMENTO_6      -0.0165      0.019     -0.846      0.398      -0.055       0.022\n",
      "DEPARTAMENTO_7       0.0811      0.026      3.146      0.002       0.031       0.132\n",
      "DEPARTAMENTO_8      -0.0761      0.021     -3.647      0.000      -0.117      -0.035\n",
      "DEPARTAMENTO_9       0.2132      0.022      9.832      0.000       0.171       0.256\n",
      "DEPARTAMENTO_10      0.1166      0.019      6.020      0.000       0.079       0.155\n",
      "DEPARTAMENTO_11      0.1372      0.024      5.699      0.000       0.090       0.184\n",
      "DEPARTAMENTO_12     -0.0881      0.019     -4.536      0.000      -0.126      -0.050\n",
      "DEPARTAMENTO_13      0.0993      0.022      4.611      0.000       0.057       0.142\n",
      "DEPARTAMENTO_14      0.0286      0.023      1.219      0.223      -0.017       0.075\n",
      "DEPARTAMENTO_15      0.0876      0.021      4.138      0.000       0.046       0.129\n",
      "DEPARTAMENTO_16     -0.2438      0.017    -14.088      0.000      -0.278      -0.210\n",
      "DEPARTAMENTO_17      0.1720      0.024      7.179      0.000       0.125       0.219\n",
      "DEPARTAMENTO_18      0.1700      0.026      6.445      0.000       0.118       0.222\n",
      "DEPARTAMENTO_19      0.0451      0.021      2.099      0.036       0.003       0.087\n",
      "DEPARTAMENTO_20      0.0914      0.022      4.151      0.000       0.048       0.135\n",
      "DEPARTAMENTO_21      0.1498      0.022      6.751      0.000       0.106       0.193\n",
      "DEPARTAMENTO_22     -0.0056      0.019     -0.292      0.770      -0.043       0.032\n",
      "DEPARTAMENTO_23      0.0718      0.025      2.919      0.004       0.024       0.120\n",
      "DEPARTAMENTO_24      0.0809      0.026      3.105      0.002       0.030       0.132\n",
      "DEPARTAMENTO_25     -0.0174      0.019     -0.925      0.355      -0.054       0.019\n",
      "==============================================================================\n",
      "Omnibus:                     1950.330   Durbin-Watson:                   1.333\n",
      "Prob(Omnibus):                  0.000   Jarque-Bera (JB):             1208.743\n",
      "Skew:                          -0.442   Prob(JB):                    3.35e-263\n",
      "Kurtosis:                       2.283   Cond. No.                     3.23e+15\n",
      "==============================================================================\n",
      "\n",
      "Notes:\n",
      "[1] Standard Errors assume that the covariance matrix of the errors is correctly specified.\n",
      "[2] The smallest eigenvalue is 4.31e-25. This might indicate that there are\n",
      "strong multicollinearity problems or that the design matrix is singular.\n"
     ]
    },
    {
     "name": "stderr",
     "output_type": "stream",
     "text": [
      "C:\\ProgramData\\Anaconda3\\lib\\site-packages\\statsmodels\\regression\\linear_model.py:889: ValueWarning: Weights are not supported in OLS and will be ignoredAn exception will be raised in the next version.\n",
      "  warnings.warn(msg, ValueWarning)\n",
      "C:\\ProgramData\\Anaconda3\\lib\\site-packages\\statsmodels\\base\\model.py:127: ValueWarning: unknown kwargs ['weights']\n",
      "  warnings.warn(msg, ValueWarning)\n"
     ]
    }
   ],
   "source": [
    "# Agregar una constante al conjunto de datos (intercepto)\n",
    "X = sm.add_constant(X)\n",
    "model_linear = sm.OLS(y, X,weights=weights)\n",
    "results_linear = model_linear.fit()\n",
    "print(results_linear.summary())"
   ]
  },
  {
   "cell_type": "markdown",
   "id": "74c72ff0-5291-4683-b588-c7647db4e2d2",
   "metadata": {},
   "source": [
    "## Modelo Probit"
   ]
  },
  {
   "cell_type": "code",
   "execution_count": 157,
   "id": "7f4770d9",
   "metadata": {},
   "outputs": [
    {
     "name": "stderr",
     "output_type": "stream",
     "text": [
      "C:\\ProgramData\\Anaconda3\\lib\\site-packages\\statsmodels\\base\\model.py:127: ValueWarning: unknown kwargs ['weights']\n",
      "  warnings.warn(msg, ValueWarning)\n"
     ]
    },
    {
     "name": "stdout",
     "output_type": "stream",
     "text": [
      "Optimization terminated successfully.\n",
      "         Current function value: 0.464421\n",
      "         Iterations 13\n",
      "                          Probit Regression Results                           \n",
      "==============================================================================\n",
      "Dep. Variable:                  i_uso   No. Observations:                22401\n",
      "Model:                         Probit   Df Residuals:                    22361\n",
      "Method:                           MLE   Df Model:                           39\n",
      "Date:                Fri, 13 Oct 2023   Pseudo R-squ.:                  0.2722\n",
      "Time:                        22:32:24   Log-Likelihood:                -10404.\n",
      "converged:                       True   LL-Null:                       -14294.\n",
      "Covariance Type:            nonrobust   LLR p-value:                     0.000\n",
      "====================================================================================\n",
      "                       coef    std err          z      P>|z|      [0.025      0.975]\n",
      "------------------------------------------------------------------------------------\n",
      "const               -0.4272        nan        nan        nan         nan         nan\n",
      "Sexo                 0.0560      0.020      2.800      0.005       0.017       0.095\n",
      "Edad                 0.0673      0.012      5.511      0.000       0.043       0.091\n",
      "años_escolaridad     0.0523      0.012      4.223      0.000       0.028       0.077\n",
      "mieperho            -0.0401      0.006     -7.124      0.000      -0.051      -0.029\n",
      "cel_uso              0.6951      0.032     21.937      0.000       0.633       0.757\n",
      "Electricidad         0.4283      0.039     11.001      0.000       0.352       0.505\n",
      "Idioma               0.4471      0.035     12.835      0.000       0.379       0.515\n",
      "Centro_estudios     -0.3446      0.041     -8.402      0.000      -0.425      -0.264\n",
      "Area                 0.3614        nan        nan        nan         nan         nan\n",
      "Region_2            -0.2594      0.048     -5.445      0.000      -0.353      -0.166\n",
      "Region_3            -0.2179      0.064     -3.402      0.001      -0.343      -0.092\n",
      "estrsocial_2        -0.3139      0.144     -2.185      0.029      -0.595      -0.032\n",
      "estrsocial_3        -0.2739      0.133     -2.054      0.040      -0.535      -0.012\n",
      "estrsocial_4        -0.5591      0.128     -4.357      0.000      -0.811      -0.308\n",
      "estrsocial_5        -0.6849      0.128     -5.350      0.000      -0.936      -0.434\n",
      "estrsocial_6        -0.7887        nan        nan        nan         nan         nan\n",
      "DEPARTAMENTO_2       0.4620      0.074      6.237      0.000       0.317       0.607\n",
      "DEPARTAMENTO_3      -0.0708      0.079     -0.897      0.370      -0.225       0.084\n",
      "DEPARTAMENTO_4       0.6412      0.082      7.775      0.000       0.480       0.803\n",
      "DEPARTAMENTO_5       0.0871      0.072      1.203      0.229      -0.055       0.229\n",
      "DEPARTAMENTO_6      -0.0871      0.067     -1.297      0.195      -0.219       0.045\n",
      "DEPARTAMENTO_7       0.1523      0.099      1.532      0.125      -0.043       0.347\n",
      "DEPARTAMENTO_8      -0.2511      0.073     -3.446      0.001      -0.394      -0.108\n",
      "DEPARTAMENTO_9       0.6747      0.077      8.766      0.000       0.524       0.826\n",
      "DEPARTAMENTO_10      0.3560      0.068      5.219      0.000       0.222       0.490\n",
      "DEPARTAMENTO_11      0.5173      0.096      5.391      0.000       0.329       0.705\n",
      "DEPARTAMENTO_12     -0.3086      0.068     -4.545      0.000      -0.442      -0.176\n",
      "DEPARTAMENTO_13      0.2989      0.078      3.817      0.000       0.145       0.452\n",
      "DEPARTAMENTO_14     -0.0276      0.085     -0.325      0.745      -0.194       0.139\n",
      "DEPARTAMENTO_15      0.2181      0.078      2.806      0.005       0.066       0.370\n",
      "DEPARTAMENTO_16     -0.8514      0.063    -13.456      0.000      -0.975      -0.727\n",
      "DEPARTAMENTO_17      0.5601      0.090      6.206      0.000       0.383       0.737\n",
      "DEPARTAMENTO_18      0.7630      0.113      6.723      0.000       0.541       0.985\n",
      "DEPARTAMENTO_19      0.1131      0.075      1.500      0.134      -0.035       0.261\n",
      "DEPARTAMENTO_20      0.2106      0.080      2.644      0.008       0.054       0.367\n",
      "DEPARTAMENTO_21      0.4534      0.079      5.749      0.000       0.299       0.608\n",
      "DEPARTAMENTO_22     -0.0399      0.066     -0.600      0.548      -0.170       0.090\n",
      "DEPARTAMENTO_23      0.1523      0.092      1.658      0.097      -0.028       0.332\n",
      "DEPARTAMENTO_24      0.1953      0.097      2.012      0.044       0.005       0.386\n",
      "DEPARTAMENTO_25     -0.0544      0.066     -0.818      0.413      -0.185       0.076\n",
      "====================================================================================\n"
     ]
    },
    {
     "name": "stderr",
     "output_type": "stream",
     "text": [
      "C:\\ProgramData\\Anaconda3\\lib\\site-packages\\statsmodels\\base\\model.py:127: ValueWarning: unknown kwargs ['weights']\n",
      "  warnings.warn(msg, ValueWarning)\n"
     ]
    },
    {
     "name": "stdout",
     "output_type": "stream",
     "text": [
      "       Probit Marginal Effects       \n",
      "=====================================\n",
      "Dep. Variable:                  i_uso\n",
      "Method:                          dydx\n",
      "At:                           overall\n",
      "====================================================================================\n",
      "                      dy/dx    std err          z      P>|z|      [0.025      0.975]\n",
      "------------------------------------------------------------------------------------\n",
      "Sexo                 0.0147      0.005      2.801      0.005       0.004       0.025\n",
      "Edad                 0.0176      0.003      5.522      0.000       0.011       0.024\n",
      "años_escolaridad     0.0137      0.003      4.227      0.000       0.007       0.020\n",
      "mieperho            -0.0105      0.001     -7.144      0.000      -0.013      -0.008\n",
      "cel_uso              0.1821      0.008     22.525      0.000       0.166       0.198\n",
      "Electricidad         0.1122      0.010     11.097      0.000       0.092       0.132\n",
      "Idioma               0.1171      0.009     12.982      0.000       0.099       0.135\n",
      "Centro_estudios     -0.0903      0.011     -8.430      0.000      -0.111      -0.069\n",
      "Area                 0.0947        nan        nan        nan         nan         nan\n",
      "Region_2            -0.0680      0.012     -5.455      0.000      -0.092      -0.044\n",
      "Region_3            -0.0571      0.017     -3.405      0.001      -0.090      -0.024\n",
      "estrsocial_2        -0.0822      0.038     -2.186      0.029      -0.156      -0.008\n",
      "estrsocial_3        -0.0718      0.035     -2.054      0.040      -0.140      -0.003\n",
      "estrsocial_4        -0.1465      0.034     -4.360      0.000      -0.212      -0.081\n",
      "estrsocial_5        -0.1794      0.033     -5.356      0.000      -0.245      -0.114\n",
      "estrsocial_6        -0.2066        nan        nan        nan         nan         nan\n",
      "DEPARTAMENTO_2       0.1210      0.019      6.253      0.000       0.083       0.159\n",
      "DEPARTAMENTO_3      -0.0185      0.021     -0.897      0.370      -0.059       0.022\n",
      "DEPARTAMENTO_4       0.1680      0.022      7.806      0.000       0.126       0.210\n",
      "DEPARTAMENTO_5       0.0228      0.019      1.203      0.229      -0.014       0.060\n",
      "DEPARTAMENTO_6      -0.0228      0.018     -1.297      0.195      -0.057       0.012\n",
      "DEPARTAMENTO_7       0.0399      0.026      1.532      0.125      -0.011       0.091\n",
      "DEPARTAMENTO_8      -0.0658      0.019     -3.448      0.001      -0.103      -0.028\n",
      "DEPARTAMENTO_9       0.1768      0.020      8.811      0.000       0.137       0.216\n",
      "DEPARTAMENTO_10      0.0932      0.018      5.228      0.000       0.058       0.128\n",
      "DEPARTAMENTO_11      0.1355      0.025      5.401      0.000       0.086       0.185\n",
      "DEPARTAMENTO_12     -0.0809      0.018     -4.551      0.000      -0.116      -0.046\n",
      "DEPARTAMENTO_13      0.0783      0.020      3.821      0.000       0.038       0.118\n",
      "DEPARTAMENTO_14     -0.0072      0.022     -0.325      0.745      -0.051       0.036\n",
      "DEPARTAMENTO_15      0.0571      0.020      2.808      0.005       0.017       0.097\n",
      "DEPARTAMENTO_16     -0.2230      0.016    -13.622      0.000      -0.255      -0.191\n",
      "DEPARTAMENTO_17      0.1467      0.024      6.222      0.000       0.101       0.193\n",
      "DEPARTAMENTO_18      0.1999      0.030      6.741      0.000       0.142       0.258\n",
      "DEPARTAMENTO_19      0.0296      0.020      1.501      0.133      -0.009       0.068\n",
      "DEPARTAMENTO_20      0.0552      0.021      2.646      0.008       0.014       0.096\n",
      "DEPARTAMENTO_21      0.1188      0.021      5.762      0.000       0.078       0.159\n",
      "DEPARTAMENTO_22     -0.0104      0.017     -0.600      0.548      -0.045       0.024\n",
      "DEPARTAMENTO_23      0.0399      0.024      1.658      0.097      -0.007       0.087\n",
      "DEPARTAMENTO_24      0.0512      0.025      2.013      0.044       0.001       0.101\n",
      "DEPARTAMENTO_25     -0.0142      0.017     -0.818      0.413      -0.048       0.020\n",
      "====================================================================================\n"
     ]
    },
    {
     "name": "stderr",
     "output_type": "stream",
     "text": [
      "C:\\ProgramData\\Anaconda3\\lib\\site-packages\\statsmodels\\discrete\\discrete_margins.py:343: RuntimeWarning: invalid value encountered in sqrt\n",
      "  return cov_me, np.sqrt(np.diag(cov_me))\n"
     ]
    }
   ],
   "source": [
    "model_probit = sm.Probit(y, X, weights=weights)\n",
    "results_probit = model_probit.fit()\n",
    "print(results_probit.summary())\n",
    "\n",
    "# Calcula los efectos marginales\n",
    "efectos_marginales = results_probit.get_margeff()\n",
    "\n",
    "# Abre un archivo LaTeX para escribir el output\n",
    "with open('efectos_marginales.tex', 'w') as f:\n",
    "    f.write(efectos_marginales.summary().as_latex())\n",
    "        \n",
    "print(efectos_marginales.summary())"
   ]
  },
  {
   "cell_type": "raw",
   "id": "af7e37ac-e800-49db-9cf9-bd9d0f0e52be",
   "metadata": {},
   "source": [
    "modelo_seleccion = sm.Probit(y, X).fit()\n",
    "\n",
    "# Calcular los residuos de la ecuación de selección\n",
    "residuos_seleccion = model_probit.predict(X) - y\n",
    "\n",
    "# Ecuación de resultado (probit)\n",
    "X_resultado = X\n",
    "y_resultado = y\n",
    "X_resultado['residuos_seleccion'] = residuos_seleccion\n",
    "modelo_resultado = sm.Probit(y_resultado, X_resultado).fit()"
   ]
  },
  {
   "cell_type": "code",
   "execution_count": 158,
   "id": "1acc2184-1fe2-44bc-b120-3c26f055db10",
   "metadata": {},
   "outputs": [
    {
     "name": "stdout",
     "output_type": "stream",
     "text": [
      "Optimization terminated successfully.\n",
      "         Current function value: 0.464421\n",
      "         Iterations 13\n",
      "Warning: Maximum number of iterations has been exceeded.\n",
      "         Current function value: 0.010759\n",
      "         Iterations: 35\n"
     ]
    },
    {
     "name": "stderr",
     "output_type": "stream",
     "text": [
      "C:\\ProgramData\\Anaconda3\\lib\\site-packages\\statsmodels\\base\\model.py:604: ConvergenceWarning: Maximum Likelihood optimization failed to converge. Check mle_retvals\n",
      "  warnings.warn(\"Maximum Likelihood optimization failed to \"\n"
     ]
    }
   ],
   "source": [
    "modelo_seleccion = sm.Probit(y, X).fit()\n",
    "\n",
    "# Calcular las probabilidades estimadas de pertenecer a la clase positiva\n",
    "probabilidades_seleccion = modelo_seleccion.predict(X)\n",
    "\n",
    "# Ecuación de resultado (probit)\n",
    "X_resultado = X\n",
    "y_resultado = y\n",
    "\n",
    "# Calcular los residuos de la ecuación de resultado\n",
    "residuos_resultado = y_resultado - probabilidades_seleccion\n",
    "\n",
    "# Agregar los residuos como una nueva columna\n",
    "X_resultado['residuos_seleccion'] = residuos_resultado\n",
    "\n",
    "# Estimar el modelo de resultado\n",
    "modelo_resultado = sm.Probit(y_resultado, X_resultado).fit()"
   ]
  },
  {
   "cell_type": "code",
   "execution_count": 159,
   "id": "2e44d0b7-94be-4ce1-81ac-6fc914ce71b5",
   "metadata": {},
   "outputs": [],
   "source": [
    "#residuos_seleccion = model_probit.predict(X) - y"
   ]
  },
  {
   "cell_type": "markdown",
   "id": "ab187675-624f-447d-aeaf-48bb2188c0b7",
   "metadata": {},
   "source": [
    "## LOGIT"
   ]
  },
  {
   "cell_type": "raw",
   "id": "ecbb3877-2d24-47d0-90c2-920a88ea0eec",
   "metadata": {},
   "source": [
    "logit_model = Logit(y, X, weights=weights)\n",
    "results_logit = logit_model.fit()\n",
    "marginal_effects_logit = results_logit.get_margeff()\n",
    "\n",
    "# Imprimir los resultados de la regresión logística y los efectos marginales\n",
    "print(results_logit.summary())\n",
    "print(marginal_effects_logit.summary())"
   ]
  },
  {
   "cell_type": "raw",
   "id": "bf01ea4c-a156-49c2-8775-61ea5005caa9",
   "metadata": {},
   "source": [
    "logit_model_1 = Logit(y, X, weights=weights)\n",
    "results_logit_1 = logit_model_1.fit(cov_type='HC3', disp=0)  # Usar 'HC3' para errores robustos\n",
    "print(results_logit_1.summary())\n",
    "\n",
    "# Calcular efectos marginales\n",
    "marginal_effects_logit_1 = results_logit_1.get_margeff()\n",
    "print(marginal_effects_logit_1.summary())"
   ]
  },
  {
   "cell_type": "code",
   "execution_count": null,
   "id": "1c726f26-85d3-4002-b068-a338e17385b9",
   "metadata": {},
   "outputs": [],
   "source": []
  },
  {
   "cell_type": "raw",
   "id": "c6ea4707-18d9-4ecd-997a-a10d3de73afd",
   "metadata": {},
   "source": [
    "# Agregar una constante al conjunto de datos (intercepto) para la regresión lineal\n",
    "#X = sm.add_constant(X) ###\n",
    "\n",
    "# Ajustar el modelo de regresión lineal ponderado\n",
    "model_linear = sm.WLS(y, X, weights=weights)\n",
    "results_linear = model_linear.fit()\n",
    "\n",
    "# Realizar un modelo Probit ponderado\n",
    "model_probit = sm.Probit(y, X, weights=weights)\n",
    "results_probit = model_probit.fit()\n",
    "\n",
    "# Realizar un modelo Logit ponderado\n",
    "model_logit = sm.Logit(y, X, weights=weights)\n",
    "results_logit = model_logit.fit()\n",
    "\n",
    "# Comparar los resultados utilizando esttab\n",
    "from statsmodels.iolib.summary2 import summary_col\n",
    "\n",
    "results = summary_col([results_linear, results_probit, results_logit], stars=True)\n",
    "print(results)"
   ]
  },
  {
   "cell_type": "raw",
   "id": "6fce7a33-4c91-4b43-bd1f-f80c7a7b0f85",
   "metadata": {},
   "source": [
    "El error que estás viendo, LinAlgError: Singular matrix, indica que tu matriz en la regresión logística es singular, lo que significa que no es de rango completo. En términos simples, esto significa que existe una relación lineal exacta entre algunas de tus variables independientes, lo que hace que la matriz sea no invertible."
   ]
  },
  {
   "cell_type": "code",
   "execution_count": null,
   "id": "0fb07527-b19c-4437-9c60-f2287065f847",
   "metadata": {},
   "outputs": [],
   "source": []
  },
  {
   "cell_type": "code",
   "execution_count": null,
   "id": "3af19ac1-52b2-45f5-9624-b3369d8c0722",
   "metadata": {},
   "outputs": [],
   "source": []
  },
  {
   "cell_type": "code",
   "execution_count": 160,
   "id": "e43d5f88-62bf-4874-a60b-13d86e5fc246",
   "metadata": {},
   "outputs": [
    {
     "data": {
      "text/html": [
       "<div>\n",
       "<style scoped>\n",
       "    .dataframe tbody tr th:only-of-type {\n",
       "        vertical-align: middle;\n",
       "    }\n",
       "\n",
       "    .dataframe tbody tr th {\n",
       "        vertical-align: top;\n",
       "    }\n",
       "\n",
       "    .dataframe thead th {\n",
       "        text-align: right;\n",
       "    }\n",
       "</style>\n",
       "<table border=\"1\" class=\"dataframe\">\n",
       "  <thead>\n",
       "    <tr style=\"text-align: right;\">\n",
       "      <th></th>\n",
       "      <th>const</th>\n",
       "      <th>Sexo</th>\n",
       "      <th>Edad</th>\n",
       "      <th>años_escolaridad</th>\n",
       "      <th>mieperho</th>\n",
       "      <th>cel_uso</th>\n",
       "      <th>Electricidad</th>\n",
       "      <th>Idioma</th>\n",
       "      <th>Centro_estudios</th>\n",
       "      <th>Area</th>\n",
       "      <th>...</th>\n",
       "      <th>DEPARTAMENTO_17</th>\n",
       "      <th>DEPARTAMENTO_18</th>\n",
       "      <th>DEPARTAMENTO_19</th>\n",
       "      <th>DEPARTAMENTO_20</th>\n",
       "      <th>DEPARTAMENTO_21</th>\n",
       "      <th>DEPARTAMENTO_22</th>\n",
       "      <th>DEPARTAMENTO_23</th>\n",
       "      <th>DEPARTAMENTO_24</th>\n",
       "      <th>DEPARTAMENTO_25</th>\n",
       "      <th>residuos_seleccion</th>\n",
       "    </tr>\n",
       "  </thead>\n",
       "  <tbody>\n",
       "    <tr>\n",
       "      <th>8</th>\n",
       "      <td>1.0</td>\n",
       "      <td>1</td>\n",
       "      <td>16</td>\n",
       "      <td>10</td>\n",
       "      <td>6</td>\n",
       "      <td>0</td>\n",
       "      <td>1</td>\n",
       "      <td>1</td>\n",
       "      <td>1</td>\n",
       "      <td>1</td>\n",
       "      <td>...</td>\n",
       "      <td>0</td>\n",
       "      <td>0</td>\n",
       "      <td>0</td>\n",
       "      <td>0</td>\n",
       "      <td>0</td>\n",
       "      <td>0</td>\n",
       "      <td>0</td>\n",
       "      <td>0</td>\n",
       "      <td>0</td>\n",
       "      <td>0.174734</td>\n",
       "    </tr>\n",
       "    <tr>\n",
       "      <th>9</th>\n",
       "      <td>1.0</td>\n",
       "      <td>0</td>\n",
       "      <td>6</td>\n",
       "      <td>0</td>\n",
       "      <td>6</td>\n",
       "      <td>0</td>\n",
       "      <td>1</td>\n",
       "      <td>1</td>\n",
       "      <td>1</td>\n",
       "      <td>1</td>\n",
       "      <td>...</td>\n",
       "      <td>0</td>\n",
       "      <td>0</td>\n",
       "      <td>0</td>\n",
       "      <td>0</td>\n",
       "      <td>0</td>\n",
       "      <td>0</td>\n",
       "      <td>0</td>\n",
       "      <td>0</td>\n",
       "      <td>0</td>\n",
       "      <td>-0.375966</td>\n",
       "    </tr>\n",
       "    <tr>\n",
       "      <th>124</th>\n",
       "      <td>1.0</td>\n",
       "      <td>0</td>\n",
       "      <td>14</td>\n",
       "      <td>9</td>\n",
       "      <td>2</td>\n",
       "      <td>1</td>\n",
       "      <td>1</td>\n",
       "      <td>1</td>\n",
       "      <td>0</td>\n",
       "      <td>0</td>\n",
       "      <td>...</td>\n",
       "      <td>0</td>\n",
       "      <td>0</td>\n",
       "      <td>0</td>\n",
       "      <td>0</td>\n",
       "      <td>0</td>\n",
       "      <td>0</td>\n",
       "      <td>0</td>\n",
       "      <td>0</td>\n",
       "      <td>0</td>\n",
       "      <td>0.070904</td>\n",
       "    </tr>\n",
       "    <tr>\n",
       "      <th>229</th>\n",
       "      <td>1.0</td>\n",
       "      <td>1</td>\n",
       "      <td>12</td>\n",
       "      <td>6</td>\n",
       "      <td>5</td>\n",
       "      <td>0</td>\n",
       "      <td>1</td>\n",
       "      <td>1</td>\n",
       "      <td>1</td>\n",
       "      <td>0</td>\n",
       "      <td>...</td>\n",
       "      <td>0</td>\n",
       "      <td>0</td>\n",
       "      <td>0</td>\n",
       "      <td>0</td>\n",
       "      <td>0</td>\n",
       "      <td>0</td>\n",
       "      <td>0</td>\n",
       "      <td>0</td>\n",
       "      <td>0</td>\n",
       "      <td>-0.512835</td>\n",
       "    </tr>\n",
       "    <tr>\n",
       "      <th>230</th>\n",
       "      <td>1.0</td>\n",
       "      <td>0</td>\n",
       "      <td>6</td>\n",
       "      <td>0</td>\n",
       "      <td>5</td>\n",
       "      <td>0</td>\n",
       "      <td>1</td>\n",
       "      <td>1</td>\n",
       "      <td>1</td>\n",
       "      <td>0</td>\n",
       "      <td>...</td>\n",
       "      <td>0</td>\n",
       "      <td>0</td>\n",
       "      <td>0</td>\n",
       "      <td>0</td>\n",
       "      <td>0</td>\n",
       "      <td>0</td>\n",
       "      <td>0</td>\n",
       "      <td>0</td>\n",
       "      <td>0</td>\n",
       "      <td>-0.229276</td>\n",
       "    </tr>\n",
       "  </tbody>\n",
       "</table>\n",
       "<p>5 rows × 42 columns</p>\n",
       "</div>"
      ],
      "text/plain": [
       "     const  Sexo  Edad  años_escolaridad  mieperho  cel_uso  Electricidad  \\\n",
       "8      1.0     1    16                10         6        0             1   \n",
       "9      1.0     0     6                 0         6        0             1   \n",
       "124    1.0     0    14                 9         2        1             1   \n",
       "229    1.0     1    12                 6         5        0             1   \n",
       "230    1.0     0     6                 0         5        0             1   \n",
       "\n",
       "     Idioma  Centro_estudios  Area  ...  DEPARTAMENTO_17  DEPARTAMENTO_18  \\\n",
       "8         1                1     1  ...                0                0   \n",
       "9         1                1     1  ...                0                0   \n",
       "124       1                0     0  ...                0                0   \n",
       "229       1                1     0  ...                0                0   \n",
       "230       1                1     0  ...                0                0   \n",
       "\n",
       "     DEPARTAMENTO_19  DEPARTAMENTO_20  DEPARTAMENTO_21  DEPARTAMENTO_22  \\\n",
       "8                  0                0                0                0   \n",
       "9                  0                0                0                0   \n",
       "124                0                0                0                0   \n",
       "229                0                0                0                0   \n",
       "230                0                0                0                0   \n",
       "\n",
       "     DEPARTAMENTO_23  DEPARTAMENTO_24  DEPARTAMENTO_25  residuos_seleccion  \n",
       "8                  0                0                0            0.174734  \n",
       "9                  0                0                0           -0.375966  \n",
       "124                0                0                0            0.070904  \n",
       "229                0                0                0           -0.512835  \n",
       "230                0                0                0           -0.229276  \n",
       "\n",
       "[5 rows x 42 columns]"
      ]
     },
     "execution_count": 160,
     "metadata": {},
     "output_type": "execute_result"
    }
   ],
   "source": [
    "X.head()"
   ]
  },
  {
   "cell_type": "code",
   "execution_count": 161,
   "id": "8b677c8b-f8cd-4ae4-ba69-05123e797050",
   "metadata": {},
   "outputs": [
    {
     "name": "stdout",
     "output_type": "stream",
     "text": [
      "<class 'pandas.core.series.Series'>\n",
      "Int64Index: 22401 entries, 8 to 115775\n",
      "Series name: i_uso\n",
      "Non-Null Count  Dtype\n",
      "--------------  -----\n",
      "22401 non-null  int64\n",
      "dtypes: int64(1)\n",
      "memory usage: 866.1 KB\n"
     ]
    }
   ],
   "source": [
    "y.info()"
   ]
  }
 ],
 "metadata": {
  "kernelspec": {
   "display_name": "Python 3 (ipykernel)",
   "language": "python",
   "name": "python3"
  },
  "language_info": {
   "codemirror_mode": {
    "name": "ipython",
    "version": 3
   },
   "file_extension": ".py",
   "mimetype": "text/x-python",
   "name": "python",
   "nbconvert_exporter": "python",
   "pygments_lexer": "ipython3",
   "version": "3.9.13"
  },
  "toc-autonumbering": true,
  "toc-showcode": false,
  "toc-showmarkdowntxt": false
 },
 "nbformat": 4,
 "nbformat_minor": 5
}
