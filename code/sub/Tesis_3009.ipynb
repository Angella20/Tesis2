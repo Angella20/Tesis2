{
 "cells": [
  {
   "cell_type": "markdown",
   "id": "85b16d18-7f03-4f1f-ac05-007b2244a654",
   "metadata": {
    "jp-MarkdownHeadingCollapsed": true,
    "tags": []
   },
   "source": [
    "# Librerias"
   ]
  },
  {
   "cell_type": "code",
   "execution_count": 1,
   "id": "7244ff7e",
   "metadata": {},
   "outputs": [
    {
     "name": "stderr",
     "output_type": "stream",
     "text": [
      "C:\\ProgramData\\Anaconda3\\lib\\site-packages\\scipy\\__init__.py:155: UserWarning: A NumPy version >=1.18.5 and <1.25.0 is required for this version of SciPy (detected version 1.26.0\n",
      "  warnings.warn(f\"A NumPy version >={np_minversion} and <{np_maxversion}\"\n"
     ]
    }
   ],
   "source": [
    "import os\n",
    "import seaborn as sns\n",
    "import pandas as pd\n",
    "import warnings\n",
    "import statsmodels.api as sm\n",
    "from tabulate import tabulate\n",
    "import matplotlib.pyplot as plt\n",
    "import statsmodels.formula.api as smf\n",
    "\n",
    "warnings.filterwarnings(\"ignore\", category=FutureWarning)"
   ]
  },
  {
   "cell_type": "markdown",
   "id": "e06259cd-5d23-4779-bb59-769d91dac83e",
   "metadata": {
    "jp-MarkdownHeadingCollapsed": true,
    "tags": []
   },
   "source": [
    "# Modulos"
   ]
  },
  {
   "cell_type": "code",
   "execution_count": 2,
   "id": "e7b700d1",
   "metadata": {},
   "outputs": [],
   "source": [
    "modulo_hogar = pd.read_stata(\"../input/enaho01-2020-100.dta\", convert_categoricals=False)\n",
    "columnas_interes = ['conglome','vivienda','hogar','ubigeo','p1121','p1123','p1124','p1125','p1126','p1127',\n",
    "                    'p1142','p1144']\n",
    "modulo_hogar = modulo_hogar[columnas_interes]\n",
    "\n",
    "# Variables de interés: Parentesco Sexo y Edad\n",
    "modulo_miembros = pd.read_stata(\"../input/enaho01-2020-200.dta\", convert_categoricals=False)\n",
    "columnas_interes_miembros = ['conglome','vivienda','hogar','ubigeo','codperso',\"p203b\",\"p207\",'p208a']\n",
    "modulo_miembros = modulo_miembros[columnas_interes_miembros]\n",
    "\n",
    "# Variables de interés\n",
    "modulo_educa = pd.read_stata(\"../input/enaho01a-2020-300.dta\", convert_categoricals=False)\n",
    "columnas_interes_educa = ['conglome','vivienda','hogar','codperso','ubigeo','dominio','estrato',\"p301c\",\"p300a\",\"p304b\",\"p304a\",\n",
    "                          \"p308c\",\"p308b\",\n",
    "    \"p307a1\",\"p307a2\",\"p307a3\",\"p307a4\",\"p307a4_5\",\"p307a4_6\",\"p307a4_7\",\"p307b1\",\"p307b2\",\"p307b3\",\"p307b4\",\"p307b4_5\",\"p307b4_6\",\"p307b4_7\",\n",
    "    \"p308a\",\"p308d\",\"p314a\",\"p314b_1\",\"p314b_2\",\"p314b_3\",\"p314b_4\",\"p314b_5\",\"p314b_6\",\"p314b_7\",\n",
    "    \"p314b1_1\",\"p314b1_2\",\"p314b1_8\",\"p314b1_9\",\"p314b1_6\",\"p314b1_7\",\"p314d\",\"p316_1\",\"p316_2\", \"p316_3\",\"p316_4\",\"p316_5\",\n",
    "    \"p316_6\",\"p316_7\",\"p316_8\",\"p316_9\",\"p316_10\",\"p316_11\",\"p316_12\",\"p316a1\",\"p316b\",\"p316c1\",\"p316c2\",\"p316c3\",\"p316c4\",\n",
    "    \"p316c5\",\"p316c6\",\"p316c7\",\"p316c8\",\"p316c9\",\"p316c10\",\"t313a\", \"factor07\"]\n",
    "modulo_educa = modulo_educa[columnas_interes_educa]\n",
    "\n",
    "sumaria = pd.read_stata(\"../input/sumaria-2020.dta\", convert_categoricals=False)\n",
    "columnas_interes_sumaria = ['conglome', 'vivienda', 'hogar','ubigeo','estrsocial','mieperho','totmieho']\n",
    "sumaria = sumaria[columnas_interes_sumaria]"
   ]
  },
  {
   "cell_type": "markdown",
   "id": "b0f9992e-02eb-4530-b2a4-ffe92becbb10",
   "metadata": {},
   "source": [
    "## Merge"
   ]
  },
  {
   "cell_type": "code",
   "execution_count": 3,
   "id": "d33b6f8f",
   "metadata": {},
   "outputs": [],
   "source": [
    "# Realizar el merge version final 2\n",
    "# Primero, unir modulo_hogar y modulo_miembros usando las columnas comunes\n",
    "merged_data1 = pd.merge(modulo_educa, modulo_miembros, on=['conglome', 'vivienda', 'hogar', 'ubigeo','codperso'], how='inner')\n",
    "\n",
    "# Luego, unir el resultado anterior con modulo_educa\n",
    "merged_data2 = pd.merge(sumaria, modulo_hogar, on=['conglome', 'vivienda', 'hogar', 'ubigeo'], how='inner')\n",
    "\n",
    "# Finalmente, unir el resultado anterior con sumaria\n",
    "merged_data = pd.merge(merged_data1, merged_data2, on=['conglome', 'vivienda', 'hogar', 'ubigeo'], how='left')"
   ]
  },
  {
   "cell_type": "code",
   "execution_count": 4,
   "id": "f77110ef",
   "metadata": {},
   "outputs": [
    {
     "name": "stdout",
     "output_type": "stream",
     "text": [
      "(115777, 84)\n"
     ]
    }
   ],
   "source": [
    "print(merged_data.shape)"
   ]
  },
  {
   "cell_type": "code",
   "execution_count": 5,
   "id": "5d5d65ef",
   "metadata": {},
   "outputs": [
    {
     "name": "stdout",
     "output_type": "stream",
     "text": [
      "Index(['conglome', 'vivienda', 'hogar', 'codperso', 'ubigeo', 'dominio',\n",
      "       'estrato', 'p301c', 'p300a', 'p304b', 'p304a', 'p308c', 'p308b',\n",
      "       'p307a1', 'p307a2', 'p307a3', 'p307a4', 'p307a4_5', 'p307a4_6',\n",
      "       'p307a4_7', 'p307b1', 'p307b2', 'p307b3', 'p307b4', 'p307b4_5',\n",
      "       'p307b4_6', 'p307b4_7', 'p308a', 'p308d', 'p314a', 'p314b_1', 'p314b_2',\n",
      "       'p314b_3', 'p314b_4', 'p314b_5', 'p314b_6', 'p314b_7', 'p314b1_1',\n",
      "       'p314b1_2', 'p314b1_8', 'p314b1_9', 'p314b1_6', 'p314b1_7', 'p314d',\n",
      "       'p316_1', 'p316_2', 'p316_3', 'p316_4', 'p316_5', 'p316_6', 'p316_7',\n",
      "       'p316_8', 'p316_9', 'p316_10', 'p316_11', 'p316_12', 'p316a1', 'p316b',\n",
      "       'p316c1', 'p316c2', 'p316c3', 'p316c4', 'p316c5', 'p316c6', 'p316c7',\n",
      "       'p316c8', 'p316c9', 'p316c10', 't313a', 'factor07', 'p203b', 'p207',\n",
      "       'p208a', 'estrsocial', 'mieperho', 'totmieho', 'p1121', 'p1123',\n",
      "       'p1124', 'p1125', 'p1126', 'p1127', 'p1142', 'p1144'],\n",
      "      dtype='object')\n"
     ]
    }
   ],
   "source": [
    "print(merged_data.columns)"
   ]
  },
  {
   "cell_type": "markdown",
   "id": "3f6f72ac-29c5-4dbc-b327-f196a8533f89",
   "metadata": {
    "tags": []
   },
   "source": [
    "# Variables"
   ]
  },
  {
   "cell_type": "markdown",
   "id": "bb143ee5-5baf-4e6d-ab83-5c4d595244b7",
   "metadata": {
    "tags": []
   },
   "source": [
    "### Departamento"
   ]
  },
  {
   "cell_type": "code",
   "execution_count": 6,
   "id": "b2007026-2c85-4b5f-868c-e3f9c45cc456",
   "metadata": {},
   "outputs": [],
   "source": [
    "# Crear una variable \"departamento\" extrayendo los primeros 2 dígitos de \"ubigeo\"\n",
    "merged_data[\"DEPARTAMENTO\"] = merged_data[\"ubigeo\"].astype(str).str[:2]\n",
    "merged_data[\"DEPARTAMENTO\"] = pd.to_numeric(merged_data[\"DEPARTAMENTO\"], errors=\"coerce\")\n",
    "\n",
    "# Recodificar la variable \"departamento\" para asignar nombres a los códigos numéricos\n",
    "#dict_departamento = {\n",
    "#    1: \"Amazonas\", 2: \"Ancash\", 3: \"Apurímac\", 4: \"Arequipa\", 5: \"Ayacucho\", 6: \"Cajamarca\", 7: \"Callao\", 8: \"Cusco\",\n",
    "#    9: \"Huancavelica\", 10: \"Huánuco\", 11: \"Ica\", 12: \"Junín\", 13: \"La Libertad\", 14: \"Lambayeque\", 15: \"Lima\",\n",
    "#    16: \"Loreto\", 17: \"Madre de Dios\", 18: \"Moquegua\", 19: \"Pasco\", 20: \"Piura\", 21: \"Puno\", 22: \"San Martín\", \n",
    "#    23: \"Tacna\", 24: \"Tumbes\", 25: \"Ucayali\"\n",
    "#}\n",
    "#merged_data[\"DEPARTAMENTO\"].replace(dict_departamento, inplace=True)"
   ]
  },
  {
   "cell_type": "markdown",
   "id": "63bda6e5-6155-4931-b85d-49fc1f854c7d",
   "metadata": {},
   "source": [
    "### Area e Idioma"
   ]
  },
  {
   "cell_type": "code",
   "execution_count": 7,
   "id": "08ee393e",
   "metadata": {},
   "outputs": [],
   "source": [
    "# Recodificar la variable \"estrato\" para crear la variable \"area\"\n",
    "merged_data[\"AREA\"] = merged_data[\"estrato\"].apply(lambda x: 1 if 1 <= x <= 5 else 0) #{1: \"Urbano\", 0: \"Rural\"}\n",
    "\n",
    "# IDIOMA \n",
    "merged_data[\"Idioma\"] = merged_data[\"p300a\"].apply(lambda x: 1 if 4 == x  else 0)   # {1: \"Castellano\", 0: \"Otros\"}\n",
    "#1 Quechua 2 Aimara 3 Otra lengua nativa 4 Castellano 6 Portugués 7 Otra lengua extranjera \n",
    "# 8 No escucha/no habla9 Lengua de señas peruanas 10 Ashaninka 11 Awajun/Aguaruna 12 Shipibo-Konibo \n",
    "# 13 Shawi/Chayahuita 14 Matsigenka/Machiguenga 15 Achuar"
   ]
  },
  {
   "cell_type": "markdown",
   "id": "7fbe1002-aacc-47b8-a976-88e203a6db31",
   "metadata": {},
   "source": [
    "### Zona"
   ]
  },
  {
   "cell_type": "code",
   "execution_count": 8,
   "id": "f5727030-a940-46df-a319-dccec31a4a72",
   "metadata": {},
   "outputs": [],
   "source": [
    "# Recodificar la variable \"dominio\" para crear la variable \"zona\"\n",
    "#dict_zona = { 1:\"Costa\", 2:\"Costa\", 3: \"Costa\", 4:\"Sierra\", 5:\"Sierra\", 6:\"Sierra\", 7:\"Selva\", 8: \"Lima Metropolitana\"}\n",
    "dict_zona = { 1:1, 2:1, 3: 1, 4:2, 5:2, 6:2, 7:3, 8: 4}\n",
    "merged_data[\"ZONA\"] = merged_data[\"dominio\"].map(dict_zona)"
   ]
  },
  {
   "cell_type": "code",
   "execution_count": 9,
   "id": "5213b011",
   "metadata": {},
   "outputs": [
    {
     "name": "stdout",
     "output_type": "stream",
     "text": [
      "1.0    25896\n",
      "2.0     6224\n",
      "Name: p308d, dtype: int64\n"
     ]
    }
   ],
   "source": [
    "print(merged_data.p308d.value_counts())"
   ]
  },
  {
   "cell_type": "code",
   "execution_count": 10,
   "id": "d975765c",
   "metadata": {},
   "outputs": [
    {
     "name": "stdout",
     "output_type": "stream",
     "text": [
      "Index(['conglome', 'vivienda', 'hogar', 'codperso', 'ubigeo', 'dominio',\n",
      "       'estrato', 'p301c', 'p300a', 'p304b', 'p304a', 'p308c', 'p308b',\n",
      "       'p307a1', 'p307a2', 'p307a3', 'p307a4', 'p307a4_5', 'p307a4_6',\n",
      "       'p307a4_7', 'p307b1', 'p307b2', 'p307b3', 'p307b4', 'p307b4_5',\n",
      "       'p307b4_6', 'p307b4_7', 'p308a', 'p308d', 'p314a', 'p314b_1', 'p314b_2',\n",
      "       'p314b_3', 'p314b_4', 'p314b_5', 'p314b_6', 'p314b_7', 'p314b1_1',\n",
      "       'p314b1_2', 'p314b1_8', 'p314b1_9', 'p314b1_6', 'p314b1_7', 'p314d',\n",
      "       'p316_1', 'p316_2', 'p316_3', 'p316_4', 'p316_5', 'p316_6', 'p316_7',\n",
      "       'p316_8', 'p316_9', 'p316_10', 'p316_11', 'p316_12', 'p316a1', 'p316b',\n",
      "       'p316c1', 'p316c2', 'p316c3', 'p316c4', 'p316c5', 'p316c6', 'p316c7',\n",
      "       'p316c8', 'p316c9', 'p316c10', 't313a', 'factor07', 'p203b', 'p207',\n",
      "       'p208a', 'estrsocial', 'mieperho', 'totmieho', 'p1121', 'p1123',\n",
      "       'p1124', 'p1125', 'p1126', 'p1127', 'p1142', 'p1144', 'DEPARTAMENTO',\n",
      "       'AREA', 'Idioma', 'ZONA'],\n",
      "      dtype='object')\n"
     ]
    }
   ],
   "source": [
    "print(merged_data.columns)"
   ]
  },
  {
   "cell_type": "markdown",
   "id": "52581bb3-b8dd-4d60-9fe4-c0da3aeb73ab",
   "metadata": {},
   "source": [
    "## Renombrar variables"
   ]
  },
  {
   "cell_type": "code",
   "execution_count": 11,
   "id": "7ffb76b5",
   "metadata": {},
   "outputs": [
    {
     "name": "stdout",
     "output_type": "stream",
     "text": [
      "Index(['conglome', 'vivienda', 'hogar', 'codperso', 'ubigeo', 'dominio',\n",
      "       'estrato', 'p301c', 'p300a', 'p304b', 'p304a', 'p308c', 'p308b',\n",
      "       'clases_tv', 'clases_radio', 'clases_plataforma_virtual', 'clases_otro',\n",
      "       'clases_wsp', 'clases_correo', 'clases_llamadas',\n",
      "       'clases_interaccion_profesor', 'clases_videos', 'clases_documentos',\n",
      "       'clases_otros', 'clases_msm_audio', 'clases_msm_texto',\n",
      "       'clases_sin_acompañamiento', 'Nivel_educativo', 'Centro_estudios',\n",
      "       'i_uso', 'i_uso_hog', 'i_uso_trab', 'i_uso_cedu', 'i_uso_cab',\n",
      "       'i_uso_casotr', 'i_uso_otro', 'i_uso_movil', 'i_computadora',\n",
      "       'i_laptop', 'i_cel_sdatos', 'i_cel_cdatos', 'i_tablet', 'i_otro',\n",
      "       'p314d', 'p316_1', 'p316_2', 'p316_3', 'p316_4', 'p316_5', 'p316_6',\n",
      "       'p316_7', 'p316_8', 'p316_9', 'p316_10', 'p316_11', 'p316_12', 'p316a1',\n",
      "       'p316b', 'p316c1', 'p316c2', 'p316c3', 'p316c4', 'p316c5', 'p316c6',\n",
      "       'p316c7', 'p316c8', 'p316c9', 'p316c10', 't313a', 'factor07', 'p203b',\n",
      "       'Sexo', 'Edad', 'estrsocial', 'mieperho', 'totmieho', 'Electricidad',\n",
      "       'p1123', 'p1124', 'p1125', 'p1126', 'p1127', 'p1142', 'p1144',\n",
      "       'DEPARTAMENTO', 'AREA', 'Idioma', 'ZONA'],\n",
      "      dtype='object')\n"
     ]
    }
   ],
   "source": [
    "# Rename columns\n",
    "new_column_names = {'p308a': 'Nivel_educativo', 'p308d': 'Centro_estudios','p207': 'Sexo', 'p208a':\"Edad\",'p1121':'Electricidad',\n",
    "'p314a': 'i_uso','p314b_1':'i_uso_hog', 'p314b_2':'i_uso_trab', 'p314b_3':'i_uso_cedu','p314b_4':'i_uso_cab','p314b_5':'i_uso_casotr',\n",
    "'p314b_6':'i_uso_otro','p314b_7':'i_uso_movil',\n",
    "'p314b1_1':'i_computadora','p314b1_2':'i_laptop','p314b1_5':'i_cel_trab','p314b1_6':'i_tablet',\n",
    "'p314b1_7':'i_otro','p314b1_8': 'i_cel_sdatos', 'p314b1_9': 'i_cel_cdatos',\n",
    "\"p307a1\":\"clases_tv\",\"p307a2\":\"clases_radio\", \"p307a3\":\"clases_plataforma_virtual\",\"p307a4\":\"clases_otro\",\"p307a4_5\":\"clases_wsp\", \"p307a4_6\":\"clases_correo\",\n",
    "\"p307a4_7\":\"clases_llamadas\",\"p307b1\":\"clases_interaccion_profesor\", \"p307b2\":\"clases_videos\",\"p307b3\":\"clases_documentos\", \"p307b4\":\"clases_otros\",\n",
    "\"p307b4_5\":\"clases_msm_audio\",\"p307b4_6\": \"clases_msm_texto\", \"p307b4_7\":\"clases_sin_acompañamiento\"}\n",
    "merged_data.rename(columns=new_column_names, inplace=True)\n",
    "\n",
    "# Now, the DataFrame has renamed columns\n",
    "print(merged_data.columns)"
   ]
  },
  {
   "cell_type": "code",
   "execution_count": 12,
   "id": "112cdc65",
   "metadata": {},
   "outputs": [],
   "source": [
    "#base_final[\"P300A\"].dtype"
   ]
  },
  {
   "cell_type": "code",
   "execution_count": 13,
   "id": "d5901f33",
   "metadata": {},
   "outputs": [],
   "source": [
    "# Uso de Internet en el hogar\n",
    "merged_data[\"i_uso_hog\"] = pd.to_numeric(merged_data[\"i_uso_hog\"], errors=\"coerce\")"
   ]
  },
  {
   "cell_type": "code",
   "execution_count": 14,
   "id": "219e910e",
   "metadata": {},
   "outputs": [],
   "source": [
    "# Uso de Internet \n",
    "merged_data[\"i_uso\"] = pd.to_numeric(merged_data[\"i_uso\"], errors=\"coerce\")"
   ]
  },
  {
   "cell_type": "markdown",
   "id": "91a3b1e6-989f-4e5c-af7c-394f08b30f2b",
   "metadata": {},
   "source": [
    "## Filtrar variables"
   ]
  },
  {
   "cell_type": "code",
   "execution_count": 15,
   "id": "94c03c14",
   "metadata": {},
   "outputs": [
    {
     "name": "stderr",
     "output_type": "stream",
     "text": [
      "C:\\Users\\SINERGY TECH\\AppData\\Local\\Temp\\ipykernel_2092\\2784818831.py:5: SettingWithCopyWarning: \n",
      "A value is trying to be set on a copy of a slice from a DataFrame.\n",
      "Try using .loc[row_indexer,col_indexer] = value instead\n",
      "\n",
      "See the caveats in the documentation: https://pandas.pydata.org/pandas-docs/stable/user_guide/indexing.html#returning-a-view-versus-a-copy\n",
      "  base_filtrada[\"Edad\"] = pd.to_numeric(base_filtrada[\"Edad\"], errors=\"coerce\")\n"
     ]
    }
   ],
   "source": [
    "# DESCRIPTIVOS DE LAS VARIABLES  # FILTROS DE EDUCACION Y EDAD\n",
    "# Filtrar el DataFrame para incluir solo las filas con valores 1, 2 o 3 en la columna \"P308A\"\n",
    "base_filtrada = merged_data[merged_data[\"Nivel_educativo\"].isin([1, 2, 3])]\n",
    "# Convertir la columna \"P208A\" a tipo numérico (si es posible)\n",
    "base_filtrada[\"Edad\"] = pd.to_numeric(base_filtrada[\"Edad\"], errors=\"coerce\")\n",
    "\n",
    "# Filtrar las filas donde \"P208A\" es menor que 18\n",
    "base_filtrada = base_filtrada[base_filtrada[\"Edad\"] <= 18]"
   ]
  },
  {
   "cell_type": "code",
   "execution_count": 16,
   "id": "a776dbe0",
   "metadata": {
    "tags": []
   },
   "outputs": [
    {
     "data": {
      "text/html": [
       "<div>\n",
       "<style scoped>\n",
       "    .dataframe tbody tr th:only-of-type {\n",
       "        vertical-align: middle;\n",
       "    }\n",
       "\n",
       "    .dataframe tbody tr th {\n",
       "        vertical-align: top;\n",
       "    }\n",
       "\n",
       "    .dataframe thead th {\n",
       "        text-align: right;\n",
       "    }\n",
       "</style>\n",
       "<table border=\"1\" class=\"dataframe\">\n",
       "  <thead>\n",
       "    <tr style=\"text-align: right;\">\n",
       "      <th></th>\n",
       "      <th>conglome</th>\n",
       "      <th>vivienda</th>\n",
       "      <th>hogar</th>\n",
       "      <th>codperso</th>\n",
       "      <th>ubigeo</th>\n",
       "      <th>dominio</th>\n",
       "      <th>estrato</th>\n",
       "      <th>p301c</th>\n",
       "      <th>p300a</th>\n",
       "      <th>p304b</th>\n",
       "      <th>...</th>\n",
       "      <th>p1124</th>\n",
       "      <th>p1125</th>\n",
       "      <th>p1126</th>\n",
       "      <th>p1127</th>\n",
       "      <th>p1142</th>\n",
       "      <th>p1144</th>\n",
       "      <th>DEPARTAMENTO</th>\n",
       "      <th>AREA</th>\n",
       "      <th>Idioma</th>\n",
       "      <th>ZONA</th>\n",
       "    </tr>\n",
       "  </thead>\n",
       "  <tbody>\n",
       "    <tr>\n",
       "      <th>8</th>\n",
       "      <td>005009</td>\n",
       "      <td>098</td>\n",
       "      <td>11</td>\n",
       "      <td>05</td>\n",
       "      <td>010101</td>\n",
       "      <td>4</td>\n",
       "      <td>4</td>\n",
       "      <td>NaN</td>\n",
       "      <td>4.0</td>\n",
       "      <td>4.0</td>\n",
       "      <td>...</td>\n",
       "      <td>0.0</td>\n",
       "      <td>0.0</td>\n",
       "      <td>0.0</td>\n",
       "      <td>0.0</td>\n",
       "      <td>1.0</td>\n",
       "      <td>1.0</td>\n",
       "      <td>1</td>\n",
       "      <td>1</td>\n",
       "      <td>1</td>\n",
       "      <td>2</td>\n",
       "    </tr>\n",
       "  </tbody>\n",
       "</table>\n",
       "<p>1 rows × 88 columns</p>\n",
       "</div>"
      ],
      "text/plain": [
       "  conglome vivienda hogar codperso  ubigeo  dominio  estrato  p301c  p300a  \\\n",
       "8   005009      098    11       05  010101        4        4    NaN    4.0   \n",
       "\n",
       "   p304b  ...  p1124  p1125  p1126  p1127  p1142  p1144  DEPARTAMENTO  AREA  \\\n",
       "8    4.0  ...    0.0    0.0    0.0    0.0    1.0    1.0             1     1   \n",
       "\n",
       "   Idioma  ZONA  \n",
       "8       1     2  \n",
       "\n",
       "[1 rows x 88 columns]"
      ]
     },
     "execution_count": 16,
     "metadata": {},
     "output_type": "execute_result"
    }
   ],
   "source": [
    "base_filtrada.head(1)"
   ]
  },
  {
   "cell_type": "markdown",
   "id": "0f3b35c2-8468-4b06-bd98-3098d0b02ec7",
   "metadata": {
    "tags": []
   },
   "source": [
    "## Funciones"
   ]
  },
  {
   "cell_type": "raw",
   "id": "b42dd565-c863-448b-8197-c3a0c6b3eb38",
   "metadata": {},
   "source": [
    "def generar_tabla_recuento(dataframe, variable, descripcion_valores, guardar_como_jpeg=False, guardar_como_txt=False):\n",
    "    # Agrupa los datos por la columna 'variable' y suma 'factor07'\n",
    "    freq_ = dataframe[['factor07', variable]].groupby(variable).sum().reset_index()\n",
    "    \n",
    "    # Calcular el porcentaje y redondearlo a dos decimales directamente en esta línea\n",
    "    total_recuento = freq_['factor07'].sum()\n",
    "    freq_['Porcentaje'] = (freq_['factor07'] / total_recuento * 100).round(2)\n",
    "    \n",
    "    freq_.rename(columns={'factor07': 'Recuento'}, inplace=True)\n",
    "    freq_.rename(columns={'factor07': 'Recuento', variable:descripcion_valores}, inplace=True)\n",
    "    \n",
    "    # Formatear las columnas \"Recuento\" y \"Porcentaje\" como cadenas\n",
    "    #freq_['Recuento'] = freq_['Recuento'].apply(lambda x: '{:.0f}'.format(x))\n",
    "    freq_['Recuento'] = freq_['Recuento'].apply(lambda x: '{:,.0f}'.format(x))\n",
    "    freq_['Porcentaje'] = freq_['Porcentaje'].apply(lambda x: '{:.2f}'.format(x))\n",
    "    \n",
    "    if guardar_como_jpeg:\n",
    "        # Guardar la tabla formateada como una imagen JPEG en la ruta especificada\n",
    "        nombre_imagen = os.path.join(\"../output/images\", f\"{descripcion_valores}.jpeg\")\n",
    "        \n",
    "        # Configurar el tamaño y los márgenes de la figura\n",
    "        plt.figure(figsize=(6, 4))\n",
    "        plt.subplots_adjust(left=0.2, top=0.9, right=0.8, bottom=0.1)\n",
    "        \n",
    "        # Configurar el tamaño de la fuente para la tabla\n",
    "        plt.rc('font', size=9)\n",
    "        \n",
    "        # Crear una tabla en lugar de texto\n",
    "        tabla = plt.table(cellText=freq_.values, colLabels=freq_.columns, loc='center', cellLoc='center')\n",
    "        \n",
    "        # Establecer el formato de las celdas de la tabla\n",
    "        tabla.auto_set_font_size(False)\n",
    "        tabla.set_fontsize(10)\n",
    "        \n",
    "        # Ajustar el ancho de las columnas según el contenido\n",
    "        tabla.auto_set_column_width([0, 1, 2])\n",
    "        \n",
    "        # Ocultar los ejes\n",
    "        plt.axis('off')\n",
    "        \n",
    "        # Guardar la figura como imagen JPEG\n",
    "        plt.savefig(nombre_imagen, bbox_inches='tight', dpi=300)\n",
    "        plt.close()\n",
    "        #print(f\"La tabla se ha guardado como imagen en {nombre_imagen}\")\n",
    "    \n",
    "    if guardar_como_txt:\n",
    "        # Guardar la tabla formateada en un archivo de texto en la ruta especificada\n",
    "        nombre_archivo_txt = os.path.join(\"../output/tables\", f\"{descripcion_valores}.txt\")\n",
    "        with open(nombre_archivo_txt, 'w') as archivo:\n",
    "            # Encabezado de la tabla en formato LaTeX\n",
    "            #encabezado_latex = \"\\\\textbf{Descripción} & \\\\textbf{Recuento} & \\\\textbf{Porcentaje} \\\\\\\\\\n\"\n",
    "            encabezado_latex = f\"\\\\textbf{{{descripcion_valores}}} & \\\\textbf{{Recuento}} & \\\\textbf{{Porcentaje}} \\\\\\\\\\n\"\n",
    "            archivo.write(encabezado_latex)\n",
    "            \n",
    "            # Datos de la tabla en formato LaTeX\n",
    "            datos_latex = freq_.to_latex(index=False, header=False, escape=False)\n",
    "            archivo.write(\"\\\\midrule % Línea horizontal entre el encabezado y el contenido\\n\")\n",
    "            archivo.write(datos_latex)\n",
    "            archivo.write(\"\\\\\\\\\\n\")\n",
    "        \n",
    "        #print(f\"La tabla se ha guardado como archivo de texto en {nombre_archivo_txt}\")\n",
    "\n",
    "    return freq_\n"
   ]
  },
  {
   "cell_type": "code",
   "execution_count": 17,
   "id": "06ee3ddb-6f1c-49be-9880-fc948a130d38",
   "metadata": {},
   "outputs": [],
   "source": [
    "def generar_tabla_recuento(dataframe, variable, descripcion_valores, guardar_como_jpeg=False, guardar_como_txt=False):\n",
    "    # Agrupa los datos por la columna 'variable' y suma 'factor07'\n",
    "    freq_ = dataframe[['factor07', variable]].groupby(variable).sum().reset_index()\n",
    "    \n",
    "    # Calcular el porcentaje y redondearlo a dos decimales directamente en esta línea\n",
    "    total_recuento = freq_['factor07'].sum()\n",
    "    freq_['Porcentaje'] = (freq_['factor07'] / total_recuento * 100).round(2)\n",
    "    \n",
    "    freq_.rename(columns={'factor07': 'Recuento', variable: descripcion_valores}, inplace=True)\n",
    "    \n",
    "    # Calcular los totales\n",
    "    total_recuento = freq_['Recuento'].astype(float).sum()\n",
    "    total_porcentaje = freq_['Porcentaje'].astype(float).sum()\n",
    "    \n",
    "    # Crear una fila adicional para los totales\n",
    "    fila_total = pd.DataFrame({descripcion_valores: 'Total', 'Recuento': total_recuento, 'Porcentaje': total_porcentaje}, index=[0])\n",
    "\n",
    "        # Concatenar la fila total al DataFrame\n",
    "    freq_ = pd.concat([freq_, fila_total], ignore_index=True)\n",
    "    \n",
    "    # Formatear las columnas \"Recuento\" y \"Porcentaje\" como cadenas\n",
    "    freq_['Recuento'] = freq_['Recuento'].apply(lambda x: '{:,.0f}'.format(x))\n",
    "    freq_['Porcentaje'] = freq_['Porcentaje'].apply(lambda x: '{:.2f}'.format(x))\n",
    "    \n",
    "    if guardar_como_jpeg:\n",
    "        # Guardar la tabla formateada como una imagen JPEG en la ruta especificada\n",
    "        nombre_imagen = os.path.join(\"../output/images\", f\"{descripcion_valores}.jpeg\")\n",
    "        \n",
    "        # Configurar el tamaño y los márgenes de la figura\n",
    "        plt.figure(figsize=(6, 4))\n",
    "        plt.subplots_adjust(left=0.2, top=0.9, right=0.8, bottom=0.1)\n",
    "        \n",
    "        # Configurar el tamaño de la fuente para la tabla\n",
    "        plt.rc('font', size=9)\n",
    "        \n",
    "        # Crear una tabla en lugar de texto\n",
    "        tabla = plt.table(cellText=freq_.values, colLabels=freq_.columns, loc='center', cellLoc='center')\n",
    "        \n",
    "        # Establecer el formato de las celdas de la tabla\n",
    "        tabla.auto_set_font_size(False)\n",
    "        tabla.set_fontsize(10)\n",
    "        \n",
    "        # Ajustar el ancho de las columnas según el contenido\n",
    "        tabla.auto_set_column_width([0, 1, 2])\n",
    "        \n",
    "        # Ocultar los ejes\n",
    "        plt.axis('off')\n",
    "        \n",
    "        # Guardar la figura como imagen JPEG\n",
    "        plt.savefig(nombre_imagen, bbox_inches='tight', dpi=300)\n",
    "        plt.close()\n",
    "        #print(f\"La tabla se ha guardado como imagen en {nombre_imagen}\")\n",
    "    \n",
    "    if guardar_como_txt:\n",
    "        # Guardar la tabla formateada en un archivo de texto en la ruta especificada\n",
    "        nombre_archivo_txt = os.path.join(\"../output/tables\", f\"{descripcion_valores}.txt\")\n",
    "        with open(nombre_archivo_txt, 'w') as archivo:\n",
    "            # Encabezado de la tabla en formato LaTeX\n",
    "            #encabezado_latex = \"\\\\textbf{Descripción} & \\\\textbf{Recuento} & \\\\textbf{Porcentaje} \\\\\\\\\\n\"\n",
    "            encabezado_latex = f\"\\\\textbf{{{descripcion_valores}}} & \\\\textbf{{Recuento}} & \\\\textbf{{Porcentaje}} \\\\\\\\\\n\"\n",
    "            archivo.write(encabezado_latex)\n",
    "            \n",
    "            # Datos de la tabla en formato LaTeX\n",
    "            datos_latex = freq_.to_latex(index=False, header=False, escape=False)\n",
    "            archivo.write(\"\\\\midrule % Línea horizontal entre el encabezado y el contenido\\n\")\n",
    "            archivo.write(datos_latex)\n",
    "            archivo.write(\"\\\\\\\\\\n\")\n",
    "        \n",
    "        #print(f\"La tabla se ha guardado como archivo de texto en {nombre_archivo_txt}\")\n",
    "\n",
    "    return freq_\n"
   ]
  },
  {
   "cell_type": "code",
   "execution_count": 18,
   "id": "afd9fbcd-c6a1-4fb6-b34c-f481e3f27e18",
   "metadata": {},
   "outputs": [],
   "source": [
    "def guardar_histograma_con_pesos(base_de_datos, columna,descriptivo):\n",
    "    # Crear el histograma con pesos\n",
    "    sns.histplot(data=base_de_datos, x=columna, bins=15, kde=True, color='blue', edgecolor='black', \n",
    "                 weights=base_filtrada['factor07'])\n",
    "\n",
    "    # Etiquetas y título\n",
    "    plt.xlabel(f'{descriptivo}')\n",
    "    plt.ylabel('Frecuencia ponderada')\n",
    "    plt.title(f'Histograma {columna}')\n",
    "\n",
    "    # Generar el nombre del archivo de imagen basado en el nombre de la columna\n",
    "    nombre_archivo = f'histograma_{descriptivo}.png'\n",
    "\n",
    "    # Guardar la imagen en la ruta especificada\n",
    "    ruta_guardado = '../output/images/' + nombre_archivo\n",
    "    plt.savefig(ruta_guardado)\n",
    "\n",
    "    # Mostrar el histograma\n",
    "    plt.show()"
   ]
  },
  {
   "cell_type": "code",
   "execution_count": 19,
   "id": "af7990fe-634e-42a4-8364-2445c0c52493",
   "metadata": {},
   "outputs": [],
   "source": [
    "def guardar_graf_barras(columna_categorica):\n",
    "    # Crear el gráfico de barras ponderado\n",
    "    sns.barplot(x=columna_categorica, y='factor07', data=base_filtrada, estimator=sum)\n",
    "\n",
    "    # Etiquetas y título\n",
    "    plt.xlabel('Categoría')\n",
    "    plt.ylabel('Suma de Pesos')\n",
    "    plt.title(f'Gráfico de Barras Ponderado para {columna_categorica}')\n",
    "\n",
    "    # Generar el nombre del archivo de imagen basado en el nombre de la columna\n",
    "    nombre_archivo = f'grafico_barras_ponderado_{columna_categorica}.png'\n",
    "\n",
    "    # Guardar la imagen en la ruta especificada\n",
    "    ruta_guardado = '../output/images/' + nombre_archivo\n",
    "    plt.savefig(ruta_guardado)\n",
    "\n",
    "    # Mostrar el gráfico\n",
    "    plt.show()"
   ]
  },
  {
   "cell_type": "markdown",
   "id": "33806527",
   "metadata": {
    "tags": []
   },
   "source": [
    "# VARIABLES "
   ]
  },
  {
   "cell_type": "markdown",
   "id": "3f1c6954-9ad1-4f70-a79f-3dde3aea1e12",
   "metadata": {},
   "source": [
    "## Variables Continuas"
   ]
  },
  {
   "cell_type": "markdown",
   "id": "b580abeb-344e-4fa8-acea-01a77fc46c3d",
   "metadata": {},
   "source": [
    "#### Miembros por hogar"
   ]
  },
  {
   "cell_type": "code",
   "execution_count": 20,
   "id": "37314f0b",
   "metadata": {},
   "outputs": [
    {
     "data": {
      "text/html": [
       "<div>\n",
       "<style scoped>\n",
       "    .dataframe tbody tr th:only-of-type {\n",
       "        vertical-align: middle;\n",
       "    }\n",
       "\n",
       "    .dataframe tbody tr th {\n",
       "        vertical-align: top;\n",
       "    }\n",
       "\n",
       "    .dataframe thead th {\n",
       "        text-align: right;\n",
       "    }\n",
       "</style>\n",
       "<table border=\"1\" class=\"dataframe\">\n",
       "  <thead>\n",
       "    <tr style=\"text-align: right;\">\n",
       "      <th></th>\n",
       "      <th>Miembros por Hogar</th>\n",
       "      <th>Recuento</th>\n",
       "      <th>Porcentaje</th>\n",
       "    </tr>\n",
       "  </thead>\n",
       "  <tbody>\n",
       "    <tr>\n",
       "      <th>0</th>\n",
       "      <td>1</td>\n",
       "      <td>6,353</td>\n",
       "      <td>0.09</td>\n",
       "    </tr>\n",
       "    <tr>\n",
       "      <th>1</th>\n",
       "      <td>2</td>\n",
       "      <td>252,248</td>\n",
       "      <td>3.58</td>\n",
       "    </tr>\n",
       "    <tr>\n",
       "      <th>2</th>\n",
       "      <td>3</td>\n",
       "      <td>944,912</td>\n",
       "      <td>13.39</td>\n",
       "    </tr>\n",
       "    <tr>\n",
       "      <th>3</th>\n",
       "      <td>4</td>\n",
       "      <td>1,950,796</td>\n",
       "      <td>27.65</td>\n",
       "    </tr>\n",
       "    <tr>\n",
       "      <th>4</th>\n",
       "      <td>5</td>\n",
       "      <td>1,781,058</td>\n",
       "      <td>25.25</td>\n",
       "    </tr>\n",
       "    <tr>\n",
       "      <th>5</th>\n",
       "      <td>6</td>\n",
       "      <td>964,505</td>\n",
       "      <td>13.67</td>\n",
       "    </tr>\n",
       "    <tr>\n",
       "      <th>6</th>\n",
       "      <td>7</td>\n",
       "      <td>543,624</td>\n",
       "      <td>7.71</td>\n",
       "    </tr>\n",
       "    <tr>\n",
       "      <th>7</th>\n",
       "      <td>8</td>\n",
       "      <td>253,435</td>\n",
       "      <td>3.59</td>\n",
       "    </tr>\n",
       "    <tr>\n",
       "      <th>8</th>\n",
       "      <td>9</td>\n",
       "      <td>160,758</td>\n",
       "      <td>2.28</td>\n",
       "    </tr>\n",
       "    <tr>\n",
       "      <th>9</th>\n",
       "      <td>10</td>\n",
       "      <td>94,979</td>\n",
       "      <td>1.35</td>\n",
       "    </tr>\n",
       "    <tr>\n",
       "      <th>10</th>\n",
       "      <td>11</td>\n",
       "      <td>36,499</td>\n",
       "      <td>0.52</td>\n",
       "    </tr>\n",
       "    <tr>\n",
       "      <th>11</th>\n",
       "      <td>12</td>\n",
       "      <td>27,787</td>\n",
       "      <td>0.39</td>\n",
       "    </tr>\n",
       "    <tr>\n",
       "      <th>12</th>\n",
       "      <td>13</td>\n",
       "      <td>11,269</td>\n",
       "      <td>0.16</td>\n",
       "    </tr>\n",
       "    <tr>\n",
       "      <th>13</th>\n",
       "      <td>14</td>\n",
       "      <td>10,230</td>\n",
       "      <td>0.15</td>\n",
       "    </tr>\n",
       "    <tr>\n",
       "      <th>14</th>\n",
       "      <td>15</td>\n",
       "      <td>8,958</td>\n",
       "      <td>0.13</td>\n",
       "    </tr>\n",
       "    <tr>\n",
       "      <th>15</th>\n",
       "      <td>18</td>\n",
       "      <td>901</td>\n",
       "      <td>0.01</td>\n",
       "    </tr>\n",
       "    <tr>\n",
       "      <th>16</th>\n",
       "      <td>20</td>\n",
       "      <td>6,673</td>\n",
       "      <td>0.09</td>\n",
       "    </tr>\n",
       "    <tr>\n",
       "      <th>17</th>\n",
       "      <td>Total</td>\n",
       "      <td>7,054,985</td>\n",
       "      <td>100.01</td>\n",
       "    </tr>\n",
       "  </tbody>\n",
       "</table>\n",
       "</div>"
      ],
      "text/plain": [
       "   Miembros por Hogar   Recuento Porcentaje\n",
       "0                   1      6,353       0.09\n",
       "1                   2    252,248       3.58\n",
       "2                   3    944,912      13.39\n",
       "3                   4  1,950,796      27.65\n",
       "4                   5  1,781,058      25.25\n",
       "5                   6    964,505      13.67\n",
       "6                   7    543,624       7.71\n",
       "7                   8    253,435       3.59\n",
       "8                   9    160,758       2.28\n",
       "9                  10     94,979       1.35\n",
       "10                 11     36,499       0.52\n",
       "11                 12     27,787       0.39\n",
       "12                 13     11,269       0.16\n",
       "13                 14     10,230       0.15\n",
       "14                 15      8,958       0.13\n",
       "15                 18        901       0.01\n",
       "16                 20      6,673       0.09\n",
       "17              Total  7,054,985     100.01"
      ]
     },
     "execution_count": 20,
     "metadata": {},
     "output_type": "execute_result"
    }
   ],
   "source": [
    "generar_tabla_recuento(base_filtrada, \"mieperho\", \"Miembros por Hogar\",guardar_como_jpeg=True, guardar_como_txt=True)"
   ]
  },
  {
   "cell_type": "markdown",
   "id": "023479a6-371d-46d7-96fa-2817d61a0d53",
   "metadata": {},
   "source": [
    "#### Edad"
   ]
  },
  {
   "cell_type": "code",
   "execution_count": 21,
   "id": "066129bd",
   "metadata": {},
   "outputs": [
    {
     "data": {
      "text/html": [
       "<div>\n",
       "<style scoped>\n",
       "    .dataframe tbody tr th:only-of-type {\n",
       "        vertical-align: middle;\n",
       "    }\n",
       "\n",
       "    .dataframe tbody tr th {\n",
       "        vertical-align: top;\n",
       "    }\n",
       "\n",
       "    .dataframe thead th {\n",
       "        text-align: right;\n",
       "    }\n",
       "</style>\n",
       "<table border=\"1\" class=\"dataframe\">\n",
       "  <thead>\n",
       "    <tr style=\"text-align: right;\">\n",
       "      <th></th>\n",
       "      <th>Edad</th>\n",
       "      <th>Recuento</th>\n",
       "      <th>Porcentaje</th>\n",
       "    </tr>\n",
       "  </thead>\n",
       "  <tbody>\n",
       "    <tr>\n",
       "      <th>0</th>\n",
       "      <td>3.0</td>\n",
       "      <td>208,840</td>\n",
       "      <td>2.96</td>\n",
       "    </tr>\n",
       "    <tr>\n",
       "      <th>1</th>\n",
       "      <td>4.0</td>\n",
       "      <td>374,276</td>\n",
       "      <td>5.31</td>\n",
       "    </tr>\n",
       "    <tr>\n",
       "      <th>2</th>\n",
       "      <td>5.0</td>\n",
       "      <td>459,126</td>\n",
       "      <td>6.51</td>\n",
       "    </tr>\n",
       "    <tr>\n",
       "      <th>3</th>\n",
       "      <td>6.0</td>\n",
       "      <td>443,993</td>\n",
       "      <td>6.29</td>\n",
       "    </tr>\n",
       "    <tr>\n",
       "      <th>4</th>\n",
       "      <td>7.0</td>\n",
       "      <td>505,597</td>\n",
       "      <td>7.17</td>\n",
       "    </tr>\n",
       "    <tr>\n",
       "      <th>5</th>\n",
       "      <td>8.0</td>\n",
       "      <td>467,637</td>\n",
       "      <td>6.63</td>\n",
       "    </tr>\n",
       "    <tr>\n",
       "      <th>6</th>\n",
       "      <td>9.0</td>\n",
       "      <td>536,460</td>\n",
       "      <td>7.60</td>\n",
       "    </tr>\n",
       "    <tr>\n",
       "      <th>7</th>\n",
       "      <td>10.0</td>\n",
       "      <td>558,568</td>\n",
       "      <td>7.92</td>\n",
       "    </tr>\n",
       "    <tr>\n",
       "      <th>8</th>\n",
       "      <td>11.0</td>\n",
       "      <td>547,757</td>\n",
       "      <td>7.76</td>\n",
       "    </tr>\n",
       "    <tr>\n",
       "      <th>9</th>\n",
       "      <td>12.0</td>\n",
       "      <td>602,566</td>\n",
       "      <td>8.54</td>\n",
       "    </tr>\n",
       "    <tr>\n",
       "      <th>10</th>\n",
       "      <td>13.0</td>\n",
       "      <td>552,805</td>\n",
       "      <td>7.84</td>\n",
       "    </tr>\n",
       "    <tr>\n",
       "      <th>11</th>\n",
       "      <td>14.0</td>\n",
       "      <td>577,768</td>\n",
       "      <td>8.19</td>\n",
       "    </tr>\n",
       "    <tr>\n",
       "      <th>12</th>\n",
       "      <td>15.0</td>\n",
       "      <td>579,463</td>\n",
       "      <td>8.21</td>\n",
       "    </tr>\n",
       "    <tr>\n",
       "      <th>13</th>\n",
       "      <td>16.0</td>\n",
       "      <td>447,257</td>\n",
       "      <td>6.34</td>\n",
       "    </tr>\n",
       "    <tr>\n",
       "      <th>14</th>\n",
       "      <td>17.0</td>\n",
       "      <td>154,853</td>\n",
       "      <td>2.19</td>\n",
       "    </tr>\n",
       "    <tr>\n",
       "      <th>15</th>\n",
       "      <td>18.0</td>\n",
       "      <td>38,018</td>\n",
       "      <td>0.54</td>\n",
       "    </tr>\n",
       "    <tr>\n",
       "      <th>16</th>\n",
       "      <td>Total</td>\n",
       "      <td>7,054,985</td>\n",
       "      <td>100.00</td>\n",
       "    </tr>\n",
       "  </tbody>\n",
       "</table>\n",
       "</div>"
      ],
      "text/plain": [
       "     Edad   Recuento Porcentaje\n",
       "0     3.0    208,840       2.96\n",
       "1     4.0    374,276       5.31\n",
       "2     5.0    459,126       6.51\n",
       "3     6.0    443,993       6.29\n",
       "4     7.0    505,597       7.17\n",
       "5     8.0    467,637       6.63\n",
       "6     9.0    536,460       7.60\n",
       "7    10.0    558,568       7.92\n",
       "8    11.0    547,757       7.76\n",
       "9    12.0    602,566       8.54\n",
       "10   13.0    552,805       7.84\n",
       "11   14.0    577,768       8.19\n",
       "12   15.0    579,463       8.21\n",
       "13   16.0    447,257       6.34\n",
       "14   17.0    154,853       2.19\n",
       "15   18.0     38,018       0.54\n",
       "16  Total  7,054,985     100.00"
      ]
     },
     "execution_count": 21,
     "metadata": {},
     "output_type": "execute_result"
    }
   ],
   "source": [
    "generar_tabla_recuento(base_filtrada, \"Edad\", \"Edad\" , guardar_como_jpeg=True,  guardar_como_txt=True)##################"
   ]
  },
  {
   "cell_type": "markdown",
   "id": "cbfb81a0-db56-43ac-afdb-eba6dd71c97e",
   "metadata": {},
   "source": [
    "## Variables Cualitativas"
   ]
  },
  {
   "cell_type": "markdown",
   "id": "5b71dfca-db7a-4630-a4bb-a6e164d3e752",
   "metadata": {
    "tags": []
   },
   "source": [
    "#### Nivel Educativo y Centro de estudios"
   ]
  },
  {
   "cell_type": "code",
   "execution_count": 22,
   "id": "f1c99474",
   "metadata": {},
   "outputs": [
    {
     "data": {
      "text/html": [
       "<div>\n",
       "<style scoped>\n",
       "    .dataframe tbody tr th:only-of-type {\n",
       "        vertical-align: middle;\n",
       "    }\n",
       "\n",
       "    .dataframe tbody tr th {\n",
       "        vertical-align: top;\n",
       "    }\n",
       "\n",
       "    .dataframe thead th {\n",
       "        text-align: right;\n",
       "    }\n",
       "</style>\n",
       "<table border=\"1\" class=\"dataframe\">\n",
       "  <thead>\n",
       "    <tr style=\"text-align: right;\">\n",
       "      <th></th>\n",
       "      <th>Nivel Educativo</th>\n",
       "      <th>Recuento</th>\n",
       "      <th>Porcentaje</th>\n",
       "    </tr>\n",
       "  </thead>\n",
       "  <tbody>\n",
       "    <tr>\n",
       "      <th>0</th>\n",
       "      <td>1.0</td>\n",
       "      <td>1,179,954</td>\n",
       "      <td>16.73</td>\n",
       "    </tr>\n",
       "    <tr>\n",
       "      <th>1</th>\n",
       "      <td>2.0</td>\n",
       "      <td>3,219,312</td>\n",
       "      <td>45.63</td>\n",
       "    </tr>\n",
       "    <tr>\n",
       "      <th>2</th>\n",
       "      <td>3.0</td>\n",
       "      <td>2,655,718</td>\n",
       "      <td>37.64</td>\n",
       "    </tr>\n",
       "    <tr>\n",
       "      <th>3</th>\n",
       "      <td>Total</td>\n",
       "      <td>7,054,985</td>\n",
       "      <td>100.00</td>\n",
       "    </tr>\n",
       "  </tbody>\n",
       "</table>\n",
       "</div>"
      ],
      "text/plain": [
       "  Nivel Educativo   Recuento Porcentaje\n",
       "0             1.0  1,179,954      16.73\n",
       "1             2.0  3,219,312      45.63\n",
       "2             3.0  2,655,718      37.64\n",
       "3           Total  7,054,985     100.00"
      ]
     },
     "execution_count": 22,
     "metadata": {},
     "output_type": "execute_result"
    }
   ],
   "source": [
    "generar_tabla_recuento(base_filtrada, \"Nivel_educativo\", \"Nivel Educativo\",guardar_como_jpeg=True, guardar_como_txt=True)\n",
    "# 1 Educación Inicial  2 Primaria 3 Secundaria "
   ]
  },
  {
   "cell_type": "code",
   "execution_count": 23,
   "id": "7fd273a5",
   "metadata": {},
   "outputs": [
    {
     "data": {
      "text/html": [
       "<div>\n",
       "<style scoped>\n",
       "    .dataframe tbody tr th:only-of-type {\n",
       "        vertical-align: middle;\n",
       "    }\n",
       "\n",
       "    .dataframe tbody tr th {\n",
       "        vertical-align: top;\n",
       "    }\n",
       "\n",
       "    .dataframe thead th {\n",
       "        text-align: right;\n",
       "    }\n",
       "</style>\n",
       "<table border=\"1\" class=\"dataframe\">\n",
       "  <thead>\n",
       "    <tr style=\"text-align: right;\">\n",
       "      <th></th>\n",
       "      <th>Centro de Estudios</th>\n",
       "      <th>Recuento</th>\n",
       "      <th>Porcentaje</th>\n",
       "    </tr>\n",
       "  </thead>\n",
       "  <tbody>\n",
       "    <tr>\n",
       "      <th>0</th>\n",
       "      <td>1.0</td>\n",
       "      <td>5,935,242</td>\n",
       "      <td>84.13</td>\n",
       "    </tr>\n",
       "    <tr>\n",
       "      <th>1</th>\n",
       "      <td>2.0</td>\n",
       "      <td>1,119,743</td>\n",
       "      <td>15.87</td>\n",
       "    </tr>\n",
       "    <tr>\n",
       "      <th>2</th>\n",
       "      <td>Total</td>\n",
       "      <td>7,054,985</td>\n",
       "      <td>100.00</td>\n",
       "    </tr>\n",
       "  </tbody>\n",
       "</table>\n",
       "</div>"
      ],
      "text/plain": [
       "  Centro de Estudios   Recuento Porcentaje\n",
       "0                1.0  5,935,242      84.13\n",
       "1                2.0  1,119,743      15.87\n",
       "2              Total  7,054,985     100.00"
      ]
     },
     "execution_count": 23,
     "metadata": {},
     "output_type": "execute_result"
    }
   ],
   "source": [
    "generar_tabla_recuento(base_filtrada, \"Centro_estudios\", \"Centro de Estudios\",guardar_como_jpeg=True, guardar_como_txt=True)\n",
    "#descripcion_nivel_educativo = { 1 Estatal 2 No estatal}"
   ]
  },
  {
   "cell_type": "markdown",
   "id": "0792b75e-e6b7-42dd-8561-b059278a937e",
   "metadata": {},
   "source": [
    "#### Idioma y Sexo"
   ]
  },
  {
   "cell_type": "code",
   "execution_count": 24,
   "id": "829692a5",
   "metadata": {},
   "outputs": [
    {
     "data": {
      "text/html": [
       "<div>\n",
       "<style scoped>\n",
       "    .dataframe tbody tr th:only-of-type {\n",
       "        vertical-align: middle;\n",
       "    }\n",
       "\n",
       "    .dataframe tbody tr th {\n",
       "        vertical-align: top;\n",
       "    }\n",
       "\n",
       "    .dataframe thead th {\n",
       "        text-align: right;\n",
       "    }\n",
       "</style>\n",
       "<table border=\"1\" class=\"dataframe\">\n",
       "  <thead>\n",
       "    <tr style=\"text-align: right;\">\n",
       "      <th></th>\n",
       "      <th>Idioma</th>\n",
       "      <th>Recuento</th>\n",
       "      <th>Porcentaje</th>\n",
       "    </tr>\n",
       "  </thead>\n",
       "  <tbody>\n",
       "    <tr>\n",
       "      <th>0</th>\n",
       "      <td>0</td>\n",
       "      <td>560,849</td>\n",
       "      <td>7.95</td>\n",
       "    </tr>\n",
       "    <tr>\n",
       "      <th>1</th>\n",
       "      <td>1</td>\n",
       "      <td>6,494,136</td>\n",
       "      <td>92.05</td>\n",
       "    </tr>\n",
       "    <tr>\n",
       "      <th>2</th>\n",
       "      <td>Total</td>\n",
       "      <td>7,054,985</td>\n",
       "      <td>100.00</td>\n",
       "    </tr>\n",
       "  </tbody>\n",
       "</table>\n",
       "</div>"
      ],
      "text/plain": [
       "  Idioma   Recuento Porcentaje\n",
       "0      0    560,849       7.95\n",
       "1      1  6,494,136      92.05\n",
       "2  Total  7,054,985     100.00"
      ]
     },
     "execution_count": 24,
     "metadata": {},
     "output_type": "execute_result"
    }
   ],
   "source": [
    "generar_tabla_recuento(base_filtrada, \"Idioma\", \"Idioma\",guardar_como_jpeg=True, guardar_como_txt=True)   #{1: \"Castellano\", 0: \"Otros\"}"
   ]
  },
  {
   "cell_type": "code",
   "execution_count": 25,
   "id": "18c84e20",
   "metadata": {},
   "outputs": [
    {
     "data": {
      "text/html": [
       "<div>\n",
       "<style scoped>\n",
       "    .dataframe tbody tr th:only-of-type {\n",
       "        vertical-align: middle;\n",
       "    }\n",
       "\n",
       "    .dataframe tbody tr th {\n",
       "        vertical-align: top;\n",
       "    }\n",
       "\n",
       "    .dataframe thead th {\n",
       "        text-align: right;\n",
       "    }\n",
       "</style>\n",
       "<table border=\"1\" class=\"dataframe\">\n",
       "  <thead>\n",
       "    <tr style=\"text-align: right;\">\n",
       "      <th></th>\n",
       "      <th>Sexo</th>\n",
       "      <th>Recuento</th>\n",
       "      <th>Porcentaje</th>\n",
       "    </tr>\n",
       "  </thead>\n",
       "  <tbody>\n",
       "    <tr>\n",
       "      <th>0</th>\n",
       "      <td>0.0</td>\n",
       "      <td>3,587,954</td>\n",
       "      <td>50.86</td>\n",
       "    </tr>\n",
       "    <tr>\n",
       "      <th>1</th>\n",
       "      <td>1.0</td>\n",
       "      <td>3,467,031</td>\n",
       "      <td>49.14</td>\n",
       "    </tr>\n",
       "    <tr>\n",
       "      <th>2</th>\n",
       "      <td>Total</td>\n",
       "      <td>7,054,985</td>\n",
       "      <td>100.00</td>\n",
       "    </tr>\n",
       "  </tbody>\n",
       "</table>\n",
       "</div>"
      ],
      "text/plain": [
       "    Sexo   Recuento Porcentaje\n",
       "0    0.0  3,587,954      50.86\n",
       "1    1.0  3,467,031      49.14\n",
       "2  Total  7,054,985     100.00"
      ]
     },
     "execution_count": 25,
     "metadata": {},
     "output_type": "execute_result"
    }
   ],
   "source": [
    "generar_tabla_recuento(base_filtrada, \"Sexo\", \"Sexo\", guardar_como_jpeg=True)  # 1 Hombre 2 Mujer ###########"
   ]
  },
  {
   "cell_type": "markdown",
   "id": "8486058c-0926-473c-994d-11478355e473",
   "metadata": {
    "tags": []
   },
   "source": [
    "#### Area y Estrato social"
   ]
  },
  {
   "cell_type": "code",
   "execution_count": 26,
   "id": "62fb5ab4",
   "metadata": {},
   "outputs": [
    {
     "data": {
      "text/html": [
       "<div>\n",
       "<style scoped>\n",
       "    .dataframe tbody tr th:only-of-type {\n",
       "        vertical-align: middle;\n",
       "    }\n",
       "\n",
       "    .dataframe tbody tr th {\n",
       "        vertical-align: top;\n",
       "    }\n",
       "\n",
       "    .dataframe thead th {\n",
       "        text-align: right;\n",
       "    }\n",
       "</style>\n",
       "<table border=\"1\" class=\"dataframe\">\n",
       "  <thead>\n",
       "    <tr style=\"text-align: right;\">\n",
       "      <th></th>\n",
       "      <th>Area</th>\n",
       "      <th>Recuento</th>\n",
       "      <th>Porcentaje</th>\n",
       "    </tr>\n",
       "  </thead>\n",
       "  <tbody>\n",
       "    <tr>\n",
       "      <th>0</th>\n",
       "      <td>0</td>\n",
       "      <td>1,775,518</td>\n",
       "      <td>25.17</td>\n",
       "    </tr>\n",
       "    <tr>\n",
       "      <th>1</th>\n",
       "      <td>1</td>\n",
       "      <td>5,279,466</td>\n",
       "      <td>74.83</td>\n",
       "    </tr>\n",
       "    <tr>\n",
       "      <th>2</th>\n",
       "      <td>Total</td>\n",
       "      <td>7,054,985</td>\n",
       "      <td>100.00</td>\n",
       "    </tr>\n",
       "  </tbody>\n",
       "</table>\n",
       "</div>"
      ],
      "text/plain": [
       "    Area   Recuento Porcentaje\n",
       "0      0  1,775,518      25.17\n",
       "1      1  5,279,466      74.83\n",
       "2  Total  7,054,985     100.00"
      ]
     },
     "execution_count": 26,
     "metadata": {},
     "output_type": "execute_result"
    }
   ],
   "source": [
    "generar_tabla_recuento(base_filtrada, \"AREA\", \"Area\",guardar_como_jpeg=True, guardar_como_txt=True) #{1: \"Urbano\", 0: \"Rural\"}"
   ]
  },
  {
   "cell_type": "code",
   "execution_count": 27,
   "id": "739456e8",
   "metadata": {},
   "outputs": [
    {
     "data": {
      "text/html": [
       "<div>\n",
       "<style scoped>\n",
       "    .dataframe tbody tr th:only-of-type {\n",
       "        vertical-align: middle;\n",
       "    }\n",
       "\n",
       "    .dataframe tbody tr th {\n",
       "        vertical-align: top;\n",
       "    }\n",
       "\n",
       "    .dataframe thead th {\n",
       "        text-align: right;\n",
       "    }\n",
       "</style>\n",
       "<table border=\"1\" class=\"dataframe\">\n",
       "  <thead>\n",
       "    <tr style=\"text-align: right;\">\n",
       "      <th></th>\n",
       "      <th>Estrato Social</th>\n",
       "      <th>Recuento</th>\n",
       "      <th>Porcentaje</th>\n",
       "    </tr>\n",
       "  </thead>\n",
       "  <tbody>\n",
       "    <tr>\n",
       "      <th>0</th>\n",
       "      <td>1</td>\n",
       "      <td>47,133</td>\n",
       "      <td>0.67</td>\n",
       "    </tr>\n",
       "    <tr>\n",
       "      <th>1</th>\n",
       "      <td>2</td>\n",
       "      <td>140,838</td>\n",
       "      <td>2.00</td>\n",
       "    </tr>\n",
       "    <tr>\n",
       "      <th>2</th>\n",
       "      <td>3</td>\n",
       "      <td>487,078</td>\n",
       "      <td>6.90</td>\n",
       "    </tr>\n",
       "    <tr>\n",
       "      <th>3</th>\n",
       "      <td>4</td>\n",
       "      <td>1,851,881</td>\n",
       "      <td>26.25</td>\n",
       "    </tr>\n",
       "    <tr>\n",
       "      <th>4</th>\n",
       "      <td>5</td>\n",
       "      <td>2,752,537</td>\n",
       "      <td>39.02</td>\n",
       "    </tr>\n",
       "    <tr>\n",
       "      <th>5</th>\n",
       "      <td>6</td>\n",
       "      <td>1,775,518</td>\n",
       "      <td>25.17</td>\n",
       "    </tr>\n",
       "    <tr>\n",
       "      <th>6</th>\n",
       "      <td>Total</td>\n",
       "      <td>7,054,985</td>\n",
       "      <td>100.01</td>\n",
       "    </tr>\n",
       "  </tbody>\n",
       "</table>\n",
       "</div>"
      ],
      "text/plain": [
       "  Estrato Social   Recuento Porcentaje\n",
       "0              1     47,133       0.67\n",
       "1              2    140,838       2.00\n",
       "2              3    487,078       6.90\n",
       "3              4  1,851,881      26.25\n",
       "4              5  2,752,537      39.02\n",
       "5              6  1,775,518      25.17\n",
       "6          Total  7,054,985     100.01"
      ]
     },
     "execution_count": 27,
     "metadata": {},
     "output_type": "execute_result"
    }
   ],
   "source": [
    "generar_tabla_recuento(base_filtrada, \"estrsocial\", \"Estrato Social\",guardar_como_jpeg=True, guardar_como_txt=True)\n",
    "# 1 “A” 2 “B” 3 “C” 4 “D” 5 “E” 6 “RURAL”"
   ]
  },
  {
   "cell_type": "markdown",
   "id": "edfe1e61-038d-4ee4-8213-149a8e7a09b6",
   "metadata": {},
   "source": [
    "#### Electricidad y Zona"
   ]
  },
  {
   "cell_type": "code",
   "execution_count": 28,
   "id": "aae90ee2",
   "metadata": {},
   "outputs": [
    {
     "data": {
      "text/html": [
       "<div>\n",
       "<style scoped>\n",
       "    .dataframe tbody tr th:only-of-type {\n",
       "        vertical-align: middle;\n",
       "    }\n",
       "\n",
       "    .dataframe tbody tr th {\n",
       "        vertical-align: top;\n",
       "    }\n",
       "\n",
       "    .dataframe thead th {\n",
       "        text-align: right;\n",
       "    }\n",
       "</style>\n",
       "<table border=\"1\" class=\"dataframe\">\n",
       "  <thead>\n",
       "    <tr style=\"text-align: right;\">\n",
       "      <th></th>\n",
       "      <th>Electricidad</th>\n",
       "      <th>Recuento</th>\n",
       "      <th>Porcentaje</th>\n",
       "    </tr>\n",
       "  </thead>\n",
       "  <tbody>\n",
       "    <tr>\n",
       "      <th>0</th>\n",
       "      <td>0.0</td>\n",
       "      <td>340,455</td>\n",
       "      <td>4.83</td>\n",
       "    </tr>\n",
       "    <tr>\n",
       "      <th>1</th>\n",
       "      <td>1.0</td>\n",
       "      <td>6,714,530</td>\n",
       "      <td>95.17</td>\n",
       "    </tr>\n",
       "    <tr>\n",
       "      <th>2</th>\n",
       "      <td>Total</td>\n",
       "      <td>7,054,985</td>\n",
       "      <td>100.00</td>\n",
       "    </tr>\n",
       "  </tbody>\n",
       "</table>\n",
       "</div>"
      ],
      "text/plain": [
       "  Electricidad   Recuento Porcentaje\n",
       "0          0.0    340,455       4.83\n",
       "1          1.0  6,714,530      95.17\n",
       "2        Total  7,054,985     100.00"
      ]
     },
     "execution_count": 28,
     "metadata": {},
     "output_type": "execute_result"
    }
   ],
   "source": [
    "generar_tabla_recuento(base_filtrada, \"Electricidad\", \"Electricidad\", True, True) ##################"
   ]
  },
  {
   "cell_type": "code",
   "execution_count": 29,
   "id": "e47501de-3fb8-4cb3-86b7-efaa627d1cdd",
   "metadata": {},
   "outputs": [],
   "source": [
    "#dict_zona = { 1:1, 2:1, 3: 1, 4:2, 5:2, 6:2, 7:3, 8: 4}\n",
    "#merged_data[\"ZONA\"] = merged_data[\"dominio\"].map(dict_zona)"
   ]
  },
  {
   "cell_type": "markdown",
   "id": "17a05fc1-fa64-4e86-bde8-b8f957e7390e",
   "metadata": {},
   "source": [
    "#### Departamento"
   ]
  },
  {
   "cell_type": "code",
   "execution_count": 30,
   "id": "1a8ed003-1b21-4a0c-98d6-8538bfcf49f4",
   "metadata": {},
   "outputs": [
    {
     "data": {
      "text/html": [
       "<div>\n",
       "<style scoped>\n",
       "    .dataframe tbody tr th:only-of-type {\n",
       "        vertical-align: middle;\n",
       "    }\n",
       "\n",
       "    .dataframe tbody tr th {\n",
       "        vertical-align: top;\n",
       "    }\n",
       "\n",
       "    .dataframe thead th {\n",
       "        text-align: right;\n",
       "    }\n",
       "</style>\n",
       "<table border=\"1\" class=\"dataframe\">\n",
       "  <thead>\n",
       "    <tr style=\"text-align: right;\">\n",
       "      <th></th>\n",
       "      <th>Zona</th>\n",
       "      <th>Recuento</th>\n",
       "      <th>Porcentaje</th>\n",
       "    </tr>\n",
       "  </thead>\n",
       "  <tbody>\n",
       "    <tr>\n",
       "      <th>0</th>\n",
       "      <td>1</td>\n",
       "      <td>1,682,038</td>\n",
       "      <td>23.84</td>\n",
       "    </tr>\n",
       "    <tr>\n",
       "      <th>1</th>\n",
       "      <td>2</td>\n",
       "      <td>2,268,271</td>\n",
       "      <td>32.15</td>\n",
       "    </tr>\n",
       "    <tr>\n",
       "      <th>2</th>\n",
       "      <td>3</td>\n",
       "      <td>1,096,850</td>\n",
       "      <td>15.55</td>\n",
       "    </tr>\n",
       "    <tr>\n",
       "      <th>3</th>\n",
       "      <td>4</td>\n",
       "      <td>2,007,826</td>\n",
       "      <td>28.46</td>\n",
       "    </tr>\n",
       "    <tr>\n",
       "      <th>4</th>\n",
       "      <td>Total</td>\n",
       "      <td>7,054,985</td>\n",
       "      <td>100.00</td>\n",
       "    </tr>\n",
       "  </tbody>\n",
       "</table>\n",
       "</div>"
      ],
      "text/plain": [
       "    Zona   Recuento Porcentaje\n",
       "0      1  1,682,038      23.84\n",
       "1      2  2,268,271      32.15\n",
       "2      3  1,096,850      15.55\n",
       "3      4  2,007,826      28.46\n",
       "4  Total  7,054,985     100.00"
      ]
     },
     "execution_count": 30,
     "metadata": {},
     "output_type": "execute_result"
    }
   ],
   "source": [
    "generar_tabla_recuento(base_filtrada, \"ZONA\", \"Zona\", True, True) ##################"
   ]
  },
  {
   "cell_type": "code",
   "execution_count": 31,
   "id": "068aaf64-c636-42aa-a14e-e765b19d02d9",
   "metadata": {},
   "outputs": [
    {
     "data": {
      "text/html": [
       "<div>\n",
       "<style scoped>\n",
       "    .dataframe tbody tr th:only-of-type {\n",
       "        vertical-align: middle;\n",
       "    }\n",
       "\n",
       "    .dataframe tbody tr th {\n",
       "        vertical-align: top;\n",
       "    }\n",
       "\n",
       "    .dataframe thead th {\n",
       "        text-align: right;\n",
       "    }\n",
       "</style>\n",
       "<table border=\"1\" class=\"dataframe\">\n",
       "  <thead>\n",
       "    <tr style=\"text-align: right;\">\n",
       "      <th></th>\n",
       "      <th>Departamento</th>\n",
       "      <th>Recuento</th>\n",
       "      <th>Porcentaje</th>\n",
       "    </tr>\n",
       "  </thead>\n",
       "  <tbody>\n",
       "    <tr>\n",
       "      <th>0</th>\n",
       "      <td>1</td>\n",
       "      <td>106,104</td>\n",
       "      <td>1.50</td>\n",
       "    </tr>\n",
       "    <tr>\n",
       "      <th>1</th>\n",
       "      <td>2</td>\n",
       "      <td>279,993</td>\n",
       "      <td>3.97</td>\n",
       "    </tr>\n",
       "    <tr>\n",
       "      <th>2</th>\n",
       "      <td>3</td>\n",
       "      <td>98,716</td>\n",
       "      <td>1.40</td>\n",
       "    </tr>\n",
       "    <tr>\n",
       "      <th>3</th>\n",
       "      <td>4</td>\n",
       "      <td>256,887</td>\n",
       "      <td>3.64</td>\n",
       "    </tr>\n",
       "    <tr>\n",
       "      <th>4</th>\n",
       "      <td>5</td>\n",
       "      <td>175,311</td>\n",
       "      <td>2.48</td>\n",
       "    </tr>\n",
       "    <tr>\n",
       "      <th>5</th>\n",
       "      <td>6</td>\n",
       "      <td>381,635</td>\n",
       "      <td>5.41</td>\n",
       "    </tr>\n",
       "    <tr>\n",
       "      <th>6</th>\n",
       "      <td>7</td>\n",
       "      <td>218,237</td>\n",
       "      <td>3.09</td>\n",
       "    </tr>\n",
       "    <tr>\n",
       "      <th>7</th>\n",
       "      <td>8</td>\n",
       "      <td>297,819</td>\n",
       "      <td>4.22</td>\n",
       "    </tr>\n",
       "    <tr>\n",
       "      <th>8</th>\n",
       "      <td>9</td>\n",
       "      <td>128,674</td>\n",
       "      <td>1.82</td>\n",
       "    </tr>\n",
       "    <tr>\n",
       "      <th>9</th>\n",
       "      <td>10</td>\n",
       "      <td>222,918</td>\n",
       "      <td>3.16</td>\n",
       "    </tr>\n",
       "    <tr>\n",
       "      <th>10</th>\n",
       "      <td>11</td>\n",
       "      <td>181,737</td>\n",
       "      <td>2.58</td>\n",
       "    </tr>\n",
       "    <tr>\n",
       "      <th>11</th>\n",
       "      <td>12</td>\n",
       "      <td>297,714</td>\n",
       "      <td>4.22</td>\n",
       "    </tr>\n",
       "    <tr>\n",
       "      <th>12</th>\n",
       "      <td>13</td>\n",
       "      <td>431,989</td>\n",
       "      <td>6.12</td>\n",
       "    </tr>\n",
       "    <tr>\n",
       "      <th>13</th>\n",
       "      <td>14</td>\n",
       "      <td>267,795</td>\n",
       "      <td>3.80</td>\n",
       "    </tr>\n",
       "    <tr>\n",
       "      <th>14</th>\n",
       "      <td>15</td>\n",
       "      <td>1,970,970</td>\n",
       "      <td>27.94</td>\n",
       "    </tr>\n",
       "    <tr>\n",
       "      <th>15</th>\n",
       "      <td>16</td>\n",
       "      <td>311,396</td>\n",
       "      <td>4.41</td>\n",
       "    </tr>\n",
       "    <tr>\n",
       "      <th>16</th>\n",
       "      <td>17</td>\n",
       "      <td>32,848</td>\n",
       "      <td>0.47</td>\n",
       "    </tr>\n",
       "    <tr>\n",
       "      <th>17</th>\n",
       "      <td>18</td>\n",
       "      <td>36,866</td>\n",
       "      <td>0.52</td>\n",
       "    </tr>\n",
       "    <tr>\n",
       "      <th>18</th>\n",
       "      <td>19</td>\n",
       "      <td>69,031</td>\n",
       "      <td>0.98</td>\n",
       "    </tr>\n",
       "    <tr>\n",
       "      <th>19</th>\n",
       "      <td>20</td>\n",
       "      <td>491,623</td>\n",
       "      <td>6.97</td>\n",
       "    </tr>\n",
       "    <tr>\n",
       "      <th>20</th>\n",
       "      <td>21</td>\n",
       "      <td>305,064</td>\n",
       "      <td>4.32</td>\n",
       "    </tr>\n",
       "    <tr>\n",
       "      <th>21</th>\n",
       "      <td>22</td>\n",
       "      <td>224,515</td>\n",
       "      <td>3.18</td>\n",
       "    </tr>\n",
       "    <tr>\n",
       "      <th>22</th>\n",
       "      <td>23</td>\n",
       "      <td>65,088</td>\n",
       "      <td>0.92</td>\n",
       "    </tr>\n",
       "    <tr>\n",
       "      <th>23</th>\n",
       "      <td>24</td>\n",
       "      <td>61,825</td>\n",
       "      <td>0.88</td>\n",
       "    </tr>\n",
       "    <tr>\n",
       "      <th>24</th>\n",
       "      <td>25</td>\n",
       "      <td>140,227</td>\n",
       "      <td>1.99</td>\n",
       "    </tr>\n",
       "    <tr>\n",
       "      <th>25</th>\n",
       "      <td>Total</td>\n",
       "      <td>7,054,985</td>\n",
       "      <td>99.99</td>\n",
       "    </tr>\n",
       "  </tbody>\n",
       "</table>\n",
       "</div>"
      ],
      "text/plain": [
       "   Departamento   Recuento Porcentaje\n",
       "0             1    106,104       1.50\n",
       "1             2    279,993       3.97\n",
       "2             3     98,716       1.40\n",
       "3             4    256,887       3.64\n",
       "4             5    175,311       2.48\n",
       "5             6    381,635       5.41\n",
       "6             7    218,237       3.09\n",
       "7             8    297,819       4.22\n",
       "8             9    128,674       1.82\n",
       "9            10    222,918       3.16\n",
       "10           11    181,737       2.58\n",
       "11           12    297,714       4.22\n",
       "12           13    431,989       6.12\n",
       "13           14    267,795       3.80\n",
       "14           15  1,970,970      27.94\n",
       "15           16    311,396       4.41\n",
       "16           17     32,848       0.47\n",
       "17           18     36,866       0.52\n",
       "18           19     69,031       0.98\n",
       "19           20    491,623       6.97\n",
       "20           21    305,064       4.32\n",
       "21           22    224,515       3.18\n",
       "22           23     65,088       0.92\n",
       "23           24     61,825       0.88\n",
       "24           25    140,227       1.99\n",
       "25        Total  7,054,985      99.99"
      ]
     },
     "execution_count": 31,
     "metadata": {},
     "output_type": "execute_result"
    }
   ],
   "source": [
    "generar_tabla_recuento(base_filtrada, \"DEPARTAMENTO\", \"Departamento\", True, True) ##################"
   ]
  },
  {
   "cell_type": "markdown",
   "id": "dc063270-f5b0-416a-9b50-67c1684a4f70",
   "metadata": {},
   "source": [
    "## DIMENSIÓN DE USO"
   ]
  },
  {
   "cell_type": "markdown",
   "id": "846f4dff-34fc-454f-92f1-9c10f1780df8",
   "metadata": {},
   "source": [
    "### Uso de Internet"
   ]
  },
  {
   "cell_type": "code",
   "execution_count": 32,
   "id": "3f36de65",
   "metadata": {},
   "outputs": [
    {
     "data": {
      "text/html": [
       "<div>\n",
       "<style scoped>\n",
       "    .dataframe tbody tr th:only-of-type {\n",
       "        vertical-align: middle;\n",
       "    }\n",
       "\n",
       "    .dataframe tbody tr th {\n",
       "        vertical-align: top;\n",
       "    }\n",
       "\n",
       "    .dataframe thead th {\n",
       "        text-align: right;\n",
       "    }\n",
       "</style>\n",
       "<table border=\"1\" class=\"dataframe\">\n",
       "  <thead>\n",
       "    <tr style=\"text-align: right;\">\n",
       "      <th></th>\n",
       "      <th>Uso Internet</th>\n",
       "      <th>Recuento</th>\n",
       "      <th>Porcentaje</th>\n",
       "    </tr>\n",
       "  </thead>\n",
       "  <tbody>\n",
       "    <tr>\n",
       "      <th>0</th>\n",
       "      <td>1.0</td>\n",
       "      <td>4,273,676</td>\n",
       "      <td>71.07</td>\n",
       "    </tr>\n",
       "    <tr>\n",
       "      <th>1</th>\n",
       "      <td>2.0</td>\n",
       "      <td>1,739,855</td>\n",
       "      <td>28.93</td>\n",
       "    </tr>\n",
       "    <tr>\n",
       "      <th>2</th>\n",
       "      <td>Total</td>\n",
       "      <td>6,013,532</td>\n",
       "      <td>100.00</td>\n",
       "    </tr>\n",
       "  </tbody>\n",
       "</table>\n",
       "</div>"
      ],
      "text/plain": [
       "  Uso Internet   Recuento Porcentaje\n",
       "0          1.0  4,273,676      71.07\n",
       "1          2.0  1,739,855      28.93\n",
       "2        Total  6,013,532     100.00"
      ]
     },
     "execution_count": 32,
     "metadata": {},
     "output_type": "execute_result"
    }
   ],
   "source": [
    "generar_tabla_recuento(base_filtrada, \"i_uso\", \"Uso Internet\",  guardar_como_jpeg=True, guardar_como_txt=True)  \n",
    "#En el mes anterior, ¿ Ud. hizo uso del Servicio de Internet? 1 Si 2 No"
   ]
  },
  {
   "cell_type": "markdown",
   "id": "78cf6817-9a6e-4e5f-8e73-221e528d8f83",
   "metadata": {},
   "source": [
    "### Uso de Internet en el hogar - Y"
   ]
  },
  {
   "cell_type": "code",
   "execution_count": 33,
   "id": "85886290",
   "metadata": {},
   "outputs": [
    {
     "data": {
      "text/html": [
       "<div>\n",
       "<style scoped>\n",
       "    .dataframe tbody tr th:only-of-type {\n",
       "        vertical-align: middle;\n",
       "    }\n",
       "\n",
       "    .dataframe tbody tr th {\n",
       "        vertical-align: top;\n",
       "    }\n",
       "\n",
       "    .dataframe thead th {\n",
       "        text-align: right;\n",
       "    }\n",
       "</style>\n",
       "<table border=\"1\" class=\"dataframe\">\n",
       "  <thead>\n",
       "    <tr style=\"text-align: right;\">\n",
       "      <th></th>\n",
       "      <th>Uso de Internet en el hogar</th>\n",
       "      <th>Recuento</th>\n",
       "      <th>Porcentaje</th>\n",
       "    </tr>\n",
       "  </thead>\n",
       "  <tbody>\n",
       "    <tr>\n",
       "      <th>0</th>\n",
       "      <td>0.0</td>\n",
       "      <td>1,460,285</td>\n",
       "      <td>74.84</td>\n",
       "    </tr>\n",
       "    <tr>\n",
       "      <th>1</th>\n",
       "      <td>1.0</td>\n",
       "      <td>490,830</td>\n",
       "      <td>25.16</td>\n",
       "    </tr>\n",
       "    <tr>\n",
       "      <th>2</th>\n",
       "      <td>Total</td>\n",
       "      <td>1,951,115</td>\n",
       "      <td>100.00</td>\n",
       "    </tr>\n",
       "  </tbody>\n",
       "</table>\n",
       "</div>"
      ],
      "text/plain": [
       "  Uso de Internet en el hogar   Recuento Porcentaje\n",
       "0                         0.0  1,460,285      74.84\n",
       "1                         1.0    490,830      25.16\n",
       "2                       Total  1,951,115     100.00"
      ]
     },
     "execution_count": 33,
     "metadata": {},
     "output_type": "execute_result"
    }
   ],
   "source": [
    "generar_tabla_recuento(base_filtrada, \"i_uso_hog\", \"Uso de Internet en el hogar\",guardar_como_jpeg=True, guardar_como_txt=True)"
   ]
  },
  {
   "cell_type": "markdown",
   "id": "d3efadb0-2ef7-4aa5-9330-22a1cdfa1518",
   "metadata": {},
   "source": [
    "### Uso de Internet en el trabajo"
   ]
  },
  {
   "cell_type": "code",
   "execution_count": 34,
   "id": "59eb5158",
   "metadata": {},
   "outputs": [
    {
     "data": {
      "text/html": [
       "<div>\n",
       "<style scoped>\n",
       "    .dataframe tbody tr th:only-of-type {\n",
       "        vertical-align: middle;\n",
       "    }\n",
       "\n",
       "    .dataframe tbody tr th {\n",
       "        vertical-align: top;\n",
       "    }\n",
       "\n",
       "    .dataframe thead th {\n",
       "        text-align: right;\n",
       "    }\n",
       "</style>\n",
       "<table border=\"1\" class=\"dataframe\">\n",
       "  <thead>\n",
       "    <tr style=\"text-align: right;\">\n",
       "      <th></th>\n",
       "      <th>Uso de Internet en el trabajo</th>\n",
       "      <th>Recuento</th>\n",
       "      <th>Porcentaje</th>\n",
       "    </tr>\n",
       "  </thead>\n",
       "  <tbody>\n",
       "    <tr>\n",
       "      <th>0</th>\n",
       "      <td>0.0</td>\n",
       "      <td>1,948,208</td>\n",
       "      <td>99.85</td>\n",
       "    </tr>\n",
       "    <tr>\n",
       "      <th>1</th>\n",
       "      <td>2.0</td>\n",
       "      <td>2,907</td>\n",
       "      <td>0.15</td>\n",
       "    </tr>\n",
       "    <tr>\n",
       "      <th>2</th>\n",
       "      <td>Total</td>\n",
       "      <td>1,951,115</td>\n",
       "      <td>100.00</td>\n",
       "    </tr>\n",
       "  </tbody>\n",
       "</table>\n",
       "</div>"
      ],
      "text/plain": [
       "  Uso de Internet en el trabajo   Recuento Porcentaje\n",
       "0                           0.0  1,948,208      99.85\n",
       "1                           2.0      2,907       0.15\n",
       "2                         Total  1,951,115     100.00"
      ]
     },
     "execution_count": 34,
     "metadata": {},
     "output_type": "execute_result"
    }
   ],
   "source": [
    "generar_tabla_recuento(base_filtrada, \"i_uso_trab\", \"Uso de Internet en el trabajo\",guardar_como_jpeg=True, guardar_como_txt=True)"
   ]
  },
  {
   "cell_type": "markdown",
   "id": "fc4de12b-0e9e-4146-84fc-6e13ca637b3b",
   "metadata": {},
   "source": [
    "### Uso de internet en el establecimiento educativo"
   ]
  },
  {
   "cell_type": "code",
   "execution_count": 35,
   "id": "18038ec0",
   "metadata": {},
   "outputs": [
    {
     "data": {
      "text/html": [
       "<div>\n",
       "<style scoped>\n",
       "    .dataframe tbody tr th:only-of-type {\n",
       "        vertical-align: middle;\n",
       "    }\n",
       "\n",
       "    .dataframe tbody tr th {\n",
       "        vertical-align: top;\n",
       "    }\n",
       "\n",
       "    .dataframe thead th {\n",
       "        text-align: right;\n",
       "    }\n",
       "</style>\n",
       "<table border=\"1\" class=\"dataframe\">\n",
       "  <thead>\n",
       "    <tr style=\"text-align: right;\">\n",
       "      <th></th>\n",
       "      <th>Uso de Internet en el establecimiento educativo</th>\n",
       "      <th>Recuento</th>\n",
       "      <th>Porcentaje</th>\n",
       "    </tr>\n",
       "  </thead>\n",
       "  <tbody>\n",
       "    <tr>\n",
       "      <th>0</th>\n",
       "      <td>0.0</td>\n",
       "      <td>1,946,679</td>\n",
       "      <td>99.77</td>\n",
       "    </tr>\n",
       "    <tr>\n",
       "      <th>1</th>\n",
       "      <td>3.0</td>\n",
       "      <td>4,436</td>\n",
       "      <td>0.23</td>\n",
       "    </tr>\n",
       "    <tr>\n",
       "      <th>2</th>\n",
       "      <td>Total</td>\n",
       "      <td>1,951,115</td>\n",
       "      <td>100.00</td>\n",
       "    </tr>\n",
       "  </tbody>\n",
       "</table>\n",
       "</div>"
      ],
      "text/plain": [
       "  Uso de Internet en el establecimiento educativo   Recuento Porcentaje\n",
       "0                                             0.0  1,946,679      99.77\n",
       "1                                             3.0      4,436       0.23\n",
       "2                                           Total  1,951,115     100.00"
      ]
     },
     "execution_count": 35,
     "metadata": {},
     "output_type": "execute_result"
    }
   ],
   "source": [
    "generar_tabla_recuento(base_filtrada, \"i_uso_cedu\", \"Uso de Internet en el establecimiento educativo\",guardar_como_jpeg=True, guardar_como_txt=True)"
   ]
  },
  {
   "cell_type": "markdown",
   "id": "b30bbc4f-35ae-4475-9d9f-53c9ab8b0c9b",
   "metadata": {},
   "source": [
    "### Uso de internet en cabina publica"
   ]
  },
  {
   "cell_type": "code",
   "execution_count": 36,
   "id": "883986d2",
   "metadata": {},
   "outputs": [
    {
     "data": {
      "text/html": [
       "<div>\n",
       "<style scoped>\n",
       "    .dataframe tbody tr th:only-of-type {\n",
       "        vertical-align: middle;\n",
       "    }\n",
       "\n",
       "    .dataframe tbody tr th {\n",
       "        vertical-align: top;\n",
       "    }\n",
       "\n",
       "    .dataframe thead th {\n",
       "        text-align: right;\n",
       "    }\n",
       "</style>\n",
       "<table border=\"1\" class=\"dataframe\">\n",
       "  <thead>\n",
       "    <tr style=\"text-align: right;\">\n",
       "      <th></th>\n",
       "      <th>Cabina Publica</th>\n",
       "      <th>Recuento</th>\n",
       "      <th>Porcentaje</th>\n",
       "    </tr>\n",
       "  </thead>\n",
       "  <tbody>\n",
       "    <tr>\n",
       "      <th>0</th>\n",
       "      <td>0.0</td>\n",
       "      <td>1,893,321</td>\n",
       "      <td>97.04</td>\n",
       "    </tr>\n",
       "    <tr>\n",
       "      <th>1</th>\n",
       "      <td>4.0</td>\n",
       "      <td>57,794</td>\n",
       "      <td>2.96</td>\n",
       "    </tr>\n",
       "    <tr>\n",
       "      <th>2</th>\n",
       "      <td>Total</td>\n",
       "      <td>1,951,115</td>\n",
       "      <td>100.00</td>\n",
       "    </tr>\n",
       "  </tbody>\n",
       "</table>\n",
       "</div>"
      ],
      "text/plain": [
       "  Cabina Publica   Recuento Porcentaje\n",
       "0            0.0  1,893,321      97.04\n",
       "1            4.0     57,794       2.96\n",
       "2          Total  1,951,115     100.00"
      ]
     },
     "execution_count": 36,
     "metadata": {},
     "output_type": "execute_result"
    }
   ],
   "source": [
    "generar_tabla_recuento(base_filtrada, \"i_uso_cab\", \"Cabina Publica\",guardar_como_jpeg=True, guardar_como_txt=True)"
   ]
  },
  {
   "cell_type": "markdown",
   "id": "ce033f87-8daf-4e27-8bd2-8f8ffce36bbe",
   "metadata": {},
   "source": [
    "### Uso de internet en casa de otra persona"
   ]
  },
  {
   "cell_type": "code",
   "execution_count": 37,
   "id": "54979fa1",
   "metadata": {},
   "outputs": [
    {
     "data": {
      "text/html": [
       "<div>\n",
       "<style scoped>\n",
       "    .dataframe tbody tr th:only-of-type {\n",
       "        vertical-align: middle;\n",
       "    }\n",
       "\n",
       "    .dataframe tbody tr th {\n",
       "        vertical-align: top;\n",
       "    }\n",
       "\n",
       "    .dataframe thead th {\n",
       "        text-align: right;\n",
       "    }\n",
       "</style>\n",
       "<table border=\"1\" class=\"dataframe\">\n",
       "  <thead>\n",
       "    <tr style=\"text-align: right;\">\n",
       "      <th></th>\n",
       "      <th>Uso del internet en casa de otra persona</th>\n",
       "      <th>Recuento</th>\n",
       "      <th>Porcentaje</th>\n",
       "    </tr>\n",
       "  </thead>\n",
       "  <tbody>\n",
       "    <tr>\n",
       "      <th>0</th>\n",
       "      <td>0.0</td>\n",
       "      <td>1,910,360</td>\n",
       "      <td>97.91</td>\n",
       "    </tr>\n",
       "    <tr>\n",
       "      <th>1</th>\n",
       "      <td>5.0</td>\n",
       "      <td>40,755</td>\n",
       "      <td>2.09</td>\n",
       "    </tr>\n",
       "    <tr>\n",
       "      <th>2</th>\n",
       "      <td>Total</td>\n",
       "      <td>1,951,115</td>\n",
       "      <td>100.00</td>\n",
       "    </tr>\n",
       "  </tbody>\n",
       "</table>\n",
       "</div>"
      ],
      "text/plain": [
       "  Uso del internet en casa de otra persona   Recuento Porcentaje\n",
       "0                                      0.0  1,910,360      97.91\n",
       "1                                      5.0     40,755       2.09\n",
       "2                                    Total  1,951,115     100.00"
      ]
     },
     "execution_count": 37,
     "metadata": {},
     "output_type": "execute_result"
    }
   ],
   "source": [
    "generar_tabla_recuento(base_filtrada, \"i_uso_casotr\", \"Uso del internet en casa de otra persona\",guardar_como_jpeg=True, guardar_como_txt=True)"
   ]
  },
  {
   "cell_type": "markdown",
   "id": "9ca0d7a7-9294-4411-ac12-019ff15309fc",
   "metadata": {
    "tags": []
   },
   "source": [
    "### Uso de internet - Otro"
   ]
  },
  {
   "cell_type": "code",
   "execution_count": 38,
   "id": "4af43274",
   "metadata": {},
   "outputs": [
    {
     "data": {
      "text/html": [
       "<div>\n",
       "<style scoped>\n",
       "    .dataframe tbody tr th:only-of-type {\n",
       "        vertical-align: middle;\n",
       "    }\n",
       "\n",
       "    .dataframe tbody tr th {\n",
       "        vertical-align: top;\n",
       "    }\n",
       "\n",
       "    .dataframe thead th {\n",
       "        text-align: right;\n",
       "    }\n",
       "</style>\n",
       "<table border=\"1\" class=\"dataframe\">\n",
       "  <thead>\n",
       "    <tr style=\"text-align: right;\">\n",
       "      <th></th>\n",
       "      <th>Otro</th>\n",
       "      <th>Recuento</th>\n",
       "      <th>Porcentaje</th>\n",
       "    </tr>\n",
       "  </thead>\n",
       "  <tbody>\n",
       "    <tr>\n",
       "      <th>0</th>\n",
       "      <td>0.0</td>\n",
       "      <td>1,929,060</td>\n",
       "      <td>98.87</td>\n",
       "    </tr>\n",
       "    <tr>\n",
       "      <th>1</th>\n",
       "      <td>6.0</td>\n",
       "      <td>22,055</td>\n",
       "      <td>1.13</td>\n",
       "    </tr>\n",
       "    <tr>\n",
       "      <th>2</th>\n",
       "      <td>Total</td>\n",
       "      <td>1,951,115</td>\n",
       "      <td>100.00</td>\n",
       "    </tr>\n",
       "  </tbody>\n",
       "</table>\n",
       "</div>"
      ],
      "text/plain": [
       "    Otro   Recuento Porcentaje\n",
       "0    0.0  1,929,060      98.87\n",
       "1    6.0     22,055       1.13\n",
       "2  Total  1,951,115     100.00"
      ]
     },
     "execution_count": 38,
     "metadata": {},
     "output_type": "execute_result"
    }
   ],
   "source": [
    "generar_tabla_recuento(base_filtrada, \"i_uso_otro\", \"Otro\",guardar_como_jpeg=True, guardar_como_txt=True)"
   ]
  },
  {
   "cell_type": "markdown",
   "id": "b6693f16-229b-4ffd-99da-7f64854e3d0d",
   "metadata": {
    "tags": []
   },
   "source": [
    "### Acceso movil"
   ]
  },
  {
   "cell_type": "code",
   "execution_count": 39,
   "id": "6f004976",
   "metadata": {},
   "outputs": [
    {
     "data": {
      "text/html": [
       "<div>\n",
       "<style scoped>\n",
       "    .dataframe tbody tr th:only-of-type {\n",
       "        vertical-align: middle;\n",
       "    }\n",
       "\n",
       "    .dataframe tbody tr th {\n",
       "        vertical-align: top;\n",
       "    }\n",
       "\n",
       "    .dataframe thead th {\n",
       "        text-align: right;\n",
       "    }\n",
       "</style>\n",
       "<table border=\"1\" class=\"dataframe\">\n",
       "  <thead>\n",
       "    <tr style=\"text-align: right;\">\n",
       "      <th></th>\n",
       "      <th>Uso del internet en Acceso movil de Internet</th>\n",
       "      <th>Recuento</th>\n",
       "      <th>Porcentaje</th>\n",
       "    </tr>\n",
       "  </thead>\n",
       "  <tbody>\n",
       "    <tr>\n",
       "      <th>0</th>\n",
       "      <td>0.0</td>\n",
       "      <td>263,601</td>\n",
       "      <td>13.51</td>\n",
       "    </tr>\n",
       "    <tr>\n",
       "      <th>1</th>\n",
       "      <td>7.0</td>\n",
       "      <td>1,687,514</td>\n",
       "      <td>86.49</td>\n",
       "    </tr>\n",
       "    <tr>\n",
       "      <th>2</th>\n",
       "      <td>Total</td>\n",
       "      <td>1,951,115</td>\n",
       "      <td>100.00</td>\n",
       "    </tr>\n",
       "  </tbody>\n",
       "</table>\n",
       "</div>"
      ],
      "text/plain": [
       "  Uso del internet en Acceso movil de Internet   Recuento Porcentaje\n",
       "0                                          0.0    263,601      13.51\n",
       "1                                          7.0  1,687,514      86.49\n",
       "2                                        Total  1,951,115     100.00"
      ]
     },
     "execution_count": 39,
     "metadata": {},
     "output_type": "execute_result"
    }
   ],
   "source": [
    "generar_tabla_recuento(base_filtrada, \"i_uso_movil\", \"Uso del internet en Acceso movil de Internet\",guardar_como_jpeg=True, guardar_como_txt=True)"
   ]
  },
  {
   "cell_type": "markdown",
   "id": "f3203485-a403-4dac-8d68-d13cb5c69720",
   "metadata": {},
   "source": [
    "## Dimensión de ACCESO"
   ]
  },
  {
   "cell_type": "markdown",
   "id": "9f9e6ca0-d7c6-498c-b16d-bee0769c10da",
   "metadata": {},
   "source": [
    "### Acceso - Computadora"
   ]
  },
  {
   "cell_type": "code",
   "execution_count": 40,
   "id": "8216bfea",
   "metadata": {},
   "outputs": [
    {
     "data": {
      "text/html": [
       "<div>\n",
       "<style scoped>\n",
       "    .dataframe tbody tr th:only-of-type {\n",
       "        vertical-align: middle;\n",
       "    }\n",
       "\n",
       "    .dataframe tbody tr th {\n",
       "        vertical-align: top;\n",
       "    }\n",
       "\n",
       "    .dataframe thead th {\n",
       "        text-align: right;\n",
       "    }\n",
       "</style>\n",
       "<table border=\"1\" class=\"dataframe\">\n",
       "  <thead>\n",
       "    <tr style=\"text-align: right;\">\n",
       "      <th></th>\n",
       "      <th>Uso del internet a traves de una computadora</th>\n",
       "      <th>Recuento</th>\n",
       "      <th>Porcentaje</th>\n",
       "    </tr>\n",
       "  </thead>\n",
       "  <tbody>\n",
       "    <tr>\n",
       "      <th>0</th>\n",
       "      <td>0.0</td>\n",
       "      <td>3,692,865</td>\n",
       "      <td>86.41</td>\n",
       "    </tr>\n",
       "    <tr>\n",
       "      <th>1</th>\n",
       "      <td>1.0</td>\n",
       "      <td>580,812</td>\n",
       "      <td>13.59</td>\n",
       "    </tr>\n",
       "    <tr>\n",
       "      <th>2</th>\n",
       "      <td>Total</td>\n",
       "      <td>4,273,677</td>\n",
       "      <td>100.00</td>\n",
       "    </tr>\n",
       "  </tbody>\n",
       "</table>\n",
       "</div>"
      ],
      "text/plain": [
       "  Uso del internet a traves de una computadora   Recuento Porcentaje\n",
       "0                                          0.0  3,692,865      86.41\n",
       "1                                          1.0    580,812      13.59\n",
       "2                                        Total  4,273,677     100.00"
      ]
     },
     "execution_count": 40,
     "metadata": {},
     "output_type": "execute_result"
    }
   ],
   "source": [
    "generar_tabla_recuento(base_filtrada, \"i_computadora\", \"Uso del internet a traves de una computadora\",guardar_como_jpeg=True, guardar_como_txt=True)"
   ]
  },
  {
   "cell_type": "markdown",
   "id": "39a69473-0b8e-4a41-8313-6e32380bfd1d",
   "metadata": {},
   "source": [
    "### Acceso - Laptop"
   ]
  },
  {
   "cell_type": "code",
   "execution_count": 41,
   "id": "fe27d696",
   "metadata": {},
   "outputs": [
    {
     "data": {
      "text/html": [
       "<div>\n",
       "<style scoped>\n",
       "    .dataframe tbody tr th:only-of-type {\n",
       "        vertical-align: middle;\n",
       "    }\n",
       "\n",
       "    .dataframe tbody tr th {\n",
       "        vertical-align: top;\n",
       "    }\n",
       "\n",
       "    .dataframe thead th {\n",
       "        text-align: right;\n",
       "    }\n",
       "</style>\n",
       "<table border=\"1\" class=\"dataframe\">\n",
       "  <thead>\n",
       "    <tr style=\"text-align: right;\">\n",
       "      <th></th>\n",
       "      <th>Uso del internet a traves de una LAPTOP</th>\n",
       "      <th>Recuento</th>\n",
       "      <th>Porcentaje</th>\n",
       "    </tr>\n",
       "  </thead>\n",
       "  <tbody>\n",
       "    <tr>\n",
       "      <th>0</th>\n",
       "      <td>0.0</td>\n",
       "      <td>3,880,969</td>\n",
       "      <td>90.81</td>\n",
       "    </tr>\n",
       "    <tr>\n",
       "      <th>1</th>\n",
       "      <td>2.0</td>\n",
       "      <td>392,707</td>\n",
       "      <td>9.19</td>\n",
       "    </tr>\n",
       "    <tr>\n",
       "      <th>2</th>\n",
       "      <td>Total</td>\n",
       "      <td>4,273,677</td>\n",
       "      <td>100.00</td>\n",
       "    </tr>\n",
       "  </tbody>\n",
       "</table>\n",
       "</div>"
      ],
      "text/plain": [
       "  Uso del internet a traves de una LAPTOP   Recuento Porcentaje\n",
       "0                                     0.0  3,880,969      90.81\n",
       "1                                     2.0    392,707       9.19\n",
       "2                                   Total  4,273,677     100.00"
      ]
     },
     "execution_count": 41,
     "metadata": {},
     "output_type": "execute_result"
    }
   ],
   "source": [
    "generar_tabla_recuento(base_filtrada, \"i_laptop\", \"Uso del internet a traves de una LAPTOP\",guardar_como_jpeg=True, guardar_como_txt=True)"
   ]
  },
  {
   "cell_type": "markdown",
   "id": "96091371-137f-42e5-a492-fa02cde7a906",
   "metadata": {},
   "source": [
    "### Acceso - Tablet"
   ]
  },
  {
   "cell_type": "code",
   "execution_count": 42,
   "id": "f0f51377",
   "metadata": {},
   "outputs": [
    {
     "data": {
      "text/html": [
       "<div>\n",
       "<style scoped>\n",
       "    .dataframe tbody tr th:only-of-type {\n",
       "        vertical-align: middle;\n",
       "    }\n",
       "\n",
       "    .dataframe tbody tr th {\n",
       "        vertical-align: top;\n",
       "    }\n",
       "\n",
       "    .dataframe thead th {\n",
       "        text-align: right;\n",
       "    }\n",
       "</style>\n",
       "<table border=\"1\" class=\"dataframe\">\n",
       "  <thead>\n",
       "    <tr style=\"text-align: right;\">\n",
       "      <th></th>\n",
       "      <th>Uso del internet a traves de una TABLET</th>\n",
       "      <th>Recuento</th>\n",
       "      <th>Porcentaje</th>\n",
       "    </tr>\n",
       "  </thead>\n",
       "  <tbody>\n",
       "    <tr>\n",
       "      <th>0</th>\n",
       "      <td>0.0</td>\n",
       "      <td>4,174,996</td>\n",
       "      <td>97.69</td>\n",
       "    </tr>\n",
       "    <tr>\n",
       "      <th>1</th>\n",
       "      <td>6.0</td>\n",
       "      <td>98,680</td>\n",
       "      <td>2.31</td>\n",
       "    </tr>\n",
       "    <tr>\n",
       "      <th>2</th>\n",
       "      <td>Total</td>\n",
       "      <td>4,273,677</td>\n",
       "      <td>100.00</td>\n",
       "    </tr>\n",
       "  </tbody>\n",
       "</table>\n",
       "</div>"
      ],
      "text/plain": [
       "  Uso del internet a traves de una TABLET   Recuento Porcentaje\n",
       "0                                     0.0  4,174,996      97.69\n",
       "1                                     6.0     98,680       2.31\n",
       "2                                   Total  4,273,677     100.00"
      ]
     },
     "execution_count": 42,
     "metadata": {},
     "output_type": "execute_result"
    }
   ],
   "source": [
    "generar_tabla_recuento(base_filtrada, \"i_tablet\", \"Uso del internet a traves de una TABLET\",guardar_como_jpeg=True, guardar_como_txt=True)"
   ]
  },
  {
   "cell_type": "markdown",
   "id": "e13514d4-75ca-47a0-bd0f-feb52b5cb4cf",
   "metadata": {},
   "source": [
    "### Acceso - Otro"
   ]
  },
  {
   "cell_type": "code",
   "execution_count": 43,
   "id": "a59ff54b",
   "metadata": {},
   "outputs": [
    {
     "data": {
      "text/html": [
       "<div>\n",
       "<style scoped>\n",
       "    .dataframe tbody tr th:only-of-type {\n",
       "        vertical-align: middle;\n",
       "    }\n",
       "\n",
       "    .dataframe tbody tr th {\n",
       "        vertical-align: top;\n",
       "    }\n",
       "\n",
       "    .dataframe thead th {\n",
       "        text-align: right;\n",
       "    }\n",
       "</style>\n",
       "<table border=\"1\" class=\"dataframe\">\n",
       "  <thead>\n",
       "    <tr style=\"text-align: right;\">\n",
       "      <th></th>\n",
       "      <th>Uso del internet a traves de una OTRO</th>\n",
       "      <th>Recuento</th>\n",
       "      <th>Porcentaje</th>\n",
       "    </tr>\n",
       "  </thead>\n",
       "  <tbody>\n",
       "    <tr>\n",
       "      <th>0</th>\n",
       "      <td>0.0</td>\n",
       "      <td>3,447,206</td>\n",
       "      <td>80.66</td>\n",
       "    </tr>\n",
       "    <tr>\n",
       "      <th>1</th>\n",
       "      <td>7.0</td>\n",
       "      <td>826,470</td>\n",
       "      <td>19.34</td>\n",
       "    </tr>\n",
       "    <tr>\n",
       "      <th>2</th>\n",
       "      <td>Total</td>\n",
       "      <td>4,273,676</td>\n",
       "      <td>100.00</td>\n",
       "    </tr>\n",
       "  </tbody>\n",
       "</table>\n",
       "</div>"
      ],
      "text/plain": [
       "  Uso del internet a traves de una OTRO   Recuento Porcentaje\n",
       "0                                   0.0  3,447,206      80.66\n",
       "1                                   7.0    826,470      19.34\n",
       "2                                 Total  4,273,676     100.00"
      ]
     },
     "execution_count": 43,
     "metadata": {},
     "output_type": "execute_result"
    }
   ],
   "source": [
    "generar_tabla_recuento(base_filtrada, \"i_otro\", \"Uso del internet a traves de una OTRO\",guardar_como_jpeg=True, guardar_como_txt=True)"
   ]
  },
  {
   "cell_type": "markdown",
   "id": "6cd47193-88bc-4d11-a733-199b31f42727",
   "metadata": {},
   "source": [
    "### Acceso - Celular sin plan de datos"
   ]
  },
  {
   "cell_type": "code",
   "execution_count": 44,
   "id": "5179049e",
   "metadata": {},
   "outputs": [
    {
     "data": {
      "text/html": [
       "<div>\n",
       "<style scoped>\n",
       "    .dataframe tbody tr th:only-of-type {\n",
       "        vertical-align: middle;\n",
       "    }\n",
       "\n",
       "    .dataframe tbody tr th {\n",
       "        vertical-align: top;\n",
       "    }\n",
       "\n",
       "    .dataframe thead th {\n",
       "        text-align: right;\n",
       "    }\n",
       "</style>\n",
       "<table border=\"1\" class=\"dataframe\">\n",
       "  <thead>\n",
       "    <tr style=\"text-align: right;\">\n",
       "      <th></th>\n",
       "      <th>Uso del internet a traves de una CELULAR SIN PLAN DE DATOS</th>\n",
       "      <th>Recuento</th>\n",
       "      <th>Porcentaje</th>\n",
       "    </tr>\n",
       "  </thead>\n",
       "  <tbody>\n",
       "    <tr>\n",
       "      <th>0</th>\n",
       "      <td>0.0</td>\n",
       "      <td>2,038,781</td>\n",
       "      <td>47.71</td>\n",
       "    </tr>\n",
       "    <tr>\n",
       "      <th>1</th>\n",
       "      <td>8.0</td>\n",
       "      <td>2,234,896</td>\n",
       "      <td>52.29</td>\n",
       "    </tr>\n",
       "    <tr>\n",
       "      <th>2</th>\n",
       "      <td>Total</td>\n",
       "      <td>4,273,676</td>\n",
       "      <td>100.00</td>\n",
       "    </tr>\n",
       "  </tbody>\n",
       "</table>\n",
       "</div>"
      ],
      "text/plain": [
       "  Uso del internet a traves de una CELULAR SIN PLAN DE DATOS   Recuento  \\\n",
       "0                                                0.0          2,038,781   \n",
       "1                                                8.0          2,234,896   \n",
       "2                                              Total          4,273,676   \n",
       "\n",
       "  Porcentaje  \n",
       "0      47.71  \n",
       "1      52.29  \n",
       "2     100.00  "
      ]
     },
     "execution_count": 44,
     "metadata": {},
     "output_type": "execute_result"
    }
   ],
   "source": [
    "generar_tabla_recuento(base_filtrada, \"i_cel_sdatos\", \"Uso del internet a traves de una CELULAR SIN PLAN DE DATOS\",guardar_como_jpeg=True, guardar_como_txt=True)"
   ]
  },
  {
   "cell_type": "markdown",
   "id": "9ea3ff5a-df4b-4918-9073-81ec30fb2bde",
   "metadata": {},
   "source": [
    "### Acceso - Celular con plan de datos"
   ]
  },
  {
   "cell_type": "code",
   "execution_count": 45,
   "id": "91dd43b7",
   "metadata": {},
   "outputs": [
    {
     "data": {
      "text/html": [
       "<div>\n",
       "<style scoped>\n",
       "    .dataframe tbody tr th:only-of-type {\n",
       "        vertical-align: middle;\n",
       "    }\n",
       "\n",
       "    .dataframe tbody tr th {\n",
       "        vertical-align: top;\n",
       "    }\n",
       "\n",
       "    .dataframe thead th {\n",
       "        text-align: right;\n",
       "    }\n",
       "</style>\n",
       "<table border=\"1\" class=\"dataframe\">\n",
       "  <thead>\n",
       "    <tr style=\"text-align: right;\">\n",
       "      <th></th>\n",
       "      <th>Uso del internet a traves de una CELULAR CON PLAN DE DATOS</th>\n",
       "      <th>Recuento</th>\n",
       "      <th>Porcentaje</th>\n",
       "    </tr>\n",
       "  </thead>\n",
       "  <tbody>\n",
       "    <tr>\n",
       "      <th>0</th>\n",
       "      <td>0.0</td>\n",
       "      <td>3,423,683</td>\n",
       "      <td>80.11</td>\n",
       "    </tr>\n",
       "    <tr>\n",
       "      <th>1</th>\n",
       "      <td>9.0</td>\n",
       "      <td>849,994</td>\n",
       "      <td>19.89</td>\n",
       "    </tr>\n",
       "    <tr>\n",
       "      <th>2</th>\n",
       "      <td>Total</td>\n",
       "      <td>4,273,677</td>\n",
       "      <td>100.00</td>\n",
       "    </tr>\n",
       "  </tbody>\n",
       "</table>\n",
       "</div>"
      ],
      "text/plain": [
       "  Uso del internet a traves de una CELULAR CON PLAN DE DATOS   Recuento  \\\n",
       "0                                                0.0          3,423,683   \n",
       "1                                                9.0            849,994   \n",
       "2                                              Total          4,273,677   \n",
       "\n",
       "  Porcentaje  \n",
       "0      80.11  \n",
       "1      19.89  \n",
       "2     100.00  "
      ]
     },
     "execution_count": 45,
     "metadata": {},
     "output_type": "execute_result"
    }
   ],
   "source": [
    "generar_tabla_recuento(base_filtrada, \"i_cel_cdatos\", \"Uso del internet a traves de una CELULAR CON PLAN DE DATOS\",True,True)"
   ]
  },
  {
   "cell_type": "code",
   "execution_count": 46,
   "id": "63970d7f",
   "metadata": {},
   "outputs": [],
   "source": [
    "#generar_tabla_recuento(base_filtrada, \"p314b1_5\", \"Uso del internet a traves de una CELULAR DE SU CENTRO DE TRABAJO\", guardar_como_jpeg=True) "
   ]
  },
  {
   "cell_type": "markdown",
   "id": "532b697c-e387-488e-999f-9ed4e649feb6",
   "metadata": {},
   "source": [
    "## CLASES A DISTANCIA"
   ]
  },
  {
   "cell_type": "code",
   "execution_count": 47,
   "id": "6528ad5a-ab3b-4492-852e-c2304bf73de4",
   "metadata": {},
   "outputs": [
    {
     "data": {
      "text/html": [
       "<div>\n",
       "<style scoped>\n",
       "    .dataframe tbody tr th:only-of-type {\n",
       "        vertical-align: middle;\n",
       "    }\n",
       "\n",
       "    .dataframe tbody tr th {\n",
       "        vertical-align: top;\n",
       "    }\n",
       "\n",
       "    .dataframe thead th {\n",
       "        text-align: right;\n",
       "    }\n",
       "</style>\n",
       "<table border=\"1\" class=\"dataframe\">\n",
       "  <thead>\n",
       "    <tr style=\"text-align: right;\">\n",
       "      <th></th>\n",
       "      <th>Acceso al contenido de clase - TELEVISION</th>\n",
       "      <th>Recuento</th>\n",
       "      <th>Porcentaje</th>\n",
       "    </tr>\n",
       "  </thead>\n",
       "  <tbody>\n",
       "    <tr>\n",
       "      <th>0</th>\n",
       "      <td>0.0</td>\n",
       "      <td>3,104,921</td>\n",
       "      <td>51.11</td>\n",
       "    </tr>\n",
       "    <tr>\n",
       "      <th>1</th>\n",
       "      <td>1.0</td>\n",
       "      <td>2,970,516</td>\n",
       "      <td>48.89</td>\n",
       "    </tr>\n",
       "    <tr>\n",
       "      <th>2</th>\n",
       "      <td>Total</td>\n",
       "      <td>6,075,437</td>\n",
       "      <td>100.00</td>\n",
       "    </tr>\n",
       "  </tbody>\n",
       "</table>\n",
       "</div>"
      ],
      "text/plain": [
       "  Acceso al contenido de clase - TELEVISION   Recuento Porcentaje\n",
       "0                                       0.0  3,104,921      51.11\n",
       "1                                       1.0  2,970,516      48.89\n",
       "2                                     Total  6,075,437     100.00"
      ]
     },
     "execution_count": 47,
     "metadata": {},
     "output_type": "execute_result"
    }
   ],
   "source": [
    "generar_tabla_recuento(base_filtrada, \"clases_tv\", \"Acceso al contenido de clase - TELEVISION\",True, True)"
   ]
  },
  {
   "cell_type": "code",
   "execution_count": 48,
   "id": "7e92479f-c2ca-4734-9600-0dd8fe444906",
   "metadata": {},
   "outputs": [
    {
     "data": {
      "text/html": [
       "<div>\n",
       "<style scoped>\n",
       "    .dataframe tbody tr th:only-of-type {\n",
       "        vertical-align: middle;\n",
       "    }\n",
       "\n",
       "    .dataframe tbody tr th {\n",
       "        vertical-align: top;\n",
       "    }\n",
       "\n",
       "    .dataframe thead th {\n",
       "        text-align: right;\n",
       "    }\n",
       "</style>\n",
       "<table border=\"1\" class=\"dataframe\">\n",
       "  <thead>\n",
       "    <tr style=\"text-align: right;\">\n",
       "      <th></th>\n",
       "      <th>Acceso al contenido de clase - RADIO</th>\n",
       "      <th>Recuento</th>\n",
       "      <th>Porcentaje</th>\n",
       "    </tr>\n",
       "  </thead>\n",
       "  <tbody>\n",
       "    <tr>\n",
       "      <th>0</th>\n",
       "      <td>0.0</td>\n",
       "      <td>5,069,416</td>\n",
       "      <td>83.44</td>\n",
       "    </tr>\n",
       "    <tr>\n",
       "      <th>1</th>\n",
       "      <td>2.0</td>\n",
       "      <td>1,006,021</td>\n",
       "      <td>16.56</td>\n",
       "    </tr>\n",
       "    <tr>\n",
       "      <th>2</th>\n",
       "      <td>Total</td>\n",
       "      <td>6,075,437</td>\n",
       "      <td>100.00</td>\n",
       "    </tr>\n",
       "  </tbody>\n",
       "</table>\n",
       "</div>"
      ],
      "text/plain": [
       "  Acceso al contenido de clase - RADIO   Recuento Porcentaje\n",
       "0                                  0.0  5,069,416      83.44\n",
       "1                                  2.0  1,006,021      16.56\n",
       "2                                Total  6,075,437     100.00"
      ]
     },
     "execution_count": 48,
     "metadata": {},
     "output_type": "execute_result"
    }
   ],
   "source": [
    "generar_tabla_recuento(base_filtrada, \"clases_radio\", \"Acceso al contenido de clase - RADIO\",True, True)"
   ]
  },
  {
   "cell_type": "code",
   "execution_count": 49,
   "id": "2893333d-daa9-4f54-b4ae-dc95171f9d20",
   "metadata": {},
   "outputs": [
    {
     "data": {
      "text/html": [
       "<div>\n",
       "<style scoped>\n",
       "    .dataframe tbody tr th:only-of-type {\n",
       "        vertical-align: middle;\n",
       "    }\n",
       "\n",
       "    .dataframe tbody tr th {\n",
       "        vertical-align: top;\n",
       "    }\n",
       "\n",
       "    .dataframe thead th {\n",
       "        text-align: right;\n",
       "    }\n",
       "</style>\n",
       "<table border=\"1\" class=\"dataframe\">\n",
       "  <thead>\n",
       "    <tr style=\"text-align: right;\">\n",
       "      <th></th>\n",
       "      <th>Acceso al contenido de clase - PLATAFORMA VIRTUAL</th>\n",
       "      <th>Recuento</th>\n",
       "      <th>Porcentaje</th>\n",
       "    </tr>\n",
       "  </thead>\n",
       "  <tbody>\n",
       "    <tr>\n",
       "      <th>0</th>\n",
       "      <td>0.0</td>\n",
       "      <td>4,203,578</td>\n",
       "      <td>69.19</td>\n",
       "    </tr>\n",
       "    <tr>\n",
       "      <th>1</th>\n",
       "      <td>3.0</td>\n",
       "      <td>1,871,859</td>\n",
       "      <td>30.81</td>\n",
       "    </tr>\n",
       "    <tr>\n",
       "      <th>2</th>\n",
       "      <td>Total</td>\n",
       "      <td>6,075,437</td>\n",
       "      <td>100.00</td>\n",
       "    </tr>\n",
       "  </tbody>\n",
       "</table>\n",
       "</div>"
      ],
      "text/plain": [
       "  Acceso al contenido de clase - PLATAFORMA VIRTUAL   Recuento Porcentaje\n",
       "0                                               0.0  4,203,578      69.19\n",
       "1                                               3.0  1,871,859      30.81\n",
       "2                                             Total  6,075,437     100.00"
      ]
     },
     "execution_count": 49,
     "metadata": {},
     "output_type": "execute_result"
    }
   ],
   "source": [
    "generar_tabla_recuento(base_filtrada, \"clases_plataforma_virtual\", \"Acceso al contenido de clase - PLATAFORMA VIRTUAL\",True,True)"
   ]
  },
  {
   "cell_type": "code",
   "execution_count": 50,
   "id": "20e720c9-4b89-48f9-bd6b-8d241d797d62",
   "metadata": {},
   "outputs": [
    {
     "data": {
      "text/html": [
       "<div>\n",
       "<style scoped>\n",
       "    .dataframe tbody tr th:only-of-type {\n",
       "        vertical-align: middle;\n",
       "    }\n",
       "\n",
       "    .dataframe tbody tr th {\n",
       "        vertical-align: top;\n",
       "    }\n",
       "\n",
       "    .dataframe thead th {\n",
       "        text-align: right;\n",
       "    }\n",
       "</style>\n",
       "<table border=\"1\" class=\"dataframe\">\n",
       "  <thead>\n",
       "    <tr style=\"text-align: right;\">\n",
       "      <th></th>\n",
       "      <th>Acceso al contenido de clase - OTRO</th>\n",
       "      <th>Recuento</th>\n",
       "      <th>Porcentaje</th>\n",
       "    </tr>\n",
       "  </thead>\n",
       "  <tbody>\n",
       "    <tr>\n",
       "      <th>0</th>\n",
       "      <td>0.0</td>\n",
       "      <td>5,951,653</td>\n",
       "      <td>97.96</td>\n",
       "    </tr>\n",
       "    <tr>\n",
       "      <th>1</th>\n",
       "      <td>4.0</td>\n",
       "      <td>123,784</td>\n",
       "      <td>2.04</td>\n",
       "    </tr>\n",
       "    <tr>\n",
       "      <th>2</th>\n",
       "      <td>Total</td>\n",
       "      <td>6,075,437</td>\n",
       "      <td>100.00</td>\n",
       "    </tr>\n",
       "  </tbody>\n",
       "</table>\n",
       "</div>"
      ],
      "text/plain": [
       "  Acceso al contenido de clase - OTRO   Recuento Porcentaje\n",
       "0                                 0.0  5,951,653      97.96\n",
       "1                                 4.0    123,784       2.04\n",
       "2                               Total  6,075,437     100.00"
      ]
     },
     "execution_count": 50,
     "metadata": {},
     "output_type": "execute_result"
    }
   ],
   "source": [
    "generar_tabla_recuento(base_filtrada, \"clases_otro\", \"Acceso al contenido de clase - OTRO\",True,True)"
   ]
  },
  {
   "cell_type": "code",
   "execution_count": 51,
   "id": "a3f88688-185a-4f61-b092-b1adca569bec",
   "metadata": {},
   "outputs": [
    {
     "data": {
      "text/html": [
       "<div>\n",
       "<style scoped>\n",
       "    .dataframe tbody tr th:only-of-type {\n",
       "        vertical-align: middle;\n",
       "    }\n",
       "\n",
       "    .dataframe tbody tr th {\n",
       "        vertical-align: top;\n",
       "    }\n",
       "\n",
       "    .dataframe thead th {\n",
       "        text-align: right;\n",
       "    }\n",
       "</style>\n",
       "<table border=\"1\" class=\"dataframe\">\n",
       "  <thead>\n",
       "    <tr style=\"text-align: right;\">\n",
       "      <th></th>\n",
       "      <th>Acceso al contenido de clase - WHATSAPP</th>\n",
       "      <th>Recuento</th>\n",
       "      <th>Porcentaje</th>\n",
       "    </tr>\n",
       "  </thead>\n",
       "  <tbody>\n",
       "    <tr>\n",
       "      <th>0</th>\n",
       "      <td>0.0</td>\n",
       "      <td>2,043,578</td>\n",
       "      <td>33.64</td>\n",
       "    </tr>\n",
       "    <tr>\n",
       "      <th>1</th>\n",
       "      <td>5.0</td>\n",
       "      <td>4,031,859</td>\n",
       "      <td>66.36</td>\n",
       "    </tr>\n",
       "    <tr>\n",
       "      <th>2</th>\n",
       "      <td>Total</td>\n",
       "      <td>6,075,437</td>\n",
       "      <td>100.00</td>\n",
       "    </tr>\n",
       "  </tbody>\n",
       "</table>\n",
       "</div>"
      ],
      "text/plain": [
       "  Acceso al contenido de clase - WHATSAPP   Recuento Porcentaje\n",
       "0                                     0.0  2,043,578      33.64\n",
       "1                                     5.0  4,031,859      66.36\n",
       "2                                   Total  6,075,437     100.00"
      ]
     },
     "execution_count": 51,
     "metadata": {},
     "output_type": "execute_result"
    }
   ],
   "source": [
    "generar_tabla_recuento(base_filtrada, \"clases_wsp\", \"Acceso al contenido de clase - WHATSAPP\",True,True)"
   ]
  },
  {
   "cell_type": "code",
   "execution_count": 52,
   "id": "3bb15878-e20d-4c18-8a25-6522174e0ff1",
   "metadata": {},
   "outputs": [
    {
     "data": {
      "text/html": [
       "<div>\n",
       "<style scoped>\n",
       "    .dataframe tbody tr th:only-of-type {\n",
       "        vertical-align: middle;\n",
       "    }\n",
       "\n",
       "    .dataframe tbody tr th {\n",
       "        vertical-align: top;\n",
       "    }\n",
       "\n",
       "    .dataframe thead th {\n",
       "        text-align: right;\n",
       "    }\n",
       "</style>\n",
       "<table border=\"1\" class=\"dataframe\">\n",
       "  <thead>\n",
       "    <tr style=\"text-align: right;\">\n",
       "      <th></th>\n",
       "      <th>Acceso al contenido de clase - CORREO</th>\n",
       "      <th>Recuento</th>\n",
       "      <th>Porcentaje</th>\n",
       "    </tr>\n",
       "  </thead>\n",
       "  <tbody>\n",
       "    <tr>\n",
       "      <th>0</th>\n",
       "      <td>0.0</td>\n",
       "      <td>5,877,302</td>\n",
       "      <td>96.74</td>\n",
       "    </tr>\n",
       "    <tr>\n",
       "      <th>1</th>\n",
       "      <td>6.0</td>\n",
       "      <td>198,134</td>\n",
       "      <td>3.26</td>\n",
       "    </tr>\n",
       "    <tr>\n",
       "      <th>2</th>\n",
       "      <td>Total</td>\n",
       "      <td>6,075,437</td>\n",
       "      <td>100.00</td>\n",
       "    </tr>\n",
       "  </tbody>\n",
       "</table>\n",
       "</div>"
      ],
      "text/plain": [
       "  Acceso al contenido de clase - CORREO   Recuento Porcentaje\n",
       "0                                   0.0  5,877,302      96.74\n",
       "1                                   6.0    198,134       3.26\n",
       "2                                 Total  6,075,437     100.00"
      ]
     },
     "execution_count": 52,
     "metadata": {},
     "output_type": "execute_result"
    }
   ],
   "source": [
    "generar_tabla_recuento(base_filtrada, \"clases_correo\", \"Acceso al contenido de clase - CORREO\",True,True)"
   ]
  },
  {
   "cell_type": "code",
   "execution_count": 53,
   "id": "fd0b0a9f-9e7c-4cd8-b05a-70f5a6144fed",
   "metadata": {},
   "outputs": [
    {
     "data": {
      "text/html": [
       "<div>\n",
       "<style scoped>\n",
       "    .dataframe tbody tr th:only-of-type {\n",
       "        vertical-align: middle;\n",
       "    }\n",
       "\n",
       "    .dataframe tbody tr th {\n",
       "        vertical-align: top;\n",
       "    }\n",
       "\n",
       "    .dataframe thead th {\n",
       "        text-align: right;\n",
       "    }\n",
       "</style>\n",
       "<table border=\"1\" class=\"dataframe\">\n",
       "  <thead>\n",
       "    <tr style=\"text-align: right;\">\n",
       "      <th></th>\n",
       "      <th>Acceso al contenido de clase - LLAMADAS</th>\n",
       "      <th>Recuento</th>\n",
       "      <th>Porcentaje</th>\n",
       "    </tr>\n",
       "  </thead>\n",
       "  <tbody>\n",
       "    <tr>\n",
       "      <th>0</th>\n",
       "      <td>0.0</td>\n",
       "      <td>4,335,639</td>\n",
       "      <td>71.36</td>\n",
       "    </tr>\n",
       "    <tr>\n",
       "      <th>1</th>\n",
       "      <td>7.0</td>\n",
       "      <td>1,739,798</td>\n",
       "      <td>28.64</td>\n",
       "    </tr>\n",
       "    <tr>\n",
       "      <th>2</th>\n",
       "      <td>Total</td>\n",
       "      <td>6,075,437</td>\n",
       "      <td>100.00</td>\n",
       "    </tr>\n",
       "  </tbody>\n",
       "</table>\n",
       "</div>"
      ],
      "text/plain": [
       "  Acceso al contenido de clase - LLAMADAS   Recuento Porcentaje\n",
       "0                                     0.0  4,335,639      71.36\n",
       "1                                     7.0  1,739,798      28.64\n",
       "2                                   Total  6,075,437     100.00"
      ]
     },
     "execution_count": 53,
     "metadata": {},
     "output_type": "execute_result"
    }
   ],
   "source": [
    "generar_tabla_recuento(base_filtrada, \"clases_llamadas\", \"Acceso al contenido de clase - LLAMADAS\",True,True)"
   ]
  },
  {
   "cell_type": "code",
   "execution_count": 54,
   "id": "427d5088-d4f2-4d66-9f2c-c69c9dc373da",
   "metadata": {},
   "outputs": [
    {
     "data": {
      "text/html": [
       "<div>\n",
       "<style scoped>\n",
       "    .dataframe tbody tr th:only-of-type {\n",
       "        vertical-align: middle;\n",
       "    }\n",
       "\n",
       "    .dataframe tbody tr th {\n",
       "        vertical-align: top;\n",
       "    }\n",
       "\n",
       "    .dataframe thead th {\n",
       "        text-align: right;\n",
       "    }\n",
       "</style>\n",
       "<table border=\"1\" class=\"dataframe\">\n",
       "  <thead>\n",
       "    <tr style=\"text-align: right;\">\n",
       "      <th></th>\n",
       "      <th>Acceso al contenido de clase - INTERACCION PROFESOR</th>\n",
       "      <th>Recuento</th>\n",
       "      <th>Porcentaje</th>\n",
       "    </tr>\n",
       "  </thead>\n",
       "  <tbody>\n",
       "    <tr>\n",
       "      <th>0</th>\n",
       "      <td>0.0</td>\n",
       "      <td>2,321,377</td>\n",
       "      <td>38.21</td>\n",
       "    </tr>\n",
       "    <tr>\n",
       "      <th>1</th>\n",
       "      <td>1.0</td>\n",
       "      <td>3,754,060</td>\n",
       "      <td>61.79</td>\n",
       "    </tr>\n",
       "    <tr>\n",
       "      <th>2</th>\n",
       "      <td>Total</td>\n",
       "      <td>6,075,437</td>\n",
       "      <td>100.00</td>\n",
       "    </tr>\n",
       "  </tbody>\n",
       "</table>\n",
       "</div>"
      ],
      "text/plain": [
       "  Acceso al contenido de clase - INTERACCION PROFESOR   Recuento Porcentaje\n",
       "0                                                0.0   2,321,377      38.21\n",
       "1                                                1.0   3,754,060      61.79\n",
       "2                                              Total   6,075,437     100.00"
      ]
     },
     "execution_count": 54,
     "metadata": {},
     "output_type": "execute_result"
    }
   ],
   "source": [
    "generar_tabla_recuento(base_filtrada, \"clases_interaccion_profesor\", \"Acceso al contenido de clase - INTERACCION PROFESOR\",True,True)"
   ]
  },
  {
   "cell_type": "code",
   "execution_count": 55,
   "id": "515bd9ad-1bda-441b-96d6-9e7b6878dce2",
   "metadata": {},
   "outputs": [
    {
     "data": {
      "text/html": [
       "<div>\n",
       "<style scoped>\n",
       "    .dataframe tbody tr th:only-of-type {\n",
       "        vertical-align: middle;\n",
       "    }\n",
       "\n",
       "    .dataframe tbody tr th {\n",
       "        vertical-align: top;\n",
       "    }\n",
       "\n",
       "    .dataframe thead th {\n",
       "        text-align: right;\n",
       "    }\n",
       "</style>\n",
       "<table border=\"1\" class=\"dataframe\">\n",
       "  <thead>\n",
       "    <tr style=\"text-align: right;\">\n",
       "      <th></th>\n",
       "      <th>Acceso al contenido de clase - VIDEOS</th>\n",
       "      <th>Recuento</th>\n",
       "      <th>Porcentaje</th>\n",
       "    </tr>\n",
       "  </thead>\n",
       "  <tbody>\n",
       "    <tr>\n",
       "      <th>0</th>\n",
       "      <td>0.0</td>\n",
       "      <td>2,622,708</td>\n",
       "      <td>43.17</td>\n",
       "    </tr>\n",
       "    <tr>\n",
       "      <th>1</th>\n",
       "      <td>2.0</td>\n",
       "      <td>3,452,729</td>\n",
       "      <td>56.83</td>\n",
       "    </tr>\n",
       "    <tr>\n",
       "      <th>2</th>\n",
       "      <td>Total</td>\n",
       "      <td>6,075,437</td>\n",
       "      <td>100.00</td>\n",
       "    </tr>\n",
       "  </tbody>\n",
       "</table>\n",
       "</div>"
      ],
      "text/plain": [
       "  Acceso al contenido de clase - VIDEOS   Recuento Porcentaje\n",
       "0                                   0.0  2,622,708      43.17\n",
       "1                                   2.0  3,452,729      56.83\n",
       "2                                 Total  6,075,437     100.00"
      ]
     },
     "execution_count": 55,
     "metadata": {},
     "output_type": "execute_result"
    }
   ],
   "source": [
    "generar_tabla_recuento(base_filtrada, \"clases_videos\", \"Acceso al contenido de clase - VIDEOS\",True,True)"
   ]
  },
  {
   "cell_type": "code",
   "execution_count": 56,
   "id": "93ef428c-d602-469d-85d3-5b3ea8dd6134",
   "metadata": {},
   "outputs": [
    {
     "data": {
      "text/html": [
       "<div>\n",
       "<style scoped>\n",
       "    .dataframe tbody tr th:only-of-type {\n",
       "        vertical-align: middle;\n",
       "    }\n",
       "\n",
       "    .dataframe tbody tr th {\n",
       "        vertical-align: top;\n",
       "    }\n",
       "\n",
       "    .dataframe thead th {\n",
       "        text-align: right;\n",
       "    }\n",
       "</style>\n",
       "<table border=\"1\" class=\"dataframe\">\n",
       "  <thead>\n",
       "    <tr style=\"text-align: right;\">\n",
       "      <th></th>\n",
       "      <th>Acceso al contenido de clase - DOCUMENTOS</th>\n",
       "      <th>Recuento</th>\n",
       "      <th>Porcentaje</th>\n",
       "    </tr>\n",
       "  </thead>\n",
       "  <tbody>\n",
       "    <tr>\n",
       "      <th>0</th>\n",
       "      <td>0.0</td>\n",
       "      <td>1,602,516</td>\n",
       "      <td>26.38</td>\n",
       "    </tr>\n",
       "    <tr>\n",
       "      <th>1</th>\n",
       "      <td>3.0</td>\n",
       "      <td>4,472,920</td>\n",
       "      <td>73.62</td>\n",
       "    </tr>\n",
       "    <tr>\n",
       "      <th>2</th>\n",
       "      <td>Total</td>\n",
       "      <td>6,075,437</td>\n",
       "      <td>100.00</td>\n",
       "    </tr>\n",
       "  </tbody>\n",
       "</table>\n",
       "</div>"
      ],
      "text/plain": [
       "  Acceso al contenido de clase - DOCUMENTOS   Recuento Porcentaje\n",
       "0                                       0.0  1,602,516      26.38\n",
       "1                                       3.0  4,472,920      73.62\n",
       "2                                     Total  6,075,437     100.00"
      ]
     },
     "execution_count": 56,
     "metadata": {},
     "output_type": "execute_result"
    }
   ],
   "source": [
    "generar_tabla_recuento(base_filtrada, \"clases_documentos\", \"Acceso al contenido de clase - DOCUMENTOS\",True,True)"
   ]
  },
  {
   "cell_type": "code",
   "execution_count": 57,
   "id": "36785174-deff-494c-acd8-622e9d64c784",
   "metadata": {},
   "outputs": [
    {
     "data": {
      "text/html": [
       "<div>\n",
       "<style scoped>\n",
       "    .dataframe tbody tr th:only-of-type {\n",
       "        vertical-align: middle;\n",
       "    }\n",
       "\n",
       "    .dataframe tbody tr th {\n",
       "        vertical-align: top;\n",
       "    }\n",
       "\n",
       "    .dataframe thead th {\n",
       "        text-align: right;\n",
       "    }\n",
       "</style>\n",
       "<table border=\"1\" class=\"dataframe\">\n",
       "  <thead>\n",
       "    <tr style=\"text-align: right;\">\n",
       "      <th></th>\n",
       "      <th>Acceso al contenido de clase - OTROS</th>\n",
       "      <th>Recuento</th>\n",
       "      <th>Porcentaje</th>\n",
       "    </tr>\n",
       "  </thead>\n",
       "  <tbody>\n",
       "    <tr>\n",
       "      <th>0</th>\n",
       "      <td>0.0</td>\n",
       "      <td>6,046,073</td>\n",
       "      <td>99.52</td>\n",
       "    </tr>\n",
       "    <tr>\n",
       "      <th>1</th>\n",
       "      <td>4.0</td>\n",
       "      <td>29,364</td>\n",
       "      <td>0.48</td>\n",
       "    </tr>\n",
       "    <tr>\n",
       "      <th>2</th>\n",
       "      <td>Total</td>\n",
       "      <td>6,075,437</td>\n",
       "      <td>100.00</td>\n",
       "    </tr>\n",
       "  </tbody>\n",
       "</table>\n",
       "</div>"
      ],
      "text/plain": [
       "  Acceso al contenido de clase - OTROS   Recuento Porcentaje\n",
       "0                                  0.0  6,046,073      99.52\n",
       "1                                  4.0     29,364       0.48\n",
       "2                                Total  6,075,437     100.00"
      ]
     },
     "execution_count": 57,
     "metadata": {},
     "output_type": "execute_result"
    }
   ],
   "source": [
    "generar_tabla_recuento(base_filtrada, \"clases_otros\", \"Acceso al contenido de clase - OTROS\",True,True)"
   ]
  },
  {
   "cell_type": "code",
   "execution_count": 58,
   "id": "282f9864-e1eb-4214-90fd-799d59053aaf",
   "metadata": {},
   "outputs": [
    {
     "data": {
      "text/html": [
       "<div>\n",
       "<style scoped>\n",
       "    .dataframe tbody tr th:only-of-type {\n",
       "        vertical-align: middle;\n",
       "    }\n",
       "\n",
       "    .dataframe tbody tr th {\n",
       "        vertical-align: top;\n",
       "    }\n",
       "\n",
       "    .dataframe thead th {\n",
       "        text-align: right;\n",
       "    }\n",
       "</style>\n",
       "<table border=\"1\" class=\"dataframe\">\n",
       "  <thead>\n",
       "    <tr style=\"text-align: right;\">\n",
       "      <th></th>\n",
       "      <th>Acceso al contenido de clase - MENSAJES DE AUDIO</th>\n",
       "      <th>Recuento</th>\n",
       "      <th>Porcentaje</th>\n",
       "    </tr>\n",
       "  </thead>\n",
       "  <tbody>\n",
       "    <tr>\n",
       "      <th>0</th>\n",
       "      <td>0.0</td>\n",
       "      <td>3,765,520</td>\n",
       "      <td>61.98</td>\n",
       "    </tr>\n",
       "    <tr>\n",
       "      <th>1</th>\n",
       "      <td>5.0</td>\n",
       "      <td>2,309,917</td>\n",
       "      <td>38.02</td>\n",
       "    </tr>\n",
       "    <tr>\n",
       "      <th>2</th>\n",
       "      <td>Total</td>\n",
       "      <td>6,075,437</td>\n",
       "      <td>100.00</td>\n",
       "    </tr>\n",
       "  </tbody>\n",
       "</table>\n",
       "</div>"
      ],
      "text/plain": [
       "  Acceso al contenido de clase - MENSAJES DE AUDIO   Recuento Porcentaje\n",
       "0                                              0.0  3,765,520      61.98\n",
       "1                                              5.0  2,309,917      38.02\n",
       "2                                            Total  6,075,437     100.00"
      ]
     },
     "execution_count": 58,
     "metadata": {},
     "output_type": "execute_result"
    }
   ],
   "source": [
    "generar_tabla_recuento(base_filtrada, \"clases_msm_audio\", \"Acceso al contenido de clase - MENSAJES DE AUDIO\",True,True)"
   ]
  },
  {
   "cell_type": "code",
   "execution_count": 59,
   "id": "942ae27d-d475-4c15-a7d9-a386e01eeab2",
   "metadata": {},
   "outputs": [
    {
     "data": {
      "text/html": [
       "<div>\n",
       "<style scoped>\n",
       "    .dataframe tbody tr th:only-of-type {\n",
       "        vertical-align: middle;\n",
       "    }\n",
       "\n",
       "    .dataframe tbody tr th {\n",
       "        vertical-align: top;\n",
       "    }\n",
       "\n",
       "    .dataframe thead th {\n",
       "        text-align: right;\n",
       "    }\n",
       "</style>\n",
       "<table border=\"1\" class=\"dataframe\">\n",
       "  <thead>\n",
       "    <tr style=\"text-align: right;\">\n",
       "      <th></th>\n",
       "      <th>Acceso al contenido de clase - MENSAJES DE TEXTO</th>\n",
       "      <th>Recuento</th>\n",
       "      <th>Porcentaje</th>\n",
       "    </tr>\n",
       "  </thead>\n",
       "  <tbody>\n",
       "    <tr>\n",
       "      <th>0</th>\n",
       "      <td>0.0</td>\n",
       "      <td>4,068,594</td>\n",
       "      <td>66.97</td>\n",
       "    </tr>\n",
       "    <tr>\n",
       "      <th>1</th>\n",
       "      <td>6.0</td>\n",
       "      <td>2,006,843</td>\n",
       "      <td>33.03</td>\n",
       "    </tr>\n",
       "    <tr>\n",
       "      <th>2</th>\n",
       "      <td>Total</td>\n",
       "      <td>6,075,437</td>\n",
       "      <td>100.00</td>\n",
       "    </tr>\n",
       "  </tbody>\n",
       "</table>\n",
       "</div>"
      ],
      "text/plain": [
       "  Acceso al contenido de clase - MENSAJES DE TEXTO   Recuento Porcentaje\n",
       "0                                              0.0  4,068,594      66.97\n",
       "1                                              6.0  2,006,843      33.03\n",
       "2                                            Total  6,075,437     100.00"
      ]
     },
     "execution_count": 59,
     "metadata": {},
     "output_type": "execute_result"
    }
   ],
   "source": [
    "generar_tabla_recuento(base_filtrada, \"clases_msm_texto\", \"Acceso al contenido de clase - MENSAJES DE TEXTO\",True,True)"
   ]
  },
  {
   "cell_type": "code",
   "execution_count": 60,
   "id": "27e01923-6227-49b8-a1d3-9f3b941f8125",
   "metadata": {},
   "outputs": [
    {
     "data": {
      "text/html": [
       "<div>\n",
       "<style scoped>\n",
       "    .dataframe tbody tr th:only-of-type {\n",
       "        vertical-align: middle;\n",
       "    }\n",
       "\n",
       "    .dataframe tbody tr th {\n",
       "        vertical-align: top;\n",
       "    }\n",
       "\n",
       "    .dataframe thead th {\n",
       "        text-align: right;\n",
       "    }\n",
       "</style>\n",
       "<table border=\"1\" class=\"dataframe\">\n",
       "  <thead>\n",
       "    <tr style=\"text-align: right;\">\n",
       "      <th></th>\n",
       "      <th>Acceso al contenido de clase - SIN ACOMPAÑAMIENTO</th>\n",
       "      <th>Recuento</th>\n",
       "      <th>Porcentaje</th>\n",
       "    </tr>\n",
       "  </thead>\n",
       "  <tbody>\n",
       "    <tr>\n",
       "      <th>0</th>\n",
       "      <td>0.0</td>\n",
       "      <td>5,917,262</td>\n",
       "      <td>97.40</td>\n",
       "    </tr>\n",
       "    <tr>\n",
       "      <th>1</th>\n",
       "      <td>7.0</td>\n",
       "      <td>158,175</td>\n",
       "      <td>2.60</td>\n",
       "    </tr>\n",
       "    <tr>\n",
       "      <th>2</th>\n",
       "      <td>Total</td>\n",
       "      <td>6,075,437</td>\n",
       "      <td>100.00</td>\n",
       "    </tr>\n",
       "  </tbody>\n",
       "</table>\n",
       "</div>"
      ],
      "text/plain": [
       "  Acceso al contenido de clase - SIN ACOMPAÑAMIENTO   Recuento Porcentaje\n",
       "0                                               0.0  5,917,262      97.40\n",
       "1                                               7.0    158,175       2.60\n",
       "2                                             Total  6,075,437     100.00"
      ]
     },
     "execution_count": 60,
     "metadata": {},
     "output_type": "execute_result"
    }
   ],
   "source": [
    "generar_tabla_recuento(base_filtrada, \"clases_sin_acompañamiento\", \"Acceso al contenido de clase - SIN ACOMPAÑAMIENTO\",True,True)"
   ]
  },
  {
   "cell_type": "markdown",
   "id": "932f9ef0",
   "metadata": {
    "tags": []
   },
   "source": [
    "# Graficos"
   ]
  },
  {
   "cell_type": "markdown",
   "id": "7f1c9903-3f4b-407f-a70e-cfe030d6072f",
   "metadata": {},
   "source": [
    "### V. Continuas - Miembros por hogar y Edad"
   ]
  },
  {
   "cell_type": "code",
   "execution_count": 61,
   "id": "f2079caf",
   "metadata": {},
   "outputs": [
    {
     "data": {
      "image/png": "[encoded data removed]",
      "text/plain": [
       "<Figure size 640x480 with 1 Axes>"
      ]
     },
     "metadata": {},
     "output_type": "display_data"
    }
   ],
   "source": [
    "guardar_histograma_con_pesos(base_filtrada, 'mieperho','Miembros por hogar')"
   ]
  },
  {
   "cell_type": "code",
   "execution_count": 62,
   "id": "0948067c",
   "metadata": {},
   "outputs": [
    {
     "data": {
      "image/png": "[encoded data removed]",
      "text/plain": [
       "<Figure size 640x480 with 1 Axes>"
      ]
     },
     "metadata": {},
     "output_type": "display_data"
    }
   ],
   "source": [
    "guardar_histograma_con_pesos(base_filtrada, 'Edad','Edad')"
   ]
  },
  {
   "cell_type": "markdown",
   "id": "fb9ef9bf-e2e2-4a30-bf7c-27ca26af6c8a",
   "metadata": {
    "tags": []
   },
   "source": [
    "### V. Cualitativas - Nivel educativo y centro de estudios"
   ]
  },
  {
   "cell_type": "markdown",
   "id": "a96b93fa-2a9a-4535-accb-c7015c49c115",
   "metadata": {
    "jp-MarkdownHeadingCollapsed": true,
    "tags": []
   },
   "source": [
    "#### Func. Graf de barras"
   ]
  },
  {
   "cell_type": "code",
   "execution_count": 63,
   "id": "c4f8db8c-7fd5-4aa1-97c8-1271cb28459e",
   "metadata": {},
   "outputs": [],
   "source": [
    "def guardar_graf_barras(columna_categorica):\n",
    "    # Crear el gráfico de barras ponderado\n",
    "    ax = sns.barplot(x=columna_categorica, y='factor07', data=base_filtrada, estimator=sum)\n",
    "\n",
    "    # Etiquetas y título\n",
    "    plt.xlabel('Categoría')\n",
    "    plt.ylabel('Suma de Pesos')\n",
    "    plt.title(f'Gráfico de Barras Ponderado para {columna_categorica}')\n",
    "\n",
    "    # Generar el nombre del archivo de imagen basado en el nombre de la columna\n",
    "    nombre_archivo = f'grafico_barras_ponderado_{columna_categorica}.png'\n",
    "\n",
    "    # Guardar la imagen en la ruta especificada\n",
    "    ruta_guardado = '../output/images/' + nombre_archivo\n",
    "\n",
    "    # Agregar texto con los valores en las barras\n",
    "    for p in ax.patches:\n",
    "        ax.annotate(f'{p.get_height():.2f}', (p.get_x() + p.get_width() / 2., p.get_height()),\n",
    "                    ha='center', va='center', fontsize=10, color='black', xytext=(0, 5),\n",
    "                    textcoords='offset points')\n",
    "\n",
    "    # Guardar la imagen\n",
    "    plt.savefig(ruta_guardado)\n",
    "\n",
    "    # Mostrar el gráfico\n",
    "    plt.show()"
   ]
  },
  {
   "cell_type": "markdown",
   "id": "3d508358-0066-4bc7-b6cc-f38da708e930",
   "metadata": {},
   "source": [
    "### Nivel educativo y centro de estudios"
   ]
  },
  {
   "cell_type": "code",
   "execution_count": 64,
   "id": "fb330961",
   "metadata": {},
   "outputs": [
    {
     "data": {
      "image/png": "[encoded data removed]",
      "text/plain": [
       "<Figure size 640x480 with 1 Axes>"
      ]
     },
     "metadata": {},
     "output_type": "display_data"
    }
   ],
   "source": [
    "guardar_graf_barras('Nivel_educativo')"
   ]
  },
  {
   "cell_type": "code",
   "execution_count": 65,
   "id": "84e72a82-deac-42a8-aba8-4d5bd0234830",
   "metadata": {},
   "outputs": [],
   "source": [
    "# Not "
   ]
  },
  {
   "cell_type": "code",
   "execution_count": 66,
   "id": "fb851343",
   "metadata": {},
   "outputs": [
    {
     "data": {
      "image/png": "[encoded data removed]",
      "text/plain": [
       "<Figure size 640x480 with 1 Axes>"
      ]
     },
     "metadata": {},
     "output_type": "display_data"
    }
   ],
   "source": [
    "guardar_graf_barras('Centro_estudios')"
   ]
  },
  {
   "cell_type": "markdown",
   "id": "821135f6-bbd4-408f-97cf-367545744fb5",
   "metadata": {},
   "source": [
    "### V.C. Idioma y Sexo"
   ]
  },
  {
   "cell_type": "code",
   "execution_count": 67,
   "id": "b198374e",
   "metadata": {},
   "outputs": [
    {
     "data": {
      "image/png": "[encoded data removed]",
      "text/plain": [
       "<Figure size 640x480 with 1 Axes>"
      ]
     },
     "metadata": {},
     "output_type": "display_data"
    }
   ],
   "source": [
    "guardar_graf_barras('Idioma')"
   ]
  },
  {
   "cell_type": "code",
   "execution_count": 68,
   "id": "64698e3a",
   "metadata": {},
   "outputs": [
    {
     "data": {
      "image/png": "[encoded data removed]",
      "text/plain": [
       "<Figure size 640x480 with 1 Axes>"
      ]
     },
     "metadata": {},
     "output_type": "display_data"
    }
   ],
   "source": [
    "guardar_graf_barras('Sexo')"
   ]
  },
  {
   "cell_type": "markdown",
   "id": "8246ae42-895b-46ed-8ca2-3cafe182f94d",
   "metadata": {},
   "source": [
    "### Area y Estrato Social"
   ]
  },
  {
   "cell_type": "code",
   "execution_count": 69,
   "id": "acb742d2",
   "metadata": {},
   "outputs": [
    {
     "data": {
      "image/png": "[encoded data removed]",
      "text/plain": [
       "<Figure size 640x480 with 1 Axes>"
      ]
     },
     "metadata": {},
     "output_type": "display_data"
    }
   ],
   "source": [
    "guardar_graf_barras('AREA')"
   ]
  },
  {
   "cell_type": "code",
   "execution_count": 70,
   "id": "ccd7b96d",
   "metadata": {},
   "outputs": [
    {
     "data": {
      "image/png": "[encoded data removed]",
      "text/plain": [
       "<Figure size 640x480 with 1 Axes>"
      ]
     },
     "metadata": {},
     "output_type": "display_data"
    }
   ],
   "source": [
    "guardar_graf_barras('estrsocial')"
   ]
  },
  {
   "cell_type": "code",
   "execution_count": 71,
   "id": "06d03e85-0613-411c-ad93-470001febe92",
   "metadata": {},
   "outputs": [
    {
     "data": {
      "image/png": "[encoded data removed]",
      "text/plain": [
       "<Figure size 640x480 with 1 Axes>"
      ]
     },
     "metadata": {},
     "output_type": "display_data"
    }
   ],
   "source": [
    "guardar_graf_barras('DEPARTAMENTO')"
   ]
  },
  {
   "cell_type": "code",
   "execution_count": 72,
   "id": "6b0aaae9-9d11-41a4-9e0a-eab67b3a7ad4",
   "metadata": {},
   "outputs": [],
   "source": [
    "base_filtrada_ = base_filtrada.copy()"
   ]
  },
  {
   "cell_type": "markdown",
   "id": "dc91db93-2cab-4e4b-8cb1-17f93fb3f43c",
   "metadata": {},
   "source": [
    "### Grafico de barras - USO"
   ]
  },
  {
   "cell_type": "code",
   "execution_count": 73,
   "id": "0e3703ec-713d-4ed5-bdd5-27f9069cf457",
   "metadata": {},
   "outputs": [],
   "source": [
    "base_filtrada_['i_uso'] = base_filtrada_['i_uso'].map({2: 0, 1: 1})\n",
    "base_filtrada_['i_uso_cedu'] = base_filtrada_['i_uso_cedu'].map({0: 0, 3: 1})\n",
    "base_filtrada_['i_uso_trab'] = base_filtrada_['i_uso_trab'].map({0: 0, 2: 1})\n",
    "base_filtrada_['i_uso_hog'] = base_filtrada_['i_uso_hog'].map({0: 0, 1: 1})\n",
    "base_filtrada_['i_uso_cab'] = base_filtrada_['i_uso_cab'].map({0: 0, 4: 1})\n",
    "base_filtrada_['i_uso_casotr'] = base_filtrada_['i_uso_casotr'].map({0: 0, 5: 1})\n",
    "base_filtrada_['i_uso_otro'] = base_filtrada_['i_uso_otro'].map({0: 0, 6: 1})\n",
    "base_filtrada_['i_uso_movil'] = base_filtrada_['i_uso_movil'].map({0: 0, 7: 1})"
   ]
  },
  {
   "cell_type": "markdown",
   "id": "771cfb00-7e1b-4916-ad6a-cd3990ea6de8",
   "metadata": {
    "jp-MarkdownHeadingCollapsed": true,
    "tags": []
   },
   "source": [
    "### Funcion"
   ]
  },
  {
   "cell_type": "code",
   "execution_count": 74,
   "id": "2b8f1515-bbe6-487a-b2b6-b7aec25c56c5",
   "metadata": {},
   "outputs": [],
   "source": [
    "def barras(variable):\n",
    "    freq_1 = base_filtrada_[[ \"factor07\",variable]].groupby([variable]).sum().reset_index()\n",
    "    total_recuento = freq_1['factor07'].sum()\n",
    "    freq_1['Porcentaje'] = (freq_1['factor07'] / total_recuento * 100).round(2)\n",
    "    freq_1.rename(columns={variable: 'variable','factor07': 'value'}, inplace=True)\n",
    "    freq_1 =  freq_1.tail(1)\n",
    "    freq_1['variable'] = freq_1['variable'].replace(1.0, variable)\n",
    "    freq_1['value'] = freq_1['value'].apply(lambda x: '{:,.0f}'.format(x))\n",
    "    #freq_1['Porcentaje'] = freq_1['Porcentaje'].apply(lambda x: '{:.3f}'.format(x))\n",
    "    \n",
    "    return freq_1"
   ]
  },
  {
   "cell_type": "markdown",
   "id": "5fed5286-8813-4db3-b5e4-e91f7b5a8b21",
   "metadata": {},
   "source": [
    "### Otro"
   ]
  },
  {
   "cell_type": "code",
   "execution_count": 75,
   "id": "b7713147-a4d7-4142-ae5e-b557f3a979d7",
   "metadata": {},
   "outputs": [],
   "source": [
    "i_uso= barras(\"i_uso\")\n",
    "i_uso_cedu = barras(\"i_uso_cedu\")\n",
    "i_uso_trab = barras(\"i_uso_trab\")\n",
    "i_uso_hog = barras(\"i_uso_hog\")\n",
    "i_uso_cab = barras(\"i_uso_cab\")\n",
    "i_uso_casotr = barras(\"i_uso_casotr\")\n",
    "i_uso_otro = barras(\"i_uso_otro\")\n",
    "i_uso_movil = barras(\"i_uso_movil\")"
   ]
  },
  {
   "cell_type": "code",
   "execution_count": 76,
   "id": "38188bf6-13d5-41bd-973a-dd0c41a9f79f",
   "metadata": {},
   "outputs": [
    {
     "data": {
      "text/html": [
       "<div>\n",
       "<style scoped>\n",
       "    .dataframe tbody tr th:only-of-type {\n",
       "        vertical-align: middle;\n",
       "    }\n",
       "\n",
       "    .dataframe tbody tr th {\n",
       "        vertical-align: top;\n",
       "    }\n",
       "\n",
       "    .dataframe thead th {\n",
       "        text-align: right;\n",
       "    }\n",
       "</style>\n",
       "<table border=\"1\" class=\"dataframe\">\n",
       "  <thead>\n",
       "    <tr style=\"text-align: right;\">\n",
       "      <th></th>\n",
       "      <th>variable</th>\n",
       "      <th>value</th>\n",
       "      <th>Porcentaje</th>\n",
       "    </tr>\n",
       "  </thead>\n",
       "  <tbody>\n",
       "    <tr>\n",
       "      <th>0</th>\n",
       "      <td>i_uso</td>\n",
       "      <td>4,273,676</td>\n",
       "      <td>71.070000</td>\n",
       "    </tr>\n",
       "    <tr>\n",
       "      <th>1</th>\n",
       "      <td>i_uso_cedu</td>\n",
       "      <td>4,436</td>\n",
       "      <td>0.230000</td>\n",
       "    </tr>\n",
       "    <tr>\n",
       "      <th>2</th>\n",
       "      <td>i_uso_trab</td>\n",
       "      <td>2,907</td>\n",
       "      <td>0.150000</td>\n",
       "    </tr>\n",
       "    <tr>\n",
       "      <th>3</th>\n",
       "      <td>i_uso_hog</td>\n",
       "      <td>490,830</td>\n",
       "      <td>25.160000</td>\n",
       "    </tr>\n",
       "    <tr>\n",
       "      <th>4</th>\n",
       "      <td>i_uso_cab</td>\n",
       "      <td>57,794</td>\n",
       "      <td>2.960000</td>\n",
       "    </tr>\n",
       "    <tr>\n",
       "      <th>5</th>\n",
       "      <td>i_uso_casotr</td>\n",
       "      <td>40,755</td>\n",
       "      <td>2.090000</td>\n",
       "    </tr>\n",
       "    <tr>\n",
       "      <th>6</th>\n",
       "      <td>i_uso_otro</td>\n",
       "      <td>22,055</td>\n",
       "      <td>1.130000</td>\n",
       "    </tr>\n",
       "    <tr>\n",
       "      <th>7</th>\n",
       "      <td>i_uso_movil</td>\n",
       "      <td>1,687,514</td>\n",
       "      <td>86.489998</td>\n",
       "    </tr>\n",
       "  </tbody>\n",
       "</table>\n",
       "</div>"
      ],
      "text/plain": [
       "       variable      value  Porcentaje\n",
       "0         i_uso  4,273,676   71.070000\n",
       "1    i_uso_cedu      4,436    0.230000\n",
       "2    i_uso_trab      2,907    0.150000\n",
       "3     i_uso_hog    490,830   25.160000\n",
       "4     i_uso_cab     57,794    2.960000\n",
       "5  i_uso_casotr     40,755    2.090000\n",
       "6    i_uso_otro     22,055    1.130000\n",
       "7   i_uso_movil  1,687,514   86.489998"
      ]
     },
     "execution_count": 76,
     "metadata": {},
     "output_type": "execute_result"
    }
   ],
   "source": [
    "data3 = pd.concat([i_uso, i_uso_cedu, i_uso_trab, i_uso_hog, i_uso_cab, i_uso_casotr,i_uso_otro, i_uso_movil], axis=0)\n",
    "data3 = data3.reset_index(drop=True)\n",
    "data3"
   ]
  },
  {
   "cell_type": "markdown",
   "id": "138d46b8-80ee-4062-ae3b-70b73e148d75",
   "metadata": {},
   "source": [
    "## plot"
   ]
  },
  {
   "cell_type": "code",
   "execution_count": 77,
   "id": "394f73cc-de35-48b0-8bcd-9685a39fa512",
   "metadata": {},
   "outputs": [
    {
     "data": {
      "image/png": "[encoded data removed]",
      "text/plain": [
       "<Figure size 1400x1000 with 1 Axes>"
      ]
     },
     "metadata": {},
     "output_type": "display_data"
    }
   ],
   "source": [
    "# Plot\n",
    "plt.figure(figsize=(14,10))\n",
    "ax = sns.barplot(data = data3, x = 'Porcentaje', y = 'variable', color = 'grey',\n",
    "                order=data3.sort_values('Porcentaje',ascending = False).variable)\n",
    "\n",
    "plt.bar_label(ax.containers[0], fmt='%.2f', fontsize = 11)\n",
    "plt.show()"
   ]
  },
  {
   "cell_type": "markdown",
   "id": "d5a7b65e-4867-4fce-bbb3-469e7174ca48",
   "metadata": {},
   "source": [
    "### Grafico de barras - ACCESO"
   ]
  },
  {
   "cell_type": "code",
   "execution_count": 78,
   "id": "c0b4480b-44d8-495f-8a6a-b9214b8e4ef2",
   "metadata": {},
   "outputs": [],
   "source": [
    "base_filtrada_['i_computadora'] = base_filtrada_['i_computadora'].map({0: 0, 1: 1})\n",
    "base_filtrada_['i_tablet'] = base_filtrada_['i_tablet'].map({0: 0, 6: 1})\n",
    "base_filtrada_['i_laptop'] = base_filtrada_['i_laptop'].map({0: 0, 2: 1})\n",
    "base_filtrada_['i_otro'] = base_filtrada_['i_otro'].map({0: 0, 7: 1})\n",
    "base_filtrada_['i_cel_sdatos'] = base_filtrada_['i_cel_sdatos'].map({0: 0, 8: 1})\n",
    "base_filtrada_['i_cel_cdatos'] = base_filtrada_['i_cel_cdatos'].map({0: 0, 9: 1})"
   ]
  },
  {
   "cell_type": "code",
   "execution_count": 79,
   "id": "f203c8bd-2304-4e88-a2d8-1e6a29d8eab4",
   "metadata": {},
   "outputs": [],
   "source": [
    "i_computadora = barras(\"i_computadora\")\n",
    "i_tablet = barras(\"i_tablet\")\n",
    "i_laptop = barras(\"i_laptop\")\n",
    "i_otro = barras(\"i_otro\")\n",
    "i_cel_sdatos = barras(\"i_cel_sdatos\")\n",
    "i_cel_cdatos = barras(\"i_cel_cdatos\")"
   ]
  },
  {
   "cell_type": "code",
   "execution_count": 80,
   "id": "087ce9ba",
   "metadata": {},
   "outputs": [
    {
     "data": {
      "text/html": [
       "<div>\n",
       "<style scoped>\n",
       "    .dataframe tbody tr th:only-of-type {\n",
       "        vertical-align: middle;\n",
       "    }\n",
       "\n",
       "    .dataframe tbody tr th {\n",
       "        vertical-align: top;\n",
       "    }\n",
       "\n",
       "    .dataframe thead th {\n",
       "        text-align: right;\n",
       "    }\n",
       "</style>\n",
       "<table border=\"1\" class=\"dataframe\">\n",
       "  <thead>\n",
       "    <tr style=\"text-align: right;\">\n",
       "      <th></th>\n",
       "      <th>variable</th>\n",
       "      <th>value</th>\n",
       "      <th>Porcentaje</th>\n",
       "    </tr>\n",
       "  </thead>\n",
       "  <tbody>\n",
       "    <tr>\n",
       "      <th>0</th>\n",
       "      <td>i_computadora</td>\n",
       "      <td>580,812</td>\n",
       "      <td>13.590000</td>\n",
       "    </tr>\n",
       "    <tr>\n",
       "      <th>1</th>\n",
       "      <td>i_tablet</td>\n",
       "      <td>98,680</td>\n",
       "      <td>2.310000</td>\n",
       "    </tr>\n",
       "    <tr>\n",
       "      <th>2</th>\n",
       "      <td>i_laptop</td>\n",
       "      <td>392,707</td>\n",
       "      <td>9.190000</td>\n",
       "    </tr>\n",
       "    <tr>\n",
       "      <th>3</th>\n",
       "      <td>i_otro</td>\n",
       "      <td>826,470</td>\n",
       "      <td>19.340000</td>\n",
       "    </tr>\n",
       "    <tr>\n",
       "      <th>4</th>\n",
       "      <td>i_cel_sdatos</td>\n",
       "      <td>2,234,896</td>\n",
       "      <td>52.290001</td>\n",
       "    </tr>\n",
       "    <tr>\n",
       "      <th>5</th>\n",
       "      <td>i_cel_cdatos</td>\n",
       "      <td>849,994</td>\n",
       "      <td>19.889999</td>\n",
       "    </tr>\n",
       "  </tbody>\n",
       "</table>\n",
       "</div>"
      ],
      "text/plain": [
       "        variable      value  Porcentaje\n",
       "0  i_computadora    580,812   13.590000\n",
       "1       i_tablet     98,680    2.310000\n",
       "2       i_laptop    392,707    9.190000\n",
       "3         i_otro    826,470   19.340000\n",
       "4   i_cel_sdatos  2,234,896   52.290001\n",
       "5   i_cel_cdatos    849,994   19.889999"
      ]
     },
     "execution_count": 80,
     "metadata": {},
     "output_type": "execute_result"
    }
   ],
   "source": [
    "data3 = pd.concat([i_computadora, i_tablet, i_laptop, i_otro, i_cel_sdatos, i_cel_cdatos], axis=0)\n",
    "data3 = data3.reset_index(drop=True)\n",
    "data3"
   ]
  },
  {
   "cell_type": "markdown",
   "id": "6a6d3c23-b823-402d-8b57-708501fa7aa8",
   "metadata": {},
   "source": [
    "## Plot"
   ]
  },
  {
   "cell_type": "code",
   "execution_count": 81,
   "id": "06ea4854-c7c1-4607-8656-23b5be3e319b",
   "metadata": {},
   "outputs": [
    {
     "data": {
      "image/png": "[encoded data removed]",
      "text/plain": [
       "<Figure size 1400x1000 with 1 Axes>"
      ]
     },
     "metadata": {},
     "output_type": "display_data"
    }
   ],
   "source": [
    "# Plot\n",
    "plt.figure(figsize=(14,10))\n",
    "ax = sns.barplot(data = data3, x = 'Porcentaje', y = 'variable', color = 'grey',\n",
    "                order=data3.sort_values('Porcentaje',ascending = False).variable)\n",
    "\n",
    "plt.bar_label(ax.containers[0], fmt='%.2f', fontsize = 11)\n",
    "plt.show()"
   ]
  },
  {
   "cell_type": "markdown",
   "id": "c84a96f1-bd49-459f-bae9-9b4db5eb05c6",
   "metadata": {},
   "source": [
    "### Grafico de barras - Clases a DISTANCIA"
   ]
  },
  {
   "cell_type": "code",
   "execution_count": 82,
   "id": "aa1214bc-51f5-4f13-9695-0b9a9c5f35f1",
   "metadata": {},
   "outputs": [],
   "source": [
    "base_filtrada_['clases_tv'] = base_filtrada_['clases_tv'].map({0: 0, 1: 1})\n",
    "base_filtrada_['clases_radio'] = base_filtrada_['clases_radio'].map({0: 0, 2: 1})\n",
    "base_filtrada_['clases_plataforma_virtual'] = base_filtrada_['clases_plataforma_virtual'].map({0: 0, 3: 1})\n",
    "base_filtrada_['clases_otro'] = base_filtrada_['clases_otro'].map({0: 0, 4: 1})\n",
    "base_filtrada_['clases_wsp'] = base_filtrada_['clases_wsp'].map({0: 0, 5: 1})\n",
    "base_filtrada_['clases_correo'] = base_filtrada_['clases_correo'].map({0: 0, 6: 1})\n",
    "base_filtrada_['clases_llamadas'] = base_filtrada_['clases_llamadas'].map({0: 0, 7: 1})"
   ]
  },
  {
   "cell_type": "code",
   "execution_count": 83,
   "id": "e39c2f03-b1eb-41bf-b3af-46617d8a6df5",
   "metadata": {},
   "outputs": [],
   "source": [
    "base_filtrada_['clases_interaccion_profesor'] = base_filtrada_['clases_interaccion_profesor'].map({0: 0, 1: 1})\n",
    "base_filtrada_['clases_videos'] = base_filtrada_['clases_videos'].map({0: 0, 2: 1})\n",
    "base_filtrada_['clases_documentos'] = base_filtrada_['clases_documentos'].map({0: 0, 3: 1})\n",
    "base_filtrada_['clases_otros'] = base_filtrada_['clases_otros'].map({0: 0, 4: 1})\n",
    "base_filtrada_['clases_msm_audio'] = base_filtrada_['clases_msm_audio'].map({0: 0, 5: 1})\n",
    "base_filtrada_['clases_msm_texto'] = base_filtrada_['clases_msm_texto'].map({0: 0, 6: 1})\n",
    "base_filtrada_['clases_sin_acompañamiento'] = base_filtrada_['clases_sin_acompañamiento'].map({0: 0, 7: 1})"
   ]
  },
  {
   "cell_type": "code",
   "execution_count": 84,
   "id": "bdeb62a5-32e6-40f1-b13f-779467c09138",
   "metadata": {},
   "outputs": [],
   "source": [
    "clases_tv         =   barras(\"clases_tv\")\n",
    "clases_radio      = barras(\"clases_radio\")\n",
    "clases_plataforma_virtual = barras(\"clases_plataforma_virtual\")\n",
    "clases_otro       = barras(\"clases_otro\")\n",
    "clases_wsp        = barras(\"clases_wsp\")\n",
    "clases_correo     = barras(\"clases_correo\")\n",
    "clases_llamadas   = barras(\"clases_llamadas\")\n",
    "clases_interaccion_profesor = barras(\"clases_interaccion_profesor\")\n",
    "clases_videos     = barras(\"clases_videos\")\n",
    "clases_documentos = barras(\"clases_documentos\")\n",
    "clases_otros      = barras(\"clases_otros\")\n",
    "clases_msm_audio  = barras(\"clases_msm_audio\")\n",
    "clases_msm_texto  = barras(\"clases_msm_texto\")\n",
    "clases_sin_acompañamiento = barras(\"clases_sin_acompañamiento\")"
   ]
  },
  {
   "cell_type": "code",
   "execution_count": 85,
   "id": "84c82615-b957-43e8-b0c6-e7cc6c241837",
   "metadata": {},
   "outputs": [
    {
     "data": {
      "text/html": [
       "<div>\n",
       "<style scoped>\n",
       "    .dataframe tbody tr th:only-of-type {\n",
       "        vertical-align: middle;\n",
       "    }\n",
       "\n",
       "    .dataframe tbody tr th {\n",
       "        vertical-align: top;\n",
       "    }\n",
       "\n",
       "    .dataframe thead th {\n",
       "        text-align: right;\n",
       "    }\n",
       "</style>\n",
       "<table border=\"1\" class=\"dataframe\">\n",
       "  <thead>\n",
       "    <tr style=\"text-align: right;\">\n",
       "      <th></th>\n",
       "      <th>variable</th>\n",
       "      <th>value</th>\n",
       "      <th>Porcentaje</th>\n",
       "    </tr>\n",
       "  </thead>\n",
       "  <tbody>\n",
       "    <tr>\n",
       "      <th>0</th>\n",
       "      <td>clases_tv</td>\n",
       "      <td>2,970,516</td>\n",
       "      <td>48.889999</td>\n",
       "    </tr>\n",
       "    <tr>\n",
       "      <th>1</th>\n",
       "      <td>clases_radio</td>\n",
       "      <td>1,006,021</td>\n",
       "      <td>16.559999</td>\n",
       "    </tr>\n",
       "    <tr>\n",
       "      <th>2</th>\n",
       "      <td>clases_plataforma_virtual</td>\n",
       "      <td>1,871,859</td>\n",
       "      <td>30.809999</td>\n",
       "    </tr>\n",
       "    <tr>\n",
       "      <th>3</th>\n",
       "      <td>clases_otro</td>\n",
       "      <td>123,784</td>\n",
       "      <td>2.040000</td>\n",
       "    </tr>\n",
       "    <tr>\n",
       "      <th>4</th>\n",
       "      <td>clases_wsp</td>\n",
       "      <td>4,031,859</td>\n",
       "      <td>66.360001</td>\n",
       "    </tr>\n",
       "    <tr>\n",
       "      <th>5</th>\n",
       "      <td>clases_correo</td>\n",
       "      <td>198,134</td>\n",
       "      <td>3.260000</td>\n",
       "    </tr>\n",
       "    <tr>\n",
       "      <th>6</th>\n",
       "      <td>clases_llamadas</td>\n",
       "      <td>1,739,798</td>\n",
       "      <td>28.639999</td>\n",
       "    </tr>\n",
       "    <tr>\n",
       "      <th>7</th>\n",
       "      <td>clases_interaccion_profesor</td>\n",
       "      <td>3,754,060</td>\n",
       "      <td>61.790001</td>\n",
       "    </tr>\n",
       "    <tr>\n",
       "      <th>8</th>\n",
       "      <td>clases_videos</td>\n",
       "      <td>3,452,729</td>\n",
       "      <td>56.830002</td>\n",
       "    </tr>\n",
       "    <tr>\n",
       "      <th>9</th>\n",
       "      <td>clases_documentos</td>\n",
       "      <td>4,472,920</td>\n",
       "      <td>73.620003</td>\n",
       "    </tr>\n",
       "    <tr>\n",
       "      <th>10</th>\n",
       "      <td>clases_otros</td>\n",
       "      <td>29,364</td>\n",
       "      <td>0.480000</td>\n",
       "    </tr>\n",
       "    <tr>\n",
       "      <th>11</th>\n",
       "      <td>clases_msm_audio</td>\n",
       "      <td>2,309,917</td>\n",
       "      <td>38.020000</td>\n",
       "    </tr>\n",
       "    <tr>\n",
       "      <th>12</th>\n",
       "      <td>clases_msm_texto</td>\n",
       "      <td>2,006,843</td>\n",
       "      <td>33.029999</td>\n",
       "    </tr>\n",
       "    <tr>\n",
       "      <th>13</th>\n",
       "      <td>clases_sin_acompañamiento</td>\n",
       "      <td>158,175</td>\n",
       "      <td>2.600000</td>\n",
       "    </tr>\n",
       "  </tbody>\n",
       "</table>\n",
       "</div>"
      ],
      "text/plain": [
       "                       variable      value  Porcentaje\n",
       "0                     clases_tv  2,970,516   48.889999\n",
       "1                  clases_radio  1,006,021   16.559999\n",
       "2     clases_plataforma_virtual  1,871,859   30.809999\n",
       "3                   clases_otro    123,784    2.040000\n",
       "4                    clases_wsp  4,031,859   66.360001\n",
       "5                 clases_correo    198,134    3.260000\n",
       "6               clases_llamadas  1,739,798   28.639999\n",
       "7   clases_interaccion_profesor  3,754,060   61.790001\n",
       "8                 clases_videos  3,452,729   56.830002\n",
       "9             clases_documentos  4,472,920   73.620003\n",
       "10                 clases_otros     29,364    0.480000\n",
       "11             clases_msm_audio  2,309,917   38.020000\n",
       "12             clases_msm_texto  2,006,843   33.029999\n",
       "13    clases_sin_acompañamiento    158,175    2.600000"
      ]
     },
     "execution_count": 85,
     "metadata": {},
     "output_type": "execute_result"
    }
   ],
   "source": [
    "data3 = pd.concat([clases_tv, clases_radio, clases_plataforma_virtual, clases_otro, clases_wsp, clases_correo, clases_llamadas,\n",
    "                   clases_interaccion_profesor, clases_videos, clases_documentos, clases_otros, clases_msm_audio, clases_msm_texto,\n",
    "                   clases_sin_acompañamiento], axis=0)\n",
    "data3 = data3.reset_index(drop=True)\n",
    "data3"
   ]
  },
  {
   "cell_type": "markdown",
   "id": "de8fca3c-bab0-4fb8-b838-8ba301c16e6d",
   "metadata": {
    "tags": []
   },
   "source": [
    "## plot"
   ]
  },
  {
   "cell_type": "code",
   "execution_count": 86,
   "id": "ef1367d4-cf16-411e-b46f-b725f8b557f3",
   "metadata": {},
   "outputs": [
    {
     "data": {
      "image/png": "[encoded data removed]",
      "text/plain": [
       "<Figure size 1400x1000 with 1 Axes>"
      ]
     },
     "metadata": {},
     "output_type": "display_data"
    }
   ],
   "source": [
    "# Plot\n",
    "plt.figure(figsize=(14,10))\n",
    "ax = sns.barplot(data = data3, x = 'Porcentaje', y = 'variable', color = 'grey',\n",
    "                order=data3.sort_values('Porcentaje',ascending = False).variable)\n",
    "\n",
    "plt.bar_label(ax.containers[0], fmt='%.2f', fontsize = 11)\n",
    "plt.show()"
   ]
  },
  {
   "cell_type": "markdown",
   "id": "fa9e36b7",
   "metadata": {},
   "source": [
    "# Regresión"
   ]
  },
  {
   "cell_type": "code",
   "execution_count": 87,
   "id": "e121013f",
   "metadata": {},
   "outputs": [
    {
     "name": "stdout",
     "output_type": "stream",
     "text": [
      "Número de valores faltantes en 'i_uso_hog': 20647\n"
     ]
    }
   ],
   "source": [
    "base_filtrada['i_uso_hog'].value_counts()\n",
    "missing_values = base_filtrada['i_uso_hog'].isna().sum()\n",
    "print(\"Número de valores faltantes en 'i_uso_hog':\", missing_values)"
   ]
  },
  {
   "cell_type": "code",
   "execution_count": 88,
   "id": "e68763a3-2144-4511-bb9a-505130ec08f9",
   "metadata": {},
   "outputs": [
    {
     "data": {
      "text/plain": [
       "(26899, 88)"
      ]
     },
     "execution_count": 88,
     "metadata": {},
     "output_type": "execute_result"
    }
   ],
   "source": [
    "base_filtrada.shape"
   ]
  },
  {
   "cell_type": "code",
   "execution_count": 89,
   "id": "d37e9a4f",
   "metadata": {},
   "outputs": [],
   "source": [
    "base_filtrada = base_filtrada.dropna(subset=['i_uso_hog'])\n",
    "weights = base_filtrada['factor07']"
   ]
  },
  {
   "cell_type": "code",
   "execution_count": 90,
   "id": "d4268ddb",
   "metadata": {},
   "outputs": [],
   "source": [
    "# Definir las variables dependientes, independientes y los pesos\n",
    "y = base_filtrada['i_uso_hog']\n",
    "X = base_filtrada[['mieperho','Nivel_educativo','Centro_estudios','Idioma','Sexo','AREA','estrsocial','Edad',\n",
    "                   'Electricidad'\n",
    "                  ## 'ZONA'\n",
    "                  ]] \n",
    "#X = base_filtrada[['mieperho','p308a','p308d','p300a','p207','AREA','estrsocial','p208a','p1121']]  # Agrega aquí tus otras variables independientes\n"
   ]
  },
  {
   "cell_type": "code",
   "execution_count": 91,
   "id": "dd0178a0",
   "metadata": {},
   "outputs": [],
   "source": [
    "# los nombres de las variables deben respresentar al menos una idea de lo que represento\n",
    "# Revisar qué variables son categoricas y continuas \n"
   ]
  },
  {
   "cell_type": "code",
   "execution_count": 92,
   "id": "aa62d680-63ad-448d-b393-ad6bc41d6f01",
   "metadata": {},
   "outputs": [],
   "source": [
    "# Define la variable dependiente (binaria) y las variables independientes\n",
    "y = base_filtrada['i_uso_hog']\n",
    "X = base_filtrada[['mieperho', 'Nivel_educativo', 'Centro_estudios', 'Idioma', 'Sexo', 'AREA', 'estrsocial', 'Edad', 'Electricidad']]\n",
    "\n",
    "# Codifica la variable categórica ordinal \"Nivel_educativo\" en variables dummy\n",
    "nivel_educativo_dummies = pd.get_dummies(base_filtrada['Nivel_educativo'], prefix='Nivel_educativo', drop_first=True)\n",
    "\n",
    "# Codifica la variable categórica nominal \"ZONA\" en variables dummy\n",
    "zona_dummies = pd.get_dummies(base_filtrada['ZONA'], prefix='ZONA', drop_first=True)\n",
    "\n",
    "# Codifica la variable categórica nominal \"ZONA\" en variables dummy\n",
    "departamento_dummies = pd.get_dummies(base_filtrada['DEPARTAMENTO'], prefix='DEPARTAMENTO', drop_first=True)\n",
    "\n",
    "# Combina las variables dummy con el conjunto de variables independientes\n",
    "X = pd.concat([X, nivel_educativo_dummies, zona_dummies, departamento_dummies], axis=1)"
   ]
  },
  {
   "cell_type": "markdown",
   "id": "6491e8a4-8137-49e3-884b-f10dec0b187c",
   "metadata": {},
   "source": [
    "## Regresión Lineal SIMPLE"
   ]
  },
  {
   "cell_type": "code",
   "execution_count": 93,
   "id": "e9733904",
   "metadata": {},
   "outputs": [
    {
     "name": "stdout",
     "output_type": "stream",
     "text": [
      "                            OLS Regression Results                            \n",
      "==============================================================================\n",
      "Dep. Variable:              i_uso_hog   R-squared:                       0.306\n",
      "Model:                            OLS   Adj. R-squared:                  0.302\n",
      "Method:                 Least Squares   F-statistic:                     73.99\n",
      "Date:                Sat, 30 Sep 2023   Prob (F-statistic):               0.00\n",
      "Time:                        09:24:10   Log-Likelihood:                -2328.1\n",
      "No. Observations:                6252   AIC:                             4732.\n",
      "Df Residuals:                    6214   BIC:                             4988.\n",
      "Df Model:                          37                                         \n",
      "Covariance Type:            nonrobust                                         \n",
      "=======================================================================================\n",
      "                          coef    std err          t      P>|t|      [0.025      0.975]\n",
      "---------------------------------------------------------------------------------------\n",
      "mieperho               -0.0004      0.003     -0.158      0.874      -0.006       0.005\n",
      "Nivel_educativo         0.2089      0.071      2.962      0.003       0.071       0.347\n",
      "Centro_estudios         0.3048      0.013     23.939      0.000       0.280       0.330\n",
      "Idioma                  0.0212      0.021      1.035      0.300      -0.019       0.061\n",
      "Sexo                    0.0197      0.009      2.198      0.028       0.002       0.037\n",
      "AREA                   -0.0309      0.015     -2.005      0.045      -0.061      -0.001\n",
      "estrsocial             -0.1091      0.005    -20.376      0.000      -0.120      -0.099\n",
      "Edad                    0.0010      0.003      0.381      0.703      -0.004       0.006\n",
      "Electricidad            0.0504      0.027      1.892      0.059      -0.002       0.103\n",
      "Nivel_educativo_2.0    -0.1666      0.083     -2.002      0.045      -0.330      -0.003\n",
      "Nivel_educativo_3.0    -0.3365      0.150     -2.246      0.025      -0.630      -0.043\n",
      "ZONA_2                  0.0176      0.022      0.799      0.425      -0.026       0.061\n",
      "ZONA_3                 -0.0222      0.032     -0.685      0.493      -0.086       0.041\n",
      "ZONA_4                  0.0537      0.029      1.883      0.060      -0.002       0.110\n",
      "DEPARTAMENTO_2         -0.0347      0.039     -0.884      0.377      -0.112       0.042\n",
      "DEPARTAMENTO_3          0.0278      0.043      0.641      0.522      -0.057       0.113\n",
      "DEPARTAMENTO_4          0.0796      0.038      2.095      0.036       0.005       0.154\n",
      "DEPARTAMENTO_5          0.0510      0.041      1.259      0.208      -0.028       0.130\n",
      "DEPARTAMENTO_6          0.0252      0.039      0.645      0.519      -0.051       0.102\n",
      "DEPARTAMENTO_7         -0.0190      0.051     -0.371      0.710      -0.119       0.081\n",
      "DEPARTAMENTO_8         -0.0315      0.045     -0.704      0.481      -0.119       0.056\n",
      "DEPARTAMENTO_9         -0.0218      0.042     -0.512      0.608      -0.105       0.061\n",
      "DEPARTAMENTO_10         0.0155      0.037      0.415      0.678      -0.058       0.089\n",
      "DEPARTAMENTO_11         0.1612      0.043      3.761      0.000       0.077       0.245\n",
      "DEPARTAMENTO_12         0.0598      0.039      1.534      0.125      -0.017       0.136\n",
      "DEPARTAMENTO_13         0.0714      0.040      1.770      0.077      -0.008       0.151\n",
      "DEPARTAMENTO_14         0.0129      0.042      0.305      0.761      -0.070       0.096\n",
      "DEPARTAMENTO_15         0.0176      0.044      0.400      0.689      -0.069       0.104\n",
      "DEPARTAMENTO_16        -0.1185      0.037     -3.167      0.002      -0.192      -0.045\n",
      "DEPARTAMENTO_17         0.1478      0.045      3.316      0.001       0.060       0.235\n",
      "DEPARTAMENTO_18         0.1017      0.046      2.223      0.026       0.012       0.191\n",
      "DEPARTAMENTO_19         0.0257      0.039      0.658      0.510      -0.051       0.102\n",
      "DEPARTAMENTO_20        -0.0729      0.040     -1.811      0.070      -0.152       0.006\n",
      "DEPARTAMENTO_21        -0.0693      0.041     -1.695      0.090      -0.149       0.011\n",
      "DEPARTAMENTO_22         0.1119      0.036      3.144      0.002       0.042       0.182\n",
      "DEPARTAMENTO_23         0.1497      0.045      3.335      0.001       0.062       0.238\n",
      "DEPARTAMENTO_24        -0.0297      0.044     -0.676      0.499      -0.116       0.057\n",
      "DEPARTAMENTO_25         0.0180      0.036      0.494      0.621      -0.053       0.089\n",
      "==============================================================================\n",
      "Omnibus:                      581.669   Durbin-Watson:                   1.538\n",
      "Prob(Omnibus):                  0.000   Jarque-Bera (JB):              755.173\n",
      "Skew:                           0.815   Prob(JB):                    1.04e-164\n",
      "Kurtosis:                       3.493   Cond. No.                         668.\n",
      "==============================================================================\n",
      "\n",
      "Notes:\n",
      "[1] Standard Errors assume that the covariance matrix of the errors is correctly specified.\n"
     ]
    }
   ],
   "source": [
    "model = sm.OLS(y, X).fit()\n",
    "print(model.summary())"
   ]
  },
  {
   "cell_type": "markdown",
   "id": "a11ead89-11f5-4e73-9c9c-6cb97be07610",
   "metadata": {},
   "source": [
    "## Modelo Logit"
   ]
  },
  {
   "cell_type": "raw",
   "id": "db304826-b720-4ec3-bb60-ebcbf425eb9a",
   "metadata": {},
   "source": [
    "# Realizar la regresión probit ponderada\n",
    "model = sm.GLM(y, X, family=sm.families.Binomial(), weights=weights)\n",
    "results = model.fit()\n",
    "\n",
    "# Imprimir los resultados de la regresión probit\n",
    "print(results.summary())\n",
    "\n",
    "# Calcula los efectos marginales\n",
    "#efectos_marginales = results.get_margeff()\n",
    "#print(efectos_marginales.summary())"
   ]
  },
  {
   "cell_type": "raw",
   "id": "167041cd-ae1a-4c02-bf0e-ef90ca8de609",
   "metadata": {},
   "source": [
    "# Agregar una constante al conjunto de datos (intercepto)\n",
    "X = sm.add_constant(X)\n",
    "\n",
    "# Ajustar el modelo Logit ponderado\n",
    "model_logit = sm.WLS(y, X, weights=weights)\n",
    "results_logit = model_logit.fit()\n",
    "\n",
    "# Imprimir los resultados del modelo Logit\n",
    "print(results_logit.summary())"
   ]
  },
  {
   "cell_type": "markdown",
   "id": "74c72ff0-5291-4683-b588-c7647db4e2d2",
   "metadata": {},
   "source": [
    "## Modelo Probit"
   ]
  },
  {
   "cell_type": "code",
   "execution_count": 94,
   "id": "7f4770d9",
   "metadata": {},
   "outputs": [
    {
     "name": "stderr",
     "output_type": "stream",
     "text": [
      "C:\\ProgramData\\Anaconda3\\lib\\site-packages\\statsmodels\\base\\model.py:127: ValueWarning: unknown kwargs ['weights']\n",
      "  warnings.warn(msg, ValueWarning)\n"
     ]
    },
    {
     "name": "stdout",
     "output_type": "stream",
     "text": [
      "Warning: Maximum number of iterations has been exceeded.\n",
      "         Current function value: 0.380601\n",
      "         Iterations: 35\n",
      "                          Probit Regression Results                           \n",
      "==============================================================================\n",
      "Dep. Variable:              i_uso_hog   No. Observations:                 6252\n",
      "Model:                         Probit   Df Residuals:                     6214\n",
      "Method:                           MLE   Df Model:                           37\n",
      "Date:                Sat, 30 Sep 2023   Pseudo R-squ.:                  0.2958\n",
      "Time:                        09:24:11   Log-Likelihood:                -2379.5\n",
      "converged:                      False   LL-Null:                       -3378.8\n",
      "Covariance Type:            nonrobust   LLR p-value:                     0.000\n",
      "=======================================================================================\n",
      "                          coef    std err          z      P>|z|      [0.025      0.975]\n",
      "---------------------------------------------------------------------------------------\n",
      "const                  -5.5519        nan        nan        nan         nan         nan\n",
      "mieperho               -0.0045      0.013     -0.358      0.720      -0.029       0.020\n",
      "Nivel_educativo        -0.7704        nan        nan        nan         nan         nan\n",
      "Centro_estudios         0.9382      0.049     19.074      0.000       0.842       1.035\n",
      "Idioma                  0.4349      0.166      2.627      0.009       0.110       0.759\n",
      "Sexo                    0.0879      0.041      2.118      0.034       0.007       0.169\n",
      "AREA                    0.3268      0.084      3.881      0.000       0.162       0.492\n",
      "estrsocial             -0.3468      0.022    -15.862      0.000      -0.390      -0.304\n",
      "Edad                   -0.0005      0.013     -0.037      0.970      -0.025       0.024\n",
      "Electricidad            4.7244     67.936      0.070      0.945    -128.427     137.876\n",
      "Nivel_educativo_2.0     0.9472        nan        nan        nan         nan         nan\n",
      "Nivel_educativo_3.0     1.9171        nan        nan        nan         nan         nan\n",
      "ZONA_2                  0.0546      0.110      0.498      0.618      -0.160       0.269\n",
      "ZONA_3                 -0.1981      0.175     -1.132      0.258      -0.541       0.145\n",
      "ZONA_4                  0.1343      0.123      1.091      0.275      -0.107       0.376\n",
      "DEPARTAMENTO_2         -0.0963      0.228     -0.423      0.673      -0.543       0.350\n",
      "DEPARTAMENTO_3          0.3268      0.250      1.309      0.190      -0.162       0.816\n",
      "DEPARTAMENTO_4          0.4183      0.208      2.007      0.045       0.010       0.827\n",
      "DEPARTAMENTO_5          0.3468      0.230      1.509      0.131      -0.104       0.797\n",
      "DEPARTAMENTO_6          0.2028      0.225      0.901      0.368      -0.239       0.644\n",
      "DEPARTAMENTO_7          0.0571      0.261      0.219      0.827      -0.454       0.568\n",
      "DEPARTAMENTO_8         -0.1357      0.270     -0.502      0.615      -0.665       0.394\n",
      "DEPARTAMENTO_9         -0.2231      0.318     -0.702      0.482      -0.846       0.400\n",
      "DEPARTAMENTO_10         0.1843      0.226      0.816      0.415      -0.259       0.627\n",
      "DEPARTAMENTO_11         0.6544      0.230      2.842      0.004       0.203       1.106\n",
      "DEPARTAMENTO_12         0.3871      0.216      1.793      0.073      -0.036       0.810\n",
      "DEPARTAMENTO_13         0.3735      0.223      1.672      0.094      -0.064       0.811\n",
      "DEPARTAMENTO_14         0.1159      0.234      0.496      0.620      -0.342       0.574\n",
      "DEPARTAMENTO_15         0.1737      0.239      0.725      0.468      -0.296       0.643\n",
      "DEPARTAMENTO_16        -0.4994      0.234     -2.131      0.033      -0.959      -0.040\n",
      "DEPARTAMENTO_17         0.7900      0.236      3.348      0.001       0.328       1.252\n",
      "DEPARTAMENTO_18         0.4631      0.242      1.915      0.055      -0.011       0.937\n",
      "DEPARTAMENTO_19         0.1963      0.223      0.882      0.378      -0.240       0.633\n",
      "DEPARTAMENTO_20        -0.3781      0.232     -1.628      0.103      -0.833       0.077\n",
      "DEPARTAMENTO_21        -0.5345      0.273     -1.960      0.050      -1.069   -1.94e-05\n",
      "DEPARTAMENTO_22         0.6789      0.210      3.233      0.001       0.267       1.090\n",
      "DEPARTAMENTO_23         0.5931      0.235      2.519      0.012       0.132       1.055\n",
      "DEPARTAMENTO_24        -0.0852      0.242     -0.352      0.725      -0.560       0.389\n",
      "DEPARTAMENTO_25         0.1969      0.219      0.898      0.369      -0.233       0.627\n",
      "=======================================================================================\n"
     ]
    },
    {
     "name": "stderr",
     "output_type": "stream",
     "text": [
      "C:\\ProgramData\\Anaconda3\\lib\\site-packages\\statsmodels\\base\\model.py:604: ConvergenceWarning: Maximum Likelihood optimization failed to converge. Check mle_retvals\n",
      "  warnings.warn(\"Maximum Likelihood optimization failed to \"\n",
      "C:\\ProgramData\\Anaconda3\\lib\\site-packages\\statsmodels\\base\\model.py:127: ValueWarning: unknown kwargs ['weights']\n",
      "  warnings.warn(msg, ValueWarning)\n"
     ]
    },
    {
     "name": "stdout",
     "output_type": "stream",
     "text": [
      "       Probit Marginal Effects       \n",
      "=====================================\n",
      "Dep. Variable:              i_uso_hog\n",
      "Method:                          dydx\n",
      "At:                           overall\n",
      "=======================================================================================\n",
      "                         dy/dx    std err          z      P>|z|      [0.025      0.975]\n",
      "---------------------------------------------------------------------------------------\n",
      "mieperho               -0.0010      0.003     -0.358      0.720      -0.006       0.004\n",
      "Nivel_educativo        -0.1630        nan        nan        nan         nan         nan\n",
      "Centro_estudios         0.1986      0.009     21.408      0.000       0.180       0.217\n",
      "Idioma                  0.0920      0.035      2.629      0.009       0.023       0.161\n",
      "Sexo                    0.0186      0.009      2.120      0.034       0.001       0.036\n",
      "AREA                    0.0692      0.018      3.877      0.000       0.034       0.104\n",
      "estrsocial             -0.0734      0.004    -16.878      0.000      -0.082      -0.065\n",
      "Edad                 -9.91e-05      0.003     -0.037      0.970      -0.005       0.005\n",
      "Electricidad            0.9998     14.310      0.070      0.944     -27.047      29.047\n",
      "Nivel_educativo_2.0     0.2005        nan        nan        nan         nan         nan\n",
      "Nivel_educativo_3.0     0.4057        nan        nan        nan         nan         nan\n",
      "ZONA_2                  0.0116      0.023      0.498      0.618      -0.034       0.057\n",
      "ZONA_3                 -0.0419      0.037     -1.132      0.258      -0.115       0.031\n",
      "ZONA_4                  0.0284      0.026      1.091      0.275      -0.023       0.079\n",
      "DEPARTAMENTO_2         -0.0204      0.048     -0.423      0.673      -0.115       0.074\n",
      "DEPARTAMENTO_3          0.0692      0.053      1.309      0.190      -0.034       0.173\n",
      "DEPARTAMENTO_4          0.0885      0.044      2.009      0.045       0.002       0.175\n",
      "DEPARTAMENTO_5          0.0734      0.049      1.509      0.131      -0.022       0.169\n",
      "DEPARTAMENTO_6          0.0429      0.048      0.901      0.368      -0.050       0.136\n",
      "DEPARTAMENTO_7          0.0121      0.055      0.219      0.827      -0.096       0.120\n",
      "DEPARTAMENTO_8         -0.0287      0.057     -0.502      0.615      -0.141       0.083\n",
      "DEPARTAMENTO_9         -0.0472      0.067     -0.702      0.482      -0.179       0.085\n",
      "DEPARTAMENTO_10         0.0390      0.048      0.816      0.415      -0.055       0.133\n",
      "DEPARTAMENTO_11         0.1385      0.049      2.847      0.004       0.043       0.234\n",
      "DEPARTAMENTO_12         0.0819      0.046      1.794      0.073      -0.008       0.171\n",
      "DEPARTAMENTO_13         0.0791      0.047      1.673      0.094      -0.014       0.172\n",
      "DEPARTAMENTO_14         0.0245      0.049      0.496      0.620      -0.072       0.121\n",
      "DEPARTAMENTO_15         0.0368      0.051      0.725      0.468      -0.063       0.136\n",
      "DEPARTAMENTO_16        -0.1057      0.050     -2.133      0.033      -0.203      -0.009\n",
      "DEPARTAMENTO_17         0.1672      0.050      3.355      0.001       0.070       0.265\n",
      "DEPARTAMENTO_18         0.0980      0.051      1.917      0.055      -0.002       0.198\n",
      "DEPARTAMENTO_19         0.0415      0.047      0.882      0.378      -0.051       0.134\n",
      "DEPARTAMENTO_20        -0.0800      0.049     -1.629      0.103      -0.176       0.016\n",
      "DEPARTAMENTO_21        -0.1131      0.058     -1.961      0.050      -0.226   -7.93e-05\n",
      "DEPARTAMENTO_22         0.1437      0.044      3.238      0.001       0.057       0.231\n",
      "DEPARTAMENTO_23         0.1255      0.050      2.522      0.012       0.028       0.223\n",
      "DEPARTAMENTO_24        -0.0180      0.051     -0.352      0.725      -0.118       0.082\n",
      "DEPARTAMENTO_25         0.0417      0.046      0.898      0.369      -0.049       0.133\n",
      "=======================================================================================\n"
     ]
    },
    {
     "name": "stderr",
     "output_type": "stream",
     "text": [
      "C:\\ProgramData\\Anaconda3\\lib\\site-packages\\statsmodels\\discrete\\discrete_margins.py:343: RuntimeWarning: invalid value encountered in sqrt\n",
      "  return cov_me, np.sqrt(np.diag(cov_me))\n"
     ]
    }
   ],
   "source": [
    "# Agregar una constante al conjunto de datos (intercepto)\n",
    "X = sm.add_constant(X)\n",
    "\n",
    "# Ajustar el modelo Probit ponderado\n",
    "model_probit = sm.Probit(y, X, weights=weights)\n",
    "results_probit = model_probit.fit()\n",
    "\n",
    "# Imprimir los resultados del modelo Probit\n",
    "print(results_probit.summary())\n",
    "\n",
    "# Calcula los efectos marginales\n",
    "efectos_marginales = results_probit.get_margeff()\n",
    "print(efectos_marginales.summary())"
   ]
  },
  {
   "cell_type": "raw",
   "id": "b846990d-e260-4f99-94f8-2affaf83630e",
   "metadata": {},
   "source": [
    "formula = 'i_uso_hog ~ mieperho + Nivel_educativo + Centro_estudios + Idioma + Sexo + AREA + estrsocial + Edad + Electricidad'\n",
    "\n",
    "# Definir los pesos de la encuesta (pweight)\n",
    "weights = base_filtrada['factor07']\n",
    "\n",
    "# Ajustar el modelo Probit ponderado\n",
    "model = smf.wls(formula=formula, data=base_filtrada, weights=weights, family=sm.families.Binomial())\n",
    "results = model.fit()\n",
    "\n",
    "# Imprimir los resultados de la regresión Probit ponderada\n",
    "print(results.summary())"
   ]
  },
  {
   "cell_type": "code",
   "execution_count": null,
   "id": "73f8be9d-1158-40c9-a707-9c5fe46a2535",
   "metadata": {},
   "outputs": [],
   "source": []
  },
  {
   "cell_type": "code",
   "execution_count": 95,
   "id": "dc5e0104",
   "metadata": {},
   "outputs": [],
   "source": [
    "#."
   ]
  }
 ],
 "metadata": {
  "kernelspec": {
   "display_name": "Python 3 (ipykernel)",
   "language": "python",
   "name": "python3"
  },
  "language_info": {
   "codemirror_mode": {
    "name": "ipython",
    "version": 3
   },
   "file_extension": ".py",
   "mimetype": "text/x-python",
   "name": "python",
   "nbconvert_exporter": "python",
   "pygments_lexer": "ipython3",
   "version": "3.9.13"
  },
  "toc-autonumbering": true,
  "toc-showcode": false,
  "toc-showmarkdowntxt": false
 },
 "nbformat": 4,
 "nbformat_minor": 5
}
