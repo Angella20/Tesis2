{
 "cells": [
  {
   "cell_type": "markdown",
   "id": "85b16d18-7f03-4f1f-ac05-007b2244a654",
   "metadata": {
    "tags": []
   },
   "source": [
    "# Librerias"
   ]
  },
  {
   "cell_type": "code",
   "execution_count": 1,
   "id": "7244ff7e",
   "metadata": {},
   "outputs": [
    {
     "name": "stderr",
     "output_type": "stream",
     "text": [
      "C:\\ProgramData\\Anaconda3\\lib\\site-packages\\scipy\\__init__.py:155: UserWarning: A NumPy version >=1.18.5 and <1.25.0 is required for this version of SciPy (detected version 1.26.0\n",
      "  warnings.warn(f\"A NumPy version >={np_minversion} and <{np_maxversion}\"\n"
     ]
    }
   ],
   "source": [
    "import os\n",
    "import seaborn as sns\n",
    "import pandas as pd\n",
    "import warnings\n",
    "import statsmodels.api as sm\n",
    "from tabulate import tabulate\n",
    "import matplotlib.pyplot as plt\n",
    "import seaborn as sns\n",
    "import matplotlib.pyplot as plt\n",
    "import pandas as pd\n",
    "import matplotlib.patches as patches\n",
    "\n",
    "import statsmodels.formula.api as smf\n",
    "\n",
    "warnings.filterwarnings(\"ignore\", category=FutureWarning)"
   ]
  },
  {
   "cell_type": "markdown",
   "id": "e06259cd-5d23-4779-bb59-769d91dac83e",
   "metadata": {
    "tags": []
   },
   "source": [
    "# Modulos"
   ]
  },
  {
   "cell_type": "code",
   "execution_count": 2,
   "id": "e7b700d1",
   "metadata": {},
   "outputs": [],
   "source": [
    "modulo_hogar = pd.read_stata(\"../input/enaho01-2020-100.dta\", convert_categoricals=False)\n",
    "columnas_interes = ['conglome','vivienda','hogar','ubigeo','p1121','p1123','p1124','p1125','p1126','p1127',\n",
    "                    'p1142','p1144']\n",
    "modulo_hogar = modulo_hogar[columnas_interes]\n",
    "\n",
    "# Variables de interés: Parentesco Sexo y Edad\n",
    "modulo_miembros = pd.read_stata(\"../input/enaho01-2020-200.dta\", convert_categoricals=False)\n",
    "columnas_interes_miembros = ['conglome','vivienda','hogar','ubigeo','codperso',\"p203b\",\"p207\",'p208a']\n",
    "modulo_miembros = modulo_miembros[columnas_interes_miembros]\n",
    "\n",
    "# Variables de interés\n",
    "modulo_educa = pd.read_stata(\"../input/enaho01a-2020-300.dta\", convert_categoricals=False)\n",
    "columnas_interes_educa = ['conglome','vivienda','hogar','codperso','ubigeo','dominio','estrato',\"p301c\",\"p300a\",\"p304b\",\"p304a\",\n",
    "                          \"p308c\",\"p308b\", \"p315a\",\"p315b\",\n",
    "    \"p307a1\",\"p307a2\",\"p307a3\",\"p307a4\",\"p307a4_5\",\"p307a4_6\",\"p307a4_7\",\"p307b1\",\"p307b2\",\"p307b3\",\"p307b4\",\"p307b4_5\",\"p307b4_6\",\"p307b4_7\",\n",
    "    \"p308a\",\"p308d\",\"p314a\",\"p314b_1\",\"p314b_2\",\"p314b_3\",\"p314b_4\",\"p314b_5\",\"p314b_6\",\"p314b_7\",\n",
    "    \"p314b1_1\",\"p314b1_2\",\"p314b1_8\",\"p314b1_9\",\"p314b1_6\",\"p314b1_7\",\"p314d\",\n",
    "                          \"p316_1\",\"p316_2\", \"p316_3\",\"p316_4\",\"p316_5\",\n",
    "    \"p316_6\",\"p316_7\",\"p316_8\",\"p316_9\",\"p316_10\",\"p316_11\",\"p316_12\",\"p316a1\",\"p316b\",\"p316c1\",\"p316c2\",\"p316c3\",\"p316c4\",\n",
    "    \"p316c5\",\"p316c6\",\"p316c7\",\"p316c8\",\"p316c9\",\"p316c10\",\"t313a\", \"factor07\"]\n",
    "modulo_educa = modulo_educa[columnas_interes_educa]\n",
    "\n",
    "sumaria = pd.read_stata(\"../input/sumaria-2020.dta\", convert_categoricals=False)\n",
    "columnas_interes_sumaria = ['conglome', 'vivienda', 'hogar','ubigeo','estrsocial','mieperho','totmieho']\n",
    "sumaria = sumaria[columnas_interes_sumaria]"
   ]
  },
  {
   "cell_type": "markdown",
   "id": "b0f9992e-02eb-4530-b2a4-ffe92becbb10",
   "metadata": {},
   "source": [
    "## Merge"
   ]
  },
  {
   "cell_type": "code",
   "execution_count": 3,
   "id": "d33b6f8f",
   "metadata": {},
   "outputs": [],
   "source": [
    "# Realizar el merge version final 2\n",
    "# Primero, unir modulo_hogar y modulo_miembros usando las columnas comunes\n",
    "merged_data1 = pd.merge(modulo_educa, modulo_miembros, on=['conglome', 'vivienda', 'hogar', 'ubigeo','codperso'], how='inner')\n",
    "\n",
    "# Luego, unir el resultado anterior con modulo_educa\n",
    "merged_data2 = pd.merge(sumaria, modulo_hogar, on=['conglome', 'vivienda', 'hogar', 'ubigeo'], how='inner')\n",
    "\n",
    "# Finalmente, unir el resultado anterior con sumaria\n",
    "merged_data = pd.merge(merged_data1, merged_data2, on=['conglome', 'vivienda', 'hogar', 'ubigeo'], how='left')"
   ]
  },
  {
   "cell_type": "code",
   "execution_count": 4,
   "id": "76985643-38ee-438b-8888-125904e21ae7",
   "metadata": {},
   "outputs": [
    {
     "data": {
      "text/plain": [
       "(34490, 15)"
      ]
     },
     "execution_count": 4,
     "metadata": {},
     "output_type": "execute_result"
    }
   ],
   "source": [
    "merged_data2.shape"
   ]
  },
  {
   "cell_type": "code",
   "execution_count": 5,
   "id": "f33b3596-a4ff-445a-91f2-7ec48eca8c73",
   "metadata": {},
   "outputs": [
    {
     "data": {
      "text/plain": [
       "(115777, 75)"
      ]
     },
     "execution_count": 5,
     "metadata": {},
     "output_type": "execute_result"
    }
   ],
   "source": [
    "merged_data1.shape"
   ]
  },
  {
   "cell_type": "code",
   "execution_count": 6,
   "id": "f77110ef",
   "metadata": {},
   "outputs": [
    {
     "name": "stdout",
     "output_type": "stream",
     "text": [
      "(115777, 86)\n"
     ]
    }
   ],
   "source": [
    "print(merged_data.shape)"
   ]
  },
  {
   "cell_type": "code",
   "execution_count": 7,
   "id": "5d5d65ef",
   "metadata": {},
   "outputs": [
    {
     "name": "stdout",
     "output_type": "stream",
     "text": [
      "Index(['conglome', 'vivienda', 'hogar', 'codperso', 'ubigeo', 'dominio',\n",
      "       'estrato', 'p301c', 'p300a', 'p304b', 'p304a', 'p308c', 'p308b',\n",
      "       'p315a', 'p315b', 'p307a1', 'p307a2', 'p307a3', 'p307a4', 'p307a4_5',\n",
      "       'p307a4_6', 'p307a4_7', 'p307b1', 'p307b2', 'p307b3', 'p307b4',\n",
      "       'p307b4_5', 'p307b4_6', 'p307b4_7', 'p308a', 'p308d', 'p314a',\n",
      "       'p314b_1', 'p314b_2', 'p314b_3', 'p314b_4', 'p314b_5', 'p314b_6',\n",
      "       'p314b_7', 'p314b1_1', 'p314b1_2', 'p314b1_8', 'p314b1_9', 'p314b1_6',\n",
      "       'p314b1_7', 'p314d', 'p316_1', 'p316_2', 'p316_3', 'p316_4', 'p316_5',\n",
      "       'p316_6', 'p316_7', 'p316_8', 'p316_9', 'p316_10', 'p316_11', 'p316_12',\n",
      "       'p316a1', 'p316b', 'p316c1', 'p316c2', 'p316c3', 'p316c4', 'p316c5',\n",
      "       'p316c6', 'p316c7', 'p316c8', 'p316c9', 'p316c10', 't313a', 'factor07',\n",
      "       'p203b', 'p207', 'p208a', 'estrsocial', 'mieperho', 'totmieho', 'p1121',\n",
      "       'p1123', 'p1124', 'p1125', 'p1126', 'p1127', 'p1142', 'p1144'],\n",
      "      dtype='object')\n"
     ]
    }
   ],
   "source": [
    "print(merged_data.columns)"
   ]
  },
  {
   "cell_type": "code",
   "execution_count": null,
   "id": "f99d9dfd-bc62-474f-9fc3-b04f64bcfc83",
   "metadata": {},
   "outputs": [],
   "source": []
  },
  {
   "cell_type": "markdown",
   "id": "3f6f72ac-29c5-4dbc-b327-f196a8533f89",
   "metadata": {
    "tags": []
   },
   "source": [
    "# Variables"
   ]
  },
  {
   "cell_type": "markdown",
   "id": "bb143ee5-5baf-4e6d-ab83-5c4d595244b7",
   "metadata": {
    "tags": []
   },
   "source": [
    "### Departamento"
   ]
  },
  {
   "cell_type": "code",
   "execution_count": 8,
   "id": "b2007026-2c85-4b5f-868c-e3f9c45cc456",
   "metadata": {},
   "outputs": [],
   "source": [
    "# Crear una variable \"departamento\" extrayendo los primeros 2 dígitos de \"ubigeo\"\n",
    "merged_data[\"DEPARTAMENTO\"] = merged_data[\"ubigeo\"].astype(str).str[:2]\n",
    "merged_data[\"DEPARTAMENTO\"] = pd.to_numeric(merged_data[\"DEPARTAMENTO\"], errors=\"coerce\")\n",
    "\n",
    "#dict_departamento = {\n",
    "#    1: \"Amazonas\", 2: \"Ancash\", 3: \"Apurímac\", 4: \"Arequipa\", 5: \"Ayacucho\", 6: \"Cajamarca\", 7: \"Callao\", 8: \"Cusco\",\n",
    "#    9: \"Huancavelica\", 10: \"Huánuco\", 11: \"Ica\", 12: \"Junín\", 13: \"La Libertad\", 14: \"Lambayeque\", 15: \"Lima\",\n",
    "#    16: \"Loreto\", 17: \"Madre de Dios\", 18: \"Moquegua\", 19: \"Pasco\", 20: \"Piura\", 21: \"Puno\", 22: \"San Martín\", \n",
    "#    23: \"Tacna\", 24: \"Tumbes\", 25: \"Ucayali\"\n",
    "#}"
   ]
  },
  {
   "cell_type": "markdown",
   "id": "63bda6e5-6155-4931-b85d-49fc1f854c7d",
   "metadata": {},
   "source": [
    "### Area / Idioma / REGION"
   ]
  },
  {
   "cell_type": "code",
   "execution_count": 9,
   "id": "08ee393e",
   "metadata": {},
   "outputs": [],
   "source": [
    "# Recodificar la variable \"estrato\" para crear la variable \"area\"\n",
    "merged_data[\"AREA\"] = merged_data[\"estrato\"].apply(lambda x: 1 if 1 <= x <= 5 else 0) #{1: \"Urbano\", 0: \"Rural\"}\n",
    "\n",
    "# IDIOMA \n",
    "merged_data[\"Idioma\"] = merged_data[\"p300a\"].apply(lambda x: 1 if 4 == x  else 0)   # {1: \"Castellano\", 0: \"Otros\"}\n",
    "#1 Quechua 2 Aimara 3 Otra lengua nativa 4 Castellano 6 Portugués 7 Otra lengua extranjera \n",
    "# 8 No escucha/no habla9 Lengua de señas peruanas 10 Ashaninka 11 Awajun/Aguaruna 12 Shipibo-Konibo \n",
    "# 13 Shawi/Chayahuita 14 Matsigenka/Machiguenga 15 Achuar\n",
    "\n",
    "# Recodificar la variable \"dominio\" para crear la variable \"region\"\n",
    "#dict_region = { 1:\"Costa\", 2:\"Costa\", 3: \"Costa\", 4:\"Sierra\", 5:\"Sierra\", 6:\"Sierra\", 7:\"Selva\", 8: \"Lima Metropolitana\"}\n",
    "dict_region = { 1:1, 2:1, 3: 1, 4:2, 5:2, 6:2, 7:3, 8: 4}\n",
    "merged_data[\"Region\"] = merged_data[\"dominio\"].map(dict_region)"
   ]
  },
  {
   "cell_type": "code",
   "execution_count": 10,
   "id": "5213b011",
   "metadata": {},
   "outputs": [
    {
     "name": "stdout",
     "output_type": "stream",
     "text": [
      "1.0    25896\n",
      "2.0     6224\n",
      "Name: p308d, dtype: int64\n"
     ]
    }
   ],
   "source": [
    "print(merged_data.p308d.value_counts())"
   ]
  },
  {
   "cell_type": "code",
   "execution_count": 11,
   "id": "d975765c",
   "metadata": {},
   "outputs": [
    {
     "name": "stdout",
     "output_type": "stream",
     "text": [
      "Index(['conglome', 'vivienda', 'hogar', 'codperso', 'ubigeo', 'dominio',\n",
      "       'estrato', 'p301c', 'p300a', 'p304b', 'p304a', 'p308c', 'p308b',\n",
      "       'p315a', 'p315b', 'p307a1', 'p307a2', 'p307a3', 'p307a4', 'p307a4_5',\n",
      "       'p307a4_6', 'p307a4_7', 'p307b1', 'p307b2', 'p307b3', 'p307b4',\n",
      "       'p307b4_5', 'p307b4_6', 'p307b4_7', 'p308a', 'p308d', 'p314a',\n",
      "       'p314b_1', 'p314b_2', 'p314b_3', 'p314b_4', 'p314b_5', 'p314b_6',\n",
      "       'p314b_7', 'p314b1_1', 'p314b1_2', 'p314b1_8', 'p314b1_9', 'p314b1_6',\n",
      "       'p314b1_7', 'p314d', 'p316_1', 'p316_2', 'p316_3', 'p316_4', 'p316_5',\n",
      "       'p316_6', 'p316_7', 'p316_8', 'p316_9', 'p316_10', 'p316_11', 'p316_12',\n",
      "       'p316a1', 'p316b', 'p316c1', 'p316c2', 'p316c3', 'p316c4', 'p316c5',\n",
      "       'p316c6', 'p316c7', 'p316c8', 'p316c9', 'p316c10', 't313a', 'factor07',\n",
      "       'p203b', 'p207', 'p208a', 'estrsocial', 'mieperho', 'totmieho', 'p1121',\n",
      "       'p1123', 'p1124', 'p1125', 'p1126', 'p1127', 'p1142', 'p1144',\n",
      "       'DEPARTAMENTO', 'AREA', 'Idioma', 'Region'],\n",
      "      dtype='object')\n"
     ]
    }
   ],
   "source": [
    "print(merged_data.columns)"
   ]
  },
  {
   "cell_type": "markdown",
   "id": "52581bb3-b8dd-4d60-9fe4-c0da3aeb73ab",
   "metadata": {},
   "source": [
    "## Renombrar variables"
   ]
  },
  {
   "cell_type": "code",
   "execution_count": 12,
   "id": "7ffb76b5",
   "metadata": {},
   "outputs": [
    {
     "name": "stdout",
     "output_type": "stream",
     "text": [
      "Index(['conglome', 'vivienda', 'hogar', 'codperso', 'ubigeo', 'dominio',\n",
      "       'estrato', 'p301c', 'p300a', 'p304b', 'p304a', 'p308c', 'p308b',\n",
      "       'p315a', 'p315b', 'clases_tv', 'clases_radio',\n",
      "       'clases_plataforma_virtual', 'clases_otro', 'clases_wsp',\n",
      "       'clases_correo', 'clases_llamadas', 'clases_interaccion_profesor',\n",
      "       'clases_videos', 'clases_documentos', 'clases_otros',\n",
      "       'clases_msm_audio', 'clases_msm_texto', 'clases_sin_acompañamiento',\n",
      "       'Nivel_educativo', 'Centro_estudios', 'i_uso', 'i_uso_hog',\n",
      "       'i_uso_trab', 'i_uso_cedu', 'i_uso_cab', 'i_uso_casotr', 'i_uso_otro',\n",
      "       'i_uso_movil', 'i_computadora', 'i_laptop', 'i_cel_sdatos',\n",
      "       'i_cel_cdatos', 'i_tablet', 'i_otro', 'p314d', 'i_obtener_info',\n",
      "       'i_comunicarse', 'i_comprar_pdts_ss', 'i_operaciones_bancarias',\n",
      "       'i_edu_formal', 'i_transacciones', 'i_act_entretenimiento',\n",
      "       'i_vender_pdts', 'p316_9', 'p316_10', 'p316_11', 'i_descarga_antivirus',\n",
      "       'p316a1', 'p316b', 'p316c1', 'p316c2', 'p316c3', 'p316c4', 'p316c5',\n",
      "       'p316c6', 'p316c7', 'p316c8', 'p316c9', 'p316c10', 't313a', 'factor07',\n",
      "       'p203b', 'Sexo', 'Edad', 'estrsocial', 'mieperho', 'totmieho',\n",
      "       'Electricidad', 'p1123', 'p1124', 'p1125', 'p1126', 'p1127', 'p1142',\n",
      "       'p1144', 'DEPARTAMENTO', 'AREA', 'Idioma', 'Region'],\n",
      "      dtype='object')\n"
     ]
    }
   ],
   "source": [
    "# Rename columns\n",
    "new_column_names = {'p308a': 'Nivel_educativo', 'p308d': 'Centro_estudios','p207': 'Sexo', 'p208a':\"Edad\",'p1121':'Electricidad',\n",
    "                    'P1144':'conexion_internet',\n",
    "'p314a': 'i_uso','p314b_1':'i_uso_hog', 'p314b_2':'i_uso_trab', 'p314b_3':'i_uso_cedu','p314b_4':'i_uso_cab',\n",
    "                    'p314b_5':'i_uso_casotr','p314b_6':'i_uso_otro','p314b_7':'i_uso_movil',\n",
    "'p314b1_1':'i_computadora','p314b1_2':'i_laptop','p314b1_5':'i_cel_trab','p314b1_6':'i_tablet','p314b1_7':'i_otro',\n",
    "                    'p314b1_8': 'i_cel_sdatos', 'p314b1_9': 'i_cel_cdatos',\n",
    "\"p307a1\":\"clases_tv\",\"p307a2\":\"clases_radio\", \"p307a3\":\"clases_plataforma_virtual\",\"p307a4\":\"clases_otro\",\"p307a4_5\":\"clases_wsp\", \n",
    "                    \"p307a4_6\":\"clases_correo\",\"p307a4_7\":\"clases_llamadas\",\"p307b1\":\"clases_interaccion_profesor\",\n",
    "                    \"p307b2\":\"clases_videos\",\"p307b3\":\"clases_documentos\", \"p307b4\":\"clases_otros\",\"p307b4_5\":\"clases_msm_audio\",\n",
    "                    \"p307b4_6\": \"clases_msm_texto\", \"p307b4_7\":\"clases_sin_acompañamiento\",\n",
    "'p316_1':'i_obtener_info', 'p316_2':'i_comunicarse', 'p316_3':'i_comprar_pdts_ss', 'p316_4':'i_operaciones_bancarias', 'p316_5':'i_edu_formal',\n",
    "       'p316_6':'i_transacciones', 'p316_7':'i_act_entretenimiento', 'p316_8':'i_vender_pdts', 'p316_12':'i_descarga_antivirus'}\n",
    "merged_data.rename(columns=new_column_names, inplace=True)\n",
    "print(merged_data.columns)"
   ]
  },
  {
   "cell_type": "code",
   "execution_count": 13,
   "id": "d5901f33",
   "metadata": {},
   "outputs": [],
   "source": [
    "# Uso de Internet en el hogar\n",
    "merged_data[\"i_uso_hog\"] = pd.to_numeric(merged_data[\"i_uso_hog\"], errors=\"coerce\")\n",
    "# Uso de Internet \n",
    "merged_data[\"i_uso\"] = pd.to_numeric(merged_data[\"i_uso\"], errors=\"coerce\")"
   ]
  },
  {
   "cell_type": "code",
   "execution_count": 14,
   "id": "71e0fd6c-c9a1-4d29-a55e-6259095759b5",
   "metadata": {},
   "outputs": [
    {
     "name": "stdout",
     "output_type": "stream",
     "text": [
      "Sexo  i_uso\n",
      "0.0   1.0      0.582831\n",
      "      2.0      0.417169\n",
      "1.0   1.0      0.537892\n",
      "      2.0      0.462108\n",
      "Name: i_uso, dtype: float64\n"
     ]
    }
   ],
   "source": [
    "result = merged_data.groupby([\"Sexo\"])[\"i_uso\"].value_counts(normalize=True)\n",
    "\n",
    "print(result)"
   ]
  },
  {
   "cell_type": "code",
   "execution_count": 15,
   "id": "7c787768-c160-4c6b-b697-fc70f3b48354",
   "metadata": {},
   "outputs": [
    {
     "name": "stdout",
     "output_type": "stream",
     "text": [
      "Nivel_educativo  Sexo  i_uso\n",
      "1.0              0.0   2.0      0.516556\n",
      "                       1.0      0.483444\n",
      "                 1.0   2.0      0.589831\n",
      "                       1.0      0.410169\n",
      "2.0              0.0   1.0      0.547550\n",
      "                       2.0      0.452450\n",
      "                 1.0   1.0      0.563708\n",
      "                       2.0      0.436292\n",
      "3.0              0.0   1.0      0.793974\n",
      "                       2.0      0.206026\n",
      "                 1.0   1.0      0.799514\n",
      "                       2.0      0.200486\n",
      "4.0              0.0   1.0      0.938375\n",
      "                       2.0      0.061625\n",
      "                 1.0   1.0      0.964567\n",
      "                       2.0      0.035433\n",
      "5.0              0.0   1.0      0.978287\n",
      "                       2.0      0.021713\n",
      "                 1.0   1.0      0.988731\n",
      "                       2.0      0.011269\n",
      "6.0              0.0   1.0      1.000000\n",
      "                 1.0   1.0      1.000000\n",
      "7.0              0.0   2.0      0.700000\n",
      "                       1.0      0.300000\n",
      "                 1.0   1.0      0.500000\n",
      "                       2.0      0.500000\n",
      "Name: i_uso, dtype: float64\n"
     ]
    }
   ],
   "source": [
    "#result = merged_data.groupby([\"Nivel_educativo\", \"Sexo\"])[\"i_uso\"].value_counts(normalize=True).unstack(fill_value=0)\n",
    "result = merged_data.groupby([\"Nivel_educativo\", \"Sexo\"])[\"i_uso\"].value_counts(normalize=True)\n",
    "# Esto creará un DataFrame donde las filas son los valores únicos de \"sexo\" y las columnas son los valores únicos de \"i_uso\"\n",
    "# con los porcentajes de ocurrencia para cada combinación.\n",
    "\n",
    "# Puedes imprimir el resultado para verlo\n",
    "print(result)\n"
   ]
  },
  {
   "cell_type": "code",
   "execution_count": null,
   "id": "c6adef2f-7519-4b36-b342-aec4bd6ad309",
   "metadata": {},
   "outputs": [],
   "source": []
  },
  {
   "cell_type": "code",
   "execution_count": null,
   "id": "c9c9d59b-2d17-4e2e-8b67-bc2d4044a63c",
   "metadata": {},
   "outputs": [],
   "source": []
  },
  {
   "cell_type": "code",
   "execution_count": null,
   "id": "3ffb5960-dc2b-495d-8e5d-4c2e31c74884",
   "metadata": {},
   "outputs": [],
   "source": []
  },
  {
   "cell_type": "markdown",
   "id": "91a3b1e6-989f-4e5c-af7c-394f08b30f2b",
   "metadata": {},
   "source": [
    "## Filtrar variables"
   ]
  },
  {
   "cell_type": "code",
   "execution_count": 16,
   "id": "94c03c14",
   "metadata": {},
   "outputs": [
    {
     "name": "stderr",
     "output_type": "stream",
     "text": [
      "C:\\Users\\SINERGY TECH\\AppData\\Local\\Temp\\ipykernel_20032\\2659785788.py:3: SettingWithCopyWarning: \n",
      "A value is trying to be set on a copy of a slice from a DataFrame.\n",
      "Try using .loc[row_indexer,col_indexer] = value instead\n",
      "\n",
      "See the caveats in the documentation: https://pandas.pydata.org/pandas-docs/stable/user_guide/indexing.html#returning-a-view-versus-a-copy\n",
      "  base_filtrada[\"Edad\"] = pd.to_numeric(base_filtrada[\"Edad\"], errors=\"coerce\")\n"
     ]
    }
   ],
   "source": [
    "# Filtrar el DataFrame para incluir solo las filas con valores 1, 2 o 3 en la columna \"P308A\"\n",
    "base_filtrada = merged_data[merged_data[\"Nivel_educativo\"].isin([1, 2, 3])]\n",
    "base_filtrada[\"Edad\"] = pd.to_numeric(base_filtrada[\"Edad\"], errors=\"coerce\")\n",
    "\n",
    "# Filtrar las filas donde \"P208A\" es menor que 18\n",
    "base_filtrada = base_filtrada[base_filtrada[\"Edad\"] <= 18]"
   ]
  },
  {
   "cell_type": "markdown",
   "id": "0f3b35c2-8468-4b06-bd98-3098d0b02ec7",
   "metadata": {
    "tags": []
   },
   "source": [
    "## Funciones"
   ]
  },
  {
   "cell_type": "raw",
   "id": "eadf1ed7-a489-4de5-8645-d52e89870e98",
   "metadata": {},
   "source": [
    "def generar_tabla_recuento(dataframe, variable, descripcion_valores, guardar_como_jpeg=False, guardar_como_txt=False):\n",
    "    # Agrupa los datos por la columna 'variable' y suma 'factor07'\n",
    "    freq_ = dataframe[['factor07', variable]].groupby(variable).sum().reset_index()\n",
    "    \n",
    "    # Calcular el porcentaje y redondearlo a dos decimales directamente en esta línea\n",
    "    total_recuento = freq_['factor07'].sum()\n",
    "    freq_['Porcentaje'] = (freq_['factor07'] / total_recuento * 100).round(2)\n",
    "    \n",
    "    freq_.rename(columns={'factor07': 'Recuento', variable: descripcion_valores}, inplace=True)\n",
    "    \n",
    "    # Calcular los totales\n",
    "    total_recuento = freq_['Recuento'].astype(float).sum()\n",
    "    total_porcentaje = freq_['Porcentaje'].astype(float).sum()\n",
    "    \n",
    "    # Crear una fila adicional para los totales\n",
    "    fila_total = pd.DataFrame({descripcion_valores: 'Total', 'Recuento': total_recuento, 'Porcentaje': total_porcentaje}, index=[0])\n",
    "\n",
    "        # Concatenar la fila total al DataFrame\n",
    "    freq_ = pd.concat([freq_, fila_total], ignore_index=True)\n",
    "    \n",
    "    # Formatear las columnas \"Recuento\" y \"Porcentaje\" como cadenas\n",
    "    freq_['Recuento'] = freq_['Recuento'].apply(lambda x: '{:,.0f}'.format(x))\n",
    "    freq_['Porcentaje'] = freq_['Porcentaje'].apply(lambda x: '{:.2f}'.format(x))\n",
    "    \n",
    "    if guardar_como_jpeg:\n",
    "        # Guardar la tabla formateada como una imagen JPEG en la ruta especificada\n",
    "        nombre_imagen = os.path.join(\"../output/images\", f\"{descripcion_valores}.jpeg\")\n",
    "        \n",
    "        # Configurar el tamaño y los márgenes de la figura\n",
    "        plt.figure(figsize=(6, 4))\n",
    "        plt.subplots_adjust(left=0.2, top=0.9, right=0.8, bottom=0.1)\n",
    "        \n",
    "        # Configurar el tamaño de la fuente para la tabla\n",
    "        plt.rc('font', size=9)\n",
    "        \n",
    "        # Crear una tabla en lugar de texto\n",
    "        tabla = plt.table(cellText=freq_.values, colLabels=freq_.columns, loc='center', cellLoc='center')\n",
    "        \n",
    "        # Establecer el formato de las celdas de la tabla\n",
    "        tabla.auto_set_font_size(False)\n",
    "        tabla.set_fontsize(10)\n",
    "        \n",
    "        # Ajustar el ancho de las columnas según el contenido\n",
    "        tabla.auto_set_column_width([0, 1, 2])\n",
    "        \n",
    "        # Ocultar los ejes\n",
    "        plt.axis('off')\n",
    "        \n",
    "        # Guardar la figura como imagen JPEG\n",
    "        plt.savefig(nombre_imagen, bbox_inches='tight', dpi=300)\n",
    "        plt.close()\n",
    "        #print(f\"La tabla se ha guardado como imagen en {nombre_imagen}\")\n",
    "    \n",
    "    if guardar_como_txt:\n",
    "        # Guardar la tabla formateada en un archivo de texto en la ruta especificada\n",
    "        nombre_archivo_txt = os.path.join(\"../output/tables\", f\"{descripcion_valores}.txt\")\n",
    "        with open(nombre_archivo_txt, 'w') as archivo:\n",
    "            # Encabezado de la tabla en formato LaTeX\n",
    "            #encabezado_latex = \"\\\\textbf{Descripción} & \\\\textbf{Recuento} & \\\\textbf{Porcentaje} \\\\\\\\\\n\"\n",
    "            encabezado_latex = f\"\\\\textbf{{{descripcion_valores}}} & \\\\textbf{{Recuento}} & \\\\textbf{{Porcentaje}} \\\\\\\\\\n\"\n",
    "            archivo.write(encabezado_latex)\n",
    "            \n",
    "            # Datos de la tabla en formato LaTeX\n",
    "            datos_latex = freq_.to_latex(index=False, header=False, escape=False)\n",
    "            archivo.write(\"\\\\midrule % Línea horizontal entre el encabezado y el contenido\\n\")\n",
    "            archivo.write(datos_latex)\n",
    "            archivo.write(\"\\\\\\\\\\n\")\n",
    "        \n",
    "        #print(f\"La tabla se ha guardado como archivo de texto en {nombre_archivo_txt}\")\n",
    "\n",
    "    return freq_"
   ]
  },
  {
   "cell_type": "raw",
   "id": "95d1c2cb-ca34-496d-ba3d-304711312d2b",
   "metadata": {},
   "source": [
    "def generar_tabla_recuento(dataframe, variable, descripcion_valores, guardar_como_jpeg=False, guardar_como_txt=False):\n",
    "    # Agrupa los datos por la columna 'variable' y suma 'factor07'\n",
    "    freq_ = dataframe[['factor07', variable]].groupby(variable).sum().reset_index()\n",
    "    \n",
    "    # Calcular el porcentaje y redondearlo a dos decimales directamente en esta línea\n",
    "    total_recuento = freq_['factor07'].sum()\n",
    "    freq_['Porcentaje'] = (freq_['factor07'] / total_recuento * 100).round(2)\n",
    "    \n",
    "    freq_.rename(columns={'factor07': 'Recuento', variable: descripcion_valores}, inplace=True)\n",
    "    \n",
    "    # Calcular los totales\n",
    "    total_recuento = freq_['Recuento'].astype(float).sum()\n",
    "    total_porcentaje = freq_['Porcentaje'].astype(float).sum()\n",
    "    \n",
    "    # Crear una fila adicional para los totales\n",
    "    fila_total = pd.DataFrame({descripcion_valores: 'Total', 'Recuento': total_recuento, 'Porcentaje': total_porcentaje}, index=[0])\n",
    "\n",
    "        # Concatenar la fila total al DataFrame\n",
    "    freq_ = pd.concat([freq_, fila_total], ignore_index=True)\n",
    "    \n",
    "    # Formatear las columnas \"Recuento\" y \"Porcentaje\" como cadenas\n",
    "    freq_['Recuento'] = freq_['Recuento'].apply(lambda x: '{:,.0f}'.format(x))\n",
    "    freq_['Porcentaje'] = freq_['Porcentaje'].apply(lambda x: '{:.2f}'.format(x))\n",
    "    \n",
    "    if guardar_como_jpeg:\n",
    "        # Guardar la tabla formateada como una imagen JPEG en la ruta especificada\n",
    "        nombre_imagen = os.path.join(\"../output/images\", f\"{descripcion_valores}.jpeg\")\n",
    "        \n",
    "        # Configurar el tamaño y los márgenes de la figura\n",
    "        plt.figure(figsize=(6, 4))\n",
    "        plt.subplots_adjust(left=0.2, top=0.9, right=0.8, bottom=0.1)\n",
    "        \n",
    "        # Configurar el tamaño de la fuente para la tabla\n",
    "        plt.rc('font', size=9)\n",
    "        \n",
    "        # Crear una tabla en lugar de texto\n",
    "        tabla = plt.table(cellText=freq_.values, colLabels=freq_.columns, loc='center', cellLoc='center')\n",
    "        \n",
    "        # Establecer el formato de las celdas de la tabla\n",
    "        tabla.auto_set_font_size(False)\n",
    "        tabla.set_fontsize(10)\n",
    "        \n",
    "        # Ajustar el ancho de las columnas según el contenido\n",
    "        tabla.auto_set_column_width([0, 1, 2])\n",
    "        \n",
    "        # Ocultar los ejes\n",
    "        plt.axis('off')\n",
    "        \n",
    "        # Guardar la figura como imagen JPEG\n",
    "        plt.savefig(nombre_imagen, bbox_inches='tight', dpi=300)\n",
    "        plt.close()\n",
    "        #print(f\"La tabla se ha guardado como imagen en {nombre_imagen}\")\n",
    "    \n",
    "    if guardar_como_txt:\n",
    "        # Guardar la tabla formateada en un archivo de texto en la ruta especificada\n",
    "        nombre_archivo_txt = os.path.join(\"../output/tables\", f\"{descripcion_valores}.txt\")\n",
    "        with open(nombre_archivo_txt, 'w') as archivo:\n",
    "            # Encabezado de la tabla en formato LaTeX\n",
    "            encabezado_latex = f\"\\\\begin{{table}}[H]\\n\\\\centering\\n\\\\caption{{{descripcion_valores}}}\\n\\\\label{{tab:{descripcion_valores}}}\\n\"\n",
    "            archivo.write(encabezado_latex)\n",
    "            \n",
    "            # Datos de la tabla en formato LaTeX\n",
    "            datos_latex = freq_.to_latex(index=False, header=True, escape=False)\n",
    "            archivo.write(\"\\\\\\\\\\n\")\n",
    "            archivo.write(\"\\\\scalebox{0.65}{\\n\")\n",
    "            archivo.write(datos_latex)\n",
    "            archivo.write(\"}\\n\")\n",
    "            archivo.write(\"\\\\end{table}\\n\")\n",
    "        \n",
    "        #print(f\"La tabla se ha guardado como archivo de texto en {nombre_archivo_txt}\")\n",
    "\n",
    "    return freq_"
   ]
  },
  {
   "cell_type": "raw",
   "id": "7170b286-3f44-4fd6-ae47-7bc3f0ab8af2",
   "metadata": {},
   "source": [
    "def generar_tabla_recuento(dataframe, variable, descripcion_valores, guardar_como_jpeg=False, guardar_como_txt=False):\n",
    "    # Agrupa los datos por la columna 'variable' y suma 'factor07'\n",
    "    freq_ = dataframe[['factor07', variable]].groupby(variable).sum().reset_index()\n",
    "    \n",
    "    # Calcular el porcentaje y redondearlo a dos decimales directamente en esta línea\n",
    "    total_recuento = freq_['factor07'].sum()\n",
    "    freq_['Porcentaje'] = (freq_['factor07'] / total_recuento * 100).round(2)\n",
    "    \n",
    "    freq_.rename(columns={'factor07': 'Recuento', variable: descripcion_valores}, inplace=True)\n",
    "    \n",
    "    # Calcular los totales\n",
    "    total_recuento = freq_['Recuento'].astype(float).sum()\n",
    "    total_porcentaje = freq_['Porcentaje'].astype(float).sum()\n",
    "    \n",
    "    # Crear una fila adicional para los totales\n",
    "    fila_total = pd.DataFrame({descripcion_valores: 'Total', 'Recuento': total_recuento, 'Porcentaje': total_porcentaje}, index=[0])\n",
    "\n",
    "    # Concatenar la fila total al DataFrame\n",
    "    freq_ = pd.concat([freq_, fila_total], ignore_index=True)\n",
    "    \n",
    "    # Formatear las columnas \"Recuento\" y \"Porcentaje\" como cadenas\n",
    "    freq_['Recuento'] = freq_['Recuento'].apply(lambda x: '{:,.0f}'.format(x))\n",
    "    freq_['Porcentaje'] = freq_['Porcentaje'].apply(lambda x: '{:.2f}'.format(x))\n",
    "    \n",
    "    if guardar_como_jpeg:\n",
    "        # Guardar la tabla formateada como una imagen JPEG en la ruta especificada\n",
    "        nombre_imagen = os.path.join(\"../output/images\", f\"{descripcion_valores}.jpeg\")\n",
    "        \n",
    "        # Configurar el tamaño y los márgenes de la figura\n",
    "        plt.figure(figsize=(6, 4))\n",
    "        plt.subplots_adjust(left=0.2, top=0.9, right=0.8, bottom=0.1)\n",
    "        \n",
    "        # Configurar el tamaño de la fuente para la tabla\n",
    "        plt.rc('font', size=9)\n",
    "        \n",
    "        # Crear una tabla en lugar de texto\n",
    "        tabla = plt.table(cellText=freq_.values, colLabels=freq_.columns, loc='center', cellLoc='center')\n",
    "        \n",
    "        # Establecer el formato de las celdas de la tabla\n",
    "        tabla.auto_set_font_size(False)\n",
    "        tabla.set_fontsize(10)\n",
    "        \n",
    "        # Ajustar el ancho de las columnas según el contenido\n",
    "        tabla.auto_set_column_width([0, 1, 2])\n",
    "        \n",
    "        # Ocultar los ejes\n",
    "        plt.axis('off')\n",
    "        \n",
    "        # Guardar la figura como imagen JPEG\n",
    "        plt.savefig(nombre_imagen, bbox_inches='tight', dpi=300)\n",
    "        plt.close()\n",
    "    \n",
    "    if guardar_como_txt:\n",
    "        # Guardar la tabla formateada en un archivo de texto en la ruta especificada\n",
    "        nombre_archivo_txt = os.path.join(\"../output/tables\", f\"{descripcion_valores}.txt\")\n",
    "        with open(nombre_archivo_txt, 'w') as archivo:\n",
    "            # Encabezado de la tabla en formato LaTeX\n",
    "            encabezado_latex = f\"\\\\begin{{table}}[H]\\n\\\\centering\\n\\\\caption{{{descripcion_valores}}}\\n\\\\label{{tab:{descripcion_valores}}}\\n\"\n",
    "            archivo.write(encabezado_latex)\n",
    "            \n",
    "            # Datos de la tabla en formato LaTeX\n",
    "            datos_latex = freq_.to_latex(index=False, header=True, escape=False)\n",
    "            archivo.write(\"\\\\\\\\\\n\")\n",
    "            archivo.write(\"\\\\scalebox{0.65}{\\n\")\n",
    "            archivo.write(datos_latex)\n",
    "            archivo.write(\"}\\n\")\n",
    "            archivo.write(\"\\\\end{table}\\n\")\n",
    "\n",
    "    return freq_\n"
   ]
  },
  {
   "cell_type": "code",
   "execution_count": 17,
   "id": "d4f7ac7d-16bb-41e8-98b5-b53c4b215271",
   "metadata": {},
   "outputs": [],
   "source": [
    "def generar_tabla_recuento(dataframe, variable, descripcion_valores, guardar_como_jpeg=False, guardar_como_txt=False):\n",
    "    # Agrupa los datos por la columna 'variable' y suma 'factor07'\n",
    "    freq_ = dataframe[['factor07', variable]].groupby(variable).sum().reset_index()\n",
    "    \n",
    "    # Calcular el porcentaje y redondearlo a dos decimales directamente en esta línea\n",
    "    total_recuento = freq_['factor07'].sum()\n",
    "    freq_['Porcentaje'] = (freq_['factor07'] / total_recuento * 100).round(2)\n",
    "    \n",
    "    freq_.rename(columns={'factor07': 'Recuento', variable: descripcion_valores}, inplace=True)\n",
    "    \n",
    "    # Calcular los totales\n",
    "    total_recuento = freq_['Recuento'].astype(float).sum()\n",
    "    total_porcentaje = freq_['Porcentaje'].astype(float).sum()\n",
    "    \n",
    "    # Crear una fila adicional para los totales\n",
    "    fila_total = pd.DataFrame({descripcion_valores: 'Total', 'Recuento': total_recuento, 'Porcentaje': total_porcentaje}, index=[0])\n",
    "\n",
    "    # Concatenar la fila total al DataFrame\n",
    "    freq_ = pd.concat([freq_, fila_total], ignore_index=True)\n",
    "    \n",
    "    # Formatear las columnas \"Recuento\" y \"Porcentaje\" como cadenas\n",
    "    freq_['Recuento'] = freq_['Recuento'].apply(lambda x: '{:,.0f}'.format(x))\n",
    "    freq_['Porcentaje'] = freq_['Porcentaje'].apply(lambda x: '{:.1f}'.format(x))\n",
    "    \n",
    "    if guardar_como_jpeg:\n",
    "        # Guardar la tabla formateada como una imagen JPEG en la ruta especificada\n",
    "        nombre_imagen = os.path.join(\"../output/images\", f\"tablas_{descripcion_valores}.jpeg\")\n",
    "        \n",
    "        # Configurar el tamaño y los márgenes de la figura\n",
    "        plt.figure(figsize=(6, 4))\n",
    "        plt.subplots_adjust(left=0.2, top=0.9, right=0.8, bottom=0.1)\n",
    "        \n",
    "        # Configurar el tamaño de la fuente para la tabla\n",
    "        plt.rc('font', size=9)\n",
    "        \n",
    "        # Crear una tabla en lugar de texto\n",
    "        tabla = plt.table(cellText=freq_.values, colLabels=freq_.columns, loc='center', cellLoc='center')\n",
    "        \n",
    "        # Establecer el formato de las celdas de la tabla\n",
    "        tabla.auto_set_font_size(False)\n",
    "        tabla.set_fontsize(10)\n",
    "        \n",
    "        # Ajustar el ancho de las columnas según el contenido\n",
    "        tabla.auto_set_column_width([0, 1, 2])\n",
    "        \n",
    "        # Ocultar los ejes\n",
    "        plt.axis('off')\n",
    "        \n",
    "        # Guardar la figura como imagen JPEG\n",
    "        plt.savefig(nombre_imagen, bbox_inches='tight', dpi=300)\n",
    "        plt.close()\n",
    "    \n",
    "    if guardar_como_txt:\n",
    "        # Guardar la tabla formateada en un archivo de texto en la ruta especificada\n",
    "        nombre_archivo_txt = os.path.join(\"../output/tables\", f\"{descripcion_valores}.txt\")\n",
    "        with open(nombre_archivo_txt, 'w') as archivo:\n",
    "            # Encabezado de la tabla en formato LaTeX\n",
    "            encabezado_latex = f\"\\\\begin{{table}}[H]\\n\\\\centering\\n\\\\caption{{{descripcion_valores}}}\\n\\\\label{{tab:{descripcion_valores}}}\\n\"\n",
    "            archivo.write(encabezado_latex)\n",
    "            \n",
    "            # Datos de la tabla en formato LaTeX\n",
    "            archivo.write(\"\\\\scalebox{0.65}{\\n\")\n",
    "            archivo.write(\"\\\\begin{tabular}{@{}crr@{}}\\n\")  # Modifica esta línea\n",
    "            archivo.write(\"\\\\toprule\\n\")\n",
    "            #archivo.write(\"Miembros por Hogar & Recuento & Porcentaje\\\\\\\\ \\\\midrule\\n\")  # Cambia las columnas y el encabezado aquí\n",
    "            archivo.write(f\"{descripcion_valores} & Recuento & Porcentaje\\\\\\\\ \\\\midrule\\n\")\n",
    "            \n",
    "            # Escribe los datos de la tabla\n",
    "            for _, row in freq_.iterrows():\n",
    "                archivo.write(f\"{row[descripcion_valores]} & {row['Recuento']} & {row['Porcentaje']}\\\\\\\\\\n\")\n",
    "            \n",
    "            archivo.write(\"\\\\bottomrule\\n\")\n",
    "            archivo.write(\"\\\\end{tabular}\\n\")\n",
    "            archivo.write(\"}\\n\")\n",
    "            archivo.write(\"\\\\end{table}\\n\")\n",
    "\n",
    "    return freq_\n"
   ]
  },
  {
   "cell_type": "code",
   "execution_count": 18,
   "id": "8b3f98c8-92f1-41b9-90e5-75ac9fc1571e",
   "metadata": {},
   "outputs": [],
   "source": [
    "def guardar_histograma_con_pesos(base_de_datos, columna,descriptivo):\n",
    "    # Crear el histograma con pesos\n",
    "    sns.histplot(data=base_de_datos, x=columna, bins=15, kde=True, color='blue', edgecolor='black', \n",
    "                 weights=base_filtrada['factor07'])\n",
    "\n",
    "    # Etiquetas y título\n",
    "    plt.xlabel(f'{descriptivo}')\n",
    "    plt.ylabel('Frecuencia ponderada')\n",
    "    plt.title(f'Histograma {columna}')\n",
    "\n",
    "    # Generar el nombre del archivo de imagen basado en el nombre de la columna\n",
    "    nombre_archivo = f'estadistico_{descriptivo}.png'\n",
    "\n",
    "    # Guardar la imagen en la ruta especificada\n",
    "    ruta_guardado = '../output/images/' + nombre_archivo\n",
    "    plt.savefig(ruta_guardado)\n",
    "\n",
    "    # Mostrar el histograma\n",
    "    plt.show()"
   ]
  },
  {
   "cell_type": "raw",
   "id": "61f8f75a-2b0c-4438-858a-bf86eeaeb0db",
   "metadata": {},
   "source": [
    "def guardar_graf_barras(columna_categorica, label):\n",
    "    # Crear el gráfico de barras\n",
    "    ax = sns.barplot(x=columna_categorica, y='factor07', data=base_filtrada, estimator=sum, ci=None)\n",
    "\n",
    "    # Etiquetar las barras con los porcentajes\n",
    "    total = base_filtrada['factor07'].sum()\n",
    "    for p in ax.patches:\n",
    "        height = p.get_height()\n",
    "        ax.annotate(f'{(height/total)*100:.0f}%', (p.get_x() + p.get_width() / 2., height), ha='center', va='bottom')\n",
    "\n",
    "    # Generar el nombre del archivo de imagen basado en el nombre de la columna\n",
    "    nombre_archivo = f'estadistico_{columna_categorica}.png'\n",
    "\n",
    "    #labels = hue_order\n",
    "    colors = sns.color_palette('deep').as_hex()[:len(labels)]\n",
    "    handles = [patches.Patch(color = col, label = lab) for col, lab in zip(colors, labels)]\n",
    "\n",
    "    # Etiquetas y título\n",
    "    plt.xlabel('Categoría')\n",
    "    plt.ylabel('Porcentaje')\n",
    "    plt.title(f'Gráfico de Barras {columna_categorica}')\n",
    "    plt.legend(handles=handles, title='Leyenda', loc='upper left', fontsize=12, bbox_to_anchor=(1, 1))\n",
    "\n",
    "    # Ajustar la ubicación de las etiquetas personalizadas\n",
    "    for i, p in enumerate(ax.patches):\n",
    "        height = p.get_height()\n",
    "        x_position = p.get_x() + p.get_width() + 0.02  # Ajusta este valor según tus necesidades\n",
    "\n",
    "    # Guardar la imagen en la ruta especificada\n",
    "    ruta_guardado = '../output/images/' + nombre_archivo\n",
    "    plt.savefig(ruta_guardado, bbox_inches='tight')\n",
    "\n",
    "    # Mostrar el gráfico\n",
    "    plt.show()"
   ]
  },
  {
   "cell_type": "markdown",
   "id": "33806527",
   "metadata": {
    "tags": []
   },
   "source": [
    "# VARIABLES "
   ]
  },
  {
   "cell_type": "markdown",
   "id": "3f1c6954-9ad1-4f70-a79f-3dde3aea1e12",
   "metadata": {},
   "source": [
    "## Variables Continuas"
   ]
  },
  {
   "cell_type": "markdown",
   "id": "b580abeb-344e-4fa8-acea-01a77fc46c3d",
   "metadata": {},
   "source": [
    "#### Miembros por hogar"
   ]
  },
  {
   "cell_type": "code",
   "execution_count": 19,
   "id": "37314f0b",
   "metadata": {},
   "outputs": [
    {
     "data": {
      "text/html": [
       "<div>\n",
       "<style scoped>\n",
       "    .dataframe tbody tr th:only-of-type {\n",
       "        vertical-align: middle;\n",
       "    }\n",
       "\n",
       "    .dataframe tbody tr th {\n",
       "        vertical-align: top;\n",
       "    }\n",
       "\n",
       "    .dataframe thead th {\n",
       "        text-align: right;\n",
       "    }\n",
       "</style>\n",
       "<table border=\"1\" class=\"dataframe\">\n",
       "  <thead>\n",
       "    <tr style=\"text-align: right;\">\n",
       "      <th></th>\n",
       "      <th>Miembros por Hogar</th>\n",
       "      <th>Recuento</th>\n",
       "      <th>Porcentaje</th>\n",
       "    </tr>\n",
       "  </thead>\n",
       "  <tbody>\n",
       "    <tr>\n",
       "      <th>0</th>\n",
       "      <td>1</td>\n",
       "      <td>6,353</td>\n",
       "      <td>0.1</td>\n",
       "    </tr>\n",
       "    <tr>\n",
       "      <th>1</th>\n",
       "      <td>2</td>\n",
       "      <td>252,248</td>\n",
       "      <td>3.6</td>\n",
       "    </tr>\n",
       "    <tr>\n",
       "      <th>2</th>\n",
       "      <td>3</td>\n",
       "      <td>944,912</td>\n",
       "      <td>13.4</td>\n",
       "    </tr>\n",
       "    <tr>\n",
       "      <th>3</th>\n",
       "      <td>4</td>\n",
       "      <td>1,950,796</td>\n",
       "      <td>27.6</td>\n",
       "    </tr>\n",
       "    <tr>\n",
       "      <th>4</th>\n",
       "      <td>5</td>\n",
       "      <td>1,781,058</td>\n",
       "      <td>25.2</td>\n",
       "    </tr>\n",
       "    <tr>\n",
       "      <th>5</th>\n",
       "      <td>6</td>\n",
       "      <td>964,505</td>\n",
       "      <td>13.7</td>\n",
       "    </tr>\n",
       "    <tr>\n",
       "      <th>6</th>\n",
       "      <td>7</td>\n",
       "      <td>543,624</td>\n",
       "      <td>7.7</td>\n",
       "    </tr>\n",
       "    <tr>\n",
       "      <th>7</th>\n",
       "      <td>8</td>\n",
       "      <td>253,435</td>\n",
       "      <td>3.6</td>\n",
       "    </tr>\n",
       "    <tr>\n",
       "      <th>8</th>\n",
       "      <td>9</td>\n",
       "      <td>160,758</td>\n",
       "      <td>2.3</td>\n",
       "    </tr>\n",
       "    <tr>\n",
       "      <th>9</th>\n",
       "      <td>10</td>\n",
       "      <td>94,979</td>\n",
       "      <td>1.4</td>\n",
       "    </tr>\n",
       "    <tr>\n",
       "      <th>10</th>\n",
       "      <td>11</td>\n",
       "      <td>36,499</td>\n",
       "      <td>0.5</td>\n",
       "    </tr>\n",
       "    <tr>\n",
       "      <th>11</th>\n",
       "      <td>12</td>\n",
       "      <td>27,787</td>\n",
       "      <td>0.4</td>\n",
       "    </tr>\n",
       "    <tr>\n",
       "      <th>12</th>\n",
       "      <td>13</td>\n",
       "      <td>11,269</td>\n",
       "      <td>0.2</td>\n",
       "    </tr>\n",
       "    <tr>\n",
       "      <th>13</th>\n",
       "      <td>14</td>\n",
       "      <td>10,230</td>\n",
       "      <td>0.2</td>\n",
       "    </tr>\n",
       "    <tr>\n",
       "      <th>14</th>\n",
       "      <td>15</td>\n",
       "      <td>8,958</td>\n",
       "      <td>0.1</td>\n",
       "    </tr>\n",
       "    <tr>\n",
       "      <th>15</th>\n",
       "      <td>18</td>\n",
       "      <td>901</td>\n",
       "      <td>0.0</td>\n",
       "    </tr>\n",
       "    <tr>\n",
       "      <th>16</th>\n",
       "      <td>20</td>\n",
       "      <td>6,673</td>\n",
       "      <td>0.1</td>\n",
       "    </tr>\n",
       "    <tr>\n",
       "      <th>17</th>\n",
       "      <td>Total</td>\n",
       "      <td>7,054,985</td>\n",
       "      <td>100.0</td>\n",
       "    </tr>\n",
       "  </tbody>\n",
       "</table>\n",
       "</div>"
      ],
      "text/plain": [
       "   Miembros por Hogar   Recuento Porcentaje\n",
       "0                   1      6,353        0.1\n",
       "1                   2    252,248        3.6\n",
       "2                   3    944,912       13.4\n",
       "3                   4  1,950,796       27.6\n",
       "4                   5  1,781,058       25.2\n",
       "5                   6    964,505       13.7\n",
       "6                   7    543,624        7.7\n",
       "7                   8    253,435        3.6\n",
       "8                   9    160,758        2.3\n",
       "9                  10     94,979        1.4\n",
       "10                 11     36,499        0.5\n",
       "11                 12     27,787        0.4\n",
       "12                 13     11,269        0.2\n",
       "13                 14     10,230        0.2\n",
       "14                 15      8,958        0.1\n",
       "15                 18        901        0.0\n",
       "16                 20      6,673        0.1\n",
       "17              Total  7,054,985      100.0"
      ]
     },
     "execution_count": 19,
     "metadata": {},
     "output_type": "execute_result"
    }
   ],
   "source": [
    "generar_tabla_recuento(base_filtrada, \"mieperho\", \"Miembros por Hogar\",True, True)"
   ]
  },
  {
   "cell_type": "markdown",
   "id": "023479a6-371d-46d7-96fa-2817d61a0d53",
   "metadata": {},
   "source": [
    "#### Edad"
   ]
  },
  {
   "cell_type": "code",
   "execution_count": 20,
   "id": "066129bd",
   "metadata": {},
   "outputs": [
    {
     "data": {
      "text/html": [
       "<div>\n",
       "<style scoped>\n",
       "    .dataframe tbody tr th:only-of-type {\n",
       "        vertical-align: middle;\n",
       "    }\n",
       "\n",
       "    .dataframe tbody tr th {\n",
       "        vertical-align: top;\n",
       "    }\n",
       "\n",
       "    .dataframe thead th {\n",
       "        text-align: right;\n",
       "    }\n",
       "</style>\n",
       "<table border=\"1\" class=\"dataframe\">\n",
       "  <thead>\n",
       "    <tr style=\"text-align: right;\">\n",
       "      <th></th>\n",
       "      <th>Edad</th>\n",
       "      <th>Recuento</th>\n",
       "      <th>Porcentaje</th>\n",
       "    </tr>\n",
       "  </thead>\n",
       "  <tbody>\n",
       "    <tr>\n",
       "      <th>0</th>\n",
       "      <td>3.0</td>\n",
       "      <td>208,840</td>\n",
       "      <td>3.0</td>\n",
       "    </tr>\n",
       "    <tr>\n",
       "      <th>1</th>\n",
       "      <td>4.0</td>\n",
       "      <td>374,276</td>\n",
       "      <td>5.3</td>\n",
       "    </tr>\n",
       "    <tr>\n",
       "      <th>2</th>\n",
       "      <td>5.0</td>\n",
       "      <td>459,126</td>\n",
       "      <td>6.5</td>\n",
       "    </tr>\n",
       "    <tr>\n",
       "      <th>3</th>\n",
       "      <td>6.0</td>\n",
       "      <td>443,993</td>\n",
       "      <td>6.3</td>\n",
       "    </tr>\n",
       "    <tr>\n",
       "      <th>4</th>\n",
       "      <td>7.0</td>\n",
       "      <td>505,597</td>\n",
       "      <td>7.2</td>\n",
       "    </tr>\n",
       "    <tr>\n",
       "      <th>5</th>\n",
       "      <td>8.0</td>\n",
       "      <td>467,637</td>\n",
       "      <td>6.6</td>\n",
       "    </tr>\n",
       "    <tr>\n",
       "      <th>6</th>\n",
       "      <td>9.0</td>\n",
       "      <td>536,460</td>\n",
       "      <td>7.6</td>\n",
       "    </tr>\n",
       "    <tr>\n",
       "      <th>7</th>\n",
       "      <td>10.0</td>\n",
       "      <td>558,568</td>\n",
       "      <td>7.9</td>\n",
       "    </tr>\n",
       "    <tr>\n",
       "      <th>8</th>\n",
       "      <td>11.0</td>\n",
       "      <td>547,757</td>\n",
       "      <td>7.8</td>\n",
       "    </tr>\n",
       "    <tr>\n",
       "      <th>9</th>\n",
       "      <td>12.0</td>\n",
       "      <td>602,566</td>\n",
       "      <td>8.5</td>\n",
       "    </tr>\n",
       "    <tr>\n",
       "      <th>10</th>\n",
       "      <td>13.0</td>\n",
       "      <td>552,805</td>\n",
       "      <td>7.8</td>\n",
       "    </tr>\n",
       "    <tr>\n",
       "      <th>11</th>\n",
       "      <td>14.0</td>\n",
       "      <td>577,768</td>\n",
       "      <td>8.2</td>\n",
       "    </tr>\n",
       "    <tr>\n",
       "      <th>12</th>\n",
       "      <td>15.0</td>\n",
       "      <td>579,463</td>\n",
       "      <td>8.2</td>\n",
       "    </tr>\n",
       "    <tr>\n",
       "      <th>13</th>\n",
       "      <td>16.0</td>\n",
       "      <td>447,257</td>\n",
       "      <td>6.3</td>\n",
       "    </tr>\n",
       "    <tr>\n",
       "      <th>14</th>\n",
       "      <td>17.0</td>\n",
       "      <td>154,853</td>\n",
       "      <td>2.2</td>\n",
       "    </tr>\n",
       "    <tr>\n",
       "      <th>15</th>\n",
       "      <td>18.0</td>\n",
       "      <td>38,018</td>\n",
       "      <td>0.5</td>\n",
       "    </tr>\n",
       "    <tr>\n",
       "      <th>16</th>\n",
       "      <td>Total</td>\n",
       "      <td>7,054,985</td>\n",
       "      <td>100.0</td>\n",
       "    </tr>\n",
       "  </tbody>\n",
       "</table>\n",
       "</div>"
      ],
      "text/plain": [
       "     Edad   Recuento Porcentaje\n",
       "0     3.0    208,840        3.0\n",
       "1     4.0    374,276        5.3\n",
       "2     5.0    459,126        6.5\n",
       "3     6.0    443,993        6.3\n",
       "4     7.0    505,597        7.2\n",
       "5     8.0    467,637        6.6\n",
       "6     9.0    536,460        7.6\n",
       "7    10.0    558,568        7.9\n",
       "8    11.0    547,757        7.8\n",
       "9    12.0    602,566        8.5\n",
       "10   13.0    552,805        7.8\n",
       "11   14.0    577,768        8.2\n",
       "12   15.0    579,463        8.2\n",
       "13   16.0    447,257        6.3\n",
       "14   17.0    154,853        2.2\n",
       "15   18.0     38,018        0.5\n",
       "16  Total  7,054,985      100.0"
      ]
     },
     "execution_count": 20,
     "metadata": {},
     "output_type": "execute_result"
    }
   ],
   "source": [
    "generar_tabla_recuento(base_filtrada, \"Edad\", \"Edad\" , True,  True)##################"
   ]
  },
  {
   "cell_type": "markdown",
   "id": "cbfb81a0-db56-43ac-afdb-eba6dd71c97e",
   "metadata": {},
   "source": [
    "## Variables Cualitativas"
   ]
  },
  {
   "cell_type": "markdown",
   "id": "5b71dfca-db7a-4630-a4bb-a6e164d3e752",
   "metadata": {
    "tags": []
   },
   "source": [
    "#### Nivel Educativo y Centro de estudios"
   ]
  },
  {
   "cell_type": "code",
   "execution_count": 21,
   "id": "f1c99474",
   "metadata": {},
   "outputs": [
    {
     "data": {
      "text/html": [
       "<div>\n",
       "<style scoped>\n",
       "    .dataframe tbody tr th:only-of-type {\n",
       "        vertical-align: middle;\n",
       "    }\n",
       "\n",
       "    .dataframe tbody tr th {\n",
       "        vertical-align: top;\n",
       "    }\n",
       "\n",
       "    .dataframe thead th {\n",
       "        text-align: right;\n",
       "    }\n",
       "</style>\n",
       "<table border=\"1\" class=\"dataframe\">\n",
       "  <thead>\n",
       "    <tr style=\"text-align: right;\">\n",
       "      <th></th>\n",
       "      <th>Nivel Educativo</th>\n",
       "      <th>Recuento</th>\n",
       "      <th>Porcentaje</th>\n",
       "    </tr>\n",
       "  </thead>\n",
       "  <tbody>\n",
       "    <tr>\n",
       "      <th>0</th>\n",
       "      <td>1.0</td>\n",
       "      <td>1,179,954</td>\n",
       "      <td>16.7</td>\n",
       "    </tr>\n",
       "    <tr>\n",
       "      <th>1</th>\n",
       "      <td>2.0</td>\n",
       "      <td>3,219,312</td>\n",
       "      <td>45.6</td>\n",
       "    </tr>\n",
       "    <tr>\n",
       "      <th>2</th>\n",
       "      <td>3.0</td>\n",
       "      <td>2,655,718</td>\n",
       "      <td>37.6</td>\n",
       "    </tr>\n",
       "    <tr>\n",
       "      <th>3</th>\n",
       "      <td>Total</td>\n",
       "      <td>7,054,985</td>\n",
       "      <td>100.0</td>\n",
       "    </tr>\n",
       "  </tbody>\n",
       "</table>\n",
       "</div>"
      ],
      "text/plain": [
       "  Nivel Educativo   Recuento Porcentaje\n",
       "0             1.0  1,179,954       16.7\n",
       "1             2.0  3,219,312       45.6\n",
       "2             3.0  2,655,718       37.6\n",
       "3           Total  7,054,985      100.0"
      ]
     },
     "execution_count": 21,
     "metadata": {},
     "output_type": "execute_result"
    }
   ],
   "source": [
    "generar_tabla_recuento(base_filtrada, \"Nivel_educativo\", \"Nivel Educativo\",True, True)\n",
    "# 1 Educación Inicial  2 Primaria 3 Secundaria "
   ]
  },
  {
   "cell_type": "code",
   "execution_count": 22,
   "id": "7fd273a5",
   "metadata": {},
   "outputs": [
    {
     "data": {
      "text/html": [
       "<div>\n",
       "<style scoped>\n",
       "    .dataframe tbody tr th:only-of-type {\n",
       "        vertical-align: middle;\n",
       "    }\n",
       "\n",
       "    .dataframe tbody tr th {\n",
       "        vertical-align: top;\n",
       "    }\n",
       "\n",
       "    .dataframe thead th {\n",
       "        text-align: right;\n",
       "    }\n",
       "</style>\n",
       "<table border=\"1\" class=\"dataframe\">\n",
       "  <thead>\n",
       "    <tr style=\"text-align: right;\">\n",
       "      <th></th>\n",
       "      <th>Centro de Estudios</th>\n",
       "      <th>Recuento</th>\n",
       "      <th>Porcentaje</th>\n",
       "    </tr>\n",
       "  </thead>\n",
       "  <tbody>\n",
       "    <tr>\n",
       "      <th>0</th>\n",
       "      <td>1.0</td>\n",
       "      <td>5,935,242</td>\n",
       "      <td>84.1</td>\n",
       "    </tr>\n",
       "    <tr>\n",
       "      <th>1</th>\n",
       "      <td>2.0</td>\n",
       "      <td>1,119,743</td>\n",
       "      <td>15.9</td>\n",
       "    </tr>\n",
       "    <tr>\n",
       "      <th>2</th>\n",
       "      <td>Total</td>\n",
       "      <td>7,054,985</td>\n",
       "      <td>100.0</td>\n",
       "    </tr>\n",
       "  </tbody>\n",
       "</table>\n",
       "</div>"
      ],
      "text/plain": [
       "  Centro de Estudios   Recuento Porcentaje\n",
       "0                1.0  5,935,242       84.1\n",
       "1                2.0  1,119,743       15.9\n",
       "2              Total  7,054,985      100.0"
      ]
     },
     "execution_count": 22,
     "metadata": {},
     "output_type": "execute_result"
    }
   ],
   "source": [
    "generar_tabla_recuento(base_filtrada, \"Centro_estudios\", \"Centro de Estudios\",True, True)\n",
    "#descripcion_nivel_educativo = { 1 Estatal 2 No estatal}"
   ]
  },
  {
   "cell_type": "markdown",
   "id": "0792b75e-e6b7-42dd-8561-b059278a937e",
   "metadata": {},
   "source": [
    "#### Idioma y Sexo"
   ]
  },
  {
   "cell_type": "code",
   "execution_count": 23,
   "id": "829692a5",
   "metadata": {},
   "outputs": [
    {
     "data": {
      "text/html": [
       "<div>\n",
       "<style scoped>\n",
       "    .dataframe tbody tr th:only-of-type {\n",
       "        vertical-align: middle;\n",
       "    }\n",
       "\n",
       "    .dataframe tbody tr th {\n",
       "        vertical-align: top;\n",
       "    }\n",
       "\n",
       "    .dataframe thead th {\n",
       "        text-align: right;\n",
       "    }\n",
       "</style>\n",
       "<table border=\"1\" class=\"dataframe\">\n",
       "  <thead>\n",
       "    <tr style=\"text-align: right;\">\n",
       "      <th></th>\n",
       "      <th>Idioma</th>\n",
       "      <th>Recuento</th>\n",
       "      <th>Porcentaje</th>\n",
       "    </tr>\n",
       "  </thead>\n",
       "  <tbody>\n",
       "    <tr>\n",
       "      <th>0</th>\n",
       "      <td>0</td>\n",
       "      <td>560,849</td>\n",
       "      <td>7.9</td>\n",
       "    </tr>\n",
       "    <tr>\n",
       "      <th>1</th>\n",
       "      <td>1</td>\n",
       "      <td>6,494,136</td>\n",
       "      <td>92.1</td>\n",
       "    </tr>\n",
       "    <tr>\n",
       "      <th>2</th>\n",
       "      <td>Total</td>\n",
       "      <td>7,054,985</td>\n",
       "      <td>100.0</td>\n",
       "    </tr>\n",
       "  </tbody>\n",
       "</table>\n",
       "</div>"
      ],
      "text/plain": [
       "  Idioma   Recuento Porcentaje\n",
       "0      0    560,849        7.9\n",
       "1      1  6,494,136       92.1\n",
       "2  Total  7,054,985      100.0"
      ]
     },
     "execution_count": 23,
     "metadata": {},
     "output_type": "execute_result"
    }
   ],
   "source": [
    "generar_tabla_recuento(base_filtrada, \"Idioma\", \"Idioma\",True, True)   #{1: \"Castellano\", 0: \"Otros\"}"
   ]
  },
  {
   "cell_type": "code",
   "execution_count": 24,
   "id": "18c84e20",
   "metadata": {},
   "outputs": [
    {
     "data": {
      "text/html": [
       "<div>\n",
       "<style scoped>\n",
       "    .dataframe tbody tr th:only-of-type {\n",
       "        vertical-align: middle;\n",
       "    }\n",
       "\n",
       "    .dataframe tbody tr th {\n",
       "        vertical-align: top;\n",
       "    }\n",
       "\n",
       "    .dataframe thead th {\n",
       "        text-align: right;\n",
       "    }\n",
       "</style>\n",
       "<table border=\"1\" class=\"dataframe\">\n",
       "  <thead>\n",
       "    <tr style=\"text-align: right;\">\n",
       "      <th></th>\n",
       "      <th>Sexo</th>\n",
       "      <th>Recuento</th>\n",
       "      <th>Porcentaje</th>\n",
       "    </tr>\n",
       "  </thead>\n",
       "  <tbody>\n",
       "    <tr>\n",
       "      <th>0</th>\n",
       "      <td>0.0</td>\n",
       "      <td>3,587,954</td>\n",
       "      <td>50.9</td>\n",
       "    </tr>\n",
       "    <tr>\n",
       "      <th>1</th>\n",
       "      <td>1.0</td>\n",
       "      <td>3,467,031</td>\n",
       "      <td>49.1</td>\n",
       "    </tr>\n",
       "    <tr>\n",
       "      <th>2</th>\n",
       "      <td>Total</td>\n",
       "      <td>7,054,985</td>\n",
       "      <td>100.0</td>\n",
       "    </tr>\n",
       "  </tbody>\n",
       "</table>\n",
       "</div>"
      ],
      "text/plain": [
       "    Sexo   Recuento Porcentaje\n",
       "0    0.0  3,587,954       50.9\n",
       "1    1.0  3,467,031       49.1\n",
       "2  Total  7,054,985      100.0"
      ]
     },
     "execution_count": 24,
     "metadata": {},
     "output_type": "execute_result"
    }
   ],
   "source": [
    "generar_tabla_recuento(base_filtrada, \"Sexo\", \"Sexo\", True, True)  # 1 Hombre 2 Mujer ###########"
   ]
  },
  {
   "cell_type": "markdown",
   "id": "8486058c-0926-473c-994d-11478355e473",
   "metadata": {
    "tags": []
   },
   "source": [
    "#### Area y Estrato social"
   ]
  },
  {
   "cell_type": "code",
   "execution_count": 25,
   "id": "62fb5ab4",
   "metadata": {},
   "outputs": [
    {
     "data": {
      "text/html": [
       "<div>\n",
       "<style scoped>\n",
       "    .dataframe tbody tr th:only-of-type {\n",
       "        vertical-align: middle;\n",
       "    }\n",
       "\n",
       "    .dataframe tbody tr th {\n",
       "        vertical-align: top;\n",
       "    }\n",
       "\n",
       "    .dataframe thead th {\n",
       "        text-align: right;\n",
       "    }\n",
       "</style>\n",
       "<table border=\"1\" class=\"dataframe\">\n",
       "  <thead>\n",
       "    <tr style=\"text-align: right;\">\n",
       "      <th></th>\n",
       "      <th>Area</th>\n",
       "      <th>Recuento</th>\n",
       "      <th>Porcentaje</th>\n",
       "    </tr>\n",
       "  </thead>\n",
       "  <tbody>\n",
       "    <tr>\n",
       "      <th>0</th>\n",
       "      <td>0</td>\n",
       "      <td>1,775,518</td>\n",
       "      <td>25.2</td>\n",
       "    </tr>\n",
       "    <tr>\n",
       "      <th>1</th>\n",
       "      <td>1</td>\n",
       "      <td>5,279,466</td>\n",
       "      <td>74.8</td>\n",
       "    </tr>\n",
       "    <tr>\n",
       "      <th>2</th>\n",
       "      <td>Total</td>\n",
       "      <td>7,054,985</td>\n",
       "      <td>100.0</td>\n",
       "    </tr>\n",
       "  </tbody>\n",
       "</table>\n",
       "</div>"
      ],
      "text/plain": [
       "    Area   Recuento Porcentaje\n",
       "0      0  1,775,518       25.2\n",
       "1      1  5,279,466       74.8\n",
       "2  Total  7,054,985      100.0"
      ]
     },
     "execution_count": 25,
     "metadata": {},
     "output_type": "execute_result"
    }
   ],
   "source": [
    "generar_tabla_recuento(base_filtrada, \"AREA\", \"Area\",True, True) #{1: \"Urbano\", 0: \"Rural\"}"
   ]
  },
  {
   "cell_type": "code",
   "execution_count": 26,
   "id": "739456e8",
   "metadata": {},
   "outputs": [
    {
     "data": {
      "text/html": [
       "<div>\n",
       "<style scoped>\n",
       "    .dataframe tbody tr th:only-of-type {\n",
       "        vertical-align: middle;\n",
       "    }\n",
       "\n",
       "    .dataframe tbody tr th {\n",
       "        vertical-align: top;\n",
       "    }\n",
       "\n",
       "    .dataframe thead th {\n",
       "        text-align: right;\n",
       "    }\n",
       "</style>\n",
       "<table border=\"1\" class=\"dataframe\">\n",
       "  <thead>\n",
       "    <tr style=\"text-align: right;\">\n",
       "      <th></th>\n",
       "      <th>Estrato Social</th>\n",
       "      <th>Recuento</th>\n",
       "      <th>Porcentaje</th>\n",
       "    </tr>\n",
       "  </thead>\n",
       "  <tbody>\n",
       "    <tr>\n",
       "      <th>0</th>\n",
       "      <td>1</td>\n",
       "      <td>47,133</td>\n",
       "      <td>0.7</td>\n",
       "    </tr>\n",
       "    <tr>\n",
       "      <th>1</th>\n",
       "      <td>2</td>\n",
       "      <td>140,838</td>\n",
       "      <td>2.0</td>\n",
       "    </tr>\n",
       "    <tr>\n",
       "      <th>2</th>\n",
       "      <td>3</td>\n",
       "      <td>487,078</td>\n",
       "      <td>6.9</td>\n",
       "    </tr>\n",
       "    <tr>\n",
       "      <th>3</th>\n",
       "      <td>4</td>\n",
       "      <td>1,851,881</td>\n",
       "      <td>26.2</td>\n",
       "    </tr>\n",
       "    <tr>\n",
       "      <th>4</th>\n",
       "      <td>5</td>\n",
       "      <td>2,752,537</td>\n",
       "      <td>39.0</td>\n",
       "    </tr>\n",
       "    <tr>\n",
       "      <th>5</th>\n",
       "      <td>6</td>\n",
       "      <td>1,775,518</td>\n",
       "      <td>25.2</td>\n",
       "    </tr>\n",
       "    <tr>\n",
       "      <th>6</th>\n",
       "      <td>Total</td>\n",
       "      <td>7,054,985</td>\n",
       "      <td>100.0</td>\n",
       "    </tr>\n",
       "  </tbody>\n",
       "</table>\n",
       "</div>"
      ],
      "text/plain": [
       "  Estrato Social   Recuento Porcentaje\n",
       "0              1     47,133        0.7\n",
       "1              2    140,838        2.0\n",
       "2              3    487,078        6.9\n",
       "3              4  1,851,881       26.2\n",
       "4              5  2,752,537       39.0\n",
       "5              6  1,775,518       25.2\n",
       "6          Total  7,054,985      100.0"
      ]
     },
     "execution_count": 26,
     "metadata": {},
     "output_type": "execute_result"
    }
   ],
   "source": [
    "generar_tabla_recuento(base_filtrada, \"estrsocial\", \"Estrato Social\",True, True)\n",
    "# 1 “A” 2 “B” 3 “C” 4 “D” 5 “E” 6 “RURAL”"
   ]
  },
  {
   "cell_type": "markdown",
   "id": "edfe1e61-038d-4ee4-8213-149a8e7a09b6",
   "metadata": {},
   "source": [
    "#### Electricidad y Region"
   ]
  },
  {
   "cell_type": "code",
   "execution_count": 27,
   "id": "aae90ee2",
   "metadata": {},
   "outputs": [
    {
     "data": {
      "text/html": [
       "<div>\n",
       "<style scoped>\n",
       "    .dataframe tbody tr th:only-of-type {\n",
       "        vertical-align: middle;\n",
       "    }\n",
       "\n",
       "    .dataframe tbody tr th {\n",
       "        vertical-align: top;\n",
       "    }\n",
       "\n",
       "    .dataframe thead th {\n",
       "        text-align: right;\n",
       "    }\n",
       "</style>\n",
       "<table border=\"1\" class=\"dataframe\">\n",
       "  <thead>\n",
       "    <tr style=\"text-align: right;\">\n",
       "      <th></th>\n",
       "      <th>Electricidad</th>\n",
       "      <th>Recuento</th>\n",
       "      <th>Porcentaje</th>\n",
       "    </tr>\n",
       "  </thead>\n",
       "  <tbody>\n",
       "    <tr>\n",
       "      <th>0</th>\n",
       "      <td>0.0</td>\n",
       "      <td>340,455</td>\n",
       "      <td>4.8</td>\n",
       "    </tr>\n",
       "    <tr>\n",
       "      <th>1</th>\n",
       "      <td>1.0</td>\n",
       "      <td>6,714,530</td>\n",
       "      <td>95.2</td>\n",
       "    </tr>\n",
       "    <tr>\n",
       "      <th>2</th>\n",
       "      <td>Total</td>\n",
       "      <td>7,054,985</td>\n",
       "      <td>100.0</td>\n",
       "    </tr>\n",
       "  </tbody>\n",
       "</table>\n",
       "</div>"
      ],
      "text/plain": [
       "  Electricidad   Recuento Porcentaje\n",
       "0          0.0    340,455        4.8\n",
       "1          1.0  6,714,530       95.2\n",
       "2        Total  7,054,985      100.0"
      ]
     },
     "execution_count": 27,
     "metadata": {},
     "output_type": "execute_result"
    }
   ],
   "source": [
    "generar_tabla_recuento(base_filtrada, \"Electricidad\", \"Electricidad\", True, True) ##################"
   ]
  },
  {
   "cell_type": "code",
   "execution_count": 28,
   "id": "e47501de-3fb8-4cb3-86b7-efaa627d1cdd",
   "metadata": {},
   "outputs": [],
   "source": [
    "#dict_region = { 1:1, 2:1, 3: 1, 4:2, 5:2, 6:2, 7:3, 8: 4}\n",
    "#merged_data[\"region\"] = merged_data[\"dominio\"].map(dict_region)"
   ]
  },
  {
   "cell_type": "markdown",
   "id": "17a05fc1-fa64-4e86-bde8-b8f957e7390e",
   "metadata": {},
   "source": [
    "#### Departamento"
   ]
  },
  {
   "cell_type": "code",
   "execution_count": 29,
   "id": "1a8ed003-1b21-4a0c-98d6-8538bfcf49f4",
   "metadata": {},
   "outputs": [
    {
     "data": {
      "text/html": [
       "<div>\n",
       "<style scoped>\n",
       "    .dataframe tbody tr th:only-of-type {\n",
       "        vertical-align: middle;\n",
       "    }\n",
       "\n",
       "    .dataframe tbody tr th {\n",
       "        vertical-align: top;\n",
       "    }\n",
       "\n",
       "    .dataframe thead th {\n",
       "        text-align: right;\n",
       "    }\n",
       "</style>\n",
       "<table border=\"1\" class=\"dataframe\">\n",
       "  <thead>\n",
       "    <tr style=\"text-align: right;\">\n",
       "      <th></th>\n",
       "      <th>Region</th>\n",
       "      <th>Recuento</th>\n",
       "      <th>Porcentaje</th>\n",
       "    </tr>\n",
       "  </thead>\n",
       "  <tbody>\n",
       "    <tr>\n",
       "      <th>0</th>\n",
       "      <td>1</td>\n",
       "      <td>1,682,038</td>\n",
       "      <td>23.8</td>\n",
       "    </tr>\n",
       "    <tr>\n",
       "      <th>1</th>\n",
       "      <td>2</td>\n",
       "      <td>2,268,271</td>\n",
       "      <td>32.2</td>\n",
       "    </tr>\n",
       "    <tr>\n",
       "      <th>2</th>\n",
       "      <td>3</td>\n",
       "      <td>1,096,850</td>\n",
       "      <td>15.6</td>\n",
       "    </tr>\n",
       "    <tr>\n",
       "      <th>3</th>\n",
       "      <td>4</td>\n",
       "      <td>2,007,826</td>\n",
       "      <td>28.5</td>\n",
       "    </tr>\n",
       "    <tr>\n",
       "      <th>4</th>\n",
       "      <td>Total</td>\n",
       "      <td>7,054,985</td>\n",
       "      <td>100.0</td>\n",
       "    </tr>\n",
       "  </tbody>\n",
       "</table>\n",
       "</div>"
      ],
      "text/plain": [
       "  Region   Recuento Porcentaje\n",
       "0      1  1,682,038       23.8\n",
       "1      2  2,268,271       32.2\n",
       "2      3  1,096,850       15.6\n",
       "3      4  2,007,826       28.5\n",
       "4  Total  7,054,985      100.0"
      ]
     },
     "execution_count": 29,
     "metadata": {},
     "output_type": "execute_result"
    }
   ],
   "source": [
    "generar_tabla_recuento(base_filtrada, \"Region\", \"Region\", True, True) ##################"
   ]
  },
  {
   "cell_type": "code",
   "execution_count": 30,
   "id": "068aaf64-c636-42aa-a14e-e765b19d02d9",
   "metadata": {},
   "outputs": [
    {
     "data": {
      "text/html": [
       "<div>\n",
       "<style scoped>\n",
       "    .dataframe tbody tr th:only-of-type {\n",
       "        vertical-align: middle;\n",
       "    }\n",
       "\n",
       "    .dataframe tbody tr th {\n",
       "        vertical-align: top;\n",
       "    }\n",
       "\n",
       "    .dataframe thead th {\n",
       "        text-align: right;\n",
       "    }\n",
       "</style>\n",
       "<table border=\"1\" class=\"dataframe\">\n",
       "  <thead>\n",
       "    <tr style=\"text-align: right;\">\n",
       "      <th></th>\n",
       "      <th>Departamento</th>\n",
       "      <th>Recuento</th>\n",
       "      <th>Porcentaje</th>\n",
       "    </tr>\n",
       "  </thead>\n",
       "  <tbody>\n",
       "    <tr>\n",
       "      <th>0</th>\n",
       "      <td>1</td>\n",
       "      <td>106,104</td>\n",
       "      <td>1.5</td>\n",
       "    </tr>\n",
       "    <tr>\n",
       "      <th>1</th>\n",
       "      <td>2</td>\n",
       "      <td>279,993</td>\n",
       "      <td>4.0</td>\n",
       "    </tr>\n",
       "    <tr>\n",
       "      <th>2</th>\n",
       "      <td>3</td>\n",
       "      <td>98,716</td>\n",
       "      <td>1.4</td>\n",
       "    </tr>\n",
       "    <tr>\n",
       "      <th>3</th>\n",
       "      <td>4</td>\n",
       "      <td>256,887</td>\n",
       "      <td>3.6</td>\n",
       "    </tr>\n",
       "    <tr>\n",
       "      <th>4</th>\n",
       "      <td>5</td>\n",
       "      <td>175,311</td>\n",
       "      <td>2.5</td>\n",
       "    </tr>\n",
       "    <tr>\n",
       "      <th>5</th>\n",
       "      <td>6</td>\n",
       "      <td>381,635</td>\n",
       "      <td>5.4</td>\n",
       "    </tr>\n",
       "    <tr>\n",
       "      <th>6</th>\n",
       "      <td>7</td>\n",
       "      <td>218,237</td>\n",
       "      <td>3.1</td>\n",
       "    </tr>\n",
       "    <tr>\n",
       "      <th>7</th>\n",
       "      <td>8</td>\n",
       "      <td>297,819</td>\n",
       "      <td>4.2</td>\n",
       "    </tr>\n",
       "    <tr>\n",
       "      <th>8</th>\n",
       "      <td>9</td>\n",
       "      <td>128,674</td>\n",
       "      <td>1.8</td>\n",
       "    </tr>\n",
       "    <tr>\n",
       "      <th>9</th>\n",
       "      <td>10</td>\n",
       "      <td>222,918</td>\n",
       "      <td>3.2</td>\n",
       "    </tr>\n",
       "    <tr>\n",
       "      <th>10</th>\n",
       "      <td>11</td>\n",
       "      <td>181,737</td>\n",
       "      <td>2.6</td>\n",
       "    </tr>\n",
       "    <tr>\n",
       "      <th>11</th>\n",
       "      <td>12</td>\n",
       "      <td>297,714</td>\n",
       "      <td>4.2</td>\n",
       "    </tr>\n",
       "    <tr>\n",
       "      <th>12</th>\n",
       "      <td>13</td>\n",
       "      <td>431,989</td>\n",
       "      <td>6.1</td>\n",
       "    </tr>\n",
       "    <tr>\n",
       "      <th>13</th>\n",
       "      <td>14</td>\n",
       "      <td>267,795</td>\n",
       "      <td>3.8</td>\n",
       "    </tr>\n",
       "    <tr>\n",
       "      <th>14</th>\n",
       "      <td>15</td>\n",
       "      <td>1,970,970</td>\n",
       "      <td>27.9</td>\n",
       "    </tr>\n",
       "    <tr>\n",
       "      <th>15</th>\n",
       "      <td>16</td>\n",
       "      <td>311,396</td>\n",
       "      <td>4.4</td>\n",
       "    </tr>\n",
       "    <tr>\n",
       "      <th>16</th>\n",
       "      <td>17</td>\n",
       "      <td>32,848</td>\n",
       "      <td>0.5</td>\n",
       "    </tr>\n",
       "    <tr>\n",
       "      <th>17</th>\n",
       "      <td>18</td>\n",
       "      <td>36,866</td>\n",
       "      <td>0.5</td>\n",
       "    </tr>\n",
       "    <tr>\n",
       "      <th>18</th>\n",
       "      <td>19</td>\n",
       "      <td>69,031</td>\n",
       "      <td>1.0</td>\n",
       "    </tr>\n",
       "    <tr>\n",
       "      <th>19</th>\n",
       "      <td>20</td>\n",
       "      <td>491,623</td>\n",
       "      <td>7.0</td>\n",
       "    </tr>\n",
       "    <tr>\n",
       "      <th>20</th>\n",
       "      <td>21</td>\n",
       "      <td>305,064</td>\n",
       "      <td>4.3</td>\n",
       "    </tr>\n",
       "    <tr>\n",
       "      <th>21</th>\n",
       "      <td>22</td>\n",
       "      <td>224,515</td>\n",
       "      <td>3.2</td>\n",
       "    </tr>\n",
       "    <tr>\n",
       "      <th>22</th>\n",
       "      <td>23</td>\n",
       "      <td>65,088</td>\n",
       "      <td>0.9</td>\n",
       "    </tr>\n",
       "    <tr>\n",
       "      <th>23</th>\n",
       "      <td>24</td>\n",
       "      <td>61,825</td>\n",
       "      <td>0.9</td>\n",
       "    </tr>\n",
       "    <tr>\n",
       "      <th>24</th>\n",
       "      <td>25</td>\n",
       "      <td>140,227</td>\n",
       "      <td>2.0</td>\n",
       "    </tr>\n",
       "    <tr>\n",
       "      <th>25</th>\n",
       "      <td>Total</td>\n",
       "      <td>7,054,985</td>\n",
       "      <td>100.0</td>\n",
       "    </tr>\n",
       "  </tbody>\n",
       "</table>\n",
       "</div>"
      ],
      "text/plain": [
       "   Departamento   Recuento Porcentaje\n",
       "0             1    106,104        1.5\n",
       "1             2    279,993        4.0\n",
       "2             3     98,716        1.4\n",
       "3             4    256,887        3.6\n",
       "4             5    175,311        2.5\n",
       "5             6    381,635        5.4\n",
       "6             7    218,237        3.1\n",
       "7             8    297,819        4.2\n",
       "8             9    128,674        1.8\n",
       "9            10    222,918        3.2\n",
       "10           11    181,737        2.6\n",
       "11           12    297,714        4.2\n",
       "12           13    431,989        6.1\n",
       "13           14    267,795        3.8\n",
       "14           15  1,970,970       27.9\n",
       "15           16    311,396        4.4\n",
       "16           17     32,848        0.5\n",
       "17           18     36,866        0.5\n",
       "18           19     69,031        1.0\n",
       "19           20    491,623        7.0\n",
       "20           21    305,064        4.3\n",
       "21           22    224,515        3.2\n",
       "22           23     65,088        0.9\n",
       "23           24     61,825        0.9\n",
       "24           25    140,227        2.0\n",
       "25        Total  7,054,985      100.0"
      ]
     },
     "execution_count": 30,
     "metadata": {},
     "output_type": "execute_result"
    }
   ],
   "source": [
    "generar_tabla_recuento(base_filtrada, \"DEPARTAMENTO\", \"Departamento\", True, True) ##################"
   ]
  },
  {
   "cell_type": "markdown",
   "id": "dc063270-f5b0-416a-9b50-67c1684a4f70",
   "metadata": {},
   "source": [
    "## DIMENSIÓN DE USO"
   ]
  },
  {
   "cell_type": "markdown",
   "id": "846f4dff-34fc-454f-92f1-9c10f1780df8",
   "metadata": {},
   "source": [
    "### Uso de Internet"
   ]
  },
  {
   "cell_type": "code",
   "execution_count": 31,
   "id": "3f36de65",
   "metadata": {},
   "outputs": [
    {
     "data": {
      "text/html": [
       "<div>\n",
       "<style scoped>\n",
       "    .dataframe tbody tr th:only-of-type {\n",
       "        vertical-align: middle;\n",
       "    }\n",
       "\n",
       "    .dataframe tbody tr th {\n",
       "        vertical-align: top;\n",
       "    }\n",
       "\n",
       "    .dataframe thead th {\n",
       "        text-align: right;\n",
       "    }\n",
       "</style>\n",
       "<table border=\"1\" class=\"dataframe\">\n",
       "  <thead>\n",
       "    <tr style=\"text-align: right;\">\n",
       "      <th></th>\n",
       "      <th>Uso Internet</th>\n",
       "      <th>Recuento</th>\n",
       "      <th>Porcentaje</th>\n",
       "    </tr>\n",
       "  </thead>\n",
       "  <tbody>\n",
       "    <tr>\n",
       "      <th>0</th>\n",
       "      <td>1.0</td>\n",
       "      <td>4,273,676</td>\n",
       "      <td>71.1</td>\n",
       "    </tr>\n",
       "    <tr>\n",
       "      <th>1</th>\n",
       "      <td>2.0</td>\n",
       "      <td>1,739,855</td>\n",
       "      <td>28.9</td>\n",
       "    </tr>\n",
       "    <tr>\n",
       "      <th>2</th>\n",
       "      <td>Total</td>\n",
       "      <td>6,013,532</td>\n",
       "      <td>100.0</td>\n",
       "    </tr>\n",
       "  </tbody>\n",
       "</table>\n",
       "</div>"
      ],
      "text/plain": [
       "  Uso Internet   Recuento Porcentaje\n",
       "0          1.0  4,273,676       71.1\n",
       "1          2.0  1,739,855       28.9\n",
       "2        Total  6,013,532      100.0"
      ]
     },
     "execution_count": 31,
     "metadata": {},
     "output_type": "execute_result"
    }
   ],
   "source": [
    "generar_tabla_recuento(base_filtrada, \"i_uso\", \"Uso Internet\",  True, True)  \n",
    "#En el mes anterior, ¿ Ud. hizo uso del Servicio de Internet? 1 Si 2 No"
   ]
  },
  {
   "cell_type": "markdown",
   "id": "78cf6817-9a6e-4e5f-8e73-221e528d8f83",
   "metadata": {},
   "source": [
    "### Uso de Internet en el hogar - Y"
   ]
  },
  {
   "cell_type": "code",
   "execution_count": 32,
   "id": "cb6f7410-e857-4a0f-a026-b13bbeb1737d",
   "metadata": {},
   "outputs": [],
   "source": [
    "#base_filtrada.i_uso_hog.value_counts()"
   ]
  },
  {
   "cell_type": "code",
   "execution_count": 33,
   "id": "85886290",
   "metadata": {},
   "outputs": [
    {
     "data": {
      "text/html": [
       "<div>\n",
       "<style scoped>\n",
       "    .dataframe tbody tr th:only-of-type {\n",
       "        vertical-align: middle;\n",
       "    }\n",
       "\n",
       "    .dataframe tbody tr th {\n",
       "        vertical-align: top;\n",
       "    }\n",
       "\n",
       "    .dataframe thead th {\n",
       "        text-align: right;\n",
       "    }\n",
       "</style>\n",
       "<table border=\"1\" class=\"dataframe\">\n",
       "  <thead>\n",
       "    <tr style=\"text-align: right;\">\n",
       "      <th></th>\n",
       "      <th>Uso de Internet en el hogar</th>\n",
       "      <th>Recuento</th>\n",
       "      <th>Porcentaje</th>\n",
       "    </tr>\n",
       "  </thead>\n",
       "  <tbody>\n",
       "    <tr>\n",
       "      <th>0</th>\n",
       "      <td>0.0</td>\n",
       "      <td>1,460,285</td>\n",
       "      <td>74.8</td>\n",
       "    </tr>\n",
       "    <tr>\n",
       "      <th>1</th>\n",
       "      <td>1.0</td>\n",
       "      <td>490,830</td>\n",
       "      <td>25.2</td>\n",
       "    </tr>\n",
       "    <tr>\n",
       "      <th>2</th>\n",
       "      <td>Total</td>\n",
       "      <td>1,951,115</td>\n",
       "      <td>100.0</td>\n",
       "    </tr>\n",
       "  </tbody>\n",
       "</table>\n",
       "</div>"
      ],
      "text/plain": [
       "  Uso de Internet en el hogar   Recuento Porcentaje\n",
       "0                         0.0  1,460,285       74.8\n",
       "1                         1.0    490,830       25.2\n",
       "2                       Total  1,951,115      100.0"
      ]
     },
     "execution_count": 33,
     "metadata": {},
     "output_type": "execute_result"
    }
   ],
   "source": [
    "generar_tabla_recuento(base_filtrada, \"i_uso_hog\", \"Uso de Internet en el hogar\",True, True)"
   ]
  },
  {
   "cell_type": "markdown",
   "id": "d3efadb0-2ef7-4aa5-9330-22a1cdfa1518",
   "metadata": {},
   "source": [
    "### Uso de Internet en el trabajo"
   ]
  },
  {
   "cell_type": "code",
   "execution_count": 34,
   "id": "59eb5158",
   "metadata": {},
   "outputs": [
    {
     "data": {
      "text/html": [
       "<div>\n",
       "<style scoped>\n",
       "    .dataframe tbody tr th:only-of-type {\n",
       "        vertical-align: middle;\n",
       "    }\n",
       "\n",
       "    .dataframe tbody tr th {\n",
       "        vertical-align: top;\n",
       "    }\n",
       "\n",
       "    .dataframe thead th {\n",
       "        text-align: right;\n",
       "    }\n",
       "</style>\n",
       "<table border=\"1\" class=\"dataframe\">\n",
       "  <thead>\n",
       "    <tr style=\"text-align: right;\">\n",
       "      <th></th>\n",
       "      <th>Uso de Internet en el trabajo</th>\n",
       "      <th>Recuento</th>\n",
       "      <th>Porcentaje</th>\n",
       "    </tr>\n",
       "  </thead>\n",
       "  <tbody>\n",
       "    <tr>\n",
       "      <th>0</th>\n",
       "      <td>0.0</td>\n",
       "      <td>1,948,208</td>\n",
       "      <td>99.8</td>\n",
       "    </tr>\n",
       "    <tr>\n",
       "      <th>1</th>\n",
       "      <td>2.0</td>\n",
       "      <td>2,907</td>\n",
       "      <td>0.2</td>\n",
       "    </tr>\n",
       "    <tr>\n",
       "      <th>2</th>\n",
       "      <td>Total</td>\n",
       "      <td>1,951,115</td>\n",
       "      <td>100.0</td>\n",
       "    </tr>\n",
       "  </tbody>\n",
       "</table>\n",
       "</div>"
      ],
      "text/plain": [
       "  Uso de Internet en el trabajo   Recuento Porcentaje\n",
       "0                           0.0  1,948,208       99.8\n",
       "1                           2.0      2,907        0.2\n",
       "2                         Total  1,951,115      100.0"
      ]
     },
     "execution_count": 34,
     "metadata": {},
     "output_type": "execute_result"
    }
   ],
   "source": [
    "generar_tabla_recuento(base_filtrada, \"i_uso_trab\", \"Uso de Internet en el trabajo\",True, True)"
   ]
  },
  {
   "cell_type": "markdown",
   "id": "fc4de12b-0e9e-4146-84fc-6e13ca637b3b",
   "metadata": {},
   "source": [
    "### Uso de internet en el establecimiento educativo"
   ]
  },
  {
   "cell_type": "code",
   "execution_count": 35,
   "id": "18038ec0",
   "metadata": {},
   "outputs": [
    {
     "data": {
      "text/html": [
       "<div>\n",
       "<style scoped>\n",
       "    .dataframe tbody tr th:only-of-type {\n",
       "        vertical-align: middle;\n",
       "    }\n",
       "\n",
       "    .dataframe tbody tr th {\n",
       "        vertical-align: top;\n",
       "    }\n",
       "\n",
       "    .dataframe thead th {\n",
       "        text-align: right;\n",
       "    }\n",
       "</style>\n",
       "<table border=\"1\" class=\"dataframe\">\n",
       "  <thead>\n",
       "    <tr style=\"text-align: right;\">\n",
       "      <th></th>\n",
       "      <th>Uso de Internet en el establecimiento educativo</th>\n",
       "      <th>Recuento</th>\n",
       "      <th>Porcentaje</th>\n",
       "    </tr>\n",
       "  </thead>\n",
       "  <tbody>\n",
       "    <tr>\n",
       "      <th>0</th>\n",
       "      <td>0.0</td>\n",
       "      <td>1,946,679</td>\n",
       "      <td>99.8</td>\n",
       "    </tr>\n",
       "    <tr>\n",
       "      <th>1</th>\n",
       "      <td>3.0</td>\n",
       "      <td>4,436</td>\n",
       "      <td>0.2</td>\n",
       "    </tr>\n",
       "    <tr>\n",
       "      <th>2</th>\n",
       "      <td>Total</td>\n",
       "      <td>1,951,115</td>\n",
       "      <td>100.0</td>\n",
       "    </tr>\n",
       "  </tbody>\n",
       "</table>\n",
       "</div>"
      ],
      "text/plain": [
       "  Uso de Internet en el establecimiento educativo   Recuento Porcentaje\n",
       "0                                             0.0  1,946,679       99.8\n",
       "1                                             3.0      4,436        0.2\n",
       "2                                           Total  1,951,115      100.0"
      ]
     },
     "execution_count": 35,
     "metadata": {},
     "output_type": "execute_result"
    }
   ],
   "source": [
    "generar_tabla_recuento(base_filtrada, \"i_uso_cedu\", \"Uso de Internet en el establecimiento educativo\",True, True)"
   ]
  },
  {
   "cell_type": "markdown",
   "id": "b30bbc4f-35ae-4475-9d9f-53c9ab8b0c9b",
   "metadata": {},
   "source": [
    "### Uso de internet en cabina publica"
   ]
  },
  {
   "cell_type": "code",
   "execution_count": 36,
   "id": "883986d2",
   "metadata": {},
   "outputs": [
    {
     "data": {
      "text/html": [
       "<div>\n",
       "<style scoped>\n",
       "    .dataframe tbody tr th:only-of-type {\n",
       "        vertical-align: middle;\n",
       "    }\n",
       "\n",
       "    .dataframe tbody tr th {\n",
       "        vertical-align: top;\n",
       "    }\n",
       "\n",
       "    .dataframe thead th {\n",
       "        text-align: right;\n",
       "    }\n",
       "</style>\n",
       "<table border=\"1\" class=\"dataframe\">\n",
       "  <thead>\n",
       "    <tr style=\"text-align: right;\">\n",
       "      <th></th>\n",
       "      <th>Cabina Publica</th>\n",
       "      <th>Recuento</th>\n",
       "      <th>Porcentaje</th>\n",
       "    </tr>\n",
       "  </thead>\n",
       "  <tbody>\n",
       "    <tr>\n",
       "      <th>0</th>\n",
       "      <td>0.0</td>\n",
       "      <td>1,893,321</td>\n",
       "      <td>97.0</td>\n",
       "    </tr>\n",
       "    <tr>\n",
       "      <th>1</th>\n",
       "      <td>4.0</td>\n",
       "      <td>57,794</td>\n",
       "      <td>3.0</td>\n",
       "    </tr>\n",
       "    <tr>\n",
       "      <th>2</th>\n",
       "      <td>Total</td>\n",
       "      <td>1,951,115</td>\n",
       "      <td>100.0</td>\n",
       "    </tr>\n",
       "  </tbody>\n",
       "</table>\n",
       "</div>"
      ],
      "text/plain": [
       "  Cabina Publica   Recuento Porcentaje\n",
       "0            0.0  1,893,321       97.0\n",
       "1            4.0     57,794        3.0\n",
       "2          Total  1,951,115      100.0"
      ]
     },
     "execution_count": 36,
     "metadata": {},
     "output_type": "execute_result"
    }
   ],
   "source": [
    "generar_tabla_recuento(base_filtrada, \"i_uso_cab\", \"Cabina Publica\",True, True)"
   ]
  },
  {
   "cell_type": "markdown",
   "id": "ce033f87-8daf-4e27-8bd2-8f8ffce36bbe",
   "metadata": {},
   "source": [
    "### Uso de internet en casa de otra persona"
   ]
  },
  {
   "cell_type": "code",
   "execution_count": 37,
   "id": "54979fa1",
   "metadata": {},
   "outputs": [
    {
     "data": {
      "text/html": [
       "<div>\n",
       "<style scoped>\n",
       "    .dataframe tbody tr th:only-of-type {\n",
       "        vertical-align: middle;\n",
       "    }\n",
       "\n",
       "    .dataframe tbody tr th {\n",
       "        vertical-align: top;\n",
       "    }\n",
       "\n",
       "    .dataframe thead th {\n",
       "        text-align: right;\n",
       "    }\n",
       "</style>\n",
       "<table border=\"1\" class=\"dataframe\">\n",
       "  <thead>\n",
       "    <tr style=\"text-align: right;\">\n",
       "      <th></th>\n",
       "      <th>Uso del internet en casa de otra persona</th>\n",
       "      <th>Recuento</th>\n",
       "      <th>Porcentaje</th>\n",
       "    </tr>\n",
       "  </thead>\n",
       "  <tbody>\n",
       "    <tr>\n",
       "      <th>0</th>\n",
       "      <td>0.0</td>\n",
       "      <td>1,910,360</td>\n",
       "      <td>97.9</td>\n",
       "    </tr>\n",
       "    <tr>\n",
       "      <th>1</th>\n",
       "      <td>5.0</td>\n",
       "      <td>40,755</td>\n",
       "      <td>2.1</td>\n",
       "    </tr>\n",
       "    <tr>\n",
       "      <th>2</th>\n",
       "      <td>Total</td>\n",
       "      <td>1,951,115</td>\n",
       "      <td>100.0</td>\n",
       "    </tr>\n",
       "  </tbody>\n",
       "</table>\n",
       "</div>"
      ],
      "text/plain": [
       "  Uso del internet en casa de otra persona   Recuento Porcentaje\n",
       "0                                      0.0  1,910,360       97.9\n",
       "1                                      5.0     40,755        2.1\n",
       "2                                    Total  1,951,115      100.0"
      ]
     },
     "execution_count": 37,
     "metadata": {},
     "output_type": "execute_result"
    }
   ],
   "source": [
    "generar_tabla_recuento(base_filtrada, \"i_uso_casotr\", \"Uso del internet en casa de otra persona\",True, True)"
   ]
  },
  {
   "cell_type": "markdown",
   "id": "9ca0d7a7-9294-4411-ac12-019ff15309fc",
   "metadata": {
    "tags": []
   },
   "source": [
    "### Uso de internet - Otro"
   ]
  },
  {
   "cell_type": "code",
   "execution_count": 38,
   "id": "4af43274",
   "metadata": {},
   "outputs": [
    {
     "data": {
      "text/html": [
       "<div>\n",
       "<style scoped>\n",
       "    .dataframe tbody tr th:only-of-type {\n",
       "        vertical-align: middle;\n",
       "    }\n",
       "\n",
       "    .dataframe tbody tr th {\n",
       "        vertical-align: top;\n",
       "    }\n",
       "\n",
       "    .dataframe thead th {\n",
       "        text-align: right;\n",
       "    }\n",
       "</style>\n",
       "<table border=\"1\" class=\"dataframe\">\n",
       "  <thead>\n",
       "    <tr style=\"text-align: right;\">\n",
       "      <th></th>\n",
       "      <th>Otro</th>\n",
       "      <th>Recuento</th>\n",
       "      <th>Porcentaje</th>\n",
       "    </tr>\n",
       "  </thead>\n",
       "  <tbody>\n",
       "    <tr>\n",
       "      <th>0</th>\n",
       "      <td>0.0</td>\n",
       "      <td>1,929,060</td>\n",
       "      <td>98.9</td>\n",
       "    </tr>\n",
       "    <tr>\n",
       "      <th>1</th>\n",
       "      <td>6.0</td>\n",
       "      <td>22,055</td>\n",
       "      <td>1.1</td>\n",
       "    </tr>\n",
       "    <tr>\n",
       "      <th>2</th>\n",
       "      <td>Total</td>\n",
       "      <td>1,951,115</td>\n",
       "      <td>100.0</td>\n",
       "    </tr>\n",
       "  </tbody>\n",
       "</table>\n",
       "</div>"
      ],
      "text/plain": [
       "    Otro   Recuento Porcentaje\n",
       "0    0.0  1,929,060       98.9\n",
       "1    6.0     22,055        1.1\n",
       "2  Total  1,951,115      100.0"
      ]
     },
     "execution_count": 38,
     "metadata": {},
     "output_type": "execute_result"
    }
   ],
   "source": [
    "generar_tabla_recuento(base_filtrada, \"i_uso_otro\", \"Otro\",True, True)"
   ]
  },
  {
   "cell_type": "markdown",
   "id": "b6693f16-229b-4ffd-99da-7f64854e3d0d",
   "metadata": {
    "tags": []
   },
   "source": [
    "### Acceso movil"
   ]
  },
  {
   "cell_type": "code",
   "execution_count": 39,
   "id": "6f004976",
   "metadata": {},
   "outputs": [
    {
     "data": {
      "text/html": [
       "<div>\n",
       "<style scoped>\n",
       "    .dataframe tbody tr th:only-of-type {\n",
       "        vertical-align: middle;\n",
       "    }\n",
       "\n",
       "    .dataframe tbody tr th {\n",
       "        vertical-align: top;\n",
       "    }\n",
       "\n",
       "    .dataframe thead th {\n",
       "        text-align: right;\n",
       "    }\n",
       "</style>\n",
       "<table border=\"1\" class=\"dataframe\">\n",
       "  <thead>\n",
       "    <tr style=\"text-align: right;\">\n",
       "      <th></th>\n",
       "      <th>Uso del internet en Acceso movil de Internet</th>\n",
       "      <th>Recuento</th>\n",
       "      <th>Porcentaje</th>\n",
       "    </tr>\n",
       "  </thead>\n",
       "  <tbody>\n",
       "    <tr>\n",
       "      <th>0</th>\n",
       "      <td>0.0</td>\n",
       "      <td>263,601</td>\n",
       "      <td>13.5</td>\n",
       "    </tr>\n",
       "    <tr>\n",
       "      <th>1</th>\n",
       "      <td>7.0</td>\n",
       "      <td>1,687,514</td>\n",
       "      <td>86.5</td>\n",
       "    </tr>\n",
       "    <tr>\n",
       "      <th>2</th>\n",
       "      <td>Total</td>\n",
       "      <td>1,951,115</td>\n",
       "      <td>100.0</td>\n",
       "    </tr>\n",
       "  </tbody>\n",
       "</table>\n",
       "</div>"
      ],
      "text/plain": [
       "  Uso del internet en Acceso movil de Internet   Recuento Porcentaje\n",
       "0                                          0.0    263,601       13.5\n",
       "1                                          7.0  1,687,514       86.5\n",
       "2                                        Total  1,951,115      100.0"
      ]
     },
     "execution_count": 39,
     "metadata": {},
     "output_type": "execute_result"
    }
   ],
   "source": [
    "generar_tabla_recuento(base_filtrada, \"i_uso_movil\", \"Uso del internet en Acceso movil de Internet\", True, True)"
   ]
  },
  {
   "cell_type": "markdown",
   "id": "f3203485-a403-4dac-8d68-d13cb5c69720",
   "metadata": {},
   "source": [
    "## otros"
   ]
  },
  {
   "cell_type": "code",
   "execution_count": 40,
   "id": "ec77fc6e-8750-42f9-b15a-c5d13fd89f66",
   "metadata": {},
   "outputs": [
    {
     "data": {
      "text/plain": [
       "1.0    15149\n",
       "2.0     7849\n",
       "Name: i_uso, dtype: int64"
      ]
     },
     "execution_count": 40,
     "metadata": {},
     "output_type": "execute_result"
    }
   ],
   "source": [
    "base_filtrada.i_uso.value_counts()"
   ]
  },
  {
   "cell_type": "code",
   "execution_count": 41,
   "id": "f97ada8c-e17f-40f2-949c-1df701d6f768",
   "metadata": {},
   "outputs": [
    {
     "name": "stdout",
     "output_type": "stream",
     "text": [
      "Valores faltantes en 'i_uso': 3901\n"
     ]
    }
   ],
   "source": [
    "missing_values = base_filtrada['i_uso'].isna().sum()\n",
    "print(f\"Valores faltantes en 'i_uso': {missing_values}\")\n"
   ]
  },
  {
   "cell_type": "code",
   "execution_count": 42,
   "id": "c6d35c7f-e760-43d1-96fe-1e52132c971c",
   "metadata": {},
   "outputs": [],
   "source": [
    "# Supongamos que 2 es la categoría que deseas asignar a los valores faltantes\n",
    "#base_filtrada['i_uso'] = base_filtrada['i_uso'].fillna(2)"
   ]
  },
  {
   "cell_type": "code",
   "execution_count": 43,
   "id": "2aeef76e-8ae7-482a-adad-32aaba32b5aa",
   "metadata": {},
   "outputs": [
    {
     "data": {
      "text/html": [
       "<div>\n",
       "<style scoped>\n",
       "    .dataframe tbody tr th:only-of-type {\n",
       "        vertical-align: middle;\n",
       "    }\n",
       "\n",
       "    .dataframe tbody tr th {\n",
       "        vertical-align: top;\n",
       "    }\n",
       "\n",
       "    .dataframe thead th {\n",
       "        text-align: right;\n",
       "    }\n",
       "</style>\n",
       "<table border=\"1\" class=\"dataframe\">\n",
       "  <thead>\n",
       "    <tr style=\"text-align: right;\">\n",
       "      <th></th>\n",
       "      <th>Uso internet</th>\n",
       "      <th>Recuento</th>\n",
       "      <th>Porcentaje</th>\n",
       "    </tr>\n",
       "  </thead>\n",
       "  <tbody>\n",
       "    <tr>\n",
       "      <th>0</th>\n",
       "      <td>1.0</td>\n",
       "      <td>4,273,676</td>\n",
       "      <td>71.1</td>\n",
       "    </tr>\n",
       "    <tr>\n",
       "      <th>1</th>\n",
       "      <td>2.0</td>\n",
       "      <td>1,739,855</td>\n",
       "      <td>28.9</td>\n",
       "    </tr>\n",
       "    <tr>\n",
       "      <th>2</th>\n",
       "      <td>Total</td>\n",
       "      <td>6,013,532</td>\n",
       "      <td>100.0</td>\n",
       "    </tr>\n",
       "  </tbody>\n",
       "</table>\n",
       "</div>"
      ],
      "text/plain": [
       "  Uso internet   Recuento Porcentaje\n",
       "0          1.0  4,273,676       71.1\n",
       "1          2.0  1,739,855       28.9\n",
       "2        Total  6,013,532      100.0"
      ]
     },
     "execution_count": 43,
     "metadata": {},
     "output_type": "execute_result"
    }
   ],
   "source": [
    "generar_tabla_recuento(base_filtrada, \"i_uso\", \"Uso internet\",True, True)"
   ]
  },
  {
   "cell_type": "code",
   "execution_count": 44,
   "id": "0913017f-a01e-4c34-99f2-d79efc5eeb7e",
   "metadata": {},
   "outputs": [
    {
     "data": {
      "text/html": [
       "<div>\n",
       "<style scoped>\n",
       "    .dataframe tbody tr th:only-of-type {\n",
       "        vertical-align: middle;\n",
       "    }\n",
       "\n",
       "    .dataframe tbody tr th {\n",
       "        vertical-align: top;\n",
       "    }\n",
       "\n",
       "    .dataframe thead th {\n",
       "        text-align: right;\n",
       "    }\n",
       "</style>\n",
       "<table border=\"1\" class=\"dataframe\">\n",
       "  <thead>\n",
       "    <tr style=\"text-align: right;\">\n",
       "      <th></th>\n",
       "      <th>Conexión a Internet</th>\n",
       "      <th>Recuento</th>\n",
       "      <th>Porcentaje</th>\n",
       "    </tr>\n",
       "  </thead>\n",
       "  <tbody>\n",
       "    <tr>\n",
       "      <th>0</th>\n",
       "      <td>0.0</td>\n",
       "      <td>4,351,953</td>\n",
       "      <td>61.7</td>\n",
       "    </tr>\n",
       "    <tr>\n",
       "      <th>1</th>\n",
       "      <td>1.0</td>\n",
       "      <td>2,703,032</td>\n",
       "      <td>38.3</td>\n",
       "    </tr>\n",
       "    <tr>\n",
       "      <th>2</th>\n",
       "      <td>Total</td>\n",
       "      <td>7,054,985</td>\n",
       "      <td>100.0</td>\n",
       "    </tr>\n",
       "  </tbody>\n",
       "</table>\n",
       "</div>"
      ],
      "text/plain": [
       "  Conexión a Internet   Recuento Porcentaje\n",
       "0                 0.0  4,351,953       61.7\n",
       "1                 1.0  2,703,032       38.3\n",
       "2               Total  7,054,985      100.0"
      ]
     },
     "execution_count": 44,
     "metadata": {},
     "output_type": "execute_result"
    }
   ],
   "source": [
    "generar_tabla_recuento(base_filtrada, \"p1144\", \"Conexión a Internet\",True, True) #u hogar tiene : ¿ Conexión a Internet? 1 Conexión a Internet"
   ]
  },
  {
   "attachments": {
    "fdd5ec1b-a491-4d39-bbed-70699fb3ed25.png": {
     "image/png": "[encoded data removed]"
    }
   },
   "cell_type": "markdown",
   "id": "f830c2de-f804-42c3-b9d7-2a7321d19322",
   "metadata": {},
   "source": [
    "![image.png](attachment:fdd5ec1b-a491-4d39-bbed-70699fb3ed25.png)"
   ]
  },
  {
   "cell_type": "code",
   "execution_count": 45,
   "id": "754603af-fa92-43c9-8824-93147b55c196",
   "metadata": {},
   "outputs": [
    {
     "data": {
      "text/html": [
       "<div>\n",
       "<style scoped>\n",
       "    .dataframe tbody tr th:only-of-type {\n",
       "        vertical-align: middle;\n",
       "    }\n",
       "\n",
       "    .dataframe tbody tr th {\n",
       "        vertical-align: top;\n",
       "    }\n",
       "\n",
       "    .dataframe thead th {\n",
       "        text-align: right;\n",
       "    }\n",
       "</style>\n",
       "<table border=\"1\" class=\"dataframe\">\n",
       "  <thead>\n",
       "    <tr style=\"text-align: right;\">\n",
       "      <th></th>\n",
       "      <th>Ud., usa Internet al menos:</th>\n",
       "      <th>Recuento</th>\n",
       "      <th>Porcentaje</th>\n",
       "    </tr>\n",
       "  </thead>\n",
       "  <tbody>\n",
       "    <tr>\n",
       "      <th>0</th>\n",
       "      <td>1.0</td>\n",
       "      <td>1,692,360</td>\n",
       "      <td>86.7</td>\n",
       "    </tr>\n",
       "    <tr>\n",
       "      <th>1</th>\n",
       "      <td>2.0</td>\n",
       "      <td>248,146</td>\n",
       "      <td>12.7</td>\n",
       "    </tr>\n",
       "    <tr>\n",
       "      <th>2</th>\n",
       "      <td>3.0</td>\n",
       "      <td>9,755</td>\n",
       "      <td>0.5</td>\n",
       "    </tr>\n",
       "    <tr>\n",
       "      <th>3</th>\n",
       "      <td>4.0</td>\n",
       "      <td>854</td>\n",
       "      <td>0.0</td>\n",
       "    </tr>\n",
       "    <tr>\n",
       "      <th>4</th>\n",
       "      <td>Total</td>\n",
       "      <td>1,951,115</td>\n",
       "      <td>100.0</td>\n",
       "    </tr>\n",
       "  </tbody>\n",
       "</table>\n",
       "</div>"
      ],
      "text/plain": [
       "  Ud., usa Internet al menos:   Recuento Porcentaje\n",
       "0                         1.0  1,692,360       86.7\n",
       "1                         2.0    248,146       12.7\n",
       "2                         3.0      9,755        0.5\n",
       "3                         4.0        854        0.0\n",
       "4                       Total  1,951,115      100.0"
      ]
     },
     "execution_count": 45,
     "metadata": {},
     "output_type": "execute_result"
    }
   ],
   "source": [
    "generar_tabla_recuento(base_filtrada, \"p314d\", \"Ud., usa Internet al menos:\",True, True) #¿Ud., usa Internet al menos: 1 Una vez al dia?\n",
    "# 2 Una vez a la semana? 3 Una vez al mes? 4 Cada 2 meses o más?"
   ]
  },
  {
   "cell_type": "code",
   "execution_count": 46,
   "id": "518ca9f2-45b3-490c-a522-aab3448fa1ab",
   "metadata": {},
   "outputs": [
    {
     "data": {
      "text/html": [
       "<div>\n",
       "<style scoped>\n",
       "    .dataframe tbody tr th:only-of-type {\n",
       "        vertical-align: middle;\n",
       "    }\n",
       "\n",
       "    .dataframe tbody tr th {\n",
       "        vertical-align: top;\n",
       "    }\n",
       "\n",
       "    .dataframe thead th {\n",
       "        text-align: right;\n",
       "    }\n",
       "</style>\n",
       "<table border=\"1\" class=\"dataframe\">\n",
       "  <thead>\n",
       "    <tr style=\"text-align: right;\">\n",
       "      <th></th>\n",
       "      <th>Monto de pago</th>\n",
       "      <th>Recuento</th>\n",
       "      <th>Porcentaje</th>\n",
       "    </tr>\n",
       "  </thead>\n",
       "  <tbody>\n",
       "    <tr>\n",
       "      <th>0</th>\n",
       "      <td>1.0</td>\n",
       "      <td>2,497</td>\n",
       "      <td>4.5</td>\n",
       "    </tr>\n",
       "    <tr>\n",
       "      <th>1</th>\n",
       "      <td>2.0</td>\n",
       "      <td>8,891</td>\n",
       "      <td>15.9</td>\n",
       "    </tr>\n",
       "    <tr>\n",
       "      <th>2</th>\n",
       "      <td>3.0</td>\n",
       "      <td>2,948</td>\n",
       "      <td>5.3</td>\n",
       "    </tr>\n",
       "    <tr>\n",
       "      <th>3</th>\n",
       "      <td>4.0</td>\n",
       "      <td>4,862</td>\n",
       "      <td>8.7</td>\n",
       "    </tr>\n",
       "    <tr>\n",
       "      <th>4</th>\n",
       "      <td>5.0</td>\n",
       "      <td>13,277</td>\n",
       "      <td>23.8</td>\n",
       "    </tr>\n",
       "    <tr>\n",
       "      <th>5</th>\n",
       "      <td>6.0</td>\n",
       "      <td>774</td>\n",
       "      <td>1.4</td>\n",
       "    </tr>\n",
       "    <tr>\n",
       "      <th>6</th>\n",
       "      <td>7.0</td>\n",
       "      <td>676</td>\n",
       "      <td>1.2</td>\n",
       "    </tr>\n",
       "    <tr>\n",
       "      <th>7</th>\n",
       "      <td>8.0</td>\n",
       "      <td>1,690</td>\n",
       "      <td>3.0</td>\n",
       "    </tr>\n",
       "    <tr>\n",
       "      <th>8</th>\n",
       "      <td>9.0</td>\n",
       "      <td>209</td>\n",
       "      <td>0.4</td>\n",
       "    </tr>\n",
       "    <tr>\n",
       "      <th>9</th>\n",
       "      <td>10.0</td>\n",
       "      <td>10,352</td>\n",
       "      <td>18.5</td>\n",
       "    </tr>\n",
       "    <tr>\n",
       "      <th>10</th>\n",
       "      <td>11.0</td>\n",
       "      <td>133</td>\n",
       "      <td>0.2</td>\n",
       "    </tr>\n",
       "    <tr>\n",
       "      <th>11</th>\n",
       "      <td>12.0</td>\n",
       "      <td>1,886</td>\n",
       "      <td>3.4</td>\n",
       "    </tr>\n",
       "    <tr>\n",
       "      <th>12</th>\n",
       "      <td>13.0</td>\n",
       "      <td>26</td>\n",
       "      <td>0.1</td>\n",
       "    </tr>\n",
       "    <tr>\n",
       "      <th>13</th>\n",
       "      <td>15.0</td>\n",
       "      <td>2,160</td>\n",
       "      <td>3.9</td>\n",
       "    </tr>\n",
       "    <tr>\n",
       "      <th>14</th>\n",
       "      <td>16.0</td>\n",
       "      <td>124</td>\n",
       "      <td>0.2</td>\n",
       "    </tr>\n",
       "    <tr>\n",
       "      <th>15</th>\n",
       "      <td>17.0</td>\n",
       "      <td>1,033</td>\n",
       "      <td>1.9</td>\n",
       "    </tr>\n",
       "    <tr>\n",
       "      <th>16</th>\n",
       "      <td>20.0</td>\n",
       "      <td>1,207</td>\n",
       "      <td>2.2</td>\n",
       "    </tr>\n",
       "    <tr>\n",
       "      <th>17</th>\n",
       "      <td>21.0</td>\n",
       "      <td>525</td>\n",
       "      <td>0.9</td>\n",
       "    </tr>\n",
       "    <tr>\n",
       "      <th>18</th>\n",
       "      <td>25.0</td>\n",
       "      <td>153</td>\n",
       "      <td>0.3</td>\n",
       "    </tr>\n",
       "    <tr>\n",
       "      <th>19</th>\n",
       "      <td>30.0</td>\n",
       "      <td>1,463</td>\n",
       "      <td>2.6</td>\n",
       "    </tr>\n",
       "    <tr>\n",
       "      <th>20</th>\n",
       "      <td>32.0</td>\n",
       "      <td>267</td>\n",
       "      <td>0.5</td>\n",
       "    </tr>\n",
       "    <tr>\n",
       "      <th>21</th>\n",
       "      <td>39.0</td>\n",
       "      <td>26</td>\n",
       "      <td>0.1</td>\n",
       "    </tr>\n",
       "    <tr>\n",
       "      <th>22</th>\n",
       "      <td>40.0</td>\n",
       "      <td>497</td>\n",
       "      <td>0.9</td>\n",
       "    </tr>\n",
       "    <tr>\n",
       "      <th>23</th>\n",
       "      <td>54.0</td>\n",
       "      <td>26</td>\n",
       "      <td>0.1</td>\n",
       "    </tr>\n",
       "    <tr>\n",
       "      <th>24</th>\n",
       "      <td>108.0</td>\n",
       "      <td>93</td>\n",
       "      <td>0.2</td>\n",
       "    </tr>\n",
       "    <tr>\n",
       "      <th>25</th>\n",
       "      <td>Total</td>\n",
       "      <td>55,795</td>\n",
       "      <td>100.0</td>\n",
       "    </tr>\n",
       "  </tbody>\n",
       "</table>\n",
       "</div>"
      ],
      "text/plain": [
       "   Monto de pago Recuento Porcentaje\n",
       "0            1.0    2,497        4.5\n",
       "1            2.0    8,891       15.9\n",
       "2            3.0    2,948        5.3\n",
       "3            4.0    4,862        8.7\n",
       "4            5.0   13,277       23.8\n",
       "5            6.0      774        1.4\n",
       "6            7.0      676        1.2\n",
       "7            8.0    1,690        3.0\n",
       "8            9.0      209        0.4\n",
       "9           10.0   10,352       18.5\n",
       "10          11.0      133        0.2\n",
       "11          12.0    1,886        3.4\n",
       "12          13.0       26        0.1\n",
       "13          15.0    2,160        3.9\n",
       "14          16.0      124        0.2\n",
       "15          17.0    1,033        1.9\n",
       "16          20.0    1,207        2.2\n",
       "17          21.0      525        0.9\n",
       "18          25.0      153        0.3\n",
       "19          30.0    1,463        2.6\n",
       "20          32.0      267        0.5\n",
       "21          39.0       26        0.1\n",
       "22          40.0      497        0.9\n",
       "23          54.0       26        0.1\n",
       "24         108.0       93        0.2\n",
       "25         Total   55,795      100.0"
      ]
     },
     "execution_count": 46,
     "metadata": {},
     "output_type": "execute_result"
    }
   ],
   "source": [
    "generar_tabla_recuento(base_filtrada, \"p315a\", \"Monto de pago\",True, True) #¿Ud., usa Internet al menos: 1 Una vez al dia?\n",
    "# 2 Una vez a la semana? 3 Una vez al mes? 4 Cada 2 meses o más?"
   ]
  },
  {
   "cell_type": "code",
   "execution_count": 47,
   "id": "f190e79f-173c-4ead-a1aa-92a38a8b1ed6",
   "metadata": {},
   "outputs": [
    {
     "data": {
      "text/html": [
       "<div>\n",
       "<style scoped>\n",
       "    .dataframe tbody tr th:only-of-type {\n",
       "        vertical-align: middle;\n",
       "    }\n",
       "\n",
       "    .dataframe tbody tr th {\n",
       "        vertical-align: top;\n",
       "    }\n",
       "\n",
       "    .dataframe thead th {\n",
       "        text-align: right;\n",
       "    }\n",
       "</style>\n",
       "<table border=\"1\" class=\"dataframe\">\n",
       "  <thead>\n",
       "    <tr style=\"text-align: right;\">\n",
       "      <th></th>\n",
       "      <th>Monto pago 2</th>\n",
       "      <th>Recuento</th>\n",
       "      <th>Porcentaje</th>\n",
       "    </tr>\n",
       "  </thead>\n",
       "  <tbody>\n",
       "    <tr>\n",
       "      <th>0</th>\n",
       "      <td>1.0</td>\n",
       "      <td>782</td>\n",
       "      <td>39.5</td>\n",
       "    </tr>\n",
       "    <tr>\n",
       "      <th>1</th>\n",
       "      <td>3.0</td>\n",
       "      <td>396</td>\n",
       "      <td>20.0</td>\n",
       "    </tr>\n",
       "    <tr>\n",
       "      <th>2</th>\n",
       "      <td>17.0</td>\n",
       "      <td>79</td>\n",
       "      <td>4.0</td>\n",
       "    </tr>\n",
       "    <tr>\n",
       "      <th>3</th>\n",
       "      <td>20.0</td>\n",
       "      <td>481</td>\n",
       "      <td>24.3</td>\n",
       "    </tr>\n",
       "    <tr>\n",
       "      <th>4</th>\n",
       "      <td>30.0</td>\n",
       "      <td>244</td>\n",
       "      <td>12.3</td>\n",
       "    </tr>\n",
       "    <tr>\n",
       "      <th>5</th>\n",
       "      <td>Total</td>\n",
       "      <td>1,983</td>\n",
       "      <td>100.0</td>\n",
       "    </tr>\n",
       "  </tbody>\n",
       "</table>\n",
       "</div>"
      ],
      "text/plain": [
       "  Monto pago 2 Recuento Porcentaje\n",
       "0          1.0      782       39.5\n",
       "1          3.0      396       20.0\n",
       "2         17.0       79        4.0\n",
       "3         20.0      481       24.3\n",
       "4         30.0      244       12.3\n",
       "5        Total    1,983      100.0"
      ]
     },
     "execution_count": 47,
     "metadata": {},
     "output_type": "execute_result"
    }
   ],
   "source": [
    "generar_tabla_recuento(base_filtrada, \"p315b\", \"Monto pago 2\",True, True) #¿Ud., usa Internet al menos: 1 Una vez al dia?\n",
    "# 2 Una vez a la semana? 3 Una vez al mes? 4 Cada 2 meses o más?"
   ]
  },
  {
   "cell_type": "markdown",
   "id": "9274011a-a082-4c86-b146-8d50c799e2a7",
   "metadata": {},
   "source": [
    "## Dimensión de ACCESO"
   ]
  },
  {
   "cell_type": "markdown",
   "id": "39a69473-0b8e-4a41-8313-6e32380bfd1d",
   "metadata": {
    "tags": []
   },
   "source": [
    "### Acceso - Laptop"
   ]
  },
  {
   "cell_type": "code",
   "execution_count": 49,
   "id": "fe27d696",
   "metadata": {},
   "outputs": [
    {
     "data": {
      "text/html": [
       "<div>\n",
       "<style scoped>\n",
       "    .dataframe tbody tr th:only-of-type {\n",
       "        vertical-align: middle;\n",
       "    }\n",
       "\n",
       "    .dataframe tbody tr th {\n",
       "        vertical-align: top;\n",
       "    }\n",
       "\n",
       "    .dataframe thead th {\n",
       "        text-align: right;\n",
       "    }\n",
       "</style>\n",
       "<table border=\"1\" class=\"dataframe\">\n",
       "  <thead>\n",
       "    <tr style=\"text-align: right;\">\n",
       "      <th></th>\n",
       "      <th>Uso del internet a traves de una LAPTOP</th>\n",
       "      <th>Recuento</th>\n",
       "      <th>Porcentaje</th>\n",
       "    </tr>\n",
       "  </thead>\n",
       "  <tbody>\n",
       "    <tr>\n",
       "      <th>0</th>\n",
       "      <td>0.0</td>\n",
       "      <td>3,880,969</td>\n",
       "      <td>90.8</td>\n",
       "    </tr>\n",
       "    <tr>\n",
       "      <th>1</th>\n",
       "      <td>2.0</td>\n",
       "      <td>392,707</td>\n",
       "      <td>9.2</td>\n",
       "    </tr>\n",
       "    <tr>\n",
       "      <th>2</th>\n",
       "      <td>Total</td>\n",
       "      <td>4,273,677</td>\n",
       "      <td>100.0</td>\n",
       "    </tr>\n",
       "  </tbody>\n",
       "</table>\n",
       "</div>"
      ],
      "text/plain": [
       "  Uso del internet a traves de una LAPTOP   Recuento Porcentaje\n",
       "0                                     0.0  3,880,969       90.8\n",
       "1                                     2.0    392,707        9.2\n",
       "2                                   Total  4,273,677      100.0"
      ]
     },
     "execution_count": 49,
     "metadata": {},
     "output_type": "execute_result"
    }
   ],
   "source": [
    "generar_tabla_recuento(base_filtrada, \"i_laptop\", \"Uso del internet a traves de una LAPTOP\", True, True)"
   ]
  },
  {
   "cell_type": "markdown",
   "id": "9f9e6ca0-d7c6-498c-b16d-bee0769c10da",
   "metadata": {
    "tags": []
   },
   "source": [
    "### Acceso - Computadora"
   ]
  },
  {
   "cell_type": "code",
   "execution_count": 48,
   "id": "8216bfea",
   "metadata": {},
   "outputs": [
    {
     "data": {
      "text/html": [
       "<div>\n",
       "<style scoped>\n",
       "    .dataframe tbody tr th:only-of-type {\n",
       "        vertical-align: middle;\n",
       "    }\n",
       "\n",
       "    .dataframe tbody tr th {\n",
       "        vertical-align: top;\n",
       "    }\n",
       "\n",
       "    .dataframe thead th {\n",
       "        text-align: right;\n",
       "    }\n",
       "</style>\n",
       "<table border=\"1\" class=\"dataframe\">\n",
       "  <thead>\n",
       "    <tr style=\"text-align: right;\">\n",
       "      <th></th>\n",
       "      <th>Uso del internet a traves de una computadora</th>\n",
       "      <th>Recuento</th>\n",
       "      <th>Porcentaje</th>\n",
       "    </tr>\n",
       "  </thead>\n",
       "  <tbody>\n",
       "    <tr>\n",
       "      <th>0</th>\n",
       "      <td>0.0</td>\n",
       "      <td>3,692,865</td>\n",
       "      <td>86.4</td>\n",
       "    </tr>\n",
       "    <tr>\n",
       "      <th>1</th>\n",
       "      <td>1.0</td>\n",
       "      <td>580,812</td>\n",
       "      <td>13.6</td>\n",
       "    </tr>\n",
       "    <tr>\n",
       "      <th>2</th>\n",
       "      <td>Total</td>\n",
       "      <td>4,273,677</td>\n",
       "      <td>100.0</td>\n",
       "    </tr>\n",
       "  </tbody>\n",
       "</table>\n",
       "</div>"
      ],
      "text/plain": [
       "  Uso del internet a traves de una computadora   Recuento Porcentaje\n",
       "0                                          0.0  3,692,865       86.4\n",
       "1                                          1.0    580,812       13.6\n",
       "2                                        Total  4,273,677      100.0"
      ]
     },
     "execution_count": 48,
     "metadata": {},
     "output_type": "execute_result"
    }
   ],
   "source": [
    "generar_tabla_recuento(base_filtrada, \"i_computadora\", \"Uso del internet a traves de una computadora\",True, True)"
   ]
  },
  {
   "cell_type": "markdown",
   "id": "96091371-137f-42e5-a492-fa02cde7a906",
   "metadata": {
    "tags": []
   },
   "source": [
    "### Acceso - Tablet"
   ]
  },
  {
   "cell_type": "code",
   "execution_count": 50,
   "id": "f0f51377",
   "metadata": {},
   "outputs": [
    {
     "data": {
      "text/html": [
       "<div>\n",
       "<style scoped>\n",
       "    .dataframe tbody tr th:only-of-type {\n",
       "        vertical-align: middle;\n",
       "    }\n",
       "\n",
       "    .dataframe tbody tr th {\n",
       "        vertical-align: top;\n",
       "    }\n",
       "\n",
       "    .dataframe thead th {\n",
       "        text-align: right;\n",
       "    }\n",
       "</style>\n",
       "<table border=\"1\" class=\"dataframe\">\n",
       "  <thead>\n",
       "    <tr style=\"text-align: right;\">\n",
       "      <th></th>\n",
       "      <th>Uso del internet a traves de una TABLET</th>\n",
       "      <th>Recuento</th>\n",
       "      <th>Porcentaje</th>\n",
       "    </tr>\n",
       "  </thead>\n",
       "  <tbody>\n",
       "    <tr>\n",
       "      <th>0</th>\n",
       "      <td>0.0</td>\n",
       "      <td>4,174,996</td>\n",
       "      <td>97.7</td>\n",
       "    </tr>\n",
       "    <tr>\n",
       "      <th>1</th>\n",
       "      <td>6.0</td>\n",
       "      <td>98,680</td>\n",
       "      <td>2.3</td>\n",
       "    </tr>\n",
       "    <tr>\n",
       "      <th>2</th>\n",
       "      <td>Total</td>\n",
       "      <td>4,273,677</td>\n",
       "      <td>100.0</td>\n",
       "    </tr>\n",
       "  </tbody>\n",
       "</table>\n",
       "</div>"
      ],
      "text/plain": [
       "  Uso del internet a traves de una TABLET   Recuento Porcentaje\n",
       "0                                     0.0  4,174,996       97.7\n",
       "1                                     6.0     98,680        2.3\n",
       "2                                   Total  4,273,677      100.0"
      ]
     },
     "execution_count": 50,
     "metadata": {},
     "output_type": "execute_result"
    }
   ],
   "source": [
    "generar_tabla_recuento(base_filtrada, \"i_tablet\", \"Uso del internet a traves de una TABLET\",True, True)"
   ]
  },
  {
   "cell_type": "markdown",
   "id": "e13514d4-75ca-47a0-bd0f-feb52b5cb4cf",
   "metadata": {},
   "source": [
    "### Acceso - Otro"
   ]
  },
  {
   "cell_type": "code",
   "execution_count": 51,
   "id": "a59ff54b",
   "metadata": {},
   "outputs": [
    {
     "data": {
      "text/html": [
       "<div>\n",
       "<style scoped>\n",
       "    .dataframe tbody tr th:only-of-type {\n",
       "        vertical-align: middle;\n",
       "    }\n",
       "\n",
       "    .dataframe tbody tr th {\n",
       "        vertical-align: top;\n",
       "    }\n",
       "\n",
       "    .dataframe thead th {\n",
       "        text-align: right;\n",
       "    }\n",
       "</style>\n",
       "<table border=\"1\" class=\"dataframe\">\n",
       "  <thead>\n",
       "    <tr style=\"text-align: right;\">\n",
       "      <th></th>\n",
       "      <th>Uso del internet a traves de una OTRO</th>\n",
       "      <th>Recuento</th>\n",
       "      <th>Porcentaje</th>\n",
       "    </tr>\n",
       "  </thead>\n",
       "  <tbody>\n",
       "    <tr>\n",
       "      <th>0</th>\n",
       "      <td>0.0</td>\n",
       "      <td>3,447,206</td>\n",
       "      <td>80.7</td>\n",
       "    </tr>\n",
       "    <tr>\n",
       "      <th>1</th>\n",
       "      <td>7.0</td>\n",
       "      <td>826,470</td>\n",
       "      <td>19.3</td>\n",
       "    </tr>\n",
       "    <tr>\n",
       "      <th>2</th>\n",
       "      <td>Total</td>\n",
       "      <td>4,273,676</td>\n",
       "      <td>100.0</td>\n",
       "    </tr>\n",
       "  </tbody>\n",
       "</table>\n",
       "</div>"
      ],
      "text/plain": [
       "  Uso del internet a traves de una OTRO   Recuento Porcentaje\n",
       "0                                   0.0  3,447,206       80.7\n",
       "1                                   7.0    826,470       19.3\n",
       "2                                 Total  4,273,676      100.0"
      ]
     },
     "execution_count": 51,
     "metadata": {},
     "output_type": "execute_result"
    }
   ],
   "source": [
    "generar_tabla_recuento(base_filtrada, \"i_otro\", \"Uso del internet a traves de una OTRO\", True, True)"
   ]
  },
  {
   "cell_type": "markdown",
   "id": "6cd47193-88bc-4d11-a733-199b31f42727",
   "metadata": {},
   "source": [
    "### Acceso - Celular sin plan de datos"
   ]
  },
  {
   "cell_type": "code",
   "execution_count": 52,
   "id": "5179049e",
   "metadata": {},
   "outputs": [
    {
     "data": {
      "text/html": [
       "<div>\n",
       "<style scoped>\n",
       "    .dataframe tbody tr th:only-of-type {\n",
       "        vertical-align: middle;\n",
       "    }\n",
       "\n",
       "    .dataframe tbody tr th {\n",
       "        vertical-align: top;\n",
       "    }\n",
       "\n",
       "    .dataframe thead th {\n",
       "        text-align: right;\n",
       "    }\n",
       "</style>\n",
       "<table border=\"1\" class=\"dataframe\">\n",
       "  <thead>\n",
       "    <tr style=\"text-align: right;\">\n",
       "      <th></th>\n",
       "      <th>Uso del internet a traves de una CELULAR SIN PLAN DE DATOS</th>\n",
       "      <th>Recuento</th>\n",
       "      <th>Porcentaje</th>\n",
       "    </tr>\n",
       "  </thead>\n",
       "  <tbody>\n",
       "    <tr>\n",
       "      <th>0</th>\n",
       "      <td>0.0</td>\n",
       "      <td>2,038,781</td>\n",
       "      <td>47.7</td>\n",
       "    </tr>\n",
       "    <tr>\n",
       "      <th>1</th>\n",
       "      <td>8.0</td>\n",
       "      <td>2,234,896</td>\n",
       "      <td>52.3</td>\n",
       "    </tr>\n",
       "    <tr>\n",
       "      <th>2</th>\n",
       "      <td>Total</td>\n",
       "      <td>4,273,676</td>\n",
       "      <td>100.0</td>\n",
       "    </tr>\n",
       "  </tbody>\n",
       "</table>\n",
       "</div>"
      ],
      "text/plain": [
       "  Uso del internet a traves de una CELULAR SIN PLAN DE DATOS   Recuento  \\\n",
       "0                                                0.0          2,038,781   \n",
       "1                                                8.0          2,234,896   \n",
       "2                                              Total          4,273,676   \n",
       "\n",
       "  Porcentaje  \n",
       "0       47.7  \n",
       "1       52.3  \n",
       "2      100.0  "
      ]
     },
     "execution_count": 52,
     "metadata": {},
     "output_type": "execute_result"
    }
   ],
   "source": [
    "generar_tabla_recuento(base_filtrada, \"i_cel_sdatos\", \"Uso del internet a traves de una CELULAR SIN PLAN DE DATOS\",True, True)"
   ]
  },
  {
   "cell_type": "markdown",
   "id": "9ea3ff5a-df4b-4918-9073-81ec30fb2bde",
   "metadata": {},
   "source": [
    "### Acceso - Celular con plan de datos"
   ]
  },
  {
   "cell_type": "code",
   "execution_count": 53,
   "id": "91dd43b7",
   "metadata": {},
   "outputs": [
    {
     "data": {
      "text/html": [
       "<div>\n",
       "<style scoped>\n",
       "    .dataframe tbody tr th:only-of-type {\n",
       "        vertical-align: middle;\n",
       "    }\n",
       "\n",
       "    .dataframe tbody tr th {\n",
       "        vertical-align: top;\n",
       "    }\n",
       "\n",
       "    .dataframe thead th {\n",
       "        text-align: right;\n",
       "    }\n",
       "</style>\n",
       "<table border=\"1\" class=\"dataframe\">\n",
       "  <thead>\n",
       "    <tr style=\"text-align: right;\">\n",
       "      <th></th>\n",
       "      <th>Uso del internet a traves de una CELULAR CON PLAN DE DATOS</th>\n",
       "      <th>Recuento</th>\n",
       "      <th>Porcentaje</th>\n",
       "    </tr>\n",
       "  </thead>\n",
       "  <tbody>\n",
       "    <tr>\n",
       "      <th>0</th>\n",
       "      <td>0.0</td>\n",
       "      <td>3,423,683</td>\n",
       "      <td>80.1</td>\n",
       "    </tr>\n",
       "    <tr>\n",
       "      <th>1</th>\n",
       "      <td>9.0</td>\n",
       "      <td>849,994</td>\n",
       "      <td>19.9</td>\n",
       "    </tr>\n",
       "    <tr>\n",
       "      <th>2</th>\n",
       "      <td>Total</td>\n",
       "      <td>4,273,677</td>\n",
       "      <td>100.0</td>\n",
       "    </tr>\n",
       "  </tbody>\n",
       "</table>\n",
       "</div>"
      ],
      "text/plain": [
       "  Uso del internet a traves de una CELULAR CON PLAN DE DATOS   Recuento  \\\n",
       "0                                                0.0          3,423,683   \n",
       "1                                                9.0            849,994   \n",
       "2                                              Total          4,273,677   \n",
       "\n",
       "  Porcentaje  \n",
       "0       80.1  \n",
       "1       19.9  \n",
       "2      100.0  "
      ]
     },
     "execution_count": 53,
     "metadata": {},
     "output_type": "execute_result"
    }
   ],
   "source": [
    "generar_tabla_recuento(base_filtrada, \"i_cel_cdatos\", \"Uso del internet a traves de una CELULAR CON PLAN DE DATOS\",True,True)"
   ]
  },
  {
   "cell_type": "code",
   "execution_count": 54,
   "id": "63970d7f",
   "metadata": {},
   "outputs": [],
   "source": [
    "#generar_tabla_recuento(base_filtrada, \"p314b1_5\", \"Uso del internet a traves de una CELULAR DE SU CENTRO DE TRABAJO\", guardar_como_jpeg=True) "
   ]
  },
  {
   "cell_type": "markdown",
   "id": "5b3bcbd7-1835-4cc6-856b-57d584615275",
   "metadata": {},
   "source": [
    "## DIMENSION -APROPIACION"
   ]
  },
  {
   "cell_type": "code",
   "execution_count": 55,
   "id": "bbda7219-3c8f-452c-a713-4c95b010eba7",
   "metadata": {},
   "outputs": [
    {
     "data": {
      "text/html": [
       "<div>\n",
       "<style scoped>\n",
       "    .dataframe tbody tr th:only-of-type {\n",
       "        vertical-align: middle;\n",
       "    }\n",
       "\n",
       "    .dataframe tbody tr th {\n",
       "        vertical-align: top;\n",
       "    }\n",
       "\n",
       "    .dataframe thead th {\n",
       "        text-align: right;\n",
       "    }\n",
       "</style>\n",
       "<table border=\"1\" class=\"dataframe\">\n",
       "  <thead>\n",
       "    <tr style=\"text-align: right;\">\n",
       "      <th></th>\n",
       "      <th>Usó el Internet para: Obtener información</th>\n",
       "      <th>Recuento</th>\n",
       "      <th>Porcentaje</th>\n",
       "    </tr>\n",
       "  </thead>\n",
       "  <tbody>\n",
       "    <tr>\n",
       "      <th>0</th>\n",
       "      <td>1.0</td>\n",
       "      <td>1,606,055</td>\n",
       "      <td>82.3</td>\n",
       "    </tr>\n",
       "    <tr>\n",
       "      <th>1</th>\n",
       "      <td>2.0</td>\n",
       "      <td>345,060</td>\n",
       "      <td>17.7</td>\n",
       "    </tr>\n",
       "    <tr>\n",
       "      <th>2</th>\n",
       "      <td>Total</td>\n",
       "      <td>1,951,115</td>\n",
       "      <td>100.0</td>\n",
       "    </tr>\n",
       "  </tbody>\n",
       "</table>\n",
       "</div>"
      ],
      "text/plain": [
       "  Usó el Internet para: Obtener información   Recuento Porcentaje\n",
       "0                                       1.0  1,606,055       82.3\n",
       "1                                       2.0    345,060       17.7\n",
       "2                                     Total  1,951,115      100.0"
      ]
     },
     "execution_count": 55,
     "metadata": {},
     "output_type": "execute_result"
    }
   ],
   "source": [
    "generar_tabla_recuento(base_filtrada, \"i_obtener_info\", \"Usó el Internet para: Obtener información\",True,True)"
   ]
  },
  {
   "cell_type": "code",
   "execution_count": 56,
   "id": "24b1e8f0-d0d3-4c35-af82-bb4a183fd7c7",
   "metadata": {},
   "outputs": [
    {
     "data": {
      "text/html": [
       "<div>\n",
       "<style scoped>\n",
       "    .dataframe tbody tr th:only-of-type {\n",
       "        vertical-align: middle;\n",
       "    }\n",
       "\n",
       "    .dataframe tbody tr th {\n",
       "        vertical-align: top;\n",
       "    }\n",
       "\n",
       "    .dataframe thead th {\n",
       "        text-align: right;\n",
       "    }\n",
       "</style>\n",
       "<table border=\"1\" class=\"dataframe\">\n",
       "  <thead>\n",
       "    <tr style=\"text-align: right;\">\n",
       "      <th></th>\n",
       "      <th>Usó el Internet para: Comunicarsen</th>\n",
       "      <th>Recuento</th>\n",
       "      <th>Porcentaje</th>\n",
       "    </tr>\n",
       "  </thead>\n",
       "  <tbody>\n",
       "    <tr>\n",
       "      <th>0</th>\n",
       "      <td>1.0</td>\n",
       "      <td>1,664,750</td>\n",
       "      <td>85.3</td>\n",
       "    </tr>\n",
       "    <tr>\n",
       "      <th>1</th>\n",
       "      <td>2.0</td>\n",
       "      <td>286,365</td>\n",
       "      <td>14.7</td>\n",
       "    </tr>\n",
       "    <tr>\n",
       "      <th>2</th>\n",
       "      <td>Total</td>\n",
       "      <td>1,951,115</td>\n",
       "      <td>100.0</td>\n",
       "    </tr>\n",
       "  </tbody>\n",
       "</table>\n",
       "</div>"
      ],
      "text/plain": [
       "  Usó el Internet para: Comunicarsen   Recuento Porcentaje\n",
       "0                                1.0  1,664,750       85.3\n",
       "1                                2.0    286,365       14.7\n",
       "2                              Total  1,951,115      100.0"
      ]
     },
     "execution_count": 56,
     "metadata": {},
     "output_type": "execute_result"
    }
   ],
   "source": [
    "generar_tabla_recuento(base_filtrada, \"i_comunicarse\", \"Usó el Internet para: Comunicarsen\",True,True)"
   ]
  },
  {
   "cell_type": "code",
   "execution_count": 58,
   "id": "46afff72-766e-4051-bc70-d47b5bac0dbf",
   "metadata": {},
   "outputs": [
    {
     "data": {
      "text/html": [
       "<div>\n",
       "<style scoped>\n",
       "    .dataframe tbody tr th:only-of-type {\n",
       "        vertical-align: middle;\n",
       "    }\n",
       "\n",
       "    .dataframe tbody tr th {\n",
       "        vertical-align: top;\n",
       "    }\n",
       "\n",
       "    .dataframe thead th {\n",
       "        text-align: right;\n",
       "    }\n",
       "</style>\n",
       "<table border=\"1\" class=\"dataframe\">\n",
       "  <thead>\n",
       "    <tr style=\"text-align: right;\">\n",
       "      <th></th>\n",
       "      <th>Usó el Internet para: Comprar productos_servicios</th>\n",
       "      <th>Recuento</th>\n",
       "      <th>Porcentaje</th>\n",
       "    </tr>\n",
       "  </thead>\n",
       "  <tbody>\n",
       "    <tr>\n",
       "      <th>0</th>\n",
       "      <td>1.0</td>\n",
       "      <td>26,755</td>\n",
       "      <td>1.4</td>\n",
       "    </tr>\n",
       "    <tr>\n",
       "      <th>1</th>\n",
       "      <td>2.0</td>\n",
       "      <td>1,924,360</td>\n",
       "      <td>98.6</td>\n",
       "    </tr>\n",
       "    <tr>\n",
       "      <th>2</th>\n",
       "      <td>Total</td>\n",
       "      <td>1,951,115</td>\n",
       "      <td>100.0</td>\n",
       "    </tr>\n",
       "  </tbody>\n",
       "</table>\n",
       "</div>"
      ],
      "text/plain": [
       "  Usó el Internet para: Comprar productos_servicios   Recuento Porcentaje\n",
       "0                                               1.0     26,755        1.4\n",
       "1                                               2.0  1,924,360       98.6\n",
       "2                                             Total  1,951,115      100.0"
      ]
     },
     "execution_count": 58,
     "metadata": {},
     "output_type": "execute_result"
    }
   ],
   "source": [
    "generar_tabla_recuento(base_filtrada, \"i_comprar_pdts_ss\", \"Usó el Internet para: Comprar productos_servicios\",True,True)"
   ]
  },
  {
   "cell_type": "code",
   "execution_count": 59,
   "id": "f461771e-aa28-4934-b3ab-18f13667947b",
   "metadata": {},
   "outputs": [
    {
     "data": {
      "text/html": [
       "<div>\n",
       "<style scoped>\n",
       "    .dataframe tbody tr th:only-of-type {\n",
       "        vertical-align: middle;\n",
       "    }\n",
       "\n",
       "    .dataframe tbody tr th {\n",
       "        vertical-align: top;\n",
       "    }\n",
       "\n",
       "    .dataframe thead th {\n",
       "        text-align: right;\n",
       "    }\n",
       "</style>\n",
       "<table border=\"1\" class=\"dataframe\">\n",
       "  <thead>\n",
       "    <tr style=\"text-align: right;\">\n",
       "      <th></th>\n",
       "      <th>Usó el Internet para: Operaciones de banca electrónica</th>\n",
       "      <th>Recuento</th>\n",
       "      <th>Porcentaje</th>\n",
       "    </tr>\n",
       "  </thead>\n",
       "  <tbody>\n",
       "    <tr>\n",
       "      <th>0</th>\n",
       "      <td>1.0</td>\n",
       "      <td>6,961</td>\n",
       "      <td>0.4</td>\n",
       "    </tr>\n",
       "    <tr>\n",
       "      <th>1</th>\n",
       "      <td>2.0</td>\n",
       "      <td>1,944,154</td>\n",
       "      <td>99.6</td>\n",
       "    </tr>\n",
       "    <tr>\n",
       "      <th>2</th>\n",
       "      <td>Total</td>\n",
       "      <td>1,951,115</td>\n",
       "      <td>100.0</td>\n",
       "    </tr>\n",
       "  </tbody>\n",
       "</table>\n",
       "</div>"
      ],
      "text/plain": [
       "  Usó el Internet para: Operaciones de banca electrónica   Recuento Porcentaje\n",
       "0                                                1.0          6,961        0.4\n",
       "1                                                2.0      1,944,154       99.6\n",
       "2                                              Total      1,951,115      100.0"
      ]
     },
     "execution_count": 59,
     "metadata": {},
     "output_type": "execute_result"
    }
   ],
   "source": [
    "generar_tabla_recuento(base_filtrada,'i_operaciones_bancarias', 'Usó el Internet para: Operaciones de banca electrónica', True, True)\n"
   ]
  },
  {
   "cell_type": "code",
   "execution_count": 60,
   "id": "a0432c5d-e646-4214-b1e4-69cf4a8a78a3",
   "metadata": {},
   "outputs": [
    {
     "data": {
      "text/html": [
       "<div>\n",
       "<style scoped>\n",
       "    .dataframe tbody tr th:only-of-type {\n",
       "        vertical-align: middle;\n",
       "    }\n",
       "\n",
       "    .dataframe tbody tr th {\n",
       "        vertical-align: top;\n",
       "    }\n",
       "\n",
       "    .dataframe thead th {\n",
       "        text-align: right;\n",
       "    }\n",
       "</style>\n",
       "<table border=\"1\" class=\"dataframe\">\n",
       "  <thead>\n",
       "    <tr style=\"text-align: right;\">\n",
       "      <th></th>\n",
       "      <th>Usó el Internet para: Educación formal y actividades de capacitación</th>\n",
       "      <th>Recuento</th>\n",
       "      <th>Porcentaje</th>\n",
       "    </tr>\n",
       "  </thead>\n",
       "  <tbody>\n",
       "    <tr>\n",
       "      <th>0</th>\n",
       "      <td>1.0</td>\n",
       "      <td>539,368</td>\n",
       "      <td>27.6</td>\n",
       "    </tr>\n",
       "    <tr>\n",
       "      <th>1</th>\n",
       "      <td>2.0</td>\n",
       "      <td>1,411,747</td>\n",
       "      <td>72.4</td>\n",
       "    </tr>\n",
       "    <tr>\n",
       "      <th>2</th>\n",
       "      <td>Total</td>\n",
       "      <td>1,951,115</td>\n",
       "      <td>100.0</td>\n",
       "    </tr>\n",
       "  </tbody>\n",
       "</table>\n",
       "</div>"
      ],
      "text/plain": [
       "  Usó el Internet para: Educación formal y actividades de capacitación  \\\n",
       "0                                                1.0                     \n",
       "1                                                2.0                     \n",
       "2                                              Total                     \n",
       "\n",
       "    Recuento Porcentaje  \n",
       "0    539,368       27.6  \n",
       "1  1,411,747       72.4  \n",
       "2  1,951,115      100.0  "
      ]
     },
     "execution_count": 60,
     "metadata": {},
     "output_type": "execute_result"
    }
   ],
   "source": [
    "generar_tabla_recuento(base_filtrada, \"i_edu_formal\", \"Usó el Internet para: Educación formal y actividades de capacitación\",True,True)"
   ]
  },
  {
   "cell_type": "code",
   "execution_count": null,
   "id": "98e4475d-3335-42cd-b454-2ca4f042a66a",
   "metadata": {},
   "outputs": [],
   "source": []
  },
  {
   "cell_type": "code",
   "execution_count": 61,
   "id": "863556b2-79a6-4cbb-bc0d-d81d67984cc7",
   "metadata": {},
   "outputs": [
    {
     "data": {
      "text/html": [
       "<div>\n",
       "<style scoped>\n",
       "    .dataframe tbody tr th:only-of-type {\n",
       "        vertical-align: middle;\n",
       "    }\n",
       "\n",
       "    .dataframe tbody tr th {\n",
       "        vertical-align: top;\n",
       "    }\n",
       "\n",
       "    .dataframe thead th {\n",
       "        text-align: right;\n",
       "    }\n",
       "</style>\n",
       "<table border=\"1\" class=\"dataframe\">\n",
       "  <thead>\n",
       "    <tr style=\"text-align: right;\">\n",
       "      <th></th>\n",
       "      <th>Usó el Internet para: Transacciones</th>\n",
       "      <th>Recuento</th>\n",
       "      <th>Porcentaje</th>\n",
       "    </tr>\n",
       "  </thead>\n",
       "  <tbody>\n",
       "    <tr>\n",
       "      <th>0</th>\n",
       "      <td>1.0</td>\n",
       "      <td>20,767</td>\n",
       "      <td>1.1</td>\n",
       "    </tr>\n",
       "    <tr>\n",
       "      <th>1</th>\n",
       "      <td>2.0</td>\n",
       "      <td>1,930,348</td>\n",
       "      <td>98.9</td>\n",
       "    </tr>\n",
       "    <tr>\n",
       "      <th>2</th>\n",
       "      <td>Total</td>\n",
       "      <td>1,951,115</td>\n",
       "      <td>100.0</td>\n",
       "    </tr>\n",
       "  </tbody>\n",
       "</table>\n",
       "</div>"
      ],
      "text/plain": [
       "  Usó el Internet para: Transacciones   Recuento Porcentaje\n",
       "0                                 1.0     20,767        1.1\n",
       "1                                 2.0  1,930,348       98.9\n",
       "2                               Total  1,951,115      100.0"
      ]
     },
     "execution_count": 61,
     "metadata": {},
     "output_type": "execute_result"
    }
   ],
   "source": [
    "generar_tabla_recuento(base_filtrada, \"i_transacciones\", \"Usó el Internet para: Transacciones\",True,True)"
   ]
  },
  {
   "cell_type": "code",
   "execution_count": 62,
   "id": "cef8d357-4a05-4a4a-b3ff-ad9c9b967e58",
   "metadata": {},
   "outputs": [
    {
     "data": {
      "text/html": [
       "<div>\n",
       "<style scoped>\n",
       "    .dataframe tbody tr th:only-of-type {\n",
       "        vertical-align: middle;\n",
       "    }\n",
       "\n",
       "    .dataframe tbody tr th {\n",
       "        vertical-align: top;\n",
       "    }\n",
       "\n",
       "    .dataframe thead th {\n",
       "        text-align: right;\n",
       "    }\n",
       "</style>\n",
       "<table border=\"1\" class=\"dataframe\">\n",
       "  <thead>\n",
       "    <tr style=\"text-align: right;\">\n",
       "      <th></th>\n",
       "      <th>Usó el Internet para: Actividades de entretenimiento</th>\n",
       "      <th>Recuento</th>\n",
       "      <th>Porcentaje</th>\n",
       "    </tr>\n",
       "  </thead>\n",
       "  <tbody>\n",
       "    <tr>\n",
       "      <th>0</th>\n",
       "      <td>1.0</td>\n",
       "      <td>1,504,413</td>\n",
       "      <td>77.1</td>\n",
       "    </tr>\n",
       "    <tr>\n",
       "      <th>1</th>\n",
       "      <td>2.0</td>\n",
       "      <td>446,702</td>\n",
       "      <td>22.9</td>\n",
       "    </tr>\n",
       "    <tr>\n",
       "      <th>2</th>\n",
       "      <td>Total</td>\n",
       "      <td>1,951,115</td>\n",
       "      <td>100.0</td>\n",
       "    </tr>\n",
       "  </tbody>\n",
       "</table>\n",
       "</div>"
      ],
      "text/plain": [
       "  Usó el Internet para: Actividades de entretenimiento   Recuento Porcentaje\n",
       "0                                                1.0    1,504,413       77.1\n",
       "1                                                2.0      446,702       22.9\n",
       "2                                              Total    1,951,115      100.0"
      ]
     },
     "execution_count": 62,
     "metadata": {},
     "output_type": "execute_result"
    }
   ],
   "source": [
    "generar_tabla_recuento(base_filtrada, \"i_act_entretenimiento\", \"Usó el Internet para: Actividades de entretenimiento\",True,True)"
   ]
  },
  {
   "cell_type": "code",
   "execution_count": 63,
   "id": "dee9981d-dba5-4999-9438-3cd3de3d4df8",
   "metadata": {},
   "outputs": [
    {
     "data": {
      "text/html": [
       "<div>\n",
       "<style scoped>\n",
       "    .dataframe tbody tr th:only-of-type {\n",
       "        vertical-align: middle;\n",
       "    }\n",
       "\n",
       "    .dataframe tbody tr th {\n",
       "        vertical-align: top;\n",
       "    }\n",
       "\n",
       "    .dataframe thead th {\n",
       "        text-align: right;\n",
       "    }\n",
       "</style>\n",
       "<table border=\"1\" class=\"dataframe\">\n",
       "  <thead>\n",
       "    <tr style=\"text-align: right;\">\n",
       "      <th></th>\n",
       "      <th>Usó el Internet para: Vender productos_servicios</th>\n",
       "      <th>Recuento</th>\n",
       "      <th>Porcentaje</th>\n",
       "    </tr>\n",
       "  </thead>\n",
       "  <tbody>\n",
       "    <tr>\n",
       "      <th>0</th>\n",
       "      <td>1.0</td>\n",
       "      <td>12,091</td>\n",
       "      <td>0.6</td>\n",
       "    </tr>\n",
       "    <tr>\n",
       "      <th>1</th>\n",
       "      <td>2.0</td>\n",
       "      <td>1,939,024</td>\n",
       "      <td>99.4</td>\n",
       "    </tr>\n",
       "    <tr>\n",
       "      <th>2</th>\n",
       "      <td>Total</td>\n",
       "      <td>1,951,115</td>\n",
       "      <td>100.0</td>\n",
       "    </tr>\n",
       "  </tbody>\n",
       "</table>\n",
       "</div>"
      ],
      "text/plain": [
       "  Usó el Internet para: Vender productos_servicios   Recuento Porcentaje\n",
       "0                                              1.0     12,091        0.6\n",
       "1                                              2.0  1,939,024       99.4\n",
       "2                                            Total  1,951,115      100.0"
      ]
     },
     "execution_count": 63,
     "metadata": {},
     "output_type": "execute_result"
    }
   ],
   "source": [
    "generar_tabla_recuento(base_filtrada, \"i_vender_pdts\", \"Usó el Internet para: Vender productos_servicios\",True,True)"
   ]
  },
  {
   "cell_type": "code",
   "execution_count": 64,
   "id": "b117d105-7f87-4129-9b13-169047c915c1",
   "metadata": {},
   "outputs": [
    {
     "data": {
      "text/html": [
       "<div>\n",
       "<style scoped>\n",
       "    .dataframe tbody tr th:only-of-type {\n",
       "        vertical-align: middle;\n",
       "    }\n",
       "\n",
       "    .dataframe tbody tr th {\n",
       "        vertical-align: top;\n",
       "    }\n",
       "\n",
       "    .dataframe thead th {\n",
       "        text-align: right;\n",
       "    }\n",
       "</style>\n",
       "<table border=\"1\" class=\"dataframe\">\n",
       "  <thead>\n",
       "    <tr style=\"text-align: right;\">\n",
       "      <th></th>\n",
       "      <th>Usó el Internet para: Otro</th>\n",
       "      <th>Recuento</th>\n",
       "      <th>Porcentaje</th>\n",
       "    </tr>\n",
       "  </thead>\n",
       "  <tbody>\n",
       "    <tr>\n",
       "      <th>0</th>\n",
       "      <td>1.0</td>\n",
       "      <td>19,350</td>\n",
       "      <td>1.0</td>\n",
       "    </tr>\n",
       "    <tr>\n",
       "      <th>1</th>\n",
       "      <td>2.0</td>\n",
       "      <td>1,931,765</td>\n",
       "      <td>99.0</td>\n",
       "    </tr>\n",
       "    <tr>\n",
       "      <th>2</th>\n",
       "      <td>Total</td>\n",
       "      <td>1,951,115</td>\n",
       "      <td>100.0</td>\n",
       "    </tr>\n",
       "  </tbody>\n",
       "</table>\n",
       "</div>"
      ],
      "text/plain": [
       "  Usó el Internet para: Otro   Recuento Porcentaje\n",
       "0                        1.0     19,350        1.0\n",
       "1                        2.0  1,931,765       99.0\n",
       "2                      Total  1,951,115      100.0"
      ]
     },
     "execution_count": 64,
     "metadata": {},
     "output_type": "execute_result"
    }
   ],
   "source": [
    "generar_tabla_recuento(base_filtrada, \"p316_9\", \"Usó el Internet para: Otro\",True,True)"
   ]
  },
  {
   "cell_type": "code",
   "execution_count": 65,
   "id": "b74cd6f1-3ce3-4b21-a8f4-452b4f89a7d0",
   "metadata": {},
   "outputs": [
    {
     "data": {
      "text/html": [
       "<div>\n",
       "<style scoped>\n",
       "    .dataframe tbody tr th:only-of-type {\n",
       "        vertical-align: middle;\n",
       "    }\n",
       "\n",
       "    .dataframe tbody tr th {\n",
       "        vertical-align: top;\n",
       "    }\n",
       "\n",
       "    .dataframe thead th {\n",
       "        text-align: right;\n",
       "    }\n",
       "</style>\n",
       "<table border=\"1\" class=\"dataframe\">\n",
       "  <thead>\n",
       "    <tr style=\"text-align: right;\">\n",
       "      <th></th>\n",
       "      <th>Usó el Internet para: Otro2</th>\n",
       "      <th>Recuento</th>\n",
       "      <th>Porcentaje</th>\n",
       "    </tr>\n",
       "  </thead>\n",
       "  <tbody>\n",
       "    <tr>\n",
       "      <th>0</th>\n",
       "      <td>1.0</td>\n",
       "      <td>314</td>\n",
       "      <td>0.0</td>\n",
       "    </tr>\n",
       "    <tr>\n",
       "      <th>1</th>\n",
       "      <td>2.0</td>\n",
       "      <td>1,950,801</td>\n",
       "      <td>100.0</td>\n",
       "    </tr>\n",
       "    <tr>\n",
       "      <th>2</th>\n",
       "      <td>Total</td>\n",
       "      <td>1,951,115</td>\n",
       "      <td>100.0</td>\n",
       "    </tr>\n",
       "  </tbody>\n",
       "</table>\n",
       "</div>"
      ],
      "text/plain": [
       "  Usó el Internet para: Otro2   Recuento Porcentaje\n",
       "0                         1.0        314        0.0\n",
       "1                         2.0  1,950,801      100.0\n",
       "2                       Total  1,951,115      100.0"
      ]
     },
     "execution_count": 65,
     "metadata": {},
     "output_type": "execute_result"
    }
   ],
   "source": [
    "generar_tabla_recuento(base_filtrada, \"p316_10\", \"Usó el Internet para: Otro2\",True,True)"
   ]
  },
  {
   "cell_type": "code",
   "execution_count": 66,
   "id": "0a8b3fc3-e52e-4951-aeb4-c76b4250b6a1",
   "metadata": {},
   "outputs": [
    {
     "data": {
      "text/html": [
       "<div>\n",
       "<style scoped>\n",
       "    .dataframe tbody tr th:only-of-type {\n",
       "        vertical-align: middle;\n",
       "    }\n",
       "\n",
       "    .dataframe tbody tr th {\n",
       "        vertical-align: top;\n",
       "    }\n",
       "\n",
       "    .dataframe thead th {\n",
       "        text-align: right;\n",
       "    }\n",
       "</style>\n",
       "<table border=\"1\" class=\"dataframe\">\n",
       "  <thead>\n",
       "    <tr style=\"text-align: right;\">\n",
       "      <th></th>\n",
       "      <th>Usó el Internet para: Otro3</th>\n",
       "      <th>Recuento</th>\n",
       "      <th>Porcentaje</th>\n",
       "    </tr>\n",
       "  </thead>\n",
       "  <tbody>\n",
       "    <tr>\n",
       "      <th>0</th>\n",
       "      <td>2.0</td>\n",
       "      <td>1,951,115</td>\n",
       "      <td>100.0</td>\n",
       "    </tr>\n",
       "    <tr>\n",
       "      <th>1</th>\n",
       "      <td>Total</td>\n",
       "      <td>1,951,115</td>\n",
       "      <td>100.0</td>\n",
       "    </tr>\n",
       "  </tbody>\n",
       "</table>\n",
       "</div>"
      ],
      "text/plain": [
       "  Usó el Internet para: Otro3   Recuento Porcentaje\n",
       "0                         2.0  1,951,115      100.0\n",
       "1                       Total  1,951,115      100.0"
      ]
     },
     "execution_count": 66,
     "metadata": {},
     "output_type": "execute_result"
    }
   ],
   "source": [
    "generar_tabla_recuento(base_filtrada, \"p316_11\", \"Usó el Internet para: Otro3\",True,True)"
   ]
  },
  {
   "cell_type": "code",
   "execution_count": 67,
   "id": "f1184088-0c0b-4b09-9bb1-cd7e4873ebdf",
   "metadata": {},
   "outputs": [
    {
     "data": {
      "text/html": [
       "<div>\n",
       "<style scoped>\n",
       "    .dataframe tbody tr th:only-of-type {\n",
       "        vertical-align: middle;\n",
       "    }\n",
       "\n",
       "    .dataframe tbody tr th {\n",
       "        vertical-align: top;\n",
       "    }\n",
       "\n",
       "    .dataframe thead th {\n",
       "        text-align: right;\n",
       "    }\n",
       "</style>\n",
       "<table border=\"1\" class=\"dataframe\">\n",
       "  <thead>\n",
       "    <tr style=\"text-align: right;\">\n",
       "      <th></th>\n",
       "      <th>Usó el Internet para: descarga de antivirus</th>\n",
       "      <th>Recuento</th>\n",
       "      <th>Porcentaje</th>\n",
       "    </tr>\n",
       "  </thead>\n",
       "  <tbody>\n",
       "    <tr>\n",
       "      <th>0</th>\n",
       "      <td>1.0</td>\n",
       "      <td>196,864</td>\n",
       "      <td>10.1</td>\n",
       "    </tr>\n",
       "    <tr>\n",
       "      <th>1</th>\n",
       "      <td>2.0</td>\n",
       "      <td>1,754,251</td>\n",
       "      <td>89.9</td>\n",
       "    </tr>\n",
       "    <tr>\n",
       "      <th>2</th>\n",
       "      <td>Total</td>\n",
       "      <td>1,951,115</td>\n",
       "      <td>100.0</td>\n",
       "    </tr>\n",
       "  </tbody>\n",
       "</table>\n",
       "</div>"
      ],
      "text/plain": [
       "  Usó el Internet para: descarga de antivirus   Recuento Porcentaje\n",
       "0                                         1.0    196,864       10.1\n",
       "1                                         2.0  1,754,251       89.9\n",
       "2                                       Total  1,951,115      100.0"
      ]
     },
     "execution_count": 67,
     "metadata": {},
     "output_type": "execute_result"
    }
   ],
   "source": [
    "generar_tabla_recuento(base_filtrada, \"i_descarga_antivirus\", \"Usó el Internet para: descarga de antivirus\",True,True)"
   ]
  },
  {
   "cell_type": "code",
   "execution_count": null,
   "id": "947e397d-2d48-48ed-853e-e149cd223e89",
   "metadata": {},
   "outputs": [],
   "source": []
  },
  {
   "cell_type": "markdown",
   "id": "532b697c-e387-488e-999f-9ed4e649feb6",
   "metadata": {},
   "source": [
    "## CLASES A DISTANCIA"
   ]
  },
  {
   "cell_type": "code",
   "execution_count": 68,
   "id": "6528ad5a-ab3b-4492-852e-c2304bf73de4",
   "metadata": {},
   "outputs": [
    {
     "data": {
      "text/html": [
       "<div>\n",
       "<style scoped>\n",
       "    .dataframe tbody tr th:only-of-type {\n",
       "        vertical-align: middle;\n",
       "    }\n",
       "\n",
       "    .dataframe tbody tr th {\n",
       "        vertical-align: top;\n",
       "    }\n",
       "\n",
       "    .dataframe thead th {\n",
       "        text-align: right;\n",
       "    }\n",
       "</style>\n",
       "<table border=\"1\" class=\"dataframe\">\n",
       "  <thead>\n",
       "    <tr style=\"text-align: right;\">\n",
       "      <th></th>\n",
       "      <th>Acceso al contenido de clase - TELEVISION</th>\n",
       "      <th>Recuento</th>\n",
       "      <th>Porcentaje</th>\n",
       "    </tr>\n",
       "  </thead>\n",
       "  <tbody>\n",
       "    <tr>\n",
       "      <th>0</th>\n",
       "      <td>0.0</td>\n",
       "      <td>3,104,921</td>\n",
       "      <td>51.1</td>\n",
       "    </tr>\n",
       "    <tr>\n",
       "      <th>1</th>\n",
       "      <td>1.0</td>\n",
       "      <td>2,970,516</td>\n",
       "      <td>48.9</td>\n",
       "    </tr>\n",
       "    <tr>\n",
       "      <th>2</th>\n",
       "      <td>Total</td>\n",
       "      <td>6,075,437</td>\n",
       "      <td>100.0</td>\n",
       "    </tr>\n",
       "  </tbody>\n",
       "</table>\n",
       "</div>"
      ],
      "text/plain": [
       "  Acceso al contenido de clase - TELEVISION   Recuento Porcentaje\n",
       "0                                       0.0  3,104,921       51.1\n",
       "1                                       1.0  2,970,516       48.9\n",
       "2                                     Total  6,075,437      100.0"
      ]
     },
     "execution_count": 68,
     "metadata": {},
     "output_type": "execute_result"
    }
   ],
   "source": [
    "generar_tabla_recuento(base_filtrada, \"clases_tv\", \"Acceso al contenido de clase - TELEVISION\",True, True)"
   ]
  },
  {
   "cell_type": "code",
   "execution_count": 69,
   "id": "7e92479f-c2ca-4734-9600-0dd8fe444906",
   "metadata": {},
   "outputs": [
    {
     "data": {
      "text/html": [
       "<div>\n",
       "<style scoped>\n",
       "    .dataframe tbody tr th:only-of-type {\n",
       "        vertical-align: middle;\n",
       "    }\n",
       "\n",
       "    .dataframe tbody tr th {\n",
       "        vertical-align: top;\n",
       "    }\n",
       "\n",
       "    .dataframe thead th {\n",
       "        text-align: right;\n",
       "    }\n",
       "</style>\n",
       "<table border=\"1\" class=\"dataframe\">\n",
       "  <thead>\n",
       "    <tr style=\"text-align: right;\">\n",
       "      <th></th>\n",
       "      <th>Acceso al contenido de clase - RADIO</th>\n",
       "      <th>Recuento</th>\n",
       "      <th>Porcentaje</th>\n",
       "    </tr>\n",
       "  </thead>\n",
       "  <tbody>\n",
       "    <tr>\n",
       "      <th>0</th>\n",
       "      <td>0.0</td>\n",
       "      <td>5,069,416</td>\n",
       "      <td>83.4</td>\n",
       "    </tr>\n",
       "    <tr>\n",
       "      <th>1</th>\n",
       "      <td>2.0</td>\n",
       "      <td>1,006,021</td>\n",
       "      <td>16.6</td>\n",
       "    </tr>\n",
       "    <tr>\n",
       "      <th>2</th>\n",
       "      <td>Total</td>\n",
       "      <td>6,075,437</td>\n",
       "      <td>100.0</td>\n",
       "    </tr>\n",
       "  </tbody>\n",
       "</table>\n",
       "</div>"
      ],
      "text/plain": [
       "  Acceso al contenido de clase - RADIO   Recuento Porcentaje\n",
       "0                                  0.0  5,069,416       83.4\n",
       "1                                  2.0  1,006,021       16.6\n",
       "2                                Total  6,075,437      100.0"
      ]
     },
     "execution_count": 69,
     "metadata": {},
     "output_type": "execute_result"
    }
   ],
   "source": [
    "generar_tabla_recuento(base_filtrada, \"clases_radio\", \"Acceso al contenido de clase - RADIO\",True, True)"
   ]
  },
  {
   "cell_type": "code",
   "execution_count": 70,
   "id": "2893333d-daa9-4f54-b4ae-dc95171f9d20",
   "metadata": {},
   "outputs": [
    {
     "data": {
      "text/html": [
       "<div>\n",
       "<style scoped>\n",
       "    .dataframe tbody tr th:only-of-type {\n",
       "        vertical-align: middle;\n",
       "    }\n",
       "\n",
       "    .dataframe tbody tr th {\n",
       "        vertical-align: top;\n",
       "    }\n",
       "\n",
       "    .dataframe thead th {\n",
       "        text-align: right;\n",
       "    }\n",
       "</style>\n",
       "<table border=\"1\" class=\"dataframe\">\n",
       "  <thead>\n",
       "    <tr style=\"text-align: right;\">\n",
       "      <th></th>\n",
       "      <th>Acceso al contenido de clase - PLATAFORMA VIRTUAL</th>\n",
       "      <th>Recuento</th>\n",
       "      <th>Porcentaje</th>\n",
       "    </tr>\n",
       "  </thead>\n",
       "  <tbody>\n",
       "    <tr>\n",
       "      <th>0</th>\n",
       "      <td>0.0</td>\n",
       "      <td>4,203,578</td>\n",
       "      <td>69.2</td>\n",
       "    </tr>\n",
       "    <tr>\n",
       "      <th>1</th>\n",
       "      <td>3.0</td>\n",
       "      <td>1,871,859</td>\n",
       "      <td>30.8</td>\n",
       "    </tr>\n",
       "    <tr>\n",
       "      <th>2</th>\n",
       "      <td>Total</td>\n",
       "      <td>6,075,437</td>\n",
       "      <td>100.0</td>\n",
       "    </tr>\n",
       "  </tbody>\n",
       "</table>\n",
       "</div>"
      ],
      "text/plain": [
       "  Acceso al contenido de clase - PLATAFORMA VIRTUAL   Recuento Porcentaje\n",
       "0                                               0.0  4,203,578       69.2\n",
       "1                                               3.0  1,871,859       30.8\n",
       "2                                             Total  6,075,437      100.0"
      ]
     },
     "execution_count": 70,
     "metadata": {},
     "output_type": "execute_result"
    }
   ],
   "source": [
    "generar_tabla_recuento(base_filtrada, \"clases_plataforma_virtual\", \"Acceso al contenido de clase - PLATAFORMA VIRTUAL\",True,True)"
   ]
  },
  {
   "cell_type": "code",
   "execution_count": 71,
   "id": "20e720c9-4b89-48f9-bd6b-8d241d797d62",
   "metadata": {},
   "outputs": [
    {
     "data": {
      "text/html": [
       "<div>\n",
       "<style scoped>\n",
       "    .dataframe tbody tr th:only-of-type {\n",
       "        vertical-align: middle;\n",
       "    }\n",
       "\n",
       "    .dataframe tbody tr th {\n",
       "        vertical-align: top;\n",
       "    }\n",
       "\n",
       "    .dataframe thead th {\n",
       "        text-align: right;\n",
       "    }\n",
       "</style>\n",
       "<table border=\"1\" class=\"dataframe\">\n",
       "  <thead>\n",
       "    <tr style=\"text-align: right;\">\n",
       "      <th></th>\n",
       "      <th>Acceso al contenido de clase - OTRO</th>\n",
       "      <th>Recuento</th>\n",
       "      <th>Porcentaje</th>\n",
       "    </tr>\n",
       "  </thead>\n",
       "  <tbody>\n",
       "    <tr>\n",
       "      <th>0</th>\n",
       "      <td>0.0</td>\n",
       "      <td>5,951,653</td>\n",
       "      <td>98.0</td>\n",
       "    </tr>\n",
       "    <tr>\n",
       "      <th>1</th>\n",
       "      <td>4.0</td>\n",
       "      <td>123,784</td>\n",
       "      <td>2.0</td>\n",
       "    </tr>\n",
       "    <tr>\n",
       "      <th>2</th>\n",
       "      <td>Total</td>\n",
       "      <td>6,075,437</td>\n",
       "      <td>100.0</td>\n",
       "    </tr>\n",
       "  </tbody>\n",
       "</table>\n",
       "</div>"
      ],
      "text/plain": [
       "  Acceso al contenido de clase - OTRO   Recuento Porcentaje\n",
       "0                                 0.0  5,951,653       98.0\n",
       "1                                 4.0    123,784        2.0\n",
       "2                               Total  6,075,437      100.0"
      ]
     },
     "execution_count": 71,
     "metadata": {},
     "output_type": "execute_result"
    }
   ],
   "source": [
    "generar_tabla_recuento(base_filtrada, \"clases_otro\", \"Acceso al contenido de clase - OTRO\",True,True)"
   ]
  },
  {
   "cell_type": "code",
   "execution_count": 72,
   "id": "a3f88688-185a-4f61-b092-b1adca569bec",
   "metadata": {},
   "outputs": [
    {
     "data": {
      "text/html": [
       "<div>\n",
       "<style scoped>\n",
       "    .dataframe tbody tr th:only-of-type {\n",
       "        vertical-align: middle;\n",
       "    }\n",
       "\n",
       "    .dataframe tbody tr th {\n",
       "        vertical-align: top;\n",
       "    }\n",
       "\n",
       "    .dataframe thead th {\n",
       "        text-align: right;\n",
       "    }\n",
       "</style>\n",
       "<table border=\"1\" class=\"dataframe\">\n",
       "  <thead>\n",
       "    <tr style=\"text-align: right;\">\n",
       "      <th></th>\n",
       "      <th>Acceso al contenido de clase - WHATSAPP</th>\n",
       "      <th>Recuento</th>\n",
       "      <th>Porcentaje</th>\n",
       "    </tr>\n",
       "  </thead>\n",
       "  <tbody>\n",
       "    <tr>\n",
       "      <th>0</th>\n",
       "      <td>0.0</td>\n",
       "      <td>2,043,578</td>\n",
       "      <td>33.6</td>\n",
       "    </tr>\n",
       "    <tr>\n",
       "      <th>1</th>\n",
       "      <td>5.0</td>\n",
       "      <td>4,031,859</td>\n",
       "      <td>66.4</td>\n",
       "    </tr>\n",
       "    <tr>\n",
       "      <th>2</th>\n",
       "      <td>Total</td>\n",
       "      <td>6,075,437</td>\n",
       "      <td>100.0</td>\n",
       "    </tr>\n",
       "  </tbody>\n",
       "</table>\n",
       "</div>"
      ],
      "text/plain": [
       "  Acceso al contenido de clase - WHATSAPP   Recuento Porcentaje\n",
       "0                                     0.0  2,043,578       33.6\n",
       "1                                     5.0  4,031,859       66.4\n",
       "2                                   Total  6,075,437      100.0"
      ]
     },
     "execution_count": 72,
     "metadata": {},
     "output_type": "execute_result"
    }
   ],
   "source": [
    "generar_tabla_recuento(base_filtrada, \"clases_wsp\", \"Acceso al contenido de clase - WHATSAPP\",True,True)"
   ]
  },
  {
   "cell_type": "code",
   "execution_count": 73,
   "id": "3bb15878-e20d-4c18-8a25-6522174e0ff1",
   "metadata": {},
   "outputs": [
    {
     "data": {
      "text/html": [
       "<div>\n",
       "<style scoped>\n",
       "    .dataframe tbody tr th:only-of-type {\n",
       "        vertical-align: middle;\n",
       "    }\n",
       "\n",
       "    .dataframe tbody tr th {\n",
       "        vertical-align: top;\n",
       "    }\n",
       "\n",
       "    .dataframe thead th {\n",
       "        text-align: right;\n",
       "    }\n",
       "</style>\n",
       "<table border=\"1\" class=\"dataframe\">\n",
       "  <thead>\n",
       "    <tr style=\"text-align: right;\">\n",
       "      <th></th>\n",
       "      <th>Acceso al contenido de clase - CORREO</th>\n",
       "      <th>Recuento</th>\n",
       "      <th>Porcentaje</th>\n",
       "    </tr>\n",
       "  </thead>\n",
       "  <tbody>\n",
       "    <tr>\n",
       "      <th>0</th>\n",
       "      <td>0.0</td>\n",
       "      <td>5,877,302</td>\n",
       "      <td>96.7</td>\n",
       "    </tr>\n",
       "    <tr>\n",
       "      <th>1</th>\n",
       "      <td>6.0</td>\n",
       "      <td>198,134</td>\n",
       "      <td>3.3</td>\n",
       "    </tr>\n",
       "    <tr>\n",
       "      <th>2</th>\n",
       "      <td>Total</td>\n",
       "      <td>6,075,437</td>\n",
       "      <td>100.0</td>\n",
       "    </tr>\n",
       "  </tbody>\n",
       "</table>\n",
       "</div>"
      ],
      "text/plain": [
       "  Acceso al contenido de clase - CORREO   Recuento Porcentaje\n",
       "0                                   0.0  5,877,302       96.7\n",
       "1                                   6.0    198,134        3.3\n",
       "2                                 Total  6,075,437      100.0"
      ]
     },
     "execution_count": 73,
     "metadata": {},
     "output_type": "execute_result"
    }
   ],
   "source": [
    "generar_tabla_recuento(base_filtrada, \"clases_correo\", \"Acceso al contenido de clase - CORREO\",True,True)"
   ]
  },
  {
   "cell_type": "code",
   "execution_count": 74,
   "id": "fd0b0a9f-9e7c-4cd8-b05a-70f5a6144fed",
   "metadata": {},
   "outputs": [
    {
     "data": {
      "text/html": [
       "<div>\n",
       "<style scoped>\n",
       "    .dataframe tbody tr th:only-of-type {\n",
       "        vertical-align: middle;\n",
       "    }\n",
       "\n",
       "    .dataframe tbody tr th {\n",
       "        vertical-align: top;\n",
       "    }\n",
       "\n",
       "    .dataframe thead th {\n",
       "        text-align: right;\n",
       "    }\n",
       "</style>\n",
       "<table border=\"1\" class=\"dataframe\">\n",
       "  <thead>\n",
       "    <tr style=\"text-align: right;\">\n",
       "      <th></th>\n",
       "      <th>Acceso al contenido de clase - LLAMADAS</th>\n",
       "      <th>Recuento</th>\n",
       "      <th>Porcentaje</th>\n",
       "    </tr>\n",
       "  </thead>\n",
       "  <tbody>\n",
       "    <tr>\n",
       "      <th>0</th>\n",
       "      <td>0.0</td>\n",
       "      <td>4,335,639</td>\n",
       "      <td>71.4</td>\n",
       "    </tr>\n",
       "    <tr>\n",
       "      <th>1</th>\n",
       "      <td>7.0</td>\n",
       "      <td>1,739,798</td>\n",
       "      <td>28.6</td>\n",
       "    </tr>\n",
       "    <tr>\n",
       "      <th>2</th>\n",
       "      <td>Total</td>\n",
       "      <td>6,075,437</td>\n",
       "      <td>100.0</td>\n",
       "    </tr>\n",
       "  </tbody>\n",
       "</table>\n",
       "</div>"
      ],
      "text/plain": [
       "  Acceso al contenido de clase - LLAMADAS   Recuento Porcentaje\n",
       "0                                     0.0  4,335,639       71.4\n",
       "1                                     7.0  1,739,798       28.6\n",
       "2                                   Total  6,075,437      100.0"
      ]
     },
     "execution_count": 74,
     "metadata": {},
     "output_type": "execute_result"
    }
   ],
   "source": [
    "generar_tabla_recuento(base_filtrada, \"clases_llamadas\", \"Acceso al contenido de clase - LLAMADAS\",True,True)"
   ]
  },
  {
   "cell_type": "code",
   "execution_count": 75,
   "id": "427d5088-d4f2-4d66-9f2c-c69c9dc373da",
   "metadata": {},
   "outputs": [
    {
     "data": {
      "text/html": [
       "<div>\n",
       "<style scoped>\n",
       "    .dataframe tbody tr th:only-of-type {\n",
       "        vertical-align: middle;\n",
       "    }\n",
       "\n",
       "    .dataframe tbody tr th {\n",
       "        vertical-align: top;\n",
       "    }\n",
       "\n",
       "    .dataframe thead th {\n",
       "        text-align: right;\n",
       "    }\n",
       "</style>\n",
       "<table border=\"1\" class=\"dataframe\">\n",
       "  <thead>\n",
       "    <tr style=\"text-align: right;\">\n",
       "      <th></th>\n",
       "      <th>Acceso al contenido de clase - INTERACCION PROFESOR</th>\n",
       "      <th>Recuento</th>\n",
       "      <th>Porcentaje</th>\n",
       "    </tr>\n",
       "  </thead>\n",
       "  <tbody>\n",
       "    <tr>\n",
       "      <th>0</th>\n",
       "      <td>0.0</td>\n",
       "      <td>2,321,377</td>\n",
       "      <td>38.2</td>\n",
       "    </tr>\n",
       "    <tr>\n",
       "      <th>1</th>\n",
       "      <td>1.0</td>\n",
       "      <td>3,754,060</td>\n",
       "      <td>61.8</td>\n",
       "    </tr>\n",
       "    <tr>\n",
       "      <th>2</th>\n",
       "      <td>Total</td>\n",
       "      <td>6,075,437</td>\n",
       "      <td>100.0</td>\n",
       "    </tr>\n",
       "  </tbody>\n",
       "</table>\n",
       "</div>"
      ],
      "text/plain": [
       "  Acceso al contenido de clase - INTERACCION PROFESOR   Recuento Porcentaje\n",
       "0                                                0.0   2,321,377       38.2\n",
       "1                                                1.0   3,754,060       61.8\n",
       "2                                              Total   6,075,437      100.0"
      ]
     },
     "execution_count": 75,
     "metadata": {},
     "output_type": "execute_result"
    }
   ],
   "source": [
    "generar_tabla_recuento(base_filtrada, \"clases_interaccion_profesor\", \"Acceso al contenido de clase - INTERACCION PROFESOR\",True,True)"
   ]
  },
  {
   "cell_type": "code",
   "execution_count": 76,
   "id": "515bd9ad-1bda-441b-96d6-9e7b6878dce2",
   "metadata": {},
   "outputs": [
    {
     "data": {
      "text/html": [
       "<div>\n",
       "<style scoped>\n",
       "    .dataframe tbody tr th:only-of-type {\n",
       "        vertical-align: middle;\n",
       "    }\n",
       "\n",
       "    .dataframe tbody tr th {\n",
       "        vertical-align: top;\n",
       "    }\n",
       "\n",
       "    .dataframe thead th {\n",
       "        text-align: right;\n",
       "    }\n",
       "</style>\n",
       "<table border=\"1\" class=\"dataframe\">\n",
       "  <thead>\n",
       "    <tr style=\"text-align: right;\">\n",
       "      <th></th>\n",
       "      <th>Acceso al contenido de clase - VIDEOS</th>\n",
       "      <th>Recuento</th>\n",
       "      <th>Porcentaje</th>\n",
       "    </tr>\n",
       "  </thead>\n",
       "  <tbody>\n",
       "    <tr>\n",
       "      <th>0</th>\n",
       "      <td>0.0</td>\n",
       "      <td>2,622,708</td>\n",
       "      <td>43.2</td>\n",
       "    </tr>\n",
       "    <tr>\n",
       "      <th>1</th>\n",
       "      <td>2.0</td>\n",
       "      <td>3,452,729</td>\n",
       "      <td>56.8</td>\n",
       "    </tr>\n",
       "    <tr>\n",
       "      <th>2</th>\n",
       "      <td>Total</td>\n",
       "      <td>6,075,437</td>\n",
       "      <td>100.0</td>\n",
       "    </tr>\n",
       "  </tbody>\n",
       "</table>\n",
       "</div>"
      ],
      "text/plain": [
       "  Acceso al contenido de clase - VIDEOS   Recuento Porcentaje\n",
       "0                                   0.0  2,622,708       43.2\n",
       "1                                   2.0  3,452,729       56.8\n",
       "2                                 Total  6,075,437      100.0"
      ]
     },
     "execution_count": 76,
     "metadata": {},
     "output_type": "execute_result"
    }
   ],
   "source": [
    "generar_tabla_recuento(base_filtrada, \"clases_videos\", \"Acceso al contenido de clase - VIDEOS\",True,True)"
   ]
  },
  {
   "cell_type": "code",
   "execution_count": 77,
   "id": "93ef428c-d602-469d-85d3-5b3ea8dd6134",
   "metadata": {},
   "outputs": [
    {
     "data": {
      "text/html": [
       "<div>\n",
       "<style scoped>\n",
       "    .dataframe tbody tr th:only-of-type {\n",
       "        vertical-align: middle;\n",
       "    }\n",
       "\n",
       "    .dataframe tbody tr th {\n",
       "        vertical-align: top;\n",
       "    }\n",
       "\n",
       "    .dataframe thead th {\n",
       "        text-align: right;\n",
       "    }\n",
       "</style>\n",
       "<table border=\"1\" class=\"dataframe\">\n",
       "  <thead>\n",
       "    <tr style=\"text-align: right;\">\n",
       "      <th></th>\n",
       "      <th>Acceso al contenido de clase - DOCUMENTOS</th>\n",
       "      <th>Recuento</th>\n",
       "      <th>Porcentaje</th>\n",
       "    </tr>\n",
       "  </thead>\n",
       "  <tbody>\n",
       "    <tr>\n",
       "      <th>0</th>\n",
       "      <td>0.0</td>\n",
       "      <td>1,602,516</td>\n",
       "      <td>26.4</td>\n",
       "    </tr>\n",
       "    <tr>\n",
       "      <th>1</th>\n",
       "      <td>3.0</td>\n",
       "      <td>4,472,920</td>\n",
       "      <td>73.6</td>\n",
       "    </tr>\n",
       "    <tr>\n",
       "      <th>2</th>\n",
       "      <td>Total</td>\n",
       "      <td>6,075,437</td>\n",
       "      <td>100.0</td>\n",
       "    </tr>\n",
       "  </tbody>\n",
       "</table>\n",
       "</div>"
      ],
      "text/plain": [
       "  Acceso al contenido de clase - DOCUMENTOS   Recuento Porcentaje\n",
       "0                                       0.0  1,602,516       26.4\n",
       "1                                       3.0  4,472,920       73.6\n",
       "2                                     Total  6,075,437      100.0"
      ]
     },
     "execution_count": 77,
     "metadata": {},
     "output_type": "execute_result"
    }
   ],
   "source": [
    "generar_tabla_recuento(base_filtrada, \"clases_documentos\", \"Acceso al contenido de clase - DOCUMENTOS\",True,True)"
   ]
  },
  {
   "cell_type": "code",
   "execution_count": 78,
   "id": "36785174-deff-494c-acd8-622e9d64c784",
   "metadata": {},
   "outputs": [
    {
     "data": {
      "text/html": [
       "<div>\n",
       "<style scoped>\n",
       "    .dataframe tbody tr th:only-of-type {\n",
       "        vertical-align: middle;\n",
       "    }\n",
       "\n",
       "    .dataframe tbody tr th {\n",
       "        vertical-align: top;\n",
       "    }\n",
       "\n",
       "    .dataframe thead th {\n",
       "        text-align: right;\n",
       "    }\n",
       "</style>\n",
       "<table border=\"1\" class=\"dataframe\">\n",
       "  <thead>\n",
       "    <tr style=\"text-align: right;\">\n",
       "      <th></th>\n",
       "      <th>Acceso al contenido de clase - OTROS</th>\n",
       "      <th>Recuento</th>\n",
       "      <th>Porcentaje</th>\n",
       "    </tr>\n",
       "  </thead>\n",
       "  <tbody>\n",
       "    <tr>\n",
       "      <th>0</th>\n",
       "      <td>0.0</td>\n",
       "      <td>6,046,073</td>\n",
       "      <td>99.5</td>\n",
       "    </tr>\n",
       "    <tr>\n",
       "      <th>1</th>\n",
       "      <td>4.0</td>\n",
       "      <td>29,364</td>\n",
       "      <td>0.5</td>\n",
       "    </tr>\n",
       "    <tr>\n",
       "      <th>2</th>\n",
       "      <td>Total</td>\n",
       "      <td>6,075,437</td>\n",
       "      <td>100.0</td>\n",
       "    </tr>\n",
       "  </tbody>\n",
       "</table>\n",
       "</div>"
      ],
      "text/plain": [
       "  Acceso al contenido de clase - OTROS   Recuento Porcentaje\n",
       "0                                  0.0  6,046,073       99.5\n",
       "1                                  4.0     29,364        0.5\n",
       "2                                Total  6,075,437      100.0"
      ]
     },
     "execution_count": 78,
     "metadata": {},
     "output_type": "execute_result"
    }
   ],
   "source": [
    "generar_tabla_recuento(base_filtrada, \"clases_otros\", \"Acceso al contenido de clase - OTROS\",True,True)"
   ]
  },
  {
   "cell_type": "code",
   "execution_count": 79,
   "id": "282f9864-e1eb-4214-90fd-799d59053aaf",
   "metadata": {},
   "outputs": [
    {
     "data": {
      "text/html": [
       "<div>\n",
       "<style scoped>\n",
       "    .dataframe tbody tr th:only-of-type {\n",
       "        vertical-align: middle;\n",
       "    }\n",
       "\n",
       "    .dataframe tbody tr th {\n",
       "        vertical-align: top;\n",
       "    }\n",
       "\n",
       "    .dataframe thead th {\n",
       "        text-align: right;\n",
       "    }\n",
       "</style>\n",
       "<table border=\"1\" class=\"dataframe\">\n",
       "  <thead>\n",
       "    <tr style=\"text-align: right;\">\n",
       "      <th></th>\n",
       "      <th>Acceso al contenido de clase - MENSAJES DE AUDIO</th>\n",
       "      <th>Recuento</th>\n",
       "      <th>Porcentaje</th>\n",
       "    </tr>\n",
       "  </thead>\n",
       "  <tbody>\n",
       "    <tr>\n",
       "      <th>0</th>\n",
       "      <td>0.0</td>\n",
       "      <td>3,765,520</td>\n",
       "      <td>62.0</td>\n",
       "    </tr>\n",
       "    <tr>\n",
       "      <th>1</th>\n",
       "      <td>5.0</td>\n",
       "      <td>2,309,917</td>\n",
       "      <td>38.0</td>\n",
       "    </tr>\n",
       "    <tr>\n",
       "      <th>2</th>\n",
       "      <td>Total</td>\n",
       "      <td>6,075,437</td>\n",
       "      <td>100.0</td>\n",
       "    </tr>\n",
       "  </tbody>\n",
       "</table>\n",
       "</div>"
      ],
      "text/plain": [
       "  Acceso al contenido de clase - MENSAJES DE AUDIO   Recuento Porcentaje\n",
       "0                                              0.0  3,765,520       62.0\n",
       "1                                              5.0  2,309,917       38.0\n",
       "2                                            Total  6,075,437      100.0"
      ]
     },
     "execution_count": 79,
     "metadata": {},
     "output_type": "execute_result"
    }
   ],
   "source": [
    "generar_tabla_recuento(base_filtrada, \"clases_msm_audio\", \"Acceso al contenido de clase - MENSAJES DE AUDIO\",True,True)"
   ]
  },
  {
   "cell_type": "code",
   "execution_count": 80,
   "id": "942ae27d-d475-4c15-a7d9-a386e01eeab2",
   "metadata": {},
   "outputs": [
    {
     "data": {
      "text/html": [
       "<div>\n",
       "<style scoped>\n",
       "    .dataframe tbody tr th:only-of-type {\n",
       "        vertical-align: middle;\n",
       "    }\n",
       "\n",
       "    .dataframe tbody tr th {\n",
       "        vertical-align: top;\n",
       "    }\n",
       "\n",
       "    .dataframe thead th {\n",
       "        text-align: right;\n",
       "    }\n",
       "</style>\n",
       "<table border=\"1\" class=\"dataframe\">\n",
       "  <thead>\n",
       "    <tr style=\"text-align: right;\">\n",
       "      <th></th>\n",
       "      <th>Acceso al contenido de clase - MENSAJES DE TEXTO</th>\n",
       "      <th>Recuento</th>\n",
       "      <th>Porcentaje</th>\n",
       "    </tr>\n",
       "  </thead>\n",
       "  <tbody>\n",
       "    <tr>\n",
       "      <th>0</th>\n",
       "      <td>0.0</td>\n",
       "      <td>4,068,594</td>\n",
       "      <td>67.0</td>\n",
       "    </tr>\n",
       "    <tr>\n",
       "      <th>1</th>\n",
       "      <td>6.0</td>\n",
       "      <td>2,006,843</td>\n",
       "      <td>33.0</td>\n",
       "    </tr>\n",
       "    <tr>\n",
       "      <th>2</th>\n",
       "      <td>Total</td>\n",
       "      <td>6,075,437</td>\n",
       "      <td>100.0</td>\n",
       "    </tr>\n",
       "  </tbody>\n",
       "</table>\n",
       "</div>"
      ],
      "text/plain": [
       "  Acceso al contenido de clase - MENSAJES DE TEXTO   Recuento Porcentaje\n",
       "0                                              0.0  4,068,594       67.0\n",
       "1                                              6.0  2,006,843       33.0\n",
       "2                                            Total  6,075,437      100.0"
      ]
     },
     "execution_count": 80,
     "metadata": {},
     "output_type": "execute_result"
    }
   ],
   "source": [
    "generar_tabla_recuento(base_filtrada, \"clases_msm_texto\", \"Acceso al contenido de clase - MENSAJES DE TEXTO\",True,True)"
   ]
  },
  {
   "cell_type": "code",
   "execution_count": 81,
   "id": "27e01923-6227-49b8-a1d3-9f3b941f8125",
   "metadata": {},
   "outputs": [
    {
     "data": {
      "text/html": [
       "<div>\n",
       "<style scoped>\n",
       "    .dataframe tbody tr th:only-of-type {\n",
       "        vertical-align: middle;\n",
       "    }\n",
       "\n",
       "    .dataframe tbody tr th {\n",
       "        vertical-align: top;\n",
       "    }\n",
       "\n",
       "    .dataframe thead th {\n",
       "        text-align: right;\n",
       "    }\n",
       "</style>\n",
       "<table border=\"1\" class=\"dataframe\">\n",
       "  <thead>\n",
       "    <tr style=\"text-align: right;\">\n",
       "      <th></th>\n",
       "      <th>Acceso al contenido de clase - SIN ACOMPAÑAMIENTO</th>\n",
       "      <th>Recuento</th>\n",
       "      <th>Porcentaje</th>\n",
       "    </tr>\n",
       "  </thead>\n",
       "  <tbody>\n",
       "    <tr>\n",
       "      <th>0</th>\n",
       "      <td>0.0</td>\n",
       "      <td>5,917,262</td>\n",
       "      <td>97.4</td>\n",
       "    </tr>\n",
       "    <tr>\n",
       "      <th>1</th>\n",
       "      <td>7.0</td>\n",
       "      <td>158,175</td>\n",
       "      <td>2.6</td>\n",
       "    </tr>\n",
       "    <tr>\n",
       "      <th>2</th>\n",
       "      <td>Total</td>\n",
       "      <td>6,075,437</td>\n",
       "      <td>100.0</td>\n",
       "    </tr>\n",
       "  </tbody>\n",
       "</table>\n",
       "</div>"
      ],
      "text/plain": [
       "  Acceso al contenido de clase - SIN ACOMPAÑAMIENTO   Recuento Porcentaje\n",
       "0                                               0.0  5,917,262       97.4\n",
       "1                                               7.0    158,175        2.6\n",
       "2                                             Total  6,075,437      100.0"
      ]
     },
     "execution_count": 81,
     "metadata": {},
     "output_type": "execute_result"
    }
   ],
   "source": [
    "generar_tabla_recuento(base_filtrada, \"clases_sin_acompañamiento\", \"Acceso al contenido de clase - SIN ACOMPAÑAMIENTO\",True,True)"
   ]
  },
  {
   "cell_type": "markdown",
   "id": "932f9ef0",
   "metadata": {
    "tags": []
   },
   "source": [
    "# Graficos"
   ]
  },
  {
   "cell_type": "markdown",
   "id": "7f1c9903-3f4b-407f-a70e-cfe030d6072f",
   "metadata": {},
   "source": [
    "### V. Continuas - Miembros por hogar y Edad"
   ]
  },
  {
   "cell_type": "code",
   "execution_count": null,
   "id": "f2079caf",
   "metadata": {},
   "outputs": [],
   "source": [
    "guardar_histograma_con_pesos(base_filtrada, 'mieperho','Miembros por hogar')"
   ]
  },
  {
   "cell_type": "code",
   "execution_count": null,
   "id": "0948067c",
   "metadata": {},
   "outputs": [],
   "source": [
    "guardar_histograma_con_pesos(base_filtrada, 'Edad','Edad')"
   ]
  },
  {
   "cell_type": "markdown",
   "id": "fb9ef9bf-e2e2-4a30-bf7c-27ca26af6c8a",
   "metadata": {
    "tags": []
   },
   "source": [
    "### V. Cualitativas - Nivel educativo y centro de estudios"
   ]
  },
  {
   "cell_type": "markdown",
   "id": "a96b93fa-2a9a-4535-accb-c7015c49c115",
   "metadata": {
    "tags": []
   },
   "source": [
    "#### Func. Graf de barras"
   ]
  },
  {
   "cell_type": "code",
   "execution_count": null,
   "id": "e4e8d1ee-27b0-4ae3-83a6-8e1db3df88da",
   "metadata": {},
   "outputs": [],
   "source": [
    "def guardar_graf_barras(columna_categorica, labels):\n",
    "    # Crear una paleta de colores personalizada para las categorías\n",
    "    num_categories = len(labels)\n",
    "    custom_palette = [\"#4c72b0\", \"#dd8452\", \"#55a868\", \"#c44e52\", \"#8172b3\",\"#937860\", \"#da8bc3\", \"#8c8c8c\", \"#ccb974\", \"#64b5cd\",\n",
    "    \"#808000\", \"#000080\", \"#006400\", \"#808000\", \"#669966\",\"#007777\", \"#000080\", \"#00008B\", \"#6699CC\", \"#ADD8E6\",\"#8B0000\", \"#A52A2A\", \n",
    "    \"#800000\", \"#D2691E\", \"#FFD700\",'#4c72b0'][:num_categories]\n",
    "\n",
    "    # Crear el gráfico de barras\n",
    "    ax = sns.barplot(x=columna_categorica, y='factor07', data=base_filtrada, estimator=sum, ci=None, palette=custom_palette)\n",
    "\n",
    "    # Etiquetar las barras con los porcentajes\n",
    "    total = base_filtrada['factor07'].sum()\n",
    "    for p in ax.patches:\n",
    "        height = p.get_height()\n",
    "        ax.annotate(f'{(height/total)*100:.0f}%', (p.get_x() + p.get_width() / 2., height), ha='center', va='bottom')\n",
    "\n",
    "    # Generar el nombre del archivo de imagen basado en el nombre de la columna\n",
    "    nombre_archivo = f'estadistico_{columna_categorica}.png'\n",
    "\n",
    "    # Eliminar etiquetas y marcas del eje y\n",
    "    ax.set_yticks([])\n",
    "    ax.set_yticklabels([])\n",
    "\n",
    "    # Etiquetas y título\n",
    "    plt.xlabel('')\n",
    "    plt.ylabel('')\n",
    "    plt.title(f'Porcentaje de estudiante por {columna_categorica}')\n",
    "    \n",
    "    # Especificar el número de columnas en la leyenda (en este caso, 2 columnas)\n",
    "    ncol = 2\n",
    "    \n",
    "    # Reducir el tamaño de fuente de la leyenda\n",
    "    handles = [plt.Rectangle((0,0),1,1, color=col) for col in custom_palette[:len(labels)]]\n",
    "    plt.legend(handles, labels, title='Leyenda', loc='upper left', fontsize=8, bbox_to_anchor=(1, 1), ncol=ncol)\n",
    "    \n",
    "    # Eliminar los spines derecho y superior\n",
    "    ax.spines['right'].set_visible(False)\n",
    "    ax.spines['top'].set_visible(False)\n",
    "    ax.spines['left'].set_visible(False)\n",
    "\n",
    "    # Guardar la imagen en la ruta especificada\n",
    "    ruta_guardado = '../output/images/' + nombre_archivo\n",
    "    plt.savefig(ruta_guardado, bbox_inches='tight')\n",
    "\n",
    "    # Mostrar el gráfico\n",
    "    plt.show()"
   ]
  },
  {
   "cell_type": "markdown",
   "id": "3d508358-0066-4bc7-b6cc-f38da708e930",
   "metadata": {},
   "source": [
    "### Nivel educativo y centro de estudios"
   ]
  },
  {
   "cell_type": "code",
   "execution_count": null,
   "id": "fb330961",
   "metadata": {},
   "outputs": [],
   "source": [
    "label = [\"Inicial\",\"Primaria\",\"Secundaria\"]\n",
    "guardar_graf_barras('Nivel_educativo', labels = label)"
   ]
  },
  {
   "cell_type": "code",
   "execution_count": null,
   "id": "84e72a82-deac-42a8-aba8-4d5bd0234830",
   "metadata": {},
   "outputs": [],
   "source": [
    "# Notas"
   ]
  },
  {
   "cell_type": "code",
   "execution_count": null,
   "id": "fb851343",
   "metadata": {},
   "outputs": [],
   "source": [
    "label = [\"Estatal\",\"No Estatal\"]\n",
    "guardar_graf_barras('Centro_estudios', labels = label)"
   ]
  },
  {
   "cell_type": "markdown",
   "id": "821135f6-bbd4-408f-97cf-367545744fb5",
   "metadata": {},
   "source": [
    "### V.C. Idioma y Sexo"
   ]
  },
  {
   "cell_type": "code",
   "execution_count": null,
   "id": "b198374e",
   "metadata": {},
   "outputs": [],
   "source": [
    "label = [\"Otro\",\"Castellano\"]\n",
    "guardar_graf_barras('Idioma', labels = label)"
   ]
  },
  {
   "cell_type": "code",
   "execution_count": null,
   "id": "64698e3a",
   "metadata": {},
   "outputs": [],
   "source": [
    "label= [\"Hombre\",\"Mujer\"]\n",
    "guardar_graf_barras('Sexo', label)"
   ]
  },
  {
   "cell_type": "markdown",
   "id": "8246ae42-895b-46ed-8ca2-3cafe182f94d",
   "metadata": {},
   "source": [
    "### Area y Estrato Social"
   ]
  },
  {
   "cell_type": "code",
   "execution_count": null,
   "id": "acb742d2",
   "metadata": {},
   "outputs": [],
   "source": [
    "label = [\"Rural\", \"Urbano\"]\n",
    "#guardar_graf_barras('AREA', label = labels)\n",
    "guardar_graf_barras('AREA', label)"
   ]
  },
  {
   "cell_type": "code",
   "execution_count": null,
   "id": "ccd7b96d",
   "metadata": {},
   "outputs": [],
   "source": [
    "label = [\"A\", \"B\",\"C\",\"D\", \"E\",\"rural\"]\n",
    "guardar_graf_barras('estrsocial',label)"
   ]
  },
  {
   "cell_type": "code",
   "execution_count": null,
   "id": "fade1f89-f21a-4143-8399-33e5f3279ebd",
   "metadata": {},
   "outputs": [],
   "source": [
    "label = [\"Costa\", \"Sierra\",\"Selva\",\"Lima Metropolitana\"]\n",
    "guardar_graf_barras('Region',label)"
   ]
  },
  {
   "cell_type": "code",
   "execution_count": null,
   "id": "06d03e85-0613-411c-ad93-470001febe92",
   "metadata": {},
   "outputs": [],
   "source": [
    "label = [\"1.Amazonas\",\"2.Ancash\",\"3.Apurímac\",\"4.Arequipa\",\"5.Ayacucho\",\"6.Cajamarca\",\"7.Callao\",\"8.Cusco\",\"9.Huancavelica\",\"10.Huánuco\",\n",
    "          \"11.Ica\",\"12.Junín\",\"13.La Libertad\",\"14.Lambayeque\",\"15.Lima\",\"16.Loreto\", \"17.Madre de Dios\",\"18.Moquegua\",\"19.Pasco\",\n",
    "         \"20.Piura\", \"21.Puno\",\"22.San Martín\", \"23.Tacna\",\"24.Tumbes\",\"25.Ucayali\"]\n",
    "guardar_graf_barras('DEPARTAMENTO', label)"
   ]
  },
  {
   "cell_type": "code",
   "execution_count": null,
   "id": "fbd11e9b-f3f5-4f63-ad14-79057dea5c62",
   "metadata": {},
   "outputs": [],
   "source": [
    "label = [\"No\",\"Si\"]\n",
    "guardar_graf_barras('Electricidad', label)"
   ]
  },
  {
   "cell_type": "code",
   "execution_count": null,
   "id": "6b0aaae9-9d11-41a4-9e0a-eab67b3a7ad4",
   "metadata": {},
   "outputs": [],
   "source": [
    "base_filtrada_ = base_filtrada.copy()"
   ]
  },
  {
   "cell_type": "markdown",
   "id": "dc91db93-2cab-4e4b-8cb1-17f93fb3f43c",
   "metadata": {},
   "source": [
    "### Grafico de barras - USO"
   ]
  },
  {
   "cell_type": "code",
   "execution_count": null,
   "id": "0e3703ec-713d-4ed5-bdd5-27f9069cf457",
   "metadata": {},
   "outputs": [],
   "source": [
    "base_filtrada_['i_uso'] = base_filtrada_['i_uso'].map({2: 0, 1: 1})\n",
    "base_filtrada_['i_uso_cedu'] = base_filtrada_['i_uso_cedu'].map({0: 0, 3: 1})\n",
    "base_filtrada_['i_uso_trab'] = base_filtrada_['i_uso_trab'].map({0: 0, 2: 1})\n",
    "base_filtrada_['i_uso_hog'] = base_filtrada_['i_uso_hog'].map({0: 0, 1: 1})\n",
    "base_filtrada_['i_uso_cab'] = base_filtrada_['i_uso_cab'].map({0: 0, 4: 1})\n",
    "base_filtrada_['i_uso_casotr'] = base_filtrada_['i_uso_casotr'].map({0: 0, 5: 1})\n",
    "base_filtrada_['i_uso_otro'] = base_filtrada_['i_uso_otro'].map({0: 0, 6: 1})\n",
    "base_filtrada_['i_uso_movil'] = base_filtrada_['i_uso_movil'].map({0: 0, 7: 1})"
   ]
  },
  {
   "cell_type": "markdown",
   "id": "771cfb00-7e1b-4916-ad6a-cd3990ea6de8",
   "metadata": {
    "tags": []
   },
   "source": [
    "### Funcion"
   ]
  },
  {
   "cell_type": "code",
   "execution_count": null,
   "id": "2b8f1515-bbe6-487a-b2b6-b7aec25c56c5",
   "metadata": {},
   "outputs": [],
   "source": [
    "def barras(variable):\n",
    "    freq_1 = base_filtrada_[[ \"factor07\",variable]].groupby([variable]).sum().reset_index()\n",
    "    total_recuento = freq_1['factor07'].sum()\n",
    "    freq_1['Porcentaje'] = (freq_1['factor07'] / total_recuento * 100).round(2)\n",
    "    freq_1.rename(columns={variable: 'variable','factor07': 'value'}, inplace=True)\n",
    "    freq_1 =  freq_1.tail(1)\n",
    "    freq_1['variable'] = freq_1['variable'].replace(1.0, variable)\n",
    "    freq_1['value'] = freq_1['value'].apply(lambda x: '{:,.0f}'.format(x))\n",
    "    #freq_1['Porcentaje'] = freq_1['Porcentaje'].apply(lambda x: '{:.3f}'.format(x))\n",
    "    \n",
    "    return freq_1"
   ]
  },
  {
   "cell_type": "markdown",
   "id": "5fed5286-8813-4db3-b5e4-e91f7b5a8b21",
   "metadata": {},
   "source": [
    "### Otro"
   ]
  },
  {
   "cell_type": "code",
   "execution_count": null,
   "id": "b7713147-a4d7-4142-ae5e-b557f3a979d7",
   "metadata": {},
   "outputs": [],
   "source": [
    "i_uso= barras(\"i_uso\")\n",
    "i_uso_cedu = barras(\"i_uso_cedu\")\n",
    "i_uso_trab = barras(\"i_uso_trab\")\n",
    "i_uso_hog = barras(\"i_uso_hog\")\n",
    "i_uso_cab = barras(\"i_uso_cab\")\n",
    "i_uso_casotr = barras(\"i_uso_casotr\")\n",
    "i_uso_otro = barras(\"i_uso_otro\")\n",
    "i_uso_movil = barras(\"i_uso_movil\")"
   ]
  },
  {
   "cell_type": "code",
   "execution_count": null,
   "id": "38188bf6-13d5-41bd-973a-dd0c41a9f79f",
   "metadata": {},
   "outputs": [],
   "source": [
    "data3 = pd.concat([i_uso_cedu, i_uso_trab, i_uso_hog, i_uso_cab, i_uso_casotr,i_uso_otro, i_uso_movil], axis=0)\n",
    "#data3 = pd.concat([i_uso, i_uso_cedu, i_uso_trab, i_uso_hog, i_uso_cab, i_uso_casotr,i_uso_otro, i_uso_movil], axis=0)\n",
    "data3 = data3.reset_index(drop=True)\n",
    "data3"
   ]
  },
  {
   "cell_type": "raw",
   "id": "5729292f-a09c-41a1-99c7-a1f2149a63d7",
   "metadata": {},
   "source": [
    "    # Eliminar etiquetas y marcas del eje y\n",
    "    ax.set_yticks([])\n",
    "    ax.set_yticklabels([])\n",
    "\n",
    "    # Etiquetas y título\n",
    "    plt.xlabel('')\n",
    "    plt.ylabel('')\n",
    "    plt.title(f'Porcentaje de estudiante por {columna_categorica}')\n",
    "    \n",
    "    # Especificar el número de columnas en la leyenda (en este caso, 2 columnas)\n",
    "    ncol = 2\n",
    "    \n",
    "    # Reducir el tamaño de fuente de la leyenda\n",
    "    handles = [plt.Rectangle((0,0),1,1, color=col) for col in custom_palette[:len(labels)]]\n",
    "    plt.legend(handles, labels, title='Leyenda', loc='upper left', fontsize=8, bbox_to_anchor=(1, 1), ncol=ncol)\n",
    "    \n",
    "    # Eliminar los spines derecho y superior\n",
    "    ax.spines['right'].set_visible(False)\n",
    "    ax.spines['top'].set_visible(False)\n",
    "    ax.spines['left'].set_visible(False)"
   ]
  },
  {
   "cell_type": "markdown",
   "id": "138d46b8-80ee-4062-ae3b-70b73e148d75",
   "metadata": {},
   "source": [
    "## plot"
   ]
  },
  {
   "cell_type": "code",
   "execution_count": null,
   "id": "b1f0855e-38e9-4a3b-a787-0505dbb69fe6",
   "metadata": {},
   "outputs": [],
   "source": [
    "# Plot\n",
    "plt.figure(figsize=(14,10))\n",
    "ax = sns.barplot(data = data3, x = 'Porcentaje', y = 'variable', color = 'grey',\n",
    "                order=data3.sort_values('Porcentaje',ascending = False).variable)\n",
    "# Etiquetas y título\n",
    "plt.xlabel('')\n",
    "plt.ylabel('')\n",
    "\n",
    "# Eliminar los spines derecho y superior\n",
    "ax.spines['right'].set_visible(False)\n",
    "ax.spines['top'].set_visible(False)\n",
    "\n",
    "plt.bar_label(ax.containers[0], fmt='%.2f%%', fontsize=11)\n",
    "\n",
    "# Generar el nombre del archivo de imagen basado en el nombre de la columna\n",
    "nombre_archivo = f'multiples_uso.png'\n",
    "\n",
    "# Guardar la imagen en la ruta especificada\n",
    "ruta_guardado = '../output/images/' + nombre_archivo\n",
    "plt.savefig(ruta_guardado)\n",
    "plt.show()"
   ]
  },
  {
   "cell_type": "markdown",
   "id": "d5a7b65e-4867-4fce-bbb3-469e7174ca48",
   "metadata": {},
   "source": [
    "### Grafico de barras - ACCESO"
   ]
  },
  {
   "cell_type": "code",
   "execution_count": null,
   "id": "c0b4480b-44d8-495f-8a6a-b9214b8e4ef2",
   "metadata": {},
   "outputs": [],
   "source": [
    "base_filtrada_['i_computadora'] = base_filtrada_['i_computadora'].map({0: 0, 1: 1})\n",
    "base_filtrada_['i_tablet'] = base_filtrada_['i_tablet'].map({0: 0, 6: 1})\n",
    "base_filtrada_['i_laptop'] = base_filtrada_['i_laptop'].map({0: 0, 2: 1})\n",
    "base_filtrada_['i_otro'] = base_filtrada_['i_otro'].map({0: 0, 7: 1})\n",
    "base_filtrada_['i_cel_sdatos'] = base_filtrada_['i_cel_sdatos'].map({0: 0, 8: 1})\n",
    "base_filtrada_['i_cel_cdatos'] = base_filtrada_['i_cel_cdatos'].map({0: 0, 9: 1})"
   ]
  },
  {
   "cell_type": "code",
   "execution_count": null,
   "id": "f203c8bd-2304-4e88-a2d8-1e6a29d8eab4",
   "metadata": {},
   "outputs": [],
   "source": [
    "i_computadora = barras(\"i_computadora\")\n",
    "i_tablet = barras(\"i_tablet\")\n",
    "i_laptop = barras(\"i_laptop\")\n",
    "i_otro = barras(\"i_otro\")\n",
    "i_cel_sdatos = barras(\"i_cel_sdatos\")\n",
    "i_cel_cdatos = barras(\"i_cel_cdatos\")"
   ]
  },
  {
   "cell_type": "code",
   "execution_count": null,
   "id": "087ce9ba",
   "metadata": {},
   "outputs": [],
   "source": [
    "data3 = pd.concat([i_computadora, i_tablet, i_laptop, i_otro, i_cel_sdatos, i_cel_cdatos], axis=0)\n",
    "data3 = data3.reset_index(drop=True)\n",
    "data3"
   ]
  },
  {
   "cell_type": "markdown",
   "id": "6a6d3c23-b823-402d-8b57-708501fa7aa8",
   "metadata": {},
   "source": [
    "## Plot"
   ]
  },
  {
   "cell_type": "code",
   "execution_count": null,
   "id": "06ea4854-c7c1-4607-8656-23b5be3e319b",
   "metadata": {},
   "outputs": [],
   "source": [
    "# Plot\n",
    "plt.figure(figsize=(14,10))\n",
    "ax = sns.barplot(data = data3, x = 'Porcentaje', y = 'variable', color = 'grey',\n",
    "                order=data3.sort_values('Porcentaje',ascending = False).variable)\n",
    "# Etiquetas y título\n",
    "plt.xlabel('')\n",
    "plt.ylabel('')\n",
    "\n",
    "# Eliminar los spines derecho y superior\n",
    "ax.spines['right'].set_visible(False)\n",
    "ax.spines['top'].set_visible(False)\n",
    "\n",
    "plt.bar_label(ax.containers[0], fmt='%.2f%%', fontsize=11)\n",
    "\n",
    "# Generar el nombre del archivo de imagen basado en el nombre de la columna\n",
    "nombre_archivo = f'multiples_acceso.png'\n",
    "\n",
    "# Guardar la imagen en la ruta especificada\n",
    "ruta_guardado = '../output/images/' + nombre_archivo\n",
    "plt.savefig(ruta_guardado)\n",
    "\n",
    "plt.show()"
   ]
  },
  {
   "cell_type": "markdown",
   "id": "c84a96f1-bd49-459f-bae9-9b4db5eb05c6",
   "metadata": {},
   "source": [
    "### Grafico de barras - Clases a DISTANCIA"
   ]
  },
  {
   "cell_type": "code",
   "execution_count": null,
   "id": "aa1214bc-51f5-4f13-9695-0b9a9c5f35f1",
   "metadata": {},
   "outputs": [],
   "source": [
    "base_filtrada_['clases_tv'] = base_filtrada_['clases_tv'].map({0: 0, 1: 1})\n",
    "base_filtrada_['clases_radio'] = base_filtrada_['clases_radio'].map({0: 0, 2: 1})\n",
    "base_filtrada_['clases_plataforma_virtual'] = base_filtrada_['clases_plataforma_virtual'].map({0: 0, 3: 1})\n",
    "base_filtrada_['clases_otro'] = base_filtrada_['clases_otro'].map({0: 0, 4: 1})\n",
    "base_filtrada_['clases_wsp'] = base_filtrada_['clases_wsp'].map({0: 0, 5: 1})\n",
    "base_filtrada_['clases_correo'] = base_filtrada_['clases_correo'].map({0: 0, 6: 1})\n",
    "base_filtrada_['clases_llamadas'] = base_filtrada_['clases_llamadas'].map({0: 0, 7: 1})"
   ]
  },
  {
   "cell_type": "code",
   "execution_count": null,
   "id": "e39c2f03-b1eb-41bf-b3af-46617d8a6df5",
   "metadata": {},
   "outputs": [],
   "source": [
    "base_filtrada_['clases_interaccion_profesor'] = base_filtrada_['clases_interaccion_profesor'].map({0: 0, 1: 1})\n",
    "base_filtrada_['clases_videos'] = base_filtrada_['clases_videos'].map({0: 0, 2: 1})\n",
    "base_filtrada_['clases_documentos'] = base_filtrada_['clases_documentos'].map({0: 0, 3: 1})\n",
    "base_filtrada_['clases_otros'] = base_filtrada_['clases_otros'].map({0: 0, 4: 1})\n",
    "base_filtrada_['clases_msm_audio'] = base_filtrada_['clases_msm_audio'].map({0: 0, 5: 1})\n",
    "base_filtrada_['clases_msm_texto'] = base_filtrada_['clases_msm_texto'].map({0: 0, 6: 1})\n",
    "base_filtrada_['clases_sin_acompañamiento'] = base_filtrada_['clases_sin_acompañamiento'].map({0: 0, 7: 1})"
   ]
  },
  {
   "cell_type": "code",
   "execution_count": null,
   "id": "bdeb62a5-32e6-40f1-b13f-779467c09138",
   "metadata": {},
   "outputs": [],
   "source": [
    "clases_tv         =   barras(\"clases_tv\")\n",
    "clases_radio      = barras(\"clases_radio\")\n",
    "clases_plataforma_virtual = barras(\"clases_plataforma_virtual\")\n",
    "clases_otro       = barras(\"clases_otro\")\n",
    "clases_wsp        = barras(\"clases_wsp\")\n",
    "clases_correo     = barras(\"clases_correo\")\n",
    "clases_llamadas   = barras(\"clases_llamadas\")\n",
    "clases_interaccion_profesor = barras(\"clases_interaccion_profesor\")\n",
    "clases_videos     = barras(\"clases_videos\")\n",
    "clases_documentos = barras(\"clases_documentos\")\n",
    "clases_otros      = barras(\"clases_otros\")\n",
    "clases_msm_audio  = barras(\"clases_msm_audio\")\n",
    "clases_msm_texto  = barras(\"clases_msm_texto\")\n",
    "clases_sin_acompañamiento = barras(\"clases_sin_acompañamiento\")"
   ]
  },
  {
   "cell_type": "code",
   "execution_count": null,
   "id": "84c82615-b957-43e8-b0c6-e7cc6c241837",
   "metadata": {},
   "outputs": [],
   "source": [
    "data3 = pd.concat([clases_tv, clases_radio, clases_plataforma_virtual, clases_otro, clases_wsp, clases_correo, clases_llamadas,\n",
    "                   clases_interaccion_profesor, clases_videos, clases_documentos, clases_otros, clases_msm_audio, clases_msm_texto,\n",
    "                   clases_sin_acompañamiento], axis=0)\n",
    "data3 = data3.reset_index(drop=True)\n",
    "data3"
   ]
  },
  {
   "cell_type": "markdown",
   "id": "de8fca3c-bab0-4fb8-b838-8ba301c16e6d",
   "metadata": {
    "tags": []
   },
   "source": [
    "## plot"
   ]
  },
  {
   "cell_type": "code",
   "execution_count": null,
   "id": "ef1367d4-cf16-411e-b46f-b725f8b557f3",
   "metadata": {},
   "outputs": [],
   "source": [
    "# Plot\n",
    "plt.figure(figsize=(14,10))\n",
    "ax = sns.barplot(data = data3, x = 'Porcentaje', y = 'variable', color = 'grey',\n",
    "                order=data3.sort_values('Porcentaje',ascending = False).variable)\n",
    "\n",
    "# Etiquetas y título\n",
    "plt.xlabel('')\n",
    "plt.ylabel('')\n",
    "\n",
    "# Eliminar los spines derecho y superior\n",
    "ax.spines['right'].set_visible(False)\n",
    "ax.spines['top'].set_visible(False)\n",
    "\n",
    "plt.bar_label(ax.containers[0], fmt='%.2f%%', fontsize=11)\n",
    "\n",
    "# Generar el nombre del archivo de imagen basado en el nombre de la columna\n",
    "nombre_archivo = f'multiple_clases.png'\n",
    "\n",
    "# Guardar la imagen en la ruta especificada\n",
    "ruta_guardado = '../output/images/' + nombre_archivo\n",
    "plt.savefig(ruta_guardado)\n",
    "\n",
    "plt.show()"
   ]
  },
  {
   "cell_type": "markdown",
   "id": "fa9e36b7",
   "metadata": {},
   "source": [
    "# Regresión"
   ]
  },
  {
   "cell_type": "code",
   "execution_count": null,
   "id": "e121013f",
   "metadata": {},
   "outputs": [],
   "source": [
    "base_filtrada['i_uso_hog'].value_counts()\n",
    "missing_values = base_filtrada['i_uso_hog'].isna().sum()\n",
    "print(\"Número de valores faltantes en 'i_uso_hog':\", missing_values)"
   ]
  },
  {
   "cell_type": "code",
   "execution_count": null,
   "id": "e68763a3-2144-4511-bb9a-505130ec08f9",
   "metadata": {},
   "outputs": [],
   "source": [
    "base_filtrada.shape"
   ]
  },
  {
   "cell_type": "code",
   "execution_count": null,
   "id": "d37e9a4f",
   "metadata": {},
   "outputs": [],
   "source": [
    "base_filtrada = base_filtrada.dropna(subset=['i_uso_hog'])\n",
    "weights = base_filtrada['factor07']"
   ]
  },
  {
   "cell_type": "code",
   "execution_count": null,
   "id": "d4268ddb",
   "metadata": {},
   "outputs": [],
   "source": [
    "# Definir las variables dependientes, independientes y los pesos\n",
    "y = base_filtrada['i_uso_hog']\n",
    "X = base_filtrada[['mieperho','Nivel_educativo','Centro_estudios','Idioma','Sexo','AREA','estrsocial','Edad',\n",
    "                   'Electricidad'\n",
    "                  ## 'region'\n",
    "                  ]] \n",
    "#X = base_filtrada[['mieperho','p308a','p308d','p300a','p207','AREA','estrsocial','p208a','p1121']]  # Agrega aquí tus otras variables independientes\n"
   ]
  },
  {
   "cell_type": "code",
   "execution_count": null,
   "id": "dd0178a0",
   "metadata": {},
   "outputs": [],
   "source": [
    "# los nombres de las variables deben respresentar al menos una idea de lo que represento\n",
    "# Revisar qué variables son categoricas y continuas \n"
   ]
  },
  {
   "cell_type": "code",
   "execution_count": null,
   "id": "aa62d680-63ad-448d-b393-ad6bc41d6f01",
   "metadata": {},
   "outputs": [],
   "source": [
    "# Define la variable dependiente (binaria) y las variables independientes\n",
    "y = base_filtrada['i_uso_hog']\n",
    "X = base_filtrada[['mieperho', 'Nivel_educativo', 'Centro_estudios', 'Idioma', 'Sexo', 'AREA', 'estrsocial', 'Edad', 'Electricidad']]\n",
    "\n",
    "# Codifica la variable categórica ordinal \"Nivel_educativo\" en variables dummy\n",
    "nivel_educativo_dummies = pd.get_dummies(base_filtrada['Nivel_educativo'], prefix='Nivel_educativo', drop_first=True)\n",
    "\n",
    "# Codifica la variable categórica nominal \"Region\" en variables dummy\n",
    "region_dummies = pd.get_dummies(base_filtrada['Region'], prefix='Region', drop_first=True)\n",
    "\n",
    "# Codifica la variable categórica nominal \"Region\" en variables dummy\n",
    "departamento_dummies = pd.get_dummies(base_filtrada['DEPARTAMENTO'], prefix='DEPARTAMENTO', drop_first=True)\n",
    "\n",
    "# Combina las variables dummy con el conjunto de variables independientes\n",
    "X = pd.concat([X, nivel_educativo_dummies, region_dummies, departamento_dummies], axis=1)"
   ]
  },
  {
   "cell_type": "markdown",
   "id": "6491e8a4-8137-49e3-884b-f10dec0b187c",
   "metadata": {},
   "source": [
    "## Regresión Lineal SIMPLE"
   ]
  },
  {
   "cell_type": "code",
   "execution_count": null,
   "id": "e9733904",
   "metadata": {},
   "outputs": [],
   "source": [
    "model = sm.OLS(y, X).fit()\n",
    "print(model.summary())"
   ]
  },
  {
   "cell_type": "markdown",
   "id": "a11ead89-11f5-4e73-9c9c-6cb97be07610",
   "metadata": {},
   "source": [
    "## Modelo Logit"
   ]
  },
  {
   "cell_type": "raw",
   "id": "db304826-b720-4ec3-bb60-ebcbf425eb9a",
   "metadata": {},
   "source": [
    "# Realizar la regresión probit ponderada\n",
    "model = sm.GLM(y, X, family=sm.families.Binomial(), weights=weights)\n",
    "results = model.fit()\n",
    "\n",
    "# Imprimir los resultados de la regresión probit\n",
    "print(results.summary())\n",
    "\n",
    "# Calcula los efectos marginales\n",
    "#efectos_marginales = results.get_margeff()\n",
    "#print(efectos_marginales.summary())"
   ]
  },
  {
   "cell_type": "raw",
   "id": "167041cd-ae1a-4c02-bf0e-ef90ca8de609",
   "metadata": {},
   "source": [
    "# Agregar una constante al conjunto de datos (intercepto)\n",
    "X = sm.add_constant(X)\n",
    "\n",
    "# Ajustar el modelo Logit ponderado\n",
    "model_logit = sm.WLS(y, X, weights=weights)\n",
    "results_logit = model_logit.fit()\n",
    "\n",
    "# Imprimir los resultados del modelo Logit\n",
    "print(results_logit.summary())"
   ]
  },
  {
   "cell_type": "markdown",
   "id": "74c72ff0-5291-4683-b588-c7647db4e2d2",
   "metadata": {},
   "source": [
    "## Modelo Probit"
   ]
  },
  {
   "cell_type": "code",
   "execution_count": null,
   "id": "7f4770d9",
   "metadata": {},
   "outputs": [],
   "source": [
    "# Agregar una constante al conjunto de datos (intercepto)\n",
    "X = sm.add_constant(X)\n",
    "\n",
    "# Ajustar el modelo Probit ponderado\n",
    "model_probit = sm.Probit(y, X, weights=weights)\n",
    "results_probit = model_probit.fit()\n",
    "\n",
    "# Imprimir los resultados del modelo Probit\n",
    "print(results_probit.summary())\n",
    "\n",
    "# Calcula los efectos marginales\n",
    "efectos_marginales = results_probit.get_margeff()\n",
    "print(efectos_marginales.summary())"
   ]
  },
  {
   "cell_type": "raw",
   "id": "b846990d-e260-4f99-94f8-2affaf83630e",
   "metadata": {},
   "source": [
    "formula = 'i_uso_hog ~ mieperho + Nivel_educativo + Centro_estudios + Idioma + Sexo + AREA + estrsocial + Edad + Electricidad'\n",
    "\n",
    "# Definir los pesos de la encuesta (pweight)\n",
    "weights = base_filtrada['factor07']\n",
    "\n",
    "# Ajustar el modelo Probit ponderado\n",
    "model = smf.wls(formula=formula, data=base_filtrada, weights=weights, family=sm.families.Binomial())\n",
    "results = model.fit()\n",
    "\n",
    "# Imprimir los resultados de la regresión Probit ponderada\n",
    "print(results.summary())"
   ]
  },
  {
   "cell_type": "code",
   "execution_count": null,
   "id": "73f8be9d-1158-40c9-a707-9c5fe46a2535",
   "metadata": {},
   "outputs": [],
   "source": []
  }
 ],
 "metadata": {
  "kernelspec": {
   "display_name": "Python 3 (ipykernel)",
   "language": "python",
   "name": "python3"
  },
  "language_info": {
   "codemirror_mode": {
    "name": "ipython",
    "version": 3
   },
   "file_extension": ".py",
   "mimetype": "text/x-python",
   "name": "python",
   "nbconvert_exporter": "python",
   "pygments_lexer": "ipython3",
   "version": "3.9.13"
  },
  "toc-autonumbering": true,
  "toc-showcode": false,
  "toc-showmarkdowntxt": false
 },
 "nbformat": 4,
 "nbformat_minor": 5
}
