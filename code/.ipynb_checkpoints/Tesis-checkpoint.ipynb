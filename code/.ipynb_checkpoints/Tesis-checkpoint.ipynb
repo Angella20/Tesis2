{
 "cells": [
  {
   "cell_type": "markdown",
   "id": "85b16d18-7f03-4f1f-ac05-007b2244a654",
   "metadata": {
    "tags": []
   },
   "source": [
    "# Librerias"
   ]
  },
  {
   "cell_type": "code",
   "execution_count": 1,
   "id": "7244ff7e",
   "metadata": {},
   "outputs": [],
   "source": [
    "import os\n",
    "#import seaborn as sns\n",
    "import pandas as pd\n",
    "import warnings\n",
    "import statsmodels.api as sm\n",
    "from tabulate import tabulate\n",
    "import matplotlib.patches as patches\n",
    "import samplics\n",
    "#import numpy as np\n",
    "from statsmodels.discrete.discrete_model import Logit\n",
    "import statsmodels.formula.api as smf\n",
    "\n",
    "warnings.filterwarnings(\"ignore\", category=FutureWarning)\n",
    "from utils import *"
   ]
  },
  {
   "cell_type": "markdown",
   "id": "e06259cd-5d23-4779-bb59-769d91dac83e",
   "metadata": {
    "tags": []
   },
   "source": [
    "# Modulos"
   ]
  },
  {
   "cell_type": "code",
   "execution_count": 2,
   "id": "e7b700d1",
   "metadata": {},
   "outputs": [],
   "source": [
    "modulo_hogar = pd.read_stata(\"../input/enaho01-2020-100.dta\", convert_categoricals=False)\n",
    "columnas_interes = ['conglome','vivienda','hogar','ubigeo','p1121','p1142','p1143','p1144','codccpp']\n",
    "#columnas_interes = ['conglome','vivienda','hogar','ubigeo','p1121','p1123','p1124','p1125','p1126','p1127','p1142','p1143','p1144']\n",
    "modulo_hogar = modulo_hogar[columnas_interes]\n",
    "\n",
    "# Variables de interés: Parentesco Sexo y Edad\n",
    "modulo_miembros = pd.read_stata(\"../input/enaho01-2020-200.dta\", convert_categoricals=False)\n",
    "columnas_interes_miembros = ['conglome','vivienda','hogar','ubigeo','codperso',\"p203\",\"p207\",'p208a']\n",
    "modulo_miembros = modulo_miembros[columnas_interes_miembros]\n",
    "\n",
    "# Variables de interés\n",
    "modulo_educa = pd.read_stata(\"../input/enaho01a-2020-300.dta\", convert_categoricals=False)\n",
    "columnas_interes_educa = ['conglome','vivienda','hogar','codperso','ubigeo','dominio','estrato',\"p300a\",\"p301a\",\"p301b\",\"p301c\",\"p304a\",\"p304b\", \n",
    "    \"p307a1\",\"p307a2\",\"p307a3\",\"p307a4\",\"p307a4_5\",\"p307a4_6\",\"p307a4_7\",\"p307b1\",\"p307b2\",\"p307b3\",\"p307b4\",\"p307b4_5\",\"p307b4_6\",\"p307b4_7\",\n",
    "    \"p308a\",\"p308b\",\"p308c\",\"p308d\",\n",
    "    \"p314a\",\"p314b_1\",\"p314b_2\",\"p314b_3\",\"p314b_4\",\"p314b_5\",\"p314b_6\",\"p314b_7\",\"p314b1_1\",\"p314b1_2\",\"p314b1_8\",\"p314b1_9\",\"p314b1_6\",\"p314b1_7\",\"p314d\",   \n",
    "    \"p315a\",\"p315b\",\"p316_1\",\"p316_2\", \"p316_3\",\"p316_4\",\"p316_5\",\"p316_6\",\"p316_7\",\"p316_8\",\"p316_9\",\"p316_10\",\"p316_11\",\"p316_12\",\n",
    "    \"p316a1\",\"p316b\", \"p316c1\",\"p316c2\",\"p316c3\",\"p316c4\",\"p316c5\",\"p316c6\",\"p316c7\",\"p316c8\",\"p316c9\",\"p316c10\",\n",
    "     \"t313a\", \"factor07\"]\n",
    "modulo_educa = modulo_educa[columnas_interes_educa]\n",
    "\n",
    "sumaria = pd.read_stata(\"../input/sumaria-2020.dta\", convert_categoricals=False)\n",
    "columnas_interes_sumaria = ['conglome', 'vivienda', 'hogar','ubigeo','estrsocial','mieperho','totmieho']\n",
    "sumaria = sumaria[columnas_interes_sumaria]"
   ]
  },
  {
   "cell_type": "markdown",
   "id": "b0f9992e-02eb-4530-b2a4-ffe92becbb10",
   "metadata": {},
   "source": [
    "## Merge"
   ]
  },
  {
   "cell_type": "code",
   "execution_count": 3,
   "id": "d33b6f8f",
   "metadata": {},
   "outputs": [],
   "source": [
    "# Realizar el merge version final 2\n",
    "# Primero, unir modulo_hogar y modulo_miembros usando las columnas comunes\n",
    "merged_data1 = pd.merge(modulo_educa, modulo_miembros, on=['conglome', 'vivienda', 'hogar', 'ubigeo','codperso'], how='inner')\n",
    "\n",
    "# Luego, unir el resultado anterior con modulo_educa\n",
    "merged_data2 = pd.merge(sumaria, modulo_hogar, on=['conglome', 'vivienda', 'hogar', 'ubigeo'], how='inner')\n",
    "\n",
    "# Finalmente, unir el resultado anterior con sumaria\n",
    "merged_data = pd.merge(merged_data1, merged_data2, on=['conglome', 'vivienda', 'hogar', 'ubigeo'], how='left')"
   ]
  },
  {
   "cell_type": "code",
   "execution_count": 4,
   "id": "f77110ef",
   "metadata": {},
   "outputs": [
    {
     "name": "stdout",
     "output_type": "stream",
     "text": [
      "(115777, 85)\n"
     ]
    }
   ],
   "source": [
    "print(merged_data.shape)"
   ]
  },
  {
   "cell_type": "code",
   "execution_count": 5,
   "id": "5d5d65ef",
   "metadata": {},
   "outputs": [
    {
     "name": "stdout",
     "output_type": "stream",
     "text": [
      "Index(['conglome', 'vivienda', 'hogar', 'codperso', 'ubigeo', 'dominio',\n",
      "       'estrato', 'p300a', 'p301a', 'p301b', 'p301c', 'p304a', 'p304b',\n",
      "       'p307a1', 'p307a2', 'p307a3', 'p307a4', 'p307a4_5', 'p307a4_6',\n",
      "       'p307a4_7', 'p307b1', 'p307b2', 'p307b3', 'p307b4', 'p307b4_5',\n",
      "       'p307b4_6', 'p307b4_7', 'p308a', 'p308b', 'p308c', 'p308d', 'p314a',\n",
      "       'p314b_1', 'p314b_2', 'p314b_3', 'p314b_4', 'p314b_5', 'p314b_6',\n",
      "       'p314b_7', 'p314b1_1', 'p314b1_2', 'p314b1_8', 'p314b1_9', 'p314b1_6',\n",
      "       'p314b1_7', 'p314d', 'p315a', 'p315b', 'p316_1', 'p316_2', 'p316_3',\n",
      "       'p316_4', 'p316_5', 'p316_6', 'p316_7', 'p316_8', 'p316_9', 'p316_10',\n",
      "       'p316_11', 'p316_12', 'p316a1', 'p316b', 'p316c1', 'p316c2', 'p316c3',\n",
      "       'p316c4', 'p316c5', 'p316c6', 'p316c7', 'p316c8', 'p316c9', 'p316c10',\n",
      "       't313a', 'factor07', 'p203', 'p207', 'p208a', 'estrsocial', 'mieperho',\n",
      "       'totmieho', 'p1121', 'p1142', 'p1143', 'p1144', 'codccpp'],\n",
      "      dtype='object')\n"
     ]
    }
   ],
   "source": [
    "print(merged_data.columns)"
   ]
  },
  {
   "cell_type": "markdown",
   "id": "3f6f72ac-29c5-4dbc-b327-f196a8533f89",
   "metadata": {
    "tags": []
   },
   "source": [
    "# Variables - TRATAMIENTO"
   ]
  },
  {
   "cell_type": "markdown",
   "id": "bb143ee5-5baf-4e6d-ab83-5c4d595244b7",
   "metadata": {
    "tags": []
   },
   "source": [
    "### Departamento / Años de escolaridad"
   ]
  },
  {
   "cell_type": "code",
   "execution_count": 6,
   "id": "b2007026-2c85-4b5f-868c-e3f9c45cc456",
   "metadata": {},
   "outputs": [],
   "source": [
    "merged_data[\"DEPARTAMENTO\"] = merged_data[\"ubigeo\"].astype(str).str[:2]\n",
    "merged_data[\"DEPARTAMENTO\"] = pd.to_numeric(merged_data[\"DEPARTAMENTO\"], errors=\"coerce\")\n",
    "#dict_departamento = {\n",
    "#    1: \"Amazonas\", 2: \"Ancash\", 3: \"Apurímac\", 4: \"Arequipa\", 5: \"Ayacucho\", 6: \"Cajamarca\", 7: \"Callao\", 8: \"Cusco\",\n",
    "#    9: \"Huancavelica\", 10: \"Huánuco\", 11: \"Ica\", 12: \"Junín\", 13: \"La Libertad\", 14: \"Lambayeque\", 15: \"Lima\",\n",
    "#    16: \"Loreto\", 17: \"Madre de Dios\", 18: \"Moquegua\", 19: \"Pasco\", 20: \"Piura\", 21: \"Puno\", 22: \"San Martín\", \n",
    "#    23: \"Tacna\", 24: \"Tumbes\", 25: \"Ucayali\"\n",
    "#}"
   ]
  },
  {
   "cell_type": "code",
   "execution_count": 7,
   "id": "534db7fd-014e-4cac-a004-8e438e4b208e",
   "metadata": {},
   "outputs": [],
   "source": [
    "# Generate X5=p301b\n",
    "merged_data['X5'] = merged_data['p301b']\n",
    "\n",
    "# Replace X5=0 if p301a==1 or p301a==2\n",
    "merged_data.loc[(merged_data['p301a'] == 1) | (merged_data['p301a'] == 2), 'X5'] = 0\n",
    "\n",
    "# Recode X5 based on conditions\n",
    "merged_data.loc[merged_data['p301a'] == 3, 'X5'] = merged_data['X5'].map({1: 1, 2: 2, 3: 3, 4: 4})\n",
    "merged_data.loc[merged_data['p301a'] == 4, 'X5'] = merged_data['X5'].map({5: 5, 6: 6})\n",
    "merged_data.loc[merged_data['p301a'] == 5, 'X5'] = merged_data['X5'].map({1: 7, 2: 8, 3: 9, 4: 10})\n",
    "merged_data.loc[merged_data['p301a'] == 6, 'X5'] = merged_data['X5'].map({5: 11, 6: 12})\n",
    "merged_data.loc[merged_data['p301a'] == 7, 'X5'] = merged_data['X5'].map({1: 12, 2: 13, 3: 14, 4: 15})\n",
    "merged_data.loc[merged_data['p301a'] == 8, 'X5'] = merged_data['X5'].map({3: 14, 4: 15, 5: 16})\n",
    "merged_data.loc[merged_data['p301a'] == 9, 'X5'] = merged_data['X5'].map({1: 12, 2: 13, 3: 14, 4: 15, 5: 16, 6: 17})\n",
    "merged_data.loc[merged_data['p301a'] == 10, 'X5'] = merged_data['X5'].map({4: 15, 5: 16, 6: 17, 7: 18})\n",
    "\n",
    "# Save _p301c in a new column\n",
    "merged_data['_p301c'] = merged_data['p301c']\n",
    "\n",
    "# Recode _p301c (0=1)\n",
    "merged_data.loc[merged_data['_p301c'] == 0, '_p301c'] = 1\n",
    "\n",
    "# Replace X5 with _p301c under specified conditions\n",
    "merged_data.loc[(merged_data['p301b'] == 0) & (merged_data['p301a'] != 2), 'X5'] = merged_data['_p301c']"
   ]
  },
  {
   "cell_type": "markdown",
   "id": "63bda6e5-6155-4931-b85d-49fc1f854c7d",
   "metadata": {},
   "source": [
    "### Area / Idioma / Región"
   ]
  },
  {
   "cell_type": "code",
   "execution_count": 8,
   "id": "08ee393e",
   "metadata": {},
   "outputs": [],
   "source": [
    "# Recodificar la variable \"estrato\" para crear la variable \"area\"\n",
    "merged_data[\"Area\"] = merged_data[\"estrato\"].apply(lambda x: 1 if 1 <= x <= 5 else 0) #{1: \"Urbano\", 0: \"Rural\"}\n",
    "\n",
    "# IDIOMA \n",
    "merged_data[\"Idioma\"] = merged_data[\"p300a\"].apply(lambda x: 1 if 4 == x  else 0)   # {1: \"Castellano\", 0: \"Otros\"}\n",
    "#1 Quechua 2 Aimara 3 Otra lengua nativa 4 Castellano 6 Portugués 7 Otra lengua extranjera \n",
    "# 8 No escucha/no habla9 Lengua de señas peruanas 10 Ashaninka 11 Awajun/Aguaruna 12 Shipibo-Konibo \n",
    "# 13 Shawi/Chayahuita 14 Matsigenka/Machiguenga 15 Achuar\n",
    "\n",
    "# Recodificar la variable \"dominio\" para crear la variable \"region\"\n",
    "#dict_region = { 1:\"Costa\", 2:\"Costa\", 3: \"Costa\", 4:\"Sierra\", 5:\"Sierra\", 6:\"Sierra\", 7:\"Selva\", 8: \"Lima Metropolitana\"}\n",
    "dict_region = { 1:1, 2:1, 3: 1, 4:2, 5:2, 6:2, 7:3, 8: 1}\n",
    "merged_data[\"Region\"] = merged_data[\"dominio\"].map(dict_region)"
   ]
  },
  {
   "cell_type": "code",
   "execution_count": 9,
   "id": "d975765c",
   "metadata": {},
   "outputs": [
    {
     "name": "stdout",
     "output_type": "stream",
     "text": [
      "Index(['conglome', 'vivienda', 'hogar', 'codperso', 'ubigeo', 'dominio',\n",
      "       'estrato', 'p300a', 'p301a', 'p301b', 'p301c', 'p304a', 'p304b',\n",
      "       'p307a1', 'p307a2', 'p307a3', 'p307a4', 'p307a4_5', 'p307a4_6',\n",
      "       'p307a4_7', 'p307b1', 'p307b2', 'p307b3', 'p307b4', 'p307b4_5',\n",
      "       'p307b4_6', 'p307b4_7', 'p308a', 'p308b', 'p308c', 'p308d', 'p314a',\n",
      "       'p314b_1', 'p314b_2', 'p314b_3', 'p314b_4', 'p314b_5', 'p314b_6',\n",
      "       'p314b_7', 'p314b1_1', 'p314b1_2', 'p314b1_8', 'p314b1_9', 'p314b1_6',\n",
      "       'p314b1_7', 'p314d', 'p315a', 'p315b', 'p316_1', 'p316_2', 'p316_3',\n",
      "       'p316_4', 'p316_5', 'p316_6', 'p316_7', 'p316_8', 'p316_9', 'p316_10',\n",
      "       'p316_11', 'p316_12', 'p316a1', 'p316b', 'p316c1', 'p316c2', 'p316c3',\n",
      "       'p316c4', 'p316c5', 'p316c6', 'p316c7', 'p316c8', 'p316c9', 'p316c10',\n",
      "       't313a', 'factor07', 'p203', 'p207', 'p208a', 'estrsocial', 'mieperho',\n",
      "       'totmieho', 'p1121', 'p1142', 'p1143', 'p1144', 'codccpp',\n",
      "       'DEPARTAMENTO', 'X5', '_p301c', 'Area', 'Idioma', 'Region'],\n",
      "      dtype='object')\n"
     ]
    }
   ],
   "source": [
    "print(merged_data.columns)"
   ]
  },
  {
   "cell_type": "markdown",
   "id": "52581bb3-b8dd-4d60-9fe4-c0da3aeb73ab",
   "metadata": {},
   "source": [
    "## Renombrar variables"
   ]
  },
  {
   "cell_type": "code",
   "execution_count": 10,
   "id": "7ffb76b5",
   "metadata": {},
   "outputs": [],
   "source": [
    "# Rename columns\n",
    "new_column_names = {'p308a': 'Nivel_educativo', 'p308d': 'Centro_estudios','p207': 'Sexo', 'p208a':\"Edad\",'p1121':'Electricidad',\n",
    "                    'p1143':'conexion_cable_hog', \"p1144\":\"i_conexion_hog\", \"p1142\":\"cel_hog\",\"p203\":\"parentesco\",\"X5\":\"años_escolaridad\",\n",
    "#\"p307a1\":\"clases_tv\",\"p307a2\":\"clases_radio\", \"p307a3\":\"clases_plataforma_virtual\",\n",
    "#\"p307a4\":\"clases_otro\",\n",
    "#\"p307a4_5\":\"clases_wsp\",\"p307a4_6\":\"clases_correo\",\"p307a4_7\":\"clases_llamadas\",\n",
    "\"p307a1\":\"cl_medio_tv\",\"p307a2\":\"cl_medio_radio\", \"p307a3\":\"cl_medio_plataforma_virtual\",   \n",
    "\"p307a4\":\"cl_medio_otro\",\n",
    "\"p307a4_5\":\"cl_medio_wsp\",\"p307a4_6\":\"cl_medio_correo\",\"p307a4_7\":\"cl_medio_llamadas\",\n",
    "                    \n",
    "#medios_clase\n",
    "#\"p307b1\":\"clases_interaccion_profesor\",\"p307b2\":\"clases_videos\",\"p307b3\":\"clases_documentos\", \"p307b4\":\"clases_otros\",\n",
    "#\"p307b4_5\":\"clases_msm_audio\", \"p307b4_6\": \"clases_msm_texto\", \"p307b4_7\":\"clases_sin_acompañamiento\",\n",
    "\"p307b1\":\"cl_desarrollo_interaccion\", \"p307b2\":\"cl_desarrollo_videos\",\"p307b3\":\"cl_desarrollo_documentos\", \"p307b4\":\"cl_desarrollo_otros\",\n",
    "\"p307b4_5\":\"cl_desarrollo_msm_audio\", \"p307b4_6\": \"cl_desarrollo_msm_texto\", \"p307b4_7\":\"cl_desarrollo_sin_acompañamiento\",\n",
    "#desarollo_clases\n",
    "                    \n",
    "'p314a': 'i_uso','p314b_1':'i_uso_hog', 'p314b_2':'i_uso_trab', 'p314b_3':'i_uso_cedu','p314b_4':'i_uso_cab','p314b_5':'i_uso_casotr',\n",
    "'p314b_6':'i_uso_otro','p314b_7':'i_uso_movil','p314b1_1':'i_computadora','p314b1_2':'i_laptop','p314b1_5':'i_cel_trab','p314b1_6':'i_tablet',\n",
    "'p314b1_7':'i_otro','p314b1_8': 'i_cel_sdatos', 'p314b1_9': 'i_cel_cdatos',   \n",
    "                    'p316b':'uso_cp_lp',\n",
    "'p316a1':'cel_uso', 'p316_1':'i_obtener_info', 'p316_2':'i_comunicarse', 'p316_3':'i_comprar_pdts_ss', 'p316_4':'i_operaciones_bancarias', \n",
    "'p316_5':'i_edu_formal','p316_6':'i_transacciones','p316_7':'i_act_entretenimiento','p316_8':'i_vender_pdts','p316_12':'i_descarga_antivirus',\n",
    "                   \"p316c1\":\"ai_mover_archivo\",\"p316c2\":\"ai_copiar_pegar\",\"p316c3\":\"ai_enviar_correos\",\n",
    "                    \"p316c4\":\"ai_form_excel\",\"p316c5\":\"ai_conec_dispositivos\",\"p316c6\":\"ai_software\",\n",
    "                    \"p316c7\":\"ai_presentaciones_electronicas\",\"p316c8\":\"ai_tranfer_archivos\",\"p316c9\":\"ai_leng_programacion\",\n",
    "                    \"p316c10\":\"ai_otros\"}\n",
    "\n",
    "merged_data.rename(columns=new_column_names, inplace=True)"
   ]
  },
  {
   "cell_type": "code",
   "execution_count": 11,
   "id": "344efe42-a1b1-44f2-9ba9-c85c276e0406",
   "metadata": {},
   "outputs": [
    {
     "data": {
      "text/plain": [
       "1.0    59084\n",
       "0.0    56693\n",
       "Name: Sexo, dtype: int64"
      ]
     },
     "execution_count": 11,
     "metadata": {},
     "output_type": "execute_result"
    }
   ],
   "source": [
    "merged_data.Sexo.value_counts()"
   ]
  },
  {
   "cell_type": "code",
   "execution_count": 12,
   "id": "d5b44d03-2dfe-4b9a-b402-39e150072e1f",
   "metadata": {},
   "outputs": [],
   "source": [
    "#generar_tabla_recuento(merged_data, \"Nivel_educativo\", \"Miembros por Hogar\", True)"
   ]
  },
  {
   "cell_type": "code",
   "execution_count": 13,
   "id": "1d4f992d-7e01-48ef-83c1-cee005a49875",
   "metadata": {},
   "outputs": [],
   "source": [
    "#generar_tabla_recuento(merged_data, \"Edad\", \"Miembros por Hogar\", True)"
   ]
  },
  {
   "cell_type": "code",
   "execution_count": 14,
   "id": "c1877c21-8188-4510-81a2-1f27844fb31f",
   "metadata": {},
   "outputs": [],
   "source": [
    "#merged_data.info()"
   ]
  },
  {
   "cell_type": "raw",
   "id": "a1af8af9-4102-44c0-9581-9375d053d82d",
   "metadata": {},
   "source": [
    "columnas_float = merged_data.select_dtypes(include=['float']).columns\n",
    "\n",
    "# Filtrar las columnas float que no tienen valores faltantes\n",
    "columnas_sin_nans = [col for col in columnas_float if not merged_data[col].isna().any()]\n",
    "\n",
    "# Convertir las columnas seleccionadas a enteros\n",
    "merged_data[columnas_sin_nans] = merged_data[columnas_sin_nans].astype(int)\n"
   ]
  },
  {
   "cell_type": "raw",
   "id": "99839de7-41c7-445a-929e-4b6bea52b9e3",
   "metadata": {},
   "source": [
    "merged_data['Sexo'] = merged_data['Sexo'].astype(int)\n",
    "merged_data['Edad'] = merged_data['Edad'].astype(int)"
   ]
  },
  {
   "cell_type": "markdown",
   "id": "91a3b1e6-989f-4e5c-af7c-394f08b30f2b",
   "metadata": {},
   "source": [
    "## Filtrar variables"
   ]
  },
  {
   "cell_type": "code",
   "execution_count": 15,
   "id": "12bedc0e-1b9a-4470-a788-8340e02f1991",
   "metadata": {},
   "outputs": [],
   "source": [
    "# Filtrar las filas donde \"P208A\" es menor que 18\n",
    "#base_filtrada = base_filtrada[base_filtrada[\"Edad\"] <= 18] # 09.10.2023\n",
    "#base_filtrada = merged_data[(merged_data[\"Edad\"] <= 18) & (merged_data[\"Edad\"] >= 6)] # 01.11.2023\n",
    "base_filtrada = merged_data[(merged_data[\"Edad\"] == 18)]\n"
   ]
  },
  {
   "cell_type": "code",
   "execution_count": 16,
   "id": "56eb6841-b270-4e80-a2a6-00fc9c5895f3",
   "metadata": {},
   "outputs": [],
   "source": [
    "#generar_tabla_recuento(base_filtrada, \"Nivel_educativo\", \"Miembros por Hogar\", True)"
   ]
  },
  {
   "cell_type": "code",
   "execution_count": 17,
   "id": "131b117a-e91a-49b3-9787-c9bfac7c7959",
   "metadata": {},
   "outputs": [],
   "source": [
    "#generar_tabla_recuento(base_filtrada, \"Edad\", \"Miembros por Hogar\", True)"
   ]
  },
  {
   "cell_type": "code",
   "execution_count": 18,
   "id": "94c03c14",
   "metadata": {},
   "outputs": [],
   "source": [
    "# Filtrar el DataFrame para incluir solo las filas con valores 1, 2 o 3 en la columna \"P308A\"\n",
    "#base_filtrada = merged_data[merged_data[\"Nivel_educativo\"].isin([1, 2, 3])] # 09.10.2023\n",
    "base_filtrada = base_filtrada [base_filtrada[\"Nivel_educativo\"].isin([2, 3])]  # 11.10.2023 ###\n",
    "base_filtrada[\"Edad\"] = pd.to_numeric(base_filtrada[\"Edad\"], errors=\"coerce\")"
   ]
  },
  {
   "cell_type": "code",
   "execution_count": 19,
   "id": "444f192f-91e9-4519-967e-0e4ac77dcbcf",
   "metadata": {},
   "outputs": [],
   "source": [
    "#generar_tabla_recuento(base_filtrada, \"Nivel_educativo\", \"Miembros por Hogar\", True)"
   ]
  },
  {
   "cell_type": "code",
   "execution_count": 20,
   "id": "dc354cb2-78d8-42b9-a851-c0737e1ee29a",
   "metadata": {},
   "outputs": [],
   "source": [
    "#generar_tabla_recuento(base_filtrada, \"Edad\", \"Miembros por Hogar\", True)"
   ]
  },
  {
   "cell_type": "code",
   "execution_count": 21,
   "id": "b8f6813a-97a1-4882-a48c-92d6f30591a5",
   "metadata": {},
   "outputs": [
    {
     "data": {
      "text/plain": [
       "Index(['conglome', 'vivienda', 'hogar', 'codperso', 'ubigeo', 'dominio',\n",
       "       'estrato', 'p300a', 'p301a', 'p301b', 'p301c', 'p304a', 'p304b',\n",
       "       'cl_medio_tv', 'cl_medio_radio', 'cl_medio_plataforma_virtual',\n",
       "       'cl_medio_otro', 'cl_medio_wsp', 'cl_medio_correo', 'cl_medio_llamadas',\n",
       "       'cl_desarrollo_interaccion', 'cl_desarrollo_videos',\n",
       "       'cl_desarrollo_documentos', 'cl_desarrollo_otros',\n",
       "       'cl_desarrollo_msm_audio', 'cl_desarrollo_msm_texto',\n",
       "       'cl_desarrollo_sin_acompañamiento', 'Nivel_educativo', 'p308b', 'p308c',\n",
       "       'Centro_estudios', 'i_uso', 'i_uso_hog', 'i_uso_trab', 'i_uso_cedu',\n",
       "       'i_uso_cab', 'i_uso_casotr', 'i_uso_otro', 'i_uso_movil',\n",
       "       'i_computadora', 'i_laptop', 'i_cel_sdatos', 'i_cel_cdatos', 'i_tablet',\n",
       "       'i_otro', 'p314d', 'p315a', 'p315b', 'i_obtener_info', 'i_comunicarse',\n",
       "       'i_comprar_pdts_ss', 'i_operaciones_bancarias', 'i_edu_formal',\n",
       "       'i_transacciones', 'i_act_entretenimiento', 'i_vender_pdts', 'p316_9',\n",
       "       'p316_10', 'p316_11', 'i_descarga_antivirus', 'cel_uso', 'uso_cp_lp',\n",
       "       'ai_mover_archivo', 'ai_copiar_pegar', 'ai_enviar_correos',\n",
       "       'ai_form_excel', 'ai_conec_dispositivos', 'ai_software',\n",
       "       'ai_presentaciones_electronicas', 'ai_tranfer_archivos',\n",
       "       'ai_leng_programacion', 'ai_otros', 't313a', 'factor07', 'parentesco',\n",
       "       'Sexo', 'Edad', 'estrsocial', 'mieperho', 'totmieho', 'Electricidad',\n",
       "       'cel_hog', 'conexion_cable_hog', 'i_conexion_hog', 'codccpp',\n",
       "       'DEPARTAMENTO', 'años_escolaridad', '_p301c', 'Area', 'Idioma',\n",
       "       'Region'],\n",
       "      dtype='object')"
      ]
     },
     "execution_count": 21,
     "metadata": {},
     "output_type": "execute_result"
    }
   ],
   "source": [
    "base_filtrada.columns"
   ]
  },
  {
   "cell_type": "code",
   "execution_count": 22,
   "id": "5056f5c5-6b5a-4ebc-a0aa-aea7582152e2",
   "metadata": {},
   "outputs": [],
   "source": [
    "base_filtrada = base_filtrada.copy()\n",
    "base_filtrada['uso_cp_lp'] = base_filtrada['uso_cp_lp'].map({2: 0, 1: 1})"
   ]
  },
  {
   "cell_type": "code",
   "execution_count": 23,
   "id": "5fe2700a-0611-4c38-b9f9-5afee9905f85",
   "metadata": {},
   "outputs": [],
   "source": [
    "base_filtrada['Centro_estudios'] = base_filtrada['Centro_estudios'].map({2: 0, 1: 1})"
   ]
  },
  {
   "cell_type": "code",
   "execution_count": 24,
   "id": "92209712-8a65-4031-9d9b-b4225ba739e7",
   "metadata": {},
   "outputs": [],
   "source": [
    "base_filtrada['i_uso']        = base_filtrada['i_uso'].map({2: 0, 1: 1})\n",
    "base_filtrada['i_uso_cedu']   = base_filtrada['i_uso_cedu'].map({0: 0, 3: 1})\n",
    "base_filtrada['i_uso_trab']   = base_filtrada['i_uso_trab'].map({0: 0, 2: 1})\n",
    "base_filtrada['i_uso_hog']    = base_filtrada['i_uso_hog'].map({0: 0, 1: 1})\n",
    "base_filtrada['i_uso_cab']    = base_filtrada['i_uso_cab'].map({0: 0, 4: 1})\n",
    "base_filtrada['i_uso_casotr'] = base_filtrada['i_uso_casotr'].map({0: 0, 5: 1})\n",
    "base_filtrada['i_uso_otro']   = base_filtrada['i_uso_otro'].map({0: 0, 6: 1})\n",
    "base_filtrada['i_uso_movil']  = base_filtrada['i_uso_movil'].map({0: 0, 7: 1})"
   ]
  },
  {
   "cell_type": "code",
   "execution_count": 25,
   "id": "983da2a0-9090-42e0-a1b0-9d3adf44ff39",
   "metadata": {},
   "outputs": [],
   "source": [
    "base_filtrada['i_computadora'] = base_filtrada['i_computadora'].map({0: 0, 1: 1})\n",
    "base_filtrada['i_tablet']      = base_filtrada['i_tablet'].map({0: 0, 6: 1})\n",
    "base_filtrada['i_laptop']      = base_filtrada['i_laptop'].map({0: 0, 2: 1})\n",
    "base_filtrada['i_otro']        = base_filtrada['i_otro'].map({0: 0, 7: 1})\n",
    "base_filtrada['i_cel_sdatos']  = base_filtrada['i_cel_sdatos'].map({0: 0, 8: 1})\n",
    "base_filtrada['i_cel_cdatos']  = base_filtrada['i_cel_cdatos'].map({0: 0, 9: 1})"
   ]
  },
  {
   "cell_type": "code",
   "execution_count": 26,
   "id": "9959c225-fa3d-4c25-9e54-1025acaca29a",
   "metadata": {},
   "outputs": [],
   "source": [
    "base_filtrada['ai_mover_archivo']   = base_filtrada['ai_mover_archivo'].map({2: 0, 1: 1})\n",
    "base_filtrada['ai_copiar_pegar']    = base_filtrada['ai_copiar_pegar'].map({2: 0, 1: 1})\n",
    "base_filtrada['ai_enviar_correos']  = base_filtrada['ai_enviar_correos'].map({2: 0, 1: 1})\n",
    "base_filtrada['ai_form_excel']      = base_filtrada['ai_form_excel'].map({2: 0, 1: 1})\n",
    "base_filtrada['ai_conec_dispositivos']   = base_filtrada['ai_conec_dispositivos'].map({2: 0, 1: 1})\n",
    "base_filtrada['ai_software']        = base_filtrada['ai_software'].map({2: 0, 1: 1})\n",
    "base_filtrada['ai_presentaciones_electronicas']  = base_filtrada['ai_presentaciones_electronicas'].map({2: 0, 1: 1})\n",
    "base_filtrada['ai_tranfer_archivos'] = base_filtrada['ai_mover_archivo'].map({2: 0, 1: 1})\n",
    "base_filtrada['ai_leng_programacion'] = base_filtrada['ai_leng_programacion'].map({2: 0, 1: 1})\n",
    "base_filtrada['ai_otros']        = base_filtrada['ai_otros'].map({2: 0, 1: 1})"
   ]
  },
  {
   "cell_type": "code",
   "execution_count": 27,
   "id": "85aef238-dce6-4178-8700-4116d1ce4288",
   "metadata": {},
   "outputs": [],
   "source": [
    "base_filtrada['cl_medio_tv']       = base_filtrada['cl_medio_tv'].map({0: 0, 1: 1})\n",
    "base_filtrada['cl_medio_radio']    = base_filtrada['cl_medio_radio'].map({0: 0, 2: 1})\n",
    "base_filtrada['cl_medio_plataforma_virtual'] = base_filtrada['cl_medio_plataforma_virtual'].map({0: 0, 3: 1})\n",
    "base_filtrada['cl_medio_otro']     = base_filtrada['cl_medio_otro'].map({0: 0, 4: 1})\n",
    "base_filtrada['cl_medio_wsp']      = base_filtrada['cl_medio_wsp'].map({0: 0, 5: 1})\n",
    "base_filtrada['cl_medio_correo']   = base_filtrada['cl_medio_correo'].map({0: 0, 6: 1})\n",
    "base_filtrada['cl_medio_llamadas'] = base_filtrada['cl_medio_llamadas'].map({0: 0, 7: 1})"
   ]
  },
  {
   "cell_type": "code",
   "execution_count": 28,
   "id": "ee9c887c-552d-4f8d-a644-0e9f24a5bd89",
   "metadata": {},
   "outputs": [],
   "source": [
    "base_filtrada['cl_desarrollo_interaccion'] = base_filtrada['cl_desarrollo_interaccion'].map({0: 0, 1: 1})\n",
    "base_filtrada['cl_desarrollo_videos']             = base_filtrada['cl_desarrollo_videos'].map({0: 0, 2: 1})\n",
    "base_filtrada['cl_desarrollo_documentos']         = base_filtrada['cl_desarrollo_documentos'].map({0: 0, 3: 1})\n",
    "base_filtrada['cl_desarrollo_otros']              = base_filtrada['cl_desarrollo_otros'].map({0: 0, 4: 1})\n",
    "base_filtrada['cl_desarrollo_msm_audio']          = base_filtrada['cl_desarrollo_msm_audio'].map({0: 0, 5: 1})\n",
    "base_filtrada['cl_desarrollo_msm_texto']          = base_filtrada['cl_desarrollo_msm_texto'].map({0: 0, 6: 1})\n",
    "base_filtrada['cl_desarrollo_sin_acompañamiento'] = base_filtrada['cl_desarrollo_sin_acompañamiento'].map({0: 0, 7: 1})"
   ]
  },
  {
   "cell_type": "code",
   "execution_count": 29,
   "id": "5f3aef2b-0995-4cbe-a522-8c80c595a1c5",
   "metadata": {},
   "outputs": [],
   "source": [
    "#base_filtrada.columns"
   ]
  },
  {
   "cell_type": "code",
   "execution_count": 30,
   "id": "5497bc5c-f05f-4a5e-81c0-53d48ac55a25",
   "metadata": {},
   "outputs": [],
   "source": [
    "base_filtrada['i_obtener_info']    = base_filtrada['i_obtener_info'].map({2: 0, 1: 1})\n",
    "base_filtrada['i_comunicarse']     = base_filtrada['i_comunicarse'].map({2: 0, 1: 1})\n",
    "base_filtrada['i_comprar_pdts_ss'] = base_filtrada['i_comprar_pdts_ss'].map({2: 0, 1: 1})\n",
    "base_filtrada['i_operaciones_bancarias'] = base_filtrada['i_operaciones_bancarias'].map({2: 0, 1: 1})\n",
    "base_filtrada['i_edu_formal']      = base_filtrada['i_edu_formal'].map({2: 0, 1: 1})\n",
    "base_filtrada['i_transacciones']   = base_filtrada['i_transacciones'].map({2: 0, 1: 1})\n",
    "base_filtrada['i_act_entretenimiento'] = base_filtrada['i_act_entretenimiento'].map({2: 0, 1: 1})\n",
    "base_filtrada['i_vender_pdts']         = base_filtrada['i_vender_pdts'].map({2: 0, 1: 1})  #8\n",
    "base_filtrada['p316_9']         = base_filtrada['p316_9'].map({2: 0, 1: 1})  #9\n",
    "base_filtrada['p316_10']         = base_filtrada['p316_10'].map({2: 0, 1: 1})  #10\n",
    "base_filtrada['p316_11']         = base_filtrada['p316_11'].map({2: 0, 1: 1}) #11\n",
    "base_filtrada['i_descarga_antivirus']  = base_filtrada['i_descarga_antivirus'].map({2: 0, 1: 1})   #12"
   ]
  },
  {
   "cell_type": "markdown",
   "id": "d86cf0ec-5ab6-4c9e-b1bc-b1bb49d48d49",
   "metadata": {},
   "source": [
    "## Valores Nulos"
   ]
  },
  {
   "cell_type": "code",
   "execution_count": 31,
   "id": "a230df64-4cd9-4251-80b9-20de9780ba3e",
   "metadata": {},
   "outputs": [
    {
     "data": {
      "text/plain": [
       "(165, 91)"
      ]
     },
     "execution_count": 31,
     "metadata": {},
     "output_type": "execute_result"
    }
   ],
   "source": [
    "base_filtrada.shape"
   ]
  },
  {
   "cell_type": "code",
   "execution_count": 32,
   "id": "b82fd4ac-be1f-4a9b-8579-d41092dfcbd1",
   "metadata": {},
   "outputs": [
    {
     "name": "stdout",
     "output_type": "stream",
     "text": [
      "<class 'pandas.core.frame.DataFrame'>\n",
      "Int64Index: 165 entries, 337 to 115530\n",
      "Data columns (total 91 columns):\n",
      " #   Column                            Non-Null Count  Dtype  \n",
      "---  ------                            --------------  -----  \n",
      " 0   conglome                          165 non-null    object \n",
      " 1   vivienda                          165 non-null    object \n",
      " 2   hogar                             165 non-null    object \n",
      " 3   codperso                          165 non-null    object \n",
      " 4   ubigeo                            165 non-null    object \n",
      " 5   dominio                           165 non-null    int8   \n",
      " 6   estrato                           165 non-null    int8   \n",
      " 7   p300a                             165 non-null    float64\n",
      " 8   p301a                             165 non-null    float64\n",
      " 9   p301b                             165 non-null    float64\n",
      " 10  p301c                             4 non-null      float64\n",
      " 11  p304a                             76 non-null     float64\n",
      " 12  p304b                             76 non-null     float64\n",
      " 13  cl_medio_tv                       143 non-null    float64\n",
      " 14  cl_medio_radio                    143 non-null    float64\n",
      " 15  cl_medio_plataforma_virtual       143 non-null    float64\n",
      " 16  cl_medio_otro                     143 non-null    float64\n",
      " 17  cl_medio_wsp                      143 non-null    float64\n",
      " 18  cl_medio_correo                   143 non-null    float64\n",
      " 19  cl_medio_llamadas                 143 non-null    float64\n",
      " 20  cl_desarrollo_interaccion         143 non-null    float64\n",
      " 21  cl_desarrollo_videos              143 non-null    float64\n",
      " 22  cl_desarrollo_documentos          143 non-null    float64\n",
      " 23  cl_desarrollo_otros               143 non-null    float64\n",
      " 24  cl_desarrollo_msm_audio           143 non-null    float64\n",
      " 25  cl_desarrollo_msm_texto           143 non-null    float64\n",
      " 26  cl_desarrollo_sin_acompañamiento  143 non-null    float64\n",
      " 27  Nivel_educativo                   165 non-null    float64\n",
      " 28  p308b                             165 non-null    float64\n",
      " 29  p308c                             1 non-null      float64\n",
      " 30  Centro_estudios                   165 non-null    int64  \n",
      " 31  i_uso                             165 non-null    int64  \n",
      " 32  i_uso_hog                         63 non-null     float64\n",
      " 33  i_uso_trab                        63 non-null     float64\n",
      " 34  i_uso_cedu                        63 non-null     float64\n",
      " 35  i_uso_cab                         63 non-null     float64\n",
      " 36  i_uso_casotr                      63 non-null     float64\n",
      " 37  i_uso_otro                        63 non-null     float64\n",
      " 38  i_uso_movil                       63 non-null     float64\n",
      " 39  i_computadora                     123 non-null    float64\n",
      " 40  i_laptop                          123 non-null    float64\n",
      " 41  i_cel_sdatos                      123 non-null    float64\n",
      " 42  i_cel_cdatos                      123 non-null    float64\n",
      " 43  i_tablet                          123 non-null    float64\n",
      " 44  i_otro                            123 non-null    float64\n",
      " 45  p314d                             63 non-null     float64\n",
      " 46  p315a                             4 non-null      float64\n",
      " 47  p315b                             0 non-null      float64\n",
      " 48  i_obtener_info                    63 non-null     float64\n",
      " 49  i_comunicarse                     63 non-null     float64\n",
      " 50  i_comprar_pdts_ss                 63 non-null     float64\n",
      " 51  i_operaciones_bancarias           63 non-null     float64\n",
      " 52  i_edu_formal                      63 non-null     float64\n",
      " 53  i_transacciones                   63 non-null     float64\n",
      " 54  i_act_entretenimiento             63 non-null     float64\n",
      " 55  i_vender_pdts                     63 non-null     float64\n",
      " 56  p316_9                            63 non-null     float64\n",
      " 57  p316_10                           63 non-null     float64\n",
      " 58  p316_11                           63 non-null     float64\n",
      " 59  i_descarga_antivirus              63 non-null     float64\n",
      " 60  cel_uso                           165 non-null    float64\n",
      " 61  uso_cp_lp                         79 non-null     float64\n",
      " 62  ai_mover_archivo                  15 non-null     float64\n",
      " 63  ai_copiar_pegar                   15 non-null     float64\n",
      " 64  ai_enviar_correos                 15 non-null     float64\n",
      " 65  ai_form_excel                     15 non-null     float64\n",
      " 66  ai_conec_dispositivos             15 non-null     float64\n",
      " 67  ai_software                       15 non-null     float64\n",
      " 68  ai_presentaciones_electronicas    15 non-null     float64\n",
      " 69  ai_tranfer_archivos               13 non-null     float64\n",
      " 70  ai_leng_programacion              15 non-null     float64\n",
      " 71  ai_otros                          15 non-null     float64\n",
      " 72  t313a                             21 non-null     float64\n",
      " 73  factor07                          165 non-null    float32\n",
      " 74  parentesco                        165 non-null    int8   \n",
      " 75  Sexo                              165 non-null    float64\n",
      " 76  Edad                              165 non-null    float64\n",
      " 77  estrsocial                        165 non-null    int8   \n",
      " 78  mieperho                          165 non-null    int8   \n",
      " 79  totmieho                          165 non-null    int8   \n",
      " 80  Electricidad                      165 non-null    float64\n",
      " 81  cel_hog                           165 non-null    float64\n",
      " 82  conexion_cable_hog                165 non-null    float64\n",
      " 83  i_conexion_hog                    165 non-null    float64\n",
      " 84  codccpp                           165 non-null    object \n",
      " 85  DEPARTAMENTO                      165 non-null    int64  \n",
      " 86  años_escolaridad                  165 non-null    float64\n",
      " 87  _p301c                            4 non-null      float64\n",
      " 88  Area                              165 non-null    int64  \n",
      " 89  Idioma                            165 non-null    int64  \n",
      " 90  Region                            165 non-null    int64  \n",
      "dtypes: float32(1), float64(72), int64(6), int8(6), object(6)\n",
      "memory usage: 111.2+ KB\n"
     ]
    }
   ],
   "source": [
    "base_filtrada.info()"
   ]
  },
  {
   "cell_type": "code",
   "execution_count": 33,
   "id": "4ec69bb1-27b9-4e27-9681-66fe8b3e4ba5",
   "metadata": {},
   "outputs": [
    {
     "name": "stdout",
     "output_type": "stream",
     "text": [
      "Porcentaje de valores nulos en 'p301c': 97.58%\n",
      "Porcentaje de valores nulos en 'p304a': 53.94%\n",
      "Porcentaje de valores nulos en 'p304b': 53.94%\n",
      "Porcentaje de valores nulos en 'cl_medio_tv': 13.33%\n",
      "Porcentaje de valores nulos en 'cl_medio_radio': 13.33%\n",
      "Porcentaje de valores nulos en 'cl_medio_plataforma_virtual': 13.33%\n",
      "Porcentaje de valores nulos en 'cl_medio_otro': 13.33%\n",
      "Porcentaje de valores nulos en 'cl_medio_wsp': 13.33%\n",
      "Porcentaje de valores nulos en 'cl_medio_correo': 13.33%\n",
      "Porcentaje de valores nulos en 'cl_medio_llamadas': 13.33%\n",
      "Porcentaje de valores nulos en 'cl_desarrollo_interaccion': 13.33%\n",
      "Porcentaje de valores nulos en 'cl_desarrollo_videos': 13.33%\n",
      "Porcentaje de valores nulos en 'cl_desarrollo_documentos': 13.33%\n",
      "Porcentaje de valores nulos en 'cl_desarrollo_otros': 13.33%\n",
      "Porcentaje de valores nulos en 'cl_desarrollo_msm_audio': 13.33%\n",
      "Porcentaje de valores nulos en 'cl_desarrollo_msm_texto': 13.33%\n",
      "Porcentaje de valores nulos en 'cl_desarrollo_sin_acompañamiento': 13.33%\n",
      "Porcentaje de valores nulos en 'p308c': 99.39%\n",
      "Porcentaje de valores nulos en 'i_uso_hog': 61.82%\n",
      "Porcentaje de valores nulos en 'i_uso_trab': 61.82%\n",
      "Porcentaje de valores nulos en 'i_uso_cedu': 61.82%\n",
      "Porcentaje de valores nulos en 'i_uso_cab': 61.82%\n",
      "Porcentaje de valores nulos en 'i_uso_casotr': 61.82%\n",
      "Porcentaje de valores nulos en 'i_uso_otro': 61.82%\n",
      "Porcentaje de valores nulos en 'i_uso_movil': 61.82%\n",
      "Porcentaje de valores nulos en 'i_computadora': 25.45%\n",
      "Porcentaje de valores nulos en 'i_laptop': 25.45%\n",
      "Porcentaje de valores nulos en 'i_cel_sdatos': 25.45%\n",
      "Porcentaje de valores nulos en 'i_cel_cdatos': 25.45%\n",
      "Porcentaje de valores nulos en 'i_tablet': 25.45%\n",
      "Porcentaje de valores nulos en 'i_otro': 25.45%\n",
      "Porcentaje de valores nulos en 'p314d': 61.82%\n",
      "Porcentaje de valores nulos en 'p315a': 97.58%\n",
      "Porcentaje de valores nulos en 'p315b': 100.00%\n",
      "Porcentaje de valores nulos en 'i_obtener_info': 61.82%\n",
      "Porcentaje de valores nulos en 'i_comunicarse': 61.82%\n",
      "Porcentaje de valores nulos en 'i_comprar_pdts_ss': 61.82%\n",
      "Porcentaje de valores nulos en 'i_operaciones_bancarias': 61.82%\n",
      "Porcentaje de valores nulos en 'i_edu_formal': 61.82%\n",
      "Porcentaje de valores nulos en 'i_transacciones': 61.82%\n",
      "Porcentaje de valores nulos en 'i_act_entretenimiento': 61.82%\n",
      "Porcentaje de valores nulos en 'i_vender_pdts': 61.82%\n",
      "Porcentaje de valores nulos en 'p316_9': 61.82%\n",
      "Porcentaje de valores nulos en 'p316_10': 61.82%\n",
      "Porcentaje de valores nulos en 'p316_11': 61.82%\n",
      "Porcentaje de valores nulos en 'i_descarga_antivirus': 61.82%\n",
      "Porcentaje de valores nulos en 'uso_cp_lp': 52.12%\n",
      "Porcentaje de valores nulos en 'ai_mover_archivo': 90.91%\n",
      "Porcentaje de valores nulos en 'ai_copiar_pegar': 90.91%\n",
      "Porcentaje de valores nulos en 'ai_enviar_correos': 90.91%\n",
      "Porcentaje de valores nulos en 'ai_form_excel': 90.91%\n",
      "Porcentaje de valores nulos en 'ai_conec_dispositivos': 90.91%\n",
      "Porcentaje de valores nulos en 'ai_software': 90.91%\n",
      "Porcentaje de valores nulos en 'ai_presentaciones_electronicas': 90.91%\n",
      "Porcentaje de valores nulos en 'ai_tranfer_archivos': 92.12%\n",
      "Porcentaje de valores nulos en 'ai_leng_programacion': 90.91%\n",
      "Porcentaje de valores nulos en 'ai_otros': 90.91%\n",
      "Porcentaje de valores nulos en 't313a': 87.27%\n",
      "Porcentaje de valores nulos en '_p301c': 97.58%\n"
     ]
    }
   ],
   "source": [
    "# Itera sobre todas las columnas y calcula el porcentaje de valores nulos en cada una\n",
    "for columna in base_filtrada.columns:\n",
    "    nulos_en_columna = base_filtrada[columna].isnull().sum()\n",
    "    total_de_registros = len(base_filtrada)\n",
    "    porcentaje_nulos = (nulos_en_columna / total_de_registros) * 100\n",
    "    if porcentaje_nulos > 0:\n",
    "        print(f\"Porcentaje de valores nulos en '{columna}': {porcentaje_nulos:.2f}%\")"
   ]
  },
  {
   "cell_type": "code",
   "execution_count": 34,
   "id": "17091b75-d4db-4f13-9216-10e3f5a30629",
   "metadata": {},
   "outputs": [],
   "source": [
    "base_filtrada_aux = base_filtrada.copy()\n",
    "\n",
    "dict_nivel_edu = {1: \"Inicial\", 2: \"Primaria\", 3: \"Secundaria\"}\n",
    "dict_sexo = {0: \"Hombre\", 1: \"Mujer\"}\n",
    "dict_idioma = {0: \"Otro\", 1: \"Catellano\"}\n",
    "dict_area =  {0: \"Rural\", 1: \"Urbano\"}\n",
    "dict_electricidad = {1: \"Si\", 0: \"No\"}\n",
    "dict_region=  {1: \"Costa\", 2: \"Sierra\", 3: \"Selva\"}\n",
    "dict_estr =  {1: \"A\", 2: \"B\", 3: \"C\", 4: \"D\", 5: \"E\", 6:\"rural\"}\n",
    "dict_cen_edu = {1: \"Nacional\", 0: \"Privada\"}\n",
    "\n",
    "dict_i_uso              = {1: \"Si\", 0: \"No\"}\n",
    "dict_i_conexion_hog     = {1: \"Si\", 0: \"No\"}\n",
    "dict_conexion_cable_hog = {1: \"Si\", 0: \"No\"}\n",
    "dict_cel_hog            = {1: \"Si\", 0: \"No\"}\n",
    "dict_cel_uso = {1: \"Si\", 0: \"No\"}\n",
    "dict_uso_cp_lp = {1: \"Si\", 0: \"No\"}\n",
    "\n",
    "base_filtrada_aux[\"Nivel_educativo\"] = base_filtrada_aux[\"Nivel_educativo\"].map(dict_nivel_edu)\n",
    "base_filtrada_aux[\"Centro_estudios\"] = base_filtrada_aux[\"Centro_estudios\"].map(dict_cen_edu)\n",
    "base_filtrada_aux[\"Sexo\"]            = base_filtrada_aux[\"Sexo\"].map(dict_sexo)\n",
    "base_filtrada_aux[\"Idioma\"]          = base_filtrada_aux[\"Idioma\"].map(dict_idioma)\n",
    "base_filtrada_aux[\"Area\"]            = base_filtrada_aux[\"Area\"].map(dict_area)\n",
    "base_filtrada_aux[\"Electricidad\"]    = base_filtrada_aux[\"Electricidad\"].map(dict_electricidad)\n",
    "base_filtrada_aux[\"Region\"]          = base_filtrada_aux[\"Region\"].map(dict_region)\n",
    "base_filtrada_aux[\"estrsocial\"]      = base_filtrada_aux[\"estrsocial\"].map(dict_estr)\n",
    "base_filtrada_aux[\"i_uso\"]            = base_filtrada_aux[\"i_uso\"].map(dict_i_uso)\n",
    "base_filtrada_aux[\"i_conexion_hog\"]    = base_filtrada_aux[\"i_conexion_hog\"].map(dict_i_conexion_hog)\n",
    "base_filtrada_aux[\"conexion_cable_hog\"] = base_filtrada_aux[\"conexion_cable_hog\"].map(dict_conexion_cable_hog)\n",
    "base_filtrada_aux[\"cel_hog\"]      = base_filtrada_aux[\"cel_hog\"].map(dict_cel_hog )\n",
    "base_filtrada_aux[\"cel_uso\"]      = base_filtrada_aux[\"cel_uso\"].map(dict_conexion_cable_hog)\n",
    "base_filtrada_aux[\"uso_cp_lp\"]    = base_filtrada_aux[\"uso_cp_lp\"].map(dict_cel_hog )"
   ]
  },
  {
   "cell_type": "code",
   "execution_count": 35,
   "id": "a8689b76-916e-4bc7-be0f-53b3aed446f7",
   "metadata": {},
   "outputs": [
    {
     "data": {
      "text/plain": [
       "Secundaria    164\n",
       "Primaria        1\n",
       "Name: Nivel_educativo, dtype: int64"
      ]
     },
     "execution_count": 35,
     "metadata": {},
     "output_type": "execute_result"
    }
   ],
   "source": [
    "base_filtrada_aux[\"Nivel_educativo\"].value_counts()"
   ]
  },
  {
   "cell_type": "code",
   "execution_count": 36,
   "id": "2a7586c1-f9ca-4424-9fa5-345b40465c45",
   "metadata": {},
   "outputs": [
    {
     "data": {
      "text/plain": [
       "(165, 91)"
      ]
     },
     "execution_count": 36,
     "metadata": {},
     "output_type": "execute_result"
    }
   ],
   "source": [
    "base_filtrada_aux.shape"
   ]
  },
  {
   "cell_type": "markdown",
   "id": "33806527",
   "metadata": {
    "tags": []
   },
   "source": [
    "# VARIABLES "
   ]
  },
  {
   "cell_type": "markdown",
   "id": "3f1c6954-9ad1-4f70-a79f-3dde3aea1e12",
   "metadata": {},
   "source": [
    "## Variables Continuas"
   ]
  },
  {
   "cell_type": "markdown",
   "id": "b580abeb-344e-4fa8-acea-01a77fc46c3d",
   "metadata": {},
   "source": [
    "#### Miembros por hogar"
   ]
  },
  {
   "cell_type": "code",
   "execution_count": 37,
   "id": "37314f0b",
   "metadata": {},
   "outputs": [
    {
     "data": {
      "text/html": [
       "<div>\n",
       "<style scoped>\n",
       "    .dataframe tbody tr th:only-of-type {\n",
       "        vertical-align: middle;\n",
       "    }\n",
       "\n",
       "    .dataframe tbody tr th {\n",
       "        vertical-align: top;\n",
       "    }\n",
       "\n",
       "    .dataframe thead th {\n",
       "        text-align: right;\n",
       "    }\n",
       "</style>\n",
       "<table border=\"1\" class=\"dataframe\">\n",
       "  <thead>\n",
       "    <tr style=\"text-align: right;\">\n",
       "      <th></th>\n",
       "      <th>Miembros por Hogar</th>\n",
       "      <th>Recuento</th>\n",
       "      <th>Porcentaje</th>\n",
       "    </tr>\n",
       "  </thead>\n",
       "  <tbody>\n",
       "    <tr>\n",
       "      <th>0</th>\n",
       "      <td>2</td>\n",
       "      <td>1,456</td>\n",
       "      <td>3.8</td>\n",
       "    </tr>\n",
       "    <tr>\n",
       "      <th>1</th>\n",
       "      <td>3</td>\n",
       "      <td>3,756</td>\n",
       "      <td>9.9</td>\n",
       "    </tr>\n",
       "    <tr>\n",
       "      <th>2</th>\n",
       "      <td>4</td>\n",
       "      <td>7,420</td>\n",
       "      <td>19.5</td>\n",
       "    </tr>\n",
       "    <tr>\n",
       "      <th>3</th>\n",
       "      <td>5</td>\n",
       "      <td>9,977</td>\n",
       "      <td>26.2</td>\n",
       "    </tr>\n",
       "    <tr>\n",
       "      <th>4</th>\n",
       "      <td>6</td>\n",
       "      <td>5,101</td>\n",
       "      <td>13.4</td>\n",
       "    </tr>\n",
       "    <tr>\n",
       "      <th>5</th>\n",
       "      <td>7</td>\n",
       "      <td>3,655</td>\n",
       "      <td>9.6</td>\n",
       "    </tr>\n",
       "    <tr>\n",
       "      <th>6</th>\n",
       "      <td>8</td>\n",
       "      <td>2,826</td>\n",
       "      <td>7.4</td>\n",
       "    </tr>\n",
       "    <tr>\n",
       "      <th>7</th>\n",
       "      <td>9</td>\n",
       "      <td>2,102</td>\n",
       "      <td>5.5</td>\n",
       "    </tr>\n",
       "    <tr>\n",
       "      <th>8</th>\n",
       "      <td>10</td>\n",
       "      <td>934</td>\n",
       "      <td>2.5</td>\n",
       "    </tr>\n",
       "    <tr>\n",
       "      <th>9</th>\n",
       "      <td>11</td>\n",
       "      <td>411</td>\n",
       "      <td>1.1</td>\n",
       "    </tr>\n",
       "    <tr>\n",
       "      <th>10</th>\n",
       "      <td>13</td>\n",
       "      <td>380</td>\n",
       "      <td>1.0</td>\n",
       "    </tr>\n",
       "    <tr>\n",
       "      <th>11</th>\n",
       "      <td>Total</td>\n",
       "      <td>38,018</td>\n",
       "      <td>100.0</td>\n",
       "    </tr>\n",
       "  </tbody>\n",
       "</table>\n",
       "</div>"
      ],
      "text/plain": [
       "   Miembros por Hogar Recuento Porcentaje\n",
       "0                   2    1,456        3.8\n",
       "1                   3    3,756        9.9\n",
       "2                   4    7,420       19.5\n",
       "3                   5    9,977       26.2\n",
       "4                   6    5,101       13.4\n",
       "5                   7    3,655        9.6\n",
       "6                   8    2,826        7.4\n",
       "7                   9    2,102        5.5\n",
       "8                  10      934        2.5\n",
       "9                  11      411        1.1\n",
       "10                 13      380        1.0\n",
       "11              Total   38,018      100.0"
      ]
     },
     "execution_count": 37,
     "metadata": {},
     "output_type": "execute_result"
    }
   ],
   "source": [
    "generar_tabla_recuento(base_filtrada_aux, \"mieperho\", \"Miembros por Hogar\", True)"
   ]
  },
  {
   "cell_type": "markdown",
   "id": "023479a6-371d-46d7-96fa-2817d61a0d53",
   "metadata": {},
   "source": [
    "#### Edad"
   ]
  },
  {
   "cell_type": "code",
   "execution_count": 38,
   "id": "066129bd",
   "metadata": {},
   "outputs": [
    {
     "data": {
      "text/html": [
       "<div>\n",
       "<style scoped>\n",
       "    .dataframe tbody tr th:only-of-type {\n",
       "        vertical-align: middle;\n",
       "    }\n",
       "\n",
       "    .dataframe tbody tr th {\n",
       "        vertical-align: top;\n",
       "    }\n",
       "\n",
       "    .dataframe thead th {\n",
       "        text-align: right;\n",
       "    }\n",
       "</style>\n",
       "<table border=\"1\" class=\"dataframe\">\n",
       "  <thead>\n",
       "    <tr style=\"text-align: right;\">\n",
       "      <th></th>\n",
       "      <th>Edad</th>\n",
       "      <th>Recuento</th>\n",
       "      <th>Porcentaje</th>\n",
       "    </tr>\n",
       "  </thead>\n",
       "  <tbody>\n",
       "    <tr>\n",
       "      <th>0</th>\n",
       "      <td>18.0</td>\n",
       "      <td>38,018</td>\n",
       "      <td>100.0</td>\n",
       "    </tr>\n",
       "    <tr>\n",
       "      <th>1</th>\n",
       "      <td>Total</td>\n",
       "      <td>38,018</td>\n",
       "      <td>100.0</td>\n",
       "    </tr>\n",
       "  </tbody>\n",
       "</table>\n",
       "</div>"
      ],
      "text/plain": [
       "    Edad Recuento Porcentaje\n",
       "0   18.0   38,018      100.0\n",
       "1  Total   38,018      100.0"
      ]
     },
     "execution_count": 38,
     "metadata": {},
     "output_type": "execute_result"
    }
   ],
   "source": [
    "generar_tabla_recuento(base_filtrada_aux, \"Edad\", \"Edad\" ,  True)##################"
   ]
  },
  {
   "cell_type": "markdown",
   "id": "e89db312-c0b2-477d-8878-db3e4b72c77e",
   "metadata": {},
   "source": [
    "#### Años Escolaridad"
   ]
  },
  {
   "cell_type": "code",
   "execution_count": 39,
   "id": "f2039fa2-1396-44ff-8bba-65a65eba533f",
   "metadata": {},
   "outputs": [
    {
     "data": {
      "text/html": [
       "<div>\n",
       "<style scoped>\n",
       "    .dataframe tbody tr th:only-of-type {\n",
       "        vertical-align: middle;\n",
       "    }\n",
       "\n",
       "    .dataframe tbody tr th {\n",
       "        vertical-align: top;\n",
       "    }\n",
       "\n",
       "    .dataframe thead th {\n",
       "        text-align: right;\n",
       "    }\n",
       "</style>\n",
       "<table border=\"1\" class=\"dataframe\">\n",
       "  <thead>\n",
       "    <tr style=\"text-align: right;\">\n",
       "      <th></th>\n",
       "      <th>Años Escolaridad</th>\n",
       "      <th>Recuento</th>\n",
       "      <th>Porcentaje</th>\n",
       "    </tr>\n",
       "  </thead>\n",
       "  <tbody>\n",
       "    <tr>\n",
       "      <th>0</th>\n",
       "      <td>5.0</td>\n",
       "      <td>333</td>\n",
       "      <td>0.9</td>\n",
       "    </tr>\n",
       "    <tr>\n",
       "      <th>1</th>\n",
       "      <td>6.0</td>\n",
       "      <td>357</td>\n",
       "      <td>0.9</td>\n",
       "    </tr>\n",
       "    <tr>\n",
       "      <th>2</th>\n",
       "      <td>7.0</td>\n",
       "      <td>536</td>\n",
       "      <td>1.4</td>\n",
       "    </tr>\n",
       "    <tr>\n",
       "      <th>3</th>\n",
       "      <td>8.0</td>\n",
       "      <td>4,547</td>\n",
       "      <td>12.0</td>\n",
       "    </tr>\n",
       "    <tr>\n",
       "      <th>4</th>\n",
       "      <td>9.0</td>\n",
       "      <td>8,231</td>\n",
       "      <td>21.6</td>\n",
       "    </tr>\n",
       "    <tr>\n",
       "      <th>5</th>\n",
       "      <td>10.0</td>\n",
       "      <td>24,015</td>\n",
       "      <td>63.2</td>\n",
       "    </tr>\n",
       "    <tr>\n",
       "      <th>6</th>\n",
       "      <td>Total</td>\n",
       "      <td>38,018</td>\n",
       "      <td>100.0</td>\n",
       "    </tr>\n",
       "  </tbody>\n",
       "</table>\n",
       "</div>"
      ],
      "text/plain": [
       "  Años Escolaridad Recuento Porcentaje\n",
       "0              5.0      333        0.9\n",
       "1              6.0      357        0.9\n",
       "2              7.0      536        1.4\n",
       "3              8.0    4,547       12.0\n",
       "4              9.0    8,231       21.6\n",
       "5             10.0   24,015       63.2\n",
       "6            Total   38,018      100.0"
      ]
     },
     "execution_count": 39,
     "metadata": {},
     "output_type": "execute_result"
    }
   ],
   "source": [
    "generar_tabla_recuento(base_filtrada_aux, \"años_escolaridad\", \"Años Escolaridad\" , True)##################"
   ]
  },
  {
   "cell_type": "markdown",
   "id": "cbfb81a0-db56-43ac-afdb-eba6dd71c97e",
   "metadata": {},
   "source": [
    "## Variables Cualitativas"
   ]
  },
  {
   "cell_type": "code",
   "execution_count": 40,
   "id": "ebe6d38c-7ea2-46e7-9159-469d4fd13a48",
   "metadata": {},
   "outputs": [
    {
     "data": {
      "text/html": [
       "<div>\n",
       "<style scoped>\n",
       "    .dataframe tbody tr th:only-of-type {\n",
       "        vertical-align: middle;\n",
       "    }\n",
       "\n",
       "    .dataframe tbody tr th {\n",
       "        vertical-align: top;\n",
       "    }\n",
       "\n",
       "    .dataframe thead th {\n",
       "        text-align: right;\n",
       "    }\n",
       "</style>\n",
       "<table border=\"1\" class=\"dataframe\">\n",
       "  <thead>\n",
       "    <tr style=\"text-align: right;\">\n",
       "      <th></th>\n",
       "      <th>parentesco</th>\n",
       "      <th>Recuento</th>\n",
       "      <th>Porcentaje</th>\n",
       "    </tr>\n",
       "  </thead>\n",
       "  <tbody>\n",
       "    <tr>\n",
       "      <th>0</th>\n",
       "      <td>2</td>\n",
       "      <td>159</td>\n",
       "      <td>0.4</td>\n",
       "    </tr>\n",
       "    <tr>\n",
       "      <th>1</th>\n",
       "      <td>3</td>\n",
       "      <td>34,079</td>\n",
       "      <td>89.6</td>\n",
       "    </tr>\n",
       "    <tr>\n",
       "      <th>2</th>\n",
       "      <td>4</td>\n",
       "      <td>176</td>\n",
       "      <td>0.5</td>\n",
       "    </tr>\n",
       "    <tr>\n",
       "      <th>3</th>\n",
       "      <td>5</td>\n",
       "      <td>2,762</td>\n",
       "      <td>7.3</td>\n",
       "    </tr>\n",
       "    <tr>\n",
       "      <th>4</th>\n",
       "      <td>11</td>\n",
       "      <td>842</td>\n",
       "      <td>2.2</td>\n",
       "    </tr>\n",
       "    <tr>\n",
       "      <th>5</th>\n",
       "      <td>Total</td>\n",
       "      <td>38,018</td>\n",
       "      <td>100.0</td>\n",
       "    </tr>\n",
       "  </tbody>\n",
       "</table>\n",
       "</div>"
      ],
      "text/plain": [
       "  parentesco Recuento Porcentaje\n",
       "0          2      159        0.4\n",
       "1          3   34,079       89.6\n",
       "2          4      176        0.5\n",
       "3          5    2,762        7.3\n",
       "4         11      842        2.2\n",
       "5      Total   38,018      100.0"
      ]
     },
     "execution_count": 40,
     "metadata": {},
     "output_type": "execute_result"
    }
   ],
   "source": [
    "generar_tabla_recuento(base_filtrada_aux, \"parentesco\", \"parentesco\", True) # 0 Panel (No Presente el año actual)\n",
    "#1 Jefe(a) 2 Esposa(o)/compañero(a) 3 Hijo(a)/Hijastro(a) 4 Yerno/Nuera\n",
    "#5 Nieto(a) 6 Padres/Suegros 7 Otros parientes 8 Trabajador Hogar 9 Pensionista 10 Otros no parientes 11 Hermano(a)"
   ]
  },
  {
   "cell_type": "markdown",
   "id": "5b71dfca-db7a-4630-a4bb-a6e164d3e752",
   "metadata": {
    "tags": []
   },
   "source": [
    "#### Nivel Educativo y Centro de estudios"
   ]
  },
  {
   "cell_type": "code",
   "execution_count": 41,
   "id": "f1c99474",
   "metadata": {},
   "outputs": [
    {
     "data": {
      "text/html": [
       "<div>\n",
       "<style scoped>\n",
       "    .dataframe tbody tr th:only-of-type {\n",
       "        vertical-align: middle;\n",
       "    }\n",
       "\n",
       "    .dataframe tbody tr th {\n",
       "        vertical-align: top;\n",
       "    }\n",
       "\n",
       "    .dataframe thead th {\n",
       "        text-align: right;\n",
       "    }\n",
       "</style>\n",
       "<table border=\"1\" class=\"dataframe\">\n",
       "  <thead>\n",
       "    <tr style=\"text-align: right;\">\n",
       "      <th></th>\n",
       "      <th>Nivel Educativo</th>\n",
       "      <th>Recuento</th>\n",
       "      <th>Porcentaje</th>\n",
       "    </tr>\n",
       "  </thead>\n",
       "  <tbody>\n",
       "    <tr>\n",
       "      <th>0</th>\n",
       "      <td>Primaria</td>\n",
       "      <td>333</td>\n",
       "      <td>0.9</td>\n",
       "    </tr>\n",
       "    <tr>\n",
       "      <th>1</th>\n",
       "      <td>Secundaria</td>\n",
       "      <td>37,685</td>\n",
       "      <td>99.1</td>\n",
       "    </tr>\n",
       "    <tr>\n",
       "      <th>2</th>\n",
       "      <td>Total</td>\n",
       "      <td>38,018</td>\n",
       "      <td>100.0</td>\n",
       "    </tr>\n",
       "  </tbody>\n",
       "</table>\n",
       "</div>"
      ],
      "text/plain": [
       "  Nivel Educativo Recuento Porcentaje\n",
       "0        Primaria      333        0.9\n",
       "1      Secundaria   37,685       99.1\n",
       "2           Total   38,018      100.0"
      ]
     },
     "execution_count": 41,
     "metadata": {},
     "output_type": "execute_result"
    }
   ],
   "source": [
    "generar_tabla_recuento(base_filtrada_aux, \"Nivel_educativo\", \"Nivel Educativo\", True)\n",
    "# 1 Educación Inicial  2 Primaria 3 Secundaria "
   ]
  },
  {
   "cell_type": "code",
   "execution_count": 42,
   "id": "7fd273a5",
   "metadata": {},
   "outputs": [
    {
     "data": {
      "text/html": [
       "<div>\n",
       "<style scoped>\n",
       "    .dataframe tbody tr th:only-of-type {\n",
       "        vertical-align: middle;\n",
       "    }\n",
       "\n",
       "    .dataframe tbody tr th {\n",
       "        vertical-align: top;\n",
       "    }\n",
       "\n",
       "    .dataframe thead th {\n",
       "        text-align: right;\n",
       "    }\n",
       "</style>\n",
       "<table border=\"1\" class=\"dataframe\">\n",
       "  <thead>\n",
       "    <tr style=\"text-align: right;\">\n",
       "      <th></th>\n",
       "      <th>Centro de Estudios</th>\n",
       "      <th>Recuento</th>\n",
       "      <th>Porcentaje</th>\n",
       "    </tr>\n",
       "  </thead>\n",
       "  <tbody>\n",
       "    <tr>\n",
       "      <th>0</th>\n",
       "      <td>Nacional</td>\n",
       "      <td>33,393</td>\n",
       "      <td>87.8</td>\n",
       "    </tr>\n",
       "    <tr>\n",
       "      <th>1</th>\n",
       "      <td>Privada</td>\n",
       "      <td>4,625</td>\n",
       "      <td>12.2</td>\n",
       "    </tr>\n",
       "    <tr>\n",
       "      <th>2</th>\n",
       "      <td>Total</td>\n",
       "      <td>38,018</td>\n",
       "      <td>100.0</td>\n",
       "    </tr>\n",
       "  </tbody>\n",
       "</table>\n",
       "</div>"
      ],
      "text/plain": [
       "  Centro de Estudios Recuento Porcentaje\n",
       "0           Nacional   33,393       87.8\n",
       "1            Privada    4,625       12.2\n",
       "2              Total   38,018      100.0"
      ]
     },
     "execution_count": 42,
     "metadata": {},
     "output_type": "execute_result"
    }
   ],
   "source": [
    "generar_tabla_recuento(base_filtrada_aux, \"Centro_estudios\", \"Centro de Estudios\",True)\n",
    "#descripcion_nivel_educativo = { 1 Estatal 2 No estatal}"
   ]
  },
  {
   "cell_type": "markdown",
   "id": "0792b75e-e6b7-42dd-8561-b059278a937e",
   "metadata": {},
   "source": [
    "#### Idioma y Sexo"
   ]
  },
  {
   "cell_type": "code",
   "execution_count": 43,
   "id": "829692a5",
   "metadata": {},
   "outputs": [
    {
     "data": {
      "text/html": [
       "<div>\n",
       "<style scoped>\n",
       "    .dataframe tbody tr th:only-of-type {\n",
       "        vertical-align: middle;\n",
       "    }\n",
       "\n",
       "    .dataframe tbody tr th {\n",
       "        vertical-align: top;\n",
       "    }\n",
       "\n",
       "    .dataframe thead th {\n",
       "        text-align: right;\n",
       "    }\n",
       "</style>\n",
       "<table border=\"1\" class=\"dataframe\">\n",
       "  <thead>\n",
       "    <tr style=\"text-align: right;\">\n",
       "      <th></th>\n",
       "      <th>Idioma</th>\n",
       "      <th>Recuento</th>\n",
       "      <th>Porcentaje</th>\n",
       "    </tr>\n",
       "  </thead>\n",
       "  <tbody>\n",
       "    <tr>\n",
       "      <th>0</th>\n",
       "      <td>Catellano</td>\n",
       "      <td>30,913</td>\n",
       "      <td>81.3</td>\n",
       "    </tr>\n",
       "    <tr>\n",
       "      <th>1</th>\n",
       "      <td>Otro</td>\n",
       "      <td>7,105</td>\n",
       "      <td>18.7</td>\n",
       "    </tr>\n",
       "    <tr>\n",
       "      <th>2</th>\n",
       "      <td>Total</td>\n",
       "      <td>38,018</td>\n",
       "      <td>100.0</td>\n",
       "    </tr>\n",
       "  </tbody>\n",
       "</table>\n",
       "</div>"
      ],
      "text/plain": [
       "      Idioma Recuento Porcentaje\n",
       "0  Catellano   30,913       81.3\n",
       "1       Otro    7,105       18.7\n",
       "2      Total   38,018      100.0"
      ]
     },
     "execution_count": 43,
     "metadata": {},
     "output_type": "execute_result"
    }
   ],
   "source": [
    "generar_tabla_recuento(base_filtrada_aux, \"Idioma\", \"Idioma\",True)   #{1: \"Castellano\", 0: \"Otros\"}"
   ]
  },
  {
   "cell_type": "code",
   "execution_count": 44,
   "id": "18c84e20",
   "metadata": {},
   "outputs": [
    {
     "data": {
      "text/html": [
       "<div>\n",
       "<style scoped>\n",
       "    .dataframe tbody tr th:only-of-type {\n",
       "        vertical-align: middle;\n",
       "    }\n",
       "\n",
       "    .dataframe tbody tr th {\n",
       "        vertical-align: top;\n",
       "    }\n",
       "\n",
       "    .dataframe thead th {\n",
       "        text-align: right;\n",
       "    }\n",
       "</style>\n",
       "<table border=\"1\" class=\"dataframe\">\n",
       "  <thead>\n",
       "    <tr style=\"text-align: right;\">\n",
       "      <th></th>\n",
       "      <th>Sexo</th>\n",
       "      <th>Recuento</th>\n",
       "      <th>Porcentaje</th>\n",
       "    </tr>\n",
       "  </thead>\n",
       "  <tbody>\n",
       "    <tr>\n",
       "      <th>0</th>\n",
       "      <td>Hombre</td>\n",
       "      <td>22,867</td>\n",
       "      <td>60.2</td>\n",
       "    </tr>\n",
       "    <tr>\n",
       "      <th>1</th>\n",
       "      <td>Mujer</td>\n",
       "      <td>15,152</td>\n",
       "      <td>39.8</td>\n",
       "    </tr>\n",
       "    <tr>\n",
       "      <th>2</th>\n",
       "      <td>Total</td>\n",
       "      <td>38,018</td>\n",
       "      <td>100.0</td>\n",
       "    </tr>\n",
       "  </tbody>\n",
       "</table>\n",
       "</div>"
      ],
      "text/plain": [
       "     Sexo Recuento Porcentaje\n",
       "0  Hombre   22,867       60.2\n",
       "1   Mujer   15,152       39.8\n",
       "2   Total   38,018      100.0"
      ]
     },
     "execution_count": 44,
     "metadata": {},
     "output_type": "execute_result"
    }
   ],
   "source": [
    "generar_tabla_recuento(base_filtrada_aux, \"Sexo\", \"Sexo\", True)  # 1 Hombre 2 Mujer ###########"
   ]
  },
  {
   "cell_type": "markdown",
   "id": "8486058c-0926-473c-994d-11478355e473",
   "metadata": {
    "tags": []
   },
   "source": [
    "#### Area y Estrato social"
   ]
  },
  {
   "cell_type": "code",
   "execution_count": 45,
   "id": "62fb5ab4",
   "metadata": {},
   "outputs": [
    {
     "data": {
      "text/html": [
       "<div>\n",
       "<style scoped>\n",
       "    .dataframe tbody tr th:only-of-type {\n",
       "        vertical-align: middle;\n",
       "    }\n",
       "\n",
       "    .dataframe tbody tr th {\n",
       "        vertical-align: top;\n",
       "    }\n",
       "\n",
       "    .dataframe thead th {\n",
       "        text-align: right;\n",
       "    }\n",
       "</style>\n",
       "<table border=\"1\" class=\"dataframe\">\n",
       "  <thead>\n",
       "    <tr style=\"text-align: right;\">\n",
       "      <th></th>\n",
       "      <th>Area</th>\n",
       "      <th>Recuento</th>\n",
       "      <th>Porcentaje</th>\n",
       "    </tr>\n",
       "  </thead>\n",
       "  <tbody>\n",
       "    <tr>\n",
       "      <th>0</th>\n",
       "      <td>Rural</td>\n",
       "      <td>16,439</td>\n",
       "      <td>43.2</td>\n",
       "    </tr>\n",
       "    <tr>\n",
       "      <th>1</th>\n",
       "      <td>Urbano</td>\n",
       "      <td>21,580</td>\n",
       "      <td>56.8</td>\n",
       "    </tr>\n",
       "    <tr>\n",
       "      <th>2</th>\n",
       "      <td>Total</td>\n",
       "      <td>38,018</td>\n",
       "      <td>100.0</td>\n",
       "    </tr>\n",
       "  </tbody>\n",
       "</table>\n",
       "</div>"
      ],
      "text/plain": [
       "     Area Recuento Porcentaje\n",
       "0   Rural   16,439       43.2\n",
       "1  Urbano   21,580       56.8\n",
       "2   Total   38,018      100.0"
      ]
     },
     "execution_count": 45,
     "metadata": {},
     "output_type": "execute_result"
    }
   ],
   "source": [
    "generar_tabla_recuento(base_filtrada_aux, \"Area\", \"Area\", True) #{1: \"Urbano\", 0: \"Rural\"}"
   ]
  },
  {
   "cell_type": "code",
   "execution_count": 46,
   "id": "739456e8",
   "metadata": {},
   "outputs": [
    {
     "data": {
      "text/html": [
       "<div>\n",
       "<style scoped>\n",
       "    .dataframe tbody tr th:only-of-type {\n",
       "        vertical-align: middle;\n",
       "    }\n",
       "\n",
       "    .dataframe tbody tr th {\n",
       "        vertical-align: top;\n",
       "    }\n",
       "\n",
       "    .dataframe thead th {\n",
       "        text-align: right;\n",
       "    }\n",
       "</style>\n",
       "<table border=\"1\" class=\"dataframe\">\n",
       "  <thead>\n",
       "    <tr style=\"text-align: right;\">\n",
       "      <th></th>\n",
       "      <th>Estrato Social</th>\n",
       "      <th>Recuento</th>\n",
       "      <th>Porcentaje</th>\n",
       "    </tr>\n",
       "  </thead>\n",
       "  <tbody>\n",
       "    <tr>\n",
       "      <th>0</th>\n",
       "      <td>B</td>\n",
       "      <td>737</td>\n",
       "      <td>1.9</td>\n",
       "    </tr>\n",
       "    <tr>\n",
       "      <th>1</th>\n",
       "      <td>C</td>\n",
       "      <td>1,772</td>\n",
       "      <td>4.7</td>\n",
       "    </tr>\n",
       "    <tr>\n",
       "      <th>2</th>\n",
       "      <td>D</td>\n",
       "      <td>7,847</td>\n",
       "      <td>20.6</td>\n",
       "    </tr>\n",
       "    <tr>\n",
       "      <th>3</th>\n",
       "      <td>E</td>\n",
       "      <td>11,224</td>\n",
       "      <td>29.5</td>\n",
       "    </tr>\n",
       "    <tr>\n",
       "      <th>4</th>\n",
       "      <td>rural</td>\n",
       "      <td>16,439</td>\n",
       "      <td>43.2</td>\n",
       "    </tr>\n",
       "    <tr>\n",
       "      <th>5</th>\n",
       "      <td>Total</td>\n",
       "      <td>38,018</td>\n",
       "      <td>100.0</td>\n",
       "    </tr>\n",
       "  </tbody>\n",
       "</table>\n",
       "</div>"
      ],
      "text/plain": [
       "  Estrato Social Recuento Porcentaje\n",
       "0              B      737        1.9\n",
       "1              C    1,772        4.7\n",
       "2              D    7,847       20.6\n",
       "3              E   11,224       29.5\n",
       "4          rural   16,439       43.2\n",
       "5          Total   38,018      100.0"
      ]
     },
     "execution_count": 46,
     "metadata": {},
     "output_type": "execute_result"
    }
   ],
   "source": [
    "generar_tabla_recuento(base_filtrada_aux, \"estrsocial\", \"Estrato Social\",True)\n",
    "# 1 “A” 2 “B” 3 “C” 4 “D” 5 “E” 6 “RURAL”"
   ]
  },
  {
   "cell_type": "markdown",
   "id": "edfe1e61-038d-4ee4-8213-149a8e7a09b6",
   "metadata": {},
   "source": [
    "#### Electricidad y Region"
   ]
  },
  {
   "cell_type": "code",
   "execution_count": 47,
   "id": "aae90ee2",
   "metadata": {},
   "outputs": [
    {
     "data": {
      "text/html": [
       "<div>\n",
       "<style scoped>\n",
       "    .dataframe tbody tr th:only-of-type {\n",
       "        vertical-align: middle;\n",
       "    }\n",
       "\n",
       "    .dataframe tbody tr th {\n",
       "        vertical-align: top;\n",
       "    }\n",
       "\n",
       "    .dataframe thead th {\n",
       "        text-align: right;\n",
       "    }\n",
       "</style>\n",
       "<table border=\"1\" class=\"dataframe\">\n",
       "  <thead>\n",
       "    <tr style=\"text-align: right;\">\n",
       "      <th></th>\n",
       "      <th>Electricidad</th>\n",
       "      <th>Recuento</th>\n",
       "      <th>Porcentaje</th>\n",
       "    </tr>\n",
       "  </thead>\n",
       "  <tbody>\n",
       "    <tr>\n",
       "      <th>0</th>\n",
       "      <td>No</td>\n",
       "      <td>5,150</td>\n",
       "      <td>13.6</td>\n",
       "    </tr>\n",
       "    <tr>\n",
       "      <th>1</th>\n",
       "      <td>Si</td>\n",
       "      <td>32,868</td>\n",
       "      <td>86.4</td>\n",
       "    </tr>\n",
       "    <tr>\n",
       "      <th>2</th>\n",
       "      <td>Total</td>\n",
       "      <td>38,018</td>\n",
       "      <td>100.0</td>\n",
       "    </tr>\n",
       "  </tbody>\n",
       "</table>\n",
       "</div>"
      ],
      "text/plain": [
       "  Electricidad Recuento Porcentaje\n",
       "0           No    5,150       13.6\n",
       "1           Si   32,868       86.4\n",
       "2        Total   38,018      100.0"
      ]
     },
     "execution_count": 47,
     "metadata": {},
     "output_type": "execute_result"
    }
   ],
   "source": [
    "generar_tabla_recuento(base_filtrada_aux, \"Electricidad\", \"Electricidad\", True) ##################"
   ]
  },
  {
   "cell_type": "code",
   "execution_count": 48,
   "id": "e47501de-3fb8-4cb3-86b7-efaa627d1cdd",
   "metadata": {},
   "outputs": [],
   "source": [
    "#dict_region = { 1:1, 2:1, 3: 1, 4:2, 5:2, 6:2, 7:3, 8: 4}\n",
    "#merged_data[\"region\"] = merged_data[\"dominio\"].map(dict_region)"
   ]
  },
  {
   "cell_type": "markdown",
   "id": "17a05fc1-fa64-4e86-bde8-b8f957e7390e",
   "metadata": {},
   "source": [
    "#### Departamento"
   ]
  },
  {
   "cell_type": "code",
   "execution_count": 49,
   "id": "1a8ed003-1b21-4a0c-98d6-8538bfcf49f4",
   "metadata": {},
   "outputs": [
    {
     "data": {
      "text/html": [
       "<div>\n",
       "<style scoped>\n",
       "    .dataframe tbody tr th:only-of-type {\n",
       "        vertical-align: middle;\n",
       "    }\n",
       "\n",
       "    .dataframe tbody tr th {\n",
       "        vertical-align: top;\n",
       "    }\n",
       "\n",
       "    .dataframe thead th {\n",
       "        text-align: right;\n",
       "    }\n",
       "</style>\n",
       "<table border=\"1\" class=\"dataframe\">\n",
       "  <thead>\n",
       "    <tr style=\"text-align: right;\">\n",
       "      <th></th>\n",
       "      <th>Region</th>\n",
       "      <th>Recuento</th>\n",
       "      <th>Porcentaje</th>\n",
       "    </tr>\n",
       "  </thead>\n",
       "  <tbody>\n",
       "    <tr>\n",
       "      <th>0</th>\n",
       "      <td>Costa</td>\n",
       "      <td>14,178</td>\n",
       "      <td>37.3</td>\n",
       "    </tr>\n",
       "    <tr>\n",
       "      <th>1</th>\n",
       "      <td>Selva</td>\n",
       "      <td>8,373</td>\n",
       "      <td>22.0</td>\n",
       "    </tr>\n",
       "    <tr>\n",
       "      <th>2</th>\n",
       "      <td>Sierra</td>\n",
       "      <td>15,467</td>\n",
       "      <td>40.7</td>\n",
       "    </tr>\n",
       "    <tr>\n",
       "      <th>3</th>\n",
       "      <td>Total</td>\n",
       "      <td>38,018</td>\n",
       "      <td>100.0</td>\n",
       "    </tr>\n",
       "  </tbody>\n",
       "</table>\n",
       "</div>"
      ],
      "text/plain": [
       "   Region Recuento Porcentaje\n",
       "0   Costa   14,178       37.3\n",
       "1   Selva    8,373       22.0\n",
       "2  Sierra   15,467       40.7\n",
       "3   Total   38,018      100.0"
      ]
     },
     "execution_count": 49,
     "metadata": {},
     "output_type": "execute_result"
    }
   ],
   "source": [
    "generar_tabla_recuento(base_filtrada_aux, \"Region\", \"Region\",True) ##################"
   ]
  },
  {
   "cell_type": "code",
   "execution_count": 50,
   "id": "068aaf64-c636-42aa-a14e-e765b19d02d9",
   "metadata": {},
   "outputs": [
    {
     "data": {
      "text/html": [
       "<div>\n",
       "<style scoped>\n",
       "    .dataframe tbody tr th:only-of-type {\n",
       "        vertical-align: middle;\n",
       "    }\n",
       "\n",
       "    .dataframe tbody tr th {\n",
       "        vertical-align: top;\n",
       "    }\n",
       "\n",
       "    .dataframe thead th {\n",
       "        text-align: right;\n",
       "    }\n",
       "</style>\n",
       "<table border=\"1\" class=\"dataframe\">\n",
       "  <thead>\n",
       "    <tr style=\"text-align: right;\">\n",
       "      <th></th>\n",
       "      <th>Departamento</th>\n",
       "      <th>Recuento</th>\n",
       "      <th>Porcentaje</th>\n",
       "    </tr>\n",
       "  </thead>\n",
       "  <tbody>\n",
       "    <tr>\n",
       "      <th>0</th>\n",
       "      <td>1</td>\n",
       "      <td>689</td>\n",
       "      <td>1.8</td>\n",
       "    </tr>\n",
       "    <tr>\n",
       "      <th>1</th>\n",
       "      <td>2</td>\n",
       "      <td>3,121</td>\n",
       "      <td>8.2</td>\n",
       "    </tr>\n",
       "    <tr>\n",
       "      <th>2</th>\n",
       "      <td>3</td>\n",
       "      <td>553</td>\n",
       "      <td>1.5</td>\n",
       "    </tr>\n",
       "    <tr>\n",
       "      <th>3</th>\n",
       "      <td>4</td>\n",
       "      <td>1,452</td>\n",
       "      <td>3.8</td>\n",
       "    </tr>\n",
       "    <tr>\n",
       "      <th>4</th>\n",
       "      <td>5</td>\n",
       "      <td>1,578</td>\n",
       "      <td>4.2</td>\n",
       "    </tr>\n",
       "    <tr>\n",
       "      <th>5</th>\n",
       "      <td>6</td>\n",
       "      <td>2,296</td>\n",
       "      <td>6.0</td>\n",
       "    </tr>\n",
       "    <tr>\n",
       "      <th>6</th>\n",
       "      <td>7</td>\n",
       "      <td>1,623</td>\n",
       "      <td>4.3</td>\n",
       "    </tr>\n",
       "    <tr>\n",
       "      <th>7</th>\n",
       "      <td>8</td>\n",
       "      <td>873</td>\n",
       "      <td>2.3</td>\n",
       "    </tr>\n",
       "    <tr>\n",
       "      <th>8</th>\n",
       "      <td>9</td>\n",
       "      <td>1,496</td>\n",
       "      <td>3.9</td>\n",
       "    </tr>\n",
       "    <tr>\n",
       "      <th>9</th>\n",
       "      <td>10</td>\n",
       "      <td>1,668</td>\n",
       "      <td>4.4</td>\n",
       "    </tr>\n",
       "    <tr>\n",
       "      <th>10</th>\n",
       "      <td>11</td>\n",
       "      <td>498</td>\n",
       "      <td>1.3</td>\n",
       "    </tr>\n",
       "    <tr>\n",
       "      <th>11</th>\n",
       "      <td>12</td>\n",
       "      <td>1,534</td>\n",
       "      <td>4.0</td>\n",
       "    </tr>\n",
       "    <tr>\n",
       "      <th>12</th>\n",
       "      <td>13</td>\n",
       "      <td>3,360</td>\n",
       "      <td>8.8</td>\n",
       "    </tr>\n",
       "    <tr>\n",
       "      <th>13</th>\n",
       "      <td>14</td>\n",
       "      <td>761</td>\n",
       "      <td>2.0</td>\n",
       "    </tr>\n",
       "    <tr>\n",
       "      <th>14</th>\n",
       "      <td>15</td>\n",
       "      <td>4,617</td>\n",
       "      <td>12.1</td>\n",
       "    </tr>\n",
       "    <tr>\n",
       "      <th>15</th>\n",
       "      <td>16</td>\n",
       "      <td>3,133</td>\n",
       "      <td>8.2</td>\n",
       "    </tr>\n",
       "    <tr>\n",
       "      <th>16</th>\n",
       "      <td>18</td>\n",
       "      <td>247</td>\n",
       "      <td>0.6</td>\n",
       "    </tr>\n",
       "    <tr>\n",
       "      <th>17</th>\n",
       "      <td>19</td>\n",
       "      <td>258</td>\n",
       "      <td>0.7</td>\n",
       "    </tr>\n",
       "    <tr>\n",
       "      <th>18</th>\n",
       "      <td>20</td>\n",
       "      <td>3,373</td>\n",
       "      <td>8.9</td>\n",
       "    </tr>\n",
       "    <tr>\n",
       "      <th>19</th>\n",
       "      <td>21</td>\n",
       "      <td>2,887</td>\n",
       "      <td>7.6</td>\n",
       "    </tr>\n",
       "    <tr>\n",
       "      <th>20</th>\n",
       "      <td>22</td>\n",
       "      <td>903</td>\n",
       "      <td>2.4</td>\n",
       "    </tr>\n",
       "    <tr>\n",
       "      <th>21</th>\n",
       "      <td>23</td>\n",
       "      <td>96</td>\n",
       "      <td>0.2</td>\n",
       "    </tr>\n",
       "    <tr>\n",
       "      <th>22</th>\n",
       "      <td>24</td>\n",
       "      <td>267</td>\n",
       "      <td>0.7</td>\n",
       "    </tr>\n",
       "    <tr>\n",
       "      <th>23</th>\n",
       "      <td>25</td>\n",
       "      <td>734</td>\n",
       "      <td>1.9</td>\n",
       "    </tr>\n",
       "    <tr>\n",
       "      <th>24</th>\n",
       "      <td>Total</td>\n",
       "      <td>38,018</td>\n",
       "      <td>100.0</td>\n",
       "    </tr>\n",
       "  </tbody>\n",
       "</table>\n",
       "</div>"
      ],
      "text/plain": [
       "   Departamento Recuento Porcentaje\n",
       "0             1      689        1.8\n",
       "1             2    3,121        8.2\n",
       "2             3      553        1.5\n",
       "3             4    1,452        3.8\n",
       "4             5    1,578        4.2\n",
       "5             6    2,296        6.0\n",
       "6             7    1,623        4.3\n",
       "7             8      873        2.3\n",
       "8             9    1,496        3.9\n",
       "9            10    1,668        4.4\n",
       "10           11      498        1.3\n",
       "11           12    1,534        4.0\n",
       "12           13    3,360        8.8\n",
       "13           14      761        2.0\n",
       "14           15    4,617       12.1\n",
       "15           16    3,133        8.2\n",
       "16           18      247        0.6\n",
       "17           19      258        0.7\n",
       "18           20    3,373        8.9\n",
       "19           21    2,887        7.6\n",
       "20           22      903        2.4\n",
       "21           23       96        0.2\n",
       "22           24      267        0.7\n",
       "23           25      734        1.9\n",
       "24        Total   38,018      100.0"
      ]
     },
     "execution_count": 50,
     "metadata": {},
     "output_type": "execute_result"
    }
   ],
   "source": [
    "generar_tabla_recuento(base_filtrada_aux, \"DEPARTAMENTO\", \"Departamento\", True) ##################"
   ]
  },
  {
   "cell_type": "markdown",
   "id": "4a9613a7-b140-4b32-b520-247fddb7a175",
   "metadata": {},
   "source": [
    "## DIMENSION DE ACCESO"
   ]
  },
  {
   "cell_type": "code",
   "execution_count": 51,
   "id": "6f3ee94d-7b4a-4149-92a0-5e5304d59cd4",
   "metadata": {},
   "outputs": [
    {
     "data": {
      "text/html": [
       "<div>\n",
       "<style scoped>\n",
       "    .dataframe tbody tr th:only-of-type {\n",
       "        vertical-align: middle;\n",
       "    }\n",
       "\n",
       "    .dataframe tbody tr th {\n",
       "        vertical-align: top;\n",
       "    }\n",
       "\n",
       "    .dataframe thead th {\n",
       "        text-align: right;\n",
       "    }\n",
       "</style>\n",
       "<table border=\"1\" class=\"dataframe\">\n",
       "  <thead>\n",
       "    <tr style=\"text-align: right;\">\n",
       "      <th></th>\n",
       "      <th>Uso teléfono celular propio</th>\n",
       "      <th>Recuento</th>\n",
       "      <th>Porcentaje</th>\n",
       "    </tr>\n",
       "  </thead>\n",
       "  <tbody>\n",
       "    <tr>\n",
       "      <th>0</th>\n",
       "      <td>No</td>\n",
       "      <td>9,088</td>\n",
       "      <td>23.9</td>\n",
       "    </tr>\n",
       "    <tr>\n",
       "      <th>1</th>\n",
       "      <td>Si</td>\n",
       "      <td>28,930</td>\n",
       "      <td>76.1</td>\n",
       "    </tr>\n",
       "    <tr>\n",
       "      <th>2</th>\n",
       "      <td>Total</td>\n",
       "      <td>38,018</td>\n",
       "      <td>100.0</td>\n",
       "    </tr>\n",
       "  </tbody>\n",
       "</table>\n",
       "</div>"
      ],
      "text/plain": [
       "  Uso teléfono celular propio Recuento Porcentaje\n",
       "0                          No    9,088       23.9\n",
       "1                          Si   28,930       76.1\n",
       "2                       Total   38,018      100.0"
      ]
     },
     "execution_count": 51,
     "metadata": {},
     "output_type": "execute_result"
    }
   ],
   "source": [
    "generar_tabla_recuento(base_filtrada_aux, \"cel_uso\" , \"Uso teléfono celular propio\", True)"
   ]
  },
  {
   "cell_type": "code",
   "execution_count": 52,
   "id": "c1088008-2936-4c4b-9279-ea74ac6e631c",
   "metadata": {},
   "outputs": [
    {
     "data": {
      "text/html": [
       "<div>\n",
       "<style scoped>\n",
       "    .dataframe tbody tr th:only-of-type {\n",
       "        vertical-align: middle;\n",
       "    }\n",
       "\n",
       "    .dataframe tbody tr th {\n",
       "        vertical-align: top;\n",
       "    }\n",
       "\n",
       "    .dataframe thead th {\n",
       "        text-align: right;\n",
       "    }\n",
       "</style>\n",
       "<table border=\"1\" class=\"dataframe\">\n",
       "  <thead>\n",
       "    <tr style=\"text-align: right;\">\n",
       "      <th></th>\n",
       "      <th>Teléfono Celular - Hogar</th>\n",
       "      <th>Recuento</th>\n",
       "      <th>Porcentaje</th>\n",
       "    </tr>\n",
       "  </thead>\n",
       "  <tbody>\n",
       "    <tr>\n",
       "      <th>0</th>\n",
       "      <td>No</td>\n",
       "      <td>799</td>\n",
       "      <td>2.1</td>\n",
       "    </tr>\n",
       "    <tr>\n",
       "      <th>1</th>\n",
       "      <td>Si</td>\n",
       "      <td>37,219</td>\n",
       "      <td>97.9</td>\n",
       "    </tr>\n",
       "    <tr>\n",
       "      <th>2</th>\n",
       "      <td>Total</td>\n",
       "      <td>38,018</td>\n",
       "      <td>100.0</td>\n",
       "    </tr>\n",
       "  </tbody>\n",
       "</table>\n",
       "</div>"
      ],
      "text/plain": [
       "  Teléfono Celular - Hogar Recuento Porcentaje\n",
       "0                       No      799        2.1\n",
       "1                       Si   37,219       97.9\n",
       "2                    Total   38,018      100.0"
      ]
     },
     "execution_count": 52,
     "metadata": {},
     "output_type": "execute_result"
    }
   ],
   "source": [
    "generar_tabla_recuento(base_filtrada_aux, \"cel_hog\", \"Teléfono Celular - Hogar\",True) #u hogar tiene : ¿ Conexión a Internet? 1 Conexión a Internet"
   ]
  },
  {
   "cell_type": "code",
   "execution_count": 53,
   "id": "86dbae2c-1812-495f-bb1e-9ce79da6fedb",
   "metadata": {},
   "outputs": [
    {
     "data": {
      "text/html": [
       "<div>\n",
       "<style scoped>\n",
       "    .dataframe tbody tr th:only-of-type {\n",
       "        vertical-align: middle;\n",
       "    }\n",
       "\n",
       "    .dataframe tbody tr th {\n",
       "        vertical-align: top;\n",
       "    }\n",
       "\n",
       "    .dataframe thead th {\n",
       "        text-align: right;\n",
       "    }\n",
       "</style>\n",
       "<table border=\"1\" class=\"dataframe\">\n",
       "  <thead>\n",
       "    <tr style=\"text-align: right;\">\n",
       "      <th></th>\n",
       "      <th>Conexión a TV cable o satelital - Hogar</th>\n",
       "      <th>Recuento</th>\n",
       "      <th>Porcentaje</th>\n",
       "    </tr>\n",
       "  </thead>\n",
       "  <tbody>\n",
       "    <tr>\n",
       "      <th>0</th>\n",
       "      <td>No</td>\n",
       "      <td>32,213</td>\n",
       "      <td>84.7</td>\n",
       "    </tr>\n",
       "    <tr>\n",
       "      <th>1</th>\n",
       "      <td>Si</td>\n",
       "      <td>5,805</td>\n",
       "      <td>15.3</td>\n",
       "    </tr>\n",
       "    <tr>\n",
       "      <th>2</th>\n",
       "      <td>Total</td>\n",
       "      <td>38,018</td>\n",
       "      <td>100.0</td>\n",
       "    </tr>\n",
       "  </tbody>\n",
       "</table>\n",
       "</div>"
      ],
      "text/plain": [
       "  Conexión a TV cable o satelital - Hogar Recuento Porcentaje\n",
       "0                                      No   32,213       84.7\n",
       "1                                      Si    5,805       15.3\n",
       "2                                   Total   38,018      100.0"
      ]
     },
     "execution_count": 53,
     "metadata": {},
     "output_type": "execute_result"
    }
   ],
   "source": [
    "generar_tabla_recuento(base_filtrada_aux, \"conexion_cable_hog\", \"Conexión a TV cable o satelital - Hogar\", True) #u hogar tiene : ¿ Conexión a Internet? 1 Conexión a Internet"
   ]
  },
  {
   "cell_type": "code",
   "execution_count": 54,
   "id": "5aa8c64e-910e-4722-a103-880737deda45",
   "metadata": {},
   "outputs": [
    {
     "data": {
      "text/html": [
       "<div>\n",
       "<style scoped>\n",
       "    .dataframe tbody tr th:only-of-type {\n",
       "        vertical-align: middle;\n",
       "    }\n",
       "\n",
       "    .dataframe tbody tr th {\n",
       "        vertical-align: top;\n",
       "    }\n",
       "\n",
       "    .dataframe thead th {\n",
       "        text-align: right;\n",
       "    }\n",
       "</style>\n",
       "<table border=\"1\" class=\"dataframe\">\n",
       "  <thead>\n",
       "    <tr style=\"text-align: right;\">\n",
       "      <th></th>\n",
       "      <th>Conexión a Internet - Hogar</th>\n",
       "      <th>Recuento</th>\n",
       "      <th>Porcentaje</th>\n",
       "    </tr>\n",
       "  </thead>\n",
       "  <tbody>\n",
       "    <tr>\n",
       "      <th>0</th>\n",
       "      <td>No</td>\n",
       "      <td>30,705</td>\n",
       "      <td>80.8</td>\n",
       "    </tr>\n",
       "    <tr>\n",
       "      <th>1</th>\n",
       "      <td>Si</td>\n",
       "      <td>7,313</td>\n",
       "      <td>19.2</td>\n",
       "    </tr>\n",
       "    <tr>\n",
       "      <th>2</th>\n",
       "      <td>Total</td>\n",
       "      <td>38,018</td>\n",
       "      <td>100.0</td>\n",
       "    </tr>\n",
       "  </tbody>\n",
       "</table>\n",
       "</div>"
      ],
      "text/plain": [
       "  Conexión a Internet - Hogar Recuento Porcentaje\n",
       "0                          No   30,705       80.8\n",
       "1                          Si    7,313       19.2\n",
       "2                       Total   38,018      100.0"
      ]
     },
     "execution_count": 54,
     "metadata": {},
     "output_type": "execute_result"
    }
   ],
   "source": [
    "generar_tabla_recuento(base_filtrada_aux, \"i_conexion_hog\", \"Conexión a Internet - Hogar\", True) #u hogar tiene : ¿ Conexión a Internet? 1 Conexión a Internet"
   ]
  },
  {
   "cell_type": "code",
   "execution_count": 55,
   "id": "359ea16e-4471-444b-ba8c-7051c674b58f",
   "metadata": {},
   "outputs": [
    {
     "data": {
      "text/html": [
       "<div>\n",
       "<style scoped>\n",
       "    .dataframe tbody tr th:only-of-type {\n",
       "        vertical-align: middle;\n",
       "    }\n",
       "\n",
       "    .dataframe tbody tr th {\n",
       "        vertical-align: top;\n",
       "    }\n",
       "\n",
       "    .dataframe thead th {\n",
       "        text-align: right;\n",
       "    }\n",
       "</style>\n",
       "<table border=\"1\" class=\"dataframe\">\n",
       "  <thead>\n",
       "    <tr style=\"text-align: right;\">\n",
       "      <th></th>\n",
       "      <th>Uso_tablet_computadora_laptop</th>\n",
       "      <th>Recuento</th>\n",
       "      <th>Porcentaje</th>\n",
       "    </tr>\n",
       "  </thead>\n",
       "  <tbody>\n",
       "    <tr>\n",
       "      <th>0</th>\n",
       "      <td>No</td>\n",
       "      <td>15,976</td>\n",
       "      <td>79.9</td>\n",
       "    </tr>\n",
       "    <tr>\n",
       "      <th>1</th>\n",
       "      <td>Si</td>\n",
       "      <td>4,029</td>\n",
       "      <td>20.1</td>\n",
       "    </tr>\n",
       "    <tr>\n",
       "      <th>2</th>\n",
       "      <td>Total</td>\n",
       "      <td>20,005</td>\n",
       "      <td>100.0</td>\n",
       "    </tr>\n",
       "  </tbody>\n",
       "</table>\n",
       "</div>"
      ],
      "text/plain": [
       "  Uso_tablet_computadora_laptop Recuento Porcentaje\n",
       "0                            No   15,976       79.9\n",
       "1                            Si    4,029       20.1\n",
       "2                         Total   20,005      100.0"
      ]
     },
     "execution_count": 55,
     "metadata": {},
     "output_type": "execute_result"
    }
   ],
   "source": [
    "generar_tabla_recuento(base_filtrada_aux, \"uso_cp_lp\", \"Uso_tablet_computadora_laptop\", True) #u hogar tiene : ¿ Conexión a Internet? 1 Conexión a Internet"
   ]
  },
  {
   "cell_type": "markdown",
   "id": "dc063270-f5b0-416a-9b50-67c1684a4f70",
   "metadata": {
    "tags": []
   },
   "source": [
    "## USO SERVICIO DE INTERNET"
   ]
  },
  {
   "cell_type": "markdown",
   "id": "846f4dff-34fc-454f-92f1-9c10f1780df8",
   "metadata": {},
   "source": [
    "### Uso de Internet"
   ]
  },
  {
   "cell_type": "code",
   "execution_count": 56,
   "id": "3f36de65",
   "metadata": {},
   "outputs": [
    {
     "data": {
      "text/html": [
       "<div>\n",
       "<style scoped>\n",
       "    .dataframe tbody tr th:only-of-type {\n",
       "        vertical-align: middle;\n",
       "    }\n",
       "\n",
       "    .dataframe tbody tr th {\n",
       "        vertical-align: top;\n",
       "    }\n",
       "\n",
       "    .dataframe thead th {\n",
       "        text-align: right;\n",
       "    }\n",
       "</style>\n",
       "<table border=\"1\" class=\"dataframe\">\n",
       "  <thead>\n",
       "    <tr style=\"text-align: right;\">\n",
       "      <th></th>\n",
       "      <th>Uso Internet</th>\n",
       "      <th>Recuento</th>\n",
       "      <th>Porcentaje</th>\n",
       "    </tr>\n",
       "  </thead>\n",
       "  <tbody>\n",
       "    <tr>\n",
       "      <th>0</th>\n",
       "      <td>No</td>\n",
       "      <td>7,964</td>\n",
       "      <td>21.0</td>\n",
       "    </tr>\n",
       "    <tr>\n",
       "      <th>1</th>\n",
       "      <td>Si</td>\n",
       "      <td>30,054</td>\n",
       "      <td>79.1</td>\n",
       "    </tr>\n",
       "    <tr>\n",
       "      <th>2</th>\n",
       "      <td>Total</td>\n",
       "      <td>38,018</td>\n",
       "      <td>100.0</td>\n",
       "    </tr>\n",
       "  </tbody>\n",
       "</table>\n",
       "</div>"
      ],
      "text/plain": [
       "  Uso Internet Recuento Porcentaje\n",
       "0           No    7,964       21.0\n",
       "1           Si   30,054       79.1\n",
       "2        Total   38,018      100.0"
      ]
     },
     "execution_count": 56,
     "metadata": {},
     "output_type": "execute_result"
    }
   ],
   "source": [
    "generar_tabla_recuento(base_filtrada_aux, \"i_uso\", \"Uso Internet\", True)  \n",
    "#En el mes anterior, ¿ Ud. hizo uso del Servicio de Internet? 1 Si 2 No"
   ]
  },
  {
   "cell_type": "markdown",
   "id": "1d45bf7b-1bef-4fbe-bc1a-89fa164e9d3f",
   "metadata": {},
   "source": [
    "## LUGAR DE USO DEL SERVICIO DE INTERNET"
   ]
  },
  {
   "cell_type": "markdown",
   "id": "78cf6817-9a6e-4e5f-8e73-221e528d8f83",
   "metadata": {},
   "source": [
    "### Uso de Internet en el hogar - Y"
   ]
  },
  {
   "cell_type": "code",
   "execution_count": 57,
   "id": "85886290",
   "metadata": {},
   "outputs": [
    {
     "data": {
      "text/html": [
       "<div>\n",
       "<style scoped>\n",
       "    .dataframe tbody tr th:only-of-type {\n",
       "        vertical-align: middle;\n",
       "    }\n",
       "\n",
       "    .dataframe tbody tr th {\n",
       "        vertical-align: top;\n",
       "    }\n",
       "\n",
       "    .dataframe thead th {\n",
       "        text-align: right;\n",
       "    }\n",
       "</style>\n",
       "<table border=\"1\" class=\"dataframe\">\n",
       "  <thead>\n",
       "    <tr style=\"text-align: right;\">\n",
       "      <th></th>\n",
       "      <th>Uso de Internet en el hogar</th>\n",
       "      <th>Recuento</th>\n",
       "      <th>Porcentaje</th>\n",
       "    </tr>\n",
       "  </thead>\n",
       "  <tbody>\n",
       "    <tr>\n",
       "      <th>0</th>\n",
       "      <td>0.0</td>\n",
       "      <td>7,161,074</td>\n",
       "      <td>72.8</td>\n",
       "    </tr>\n",
       "    <tr>\n",
       "      <th>1</th>\n",
       "      <td>1.0</td>\n",
       "      <td>2,675,776</td>\n",
       "      <td>27.2</td>\n",
       "    </tr>\n",
       "    <tr>\n",
       "      <th>2</th>\n",
       "      <td>Total</td>\n",
       "      <td>9,836,850</td>\n",
       "      <td>100.0</td>\n",
       "    </tr>\n",
       "  </tbody>\n",
       "</table>\n",
       "</div>"
      ],
      "text/plain": [
       "  Uso de Internet en el hogar   Recuento Porcentaje\n",
       "0                         0.0  7,161,074       72.8\n",
       "1                         1.0  2,675,776       27.2\n",
       "2                       Total  9,836,850      100.0"
      ]
     },
     "execution_count": 57,
     "metadata": {},
     "output_type": "execute_result"
    }
   ],
   "source": [
    "generar_tabla_recuento(merged_data, \"i_uso_hog\", \"Uso de Internet en el hogar\",True)"
   ]
  },
  {
   "cell_type": "markdown",
   "id": "d3efadb0-2ef7-4aa5-9330-22a1cdfa1518",
   "metadata": {},
   "source": [
    "### Uso de Internet en el trabajo"
   ]
  },
  {
   "cell_type": "code",
   "execution_count": 58,
   "id": "59eb5158",
   "metadata": {},
   "outputs": [
    {
     "data": {
      "text/html": [
       "<div>\n",
       "<style scoped>\n",
       "    .dataframe tbody tr th:only-of-type {\n",
       "        vertical-align: middle;\n",
       "    }\n",
       "\n",
       "    .dataframe tbody tr th {\n",
       "        vertical-align: top;\n",
       "    }\n",
       "\n",
       "    .dataframe thead th {\n",
       "        text-align: right;\n",
       "    }\n",
       "</style>\n",
       "<table border=\"1\" class=\"dataframe\">\n",
       "  <thead>\n",
       "    <tr style=\"text-align: right;\">\n",
       "      <th></th>\n",
       "      <th>Uso de Internet en el trabajo</th>\n",
       "      <th>Recuento</th>\n",
       "      <th>Porcentaje</th>\n",
       "    </tr>\n",
       "  </thead>\n",
       "  <tbody>\n",
       "    <tr>\n",
       "      <th>0</th>\n",
       "      <td>0.0</td>\n",
       "      <td>16,701</td>\n",
       "      <td>100.0</td>\n",
       "    </tr>\n",
       "    <tr>\n",
       "      <th>1</th>\n",
       "      <td>Total</td>\n",
       "      <td>16,701</td>\n",
       "      <td>100.0</td>\n",
       "    </tr>\n",
       "  </tbody>\n",
       "</table>\n",
       "</div>"
      ],
      "text/plain": [
       "  Uso de Internet en el trabajo Recuento Porcentaje\n",
       "0                           0.0   16,701      100.0\n",
       "1                         Total   16,701      100.0"
      ]
     },
     "execution_count": 58,
     "metadata": {},
     "output_type": "execute_result"
    }
   ],
   "source": [
    "generar_tabla_recuento(base_filtrada_aux, \"i_uso_trab\", \"Uso de Internet en el trabajo\", False)"
   ]
  },
  {
   "cell_type": "markdown",
   "id": "fc4de12b-0e9e-4146-84fc-6e13ca637b3b",
   "metadata": {},
   "source": [
    "### Uso de internet en el establecimiento educativo"
   ]
  },
  {
   "cell_type": "code",
   "execution_count": 59,
   "id": "18038ec0",
   "metadata": {},
   "outputs": [
    {
     "data": {
      "text/html": [
       "<div>\n",
       "<style scoped>\n",
       "    .dataframe tbody tr th:only-of-type {\n",
       "        vertical-align: middle;\n",
       "    }\n",
       "\n",
       "    .dataframe tbody tr th {\n",
       "        vertical-align: top;\n",
       "    }\n",
       "\n",
       "    .dataframe thead th {\n",
       "        text-align: right;\n",
       "    }\n",
       "</style>\n",
       "<table border=\"1\" class=\"dataframe\">\n",
       "  <thead>\n",
       "    <tr style=\"text-align: right;\">\n",
       "      <th></th>\n",
       "      <th>Uso de Internet en el establecimiento educativo</th>\n",
       "      <th>Recuento</th>\n",
       "      <th>Porcentaje</th>\n",
       "    </tr>\n",
       "  </thead>\n",
       "  <tbody>\n",
       "    <tr>\n",
       "      <th>0</th>\n",
       "      <td>0.0</td>\n",
       "      <td>16,701</td>\n",
       "      <td>100.0</td>\n",
       "    </tr>\n",
       "    <tr>\n",
       "      <th>1</th>\n",
       "      <td>Total</td>\n",
       "      <td>16,701</td>\n",
       "      <td>100.0</td>\n",
       "    </tr>\n",
       "  </tbody>\n",
       "</table>\n",
       "</div>"
      ],
      "text/plain": [
       "  Uso de Internet en el establecimiento educativo Recuento Porcentaje\n",
       "0                                             0.0   16,701      100.0\n",
       "1                                           Total   16,701      100.0"
      ]
     },
     "execution_count": 59,
     "metadata": {},
     "output_type": "execute_result"
    }
   ],
   "source": [
    "generar_tabla_recuento(base_filtrada_aux, \"i_uso_cedu\", \"Uso de Internet en el establecimiento educativo\", False)"
   ]
  },
  {
   "cell_type": "markdown",
   "id": "b30bbc4f-35ae-4475-9d9f-53c9ab8b0c9b",
   "metadata": {},
   "source": [
    "### Uso de internet en cabina publica"
   ]
  },
  {
   "cell_type": "code",
   "execution_count": 60,
   "id": "883986d2",
   "metadata": {},
   "outputs": [
    {
     "data": {
      "text/html": [
       "<div>\n",
       "<style scoped>\n",
       "    .dataframe tbody tr th:only-of-type {\n",
       "        vertical-align: middle;\n",
       "    }\n",
       "\n",
       "    .dataframe tbody tr th {\n",
       "        vertical-align: top;\n",
       "    }\n",
       "\n",
       "    .dataframe thead th {\n",
       "        text-align: right;\n",
       "    }\n",
       "</style>\n",
       "<table border=\"1\" class=\"dataframe\">\n",
       "  <thead>\n",
       "    <tr style=\"text-align: right;\">\n",
       "      <th></th>\n",
       "      <th>Uso de Internet en Cabina Publica</th>\n",
       "      <th>Recuento</th>\n",
       "      <th>Porcentaje</th>\n",
       "    </tr>\n",
       "  </thead>\n",
       "  <tbody>\n",
       "    <tr>\n",
       "      <th>0</th>\n",
       "      <td>0.0</td>\n",
       "      <td>16,311</td>\n",
       "      <td>97.7</td>\n",
       "    </tr>\n",
       "    <tr>\n",
       "      <th>1</th>\n",
       "      <td>1.0</td>\n",
       "      <td>390</td>\n",
       "      <td>2.3</td>\n",
       "    </tr>\n",
       "    <tr>\n",
       "      <th>2</th>\n",
       "      <td>Total</td>\n",
       "      <td>16,701</td>\n",
       "      <td>100.0</td>\n",
       "    </tr>\n",
       "  </tbody>\n",
       "</table>\n",
       "</div>"
      ],
      "text/plain": [
       "  Uso de Internet en Cabina Publica Recuento Porcentaje\n",
       "0                               0.0   16,311       97.7\n",
       "1                               1.0      390        2.3\n",
       "2                             Total   16,701      100.0"
      ]
     },
     "execution_count": 60,
     "metadata": {},
     "output_type": "execute_result"
    }
   ],
   "source": [
    "generar_tabla_recuento(base_filtrada_aux, \"i_uso_cab\", \"Uso de Internet en Cabina Publica\", False)"
   ]
  },
  {
   "cell_type": "markdown",
   "id": "ce033f87-8daf-4e27-8bd2-8f8ffce36bbe",
   "metadata": {},
   "source": [
    "### Uso de internet en casa de otra persona"
   ]
  },
  {
   "cell_type": "code",
   "execution_count": 61,
   "id": "54979fa1",
   "metadata": {},
   "outputs": [
    {
     "data": {
      "text/html": [
       "<div>\n",
       "<style scoped>\n",
       "    .dataframe tbody tr th:only-of-type {\n",
       "        vertical-align: middle;\n",
       "    }\n",
       "\n",
       "    .dataframe tbody tr th {\n",
       "        vertical-align: top;\n",
       "    }\n",
       "\n",
       "    .dataframe thead th {\n",
       "        text-align: right;\n",
       "    }\n",
       "</style>\n",
       "<table border=\"1\" class=\"dataframe\">\n",
       "  <thead>\n",
       "    <tr style=\"text-align: right;\">\n",
       "      <th></th>\n",
       "      <th>Uso del internet en casa de otra persona</th>\n",
       "      <th>Recuento</th>\n",
       "      <th>Porcentaje</th>\n",
       "    </tr>\n",
       "  </thead>\n",
       "  <tbody>\n",
       "    <tr>\n",
       "      <th>0</th>\n",
       "      <td>0.0</td>\n",
       "      <td>16,701</td>\n",
       "      <td>100.0</td>\n",
       "    </tr>\n",
       "    <tr>\n",
       "      <th>1</th>\n",
       "      <td>Total</td>\n",
       "      <td>16,701</td>\n",
       "      <td>100.0</td>\n",
       "    </tr>\n",
       "  </tbody>\n",
       "</table>\n",
       "</div>"
      ],
      "text/plain": [
       "  Uso del internet en casa de otra persona Recuento Porcentaje\n",
       "0                                      0.0   16,701      100.0\n",
       "1                                    Total   16,701      100.0"
      ]
     },
     "execution_count": 61,
     "metadata": {},
     "output_type": "execute_result"
    }
   ],
   "source": [
    "generar_tabla_recuento(base_filtrada_aux, \"i_uso_casotr\", \"Uso del internet en casa de otra persona\", False)"
   ]
  },
  {
   "cell_type": "markdown",
   "id": "9ca0d7a7-9294-4411-ac12-019ff15309fc",
   "metadata": {
    "tags": []
   },
   "source": [
    "### Uso de internet - Otro"
   ]
  },
  {
   "cell_type": "code",
   "execution_count": 62,
   "id": "4af43274",
   "metadata": {},
   "outputs": [
    {
     "data": {
      "text/html": [
       "<div>\n",
       "<style scoped>\n",
       "    .dataframe tbody tr th:only-of-type {\n",
       "        vertical-align: middle;\n",
       "    }\n",
       "\n",
       "    .dataframe tbody tr th {\n",
       "        vertical-align: top;\n",
       "    }\n",
       "\n",
       "    .dataframe thead th {\n",
       "        text-align: right;\n",
       "    }\n",
       "</style>\n",
       "<table border=\"1\" class=\"dataframe\">\n",
       "  <thead>\n",
       "    <tr style=\"text-align: right;\">\n",
       "      <th></th>\n",
       "      <th>Otro</th>\n",
       "      <th>Recuento</th>\n",
       "      <th>Porcentaje</th>\n",
       "    </tr>\n",
       "  </thead>\n",
       "  <tbody>\n",
       "    <tr>\n",
       "      <th>0</th>\n",
       "      <td>0.0</td>\n",
       "      <td>16,404</td>\n",
       "      <td>98.2</td>\n",
       "    </tr>\n",
       "    <tr>\n",
       "      <th>1</th>\n",
       "      <td>1.0</td>\n",
       "      <td>297</td>\n",
       "      <td>1.8</td>\n",
       "    </tr>\n",
       "    <tr>\n",
       "      <th>2</th>\n",
       "      <td>Total</td>\n",
       "      <td>16,701</td>\n",
       "      <td>100.0</td>\n",
       "    </tr>\n",
       "  </tbody>\n",
       "</table>\n",
       "</div>"
      ],
      "text/plain": [
       "    Otro Recuento Porcentaje\n",
       "0    0.0   16,404       98.2\n",
       "1    1.0      297        1.8\n",
       "2  Total   16,701      100.0"
      ]
     },
     "execution_count": 62,
     "metadata": {},
     "output_type": "execute_result"
    }
   ],
   "source": [
    "generar_tabla_recuento(base_filtrada_aux, \"i_uso_otro\", \"Otro\", False)"
   ]
  },
  {
   "cell_type": "markdown",
   "id": "b6693f16-229b-4ffd-99da-7f64854e3d0d",
   "metadata": {
    "tags": []
   },
   "source": [
    "### Acceso movil"
   ]
  },
  {
   "cell_type": "code",
   "execution_count": 63,
   "id": "6f004976",
   "metadata": {},
   "outputs": [
    {
     "data": {
      "text/html": [
       "<div>\n",
       "<style scoped>\n",
       "    .dataframe tbody tr th:only-of-type {\n",
       "        vertical-align: middle;\n",
       "    }\n",
       "\n",
       "    .dataframe tbody tr th {\n",
       "        vertical-align: top;\n",
       "    }\n",
       "\n",
       "    .dataframe thead th {\n",
       "        text-align: right;\n",
       "    }\n",
       "</style>\n",
       "<table border=\"1\" class=\"dataframe\">\n",
       "  <thead>\n",
       "    <tr style=\"text-align: right;\">\n",
       "      <th></th>\n",
       "      <th>Uso del internet en Acceso movil de Internet</th>\n",
       "      <th>Recuento</th>\n",
       "      <th>Porcentaje</th>\n",
       "    </tr>\n",
       "  </thead>\n",
       "  <tbody>\n",
       "    <tr>\n",
       "      <th>0</th>\n",
       "      <td>0.0</td>\n",
       "      <td>311</td>\n",
       "      <td>1.9</td>\n",
       "    </tr>\n",
       "    <tr>\n",
       "      <th>1</th>\n",
       "      <td>1.0</td>\n",
       "      <td>16,389</td>\n",
       "      <td>98.1</td>\n",
       "    </tr>\n",
       "    <tr>\n",
       "      <th>2</th>\n",
       "      <td>Total</td>\n",
       "      <td>16,701</td>\n",
       "      <td>100.0</td>\n",
       "    </tr>\n",
       "  </tbody>\n",
       "</table>\n",
       "</div>"
      ],
      "text/plain": [
       "  Uso del internet en Acceso movil de Internet Recuento Porcentaje\n",
       "0                                          0.0      311        1.9\n",
       "1                                          1.0   16,389       98.1\n",
       "2                                        Total   16,701      100.0"
      ]
     },
     "execution_count": 63,
     "metadata": {},
     "output_type": "execute_result"
    }
   ],
   "source": [
    "generar_tabla_recuento(base_filtrada_aux, \"i_uso_movil\", \"Uso del internet en Acceso movil de Internet\", False)"
   ]
  },
  {
   "cell_type": "markdown",
   "id": "f3203485-a403-4dac-8d68-d13cb5c69720",
   "metadata": {
    "tags": []
   },
   "source": [
    "## FRECUENCIA DE USO DEL SERVICIO DE INTERNET"
   ]
  },
  {
   "cell_type": "code",
   "execution_count": 64,
   "id": "ec77fc6e-8750-42f9-b15a-c5d13fd89f66",
   "metadata": {},
   "outputs": [
    {
     "data": {
      "text/plain": [
       "1    123\n",
       "0     42\n",
       "Name: i_uso, dtype: int64"
      ]
     },
     "execution_count": 64,
     "metadata": {},
     "output_type": "execute_result"
    }
   ],
   "source": [
    "base_filtrada.i_uso.value_counts()"
   ]
  },
  {
   "cell_type": "code",
   "execution_count": 65,
   "id": "f97ada8c-e17f-40f2-949c-1df701d6f768",
   "metadata": {},
   "outputs": [
    {
     "name": "stdout",
     "output_type": "stream",
     "text": [
      "Valores faltantes en 'i_uso': 0\n"
     ]
    }
   ],
   "source": [
    "missing_values = base_filtrada['i_uso'].isna().sum()\n",
    "print(f\"Valores faltantes en 'i_uso': {missing_values}\")\n"
   ]
  },
  {
   "cell_type": "code",
   "execution_count": 66,
   "id": "c6d35c7f-e760-43d1-96fe-1e52132c971c",
   "metadata": {},
   "outputs": [],
   "source": [
    "# Supongamos que 2 es la categoría que deseas asignar a los valores faltantes\n",
    "#base_filtrada['i_uso'] = base_filtrada['i_uso'].fillna(2)"
   ]
  },
  {
   "attachments": {
    "fdd5ec1b-a491-4d39-bbed-70699fb3ed25.png": {
     "image/png": "[encoded data removed]"
    }
   },
   "cell_type": "markdown",
   "id": "f830c2de-f804-42c3-b9d7-2a7321d19322",
   "metadata": {},
   "source": [
    "![image.png](attachment:fdd5ec1b-a491-4d39-bbed-70699fb3ed25.png)"
   ]
  },
  {
   "cell_type": "code",
   "execution_count": 67,
   "id": "754603af-fa92-43c9-8824-93147b55c196",
   "metadata": {},
   "outputs": [
    {
     "data": {
      "text/html": [
       "<div>\n",
       "<style scoped>\n",
       "    .dataframe tbody tr th:only-of-type {\n",
       "        vertical-align: middle;\n",
       "    }\n",
       "\n",
       "    .dataframe tbody tr th {\n",
       "        vertical-align: top;\n",
       "    }\n",
       "\n",
       "    .dataframe thead th {\n",
       "        text-align: right;\n",
       "    }\n",
       "</style>\n",
       "<table border=\"1\" class=\"dataframe\">\n",
       "  <thead>\n",
       "    <tr style=\"text-align: right;\">\n",
       "      <th></th>\n",
       "      <th>Ud., usa Internet al menos</th>\n",
       "      <th>Recuento</th>\n",
       "      <th>Porcentaje</th>\n",
       "    </tr>\n",
       "  </thead>\n",
       "  <tbody>\n",
       "    <tr>\n",
       "      <th>0</th>\n",
       "      <td>1.0</td>\n",
       "      <td>15,206</td>\n",
       "      <td>91.1</td>\n",
       "    </tr>\n",
       "    <tr>\n",
       "      <th>1</th>\n",
       "      <td>2.0</td>\n",
       "      <td>1,494</td>\n",
       "      <td>8.9</td>\n",
       "    </tr>\n",
       "    <tr>\n",
       "      <th>2</th>\n",
       "      <td>Total</td>\n",
       "      <td>16,701</td>\n",
       "      <td>100.0</td>\n",
       "    </tr>\n",
       "  </tbody>\n",
       "</table>\n",
       "</div>"
      ],
      "text/plain": [
       "  Ud., usa Internet al menos Recuento Porcentaje\n",
       "0                        1.0   15,206       91.1\n",
       "1                        2.0    1,494        8.9\n",
       "2                      Total   16,701      100.0"
      ]
     },
     "execution_count": 67,
     "metadata": {},
     "output_type": "execute_result"
    }
   ],
   "source": [
    "generar_tabla_recuento(base_filtrada_aux, \"p314d\", \"Ud., usa Internet al menos\", True) #¿Ud., usa Internet al menos: \n",
    "# 1 Una vez al dia?\n",
    "# 2 Una vez a la semana? 3 Una vez al mes? 4 Cada 2 meses o más?"
   ]
  },
  {
   "cell_type": "code",
   "execution_count": 68,
   "id": "518ca9f2-45b3-490c-a522-aab3448fa1ab",
   "metadata": {},
   "outputs": [
    {
     "data": {
      "text/html": [
       "<div>\n",
       "<style scoped>\n",
       "    .dataframe tbody tr th:only-of-type {\n",
       "        vertical-align: middle;\n",
       "    }\n",
       "\n",
       "    .dataframe tbody tr th {\n",
       "        vertical-align: top;\n",
       "    }\n",
       "\n",
       "    .dataframe thead th {\n",
       "        text-align: right;\n",
       "    }\n",
       "</style>\n",
       "<table border=\"1\" class=\"dataframe\">\n",
       "  <thead>\n",
       "    <tr style=\"text-align: right;\">\n",
       "      <th></th>\n",
       "      <th>Monto de pago</th>\n",
       "      <th>Recuento</th>\n",
       "      <th>Porcentaje</th>\n",
       "    </tr>\n",
       "  </thead>\n",
       "  <tbody>\n",
       "    <tr>\n",
       "      <th>0</th>\n",
       "      <td>6.0</td>\n",
       "      <td>81</td>\n",
       "      <td>20.6</td>\n",
       "    </tr>\n",
       "    <tr>\n",
       "      <th>1</th>\n",
       "      <td>8.0</td>\n",
       "      <td>84</td>\n",
       "      <td>21.5</td>\n",
       "    </tr>\n",
       "    <tr>\n",
       "      <th>2</th>\n",
       "      <td>11.0</td>\n",
       "      <td>133</td>\n",
       "      <td>34.0</td>\n",
       "    </tr>\n",
       "    <tr>\n",
       "      <th>3</th>\n",
       "      <td>108.0</td>\n",
       "      <td>93</td>\n",
       "      <td>23.8</td>\n",
       "    </tr>\n",
       "    <tr>\n",
       "      <th>4</th>\n",
       "      <td>Total</td>\n",
       "      <td>390</td>\n",
       "      <td>100.0</td>\n",
       "    </tr>\n",
       "  </tbody>\n",
       "</table>\n",
       "</div>"
      ],
      "text/plain": [
       "  Monto de pago Recuento Porcentaje\n",
       "0           6.0       81       20.6\n",
       "1           8.0       84       21.5\n",
       "2          11.0      133       34.0\n",
       "3         108.0       93       23.8\n",
       "4         Total      390      100.0"
      ]
     },
     "execution_count": 68,
     "metadata": {},
     "output_type": "execute_result"
    }
   ],
   "source": [
    "generar_tabla_recuento(base_filtrada_aux, \"p315a\", \"Monto de pago\", True) #¿Ud., usa Internet al menos: 1 Una vez al dia?\n",
    "# 2 Una vez a la semana? 3 Una vez al mes? 4 Cada 2 meses o más?"
   ]
  },
  {
   "cell_type": "code",
   "execution_count": 69,
   "id": "f190e79f-173c-4ead-a1aa-92a38a8b1ed6",
   "metadata": {},
   "outputs": [
    {
     "data": {
      "text/html": [
       "<div>\n",
       "<style scoped>\n",
       "    .dataframe tbody tr th:only-of-type {\n",
       "        vertical-align: middle;\n",
       "    }\n",
       "\n",
       "    .dataframe tbody tr th {\n",
       "        vertical-align: top;\n",
       "    }\n",
       "\n",
       "    .dataframe thead th {\n",
       "        text-align: right;\n",
       "    }\n",
       "</style>\n",
       "<table border=\"1\" class=\"dataframe\">\n",
       "  <thead>\n",
       "    <tr style=\"text-align: right;\">\n",
       "      <th></th>\n",
       "      <th>Monto pago 2</th>\n",
       "      <th>Recuento</th>\n",
       "      <th>Porcentaje</th>\n",
       "    </tr>\n",
       "  </thead>\n",
       "  <tbody>\n",
       "    <tr>\n",
       "      <th>0</th>\n",
       "      <td>Total</td>\n",
       "      <td>0</td>\n",
       "      <td>0.0</td>\n",
       "    </tr>\n",
       "  </tbody>\n",
       "</table>\n",
       "</div>"
      ],
      "text/plain": [
       "  Monto pago 2 Recuento Porcentaje\n",
       "0        Total        0        0.0"
      ]
     },
     "execution_count": 69,
     "metadata": {},
     "output_type": "execute_result"
    }
   ],
   "source": [
    "generar_tabla_recuento(base_filtrada_aux, \"p315b\", \"Monto pago 2\", True) #¿Ud., usa Internet al menos: 1 Una vez al dia?\n",
    "# 2 Una vez a la semana? 3 Una vez al mes? 4 Cada 2 meses o más?"
   ]
  },
  {
   "cell_type": "markdown",
   "id": "9274011a-a082-4c86-b146-8d50c799e2a7",
   "metadata": {},
   "source": [
    "## EQUIPO QUE UTILIZO PARA INGRESAR A INTERNET"
   ]
  },
  {
   "cell_type": "markdown",
   "id": "39a69473-0b8e-4a41-8313-6e32380bfd1d",
   "metadata": {
    "tags": []
   },
   "source": [
    "### Acceso - Laptop"
   ]
  },
  {
   "cell_type": "code",
   "execution_count": 70,
   "id": "fe27d696",
   "metadata": {},
   "outputs": [
    {
     "data": {
      "text/html": [
       "<div>\n",
       "<style scoped>\n",
       "    .dataframe tbody tr th:only-of-type {\n",
       "        vertical-align: middle;\n",
       "    }\n",
       "\n",
       "    .dataframe tbody tr th {\n",
       "        vertical-align: top;\n",
       "    }\n",
       "\n",
       "    .dataframe thead th {\n",
       "        text-align: right;\n",
       "    }\n",
       "</style>\n",
       "<table border=\"1\" class=\"dataframe\">\n",
       "  <thead>\n",
       "    <tr style=\"text-align: right;\">\n",
       "      <th></th>\n",
       "      <th>Uso del internet a traves de una LAPTOP</th>\n",
       "      <th>Recuento</th>\n",
       "      <th>Porcentaje</th>\n",
       "    </tr>\n",
       "  </thead>\n",
       "  <tbody>\n",
       "    <tr>\n",
       "      <th>0</th>\n",
       "      <td>0.0</td>\n",
       "      <td>28,988</td>\n",
       "      <td>96.4</td>\n",
       "    </tr>\n",
       "    <tr>\n",
       "      <th>1</th>\n",
       "      <td>1.0</td>\n",
       "      <td>1,066</td>\n",
       "      <td>3.5</td>\n",
       "    </tr>\n",
       "    <tr>\n",
       "      <th>2</th>\n",
       "      <td>Total</td>\n",
       "      <td>30,054</td>\n",
       "      <td>100.0</td>\n",
       "    </tr>\n",
       "  </tbody>\n",
       "</table>\n",
       "</div>"
      ],
      "text/plain": [
       "  Uso del internet a traves de una LAPTOP Recuento Porcentaje\n",
       "0                                     0.0   28,988       96.4\n",
       "1                                     1.0    1,066        3.5\n",
       "2                                   Total   30,054      100.0"
      ]
     },
     "execution_count": 70,
     "metadata": {},
     "output_type": "execute_result"
    }
   ],
   "source": [
    "generar_tabla_recuento(base_filtrada_aux, \"i_laptop\", \"Uso del internet a traves de una LAPTOP\", False)"
   ]
  },
  {
   "cell_type": "markdown",
   "id": "9f9e6ca0-d7c6-498c-b16d-bee0769c10da",
   "metadata": {
    "tags": []
   },
   "source": [
    "### Acceso - Computadora"
   ]
  },
  {
   "cell_type": "code",
   "execution_count": 71,
   "id": "8216bfea",
   "metadata": {},
   "outputs": [
    {
     "data": {
      "text/html": [
       "<div>\n",
       "<style scoped>\n",
       "    .dataframe tbody tr th:only-of-type {\n",
       "        vertical-align: middle;\n",
       "    }\n",
       "\n",
       "    .dataframe tbody tr th {\n",
       "        vertical-align: top;\n",
       "    }\n",
       "\n",
       "    .dataframe thead th {\n",
       "        text-align: right;\n",
       "    }\n",
       "</style>\n",
       "<table border=\"1\" class=\"dataframe\">\n",
       "  <thead>\n",
       "    <tr style=\"text-align: right;\">\n",
       "      <th></th>\n",
       "      <th>Uso del internet a traves de una computadora</th>\n",
       "      <th>Recuento</th>\n",
       "      <th>Porcentaje</th>\n",
       "    </tr>\n",
       "  </thead>\n",
       "  <tbody>\n",
       "    <tr>\n",
       "      <th>0</th>\n",
       "      <td>0.0</td>\n",
       "      <td>28,673</td>\n",
       "      <td>95.4</td>\n",
       "    </tr>\n",
       "    <tr>\n",
       "      <th>1</th>\n",
       "      <td>1.0</td>\n",
       "      <td>1,381</td>\n",
       "      <td>4.6</td>\n",
       "    </tr>\n",
       "    <tr>\n",
       "      <th>2</th>\n",
       "      <td>Total</td>\n",
       "      <td>30,054</td>\n",
       "      <td>100.0</td>\n",
       "    </tr>\n",
       "  </tbody>\n",
       "</table>\n",
       "</div>"
      ],
      "text/plain": [
       "  Uso del internet a traves de una computadora Recuento Porcentaje\n",
       "0                                          0.0   28,673       95.4\n",
       "1                                          1.0    1,381        4.6\n",
       "2                                        Total   30,054      100.0"
      ]
     },
     "execution_count": 71,
     "metadata": {},
     "output_type": "execute_result"
    }
   ],
   "source": [
    "generar_tabla_recuento(base_filtrada_aux, \"i_computadora\", \"Uso del internet a traves de una computadora\", False)"
   ]
  },
  {
   "cell_type": "markdown",
   "id": "96091371-137f-42e5-a492-fa02cde7a906",
   "metadata": {
    "tags": []
   },
   "source": [
    "### Acceso - Tablet"
   ]
  },
  {
   "cell_type": "code",
   "execution_count": 72,
   "id": "f0f51377",
   "metadata": {},
   "outputs": [
    {
     "data": {
      "text/html": [
       "<div>\n",
       "<style scoped>\n",
       "    .dataframe tbody tr th:only-of-type {\n",
       "        vertical-align: middle;\n",
       "    }\n",
       "\n",
       "    .dataframe tbody tr th {\n",
       "        vertical-align: top;\n",
       "    }\n",
       "\n",
       "    .dataframe thead th {\n",
       "        text-align: right;\n",
       "    }\n",
       "</style>\n",
       "<table border=\"1\" class=\"dataframe\">\n",
       "  <thead>\n",
       "    <tr style=\"text-align: right;\">\n",
       "      <th></th>\n",
       "      <th>Uso del internet a traves de una TABLET</th>\n",
       "      <th>Recuento</th>\n",
       "      <th>Porcentaje</th>\n",
       "    </tr>\n",
       "  </thead>\n",
       "  <tbody>\n",
       "    <tr>\n",
       "      <th>0</th>\n",
       "      <td>0.0</td>\n",
       "      <td>30,054</td>\n",
       "      <td>100.0</td>\n",
       "    </tr>\n",
       "    <tr>\n",
       "      <th>1</th>\n",
       "      <td>Total</td>\n",
       "      <td>30,054</td>\n",
       "      <td>100.0</td>\n",
       "    </tr>\n",
       "  </tbody>\n",
       "</table>\n",
       "</div>"
      ],
      "text/plain": [
       "  Uso del internet a traves de una TABLET Recuento Porcentaje\n",
       "0                                     0.0   30,054      100.0\n",
       "1                                   Total   30,054      100.0"
      ]
     },
     "execution_count": 72,
     "metadata": {},
     "output_type": "execute_result"
    }
   ],
   "source": [
    "generar_tabla_recuento(base_filtrada_aux, \"i_tablet\", \"Uso del internet a traves de una TABLET\", False)"
   ]
  },
  {
   "cell_type": "markdown",
   "id": "e13514d4-75ca-47a0-bd0f-feb52b5cb4cf",
   "metadata": {},
   "source": [
    "### Acceso - Otro"
   ]
  },
  {
   "cell_type": "code",
   "execution_count": 73,
   "id": "a59ff54b",
   "metadata": {},
   "outputs": [
    {
     "data": {
      "text/html": [
       "<div>\n",
       "<style scoped>\n",
       "    .dataframe tbody tr th:only-of-type {\n",
       "        vertical-align: middle;\n",
       "    }\n",
       "\n",
       "    .dataframe tbody tr th {\n",
       "        vertical-align: top;\n",
       "    }\n",
       "\n",
       "    .dataframe thead th {\n",
       "        text-align: right;\n",
       "    }\n",
       "</style>\n",
       "<table border=\"1\" class=\"dataframe\">\n",
       "  <thead>\n",
       "    <tr style=\"text-align: right;\">\n",
       "      <th></th>\n",
       "      <th>Uso del internet a traves de una OTRO</th>\n",
       "      <th>Recuento</th>\n",
       "      <th>Porcentaje</th>\n",
       "    </tr>\n",
       "  </thead>\n",
       "  <tbody>\n",
       "    <tr>\n",
       "      <th>0</th>\n",
       "      <td>0.0</td>\n",
       "      <td>29,581</td>\n",
       "      <td>98.4</td>\n",
       "    </tr>\n",
       "    <tr>\n",
       "      <th>1</th>\n",
       "      <td>1.0</td>\n",
       "      <td>473</td>\n",
       "      <td>1.6</td>\n",
       "    </tr>\n",
       "    <tr>\n",
       "      <th>2</th>\n",
       "      <td>Total</td>\n",
       "      <td>30,054</td>\n",
       "      <td>100.0</td>\n",
       "    </tr>\n",
       "  </tbody>\n",
       "</table>\n",
       "</div>"
      ],
      "text/plain": [
       "  Uso del internet a traves de una OTRO Recuento Porcentaje\n",
       "0                                   0.0   29,581       98.4\n",
       "1                                   1.0      473        1.6\n",
       "2                                 Total   30,054      100.0"
      ]
     },
     "execution_count": 73,
     "metadata": {},
     "output_type": "execute_result"
    }
   ],
   "source": [
    "generar_tabla_recuento(base_filtrada_aux, \"i_otro\", \"Uso del internet a traves de una OTRO\", False)"
   ]
  },
  {
   "cell_type": "markdown",
   "id": "6cd47193-88bc-4d11-a733-199b31f42727",
   "metadata": {},
   "source": [
    "### Acceso - Celular sin plan de datos"
   ]
  },
  {
   "cell_type": "code",
   "execution_count": 74,
   "id": "5179049e",
   "metadata": {},
   "outputs": [
    {
     "data": {
      "text/html": [
       "<div>\n",
       "<style scoped>\n",
       "    .dataframe tbody tr th:only-of-type {\n",
       "        vertical-align: middle;\n",
       "    }\n",
       "\n",
       "    .dataframe tbody tr th {\n",
       "        vertical-align: top;\n",
       "    }\n",
       "\n",
       "    .dataframe thead th {\n",
       "        text-align: right;\n",
       "    }\n",
       "</style>\n",
       "<table border=\"1\" class=\"dataframe\">\n",
       "  <thead>\n",
       "    <tr style=\"text-align: right;\">\n",
       "      <th></th>\n",
       "      <th>Uso del internet a traves de una CELULAR SIN PLAN DE DATOS</th>\n",
       "      <th>Recuento</th>\n",
       "      <th>Porcentaje</th>\n",
       "    </tr>\n",
       "  </thead>\n",
       "  <tbody>\n",
       "    <tr>\n",
       "      <th>0</th>\n",
       "      <td>0.0</td>\n",
       "      <td>3,361</td>\n",
       "      <td>11.2</td>\n",
       "    </tr>\n",
       "    <tr>\n",
       "      <th>1</th>\n",
       "      <td>1.0</td>\n",
       "      <td>26,693</td>\n",
       "      <td>88.8</td>\n",
       "    </tr>\n",
       "    <tr>\n",
       "      <th>2</th>\n",
       "      <td>Total</td>\n",
       "      <td>30,054</td>\n",
       "      <td>100.0</td>\n",
       "    </tr>\n",
       "  </tbody>\n",
       "</table>\n",
       "</div>"
      ],
      "text/plain": [
       "  Uso del internet a traves de una CELULAR SIN PLAN DE DATOS Recuento  \\\n",
       "0                                                0.0            3,361   \n",
       "1                                                1.0           26,693   \n",
       "2                                              Total           30,054   \n",
       "\n",
       "  Porcentaje  \n",
       "0       11.2  \n",
       "1       88.8  \n",
       "2      100.0  "
      ]
     },
     "execution_count": 74,
     "metadata": {},
     "output_type": "execute_result"
    }
   ],
   "source": [
    "generar_tabla_recuento(base_filtrada_aux, \"i_cel_sdatos\", \"Uso del internet a traves de una CELULAR SIN PLAN DE DATOS\", False)"
   ]
  },
  {
   "cell_type": "markdown",
   "id": "9ea3ff5a-df4b-4918-9073-81ec30fb2bde",
   "metadata": {},
   "source": [
    "### Acceso - Celular con plan de datos"
   ]
  },
  {
   "cell_type": "code",
   "execution_count": 75,
   "id": "91dd43b7",
   "metadata": {},
   "outputs": [
    {
     "data": {
      "text/html": [
       "<div>\n",
       "<style scoped>\n",
       "    .dataframe tbody tr th:only-of-type {\n",
       "        vertical-align: middle;\n",
       "    }\n",
       "\n",
       "    .dataframe tbody tr th {\n",
       "        vertical-align: top;\n",
       "    }\n",
       "\n",
       "    .dataframe thead th {\n",
       "        text-align: right;\n",
       "    }\n",
       "</style>\n",
       "<table border=\"1\" class=\"dataframe\">\n",
       "  <thead>\n",
       "    <tr style=\"text-align: right;\">\n",
       "      <th></th>\n",
       "      <th>Uso del internet a traves de una CELULAR CON PLAN DE DATOS</th>\n",
       "      <th>Recuento</th>\n",
       "      <th>Porcentaje</th>\n",
       "    </tr>\n",
       "  </thead>\n",
       "  <tbody>\n",
       "    <tr>\n",
       "      <th>0</th>\n",
       "      <td>0.0</td>\n",
       "      <td>27,259</td>\n",
       "      <td>90.7</td>\n",
       "    </tr>\n",
       "    <tr>\n",
       "      <th>1</th>\n",
       "      <td>1.0</td>\n",
       "      <td>2,795</td>\n",
       "      <td>9.3</td>\n",
       "    </tr>\n",
       "    <tr>\n",
       "      <th>2</th>\n",
       "      <td>Total</td>\n",
       "      <td>30,054</td>\n",
       "      <td>100.0</td>\n",
       "    </tr>\n",
       "  </tbody>\n",
       "</table>\n",
       "</div>"
      ],
      "text/plain": [
       "  Uso del internet a traves de una CELULAR CON PLAN DE DATOS Recuento  \\\n",
       "0                                                0.0           27,259   \n",
       "1                                                1.0            2,795   \n",
       "2                                              Total           30,054   \n",
       "\n",
       "  Porcentaje  \n",
       "0       90.7  \n",
       "1        9.3  \n",
       "2      100.0  "
      ]
     },
     "execution_count": 75,
     "metadata": {},
     "output_type": "execute_result"
    }
   ],
   "source": [
    "generar_tabla_recuento(base_filtrada_aux, \"i_cel_cdatos\", \"Uso del internet a traves de una CELULAR CON PLAN DE DATOS\",False)"
   ]
  },
  {
   "cell_type": "code",
   "execution_count": 76,
   "id": "63970d7f",
   "metadata": {},
   "outputs": [],
   "source": [
    "#generar_tabla_recuento(base_filtrada_aux, \"p314b1_5\", \"Uso del internet a traves de una CELULAR DE SU CENTRO DE TRABAJO\", guardar_como_jpeg=True) "
   ]
  },
  {
   "cell_type": "markdown",
   "id": "5b3bcbd7-1835-4cc6-856b-57d584615275",
   "metadata": {},
   "source": [
    "## DIMENSION -APROPIACION - Para qué uso el internet"
   ]
  },
  {
   "cell_type": "code",
   "execution_count": 77,
   "id": "bbda7219-3c8f-452c-a713-4c95b010eba7",
   "metadata": {},
   "outputs": [
    {
     "data": {
      "text/html": [
       "<div>\n",
       "<style scoped>\n",
       "    .dataframe tbody tr th:only-of-type {\n",
       "        vertical-align: middle;\n",
       "    }\n",
       "\n",
       "    .dataframe tbody tr th {\n",
       "        vertical-align: top;\n",
       "    }\n",
       "\n",
       "    .dataframe thead th {\n",
       "        text-align: right;\n",
       "    }\n",
       "</style>\n",
       "<table border=\"1\" class=\"dataframe\">\n",
       "  <thead>\n",
       "    <tr style=\"text-align: right;\">\n",
       "      <th></th>\n",
       "      <th>Usó el Internet para: Obtener información</th>\n",
       "      <th>Recuento</th>\n",
       "      <th>Porcentaje</th>\n",
       "    </tr>\n",
       "  </thead>\n",
       "  <tbody>\n",
       "    <tr>\n",
       "      <th>0</th>\n",
       "      <td>0.0</td>\n",
       "      <td>1,731</td>\n",
       "      <td>10.4</td>\n",
       "    </tr>\n",
       "    <tr>\n",
       "      <th>1</th>\n",
       "      <td>1.0</td>\n",
       "      <td>14,969</td>\n",
       "      <td>89.6</td>\n",
       "    </tr>\n",
       "    <tr>\n",
       "      <th>2</th>\n",
       "      <td>Total</td>\n",
       "      <td>16,701</td>\n",
       "      <td>100.0</td>\n",
       "    </tr>\n",
       "  </tbody>\n",
       "</table>\n",
       "</div>"
      ],
      "text/plain": [
       "  Usó el Internet para: Obtener información Recuento Porcentaje\n",
       "0                                       0.0    1,731       10.4\n",
       "1                                       1.0   14,969       89.6\n",
       "2                                     Total   16,701      100.0"
      ]
     },
     "execution_count": 77,
     "metadata": {},
     "output_type": "execute_result"
    }
   ],
   "source": [
    "generar_tabla_recuento(base_filtrada_aux, \"i_obtener_info\", \"Usó el Internet para: Obtener información\",False)"
   ]
  },
  {
   "cell_type": "code",
   "execution_count": 78,
   "id": "24b1e8f0-d0d3-4c35-af82-bb4a183fd7c7",
   "metadata": {},
   "outputs": [
    {
     "data": {
      "text/html": [
       "<div>\n",
       "<style scoped>\n",
       "    .dataframe tbody tr th:only-of-type {\n",
       "        vertical-align: middle;\n",
       "    }\n",
       "\n",
       "    .dataframe tbody tr th {\n",
       "        vertical-align: top;\n",
       "    }\n",
       "\n",
       "    .dataframe thead th {\n",
       "        text-align: right;\n",
       "    }\n",
       "</style>\n",
       "<table border=\"1\" class=\"dataframe\">\n",
       "  <thead>\n",
       "    <tr style=\"text-align: right;\">\n",
       "      <th></th>\n",
       "      <th>Usó el Internet para: Comunicarsen</th>\n",
       "      <th>Recuento</th>\n",
       "      <th>Porcentaje</th>\n",
       "    </tr>\n",
       "  </thead>\n",
       "  <tbody>\n",
       "    <tr>\n",
       "      <th>0</th>\n",
       "      <td>0.0</td>\n",
       "      <td>123</td>\n",
       "      <td>0.7</td>\n",
       "    </tr>\n",
       "    <tr>\n",
       "      <th>1</th>\n",
       "      <td>1.0</td>\n",
       "      <td>16,577</td>\n",
       "      <td>99.3</td>\n",
       "    </tr>\n",
       "    <tr>\n",
       "      <th>2</th>\n",
       "      <td>Total</td>\n",
       "      <td>16,701</td>\n",
       "      <td>100.0</td>\n",
       "    </tr>\n",
       "  </tbody>\n",
       "</table>\n",
       "</div>"
      ],
      "text/plain": [
       "  Usó el Internet para: Comunicarsen Recuento Porcentaje\n",
       "0                                0.0      123        0.7\n",
       "1                                1.0   16,577       99.3\n",
       "2                              Total   16,701      100.0"
      ]
     },
     "execution_count": 78,
     "metadata": {},
     "output_type": "execute_result"
    }
   ],
   "source": [
    "generar_tabla_recuento(base_filtrada_aux, \"i_comunicarse\", \"Usó el Internet para: Comunicarsen\",False)"
   ]
  },
  {
   "cell_type": "code",
   "execution_count": 79,
   "id": "46afff72-766e-4051-bc70-d47b5bac0dbf",
   "metadata": {},
   "outputs": [
    {
     "data": {
      "text/html": [
       "<div>\n",
       "<style scoped>\n",
       "    .dataframe tbody tr th:only-of-type {\n",
       "        vertical-align: middle;\n",
       "    }\n",
       "\n",
       "    .dataframe tbody tr th {\n",
       "        vertical-align: top;\n",
       "    }\n",
       "\n",
       "    .dataframe thead th {\n",
       "        text-align: right;\n",
       "    }\n",
       "</style>\n",
       "<table border=\"1\" class=\"dataframe\">\n",
       "  <thead>\n",
       "    <tr style=\"text-align: right;\">\n",
       "      <th></th>\n",
       "      <th>Usó el Internet para: Comprar productos_servicios</th>\n",
       "      <th>Recuento</th>\n",
       "      <th>Porcentaje</th>\n",
       "    </tr>\n",
       "  </thead>\n",
       "  <tbody>\n",
       "    <tr>\n",
       "      <th>0</th>\n",
       "      <td>0.0</td>\n",
       "      <td>16,701</td>\n",
       "      <td>100.0</td>\n",
       "    </tr>\n",
       "    <tr>\n",
       "      <th>1</th>\n",
       "      <td>Total</td>\n",
       "      <td>16,701</td>\n",
       "      <td>100.0</td>\n",
       "    </tr>\n",
       "  </tbody>\n",
       "</table>\n",
       "</div>"
      ],
      "text/plain": [
       "  Usó el Internet para: Comprar productos_servicios Recuento Porcentaje\n",
       "0                                               0.0   16,701      100.0\n",
       "1                                             Total   16,701      100.0"
      ]
     },
     "execution_count": 79,
     "metadata": {},
     "output_type": "execute_result"
    }
   ],
   "source": [
    "generar_tabla_recuento(base_filtrada_aux, \"i_comprar_pdts_ss\", \"Usó el Internet para: Comprar productos_servicios\",False)"
   ]
  },
  {
   "cell_type": "code",
   "execution_count": 80,
   "id": "f461771e-aa28-4934-b3ab-18f13667947b",
   "metadata": {},
   "outputs": [
    {
     "data": {
      "text/html": [
       "<div>\n",
       "<style scoped>\n",
       "    .dataframe tbody tr th:only-of-type {\n",
       "        vertical-align: middle;\n",
       "    }\n",
       "\n",
       "    .dataframe tbody tr th {\n",
       "        vertical-align: top;\n",
       "    }\n",
       "\n",
       "    .dataframe thead th {\n",
       "        text-align: right;\n",
       "    }\n",
       "</style>\n",
       "<table border=\"1\" class=\"dataframe\">\n",
       "  <thead>\n",
       "    <tr style=\"text-align: right;\">\n",
       "      <th></th>\n",
       "      <th>Usó el Internet para: Operaciones de banca electrónica</th>\n",
       "      <th>Recuento</th>\n",
       "      <th>Porcentaje</th>\n",
       "    </tr>\n",
       "  </thead>\n",
       "  <tbody>\n",
       "    <tr>\n",
       "      <th>0</th>\n",
       "      <td>0.0</td>\n",
       "      <td>16,701</td>\n",
       "      <td>100.0</td>\n",
       "    </tr>\n",
       "    <tr>\n",
       "      <th>1</th>\n",
       "      <td>Total</td>\n",
       "      <td>16,701</td>\n",
       "      <td>100.0</td>\n",
       "    </tr>\n",
       "  </tbody>\n",
       "</table>\n",
       "</div>"
      ],
      "text/plain": [
       "  Usó el Internet para: Operaciones de banca electrónica Recuento Porcentaje\n",
       "0                                                0.0       16,701      100.0\n",
       "1                                              Total       16,701      100.0"
      ]
     },
     "execution_count": 80,
     "metadata": {},
     "output_type": "execute_result"
    }
   ],
   "source": [
    "generar_tabla_recuento(base_filtrada_aux,'i_operaciones_bancarias', 'Usó el Internet para: Operaciones de banca electrónica', False)\n"
   ]
  },
  {
   "cell_type": "code",
   "execution_count": 81,
   "id": "a0432c5d-e646-4214-b1e4-69cf4a8a78a3",
   "metadata": {},
   "outputs": [
    {
     "data": {
      "text/html": [
       "<div>\n",
       "<style scoped>\n",
       "    .dataframe tbody tr th:only-of-type {\n",
       "        vertical-align: middle;\n",
       "    }\n",
       "\n",
       "    .dataframe tbody tr th {\n",
       "        vertical-align: top;\n",
       "    }\n",
       "\n",
       "    .dataframe thead th {\n",
       "        text-align: right;\n",
       "    }\n",
       "</style>\n",
       "<table border=\"1\" class=\"dataframe\">\n",
       "  <thead>\n",
       "    <tr style=\"text-align: right;\">\n",
       "      <th></th>\n",
       "      <th>Usó el Internet para: Educación formal y actividades de capacitación</th>\n",
       "      <th>Recuento</th>\n",
       "      <th>Porcentaje</th>\n",
       "    </tr>\n",
       "  </thead>\n",
       "  <tbody>\n",
       "    <tr>\n",
       "      <th>0</th>\n",
       "      <td>0.0</td>\n",
       "      <td>11,425</td>\n",
       "      <td>68.4</td>\n",
       "    </tr>\n",
       "    <tr>\n",
       "      <th>1</th>\n",
       "      <td>1.0</td>\n",
       "      <td>5,276</td>\n",
       "      <td>31.6</td>\n",
       "    </tr>\n",
       "    <tr>\n",
       "      <th>2</th>\n",
       "      <td>Total</td>\n",
       "      <td>16,701</td>\n",
       "      <td>100.0</td>\n",
       "    </tr>\n",
       "  </tbody>\n",
       "</table>\n",
       "</div>"
      ],
      "text/plain": [
       "  Usó el Internet para: Educación formal y actividades de capacitación  \\\n",
       "0                                                0.0                     \n",
       "1                                                1.0                     \n",
       "2                                              Total                     \n",
       "\n",
       "  Recuento Porcentaje  \n",
       "0   11,425       68.4  \n",
       "1    5,276       31.6  \n",
       "2   16,701      100.0  "
      ]
     },
     "execution_count": 81,
     "metadata": {},
     "output_type": "execute_result"
    }
   ],
   "source": [
    "generar_tabla_recuento(base_filtrada_aux, \"i_edu_formal\", \"Usó el Internet para: Educación formal y actividades de capacitación\",False)"
   ]
  },
  {
   "cell_type": "code",
   "execution_count": 82,
   "id": "863556b2-79a6-4cbb-bc0d-d81d67984cc7",
   "metadata": {},
   "outputs": [
    {
     "data": {
      "text/html": [
       "<div>\n",
       "<style scoped>\n",
       "    .dataframe tbody tr th:only-of-type {\n",
       "        vertical-align: middle;\n",
       "    }\n",
       "\n",
       "    .dataframe tbody tr th {\n",
       "        vertical-align: top;\n",
       "    }\n",
       "\n",
       "    .dataframe thead th {\n",
       "        text-align: right;\n",
       "    }\n",
       "</style>\n",
       "<table border=\"1\" class=\"dataframe\">\n",
       "  <thead>\n",
       "    <tr style=\"text-align: right;\">\n",
       "      <th></th>\n",
       "      <th>Usó el Internet para: Transacciones</th>\n",
       "      <th>Recuento</th>\n",
       "      <th>Porcentaje</th>\n",
       "    </tr>\n",
       "  </thead>\n",
       "  <tbody>\n",
       "    <tr>\n",
       "      <th>0</th>\n",
       "      <td>0.0</td>\n",
       "      <td>16,515</td>\n",
       "      <td>98.9</td>\n",
       "    </tr>\n",
       "    <tr>\n",
       "      <th>1</th>\n",
       "      <td>1.0</td>\n",
       "      <td>185</td>\n",
       "      <td>1.1</td>\n",
       "    </tr>\n",
       "    <tr>\n",
       "      <th>2</th>\n",
       "      <td>Total</td>\n",
       "      <td>16,701</td>\n",
       "      <td>100.0</td>\n",
       "    </tr>\n",
       "  </tbody>\n",
       "</table>\n",
       "</div>"
      ],
      "text/plain": [
       "  Usó el Internet para: Transacciones Recuento Porcentaje\n",
       "0                                 0.0   16,515       98.9\n",
       "1                                 1.0      185        1.1\n",
       "2                               Total   16,701      100.0"
      ]
     },
     "execution_count": 82,
     "metadata": {},
     "output_type": "execute_result"
    }
   ],
   "source": [
    "generar_tabla_recuento(base_filtrada_aux, \"i_transacciones\", \"Usó el Internet para: Transacciones\",False)"
   ]
  },
  {
   "cell_type": "code",
   "execution_count": 83,
   "id": "cef8d357-4a05-4a4a-b3ff-ad9c9b967e58",
   "metadata": {},
   "outputs": [
    {
     "data": {
      "text/html": [
       "<div>\n",
       "<style scoped>\n",
       "    .dataframe tbody tr th:only-of-type {\n",
       "        vertical-align: middle;\n",
       "    }\n",
       "\n",
       "    .dataframe tbody tr th {\n",
       "        vertical-align: top;\n",
       "    }\n",
       "\n",
       "    .dataframe thead th {\n",
       "        text-align: right;\n",
       "    }\n",
       "</style>\n",
       "<table border=\"1\" class=\"dataframe\">\n",
       "  <thead>\n",
       "    <tr style=\"text-align: right;\">\n",
       "      <th></th>\n",
       "      <th>Usó el Internet para: Actividades de entretenimiento</th>\n",
       "      <th>Recuento</th>\n",
       "      <th>Porcentaje</th>\n",
       "    </tr>\n",
       "  </thead>\n",
       "  <tbody>\n",
       "    <tr>\n",
       "      <th>0</th>\n",
       "      <td>0.0</td>\n",
       "      <td>3,622</td>\n",
       "      <td>21.7</td>\n",
       "    </tr>\n",
       "    <tr>\n",
       "      <th>1</th>\n",
       "      <td>1.0</td>\n",
       "      <td>13,079</td>\n",
       "      <td>78.3</td>\n",
       "    </tr>\n",
       "    <tr>\n",
       "      <th>2</th>\n",
       "      <td>Total</td>\n",
       "      <td>16,701</td>\n",
       "      <td>100.0</td>\n",
       "    </tr>\n",
       "  </tbody>\n",
       "</table>\n",
       "</div>"
      ],
      "text/plain": [
       "  Usó el Internet para: Actividades de entretenimiento Recuento Porcentaje\n",
       "0                                                0.0      3,622       21.7\n",
       "1                                                1.0     13,079       78.3\n",
       "2                                              Total     16,701      100.0"
      ]
     },
     "execution_count": 83,
     "metadata": {},
     "output_type": "execute_result"
    }
   ],
   "source": [
    "generar_tabla_recuento(base_filtrada_aux, \"i_act_entretenimiento\", \"Usó el Internet para: Actividades de entretenimiento\",False)"
   ]
  },
  {
   "cell_type": "code",
   "execution_count": 84,
   "id": "dee9981d-dba5-4999-9438-3cd3de3d4df8",
   "metadata": {},
   "outputs": [
    {
     "data": {
      "text/html": [
       "<div>\n",
       "<style scoped>\n",
       "    .dataframe tbody tr th:only-of-type {\n",
       "        vertical-align: middle;\n",
       "    }\n",
       "\n",
       "    .dataframe tbody tr th {\n",
       "        vertical-align: top;\n",
       "    }\n",
       "\n",
       "    .dataframe thead th {\n",
       "        text-align: right;\n",
       "    }\n",
       "</style>\n",
       "<table border=\"1\" class=\"dataframe\">\n",
       "  <thead>\n",
       "    <tr style=\"text-align: right;\">\n",
       "      <th></th>\n",
       "      <th>Usó el Internet para: Vender productos_servicios</th>\n",
       "      <th>Recuento</th>\n",
       "      <th>Porcentaje</th>\n",
       "    </tr>\n",
       "  </thead>\n",
       "  <tbody>\n",
       "    <tr>\n",
       "      <th>0</th>\n",
       "      <td>0.0</td>\n",
       "      <td>16,701</td>\n",
       "      <td>100.0</td>\n",
       "    </tr>\n",
       "    <tr>\n",
       "      <th>1</th>\n",
       "      <td>Total</td>\n",
       "      <td>16,701</td>\n",
       "      <td>100.0</td>\n",
       "    </tr>\n",
       "  </tbody>\n",
       "</table>\n",
       "</div>"
      ],
      "text/plain": [
       "  Usó el Internet para: Vender productos_servicios Recuento Porcentaje\n",
       "0                                              0.0   16,701      100.0\n",
       "1                                            Total   16,701      100.0"
      ]
     },
     "execution_count": 84,
     "metadata": {},
     "output_type": "execute_result"
    }
   ],
   "source": [
    "generar_tabla_recuento(base_filtrada_aux, \"i_vender_pdts\", \"Usó el Internet para: Vender productos_servicios\",False)"
   ]
  },
  {
   "cell_type": "code",
   "execution_count": 85,
   "id": "b117d105-7f87-4129-9b13-169047c915c1",
   "metadata": {},
   "outputs": [
    {
     "data": {
      "text/html": [
       "<div>\n",
       "<style scoped>\n",
       "    .dataframe tbody tr th:only-of-type {\n",
       "        vertical-align: middle;\n",
       "    }\n",
       "\n",
       "    .dataframe tbody tr th {\n",
       "        vertical-align: top;\n",
       "    }\n",
       "\n",
       "    .dataframe thead th {\n",
       "        text-align: right;\n",
       "    }\n",
       "</style>\n",
       "<table border=\"1\" class=\"dataframe\">\n",
       "  <thead>\n",
       "    <tr style=\"text-align: right;\">\n",
       "      <th></th>\n",
       "      <th>Usó el Internet para: Otro</th>\n",
       "      <th>Recuento</th>\n",
       "      <th>Porcentaje</th>\n",
       "    </tr>\n",
       "  </thead>\n",
       "  <tbody>\n",
       "    <tr>\n",
       "      <th>0</th>\n",
       "      <td>0.0</td>\n",
       "      <td>16,701</td>\n",
       "      <td>100.0</td>\n",
       "    </tr>\n",
       "    <tr>\n",
       "      <th>1</th>\n",
       "      <td>Total</td>\n",
       "      <td>16,701</td>\n",
       "      <td>100.0</td>\n",
       "    </tr>\n",
       "  </tbody>\n",
       "</table>\n",
       "</div>"
      ],
      "text/plain": [
       "  Usó el Internet para: Otro Recuento Porcentaje\n",
       "0                        0.0   16,701      100.0\n",
       "1                      Total   16,701      100.0"
      ]
     },
     "execution_count": 85,
     "metadata": {},
     "output_type": "execute_result"
    }
   ],
   "source": [
    "generar_tabla_recuento(base_filtrada_aux, \"p316_9\", \"Usó el Internet para: Otro\",False)"
   ]
  },
  {
   "cell_type": "code",
   "execution_count": 86,
   "id": "b74cd6f1-3ce3-4b21-a8f4-452b4f89a7d0",
   "metadata": {},
   "outputs": [
    {
     "data": {
      "text/html": [
       "<div>\n",
       "<style scoped>\n",
       "    .dataframe tbody tr th:only-of-type {\n",
       "        vertical-align: middle;\n",
       "    }\n",
       "\n",
       "    .dataframe tbody tr th {\n",
       "        vertical-align: top;\n",
       "    }\n",
       "\n",
       "    .dataframe thead th {\n",
       "        text-align: right;\n",
       "    }\n",
       "</style>\n",
       "<table border=\"1\" class=\"dataframe\">\n",
       "  <thead>\n",
       "    <tr style=\"text-align: right;\">\n",
       "      <th></th>\n",
       "      <th>Usó el Internet para: Otro2</th>\n",
       "      <th>Recuento</th>\n",
       "      <th>Porcentaje</th>\n",
       "    </tr>\n",
       "  </thead>\n",
       "  <tbody>\n",
       "    <tr>\n",
       "      <th>0</th>\n",
       "      <td>0.0</td>\n",
       "      <td>16,701</td>\n",
       "      <td>100.0</td>\n",
       "    </tr>\n",
       "    <tr>\n",
       "      <th>1</th>\n",
       "      <td>Total</td>\n",
       "      <td>16,701</td>\n",
       "      <td>100.0</td>\n",
       "    </tr>\n",
       "  </tbody>\n",
       "</table>\n",
       "</div>"
      ],
      "text/plain": [
       "  Usó el Internet para: Otro2 Recuento Porcentaje\n",
       "0                         0.0   16,701      100.0\n",
       "1                       Total   16,701      100.0"
      ]
     },
     "execution_count": 86,
     "metadata": {},
     "output_type": "execute_result"
    }
   ],
   "source": [
    "generar_tabla_recuento(base_filtrada_aux, \"p316_10\", \"Usó el Internet para: Otro2\",False)"
   ]
  },
  {
   "cell_type": "code",
   "execution_count": 87,
   "id": "0a8b3fc3-e52e-4951-aeb4-c76b4250b6a1",
   "metadata": {},
   "outputs": [
    {
     "data": {
      "text/html": [
       "<div>\n",
       "<style scoped>\n",
       "    .dataframe tbody tr th:only-of-type {\n",
       "        vertical-align: middle;\n",
       "    }\n",
       "\n",
       "    .dataframe tbody tr th {\n",
       "        vertical-align: top;\n",
       "    }\n",
       "\n",
       "    .dataframe thead th {\n",
       "        text-align: right;\n",
       "    }\n",
       "</style>\n",
       "<table border=\"1\" class=\"dataframe\">\n",
       "  <thead>\n",
       "    <tr style=\"text-align: right;\">\n",
       "      <th></th>\n",
       "      <th>Usó el Internet para: Otro3</th>\n",
       "      <th>Recuento</th>\n",
       "      <th>Porcentaje</th>\n",
       "    </tr>\n",
       "  </thead>\n",
       "  <tbody>\n",
       "    <tr>\n",
       "      <th>0</th>\n",
       "      <td>0.0</td>\n",
       "      <td>16,701</td>\n",
       "      <td>100.0</td>\n",
       "    </tr>\n",
       "    <tr>\n",
       "      <th>1</th>\n",
       "      <td>Total</td>\n",
       "      <td>16,701</td>\n",
       "      <td>100.0</td>\n",
       "    </tr>\n",
       "  </tbody>\n",
       "</table>\n",
       "</div>"
      ],
      "text/plain": [
       "  Usó el Internet para: Otro3 Recuento Porcentaje\n",
       "0                         0.0   16,701      100.0\n",
       "1                       Total   16,701      100.0"
      ]
     },
     "execution_count": 87,
     "metadata": {},
     "output_type": "execute_result"
    }
   ],
   "source": [
    "generar_tabla_recuento(base_filtrada_aux, \"p316_11\", \"Usó el Internet para: Otro3\",False)"
   ]
  },
  {
   "cell_type": "code",
   "execution_count": 88,
   "id": "f1184088-0c0b-4b09-9bb1-cd7e4873ebdf",
   "metadata": {},
   "outputs": [
    {
     "data": {
      "text/html": [
       "<div>\n",
       "<style scoped>\n",
       "    .dataframe tbody tr th:only-of-type {\n",
       "        vertical-align: middle;\n",
       "    }\n",
       "\n",
       "    .dataframe tbody tr th {\n",
       "        vertical-align: top;\n",
       "    }\n",
       "\n",
       "    .dataframe thead th {\n",
       "        text-align: right;\n",
       "    }\n",
       "</style>\n",
       "<table border=\"1\" class=\"dataframe\">\n",
       "  <thead>\n",
       "    <tr style=\"text-align: right;\">\n",
       "      <th></th>\n",
       "      <th>Usó el Internet para: descarga de antivirus</th>\n",
       "      <th>Recuento</th>\n",
       "      <th>Porcentaje</th>\n",
       "    </tr>\n",
       "  </thead>\n",
       "  <tbody>\n",
       "    <tr>\n",
       "      <th>0</th>\n",
       "      <td>0.0</td>\n",
       "      <td>12,717</td>\n",
       "      <td>76.1</td>\n",
       "    </tr>\n",
       "    <tr>\n",
       "      <th>1</th>\n",
       "      <td>1.0</td>\n",
       "      <td>3,984</td>\n",
       "      <td>23.9</td>\n",
       "    </tr>\n",
       "    <tr>\n",
       "      <th>2</th>\n",
       "      <td>Total</td>\n",
       "      <td>16,701</td>\n",
       "      <td>100.0</td>\n",
       "    </tr>\n",
       "  </tbody>\n",
       "</table>\n",
       "</div>"
      ],
      "text/plain": [
       "  Usó el Internet para: descarga de antivirus Recuento Porcentaje\n",
       "0                                         0.0   12,717       76.1\n",
       "1                                         1.0    3,984       23.9\n",
       "2                                       Total   16,701      100.0"
      ]
     },
     "execution_count": 88,
     "metadata": {},
     "output_type": "execute_result"
    }
   ],
   "source": [
    "generar_tabla_recuento(base_filtrada_aux, \"i_descarga_antivirus\", \"Usó el Internet para: descarga de antivirus\",False)"
   ]
  },
  {
   "cell_type": "markdown",
   "id": "0106306b-dfb2-4b5f-b8d2-b7faa4523b6e",
   "metadata": {},
   "source": [
    "## ACTIVIDADES INFORMÁTICAS - para personas de 14 +"
   ]
  },
  {
   "cell_type": "code",
   "execution_count": 89,
   "id": "00697a35-5498-4fab-80b0-f4d85204e23f",
   "metadata": {},
   "outputs": [
    {
     "data": {
      "text/html": [
       "<div>\n",
       "<style scoped>\n",
       "    .dataframe tbody tr th:only-of-type {\n",
       "        vertical-align: middle;\n",
       "    }\n",
       "\n",
       "    .dataframe tbody tr th {\n",
       "        vertical-align: top;\n",
       "    }\n",
       "\n",
       "    .dataframe thead th {\n",
       "        text-align: right;\n",
       "    }\n",
       "</style>\n",
       "<table border=\"1\" class=\"dataframe\">\n",
       "  <thead>\n",
       "    <tr style=\"text-align: right;\">\n",
       "      <th></th>\n",
       "      <th>Mover Archivo</th>\n",
       "      <th>Recuento</th>\n",
       "      <th>Porcentaje</th>\n",
       "    </tr>\n",
       "  </thead>\n",
       "  <tbody>\n",
       "    <tr>\n",
       "      <th>0</th>\n",
       "      <td>0.0</td>\n",
       "      <td>1,065</td>\n",
       "      <td>26.4</td>\n",
       "    </tr>\n",
       "    <tr>\n",
       "      <th>1</th>\n",
       "      <td>1.0</td>\n",
       "      <td>2,963</td>\n",
       "      <td>73.6</td>\n",
       "    </tr>\n",
       "    <tr>\n",
       "      <th>2</th>\n",
       "      <td>Total</td>\n",
       "      <td>4,029</td>\n",
       "      <td>100.0</td>\n",
       "    </tr>\n",
       "  </tbody>\n",
       "</table>\n",
       "</div>"
      ],
      "text/plain": [
       "  Mover Archivo Recuento Porcentaje\n",
       "0           0.0    1,065       26.4\n",
       "1           1.0    2,963       73.6\n",
       "2         Total    4,029      100.0"
      ]
     },
     "execution_count": 89,
     "metadata": {},
     "output_type": "execute_result"
    }
   ],
   "source": [
    "generar_tabla_recuento(base_filtrada_aux, \"ai_mover_archivo\", \"Mover Archivo\",False)"
   ]
  },
  {
   "cell_type": "code",
   "execution_count": 90,
   "id": "3c402431-9d15-4acc-b0ba-eb7457f9acf8",
   "metadata": {},
   "outputs": [
    {
     "data": {
      "text/html": [
       "<div>\n",
       "<style scoped>\n",
       "    .dataframe tbody tr th:only-of-type {\n",
       "        vertical-align: middle;\n",
       "    }\n",
       "\n",
       "    .dataframe tbody tr th {\n",
       "        vertical-align: top;\n",
       "    }\n",
       "\n",
       "    .dataframe thead th {\n",
       "        text-align: right;\n",
       "    }\n",
       "</style>\n",
       "<table border=\"1\" class=\"dataframe\">\n",
       "  <thead>\n",
       "    <tr style=\"text-align: right;\">\n",
       "      <th></th>\n",
       "      <th>Mover Archivo</th>\n",
       "      <th>Recuento</th>\n",
       "      <th>Porcentaje</th>\n",
       "    </tr>\n",
       "  </thead>\n",
       "  <tbody>\n",
       "    <tr>\n",
       "      <th>0</th>\n",
       "      <td>0.0</td>\n",
       "      <td>1,453</td>\n",
       "      <td>36.0</td>\n",
       "    </tr>\n",
       "    <tr>\n",
       "      <th>1</th>\n",
       "      <td>1.0</td>\n",
       "      <td>2,576</td>\n",
       "      <td>64.0</td>\n",
       "    </tr>\n",
       "    <tr>\n",
       "      <th>2</th>\n",
       "      <td>Total</td>\n",
       "      <td>4,029</td>\n",
       "      <td>100.0</td>\n",
       "    </tr>\n",
       "  </tbody>\n",
       "</table>\n",
       "</div>"
      ],
      "text/plain": [
       "  Mover Archivo Recuento Porcentaje\n",
       "0           0.0    1,453       36.0\n",
       "1           1.0    2,576       64.0\n",
       "2         Total    4,029      100.0"
      ]
     },
     "execution_count": 90,
     "metadata": {},
     "output_type": "execute_result"
    }
   ],
   "source": [
    "generar_tabla_recuento(base_filtrada_aux, \"ai_copiar_pegar\", \"Mover Archivo\",False)"
   ]
  },
  {
   "cell_type": "code",
   "execution_count": 91,
   "id": "122b1894-6ab0-45e8-a1e7-9a78e2d95fb0",
   "metadata": {},
   "outputs": [
    {
     "data": {
      "text/html": [
       "<div>\n",
       "<style scoped>\n",
       "    .dataframe tbody tr th:only-of-type {\n",
       "        vertical-align: middle;\n",
       "    }\n",
       "\n",
       "    .dataframe tbody tr th {\n",
       "        vertical-align: top;\n",
       "    }\n",
       "\n",
       "    .dataframe thead th {\n",
       "        text-align: right;\n",
       "    }\n",
       "</style>\n",
       "<table border=\"1\" class=\"dataframe\">\n",
       "  <thead>\n",
       "    <tr style=\"text-align: right;\">\n",
       "      <th></th>\n",
       "      <th>Mover Archivo</th>\n",
       "      <th>Recuento</th>\n",
       "      <th>Porcentaje</th>\n",
       "    </tr>\n",
       "  </thead>\n",
       "  <tbody>\n",
       "    <tr>\n",
       "      <th>0</th>\n",
       "      <td>0.0</td>\n",
       "      <td>2,171</td>\n",
       "      <td>53.9</td>\n",
       "    </tr>\n",
       "    <tr>\n",
       "      <th>1</th>\n",
       "      <td>1.0</td>\n",
       "      <td>1,858</td>\n",
       "      <td>46.1</td>\n",
       "    </tr>\n",
       "    <tr>\n",
       "      <th>2</th>\n",
       "      <td>Total</td>\n",
       "      <td>4,029</td>\n",
       "      <td>100.0</td>\n",
       "    </tr>\n",
       "  </tbody>\n",
       "</table>\n",
       "</div>"
      ],
      "text/plain": [
       "  Mover Archivo Recuento Porcentaje\n",
       "0           0.0    2,171       53.9\n",
       "1           1.0    1,858       46.1\n",
       "2         Total    4,029      100.0"
      ]
     },
     "execution_count": 91,
     "metadata": {},
     "output_type": "execute_result"
    }
   ],
   "source": [
    "generar_tabla_recuento(base_filtrada_aux, \"ai_enviar_correos\", \"Mover Archivo\",False)"
   ]
  },
  {
   "cell_type": "code",
   "execution_count": 92,
   "id": "fcda411e-5888-449d-9bed-642ffe9b97e9",
   "metadata": {},
   "outputs": [
    {
     "data": {
      "text/html": [
       "<div>\n",
       "<style scoped>\n",
       "    .dataframe tbody tr th:only-of-type {\n",
       "        vertical-align: middle;\n",
       "    }\n",
       "\n",
       "    .dataframe tbody tr th {\n",
       "        vertical-align: top;\n",
       "    }\n",
       "\n",
       "    .dataframe thead th {\n",
       "        text-align: right;\n",
       "    }\n",
       "</style>\n",
       "<table border=\"1\" class=\"dataframe\">\n",
       "  <thead>\n",
       "    <tr style=\"text-align: right;\">\n",
       "      <th></th>\n",
       "      <th>Mover Archivo</th>\n",
       "      <th>Recuento</th>\n",
       "      <th>Porcentaje</th>\n",
       "    </tr>\n",
       "  </thead>\n",
       "  <tbody>\n",
       "    <tr>\n",
       "      <th>0</th>\n",
       "      <td>0.0</td>\n",
       "      <td>3,219</td>\n",
       "      <td>79.9</td>\n",
       "    </tr>\n",
       "    <tr>\n",
       "      <th>1</th>\n",
       "      <td>1.0</td>\n",
       "      <td>810</td>\n",
       "      <td>20.1</td>\n",
       "    </tr>\n",
       "    <tr>\n",
       "      <th>2</th>\n",
       "      <td>Total</td>\n",
       "      <td>4,029</td>\n",
       "      <td>100.0</td>\n",
       "    </tr>\n",
       "  </tbody>\n",
       "</table>\n",
       "</div>"
      ],
      "text/plain": [
       "  Mover Archivo Recuento Porcentaje\n",
       "0           0.0    3,219       79.9\n",
       "1           1.0      810       20.1\n",
       "2         Total    4,029      100.0"
      ]
     },
     "execution_count": 92,
     "metadata": {},
     "output_type": "execute_result"
    }
   ],
   "source": [
    "generar_tabla_recuento(base_filtrada_aux, \"ai_form_excel\", \"Mover Archivo\",False)"
   ]
  },
  {
   "cell_type": "code",
   "execution_count": 93,
   "id": "5c60af77-be21-4314-8b26-f4531790cea0",
   "metadata": {},
   "outputs": [
    {
     "data": {
      "text/html": [
       "<div>\n",
       "<style scoped>\n",
       "    .dataframe tbody tr th:only-of-type {\n",
       "        vertical-align: middle;\n",
       "    }\n",
       "\n",
       "    .dataframe tbody tr th {\n",
       "        vertical-align: top;\n",
       "    }\n",
       "\n",
       "    .dataframe thead th {\n",
       "        text-align: right;\n",
       "    }\n",
       "</style>\n",
       "<table border=\"1\" class=\"dataframe\">\n",
       "  <thead>\n",
       "    <tr style=\"text-align: right;\">\n",
       "      <th></th>\n",
       "      <th>Mover Archivo</th>\n",
       "      <th>Recuento</th>\n",
       "      <th>Porcentaje</th>\n",
       "    </tr>\n",
       "  </thead>\n",
       "  <tbody>\n",
       "    <tr>\n",
       "      <th>0</th>\n",
       "      <td>0.0</td>\n",
       "      <td>3,793</td>\n",
       "      <td>94.2</td>\n",
       "    </tr>\n",
       "    <tr>\n",
       "      <th>1</th>\n",
       "      <td>1.0</td>\n",
       "      <td>236</td>\n",
       "      <td>5.8</td>\n",
       "    </tr>\n",
       "    <tr>\n",
       "      <th>2</th>\n",
       "      <td>Total</td>\n",
       "      <td>4,029</td>\n",
       "      <td>100.0</td>\n",
       "    </tr>\n",
       "  </tbody>\n",
       "</table>\n",
       "</div>"
      ],
      "text/plain": [
       "  Mover Archivo Recuento Porcentaje\n",
       "0           0.0    3,793       94.2\n",
       "1           1.0      236        5.8\n",
       "2         Total    4,029      100.0"
      ]
     },
     "execution_count": 93,
     "metadata": {},
     "output_type": "execute_result"
    }
   ],
   "source": [
    "generar_tabla_recuento(base_filtrada_aux, \"ai_conec_dispositivos\", \"Mover Archivo\",False)"
   ]
  },
  {
   "cell_type": "code",
   "execution_count": 94,
   "id": "330c6399-7100-494e-a14d-9e77e600a948",
   "metadata": {},
   "outputs": [
    {
     "data": {
      "text/html": [
       "<div>\n",
       "<style scoped>\n",
       "    .dataframe tbody tr th:only-of-type {\n",
       "        vertical-align: middle;\n",
       "    }\n",
       "\n",
       "    .dataframe tbody tr th {\n",
       "        vertical-align: top;\n",
       "    }\n",
       "\n",
       "    .dataframe thead th {\n",
       "        text-align: right;\n",
       "    }\n",
       "</style>\n",
       "<table border=\"1\" class=\"dataframe\">\n",
       "  <thead>\n",
       "    <tr style=\"text-align: right;\">\n",
       "      <th></th>\n",
       "      <th>Mover Archivo</th>\n",
       "      <th>Recuento</th>\n",
       "      <th>Porcentaje</th>\n",
       "    </tr>\n",
       "  </thead>\n",
       "  <tbody>\n",
       "    <tr>\n",
       "      <th>0</th>\n",
       "      <td>0.0</td>\n",
       "      <td>3,886</td>\n",
       "      <td>96.5</td>\n",
       "    </tr>\n",
       "    <tr>\n",
       "      <th>1</th>\n",
       "      <td>1.0</td>\n",
       "      <td>143</td>\n",
       "      <td>3.5</td>\n",
       "    </tr>\n",
       "    <tr>\n",
       "      <th>2</th>\n",
       "      <td>Total</td>\n",
       "      <td>4,029</td>\n",
       "      <td>100.0</td>\n",
       "    </tr>\n",
       "  </tbody>\n",
       "</table>\n",
       "</div>"
      ],
      "text/plain": [
       "  Mover Archivo Recuento Porcentaje\n",
       "0           0.0    3,886       96.5\n",
       "1           1.0      143        3.5\n",
       "2         Total    4,029      100.0"
      ]
     },
     "execution_count": 94,
     "metadata": {},
     "output_type": "execute_result"
    }
   ],
   "source": [
    "generar_tabla_recuento(base_filtrada_aux, \"ai_software\", \"Mover Archivo\",False)"
   ]
  },
  {
   "cell_type": "code",
   "execution_count": 95,
   "id": "d24eb3cb-3559-4afa-b2cf-1aefc5844be5",
   "metadata": {},
   "outputs": [
    {
     "data": {
      "text/html": [
       "<div>\n",
       "<style scoped>\n",
       "    .dataframe tbody tr th:only-of-type {\n",
       "        vertical-align: middle;\n",
       "    }\n",
       "\n",
       "    .dataframe tbody tr th {\n",
       "        vertical-align: top;\n",
       "    }\n",
       "\n",
       "    .dataframe thead th {\n",
       "        text-align: right;\n",
       "    }\n",
       "</style>\n",
       "<table border=\"1\" class=\"dataframe\">\n",
       "  <thead>\n",
       "    <tr style=\"text-align: right;\">\n",
       "      <th></th>\n",
       "      <th>Mover Archivo</th>\n",
       "      <th>Recuento</th>\n",
       "      <th>Porcentaje</th>\n",
       "    </tr>\n",
       "  </thead>\n",
       "  <tbody>\n",
       "    <tr>\n",
       "      <th>0</th>\n",
       "      <td>0.0</td>\n",
       "      <td>1,853</td>\n",
       "      <td>46.0</td>\n",
       "    </tr>\n",
       "    <tr>\n",
       "      <th>1</th>\n",
       "      <td>1.0</td>\n",
       "      <td>2,176</td>\n",
       "      <td>54.0</td>\n",
       "    </tr>\n",
       "    <tr>\n",
       "      <th>2</th>\n",
       "      <td>Total</td>\n",
       "      <td>4,029</td>\n",
       "      <td>100.0</td>\n",
       "    </tr>\n",
       "  </tbody>\n",
       "</table>\n",
       "</div>"
      ],
      "text/plain": [
       "  Mover Archivo Recuento Porcentaje\n",
       "0           0.0    1,853       46.0\n",
       "1           1.0    2,176       54.0\n",
       "2         Total    4,029      100.0"
      ]
     },
     "execution_count": 95,
     "metadata": {},
     "output_type": "execute_result"
    }
   ],
   "source": [
    "generar_tabla_recuento(base_filtrada_aux, \"ai_presentaciones_electronicas\", \"Mover Archivo\",False)"
   ]
  },
  {
   "cell_type": "code",
   "execution_count": 96,
   "id": "1109a16d-b08d-4409-9333-d0ddf4ebe07b",
   "metadata": {},
   "outputs": [
    {
     "data": {
      "text/html": [
       "<div>\n",
       "<style scoped>\n",
       "    .dataframe tbody tr th:only-of-type {\n",
       "        vertical-align: middle;\n",
       "    }\n",
       "\n",
       "    .dataframe tbody tr th {\n",
       "        vertical-align: top;\n",
       "    }\n",
       "\n",
       "    .dataframe thead th {\n",
       "        text-align: right;\n",
       "    }\n",
       "</style>\n",
       "<table border=\"1\" class=\"dataframe\">\n",
       "  <thead>\n",
       "    <tr style=\"text-align: right;\">\n",
       "      <th></th>\n",
       "      <th>Mover Archivo</th>\n",
       "      <th>Recuento</th>\n",
       "      <th>Porcentaje</th>\n",
       "    </tr>\n",
       "  </thead>\n",
       "  <tbody>\n",
       "    <tr>\n",
       "      <th>0</th>\n",
       "      <td>1.0</td>\n",
       "      <td>2,963</td>\n",
       "      <td>100.0</td>\n",
       "    </tr>\n",
       "    <tr>\n",
       "      <th>1</th>\n",
       "      <td>Total</td>\n",
       "      <td>2,963</td>\n",
       "      <td>100.0</td>\n",
       "    </tr>\n",
       "  </tbody>\n",
       "</table>\n",
       "</div>"
      ],
      "text/plain": [
       "  Mover Archivo Recuento Porcentaje\n",
       "0           1.0    2,963      100.0\n",
       "1         Total    2,963      100.0"
      ]
     },
     "execution_count": 96,
     "metadata": {},
     "output_type": "execute_result"
    }
   ],
   "source": [
    "generar_tabla_recuento(base_filtrada_aux, \"ai_tranfer_archivos\", \"Mover Archivo\",False)"
   ]
  },
  {
   "cell_type": "code",
   "execution_count": 97,
   "id": "3ba3b96a-514a-45ca-95fe-6555fe799ce8",
   "metadata": {},
   "outputs": [
    {
     "data": {
      "text/html": [
       "<div>\n",
       "<style scoped>\n",
       "    .dataframe tbody tr th:only-of-type {\n",
       "        vertical-align: middle;\n",
       "    }\n",
       "\n",
       "    .dataframe tbody tr th {\n",
       "        vertical-align: top;\n",
       "    }\n",
       "\n",
       "    .dataframe thead th {\n",
       "        text-align: right;\n",
       "    }\n",
       "</style>\n",
       "<table border=\"1\" class=\"dataframe\">\n",
       "  <thead>\n",
       "    <tr style=\"text-align: right;\">\n",
       "      <th></th>\n",
       "      <th>Mover Archivo</th>\n",
       "      <th>Recuento</th>\n",
       "      <th>Porcentaje</th>\n",
       "    </tr>\n",
       "  </thead>\n",
       "  <tbody>\n",
       "    <tr>\n",
       "      <th>0</th>\n",
       "      <td>0.0</td>\n",
       "      <td>4,029</td>\n",
       "      <td>100.0</td>\n",
       "    </tr>\n",
       "    <tr>\n",
       "      <th>1</th>\n",
       "      <td>Total</td>\n",
       "      <td>4,029</td>\n",
       "      <td>100.0</td>\n",
       "    </tr>\n",
       "  </tbody>\n",
       "</table>\n",
       "</div>"
      ],
      "text/plain": [
       "  Mover Archivo Recuento Porcentaje\n",
       "0           0.0    4,029      100.0\n",
       "1         Total    4,029      100.0"
      ]
     },
     "execution_count": 97,
     "metadata": {},
     "output_type": "execute_result"
    }
   ],
   "source": [
    "generar_tabla_recuento(base_filtrada_aux, \"ai_leng_programacion\", \"Mover Archivo\",False)"
   ]
  },
  {
   "cell_type": "code",
   "execution_count": 98,
   "id": "57cdb610-0c12-42c2-ba66-a03efd662874",
   "metadata": {},
   "outputs": [
    {
     "data": {
      "text/html": [
       "<div>\n",
       "<style scoped>\n",
       "    .dataframe tbody tr th:only-of-type {\n",
       "        vertical-align: middle;\n",
       "    }\n",
       "\n",
       "    .dataframe tbody tr th {\n",
       "        vertical-align: top;\n",
       "    }\n",
       "\n",
       "    .dataframe thead th {\n",
       "        text-align: right;\n",
       "    }\n",
       "</style>\n",
       "<table border=\"1\" class=\"dataframe\">\n",
       "  <thead>\n",
       "    <tr style=\"text-align: right;\">\n",
       "      <th></th>\n",
       "      <th>Mover Archivo</th>\n",
       "      <th>Recuento</th>\n",
       "      <th>Porcentaje</th>\n",
       "    </tr>\n",
       "  </thead>\n",
       "  <tbody>\n",
       "    <tr>\n",
       "      <th>0</th>\n",
       "      <td>0.0</td>\n",
       "      <td>4,029</td>\n",
       "      <td>100.0</td>\n",
       "    </tr>\n",
       "    <tr>\n",
       "      <th>1</th>\n",
       "      <td>Total</td>\n",
       "      <td>4,029</td>\n",
       "      <td>100.0</td>\n",
       "    </tr>\n",
       "  </tbody>\n",
       "</table>\n",
       "</div>"
      ],
      "text/plain": [
       "  Mover Archivo Recuento Porcentaje\n",
       "0           0.0    4,029      100.0\n",
       "1         Total    4,029      100.0"
      ]
     },
     "execution_count": 98,
     "metadata": {},
     "output_type": "execute_result"
    }
   ],
   "source": [
    "generar_tabla_recuento(base_filtrada_aux, \"ai_otros\", \"Mover Archivo\",False) "
   ]
  },
  {
   "cell_type": "markdown",
   "id": "532b697c-e387-488e-999f-9ed4e649feb6",
   "metadata": {},
   "source": [
    "## CLASES A DISTANCIA"
   ]
  },
  {
   "cell_type": "code",
   "execution_count": 99,
   "id": "bd7bdb42-3e96-4887-a7b4-7cf7f7ef8213",
   "metadata": {},
   "outputs": [
    {
     "name": "stdout",
     "output_type": "stream",
     "text": [
      "Cantidad de valores nulos en 'mi_columna': 22\n"
     ]
    }
   ],
   "source": [
    "# Cuenta los valores nulos en la columna \"mi_columna\"\n",
    "nulos_en_columna = base_filtrada_aux['cl_medio_tv'].isnull().sum()\n",
    "\n",
    "# Muestra el resultado\n",
    "print(\"Cantidad de valores nulos en 'mi_columna':\", nulos_en_columna)"
   ]
  },
  {
   "cell_type": "code",
   "execution_count": 100,
   "id": "6528ad5a-ab3b-4492-852e-c2304bf73de4",
   "metadata": {},
   "outputs": [
    {
     "data": {
      "text/html": [
       "<div>\n",
       "<style scoped>\n",
       "    .dataframe tbody tr th:only-of-type {\n",
       "        vertical-align: middle;\n",
       "    }\n",
       "\n",
       "    .dataframe tbody tr th {\n",
       "        vertical-align: top;\n",
       "    }\n",
       "\n",
       "    .dataframe thead th {\n",
       "        text-align: right;\n",
       "    }\n",
       "</style>\n",
       "<table border=\"1\" class=\"dataframe\">\n",
       "  <thead>\n",
       "    <tr style=\"text-align: right;\">\n",
       "      <th></th>\n",
       "      <th>Acceso al contenido de clase - TELEVISION</th>\n",
       "      <th>Recuento</th>\n",
       "      <th>Porcentaje</th>\n",
       "    </tr>\n",
       "  </thead>\n",
       "  <tbody>\n",
       "    <tr>\n",
       "      <th>0</th>\n",
       "      <td>0.0</td>\n",
       "      <td>22,029</td>\n",
       "      <td>67.9</td>\n",
       "    </tr>\n",
       "    <tr>\n",
       "      <th>1</th>\n",
       "      <td>1.0</td>\n",
       "      <td>10,389</td>\n",
       "      <td>32.0</td>\n",
       "    </tr>\n",
       "    <tr>\n",
       "      <th>2</th>\n",
       "      <td>Total</td>\n",
       "      <td>32,418</td>\n",
       "      <td>100.0</td>\n",
       "    </tr>\n",
       "  </tbody>\n",
       "</table>\n",
       "</div>"
      ],
      "text/plain": [
       "  Acceso al contenido de clase - TELEVISION Recuento Porcentaje\n",
       "0                                       0.0   22,029       67.9\n",
       "1                                       1.0   10,389       32.0\n",
       "2                                     Total   32,418      100.0"
      ]
     },
     "execution_count": 100,
     "metadata": {},
     "output_type": "execute_result"
    }
   ],
   "source": [
    "generar_tabla_recuento(base_filtrada_aux, \"cl_medio_tv\", \"Acceso al contenido de clase - TELEVISION\",False)"
   ]
  },
  {
   "cell_type": "code",
   "execution_count": 101,
   "id": "7e92479f-c2ca-4734-9600-0dd8fe444906",
   "metadata": {},
   "outputs": [
    {
     "data": {
      "text/html": [
       "<div>\n",
       "<style scoped>\n",
       "    .dataframe tbody tr th:only-of-type {\n",
       "        vertical-align: middle;\n",
       "    }\n",
       "\n",
       "    .dataframe tbody tr th {\n",
       "        vertical-align: top;\n",
       "    }\n",
       "\n",
       "    .dataframe thead th {\n",
       "        text-align: right;\n",
       "    }\n",
       "</style>\n",
       "<table border=\"1\" class=\"dataframe\">\n",
       "  <thead>\n",
       "    <tr style=\"text-align: right;\">\n",
       "      <th></th>\n",
       "      <th>Acceso al contenido de clase - RADIO</th>\n",
       "      <th>Recuento</th>\n",
       "      <th>Porcentaje</th>\n",
       "    </tr>\n",
       "  </thead>\n",
       "  <tbody>\n",
       "    <tr>\n",
       "      <th>0</th>\n",
       "      <td>0.0</td>\n",
       "      <td>24,401</td>\n",
       "      <td>75.3</td>\n",
       "    </tr>\n",
       "    <tr>\n",
       "      <th>1</th>\n",
       "      <td>1.0</td>\n",
       "      <td>8,017</td>\n",
       "      <td>24.7</td>\n",
       "    </tr>\n",
       "    <tr>\n",
       "      <th>2</th>\n",
       "      <td>Total</td>\n",
       "      <td>32,418</td>\n",
       "      <td>100.0</td>\n",
       "    </tr>\n",
       "  </tbody>\n",
       "</table>\n",
       "</div>"
      ],
      "text/plain": [
       "  Acceso al contenido de clase - RADIO Recuento Porcentaje\n",
       "0                                  0.0   24,401       75.3\n",
       "1                                  1.0    8,017       24.7\n",
       "2                                Total   32,418      100.0"
      ]
     },
     "execution_count": 101,
     "metadata": {},
     "output_type": "execute_result"
    }
   ],
   "source": [
    "generar_tabla_recuento(base_filtrada_aux, \"cl_medio_radio\", \"Acceso al contenido de clase - RADIO\",False)"
   ]
  },
  {
   "cell_type": "code",
   "execution_count": 102,
   "id": "2893333d-daa9-4f54-b4ae-dc95171f9d20",
   "metadata": {},
   "outputs": [
    {
     "data": {
      "text/html": [
       "<div>\n",
       "<style scoped>\n",
       "    .dataframe tbody tr th:only-of-type {\n",
       "        vertical-align: middle;\n",
       "    }\n",
       "\n",
       "    .dataframe tbody tr th {\n",
       "        vertical-align: top;\n",
       "    }\n",
       "\n",
       "    .dataframe thead th {\n",
       "        text-align: right;\n",
       "    }\n",
       "</style>\n",
       "<table border=\"1\" class=\"dataframe\">\n",
       "  <thead>\n",
       "    <tr style=\"text-align: right;\">\n",
       "      <th></th>\n",
       "      <th>Acceso al contenido de clase - PLATAFORMA VIRTUAL</th>\n",
       "      <th>Recuento</th>\n",
       "      <th>Porcentaje</th>\n",
       "    </tr>\n",
       "  </thead>\n",
       "  <tbody>\n",
       "    <tr>\n",
       "      <th>0</th>\n",
       "      <td>0.0</td>\n",
       "      <td>24,560</td>\n",
       "      <td>75.8</td>\n",
       "    </tr>\n",
       "    <tr>\n",
       "      <th>1</th>\n",
       "      <td>1.0</td>\n",
       "      <td>7,858</td>\n",
       "      <td>24.2</td>\n",
       "    </tr>\n",
       "    <tr>\n",
       "      <th>2</th>\n",
       "      <td>Total</td>\n",
       "      <td>32,418</td>\n",
       "      <td>100.0</td>\n",
       "    </tr>\n",
       "  </tbody>\n",
       "</table>\n",
       "</div>"
      ],
      "text/plain": [
       "  Acceso al contenido de clase - PLATAFORMA VIRTUAL Recuento Porcentaje\n",
       "0                                               0.0   24,560       75.8\n",
       "1                                               1.0    7,858       24.2\n",
       "2                                             Total   32,418      100.0"
      ]
     },
     "execution_count": 102,
     "metadata": {},
     "output_type": "execute_result"
    }
   ],
   "source": [
    "generar_tabla_recuento(base_filtrada_aux, \"cl_medio_plataforma_virtual\", \"Acceso al contenido de clase - PLATAFORMA VIRTUAL\",False)"
   ]
  },
  {
   "cell_type": "code",
   "execution_count": 103,
   "id": "20e720c9-4b89-48f9-bd6b-8d241d797d62",
   "metadata": {},
   "outputs": [
    {
     "data": {
      "text/html": [
       "<div>\n",
       "<style scoped>\n",
       "    .dataframe tbody tr th:only-of-type {\n",
       "        vertical-align: middle;\n",
       "    }\n",
       "\n",
       "    .dataframe tbody tr th {\n",
       "        vertical-align: top;\n",
       "    }\n",
       "\n",
       "    .dataframe thead th {\n",
       "        text-align: right;\n",
       "    }\n",
       "</style>\n",
       "<table border=\"1\" class=\"dataframe\">\n",
       "  <thead>\n",
       "    <tr style=\"text-align: right;\">\n",
       "      <th></th>\n",
       "      <th>Acceso al contenido de clase - OTRO</th>\n",
       "      <th>Recuento</th>\n",
       "      <th>Porcentaje</th>\n",
       "    </tr>\n",
       "  </thead>\n",
       "  <tbody>\n",
       "    <tr>\n",
       "      <th>0</th>\n",
       "      <td>0.0</td>\n",
       "      <td>31,235</td>\n",
       "      <td>96.3</td>\n",
       "    </tr>\n",
       "    <tr>\n",
       "      <th>1</th>\n",
       "      <td>1.0</td>\n",
       "      <td>1,183</td>\n",
       "      <td>3.7</td>\n",
       "    </tr>\n",
       "    <tr>\n",
       "      <th>2</th>\n",
       "      <td>Total</td>\n",
       "      <td>32,418</td>\n",
       "      <td>100.0</td>\n",
       "    </tr>\n",
       "  </tbody>\n",
       "</table>\n",
       "</div>"
      ],
      "text/plain": [
       "  Acceso al contenido de clase - OTRO Recuento Porcentaje\n",
       "0                                 0.0   31,235       96.3\n",
       "1                                 1.0    1,183        3.7\n",
       "2                               Total   32,418      100.0"
      ]
     },
     "execution_count": 103,
     "metadata": {},
     "output_type": "execute_result"
    }
   ],
   "source": [
    "generar_tabla_recuento(base_filtrada_aux, \"cl_medio_otro\", \"Acceso al contenido de clase - OTRO\",False)"
   ]
  },
  {
   "cell_type": "code",
   "execution_count": 104,
   "id": "a3f88688-185a-4f61-b092-b1adca569bec",
   "metadata": {},
   "outputs": [
    {
     "data": {
      "text/html": [
       "<div>\n",
       "<style scoped>\n",
       "    .dataframe tbody tr th:only-of-type {\n",
       "        vertical-align: middle;\n",
       "    }\n",
       "\n",
       "    .dataframe tbody tr th {\n",
       "        vertical-align: top;\n",
       "    }\n",
       "\n",
       "    .dataframe thead th {\n",
       "        text-align: right;\n",
       "    }\n",
       "</style>\n",
       "<table border=\"1\" class=\"dataframe\">\n",
       "  <thead>\n",
       "    <tr style=\"text-align: right;\">\n",
       "      <th></th>\n",
       "      <th>Acceso al contenido de clase - WHATSAPP</th>\n",
       "      <th>Recuento</th>\n",
       "      <th>Porcentaje</th>\n",
       "    </tr>\n",
       "  </thead>\n",
       "  <tbody>\n",
       "    <tr>\n",
       "      <th>0</th>\n",
       "      <td>0.0</td>\n",
       "      <td>10,118</td>\n",
       "      <td>31.2</td>\n",
       "    </tr>\n",
       "    <tr>\n",
       "      <th>1</th>\n",
       "      <td>1.0</td>\n",
       "      <td>22,300</td>\n",
       "      <td>68.8</td>\n",
       "    </tr>\n",
       "    <tr>\n",
       "      <th>2</th>\n",
       "      <td>Total</td>\n",
       "      <td>32,418</td>\n",
       "      <td>100.0</td>\n",
       "    </tr>\n",
       "  </tbody>\n",
       "</table>\n",
       "</div>"
      ],
      "text/plain": [
       "  Acceso al contenido de clase - WHATSAPP Recuento Porcentaje\n",
       "0                                     0.0   10,118       31.2\n",
       "1                                     1.0   22,300       68.8\n",
       "2                                   Total   32,418      100.0"
      ]
     },
     "execution_count": 104,
     "metadata": {},
     "output_type": "execute_result"
    }
   ],
   "source": [
    "generar_tabla_recuento(base_filtrada_aux, \"cl_medio_wsp\", \"Acceso al contenido de clase - WHATSAPP\",False)"
   ]
  },
  {
   "cell_type": "code",
   "execution_count": 105,
   "id": "3bb15878-e20d-4c18-8a25-6522174e0ff1",
   "metadata": {},
   "outputs": [
    {
     "data": {
      "text/html": [
       "<div>\n",
       "<style scoped>\n",
       "    .dataframe tbody tr th:only-of-type {\n",
       "        vertical-align: middle;\n",
       "    }\n",
       "\n",
       "    .dataframe tbody tr th {\n",
       "        vertical-align: top;\n",
       "    }\n",
       "\n",
       "    .dataframe thead th {\n",
       "        text-align: right;\n",
       "    }\n",
       "</style>\n",
       "<table border=\"1\" class=\"dataframe\">\n",
       "  <thead>\n",
       "    <tr style=\"text-align: right;\">\n",
       "      <th></th>\n",
       "      <th>Acceso al contenido de clase - CORREO</th>\n",
       "      <th>Recuento</th>\n",
       "      <th>Porcentaje</th>\n",
       "    </tr>\n",
       "  </thead>\n",
       "  <tbody>\n",
       "    <tr>\n",
       "      <th>0</th>\n",
       "      <td>0.0</td>\n",
       "      <td>31,491</td>\n",
       "      <td>97.1</td>\n",
       "    </tr>\n",
       "    <tr>\n",
       "      <th>1</th>\n",
       "      <td>1.0</td>\n",
       "      <td>928</td>\n",
       "      <td>2.9</td>\n",
       "    </tr>\n",
       "    <tr>\n",
       "      <th>2</th>\n",
       "      <td>Total</td>\n",
       "      <td>32,418</td>\n",
       "      <td>100.0</td>\n",
       "    </tr>\n",
       "  </tbody>\n",
       "</table>\n",
       "</div>"
      ],
      "text/plain": [
       "  Acceso al contenido de clase - CORREO Recuento Porcentaje\n",
       "0                                   0.0   31,491       97.1\n",
       "1                                   1.0      928        2.9\n",
       "2                                 Total   32,418      100.0"
      ]
     },
     "execution_count": 105,
     "metadata": {},
     "output_type": "execute_result"
    }
   ],
   "source": [
    "generar_tabla_recuento(base_filtrada_aux, \"cl_medio_correo\", \"Acceso al contenido de clase - CORREO\",False)"
   ]
  },
  {
   "cell_type": "code",
   "execution_count": 106,
   "id": "fd0b0a9f-9e7c-4cd8-b05a-70f5a6144fed",
   "metadata": {},
   "outputs": [
    {
     "data": {
      "text/html": [
       "<div>\n",
       "<style scoped>\n",
       "    .dataframe tbody tr th:only-of-type {\n",
       "        vertical-align: middle;\n",
       "    }\n",
       "\n",
       "    .dataframe tbody tr th {\n",
       "        vertical-align: top;\n",
       "    }\n",
       "\n",
       "    .dataframe thead th {\n",
       "        text-align: right;\n",
       "    }\n",
       "</style>\n",
       "<table border=\"1\" class=\"dataframe\">\n",
       "  <thead>\n",
       "    <tr style=\"text-align: right;\">\n",
       "      <th></th>\n",
       "      <th>Acceso al contenido de clase - LLAMADAS</th>\n",
       "      <th>Recuento</th>\n",
       "      <th>Porcentaje</th>\n",
       "    </tr>\n",
       "  </thead>\n",
       "  <tbody>\n",
       "    <tr>\n",
       "      <th>0</th>\n",
       "      <td>0.0</td>\n",
       "      <td>21,976</td>\n",
       "      <td>67.8</td>\n",
       "    </tr>\n",
       "    <tr>\n",
       "      <th>1</th>\n",
       "      <td>1.0</td>\n",
       "      <td>10,442</td>\n",
       "      <td>32.2</td>\n",
       "    </tr>\n",
       "    <tr>\n",
       "      <th>2</th>\n",
       "      <td>Total</td>\n",
       "      <td>32,418</td>\n",
       "      <td>100.0</td>\n",
       "    </tr>\n",
       "  </tbody>\n",
       "</table>\n",
       "</div>"
      ],
      "text/plain": [
       "  Acceso al contenido de clase - LLAMADAS Recuento Porcentaje\n",
       "0                                     0.0   21,976       67.8\n",
       "1                                     1.0   10,442       32.2\n",
       "2                                   Total   32,418      100.0"
      ]
     },
     "execution_count": 106,
     "metadata": {},
     "output_type": "execute_result"
    }
   ],
   "source": [
    "generar_tabla_recuento(base_filtrada_aux, \"cl_medio_llamadas\", \"Acceso al contenido de clase - LLAMADAS\",False)"
   ]
  },
  {
   "cell_type": "code",
   "execution_count": 107,
   "id": "427d5088-d4f2-4d66-9f2c-c69c9dc373da",
   "metadata": {},
   "outputs": [
    {
     "data": {
      "text/html": [
       "<div>\n",
       "<style scoped>\n",
       "    .dataframe tbody tr th:only-of-type {\n",
       "        vertical-align: middle;\n",
       "    }\n",
       "\n",
       "    .dataframe tbody tr th {\n",
       "        vertical-align: top;\n",
       "    }\n",
       "\n",
       "    .dataframe thead th {\n",
       "        text-align: right;\n",
       "    }\n",
       "</style>\n",
       "<table border=\"1\" class=\"dataframe\">\n",
       "  <thead>\n",
       "    <tr style=\"text-align: right;\">\n",
       "      <th></th>\n",
       "      <th>Acceso al contenido de clase - INTERACCION PROFESOR</th>\n",
       "      <th>Recuento</th>\n",
       "      <th>Porcentaje</th>\n",
       "    </tr>\n",
       "  </thead>\n",
       "  <tbody>\n",
       "    <tr>\n",
       "      <th>0</th>\n",
       "      <td>0.0</td>\n",
       "      <td>11,776</td>\n",
       "      <td>36.3</td>\n",
       "    </tr>\n",
       "    <tr>\n",
       "      <th>1</th>\n",
       "      <td>1.0</td>\n",
       "      <td>20,642</td>\n",
       "      <td>63.7</td>\n",
       "    </tr>\n",
       "    <tr>\n",
       "      <th>2</th>\n",
       "      <td>Total</td>\n",
       "      <td>32,418</td>\n",
       "      <td>100.0</td>\n",
       "    </tr>\n",
       "  </tbody>\n",
       "</table>\n",
       "</div>"
      ],
      "text/plain": [
       "  Acceso al contenido de clase - INTERACCION PROFESOR Recuento Porcentaje\n",
       "0                                                0.0    11,776       36.3\n",
       "1                                                1.0    20,642       63.7\n",
       "2                                              Total    32,418      100.0"
      ]
     },
     "execution_count": 107,
     "metadata": {},
     "output_type": "execute_result"
    }
   ],
   "source": [
    "generar_tabla_recuento(base_filtrada_aux, \"cl_desarrollo_interaccion\", \"Acceso al contenido de clase - INTERACCION PROFESOR\",False)"
   ]
  },
  {
   "cell_type": "code",
   "execution_count": 108,
   "id": "515bd9ad-1bda-441b-96d6-9e7b6878dce2",
   "metadata": {},
   "outputs": [
    {
     "data": {
      "text/html": [
       "<div>\n",
       "<style scoped>\n",
       "    .dataframe tbody tr th:only-of-type {\n",
       "        vertical-align: middle;\n",
       "    }\n",
       "\n",
       "    .dataframe tbody tr th {\n",
       "        vertical-align: top;\n",
       "    }\n",
       "\n",
       "    .dataframe thead th {\n",
       "        text-align: right;\n",
       "    }\n",
       "</style>\n",
       "<table border=\"1\" class=\"dataframe\">\n",
       "  <thead>\n",
       "    <tr style=\"text-align: right;\">\n",
       "      <th></th>\n",
       "      <th>Acceso al contenido de clase - VIDEOS</th>\n",
       "      <th>Recuento</th>\n",
       "      <th>Porcentaje</th>\n",
       "    </tr>\n",
       "  </thead>\n",
       "  <tbody>\n",
       "    <tr>\n",
       "      <th>0</th>\n",
       "      <td>0.0</td>\n",
       "      <td>17,683</td>\n",
       "      <td>54.5</td>\n",
       "    </tr>\n",
       "    <tr>\n",
       "      <th>1</th>\n",
       "      <td>1.0</td>\n",
       "      <td>14,735</td>\n",
       "      <td>45.5</td>\n",
       "    </tr>\n",
       "    <tr>\n",
       "      <th>2</th>\n",
       "      <td>Total</td>\n",
       "      <td>32,418</td>\n",
       "      <td>100.0</td>\n",
       "    </tr>\n",
       "  </tbody>\n",
       "</table>\n",
       "</div>"
      ],
      "text/plain": [
       "  Acceso al contenido de clase - VIDEOS Recuento Porcentaje\n",
       "0                                   0.0   17,683       54.5\n",
       "1                                   1.0   14,735       45.5\n",
       "2                                 Total   32,418      100.0"
      ]
     },
     "execution_count": 108,
     "metadata": {},
     "output_type": "execute_result"
    }
   ],
   "source": [
    "generar_tabla_recuento(base_filtrada_aux, \"cl_desarrollo_videos\", \"Acceso al contenido de clase - VIDEOS\",False)"
   ]
  },
  {
   "cell_type": "code",
   "execution_count": 109,
   "id": "93ef428c-d602-469d-85d3-5b3ea8dd6134",
   "metadata": {},
   "outputs": [
    {
     "data": {
      "text/html": [
       "<div>\n",
       "<style scoped>\n",
       "    .dataframe tbody tr th:only-of-type {\n",
       "        vertical-align: middle;\n",
       "    }\n",
       "\n",
       "    .dataframe tbody tr th {\n",
       "        vertical-align: top;\n",
       "    }\n",
       "\n",
       "    .dataframe thead th {\n",
       "        text-align: right;\n",
       "    }\n",
       "</style>\n",
       "<table border=\"1\" class=\"dataframe\">\n",
       "  <thead>\n",
       "    <tr style=\"text-align: right;\">\n",
       "      <th></th>\n",
       "      <th>Acceso al contenido de clase - DOCUMENTOS</th>\n",
       "      <th>Recuento</th>\n",
       "      <th>Porcentaje</th>\n",
       "    </tr>\n",
       "  </thead>\n",
       "  <tbody>\n",
       "    <tr>\n",
       "      <th>0</th>\n",
       "      <td>0.0</td>\n",
       "      <td>11,071</td>\n",
       "      <td>34.2</td>\n",
       "    </tr>\n",
       "    <tr>\n",
       "      <th>1</th>\n",
       "      <td>1.0</td>\n",
       "      <td>21,347</td>\n",
       "      <td>65.8</td>\n",
       "    </tr>\n",
       "    <tr>\n",
       "      <th>2</th>\n",
       "      <td>Total</td>\n",
       "      <td>32,418</td>\n",
       "      <td>100.0</td>\n",
       "    </tr>\n",
       "  </tbody>\n",
       "</table>\n",
       "</div>"
      ],
      "text/plain": [
       "  Acceso al contenido de clase - DOCUMENTOS Recuento Porcentaje\n",
       "0                                       0.0   11,071       34.2\n",
       "1                                       1.0   21,347       65.8\n",
       "2                                     Total   32,418      100.0"
      ]
     },
     "execution_count": 109,
     "metadata": {},
     "output_type": "execute_result"
    }
   ],
   "source": [
    "generar_tabla_recuento(base_filtrada_aux, \"cl_desarrollo_documentos\", \"Acceso al contenido de clase - DOCUMENTOS\",False)"
   ]
  },
  {
   "cell_type": "code",
   "execution_count": 110,
   "id": "36785174-deff-494c-acd8-622e9d64c784",
   "metadata": {},
   "outputs": [
    {
     "data": {
      "text/html": [
       "<div>\n",
       "<style scoped>\n",
       "    .dataframe tbody tr th:only-of-type {\n",
       "        vertical-align: middle;\n",
       "    }\n",
       "\n",
       "    .dataframe tbody tr th {\n",
       "        vertical-align: top;\n",
       "    }\n",
       "\n",
       "    .dataframe thead th {\n",
       "        text-align: right;\n",
       "    }\n",
       "</style>\n",
       "<table border=\"1\" class=\"dataframe\">\n",
       "  <thead>\n",
       "    <tr style=\"text-align: right;\">\n",
       "      <th></th>\n",
       "      <th>Acceso al contenido de clase - OTROS</th>\n",
       "      <th>Recuento</th>\n",
       "      <th>Porcentaje</th>\n",
       "    </tr>\n",
       "  </thead>\n",
       "  <tbody>\n",
       "    <tr>\n",
       "      <th>0</th>\n",
       "      <td>0.0</td>\n",
       "      <td>32,418</td>\n",
       "      <td>100.0</td>\n",
       "    </tr>\n",
       "    <tr>\n",
       "      <th>1</th>\n",
       "      <td>Total</td>\n",
       "      <td>32,418</td>\n",
       "      <td>100.0</td>\n",
       "    </tr>\n",
       "  </tbody>\n",
       "</table>\n",
       "</div>"
      ],
      "text/plain": [
       "  Acceso al contenido de clase - OTROS Recuento Porcentaje\n",
       "0                                  0.0   32,418      100.0\n",
       "1                                Total   32,418      100.0"
      ]
     },
     "execution_count": 110,
     "metadata": {},
     "output_type": "execute_result"
    }
   ],
   "source": [
    "generar_tabla_recuento(base_filtrada_aux, \"cl_desarrollo_otros\", \"Acceso al contenido de clase - OTROS\",False)"
   ]
  },
  {
   "cell_type": "code",
   "execution_count": 111,
   "id": "282f9864-e1eb-4214-90fd-799d59053aaf",
   "metadata": {},
   "outputs": [
    {
     "data": {
      "text/html": [
       "<div>\n",
       "<style scoped>\n",
       "    .dataframe tbody tr th:only-of-type {\n",
       "        vertical-align: middle;\n",
       "    }\n",
       "\n",
       "    .dataframe tbody tr th {\n",
       "        vertical-align: top;\n",
       "    }\n",
       "\n",
       "    .dataframe thead th {\n",
       "        text-align: right;\n",
       "    }\n",
       "</style>\n",
       "<table border=\"1\" class=\"dataframe\">\n",
       "  <thead>\n",
       "    <tr style=\"text-align: right;\">\n",
       "      <th></th>\n",
       "      <th>Acceso al contenido de clase - MENSAJES DE AUDIO</th>\n",
       "      <th>Recuento</th>\n",
       "      <th>Porcentaje</th>\n",
       "    </tr>\n",
       "  </thead>\n",
       "  <tbody>\n",
       "    <tr>\n",
       "      <th>0</th>\n",
       "      <td>0.0</td>\n",
       "      <td>20,038</td>\n",
       "      <td>61.8</td>\n",
       "    </tr>\n",
       "    <tr>\n",
       "      <th>1</th>\n",
       "      <td>1.0</td>\n",
       "      <td>12,380</td>\n",
       "      <td>38.2</td>\n",
       "    </tr>\n",
       "    <tr>\n",
       "      <th>2</th>\n",
       "      <td>Total</td>\n",
       "      <td>32,418</td>\n",
       "      <td>100.0</td>\n",
       "    </tr>\n",
       "  </tbody>\n",
       "</table>\n",
       "</div>"
      ],
      "text/plain": [
       "  Acceso al contenido de clase - MENSAJES DE AUDIO Recuento Porcentaje\n",
       "0                                              0.0   20,038       61.8\n",
       "1                                              1.0   12,380       38.2\n",
       "2                                            Total   32,418      100.0"
      ]
     },
     "execution_count": 111,
     "metadata": {},
     "output_type": "execute_result"
    }
   ],
   "source": [
    "generar_tabla_recuento(base_filtrada_aux, \"cl_desarrollo_msm_audio\", \"Acceso al contenido de clase - MENSAJES DE AUDIO\",False)"
   ]
  },
  {
   "cell_type": "code",
   "execution_count": 112,
   "id": "942ae27d-d475-4c15-a7d9-a386e01eeab2",
   "metadata": {},
   "outputs": [
    {
     "data": {
      "text/html": [
       "<div>\n",
       "<style scoped>\n",
       "    .dataframe tbody tr th:only-of-type {\n",
       "        vertical-align: middle;\n",
       "    }\n",
       "\n",
       "    .dataframe tbody tr th {\n",
       "        vertical-align: top;\n",
       "    }\n",
       "\n",
       "    .dataframe thead th {\n",
       "        text-align: right;\n",
       "    }\n",
       "</style>\n",
       "<table border=\"1\" class=\"dataframe\">\n",
       "  <thead>\n",
       "    <tr style=\"text-align: right;\">\n",
       "      <th></th>\n",
       "      <th>Acceso al contenido de clase - MENSAJES DE TEXTO</th>\n",
       "      <th>Recuento</th>\n",
       "      <th>Porcentaje</th>\n",
       "    </tr>\n",
       "  </thead>\n",
       "  <tbody>\n",
       "    <tr>\n",
       "      <th>0</th>\n",
       "      <td>0.0</td>\n",
       "      <td>18,987</td>\n",
       "      <td>58.6</td>\n",
       "    </tr>\n",
       "    <tr>\n",
       "      <th>1</th>\n",
       "      <td>1.0</td>\n",
       "      <td>13,431</td>\n",
       "      <td>41.4</td>\n",
       "    </tr>\n",
       "    <tr>\n",
       "      <th>2</th>\n",
       "      <td>Total</td>\n",
       "      <td>32,418</td>\n",
       "      <td>100.0</td>\n",
       "    </tr>\n",
       "  </tbody>\n",
       "</table>\n",
       "</div>"
      ],
      "text/plain": [
       "  Acceso al contenido de clase - MENSAJES DE TEXTO Recuento Porcentaje\n",
       "0                                              0.0   18,987       58.6\n",
       "1                                              1.0   13,431       41.4\n",
       "2                                            Total   32,418      100.0"
      ]
     },
     "execution_count": 112,
     "metadata": {},
     "output_type": "execute_result"
    }
   ],
   "source": [
    "generar_tabla_recuento(base_filtrada_aux, \"cl_desarrollo_msm_texto\", \"Acceso al contenido de clase - MENSAJES DE TEXTO\",False)"
   ]
  },
  {
   "cell_type": "code",
   "execution_count": 113,
   "id": "27e01923-6227-49b8-a1d3-9f3b941f8125",
   "metadata": {},
   "outputs": [
    {
     "data": {
      "text/html": [
       "<div>\n",
       "<style scoped>\n",
       "    .dataframe tbody tr th:only-of-type {\n",
       "        vertical-align: middle;\n",
       "    }\n",
       "\n",
       "    .dataframe tbody tr th {\n",
       "        vertical-align: top;\n",
       "    }\n",
       "\n",
       "    .dataframe thead th {\n",
       "        text-align: right;\n",
       "    }\n",
       "</style>\n",
       "<table border=\"1\" class=\"dataframe\">\n",
       "  <thead>\n",
       "    <tr style=\"text-align: right;\">\n",
       "      <th></th>\n",
       "      <th>Acceso al contenido de clase - SIN ACOMPAÑAMIENTO</th>\n",
       "      <th>Recuento</th>\n",
       "      <th>Porcentaje</th>\n",
       "    </tr>\n",
       "  </thead>\n",
       "  <tbody>\n",
       "    <tr>\n",
       "      <th>0</th>\n",
       "      <td>0.0</td>\n",
       "      <td>31,500</td>\n",
       "      <td>97.2</td>\n",
       "    </tr>\n",
       "    <tr>\n",
       "      <th>1</th>\n",
       "      <td>1.0</td>\n",
       "      <td>918</td>\n",
       "      <td>2.8</td>\n",
       "    </tr>\n",
       "    <tr>\n",
       "      <th>2</th>\n",
       "      <td>Total</td>\n",
       "      <td>32,418</td>\n",
       "      <td>100.0</td>\n",
       "    </tr>\n",
       "  </tbody>\n",
       "</table>\n",
       "</div>"
      ],
      "text/plain": [
       "  Acceso al contenido de clase - SIN ACOMPAÑAMIENTO Recuento Porcentaje\n",
       "0                                               0.0   31,500       97.2\n",
       "1                                               1.0      918        2.8\n",
       "2                                             Total   32,418      100.0"
      ]
     },
     "execution_count": 113,
     "metadata": {},
     "output_type": "execute_result"
    }
   ],
   "source": [
    "generar_tabla_recuento(base_filtrada_aux, \"cl_desarrollo_sin_acompañamiento\", \"Acceso al contenido de clase - SIN ACOMPAÑAMIENTO\",False)"
   ]
  },
  {
   "cell_type": "markdown",
   "id": "932f9ef0",
   "metadata": {
    "tags": []
   },
   "source": [
    "# Graficos"
   ]
  },
  {
   "cell_type": "code",
   "execution_count": 114,
   "id": "fb75f5a3-3054-4b6b-8999-8a0ba2e14bbf",
   "metadata": {},
   "outputs": [
    {
     "data": {
      "text/plain": [
       "(165, 91)"
      ]
     },
     "execution_count": 114,
     "metadata": {},
     "output_type": "execute_result"
    }
   ],
   "source": [
    "base_filtrada.shape"
   ]
  },
  {
   "cell_type": "markdown",
   "id": "7f1c9903-3f4b-407f-a70e-cfe030d6072f",
   "metadata": {},
   "source": [
    "## V. Continuas - Miembros por hogar , Edad y Años de escolaridad"
   ]
  },
  {
   "cell_type": "code",
   "execution_count": 115,
   "id": "f2079caf",
   "metadata": {},
   "outputs": [
    {
     "data": {
      "image/png": "[encoded data removed]",
      "text/plain": [
       "<Figure size 600x500 with 1 Axes>"
      ]
     },
     "metadata": {},
     "output_type": "display_data"
    }
   ],
   "source": [
    "guardar_histograma_con_pesos(base_filtrada, 'mieperho','Miembros por hogar', 21)"
   ]
  },
  {
   "cell_type": "code",
   "execution_count": 116,
   "id": "0948067c",
   "metadata": {},
   "outputs": [
    {
     "data": {
      "image/png": "[encoded data removed]",
      "text/plain": [
       "<Figure size 600x500 with 1 Axes>"
      ]
     },
     "metadata": {},
     "output_type": "display_data"
    }
   ],
   "source": [
    "guardar_histograma_con_pesos(base_filtrada, 'Edad','Edad',12)"
   ]
  },
  {
   "cell_type": "code",
   "execution_count": 117,
   "id": "009a87f9-1bef-4c42-ad22-ab589da18343",
   "metadata": {},
   "outputs": [
    {
     "data": {
      "image/png": "[encoded data removed]",
      "text/plain": [
       "<Figure size 600x500 with 1 Axes>"
      ]
     },
     "metadata": {},
     "output_type": "display_data"
    }
   ],
   "source": [
    "guardar_histograma_con_pesos(base_filtrada, 'años_escolaridad','Años de escolaridad', 11)"
   ]
  },
  {
   "cell_type": "markdown",
   "id": "fb9ef9bf-e2e2-4a30-bf7c-27ca26af6c8a",
   "metadata": {
    "tags": []
   },
   "source": [
    "## V. Cualitativas - Nivel educativo y centro de estudios"
   ]
  },
  {
   "cell_type": "code",
   "execution_count": 118,
   "id": "fcc7d0e4-f257-4059-b15a-545f269694ad",
   "metadata": {},
   "outputs": [],
   "source": [
    "base_filtrada_aux = base_filtrada.copy()"
   ]
  },
  {
   "cell_type": "code",
   "execution_count": 119,
   "id": "015c6211-2f0e-40fc-84d7-64a3346d2a38",
   "metadata": {},
   "outputs": [
    {
     "data": {
      "image/png": "[encoded data removed]",
      "text/plain": [
       "<Figure size 640x480 with 1 Axes>"
      ]
     },
     "metadata": {},
     "output_type": "display_data"
    }
   ],
   "source": [
    "label = [\"Primaria\",\"Secundaria\"]\n",
    "guardar_graf_barras(base_filtrada,'Nivel_educativo', labels = label)"
   ]
  },
  {
   "cell_type": "code",
   "execution_count": 120,
   "id": "f29be420-eaaf-49b9-b91a-d9f30a5dfa33",
   "metadata": {},
   "outputs": [
    {
     "data": {
      "image/png": "[encoded data removed]",
      "text/plain": [
       "<Figure size 640x480 with 1 Axes>"
      ]
     },
     "metadata": {},
     "output_type": "display_data"
    }
   ],
   "source": [
    "label = [\"Privada\", \"Nacional\"]\n",
    "guardar_graf_barras(base_filtrada,'Centro_estudios', labels = label)\n",
    "#label = [\"Nacional\",\"Privada\"]"
   ]
  },
  {
   "cell_type": "markdown",
   "id": "821135f6-bbd4-408f-97cf-367545744fb5",
   "metadata": {},
   "source": [
    "## V.C. Idioma y Sexo"
   ]
  },
  {
   "cell_type": "code",
   "execution_count": 121,
   "id": "b198374e",
   "metadata": {},
   "outputs": [
    {
     "data": {
      "image/png": "[encoded data removed]",
      "text/plain": [
       "<Figure size 640x480 with 1 Axes>"
      ]
     },
     "metadata": {},
     "output_type": "display_data"
    }
   ],
   "source": [
    "label = [\"Otro\",\"Castellano\"]\n",
    "guardar_graf_barras(base_filtrada,'Idioma', labels = label)"
   ]
  },
  {
   "cell_type": "code",
   "execution_count": 122,
   "id": "64698e3a",
   "metadata": {},
   "outputs": [
    {
     "data": {
      "image/png": "[encoded data removed]",
      "text/plain": [
       "<Figure size 640x480 with 1 Axes>"
      ]
     },
     "metadata": {},
     "output_type": "display_data"
    }
   ],
   "source": [
    "label= [\"Hombre\",\"Mujer\"]\n",
    "guardar_graf_barras(base_filtrada,'Sexo', label)"
   ]
  },
  {
   "cell_type": "markdown",
   "id": "8246ae42-895b-46ed-8ca2-3cafe182f94d",
   "metadata": {},
   "source": [
    "## Area y Estrato Social"
   ]
  },
  {
   "cell_type": "code",
   "execution_count": 123,
   "id": "acb742d2",
   "metadata": {},
   "outputs": [
    {
     "data": {
      "image/png": "[encoded data removed]",
      "text/plain": [
       "<Figure size 640x480 with 1 Axes>"
      ]
     },
     "metadata": {},
     "output_type": "display_data"
    }
   ],
   "source": [
    "label = [\"Rural\", \"Urbano\"]\n",
    "guardar_graf_barras(base_filtrada,'Area', label)"
   ]
  },
  {
   "cell_type": "code",
   "execution_count": 124,
   "id": "ccd7b96d",
   "metadata": {},
   "outputs": [
    {
     "ename": "ValueError",
     "evalue": "The number of FixedLocator locations (5), usually from a call to set_ticks, does not match the number of ticklabels (6).",
     "output_type": "error",
     "traceback": [
      "\u001b[1;31m---------------------------------------------------------------------------\u001b[0m",
      "\u001b[1;31mValueError\u001b[0m                                Traceback (most recent call last)",
      "\u001b[1;32m~\\AppData\\Local\\Temp\\ipykernel_19656\\244837966.py\u001b[0m in \u001b[0;36m<module>\u001b[1;34m\u001b[0m\n\u001b[0;32m      1\u001b[0m \u001b[0mlabel\u001b[0m \u001b[1;33m=\u001b[0m \u001b[1;33m[\u001b[0m\u001b[1;34m\"A\"\u001b[0m\u001b[1;33m,\u001b[0m \u001b[1;34m\"B\"\u001b[0m\u001b[1;33m,\u001b[0m\u001b[1;34m\"C\"\u001b[0m\u001b[1;33m,\u001b[0m\u001b[1;34m\"D\"\u001b[0m\u001b[1;33m,\u001b[0m \u001b[1;34m\"E\"\u001b[0m\u001b[1;33m,\u001b[0m\u001b[1;34m\"rural\"\u001b[0m\u001b[1;33m]\u001b[0m\u001b[1;33m\u001b[0m\u001b[1;33m\u001b[0m\u001b[0m\n\u001b[1;32m----> 2\u001b[1;33m \u001b[0mguardar_graf_barras\u001b[0m\u001b[1;33m(\u001b[0m\u001b[0mbase_filtrada\u001b[0m\u001b[1;33m,\u001b[0m\u001b[1;34m'estrsocial'\u001b[0m\u001b[1;33m,\u001b[0m\u001b[0mlabel\u001b[0m\u001b[1;33m)\u001b[0m\u001b[1;33m\u001b[0m\u001b[1;33m\u001b[0m\u001b[0m\n\u001b[0m",
      "\u001b[1;32m~\\Desktop\\TESIS_GITHUB\\Tesis2\\code\\utils.py\u001b[0m in \u001b[0;36mguardar_graf_barras\u001b[1;34m(df, columna_categorica, labels)\u001b[0m\n\u001b[0;32m     43\u001b[0m         \u001b[0max\u001b[0m\u001b[1;33m.\u001b[0m\u001b[0mannotate\u001b[0m\u001b[1;33m(\u001b[0m\u001b[1;34mf'{(height/total)*100:.0f}%'\u001b[0m\u001b[1;33m,\u001b[0m \u001b[1;33m(\u001b[0m\u001b[0mp\u001b[0m\u001b[1;33m.\u001b[0m\u001b[0mget_x\u001b[0m\u001b[1;33m(\u001b[0m\u001b[1;33m)\u001b[0m \u001b[1;33m+\u001b[0m \u001b[0mp\u001b[0m\u001b[1;33m.\u001b[0m\u001b[0mget_width\u001b[0m\u001b[1;33m(\u001b[0m\u001b[1;33m)\u001b[0m \u001b[1;33m/\u001b[0m \u001b[1;36m2.\u001b[0m\u001b[1;33m,\u001b[0m \u001b[0mheight\u001b[0m\u001b[1;33m)\u001b[0m\u001b[1;33m,\u001b[0m \u001b[0mha\u001b[0m\u001b[1;33m=\u001b[0m\u001b[1;34m'center'\u001b[0m\u001b[1;33m,\u001b[0m \u001b[0mva\u001b[0m\u001b[1;33m=\u001b[0m\u001b[1;34m'bottom'\u001b[0m\u001b[1;33m)\u001b[0m\u001b[1;33m\u001b[0m\u001b[1;33m\u001b[0m\u001b[0m\n\u001b[0;32m     44\u001b[0m \u001b[1;33m\u001b[0m\u001b[0m\n\u001b[1;32m---> 45\u001b[1;33m     \u001b[0max\u001b[0m\u001b[1;33m.\u001b[0m\u001b[0mset_xticklabels\u001b[0m\u001b[1;33m(\u001b[0m\u001b[0mlabels\u001b[0m\u001b[1;33m,\u001b[0m \u001b[0mrotation\u001b[0m\u001b[1;33m=\u001b[0m\u001b[1;36m0\u001b[0m\u001b[1;33m,\u001b[0m \u001b[0mha\u001b[0m\u001b[1;33m=\u001b[0m\u001b[1;34m\"center\"\u001b[0m\u001b[1;33m)\u001b[0m\u001b[1;33m\u001b[0m\u001b[1;33m\u001b[0m\u001b[0m\n\u001b[0m\u001b[0;32m     46\u001b[0m \u001b[1;33m\u001b[0m\u001b[0m\n\u001b[0;32m     47\u001b[0m     \u001b[1;31m# Generar el nombre del archivo de imagen basado en el nombre de la columna\u001b[0m\u001b[1;33m\u001b[0m\u001b[1;33m\u001b[0m\u001b[0m\n",
      "\u001b[1;32mC:\\ProgramData\\Anaconda3\\lib\\site-packages\\matplotlib\\axes\\_base.py\u001b[0m in \u001b[0;36mwrapper\u001b[1;34m(self, *args, **kwargs)\u001b[0m\n\u001b[0;32m     73\u001b[0m \u001b[1;33m\u001b[0m\u001b[0m\n\u001b[0;32m     74\u001b[0m         \u001b[1;32mdef\u001b[0m \u001b[0mwrapper\u001b[0m\u001b[1;33m(\u001b[0m\u001b[0mself\u001b[0m\u001b[1;33m,\u001b[0m \u001b[1;33m*\u001b[0m\u001b[0margs\u001b[0m\u001b[1;33m,\u001b[0m \u001b[1;33m**\u001b[0m\u001b[0mkwargs\u001b[0m\u001b[1;33m)\u001b[0m\u001b[1;33m:\u001b[0m\u001b[1;33m\u001b[0m\u001b[1;33m\u001b[0m\u001b[0m\n\u001b[1;32m---> 75\u001b[1;33m             \u001b[1;32mreturn\u001b[0m \u001b[0mget_method\u001b[0m\u001b[1;33m(\u001b[0m\u001b[0mself\u001b[0m\u001b[1;33m)\u001b[0m\u001b[1;33m(\u001b[0m\u001b[1;33m*\u001b[0m\u001b[0margs\u001b[0m\u001b[1;33m,\u001b[0m \u001b[1;33m**\u001b[0m\u001b[0mkwargs\u001b[0m\u001b[1;33m)\u001b[0m\u001b[1;33m\u001b[0m\u001b[1;33m\u001b[0m\u001b[0m\n\u001b[0m\u001b[0;32m     76\u001b[0m \u001b[1;33m\u001b[0m\u001b[0m\n\u001b[0;32m     77\u001b[0m         \u001b[0mwrapper\u001b[0m\u001b[1;33m.\u001b[0m\u001b[0m__module__\u001b[0m \u001b[1;33m=\u001b[0m \u001b[0mowner\u001b[0m\u001b[1;33m.\u001b[0m\u001b[0m__module__\u001b[0m\u001b[1;33m\u001b[0m\u001b[1;33m\u001b[0m\u001b[0m\n",
      "\u001b[1;32mC:\\ProgramData\\Anaconda3\\lib\\site-packages\\matplotlib\\axis.py\u001b[0m in \u001b[0;36m_set_ticklabels\u001b[1;34m(self, labels, fontdict, minor, **kwargs)\u001b[0m\n\u001b[0;32m   1796\u001b[0m         \u001b[1;32mif\u001b[0m \u001b[0mfontdict\u001b[0m \u001b[1;32mis\u001b[0m \u001b[1;32mnot\u001b[0m \u001b[1;32mNone\u001b[0m\u001b[1;33m:\u001b[0m\u001b[1;33m\u001b[0m\u001b[1;33m\u001b[0m\u001b[0m\n\u001b[0;32m   1797\u001b[0m             \u001b[0mkwargs\u001b[0m\u001b[1;33m.\u001b[0m\u001b[0mupdate\u001b[0m\u001b[1;33m(\u001b[0m\u001b[0mfontdict\u001b[0m\u001b[1;33m)\u001b[0m\u001b[1;33m\u001b[0m\u001b[1;33m\u001b[0m\u001b[0m\n\u001b[1;32m-> 1798\u001b[1;33m         \u001b[1;32mreturn\u001b[0m \u001b[0mself\u001b[0m\u001b[1;33m.\u001b[0m\u001b[0mset_ticklabels\u001b[0m\u001b[1;33m(\u001b[0m\u001b[0mlabels\u001b[0m\u001b[1;33m,\u001b[0m \u001b[0mminor\u001b[0m\u001b[1;33m=\u001b[0m\u001b[0mminor\u001b[0m\u001b[1;33m,\u001b[0m \u001b[1;33m**\u001b[0m\u001b[0mkwargs\u001b[0m\u001b[1;33m)\u001b[0m\u001b[1;33m\u001b[0m\u001b[1;33m\u001b[0m\u001b[0m\n\u001b[0m\u001b[0;32m   1799\u001b[0m \u001b[1;33m\u001b[0m\u001b[0m\n\u001b[0;32m   1800\u001b[0m     \u001b[1;32mdef\u001b[0m \u001b[0m_set_tick_locations\u001b[0m\u001b[1;33m(\u001b[0m\u001b[0mself\u001b[0m\u001b[1;33m,\u001b[0m \u001b[0mticks\u001b[0m\u001b[1;33m,\u001b[0m \u001b[1;33m*\u001b[0m\u001b[1;33m,\u001b[0m \u001b[0mminor\u001b[0m\u001b[1;33m=\u001b[0m\u001b[1;32mFalse\u001b[0m\u001b[1;33m)\u001b[0m\u001b[1;33m:\u001b[0m\u001b[1;33m\u001b[0m\u001b[1;33m\u001b[0m\u001b[0m\n",
      "\u001b[1;32mC:\\ProgramData\\Anaconda3\\lib\\site-packages\\matplotlib\\axis.py\u001b[0m in \u001b[0;36mset_ticklabels\u001b[1;34m(self, ticklabels, minor, **kwargs)\u001b[0m\n\u001b[0;32m   1718\u001b[0m             \u001b[1;31m# remove all tick labels, so only error for > 0 ticklabels\u001b[0m\u001b[1;33m\u001b[0m\u001b[1;33m\u001b[0m\u001b[0m\n\u001b[0;32m   1719\u001b[0m             \u001b[1;32mif\u001b[0m \u001b[0mlen\u001b[0m\u001b[1;33m(\u001b[0m\u001b[0mlocator\u001b[0m\u001b[1;33m.\u001b[0m\u001b[0mlocs\u001b[0m\u001b[1;33m)\u001b[0m \u001b[1;33m!=\u001b[0m \u001b[0mlen\u001b[0m\u001b[1;33m(\u001b[0m\u001b[0mticklabels\u001b[0m\u001b[1;33m)\u001b[0m \u001b[1;32mand\u001b[0m \u001b[0mlen\u001b[0m\u001b[1;33m(\u001b[0m\u001b[0mticklabels\u001b[0m\u001b[1;33m)\u001b[0m \u001b[1;33m!=\u001b[0m \u001b[1;36m0\u001b[0m\u001b[1;33m:\u001b[0m\u001b[1;33m\u001b[0m\u001b[1;33m\u001b[0m\u001b[0m\n\u001b[1;32m-> 1720\u001b[1;33m                 raise ValueError(\n\u001b[0m\u001b[0;32m   1721\u001b[0m                     \u001b[1;34m\"The number of FixedLocator locations\"\u001b[0m\u001b[1;33m\u001b[0m\u001b[1;33m\u001b[0m\u001b[0m\n\u001b[0;32m   1722\u001b[0m                     \u001b[1;34mf\" ({len(locator.locs)}), usually from a call to\"\u001b[0m\u001b[1;33m\u001b[0m\u001b[1;33m\u001b[0m\u001b[0m\n",
      "\u001b[1;31mValueError\u001b[0m: The number of FixedLocator locations (5), usually from a call to set_ticks, does not match the number of ticklabels (6)."
     ]
    },
    {
     "data": {
      "image/png": "[encoded data removed]",
      "text/plain": [
       "<Figure size 640x480 with 1 Axes>"
      ]
     },
     "metadata": {},
     "output_type": "display_data"
    }
   ],
   "source": [
    "label = [\"A\", \"B\",\"C\",\"D\", \"E\",\"rural\"]\n",
    "guardar_graf_barras(base_filtrada,'estrsocial',label)"
   ]
  },
  {
   "cell_type": "code",
   "execution_count": null,
   "id": "fade1f89-f21a-4143-8399-33e5f3279ebd",
   "metadata": {},
   "outputs": [],
   "source": [
    "label = [\"Costa\", \"Sierra\",\"Selva\"]\n",
    "guardar_graf_barras(base_filtrada,'Region',label)"
   ]
  },
  {
   "cell_type": "code",
   "execution_count": null,
   "id": "06d03e85-0613-411c-ad93-470001febe92",
   "metadata": {},
   "outputs": [],
   "source": [
    "#label = [\"1.Amazonas\",\"2.Ancash\",\"3.Apurímac\",\"4.Arequipa\",\"5.Ayacucho\",\"6.Cajamarca\",\"7.Callao\",\"8.Cusco\",\"9.Huancavelica\",\"10.Huánuco\", \"11.Ica\",\"12.Junín\",\"13.La Libertad\",\n",
    "#         \"14.Lambayeque\",\"15.Lima\",\"16.Loreto\", \"17.Madre de Dios\",\"18.Moquegua\",\"19.Pasco\",\"20.Piura\", \"21.Puno\",\"22.San Martín\", \"23.Tacna\",\"24.Tumbes\",\"25.Ucayali\"]\n",
    "#guardar_graf_barras(base_filtrada,'DEPARTAMENTO', label)"
   ]
  },
  {
   "cell_type": "code",
   "execution_count": null,
   "id": "87d0a50b-95ec-4ed6-a939-291a565735d8",
   "metadata": {},
   "outputs": [],
   "source": [
    "label = [\"No\",\"Si\"]\n",
    "guardar_graf_barras(base_filtrada,'Electricidad', label)"
   ]
  },
  {
   "cell_type": "code",
   "execution_count": null,
   "id": "b4a5ad41-cd4d-4b7c-9609-5c2beb1fe2ca",
   "metadata": {},
   "outputs": [],
   "source": [
    "label = [\"No\",\"Si\"]\n",
    "guardar_graf_barras(base_filtrada, 'i_uso', label)"
   ]
  },
  {
   "cell_type": "code",
   "execution_count": null,
   "id": "212af8b2-7730-42c7-b12f-f7e70ff66d03",
   "metadata": {},
   "outputs": [],
   "source": [
    "label = [\"No\",\"Si\"]\n",
    "guardar_graf_barras(base_filtrada, 'i_conexion_hog', label)"
   ]
  },
  {
   "cell_type": "code",
   "execution_count": null,
   "id": "92d4f45a-78cb-44c5-9868-27eb2767cf29",
   "metadata": {},
   "outputs": [],
   "source": [
    "label = [\"No\",\"Si\"]\n",
    "guardar_graf_barras(base_filtrada, 'cel_hog', label)"
   ]
  },
  {
   "cell_type": "code",
   "execution_count": null,
   "id": "0d738cee-236e-4bc7-8a06-90591a758b13",
   "metadata": {},
   "outputs": [],
   "source": [
    "label = [\"No\",\"Si\"]\n",
    "guardar_graf_barras(base_filtrada, 'conexion_cable_hog', label)"
   ]
  },
  {
   "cell_type": "code",
   "execution_count": null,
   "id": "52e17bd5-50aa-4618-9022-8818e75dd601",
   "metadata": {},
   "outputs": [],
   "source": [
    "label = [\"No\",\"Si\"]\n",
    "guardar_graf_barras(base_filtrada, 'cel_uso', label)"
   ]
  },
  {
   "cell_type": "markdown",
   "id": "dc91db93-2cab-4e4b-8cb1-17f93fb3f43c",
   "metadata": {},
   "source": [
    "## Grafico de barras - USO (Donde uso internet)"
   ]
  },
  {
   "cell_type": "markdown",
   "id": "771cfb00-7e1b-4916-ad6a-cd3990ea6de8",
   "metadata": {
    "tags": []
   },
   "source": [
    "### Funcion"
   ]
  },
  {
   "cell_type": "code",
   "execution_count": null,
   "id": "b7713147-a4d7-4142-ae5e-b557f3a979d7",
   "metadata": {},
   "outputs": [],
   "source": [
    "i_uso        = barras(base_filtrada_aux, \"i_uso\"       ,\"                                      Uso de internet\")\n",
    "i_uso_cedu   = barras(base_filtrada_aux,\"i_uso_cedu\"  ,\"                                      Establecimiento educativo\")\n",
    "i_uso_trab   = barras(base_filtrada_aux,\"i_uso_trab\"  ,\"                                      Trabajo\")\n",
    "i_uso_hog    = barras(base_filtrada_aux,\"i_uso_hog\"   ,\"                                      Hogar\")\n",
    "i_uso_cab    = barras(base_filtrada_aux,\"i_uso_cab\"   ,\"                                      Cabina pública\")\n",
    "i_uso_casotr = barras(base_filtrada_aux,\"i_uso_casotr\",\"                                     Casa de otra persona\")\n",
    "i_uso_otro   = barras(base_filtrada_aux,\"i_uso_otro\"  ,\"                                     Otro\")\n",
    "i_uso_movil  = barras(base_filtrada_aux,\"i_uso_movil\" ,\"                                     Acceso móvil a internet\")"
   ]
  },
  {
   "cell_type": "code",
   "execution_count": null,
   "id": "01fea482-af33-484b-94f6-64845db61503",
   "metadata": {},
   "outputs": [],
   "source": [
    "i_uso_cedu"
   ]
  },
  {
   "cell_type": "code",
   "execution_count": null,
   "id": "38188bf6-13d5-41bd-973a-dd0c41a9f79f",
   "metadata": {},
   "outputs": [],
   "source": [
    "data3 = pd.concat([i_uso_cedu, i_uso_trab, i_uso_hog, i_uso_cab, i_uso_casotr,i_uso_otro, i_uso_movil], axis=0)\n",
    "data3 = data3.reset_index(drop=True)\n",
    "#data3"
   ]
  },
  {
   "cell_type": "markdown",
   "id": "138d46b8-80ee-4062-ae3b-70b73e148d75",
   "metadata": {},
   "source": [
    "### plot"
   ]
  },
  {
   "cell_type": "code",
   "execution_count": null,
   "id": "8f7a9d50-922c-4132-b614-4861c5ac017f",
   "metadata": {},
   "outputs": [],
   "source": [
    "graf_multiples(data3, 'uso')"
   ]
  },
  {
   "cell_type": "markdown",
   "id": "d5a7b65e-4867-4fce-bbb3-469e7174ca48",
   "metadata": {},
   "source": [
    "## Grafico de barras - ACCESO - Equipo de acceso de servicio de Internet"
   ]
  },
  {
   "cell_type": "code",
   "execution_count": null,
   "id": "f203c8bd-2304-4e88-a2d8-1e6a29d8eab4",
   "metadata": {},
   "outputs": [],
   "source": [
    "i_computadora = barras(base_filtrada_aux, \"i_computadora\",\"                                          Computadora\")\n",
    "i_tablet      = barras(base_filtrada_aux, \"i_tablet\"     ,\"                                          Tablet\")\n",
    "i_laptop      = barras(base_filtrada_aux, \"i_laptop\"     ,\"                                          Laptop\")\n",
    "i_otro        = barras(base_filtrada_aux, \"i_otro\"       ,\"                                         Otro\")\n",
    "i_cel_sdatos  = barras(base_filtrada_aux, \"i_cel_sdatos\" ,\"                                         Celular sin plan de datos\")\n",
    "i_cel_cdatos  = barras(base_filtrada_aux, \"i_cel_cdatos\" ,\"                                         Celular con plan de datos\")"
   ]
  },
  {
   "cell_type": "code",
   "execution_count": null,
   "id": "087ce9ba",
   "metadata": {},
   "outputs": [],
   "source": [
    "data3 = pd.concat([i_computadora, i_tablet, i_laptop, i_otro, i_cel_sdatos, i_cel_cdatos], axis=0)\n",
    "data3 = data3.reset_index(drop=True)\n",
    "data3"
   ]
  },
  {
   "cell_type": "markdown",
   "id": "6a6d3c23-b823-402d-8b57-708501fa7aa8",
   "metadata": {},
   "source": [
    "### Plot"
   ]
  },
  {
   "cell_type": "code",
   "execution_count": null,
   "id": "9459fb0d-73aa-4397-8a3b-ed85b29b8996",
   "metadata": {},
   "outputs": [],
   "source": [
    "graf_multiples(data3,'acceso')"
   ]
  },
  {
   "cell_type": "markdown",
   "id": "62e0c104-8aec-4d83-9204-a38fb3b20007",
   "metadata": {},
   "source": [
    "## Grafico - Para qué uso el internet"
   ]
  },
  {
   "cell_type": "code",
   "execution_count": null,
   "id": "76849672-0c5c-429a-8491-5893637bdb0f",
   "metadata": {},
   "outputs": [],
   "source": [
    "i_obtener_info         = barras(base_filtrada_aux, \"i_obtener_info\",\"Obtener información (sobre bienes y servicios, \\n salud, organizaciones gubernamentales)\")\n",
    "i_comunicarse          = barras(base_filtrada_aux, \"i_comunicarse\", \"Comunicarse (e-mail, chat, llamadas por Skype, \\n WhatsApp, Facebook, Twitter, etc.)\")\n",
    "i_comprar_pdts_ss      = barras(base_filtrada_aux, \"i_comprar_pdts_ss\", \"Comprar productos y/o servicios\")\n",
    "i_operaciones_bancarias = barras(base_filtrada_aux, \"i_operaciones_bancarias\", \"Operaciones de banca electrónica \\n y otros servicios financieros\")\n",
    "i_edu_formal          = barras(base_filtrada_aux, \"i_edu_formal\", \"Educación formal y actividades \\n de capacitación\")\n",
    "i_transacciones       = barras(base_filtrada_aux, \"i_transacciones\",\"Transacciones (interactuar) con organizaciones \\n estatales/autoridades públicas\")\n",
    "i_act_entretenimiento = barras(base_filtrada_aux, \"i_act_entretenimiento\",\"Actividades de entretenimiento (juegos de video, \\n obtener películas, música, videos, escuchar radio, \\n leer periódico, etc.)\")\n",
    "i_vender_pdts         = barras(base_filtrada_aux, \"i_vender_pdts\", \"Vender productos y/o servicios \\n (Mercado Libre, OLX, Facebook, etc.)\")\n",
    "p316_9 = barras(base_filtrada_aux, \"p316_9\", \"o1\")\n",
    "p316_10 = barras(base_filtrada_aux,\"p316_10\",\"o2\")\n",
    "p316_11 = barras(base_filtrada_aux,\"p316_11\", \"o4\")\n",
    "i_descarga_antivirus = barras(base_filtrada_aux,\"i_descarga_antivirus\", \"Descarga de antivirus / aplicativos  \\n /software(programas)\")"
   ]
  },
  {
   "cell_type": "code",
   "execution_count": null,
   "id": "d37c396d-b14e-4e75-8e93-63c7a7031f8e",
   "metadata": {},
   "outputs": [],
   "source": [
    "data3 = pd.concat([i_obtener_info, i_comunicarse,i_comprar_pdts_ss, i_operaciones_bancarias, i_edu_formal, i_transacciones,\n",
    "                  i_act_entretenimiento, i_vender_pdts, i_descarga_antivirus], axis=0)\n",
    "#p316_9, p316_10, p316_11\n",
    "data3 = data3.reset_index(drop=True)\n",
    "#data3"
   ]
  },
  {
   "cell_type": "markdown",
   "id": "df3229f3-6935-4d6f-92ee-57c26e18fbb5",
   "metadata": {},
   "source": [
    "### Plot"
   ]
  },
  {
   "cell_type": "code",
   "execution_count": null,
   "id": "8be5f948-5e2d-47f1-bf1f-ae9f45f032fc",
   "metadata": {},
   "outputs": [],
   "source": [
    "graf_multiples(data3,'apropiacion')"
   ]
  },
  {
   "cell_type": "markdown",
   "id": "cbe2006b-2002-450f-9cb6-91d7df4f4cd8",
   "metadata": {},
   "source": [
    "## Grafico - ACTIVIDADES INFORMÁTICAS +14"
   ]
  },
  {
   "cell_type": "code",
   "execution_count": null,
   "id": "57e33f4b-373f-4116-a0ee-b44a92bf2c43",
   "metadata": {},
   "outputs": [],
   "source": [
    "ai_mover_archivo      = barras(base_filtrada_aux,\"ai_mover_archivo\",      \"Copiar o mover un archivo o carpeta\")\n",
    "ai_copiar_pegar       = barras(base_filtrada_aux,\"ai_copiar_pegar\",        \"Utilizar herramientas de copiar y pegar para duplicar\\n o mover información dentro de un documento\")\n",
    "ai_enviar_correos     = barras(base_filtrada_aux,\"ai_enviar_correos\",     \"Enviar correos electrónicos (e-mails) con archivos \\n adjuntos (por ejemplo, documentos, fotos, videos)\")\n",
    "ai_form_excel         = barras(base_filtrada_aux,\"ai_form_excel\",         \"Utilizar fórmulas aritméticas básicas en una hoja \\n de cálculo (Excel)\")\n",
    "ai_conec_dispositivos = barras(base_filtrada_aux,\"ai_conec_dispositivos\", \"Conectar e instalar nuevos dispositivos (por ejemplo, \\n modem, cámara, impresora)\")\n",
    "ai_software           = barras(base_filtrada_aux,\"ai_software\",          \"Encontrar, descargar, instalar y configurar software\")\n",
    "ai_presentaciones_electronicas = barras(base_filtrada_aux, \"ai_presentaciones_electronicas\", \"Crear presentaciones electrónicas con programas \\n (Power Point, Prezi, etc.) para crear presentaciones \\n (incluyendo texto, imágenes, sonido, video o tabla)\")\n",
    "ai_tranfer_archivos = barras(base_filtrada_aux,\"ai_tranfer_archivos\",   \"Transferir archivos entre computadora y otros \\n dispositivos\")\n",
    "ai_leng_programacion = barras(base_filtrada_aux,\"ai_leng_programacion\", \"Redactar un programa informático mediante el uso de \\n lenguaje de programación especializado\")\n",
    "ai_otros             = barras(base_filtrada_aux,\"ai_otros\",              \"Otros\")"
   ]
  },
  {
   "cell_type": "code",
   "execution_count": null,
   "id": "0740b877-9069-4f77-babd-60bf4b3245f0",
   "metadata": {},
   "outputs": [],
   "source": [
    "data3 = pd.concat([ai_mover_archivo, ai_copiar_pegar,ai_enviar_correos,ai_form_excel,ai_conec_dispositivos,\n",
    "                 ai_software,ai_presentaciones_electronicas,ai_tranfer_archivos,ai_leng_programacion,ai_otros], axis=0)\n",
    "#p316_9, p316_10, p316_11\n",
    "data3 = data3.reset_index(drop=True)\n",
    "#data3"
   ]
  },
  {
   "cell_type": "markdown",
   "id": "e94803e7-ad3d-4b39-b42c-4419bf5ae47b",
   "metadata": {},
   "source": [
    "### plot"
   ]
  },
  {
   "cell_type": "code",
   "execution_count": null,
   "id": "c1dfd57b-fe01-4d9c-9d47-aa042ceba1a9",
   "metadata": {},
   "outputs": [],
   "source": [
    "graf_multiples(data3,'act_informatica')"
   ]
  },
  {
   "cell_type": "markdown",
   "id": "c84a96f1-bd49-459f-bae9-9b4db5eb05c6",
   "metadata": {},
   "source": [
    "## Grafico de barras - Clases a DISTANCIA"
   ]
  },
  {
   "cell_type": "code",
   "execution_count": null,
   "id": "bdeb62a5-32e6-40f1-b13f-779467c09138",
   "metadata": {},
   "outputs": [],
   "source": [
    "cl_medio_tv                 = barras(base_filtrada_aux, \"cl_medio_tv\"                , \"                                  Televisión\")\n",
    "cl_medio_radio              = barras(base_filtrada_aux,\"cl_medio_radio\"             , \"                                  Radio/equipo de sonido\")\n",
    "cl_medio_plataforma_virtual = barras(base_filtrada_aux, \"cl_medio_plataforma_virtual\", \"                                  Plataforma virtual/página web\")\n",
    "cl_medio_otro               = barras(base_filtrada_aux,\"cl_medio_otro\"              , \"                                  Otro\")\n",
    "cl_medio_wsp                = barras(base_filtrada_aux, \"cl_medio_wsp\"               , \"                                  Whatsapp\")\n",
    "cl_medio_correo             = barras(base_filtrada_aux, \"cl_medio_correo\"            , \"                                  Correo\")\n",
    "cl_medio_llamadas           = barras(base_filtrada_aux, \"cl_medio_llamadas\"          , \"                                  Llamadas\")"
   ]
  },
  {
   "cell_type": "code",
   "execution_count": null,
   "id": "84c82615-b957-43e8-b0c6-e7cc6c241837",
   "metadata": {},
   "outputs": [],
   "source": [
    "data3 = pd.concat([cl_medio_tv, cl_medio_radio, cl_medio_plataforma_virtual, cl_medio_otro, cl_medio_wsp, cl_medio_correo, cl_medio_llamadas], axis=0)\n",
    "data3 = data3.reset_index(drop=True)\n",
    "#data3"
   ]
  },
  {
   "cell_type": "markdown",
   "id": "de8fca3c-bab0-4fb8-b838-8ba301c16e6d",
   "metadata": {
    "tags": []
   },
   "source": [
    "### plot"
   ]
  },
  {
   "cell_type": "code",
   "execution_count": null,
   "id": "a853a988-836e-42d6-b6a5-5a5c7b8f9ec5",
   "metadata": {},
   "outputs": [],
   "source": [
    "graf_multiples(data3,'clases_medio')"
   ]
  },
  {
   "cell_type": "code",
   "execution_count": null,
   "id": "e055ab15-5773-4016-a8f2-da5e9a0e8168",
   "metadata": {},
   "outputs": [],
   "source": [
    "cl_desarrollo_interaccion        = barras(base_filtrada_aux, \"cl_desarrollo_interaccion\"       , \"                         Interacción con el profesor\")\n",
    "cl_desarrollo_videos             = barras(base_filtrada_aux,\"cl_desarrollo_videos\"            , \"                         Videos\")\n",
    "cl_desarrollo_documentos         = barras(base_filtrada_aux, \"cl_desarrollo_documentos\"        , \"                         Documentos (textos, cuadros, etc.)\")\n",
    "cl_desarrollo_otros              = barras(base_filtrada_aux, \"cl_desarrollo_otros\"             , \"                         Otros\")\n",
    "cl_desarrollo_msm_audio          = barras(base_filtrada_aux, \"cl_desarrollo_msm_audio\"         , \"                         Mensaje de Audio\")\n",
    "cl_desarrollo_msm_texto          = barras(base_filtrada_aux, \"cl_desarrollo_msm_texto\"         , \"                         Mensaje de texto\")\n",
    "cl_desarrollo_sin_acompañamiento = barras(base_filtrada_aux, \"cl_desarrollo_sin_acompañamiento\", \"                         Sin acompañamiento\")"
   ]
  },
  {
   "cell_type": "code",
   "execution_count": null,
   "id": "86818776-1310-4f55-b44a-493f32da5ea9",
   "metadata": {},
   "outputs": [],
   "source": [
    "data3 = pd.concat([cl_desarrollo_interaccion, cl_desarrollo_videos, cl_desarrollo_documentos, cl_desarrollo_otros, cl_desarrollo_msm_audio, cl_desarrollo_msm_texto,\n",
    "                   cl_desarrollo_sin_acompañamiento], axis=0)\n",
    "data3 = data3.reset_index(drop=True)\n",
    "#data3"
   ]
  },
  {
   "cell_type": "markdown",
   "id": "5a2ee53a-54d1-4e4c-982b-7a1058b91f2d",
   "metadata": {},
   "source": [
    "### Plot"
   ]
  },
  {
   "cell_type": "code",
   "execution_count": null,
   "id": "60a80afb-6e30-4596-895e-b4a1f765022f",
   "metadata": {},
   "outputs": [],
   "source": [
    "graf_multiples(data3,'medio_desarrollo')"
   ]
  },
  {
   "cell_type": "markdown",
   "id": "fa9e36b7",
   "metadata": {},
   "source": [
    "# Regresión"
   ]
  },
  {
   "cell_type": "code",
   "execution_count": null,
   "id": "dd171a43-7dd3-443d-80e0-2b41cb84c212",
   "metadata": {},
   "outputs": [],
   "source": [
    "base_filtrada['i_uso'].value_counts()\n",
    "missing_values = base_filtrada['i_uso'].isna().sum()\n",
    "print(\"Número de valores faltantes en 'i_uso_hog':\", missing_values)"
   ]
  },
  {
   "cell_type": "code",
   "execution_count": null,
   "id": "998ec12e-d89a-4614-89be-e5f2fc55f532",
   "metadata": {},
   "outputs": [],
   "source": [
    "base_filtrada = base_filtrada[base_filtrada[\"estrsocial\"] != 6]"
   ]
  },
  {
   "cell_type": "code",
   "execution_count": null,
   "id": "cbf9e965-2081-486a-9a7c-6c58d3f12fae",
   "metadata": {},
   "outputs": [],
   "source": [
    "base_filtrada.estrsocial.value_counts()"
   ]
  },
  {
   "cell_type": "code",
   "execution_count": null,
   "id": "86fb8b2e-3533-4ab3-8715-98ad00772448",
   "metadata": {},
   "outputs": [],
   "source": [
    "#base_filtrada.columns"
   ]
  },
  {
   "cell_type": "code",
   "execution_count": null,
   "id": "e68763a3-2144-4511-bb9a-505130ec08f9",
   "metadata": {},
   "outputs": [],
   "source": [
    "base_filtrada.shape"
   ]
  },
  {
   "cell_type": "code",
   "execution_count": null,
   "id": "33728a9a-28c4-44f0-8234-428e2e3cb95b",
   "metadata": {},
   "outputs": [],
   "source": [
    "base_filtrada.i_uso.value_counts()"
   ]
  },
  {
   "cell_type": "markdown",
   "id": "620e2905-038d-4893-a7fb-c1b9ec7079da",
   "metadata": {},
   "source": [
    "## Variables Y X"
   ]
  },
  {
   "cell_type": "code",
   "execution_count": null,
   "id": "e9178c3b-3eef-47f8-9620-2f51952ebc39",
   "metadata": {},
   "outputs": [],
   "source": [
    "# Define la variable dependiente (binaria) y las variables independientes\n",
    "y = base_filtrada['i_uso']\n",
    "X = base_filtrada[['Sexo', 'Edad','años_escolaridad','mieperho', \n",
    "                   'cel_uso',\n",
    "                   'Electricidad', 'Idioma','Centro_estudios'\n",
    "                   #,'Area'\n",
    "                  ]]\n",
    "weights = base_filtrada['factor07']"
   ]
  },
  {
   "cell_type": "code",
   "execution_count": null,
   "id": "32791b6c-987a-4b55-b5bc-365e4c1ff0f8",
   "metadata": {},
   "outputs": [],
   "source": [
    "base_filtrada['i_uso'].value_counts()"
   ]
  },
  {
   "cell_type": "code",
   "execution_count": null,
   "id": "352de659-22b9-4453-add2-0bc96b7ef1ef",
   "metadata": {},
   "outputs": [],
   "source": [
    "base_filtrada['cel_uso'].value_counts()"
   ]
  },
  {
   "cell_type": "code",
   "execution_count": null,
   "id": "1062d332-636b-480e-9fbb-4e7d8cb2a69d",
   "metadata": {},
   "outputs": [],
   "source": [
    "#base_filtrada['Area'].value_counts()"
   ]
  },
  {
   "cell_type": "code",
   "execution_count": null,
   "id": "b6f637f6-f923-40bb-b62f-9a2de3b8f97c",
   "metadata": {},
   "outputs": [],
   "source": [
    "base_filtrada['cel_uso'].value_counts()\n",
    "missing_values = base_filtrada['cel_uso'].isna().sum()\n",
    "print(\"Número de valores faltantes en 'i_uso_hog':\", missing_values)"
   ]
  },
  {
   "cell_type": "markdown",
   "id": "984409e5-8f3f-43a6-bafd-1edf5ff4acf8",
   "metadata": {},
   "source": [
    "### Dummies"
   ]
  },
  {
   "cell_type": "code",
   "execution_count": null,
   "id": "aa62d680-63ad-448d-b393-ad6bc41d6f01",
   "metadata": {},
   "outputs": [],
   "source": [
    "# Codifica la variable categórica nominal \"Region\" en variables dummy\n",
    "estrato_social_dummies = pd.get_dummies(base_filtrada['estrsocial'], prefix='estrsocial', drop_first=True)\n",
    "\n",
    "# Codifica la variable categórica ordinal \"Nivel_educativo\" en variables dummy\n",
    "#nivel_educativo_dummies = pd.get_dummies(base_filtrada['Nivel_educativo'], prefix='Nivel_educativo', drop_first=True)\n",
    "\n",
    "# Codifica la variable categórica nominal \"Region\" en variables dummy\n",
    "region_dummies = pd.get_dummies(base_filtrada['Region'], prefix='Region', drop_first=True)\n",
    "\n",
    "# Codifica la variable categórica nominal \"Region\" en variables dummy\n",
    "departamento_dummies= pd.get_dummies(base_filtrada['DEPARTAMENTO'], prefix='DEPARTAMENTO', drop_first=False)\n",
    "departamento_dummies = departamento_dummies.drop(columns=['DEPARTAMENTO_15'])\n",
    "\n",
    "# Combina las variables dummy con el conjunto de variables independientes\n",
    "X = pd.concat([X, region_dummies\n",
    "               , estrato_social_dummies\n",
    "               ,departamento_dummies\n",
    "              ], axis=1)"
   ]
  },
  {
   "cell_type": "code",
   "execution_count": null,
   "id": "50cf319e-c2d3-4638-98d8-22bd88f2a1cd",
   "metadata": {},
   "outputs": [],
   "source": [
    "X.head()"
   ]
  },
  {
   "cell_type": "code",
   "execution_count": null,
   "id": "743f44d8-1b1e-4c83-8f34-df64a5d54157",
   "metadata": {},
   "outputs": [],
   "source": [
    "#X[\"Nivel_educativo_2.0\"].value_counts(normalize=True)  #PRIMARIA\n",
    "#X[\"Nivel_educativo_3.0\"].value_counts(normalize=True) # SECUNDARIA"
   ]
  },
  {
   "cell_type": "markdown",
   "id": "6491e8a4-8137-49e3-884b-f10dec0b187c",
   "metadata": {},
   "source": [
    "## Regresión Lineal SIMPLE"
   ]
  },
  {
   "cell_type": "code",
   "execution_count": null,
   "id": "e9733904",
   "metadata": {},
   "outputs": [],
   "source": [
    "# Agregar una constante al conjunto de datos (intercepto)\n",
    "X = sm.add_constant(X)\n",
    "model_linear = sm.OLS(y, X,weights=weights)\n",
    "results_linear = model_linear.fit()\n",
    "print(results_linear.summary())"
   ]
  },
  {
   "cell_type": "markdown",
   "id": "74c72ff0-5291-4683-b588-c7647db4e2d2",
   "metadata": {},
   "source": [
    "## Modelo Probit"
   ]
  },
  {
   "cell_type": "code",
   "execution_count": null,
   "id": "7f4770d9",
   "metadata": {},
   "outputs": [],
   "source": [
    "model_probit = sm.Probit(y, X, weights=weights)\n",
    "results_probit = model_probit.fit()\n",
    "print(results_probit.summary())\n",
    "\n",
    "# Calcula los efectos marginales\n",
    "efectos_marginales = results_probit.get_margeff()\n",
    "\n",
    "# Abre un archivo LaTeX para escribir el output\n",
    "with open('efectos_marginales.tex', 'w') as f:\n",
    "    f.write(efectos_marginales.summary().as_latex())\n",
    "        \n",
    "print(efectos_marginales.summary())"
   ]
  },
  {
   "cell_type": "raw",
   "id": "af7e37ac-e800-49db-9cf9-bd9d0f0e52be",
   "metadata": {},
   "source": [
    "modelo_seleccion = sm.Probit(y, X).fit()\n",
    "\n",
    "# Calcular los residuos de la ecuación de selección\n",
    "residuos_seleccion = model_probit.predict(X) - y\n",
    "\n",
    "# Ecuación de resultado (probit)\n",
    "X_resultado = X\n",
    "y_resultado = y\n",
    "X_resultado['residuos_seleccion'] = residuos_seleccion\n",
    "modelo_resultado = sm.Probit(y_resultado, X_resultado).fit()"
   ]
  },
  {
   "cell_type": "code",
   "execution_count": null,
   "id": "1acc2184-1fe2-44bc-b120-3c26f055db10",
   "metadata": {},
   "outputs": [],
   "source": [
    "modelo_seleccion = sm.Probit(y, X).fit()\n",
    "\n",
    "# Calcular las probabilidades estimadas de pertenecer a la clase positiva\n",
    "probabilidades_seleccion = modelo_seleccion.predict(X)\n",
    "\n",
    "# Ecuación de resultado (probit)\n",
    "X_resultado = X\n",
    "y_resultado = y\n",
    "\n",
    "# Calcular los residuos de la ecuación de resultado\n",
    "residuos_resultado = y_resultado - probabilidades_seleccion\n",
    "\n",
    "# Agregar los residuos como una nueva columna\n",
    "X_resultado['residuos_seleccion'] = residuos_resultado\n",
    "\n",
    "# Estimar el modelo de resultado\n",
    "modelo_resultado = sm.Probit(y_resultado, X_resultado).fit()"
   ]
  },
  {
   "cell_type": "code",
   "execution_count": null,
   "id": "2e44d0b7-94be-4ce1-81ac-6fc914ce71b5",
   "metadata": {},
   "outputs": [],
   "source": [
    "#residuos_seleccion = model_probit.predict(X) - y"
   ]
  },
  {
   "cell_type": "markdown",
   "id": "ab187675-624f-447d-aeaf-48bb2188c0b7",
   "metadata": {},
   "source": [
    "## LOGIT"
   ]
  },
  {
   "cell_type": "raw",
   "id": "ecbb3877-2d24-47d0-90c2-920a88ea0eec",
   "metadata": {},
   "source": [
    "logit_model = Logit(y, X, weights=weights)\n",
    "results_logit = logit_model.fit()\n",
    "marginal_effects_logit = results_logit.get_margeff()\n",
    "\n",
    "# Imprimir los resultados de la regresión logística y los efectos marginales\n",
    "print(results_logit.summary())\n",
    "print(marginal_effects_logit.summary())"
   ]
  },
  {
   "cell_type": "raw",
   "id": "bf01ea4c-a156-49c2-8775-61ea5005caa9",
   "metadata": {},
   "source": [
    "logit_model_1 = Logit(y, X, weights=weights)\n",
    "results_logit_1 = logit_model_1.fit(cov_type='HC3', disp=0)  # Usar 'HC3' para errores robustos\n",
    "print(results_logit_1.summary())\n",
    "\n",
    "# Calcular efectos marginales\n",
    "marginal_effects_logit_1 = results_logit_1.get_margeff()\n",
    "print(marginal_effects_logit_1.summary())"
   ]
  },
  {
   "cell_type": "code",
   "execution_count": null,
   "id": "1c726f26-85d3-4002-b068-a338e17385b9",
   "metadata": {},
   "outputs": [],
   "source": []
  },
  {
   "cell_type": "raw",
   "id": "c6ea4707-18d9-4ecd-997a-a10d3de73afd",
   "metadata": {},
   "source": [
    "# Agregar una constante al conjunto de datos (intercepto) para la regresión lineal\n",
    "#X = sm.add_constant(X) ###\n",
    "\n",
    "# Ajustar el modelo de regresión lineal ponderado\n",
    "model_linear = sm.WLS(y, X, weights=weights)\n",
    "results_linear = model_linear.fit()\n",
    "\n",
    "# Realizar un modelo Probit ponderado\n",
    "model_probit = sm.Probit(y, X, weights=weights)\n",
    "results_probit = model_probit.fit()\n",
    "\n",
    "# Realizar un modelo Logit ponderado\n",
    "model_logit = sm.Logit(y, X, weights=weights)\n",
    "results_logit = model_logit.fit()\n",
    "\n",
    "# Comparar los resultados utilizando esttab\n",
    "from statsmodels.iolib.summary2 import summary_col\n",
    "\n",
    "results = summary_col([results_linear, results_probit, results_logit], stars=True)\n",
    "print(results)"
   ]
  },
  {
   "cell_type": "raw",
   "id": "6fce7a33-4c91-4b43-bd1f-f80c7a7b0f85",
   "metadata": {},
   "source": [
    "El error que estás viendo, LinAlgError: Singular matrix, indica que tu matriz en la regresión logística es singular, lo que significa que no es de rango completo. En términos simples, esto significa que existe una relación lineal exacta entre algunas de tus variables independientes, lo que hace que la matriz sea no invertible."
   ]
  },
  {
   "cell_type": "code",
   "execution_count": null,
   "id": "e43d5f88-62bf-4874-a60b-13d86e5fc246",
   "metadata": {},
   "outputs": [],
   "source": [
    "X.head()"
   ]
  },
  {
   "cell_type": "code",
   "execution_count": null,
   "id": "8b677c8b-f8cd-4ae4-ba69-05123e797050",
   "metadata": {},
   "outputs": [],
   "source": [
    "y.info()"
   ]
  },
  {
   "cell_type": "code",
   "execution_count": null,
   "id": "6c7da235-ea83-4a00-b175-cf297d27654b",
   "metadata": {},
   "outputs": [],
   "source": [
    "base_filtrada.shape"
   ]
  },
  {
   "cell_type": "code",
   "execution_count": null,
   "id": "37d75f4b-5b2d-4ccf-aded-5b42ba520e8a",
   "metadata": {},
   "outputs": [],
   "source": [
    "base_filtrada_aux.shape"
   ]
  },
  {
   "cell_type": "code",
   "execution_count": null,
   "id": "219815bd-1870-4de0-9097-67118df0dd09",
   "metadata": {},
   "outputs": [],
   "source": []
  }
 ],
 "metadata": {
  "kernelspec": {
   "display_name": "Python 3 (ipykernel)",
   "language": "python",
   "name": "python3"
  },
  "language_info": {
   "codemirror_mode": {
    "name": "ipython",
    "version": 3
   },
   "file_extension": ".py",
   "mimetype": "text/x-python",
   "name": "python",
   "nbconvert_exporter": "python",
   "pygments_lexer": "ipython3",
   "version": "3.9.13"
  },
  "toc-autonumbering": true,
  "toc-showcode": false,
  "toc-showmarkdowntxt": false
 },
 "nbformat": 4,
 "nbformat_minor": 5
}
