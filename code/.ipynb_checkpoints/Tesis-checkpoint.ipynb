{
 "cells": [
  {
   "cell_type": "markdown",
   "id": "85b16d18-7f03-4f1f-ac05-007b2244a654",
   "metadata": {
    "tags": []
   },
   "source": [
    "# Librerias"
   ]
  },
  {
   "cell_type": "code",
   "execution_count": 1,
   "id": "7244ff7e",
   "metadata": {},
   "outputs": [],
   "source": [
    "import os\n",
    "#import seaborn as sns\n",
    "import pandas as pd\n",
    "import warnings\n",
    "import statsmodels.api as sm\n",
    "from tabulate import tabulate\n",
    "import matplotlib.patches as patches\n",
    "import samplics\n",
    "#import numpy as np\n",
    "from statsmodels.discrete.discrete_model import Logit\n",
    "import statsmodels.formula.api as smf\n",
    "\n",
    "warnings.filterwarnings(\"ignore\", category=FutureWarning)\n",
    "from utils import *"
   ]
  },
  {
   "cell_type": "markdown",
   "id": "e06259cd-5d23-4779-bb59-769d91dac83e",
   "metadata": {
    "tags": []
   },
   "source": [
    "# Modulos"
   ]
  },
  {
   "cell_type": "code",
   "execution_count": 20,
   "id": "b5d4e3c3-7c05-403e-a836-78ed039dacea",
   "metadata": {},
   "outputs": [],
   "source": [
    "modulo_hogar = pd.read_stata(\"../input/enaho01-2020-100.dta\", convert_categoricals=False)\n",
    "columnas_interes = ['conglome','vivienda','hogar','ubigeo','p1121','p1142','p1143','p1144']\n",
    "modulo_hogar = modulo_hogar[columnas_interes]\n",
    "\n",
    "# Variables de interés: Parentesco Sexo y Edad\n",
    "modulo_miembros = pd.read_stata(\"../input/enaho01-2020-200.dta\", convert_categoricals=False)\n",
    "columnas_interes_miembros = ['conglome','vivienda','hogar','ubigeo','codperso',\"p203\",\"p207\",'p208a','p204','p206']\n",
    "modulo_miembros = modulo_miembros[columnas_interes_miembros]\n",
    "\n",
    "# Variables de interés\n",
    "modulo_educa = pd.read_stata(\"../input/enaho01a-2020-300.dta\", convert_categoricals=False)"
   ]
  },
  {
   "cell_type": "code",
   "execution_count": 38,
   "id": "f37d01b8-bdb9-481d-8518-1853bd46fcce",
   "metadata": {},
   "outputs": [
    {
     "data": {
      "text/plain": [
       "0.0    119299\n",
       "1.0      3695\n",
       "Name: p204, dtype: int64"
      ]
     },
     "execution_count": 38,
     "metadata": {},
     "output_type": "execute_result"
    }
   ],
   "source": [
    "modulo_miembros.p204.value_counts()"
   ]
  },
  {
   "cell_type": "code",
   "execution_count": 21,
   "id": "e7b700d1",
   "metadata": {},
   "outputs": [],
   "source": [
    "\n",
    "columnas_interes_educa = ['conglome','vivienda','hogar','codperso','ubigeo','dominio','estrato',\"p300a\",\"p301a\",\"p301b\",\"p301c\",\"p304a\",\"p304b\", \n",
    "    \"p307a1\",\"p307a2\",\"p307a3\",\"p307a4\",\"p307a4_5\",\"p307a4_6\",\"p307a4_7\",\"p307b1\",\"p307b2\",\"p307b3\",\"p307b4\",\"p307b4_5\",\"p307b4_6\",\"p307b4_7\",\n",
    "    \"p308a\",\"p308b\",\"p308c\",\"p308d\",\n",
    "    \"p314a\",\"p314b_1\",\"p314b_2\",\"p314b_3\",\"p314b_4\",\"p314b_5\",\"p314b_6\",\"p314b_7\",\"p314b1_1\",\"p314b1_2\",\"p314b1_8\",\"p314b1_9\",\"p314b1_6\",\"p314b1_7\",\"p314d\",   \n",
    "    \"p316_1\",\"p316_2\", \"p316_3\",\"p316_4\",\"p316_5\",\"p316_6\",\"p316_7\",\"p316_8\",\"p316_12\",\n",
    "    \"p316a1\",\"p316b\",\n",
    "     \"t313a\", \"factor07\"]\n",
    "modulo_educa = modulo_educa[columnas_interes_educa]\n",
    "\n",
    "sumaria = pd.read_stata(\"../input/sumaria-2020.dta\", convert_categoricals=False)\n",
    "columnas_interes_sumaria = ['conglome', 'vivienda', 'hogar','ubigeo','estrsocial','mieperho','totmieho']\n",
    "sumaria = sumaria[columnas_interes_sumaria]"
   ]
  },
  {
   "cell_type": "code",
   "execution_count": 22,
   "id": "d164fd15-c8d0-4f15-b2b1-2e8256361f45",
   "metadata": {},
   "outputs": [
    {
     "data": {
      "text/plain": [
       "(53423, 8)"
      ]
     },
     "execution_count": 22,
     "metadata": {},
     "output_type": "execute_result"
    }
   ],
   "source": [
    "modulo_hogar.shape"
   ]
  },
  {
   "cell_type": "code",
   "execution_count": 23,
   "id": "d55a20a6-bf08-4dfd-aa64-625be1fef52e",
   "metadata": {},
   "outputs": [
    {
     "data": {
      "text/plain": [
       "(126831, 10)"
      ]
     },
     "execution_count": 23,
     "metadata": {},
     "output_type": "execute_result"
    }
   ],
   "source": [
    "modulo_miembros.shape"
   ]
  },
  {
   "cell_type": "code",
   "execution_count": 24,
   "id": "1af643f8-ae59-4aa4-90a5-ef780b8d79d5",
   "metadata": {},
   "outputs": [
    {
     "data": {
      "text/plain": [
       "(115777, 59)"
      ]
     },
     "execution_count": 24,
     "metadata": {},
     "output_type": "execute_result"
    }
   ],
   "source": [
    "modulo_educa.shape"
   ]
  },
  {
   "cell_type": "code",
   "execution_count": 25,
   "id": "96a954f0-7a31-4ffe-9e1b-df4d6a6c68a5",
   "metadata": {},
   "outputs": [
    {
     "data": {
      "text/plain": [
       "(34490, 7)"
      ]
     },
     "execution_count": 25,
     "metadata": {},
     "output_type": "execute_result"
    }
   ],
   "source": [
    "sumaria.shape"
   ]
  },
  {
   "cell_type": "markdown",
   "id": "b0f9992e-02eb-4530-b2a4-ffe92becbb10",
   "metadata": {},
   "source": [
    "## Merge"
   ]
  },
  {
   "cell_type": "code",
   "execution_count": 26,
   "id": "d33b6f8f",
   "metadata": {},
   "outputs": [],
   "source": [
    "# Realizar el merge version final 2\n",
    "# Primero, unir modulo_hogar y modulo_miembros usando las columnas comunes\n",
    "merged_data1 = pd.merge(modulo_educa, modulo_miembros, on=['conglome', 'vivienda', 'hogar', 'ubigeo','codperso'], how='inner')\n",
    "\n",
    "# Luego, unir el resultado anterior con modulo_educa\n",
    "merged_data2 = pd.merge(sumaria, modulo_hogar, on=['conglome', 'vivienda', 'hogar', 'ubigeo'], how='inner')\n",
    "\n",
    "# Finalmente, unir el resultado anterior con sumaria\n",
    "merged_data = pd.merge(merged_data1, merged_data2, on=['conglome', 'vivienda', 'hogar', 'ubigeo'], how='left')"
   ]
  },
  {
   "cell_type": "code",
   "execution_count": 27,
   "id": "548307e4-86db-47c7-80e8-fabc1296272d",
   "metadata": {},
   "outputs": [],
   "source": [
    "##merged_data1.to_excel('mi_dataframe.xlsx', index=False)"
   ]
  },
  {
   "cell_type": "code",
   "execution_count": 28,
   "id": "c889efe1-b702-4360-ac6e-db4741c832f9",
   "metadata": {},
   "outputs": [
    {
     "data": {
      "text/plain": [
       "(34490, 11)"
      ]
     },
     "execution_count": 28,
     "metadata": {},
     "output_type": "execute_result"
    }
   ],
   "source": [
    "merged_data2.shape"
   ]
  },
  {
   "cell_type": "code",
   "execution_count": 29,
   "id": "f77110ef",
   "metadata": {},
   "outputs": [
    {
     "name": "stdout",
     "output_type": "stream",
     "text": [
      "(115777, 71)\n"
     ]
    }
   ],
   "source": [
    "print(merged_data.shape)"
   ]
  },
  {
   "cell_type": "code",
   "execution_count": 30,
   "id": "5d5d65ef",
   "metadata": {},
   "outputs": [
    {
     "name": "stdout",
     "output_type": "stream",
     "text": [
      "Index(['conglome', 'vivienda', 'hogar', 'codperso', 'ubigeo', 'dominio',\n",
      "       'estrato', 'p300a', 'p301a', 'p301b', 'p301c', 'p304a', 'p304b',\n",
      "       'p307a1', 'p307a2', 'p307a3', 'p307a4', 'p307a4_5', 'p307a4_6',\n",
      "       'p307a4_7', 'p307b1', 'p307b2', 'p307b3', 'p307b4', 'p307b4_5',\n",
      "       'p307b4_6', 'p307b4_7', 'p308a', 'p308b', 'p308c', 'p308d', 'p314a',\n",
      "       'p314b_1', 'p314b_2', 'p314b_3', 'p314b_4', 'p314b_5', 'p314b_6',\n",
      "       'p314b_7', 'p314b1_1', 'p314b1_2', 'p314b1_8', 'p314b1_9', 'p314b1_6',\n",
      "       'p314b1_7', 'p314d', 'p316_1', 'p316_2', 'p316_3', 'p316_4', 'p316_5',\n",
      "       'p316_6', 'p316_7', 'p316_8', 'p316_12', 'p316a1', 'p316b', 't313a',\n",
      "       'factor07', 'p203', 'p207', 'p208a', 'p204', 'p206', 'estrsocial',\n",
      "       'mieperho', 'totmieho', 'p1121', 'p1142', 'p1143', 'p1144'],\n",
      "      dtype='object')\n"
     ]
    }
   ],
   "source": [
    "print(merged_data.columns)"
   ]
  },
  {
   "cell_type": "markdown",
   "id": "3f6f72ac-29c5-4dbc-b327-f196a8533f89",
   "metadata": {
    "tags": []
   },
   "source": [
    "# Variables - TRATAMIENTO"
   ]
  },
  {
   "cell_type": "markdown",
   "id": "bb143ee5-5baf-4e6d-ab83-5c4d595244b7",
   "metadata": {
    "tags": []
   },
   "source": [
    "### Departamento / Años de escolaridad"
   ]
  },
  {
   "cell_type": "code",
   "execution_count": 40,
   "id": "b2007026-2c85-4b5f-868c-e3f9c45cc456",
   "metadata": {},
   "outputs": [],
   "source": [
    "merged_data[\"DEPARTAMENTO\"] = merged_data[\"ubigeo\"].astype(str).str[:2]\n",
    "merged_data[\"DEPARTAMENTO\"] = pd.to_numeric(merged_data[\"DEPARTAMENTO\"], errors=\"coerce\")\n",
    "#dict_departamento = {\n",
    "#    1: \"Amazonas\", 2: \"Ancash\", 3: \"Apurímac\", 4: \"Arequipa\", 5: \"Ayacucho\", 6: \"Cajamarca\", 7: \"Callao\", 8: \"Cusco\",\n",
    "#    9: \"Huancavelica\", 10: \"Huánuco\", 11: \"Ica\", 12: \"Junín\", 13: \"La Libertad\", 14: \"Lambayeque\", 15: \"Lima\",\n",
    "#    16: \"Loreto\", 17: \"Madre de Dios\", 18: \"Moquegua\", 19: \"Pasco\", 20: \"Piura\", 21: \"Puno\", 22: \"San Martín\", \n",
    "#    23: \"Tacna\", 24: \"Tumbes\", 25: \"Ucayali\"\n",
    "#}"
   ]
  },
  {
   "cell_type": "code",
   "execution_count": 41,
   "id": "534db7fd-014e-4cac-a004-8e438e4b208e",
   "metadata": {},
   "outputs": [],
   "source": [
    "# Generate X5=p301b\n",
    "merged_data['X5'] = merged_data['p301b']\n",
    "\n",
    "# Replace X5=0 if p301a==1 or p301a==2\n",
    "merged_data.loc[(merged_data['p301a'] == 1) | (merged_data['p301a'] == 2), 'X5'] = 0\n",
    "\n",
    "# Recode X5 based on conditions\n",
    "merged_data.loc[merged_data['p301a'] == 3, 'X5'] = merged_data['X5'].map({1: 1, 2: 2, 3: 3, 4: 4})\n",
    "merged_data.loc[merged_data['p301a'] == 4, 'X5'] = merged_data['X5'].map({5: 5, 6: 6})\n",
    "merged_data.loc[merged_data['p301a'] == 5, 'X5'] = merged_data['X5'].map({1: 7, 2: 8, 3: 9, 4: 10})\n",
    "merged_data.loc[merged_data['p301a'] == 6, 'X5'] = merged_data['X5'].map({5: 11, 6: 12})\n",
    "merged_data.loc[merged_data['p301a'] == 7, 'X5'] = merged_data['X5'].map({1: 12, 2: 13, 3: 14, 4: 15})\n",
    "merged_data.loc[merged_data['p301a'] == 8, 'X5'] = merged_data['X5'].map({3: 14, 4: 15, 5: 16})\n",
    "merged_data.loc[merged_data['p301a'] == 9, 'X5'] = merged_data['X5'].map({1: 12, 2: 13, 3: 14, 4: 15, 5: 16, 6: 17})\n",
    "merged_data.loc[merged_data['p301a'] == 10, 'X5'] = merged_data['X5'].map({4: 15, 5: 16, 6: 17, 7: 18})\n",
    "\n",
    "# Save _p301c in a new column\n",
    "merged_data['_p301c'] = merged_data['p301c']\n",
    "\n",
    "# Recode _p301c (0=1)\n",
    "merged_data.loc[merged_data['_p301c'] == 0, '_p301c'] = 1\n",
    "\n",
    "# Replace X5 with _p301c under specified conditions\n",
    "merged_data.loc[(merged_data['p301b'] == 0) & (merged_data['p301a'] != 2), 'X5'] = merged_data['_p301c']"
   ]
  },
  {
   "cell_type": "markdown",
   "id": "63bda6e5-6155-4931-b85d-49fc1f854c7d",
   "metadata": {},
   "source": [
    "### Area / Idioma / Región"
   ]
  },
  {
   "cell_type": "code",
   "execution_count": 42,
   "id": "08ee393e",
   "metadata": {},
   "outputs": [],
   "source": [
    "# Recodificar la variable \"estrato\" para crear la variable \"area\"\n",
    "merged_data[\"Area\"] = merged_data[\"estrato\"].apply(lambda x: 1 if 1 <= x <= 5 else 0) #{1: \"Urbano\", 0: \"Rural\"}\n",
    "\n",
    "# IDIOMA \n",
    "merged_data[\"Idioma\"] = merged_data[\"p300a\"].apply(lambda x: 1 if 4 == x  else 0)   # {1: \"Castellano\", 0: \"Otros\"}\n",
    "#1 Quechua 2 Aimara 3 Otra lengua nativa 4 Castellano 6 Portugués 7 Otra lengua extranjera \n",
    "# 8 No escucha/no habla9 Lengua de señas peruanas 10 Ashaninka 11 Awajun/Aguaruna 12 Shipibo-Konibo \n",
    "# 13 Shawi/Chayahuita 14 Matsigenka/Machiguenga 15 Achuar\n",
    "\n",
    "# Recodificar la variable \"dominio\" para crear la variable \"region\"\n",
    "#dict_region = { 1:\"Costa\", 2:\"Costa\", 3: \"Costa\", 4:\"Sierra\", 5:\"Sierra\", 6:\"Sierra\", 7:\"Selva\", 8: \"Lima Metropolitana\"}\n",
    "dict_region = { 1:1, 2:1, 3: 1, 4:2, 5:2, 6:2, 7:3, 8: 1}\n",
    "merged_data[\"Region\"] = merged_data[\"dominio\"].map(dict_region)"
   ]
  },
  {
   "cell_type": "code",
   "execution_count": 43,
   "id": "d975765c",
   "metadata": {},
   "outputs": [
    {
     "name": "stdout",
     "output_type": "stream",
     "text": [
      "Index(['conglome', 'vivienda', 'hogar', 'codperso', 'ubigeo', 'dominio',\n",
      "       'estrato', 'p300a', 'p301a', 'p301b', 'p301c', 'p304a', 'p304b',\n",
      "       'cl_medio_tv', 'cl_medio_radio', 'cl_medio_plataforma_virtual',\n",
      "       'cl_medio_otro', 'cl_medio_wsp', 'cl_medio_correo', 'cl_medio_llamadas',\n",
      "       'cl_desarrollo_interaccion', 'cl_desarrollo_videos',\n",
      "       'cl_desarrollo_documentos', 'cl_desarrollo_otros',\n",
      "       'cl_desarrollo_msm_audio', 'cl_desarrollo_msm_texto',\n",
      "       'cl_desarrollo_sin_acompañamiento', 'Nivel_educativo', 'p308b', 'p308c',\n",
      "       'Centro_estudios', 'i_uso', 'i_uso_hog', 'i_uso_trab', 'i_uso_cedu',\n",
      "       'i_uso_cab', 'i_uso_casotr', 'i_uso_otro', 'i_uso_movil',\n",
      "       'i_computadora', 'i_laptop', 'i_cel_sdatos', 'i_cel_cdatos', 'i_tablet',\n",
      "       'i_otro', 'p314d', 'i_obtener_info', 'i_comunicarse',\n",
      "       'i_comprar_pdts_ss', 'i_operaciones_bancarias', 'i_edu_formal',\n",
      "       'i_transacciones', 'i_act_entretenimiento', 'i_vender_pdts',\n",
      "       'i_descarga_antivirus', 'cel_uso', 'uso_cp_lp', 't313a', 'factor07',\n",
      "       'parentesco', 'Sexo', 'Edad', 'p204', 'p206', 'estrsocial', 'mieperho',\n",
      "       'totmieho', 'Electricidad', 'cel_hog', 'conexion_cable_hog',\n",
      "       'i_conexion_hog', 'DEPARTAMENTO', 'años_escolaridad', '_p301c', 'Area',\n",
      "       'Idioma', 'Region', 'X5'],\n",
      "      dtype='object')\n"
     ]
    }
   ],
   "source": [
    "print(merged_data.columns)"
   ]
  },
  {
   "cell_type": "markdown",
   "id": "52581bb3-b8dd-4d60-9fe4-c0da3aeb73ab",
   "metadata": {},
   "source": [
    "## Renombrar variables"
   ]
  },
  {
   "cell_type": "code",
   "execution_count": 44,
   "id": "7ffb76b5",
   "metadata": {},
   "outputs": [],
   "source": [
    "# Rename columns\n",
    "new_column_names = {'p308a': 'Nivel_educativo', 'p308d': 'Centro_estudios','p207': 'Sexo', 'p208a':\"Edad\",'p1121':'Electricidad',\n",
    "                    'p1143':'conexion_cable_hog', \"p1144\":\"i_conexion_hog\", \"p1142\":\"cel_hog\",\"p203\":\"parentesco\",\"X5\":\"años_escolaridad\",\n",
    "#medios_clase\n",
    "\"p307a1\":\"cl_medio_tv\",\"p307a2\":\"cl_medio_radio\", \"p307a3\":\"cl_medio_plataforma_virtual\",   \n",
    "\"p307a4\":\"cl_medio_otro\",\n",
    "\"p307a4_5\":\"cl_medio_wsp\",\"p307a4_6\":\"cl_medio_correo\",\"p307a4_7\":\"cl_medio_llamadas\",\n",
    "#desarollo_clases                   \n",
    "\"p307b1\":\"cl_desarrollo_interaccion\", \"p307b2\":\"cl_desarrollo_videos\",\"p307b3\":\"cl_desarrollo_documentos\", \"p307b4\":\"cl_desarrollo_otros\",\n",
    "\"p307b4_5\":\"cl_desarrollo_msm_audio\", \"p307b4_6\": \"cl_desarrollo_msm_texto\", \"p307b4_7\":\"cl_desarrollo_sin_acompañamiento\",\n",
    "                    \n",
    "'p314a': 'i_uso','p314b_1':'i_uso_hog', 'p314b_2':'i_uso_trab', 'p314b_3':'i_uso_cedu','p314b_4':'i_uso_cab','p314b_5':'i_uso_casotr',\n",
    "'p314b_6':'i_uso_otro','p314b_7':'i_uso_movil','p314b1_1':'i_computadora','p314b1_2':'i_laptop','p314b1_5':'i_cel_trab','p314b1_6':'i_tablet',\n",
    "'p314b1_7':'i_otro','p314b1_8': 'i_cel_sdatos', 'p314b1_9': 'i_cel_cdatos',   \n",
    "                    'p316b':'uso_cp_lp',\n",
    "'p316a1':'cel_uso', 'p316_1':'i_obtener_info', 'p316_2':'i_comunicarse', 'p316_3':'i_comprar_pdts_ss', 'p316_4':'i_operaciones_bancarias', \n",
    "'p316_5':'i_edu_formal','p316_6':'i_transacciones','p316_7':'i_act_entretenimiento','p316_8':'i_vender_pdts','p316_12':'i_descarga_antivirus',\n",
    "}\n",
    "\n",
    "merged_data.rename(columns=new_column_names, inplace=True)"
   ]
  },
  {
   "cell_type": "code",
   "execution_count": 45,
   "id": "ecadd65b-2baa-4553-b62b-67516583980c",
   "metadata": {},
   "outputs": [
    {
     "data": {
      "text/plain": [
       "0.0    114819\n",
       "1.0       958\n",
       "Name: p204, dtype: int64"
      ]
     },
     "execution_count": 45,
     "metadata": {},
     "output_type": "execute_result"
    }
   ],
   "source": [
    "merged_data.p204.value_counts()"
   ]
  },
  {
   "cell_type": "code",
   "execution_count": 46,
   "id": "9e80eba7-19f7-4b43-b372-05214c0b4bdb",
   "metadata": {},
   "outputs": [
    {
     "data": {
      "text/plain": [
       "0.0    958\n",
       "Name: p206, dtype: int64"
      ]
     },
     "execution_count": 46,
     "metadata": {},
     "output_type": "execute_result"
    }
   ],
   "source": [
    "merged_data.p206.value_counts()"
   ]
  },
  {
   "cell_type": "markdown",
   "id": "91a3b1e6-989f-4e5c-af7c-394f08b30f2b",
   "metadata": {},
   "source": [
    "## Filtrar variables"
   ]
  },
  {
   "cell_type": "code",
   "execution_count": 47,
   "id": "12bedc0e-1b9a-4470-a788-8340e02f1991",
   "metadata": {},
   "outputs": [],
   "source": [
    "# Filtrar las filas donde \"P208A\" es menor que 18\n",
    "#base_filtrada = base_filtrada[base_filtrada[\"Edad\"] <= 18] # 09.10.2023\n",
    "base_filtrada = merged_data[(merged_data[\"Edad\"] <= 18) & (merged_data[\"Edad\"] >= 6)] # 01.11.2023\n",
    "#base_filtrada = merged_data[(merged_data[\"Edad\"] == 18)]"
   ]
  },
  {
   "cell_type": "code",
   "execution_count": 48,
   "id": "94c03c14",
   "metadata": {},
   "outputs": [],
   "source": [
    "# Filtrar el DataFrame para incluir solo las filas con valores 1, 2 o 3 en la columna \"P308A\"\n",
    "#base_filtrada = merged_data[merged_data[\"Nivel_educativo\"].isin([1, 2, 3])] # 09.10.2023\n",
    "base_filtrada = base_filtrada [base_filtrada[\"Nivel_educativo\"].isin([2, 3])]  # 11.10.2023 ###\n",
    "base_filtrada[\"Edad\"] = pd.to_numeric(base_filtrada[\"Edad\"], errors=\"coerce\")"
   ]
  },
  {
   "cell_type": "code",
   "execution_count": 49,
   "id": "b8f6813a-97a1-4882-a48c-92d6f30591a5",
   "metadata": {},
   "outputs": [
    {
     "data": {
      "text/plain": [
       "Index(['conglome', 'vivienda', 'hogar', 'codperso', 'ubigeo', 'dominio',\n",
       "       'estrato', 'p300a', 'p301a', 'p301b', 'p301c', 'p304a', 'p304b',\n",
       "       'cl_medio_tv', 'cl_medio_radio', 'cl_medio_plataforma_virtual',\n",
       "       'cl_medio_otro', 'cl_medio_wsp', 'cl_medio_correo', 'cl_medio_llamadas',\n",
       "       'cl_desarrollo_interaccion', 'cl_desarrollo_videos',\n",
       "       'cl_desarrollo_documentos', 'cl_desarrollo_otros',\n",
       "       'cl_desarrollo_msm_audio', 'cl_desarrollo_msm_texto',\n",
       "       'cl_desarrollo_sin_acompañamiento', 'Nivel_educativo', 'p308b', 'p308c',\n",
       "       'Centro_estudios', 'i_uso', 'i_uso_hog', 'i_uso_trab', 'i_uso_cedu',\n",
       "       'i_uso_cab', 'i_uso_casotr', 'i_uso_otro', 'i_uso_movil',\n",
       "       'i_computadora', 'i_laptop', 'i_cel_sdatos', 'i_cel_cdatos', 'i_tablet',\n",
       "       'i_otro', 'p314d', 'i_obtener_info', 'i_comunicarse',\n",
       "       'i_comprar_pdts_ss', 'i_operaciones_bancarias', 'i_edu_formal',\n",
       "       'i_transacciones', 'i_act_entretenimiento', 'i_vender_pdts',\n",
       "       'i_descarga_antivirus', 'cel_uso', 'uso_cp_lp', 't313a', 'factor07',\n",
       "       'parentesco', 'Sexo', 'Edad', 'p204', 'p206', 'estrsocial', 'mieperho',\n",
       "       'totmieho', 'Electricidad', 'cel_hog', 'conexion_cable_hog',\n",
       "       'i_conexion_hog', 'DEPARTAMENTO', 'años_escolaridad', '_p301c', 'Area',\n",
       "       'Idioma', 'Region', 'años_escolaridad'],\n",
       "      dtype='object')"
      ]
     },
     "execution_count": 49,
     "metadata": {},
     "output_type": "execute_result"
    }
   ],
   "source": [
    "base_filtrada.columns"
   ]
  },
  {
   "cell_type": "code",
   "execution_count": 50,
   "id": "5056f5c5-6b5a-4ebc-a0aa-aea7582152e2",
   "metadata": {},
   "outputs": [],
   "source": [
    "base_filtrada = base_filtrada.copy()\n",
    "base_filtrada['uso_cp_lp'] = base_filtrada['uso_cp_lp'].map({2: 0, 1: 1})"
   ]
  },
  {
   "cell_type": "code",
   "execution_count": 51,
   "id": "5fe2700a-0611-4c38-b9f9-5afee9905f85",
   "metadata": {},
   "outputs": [],
   "source": [
    "base_filtrada['Centro_estudios'] = base_filtrada['Centro_estudios'].map({2: 0, 1: 1})"
   ]
  },
  {
   "cell_type": "code",
   "execution_count": 52,
   "id": "92209712-8a65-4031-9d9b-b4225ba739e7",
   "metadata": {},
   "outputs": [],
   "source": [
    "base_filtrada['i_uso']        = base_filtrada['i_uso'].map({2: 0, 1: 1})\n",
    "base_filtrada['i_uso_cedu']   = base_filtrada['i_uso_cedu'].map({0: 0, 3: 1})\n",
    "base_filtrada['i_uso_trab']   = base_filtrada['i_uso_trab'].map({0: 0, 2: 1})\n",
    "base_filtrada['i_uso_hog']    = base_filtrada['i_uso_hog'].map({0: 0, 1: 1})\n",
    "base_filtrada['i_uso_cab']    = base_filtrada['i_uso_cab'].map({0: 0, 4: 1})\n",
    "base_filtrada['i_uso_casotr'] = base_filtrada['i_uso_casotr'].map({0: 0, 5: 1})\n",
    "base_filtrada['i_uso_otro']   = base_filtrada['i_uso_otro'].map({0: 0, 6: 1})\n",
    "base_filtrada['i_uso_movil']  = base_filtrada['i_uso_movil'].map({0: 0, 7: 1})"
   ]
  },
  {
   "cell_type": "code",
   "execution_count": 53,
   "id": "983da2a0-9090-42e0-a1b0-9d3adf44ff39",
   "metadata": {},
   "outputs": [],
   "source": [
    "base_filtrada['i_computadora'] = base_filtrada['i_computadora'].map({0: 0, 1: 1})\n",
    "base_filtrada['i_tablet']      = base_filtrada['i_tablet'].map({0: 0, 6: 1})\n",
    "base_filtrada['i_laptop']      = base_filtrada['i_laptop'].map({0: 0, 2: 1})\n",
    "base_filtrada['i_otro']        = base_filtrada['i_otro'].map({0: 0, 7: 1})\n",
    "base_filtrada['i_cel_sdatos']  = base_filtrada['i_cel_sdatos'].map({0: 0, 8: 1})\n",
    "base_filtrada['i_cel_cdatos']  = base_filtrada['i_cel_cdatos'].map({0: 0, 9: 1})"
   ]
  },
  {
   "cell_type": "code",
   "execution_count": 54,
   "id": "85aef238-dce6-4178-8700-4116d1ce4288",
   "metadata": {},
   "outputs": [],
   "source": [
    "base_filtrada['cl_medio_tv']       = base_filtrada['cl_medio_tv'].map({0: 0, 1: 1})\n",
    "base_filtrada['cl_medio_radio']    = base_filtrada['cl_medio_radio'].map({0: 0, 2: 1})\n",
    "base_filtrada['cl_medio_plataforma_virtual'] = base_filtrada['cl_medio_plataforma_virtual'].map({0: 0, 3: 1})\n",
    "base_filtrada['cl_medio_otro']     = base_filtrada['cl_medio_otro'].map({0: 0, 4: 1})\n",
    "base_filtrada['cl_medio_wsp']      = base_filtrada['cl_medio_wsp'].map({0: 0, 5: 1})\n",
    "base_filtrada['cl_medio_correo']   = base_filtrada['cl_medio_correo'].map({0: 0, 6: 1})\n",
    "base_filtrada['cl_medio_llamadas'] = base_filtrada['cl_medio_llamadas'].map({0: 0, 7: 1})"
   ]
  },
  {
   "cell_type": "code",
   "execution_count": 55,
   "id": "ee9c887c-552d-4f8d-a644-0e9f24a5bd89",
   "metadata": {},
   "outputs": [],
   "source": [
    "base_filtrada['cl_desarrollo_interaccion'] = base_filtrada['cl_desarrollo_interaccion'].map({0: 0, 1: 1})\n",
    "base_filtrada['cl_desarrollo_videos']             = base_filtrada['cl_desarrollo_videos'].map({0: 0, 2: 1})\n",
    "base_filtrada['cl_desarrollo_documentos']         = base_filtrada['cl_desarrollo_documentos'].map({0: 0, 3: 1})\n",
    "base_filtrada['cl_desarrollo_otros']              = base_filtrada['cl_desarrollo_otros'].map({0: 0, 4: 1})\n",
    "base_filtrada['cl_desarrollo_msm_audio']          = base_filtrada['cl_desarrollo_msm_audio'].map({0: 0, 5: 1})\n",
    "base_filtrada['cl_desarrollo_msm_texto']          = base_filtrada['cl_desarrollo_msm_texto'].map({0: 0, 6: 1})\n",
    "base_filtrada['cl_desarrollo_sin_acompañamiento'] = base_filtrada['cl_desarrollo_sin_acompañamiento'].map({0: 0, 7: 1})"
   ]
  },
  {
   "cell_type": "code",
   "execution_count": 56,
   "id": "5497bc5c-f05f-4a5e-81c0-53d48ac55a25",
   "metadata": {},
   "outputs": [],
   "source": [
    "base_filtrada['i_obtener_info']    = base_filtrada['i_obtener_info'].map({2: 0, 1: 1})\n",
    "base_filtrada['i_comunicarse']     = base_filtrada['i_comunicarse'].map({2: 0, 1: 1})\n",
    "base_filtrada['i_comprar_pdts_ss'] = base_filtrada['i_comprar_pdts_ss'].map({2: 0, 1: 1})\n",
    "base_filtrada['i_operaciones_bancarias'] = base_filtrada['i_operaciones_bancarias'].map({2: 0, 1: 1})\n",
    "base_filtrada['i_edu_formal']      = base_filtrada['i_edu_formal'].map({2: 0, 1: 1})\n",
    "base_filtrada['i_transacciones']   = base_filtrada['i_transacciones'].map({2: 0, 1: 1})\n",
    "base_filtrada['i_act_entretenimiento'] = base_filtrada['i_act_entretenimiento'].map({2: 0, 1: 1})\n",
    "base_filtrada['i_vender_pdts']         = base_filtrada['i_vender_pdts'].map({2: 0, 1: 1})  #8\n",
    "base_filtrada['i_descarga_antivirus']  = base_filtrada['i_descarga_antivirus'].map({2: 0, 1: 1})   #12"
   ]
  },
  {
   "cell_type": "markdown",
   "id": "d86cf0ec-5ab6-4c9e-b1bc-b1bb49d48d49",
   "metadata": {},
   "source": [
    "## Valores Nulos"
   ]
  },
  {
   "cell_type": "code",
   "execution_count": 57,
   "id": "1bad7c57-2d31-4ae5-8264-44f325a907dc",
   "metadata": {},
   "outputs": [],
   "source": [
    "base_filtrada = base_filtrada.drop(['p301a','p301b', '_p301c', 'p301c'], axis=1)"
   ]
  },
  {
   "cell_type": "code",
   "execution_count": 58,
   "id": "a230df64-4cd9-4251-80b9-20de9780ba3e",
   "metadata": {},
   "outputs": [
    {
     "data": {
      "text/plain": [
       "(22401, 74)"
      ]
     },
     "execution_count": 58,
     "metadata": {},
     "output_type": "execute_result"
    }
   ],
   "source": [
    "base_filtrada.shape"
   ]
  },
  {
   "cell_type": "code",
   "execution_count": 59,
   "id": "b82fd4ac-be1f-4a9b-8579-d41092dfcbd1",
   "metadata": {},
   "outputs": [
    {
     "name": "stdout",
     "output_type": "stream",
     "text": [
      "<class 'pandas.core.frame.DataFrame'>\n",
      "Int64Index: 22401 entries, 8 to 115775\n",
      "Data columns (total 74 columns):\n",
      " #   Column                            Non-Null Count  Dtype  \n",
      "---  ------                            --------------  -----  \n",
      " 0   conglome                          22401 non-null  object \n",
      " 1   vivienda                          22401 non-null  object \n",
      " 2   hogar                             22401 non-null  object \n",
      " 3   codperso                          22401 non-null  object \n",
      " 4   ubigeo                            22401 non-null  object \n",
      " 5   dominio                           22401 non-null  int8   \n",
      " 6   estrato                           22401 non-null  int8   \n",
      " 7   p300a                             22401 non-null  float64\n",
      " 8   p304a                             8956 non-null   float64\n",
      " 9   p304b                             8956 non-null   float64\n",
      " 10  cl_medio_tv                       19509 non-null  float64\n",
      " 11  cl_medio_radio                    19509 non-null  float64\n",
      " 12  cl_medio_plataforma_virtual       19509 non-null  float64\n",
      " 13  cl_medio_otro                     19509 non-null  float64\n",
      " 14  cl_medio_wsp                      19509 non-null  float64\n",
      " 15  cl_medio_correo                   19509 non-null  float64\n",
      " 16  cl_medio_llamadas                 19509 non-null  float64\n",
      " 17  cl_desarrollo_interaccion         19509 non-null  float64\n",
      " 18  cl_desarrollo_videos              19509 non-null  float64\n",
      " 19  cl_desarrollo_documentos          19509 non-null  float64\n",
      " 20  cl_desarrollo_otros               19509 non-null  float64\n",
      " 21  cl_desarrollo_msm_audio           19509 non-null  float64\n",
      " 22  cl_desarrollo_msm_texto           19509 non-null  float64\n",
      " 23  cl_desarrollo_sin_acompañamiento  19509 non-null  float64\n",
      " 24  Nivel_educativo                   22401 non-null  float64\n",
      " 25  p308b                             22401 non-null  float64\n",
      " 26  p308c                             12340 non-null  float64\n",
      " 27  Centro_estudios                   22401 non-null  int64  \n",
      " 28  i_uso                             22401 non-null  int64  \n",
      " 29  i_uso_hog                         6083 non-null   float64\n",
      " 30  i_uso_trab                        6083 non-null   float64\n",
      " 31  i_uso_cedu                        6083 non-null   float64\n",
      " 32  i_uso_cab                         6083 non-null   float64\n",
      " 33  i_uso_casotr                      6083 non-null   float64\n",
      " 34  i_uso_otro                        6083 non-null   float64\n",
      " 35  i_uso_movil                       6083 non-null   float64\n",
      " 36  i_computadora                     14882 non-null  float64\n",
      " 37  i_laptop                          14882 non-null  float64\n",
      " 38  i_cel_sdatos                      14882 non-null  float64\n",
      " 39  i_cel_cdatos                      14882 non-null  float64\n",
      " 40  i_tablet                          14882 non-null  float64\n",
      " 41  i_otro                            14882 non-null  float64\n",
      " 42  p314d                             6083 non-null   float64\n",
      " 43  i_obtener_info                    6083 non-null   float64\n",
      " 44  i_comunicarse                     6083 non-null   float64\n",
      " 45  i_comprar_pdts_ss                 6083 non-null   float64\n",
      " 46  i_operaciones_bancarias           6083 non-null   float64\n",
      " 47  i_edu_formal                      6083 non-null   float64\n",
      " 48  i_transacciones                   6083 non-null   float64\n",
      " 49  i_act_entretenimiento             6083 non-null   float64\n",
      " 50  i_vender_pdts                     6083 non-null   float64\n",
      " 51  i_descarga_antivirus              6083 non-null   float64\n",
      " 52  cel_uso                           22401 non-null  float64\n",
      " 53  uso_cp_lp                         2822 non-null   float64\n",
      " 54  t313a                             2805 non-null   float64\n",
      " 55  factor07                          22401 non-null  float32\n",
      " 56  parentesco                        22401 non-null  int8   \n",
      " 57  Sexo                              22401 non-null  float64\n",
      " 58  Edad                              22401 non-null  float64\n",
      " 59  p204                              22401 non-null  float64\n",
      " 60  p206                              159 non-null    float64\n",
      " 61  estrsocial                        22401 non-null  int8   \n",
      " 62  mieperho                          22401 non-null  int8   \n",
      " 63  totmieho                          22401 non-null  int8   \n",
      " 64  Electricidad                      22401 non-null  float64\n",
      " 65  cel_hog                           22401 non-null  float64\n",
      " 66  conexion_cable_hog                22401 non-null  float64\n",
      " 67  i_conexion_hog                    22401 non-null  float64\n",
      " 68  DEPARTAMENTO                      22401 non-null  int64  \n",
      " 69  años_escolaridad                  22401 non-null  float64\n",
      " 70  Area                              22401 non-null  int64  \n",
      " 71  Idioma                            22401 non-null  int64  \n",
      " 72  Region                            22401 non-null  int64  \n",
      " 73  años_escolaridad                  22401 non-null  float64\n",
      "dtypes: float32(1), float64(56), int64(6), int8(6), object(5)\n",
      "memory usage: 11.8+ MB\n"
     ]
    }
   ],
   "source": [
    "base_filtrada.info()"
   ]
  },
  {
   "cell_type": "code",
   "execution_count": 60,
   "id": "4ec69bb1-27b9-4e27-9681-66fe8b3e4ba5",
   "metadata": {},
   "outputs": [
    {
     "name": "stdout",
     "output_type": "stream",
     "text": [
      "Porcentaje de valores nulos en 'p304a': 60.02%\n",
      "Porcentaje de valores nulos en 'p304b': 60.02%\n",
      "Porcentaje de valores nulos en 'cl_medio_tv': 12.91%\n",
      "Porcentaje de valores nulos en 'cl_medio_radio': 12.91%\n",
      "Porcentaje de valores nulos en 'cl_medio_plataforma_virtual': 12.91%\n",
      "Porcentaje de valores nulos en 'cl_medio_otro': 12.91%\n",
      "Porcentaje de valores nulos en 'cl_medio_wsp': 12.91%\n",
      "Porcentaje de valores nulos en 'cl_medio_correo': 12.91%\n",
      "Porcentaje de valores nulos en 'cl_medio_llamadas': 12.91%\n",
      "Porcentaje de valores nulos en 'cl_desarrollo_interaccion': 12.91%\n",
      "Porcentaje de valores nulos en 'cl_desarrollo_videos': 12.91%\n",
      "Porcentaje de valores nulos en 'cl_desarrollo_documentos': 12.91%\n",
      "Porcentaje de valores nulos en 'cl_desarrollo_otros': 12.91%\n",
      "Porcentaje de valores nulos en 'cl_desarrollo_msm_audio': 12.91%\n",
      "Porcentaje de valores nulos en 'cl_desarrollo_msm_texto': 12.91%\n",
      "Porcentaje de valores nulos en 'cl_desarrollo_sin_acompañamiento': 12.91%\n",
      "Porcentaje de valores nulos en 'p308c': 44.91%\n",
      "Porcentaje de valores nulos en 'i_uso_hog': 72.84%\n",
      "Porcentaje de valores nulos en 'i_uso_trab': 72.84%\n",
      "Porcentaje de valores nulos en 'i_uso_cedu': 72.84%\n",
      "Porcentaje de valores nulos en 'i_uso_cab': 72.84%\n",
      "Porcentaje de valores nulos en 'i_uso_casotr': 72.84%\n",
      "Porcentaje de valores nulos en 'i_uso_otro': 72.84%\n",
      "Porcentaje de valores nulos en 'i_uso_movil': 72.84%\n",
      "Porcentaje de valores nulos en 'i_computadora': 33.57%\n",
      "Porcentaje de valores nulos en 'i_laptop': 33.57%\n",
      "Porcentaje de valores nulos en 'i_cel_sdatos': 33.57%\n",
      "Porcentaje de valores nulos en 'i_cel_cdatos': 33.57%\n",
      "Porcentaje de valores nulos en 'i_tablet': 33.57%\n",
      "Porcentaje de valores nulos en 'i_otro': 33.57%\n",
      "Porcentaje de valores nulos en 'p314d': 72.84%\n",
      "Porcentaje de valores nulos en 'i_obtener_info': 72.84%\n",
      "Porcentaje de valores nulos en 'i_comunicarse': 72.84%\n",
      "Porcentaje de valores nulos en 'i_comprar_pdts_ss': 72.84%\n",
      "Porcentaje de valores nulos en 'i_operaciones_bancarias': 72.84%\n",
      "Porcentaje de valores nulos en 'i_edu_formal': 72.84%\n",
      "Porcentaje de valores nulos en 'i_transacciones': 72.84%\n",
      "Porcentaje de valores nulos en 'i_act_entretenimiento': 72.84%\n",
      "Porcentaje de valores nulos en 'i_vender_pdts': 72.84%\n",
      "Porcentaje de valores nulos en 'i_descarga_antivirus': 72.84%\n",
      "Porcentaje de valores nulos en 'uso_cp_lp': 87.40%\n",
      "Porcentaje de valores nulos en 't313a': 87.48%\n",
      "Porcentaje de valores nulos en 'p206': 99.29%\n"
     ]
    },
    {
     "ename": "ValueError",
     "evalue": "The truth value of a Series is ambiguous. Use a.empty, a.bool(), a.item(), a.any() or a.all().",
     "output_type": "error",
     "traceback": [
      "\u001b[1;31m---------------------------------------------------------------------------\u001b[0m",
      "\u001b[1;31mValueError\u001b[0m                                Traceback (most recent call last)",
      "\u001b[1;32m~\\AppData\\Local\\Temp\\ipykernel_7232\\3016454044.py\u001b[0m in \u001b[0;36m<module>\u001b[1;34m\u001b[0m\n\u001b[0;32m      4\u001b[0m     \u001b[0mtotal_de_registros\u001b[0m \u001b[1;33m=\u001b[0m \u001b[0mlen\u001b[0m\u001b[1;33m(\u001b[0m\u001b[0mbase_filtrada\u001b[0m\u001b[1;33m)\u001b[0m\u001b[1;33m\u001b[0m\u001b[1;33m\u001b[0m\u001b[0m\n\u001b[0;32m      5\u001b[0m     \u001b[0mporcentaje_nulos\u001b[0m \u001b[1;33m=\u001b[0m \u001b[1;33m(\u001b[0m\u001b[0mnulos_en_columna\u001b[0m \u001b[1;33m/\u001b[0m \u001b[0mtotal_de_registros\u001b[0m\u001b[1;33m)\u001b[0m \u001b[1;33m*\u001b[0m \u001b[1;36m100\u001b[0m\u001b[1;33m\u001b[0m\u001b[1;33m\u001b[0m\u001b[0m\n\u001b[1;32m----> 6\u001b[1;33m     \u001b[1;32mif\u001b[0m \u001b[0mporcentaje_nulos\u001b[0m \u001b[1;33m>\u001b[0m \u001b[1;36m0\u001b[0m\u001b[1;33m:\u001b[0m\u001b[1;33m\u001b[0m\u001b[1;33m\u001b[0m\u001b[0m\n\u001b[0m\u001b[0;32m      7\u001b[0m         \u001b[0mprint\u001b[0m\u001b[1;33m(\u001b[0m\u001b[1;34mf\"Porcentaje de valores nulos en '{columna}': {porcentaje_nulos:.2f}%\"\u001b[0m\u001b[1;33m)\u001b[0m\u001b[1;33m\u001b[0m\u001b[1;33m\u001b[0m\u001b[0m\n",
      "\u001b[1;32mC:\\ProgramData\\Anaconda3\\lib\\site-packages\\pandas\\core\\generic.py\u001b[0m in \u001b[0;36m__nonzero__\u001b[1;34m(self)\u001b[0m\n\u001b[0;32m   1525\u001b[0m     \u001b[1;33m@\u001b[0m\u001b[0mfinal\u001b[0m\u001b[1;33m\u001b[0m\u001b[1;33m\u001b[0m\u001b[0m\n\u001b[0;32m   1526\u001b[0m     \u001b[1;32mdef\u001b[0m \u001b[0m__nonzero__\u001b[0m\u001b[1;33m(\u001b[0m\u001b[0mself\u001b[0m\u001b[1;33m)\u001b[0m\u001b[1;33m:\u001b[0m\u001b[1;33m\u001b[0m\u001b[1;33m\u001b[0m\u001b[0m\n\u001b[1;32m-> 1527\u001b[1;33m         raise ValueError(\n\u001b[0m\u001b[0;32m   1528\u001b[0m             \u001b[1;34mf\"The truth value of a {type(self).__name__} is ambiguous. \"\u001b[0m\u001b[1;33m\u001b[0m\u001b[1;33m\u001b[0m\u001b[0m\n\u001b[0;32m   1529\u001b[0m             \u001b[1;34m\"Use a.empty, a.bool(), a.item(), a.any() or a.all().\"\u001b[0m\u001b[1;33m\u001b[0m\u001b[1;33m\u001b[0m\u001b[0m\n",
      "\u001b[1;31mValueError\u001b[0m: The truth value of a Series is ambiguous. Use a.empty, a.bool(), a.item(), a.any() or a.all()."
     ]
    }
   ],
   "source": [
    "# Itera sobre todas las columnas y calcula el porcentaje de valores nulos en cada una\n",
    "for columna in base_filtrada.columns:\n",
    "    nulos_en_columna = base_filtrada[columna].isnull().sum()\n",
    "    total_de_registros = len(base_filtrada)\n",
    "    porcentaje_nulos = (nulos_en_columna / total_de_registros) * 100\n",
    "    if porcentaje_nulos > 0:\n",
    "        print(f\"Porcentaje de valores nulos en '{columna}': {porcentaje_nulos:.2f}%\")"
   ]
  },
  {
   "cell_type": "code",
   "execution_count": 61,
   "id": "c63fc63a-98e6-4109-b0e8-87c57f626e0c",
   "metadata": {},
   "outputs": [
    {
     "data": {
      "text/plain": [
       "1    0.664345\n",
       "0    0.335655\n",
       "Name: i_uso, dtype: float64"
      ]
     },
     "execution_count": 61,
     "metadata": {},
     "output_type": "execute_result"
    }
   ],
   "source": [
    "base_filtrada.i_uso.value_counts(normalize=True)"
   ]
  },
  {
   "cell_type": "code",
   "execution_count": 62,
   "id": "17091b75-d4db-4f13-9216-10e3f5a30629",
   "metadata": {},
   "outputs": [],
   "source": [
    "base_filtrada_aux = base_filtrada.copy()\n",
    "\n",
    "dict_nivel_edu = {1: \"Inicial\", 2: \"Primaria\", 3: \"Secundaria\"}\n",
    "dict_sexo = {0: \"Hombre\", 1: \"Mujer\"}\n",
    "dict_idioma = {0: \"Otro\", 1: \"Catellano\"}\n",
    "dict_area =  {0: \"Rural\", 1: \"Urbano\"}\n",
    "dict_electricidad = {1: \"Si\", 0: \"No\"}\n",
    "dict_region=  {1: \"Costa\", 2: \"Sierra\", 3: \"Selva\"}\n",
    "dict_estr =  {1: \"A\", 2: \"B\", 3: \"C\", 4: \"D\", 5: \"E\", 6:\"rural\"}\n",
    "dict_cen_edu = {1: \"Nacional\", 0: \"Privada\"}\n",
    "\n",
    "dict_i_uso              = {1: \"Si\", 0: \"No\"}\n",
    "dict_i_conexion_hog     = {1: \"Si\", 0: \"No\"}\n",
    "dict_conexion_cable_hog = {1: \"Si\", 0: \"No\"}\n",
    "dict_cel_hog            = {1: \"Si\", 0: \"No\"}\n",
    "dict_cel_uso = {1: \"Si\", 0: \"No\"}\n",
    "dict_uso_cp_lp = {1: \"Si\", 0: \"No\"}\n",
    "\n",
    "base_filtrada_aux[\"Nivel_educativo\"] = base_filtrada_aux[\"Nivel_educativo\"].map(dict_nivel_edu)\n",
    "base_filtrada_aux[\"Centro_estudios\"] = base_filtrada_aux[\"Centro_estudios\"].map(dict_cen_edu)\n",
    "base_filtrada_aux[\"Sexo\"]            = base_filtrada_aux[\"Sexo\"].map(dict_sexo)\n",
    "base_filtrada_aux[\"Idioma\"]          = base_filtrada_aux[\"Idioma\"].map(dict_idioma)\n",
    "base_filtrada_aux[\"Area\"]            = base_filtrada_aux[\"Area\"].map(dict_area)\n",
    "base_filtrada_aux[\"Electricidad\"]    = base_filtrada_aux[\"Electricidad\"].map(dict_electricidad)\n",
    "base_filtrada_aux[\"Region\"]          = base_filtrada_aux[\"Region\"].map(dict_region)\n",
    "base_filtrada_aux[\"estrsocial\"]      = base_filtrada_aux[\"estrsocial\"].map(dict_estr)\n",
    "base_filtrada_aux[\"i_uso\"]            = base_filtrada_aux[\"i_uso\"].map(dict_i_uso)\n",
    "base_filtrada_aux[\"i_conexion_hog\"]    = base_filtrada_aux[\"i_conexion_hog\"].map(dict_i_conexion_hog)\n",
    "base_filtrada_aux[\"conexion_cable_hog\"] = base_filtrada_aux[\"conexion_cable_hog\"].map(dict_conexion_cable_hog)\n",
    "base_filtrada_aux[\"cel_hog\"]      = base_filtrada_aux[\"cel_hog\"].map(dict_cel_hog )\n",
    "base_filtrada_aux[\"cel_uso\"]      = base_filtrada_aux[\"cel_uso\"].map(dict_conexion_cable_hog)\n",
    "base_filtrada_aux[\"uso_cp_lp\"]    = base_filtrada_aux[\"uso_cp_lp\"].map(dict_cel_hog )"
   ]
  },
  {
   "cell_type": "code",
   "execution_count": 63,
   "id": "a8689b76-916e-4bc7-be0f-53b3aed446f7",
   "metadata": {},
   "outputs": [
    {
     "data": {
      "text/plain": [
       "Primaria      12340\n",
       "Secundaria    10061\n",
       "Name: Nivel_educativo, dtype: int64"
      ]
     },
     "execution_count": 63,
     "metadata": {},
     "output_type": "execute_result"
    }
   ],
   "source": [
    "base_filtrada_aux[\"Nivel_educativo\"].value_counts()"
   ]
  },
  {
   "cell_type": "code",
   "execution_count": 69,
   "id": "5e9ef44b-c9f0-4de0-90d1-41d844775eaa",
   "metadata": {},
   "outputs": [],
   "source": [
    "base_filtrada_aux.to_excel('mi_dataframe_.xlsx', index=False)"
   ]
  },
  {
   "cell_type": "code",
   "execution_count": 65,
   "id": "2a7586c1-f9ca-4424-9fa5-345b40465c45",
   "metadata": {},
   "outputs": [
    {
     "data": {
      "text/plain": [
       "(22401, 74)"
      ]
     },
     "execution_count": 65,
     "metadata": {},
     "output_type": "execute_result"
    }
   ],
   "source": [
    "base_filtrada_aux.shape"
   ]
  },
  {
   "cell_type": "markdown",
   "id": "33806527",
   "metadata": {
    "tags": []
   },
   "source": [
    "# VARIABLES "
   ]
  },
  {
   "cell_type": "markdown",
   "id": "3f1c6954-9ad1-4f70-a79f-3dde3aea1e12",
   "metadata": {},
   "source": [
    "## Variables Continuas"
   ]
  },
  {
   "cell_type": "markdown",
   "id": "b580abeb-344e-4fa8-acea-01a77fc46c3d",
   "metadata": {},
   "source": [
    "#### Miembros por hogar"
   ]
  },
  {
   "cell_type": "code",
   "execution_count": 66,
   "id": "37314f0b",
   "metadata": {},
   "outputs": [
    {
     "data": {
      "text/html": [
       "<div>\n",
       "<style scoped>\n",
       "    .dataframe tbody tr th:only-of-type {\n",
       "        vertical-align: middle;\n",
       "    }\n",
       "\n",
       "    .dataframe tbody tr th {\n",
       "        vertical-align: top;\n",
       "    }\n",
       "\n",
       "    .dataframe thead th {\n",
       "        text-align: right;\n",
       "    }\n",
       "</style>\n",
       "<table border=\"1\" class=\"dataframe\">\n",
       "  <thead>\n",
       "    <tr style=\"text-align: right;\">\n",
       "      <th></th>\n",
       "      <th>Miembros por Hogar</th>\n",
       "      <th>Recuento</th>\n",
       "      <th>Porcentaje</th>\n",
       "    </tr>\n",
       "  </thead>\n",
       "  <tbody>\n",
       "    <tr>\n",
       "      <th>0</th>\n",
       "      <td>1</td>\n",
       "      <td>5,076</td>\n",
       "      <td>0.1</td>\n",
       "    </tr>\n",
       "    <tr>\n",
       "      <th>1</th>\n",
       "      <td>2</td>\n",
       "      <td>216,104</td>\n",
       "      <td>3.7</td>\n",
       "    </tr>\n",
       "    <tr>\n",
       "      <th>2</th>\n",
       "      <td>3</td>\n",
       "      <td>785,886</td>\n",
       "      <td>13.4</td>\n",
       "    </tr>\n",
       "    <tr>\n",
       "      <th>3</th>\n",
       "      <td>4</td>\n",
       "      <td>1,623,004</td>\n",
       "      <td>27.7</td>\n",
       "    </tr>\n",
       "    <tr>\n",
       "      <th>4</th>\n",
       "      <td>5</td>\n",
       "      <td>1,488,975</td>\n",
       "      <td>25.4</td>\n",
       "    </tr>\n",
       "    <tr>\n",
       "      <th>5</th>\n",
       "      <td>6</td>\n",
       "      <td>793,397</td>\n",
       "      <td>13.5</td>\n",
       "    </tr>\n",
       "    <tr>\n",
       "      <th>6</th>\n",
       "      <td>7</td>\n",
       "      <td>452,484</td>\n",
       "      <td>7.7</td>\n",
       "    </tr>\n",
       "    <tr>\n",
       "      <th>7</th>\n",
       "      <td>8</td>\n",
       "      <td>205,186</td>\n",
       "      <td>3.5</td>\n",
       "    </tr>\n",
       "    <tr>\n",
       "      <th>8</th>\n",
       "      <td>9</td>\n",
       "      <td>130,423</td>\n",
       "      <td>2.2</td>\n",
       "    </tr>\n",
       "    <tr>\n",
       "      <th>9</th>\n",
       "      <td>10</td>\n",
       "      <td>74,426</td>\n",
       "      <td>1.3</td>\n",
       "    </tr>\n",
       "    <tr>\n",
       "      <th>10</th>\n",
       "      <td>11</td>\n",
       "      <td>31,364</td>\n",
       "      <td>0.5</td>\n",
       "    </tr>\n",
       "    <tr>\n",
       "      <th>11</th>\n",
       "      <td>12</td>\n",
       "      <td>22,839</td>\n",
       "      <td>0.4</td>\n",
       "    </tr>\n",
       "    <tr>\n",
       "      <th>12</th>\n",
       "      <td>13</td>\n",
       "      <td>6,642</td>\n",
       "      <td>0.1</td>\n",
       "    </tr>\n",
       "    <tr>\n",
       "      <th>13</th>\n",
       "      <td>14</td>\n",
       "      <td>8,868</td>\n",
       "      <td>0.2</td>\n",
       "    </tr>\n",
       "    <tr>\n",
       "      <th>14</th>\n",
       "      <td>15</td>\n",
       "      <td>7,743</td>\n",
       "      <td>0.1</td>\n",
       "    </tr>\n",
       "    <tr>\n",
       "      <th>15</th>\n",
       "      <td>18</td>\n",
       "      <td>751</td>\n",
       "      <td>0.0</td>\n",
       "    </tr>\n",
       "    <tr>\n",
       "      <th>16</th>\n",
       "      <td>20</td>\n",
       "      <td>5,839</td>\n",
       "      <td>0.1</td>\n",
       "    </tr>\n",
       "    <tr>\n",
       "      <th>17</th>\n",
       "      <td>Total</td>\n",
       "      <td>5,859,010</td>\n",
       "      <td>100.0</td>\n",
       "    </tr>\n",
       "  </tbody>\n",
       "</table>\n",
       "</div>"
      ],
      "text/plain": [
       "   Miembros por Hogar   Recuento Porcentaje\n",
       "0                   1      5,076        0.1\n",
       "1                   2    216,104        3.7\n",
       "2                   3    785,886       13.4\n",
       "3                   4  1,623,004       27.7\n",
       "4                   5  1,488,975       25.4\n",
       "5                   6    793,397       13.5\n",
       "6                   7    452,484        7.7\n",
       "7                   8    205,186        3.5\n",
       "8                   9    130,423        2.2\n",
       "9                  10     74,426        1.3\n",
       "10                 11     31,364        0.5\n",
       "11                 12     22,839        0.4\n",
       "12                 13      6,642        0.1\n",
       "13                 14      8,868        0.2\n",
       "14                 15      7,743        0.1\n",
       "15                 18        751        0.0\n",
       "16                 20      5,839        0.1\n",
       "17              Total  5,859,010      100.0"
      ]
     },
     "execution_count": 66,
     "metadata": {},
     "output_type": "execute_result"
    }
   ],
   "source": [
    "generar_tabla_recuento(base_filtrada_aux, \"mieperho\", \"Miembros por Hogar\", True)"
   ]
  },
  {
   "cell_type": "code",
   "execution_count": 67,
   "id": "b10216b7-b30d-4b37-85b3-2759020bbb26",
   "metadata": {},
   "outputs": [
    {
     "data": {
      "text/html": [
       "<div>\n",
       "<style scoped>\n",
       "    .dataframe tbody tr th:only-of-type {\n",
       "        vertical-align: middle;\n",
       "    }\n",
       "\n",
       "    .dataframe tbody tr th {\n",
       "        vertical-align: top;\n",
       "    }\n",
       "\n",
       "    .dataframe thead th {\n",
       "        text-align: right;\n",
       "    }\n",
       "</style>\n",
       "<table border=\"1\" class=\"dataframe\">\n",
       "  <thead>\n",
       "    <tr style=\"text-align: right;\">\n",
       "      <th></th>\n",
       "      <th>Total por Hogar</th>\n",
       "      <th>Recuento</th>\n",
       "      <th>Porcentaje</th>\n",
       "    </tr>\n",
       "  </thead>\n",
       "  <tbody>\n",
       "    <tr>\n",
       "      <th>0</th>\n",
       "      <td>2</td>\n",
       "      <td>202,867</td>\n",
       "      <td>3.5</td>\n",
       "    </tr>\n",
       "    <tr>\n",
       "      <th>1</th>\n",
       "      <td>3</td>\n",
       "      <td>772,392</td>\n",
       "      <td>13.2</td>\n",
       "    </tr>\n",
       "    <tr>\n",
       "      <th>2</th>\n",
       "      <td>4</td>\n",
       "      <td>1,598,554</td>\n",
       "      <td>27.3</td>\n",
       "    </tr>\n",
       "    <tr>\n",
       "      <th>3</th>\n",
       "      <td>5</td>\n",
       "      <td>1,499,347</td>\n",
       "      <td>25.6</td>\n",
       "    </tr>\n",
       "    <tr>\n",
       "      <th>4</th>\n",
       "      <td>6</td>\n",
       "      <td>802,112</td>\n",
       "      <td>13.7</td>\n",
       "    </tr>\n",
       "    <tr>\n",
       "      <th>5</th>\n",
       "      <td>7</td>\n",
       "      <td>470,655</td>\n",
       "      <td>8.0</td>\n",
       "    </tr>\n",
       "    <tr>\n",
       "      <th>6</th>\n",
       "      <td>8</td>\n",
       "      <td>208,703</td>\n",
       "      <td>3.6</td>\n",
       "    </tr>\n",
       "    <tr>\n",
       "      <th>7</th>\n",
       "      <td>9</td>\n",
       "      <td>141,815</td>\n",
       "      <td>2.4</td>\n",
       "    </tr>\n",
       "    <tr>\n",
       "      <th>8</th>\n",
       "      <td>10</td>\n",
       "      <td>71,811</td>\n",
       "      <td>1.2</td>\n",
       "    </tr>\n",
       "    <tr>\n",
       "      <th>9</th>\n",
       "      <td>11</td>\n",
       "      <td>35,087</td>\n",
       "      <td>0.6</td>\n",
       "    </tr>\n",
       "    <tr>\n",
       "      <th>10</th>\n",
       "      <td>12</td>\n",
       "      <td>23,639</td>\n",
       "      <td>0.4</td>\n",
       "    </tr>\n",
       "    <tr>\n",
       "      <th>11</th>\n",
       "      <td>13</td>\n",
       "      <td>6,642</td>\n",
       "      <td>0.1</td>\n",
       "    </tr>\n",
       "    <tr>\n",
       "      <th>12</th>\n",
       "      <td>14</td>\n",
       "      <td>9,307</td>\n",
       "      <td>0.2</td>\n",
       "    </tr>\n",
       "    <tr>\n",
       "      <th>13</th>\n",
       "      <td>15</td>\n",
       "      <td>7,743</td>\n",
       "      <td>0.1</td>\n",
       "    </tr>\n",
       "    <tr>\n",
       "      <th>14</th>\n",
       "      <td>16</td>\n",
       "      <td>1,745</td>\n",
       "      <td>0.0</td>\n",
       "    </tr>\n",
       "    <tr>\n",
       "      <th>15</th>\n",
       "      <td>18</td>\n",
       "      <td>751</td>\n",
       "      <td>0.0</td>\n",
       "    </tr>\n",
       "    <tr>\n",
       "      <th>16</th>\n",
       "      <td>20</td>\n",
       "      <td>5,839</td>\n",
       "      <td>0.1</td>\n",
       "    </tr>\n",
       "    <tr>\n",
       "      <th>17</th>\n",
       "      <td>Total</td>\n",
       "      <td>5,859,010</td>\n",
       "      <td>100.0</td>\n",
       "    </tr>\n",
       "  </tbody>\n",
       "</table>\n",
       "</div>"
      ],
      "text/plain": [
       "   Total por Hogar   Recuento Porcentaje\n",
       "0                2    202,867        3.5\n",
       "1                3    772,392       13.2\n",
       "2                4  1,598,554       27.3\n",
       "3                5  1,499,347       25.6\n",
       "4                6    802,112       13.7\n",
       "5                7    470,655        8.0\n",
       "6                8    208,703        3.6\n",
       "7                9    141,815        2.4\n",
       "8               10     71,811        1.2\n",
       "9               11     35,087        0.6\n",
       "10              12     23,639        0.4\n",
       "11              13      6,642        0.1\n",
       "12              14      9,307        0.2\n",
       "13              15      7,743        0.1\n",
       "14              16      1,745        0.0\n",
       "15              18        751        0.0\n",
       "16              20      5,839        0.1\n",
       "17           Total  5,859,010      100.0"
      ]
     },
     "execution_count": 67,
     "metadata": {},
     "output_type": "execute_result"
    }
   ],
   "source": [
    "generar_tabla_recuento(base_filtrada_aux, \"totmieho\", \"Total por Hogar\", True)"
   ]
  },
  {
   "cell_type": "markdown",
   "id": "023479a6-371d-46d7-96fa-2817d61a0d53",
   "metadata": {},
   "source": [
    "#### Edad"
   ]
  },
  {
   "cell_type": "code",
   "execution_count": null,
   "id": "066129bd",
   "metadata": {},
   "outputs": [],
   "source": [
    "generar_tabla_recuento(base_filtrada_aux, \"Edad\", \"Edad\" ,  True)##################"
   ]
  },
  {
   "cell_type": "markdown",
   "id": "e89db312-c0b2-477d-8878-db3e4b72c77e",
   "metadata": {},
   "source": [
    "#### Años Escolaridad"
   ]
  },
  {
   "cell_type": "code",
   "execution_count": null,
   "id": "f2039fa2-1396-44ff-8bba-65a65eba533f",
   "metadata": {},
   "outputs": [],
   "source": [
    "generar_tabla_recuento(base_filtrada_aux, \"años_escolaridad\", \"Años Escolaridad\" , True)##################"
   ]
  },
  {
   "cell_type": "markdown",
   "id": "cbfb81a0-db56-43ac-afdb-eba6dd71c97e",
   "metadata": {},
   "source": [
    "## Variables Cualitativas"
   ]
  },
  {
   "cell_type": "code",
   "execution_count": null,
   "id": "ebe6d38c-7ea2-46e7-9159-469d4fd13a48",
   "metadata": {},
   "outputs": [],
   "source": [
    "generar_tabla_recuento(base_filtrada_aux, \"parentesco\", \"parentesco\", True) # 0 Panel (No Presente el año actual)\n",
    "#1 Jefe(a) 2 Esposa(o)/compañero(a) 3 Hijo(a)/Hijastro(a) 4 Yerno/Nuera\n",
    "#5 Nieto(a) 6 Padres/Suegros 7 Otros parientes 8 Trabajador Hogar 9 Pensionista 10 Otros no parientes 11 Hermano(a)"
   ]
  },
  {
   "cell_type": "markdown",
   "id": "5b71dfca-db7a-4630-a4bb-a6e164d3e752",
   "metadata": {
    "tags": []
   },
   "source": [
    "#### Nivel Educativo y Centro de estudios"
   ]
  },
  {
   "cell_type": "code",
   "execution_count": null,
   "id": "f1c99474",
   "metadata": {},
   "outputs": [],
   "source": [
    "generar_tabla_recuento(base_filtrada_aux, \"Nivel_educativo\", \"Nivel Educativo\", True)\n",
    "# 1 Educación Inicial  2 Primaria 3 Secundaria "
   ]
  },
  {
   "cell_type": "code",
   "execution_count": null,
   "id": "7fd273a5",
   "metadata": {},
   "outputs": [],
   "source": [
    "generar_tabla_recuento(base_filtrada_aux, \"Centro_estudios\", \"Centro de Estudios\",True)\n",
    "#descripcion_nivel_educativo = { 1 Estatal 2 No estatal}"
   ]
  },
  {
   "cell_type": "markdown",
   "id": "0792b75e-e6b7-42dd-8561-b059278a937e",
   "metadata": {},
   "source": [
    "#### Idioma y Sexo"
   ]
  },
  {
   "cell_type": "code",
   "execution_count": null,
   "id": "829692a5",
   "metadata": {},
   "outputs": [],
   "source": [
    "generar_tabla_recuento(base_filtrada_aux, \"Idioma\", \"Idioma\",True)   #{1: \"Castellano\", 0: \"Otros\"}"
   ]
  },
  {
   "cell_type": "code",
   "execution_count": null,
   "id": "18c84e20",
   "metadata": {},
   "outputs": [],
   "source": [
    "generar_tabla_recuento(base_filtrada_aux, \"Sexo\", \"Sexo\", True)  # 1 Hombre 2 Mujer ###########"
   ]
  },
  {
   "cell_type": "markdown",
   "id": "8486058c-0926-473c-994d-11478355e473",
   "metadata": {
    "tags": []
   },
   "source": [
    "#### Area y Estrato social"
   ]
  },
  {
   "cell_type": "code",
   "execution_count": null,
   "id": "62fb5ab4",
   "metadata": {},
   "outputs": [],
   "source": [
    "generar_tabla_recuento(base_filtrada_aux, \"Area\", \"Area\", True) #{1: \"Urbano\", 0: \"Rural\"}"
   ]
  },
  {
   "cell_type": "code",
   "execution_count": null,
   "id": "739456e8",
   "metadata": {},
   "outputs": [],
   "source": [
    "generar_tabla_recuento(base_filtrada_aux, \"estrsocial\", \"Estrato Social\",True)\n",
    "# 1 “A” 2 “B” 3 “C” 4 “D” 5 “E” 6 “RURAL”"
   ]
  },
  {
   "cell_type": "markdown",
   "id": "edfe1e61-038d-4ee4-8213-149a8e7a09b6",
   "metadata": {},
   "source": [
    "#### Electricidad y Region"
   ]
  },
  {
   "cell_type": "code",
   "execution_count": null,
   "id": "aae90ee2",
   "metadata": {},
   "outputs": [],
   "source": [
    "generar_tabla_recuento(base_filtrada_aux, \"Electricidad\", \"Electricidad\", True) ##################"
   ]
  },
  {
   "cell_type": "code",
   "execution_count": null,
   "id": "e47501de-3fb8-4cb3-86b7-efaa627d1cdd",
   "metadata": {},
   "outputs": [],
   "source": [
    "#dict_region = { 1:1, 2:1, 3: 1, 4:2, 5:2, 6:2, 7:3, 8: 4}\n",
    "#merged_data[\"region\"] = merged_data[\"dominio\"].map(dict_region)"
   ]
  },
  {
   "cell_type": "markdown",
   "id": "17a05fc1-fa64-4e86-bde8-b8f957e7390e",
   "metadata": {},
   "source": [
    "#### Departamento"
   ]
  },
  {
   "cell_type": "code",
   "execution_count": null,
   "id": "1a8ed003-1b21-4a0c-98d6-8538bfcf49f4",
   "metadata": {},
   "outputs": [],
   "source": [
    "generar_tabla_recuento(base_filtrada_aux, \"Region\", \"Region\",True) ##################"
   ]
  },
  {
   "cell_type": "code",
   "execution_count": null,
   "id": "068aaf64-c636-42aa-a14e-e765b19d02d9",
   "metadata": {},
   "outputs": [],
   "source": [
    "generar_tabla_recuento(base_filtrada_aux, \"DEPARTAMENTO\", \"Departamento\", True) ##################"
   ]
  },
  {
   "cell_type": "markdown",
   "id": "4a9613a7-b140-4b32-b520-247fddb7a175",
   "metadata": {},
   "source": [
    "## DIMENSION DE ACCESO"
   ]
  },
  {
   "cell_type": "code",
   "execution_count": null,
   "id": "6f3ee94d-7b4a-4149-92a0-5e5304d59cd4",
   "metadata": {},
   "outputs": [],
   "source": [
    "generar_tabla_recuento(base_filtrada_aux, \"cel_uso\" , \"Uso teléfono celular propio\", True)"
   ]
  },
  {
   "cell_type": "code",
   "execution_count": null,
   "id": "c1088008-2936-4c4b-9279-ea74ac6e631c",
   "metadata": {},
   "outputs": [],
   "source": [
    "generar_tabla_recuento(base_filtrada_aux, \"cel_hog\", \"Teléfono Celular - Hogar\",True) #u hogar tiene : ¿ Conexión a Internet? 1 Conexión a Internet"
   ]
  },
  {
   "cell_type": "code",
   "execution_count": null,
   "id": "86dbae2c-1812-495f-bb1e-9ce79da6fedb",
   "metadata": {},
   "outputs": [],
   "source": [
    "generar_tabla_recuento(base_filtrada_aux, \"conexion_cable_hog\", \"Conexión a TV cable o satelital - Hogar\", True) #u hogar tiene : ¿ Conexión a Internet? 1 Conexión a Internet"
   ]
  },
  {
   "cell_type": "code",
   "execution_count": null,
   "id": "5aa8c64e-910e-4722-a103-880737deda45",
   "metadata": {},
   "outputs": [],
   "source": [
    "generar_tabla_recuento(base_filtrada_aux, \"i_conexion_hog\", \"Conexión a Internet - Hogar\", True) #u hogar tiene : ¿ Conexión a Internet? 1 Conexión a Internet"
   ]
  },
  {
   "cell_type": "code",
   "execution_count": null,
   "id": "359ea16e-4471-444b-ba8c-7051c674b58f",
   "metadata": {},
   "outputs": [],
   "source": [
    "generar_tabla_recuento(base_filtrada_aux, \"uso_cp_lp\", \"Uso_tablet_computadora_laptop\", True) #u hogar tiene : ¿ Conexión a Internet? 1 Conexión a Internet"
   ]
  },
  {
   "cell_type": "markdown",
   "id": "dc063270-f5b0-416a-9b50-67c1684a4f70",
   "metadata": {
    "tags": []
   },
   "source": [
    "## USO SERVICIO DE INTERNET"
   ]
  },
  {
   "cell_type": "markdown",
   "id": "846f4dff-34fc-454f-92f1-9c10f1780df8",
   "metadata": {},
   "source": [
    "### Uso de Internet"
   ]
  },
  {
   "cell_type": "code",
   "execution_count": null,
   "id": "3f36de65",
   "metadata": {},
   "outputs": [],
   "source": [
    "generar_tabla_recuento(base_filtrada_aux, \"i_uso\", \"Uso Internet\", True)  \n",
    "#En el mes anterior, ¿ Ud. hizo uso del Servicio de Internet? 1 Si 2 No"
   ]
  },
  {
   "cell_type": "markdown",
   "id": "1d45bf7b-1bef-4fbe-bc1a-89fa164e9d3f",
   "metadata": {},
   "source": [
    "## LUGAR DE USO DEL SERVICIO DE INTERNET"
   ]
  },
  {
   "cell_type": "markdown",
   "id": "78cf6817-9a6e-4e5f-8e73-221e528d8f83",
   "metadata": {},
   "source": [
    "### Uso de Internet en el hogar - Y"
   ]
  },
  {
   "cell_type": "code",
   "execution_count": null,
   "id": "85886290",
   "metadata": {},
   "outputs": [],
   "source": [
    "generar_tabla_recuento(merged_data, \"i_uso_hog\", \"Uso de Internet en el hogar\",True)"
   ]
  },
  {
   "cell_type": "markdown",
   "id": "d3efadb0-2ef7-4aa5-9330-22a1cdfa1518",
   "metadata": {},
   "source": [
    "### Uso de Internet en el trabajo"
   ]
  },
  {
   "cell_type": "code",
   "execution_count": null,
   "id": "59eb5158",
   "metadata": {},
   "outputs": [],
   "source": [
    "generar_tabla_recuento(base_filtrada_aux, \"i_uso_trab\", \"Uso de Internet en el trabajo\", False)"
   ]
  },
  {
   "cell_type": "markdown",
   "id": "fc4de12b-0e9e-4146-84fc-6e13ca637b3b",
   "metadata": {},
   "source": [
    "### Uso de internet en el establecimiento educativo"
   ]
  },
  {
   "cell_type": "code",
   "execution_count": null,
   "id": "18038ec0",
   "metadata": {},
   "outputs": [],
   "source": [
    "generar_tabla_recuento(base_filtrada_aux, \"i_uso_cedu\", \"Uso de Internet en el establecimiento educativo\", False)"
   ]
  },
  {
   "cell_type": "markdown",
   "id": "b30bbc4f-35ae-4475-9d9f-53c9ab8b0c9b",
   "metadata": {},
   "source": [
    "### Uso de internet en cabina publica"
   ]
  },
  {
   "cell_type": "code",
   "execution_count": null,
   "id": "883986d2",
   "metadata": {},
   "outputs": [],
   "source": [
    "generar_tabla_recuento(base_filtrada_aux, \"i_uso_cab\", \"Uso de Internet en Cabina Publica\", False)"
   ]
  },
  {
   "cell_type": "markdown",
   "id": "ce033f87-8daf-4e27-8bd2-8f8ffce36bbe",
   "metadata": {},
   "source": [
    "### Uso de internet en casa de otra persona"
   ]
  },
  {
   "cell_type": "code",
   "execution_count": null,
   "id": "54979fa1",
   "metadata": {},
   "outputs": [],
   "source": [
    "generar_tabla_recuento(base_filtrada_aux, \"i_uso_casotr\", \"Uso del internet en casa de otra persona\", False)"
   ]
  },
  {
   "cell_type": "markdown",
   "id": "9ca0d7a7-9294-4411-ac12-019ff15309fc",
   "metadata": {
    "tags": []
   },
   "source": [
    "### Uso de internet - Otro"
   ]
  },
  {
   "cell_type": "code",
   "execution_count": null,
   "id": "4af43274",
   "metadata": {},
   "outputs": [],
   "source": [
    "generar_tabla_recuento(base_filtrada_aux, \"i_uso_otro\", \"Otro\", False)"
   ]
  },
  {
   "cell_type": "markdown",
   "id": "b6693f16-229b-4ffd-99da-7f64854e3d0d",
   "metadata": {
    "tags": []
   },
   "source": [
    "### Acceso movil"
   ]
  },
  {
   "cell_type": "code",
   "execution_count": null,
   "id": "6f004976",
   "metadata": {},
   "outputs": [],
   "source": [
    "generar_tabla_recuento(base_filtrada_aux, \"i_uso_movil\", \"Uso del internet en Acceso movil de Internet\", False)"
   ]
  },
  {
   "cell_type": "markdown",
   "id": "f3203485-a403-4dac-8d68-d13cb5c69720",
   "metadata": {
    "tags": []
   },
   "source": [
    "## FRECUENCIA DE USO DEL SERVICIO DE INTERNET"
   ]
  },
  {
   "cell_type": "code",
   "execution_count": null,
   "id": "ec77fc6e-8750-42f9-b15a-c5d13fd89f66",
   "metadata": {},
   "outputs": [],
   "source": [
    "base_filtrada.i_uso.value_counts()"
   ]
  },
  {
   "cell_type": "code",
   "execution_count": null,
   "id": "f97ada8c-e17f-40f2-949c-1df701d6f768",
   "metadata": {},
   "outputs": [],
   "source": [
    "missing_values = base_filtrada['i_uso'].isna().sum()\n",
    "print(f\"Valores faltantes en 'i_uso': {missing_values}\")\n"
   ]
  },
  {
   "cell_type": "code",
   "execution_count": null,
   "id": "c6d35c7f-e760-43d1-96fe-1e52132c971c",
   "metadata": {},
   "outputs": [],
   "source": [
    "# Supongamos que 2 es la categoría que deseas asignar a los valores faltantes\n",
    "#base_filtrada['i_uso'] = base_filtrada['i_uso'].fillna(2)"
   ]
  },
  {
   "attachments": {
    "fdd5ec1b-a491-4d39-bbed-70699fb3ed25.png": {
     "image/png": "[encoded data removed]"
    }
   },
   "cell_type": "markdown",
   "id": "f830c2de-f804-42c3-b9d7-2a7321d19322",
   "metadata": {},
   "source": [
    "![image.png](attachment:fdd5ec1b-a491-4d39-bbed-70699fb3ed25.png)"
   ]
  },
  {
   "cell_type": "code",
   "execution_count": null,
   "id": "754603af-fa92-43c9-8824-93147b55c196",
   "metadata": {},
   "outputs": [],
   "source": [
    "generar_tabla_recuento(base_filtrada_aux, \"p314d\", \"Ud., usa Internet al menos\", True) #¿Ud., usa Internet al menos: \n",
    "# 1 Una vez al dia?\n",
    "# 2 Una vez a la semana? 3 Una vez al mes? 4 Cada 2 meses o más?"
   ]
  },
  {
   "cell_type": "code",
   "execution_count": null,
   "id": "518ca9f2-45b3-490c-a522-aab3448fa1ab",
   "metadata": {},
   "outputs": [],
   "source": []
  },
  {
   "cell_type": "code",
   "execution_count": null,
   "id": "f190e79f-173c-4ead-a1aa-92a38a8b1ed6",
   "metadata": {},
   "outputs": [],
   "source": []
  },
  {
   "cell_type": "markdown",
   "id": "9274011a-a082-4c86-b146-8d50c799e2a7",
   "metadata": {},
   "source": [
    "## EQUIPO QUE UTILIZO PARA INGRESAR A INTERNET"
   ]
  },
  {
   "cell_type": "markdown",
   "id": "39a69473-0b8e-4a41-8313-6e32380bfd1d",
   "metadata": {
    "tags": []
   },
   "source": [
    "### Acceso - Laptop"
   ]
  },
  {
   "cell_type": "code",
   "execution_count": null,
   "id": "fe27d696",
   "metadata": {},
   "outputs": [],
   "source": [
    "generar_tabla_recuento(base_filtrada_aux, \"i_laptop\", \"Uso del internet a traves de una LAPTOP\", False)"
   ]
  },
  {
   "cell_type": "markdown",
   "id": "9f9e6ca0-d7c6-498c-b16d-bee0769c10da",
   "metadata": {
    "tags": []
   },
   "source": [
    "### Acceso - Computadora"
   ]
  },
  {
   "cell_type": "code",
   "execution_count": null,
   "id": "8216bfea",
   "metadata": {},
   "outputs": [],
   "source": [
    "generar_tabla_recuento(base_filtrada_aux, \"i_computadora\", \"Uso del internet a traves de una computadora\", False)"
   ]
  },
  {
   "cell_type": "markdown",
   "id": "96091371-137f-42e5-a492-fa02cde7a906",
   "metadata": {
    "tags": []
   },
   "source": [
    "### Acceso - Tablet"
   ]
  },
  {
   "cell_type": "code",
   "execution_count": null,
   "id": "f0f51377",
   "metadata": {},
   "outputs": [],
   "source": [
    "generar_tabla_recuento(base_filtrada_aux, \"i_tablet\", \"Uso del internet a traves de una TABLET\", False)"
   ]
  },
  {
   "cell_type": "markdown",
   "id": "e13514d4-75ca-47a0-bd0f-feb52b5cb4cf",
   "metadata": {},
   "source": [
    "### Acceso - Otro"
   ]
  },
  {
   "cell_type": "code",
   "execution_count": null,
   "id": "a59ff54b",
   "metadata": {},
   "outputs": [],
   "source": [
    "generar_tabla_recuento(base_filtrada_aux, \"i_otro\", \"Uso del internet a traves de una OTRO\", False)"
   ]
  },
  {
   "cell_type": "markdown",
   "id": "6cd47193-88bc-4d11-a733-199b31f42727",
   "metadata": {},
   "source": [
    "### Acceso - Celular sin plan de datos"
   ]
  },
  {
   "cell_type": "code",
   "execution_count": null,
   "id": "5179049e",
   "metadata": {},
   "outputs": [],
   "source": [
    "generar_tabla_recuento(base_filtrada_aux, \"i_cel_sdatos\", \"Uso del internet a traves de una CELULAR SIN PLAN DE DATOS\", False)"
   ]
  },
  {
   "cell_type": "markdown",
   "id": "9ea3ff5a-df4b-4918-9073-81ec30fb2bde",
   "metadata": {},
   "source": [
    "### Acceso - Celular con plan de datos"
   ]
  },
  {
   "cell_type": "code",
   "execution_count": null,
   "id": "91dd43b7",
   "metadata": {},
   "outputs": [],
   "source": [
    "generar_tabla_recuento(base_filtrada_aux, \"i_cel_cdatos\", \"Uso del internet a traves de una CELULAR CON PLAN DE DATOS\",False)"
   ]
  },
  {
   "cell_type": "code",
   "execution_count": null,
   "id": "63970d7f",
   "metadata": {},
   "outputs": [],
   "source": [
    "#generar_tabla_recuento(base_filtrada_aux, \"p314b1_5\", \"Uso del internet a traves de una CELULAR DE SU CENTRO DE TRABAJO\", guardar_como_jpeg=True) "
   ]
  },
  {
   "cell_type": "markdown",
   "id": "5b3bcbd7-1835-4cc6-856b-57d584615275",
   "metadata": {},
   "source": [
    "## DIMENSION -APROPIACION - Para qué uso el internet"
   ]
  },
  {
   "cell_type": "code",
   "execution_count": null,
   "id": "bbda7219-3c8f-452c-a713-4c95b010eba7",
   "metadata": {},
   "outputs": [],
   "source": [
    "generar_tabla_recuento(base_filtrada_aux, \"i_obtener_info\", \"Usó el Internet para: Obtener información\",False)"
   ]
  },
  {
   "cell_type": "code",
   "execution_count": null,
   "id": "24b1e8f0-d0d3-4c35-af82-bb4a183fd7c7",
   "metadata": {},
   "outputs": [],
   "source": [
    "generar_tabla_recuento(base_filtrada_aux, \"i_comunicarse\", \"Usó el Internet para: Comunicarsen\",False)"
   ]
  },
  {
   "cell_type": "code",
   "execution_count": null,
   "id": "46afff72-766e-4051-bc70-d47b5bac0dbf",
   "metadata": {},
   "outputs": [],
   "source": [
    "generar_tabla_recuento(base_filtrada_aux, \"i_comprar_pdts_ss\", \"Usó el Internet para: Comprar productos_servicios\",False)"
   ]
  },
  {
   "cell_type": "code",
   "execution_count": null,
   "id": "f461771e-aa28-4934-b3ab-18f13667947b",
   "metadata": {},
   "outputs": [],
   "source": [
    "generar_tabla_recuento(base_filtrada_aux,'i_operaciones_bancarias', 'Usó el Internet para: Operaciones de banca electrónica', False)\n"
   ]
  },
  {
   "cell_type": "code",
   "execution_count": null,
   "id": "a0432c5d-e646-4214-b1e4-69cf4a8a78a3",
   "metadata": {},
   "outputs": [],
   "source": [
    "generar_tabla_recuento(base_filtrada_aux, \"i_edu_formal\", \"Usó el Internet para: Educación formal y actividades de capacitación\",False)"
   ]
  },
  {
   "cell_type": "code",
   "execution_count": null,
   "id": "863556b2-79a6-4cbb-bc0d-d81d67984cc7",
   "metadata": {},
   "outputs": [],
   "source": [
    "generar_tabla_recuento(base_filtrada_aux, \"i_transacciones\", \"Usó el Internet para: Transacciones\",False)"
   ]
  },
  {
   "cell_type": "code",
   "execution_count": null,
   "id": "cef8d357-4a05-4a4a-b3ff-ad9c9b967e58",
   "metadata": {},
   "outputs": [],
   "source": [
    "generar_tabla_recuento(base_filtrada_aux, \"i_act_entretenimiento\", \"Usó el Internet para: Actividades de entretenimiento\",False)"
   ]
  },
  {
   "cell_type": "code",
   "execution_count": null,
   "id": "dee9981d-dba5-4999-9438-3cd3de3d4df8",
   "metadata": {},
   "outputs": [],
   "source": [
    "generar_tabla_recuento(base_filtrada_aux, \"i_vender_pdts\", \"Usó el Internet para: Vender productos_servicios\",False)"
   ]
  },
  {
   "cell_type": "code",
   "execution_count": null,
   "id": "f1184088-0c0b-4b09-9bb1-cd7e4873ebdf",
   "metadata": {},
   "outputs": [],
   "source": [
    "generar_tabla_recuento(base_filtrada_aux, \"i_descarga_antivirus\", \"Usó el Internet para: descarga de antivirus\",False)"
   ]
  },
  {
   "cell_type": "markdown",
   "id": "532b697c-e387-488e-999f-9ed4e649feb6",
   "metadata": {},
   "source": [
    "## CLASES A DISTANCIA"
   ]
  },
  {
   "cell_type": "code",
   "execution_count": null,
   "id": "bd7bdb42-3e96-4887-a7b4-7cf7f7ef8213",
   "metadata": {},
   "outputs": [],
   "source": [
    "# Cuenta los valores nulos en la columna \"mi_columna\"\n",
    "nulos_en_columna = base_filtrada_aux['cl_medio_tv'].isnull().sum()\n",
    "\n",
    "# Muestra el resultado\n",
    "print(\"Cantidad de valores nulos en 'mi_columna':\", nulos_en_columna)"
   ]
  },
  {
   "cell_type": "code",
   "execution_count": null,
   "id": "6528ad5a-ab3b-4492-852e-c2304bf73de4",
   "metadata": {},
   "outputs": [],
   "source": [
    "generar_tabla_recuento(base_filtrada_aux, \"cl_medio_tv\", \"Acceso al contenido de clase - TELEVISION\",False)"
   ]
  },
  {
   "cell_type": "code",
   "execution_count": null,
   "id": "7e92479f-c2ca-4734-9600-0dd8fe444906",
   "metadata": {},
   "outputs": [],
   "source": [
    "generar_tabla_recuento(base_filtrada_aux, \"cl_medio_radio\", \"Acceso al contenido de clase - RADIO\",False)"
   ]
  },
  {
   "cell_type": "code",
   "execution_count": null,
   "id": "2893333d-daa9-4f54-b4ae-dc95171f9d20",
   "metadata": {},
   "outputs": [],
   "source": [
    "generar_tabla_recuento(base_filtrada_aux, \"cl_medio_plataforma_virtual\", \"Acceso al contenido de clase - PLATAFORMA VIRTUAL\",False)"
   ]
  },
  {
   "cell_type": "code",
   "execution_count": null,
   "id": "20e720c9-4b89-48f9-bd6b-8d241d797d62",
   "metadata": {},
   "outputs": [],
   "source": [
    "generar_tabla_recuento(base_filtrada_aux, \"cl_medio_otro\", \"Acceso al contenido de clase - OTRO\",False)"
   ]
  },
  {
   "cell_type": "code",
   "execution_count": null,
   "id": "a3f88688-185a-4f61-b092-b1adca569bec",
   "metadata": {},
   "outputs": [],
   "source": [
    "generar_tabla_recuento(base_filtrada_aux, \"cl_medio_wsp\", \"Acceso al contenido de clase - WHATSAPP\",False)"
   ]
  },
  {
   "cell_type": "code",
   "execution_count": null,
   "id": "3bb15878-e20d-4c18-8a25-6522174e0ff1",
   "metadata": {},
   "outputs": [],
   "source": [
    "generar_tabla_recuento(base_filtrada_aux, \"cl_medio_correo\", \"Acceso al contenido de clase - CORREO\",False)"
   ]
  },
  {
   "cell_type": "code",
   "execution_count": null,
   "id": "fd0b0a9f-9e7c-4cd8-b05a-70f5a6144fed",
   "metadata": {},
   "outputs": [],
   "source": [
    "generar_tabla_recuento(base_filtrada_aux, \"cl_medio_llamadas\", \"Acceso al contenido de clase - LLAMADAS\",False)"
   ]
  },
  {
   "cell_type": "code",
   "execution_count": null,
   "id": "427d5088-d4f2-4d66-9f2c-c69c9dc373da",
   "metadata": {},
   "outputs": [],
   "source": [
    "generar_tabla_recuento(base_filtrada_aux, \"cl_desarrollo_interaccion\", \"Acceso al contenido de clase - INTERACCION PROFESOR\",False)"
   ]
  },
  {
   "cell_type": "code",
   "execution_count": null,
   "id": "515bd9ad-1bda-441b-96d6-9e7b6878dce2",
   "metadata": {},
   "outputs": [],
   "source": [
    "generar_tabla_recuento(base_filtrada_aux, \"cl_desarrollo_videos\", \"Acceso al contenido de clase - VIDEOS\",False)"
   ]
  },
  {
   "cell_type": "code",
   "execution_count": null,
   "id": "93ef428c-d602-469d-85d3-5b3ea8dd6134",
   "metadata": {},
   "outputs": [],
   "source": [
    "generar_tabla_recuento(base_filtrada_aux, \"cl_desarrollo_documentos\", \"Acceso al contenido de clase - DOCUMENTOS\",False)"
   ]
  },
  {
   "cell_type": "code",
   "execution_count": null,
   "id": "36785174-deff-494c-acd8-622e9d64c784",
   "metadata": {},
   "outputs": [],
   "source": [
    "generar_tabla_recuento(base_filtrada_aux, \"cl_desarrollo_otros\", \"Acceso al contenido de clase - OTROS\",False)"
   ]
  },
  {
   "cell_type": "code",
   "execution_count": null,
   "id": "282f9864-e1eb-4214-90fd-799d59053aaf",
   "metadata": {},
   "outputs": [],
   "source": [
    "generar_tabla_recuento(base_filtrada_aux, \"cl_desarrollo_msm_audio\", \"Acceso al contenido de clase - MENSAJES DE AUDIO\",False)"
   ]
  },
  {
   "cell_type": "code",
   "execution_count": null,
   "id": "942ae27d-d475-4c15-a7d9-a386e01eeab2",
   "metadata": {},
   "outputs": [],
   "source": [
    "generar_tabla_recuento(base_filtrada_aux, \"cl_desarrollo_msm_texto\", \"Acceso al contenido de clase - MENSAJES DE TEXTO\",False)"
   ]
  },
  {
   "cell_type": "code",
   "execution_count": null,
   "id": "27e01923-6227-49b8-a1d3-9f3b941f8125",
   "metadata": {},
   "outputs": [],
   "source": [
    "generar_tabla_recuento(base_filtrada_aux, \"cl_desarrollo_sin_acompañamiento\", \"Acceso al contenido de clase - SIN ACOMPAÑAMIENTO\",False)"
   ]
  },
  {
   "cell_type": "markdown",
   "id": "932f9ef0",
   "metadata": {
    "tags": []
   },
   "source": [
    "# Graficos"
   ]
  },
  {
   "cell_type": "code",
   "execution_count": null,
   "id": "fb75f5a3-3054-4b6b-8999-8a0ba2e14bbf",
   "metadata": {},
   "outputs": [],
   "source": [
    "base_filtrada.shape"
   ]
  },
  {
   "cell_type": "markdown",
   "id": "7f1c9903-3f4b-407f-a70e-cfe030d6072f",
   "metadata": {},
   "source": [
    "## V. Continuas - Miembros por hogar , Edad y Años de escolaridad"
   ]
  },
  {
   "cell_type": "code",
   "execution_count": null,
   "id": "f2079caf",
   "metadata": {},
   "outputs": [],
   "source": [
    "guardar_histograma_con_pesos(base_filtrada, 'mieperho','Miembros por hogar', 21)"
   ]
  },
  {
   "cell_type": "code",
   "execution_count": null,
   "id": "0948067c",
   "metadata": {},
   "outputs": [],
   "source": [
    "guardar_histograma_con_pesos(base_filtrada, 'Edad','Edad',12)"
   ]
  },
  {
   "cell_type": "code",
   "execution_count": null,
   "id": "009a87f9-1bef-4c42-ad22-ab589da18343",
   "metadata": {},
   "outputs": [],
   "source": [
    "guardar_histograma_con_pesos(base_filtrada, 'años_escolaridad','Años de escolaridad', 11)"
   ]
  },
  {
   "cell_type": "markdown",
   "id": "fb9ef9bf-e2e2-4a30-bf7c-27ca26af6c8a",
   "metadata": {
    "tags": []
   },
   "source": [
    "## V. Cualitativas - Nivel educativo y centro de estudios"
   ]
  },
  {
   "cell_type": "code",
   "execution_count": null,
   "id": "fcc7d0e4-f257-4059-b15a-545f269694ad",
   "metadata": {},
   "outputs": [],
   "source": [
    "base_filtrada_aux = base_filtrada.copy()"
   ]
  },
  {
   "cell_type": "code",
   "execution_count": null,
   "id": "015c6211-2f0e-40fc-84d7-64a3346d2a38",
   "metadata": {},
   "outputs": [],
   "source": [
    "label = [\"Primaria\",\"Secundaria\"]\n",
    "guardar_graf_barras(base_filtrada,'Nivel_educativo', labels = label)"
   ]
  },
  {
   "cell_type": "code",
   "execution_count": null,
   "id": "f29be420-eaaf-49b9-b91a-d9f30a5dfa33",
   "metadata": {},
   "outputs": [],
   "source": [
    "label = [\"Privada\", \"Nacional\"]\n",
    "guardar_graf_barras(base_filtrada,'Centro_estudios', labels = label)\n",
    "#label = [\"Nacional\",\"Privada\"]"
   ]
  },
  {
   "cell_type": "markdown",
   "id": "821135f6-bbd4-408f-97cf-367545744fb5",
   "metadata": {},
   "source": [
    "## V.C. Idioma y Sexo"
   ]
  },
  {
   "cell_type": "code",
   "execution_count": null,
   "id": "b198374e",
   "metadata": {},
   "outputs": [],
   "source": [
    "label = [\"Otro\",\"Castellano\"]\n",
    "guardar_graf_barras(base_filtrada,'Idioma', labels = label)"
   ]
  },
  {
   "cell_type": "code",
   "execution_count": null,
   "id": "64698e3a",
   "metadata": {},
   "outputs": [],
   "source": [
    "label= [\"Hombre\",\"Mujer\"]\n",
    "guardar_graf_barras(base_filtrada,'Sexo', label)"
   ]
  },
  {
   "cell_type": "markdown",
   "id": "8246ae42-895b-46ed-8ca2-3cafe182f94d",
   "metadata": {},
   "source": [
    "## Area y Estrato Social"
   ]
  },
  {
   "cell_type": "code",
   "execution_count": null,
   "id": "acb742d2",
   "metadata": {},
   "outputs": [],
   "source": [
    "label = [\"Rural\", \"Urbano\"]\n",
    "guardar_graf_barras(base_filtrada,'Area', label)"
   ]
  },
  {
   "cell_type": "code",
   "execution_count": null,
   "id": "ccd7b96d",
   "metadata": {},
   "outputs": [],
   "source": [
    "label = [\"A\", \"B\",\"C\",\"D\", \"E\",\"rural\"]\n",
    "guardar_graf_barras(base_filtrada,'estrsocial',label)"
   ]
  },
  {
   "cell_type": "code",
   "execution_count": null,
   "id": "fade1f89-f21a-4143-8399-33e5f3279ebd",
   "metadata": {},
   "outputs": [],
   "source": [
    "label = [\"Costa\", \"Sierra\",\"Selva\"]\n",
    "guardar_graf_barras(base_filtrada,'Region',label)"
   ]
  },
  {
   "cell_type": "code",
   "execution_count": null,
   "id": "06d03e85-0613-411c-ad93-470001febe92",
   "metadata": {},
   "outputs": [],
   "source": [
    "#label = [\"1.Amazonas\",\"2.Ancash\",\"3.Apurímac\",\"4.Arequipa\",\"5.Ayacucho\",\"6.Cajamarca\",\"7.Callao\",\"8.Cusco\",\"9.Huancavelica\",\"10.Huánuco\", \"11.Ica\",\"12.Junín\",\"13.La Libertad\",\n",
    "#         \"14.Lambayeque\",\"15.Lima\",\"16.Loreto\", \"17.Madre de Dios\",\"18.Moquegua\",\"19.Pasco\",\"20.Piura\", \"21.Puno\",\"22.San Martín\", \"23.Tacna\",\"24.Tumbes\",\"25.Ucayali\"]\n",
    "#guardar_graf_barras(base_filtrada,'DEPARTAMENTO', label)"
   ]
  },
  {
   "cell_type": "code",
   "execution_count": null,
   "id": "87d0a50b-95ec-4ed6-a939-291a565735d8",
   "metadata": {},
   "outputs": [],
   "source": [
    "label = [\"No\",\"Si\"]\n",
    "guardar_graf_barras(base_filtrada,'Electricidad', label)"
   ]
  },
  {
   "cell_type": "code",
   "execution_count": null,
   "id": "b4a5ad41-cd4d-4b7c-9609-5c2beb1fe2ca",
   "metadata": {},
   "outputs": [],
   "source": [
    "label = [\"No\",\"Si\"]\n",
    "guardar_graf_barras(base_filtrada, 'i_uso', label)"
   ]
  },
  {
   "cell_type": "code",
   "execution_count": null,
   "id": "212af8b2-7730-42c7-b12f-f7e70ff66d03",
   "metadata": {},
   "outputs": [],
   "source": [
    "label = [\"No\",\"Si\"]\n",
    "guardar_graf_barras(base_filtrada, 'i_conexion_hog', label)"
   ]
  },
  {
   "cell_type": "code",
   "execution_count": null,
   "id": "92d4f45a-78cb-44c5-9868-27eb2767cf29",
   "metadata": {},
   "outputs": [],
   "source": [
    "label = [\"No\",\"Si\"]\n",
    "guardar_graf_barras(base_filtrada, 'cel_hog', label)"
   ]
  },
  {
   "cell_type": "code",
   "execution_count": null,
   "id": "0d738cee-236e-4bc7-8a06-90591a758b13",
   "metadata": {},
   "outputs": [],
   "source": [
    "label = [\"No\",\"Si\"]\n",
    "guardar_graf_barras(base_filtrada, 'conexion_cable_hog', label)"
   ]
  },
  {
   "cell_type": "code",
   "execution_count": null,
   "id": "52e17bd5-50aa-4618-9022-8818e75dd601",
   "metadata": {},
   "outputs": [],
   "source": [
    "label = [\"No\",\"Si\"]\n",
    "guardar_graf_barras(base_filtrada, 'cel_uso', label)"
   ]
  },
  {
   "cell_type": "markdown",
   "id": "dc91db93-2cab-4e4b-8cb1-17f93fb3f43c",
   "metadata": {},
   "source": [
    "## Grafico de barras - USO (Donde uso internet)"
   ]
  },
  {
   "cell_type": "markdown",
   "id": "771cfb00-7e1b-4916-ad6a-cd3990ea6de8",
   "metadata": {
    "tags": []
   },
   "source": [
    "### Funcion"
   ]
  },
  {
   "cell_type": "code",
   "execution_count": null,
   "id": "b7713147-a4d7-4142-ae5e-b557f3a979d7",
   "metadata": {},
   "outputs": [],
   "source": [
    "i_uso        = barras(base_filtrada_aux, \"i_uso\"       ,\"                                      Uso de internet\")\n",
    "i_uso_cedu   = barras(base_filtrada_aux,\"i_uso_cedu\"  ,\"                                      Establecimiento educativo\")\n",
    "i_uso_trab   = barras(base_filtrada_aux,\"i_uso_trab\"  ,\"                                      Trabajo\")\n",
    "i_uso_hog    = barras(base_filtrada_aux,\"i_uso_hog\"   ,\"                                      Hogar\")\n",
    "i_uso_cab    = barras(base_filtrada_aux,\"i_uso_cab\"   ,\"                                      Cabina pública\")\n",
    "i_uso_casotr = barras(base_filtrada_aux,\"i_uso_casotr\",\"                                     Casa de otra persona\")\n",
    "i_uso_otro   = barras(base_filtrada_aux,\"i_uso_otro\"  ,\"                                     Otro\")\n",
    "i_uso_movil  = barras(base_filtrada_aux,\"i_uso_movil\" ,\"                                     Acceso móvil a internet\")"
   ]
  },
  {
   "cell_type": "code",
   "execution_count": null,
   "id": "01fea482-af33-484b-94f6-64845db61503",
   "metadata": {},
   "outputs": [],
   "source": [
    "i_uso_cedu"
   ]
  },
  {
   "cell_type": "code",
   "execution_count": null,
   "id": "38188bf6-13d5-41bd-973a-dd0c41a9f79f",
   "metadata": {},
   "outputs": [],
   "source": [
    "data3 = pd.concat([i_uso_cedu, i_uso_trab, i_uso_hog, i_uso_cab, i_uso_casotr,i_uso_otro, i_uso_movil], axis=0)\n",
    "data3 = data3.reset_index(drop=True)\n",
    "#data3"
   ]
  },
  {
   "cell_type": "markdown",
   "id": "138d46b8-80ee-4062-ae3b-70b73e148d75",
   "metadata": {},
   "source": [
    "### plot"
   ]
  },
  {
   "cell_type": "code",
   "execution_count": null,
   "id": "8f7a9d50-922c-4132-b614-4861c5ac017f",
   "metadata": {},
   "outputs": [],
   "source": [
    "graf_multiples(data3, 'uso')"
   ]
  },
  {
   "cell_type": "markdown",
   "id": "d5a7b65e-4867-4fce-bbb3-469e7174ca48",
   "metadata": {},
   "source": [
    "## Grafico de barras - ACCESO - Equipo de acceso de servicio de Internet"
   ]
  },
  {
   "cell_type": "code",
   "execution_count": null,
   "id": "f203c8bd-2304-4e88-a2d8-1e6a29d8eab4",
   "metadata": {},
   "outputs": [],
   "source": [
    "i_computadora = barras(base_filtrada_aux, \"i_computadora\",\"                                          Computadora\")\n",
    "i_tablet      = barras(base_filtrada_aux, \"i_tablet\"     ,\"                                          Tablet\")\n",
    "i_laptop      = barras(base_filtrada_aux, \"i_laptop\"     ,\"                                          Laptop\")\n",
    "i_otro        = barras(base_filtrada_aux, \"i_otro\"       ,\"                                         Otro\")\n",
    "i_cel_sdatos  = barras(base_filtrada_aux, \"i_cel_sdatos\" ,\"                                         Celular sin plan de datos\")\n",
    "i_cel_cdatos  = barras(base_filtrada_aux, \"i_cel_cdatos\" ,\"                                         Celular con plan de datos\")"
   ]
  },
  {
   "cell_type": "code",
   "execution_count": null,
   "id": "087ce9ba",
   "metadata": {},
   "outputs": [],
   "source": [
    "data3 = pd.concat([i_computadora, i_tablet, i_laptop, i_otro, i_cel_sdatos, i_cel_cdatos], axis=0)\n",
    "data3 = data3.reset_index(drop=True)\n",
    "data3"
   ]
  },
  {
   "cell_type": "markdown",
   "id": "6a6d3c23-b823-402d-8b57-708501fa7aa8",
   "metadata": {},
   "source": [
    "### Plot"
   ]
  },
  {
   "cell_type": "code",
   "execution_count": null,
   "id": "9459fb0d-73aa-4397-8a3b-ed85b29b8996",
   "metadata": {},
   "outputs": [],
   "source": [
    "graf_multiples(data3,'acceso')"
   ]
  },
  {
   "cell_type": "markdown",
   "id": "62e0c104-8aec-4d83-9204-a38fb3b20007",
   "metadata": {},
   "source": [
    "## Grafico - Para qué uso el internet"
   ]
  },
  {
   "cell_type": "code",
   "execution_count": null,
   "id": "76849672-0c5c-429a-8491-5893637bdb0f",
   "metadata": {},
   "outputs": [],
   "source": [
    "i_obtener_info         = barras(base_filtrada_aux, \"i_obtener_info\",\"Obtener información (sobre bienes y servicios, \\n salud, organizaciones gubernamentales)\")\n",
    "i_comunicarse          = barras(base_filtrada_aux, \"i_comunicarse\", \"Comunicarse (e-mail, chat, llamadas por Skype, \\n WhatsApp, Facebook, Twitter, etc.)\")\n",
    "i_comprar_pdts_ss      = barras(base_filtrada_aux, \"i_comprar_pdts_ss\", \"Comprar productos y/o servicios\")\n",
    "i_operaciones_bancarias = barras(base_filtrada_aux, \"i_operaciones_bancarias\", \"Operaciones de banca electrónica \\n y otros servicios financieros\")\n",
    "i_edu_formal          = barras(base_filtrada_aux, \"i_edu_formal\", \"Educación formal y actividades \\n de capacitación\")\n",
    "i_transacciones       = barras(base_filtrada_aux, \"i_transacciones\",\"Transacciones (interactuar) con organizaciones \\n estatales/autoridades públicas\")\n",
    "i_act_entretenimiento = barras(base_filtrada_aux, \"i_act_entretenimiento\",\"Actividades de entretenimiento (juegos de video, \\n obtener películas, música, videos, escuchar radio, \\n leer periódico, etc.)\")\n",
    "i_vender_pdts         = barras(base_filtrada_aux, \"i_vender_pdts\", \"Vender productos y/o servicios \\n (Mercado Libre, OLX, Facebook, etc.)\")\n",
    "i_descarga_antivirus = barras(base_filtrada_aux,\"i_descarga_antivirus\", \"Descarga de antivirus / aplicativos  \\n /software(programas)\")"
   ]
  },
  {
   "cell_type": "code",
   "execution_count": null,
   "id": "d37c396d-b14e-4e75-8e93-63c7a7031f8e",
   "metadata": {},
   "outputs": [],
   "source": [
    "data3 = pd.concat([i_obtener_info, i_comunicarse,i_comprar_pdts_ss, i_operaciones_bancarias, i_edu_formal, i_transacciones,\n",
    "                  i_act_entretenimiento, i_vender_pdts, i_descarga_antivirus], axis=0)\n",
    "data3 = data3.reset_index(drop=True)\n",
    "#data3"
   ]
  },
  {
   "cell_type": "markdown",
   "id": "df3229f3-6935-4d6f-92ee-57c26e18fbb5",
   "metadata": {},
   "source": [
    "### Plot"
   ]
  },
  {
   "cell_type": "code",
   "execution_count": null,
   "id": "8be5f948-5e2d-47f1-bf1f-ae9f45f032fc",
   "metadata": {},
   "outputs": [],
   "source": [
    "graf_multiples(data3,'apropiacion')"
   ]
  },
  {
   "cell_type": "markdown",
   "id": "c84a96f1-bd49-459f-bae9-9b4db5eb05c6",
   "metadata": {},
   "source": [
    "## Grafico de barras - Clases a DISTANCIA"
   ]
  },
  {
   "cell_type": "code",
   "execution_count": null,
   "id": "bdeb62a5-32e6-40f1-b13f-779467c09138",
   "metadata": {},
   "outputs": [],
   "source": [
    "cl_medio_tv                 = barras(base_filtrada_aux, \"cl_medio_tv\"                , \"                                  Televisión\")\n",
    "cl_medio_radio              = barras(base_filtrada_aux,\"cl_medio_radio\"             , \"                                  Radio/equipo de sonido\")\n",
    "cl_medio_plataforma_virtual = barras(base_filtrada_aux, \"cl_medio_plataforma_virtual\", \"                                  Plataforma virtual/página web\")\n",
    "cl_medio_otro               = barras(base_filtrada_aux,\"cl_medio_otro\"              , \"                                  Otro\")\n",
    "cl_medio_wsp                = barras(base_filtrada_aux, \"cl_medio_wsp\"               , \"                                  Whatsapp\")\n",
    "cl_medio_correo             = barras(base_filtrada_aux, \"cl_medio_correo\"            , \"                                  Correo\")\n",
    "cl_medio_llamadas           = barras(base_filtrada_aux, \"cl_medio_llamadas\"          , \"                                  Llamadas\")"
   ]
  },
  {
   "cell_type": "code",
   "execution_count": null,
   "id": "84c82615-b957-43e8-b0c6-e7cc6c241837",
   "metadata": {},
   "outputs": [],
   "source": [
    "data3 = pd.concat([cl_medio_tv, cl_medio_radio, cl_medio_plataforma_virtual, cl_medio_otro, cl_medio_wsp, cl_medio_correo, cl_medio_llamadas], axis=0)\n",
    "data3 = data3.reset_index(drop=True)\n",
    "#data3"
   ]
  },
  {
   "cell_type": "markdown",
   "id": "de8fca3c-bab0-4fb8-b838-8ba301c16e6d",
   "metadata": {
    "tags": []
   },
   "source": [
    "### plot"
   ]
  },
  {
   "cell_type": "code",
   "execution_count": null,
   "id": "a853a988-836e-42d6-b6a5-5a5c7b8f9ec5",
   "metadata": {},
   "outputs": [],
   "source": [
    "graf_multiples(data3,'clases_medio')"
   ]
  },
  {
   "cell_type": "code",
   "execution_count": null,
   "id": "e055ab15-5773-4016-a8f2-da5e9a0e8168",
   "metadata": {},
   "outputs": [],
   "source": [
    "cl_desarrollo_interaccion        = barras(base_filtrada_aux, \"cl_desarrollo_interaccion\"       , \"                         Interacción con el profesor\")\n",
    "cl_desarrollo_videos             = barras(base_filtrada_aux,\"cl_desarrollo_videos\"            , \"                         Videos\")\n",
    "cl_desarrollo_documentos         = barras(base_filtrada_aux, \"cl_desarrollo_documentos\"        , \"                         Documentos (textos, cuadros, etc.)\")\n",
    "cl_desarrollo_otros              = barras(base_filtrada_aux, \"cl_desarrollo_otros\"             , \"                         Otros\")\n",
    "cl_desarrollo_msm_audio          = barras(base_filtrada_aux, \"cl_desarrollo_msm_audio\"         , \"                         Mensaje de Audio\")\n",
    "cl_desarrollo_msm_texto          = barras(base_filtrada_aux, \"cl_desarrollo_msm_texto\"         , \"                         Mensaje de texto\")\n",
    "cl_desarrollo_sin_acompañamiento = barras(base_filtrada_aux, \"cl_desarrollo_sin_acompañamiento\", \"                         Sin acompañamiento\")"
   ]
  },
  {
   "cell_type": "code",
   "execution_count": null,
   "id": "86818776-1310-4f55-b44a-493f32da5ea9",
   "metadata": {},
   "outputs": [],
   "source": [
    "data3 = pd.concat([cl_desarrollo_interaccion, cl_desarrollo_videos, cl_desarrollo_documentos, cl_desarrollo_otros, cl_desarrollo_msm_audio, cl_desarrollo_msm_texto,\n",
    "                   cl_desarrollo_sin_acompañamiento], axis=0)\n",
    "data3 = data3.reset_index(drop=True)\n",
    "#data3"
   ]
  },
  {
   "cell_type": "markdown",
   "id": "5a2ee53a-54d1-4e4c-982b-7a1058b91f2d",
   "metadata": {},
   "source": [
    "### Plot"
   ]
  },
  {
   "cell_type": "code",
   "execution_count": null,
   "id": "60a80afb-6e30-4596-895e-b4a1f765022f",
   "metadata": {},
   "outputs": [],
   "source": [
    "graf_multiples(data3,'medio_desarrollo')"
   ]
  },
  {
   "cell_type": "markdown",
   "id": "fa9e36b7",
   "metadata": {},
   "source": [
    "# Regresión"
   ]
  },
  {
   "cell_type": "code",
   "execution_count": null,
   "id": "dd171a43-7dd3-443d-80e0-2b41cb84c212",
   "metadata": {},
   "outputs": [],
   "source": [
    "base_filtrada['i_uso'].value_counts()\n",
    "missing_values = base_filtrada['i_uso'].isna().sum()\n",
    "print(\"Número de valores faltantes en 'i_uso_hog':\", missing_values)"
   ]
  },
  {
   "cell_type": "code",
   "execution_count": null,
   "id": "998ec12e-d89a-4614-89be-e5f2fc55f532",
   "metadata": {},
   "outputs": [],
   "source": [
    "base_filtrada = base_filtrada[base_filtrada[\"estrsocial\"] != 6]"
   ]
  },
  {
   "cell_type": "code",
   "execution_count": null,
   "id": "cbf9e965-2081-486a-9a7c-6c58d3f12fae",
   "metadata": {},
   "outputs": [],
   "source": [
    "base_filtrada.estrsocial.value_counts()"
   ]
  },
  {
   "cell_type": "code",
   "execution_count": null,
   "id": "86fb8b2e-3533-4ab3-8715-98ad00772448",
   "metadata": {},
   "outputs": [],
   "source": [
    "#base_filtrada.columns"
   ]
  },
  {
   "cell_type": "code",
   "execution_count": null,
   "id": "e68763a3-2144-4511-bb9a-505130ec08f9",
   "metadata": {},
   "outputs": [],
   "source": [
    "base_filtrada.shape"
   ]
  },
  {
   "cell_type": "code",
   "execution_count": null,
   "id": "33728a9a-28c4-44f0-8234-428e2e3cb95b",
   "metadata": {},
   "outputs": [],
   "source": [
    "base_filtrada.i_uso.value_counts()"
   ]
  },
  {
   "cell_type": "markdown",
   "id": "620e2905-038d-4893-a7fb-c1b9ec7079da",
   "metadata": {},
   "source": [
    "## Variables Y X"
   ]
  },
  {
   "cell_type": "code",
   "execution_count": null,
   "id": "e9178c3b-3eef-47f8-9620-2f51952ebc39",
   "metadata": {},
   "outputs": [],
   "source": [
    "# Define la variable dependiente (binaria) y las variables independientes\n",
    "y = base_filtrada['i_uso']\n",
    "X = base_filtrada[['Sexo', 'Edad','años_escolaridad','mieperho', \n",
    "                   'cel_uso',\n",
    "                   'Electricidad', 'Idioma','Centro_estudios'\n",
    "                   #,'Area'\n",
    "                  ]]\n",
    "weights = base_filtrada['factor07']"
   ]
  },
  {
   "cell_type": "code",
   "execution_count": null,
   "id": "32791b6c-987a-4b55-b5bc-365e4c1ff0f8",
   "metadata": {},
   "outputs": [],
   "source": [
    "base_filtrada['i_uso'].value_counts()"
   ]
  },
  {
   "cell_type": "code",
   "execution_count": null,
   "id": "352de659-22b9-4453-add2-0bc96b7ef1ef",
   "metadata": {},
   "outputs": [],
   "source": [
    "base_filtrada['cel_uso'].value_counts()"
   ]
  },
  {
   "cell_type": "code",
   "execution_count": null,
   "id": "1062d332-636b-480e-9fbb-4e7d8cb2a69d",
   "metadata": {},
   "outputs": [],
   "source": [
    "#base_filtrada['Area'].value_counts()"
   ]
  },
  {
   "cell_type": "code",
   "execution_count": null,
   "id": "b6f637f6-f923-40bb-b62f-9a2de3b8f97c",
   "metadata": {},
   "outputs": [],
   "source": [
    "base_filtrada['cel_uso'].value_counts()\n",
    "missing_values = base_filtrada['cel_uso'].isna().sum()\n",
    "print(\"Número de valores faltantes en 'i_uso_hog':\", missing_values)"
   ]
  },
  {
   "cell_type": "markdown",
   "id": "984409e5-8f3f-43a6-bafd-1edf5ff4acf8",
   "metadata": {},
   "source": [
    "### Dummies"
   ]
  },
  {
   "cell_type": "code",
   "execution_count": null,
   "id": "aa62d680-63ad-448d-b393-ad6bc41d6f01",
   "metadata": {},
   "outputs": [],
   "source": [
    "# Codifica la variable categórica nominal \"Region\" en variables dummy\n",
    "estrato_social_dummies = pd.get_dummies(base_filtrada['estrsocial'], prefix='estrsocial', drop_first=True)\n",
    "\n",
    "# Codifica la variable categórica ordinal \"Nivel_educativo\" en variables dummy\n",
    "#nivel_educativo_dummies = pd.get_dummies(base_filtrada['Nivel_educativo'], prefix='Nivel_educativo', drop_first=True)\n",
    "\n",
    "# Codifica la variable categórica nominal \"Region\" en variables dummy\n",
    "region_dummies = pd.get_dummies(base_filtrada['Region'], prefix='Region', drop_first=True)\n",
    "\n",
    "# Codifica la variable categórica nominal \"Region\" en variables dummy\n",
    "departamento_dummies= pd.get_dummies(base_filtrada['DEPARTAMENTO'], prefix='DEPARTAMENTO', drop_first=False)\n",
    "departamento_dummies = departamento_dummies.drop(columns=['DEPARTAMENTO_15'])\n",
    "\n",
    "# Combina las variables dummy con el conjunto de variables independientes\n",
    "X = pd.concat([X, region_dummies\n",
    "               , estrato_social_dummies\n",
    "               ,departamento_dummies\n",
    "              ], axis=1)"
   ]
  },
  {
   "cell_type": "code",
   "execution_count": null,
   "id": "50cf319e-c2d3-4638-98d8-22bd88f2a1cd",
   "metadata": {},
   "outputs": [],
   "source": [
    "X.head()"
   ]
  },
  {
   "cell_type": "code",
   "execution_count": null,
   "id": "743f44d8-1b1e-4c83-8f34-df64a5d54157",
   "metadata": {},
   "outputs": [],
   "source": [
    "#X[\"Nivel_educativo_2.0\"].value_counts(normalize=True)  #PRIMARIA\n",
    "#X[\"Nivel_educativo_3.0\"].value_counts(normalize=True) # SECUNDARIA"
   ]
  },
  {
   "cell_type": "markdown",
   "id": "6491e8a4-8137-49e3-884b-f10dec0b187c",
   "metadata": {},
   "source": [
    "## Regresión Lineal SIMPLE"
   ]
  },
  {
   "cell_type": "code",
   "execution_count": null,
   "id": "e9733904",
   "metadata": {},
   "outputs": [],
   "source": [
    "# Agregar una constante al conjunto de datos (intercepto)\n",
    "X = sm.add_constant(X)\n",
    "model_linear = sm.OLS(y, X,weights=weights)\n",
    "results_linear = model_linear.fit()\n",
    "print(results_linear.summary())"
   ]
  },
  {
   "cell_type": "markdown",
   "id": "74c72ff0-5291-4683-b588-c7647db4e2d2",
   "metadata": {},
   "source": [
    "## Modelo Probit"
   ]
  },
  {
   "cell_type": "code",
   "execution_count": null,
   "id": "7f4770d9",
   "metadata": {},
   "outputs": [],
   "source": [
    "model_probit = sm.Probit(y, X, weights=weights)\n",
    "results_probit = model_probit.fit()\n",
    "print(results_probit.summary())\n",
    "\n",
    "# Calcula los efectos marginales\n",
    "efectos_marginales = results_probit.get_margeff()\n",
    "\n",
    "# Abre un archivo LaTeX para escribir el output\n",
    "with open('efectos_marginales.tex', 'w') as f:\n",
    "    f.write(efectos_marginales.summary().as_latex())\n",
    "        \n",
    "print(efectos_marginales.summary())"
   ]
  },
  {
   "cell_type": "raw",
   "id": "af7e37ac-e800-49db-9cf9-bd9d0f0e52be",
   "metadata": {},
   "source": [
    "modelo_seleccion = sm.Probit(y, X).fit()\n",
    "\n",
    "# Calcular los residuos de la ecuación de selección\n",
    "residuos_seleccion = model_probit.predict(X) - y\n",
    "\n",
    "# Ecuación de resultado (probit)\n",
    "X_resultado = X\n",
    "y_resultado = y\n",
    "X_resultado['residuos_seleccion'] = residuos_seleccion\n",
    "modelo_resultado = sm.Probit(y_resultado, X_resultado).fit()"
   ]
  },
  {
   "cell_type": "code",
   "execution_count": null,
   "id": "1acc2184-1fe2-44bc-b120-3c26f055db10",
   "metadata": {},
   "outputs": [],
   "source": [
    "modelo_seleccion = sm.Probit(y, X).fit()\n",
    "\n",
    "# Calcular las probabilidades estimadas de pertenecer a la clase positiva\n",
    "probabilidades_seleccion = modelo_seleccion.predict(X)\n",
    "\n",
    "# Ecuación de resultado (probit)\n",
    "X_resultado = X\n",
    "y_resultado = y\n",
    "\n",
    "# Calcular los residuos de la ecuación de resultado\n",
    "residuos_resultado = y_resultado - probabilidades_seleccion\n",
    "\n",
    "# Agregar los residuos como una nueva columna\n",
    "X_resultado['residuos_seleccion'] = residuos_resultado\n",
    "\n",
    "# Estimar el modelo de resultado\n",
    "modelo_resultado = sm.Probit(y_resultado, X_resultado).fit()"
   ]
  },
  {
   "cell_type": "code",
   "execution_count": null,
   "id": "2e44d0b7-94be-4ce1-81ac-6fc914ce71b5",
   "metadata": {},
   "outputs": [],
   "source": [
    "#residuos_seleccion = model_probit.predict(X) - y"
   ]
  },
  {
   "cell_type": "markdown",
   "id": "ab187675-624f-447d-aeaf-48bb2188c0b7",
   "metadata": {},
   "source": [
    "## LOGIT"
   ]
  },
  {
   "cell_type": "raw",
   "id": "ecbb3877-2d24-47d0-90c2-920a88ea0eec",
   "metadata": {},
   "source": [
    "logit_model = Logit(y, X, weights=weights)\n",
    "results_logit = logit_model.fit()\n",
    "marginal_effects_logit = results_logit.get_margeff()\n",
    "\n",
    "# Imprimir los resultados de la regresión logística y los efectos marginales\n",
    "print(results_logit.summary())\n",
    "print(marginal_effects_logit.summary())"
   ]
  },
  {
   "cell_type": "raw",
   "id": "bf01ea4c-a156-49c2-8775-61ea5005caa9",
   "metadata": {},
   "source": [
    "logit_model_1 = Logit(y, X, weights=weights)\n",
    "results_logit_1 = logit_model_1.fit(cov_type='HC3', disp=0)  # Usar 'HC3' para errores robustos\n",
    "print(results_logit_1.summary())\n",
    "\n",
    "# Calcular efectos marginales\n",
    "marginal_effects_logit_1 = results_logit_1.get_margeff()\n",
    "print(marginal_effects_logit_1.summary())"
   ]
  },
  {
   "cell_type": "code",
   "execution_count": null,
   "id": "1c726f26-85d3-4002-b068-a338e17385b9",
   "metadata": {},
   "outputs": [],
   "source": []
  },
  {
   "cell_type": "raw",
   "id": "c6ea4707-18d9-4ecd-997a-a10d3de73afd",
   "metadata": {},
   "source": [
    "# Agregar una constante al conjunto de datos (intercepto) para la regresión lineal\n",
    "#X = sm.add_constant(X) ###\n",
    "\n",
    "# Ajustar el modelo de regresión lineal ponderado\n",
    "model_linear = sm.WLS(y, X, weights=weights)\n",
    "results_linear = model_linear.fit()\n",
    "\n",
    "# Realizar un modelo Probit ponderado\n",
    "model_probit = sm.Probit(y, X, weights=weights)\n",
    "results_probit = model_probit.fit()\n",
    "\n",
    "# Realizar un modelo Logit ponderado\n",
    "model_logit = sm.Logit(y, X, weights=weights)\n",
    "results_logit = model_logit.fit()\n",
    "\n",
    "# Comparar los resultados utilizando esttab\n",
    "from statsmodels.iolib.summary2 import summary_col\n",
    "\n",
    "results = summary_col([results_linear, results_probit, results_logit], stars=True)\n",
    "print(results)"
   ]
  },
  {
   "cell_type": "raw",
   "id": "6fce7a33-4c91-4b43-bd1f-f80c7a7b0f85",
   "metadata": {},
   "source": [
    "El error que estás viendo, LinAlgError: Singular matrix, indica que tu matriz en la regresión logística es singular, lo que significa que no es de rango completo. En términos simples, esto significa que existe una relación lineal exacta entre algunas de tus variables independientes, lo que hace que la matriz sea no invertible."
   ]
  },
  {
   "cell_type": "code",
   "execution_count": null,
   "id": "e43d5f88-62bf-4874-a60b-13d86e5fc246",
   "metadata": {},
   "outputs": [],
   "source": [
    "X.head()"
   ]
  },
  {
   "cell_type": "code",
   "execution_count": null,
   "id": "8b677c8b-f8cd-4ae4-ba69-05123e797050",
   "metadata": {},
   "outputs": [],
   "source": [
    "y.info()"
   ]
  },
  {
   "cell_type": "code",
   "execution_count": null,
   "id": "6c7da235-ea83-4a00-b175-cf297d27654b",
   "metadata": {},
   "outputs": [],
   "source": [
    "base_filtrada.shape"
   ]
  },
  {
   "cell_type": "code",
   "execution_count": null,
   "id": "37d75f4b-5b2d-4ccf-aded-5b42ba520e8a",
   "metadata": {},
   "outputs": [],
   "source": [
    "base_filtrada_aux.shape"
   ]
  },
  {
   "cell_type": "code",
   "execution_count": null,
   "id": "219815bd-1870-4de0-9097-67118df0dd09",
   "metadata": {},
   "outputs": [],
   "source": []
  }
 ],
 "metadata": {
  "kernelspec": {
   "display_name": "Python 3 (ipykernel)",
   "language": "python",
   "name": "python3"
  },
  "language_info": {
   "codemirror_mode": {
    "name": "ipython",
    "version": 3
   },
   "file_extension": ".py",
   "mimetype": "text/x-python",
   "name": "python",
   "nbconvert_exporter": "python",
   "pygments_lexer": "ipython3",
   "version": "3.9.13"
  },
  "toc-autonumbering": true,
  "toc-showcode": false,
  "toc-showmarkdowntxt": false
 },
 "nbformat": 4,
 "nbformat_minor": 5
}
