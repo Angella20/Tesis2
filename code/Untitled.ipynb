{
 "cells": [
  {
   "cell_type": "code",
   "execution_count": 4,
   "id": "e78d0971-b00f-419a-973a-a5b67c1698b1",
   "metadata": {},
   "outputs": [],
   "source": [
    "#from survey import SurveyDesign"
   ]
  },
  {
   "cell_type": "code",
   "execution_count": 2,
   "id": "cb182194-dc13-4b8a-a300-2aa8753aebbe",
   "metadata": {},
   "outputs": [
    {
     "name": "stdout",
     "output_type": "stream",
     "text": [
      "Defaulting to user installation because normal site-packages is not writeable\n",
      "Requirement already satisfied: survey in c:\\users\\sinergy tech\\appdata\\roaming\\python\\python39\\site-packages (4.5.4)\n",
      "Note: you may need to restart the kernel to use updated packages.\n"
     ]
    }
   ],
   "source": [
    "#pip install survey\n"
   ]
  },
  {
   "cell_type": "code",
   "execution_count": 5,
   "id": "20fb6894-cc7d-4768-89e9-4b160a00f0d5",
   "metadata": {},
   "outputs": [
    {
     "ename": "AttributeError",
     "evalue": "'OutStream' object has no attribute 'buffer'",
     "output_type": "error",
     "traceback": [
      "\u001b[1;31m---------------------------------------------------------------------------\u001b[0m",
      "\u001b[1;31mAttributeError\u001b[0m                            Traceback (most recent call last)",
      "\u001b[1;32m~\\AppData\\Local\\Temp\\ipykernel_6640\\2542008868.py\u001b[0m in \u001b[0;36m<module>\u001b[1;34m\u001b[0m\n\u001b[1;32m----> 1\u001b[1;33m \u001b[1;32mfrom\u001b[0m \u001b[0msurvey\u001b[0m \u001b[1;32mimport\u001b[0m \u001b[0mSurveyDesign\u001b[0m\u001b[1;33m\u001b[0m\u001b[1;33m\u001b[0m\u001b[0m\n\u001b[0m",
      "\u001b[1;32m~\\AppData\\Roaming\\Python\\Python39\\site-packages\\survey\\__init__.py\u001b[0m in \u001b[0;36m<module>\u001b[1;34m\u001b[0m\n\u001b[0;32m      1\u001b[0m \u001b[1;32mfrom\u001b[0m \u001b[1;33m.\u001b[0m \u001b[1;32mimport\u001b[0m \u001b[0m_core\u001b[0m \u001b[1;32mas\u001b[0m \u001b[0mcore\u001b[0m\u001b[1;33m\u001b[0m\u001b[1;33m\u001b[0m\u001b[0m\n\u001b[0;32m      2\u001b[0m \u001b[1;33m\u001b[0m\u001b[0m\n\u001b[1;32m----> 3\u001b[1;33m \u001b[1;32mfrom\u001b[0m \u001b[1;33m.\u001b[0m \u001b[1;32mimport\u001b[0m \u001b[0m_system\u001b[0m \u001b[1;32mas\u001b[0m \u001b[0msystem\u001b[0m\u001b[1;33m\u001b[0m\u001b[1;33m\u001b[0m\u001b[0m\n\u001b[0m\u001b[0;32m      4\u001b[0m \u001b[1;32mfrom\u001b[0m \u001b[1;33m.\u001b[0m \u001b[1;32mimport\u001b[0m \u001b[0m_colors\u001b[0m \u001b[1;32mas\u001b[0m \u001b[0mcolors\u001b[0m\u001b[1;33m\u001b[0m\u001b[1;33m\u001b[0m\u001b[0m\n\u001b[0;32m      5\u001b[0m \u001b[1;33m\u001b[0m\u001b[0m\n",
      "\u001b[1;32m~\\AppData\\Roaming\\Python\\Python39\\site-packages\\survey\\_system.py\u001b[0m in \u001b[0;36m<module>\u001b[1;34m\u001b[0m\n\u001b[0;32m     13\u001b[0m \u001b[1;33m\u001b[0m\u001b[0m\n\u001b[0;32m     14\u001b[0m \u001b[1;31m#:\u001b[0m\u001b[1;33m\u001b[0m\u001b[1;33m\u001b[0m\u001b[0m\n\u001b[1;32m---> 15\u001b[1;33m \u001b[0m_io\u001b[0m \u001b[1;33m=\u001b[0m \u001b[0mio\u001b[0m \u001b[1;33m=\u001b[0m \u001b[0m_core\u001b[0m\u001b[1;33m.\u001b[0m\u001b[0mIO\u001b[0m\u001b[1;33m(\u001b[0m\u001b[0msys\u001b[0m\u001b[1;33m.\u001b[0m\u001b[0mstdin\u001b[0m\u001b[1;33m,\u001b[0m \u001b[0msys\u001b[0m\u001b[1;33m.\u001b[0m\u001b[0mstdout\u001b[0m\u001b[1;33m)\u001b[0m\u001b[1;33m\u001b[0m\u001b[1;33m\u001b[0m\u001b[0m\n\u001b[0m\u001b[0;32m     16\u001b[0m \u001b[1;33m\u001b[0m\u001b[0m\n\u001b[0;32m     17\u001b[0m \u001b[1;31m#:\u001b[0m\u001b[1;33m\u001b[0m\u001b[1;33m\u001b[0m\u001b[0m\n",
      "\u001b[1;32m~\\AppData\\Roaming\\Python\\Python39\\site-packages\\survey\\_core\\_io.py\u001b[0m in \u001b[0;36m__init__\u001b[1;34m(self, i, o, *args, **kwargs)\u001b[0m\n\u001b[0;32m     51\u001b[0m         \u001b[0mself\u001b[0m\u001b[1;33m.\u001b[0m\u001b[0m_o_encoding\u001b[0m \u001b[1;33m=\u001b[0m \u001b[0mo\u001b[0m\u001b[1;33m.\u001b[0m\u001b[0mencoding\u001b[0m\u001b[1;33m\u001b[0m\u001b[1;33m\u001b[0m\u001b[0m\n\u001b[0;32m     52\u001b[0m \u001b[1;33m\u001b[0m\u001b[0m\n\u001b[1;32m---> 53\u001b[1;33m         \u001b[0msuper\u001b[0m\u001b[1;33m(\u001b[0m\u001b[1;33m)\u001b[0m\u001b[1;33m.\u001b[0m\u001b[0m__init__\u001b[0m\u001b[1;33m(\u001b[0m\u001b[0mi\u001b[0m\u001b[1;33m.\u001b[0m\u001b[0mbuffer\u001b[0m\u001b[1;33m,\u001b[0m \u001b[0mo\u001b[0m\u001b[1;33m.\u001b[0m\u001b[0mbuffer\u001b[0m\u001b[1;33m,\u001b[0m \u001b[1;33m*\u001b[0m\u001b[0margs\u001b[0m\u001b[1;33m,\u001b[0m \u001b[1;33m**\u001b[0m\u001b[0mkwargs\u001b[0m\u001b[1;33m)\u001b[0m\u001b[1;33m\u001b[0m\u001b[1;33m\u001b[0m\u001b[0m\n\u001b[0m\u001b[0;32m     54\u001b[0m \u001b[1;33m\u001b[0m\u001b[0m\n\u001b[0;32m     55\u001b[0m     \u001b[1;32mdef\u001b[0m \u001b[0m_encode\u001b[0m\u001b[1;33m(\u001b[0m\u001b[0mself\u001b[0m\u001b[1;33m,\u001b[0m \u001b[0mtext\u001b[0m\u001b[1;33m)\u001b[0m\u001b[1;33m:\u001b[0m\u001b[1;33m\u001b[0m\u001b[1;33m\u001b[0m\u001b[0m\n",
      "\u001b[1;31mAttributeError\u001b[0m: 'OutStream' object has no attribute 'buffer'"
     ]
    }
   ],
   "source": [
    "from survey import SurveyDesign\n"
   ]
  },
  {
   "cell_type": "code",
   "execution_count": 7,
   "id": "a4fb86dc-b87c-4ac1-8d45-9708546453dc",
   "metadata": {},
   "outputs": [
    {
     "ename": "NameError",
     "evalue": "name 'p_load' is not defined",
     "output_type": "error",
     "traceback": [
      "\u001b[1;31m---------------------------------------------------------------------------\u001b[0m",
      "\u001b[1;31mNameError\u001b[0m                                 Traceback (most recent call last)",
      "\u001b[1;32m~\\AppData\\Local\\Temp\\ipykernel_6640\\1081227430.py\u001b[0m in \u001b[0;36m<module>\u001b[1;34m\u001b[0m\n\u001b[0;32m      1\u001b[0m \u001b[1;31m#library(pacman)\u001b[0m\u001b[1;33m\u001b[0m\u001b[1;33m\u001b[0m\u001b[0m\n\u001b[1;32m----> 2\u001b[1;33m \u001b[0mp_load\u001b[0m\u001b[1;33m(\u001b[0m\u001b[0mhaven\u001b[0m\u001b[1;33m,\u001b[0m \u001b[0msurvey\u001b[0m\u001b[1;33m,\u001b[0m \u001b[0mgmodels\u001b[0m\u001b[1;33m)\u001b[0m\u001b[1;33m\u001b[0m\u001b[1;33m\u001b[0m\u001b[0m\n\u001b[0m",
      "\u001b[1;31mNameError\u001b[0m: name 'p_load' is not defined"
     ]
    }
   ],
   "source": [
    "#library(pacman)\n",
    "p_load(haven, survey, gmodels)"
   ]
  },
  {
   "cell_type": "code",
   "execution_count": null,
   "id": "c20545f8-9fb8-41cf-b840-d5fcd687dfe5",
   "metadata": {},
   "outputs": [],
   "source": [
    "\n",
    "> \n",
    "> # Read data\n",
    "> df = read_dta('hcps_puf_2022.dta')\n",
    "> \n",
    "> head(df[c('GranteeID', 'analwt', 'Final_strata', 'race_simp', 'INT4')])\n",
    "# A tibble: 6 × 5\n",
    "  GranteeID analwt Final_strata race_simp              INT4     \n",
    "      <dbl>  <dbl>        <dbl> <dbl+lbl>              <dbl+lbl>\n",
    "1  10001141   624.            7 1 [Hispanic]           2 [No]   \n",
    "2  10001254 12550.            7 4 [Other]              1 [Yes]  \n",
    "3  10001148 11080.            6 1 [Hispanic]           1 [Yes]  \n",
    "4  10001056  6382.            7 3 [Non-Hispanic Black] 2 [No]   \n",
    "5  10001056  1666.            7 1 [Hispanic]           2 [No]   \n",
    "6  10000019  1113.            5 3 [Non-Hispanic Black] 2 [No]   \n",
    "> \n",
    "> # Apply survey design\n",
    "> design <- svydesign(id=~GranteeID, weights=~analwt, strata=~Final_strata, data=df)\n",
    "> \n",
    "> # Create the weighted dataset\n",
    "> df_weighted <- svydesign(id=~GranteeID, weights=~analwt,strata=~Final_strata,nest=TRUE,survey.lonely.psu=\"adjust\",data=df)\n",
    "> \n",
    "> class(df_weighted)\n",
    "[1] \"survey.design2\" \"survey.design\" \n",
    "> class(df)\n",
    "[1] \"tbl_df\"     \"tbl\"        \"data.frame\"\n",
    "> \n",
    "> # Print an unweighted crosstab\n",
    "> table = table(df$race_simp, df$INT4)\n",
    "> print(table)\n",
    "   \n",
    "      -1    1    2\n",
    "  1    4 1404  461\n",
    "  2    0   57  998\n",
    "  3    0   61  825\n",
    "  4    0  277  327\n",
    "> \n",
    "> prop = prop.table(table)\n",
    "> print(prop*100)"
   ]
  },
  {
   "cell_type": "code",
   "execution_count": 8,
   "id": "d43c29c5-8576-42bd-858d-b610d946157b",
   "metadata": {},
   "outputs": [
    {
     "name": "stdout",
     "output_type": "stream",
     "text": [
      "Defaulting to user installation because normal site-packages is not writeable\n",
      "Requirement already satisfied: statsmodels in c:\\programdata\\anaconda3\\lib\\site-packages (0.13.2)\n",
      "Requirement already satisfied: numpy>=1.17 in c:\\users\\sinergy tech\\appdata\\roaming\\python\\python39\\site-packages (from statsmodels) (1.26.0)\n",
      "Requirement already satisfied: scipy>=1.3 in c:\\programdata\\anaconda3\\lib\\site-packages (from statsmodels) (1.9.1)\n",
      "Requirement already satisfied: pandas>=0.25 in c:\\programdata\\anaconda3\\lib\\site-packages (from statsmodels) (1.4.4)\n",
      "Requirement already satisfied: patsy>=0.5.2 in c:\\programdata\\anaconda3\\lib\\site-packages (from statsmodels) (0.5.2)\n",
      "Requirement already satisfied: packaging>=21.3 in c:\\programdata\\anaconda3\\lib\\site-packages (from statsmodels) (21.3)\n",
      "Requirement already satisfied: pyparsing!=3.0.5,>=2.0.2 in c:\\programdata\\anaconda3\\lib\\site-packages (from packaging>=21.3->statsmodels) (3.0.9)\n",
      "Requirement already satisfied: python-dateutil>=2.8.1 in c:\\programdata\\anaconda3\\lib\\site-packages (from pandas>=0.25->statsmodels) (2.8.2)\n",
      "Requirement already satisfied: pytz>=2020.1 in c:\\users\\sinergy tech\\appdata\\roaming\\python\\python39\\site-packages (from pandas>=0.25->statsmodels) (2022.7.1)\n",
      "Requirement already satisfied: six in c:\\programdata\\anaconda3\\lib\\site-packages (from patsy>=0.5.2->statsmodels) (1.16.0)\n",
      "Collecting numpy>=1.17\n",
      "  Downloading numpy-1.24.4-cp39-cp39-win_amd64.whl (14.9 MB)\n",
      "     ---------------------------------------- 14.9/14.9 MB 1.7 MB/s eta 0:00:00\n",
      "Installing collected packages: numpy\n",
      "  Attempting uninstall: numpy\n",
      "    Found existing installation: numpy 1.26.0\n",
      "    Uninstalling numpy-1.26.0:\n",
      "      Successfully uninstalled numpy-1.26.0\n",
      "Note: you may need to restart the kernel to use updated packages.\n"
     ]
    },
    {
     "name": "stderr",
     "output_type": "stream",
     "text": [
      "  WARNING: The script f2py.exe is installed in 'C:\\Users\\SINERGY TECH\\AppData\\Roaming\\Python\\Python39\\Scripts' which is not on PATH.\n",
      "  Consider adding this directory to PATH or, if you prefer to suppress this warning, use --no-warn-script-location.\n",
      "ERROR: Could not install packages due to an OSError: [WinError 5] Acceso denegado: 'C:\\\\Users\\\\SINERGY TECH\\\\AppData\\\\Roaming\\\\Python\\\\Python39\\\\site-packages\\\\~umpy.libs\\\\libopenblas64__v0.3.23-293-gc2f4bdbb-gcc_10_3_0-65e29aac85b9409a6008e2dc84b1cc09.dll'\n",
      "Check the permissions.\n",
      "\n"
     ]
    }
   ],
   "source": [
    "pip install statsmodels\n"
   ]
  },
  {
   "cell_type": "code",
   "execution_count": 9,
   "id": "c95b30f9-5ad2-4ad1-9b02-dc9ac6ba9f29",
   "metadata": {},
   "outputs": [],
   "source": [
    "import numpy as np\n",
    "import pandas as pd\n",
    "import statsmodels.api as sm"
   ]
  },
  {
   "cell_type": "code",
   "execution_count": 10,
   "id": "20dfe16d-8244-4036-a18a-6c0bb2897d06",
   "metadata": {},
   "outputs": [],
   "source": [
    "# Variables de interés\n",
    "modulo_educa = pd.read_stata(\"../input/enaho01a-2020-300.dta\", convert_categoricals=False)\n",
    "columnas_interes_educa = ['conglome','vivienda','hogar','codperso','ubigeo','dominio','estrato',\"p301c\",\"p300a\",\"p304b\",\"p304a\",\n",
    "                          \"p308c\",\"p308b\", \"p315a\",\"p315b\",\n",
    "    \"p307a1\",\"p307a2\",\"p307a3\",\"p307a4\",\"p307a4_5\",\"p307a4_6\",\"p307a4_7\",\"p307b1\",\"p307b2\",\"p307b3\",\"p307b4\",\"p307b4_5\",\"p307b4_6\",\"p307b4_7\",\n",
    "    \"p308a\",\"p308d\",\"p314a\",\"p314b_1\",\"p314b_2\",\"p314b_3\",\"p314b_4\",\"p314b_5\",\"p314b_6\",\"p314b_7\",\n",
    "    \"p314b1_1\",\"p314b1_2\",\"p314b1_8\",\"p314b1_9\",\"p314b1_6\",\"p314b1_7\",\"p314d\",                   \n",
    "    \"p316_1\",\"p316_2\", \"p316_3\",\"p316_4\",\"p316_5\",\"p316_6\",\"p316_7\",\"p316_8\",\"p316_9\",\"p316_10\",\"p316_11\",\"p316_12\",\n",
    "    \"p316a1\",\"p316b\",\n",
    "    \"p316c1\",\"p316c2\",\"p316c3\",\"p316c4\",\"p316c5\",\"p316c6\",\"p316c7\",\"p316c8\",\"p316c9\",\"p316c10\",\n",
    "     \"t313a\", \"factor07\"]\n",
    "modulo_educa = modulo_educa[columnas_interes_educa]"
   ]
  },
  {
   "cell_type": "raw",
   "id": "075ac9d0-325a-4935-b30e-eef285a263f5",
   "metadata": {},
   "source": [
    "# Load your survey data into a Pandas DataFrame (replace with your data)\n",
    "#survey_data = pd.read_csv('survey_data.csv')\n",
    "\n",
    "# Specify the survey design\n",
    "survey_design = sm.SurveyDesign()\n",
    "survey_design.pstrat = modulo_educa['estrato']  # Stratification variable\n",
    "survey_design.pweight = modulo_educa['factor07']  # Survey weight variable\n",
    "survey_design.need_covmat = True  # Specify if you need a covariance matrix\n"
   ]
  },
  {
   "cell_type": "code",
   "execution_count": 12,
   "id": "f5b5a190-1963-419d-ab21-ea6ef07e67b7",
   "metadata": {},
   "outputs": [],
   "source": [
    "survey_data =modulo_educa.copy()"
   ]
  },
  {
   "cell_type": "code",
   "execution_count": null,
   "id": "bf3d52c9-5c30-4ff6-90a2-2629afe926af",
   "metadata": {},
   "outputs": [],
   "source": [
    "# Define la variable dependiente (binaria) y las variables independientes\n",
    "y = base_filtrada['i_uso_hog']\n",
    "X = base_filtrada[['Sexo', 'Edad','mieperho', 'Electricidad', 'Idioma',\n",
    "                   'Centro_estudios', 'AREA']]"
   ]
  },
  {
   "cell_type": "code",
   "execution_count": null,
   "id": "4494a336-9805-46de-9e19-c56690c3a7cd",
   "metadata": {},
   "outputs": [],
   "source": [
    "import pandas as pd\n",
    "import statsmodels.api as sm\n",
    "from statsmodels.formula.api import ols\n",
    "\n",
    "# Load your survey data into a Pandas DataFrame\n",
    "\n",
    "#survey_data = pd.read_csv('survey_data.csv')\n",
    "\n",
    "# Specify the survey weights\n",
    "weights = survey_data['factor07']\n",
    "\n",
    "# Perform weighted regression\n",
    "formula = 'dependent_variable ~ independent_variable'\n",
    "model = ols(formula, data=survey_data)\n",
    "weighted_model = model.fit(cov_type='robust', weights=weights)\n",
    "\n",
    "# Get the regression results\n",
    "print(weighted_model.summary())\n"
   ]
  },
  {
   "cell_type": "code",
   "execution_count": null,
   "id": "c00777c3-2059-4ac2-8f1a-97cf83ab8932",
   "metadata": {},
   "outputs": [],
   "source": [
    "survey = sm.Survey(survey_data['response_variable'], survey_design)\n"
   ]
  },
  {
   "cell_type": "code",
   "execution_count": null,
   "id": "16cb46fe-13b3-4152-bc92-d70f65cc2b37",
   "metadata": {},
   "outputs": [],
   "source": [
    "survey = sm.Survey(survey_data['response_variable'], survey_design)\n"
   ]
  },
  {
   "cell_type": "code",
   "execution_count": null,
   "id": "13208b23-25e5-4f74-85c3-b16eb514ba0b",
   "metadata": {},
   "outputs": [],
   "source": [
    "# Calculate the weighted mean\n",
    "mean_result = survey.mean()\n",
    "\n",
    "# Calculate the weighted proportion\n",
    "proportion_result = survey.proportion()\n",
    "\n",
    "# Perform regression analysis\n",
    "regression_result = sm.OLS.from_formula('dependent_variable ~ independent_variable', data=survey_data).fit(cov_type='robust')\n"
   ]
  }
 ],
 "metadata": {
  "kernelspec": {
   "display_name": "Python 3 (ipykernel)",
   "language": "python",
   "name": "python3"
  },
  "language_info": {
   "codemirror_mode": {
    "name": "ipython",
    "version": 3
   },
   "file_extension": ".py",
   "mimetype": "text/x-python",
   "name": "python",
   "nbconvert_exporter": "python",
   "pygments_lexer": "ipython3",
   "version": "3.9.13"
  }
 },
 "nbformat": 4,
 "nbformat_minor": 5
}
